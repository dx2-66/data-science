{
 "cells": [
  {
   "cell_type": "markdown",
   "metadata": {},
   "source": [
    "# Выбор локации для скважины"
   ]
  },
  {
   "cell_type": "markdown",
   "metadata": {},
   "source": [
    "Добывающей компании нужно решить, где бурить новую нефтяную скважину.\n",
    "\n",
    "Нам предоставлены пробы нефти из трёх регионов: в каждом 10 000 месторождений, где измерено качество нефти и объёмы запасов. Задача - построить модель машинного обучения, которая поможет определить регион, где добыча наиболее выгодна. Проанализировать возможную прибыль и риски следует с помощью техники *Bootstrap.*"
   ]
  },
  {
   "cell_type": "markdown",
   "metadata": {
    "toc": true
   },
   "source": [
    "<h1>Содержание:<span class=\"tocSkip\"></span></h1>\n",
    "<div class=\"toc\"><ul class=\"toc-item\"><li><span><a href=\"#Обзор-данных\" data-toc-modified-id=\"Обзор-данных-1\"><span class=\"toc-item-num\">1&nbsp;&nbsp;</span>Обзор данных</a></span><ul class=\"toc-item\"><li><span><a href=\"#Предварительный-вывод\" data-toc-modified-id=\"Предварительный-вывод-1.1\"><span class=\"toc-item-num\">1.1&nbsp;&nbsp;</span>Предварительный вывод</a></span></li><li><span><a href=\"#Распределения-и-корреляции\" data-toc-modified-id=\"Распределения-и-корреляции-1.2\"><span class=\"toc-item-num\">1.2&nbsp;&nbsp;</span>Распределения и корреляции</a></span><ul class=\"toc-item\"><li><span><a href=\"#Регион-1\" data-toc-modified-id=\"Регион-1-1.2.1\"><span class=\"toc-item-num\">1.2.1&nbsp;&nbsp;</span>Регион 1</a></span></li><li><span><a href=\"#Регион-2\" data-toc-modified-id=\"Регион-2-1.2.2\"><span class=\"toc-item-num\">1.2.2&nbsp;&nbsp;</span>Регион 2</a></span></li><li><span><a href=\"#Регион-3\" data-toc-modified-id=\"Регион-3-1.2.3\"><span class=\"toc-item-num\">1.2.3&nbsp;&nbsp;</span>Регион 3</a></span></li></ul></li><li><span><a href=\"#Вывод\" data-toc-modified-id=\"Вывод-1.3\"><span class=\"toc-item-num\">1.3&nbsp;&nbsp;</span>Вывод</a></span></li></ul></li><li><span><a href=\"#Подготовка-данных\" data-toc-modified-id=\"Подготовка-данных-2\"><span class=\"toc-item-num\">2&nbsp;&nbsp;</span>Подготовка данных</a></span><ul class=\"toc-item\"><li><span><a href=\"#Удаление-ненужных-столбцов\" data-toc-modified-id=\"Удаление-ненужных-столбцов-2.1\"><span class=\"toc-item-num\">2.1&nbsp;&nbsp;</span>Удаление ненужных столбцов</a></span></li><li><span><a href=\"#Разбиение-на-выборки-и-подготовка-модели\" data-toc-modified-id=\"Разбиение-на-выборки-и-подготовка-модели-2.2\"><span class=\"toc-item-num\">2.2&nbsp;&nbsp;</span>Разбиение на выборки и подготовка модели</a></span></li></ul></li><li><span><a href=\"#Обучение-и-проверка-модели\" data-toc-modified-id=\"Обучение-и-проверка-модели-3\"><span class=\"toc-item-num\">3&nbsp;&nbsp;</span>Обучение и проверка модели</a></span><ul class=\"toc-item\"><li><span><a href=\"#Вывод\" data-toc-modified-id=\"Вывод-3.1\"><span class=\"toc-item-num\">3.1&nbsp;&nbsp;</span>Вывод</a></span></li></ul></li><li><span><a href=\"#Подготовка-к-расчёту-прибыли\" data-toc-modified-id=\"Подготовка-к-расчёту-прибыли-4\"><span class=\"toc-item-num\">4&nbsp;&nbsp;</span>Подготовка к расчёту прибыли</a></span><ul class=\"toc-item\"><li><span><a href=\"#Вывод\" data-toc-modified-id=\"Вывод-4.1\"><span class=\"toc-item-num\">4.1&nbsp;&nbsp;</span>Вывод</a></span></li></ul></li><li><span><a href=\"#Расчёт-прибыли-и-рисков\" data-toc-modified-id=\"Расчёт-прибыли-и-рисков-5\"><span class=\"toc-item-num\">5&nbsp;&nbsp;</span>Расчёт прибыли и рисков</a></span><ul class=\"toc-item\"><li><span><a href=\"#Вывод\" data-toc-modified-id=\"Вывод-5.1\"><span class=\"toc-item-num\">5.1&nbsp;&nbsp;</span>Вывод</a></span></li></ul></li><li><span><a href=\"#Общий-вывод\" data-toc-modified-id=\"Общий-вывод-6\"><span class=\"toc-item-num\">6&nbsp;&nbsp;</span>Общий вывод</a></span><ul class=\"toc-item\"><li><span><a href=\"#Рекомендации-по-заполнению-данных\" data-toc-modified-id=\"Рекомендации-по-заполнению-данных-6.1\"><span class=\"toc-item-num\">6.1&nbsp;&nbsp;</span>Рекомендации по заполнению данных</a></span></li></ul></li></ul></div>"
   ]
  },
  {
   "cell_type": "markdown",
   "metadata": {},
   "source": [
    "## Обзор данных"
   ]
  },
  {
   "cell_type": "code",
   "execution_count": 1,
   "metadata": {},
   "outputs": [],
   "source": [
    "# Импортируем необходимые модули:\n",
    "import pandas as pd\n",
    "import scipy.stats as st\n",
    "\n",
    "import matplotlib.pyplot as plt\n",
    "import seaborn as sns\n",
    "\n",
    "from sklearn.model_selection import train_test_split, GridSearchCV\n",
    "from sklearn.linear_model import LinearRegression\n",
    "from sklearn.preprocessing import StandardScaler\n",
    "from sklearn.metrics import mean_squared_error, r2_score"
   ]
  },
  {
   "cell_type": "code",
   "execution_count": 2,
   "metadata": {},
   "outputs": [],
   "source": [
    "df0 = pd.read_csv('/datasets/geo_data_0.csv')\n",
    "df1 = pd.read_csv('/datasets/geo_data_1.csv')\n",
    "df2 = pd.read_csv('/datasets/geo_data_2.csv')"
   ]
  },
  {
   "cell_type": "markdown",
   "metadata": {},
   "source": [
    "Для удобства составим небольшую структуру из наших датасетов:"
   ]
  },
  {
   "cell_type": "code",
   "execution_count": 3,
   "metadata": {},
   "outputs": [],
   "source": [
    "dfs = {'Регион 1': df0, 'Регион 2': df1, 'Регион 3': df2}"
   ]
  },
  {
   "cell_type": "markdown",
   "metadata": {},
   "source": [
    "Взглянем на общую информацию: технические данные о таблице, первые строки, разбросы значений, поверим на явные пропуски и дубликаты:"
   ]
  },
  {
   "cell_type": "code",
   "execution_count": 4,
   "metadata": {
    "scrolled": false
   },
   "outputs": [
    {
     "name": "stdout",
     "output_type": "stream",
     "text": [
      "Регион 1:\n",
      "---------\n",
      "<class 'pandas.core.frame.DataFrame'>\n",
      "RangeIndex: 100000 entries, 0 to 99999\n",
      "Data columns (total 5 columns):\n",
      " #   Column   Non-Null Count   Dtype  \n",
      "---  ------   --------------   -----  \n",
      " 0   id       100000 non-null  object \n",
      " 1   f0       100000 non-null  float64\n",
      " 2   f1       100000 non-null  float64\n",
      " 3   f2       100000 non-null  float64\n",
      " 4   product  100000 non-null  float64\n",
      "dtypes: float64(4), object(1)\n",
      "memory usage: 3.8+ MB\n"
     ]
    },
    {
     "data": {
      "text/plain": [
       "None"
      ]
     },
     "metadata": {},
     "output_type": "display_data"
    },
    {
     "data": {
      "text/html": [
       "<div>\n",
       "<style scoped>\n",
       "    .dataframe tbody tr th:only-of-type {\n",
       "        vertical-align: middle;\n",
       "    }\n",
       "\n",
       "    .dataframe tbody tr th {\n",
       "        vertical-align: top;\n",
       "    }\n",
       "\n",
       "    .dataframe thead th {\n",
       "        text-align: right;\n",
       "    }\n",
       "</style>\n",
       "<table border=\"1\" class=\"dataframe\">\n",
       "  <thead>\n",
       "    <tr style=\"text-align: right;\">\n",
       "      <th></th>\n",
       "      <th>id</th>\n",
       "      <th>f0</th>\n",
       "      <th>f1</th>\n",
       "      <th>f2</th>\n",
       "      <th>product</th>\n",
       "    </tr>\n",
       "  </thead>\n",
       "  <tbody>\n",
       "    <tr>\n",
       "      <th>0</th>\n",
       "      <td>txEyH</td>\n",
       "      <td>0.705745</td>\n",
       "      <td>-0.497823</td>\n",
       "      <td>1.221170</td>\n",
       "      <td>105.280062</td>\n",
       "    </tr>\n",
       "    <tr>\n",
       "      <th>1</th>\n",
       "      <td>2acmU</td>\n",
       "      <td>1.334711</td>\n",
       "      <td>-0.340164</td>\n",
       "      <td>4.365080</td>\n",
       "      <td>73.037750</td>\n",
       "    </tr>\n",
       "    <tr>\n",
       "      <th>2</th>\n",
       "      <td>409Wp</td>\n",
       "      <td>1.022732</td>\n",
       "      <td>0.151990</td>\n",
       "      <td>1.419926</td>\n",
       "      <td>85.265647</td>\n",
       "    </tr>\n",
       "    <tr>\n",
       "      <th>3</th>\n",
       "      <td>iJLyR</td>\n",
       "      <td>-0.032172</td>\n",
       "      <td>0.139033</td>\n",
       "      <td>2.978566</td>\n",
       "      <td>168.620776</td>\n",
       "    </tr>\n",
       "    <tr>\n",
       "      <th>4</th>\n",
       "      <td>Xdl7t</td>\n",
       "      <td>1.988431</td>\n",
       "      <td>0.155413</td>\n",
       "      <td>4.751769</td>\n",
       "      <td>154.036647</td>\n",
       "    </tr>\n",
       "  </tbody>\n",
       "</table>\n",
       "</div>"
      ],
      "text/plain": [
       "      id        f0        f1        f2     product\n",
       "0  txEyH  0.705745 -0.497823  1.221170  105.280062\n",
       "1  2acmU  1.334711 -0.340164  4.365080   73.037750\n",
       "2  409Wp  1.022732  0.151990  1.419926   85.265647\n",
       "3  iJLyR -0.032172  0.139033  2.978566  168.620776\n",
       "4  Xdl7t  1.988431  0.155413  4.751769  154.036647"
      ]
     },
     "metadata": {},
     "output_type": "display_data"
    },
    {
     "data": {
      "text/html": [
       "<div>\n",
       "<style scoped>\n",
       "    .dataframe tbody tr th:only-of-type {\n",
       "        vertical-align: middle;\n",
       "    }\n",
       "\n",
       "    .dataframe tbody tr th {\n",
       "        vertical-align: top;\n",
       "    }\n",
       "\n",
       "    .dataframe thead th {\n",
       "        text-align: right;\n",
       "    }\n",
       "</style>\n",
       "<table border=\"1\" class=\"dataframe\">\n",
       "  <thead>\n",
       "    <tr style=\"text-align: right;\">\n",
       "      <th></th>\n",
       "      <th>count</th>\n",
       "      <th>mean</th>\n",
       "      <th>std</th>\n",
       "      <th>min</th>\n",
       "      <th>25%</th>\n",
       "      <th>50%</th>\n",
       "      <th>75%</th>\n",
       "      <th>max</th>\n",
       "    </tr>\n",
       "  </thead>\n",
       "  <tbody>\n",
       "    <tr>\n",
       "      <th>f0</th>\n",
       "      <td>100000.0</td>\n",
       "      <td>0.500419</td>\n",
       "      <td>0.871832</td>\n",
       "      <td>-1.408605</td>\n",
       "      <td>-0.072580</td>\n",
       "      <td>0.502360</td>\n",
       "      <td>1.073581</td>\n",
       "      <td>2.362331</td>\n",
       "    </tr>\n",
       "    <tr>\n",
       "      <th>f1</th>\n",
       "      <td>100000.0</td>\n",
       "      <td>0.250143</td>\n",
       "      <td>0.504433</td>\n",
       "      <td>-0.848218</td>\n",
       "      <td>-0.200881</td>\n",
       "      <td>0.250252</td>\n",
       "      <td>0.700646</td>\n",
       "      <td>1.343769</td>\n",
       "    </tr>\n",
       "    <tr>\n",
       "      <th>f2</th>\n",
       "      <td>100000.0</td>\n",
       "      <td>2.502647</td>\n",
       "      <td>3.248248</td>\n",
       "      <td>-12.088328</td>\n",
       "      <td>0.287748</td>\n",
       "      <td>2.515969</td>\n",
       "      <td>4.715088</td>\n",
       "      <td>16.003790</td>\n",
       "    </tr>\n",
       "    <tr>\n",
       "      <th>product</th>\n",
       "      <td>100000.0</td>\n",
       "      <td>92.500000</td>\n",
       "      <td>44.288691</td>\n",
       "      <td>0.000000</td>\n",
       "      <td>56.497507</td>\n",
       "      <td>91.849972</td>\n",
       "      <td>128.564089</td>\n",
       "      <td>185.364347</td>\n",
       "    </tr>\n",
       "  </tbody>\n",
       "</table>\n",
       "</div>"
      ],
      "text/plain": [
       "            count       mean        std        min        25%        50%  \\\n",
       "f0       100000.0   0.500419   0.871832  -1.408605  -0.072580   0.502360   \n",
       "f1       100000.0   0.250143   0.504433  -0.848218  -0.200881   0.250252   \n",
       "f2       100000.0   2.502647   3.248248 -12.088328   0.287748   2.515969   \n",
       "product  100000.0  92.500000  44.288691   0.000000  56.497507  91.849972   \n",
       "\n",
       "                75%         max  \n",
       "f0         1.073581    2.362331  \n",
       "f1         0.700646    1.343769  \n",
       "f2         4.715088   16.003790  \n",
       "product  128.564089  185.364347  "
      ]
     },
     "metadata": {},
     "output_type": "display_data"
    },
    {
     "name": "stdout",
     "output_type": "stream",
     "text": [
      "Пропущенных значений: 0\n",
      "Дубликатов: 0\n",
      "\n",
      "Регион 2:\n",
      "---------\n",
      "<class 'pandas.core.frame.DataFrame'>\n",
      "RangeIndex: 100000 entries, 0 to 99999\n",
      "Data columns (total 5 columns):\n",
      " #   Column   Non-Null Count   Dtype  \n",
      "---  ------   --------------   -----  \n",
      " 0   id       100000 non-null  object \n",
      " 1   f0       100000 non-null  float64\n",
      " 2   f1       100000 non-null  float64\n",
      " 3   f2       100000 non-null  float64\n",
      " 4   product  100000 non-null  float64\n",
      "dtypes: float64(4), object(1)\n",
      "memory usage: 3.8+ MB\n"
     ]
    },
    {
     "data": {
      "text/plain": [
       "None"
      ]
     },
     "metadata": {},
     "output_type": "display_data"
    },
    {
     "data": {
      "text/html": [
       "<div>\n",
       "<style scoped>\n",
       "    .dataframe tbody tr th:only-of-type {\n",
       "        vertical-align: middle;\n",
       "    }\n",
       "\n",
       "    .dataframe tbody tr th {\n",
       "        vertical-align: top;\n",
       "    }\n",
       "\n",
       "    .dataframe thead th {\n",
       "        text-align: right;\n",
       "    }\n",
       "</style>\n",
       "<table border=\"1\" class=\"dataframe\">\n",
       "  <thead>\n",
       "    <tr style=\"text-align: right;\">\n",
       "      <th></th>\n",
       "      <th>id</th>\n",
       "      <th>f0</th>\n",
       "      <th>f1</th>\n",
       "      <th>f2</th>\n",
       "      <th>product</th>\n",
       "    </tr>\n",
       "  </thead>\n",
       "  <tbody>\n",
       "    <tr>\n",
       "      <th>0</th>\n",
       "      <td>kBEdx</td>\n",
       "      <td>-15.001348</td>\n",
       "      <td>-8.276000</td>\n",
       "      <td>-0.005876</td>\n",
       "      <td>3.179103</td>\n",
       "    </tr>\n",
       "    <tr>\n",
       "      <th>1</th>\n",
       "      <td>62mP7</td>\n",
       "      <td>14.272088</td>\n",
       "      <td>-3.475083</td>\n",
       "      <td>0.999183</td>\n",
       "      <td>26.953261</td>\n",
       "    </tr>\n",
       "    <tr>\n",
       "      <th>2</th>\n",
       "      <td>vyE1P</td>\n",
       "      <td>6.263187</td>\n",
       "      <td>-5.948386</td>\n",
       "      <td>5.001160</td>\n",
       "      <td>134.766305</td>\n",
       "    </tr>\n",
       "    <tr>\n",
       "      <th>3</th>\n",
       "      <td>KcrkZ</td>\n",
       "      <td>-13.081196</td>\n",
       "      <td>-11.506057</td>\n",
       "      <td>4.999415</td>\n",
       "      <td>137.945408</td>\n",
       "    </tr>\n",
       "    <tr>\n",
       "      <th>4</th>\n",
       "      <td>AHL4O</td>\n",
       "      <td>12.702195</td>\n",
       "      <td>-8.147433</td>\n",
       "      <td>5.004363</td>\n",
       "      <td>134.766305</td>\n",
       "    </tr>\n",
       "  </tbody>\n",
       "</table>\n",
       "</div>"
      ],
      "text/plain": [
       "      id         f0         f1        f2     product\n",
       "0  kBEdx -15.001348  -8.276000 -0.005876    3.179103\n",
       "1  62mP7  14.272088  -3.475083  0.999183   26.953261\n",
       "2  vyE1P   6.263187  -5.948386  5.001160  134.766305\n",
       "3  KcrkZ -13.081196 -11.506057  4.999415  137.945408\n",
       "4  AHL4O  12.702195  -8.147433  5.004363  134.766305"
      ]
     },
     "metadata": {},
     "output_type": "display_data"
    },
    {
     "data": {
      "text/html": [
       "<div>\n",
       "<style scoped>\n",
       "    .dataframe tbody tr th:only-of-type {\n",
       "        vertical-align: middle;\n",
       "    }\n",
       "\n",
       "    .dataframe tbody tr th {\n",
       "        vertical-align: top;\n",
       "    }\n",
       "\n",
       "    .dataframe thead th {\n",
       "        text-align: right;\n",
       "    }\n",
       "</style>\n",
       "<table border=\"1\" class=\"dataframe\">\n",
       "  <thead>\n",
       "    <tr style=\"text-align: right;\">\n",
       "      <th></th>\n",
       "      <th>count</th>\n",
       "      <th>mean</th>\n",
       "      <th>std</th>\n",
       "      <th>min</th>\n",
       "      <th>25%</th>\n",
       "      <th>50%</th>\n",
       "      <th>75%</th>\n",
       "      <th>max</th>\n",
       "    </tr>\n",
       "  </thead>\n",
       "  <tbody>\n",
       "    <tr>\n",
       "      <th>f0</th>\n",
       "      <td>100000.0</td>\n",
       "      <td>1.141296</td>\n",
       "      <td>8.965932</td>\n",
       "      <td>-31.609576</td>\n",
       "      <td>-6.298551</td>\n",
       "      <td>1.153055</td>\n",
       "      <td>8.621015</td>\n",
       "      <td>29.421755</td>\n",
       "    </tr>\n",
       "    <tr>\n",
       "      <th>f1</th>\n",
       "      <td>100000.0</td>\n",
       "      <td>-4.796579</td>\n",
       "      <td>5.119872</td>\n",
       "      <td>-26.358598</td>\n",
       "      <td>-8.267985</td>\n",
       "      <td>-4.813172</td>\n",
       "      <td>-1.332816</td>\n",
       "      <td>18.734063</td>\n",
       "    </tr>\n",
       "    <tr>\n",
       "      <th>f2</th>\n",
       "      <td>100000.0</td>\n",
       "      <td>2.494541</td>\n",
       "      <td>1.703572</td>\n",
       "      <td>-0.018144</td>\n",
       "      <td>1.000021</td>\n",
       "      <td>2.011479</td>\n",
       "      <td>3.999904</td>\n",
       "      <td>5.019721</td>\n",
       "    </tr>\n",
       "    <tr>\n",
       "      <th>product</th>\n",
       "      <td>100000.0</td>\n",
       "      <td>68.825000</td>\n",
       "      <td>45.944423</td>\n",
       "      <td>0.000000</td>\n",
       "      <td>26.953261</td>\n",
       "      <td>57.085625</td>\n",
       "      <td>107.813044</td>\n",
       "      <td>137.945408</td>\n",
       "    </tr>\n",
       "  </tbody>\n",
       "</table>\n",
       "</div>"
      ],
      "text/plain": [
       "            count       mean        std        min        25%        50%  \\\n",
       "f0       100000.0   1.141296   8.965932 -31.609576  -6.298551   1.153055   \n",
       "f1       100000.0  -4.796579   5.119872 -26.358598  -8.267985  -4.813172   \n",
       "f2       100000.0   2.494541   1.703572  -0.018144   1.000021   2.011479   \n",
       "product  100000.0  68.825000  45.944423   0.000000  26.953261  57.085625   \n",
       "\n",
       "                75%         max  \n",
       "f0         8.621015   29.421755  \n",
       "f1        -1.332816   18.734063  \n",
       "f2         3.999904    5.019721  \n",
       "product  107.813044  137.945408  "
      ]
     },
     "metadata": {},
     "output_type": "display_data"
    },
    {
     "name": "stdout",
     "output_type": "stream",
     "text": [
      "Пропущенных значений: 0\n",
      "Дубликатов: 0\n",
      "\n",
      "Регион 3:\n",
      "---------\n",
      "<class 'pandas.core.frame.DataFrame'>\n",
      "RangeIndex: 100000 entries, 0 to 99999\n",
      "Data columns (total 5 columns):\n",
      " #   Column   Non-Null Count   Dtype  \n",
      "---  ------   --------------   -----  \n",
      " 0   id       100000 non-null  object \n",
      " 1   f0       100000 non-null  float64\n",
      " 2   f1       100000 non-null  float64\n",
      " 3   f2       100000 non-null  float64\n",
      " 4   product  100000 non-null  float64\n",
      "dtypes: float64(4), object(1)\n",
      "memory usage: 3.8+ MB\n"
     ]
    },
    {
     "data": {
      "text/plain": [
       "None"
      ]
     },
     "metadata": {},
     "output_type": "display_data"
    },
    {
     "data": {
      "text/html": [
       "<div>\n",
       "<style scoped>\n",
       "    .dataframe tbody tr th:only-of-type {\n",
       "        vertical-align: middle;\n",
       "    }\n",
       "\n",
       "    .dataframe tbody tr th {\n",
       "        vertical-align: top;\n",
       "    }\n",
       "\n",
       "    .dataframe thead th {\n",
       "        text-align: right;\n",
       "    }\n",
       "</style>\n",
       "<table border=\"1\" class=\"dataframe\">\n",
       "  <thead>\n",
       "    <tr style=\"text-align: right;\">\n",
       "      <th></th>\n",
       "      <th>id</th>\n",
       "      <th>f0</th>\n",
       "      <th>f1</th>\n",
       "      <th>f2</th>\n",
       "      <th>product</th>\n",
       "    </tr>\n",
       "  </thead>\n",
       "  <tbody>\n",
       "    <tr>\n",
       "      <th>0</th>\n",
       "      <td>fwXo0</td>\n",
       "      <td>-1.146987</td>\n",
       "      <td>0.963328</td>\n",
       "      <td>-0.828965</td>\n",
       "      <td>27.758673</td>\n",
       "    </tr>\n",
       "    <tr>\n",
       "      <th>1</th>\n",
       "      <td>WJtFt</td>\n",
       "      <td>0.262778</td>\n",
       "      <td>0.269839</td>\n",
       "      <td>-2.530187</td>\n",
       "      <td>56.069697</td>\n",
       "    </tr>\n",
       "    <tr>\n",
       "      <th>2</th>\n",
       "      <td>ovLUW</td>\n",
       "      <td>0.194587</td>\n",
       "      <td>0.289035</td>\n",
       "      <td>-5.586433</td>\n",
       "      <td>62.871910</td>\n",
       "    </tr>\n",
       "    <tr>\n",
       "      <th>3</th>\n",
       "      <td>q6cA6</td>\n",
       "      <td>2.236060</td>\n",
       "      <td>-0.553760</td>\n",
       "      <td>0.930038</td>\n",
       "      <td>114.572842</td>\n",
       "    </tr>\n",
       "    <tr>\n",
       "      <th>4</th>\n",
       "      <td>WPMUX</td>\n",
       "      <td>-0.515993</td>\n",
       "      <td>1.716266</td>\n",
       "      <td>5.899011</td>\n",
       "      <td>149.600746</td>\n",
       "    </tr>\n",
       "  </tbody>\n",
       "</table>\n",
       "</div>"
      ],
      "text/plain": [
       "      id        f0        f1        f2     product\n",
       "0  fwXo0 -1.146987  0.963328 -0.828965   27.758673\n",
       "1  WJtFt  0.262778  0.269839 -2.530187   56.069697\n",
       "2  ovLUW  0.194587  0.289035 -5.586433   62.871910\n",
       "3  q6cA6  2.236060 -0.553760  0.930038  114.572842\n",
       "4  WPMUX -0.515993  1.716266  5.899011  149.600746"
      ]
     },
     "metadata": {},
     "output_type": "display_data"
    },
    {
     "data": {
      "text/html": [
       "<div>\n",
       "<style scoped>\n",
       "    .dataframe tbody tr th:only-of-type {\n",
       "        vertical-align: middle;\n",
       "    }\n",
       "\n",
       "    .dataframe tbody tr th {\n",
       "        vertical-align: top;\n",
       "    }\n",
       "\n",
       "    .dataframe thead th {\n",
       "        text-align: right;\n",
       "    }\n",
       "</style>\n",
       "<table border=\"1\" class=\"dataframe\">\n",
       "  <thead>\n",
       "    <tr style=\"text-align: right;\">\n",
       "      <th></th>\n",
       "      <th>count</th>\n",
       "      <th>mean</th>\n",
       "      <th>std</th>\n",
       "      <th>min</th>\n",
       "      <th>25%</th>\n",
       "      <th>50%</th>\n",
       "      <th>75%</th>\n",
       "      <th>max</th>\n",
       "    </tr>\n",
       "  </thead>\n",
       "  <tbody>\n",
       "    <tr>\n",
       "      <th>f0</th>\n",
       "      <td>100000.0</td>\n",
       "      <td>0.002023</td>\n",
       "      <td>1.732045</td>\n",
       "      <td>-8.760004</td>\n",
       "      <td>-1.162288</td>\n",
       "      <td>0.009424</td>\n",
       "      <td>1.158535</td>\n",
       "      <td>7.238262</td>\n",
       "    </tr>\n",
       "    <tr>\n",
       "      <th>f1</th>\n",
       "      <td>100000.0</td>\n",
       "      <td>-0.002081</td>\n",
       "      <td>1.730417</td>\n",
       "      <td>-7.084020</td>\n",
       "      <td>-1.174820</td>\n",
       "      <td>-0.009482</td>\n",
       "      <td>1.163678</td>\n",
       "      <td>7.844801</td>\n",
       "    </tr>\n",
       "    <tr>\n",
       "      <th>f2</th>\n",
       "      <td>100000.0</td>\n",
       "      <td>2.495128</td>\n",
       "      <td>3.473445</td>\n",
       "      <td>-11.970335</td>\n",
       "      <td>0.130359</td>\n",
       "      <td>2.484236</td>\n",
       "      <td>4.858794</td>\n",
       "      <td>16.739402</td>\n",
       "    </tr>\n",
       "    <tr>\n",
       "      <th>product</th>\n",
       "      <td>100000.0</td>\n",
       "      <td>95.000000</td>\n",
       "      <td>44.749921</td>\n",
       "      <td>0.000000</td>\n",
       "      <td>59.450441</td>\n",
       "      <td>94.925613</td>\n",
       "      <td>130.595027</td>\n",
       "      <td>190.029838</td>\n",
       "    </tr>\n",
       "  </tbody>\n",
       "</table>\n",
       "</div>"
      ],
      "text/plain": [
       "            count       mean        std        min        25%        50%  \\\n",
       "f0       100000.0   0.002023   1.732045  -8.760004  -1.162288   0.009424   \n",
       "f1       100000.0  -0.002081   1.730417  -7.084020  -1.174820  -0.009482   \n",
       "f2       100000.0   2.495128   3.473445 -11.970335   0.130359   2.484236   \n",
       "product  100000.0  95.000000  44.749921   0.000000  59.450441  94.925613   \n",
       "\n",
       "                75%         max  \n",
       "f0         1.158535    7.238262  \n",
       "f1         1.163678    7.844801  \n",
       "f2         4.858794   16.739402  \n",
       "product  130.595027  190.029838  "
      ]
     },
     "metadata": {},
     "output_type": "display_data"
    },
    {
     "name": "stdout",
     "output_type": "stream",
     "text": [
      "Пропущенных значений: 0\n",
      "Дубликатов: 0\n",
      "\n"
     ]
    }
   ],
   "source": [
    "for name, df in dfs.items():\n",
    "    print(f'{name}:')\n",
    "    print('---------')\n",
    "    display(df.info())\n",
    "    display(df.head())\n",
    "    display(df.describe().T)\n",
    "    print(f'Пропущенных значений: {df.isna().sum().sum()}')\n",
    "    print(f'Дубликатов: {df.duplicated().sum()}')\n",
    "    print()"
   ]
  },
  {
   "cell_type": "markdown",
   "metadata": {},
   "source": [
    "### Предварительный вывод"
   ]
  },
  {
   "cell_type": "markdown",
   "metadata": {},
   "source": [
    "Все три таблицы однотипные, предоставлены данные по 5 признакам, в том числе одному категориальному (`id`) и четырем вещественным числовым. В их числе объем запасов (`product`) и три признака `f0`, `f1` и `f2`, смысл которых не разглашается. Явных пропусков и дубликатов не обнаружено.\n",
    "\n",
    "`id`, по-видимому, генерируется случайным образом: дублированные значения встречаются, но мы не можем точно сказать, принадлежат ли они одному и тому же объекту (возможно, это группа объектов или координаты, возможно, данные за разное время, а возможно, просто коллизия хешей)."
   ]
  },
  {
   "cell_type": "code",
   "execution_count": 5,
   "metadata": {},
   "outputs": [
    {
     "data": {
      "text/html": [
       "<div>\n",
       "<style scoped>\n",
       "    .dataframe tbody tr th:only-of-type {\n",
       "        vertical-align: middle;\n",
       "    }\n",
       "\n",
       "    .dataframe tbody tr th {\n",
       "        vertical-align: top;\n",
       "    }\n",
       "\n",
       "    .dataframe thead th {\n",
       "        text-align: right;\n",
       "    }\n",
       "</style>\n",
       "<table border=\"1\" class=\"dataframe\">\n",
       "  <thead>\n",
       "    <tr style=\"text-align: right;\">\n",
       "      <th></th>\n",
       "      <th>id</th>\n",
       "      <th>f0</th>\n",
       "      <th>f1</th>\n",
       "      <th>f2</th>\n",
       "      <th>product</th>\n",
       "    </tr>\n",
       "  </thead>\n",
       "  <tbody>\n",
       "    <tr>\n",
       "      <th>66136</th>\n",
       "      <td>74z30</td>\n",
       "      <td>1.084962</td>\n",
       "      <td>-0.312358</td>\n",
       "      <td>6.990771</td>\n",
       "      <td>127.643327</td>\n",
       "    </tr>\n",
       "    <tr>\n",
       "      <th>64022</th>\n",
       "      <td>74z30</td>\n",
       "      <td>0.741456</td>\n",
       "      <td>0.459229</td>\n",
       "      <td>5.153109</td>\n",
       "      <td>140.771492</td>\n",
       "    </tr>\n",
       "    <tr>\n",
       "      <th>51970</th>\n",
       "      <td>A5aEY</td>\n",
       "      <td>-0.180335</td>\n",
       "      <td>0.935548</td>\n",
       "      <td>-2.094773</td>\n",
       "      <td>33.020205</td>\n",
       "    </tr>\n",
       "    <tr>\n",
       "      <th>3389</th>\n",
       "      <td>A5aEY</td>\n",
       "      <td>-0.039949</td>\n",
       "      <td>0.156872</td>\n",
       "      <td>0.209861</td>\n",
       "      <td>89.249364</td>\n",
       "    </tr>\n",
       "    <tr>\n",
       "      <th>69163</th>\n",
       "      <td>AGS9W</td>\n",
       "      <td>-0.933795</td>\n",
       "      <td>0.116194</td>\n",
       "      <td>-3.655896</td>\n",
       "      <td>19.230453</td>\n",
       "    </tr>\n",
       "    <tr>\n",
       "      <th>42529</th>\n",
       "      <td>AGS9W</td>\n",
       "      <td>1.454747</td>\n",
       "      <td>-0.479651</td>\n",
       "      <td>0.683380</td>\n",
       "      <td>126.370504</td>\n",
       "    </tr>\n",
       "    <tr>\n",
       "      <th>931</th>\n",
       "      <td>HZww2</td>\n",
       "      <td>0.755284</td>\n",
       "      <td>0.368511</td>\n",
       "      <td>1.863211</td>\n",
       "      <td>30.681774</td>\n",
       "    </tr>\n",
       "    <tr>\n",
       "      <th>7530</th>\n",
       "      <td>HZww2</td>\n",
       "      <td>1.061194</td>\n",
       "      <td>-0.373969</td>\n",
       "      <td>10.430210</td>\n",
       "      <td>158.828695</td>\n",
       "    </tr>\n",
       "    <tr>\n",
       "      <th>63593</th>\n",
       "      <td>QcMuo</td>\n",
       "      <td>0.635635</td>\n",
       "      <td>-0.473422</td>\n",
       "      <td>0.862670</td>\n",
       "      <td>64.578675</td>\n",
       "    </tr>\n",
       "    <tr>\n",
       "      <th>1949</th>\n",
       "      <td>QcMuo</td>\n",
       "      <td>0.506563</td>\n",
       "      <td>-0.323775</td>\n",
       "      <td>-2.215583</td>\n",
       "      <td>75.496502</td>\n",
       "    </tr>\n",
       "    <tr>\n",
       "      <th>75715</th>\n",
       "      <td>Tdehs</td>\n",
       "      <td>0.112079</td>\n",
       "      <td>0.430296</td>\n",
       "      <td>3.218993</td>\n",
       "      <td>60.964018</td>\n",
       "    </tr>\n",
       "    <tr>\n",
       "      <th>21426</th>\n",
       "      <td>Tdehs</td>\n",
       "      <td>0.829407</td>\n",
       "      <td>0.298807</td>\n",
       "      <td>-0.049563</td>\n",
       "      <td>96.035308</td>\n",
       "    </tr>\n",
       "    <tr>\n",
       "      <th>92341</th>\n",
       "      <td>TtcGQ</td>\n",
       "      <td>0.110711</td>\n",
       "      <td>1.022689</td>\n",
       "      <td>0.911381</td>\n",
       "      <td>101.318008</td>\n",
       "    </tr>\n",
       "    <tr>\n",
       "      <th>60140</th>\n",
       "      <td>TtcGQ</td>\n",
       "      <td>0.569276</td>\n",
       "      <td>-0.104876</td>\n",
       "      <td>6.440215</td>\n",
       "      <td>85.350186</td>\n",
       "    </tr>\n",
       "    <tr>\n",
       "      <th>89582</th>\n",
       "      <td>bsk9y</td>\n",
       "      <td>0.398908</td>\n",
       "      <td>-0.400253</td>\n",
       "      <td>10.122376</td>\n",
       "      <td>163.433078</td>\n",
       "    </tr>\n",
       "    <tr>\n",
       "      <th>97785</th>\n",
       "      <td>bsk9y</td>\n",
       "      <td>0.378429</td>\n",
       "      <td>0.005837</td>\n",
       "      <td>0.160827</td>\n",
       "      <td>160.637302</td>\n",
       "    </tr>\n",
       "    <tr>\n",
       "      <th>41724</th>\n",
       "      <td>bxg6G</td>\n",
       "      <td>-0.823752</td>\n",
       "      <td>0.546319</td>\n",
       "      <td>3.630479</td>\n",
       "      <td>93.007798</td>\n",
       "    </tr>\n",
       "    <tr>\n",
       "      <th>1364</th>\n",
       "      <td>bxg6G</td>\n",
       "      <td>0.411645</td>\n",
       "      <td>0.856830</td>\n",
       "      <td>-3.653440</td>\n",
       "      <td>73.604260</td>\n",
       "    </tr>\n",
       "    <tr>\n",
       "      <th>16633</th>\n",
       "      <td>fiKDv</td>\n",
       "      <td>0.157341</td>\n",
       "      <td>1.028359</td>\n",
       "      <td>5.585586</td>\n",
       "      <td>95.817889</td>\n",
       "    </tr>\n",
       "    <tr>\n",
       "      <th>90815</th>\n",
       "      <td>fiKDv</td>\n",
       "      <td>0.049883</td>\n",
       "      <td>0.841313</td>\n",
       "      <td>6.394613</td>\n",
       "      <td>137.346586</td>\n",
       "    </tr>\n",
       "  </tbody>\n",
       "</table>\n",
       "</div>"
      ],
      "text/plain": [
       "          id        f0        f1         f2     product\n",
       "66136  74z30  1.084962 -0.312358   6.990771  127.643327\n",
       "64022  74z30  0.741456  0.459229   5.153109  140.771492\n",
       "51970  A5aEY -0.180335  0.935548  -2.094773   33.020205\n",
       "3389   A5aEY -0.039949  0.156872   0.209861   89.249364\n",
       "69163  AGS9W -0.933795  0.116194  -3.655896   19.230453\n",
       "42529  AGS9W  1.454747 -0.479651   0.683380  126.370504\n",
       "931    HZww2  0.755284  0.368511   1.863211   30.681774\n",
       "7530   HZww2  1.061194 -0.373969  10.430210  158.828695\n",
       "63593  QcMuo  0.635635 -0.473422   0.862670   64.578675\n",
       "1949   QcMuo  0.506563 -0.323775  -2.215583   75.496502\n",
       "75715  Tdehs  0.112079  0.430296   3.218993   60.964018\n",
       "21426  Tdehs  0.829407  0.298807  -0.049563   96.035308\n",
       "92341  TtcGQ  0.110711  1.022689   0.911381  101.318008\n",
       "60140  TtcGQ  0.569276 -0.104876   6.440215   85.350186\n",
       "89582  bsk9y  0.398908 -0.400253  10.122376  163.433078\n",
       "97785  bsk9y  0.378429  0.005837   0.160827  160.637302\n",
       "41724  bxg6G -0.823752  0.546319   3.630479   93.007798\n",
       "1364   bxg6G  0.411645  0.856830  -3.653440   73.604260\n",
       "16633  fiKDv  0.157341  1.028359   5.585586   95.817889\n",
       "90815  fiKDv  0.049883  0.841313   6.394613  137.346586"
      ]
     },
     "execution_count": 5,
     "metadata": {},
     "output_type": "execute_result"
    }
   ],
   "source": [
    "df0[df0['id'].duplicated(keep=False)].sort_values(by='id')"
   ]
  },
  {
   "cell_type": "markdown",
   "metadata": {},
   "source": [
    "В контексте обучения линейной модели выглядит разумным сохранить все имеющиеся наблюдения, а столбец `id` отбросить как не содержащий полезных для обучения данных."
   ]
  },
  {
   "cell_type": "markdown",
   "metadata": {},
   "source": [
    "### Распределения и корреляции"
   ]
  },
  {
   "cell_type": "markdown",
   "metadata": {},
   "source": [
    "Сделаем беглый обзор матриц рассеивания, разбросов и корреляций признаков:"
   ]
  },
  {
   "cell_type": "markdown",
   "metadata": {},
   "source": [
    "#### Регион 1"
   ]
  },
  {
   "cell_type": "code",
   "execution_count": 6,
   "metadata": {},
   "outputs": [],
   "source": [
    "def visualize_features(df):\n",
    "    df_n = df._get_numeric_data()\n",
    "    fig, axes = plt.subplots(1, 4, figsize=(16,4))\n",
    "    for column, ax in zip (df_n.columns, axes.flat):\n",
    "        sns.violinplot(data=df_n[column], ax=ax, orient='h').set(xlabel=column)\n",
    "    fig.suptitle('Признаки: плотность и размах')"
   ]
  },
  {
   "cell_type": "code",
   "execution_count": 7,
   "metadata": {},
   "outputs": [
    {
     "data": {
      "image/png": "[encoded data removed]",
      "text/plain": [
       "<Figure size 1152x288 with 4 Axes>"
      ]
     },
     "metadata": {
      "needs_background": "light"
     },
     "output_type": "display_data"
    }
   ],
   "source": [
    "visualize_features(df0)"
   ]
  },
  {
   "cell_type": "markdown",
   "metadata": {},
   "source": [
    "Распределения `f0` и `f1`, равно как и целевого признака `product`, довольно симметричны (вероятно, данные предварительно шкалированы), но демонстрируют явную мультимодальность. `f2` в первом регионе распределен почти нормально."
   ]
  },
  {
   "cell_type": "code",
   "execution_count": 8,
   "metadata": {},
   "outputs": [
    {
     "data": {
      "image/png": "[encoded data removed]",
      "text/plain": [
       "<Figure size 432x288 with 2 Axes>"
      ]
     },
     "metadata": {
      "needs_background": "light"
     },
     "output_type": "display_data"
    }
   ],
   "source": [
    "sns.heatmap (df0.corr(), cmap='Blues', annot=True);"
   ]
  },
  {
   "cell_type": "markdown",
   "metadata": {},
   "source": [
    "Однозначно высоко влияние `f2` на целевой признак - коэффициент Пирсона 0,48, зависимость достаточно линейна, хоть и с широким разбросом. Также прослеживается заметная обратная корреляция `f0` и `f1` (-0,44), и соответствующее слабое влияние на оценку запасов: коэффициенты 0,14 для `f0` и -0,19 для `f1`. Матрица рассеивания, впрочем, демонстрирует, что взамозависимость `f1` и `f2` явно нелинейная:"
   ]
  },
  {
   "cell_type": "code",
   "execution_count": 9,
   "metadata": {},
   "outputs": [
    {
     "data": {
      "image/png": "[encoded data removed]",
      "text/plain": [
       "<Figure size 504x504 with 16 Axes>"
      ]
     },
     "metadata": {
      "needs_background": "light"
     },
     "output_type": "display_data"
    }
   ],
   "source": [
    "pd.plotting.scatter_matrix(df0, figsize=(7,7));"
   ]
  },
  {
   "cell_type": "markdown",
   "metadata": {},
   "source": [
    "#### Регион 2"
   ]
  },
  {
   "cell_type": "code",
   "execution_count": 10,
   "metadata": {},
   "outputs": [
    {
     "data": {
      "image/png": "[encoded data removed]",
      "text/plain": [
       "<Figure size 1152x288 with 4 Axes>"
      ]
     },
     "metadata": {
      "needs_background": "light"
     },
     "output_type": "display_data"
    }
   ],
   "source": [
    "visualize_features(df1)"
   ]
  },
  {
   "cell_type": "code",
   "execution_count": 11,
   "metadata": {},
   "outputs": [
    {
     "data": {
      "image/png": "[encoded data removed]",
      "text/plain": [
       "<Figure size 432x288 with 2 Axes>"
      ]
     },
     "metadata": {
      "needs_background": "light"
     },
     "output_type": "display_data"
    }
   ],
   "source": [
    "sns.heatmap (df1.corr(), cmap='Blues', annot=True);"
   ]
  },
  {
   "cell_type": "markdown",
   "metadata": {},
   "source": [
    "Во втором же регионе картина обратная: `f0` и `f1` связаны слабоположительно, а на целевой признак почти не влияют. `f1` распределен почти нормально, а `f0` - с двумя четкими пиками. Зато значения `f2` собраны в несколько компактных групп с очень четкой корреляцией к целевому принаку - коэффициент 1! **Регрессия по этим данным будет очень точной.**"
   ]
  },
  {
   "cell_type": "code",
   "execution_count": 12,
   "metadata": {},
   "outputs": [
    {
     "data": {
      "image/png": "[encoded data removed]",
      "text/plain": [
       "<Figure size 504x504 with 16 Axes>"
      ]
     },
     "metadata": {
      "needs_background": "light"
     },
     "output_type": "display_data"
    }
   ],
   "source": [
    "pd.plotting.scatter_matrix(df1, figsize=(7,7));"
   ]
  },
  {
   "cell_type": "markdown",
   "metadata": {},
   "source": [
    "#### Регион 3"
   ]
  },
  {
   "cell_type": "code",
   "execution_count": 13,
   "metadata": {},
   "outputs": [
    {
     "data": {
      "image/png": "[encoded data removed]",
      "text/plain": [
       "<Figure size 1152x288 with 4 Axes>"
      ]
     },
     "metadata": {
      "needs_background": "light"
     },
     "output_type": "display_data"
    }
   ],
   "source": [
    "visualize_features(df2)"
   ]
  },
  {
   "cell_type": "code",
   "execution_count": 14,
   "metadata": {},
   "outputs": [
    {
     "data": {
      "image/png": "[encoded data removed]",
      "text/plain": [
       "<Figure size 432x288 with 2 Axes>"
      ]
     },
     "metadata": {
      "needs_background": "light"
     },
     "output_type": "display_data"
    }
   ],
   "source": [
    "sns.heatmap (df2.corr(), cmap='Blues', annot=True);"
   ]
  },
  {
   "cell_type": "markdown",
   "metadata": {},
   "source": [
    "Здесь распределения всех трех рабочих признаков околонормальные, а целевой, как и в первом регионе, умеренно мультимодален. Прямая корелляция прослеживается однако лишь между `product` и `f2` - коэффициент 0,45. Мы видим характерные для удаленных выбросов сужения разброса на графиках для `f0` и `f1`:"
   ]
  },
  {
   "cell_type": "code",
   "execution_count": 15,
   "metadata": {},
   "outputs": [
    {
     "data": {
      "image/png": "[encoded data removed]",
      "text/plain": [
       "<Figure size 504x504 with 16 Axes>"
      ]
     },
     "metadata": {
      "needs_background": "light"
     },
     "output_type": "display_data"
    }
   ],
   "source": [
    "pd.plotting.scatter_matrix(df2, figsize=(7,7));"
   ]
  },
  {
   "cell_type": "markdown",
   "metadata": {},
   "source": [
    "### Вывод"
   ]
  },
  {
   "cell_type": "markdown",
   "metadata": {},
   "source": [
    "Распределения и зависимости признаков во всех регионах разные, возможно, что в разных регионах под `f0`-`f2` закодированы и вовсе разные признаки. Каждый регион, как и ожидалось, потребует отдельной модели.\n",
    "\n",
    "В распределениях сильно выражена мультимодальность, особенно необычно смотрится второй регион с почти равномерным разделением на несколько четких пиков равной величины и четкой корреляцией запасов с признаком `f2`. Не исключено, что это искусственная контрольная группа.\n",
    "\n",
    "Данные выглядят предобработанными: оценки плотности весьма симметричны, существенные выбросы отсутсвуют."
   ]
  },
  {
   "cell_type": "markdown",
   "metadata": {},
   "source": [
    "## Подготовка данных"
   ]
  },
  {
   "cell_type": "markdown",
   "metadata": {},
   "source": [
    "### Удаление ненужных столбцов"
   ]
  },
  {
   "cell_type": "markdown",
   "metadata": {},
   "source": [
    "Данные оказались подозрительно качественными, так что просто избавимся от нечислового признака:"
   ]
  },
  {
   "cell_type": "code",
   "execution_count": 16,
   "metadata": {},
   "outputs": [],
   "source": [
    "def extract_numeric (df):\n",
    "    return df._get_numeric_data()"
   ]
  },
  {
   "cell_type": "code",
   "execution_count": 17,
   "metadata": {},
   "outputs": [],
   "source": [
    "def preprocess(df):\n",
    "    result = (df\n",
    "              .pipe(extract_numeric)\n",
    "             )\n",
    "    return result"
   ]
  },
  {
   "cell_type": "code",
   "execution_count": 18,
   "metadata": {},
   "outputs": [
    {
     "data": {
      "text/html": [
       "<div>\n",
       "<style scoped>\n",
       "    .dataframe tbody tr th:only-of-type {\n",
       "        vertical-align: middle;\n",
       "    }\n",
       "\n",
       "    .dataframe tbody tr th {\n",
       "        vertical-align: top;\n",
       "    }\n",
       "\n",
       "    .dataframe thead th {\n",
       "        text-align: right;\n",
       "    }\n",
       "</style>\n",
       "<table border=\"1\" class=\"dataframe\">\n",
       "  <thead>\n",
       "    <tr style=\"text-align: right;\">\n",
       "      <th></th>\n",
       "      <th>f0</th>\n",
       "      <th>f1</th>\n",
       "      <th>f2</th>\n",
       "      <th>product</th>\n",
       "    </tr>\n",
       "  </thead>\n",
       "  <tbody>\n",
       "    <tr>\n",
       "      <th>0</th>\n",
       "      <td>0.705745</td>\n",
       "      <td>-0.497823</td>\n",
       "      <td>1.221170</td>\n",
       "      <td>105.280062</td>\n",
       "    </tr>\n",
       "    <tr>\n",
       "      <th>1</th>\n",
       "      <td>1.334711</td>\n",
       "      <td>-0.340164</td>\n",
       "      <td>4.365080</td>\n",
       "      <td>73.037750</td>\n",
       "    </tr>\n",
       "    <tr>\n",
       "      <th>2</th>\n",
       "      <td>1.022732</td>\n",
       "      <td>0.151990</td>\n",
       "      <td>1.419926</td>\n",
       "      <td>85.265647</td>\n",
       "    </tr>\n",
       "    <tr>\n",
       "      <th>3</th>\n",
       "      <td>-0.032172</td>\n",
       "      <td>0.139033</td>\n",
       "      <td>2.978566</td>\n",
       "      <td>168.620776</td>\n",
       "    </tr>\n",
       "    <tr>\n",
       "      <th>4</th>\n",
       "      <td>1.988431</td>\n",
       "      <td>0.155413</td>\n",
       "      <td>4.751769</td>\n",
       "      <td>154.036647</td>\n",
       "    </tr>\n",
       "  </tbody>\n",
       "</table>\n",
       "</div>"
      ],
      "text/plain": [
       "         f0        f1        f2     product\n",
       "0  0.705745 -0.497823  1.221170  105.280062\n",
       "1  1.334711 -0.340164  4.365080   73.037750\n",
       "2  1.022732  0.151990  1.419926   85.265647\n",
       "3 -0.032172  0.139033  2.978566  168.620776\n",
       "4  1.988431  0.155413  4.751769  154.036647"
      ]
     },
     "metadata": {},
     "output_type": "display_data"
    },
    {
     "data": {
      "text/html": [
       "<div>\n",
       "<style scoped>\n",
       "    .dataframe tbody tr th:only-of-type {\n",
       "        vertical-align: middle;\n",
       "    }\n",
       "\n",
       "    .dataframe tbody tr th {\n",
       "        vertical-align: top;\n",
       "    }\n",
       "\n",
       "    .dataframe thead th {\n",
       "        text-align: right;\n",
       "    }\n",
       "</style>\n",
       "<table border=\"1\" class=\"dataframe\">\n",
       "  <thead>\n",
       "    <tr style=\"text-align: right;\">\n",
       "      <th></th>\n",
       "      <th>f0</th>\n",
       "      <th>f1</th>\n",
       "      <th>f2</th>\n",
       "      <th>product</th>\n",
       "    </tr>\n",
       "  </thead>\n",
       "  <tbody>\n",
       "    <tr>\n",
       "      <th>0</th>\n",
       "      <td>-15.001348</td>\n",
       "      <td>-8.276000</td>\n",
       "      <td>-0.005876</td>\n",
       "      <td>3.179103</td>\n",
       "    </tr>\n",
       "    <tr>\n",
       "      <th>1</th>\n",
       "      <td>14.272088</td>\n",
       "      <td>-3.475083</td>\n",
       "      <td>0.999183</td>\n",
       "      <td>26.953261</td>\n",
       "    </tr>\n",
       "    <tr>\n",
       "      <th>2</th>\n",
       "      <td>6.263187</td>\n",
       "      <td>-5.948386</td>\n",
       "      <td>5.001160</td>\n",
       "      <td>134.766305</td>\n",
       "    </tr>\n",
       "    <tr>\n",
       "      <th>3</th>\n",
       "      <td>-13.081196</td>\n",
       "      <td>-11.506057</td>\n",
       "      <td>4.999415</td>\n",
       "      <td>137.945408</td>\n",
       "    </tr>\n",
       "    <tr>\n",
       "      <th>4</th>\n",
       "      <td>12.702195</td>\n",
       "      <td>-8.147433</td>\n",
       "      <td>5.004363</td>\n",
       "      <td>134.766305</td>\n",
       "    </tr>\n",
       "  </tbody>\n",
       "</table>\n",
       "</div>"
      ],
      "text/plain": [
       "          f0         f1        f2     product\n",
       "0 -15.001348  -8.276000 -0.005876    3.179103\n",
       "1  14.272088  -3.475083  0.999183   26.953261\n",
       "2   6.263187  -5.948386  5.001160  134.766305\n",
       "3 -13.081196 -11.506057  4.999415  137.945408\n",
       "4  12.702195  -8.147433  5.004363  134.766305"
      ]
     },
     "metadata": {},
     "output_type": "display_data"
    },
    {
     "data": {
      "text/html": [
       "<div>\n",
       "<style scoped>\n",
       "    .dataframe tbody tr th:only-of-type {\n",
       "        vertical-align: middle;\n",
       "    }\n",
       "\n",
       "    .dataframe tbody tr th {\n",
       "        vertical-align: top;\n",
       "    }\n",
       "\n",
       "    .dataframe thead th {\n",
       "        text-align: right;\n",
       "    }\n",
       "</style>\n",
       "<table border=\"1\" class=\"dataframe\">\n",
       "  <thead>\n",
       "    <tr style=\"text-align: right;\">\n",
       "      <th></th>\n",
       "      <th>f0</th>\n",
       "      <th>f1</th>\n",
       "      <th>f2</th>\n",
       "      <th>product</th>\n",
       "    </tr>\n",
       "  </thead>\n",
       "  <tbody>\n",
       "    <tr>\n",
       "      <th>0</th>\n",
       "      <td>-1.146987</td>\n",
       "      <td>0.963328</td>\n",
       "      <td>-0.828965</td>\n",
       "      <td>27.758673</td>\n",
       "    </tr>\n",
       "    <tr>\n",
       "      <th>1</th>\n",
       "      <td>0.262778</td>\n",
       "      <td>0.269839</td>\n",
       "      <td>-2.530187</td>\n",
       "      <td>56.069697</td>\n",
       "    </tr>\n",
       "    <tr>\n",
       "      <th>2</th>\n",
       "      <td>0.194587</td>\n",
       "      <td>0.289035</td>\n",
       "      <td>-5.586433</td>\n",
       "      <td>62.871910</td>\n",
       "    </tr>\n",
       "    <tr>\n",
       "      <th>3</th>\n",
       "      <td>2.236060</td>\n",
       "      <td>-0.553760</td>\n",
       "      <td>0.930038</td>\n",
       "      <td>114.572842</td>\n",
       "    </tr>\n",
       "    <tr>\n",
       "      <th>4</th>\n",
       "      <td>-0.515993</td>\n",
       "      <td>1.716266</td>\n",
       "      <td>5.899011</td>\n",
       "      <td>149.600746</td>\n",
       "    </tr>\n",
       "  </tbody>\n",
       "</table>\n",
       "</div>"
      ],
      "text/plain": [
       "         f0        f1        f2     product\n",
       "0 -1.146987  0.963328 -0.828965   27.758673\n",
       "1  0.262778  0.269839 -2.530187   56.069697\n",
       "2  0.194587  0.289035 -5.586433   62.871910\n",
       "3  2.236060 -0.553760  0.930038  114.572842\n",
       "4 -0.515993  1.716266  5.899011  149.600746"
      ]
     },
     "metadata": {},
     "output_type": "display_data"
    }
   ],
   "source": [
    "for name, df in dfs.items():\n",
    "    dfs[name] = preprocess(df) \n",
    "    display(dfs[name].head())"
   ]
  },
  {
   "cell_type": "markdown",
   "metadata": {},
   "source": [
    "### Разбиение на выборки и подготовка модели"
   ]
  },
  {
   "cell_type": "code",
   "execution_count": 19,
   "metadata": {},
   "outputs": [],
   "source": [
    "# Зафиксируем состояние генератора случайных чисел для воспроизведения результатов:\n",
    "random_state = 177013"
   ]
  },
  {
   "cell_type": "code",
   "execution_count": 21,
   "metadata": {},
   "outputs": [],
   "source": [
    "class RegionalSurvey:\n",
    "    '''Чтобы не плодить слишком много кода, соберем данные и методы в рамках региона в класс.\n",
    "    Каждый регион получит свой экземпляр класса.'''\n",
    "    def __init__(self, region, df):\n",
    "        '''Инициализация: подаем на вход датасет и имя, создаем обучающий и валидационный набор,\n",
    "        а также модель линейной регрессии. Масштабируем признаки.'''\n",
    "        X = df.drop(['product'], axis=1)\n",
    "        y = df['product']\n",
    "        self.name = region\n",
    "        features_train, features_valid, self.target_train, self.target_valid = train_test_split(X, y, test_size=0.25, random_state=random_state)\n",
    "        self.scaler =  StandardScaler()\n",
    "        self.scaler.fit (features_train)\n",
    "        self.features_train = self.scaler.transform (features_train)\n",
    "        self.features_valid = self.scaler.transform (features_valid)\n",
    "        params = {\n",
    "                    'fit_intercept':[True, False],\n",
    "                    'copy_X':[True, False]\n",
    "                 }\n",
    "        self.model = GridSearchCV(estimator=LinearRegression(), param_grid=params, cv=5, scoring='r2')\n",
    "        self.pred_cache = pd.Series()\n",
    "    def train(self):\n",
    "        '''Обучение: фитим в модель обучающую выборку. Опционально возвращаем обученную модель.\n",
    "        В большинстве случаев эот метод не нужно вызывать напрямую.'''\n",
    "        self.model.fit(self.features_train, self.target_train)\n",
    "        return self.model\n",
    "    \n",
    "    def predictions(self, refresh=False):\n",
    "        '''Предсказание: возвращем значения, предсказанные на базе валидационной выборки, в формате Series.\n",
    "        Если модель еще не обучена, запускаем обучение, в противном случае только предсказываем.\n",
    "        Ответы кешируются.'''\n",
    "        if refresh or self.pred_cache.empty:\n",
    "            if not hasattr(self.model, 'best_estimator_'):\n",
    "                self.train()\n",
    "            self.pred_cache = pd.Series(self.model.predict(self.features_valid))\n",
    "        return self.pred_cache\n",
    "    \n",
    "    def true_values(self):\n",
    "        '''Валидация: возвращаем значения целевого признака валидационной выборки.\n",
    "        Обеспечиваем совместимость индексации с predictions()'''\n",
    "        return self.target_valid.reset_index(drop=True)\n",
    "    \n",
    "    def metrics(self):\n",
    "        '''Валидация: возвращает значения метрик.'''\n",
    "        mse = mean_squared_error(self.true_values(), self.predictions())\n",
    "        rmse = mse ** 0.5\n",
    "        r2 = r2_score(self.true_values(), self.predictions())\n",
    "        return mse, rmse, r2\n",
    "    \n",
    "    def revenue(self):\n",
    "        '''Это forward-декларация, функция revenue() будет объявлена ниже.'''\n",
    "        return revenue(self.true_values(), self.predictions())"
   ]
  },
  {
   "cell_type": "markdown",
   "metadata": {},
   "source": [
    "Условия техзадания требуют от нас только две выборки: учебную и валидационную, но все же воспользуемся оптимизацией с помощью GridSearch на учебной выборке."
   ]
  },
  {
   "cell_type": "code",
   "execution_count": 22,
   "metadata": {},
   "outputs": [],
   "source": [
    "#Создадим по экземпляру класса `RegionalSurvey` для каждого региона и составим из них список `regional_data`.\n",
    "regional_data = []\n",
    "for name, df in dfs.items():\n",
    "    region = RegionalSurvey(name, df)\n",
    "    regional_data.append (region)"
   ]
  },
  {
   "cell_type": "markdown",
   "metadata": {},
   "source": [
    "## Обучение и проверка модели"
   ]
  },
  {
   "cell_type": "code",
   "execution_count": 23,
   "metadata": {
    "scrolled": false
   },
   "outputs": [
    {
     "name": "stdout",
     "output_type": "stream",
     "text": [
      "Регион 1: средний запас предсказанного сырья 92.36 тыс барр., RMSE 37.65, R2 0.27\n",
      "Регион 2: средний запас предсказанного сырья 69.00 тыс барр., RMSE 0.89, R2 1.00\n",
      "Регион 3: средний запас предсказанного сырья 94.75 тыс барр., RMSE 40.04, R2 0.20\n"
     ]
    }
   ],
   "source": [
    "# Запросим метрику и предсказания у наших классов - обучение будет вызвано автоматически:\n",
    "for region in regional_data:\n",
    "    _, rmse, r2 = region.metrics()\n",
    "    print (f'{region.name}: средний запас предсказанного сырья {region.predictions().mean():.2f} тыс барр., RMSE {rmse:.2f}, R2 {r2:.2f}')"
   ]
  },
  {
   "cell_type": "markdown",
   "metadata": {},
   "source": [
    "### Вывод"
   ]
  },
  {
   "cell_type": "markdown",
   "metadata": {},
   "source": [
    "Как мы и ожидали исходя из аналитического этапа, ошибка на втором регионе очень невелика - менее 1 тыс. барр. С первым и третьим похуже, средняя ошибка в оценке порядка 40 тыс. барр. По сравнению со средним значением - так себе (метрика R2 в этих регионах составляет всего порядка 0,2-0,3), но поскольку нас интересуют в первую очередь самые богатые месторождения (в первом и третьем регионах IV квартиль, как мы помним, приходится на значения 130-190 тыс. барр), а условия техзадания ограничивают нас моделью линейной регрессии, результат можно считать удовлетворительным."
   ]
  },
  {
   "cell_type": "markdown",
   "metadata": {},
   "source": [
    "## Подготовка к расчёту прибыли"
   ]
  },
  {
   "cell_type": "markdown",
   "metadata": {},
   "source": [
    "Будет уместно еще раз вспомнить условия техзадания:\n",
    "\n",
    "- При разведке региона исследуют 500 точек, из которых с помощью машинного обучения выбирают 200 лучших для разработки.\n",
    "- Бюджет на разработку скважин в регионе - 10 млрд рублей.\n",
    "- При нынешних ценах один баррель сырья приносит 450 рублей дохода. Доход с каждой единицы продукта составляет 450 тыс. рублей, поскольку объём указан в тысячах баррелей.\n",
    "\n",
    "Зафиксируем наши константы:"
   ]
  },
  {
   "cell_type": "code",
   "execution_count": 24,
   "metadata": {},
   "outputs": [],
   "source": [
    "max_bores = 500\n",
    "num_bores = 200\n",
    "\n",
    "regional_funds = 10_000_000_000\n",
    "revenue_per_point = 450_000"
   ]
  },
  {
   "cell_type": "markdown",
   "metadata": {},
   "source": [
    "Рассчитаем объём сырья для безубыточной разработки новой скважины. Усредним бюджет в расчете на 200 скважин и найдем точку безубыточности, где доход с объема покрывает эти расходы:"
   ]
  },
  {
   "cell_type": "code",
   "execution_count": 25,
   "metadata": {},
   "outputs": [
    {
     "name": "stdout",
     "output_type": "stream",
     "text": [
      "Бюджет скважины: 50 млн р, уровень безубыточности: 111.1 тыс барр. (При разработке 200 скважин.)\n"
     ]
    }
   ],
   "source": [
    "bore_funds = regional_funds / num_bores\n",
    "total_required_product = regional_funds / revenue_per_point\n",
    "avg_required_product = total_required_product / num_bores\n",
    "print(f'Бюджет скважины: {bore_funds/1_000_000:.0f} млн р, уровень безубыточности: {avg_required_product:.1f} тыс барр. (При разработке {num_bores} скважин.)')"
   ]
  },
  {
   "cell_type": "markdown",
   "metadata": {},
   "source": [
    "То есть для самоокупаемости средний запас на скажину должен быть чуть более 111 тыс. баррелей. Как это согласуется с нашей статистикой?"
   ]
  },
  {
   "cell_type": "code",
   "execution_count": 26,
   "metadata": {
    "scrolled": false
   },
   "outputs": [
    {
     "name": "stdout",
     "output_type": "stream",
     "text": [
      "Регион 1: средний запас в расчете на скважину 92.8 тыс. барр.\n",
      "Регион 2: средний запас в расчете на скважину 69.0 тыс. барр.\n",
      "Регион 3: средний запас в расчете на скважину 94.3 тыс. барр.\n"
     ]
    },
    {
     "data": {
      "image/png": "[encoded data removed]",
      "text/plain": [
       "<Figure size 864x504 with 1 Axes>"
      ]
     },
     "metadata": {
      "needs_background": "light"
     },
     "output_type": "display_data"
    }
   ],
   "source": [
    "region_preview = pd.DataFrame({'Регион':[], 'Средний запас (предсказанный)':[], 'Средний запас (валидация)':[]})\n",
    "\n",
    "for region in regional_data:\n",
    "    print (f'{region.name}: средний запас в расчете на скважину {region.target_valid.mean():.1f} тыс. барр.')\n",
    "    row = pd.Series ([region.name, region.predictions().mean(), region.target_valid.mean()], index=['Регион', 'Средний запас (предсказанный)', 'Средний запас (валидация)'])\n",
    "    region_preview = region_preview.append(row, ignore_index=True)\n",
    "    \n",
    "ax = region_preview.plot(kind='bar', figsize=(12,7), rot=0)\n",
    "ax.hlines(y=112, xmin=-1, xmax=3, linestyles='--', label='Multiple Lines')\n",
    "ax.set(title='Средние оценки запасов по регионам', xlabel='Регион', ylabel='Средние запасы на скважину, тыс. барр.', xticklabels=dfs.keys());"
   ]
  },
  {
   "cell_type": "markdown",
   "metadata": {},
   "source": [
    "Какой регион ни возьми, уровень безубыточности превышает среднее значение, будь то предсказаное машиной или реальное. В первом и третьем регионах средняя скважина как минимум на 15% беднее, чем нужно, во втором разница еще выше - почти 40%!"
   ]
  },
  {
   "cell_type": "markdown",
   "metadata": {},
   "source": [
    "### Вывод"
   ]
  },
  {
   "cell_type": "markdown",
   "metadata": {},
   "source": [
    "Текущий уровень запасов таков, что бессистемная разработка сважин наверняка не окупит затрат: средний запас существенно ниже точки самоокупаемости - 111.1 тыс. баррелей на скважину."
   ]
  },
  {
   "cell_type": "markdown",
   "metadata": {},
   "source": [
    "## Расчёт прибыли и рисков "
   ]
  },
  {
   "cell_type": "code",
   "execution_count": 27,
   "metadata": {},
   "outputs": [],
   "source": [
    "# Функция расчета прибыли\n",
    "def revenue(target, predictions):\n",
    "    # Выбираем топовые предсказания\n",
    "    top_predictions = predictions.sort_values(ascending=False)\n",
    "    # Суммируем соответствующие реальные значения, считаем выручку и вычитаем бюджетные расходы:\n",
    "    top_targets = target[top_predictions.index][:num_bores]\n",
    "    result = top_targets.sum() * revenue_per_point - regional_funds\n",
    "    return result"
   ]
  },
  {
   "cell_type": "markdown",
   "metadata": {},
   "source": [
    "Протестируем нашу функцию: оценим реальную прибыль для 200 скважин валидационной выборки, которые наши модели полагают самыми богатыми:"
   ]
  },
  {
   "cell_type": "code",
   "execution_count": 28,
   "metadata": {},
   "outputs": [
    {
     "name": "stdout",
     "output_type": "stream",
     "text": [
      "Регион 1: прибыль 3479.0 млн р.\n",
      "Регион 2: прибыль 2415.1 млн р.\n",
      "Регион 3: прибыль 2519.4 млн р.\n"
     ]
    }
   ],
   "source": [
    "for region in regional_data:\n",
    "    print (f'{region.name}: прибыль {region.revenue()/1_000_000:.1f} млн р.')"
   ]
  },
  {
   "cell_type": "markdown",
   "metadata": {},
   "source": [
    "Используем метод Bootstrap для симуляции 1000 различных вариантов выбора 500 изначальных точек и оценим прибыли и риски после работы нашей модели:"
   ]
  },
  {
   "cell_type": "code",
   "execution_count": 31,
   "metadata": {},
   "outputs": [],
   "source": [
    "# Симуляция прибыли\n",
    "def bootstrap(target, predictions):\n",
    "    revenues = []\n",
    "    state = pd.np.random.RandomState(random_state)\n",
    "    \n",
    "    for i in range(1000):\n",
    "        target_subsample = target.sample (n=max_bores, random_state=state, replace=True)\n",
    "        predictions_subsample = predictions[target_subsample.index]\n",
    "        revenues.append(revenue(target_subsample, predictions_subsample))\n",
    "    \n",
    "    revenues = pd.Series(revenues)\n",
    "    \n",
    "    lower = revenues.quantile(0.025) / 1_000_000\n",
    "    higher = revenues.quantile(0.975) / 1_000_000\n",
    "    t_interval = st.t.interval(0.95, len(revenues)-1, loc=revenues.mean(), scale=revenues.sem())\n",
    "    interval_edges = [x/1_000_000 for x in t_interval]\n",
    "    risk = (revenues < 0).mean()\n",
    "    \n",
    "    print(f'Средняя прибыль: {revenues.mean() / 1_000_000:.1f} млн р.')\n",
    "    print(f'Доверительный интервал среднего: {interval_edges[0]:.1f}-{interval_edges[1]:.1f} млн р.')\n",
    "    print(f'2,5%-квантиль: {lower:.1f} млн р.')\n",
    "    print(f'97,5%-квантиль: {higher:.1f} млн р.')\n",
    "    print(f'Риск: {risk:.2%}')\n",
    "    sns.violinplot(data=revenues, orient='h', title='Распределение доходности', xlabel='Прибыль, р.').set(title='Распределение прибыли', xlabel='Прибыль, р');\n",
    "    plt.show()"
   ]
  },
  {
   "cell_type": "code",
   "execution_count": 32,
   "metadata": {},
   "outputs": [
    {
     "name": "stdout",
     "output_type": "stream",
     "text": [
      "Регион 1:\n",
      "Средняя прибыль: 461.6 млн р.\n",
      "Доверительный интервал среднего: 444.9-478.3 млн р.\n",
      "2,5%-квантиль: -77.7 млн р.\n",
      "97,5%-квантиль: 987.4 млн р.\n",
      "Риск: 4.30%\n"
     ]
    },
    {
     "data": {
      "image/png": "[encoded data removed]",
      "text/plain": [
       "<Figure size 432x288 with 1 Axes>"
      ]
     },
     "metadata": {
      "needs_background": "light"
     },
     "output_type": "display_data"
    },
    {
     "name": "stdout",
     "output_type": "stream",
     "text": [
      "Регион 2:\n",
      "Средняя прибыль: 535.6 млн р.\n",
      "Доверительный интервал среднего: 522.2-549.1 млн р.\n",
      "2,5%-квантиль: 115.9 млн р.\n",
      "97,5%-квантиль: 951.5 млн р.\n",
      "Риск: 0.40%\n"
     ]
    },
    {
     "data": {
      "image/png": "[encoded data removed]",
      "text/plain": [
       "<Figure size 432x288 with 1 Axes>"
      ]
     },
     "metadata": {
      "needs_background": "light"
     },
     "output_type": "display_data"
    },
    {
     "name": "stdout",
     "output_type": "stream",
     "text": [
      "Регион 3:\n",
      "Средняя прибыль: 330.3 млн р.\n",
      "Доверительный интервал среднего: 312.4-348.1 млн р.\n",
      "2,5%-квантиль: -253.1 млн р.\n",
      "97,5%-квантиль: 880.6 млн р.\n",
      "Риск: 13.10%\n"
     ]
    },
    {
     "data": {
      "image/png": "[encoded data removed]",
      "text/plain": [
       "<Figure size 432x288 with 1 Axes>"
      ]
     },
     "metadata": {
      "needs_background": "light"
     },
     "output_type": "display_data"
    }
   ],
   "source": [
    "for region in regional_data:\n",
    "    print(f'{region.name}:')\n",
    "    bootstrap(region.true_values(), region.predictions())"
   ]
  },
  {
   "cell_type": "markdown",
   "metadata": {},
   "source": [
    "Что мы видим? Первый регион демонстрирует неплохой потенциал прибыли - в среднем порядка 461 млн р, при этом шанс остаться в убытке лишь 4,3%. 95% значений лежат в диапазоне от убытка в 78 млн р до прибыли почти в 1 млрд.\n",
    "\n",
    "Второй регион, не в последнюю очередь за счет хорошей точности предсказания, наименее рискованный (всего 0,4% риска остаться в минусе). Средняя прогнозируемая прибыль также выше - порядка 535 млн р. 95% значений строго положительны.\n",
    "\n",
    "Третий регион показывает наихудший результат - средняя прибыль лишь 330 млн, а медианная еще меньше - доля убыточных вариантов сравнительно высока, больше 13%. Разброс доверительного интервала довольно велик: от убытка свыше 250 млн до прибыли в 880 млн."
   ]
  },
  {
   "cell_type": "markdown",
   "metadata": {},
   "source": [
    "### Вывод"
   ]
  },
  {
   "cell_type": "markdown",
   "metadata": {},
   "source": [
    "Картина рисуется недвусмысленная: второй регион (`geo_data1`) однозначно лидирует по средней выручке (535 млн) и сравним с первым по максимальной, при этом риски минимальные, а модель очень точна. Следом идет первый регион со средним потенциалом прибыли в 461 млн и рисками менее 5%. Третий регион отстает по всем параметрам и едва ли может быть рекомендован при наличии таких альтернатив."
   ]
  },
  {
   "cell_type": "markdown",
   "metadata": {},
   "source": [
    "## Общий вывод"
   ]
  },
  {
   "cell_type": "markdown",
   "metadata": {},
   "source": [
    "Мы проанализировали данные, построили модели предсказания запасов сырья по регионам и смоделировали процесс выбора перспективных скважин и расчета прибыли по ним. Мы можем сделать следующие выводы:\n",
    "\n",
    "Распределения и зависимости признаков во всех регионах разные, нередко с различной мультимодальностью, возможно, что в разных регионах под `f0`-`f2` закодированы вовсе разные признаки. Использование разных моделей для каждого региона выглядит обоснованным. Аномально выглядит второй регион с почти равномерным разделением запасов на несколько четких пиков равной величины и четкой корреляцией с признаком `f2`.\n",
    "\n",
    "Как следствие, точность предсказаний линейной регрессии на втором регионе очень высока - RMSE составляет менее 1 тыс. барр. В первом и третьем средняя ошибка выше, порядка 40 тыс. барр., метрика R2 порядка 0,2-0,3 против почти идеальной во втором регионе. Средние значения предсказанного запаса на скважину по регионам составили 92.36 тыс. барр., 69.00 тыс. барр. и 94.75 тыс. барр. соответственно, что согласуется с реальными средними значениями (расхождение менее 1%). Это означает, что текущий средний уровень существенно ниже точки самоокупаемости, рассчитанной из условий техзадания - в среднем 111.1 тыс. баррелей на скважину. Иными словами, бессистемный выбор скважин для разработки однозначно не окупит затрат.\n",
    "\n",
    "Анализ возможной прибыли методом Bootstrap выявил, что второй регион (`geo_data1`) лидирует и по средней возможной выручке (535 млн р.), и по минимизации рисков (вероятность убытков менее 0,5%). Следом идет первый регион со средним потенциалом прибыли в 461 млн и рисками менее 5%. Третий регион отстает по всем параметрам (330 млн р. при уровне риска выше 13%).\n",
    "\n",
    "Исходя из этого, второй регион видится наиболее перспективным для разработки (если, конечно, он не введен как искусственная контрольная группа - некоторые особенности распределения данных поволяют предполагать это, - в таком случае следует предпочесть первый регион). Только второй регион соответствует требованию техзадания об уровне риска ниже 2,5%."
   ]
  },
  {
   "cell_type": "markdown",
   "metadata": {},
   "source": [
    "### Рекомендации по заполнению данных"
   ]
  },
  {
   "cell_type": "markdown",
   "metadata": {},
   "source": [
    "Данные качественные, полностью готовые к использованию. Некоторые вопросы вызывают лишь повторные значения `id` скажин, но эти несколько строк не оказывают сколько-нибудь существенного влияния на качество моделей.\n",
    "\n",
    "Аномалии распределения, очевидно, вызваны предобработкой и, по-видимому, причины их появления разглашаться не будут, как и практический смысл признаков."
   ]
  }
 ],
 "metadata": {
  "ExecuteTimeLog": [
   {
    "duration": 760,
    "start_time": "2021-11-22T10:08:25.110Z"
   },
   {
    "duration": 456,
    "start_time": "2021-11-22T10:11:28.071Z"
   },
   {
    "duration": 23,
    "start_time": "2021-11-22T10:11:41.492Z"
   },
   {
    "duration": 18,
    "start_time": "2021-11-22T10:11:56.071Z"
   },
   {
    "duration": 12,
    "start_time": "2021-11-22T10:11:57.238Z"
   },
   {
    "duration": 53,
    "start_time": "2021-11-22T10:12:32.196Z"
   },
   {
    "duration": 22,
    "start_time": "2021-11-22T10:13:37.879Z"
   },
   {
    "duration": 12,
    "start_time": "2021-11-22T10:13:43.158Z"
   },
   {
    "duration": 13,
    "start_time": "2021-11-22T10:13:55.987Z"
   },
   {
    "duration": 14,
    "start_time": "2021-11-22T10:13:56.486Z"
   },
   {
    "duration": 66,
    "start_time": "2021-11-22T10:14:14.677Z"
   },
   {
    "duration": 64,
    "start_time": "2021-11-22T10:14:25.552Z"
   },
   {
    "duration": 66,
    "start_time": "2021-11-22T10:14:26.059Z"
   },
   {
    "duration": 22,
    "start_time": "2021-11-22T10:22:54.393Z"
   },
   {
    "duration": 21,
    "start_time": "2021-11-22T10:23:07.205Z"
   },
   {
    "duration": 29,
    "start_time": "2021-11-22T10:23:16.908Z"
   },
   {
    "duration": 628,
    "start_time": "2021-11-22T10:23:29.473Z"
   },
   {
    "duration": 31,
    "start_time": "2021-11-22T10:24:10.997Z"
   },
   {
    "duration": 37,
    "start_time": "2021-11-22T10:24:38.330Z"
   },
   {
    "duration": 40,
    "start_time": "2021-11-22T10:29:49.733Z"
   },
   {
    "duration": 52,
    "start_time": "2021-11-22T10:38:37.335Z"
   },
   {
    "duration": 53,
    "start_time": "2021-11-22T10:38:38.000Z"
   },
   {
    "duration": 697,
    "start_time": "2021-11-22T10:39:42.211Z"
   },
   {
    "duration": 349,
    "start_time": "2021-11-22T10:39:53.540Z"
   },
   {
    "duration": 409,
    "start_time": "2021-11-22T10:40:03.092Z"
   },
   {
    "duration": 364,
    "start_time": "2021-11-22T10:40:11.932Z"
   },
   {
    "duration": 385,
    "start_time": "2021-11-22T10:40:18.348Z"
   },
   {
    "duration": 309,
    "start_time": "2021-11-22T10:41:17.695Z"
   },
   {
    "duration": 4,
    "start_time": "2021-11-22T10:41:33.114Z"
   },
   {
    "duration": 302,
    "start_time": "2021-11-22T10:41:37.219Z"
   },
   {
    "duration": 4,
    "start_time": "2021-11-22T10:41:50.433Z"
   },
   {
    "duration": 1705,
    "start_time": "2021-11-22T10:41:53.539Z"
   },
   {
    "duration": 2397,
    "start_time": "2021-11-22T10:42:33.034Z"
   },
   {
    "duration": 1246,
    "start_time": "2021-11-22T10:42:46.207Z"
   },
   {
    "duration": 1215,
    "start_time": "2021-11-22T10:42:56.684Z"
   },
   {
    "duration": 1156,
    "start_time": "2021-11-22T10:43:03.981Z"
   },
   {
    "duration": 97,
    "start_time": "2021-11-22T10:53:15.390Z"
   },
   {
    "duration": 1375,
    "start_time": "2021-11-22T10:53:22.383Z"
   },
   {
    "duration": 931,
    "start_time": "2021-11-22T10:53:38.609Z"
   },
   {
    "duration": 1291,
    "start_time": "2021-11-22T10:53:56.575Z"
   },
   {
    "duration": 1356,
    "start_time": "2021-11-22T10:54:53.106Z"
   },
   {
    "duration": 1187,
    "start_time": "2021-11-22T10:55:09.678Z"
   },
   {
    "duration": 26825,
    "start_time": "2021-11-22T11:13:21.418Z"
   },
   {
    "duration": 26535,
    "start_time": "2021-11-22T11:18:15.911Z"
   },
   {
    "duration": 27107,
    "start_time": "2021-11-22T11:18:57.092Z"
   },
   {
    "duration": 26141,
    "start_time": "2021-11-22T11:19:24.202Z"
   },
   {
    "duration": 37864,
    "start_time": "2021-11-22T11:23:57.746Z"
   },
   {
    "duration": 39584,
    "start_time": "2021-11-22T11:33:10.122Z"
   },
   {
    "duration": 83036,
    "start_time": "2021-11-22T11:46:07.351Z"
   },
   {
    "duration": 320,
    "start_time": "2021-11-22T11:49:51.312Z"
   },
   {
    "duration": 437,
    "start_time": "2021-11-22T11:50:39.512Z"
   },
   {
    "duration": 2844,
    "start_time": "2021-11-22T11:52:07.658Z"
   },
   {
    "duration": -666,
    "start_time": "2021-11-22T11:52:54.416Z"
   },
   {
    "duration": 392,
    "start_time": "2021-11-22T12:11:44.321Z"
   },
   {
    "duration": 4,
    "start_time": "2021-11-22T12:11:47.372Z"
   },
   {
    "duration": 18,
    "start_time": "2021-11-22T12:11:47.836Z"
   },
   {
    "duration": 93,
    "start_time": "2021-11-22T12:14:03.090Z"
   },
   {
    "duration": 6,
    "start_time": "2021-11-22T12:14:12.638Z"
   },
   {
    "duration": 323,
    "start_time": "2021-11-22T12:23:35.497Z"
   },
   {
    "duration": 4,
    "start_time": "2021-11-22T12:25:08.115Z"
   },
   {
    "duration": 1137,
    "start_time": "2021-11-22T12:26:30.673Z"
   },
   {
    "duration": 1731,
    "start_time": "2021-11-22T12:26:43.598Z"
   },
   {
    "duration": 522,
    "start_time": "2021-11-22T12:26:45.333Z"
   },
   {
    "duration": 18,
    "start_time": "2021-11-22T12:26:45.858Z"
   },
   {
    "duration": 13,
    "start_time": "2021-11-22T12:26:45.879Z"
   },
   {
    "duration": 15,
    "start_time": "2021-11-22T12:26:45.894Z"
   },
   {
    "duration": 63,
    "start_time": "2021-11-22T12:26:45.912Z"
   },
   {
    "duration": 54,
    "start_time": "2021-11-22T12:26:45.977Z"
   },
   {
    "duration": 51,
    "start_time": "2021-11-22T12:26:46.034Z"
   },
   {
    "duration": 17,
    "start_time": "2021-11-22T12:26:46.088Z"
   },
   {
    "duration": 25,
    "start_time": "2021-11-22T12:26:46.108Z"
   },
   {
    "duration": 14,
    "start_time": "2021-11-22T12:26:46.136Z"
   },
   {
    "duration": 46,
    "start_time": "2021-11-22T12:26:46.153Z"
   },
   {
    "duration": 67,
    "start_time": "2021-11-22T12:26:46.202Z"
   },
   {
    "duration": 87,
    "start_time": "2021-11-22T12:26:46.272Z"
   },
   {
    "duration": 85479,
    "start_time": "2021-11-22T12:26:46.362Z"
   },
   {
    "duration": 1378,
    "start_time": "2021-11-22T12:28:11.845Z"
   },
   {
    "duration": 5,
    "start_time": "2021-11-22T12:28:13.230Z"
   },
   {
    "duration": 32,
    "start_time": "2021-11-22T12:28:13.238Z"
   },
   {
    "duration": 33,
    "start_time": "2021-11-22T12:28:13.273Z"
   },
   {
    "duration": 45,
    "start_time": "2021-11-22T12:28:13.308Z"
   },
   {
    "duration": 33,
    "start_time": "2021-11-22T12:28:13.355Z"
   },
   {
    "duration": 473,
    "start_time": "2021-11-22T12:28:13.390Z"
   },
   {
    "duration": -586,
    "start_time": "2021-11-22T12:28:14.452Z"
   },
   {
    "duration": -588,
    "start_time": "2021-11-22T12:28:14.455Z"
   },
   {
    "duration": 292,
    "start_time": "2021-11-22T12:29:09.738Z"
   },
   {
    "duration": 289,
    "start_time": "2021-11-22T12:29:24.220Z"
   },
   {
    "duration": 5,
    "start_time": "2021-11-22T12:29:41.247Z"
   },
   {
    "duration": 18,
    "start_time": "2021-11-22T12:29:51.744Z"
   },
   {
    "duration": 320,
    "start_time": "2021-11-22T12:30:30.419Z"
   },
   {
    "duration": 318,
    "start_time": "2021-11-22T12:30:39.614Z"
   },
   {
    "duration": 16,
    "start_time": "2021-11-22T12:31:12.583Z"
   },
   {
    "duration": 19,
    "start_time": "2021-11-22T12:31:20.708Z"
   },
   {
    "duration": 29,
    "start_time": "2021-11-22T12:31:26.407Z"
   },
   {
    "duration": 159,
    "start_time": "2021-11-22T12:32:20.812Z"
   },
   {
    "duration": 204,
    "start_time": "2021-11-22T12:32:33.392Z"
   },
   {
    "duration": 371,
    "start_time": "2021-11-22T12:34:09.581Z"
   },
   {
    "duration": 203,
    "start_time": "2021-11-22T12:34:16.855Z"
   },
   {
    "duration": 196,
    "start_time": "2021-11-22T12:34:33.688Z"
   },
   {
    "duration": 310,
    "start_time": "2021-11-22T12:34:57.888Z"
   },
   {
    "duration": 320,
    "start_time": "2021-11-22T12:36:34.623Z"
   },
   {
    "duration": 377,
    "start_time": "2021-11-22T12:37:52.325Z"
   },
   {
    "duration": 382,
    "start_time": "2021-11-22T12:38:01.732Z"
   },
   {
    "duration": 341,
    "start_time": "2021-11-22T12:38:34.075Z"
   },
   {
    "duration": 1745,
    "start_time": "2021-11-22T12:43:27.994Z"
   },
   {
    "duration": 1523,
    "start_time": "2021-11-22T12:43:38.479Z"
   },
   {
    "duration": 482,
    "start_time": "2021-11-22T12:43:40.005Z"
   },
   {
    "duration": 4,
    "start_time": "2021-11-22T12:43:40.490Z"
   },
   {
    "duration": 540,
    "start_time": "2021-11-22T12:43:40.497Z"
   },
   {
    "duration": 13,
    "start_time": "2021-11-22T12:43:41.040Z"
   },
   {
    "duration": 46,
    "start_time": "2021-11-22T12:43:41.055Z"
   },
   {
    "duration": 84366,
    "start_time": "2021-11-22T12:43:41.103Z"
   },
   {
    "duration": 100,
    "start_time": "2021-11-22T12:45:05.472Z"
   },
   {
    "duration": -914,
    "start_time": "2021-11-22T12:45:06.488Z"
   },
   {
    "duration": -913,
    "start_time": "2021-11-22T12:45:06.489Z"
   },
   {
    "duration": -913,
    "start_time": "2021-11-22T12:45:06.490Z"
   },
   {
    "duration": -913,
    "start_time": "2021-11-22T12:45:06.491Z"
   },
   {
    "duration": -912,
    "start_time": "2021-11-22T12:45:06.492Z"
   },
   {
    "duration": -912,
    "start_time": "2021-11-22T12:45:06.493Z"
   },
   {
    "duration": 1388,
    "start_time": "2021-11-22T12:45:19.235Z"
   },
   {
    "duration": 4,
    "start_time": "2021-11-22T12:45:22.672Z"
   },
   {
    "duration": 4,
    "start_time": "2021-11-22T12:45:23.252Z"
   },
   {
    "duration": 39,
    "start_time": "2021-11-22T12:45:23.731Z"
   },
   {
    "duration": 4,
    "start_time": "2021-11-22T12:45:25.421Z"
   },
   {
    "duration": 1093,
    "start_time": "2021-11-22T12:47:36.954Z"
   },
   {
    "duration": 1500,
    "start_time": "2021-11-22T12:47:49.668Z"
   },
   {
    "duration": 474,
    "start_time": "2021-11-22T12:47:51.170Z"
   },
   {
    "duration": 4,
    "start_time": "2021-11-22T12:47:51.648Z"
   },
   {
    "duration": 500,
    "start_time": "2021-11-22T12:47:51.655Z"
   },
   {
    "duration": 13,
    "start_time": "2021-11-22T12:47:52.158Z"
   },
   {
    "duration": 67,
    "start_time": "2021-11-22T12:47:52.173Z"
   },
   {
    "duration": 86902,
    "start_time": "2021-11-22T12:47:52.243Z"
   },
   {
    "duration": 1428,
    "start_time": "2021-11-22T12:49:19.149Z"
   },
   {
    "duration": 4,
    "start_time": "2021-11-22T12:49:20.579Z"
   },
   {
    "duration": 6,
    "start_time": "2021-11-22T12:49:20.585Z"
   },
   {
    "duration": 54,
    "start_time": "2021-11-22T12:49:20.594Z"
   },
   {
    "duration": 3,
    "start_time": "2021-11-22T12:49:20.651Z"
   },
   {
    "duration": 11,
    "start_time": "2021-11-22T12:49:20.656Z"
   },
   {
    "duration": 504,
    "start_time": "2021-11-22T12:49:20.670Z"
   },
   {
    "duration": 1176,
    "start_time": "2021-11-22T12:52:14.696Z"
   },
   {
    "duration": 4,
    "start_time": "2021-11-22T12:52:37.051Z"
   },
   {
    "duration": 38,
    "start_time": "2021-11-22T12:52:40.883Z"
   },
   {
    "duration": 761,
    "start_time": "2021-11-22T12:59:45.783Z"
   },
   {
    "duration": 285,
    "start_time": "2021-11-22T13:00:11.842Z"
   },
   {
    "duration": 4,
    "start_time": "2021-11-22T13:00:17.337Z"
   },
   {
    "duration": 46,
    "start_time": "2021-11-22T13:00:17.895Z"
   },
   {
    "duration": 37,
    "start_time": "2021-11-22T13:00:26.741Z"
   },
   {
    "duration": 17,
    "start_time": "2021-11-22T13:00:47.675Z"
   },
   {
    "duration": 303,
    "start_time": "2021-11-22T13:03:58.850Z"
   },
   {
    "duration": 305,
    "start_time": "2021-11-22T13:04:14.346Z"
   },
   {
    "duration": 292,
    "start_time": "2021-11-22T13:05:36.136Z"
   },
   {
    "duration": 52,
    "start_time": "2021-11-22T13:06:23.407Z"
   },
   {
    "duration": 5,
    "start_time": "2021-11-22T13:12:53.670Z"
   },
   {
    "duration": 46,
    "start_time": "2021-11-22T13:17:12.579Z"
   },
   {
    "duration": 5,
    "start_time": "2021-11-22T13:17:20.865Z"
   },
   {
    "duration": 5,
    "start_time": "2021-11-22T13:17:28.862Z"
   },
   {
    "duration": 5,
    "start_time": "2021-11-22T13:20:27.491Z"
   },
   {
    "duration": 338,
    "start_time": "2021-11-22T13:20:30.367Z"
   },
   {
    "duration": 45,
    "start_time": "2021-11-22T13:20:44.254Z"
   },
   {
    "duration": 5,
    "start_time": "2021-11-22T13:21:01.880Z"
   },
   {
    "duration": 3,
    "start_time": "2021-11-22T13:21:28.248Z"
   },
   {
    "duration": 6,
    "start_time": "2021-11-22T13:22:38.708Z"
   },
   {
    "duration": 49,
    "start_time": "2021-11-22T13:22:42.204Z"
   },
   {
    "duration": 6,
    "start_time": "2021-11-22T13:23:54.532Z"
   },
   {
    "duration": 46,
    "start_time": "2021-11-22T13:23:55.432Z"
   },
   {
    "duration": 6,
    "start_time": "2021-11-22T13:24:39.539Z"
   },
   {
    "duration": 6,
    "start_time": "2021-11-22T13:26:05.496Z"
   },
   {
    "duration": 47,
    "start_time": "2021-11-22T13:26:06.330Z"
   },
   {
    "duration": 341,
    "start_time": "2021-11-22T13:27:41.161Z"
   },
   {
    "duration": 7,
    "start_time": "2021-11-22T13:28:15.702Z"
   },
   {
    "duration": 46,
    "start_time": "2021-11-22T13:28:16.626Z"
   },
   {
    "duration": 180,
    "start_time": "2021-11-22T13:28:19.152Z"
   },
   {
    "duration": 271,
    "start_time": "2021-11-22T13:29:21.562Z"
   },
   {
    "duration": 7,
    "start_time": "2021-11-22T13:32:53.913Z"
   },
   {
    "duration": 7,
    "start_time": "2021-11-22T13:38:39.399Z"
   },
   {
    "duration": 46,
    "start_time": "2021-11-22T13:38:40.159Z"
   },
   {
    "duration": 371,
    "start_time": "2021-11-22T13:38:40.997Z"
   },
   {
    "duration": 258,
    "start_time": "2021-11-22T13:38:50.971Z"
   },
   {
    "duration": 4,
    "start_time": "2021-11-22T13:49:28.685Z"
   },
   {
    "duration": 294,
    "start_time": "2021-11-22T13:52:10.564Z"
   },
   {
    "duration": 140,
    "start_time": "2021-11-22T13:52:21.899Z"
   },
   {
    "duration": 5,
    "start_time": "2021-11-22T13:54:24.001Z"
   },
   {
    "duration": 6,
    "start_time": "2021-11-22T13:54:41.323Z"
   },
   {
    "duration": 7,
    "start_time": "2021-11-22T14:01:02.925Z"
   },
   {
    "duration": 4,
    "start_time": "2021-11-22T14:04:30.919Z"
   },
   {
    "duration": 8,
    "start_time": "2021-11-22T14:04:38.091Z"
   },
   {
    "duration": 68,
    "start_time": "2021-11-22T14:04:40.509Z"
   },
   {
    "duration": 193,
    "start_time": "2021-11-22T14:04:46.341Z"
   },
   {
    "duration": 776,
    "start_time": "2021-11-22T14:07:27.395Z"
   },
   {
    "duration": 92,
    "start_time": "2021-11-22T14:08:18.926Z"
   },
   {
    "duration": 1860,
    "start_time": "2021-11-22T14:08:28.179Z"
   },
   {
    "duration": 1788,
    "start_time": "2021-11-22T14:09:30.114Z"
   },
   {
    "duration": 1446,
    "start_time": "2021-11-22T14:10:43.802Z"
   },
   {
    "duration": 1951,
    "start_time": "2021-11-22T14:11:02.417Z"
   },
   {
    "duration": 1360,
    "start_time": "2021-11-22T14:11:13.023Z"
   },
   {
    "duration": 1296,
    "start_time": "2021-11-22T14:11:34.789Z"
   },
   {
    "duration": 1412,
    "start_time": "2021-11-22T14:11:39.211Z"
   },
   {
    "duration": 109,
    "start_time": "2021-11-22T14:11:52.322Z"
   },
   {
    "duration": 1294,
    "start_time": "2021-11-22T14:11:55.562Z"
   },
   {
    "duration": 1448,
    "start_time": "2021-11-22T14:12:02.236Z"
   },
   {
    "duration": 1405,
    "start_time": "2021-11-22T14:12:41.237Z"
   },
   {
    "duration": 1850,
    "start_time": "2021-11-22T14:12:45.661Z"
   },
   {
    "duration": 1952,
    "start_time": "2021-11-22T14:14:08.077Z"
   },
   {
    "duration": 282,
    "start_time": "2021-11-22T14:32:47.550Z"
   },
   {
    "duration": 291,
    "start_time": "2021-11-22T14:36:27.805Z"
   },
   {
    "duration": 28,
    "start_time": "2021-11-22T14:36:48.505Z"
   },
   {
    "duration": 20,
    "start_time": "2021-11-22T14:37:37.678Z"
   },
   {
    "duration": 23,
    "start_time": "2021-11-22T14:37:41.810Z"
   },
   {
    "duration": 397,
    "start_time": "2021-11-22T14:38:19.415Z"
   },
   {
    "duration": 30,
    "start_time": "2021-11-22T14:39:23.743Z"
   },
   {
    "duration": 316,
    "start_time": "2021-11-22T14:40:34.622Z"
   },
   {
    "duration": 338,
    "start_time": "2021-11-22T14:41:10.583Z"
   },
   {
    "duration": 361,
    "start_time": "2021-11-22T14:41:16.841Z"
   },
   {
    "duration": 22,
    "start_time": "2021-11-22T14:41:44.871Z"
   },
   {
    "duration": 34,
    "start_time": "2021-11-22T14:41:48.866Z"
   },
   {
    "duration": 35,
    "start_time": "2021-11-22T14:42:07.774Z"
   },
   {
    "duration": 36,
    "start_time": "2021-11-22T14:42:50.926Z"
   },
   {
    "duration": 33,
    "start_time": "2021-11-22T14:42:54.247Z"
   },
   {
    "duration": 5,
    "start_time": "2021-11-22T14:44:31.267Z"
   },
   {
    "duration": 25,
    "start_time": "2021-11-22T14:44:43.763Z"
   },
   {
    "duration": 6,
    "start_time": "2021-11-22T14:46:22.508Z"
   },
   {
    "duration": 1579,
    "start_time": "2021-11-22T14:46:24.313Z"
   },
   {
    "duration": 5,
    "start_time": "2021-11-22T14:46:36.809Z"
   },
   {
    "duration": 587,
    "start_time": "2021-11-22T14:46:37.461Z"
   },
   {
    "duration": 5,
    "start_time": "2021-11-22T14:51:47.575Z"
   },
   {
    "duration": 27,
    "start_time": "2021-11-22T14:51:48.616Z"
   },
   {
    "duration": 6,
    "start_time": "2021-11-22T14:52:26.187Z"
   },
   {
    "duration": 27,
    "start_time": "2021-11-22T14:52:26.625Z"
   },
   {
    "duration": 6,
    "start_time": "2021-11-22T14:52:40.271Z"
   },
   {
    "duration": 26,
    "start_time": "2021-11-22T14:52:40.297Z"
   },
   {
    "duration": 5,
    "start_time": "2021-11-22T14:53:58.620Z"
   },
   {
    "duration": 110,
    "start_time": "2021-11-22T14:54:00.080Z"
   },
   {
    "duration": 107,
    "start_time": "2021-11-22T14:54:15.843Z"
   },
   {
    "duration": 4,
    "start_time": "2021-11-22T14:54:30.576Z"
   },
   {
    "duration": 913,
    "start_time": "2021-11-22T14:54:36.197Z"
   },
   {
    "duration": 1554,
    "start_time": "2021-11-22T14:54:44.700Z"
   },
   {
    "duration": 456,
    "start_time": "2021-11-22T14:54:46.256Z"
   },
   {
    "duration": 3,
    "start_time": "2021-11-22T14:54:46.715Z"
   },
   {
    "duration": 474,
    "start_time": "2021-11-22T14:54:46.721Z"
   },
   {
    "duration": 13,
    "start_time": "2021-11-22T14:54:47.197Z"
   },
   {
    "duration": 52,
    "start_time": "2021-11-22T14:54:47.213Z"
   },
   {
    "duration": 80610,
    "start_time": "2021-11-22T14:54:47.268Z"
   },
   {
    "duration": 1379,
    "start_time": "2021-11-22T14:56:07.882Z"
   },
   {
    "duration": 1878,
    "start_time": "2021-11-22T14:56:09.264Z"
   },
   {
    "duration": 5,
    "start_time": "2021-11-22T14:56:11.144Z"
   },
   {
    "duration": 7,
    "start_time": "2021-11-22T14:56:11.151Z"
   },
   {
    "duration": 13,
    "start_time": "2021-11-22T14:56:11.160Z"
   },
   {
    "duration": 470,
    "start_time": "2021-11-22T14:56:11.175Z"
   },
   {
    "duration": -884,
    "start_time": "2021-11-22T14:56:12.532Z"
   },
   {
    "duration": -887,
    "start_time": "2021-11-22T14:56:12.537Z"
   },
   {
    "duration": -888,
    "start_time": "2021-11-22T14:56:12.539Z"
   },
   {
    "duration": -889,
    "start_time": "2021-11-22T14:56:12.542Z"
   },
   {
    "duration": -890,
    "start_time": "2021-11-22T14:56:12.544Z"
   },
   {
    "duration": 4,
    "start_time": "2021-11-22T14:58:01.604Z"
   },
   {
    "duration": 8,
    "start_time": "2021-11-22T14:58:01.991Z"
   },
   {
    "duration": 623,
    "start_time": "2021-11-22T14:58:03.225Z"
   },
   {
    "duration": 38,
    "start_time": "2021-11-22T14:58:31.935Z"
   },
   {
    "duration": 4,
    "start_time": "2021-11-22T14:59:06.625Z"
   },
   {
    "duration": 589,
    "start_time": "2021-11-22T14:59:07.499Z"
   },
   {
    "duration": 642,
    "start_time": "2021-11-22T14:59:13.837Z"
   },
   {
    "duration": 1553,
    "start_time": "2021-11-22T14:59:27.288Z"
   },
   {
    "duration": 449,
    "start_time": "2021-11-22T14:59:28.844Z"
   },
   {
    "duration": 3,
    "start_time": "2021-11-22T14:59:29.296Z"
   },
   {
    "duration": 496,
    "start_time": "2021-11-22T14:59:29.302Z"
   },
   {
    "duration": 28,
    "start_time": "2021-11-22T14:59:29.801Z"
   },
   {
    "duration": 39,
    "start_time": "2021-11-22T14:59:29.832Z"
   },
   {
    "duration": 81948,
    "start_time": "2021-11-22T14:59:29.873Z"
   },
   {
    "duration": 1408,
    "start_time": "2021-11-22T15:00:51.831Z"
   },
   {
    "duration": 1986,
    "start_time": "2021-11-22T15:00:53.242Z"
   },
   {
    "duration": 4,
    "start_time": "2021-11-22T15:00:55.230Z"
   },
   {
    "duration": 16,
    "start_time": "2021-11-22T15:00:55.236Z"
   },
   {
    "duration": 12,
    "start_time": "2021-11-22T15:00:55.254Z"
   },
   {
    "duration": 100,
    "start_time": "2021-11-22T15:00:55.268Z"
   },
   {
    "duration": 3,
    "start_time": "2021-11-22T15:00:55.370Z"
   },
   {
    "duration": 20,
    "start_time": "2021-11-22T15:00:55.375Z"
   },
   {
    "duration": 80,
    "start_time": "2021-11-22T15:00:55.397Z"
   },
   {
    "duration": 254,
    "start_time": "2021-11-22T15:00:55.479Z"
   },
   {
    "duration": 537,
    "start_time": "2021-11-22T15:00:55.738Z"
   },
   {
    "duration": 1585,
    "start_time": "2021-11-22T15:01:35.373Z"
   },
   {
    "duration": 461,
    "start_time": "2021-11-22T15:01:36.960Z"
   },
   {
    "duration": 3,
    "start_time": "2021-11-22T15:01:37.424Z"
   },
   {
    "duration": 458,
    "start_time": "2021-11-22T15:01:37.430Z"
   },
   {
    "duration": 13,
    "start_time": "2021-11-22T15:01:37.890Z"
   },
   {
    "duration": 59,
    "start_time": "2021-11-22T15:01:37.906Z"
   },
   {
    "duration": 80067,
    "start_time": "2021-11-22T15:01:37.968Z"
   },
   {
    "duration": 1347,
    "start_time": "2021-11-22T15:02:58.040Z"
   },
   {
    "duration": 1846,
    "start_time": "2021-11-22T15:02:59.390Z"
   },
   {
    "duration": 5,
    "start_time": "2021-11-22T15:03:01.239Z"
   },
   {
    "duration": 25,
    "start_time": "2021-11-22T15:03:01.247Z"
   },
   {
    "duration": 146,
    "start_time": "2021-11-22T15:03:01.275Z"
   },
   {
    "duration": -911,
    "start_time": "2021-11-22T15:03:02.335Z"
   },
   {
    "duration": -915,
    "start_time": "2021-11-22T15:03:02.341Z"
   },
   {
    "duration": -914,
    "start_time": "2021-11-22T15:03:02.342Z"
   },
   {
    "duration": -928,
    "start_time": "2021-11-22T15:03:02.358Z"
   },
   {
    "duration": -927,
    "start_time": "2021-11-22T15:03:02.359Z"
   },
   {
    "duration": -926,
    "start_time": "2021-11-22T15:03:02.360Z"
   },
   {
    "duration": 115,
    "start_time": "2021-11-22T15:03:41.700Z"
   },
   {
    "duration": 426,
    "start_time": "2021-11-22T15:03:42.663Z"
   },
   {
    "duration": 4,
    "start_time": "2021-11-22T15:03:55.695Z"
   },
   {
    "duration": 32,
    "start_time": "2021-11-22T15:03:56.583Z"
   },
   {
    "duration": 3,
    "start_time": "2021-11-22T15:03:58.329Z"
   },
   {
    "duration": 8,
    "start_time": "2021-11-22T15:03:58.878Z"
   },
   {
    "duration": 69,
    "start_time": "2021-11-22T15:04:00.020Z"
   },
   {
    "duration": 241,
    "start_time": "2021-11-22T15:04:01.689Z"
   },
   {
    "duration": 8,
    "start_time": "2021-11-22T17:05:52.913Z"
   },
   {
    "duration": 1888,
    "start_time": "2021-11-22T17:06:24.042Z"
   },
   {
    "duration": 749,
    "start_time": "2021-11-22T17:06:25.934Z"
   },
   {
    "duration": 5,
    "start_time": "2021-11-22T17:06:26.692Z"
   },
   {
    "duration": 540,
    "start_time": "2021-11-22T17:06:26.699Z"
   },
   {
    "duration": 17,
    "start_time": "2021-11-22T17:06:27.242Z"
   },
   {
    "duration": 74,
    "start_time": "2021-11-22T17:06:27.262Z"
   },
   {
    "duration": 88500,
    "start_time": "2021-11-22T17:06:27.338Z"
   },
   {
    "duration": 1477,
    "start_time": "2021-11-22T17:07:55.843Z"
   },
   {
    "duration": 1918,
    "start_time": "2021-11-22T17:07:57.330Z"
   },
   {
    "duration": 5,
    "start_time": "2021-11-22T17:07:59.251Z"
   },
   {
    "duration": 13,
    "start_time": "2021-11-22T17:07:59.259Z"
   },
   {
    "duration": 8,
    "start_time": "2021-11-22T17:07:59.275Z"
   },
   {
    "duration": 69,
    "start_time": "2021-11-22T17:07:59.285Z"
   },
   {
    "duration": 3,
    "start_time": "2021-11-22T17:07:59.356Z"
   },
   {
    "duration": 13,
    "start_time": "2021-11-22T17:07:59.363Z"
   },
   {
    "duration": 901,
    "start_time": "2021-11-22T17:07:59.379Z"
   },
   {
    "duration": 4038,
    "start_time": "2021-11-22T17:07:56.246Z"
   },
   {
    "duration": 4039,
    "start_time": "2021-11-22T17:07:56.247Z"
   },
   {
    "duration": 5,
    "start_time": "2021-11-22T17:09:40.808Z"
   },
   {
    "duration": 72,
    "start_time": "2021-11-22T17:09:49.072Z"
   },
   {
    "duration": 7917,
    "start_time": "2021-11-22T17:09:51.612Z"
   },
   {
    "duration": 7264,
    "start_time": "2021-11-22T17:11:08.371Z"
   },
   {
    "duration": 8,
    "start_time": "2021-11-22T17:11:56.482Z"
   },
   {
    "duration": 545,
    "start_time": "2021-11-22T17:11:57.381Z"
   },
   {
    "duration": 653,
    "start_time": "2021-11-22T17:12:21.132Z"
   },
   {
    "duration": 9,
    "start_time": "2021-11-22T17:12:24.021Z"
   },
   {
    "duration": 78,
    "start_time": "2021-11-22T17:12:24.701Z"
   },
   {
    "duration": 7855,
    "start_time": "2021-11-22T17:12:27.273Z"
   },
   {
    "duration": 8034,
    "start_time": "2021-11-22T17:13:16.396Z"
   },
   {
    "duration": 91,
    "start_time": "2021-11-22T17:13:28.638Z"
   },
   {
    "duration": 362,
    "start_time": "2021-11-22T17:16:53.355Z"
   },
   {
    "duration": 38,
    "start_time": "2021-11-22T17:17:04.198Z"
   },
   {
    "duration": 21,
    "start_time": "2021-11-22T17:17:29.316Z"
   },
   {
    "duration": 6,
    "start_time": "2021-11-22T17:39:00.509Z"
   },
   {
    "duration": 5,
    "start_time": "2021-11-22T18:39:19.247Z"
   },
   {
    "duration": 4,
    "start_time": "2021-11-22T18:40:28.560Z"
   },
   {
    "duration": 5,
    "start_time": "2021-11-22T18:40:35.674Z"
   },
   {
    "duration": 5,
    "start_time": "2021-11-22T18:42:21.288Z"
   },
   {
    "duration": 5,
    "start_time": "2021-11-22T18:43:00.975Z"
   },
   {
    "duration": 4,
    "start_time": "2021-11-22T18:44:22.787Z"
   },
   {
    "duration": 5,
    "start_time": "2021-11-22T18:46:47.206Z"
   },
   {
    "duration": 5,
    "start_time": "2021-11-22T18:47:07.167Z"
   },
   {
    "duration": 7,
    "start_time": "2021-11-22T19:16:56.011Z"
   },
   {
    "duration": 7,
    "start_time": "2021-11-22T19:17:58.052Z"
   },
   {
    "duration": 406,
    "start_time": "2021-11-22T19:20:34.910Z"
   },
   {
    "duration": 640,
    "start_time": "2021-11-22T19:20:41.230Z"
   },
   {
    "duration": 934,
    "start_time": "2021-11-22T19:21:02.094Z"
   },
   {
    "duration": 281,
    "start_time": "2021-11-22T19:23:26.385Z"
   },
   {
    "duration": 90,
    "start_time": "2021-11-22T19:23:29.725Z"
   },
   {
    "duration": 348,
    "start_time": "2021-11-22T19:23:30.084Z"
   },
   {
    "duration": 285,
    "start_time": "2021-11-22T19:23:38.455Z"
   },
   {
    "duration": 1570,
    "start_time": "2021-11-22T19:23:50.089Z"
   },
   {
    "duration": 473,
    "start_time": "2021-11-22T19:23:51.661Z"
   },
   {
    "duration": 4,
    "start_time": "2021-11-22T19:23:52.137Z"
   },
   {
    "duration": 503,
    "start_time": "2021-11-22T19:23:52.144Z"
   },
   {
    "duration": 13,
    "start_time": "2021-11-22T19:23:52.649Z"
   },
   {
    "duration": 72,
    "start_time": "2021-11-22T19:23:52.664Z"
   },
   {
    "duration": 79866,
    "start_time": "2021-11-22T19:23:52.739Z"
   },
   {
    "duration": 1426,
    "start_time": "2021-11-22T19:25:12.608Z"
   },
   {
    "duration": 1912,
    "start_time": "2021-11-22T19:25:14.040Z"
   },
   {
    "duration": 4,
    "start_time": "2021-11-22T19:25:15.955Z"
   },
   {
    "duration": 9,
    "start_time": "2021-11-22T19:25:15.961Z"
   },
   {
    "duration": 11,
    "start_time": "2021-11-22T19:25:15.973Z"
   },
   {
    "duration": 65,
    "start_time": "2021-11-22T19:25:15.986Z"
   },
   {
    "duration": 4,
    "start_time": "2021-11-22T19:25:16.053Z"
   },
   {
    "duration": 10,
    "start_time": "2021-11-22T19:25:16.059Z"
   },
   {
    "duration": 110,
    "start_time": "2021-11-22T19:25:16.072Z"
   },
   {
    "duration": 8545,
    "start_time": "2021-11-22T19:25:16.184Z"
   },
   {
    "duration": 106,
    "start_time": "2021-11-22T19:25:24.731Z"
   },
   {
    "duration": 5,
    "start_time": "2021-11-22T19:25:24.932Z"
   },
   {
    "duration": 11,
    "start_time": "2021-11-22T19:25:25.031Z"
   },
   {
    "duration": 507,
    "start_time": "2021-11-22T19:25:25.045Z"
   },
   {
    "duration": 4110,
    "start_time": "2021-11-22T19:25:21.445Z"
   },
   {
    "duration": 10,
    "start_time": "2021-11-22T19:28:07.759Z"
   },
   {
    "duration": 277,
    "start_time": "2021-11-22T19:28:08.975Z"
   },
   {
    "duration": 282,
    "start_time": "2021-11-22T19:28:16.845Z"
   },
   {
    "duration": 295,
    "start_time": "2021-11-22T19:28:27.736Z"
   },
   {
    "duration": 258,
    "start_time": "2021-11-22T19:28:41.820Z"
   },
   {
    "duration": 8,
    "start_time": "2021-11-22T19:34:04.459Z"
   },
   {
    "duration": 71,
    "start_time": "2021-11-22T19:34:07.265Z"
   },
   {
    "duration": 8,
    "start_time": "2021-11-22T19:34:34.419Z"
   },
   {
    "duration": 533,
    "start_time": "2021-11-22T19:34:43.028Z"
   },
   {
    "duration": 273,
    "start_time": "2021-11-22T19:35:00.682Z"
   },
   {
    "duration": 267,
    "start_time": "2021-11-22T19:35:41.885Z"
   },
   {
    "duration": 289,
    "start_time": "2021-11-22T19:36:00.701Z"
   },
   {
    "duration": 260,
    "start_time": "2021-11-22T19:36:29.762Z"
   },
   {
    "duration": 6,
    "start_time": "2021-11-22T19:36:34.617Z"
   },
   {
    "duration": 10,
    "start_time": "2021-11-22T19:38:42.791Z"
   },
   {
    "duration": 5,
    "start_time": "2021-11-22T19:38:45.032Z"
   },
   {
    "duration": 66,
    "start_time": "2021-11-22T19:38:49.714Z"
   },
   {
    "duration": 258,
    "start_time": "2021-11-22T19:38:55.860Z"
   },
   {
    "duration": 854,
    "start_time": "2021-11-22T19:39:21.132Z"
   },
   {
    "duration": 287,
    "start_time": "2021-11-22T19:39:34.159Z"
   },
   {
    "duration": 6,
    "start_time": "2021-11-22T19:39:53.449Z"
   },
   {
    "duration": 9,
    "start_time": "2021-11-22T19:40:14.262Z"
   },
   {
    "duration": 74,
    "start_time": "2021-11-22T19:40:15.192Z"
   },
   {
    "duration": 7726,
    "start_time": "2021-11-22T19:40:16.806Z"
   },
   {
    "duration": 101,
    "start_time": "2021-11-22T19:40:30.431Z"
   },
   {
    "duration": 16,
    "start_time": "2021-11-22T19:42:27.646Z"
   },
   {
    "duration": 1583,
    "start_time": "2021-11-22T19:44:04.487Z"
   },
   {
    "duration": 471,
    "start_time": "2021-11-22T19:44:06.072Z"
   },
   {
    "duration": 4,
    "start_time": "2021-11-22T19:44:06.546Z"
   },
   {
    "duration": 508,
    "start_time": "2021-11-22T19:44:06.552Z"
   },
   {
    "duration": 17,
    "start_time": "2021-11-22T19:44:07.062Z"
   },
   {
    "duration": 159,
    "start_time": "2021-11-22T19:44:07.082Z"
   },
   {
    "duration": 80049,
    "start_time": "2021-11-22T19:44:07.244Z"
   },
   {
    "duration": 1380,
    "start_time": "2021-11-22T19:45:27.297Z"
   },
   {
    "duration": 1844,
    "start_time": "2021-11-22T19:45:28.680Z"
   },
   {
    "duration": 5,
    "start_time": "2021-11-22T19:45:30.529Z"
   },
   {
    "duration": 13,
    "start_time": "2021-11-22T19:45:30.537Z"
   },
   {
    "duration": 20,
    "start_time": "2021-11-22T19:45:30.552Z"
   },
   {
    "duration": 56,
    "start_time": "2021-11-22T19:45:30.574Z"
   },
   {
    "duration": 3,
    "start_time": "2021-11-22T19:45:30.633Z"
   },
   {
    "duration": 15,
    "start_time": "2021-11-22T19:45:30.638Z"
   },
   {
    "duration": 802,
    "start_time": "2021-11-22T19:45:30.655Z"
   },
   {
    "duration": 4108,
    "start_time": "2021-11-22T19:45:27.352Z"
   },
   {
    "duration": 4100,
    "start_time": "2021-11-22T19:45:27.362Z"
   },
   {
    "duration": 4102,
    "start_time": "2021-11-22T19:45:27.363Z"
   },
   {
    "duration": 4103,
    "start_time": "2021-11-22T19:45:27.364Z"
   },
   {
    "duration": 4104,
    "start_time": "2021-11-22T19:45:27.365Z"
   },
   {
    "duration": 12,
    "start_time": "2021-11-22T19:47:27.029Z"
   },
   {
    "duration": 64,
    "start_time": "2021-11-22T19:47:28.253Z"
   },
   {
    "duration": 7417,
    "start_time": "2021-11-22T19:47:30.117Z"
   },
   {
    "duration": 15,
    "start_time": "2021-11-22T19:48:58.546Z"
   },
   {
    "duration": 10,
    "start_time": "2021-11-22T19:56:15.663Z"
   },
   {
    "duration": 306,
    "start_time": "2021-11-22T19:59:20.184Z"
   },
   {
    "duration": 9,
    "start_time": "2021-11-22T19:59:24.500Z"
   },
   {
    "duration": 72,
    "start_time": "2021-11-22T19:59:26.913Z"
   },
   {
    "duration": 483,
    "start_time": "2021-11-22T19:59:28.241Z"
   },
   {
    "duration": 10,
    "start_time": "2021-11-22T19:59:41.344Z"
   },
   {
    "duration": 65,
    "start_time": "2021-11-22T19:59:42.101Z"
   },
   {
    "duration": 8449,
    "start_time": "2021-11-22T19:59:43.085Z"
   },
   {
    "duration": 4,
    "start_time": "2021-11-22T20:02:44.348Z"
   },
   {
    "duration": 6,
    "start_time": "2021-11-22T20:02:45.316Z"
   },
   {
    "duration": 250,
    "start_time": "2021-11-22T20:02:47.456Z"
   },
   {
    "duration": 117,
    "start_time": "2021-11-22T20:03:10.617Z"
   },
   {
    "duration": 248,
    "start_time": "2021-11-22T20:03:16.717Z"
   },
   {
    "duration": 203,
    "start_time": "2021-11-22T20:08:41.536Z"
   },
   {
    "duration": 265,
    "start_time": "2021-11-22T20:08:48.176Z"
   },
   {
    "duration": 9,
    "start_time": "2021-11-22T20:08:58.830Z"
   },
   {
    "duration": 100,
    "start_time": "2021-11-22T20:09:08.044Z"
   },
   {
    "duration": 10,
    "start_time": "2021-11-22T20:09:08.797Z"
   },
   {
    "duration": 604,
    "start_time": "2021-11-22T20:09:21.206Z"
   },
   {
    "duration": 410,
    "start_time": "2021-11-22T20:09:30.682Z"
   },
   {
    "duration": 367,
    "start_time": "2021-11-22T20:10:40.438Z"
   },
   {
    "duration": 293,
    "start_time": "2021-11-22T20:11:01.367Z"
   },
   {
    "duration": 337,
    "start_time": "2021-11-22T20:11:07.433Z"
   },
   {
    "duration": 685,
    "start_time": "2021-11-22T20:11:29.836Z"
   },
   {
    "duration": 569,
    "start_time": "2021-11-22T20:11:37.668Z"
   },
   {
    "duration": 648,
    "start_time": "2021-11-22T20:11:43.929Z"
   },
   {
    "duration": 586,
    "start_time": "2021-11-22T20:11:54.551Z"
   },
   {
    "duration": 1237,
    "start_time": "2021-11-22T20:12:01.391Z"
   },
   {
    "duration": 347,
    "start_time": "2021-11-22T20:12:15.426Z"
   },
   {
    "duration": 634,
    "start_time": "2021-11-22T20:14:03.952Z"
   },
   {
    "duration": 1892,
    "start_time": "2021-11-22T20:14:17.762Z"
   },
   {
    "duration": 316,
    "start_time": "2021-11-22T20:14:41.213Z"
   },
   {
    "duration": 320,
    "start_time": "2021-11-22T20:15:00.269Z"
   },
   {
    "duration": 329,
    "start_time": "2021-11-22T20:15:44.510Z"
   },
   {
    "duration": 409,
    "start_time": "2021-11-22T20:16:06.571Z"
   },
   {
    "duration": 550,
    "start_time": "2021-11-22T20:16:22.406Z"
   },
   {
    "duration": 325,
    "start_time": "2021-11-22T20:16:48.288Z"
   },
   {
    "duration": 319,
    "start_time": "2021-11-22T20:17:00.100Z"
   },
   {
    "duration": 416,
    "start_time": "2021-11-22T20:17:05.370Z"
   },
   {
    "duration": 460,
    "start_time": "2021-11-22T20:17:11.042Z"
   },
   {
    "duration": 387,
    "start_time": "2021-11-22T20:17:59.742Z"
   },
   {
    "duration": 365,
    "start_time": "2021-11-22T20:18:07.066Z"
   },
   {
    "duration": 5,
    "start_time": "2021-11-22T20:31:33.437Z"
   },
   {
    "duration": 81,
    "start_time": "2021-11-22T20:31:44.087Z"
   },
   {
    "duration": 565,
    "start_time": "2021-11-22T20:32:48.473Z"
   },
   {
    "duration": 10,
    "start_time": "2021-11-22T20:33:41.668Z"
   },
   {
    "duration": 70,
    "start_time": "2021-11-22T20:33:46.853Z"
   },
   {
    "duration": 8109,
    "start_time": "2021-11-22T20:33:46.926Z"
   },
   {
    "duration": 94,
    "start_time": "2021-11-22T20:33:55.038Z"
   },
   {
    "duration": 100,
    "start_time": "2021-11-22T20:33:55.137Z"
   },
   {
    "duration": 292,
    "start_time": "2021-11-22T20:33:55.239Z"
   },
   {
    "duration": 470,
    "start_time": "2021-11-22T20:33:55.534Z"
   },
   {
    "duration": 4,
    "start_time": "2021-11-22T20:33:56.006Z"
   },
   {
    "duration": 551,
    "start_time": "2021-11-22T20:33:56.012Z"
   },
   {
    "duration": 5,
    "start_time": "2021-11-22T20:34:18.538Z"
   },
   {
    "duration": 326,
    "start_time": "2021-11-22T20:34:19.305Z"
   },
   {
    "duration": 5,
    "start_time": "2021-11-22T20:37:53.436Z"
   },
   {
    "duration": 599,
    "start_time": "2021-11-22T20:37:53.965Z"
   },
   {
    "duration": 5,
    "start_time": "2021-11-22T20:38:03.066Z"
   },
   {
    "duration": 376,
    "start_time": "2021-11-22T20:38:03.454Z"
   },
   {
    "duration": 4,
    "start_time": "2021-11-22T20:39:42.973Z"
   },
   {
    "duration": 295,
    "start_time": "2021-11-22T20:39:43.337Z"
   },
   {
    "duration": 4,
    "start_time": "2021-11-22T20:40:10.929Z"
   },
   {
    "duration": 302,
    "start_time": "2021-11-22T20:40:11.629Z"
   },
   {
    "duration": 6,
    "start_time": "2021-11-22T20:40:22.597Z"
   },
   {
    "duration": 225,
    "start_time": "2021-11-22T20:40:23.610Z"
   },
   {
    "duration": 4,
    "start_time": "2021-11-22T20:40:37.629Z"
   },
   {
    "duration": 268,
    "start_time": "2021-11-22T20:40:38.263Z"
   },
   {
    "duration": 5,
    "start_time": "2021-11-22T20:40:48.832Z"
   },
   {
    "duration": 210,
    "start_time": "2021-11-22T20:40:49.723Z"
   },
   {
    "duration": 4,
    "start_time": "2021-11-22T20:42:14.142Z"
   },
   {
    "duration": 279,
    "start_time": "2021-11-22T20:42:14.551Z"
   },
   {
    "duration": 5,
    "start_time": "2021-11-22T20:42:43.343Z"
   },
   {
    "duration": 297,
    "start_time": "2021-11-22T20:42:43.633Z"
   },
   {
    "duration": 4,
    "start_time": "2021-11-22T20:43:16.051Z"
   },
   {
    "duration": 6,
    "start_time": "2021-11-22T20:44:11.143Z"
   },
   {
    "duration": 278,
    "start_time": "2021-11-22T20:44:12.357Z"
   },
   {
    "duration": 5,
    "start_time": "2021-11-22T20:48:41.800Z"
   },
   {
    "duration": 235,
    "start_time": "2021-11-22T20:48:42.497Z"
   },
   {
    "duration": 5,
    "start_time": "2021-11-22T20:51:11.565Z"
   },
   {
    "duration": 10,
    "start_time": "2021-11-22T20:55:20.261Z"
   },
   {
    "duration": 257,
    "start_time": "2021-11-22T20:55:54.041Z"
   },
   {
    "duration": 12,
    "start_time": "2021-11-22T20:55:59.925Z"
   },
   {
    "duration": 70,
    "start_time": "2021-11-22T20:56:01.150Z"
   },
   {
    "duration": 4779,
    "start_time": "2021-11-22T20:56:04.856Z"
   },
   {
    "duration": 5,
    "start_time": "2021-11-22T20:56:17.961Z"
   },
   {
    "duration": 312,
    "start_time": "2021-11-22T20:56:18.927Z"
   },
   {
    "duration": 5,
    "start_time": "2021-11-22T20:56:51.689Z"
   },
   {
    "duration": 480,
    "start_time": "2021-11-22T20:56:52.448Z"
   },
   {
    "duration": 5,
    "start_time": "2021-11-22T20:57:43.185Z"
   },
   {
    "duration": 337,
    "start_time": "2021-11-22T20:57:43.795Z"
   },
   {
    "duration": 6,
    "start_time": "2021-11-22T20:58:06.625Z"
   },
   {
    "duration": 394,
    "start_time": "2021-11-22T20:58:06.846Z"
   },
   {
    "duration": 11,
    "start_time": "2021-11-22T21:04:37.650Z"
   },
   {
    "duration": 81,
    "start_time": "2021-11-22T21:04:38.339Z"
   },
   {
    "duration": 7026,
    "start_time": "2021-11-22T21:04:39.411Z"
   },
   {
    "duration": 11,
    "start_time": "2021-11-22T21:05:04.648Z"
   },
   {
    "duration": 67,
    "start_time": "2021-11-22T21:05:05.474Z"
   },
   {
    "duration": 6922,
    "start_time": "2021-11-22T21:05:07.009Z"
   },
   {
    "duration": 6,
    "start_time": "2021-11-22T21:05:22.481Z"
   },
   {
    "duration": 226,
    "start_time": "2021-11-22T21:05:23.909Z"
   },
   {
    "duration": 5,
    "start_time": "2021-11-22T21:06:34.720Z"
   },
   {
    "duration": 216,
    "start_time": "2021-11-22T21:06:39.724Z"
   },
   {
    "duration": 4,
    "start_time": "2021-11-22T21:06:54.965Z"
   },
   {
    "duration": 187,
    "start_time": "2021-11-22T21:06:55.249Z"
   },
   {
    "duration": 1575,
    "start_time": "2021-11-23T06:32:54.991Z"
   },
   {
    "duration": 1302,
    "start_time": "2021-11-23T06:32:56.568Z"
   },
   {
    "duration": 4,
    "start_time": "2021-11-23T06:32:57.873Z"
   },
   {
    "duration": 565,
    "start_time": "2021-11-23T06:32:57.880Z"
   },
   {
    "duration": 13,
    "start_time": "2021-11-23T06:32:58.448Z"
   },
   {
    "duration": 77,
    "start_time": "2021-11-23T06:32:58.463Z"
   },
   {
    "duration": 82482,
    "start_time": "2021-11-23T06:32:58.542Z"
   },
   {
    "duration": 1450,
    "start_time": "2021-11-23T06:34:21.031Z"
   },
   {
    "duration": 2079,
    "start_time": "2021-11-23T06:34:22.484Z"
   },
   {
    "duration": 5,
    "start_time": "2021-11-23T06:34:24.565Z"
   },
   {
    "duration": 18,
    "start_time": "2021-11-23T06:34:24.572Z"
   },
   {
    "duration": 12,
    "start_time": "2021-11-23T06:34:24.593Z"
   },
   {
    "duration": 53,
    "start_time": "2021-11-23T06:34:24.607Z"
   },
   {
    "duration": 4,
    "start_time": "2021-11-23T06:34:24.662Z"
   },
   {
    "duration": 12,
    "start_time": "2021-11-23T06:34:24.668Z"
   },
   {
    "duration": 111,
    "start_time": "2021-11-23T06:34:24.683Z"
   },
   {
    "duration": 7538,
    "start_time": "2021-11-23T06:34:24.797Z"
   },
   {
    "duration": 96,
    "start_time": "2021-11-23T06:34:32.338Z"
   },
   {
    "duration": 113,
    "start_time": "2021-11-23T06:34:32.439Z"
   },
   {
    "duration": 183,
    "start_time": "2021-11-23T06:34:32.555Z"
   },
   {
    "duration": 477,
    "start_time": "2021-11-23T06:34:32.832Z"
   },
   {
    "duration": 19,
    "start_time": "2021-11-23T06:34:33.311Z"
   },
   {
    "duration": 296,
    "start_time": "2021-11-23T06:34:33.334Z"
   },
   {
    "duration": 98,
    "start_time": "2021-11-23T06:34:33.634Z"
   },
   {
    "duration": 5,
    "start_time": "2021-11-23T06:42:23.120Z"
   },
   {
    "duration": 8,
    "start_time": "2021-11-23T06:43:04.350Z"
   },
   {
    "duration": 5,
    "start_time": "2021-11-23T06:43:08.856Z"
   },
   {
    "duration": 8,
    "start_time": "2021-11-23T06:43:22.300Z"
   },
   {
    "duration": 756,
    "start_time": "2021-11-23T06:45:06.559Z"
   },
   {
    "duration": 9,
    "start_time": "2021-11-23T06:45:19.870Z"
   },
   {
    "duration": 544,
    "start_time": "2021-11-23T06:45:20.617Z"
   },
   {
    "duration": 8,
    "start_time": "2021-11-23T06:45:55.760Z"
   },
   {
    "duration": 6381,
    "start_time": "2021-11-23T06:45:57.079Z"
   },
   {
    "duration": 95,
    "start_time": "2021-11-23T06:46:24.655Z"
   },
   {
    "duration": 6418,
    "start_time": "2021-11-23T06:46:25.030Z"
   },
   {
    "duration": 8,
    "start_time": "2021-11-23T06:46:32.560Z"
   },
   {
    "duration": 6491,
    "start_time": "2021-11-23T06:46:33.075Z"
   },
   {
    "duration": 95,
    "start_time": "2021-11-23T06:46:55.170Z"
   },
   {
    "duration": 7617,
    "start_time": "2021-11-23T06:46:55.645Z"
   },
   {
    "duration": 8,
    "start_time": "2021-11-23T06:47:22.445Z"
   },
   {
    "duration": 17586,
    "start_time": "2021-11-23T06:47:23.230Z"
   },
   {
    "duration": 4,
    "start_time": "2021-11-23T06:49:28.866Z"
   },
   {
    "duration": 167,
    "start_time": "2021-11-23T06:49:29.570Z"
   },
   {
    "duration": 7,
    "start_time": "2021-11-23T06:49:31.459Z"
   },
   {
    "duration": 17067,
    "start_time": "2021-11-23T06:49:31.469Z"
   },
   {
    "duration": 8,
    "start_time": "2021-11-23T06:50:45.705Z"
   },
   {
    "duration": 17031,
    "start_time": "2021-11-23T06:50:47.714Z"
   },
   {
    "duration": 8,
    "start_time": "2021-11-23T06:51:38.550Z"
   },
   {
    "duration": 16139,
    "start_time": "2021-11-23T06:51:39.270Z"
   },
   {
    "duration": 9,
    "start_time": "2021-11-23T06:52:44.680Z"
   },
   {
    "duration": 699,
    "start_time": "2021-11-23T06:52:45.389Z"
   },
   {
    "duration": 14,
    "start_time": "2021-11-23T06:53:02.490Z"
   },
   {
    "duration": 9,
    "start_time": "2021-11-23T06:53:05.489Z"
   },
   {
    "duration": 17070,
    "start_time": "2021-11-23T06:53:05.970Z"
   },
   {
    "duration": 3582,
    "start_time": "2021-11-23T07:04:50.020Z"
   },
   {
    "duration": -124,
    "start_time": "2021-11-23T07:04:53.732Z"
   },
   {
    "duration": 6283,
    "start_time": "2021-11-23T07:04:54.490Z"
   },
   {
    "duration": -104,
    "start_time": "2021-11-23T07:05:00.882Z"
   },
   {
    "duration": 9,
    "start_time": "2021-11-23T07:05:03.564Z"
   },
   {
    "duration": 16207,
    "start_time": "2021-11-23T07:05:06.754Z"
   },
   {
    "duration": 8,
    "start_time": "2021-11-23T07:10:57.990Z"
   },
   {
    "duration": 9,
    "start_time": "2021-11-23T07:11:48.385Z"
   },
   {
    "duration": 16812,
    "start_time": "2021-11-23T07:11:48.825Z"
   },
   {
    "duration": 8,
    "start_time": "2021-11-23T07:12:11.291Z"
   },
   {
    "duration": 16987,
    "start_time": "2021-11-23T07:12:16.850Z"
   },
   {
    "duration": 9,
    "start_time": "2021-11-23T07:13:10.630Z"
   },
   {
    "duration": 17410,
    "start_time": "2021-11-23T07:13:11.660Z"
   },
   {
    "duration": 9,
    "start_time": "2021-11-23T07:13:56.100Z"
   },
   {
    "duration": 18721,
    "start_time": "2021-11-23T07:13:56.515Z"
   },
   {
    "duration": 9,
    "start_time": "2021-11-23T07:14:55.530Z"
   },
   {
    "duration": 17407,
    "start_time": "2021-11-23T07:14:55.735Z"
   },
   {
    "duration": 9,
    "start_time": "2021-11-23T07:15:50.430Z"
   },
   {
    "duration": 17924,
    "start_time": "2021-11-23T07:15:51.431Z"
   },
   {
    "duration": 9,
    "start_time": "2021-11-23T07:16:31.165Z"
   },
   {
    "duration": 17443,
    "start_time": "2021-11-23T07:16:34.820Z"
   },
   {
    "duration": 9,
    "start_time": "2021-11-23T07:19:01.361Z"
   },
   {
    "duration": 6083,
    "start_time": "2021-11-23T07:19:01.730Z"
   },
   {
    "duration": 9,
    "start_time": "2021-11-23T07:19:24.780Z"
   },
   {
    "duration": 6236,
    "start_time": "2021-11-23T07:19:24.950Z"
   },
   {
    "duration": 9,
    "start_time": "2021-11-23T07:23:05.360Z"
   },
   {
    "duration": 17943,
    "start_time": "2021-11-23T07:23:05.524Z"
   },
   {
    "duration": 9,
    "start_time": "2021-11-23T07:26:23.160Z"
   },
   {
    "duration": 17700,
    "start_time": "2021-11-23T07:26:40.740Z"
   },
   {
    "duration": 8,
    "start_time": "2021-11-23T07:29:16.110Z"
   },
   {
    "duration": 17831,
    "start_time": "2021-11-23T07:29:16.449Z"
   },
   {
    "duration": 9,
    "start_time": "2021-11-23T07:30:07.679Z"
   },
   {
    "duration": 17265,
    "start_time": "2021-11-23T07:30:08.039Z"
   },
   {
    "duration": 9,
    "start_time": "2021-11-23T07:31:57.675Z"
   },
   {
    "duration": 17455,
    "start_time": "2021-11-23T07:31:58.024Z"
   },
   {
    "duration": 8,
    "start_time": "2021-11-23T07:34:18.460Z"
   },
   {
    "duration": 17359,
    "start_time": "2021-11-23T07:34:18.635Z"
   },
   {
    "duration": 8,
    "start_time": "2021-11-23T07:39:25.546Z"
   },
   {
    "duration": 6240,
    "start_time": "2021-11-23T07:39:25.905Z"
   },
   {
    "duration": 4,
    "start_time": "2021-11-23T07:39:55.611Z"
   },
   {
    "duration": 9,
    "start_time": "2021-11-23T07:39:59.930Z"
   },
   {
    "duration": 6056,
    "start_time": "2021-11-23T07:40:00.251Z"
   },
   {
    "duration": 9,
    "start_time": "2021-11-23T07:48:31.211Z"
   },
   {
    "duration": 6406,
    "start_time": "2021-11-23T07:48:31.687Z"
   },
   {
    "duration": 9,
    "start_time": "2021-11-23T07:49:31.659Z"
   },
   {
    "duration": 6366,
    "start_time": "2021-11-23T07:49:31.670Z"
   },
   {
    "duration": 393,
    "start_time": "2021-11-23T07:52:31.766Z"
   },
   {
    "duration": 6330,
    "start_time": "2021-11-23T07:52:32.470Z"
   },
   {
    "duration": 11,
    "start_time": "2021-11-23T07:53:15.921Z"
   },
   {
    "duration": 18380,
    "start_time": "2021-11-23T07:53:16.925Z"
   },
   {
    "duration": 9,
    "start_time": "2021-11-23T07:56:19.962Z"
   },
   {
    "duration": 6202,
    "start_time": "2021-11-23T07:56:21.151Z"
   },
   {
    "duration": 11,
    "start_time": "2021-11-23T07:59:28.126Z"
   },
   {
    "duration": 6420,
    "start_time": "2021-11-23T07:59:29.985Z"
   },
   {
    "duration": 11,
    "start_time": "2021-11-23T08:01:15.233Z"
   },
   {
    "duration": 6234,
    "start_time": "2021-11-23T08:01:15.780Z"
   },
   {
    "duration": 91,
    "start_time": "2021-11-23T08:01:41.302Z"
   },
   {
    "duration": 14,
    "start_time": "2021-11-23T08:01:46.926Z"
   },
   {
    "duration": 6543,
    "start_time": "2021-11-23T08:01:47.845Z"
   },
   {
    "duration": 372,
    "start_time": "2021-11-23T08:19:48.540Z"
   },
   {
    "duration": 350,
    "start_time": "2021-11-23T08:19:59.181Z"
   },
   {
    "duration": 340,
    "start_time": "2021-11-23T08:20:08.490Z"
   },
   {
    "duration": 366,
    "start_time": "2021-11-23T08:20:14.331Z"
   },
   {
    "duration": 326,
    "start_time": "2021-11-23T08:20:48.686Z"
   },
   {
    "duration": 361,
    "start_time": "2021-11-23T08:21:00.139Z"
   },
   {
    "duration": 43,
    "start_time": "2021-11-23T08:21:40.730Z"
   },
   {
    "duration": 40,
    "start_time": "2021-11-23T08:22:14.565Z"
   },
   {
    "duration": 27305,
    "start_time": "2021-11-23T08:27:34.981Z"
   },
   {
    "duration": 5,
    "start_time": "2021-11-23T08:30:23.540Z"
   },
   {
    "duration": 1423,
    "start_time": "2021-11-23T08:30:32.870Z"
   },
   {
    "duration": 17,
    "start_time": "2021-11-23T08:31:22.405Z"
   },
   {
    "duration": 7,
    "start_time": "2021-11-23T08:32:50.270Z"
   },
   {
    "duration": 1553,
    "start_time": "2021-11-23T08:32:51.321Z"
   },
   {
    "duration": 5,
    "start_time": "2021-11-23T08:33:09.351Z"
   },
   {
    "duration": 2469,
    "start_time": "2021-11-23T08:33:09.731Z"
   },
   {
    "duration": 5,
    "start_time": "2021-11-23T08:33:22.201Z"
   },
   {
    "duration": 97,
    "start_time": "2021-11-23T08:33:55.121Z"
   },
   {
    "duration": 2504,
    "start_time": "2021-11-23T08:33:55.490Z"
   },
   {
    "duration": 5,
    "start_time": "2021-11-23T08:33:59.706Z"
   },
   {
    "duration": 2654,
    "start_time": "2021-11-23T08:33:59.971Z"
   },
   {
    "duration": 6,
    "start_time": "2021-11-23T08:34:30.731Z"
   },
   {
    "duration": 2615,
    "start_time": "2021-11-23T08:34:32.171Z"
   },
   {
    "duration": 392,
    "start_time": "2021-11-23T08:35:32.840Z"
   },
   {
    "duration": 531,
    "start_time": "2021-11-23T08:35:57.550Z"
   },
   {
    "duration": 738,
    "start_time": "2021-11-23T08:36:09.941Z"
   },
   {
    "duration": 412,
    "start_time": "2021-11-23T08:36:20.511Z"
   },
   {
    "duration": 2506,
    "start_time": "2021-11-23T08:46:48.590Z"
   },
   {
    "duration": 457,
    "start_time": "2021-11-23T08:46:51.099Z"
   },
   {
    "duration": 29194,
    "start_time": "2021-11-23T08:46:51.559Z"
   },
   {
    "duration": 2624,
    "start_time": "2021-11-23T08:52:10.080Z"
   },
   {
    "duration": 416,
    "start_time": "2021-11-23T08:52:12.706Z"
   },
   {
    "duration": 29108,
    "start_time": "2021-11-23T08:52:13.129Z"
   },
   {
    "duration": 6,
    "start_time": "2021-11-23T08:57:26.480Z"
   },
   {
    "duration": 2729,
    "start_time": "2021-11-23T08:57:26.695Z"
   },
   {
    "duration": 6,
    "start_time": "2021-11-23T08:57:55.720Z"
   },
   {
    "duration": 3232,
    "start_time": "2021-11-23T08:57:55.906Z"
   },
   {
    "duration": 1479,
    "start_time": "2021-11-23T09:32:16.487Z"
   },
   {
    "duration": 488,
    "start_time": "2021-11-23T09:32:17.969Z"
   },
   {
    "duration": 4,
    "start_time": "2021-11-23T09:32:18.460Z"
   },
   {
    "duration": 527,
    "start_time": "2021-11-23T09:32:18.468Z"
   },
   {
    "duration": 64,
    "start_time": "2021-11-23T09:32:18.997Z"
   },
   {
    "duration": 8,
    "start_time": "2021-11-23T09:32:19.064Z"
   },
   {
    "duration": 2527,
    "start_time": "2021-11-23T09:32:19.074Z"
   },
   {
    "duration": 409,
    "start_time": "2021-11-23T09:32:21.604Z"
   },
   {
    "duration": 26638,
    "start_time": "2021-11-23T09:32:22.016Z"
   },
   {
    "duration": 2624,
    "start_time": "2021-11-23T09:32:48.656Z"
   },
   {
    "duration": 427,
    "start_time": "2021-11-23T09:32:51.282Z"
   },
   {
    "duration": 26363,
    "start_time": "2021-11-23T09:32:51.711Z"
   },
   {
    "duration": 2924,
    "start_time": "2021-11-23T09:33:18.077Z"
   },
   {
    "duration": 406,
    "start_time": "2021-11-23T09:33:21.004Z"
   },
   {
    "duration": 27816,
    "start_time": "2021-11-23T09:33:21.413Z"
   },
   {
    "duration": 4,
    "start_time": "2021-11-23T09:33:49.231Z"
   },
   {
    "duration": 11,
    "start_time": "2021-11-23T09:33:49.238Z"
   },
   {
    "duration": 88,
    "start_time": "2021-11-23T09:33:49.251Z"
   },
   {
    "duration": -413,
    "start_time": "2021-11-23T09:33:49.755Z"
   },
   {
    "duration": -414,
    "start_time": "2021-11-23T09:33:49.757Z"
   },
   {
    "duration": -413,
    "start_time": "2021-11-23T09:33:49.758Z"
   },
   {
    "duration": -414,
    "start_time": "2021-11-23T09:33:49.760Z"
   },
   {
    "duration": -414,
    "start_time": "2021-11-23T09:33:49.762Z"
   },
   {
    "duration": -415,
    "start_time": "2021-11-23T09:33:49.764Z"
   },
   {
    "duration": -414,
    "start_time": "2021-11-23T09:33:49.765Z"
   },
   {
    "duration": -415,
    "start_time": "2021-11-23T09:33:49.767Z"
   },
   {
    "duration": -415,
    "start_time": "2021-11-23T09:33:49.769Z"
   },
   {
    "duration": -415,
    "start_time": "2021-11-23T09:33:49.770Z"
   },
   {
    "duration": -415,
    "start_time": "2021-11-23T09:33:49.772Z"
   },
   {
    "duration": -415,
    "start_time": "2021-11-23T09:33:49.773Z"
   },
   {
    "duration": -415,
    "start_time": "2021-11-23T09:33:49.775Z"
   },
   {
    "duration": 5,
    "start_time": "2021-11-23T09:36:08.647Z"
   },
   {
    "duration": 32,
    "start_time": "2021-11-23T09:36:09.847Z"
   },
   {
    "duration": 4,
    "start_time": "2021-11-23T09:36:14.367Z"
   },
   {
    "duration": 14,
    "start_time": "2021-11-23T09:36:15.088Z"
   },
   {
    "duration": 72,
    "start_time": "2021-11-23T09:36:17.222Z"
   },
   {
    "duration": 10243,
    "start_time": "2021-11-23T09:36:19.288Z"
   },
   {
    "duration": 11,
    "start_time": "2021-11-23T09:36:43.273Z"
   },
   {
    "duration": 70,
    "start_time": "2021-11-23T09:36:44.078Z"
   },
   {
    "duration": 11333,
    "start_time": "2021-11-23T09:36:45.502Z"
   },
   {
    "duration": 5,
    "start_time": "2021-11-23T09:52:57.237Z"
   },
   {
    "duration": 5,
    "start_time": "2021-11-23T09:52:58.349Z"
   },
   {
    "duration": 130,
    "start_time": "2021-11-23T09:53:00.003Z"
   },
   {
    "duration": 392,
    "start_time": "2021-11-23T09:53:05.687Z"
   },
   {
    "duration": 5,
    "start_time": "2021-11-23T09:53:10.938Z"
   },
   {
    "duration": 204,
    "start_time": "2021-11-23T09:53:11.737Z"
   },
   {
    "duration": 12,
    "start_time": "2021-11-23T09:53:12.887Z"
   },
   {
    "duration": 6493,
    "start_time": "2021-11-23T09:53:13.722Z"
   },
   {
    "duration": 9,
    "start_time": "2021-11-23T09:53:32.646Z"
   },
   {
    "duration": 9,
    "start_time": "2021-11-23T09:53:51.670Z"
   },
   {
    "duration": 18421,
    "start_time": "2021-11-23T09:53:51.683Z"
   },
   {
    "duration": 18,
    "start_time": "2021-11-23T09:54:34.823Z"
   },
   {
    "duration": 6507,
    "start_time": "2021-11-23T09:54:35.027Z"
   },
   {
    "duration": 349,
    "start_time": "2021-11-23T09:54:51.008Z"
   },
   {
    "duration": 6310,
    "start_time": "2021-11-23T09:54:51.673Z"
   },
   {
    "duration": 11,
    "start_time": "2021-11-23T09:54:59.887Z"
   },
   {
    "duration": 10,
    "start_time": "2021-11-23T09:55:24.213Z"
   },
   {
    "duration": 18964,
    "start_time": "2021-11-23T09:55:24.398Z"
   },
   {
    "duration": 86,
    "start_time": "2021-11-23T09:56:11.403Z"
   },
   {
    "duration": 18103,
    "start_time": "2021-11-23T09:56:11.557Z"
   },
   {
    "duration": 9,
    "start_time": "2021-11-23T09:56:30.768Z"
   },
   {
    "duration": 18154,
    "start_time": "2021-11-23T09:56:30.908Z"
   },
   {
    "duration": 1582,
    "start_time": "2021-11-23T09:57:40.163Z"
   },
   {
    "duration": 502,
    "start_time": "2021-11-23T09:57:41.747Z"
   },
   {
    "duration": 4,
    "start_time": "2021-11-23T09:57:42.252Z"
   },
   {
    "duration": 506,
    "start_time": "2021-11-23T09:57:42.259Z"
   },
   {
    "duration": 64,
    "start_time": "2021-11-23T09:57:42.768Z"
   },
   {
    "duration": 7,
    "start_time": "2021-11-23T09:57:42.834Z"
   },
   {
    "duration": 2566,
    "start_time": "2021-11-23T09:57:42.844Z"
   },
   {
    "duration": 427,
    "start_time": "2021-11-23T09:57:45.415Z"
   },
   {
    "duration": 27358,
    "start_time": "2021-11-23T09:57:45.846Z"
   },
   {
    "duration": 2669,
    "start_time": "2021-11-23T09:58:13.206Z"
   },
   {
    "duration": 462,
    "start_time": "2021-11-23T09:58:15.878Z"
   },
   {
    "duration": 27894,
    "start_time": "2021-11-23T09:58:16.342Z"
   },
   {
    "duration": 2864,
    "start_time": "2021-11-23T09:58:44.239Z"
   },
   {
    "duration": 426,
    "start_time": "2021-11-23T09:58:47.106Z"
   },
   {
    "duration": 27830,
    "start_time": "2021-11-23T09:58:47.535Z"
   },
   {
    "duration": 4,
    "start_time": "2021-11-23T09:59:15.368Z"
   },
   {
    "duration": 7,
    "start_time": "2021-11-23T09:59:15.374Z"
   },
   {
    "duration": 53,
    "start_time": "2021-11-23T09:59:15.383Z"
   },
   {
    "duration": 29,
    "start_time": "2021-11-23T09:59:15.439Z"
   },
   {
    "duration": 3,
    "start_time": "2021-11-23T09:59:15.471Z"
   },
   {
    "duration": 12,
    "start_time": "2021-11-23T09:59:15.476Z"
   },
   {
    "duration": 109,
    "start_time": "2021-11-23T09:59:15.490Z"
   },
   {
    "duration": 6145,
    "start_time": "2021-11-23T09:59:15.603Z"
   },
   {
    "duration": 5,
    "start_time": "2021-11-23T09:59:21.834Z"
   },
   {
    "duration": 105,
    "start_time": "2021-11-23T09:59:21.843Z"
   },
   {
    "duration": 181,
    "start_time": "2021-11-23T09:59:21.950Z"
   },
   {
    "duration": 475,
    "start_time": "2021-11-23T09:59:22.135Z"
   },
   {
    "duration": 5,
    "start_time": "2021-11-23T09:59:22.612Z"
   },
   {
    "duration": 117,
    "start_time": "2021-11-23T09:59:22.632Z"
   },
   {
    "duration": 101,
    "start_time": "2021-11-23T09:59:22.831Z"
   },
   {
    "duration": 18424,
    "start_time": "2021-11-23T09:59:22.937Z"
   },
   {
    "duration": 1527,
    "start_time": "2021-11-23T10:00:24.242Z"
   },
   {
    "duration": 507,
    "start_time": "2021-11-23T10:00:25.771Z"
   },
   {
    "duration": 4,
    "start_time": "2021-11-23T10:00:26.282Z"
   },
   {
    "duration": 507,
    "start_time": "2021-11-23T10:00:26.288Z"
   },
   {
    "duration": 60,
    "start_time": "2021-11-23T10:00:26.798Z"
   },
   {
    "duration": 27,
    "start_time": "2021-11-23T10:00:26.861Z"
   },
   {
    "duration": 2633,
    "start_time": "2021-11-23T10:00:26.891Z"
   },
   {
    "duration": 402,
    "start_time": "2021-11-23T10:00:29.529Z"
   },
   {
    "duration": 28706,
    "start_time": "2021-11-23T10:00:29.936Z"
   },
   {
    "duration": 2846,
    "start_time": "2021-11-23T10:00:58.645Z"
   },
   {
    "duration": 433,
    "start_time": "2021-11-23T10:01:01.493Z"
   },
   {
    "duration": 28092,
    "start_time": "2021-11-23T10:01:01.928Z"
   },
   {
    "duration": 2778,
    "start_time": "2021-11-23T10:01:30.023Z"
   },
   {
    "duration": 426,
    "start_time": "2021-11-23T10:01:32.804Z"
   },
   {
    "duration": 29563,
    "start_time": "2021-11-23T10:01:33.233Z"
   },
   {
    "duration": 3,
    "start_time": "2021-11-23T10:02:02.799Z"
   },
   {
    "duration": 23,
    "start_time": "2021-11-23T10:02:02.806Z"
   },
   {
    "duration": 12,
    "start_time": "2021-11-23T10:02:02.832Z"
   },
   {
    "duration": 127,
    "start_time": "2021-11-23T10:02:02.847Z"
   },
   {
    "duration": 4,
    "start_time": "2021-11-23T10:02:02.976Z"
   },
   {
    "duration": 20,
    "start_time": "2021-11-23T10:02:02.983Z"
   },
   {
    "duration": 119,
    "start_time": "2021-11-23T10:02:03.005Z"
   },
   {
    "duration": 5918,
    "start_time": "2021-11-23T10:02:03.127Z"
   },
   {
    "duration": 93,
    "start_time": "2021-11-23T10:02:09.050Z"
   },
   {
    "duration": 32,
    "start_time": "2021-11-23T10:02:09.228Z"
   },
   {
    "duration": 271,
    "start_time": "2021-11-23T10:02:09.263Z"
   },
   {
    "duration": 416,
    "start_time": "2021-11-23T10:02:09.628Z"
   },
   {
    "duration": 5,
    "start_time": "2021-11-23T10:02:10.047Z"
   },
   {
    "duration": 191,
    "start_time": "2021-11-23T10:02:10.054Z"
   },
   {
    "duration": 89,
    "start_time": "2021-11-23T10:02:10.248Z"
   },
   {
    "duration": 19116,
    "start_time": "2021-11-23T10:02:10.342Z"
   },
   {
    "duration": 1486,
    "start_time": "2021-11-23T10:14:57.273Z"
   },
   {
    "duration": 475,
    "start_time": "2021-11-23T10:14:58.761Z"
   },
   {
    "duration": 3,
    "start_time": "2021-11-23T10:14:59.239Z"
   },
   {
    "duration": 497,
    "start_time": "2021-11-23T10:14:59.245Z"
   },
   {
    "duration": 40,
    "start_time": "2021-11-23T10:14:59.745Z"
   },
   {
    "duration": 6,
    "start_time": "2021-11-23T10:14:59.787Z"
   },
   {
    "duration": 2622,
    "start_time": "2021-11-23T10:14:59.795Z"
   },
   {
    "duration": 405,
    "start_time": "2021-11-23T10:15:02.428Z"
   },
   {
    "duration": 26329,
    "start_time": "2021-11-23T10:15:02.838Z"
   },
   {
    "duration": 2499,
    "start_time": "2021-11-23T10:15:29.171Z"
   },
   {
    "duration": 431,
    "start_time": "2021-11-23T10:15:31.673Z"
   },
   {
    "duration": 26573,
    "start_time": "2021-11-23T10:15:32.107Z"
   },
   {
    "duration": 2920,
    "start_time": "2021-11-23T10:15:58.683Z"
   },
   {
    "duration": 477,
    "start_time": "2021-11-23T10:16:01.605Z"
   },
   {
    "duration": 26320,
    "start_time": "2021-11-23T10:16:02.084Z"
   },
   {
    "duration": 3,
    "start_time": "2021-11-23T10:16:28.407Z"
   },
   {
    "duration": 22,
    "start_time": "2021-11-23T10:16:28.413Z"
   },
   {
    "duration": 48,
    "start_time": "2021-11-23T10:16:28.438Z"
   },
   {
    "duration": 3,
    "start_time": "2021-11-23T10:16:28.488Z"
   },
   {
    "duration": 38,
    "start_time": "2021-11-23T10:16:28.493Z"
   },
   {
    "duration": 71,
    "start_time": "2021-11-23T10:16:28.533Z"
   },
   {
    "duration": 2991,
    "start_time": "2021-11-23T10:16:28.606Z"
   },
   {
    "duration": -474,
    "start_time": "2021-11-23T10:16:32.073Z"
   },
   {
    "duration": -474,
    "start_time": "2021-11-23T10:16:32.075Z"
   },
   {
    "duration": -478,
    "start_time": "2021-11-23T10:16:32.080Z"
   },
   {
    "duration": -478,
    "start_time": "2021-11-23T10:16:32.082Z"
   },
   {
    "duration": -479,
    "start_time": "2021-11-23T10:16:32.084Z"
   },
   {
    "duration": -480,
    "start_time": "2021-11-23T10:16:32.086Z"
   },
   {
    "duration": -482,
    "start_time": "2021-11-23T10:16:32.089Z"
   },
   {
    "duration": -483,
    "start_time": "2021-11-23T10:16:32.091Z"
   },
   {
    "duration": 17,
    "start_time": "2021-11-23T10:19:23.155Z"
   },
   {
    "duration": 107,
    "start_time": "2021-11-23T10:19:24.178Z"
   },
   {
    "duration": 6815,
    "start_time": "2021-11-23T10:19:26.018Z"
   },
   {
    "duration": 4,
    "start_time": "2021-11-23T10:19:40.269Z"
   },
   {
    "duration": 10,
    "start_time": "2021-11-23T10:19:40.275Z"
   },
   {
    "duration": 25,
    "start_time": "2021-11-23T10:19:40.291Z"
   },
   {
    "duration": 419,
    "start_time": "2021-11-23T10:19:40.319Z"
   },
   {
    "duration": 5,
    "start_time": "2021-11-23T10:19:40.741Z"
   },
   {
    "duration": 32,
    "start_time": "2021-11-23T10:19:40.749Z"
   },
   {
    "duration": 8,
    "start_time": "2021-11-23T10:19:40.784Z"
   },
   {
    "duration": 20281,
    "start_time": "2021-11-23T10:19:40.795Z"
   },
   {
    "duration": 4,
    "start_time": "2021-11-23T10:26:38.973Z"
   },
   {
    "duration": 17,
    "start_time": "2021-11-23T10:27:09.048Z"
   },
   {
    "duration": 70,
    "start_time": "2021-11-23T10:27:10.299Z"
   },
   {
    "duration": 8272,
    "start_time": "2021-11-23T10:27:40.668Z"
   },
   {
    "duration": 13,
    "start_time": "2021-11-23T10:30:11.818Z"
   },
   {
    "duration": 69,
    "start_time": "2021-11-23T10:30:14.448Z"
   },
   {
    "duration": 5353,
    "start_time": "2021-11-23T10:30:15.383Z"
   },
   {
    "duration": 6,
    "start_time": "2021-11-23T11:10:01.108Z"
   },
   {
    "duration": 414,
    "start_time": "2021-11-23T11:12:38.054Z"
   },
   {
    "duration": 26,
    "start_time": "2021-11-23T11:18:45.198Z"
   },
   {
    "duration": 656,
    "start_time": "2021-11-23T11:19:38.532Z"
   },
   {
    "duration": 10,
    "start_time": "2021-11-23T11:25:07.558Z"
   },
   {
    "duration": 14,
    "start_time": "2021-11-23T11:26:52.528Z"
   },
   {
    "duration": 18611,
    "start_time": "2021-11-23T11:26:55.987Z"
   },
   {
    "duration": 39,
    "start_time": "2021-11-23T11:46:34.106Z"
   },
   {
    "duration": 4,
    "start_time": "2021-11-23T11:54:54.488Z"
   },
   {
    "duration": 909,
    "start_time": "2021-11-23T11:54:56.338Z"
   },
   {
    "duration": 5,
    "start_time": "2021-11-23T11:55:10.708Z"
   },
   {
    "duration": 28,
    "start_time": "2021-11-23T11:55:11.558Z"
   },
   {
    "duration": 1628,
    "start_time": "2021-11-23T11:57:17.293Z"
   },
   {
    "duration": 283,
    "start_time": "2021-11-23T11:57:36.548Z"
   },
   {
    "duration": 5,
    "start_time": "2021-11-23T11:58:21.122Z"
   },
   {
    "duration": 38,
    "start_time": "2021-11-23T11:58:22.573Z"
   },
   {
    "duration": 5,
    "start_time": "2021-11-23T11:58:34.945Z"
   },
   {
    "duration": 38,
    "start_time": "2021-11-23T11:58:35.918Z"
   },
   {
    "duration": 5,
    "start_time": "2021-11-23T11:58:54.218Z"
   },
   {
    "duration": 27,
    "start_time": "2021-11-23T11:58:55.288Z"
   },
   {
    "duration": 6,
    "start_time": "2021-11-23T11:59:42.138Z"
   },
   {
    "duration": 30,
    "start_time": "2021-11-23T11:59:42.947Z"
   },
   {
    "duration": 5,
    "start_time": "2021-11-23T12:01:42.388Z"
   },
   {
    "duration": 28,
    "start_time": "2021-11-23T12:01:43.088Z"
   },
   {
    "duration": 28,
    "start_time": "2021-11-23T12:17:48.008Z"
   },
   {
    "duration": 1512,
    "start_time": "2021-11-23T13:41:15.253Z"
   },
   {
    "duration": 484,
    "start_time": "2021-11-23T13:41:16.768Z"
   },
   {
    "duration": 5,
    "start_time": "2021-11-23T13:41:17.255Z"
   },
   {
    "duration": 535,
    "start_time": "2021-11-23T13:41:17.264Z"
   },
   {
    "duration": 59,
    "start_time": "2021-11-23T13:41:17.802Z"
   },
   {
    "duration": 11,
    "start_time": "2021-11-23T13:41:17.864Z"
   },
   {
    "duration": 2616,
    "start_time": "2021-11-23T13:41:17.877Z"
   },
   {
    "duration": 411,
    "start_time": "2021-11-23T13:41:20.497Z"
   },
   {
    "duration": 27843,
    "start_time": "2021-11-23T13:41:20.911Z"
   },
   {
    "duration": 3197,
    "start_time": "2021-11-23T13:41:48.757Z"
   },
   {
    "duration": 557,
    "start_time": "2021-11-23T13:41:51.958Z"
   },
   {
    "duration": 46068,
    "start_time": "2021-11-23T13:41:52.518Z"
   },
   {
    "duration": 2873,
    "start_time": "2021-11-23T13:42:38.589Z"
   },
   {
    "duration": 435,
    "start_time": "2021-11-23T13:42:41.464Z"
   },
   {
    "duration": 27588,
    "start_time": "2021-11-23T13:42:41.901Z"
   },
   {
    "duration": 4,
    "start_time": "2021-11-23T13:43:09.491Z"
   },
   {
    "duration": 32,
    "start_time": "2021-11-23T13:43:09.497Z"
   },
   {
    "duration": 42,
    "start_time": "2021-11-23T13:43:09.531Z"
   },
   {
    "duration": 3,
    "start_time": "2021-11-23T13:43:09.576Z"
   },
   {
    "duration": 15,
    "start_time": "2021-11-23T13:43:09.583Z"
   },
   {
    "duration": 100,
    "start_time": "2021-11-23T13:43:09.601Z"
   },
   {
    "duration": 4230,
    "start_time": "2021-11-23T13:43:09.704Z"
   },
   {
    "duration": 4,
    "start_time": "2021-11-23T13:43:14.029Z"
   },
   {
    "duration": 95,
    "start_time": "2021-11-23T13:43:14.037Z"
   },
   {
    "duration": 414,
    "start_time": "2021-11-23T13:43:14.134Z"
   },
   {
    "duration": 5,
    "start_time": "2021-11-23T13:43:14.550Z"
   },
   {
    "duration": 33,
    "start_time": "2021-11-23T13:43:14.557Z"
   },
   {
    "duration": 37,
    "start_time": "2021-11-23T13:43:14.593Z"
   },
   {
    "duration": 17299,
    "start_time": "2021-11-23T13:43:14.633Z"
   },
   {
    "duration": 352,
    "start_time": "2021-11-28T13:53:45.175Z"
   },
   {
    "duration": 1638,
    "start_time": "2021-11-28T13:53:52.832Z"
   },
   {
    "duration": 465,
    "start_time": "2021-11-28T13:53:54.474Z"
   },
   {
    "duration": 5,
    "start_time": "2021-11-28T13:53:54.942Z"
   },
   {
    "duration": 513,
    "start_time": "2021-11-28T13:53:54.949Z"
   },
   {
    "duration": 44,
    "start_time": "2021-11-28T13:53:55.465Z"
   },
   {
    "duration": 6,
    "start_time": "2021-11-28T13:53:55.530Z"
   },
   {
    "duration": 2469,
    "start_time": "2021-11-28T13:53:55.539Z"
   },
   {
    "duration": 397,
    "start_time": "2021-11-28T13:53:58.012Z"
   },
   {
    "duration": 28106,
    "start_time": "2021-11-28T13:53:58.412Z"
   },
   {
    "duration": 2784,
    "start_time": "2021-11-28T13:54:26.520Z"
   },
   {
    "duration": 402,
    "start_time": "2021-11-28T13:54:29.307Z"
   },
   {
    "duration": 28101,
    "start_time": "2021-11-28T13:54:29.712Z"
   },
   {
    "duration": 3016,
    "start_time": "2021-11-28T13:54:57.815Z"
   },
   {
    "duration": 428,
    "start_time": "2021-11-28T13:55:00.834Z"
   },
   {
    "duration": 26717,
    "start_time": "2021-11-28T13:55:01.265Z"
   },
   {
    "duration": 3,
    "start_time": "2021-11-28T13:55:27.985Z"
   },
   {
    "duration": 6,
    "start_time": "2021-11-28T13:55:27.991Z"
   },
   {
    "duration": 52,
    "start_time": "2021-11-28T13:55:27.999Z"
   },
   {
    "duration": 4,
    "start_time": "2021-11-28T13:55:28.053Z"
   },
   {
    "duration": 13,
    "start_time": "2021-11-28T13:55:28.060Z"
   },
   {
    "duration": 104,
    "start_time": "2021-11-28T13:55:28.076Z"
   },
   {
    "duration": 7954,
    "start_time": "2021-11-28T13:55:28.183Z"
   },
   {
    "duration": 185,
    "start_time": "2021-11-28T13:55:36.143Z"
   },
   {
    "duration": 6,
    "start_time": "2021-11-28T13:55:36.331Z"
   },
   {
    "duration": 417,
    "start_time": "2021-11-28T13:55:36.339Z"
   },
   {
    "duration": 5,
    "start_time": "2021-11-28T13:55:36.759Z"
   },
   {
    "duration": 82,
    "start_time": "2021-11-28T13:55:36.766Z"
   },
   {
    "duration": 9,
    "start_time": "2021-11-28T13:55:36.850Z"
   },
   {
    "duration": 19775,
    "start_time": "2021-11-28T13:55:36.862Z"
   },
   {
    "duration": 107,
    "start_time": "2021-11-28T13:56:00.524Z"
   },
   {
    "duration": 5702,
    "start_time": "2021-11-28T15:34:10.548Z"
   },
   {
    "duration": 28,
    "start_time": "2021-11-28T15:35:31.065Z"
   },
   {
    "duration": 1119,
    "start_time": "2021-11-29T11:35:35.478Z"
   },
   {
    "duration": 353,
    "start_time": "2021-11-29T11:35:36.599Z"
   },
   {
    "duration": 3,
    "start_time": "2021-11-29T11:35:36.956Z"
   },
   {
    "duration": 303,
    "start_time": "2021-11-29T11:35:36.961Z"
   },
   {
    "duration": 28,
    "start_time": "2021-11-29T11:35:37.265Z"
   },
   {
    "duration": 18,
    "start_time": "2021-11-29T11:35:37.294Z"
   },
   {
    "duration": 1893,
    "start_time": "2021-11-29T11:35:37.314Z"
   },
   {
    "duration": 308,
    "start_time": "2021-11-29T11:35:39.210Z"
   },
   {
    "duration": 17201,
    "start_time": "2021-11-29T11:35:39.520Z"
   },
   {
    "duration": 1982,
    "start_time": "2021-11-29T11:35:56.722Z"
   },
   {
    "duration": 327,
    "start_time": "2021-11-29T11:35:58.706Z"
   },
   {
    "duration": 18288,
    "start_time": "2021-11-29T11:35:59.034Z"
   },
   {
    "duration": 2160,
    "start_time": "2021-11-29T11:36:17.324Z"
   },
   {
    "duration": 274,
    "start_time": "2021-11-29T11:36:19.485Z"
   },
   {
    "duration": 17213,
    "start_time": "2021-11-29T11:36:19.761Z"
   },
   {
    "duration": 2,
    "start_time": "2021-11-29T11:36:36.976Z"
   },
   {
    "duration": 12,
    "start_time": "2021-11-29T11:36:36.980Z"
   },
   {
    "duration": 26,
    "start_time": "2021-11-29T11:36:36.993Z"
   },
   {
    "duration": 6,
    "start_time": "2021-11-29T11:36:37.021Z"
   },
   {
    "duration": 35,
    "start_time": "2021-11-29T11:36:37.028Z"
   },
   {
    "duration": 94,
    "start_time": "2021-11-29T11:36:37.065Z"
   },
   {
    "duration": -758,
    "start_time": "2021-11-29T11:36:37.920Z"
   },
   {
    "duration": -759,
    "start_time": "2021-11-29T11:36:37.922Z"
   },
   {
    "duration": -760,
    "start_time": "2021-11-29T11:36:37.924Z"
   },
   {
    "duration": -761,
    "start_time": "2021-11-29T11:36:37.926Z"
   },
   {
    "duration": -761,
    "start_time": "2021-11-29T11:36:37.927Z"
   },
   {
    "duration": -763,
    "start_time": "2021-11-29T11:36:37.930Z"
   },
   {
    "duration": -764,
    "start_time": "2021-11-29T11:36:37.932Z"
   },
   {
    "duration": -766,
    "start_time": "2021-11-29T11:36:37.935Z"
   },
   {
    "duration": -767,
    "start_time": "2021-11-29T11:36:37.937Z"
   },
   {
    "duration": 9,
    "start_time": "2021-11-29T11:37:25.687Z"
   },
   {
    "duration": 688,
    "start_time": "2021-11-29T11:37:34.058Z"
   },
   {
    "duration": -691,
    "start_time": "2021-11-29T11:37:35.439Z"
   },
   {
    "duration": -728,
    "start_time": "2021-11-29T11:37:35.477Z"
   },
   {
    "duration": -732,
    "start_time": "2021-11-29T11:37:35.482Z"
   },
   {
    "duration": -737,
    "start_time": "2021-11-29T11:37:35.488Z"
   },
   {
    "duration": -739,
    "start_time": "2021-11-29T11:37:35.491Z"
   },
   {
    "duration": -742,
    "start_time": "2021-11-29T11:37:35.495Z"
   },
   {
    "duration": -745,
    "start_time": "2021-11-29T11:37:35.498Z"
   },
   {
    "duration": -747,
    "start_time": "2021-11-29T11:37:35.501Z"
   },
   {
    "duration": 8,
    "start_time": "2021-11-29T11:38:05.420Z"
   },
   {
    "duration": 548,
    "start_time": "2021-11-29T11:38:08.510Z"
   },
   {
    "duration": -665,
    "start_time": "2021-11-29T11:38:09.725Z"
   },
   {
    "duration": -697,
    "start_time": "2021-11-29T11:38:09.758Z"
   },
   {
    "duration": -704,
    "start_time": "2021-11-29T11:38:09.766Z"
   },
   {
    "duration": -706,
    "start_time": "2021-11-29T11:38:09.768Z"
   },
   {
    "duration": -707,
    "start_time": "2021-11-29T11:38:09.770Z"
   },
   {
    "duration": -708,
    "start_time": "2021-11-29T11:38:09.772Z"
   },
   {
    "duration": -710,
    "start_time": "2021-11-29T11:38:09.775Z"
   },
   {
    "duration": -712,
    "start_time": "2021-11-29T11:38:09.777Z"
   },
   {
    "duration": 3,
    "start_time": "2021-11-29T11:39:21.550Z"
   },
   {
    "duration": 8,
    "start_time": "2021-11-29T11:39:24.941Z"
   },
   {
    "duration": 75,
    "start_time": "2021-11-29T11:39:24.951Z"
   },
   {
    "duration": 4282197,
    "start_time": "2021-11-29T11:39:25.029Z"
   },
   {
    "duration": -1025,
    "start_time": "2021-11-29T12:50:48.255Z"
   },
   {
    "duration": -1029,
    "start_time": "2021-11-29T12:50:48.260Z"
   },
   {
    "duration": -1032,
    "start_time": "2021-11-29T12:50:48.264Z"
   },
   {
    "duration": -1034,
    "start_time": "2021-11-29T12:50:48.267Z"
   },
   {
    "duration": -1036,
    "start_time": "2021-11-29T12:50:48.270Z"
   },
   {
    "duration": -1038,
    "start_time": "2021-11-29T12:50:48.273Z"
   },
   {
    "duration": -1039,
    "start_time": "2021-11-29T12:50:48.275Z"
   },
   {
    "duration": 3,
    "start_time": "2021-11-29T12:51:08.231Z"
   },
   {
    "duration": 25,
    "start_time": "2021-11-29T12:51:08.243Z"
   },
   {
    "duration": 88,
    "start_time": "2021-11-29T12:51:08.270Z"
   },
   {
    "duration": 1263787,
    "start_time": "2021-11-29T12:51:08.360Z"
   },
   {
    "duration": 3,
    "start_time": "2021-11-29T13:12:12.149Z"
   },
   {
    "duration": 16,
    "start_time": "2021-11-29T13:12:12.154Z"
   },
   {
    "duration": 259,
    "start_time": "2021-11-29T13:12:12.172Z"
   },
   {
    "duration": 12,
    "start_time": "2021-11-29T13:12:12.433Z"
   },
   {
    "duration": 72,
    "start_time": "2021-11-29T13:12:12.447Z"
   },
   {
    "duration": 6,
    "start_time": "2021-11-29T13:12:12.522Z"
   },
   {
    "duration": 10884,
    "start_time": "2021-11-29T13:12:12.530Z"
   },
   {
    "duration": 6,
    "start_time": "2021-11-29T13:19:17.070Z"
   },
   {
    "duration": 96906,
    "start_time": "2021-11-29T13:19:20.007Z"
   }
  ],
  "kernelspec": {
   "display_name": "Python 3 (ipykernel)",
   "language": "python",
   "name": "python3"
  },
  "language_info": {
   "codemirror_mode": {
    "name": "ipython",
    "version": 3
   },
   "file_extension": ".py",
   "mimetype": "text/x-python",
   "name": "python",
   "nbconvert_exporter": "python",
   "pygments_lexer": "ipython3",
   "version": "3.9.7"
  },
  "toc": {
   "base_numbering": 1,
   "nav_menu": {
    "height": "291px",
    "width": "314px"
   },
   "number_sections": true,
   "sideBar": true,
   "skip_h1_title": true,
   "title_cell": "Содержание:",
   "title_sidebar": "Содержание",
   "toc_cell": true,
   "toc_position": {
    "height": "calc(100% - 180px)",
    "left": "10px",
    "top": "150px",
    "width": "320.797px"
   },
   "toc_section_display": true,
   "toc_window_display": true
  }
 },
 "nbformat": 4,
 "nbformat_minor": 2
}

{
 "cells": [
  {
   "cell_type": "markdown",
   "metadata": {},
   "source": [
    "# Исследование надёжности заёмщиков\n",
    "\n",
    "Наш клиент - кредитный отдел банка. Необходимо разобраться, влияет ли семейное положение клиента и количество детей на факт своевременного погашения кредита. Нам предоставлена статистика платежеспособности клиентов.\n",
    "\n",
    "Результаты исследования будут учтены при построении модели **кредитного скоринга** — системы, оценивающей способность потенциального заёмщика вернуть кредит банку."
   ]
  },
  {
   "cell_type": "markdown",
   "metadata": {
    "toc": true
   },
   "source": [
    "<h1>Содержание<span class=\"tocSkip\"></span></h1>\n",
    "<div class=\"toc\"><ul class=\"toc-item\"><li><span><a href=\"#Обзор-данных-\" data-toc-modified-id=\"Обзор-данных--1\"><span class=\"toc-item-num\">1&nbsp;&nbsp;</span>Обзор данных <a id=\"start\"></a></a></span></li><li><span><a href=\"#Предобработка-данных-\" data-toc-modified-id=\"Предобработка-данных--2\"><span class=\"toc-item-num\">2&nbsp;&nbsp;</span>Предобработка данных <a id=\"preprocessing\"></a></a></span><ul class=\"toc-item\"><li><span><a href=\"#Обработка-пропусков-\" data-toc-modified-id=\"Обработка-пропусков--2.1\"><span class=\"toc-item-num\">2.1&nbsp;&nbsp;</span>Обработка пропусков <a id=\"filling\"></a></a></span></li></ul></li><ul class=\"toc-item\"><li><span><a href=\"#Замена-типа-данных-\" data-toc-modified-id=\"Замена-типа-данных--12.1\"><span class=\"toc-item-num\">12.1&nbsp;&nbsp;</span>Замена типа данных <a id=\"typing\"></a></a></span></li><li><span><a href=\"#Обработка-дубликатов-\" data-toc-modified-id=\"Обработка-дубликатов--12.2\"><span class=\"toc-item-num\">12.2&nbsp;&nbsp;</span>Обработка дубликатов <a id=\"dupes\"></a></a></span></li></ul></li><ul class=\"toc-item\"><li><span><a href=\"#Лемматизация-\" data-toc-modified-id=\"Лемматизация--14.1\"><span class=\"toc-item-num\">14.1&nbsp;&nbsp;</span>Лемматизация <a id=\"lemmatizing\"></a></a></span></li></ul></li><ul class=\"toc-item\"><li><span><a href=\"#Категоризация-данных-\" data-toc-modified-id=\"Категоризация-данных--16.1\"><span class=\"toc-item-num\">16.1&nbsp;&nbsp;</span>Категоризация данных <a id=\"binning\"></a></a></span></li></ul></li><li><span><a href=\"#Вопросы-исследования-\" data-toc-modified-id=\"Вопросы-исследования--21\"><span class=\"toc-item-num\">21&nbsp;&nbsp;</span>Вопросы исследования <a id=\"analysis\"></a></a></span><ul class=\"toc-item\"><li><span><a href=\"#Есть-ли-зависимость-между-наличием-детей-и-возвратом-кредита-в-срок?-\" data-toc-modified-id=\"Есть-ли-зависимость-между-наличием-детей-и-возвратом-кредита-в-срок?--21.1\"><span class=\"toc-item-num\">21.1&nbsp;&nbsp;</span>Есть ли зависимость между наличием детей и возвратом кредита в срок? <a id=\"children\"></a></a></span></li><li><span><a href=\"#Есть-ли-зависимость-между-семейным-положением-и-возвратом-кредита-в-срок?-\" data-toc-modified-id=\"Есть-ли-зависимость-между-семейным-положением-и-возвратом-кредита-в-срок?--21.2\"><span class=\"toc-item-num\">21.2&nbsp;&nbsp;</span>Есть ли зависимость между семейным положением и возвратом кредита в срок? <a id=\"fam_status\"></a></a></span></li></ul></li><ul class=\"toc-item\"><li><span><a href=\"#Есть-ли-зависимость-между-уровнем-дохода-и-возвратом-кредита-в-срок?-\" data-toc-modified-id=\"Есть-ли-зависимость-между-уровнем-дохода-и-возвратом-кредита-в-срок?--23.1\"><span class=\"toc-item-num\">23.1&nbsp;&nbsp;</span>Есть ли зависимость между уровнем дохода и возвратом кредита в срок? <a id=\"income\"></a></a></span></li><li><span><a href=\"#Как-разные-цели-кредита-влияют-на-его-возврат-в-срок?-\" data-toc-modified-id=\"Как-разные-цели-кредита-влияют-на-его-возврат-в-срок?--23.2\"><span class=\"toc-item-num\">23.2&nbsp;&nbsp;</span>Как разные цели кредита влияют на его возврат в срок? <a id=\"purpose\"></a></a></span></li></ul></li><li><span><a href=\"#Общий-вывод-\" data-toc-modified-id=\"Общий-вывод--24\"><span class=\"toc-item-num\">24&nbsp;&nbsp;</span>Общий вывод <a id=\"conclusion\"></a></a></span></li>"
   ]
  },
  {
   "cell_type": "markdown",
   "metadata": {},
   "source": [
    "## Обзор данных <a id=\"start\"></a>"
   ]
  },
  {
   "cell_type": "markdown",
   "metadata": {},
   "source": [
    "Выведем общую информацию и начало таблицы:"
   ]
  },
  {
   "cell_type": "code",
   "execution_count": 1,
   "metadata": {},
   "outputs": [],
   "source": [
    "%pip install pymystem3"
   ]
  },
  {
   "cell_type": "code",
   "execution_count": 2,
   "metadata": {},
   "outputs": [],
   "source": [
    "import pandas as pd\n",
    "from pymystem3 import Mystem"
   ]
  },
  {
   "cell_type": "code",
   "execution_count": 3,
   "metadata": {
    "scrolled": true
   },
   "outputs": [
    {
     "name": "stdout",
     "output_type": "stream",
     "text": [
      "<class 'pandas.core.frame.DataFrame'>\n",
      "RangeIndex: 21525 entries, 0 to 21524\n",
      "Data columns (total 12 columns):\n",
      " #   Column            Non-Null Count  Dtype  \n",
      "---  ------            --------------  -----  \n",
      " 0   children          21525 non-null  int64  \n",
      " 1   days_employed     19351 non-null  float64\n",
      " 2   dob_years         21525 non-null  int64  \n",
      " 3   education         21525 non-null  object \n",
      " 4   education_id      21525 non-null  int64  \n",
      " 5   family_status     21525 non-null  object \n",
      " 6   family_status_id  21525 non-null  int64  \n",
      " 7   gender            21525 non-null  object \n",
      " 8   income_type       21525 non-null  object \n",
      " 9   debt              21525 non-null  int64  \n",
      " 10  total_income      19351 non-null  float64\n",
      " 11  purpose           21525 non-null  object \n",
      "dtypes: float64(2), int64(5), object(5)\n",
      "memory usage: 2.0+ MB\n"
     ]
    }
   ],
   "source": [
    "data = pd.read_csv('/datasets/data.csv')\n",
    "data.info()"
   ]
  },
  {
   "cell_type": "code",
   "execution_count": 4,
   "metadata": {},
   "outputs": [
    {
     "data": {
      "text/html": [
       "<div>\n",
       "<style scoped>\n",
       "    .dataframe tbody tr th:only-of-type {\n",
       "        vertical-align: middle;\n",
       "    }\n",
       "\n",
       "    .dataframe tbody tr th {\n",
       "        vertical-align: top;\n",
       "    }\n",
       "\n",
       "    .dataframe thead th {\n",
       "        text-align: right;\n",
       "    }\n",
       "</style>\n",
       "<table border=\"1\" class=\"dataframe\">\n",
       "  <thead>\n",
       "    <tr style=\"text-align: right;\">\n",
       "      <th></th>\n",
       "      <th>children</th>\n",
       "      <th>days_employed</th>\n",
       "      <th>dob_years</th>\n",
       "      <th>education</th>\n",
       "      <th>education_id</th>\n",
       "      <th>family_status</th>\n",
       "      <th>family_status_id</th>\n",
       "      <th>gender</th>\n",
       "      <th>income_type</th>\n",
       "      <th>debt</th>\n",
       "      <th>total_income</th>\n",
       "      <th>purpose</th>\n",
       "    </tr>\n",
       "  </thead>\n",
       "  <tbody>\n",
       "    <tr>\n",
       "      <th>0</th>\n",
       "      <td>1</td>\n",
       "      <td>-8437.673028</td>\n",
       "      <td>42</td>\n",
       "      <td>высшее</td>\n",
       "      <td>0</td>\n",
       "      <td>женат / замужем</td>\n",
       "      <td>0</td>\n",
       "      <td>F</td>\n",
       "      <td>сотрудник</td>\n",
       "      <td>0</td>\n",
       "      <td>253875.639453</td>\n",
       "      <td>покупка жилья</td>\n",
       "    </tr>\n",
       "    <tr>\n",
       "      <th>1</th>\n",
       "      <td>1</td>\n",
       "      <td>-4024.803754</td>\n",
       "      <td>36</td>\n",
       "      <td>среднее</td>\n",
       "      <td>1</td>\n",
       "      <td>женат / замужем</td>\n",
       "      <td>0</td>\n",
       "      <td>F</td>\n",
       "      <td>сотрудник</td>\n",
       "      <td>0</td>\n",
       "      <td>112080.014102</td>\n",
       "      <td>приобретение автомобиля</td>\n",
       "    </tr>\n",
       "    <tr>\n",
       "      <th>2</th>\n",
       "      <td>0</td>\n",
       "      <td>-5623.422610</td>\n",
       "      <td>33</td>\n",
       "      <td>Среднее</td>\n",
       "      <td>1</td>\n",
       "      <td>женат / замужем</td>\n",
       "      <td>0</td>\n",
       "      <td>M</td>\n",
       "      <td>сотрудник</td>\n",
       "      <td>0</td>\n",
       "      <td>145885.952297</td>\n",
       "      <td>покупка жилья</td>\n",
       "    </tr>\n",
       "    <tr>\n",
       "      <th>3</th>\n",
       "      <td>3</td>\n",
       "      <td>-4124.747207</td>\n",
       "      <td>32</td>\n",
       "      <td>среднее</td>\n",
       "      <td>1</td>\n",
       "      <td>женат / замужем</td>\n",
       "      <td>0</td>\n",
       "      <td>M</td>\n",
       "      <td>сотрудник</td>\n",
       "      <td>0</td>\n",
       "      <td>267628.550329</td>\n",
       "      <td>дополнительное образование</td>\n",
       "    </tr>\n",
       "    <tr>\n",
       "      <th>4</th>\n",
       "      <td>0</td>\n",
       "      <td>340266.072047</td>\n",
       "      <td>53</td>\n",
       "      <td>среднее</td>\n",
       "      <td>1</td>\n",
       "      <td>гражданский брак</td>\n",
       "      <td>1</td>\n",
       "      <td>F</td>\n",
       "      <td>пенсионер</td>\n",
       "      <td>0</td>\n",
       "      <td>158616.077870</td>\n",
       "      <td>сыграть свадьбу</td>\n",
       "    </tr>\n",
       "  </tbody>\n",
       "</table>\n",
       "</div>"
      ],
      "text/plain": [
       "   children  days_employed  dob_years education  education_id  \\\n",
       "0         1   -8437.673028         42    высшее             0   \n",
       "1         1   -4024.803754         36   среднее             1   \n",
       "2         0   -5623.422610         33   Среднее             1   \n",
       "3         3   -4124.747207         32   среднее             1   \n",
       "4         0  340266.072047         53   среднее             1   \n",
       "\n",
       "      family_status  family_status_id gender income_type  debt   total_income  \\\n",
       "0   женат / замужем                 0      F   сотрудник     0  253875.639453   \n",
       "1   женат / замужем                 0      F   сотрудник     0  112080.014102   \n",
       "2   женат / замужем                 0      M   сотрудник     0  145885.952297   \n",
       "3   женат / замужем                 0      M   сотрудник     0  267628.550329   \n",
       "4  гражданский брак                 1      F   пенсионер     0  158616.077870   \n",
       "\n",
       "                      purpose  \n",
       "0               покупка жилья  \n",
       "1     приобретение автомобиля  \n",
       "2               покупка жилья  \n",
       "3  дополнительное образование  \n",
       "4             сыграть свадьбу  "
      ]
     },
     "execution_count": 4,
     "metadata": {},
     "output_type": "execute_result"
    }
   ],
   "source": [
    "data.head()"
   ]
  },
  {
   "cell_type": "markdown",
   "metadata": {},
   "source": [
    "**Вывод**"
   ]
  },
  {
   "cell_type": "markdown",
   "metadata": {},
   "source": [
    "Предоставлены данные о 21525 клиентах по 12 признакам (в т.ч. 4 количественным и 8 категориям). Заголовки колонок удовлетворительны.\n",
    "\n",
    "Сразу налицо недостающие данные в колонках `days_employed` (трудовой стаж) и `total_income` (ежемесячный доход); ниже мы проверим предположение, что в строке есть либо оба показателя, либо ни одного.\n",
    "\n",
    "Столбец `days_employed` содержит отрицательные числа, кроме того, его целесообразно привести к целочисленному типу.\n",
    "\n",
    "Количество знаков после запятой в столбце `total_income` избыточно. Для простоты его также можно привести к целочисленному типу.\n",
    "\n",
    "Данные об образовании (столбец `education`) записаны то со строчной буквы, то с прописной, желательно приведение к одному регистру."
   ]
  },
  {
   "cell_type": "markdown",
   "metadata": {},
   "source": [
    "## Предобработка данных <a id=\"preprocessing\"></a>"
   ]
  },
  {
   "cell_type": "markdown",
   "metadata": {},
   "source": [
    "### Обработка пропусков <a id=\"filling\"></a>"
   ]
  },
  {
   "cell_type": "markdown",
   "metadata": {},
   "source": [
    "Прежде всего: действительно ли отсутствие данных о доходе и стаже связяно?"
   ]
  },
  {
   "cell_type": "code",
   "execution_count": 5,
   "metadata": {},
   "outputs": [
    {
     "name": "stdout",
     "output_type": "stream",
     "text": [
      "Строк, где отсутствует лишь один из показателей: 0\n"
     ]
    }
   ],
   "source": [
    "print ('Строк, где отсутствует лишь один из показателей:', len (data[(~data['days_employed'].isnull()) & (data['total_income'].isnull())]))"
   ]
  },
  {
   "cell_type": "markdown",
   "metadata": {},
   "source": [
    "Данные в колонках `total_income` и `days_employed` отстутствуют всегда попарно, как мы и предполагали.\n",
    "\n",
    "Проверим категории видов занятости:"
   ]
  },
  {
   "cell_type": "code",
   "execution_count": 6,
   "metadata": {
    "scrolled": true
   },
   "outputs": [
    {
     "data": {
      "text/plain": [
       "сотрудник          11119\n",
       "компаньон           5085\n",
       "пенсионер           3856\n",
       "госслужащий         1459\n",
       "безработный            2\n",
       "предприниматель        2\n",
       "студент                1\n",
       "в декрете              1\n",
       "Name: income_type, dtype: int64"
      ]
     },
     "execution_count": 6,
     "metadata": {},
     "output_type": "execute_result"
    }
   ],
   "source": [
    "data['income_type'].value_counts()"
   ]
  },
  {
   "cell_type": "markdown",
   "metadata": {},
   "source": [
    "Типы занятости выглядят корректно. Представляется разумным сгруппировать данные о доходе и стаже по видам занятости, поскольку диапазон дохода, к примеру, бизнесменов и пенсионеров заметно различается:"
   ]
  },
  {
   "cell_type": "code",
   "execution_count": 7,
   "metadata": {},
   "outputs": [
    {
     "name": "stdout",
     "output_type": "stream",
     "text": [
      "Медианный месячный доход:\n"
     ]
    },
    {
     "data": {
      "text/plain": [
       "income_type\n",
       "безработный        131339.751676\n",
       "в декрете           53829.130729\n",
       "госслужащий        150447.935283\n",
       "компаньон          172357.950966\n",
       "пенсионер          118514.486412\n",
       "предприниматель    499163.144947\n",
       "сотрудник          142594.396847\n",
       "студент             98201.625314\n",
       "Name: total_income, dtype: float64"
      ]
     },
     "execution_count": 7,
     "metadata": {},
     "output_type": "execute_result"
    }
   ],
   "source": [
    "# Группируем таблицу по видам занятости:\n",
    "income_type_grouping = data.groupby('income_type')\n",
    "\n",
    "# Вычислим медианные значения дохода по видам занятости:\n",
    "income_type_grouping_median = income_type_grouping['total_income'].median()\n",
    "print ('Медианный месячный доход:')\n",
    "income_type_grouping_median"
   ]
  },
  {
   "cell_type": "code",
   "execution_count": 8,
   "metadata": {},
   "outputs": [
    {
     "name": "stdout",
     "output_type": "stream",
     "text": [
      "Средний стаж:\n"
     ]
    },
    {
     "data": {
      "text/plain": [
       "income_type\n",
       "безработный        366413.652744\n",
       "в декрете           -3296.759962\n",
       "госслужащий         -3399.896902\n",
       "компаньон           -2111.524398\n",
       "пенсионер          365003.491245\n",
       "предприниматель      -520.848083\n",
       "сотрудник           -2326.499216\n",
       "студент              -578.751554\n",
       "Name: days_employed, dtype: float64"
      ]
     },
     "execution_count": 8,
     "metadata": {},
     "output_type": "execute_result"
    }
   ],
   "source": [
    "# Вычислим средние значения стажа по видам занятости:\n",
    "print ('Средний стаж:')\n",
    "income_type_grouping['days_employed'].mean()"
   ]
  },
  {
   "cell_type": "markdown",
   "metadata": {},
   "source": [
    "Заполнить пропуски в столбце `total_income` медианными значениями по виду занятости выглядит целесообразным.\n",
    "\n",
    "А вот значения трудового стажа выглядят очень странно: у безработных и пенсионеров стаж нереально велик (в среднем 100 лет и более), а у прочих величины отрицательные.\n",
    "Попробуем трактовать отрицательные величины как ошибочно записанные положительные:"
   ]
  },
  {
   "cell_type": "code",
   "execution_count": 9,
   "metadata": {},
   "outputs": [
    {
     "name": "stdout",
     "output_type": "stream",
     "text": [
      "Средний стаж (скорректированный):\n"
     ]
    },
    {
     "data": {
      "text/plain": [
       "income_type\n",
       "безработный        366413.652744\n",
       "в декрете            3296.759962\n",
       "госслужащий          3399.896902\n",
       "компаньон            2111.524398\n",
       "пенсионер          365003.491245\n",
       "предприниматель       520.848083\n",
       "сотрудник            2326.499216\n",
       "студент               578.751554\n",
       "Name: days_employed, dtype: float64"
      ]
     },
     "execution_count": 9,
     "metadata": {},
     "output_type": "execute_result"
    }
   ],
   "source": [
    "# Применим стандарную фунцию модуля к значениям стажа:\n",
    "data['days_employed'] = data['days_employed'].apply(abs)\n",
    "\n",
    "# Вычислим средние значения по видам занятости:\n",
    "income_type_grouping_mean_days = income_type_grouping['days_employed'].mean()\n",
    "print ('Средний стаж (скорректированный):')\n",
    "income_type_grouping_mean_days"
   ]
  },
  {
   "cell_type": "markdown",
   "metadata": {},
   "source": [
    "Категории безработных и пенсионеров по-прежнему выглядят аномально, но остальные относительно правдоподобно.\n",
    "\n",
    "Заполним недостающие значения стажа средним по виду занятости."
   ]
  },
  {
   "cell_type": "code",
   "execution_count": 10,
   "metadata": {},
   "outputs": [],
   "source": [
    "for income_type in data['income_type'].unique():\n",
    "    data.loc[(data['days_employed'].isnull()) & (data['income_type'] == income_type), 'days_employed'] = income_type_grouping_mean_days[income_type]"
   ]
  },
  {
   "cell_type": "markdown",
   "metadata": {},
   "source": [
    "Для заполнения данных о доходах попробуем применить более глубокий анализ. Медианный доход может различаться еще и в зависимости от образования и возраста, проверим эти предположения:"
   ]
  },
  {
   "cell_type": "code",
   "execution_count": 11,
   "metadata": {},
   "outputs": [
    {
     "data": {
      "text/plain": [
       "education_id  education          \n",
       "0             высшее                  4718\n",
       "              ВЫСШЕЕ                   274\n",
       "              Высшее                   268\n",
       "1             среднее                13750\n",
       "              СРЕДНЕЕ                  772\n",
       "              Среднее                  711\n",
       "2             неоконченное высшее      668\n",
       "              Неоконченное высшее       47\n",
       "              НЕОКОНЧЕННОЕ ВЫСШЕЕ       29\n",
       "3             начальное                250\n",
       "              НАЧАЛЬНОЕ                 17\n",
       "              Начальное                 15\n",
       "4             ученая степень             4\n",
       "              УЧЕНАЯ СТЕПЕНЬ             1\n",
       "              Ученая степень             1\n",
       "Name: education, dtype: int64"
      ]
     },
     "execution_count": 11,
     "metadata": {},
     "output_type": "execute_result"
    }
   ],
   "source": [
    "# Группируем таблицу по уровню образования:\n",
    "income_type_grouping_by_edu = data.groupby('education_id')\n",
    "# И сразу же проверим качество данных в столбцах education и education_id и их соответствие друг другу:\n",
    "income_type_grouping_by_edu['education'].value_counts()"
   ]
  },
  {
   "cell_type": "markdown",
   "metadata": {},
   "source": [
    "Колонка `education` содержит дублированные категории, отличающиеся только регистром, но соответствующие значения `education_id` корректны, ими можно пользоваться для группировки:"
   ]
  },
  {
   "cell_type": "code",
   "execution_count": 12,
   "metadata": {},
   "outputs": [
    {
     "name": "stdout",
     "output_type": "stream",
     "text": [
      "Медианный месячный доход по уровню образования:\n"
     ]
    },
    {
     "data": {
      "text/plain": [
       "education_id\n",
       "0    175340.818855\n",
       "2    160115.398644\n",
       "4    157259.898555\n",
       "1    136478.643244\n",
       "3    117137.352825\n",
       "Name: total_income, dtype: float64"
      ]
     },
     "execution_count": 12,
     "metadata": {},
     "output_type": "execute_result"
    }
   ],
   "source": [
    "# Вычислим медианные значения дохода по видам занятости:\n",
    "income_type_grouping_by_edu_median = income_type_grouping_by_edu['total_income'].median()\n",
    "print ('Медианный месячный доход по уровню образования:')\n",
    "income_type_grouping_by_edu_median.sort_values(ascending=False)"
   ]
  },
  {
   "cell_type": "markdown",
   "metadata": {},
   "source": [
    "Действительно, корреляция налицо, выпадают лишь клиенты с ученой степенью (на то могут быть причины, например многие из них работают в сфере образования с невысокими зарплатами), но их количество слишком мало для репрезентативной выборки."
   ]
  },
  {
   "cell_type": "code",
   "execution_count": 13,
   "metadata": {},
   "outputs": [
    {
     "data": {
      "text/plain": [
       "0"
      ]
     },
     "execution_count": 13,
     "metadata": {},
     "output_type": "execute_result"
    }
   ],
   "source": [
    "# Проверим, много ли пропущено в этой категории:\n",
    "data[data['education_id']==4]['total_income'].isnull().sum()"
   ]
  },
  {
   "cell_type": "markdown",
   "metadata": {},
   "source": [
    "Но у этой категории нет пропусков в данных о доходе, поэтому для нас это не проблема.\n",
    "\n",
    "Теперь проверим корреляцию доходов с возрастом. Прежде всего, проверим данные о возрасте на предмет аномалий:"
   ]
  },
  {
   "cell_type": "code",
   "execution_count": 14,
   "metadata": {},
   "outputs": [
    {
     "name": "stdout",
     "output_type": "stream",
     "text": [
      "Нулевых записей о возрасте: 101\n",
      "Некорректных записей о возрасте: 0\n",
      "Сомнительных записей о возрасте: 0\n"
     ]
    }
   ],
   "source": [
    "print ('Нулевых записей о возрасте:', len(data[data['dob_years']==0]))\n",
    "print ('Некорректных записей о возрасте:', len(data[data['dob_years']<0]))\n",
    "print ('Сомнительных записей о возрасте:', len(data[(data['dob_years']>100)|((data['dob_years']<18)&(data['dob_years']>0))]))"
   ]
  },
  {
   "cell_type": "markdown",
   "metadata": {},
   "source": [
    "Есть небольшое количество нулевых значений возраста, но никаких отрицательных или неправдоподобных величин (младше 18 или старше 100 лет).\n",
    "Посмотрим, насколько оптимально использовать медиану для заполнения отсутствующих данных:"
   ]
  },
  {
   "cell_type": "code",
   "execution_count": 15,
   "metadata": {},
   "outputs": [
    {
     "name": "stdout",
     "output_type": "stream",
     "text": [
      "Медианный возраст по видам занятости:\n"
     ]
    },
    {
     "data": {
      "text/plain": [
       "income_type\n",
       "безработный        38.0\n",
       "в декрете          39.0\n",
       "госслужащий        40.0\n",
       "компаньон          39.0\n",
       "пенсионер          60.0\n",
       "предприниматель    42.5\n",
       "сотрудник          39.0\n",
       "студент            22.0\n",
       "Name: dob_years, dtype: float64"
      ]
     },
     "execution_count": 15,
     "metadata": {},
     "output_type": "execute_result"
    }
   ],
   "source": [
    "income_type_grouping_median_age = income_type_grouping['dob_years'].median()\n",
    "print ('Медианный возраст по видам занятости:')\n",
    "income_type_grouping_median_age"
   ]
  },
  {
   "cell_type": "markdown",
   "metadata": {},
   "source": [
    "Как и следовало ожидать, категории пенсионеров и студентов имеют свою медиану, остальные достаточно близки. Заполним нулевые значения:"
   ]
  },
  {
   "cell_type": "code",
   "execution_count": 16,
   "metadata": {},
   "outputs": [
    {
     "name": "stdout",
     "output_type": "stream",
     "text": [
      "Нулевых записей о возрасте: 0\n"
     ]
    }
   ],
   "source": [
    "for income_type in data['income_type'].unique():\n",
    "    data.loc[(data['dob_years']==0) & (data['income_type'] == income_type), 'dob_years'] = income_type_grouping_median_age[income_type]\n",
    "print ('Нулевых записей о возрасте:', len(data[data['dob_years']==0]))"
   ]
  },
  {
   "cell_type": "markdown",
   "metadata": {},
   "source": [
    "Теперь мы можем выделить возрастные категории и оценить целесообразность группировки данных о доходе по ним.\n",
    "\n",
    "Взглянем на распределение значений в колонке `dob_years`:"
   ]
  },
  {
   "cell_type": "code",
   "execution_count": 17,
   "metadata": {},
   "outputs": [
    {
     "data": {
      "text/plain": [
       "count    21525\n",
       "mean        43\n",
       "std         12\n",
       "min         19\n",
       "25%         34\n",
       "50%         43\n",
       "75%         53\n",
       "max         75\n",
       "Name: dob_years, dtype: object"
      ]
     },
     "execution_count": 17,
     "metadata": {},
     "output_type": "execute_result"
    }
   ],
   "source": [
    "data['dob_years'].describe().apply(\"{:.0f}\".format)"
   ]
  },
  {
   "cell_type": "markdown",
   "metadata": {},
   "source": [
    "В целом разумным выглядит разбиение как на возрастные категории равного размера, так и по декадам. Применим второй подход для наглядности:"
   ]
  },
  {
   "cell_type": "code",
   "execution_count": 18,
   "metadata": {},
   "outputs": [
    {
     "data": {
      "text/plain": [
       "30-39    5749\n",
       "40-49    5377\n",
       "50-59    4679\n",
       "до 29    3183\n",
       "60+      2537\n",
       "Name: age_group, dtype: int64"
      ]
     },
     "execution_count": 18,
     "metadata": {},
     "output_type": "execute_result"
    }
   ],
   "source": [
    "# Выделим возрастные группы по условным границам: до 29 лет, 30-39 лет, 40-49 лет и т. д.\n",
    "data['age_group'] = pd.cut (data['dob_years'], bins=[18, 30, 40, 50, 60, 100], right=False,\n",
    "                            labels=['до 29','30-39','40-49','50-59','60+'])\n",
    "data['age_group'].value_counts()"
   ]
  },
  {
   "cell_type": "markdown",
   "metadata": {},
   "source": [
    "Оценим полезность группировки."
   ]
  },
  {
   "cell_type": "code",
   "execution_count": 19,
   "metadata": {},
   "outputs": [
    {
     "name": "stdout",
     "output_type": "stream",
     "text": [
      "Медианный месячный доход по возрастным группам:\n"
     ]
    },
    {
     "data": {
      "text/plain": [
       "age_group\n",
       "до 29    142141.582776\n",
       "30-39    154416.954788\n",
       "40-49    154744.914039\n",
       "50-59    138769.212810\n",
       "60+      123419.911371\n",
       "Name: total_income, dtype: float64"
      ]
     },
     "execution_count": 19,
     "metadata": {},
     "output_type": "execute_result"
    }
   ],
   "source": [
    "# Группируем таблицу:\n",
    "income_type_grouping_by_age = data.groupby('age_group')\n",
    "# Вычислим медианные значения дохода по возрастным группам:\n",
    "income_type_grouping_by_age_median = income_type_grouping_by_age['total_income'].median()\n",
    "print ('Медианный месячный доход по возрастным группам:')\n",
    "income_type_grouping_by_age_median"
   ]
  },
  {
   "cell_type": "markdown",
   "metadata": {},
   "source": [
    "Разница есть: молодежи без опыта и людям старше 50 труднее найти высокооплачиваемую работу, а кто-то уже и на пенсии.\n",
    "\n",
    "Сведем наши группировки:"
   ]
  },
  {
   "cell_type": "code",
   "execution_count": 20,
   "metadata": {},
   "outputs": [],
   "source": [
    "# Сгруппируем таблицу сразу по трем признакам:\n",
    "income_type_grouping_multiple = data.groupby(['income_type', 'age_group', 'education_id'])"
   ]
  },
  {
   "cell_type": "markdown",
   "metadata": {},
   "source": [
    "Заполним пустые значения медианой:"
   ]
  },
  {
   "cell_type": "code",
   "execution_count": 21,
   "metadata": {},
   "outputs": [
    {
     "data": {
      "text/plain": [
       "children            0\n",
       "days_employed       0\n",
       "dob_years           0\n",
       "education           0\n",
       "education_id        0\n",
       "family_status       0\n",
       "family_status_id    0\n",
       "gender              0\n",
       "income_type         0\n",
       "debt                0\n",
       "total_income        2\n",
       "purpose             0\n",
       "age_group           0\n",
       "dtype: int64"
      ]
     },
     "execution_count": 21,
     "metadata": {},
     "output_type": "execute_result"
    }
   ],
   "source": [
    "data['total_income'] = data['total_income'].fillna(income_type_grouping_multiple['total_income'].transform('median'))\n",
    "data.isnull().sum()"
   ]
  },
  {
   "cell_type": "markdown",
   "metadata": {},
   "source": [
    "Группировка оказалась довольно узкой: две строки, по-видимому, имеют уникальную комбинацию групп и не имеют сведений о доходах, так что две подгруппы остались без медиан. Брать группировку по меньшему числу столбцов только для них несколько непоследовательно, но эти строки содержат и другие полезные для исследования данные, поэтому их предпочтительней сохранить."
   ]
  },
  {
   "cell_type": "code",
   "execution_count": 22,
   "metadata": {
    "scrolled": true
   },
   "outputs": [
    {
     "data": {
      "text/plain": [
       "children            0\n",
       "days_employed       0\n",
       "dob_years           0\n",
       "education           0\n",
       "education_id        0\n",
       "family_status       0\n",
       "family_status_id    0\n",
       "gender              0\n",
       "income_type         0\n",
       "debt                0\n",
       "total_income        0\n",
       "purpose             0\n",
       "age_group           0\n",
       "dtype: int64"
      ]
     },
     "execution_count": 22,
     "metadata": {},
     "output_type": "execute_result"
    }
   ],
   "source": [
    "# Используем уже вычисленные медианы по видам занятости:\n",
    "data['total_income'] = data['total_income'].fillna(income_type_grouping['total_income'].transform('median'))   \n",
    "data.isnull().sum()"
   ]
  },
  {
   "cell_type": "markdown",
   "metadata": {},
   "source": [
    "Пропусков больше нет, изучим на предмет аномалий другие данные.\n",
    "\n",
    "Проверим данные о количестве детей:"
   ]
  },
  {
   "cell_type": "code",
   "execution_count": 23,
   "metadata": {},
   "outputs": [
    {
     "data": {
      "text/plain": [
       " 0     14149\n",
       " 1      4818\n",
       " 2      2055\n",
       " 3       330\n",
       " 20       76\n",
       "-1        47\n",
       " 4        41\n",
       " 5         9\n",
       "Name: children, dtype: int64"
      ]
     },
     "execution_count": 23,
     "metadata": {},
     "output_type": "execute_result"
    }
   ],
   "source": [
    "data['children'].value_counts()"
   ]
  },
  {
   "cell_type": "markdown",
   "metadata": {},
   "source": [
    "Здесь наблюдаются аномальные величины -1 и 20. Первое будем трактовать как ошибочно распознанное 1; второе, вероятнее всего, искаженное 2. Сделаем соответствующую замену:"
   ]
  },
  {
   "cell_type": "code",
   "execution_count": 24,
   "metadata": {},
   "outputs": [
    {
     "data": {
      "text/plain": [
       "0    14149\n",
       "1     4865\n",
       "2     2131\n",
       "3      330\n",
       "4       41\n",
       "5        9\n",
       "Name: children, dtype: int64"
      ]
     },
     "execution_count": 24,
     "metadata": {},
     "output_type": "execute_result"
    }
   ],
   "source": [
    "data['children'] = data['children'].apply(abs)\n",
    "data['children'] = data['children'].replace(20, 2)\n",
    "data['children'].value_counts()"
   ]
  },
  {
   "cell_type": "markdown",
   "metadata": {},
   "source": [
    "Проверим оставшиеся категории:"
   ]
  },
  {
   "cell_type": "code",
   "execution_count": 25,
   "metadata": {},
   "outputs": [
    {
     "name": "stdout",
     "output_type": "stream",
     "text": [
      "Семейное положение:\n",
      "женат / замужем          12380\n",
      "гражданский брак          4177\n",
      "Не женат / не замужем     2813\n",
      "в разводе                 1195\n",
      "вдовец / вдова             960\n",
      "Name: family_status, dtype: int64\n",
      "0    12380\n",
      "1     4177\n",
      "4     2813\n",
      "3     1195\n",
      "2      960\n",
      "Name: family_status_id, dtype: int64\n",
      "\n",
      "Пол:\n",
      "F      14236\n",
      "M       7288\n",
      "XNA        1\n",
      "Name: gender, dtype: int64\n",
      "\n",
      "Наличие задолженности:\n",
      "0    19784\n",
      "1     1741\n",
      "Name: debt, dtype: int64\n"
     ]
    }
   ],
   "source": [
    "print ('Семейное положение:')\n",
    "print (data['family_status'].value_counts())\n",
    "print (data['family_status_id'].value_counts())\n",
    "print()\n",
    "print ('Пол:')\n",
    "print (data['gender'].value_counts())\n",
    "print()\n",
    "print ('Наличие задолженности:')\n",
    "print (data['debt'].value_counts())"
   ]
  },
  {
   "cell_type": "markdown",
   "metadata": {},
   "source": [
    "В столбце `gender` (пол) присутствует одна ячейка со значением 'XNA' (вероятно, искаженное 'N/A'). Хотя это и уникальное значение, нет оснований считать его некорректным - пол может быть и не указан.\n",
    "\n",
    "Дубликаты в столбце `education` будут обработаны на следующем этапе.\n",
    "\n",
    "Остальные значения выглядят корректно."
   ]
  },
  {
   "cell_type": "markdown",
   "metadata": {},
   "source": [
    "**Вывод**"
   ]
  },
  {
   "cell_type": "markdown",
   "metadata": {},
   "source": [
    "Можно заключить, что существенное количество клиентов (порядка 10%) не предоставили данные о своем доходе. Эти пропуски мы заполнили медианными значениями на основании типа занятости, а также образования и возраста клиента, когда это было возможным.\n",
    "\n",
    "У небольшого числа клиентов не указан возраст (в таблице стоит нулевое значение). Эти пропуски мы заполнили медианными значениями по типу занятости.\n",
    "\n",
    "Присутствуют также аномалии в записях о детях: отрицательные числа (вероятно, ошибка при распознавании рукописного текста) и часто встречающееся аномальное число 20. Отрицательные значения мы трактуем как положительные, а 20 как ошибочно записанное 2. (Здесь был бы желателен комментарий от выгружавшего данные, есть вероятность, что аномальное значение имеет особое толкование.)\n",
    "\n",
    "В данных о трудовом стаже аномальные значения преобладают. Надежная трактовка этих данных не представляется возможной без дополнительной информации от авторов выгрузки. Недостающие данные были заполнены средними значениями по виду занятости, но для более качественных данных может быть целесообразным заполнение соответствующими медианными значениями по возрастным категориям.\n",
    "\n",
    "Виды занятости \"предприниматель\", \"безработный\", \"студент\" и \"в декрете\" представлены 1-2 строками, и репрезентативность их сомнительна.\n",
    "\n",
    "Тем не менее, объем и качество данных для решения поставленной задачи (семейное положение, количество детей, сумма дохода и наличие задолженности) можно признать удовлетворительным."
   ]
  },
  {
   "cell_type": "markdown",
   "metadata": {},
   "source": [
    "### Замена типа данных <a id=\"typing\"></a>"
   ]
  },
  {
   "cell_type": "markdown",
   "metadata": {},
   "source": [
    "Заменим тип данных в колонках `days_employed` и `total_income` на целочисленный:"
   ]
  },
  {
   "cell_type": "code",
   "execution_count": 26,
   "metadata": {},
   "outputs": [
    {
     "data": {
      "text/plain": [
       "children               int64\n",
       "days_employed          int32\n",
       "dob_years            float64\n",
       "education             object\n",
       "education_id           int64\n",
       "family_status         object\n",
       "family_status_id       int64\n",
       "gender                object\n",
       "income_type           object\n",
       "debt                   int64\n",
       "total_income           int32\n",
       "purpose               object\n",
       "age_group           category\n",
       "dtype: object"
      ]
     },
     "execution_count": 26,
     "metadata": {},
     "output_type": "execute_result"
    }
   ],
   "source": [
    "data['days_employed'] = data['days_employed'].astype('int')\n",
    "data['total_income'] = data['total_income'].astype('int')\n",
    "data.dtypes"
   ]
  },
  {
   "cell_type": "markdown",
   "metadata": {},
   "source": [
    "Вывод *data.dtypes* говорит о том, что данные в столбце `dob_years` (возраст) также имеют вещественный тип (*float64*), хотя используются как целые числа. Исправим и это:"
   ]
  },
  {
   "cell_type": "code",
   "execution_count": 27,
   "metadata": {},
   "outputs": [
    {
     "data": {
      "text/plain": [
       "children               int64\n",
       "days_employed          int32\n",
       "dob_years              int32\n",
       "education             object\n",
       "education_id           int64\n",
       "family_status         object\n",
       "family_status_id       int64\n",
       "gender                object\n",
       "income_type           object\n",
       "debt                   int64\n",
       "total_income           int32\n",
       "purpose               object\n",
       "age_group           category\n",
       "dtype: object"
      ]
     },
     "execution_count": 27,
     "metadata": {},
     "output_type": "execute_result"
    }
   ],
   "source": [
    "data['dob_years'] = data['dob_years'].astype('int')\n",
    "data.dtypes"
   ]
  },
  {
   "cell_type": "markdown",
   "metadata": {},
   "source": [
    "**Вывод**"
   ]
  },
  {
   "cell_type": "markdown",
   "metadata": {},
   "source": [
    "Данные в колонках `dob_years`, `days_employed` и `total_income` мы привели к целочисленному типу с помощью *astype()* (*to_numeric()* в данном случае неуместен, т.к. предназначен для приведения к вещественному типу)."
   ]
  },
  {
   "cell_type": "markdown",
   "metadata": {},
   "source": [
    "### Обработка дубликатов <a id=\"dupes\"></a>"
   ]
  },
  {
   "cell_type": "markdown",
   "metadata": {},
   "source": [
    "Проверим таблицу на очевидные дубликаты (идентичные строки):"
   ]
  },
  {
   "cell_type": "code",
   "execution_count": 28,
   "metadata": {},
   "outputs": [
    {
     "data": {
      "text/plain": [
       "54"
      ]
     },
     "execution_count": 28,
     "metadata": {},
     "output_type": "execute_result"
    }
   ],
   "source": [
    "data.duplicated().sum()"
   ]
  },
  {
   "cell_type": "markdown",
   "metadata": {},
   "source": [
    "Исправим обнаруженные ранее дублированные категории в столбце `education` приведением к одному регистру:"
   ]
  },
  {
   "cell_type": "code",
   "execution_count": 29,
   "metadata": {},
   "outputs": [
    {
     "data": {
      "text/plain": [
       "среднее                15233\n",
       "высшее                  5260\n",
       "неоконченное высшее      744\n",
       "начальное                282\n",
       "ученая степень             6\n",
       "Name: education, dtype: int64"
      ]
     },
     "execution_count": 29,
     "metadata": {},
     "output_type": "execute_result"
    }
   ],
   "source": [
    "data['education'] = data['education'].str.lower()\n",
    "data['education'].value_counts()"
   ]
  },
  {
   "cell_type": "markdown",
   "metadata": {},
   "source": [
    "Перепроверям количество дублированных строк:"
   ]
  },
  {
   "cell_type": "code",
   "execution_count": 30,
   "metadata": {},
   "outputs": [
    {
     "data": {
      "text/plain": [
       "71"
      ]
     },
     "execution_count": 30,
     "metadata": {},
     "output_type": "execute_result"
    }
   ],
   "source": [
    "data.duplicated().sum()"
   ]
  },
  {
   "cell_type": "markdown",
   "metadata": {},
   "source": [
    "Число идентичных строк, как видим, выросло. Так незначительный, казалось бы, недочет в заполнении столбца `education` приводит к лишним тратам рабочего времени."
   ]
  },
  {
   "cell_type": "code",
   "execution_count": 31,
   "metadata": {},
   "outputs": [
    {
     "data": {
      "text/plain": [
       "0"
      ]
     },
     "execution_count": 31,
     "metadata": {},
     "output_type": "execute_result"
    }
   ],
   "source": [
    "# Удаление идентичных строк:\n",
    "data = data.drop_duplicates().reset_index(drop=True)\n",
    "# Проверим результат:\n",
    "data.duplicated().sum()"
   ]
  },
  {
   "cell_type": "markdown",
   "metadata": {},
   "source": [
    "**Вывод**"
   ]
  },
  {
   "cell_type": "markdown",
   "metadata": {},
   "source": [
    "Обнаружена 71 дублированная строка, удаленная с помощью *drop_duplicates()*. Скорее всего имеет место комбинация технического и человеческого факторов, так как часть строк отличается только регистром в одном из столбцов.\n",
    "\n",
    "Дублированные категории в столбце `education` исправлены приведением к нижнему регистру. Очевидно, данные столбца заполняются вручную, выбор из списка был бы более оптимальным."
   ]
  },
  {
   "cell_type": "markdown",
   "metadata": {},
   "source": [
    "### Лемматизация <a id=\"lemmatizing\"></a>"
   ]
  },
  {
   "cell_type": "markdown",
   "metadata": {},
   "source": [
    "Оценим наиболее популярные причины кредитования:"
   ]
  },
  {
   "cell_type": "code",
   "execution_count": 32,
   "metadata": {},
   "outputs": [
    {
     "data": {
      "text/plain": [
       "свадьба                                   791\n",
       "на проведение свадьбы                     768\n",
       "сыграть свадьбу                           765\n",
       "операции с недвижимостью                  675\n",
       "покупка коммерческой недвижимости         661\n",
       "операции с жильем                         652\n",
       "покупка жилья для сдачи                   651\n",
       "операции с коммерческой недвижимостью     650\n",
       "покупка жилья                             646\n",
       "жилье                                     646\n",
       "покупка жилья для семьи                   638\n",
       "строительство собственной недвижимости    635\n",
       "недвижимость                              633\n",
       "операции со своей недвижимостью           627\n",
       "строительство жилой недвижимости          624\n",
       "покупка недвижимости                      621\n",
       "покупка своего жилья                      620\n",
       "строительство недвижимости                619\n",
       "ремонт жилью                              607\n",
       "покупка жилой недвижимости                606\n",
       "на покупку своего автомобиля              505\n",
       "заняться высшим образованием              496\n",
       "автомобиль                                494\n",
       "сделка с подержанным автомобилем          486\n",
       "свой автомобиль                           478\n",
       "на покупку подержанного автомобиля        478\n",
       "автомобили                                478\n",
       "на покупку автомобиля                     471\n",
       "приобретение автомобиля                   461\n",
       "дополнительное образование                460\n",
       "сделка с автомобилем                      455\n",
       "высшее образование                        452\n",
       "образование                               447\n",
       "получение дополнительного образования     446\n",
       "получение образования                     442\n",
       "профильное образование                    436\n",
       "получение высшего образования             426\n",
       "заняться образованием                     408\n",
       "Name: purpose, dtype: int64"
      ]
     },
     "execution_count": 32,
     "metadata": {},
     "output_type": "execute_result"
    }
   ],
   "source": [
    "data['purpose'].value_counts()"
   ]
  },
  {
   "cell_type": "markdown",
   "metadata": {},
   "source": [
    "По сути, выделяется всего 4 ключевых понятия: свадьба, недвижимость/жилье, авто, образование.\n",
    "\n",
    "Выделим соответствующие категории отдельным столбцом:"
   ]
  },
  {
   "cell_type": "code",
   "execution_count": 33,
   "metadata": {},
   "outputs": [
    {
     "data": {
      "text/plain": [
       "недвижимость    10811\n",
       "автомобиль       4306\n",
       "образование      4013\n",
       "свадьба          2324\n",
       "Name: purpose_group, dtype: int64"
      ]
     },
     "execution_count": 33,
     "metadata": {},
     "output_type": "execute_result"
    }
   ],
   "source": [
    "m = Mystem()\n",
    "\n",
    "categories = ['свадьба', 'недвижимость', 'жилье', 'автомобиль', 'образование']\n",
    "\n",
    "# Лемматизируем данные из строки purpose и проверяем на наличие ключевого слова:\n",
    "def categorize (purpose):\n",
    "    try:\n",
    "        for word in m.lemmatize(purpose):\n",
    "            if word in categories:\n",
    "                return word\n",
    "    except:\n",
    "        return '<данные повреждены>'\n",
    "    return 'другое'\n",
    "\n",
    "# Добавляем новый стобец purpose_group с нашей категоризацией:\n",
    "data['purpose_group'] = data['purpose'].apply(categorize)\n",
    "# Категорию 'жилье' включаем в категорию 'нежвижимость':\n",
    "data['purpose_group'] = data['purpose_group'].replace('жилье', 'недвижимость')\n",
    "# Проверяем результат:\n",
    "data['purpose_group'].value_counts()"
   ]
  },
  {
   "cell_type": "markdown",
   "metadata": {},
   "source": [
    "Неохваченных строк по итогу категоризации не остается."
   ]
  },
  {
   "cell_type": "markdown",
   "metadata": {},
   "source": [
    "**Вывод**"
   ]
  },
  {
   "cell_type": "markdown",
   "metadata": {},
   "source": [
    "Лемматизация причин взятия кредита (колонка `purpose`) и проверка на соответсвие одному из пяти ключевых слов ('свадьба', 'недвижимость', 'жилье', 'автомобиль', 'образование'), два из которых эквивалентны по смыслу, позволили свести все причины взятия кредита к 4 основным категориям.\n",
    "\n",
    "Категории добавлены в таблицу отдельной колонкой `purpose_group`."
   ]
  },
  {
   "cell_type": "markdown",
   "metadata": {},
   "source": [
    "### Категоризация данных <a id=\"binning\"></a>"
   ]
  },
  {
   "cell_type": "markdown",
   "metadata": {},
   "source": [
    "Помимо уже добавленных категорий `purpose_group` (категоризация по основным целям получения кредита) <font color='purple'>и `age_group` (возрастные группы)</font>, для цели исследования важны семейное положение и количество детей клиента. Первое уже категоризовано достаточно хорошо в колонке `family_status`. Второе (колонка `children`) также можно считать категоризованным (число уникальных значений мало), но разумно будет ввести и дополнительную бинарную категорию: наличие/отстутствие детей у клиента:"
   ]
  },
  {
   "cell_type": "code",
   "execution_count": 34,
   "metadata": {},
   "outputs": [],
   "source": [
    "def has_children (num):\n",
    "    try:\n",
    "        if num > 0:\n",
    "            return 1\n",
    "        else:\n",
    "            return 0\n",
    "    except:\n",
    "        print ('На входе не численные данные!')\n",
    "    \n",
    "# Результат категоризации внесем в отдельный столбец has_children:\n",
    "data['has_children'] = data['children'].apply(has_children)"
   ]
  },
  {
   "cell_type": "markdown",
   "metadata": {},
   "source": [
    "Еще одной категорией, важной для исследования, является уровень дохода. Взглянем на распределение значений в колонке `total_income`:"
   ]
  },
  {
   "cell_type": "code",
   "execution_count": 35,
   "metadata": {},
   "outputs": [
    {
     "data": {
      "text/plain": [
       "count      21454\n",
       "mean      165485\n",
       "std        98335\n",
       "min        20667\n",
       "25%       107485\n",
       "50%       143334\n",
       "75%       197884\n",
       "max      2265604\n",
       "Name: total_income, dtype: object"
      ]
     },
     "execution_count": 35,
     "metadata": {},
     "output_type": "execute_result"
    }
   ],
   "source": [
    "data['total_income'].describe().apply(\"{:.0f}\".format)"
   ]
  },
  {
   "cell_type": "markdown",
   "metadata": {},
   "source": [
    "75% клиентов имеют доход ниже 200 тысяч в месяц, но при этом самые богатые клиенты зарабывают на порядок больше.\n",
    "\n",
    "Линейное разбиение здесь выглядит нецелесообразным, разумно было бы воспользоваться теми же пороговыми значениями, что и в выводе *describe()*. Делать это вручную мы, конечно, не будем, т.к. существуют *cut()* и *qcut()*, делающие это в одну строку:"
   ]
  },
  {
   "cell_type": "code",
   "execution_count": 36,
   "metadata": {},
   "outputs": [],
   "source": [
    "# Автоматическая категоризация на 4 группы.\n",
    "data['income_group'] = pd.qcut (data['total_income'], q=4, labels=['низкий','средний','высокий','очень высокий'])"
   ]
  },
  {
   "cell_type": "markdown",
   "metadata": {},
   "source": [
    "Это полностью аналогично ручной категоризации с применением через *apply()* функции такого вида:"
   ]
  },
  {
   "cell_type": "code",
   "execution_count": 37,
   "metadata": {},
   "outputs": [],
   "source": [
    "def income_group (total_income):\n",
    "    try:\n",
    "        if total_income <= 107623:\n",
    "            return 'низкий'\n",
    "        elif total_income <= 142594:\n",
    "            return 'средний'\n",
    "        elif total_income <= 195820:\n",
    "            return 'высокий'\n",
    "        else:\n",
    "            return 'очень высокий'\n",
    "    except:\n",
    "        return '<данные повреждены>'"
   ]
  },
  {
   "cell_type": "markdown",
   "metadata": {},
   "source": [
    "но намного проще и надежнее."
   ]
  },
  {
   "cell_type": "code",
   "execution_count": 38,
   "metadata": {},
   "outputs": [
    {
     "data": {
      "text/plain": [
       "низкий           5364\n",
       "очень высокий    5364\n",
       "средний          5363\n",
       "высокий          5363\n",
       "Name: income_group, dtype: int64"
      ]
     },
     "execution_count": 38,
     "metadata": {},
     "output_type": "execute_result"
    }
   ],
   "source": [
    "data['income_group'].value_counts()"
   ]
  },
  {
   "cell_type": "markdown",
   "metadata": {},
   "source": [
    "**Вывод**"
   ]
  },
  {
   "cell_type": "markdown",
   "metadata": {},
   "source": [
    "В разделе \"лемматизация\" мы ввели в таблицу категорию базовой цели кредитования (`purpose_group`).\n",
    "Для нашего исследования мы также ввели бинарную категорию наличия детей (`has_children`), а также категоризацию по четырем уровням дохода (`income_group`), стараясь получить примерно равное количество наблюдений для каждой категории (принцип квантилей).\n",
    "\n",
    "Кроме того, на этапе предобработки данных была введена категоризация по возрастным группам (`age_group`), которая может быть полезна при дальнейших исследованиях."
   ]
  },
  {
   "cell_type": "markdown",
   "metadata": {},
   "source": [
    "В датасете уже имеются словари `education_id`:`education` и `family_status_id`:`family_status`. В корректности `education_id` мы убедились на этапе обработки пустых значений, можно проверить и `family_status_id`:"
   ]
  },
  {
   "cell_type": "code",
   "execution_count": 39,
   "metadata": {
    "scrolled": true
   },
   "outputs": [
    {
     "data": {
      "text/plain": [
       "family_status_id  family_status        \n",
       "0                 женат / замужем          12339\n",
       "1                 гражданский брак          4151\n",
       "2                 вдовец / вдова             959\n",
       "3                 в разводе                 1195\n",
       "4                 Не женат / не замужем     2810\n",
       "Name: family_status, dtype: int64"
      ]
     },
     "execution_count": 39,
     "metadata": {},
     "output_type": "execute_result"
    }
   ],
   "source": [
    "data.groupby('family_status_id')['family_status'].value_counts()"
   ]
  },
  {
   "cell_type": "markdown",
   "metadata": {},
   "source": [
    "Значения `family_status_id` и `family_status` полностью соответствуют."
   ]
  },
  {
   "cell_type": "markdown",
   "metadata": {},
   "source": [
    "## Вопросы исследования <a id=\"analysis\"></a>"
   ]
  },
  {
   "cell_type": "markdown",
   "metadata": {},
   "source": [
    "### Есть ли зависимость между наличием детей и возвратом кредита в срок? <a id=\"children\"></a>"
   ]
  },
  {
   "cell_type": "code",
   "execution_count": 40,
   "metadata": {
    "scrolled": true
   },
   "outputs": [
    {
     "data": {
      "text/html": [
       "<div>\n",
       "<style scoped>\n",
       "    .dataframe tbody tr th:only-of-type {\n",
       "        vertical-align: middle;\n",
       "    }\n",
       "\n",
       "    .dataframe tbody tr th {\n",
       "        vertical-align: top;\n",
       "    }\n",
       "\n",
       "    .dataframe thead th {\n",
       "        text-align: right;\n",
       "    }\n",
       "</style>\n",
       "<table border=\"1\" class=\"dataframe\">\n",
       "  <thead>\n",
       "    <tr style=\"text-align: right;\">\n",
       "      <th></th>\n",
       "      <th>count</th>\n",
       "      <th>sum</th>\n",
       "      <th>mean</th>\n",
       "    </tr>\n",
       "    <tr>\n",
       "      <th>children</th>\n",
       "      <th></th>\n",
       "      <th></th>\n",
       "      <th></th>\n",
       "    </tr>\n",
       "  </thead>\n",
       "  <tbody>\n",
       "    <tr>\n",
       "      <th>0</th>\n",
       "      <td>14091.0</td>\n",
       "      <td>1063.0</td>\n",
       "      <td>0.075438</td>\n",
       "    </tr>\n",
       "    <tr>\n",
       "      <th>1</th>\n",
       "      <td>4855.0</td>\n",
       "      <td>445.0</td>\n",
       "      <td>0.091658</td>\n",
       "    </tr>\n",
       "    <tr>\n",
       "      <th>2</th>\n",
       "      <td>2128.0</td>\n",
       "      <td>202.0</td>\n",
       "      <td>0.094925</td>\n",
       "    </tr>\n",
       "    <tr>\n",
       "      <th>3</th>\n",
       "      <td>330.0</td>\n",
       "      <td>27.0</td>\n",
       "      <td>0.081818</td>\n",
       "    </tr>\n",
       "    <tr>\n",
       "      <th>4</th>\n",
       "      <td>41.0</td>\n",
       "      <td>4.0</td>\n",
       "      <td>0.097561</td>\n",
       "    </tr>\n",
       "    <tr>\n",
       "      <th>5</th>\n",
       "      <td>9.0</td>\n",
       "      <td>0.0</td>\n",
       "      <td>0.000000</td>\n",
       "    </tr>\n",
       "  </tbody>\n",
       "</table>\n",
       "</div>"
      ],
      "text/plain": [
       "            count     sum      mean\n",
       "children                           \n",
       "0         14091.0  1063.0  0.075438\n",
       "1          4855.0   445.0  0.091658\n",
       "2          2128.0   202.0  0.094925\n",
       "3           330.0    27.0  0.081818\n",
       "4            41.0     4.0  0.097561\n",
       "5             9.0     0.0  0.000000"
      ]
     },
     "execution_count": 40,
     "metadata": {},
     "output_type": "execute_result"
    }
   ],
   "source": [
    "# Составим сводную таблицу задолженности по количеству детей у клиента:\n",
    "num_children_pivot = data.pivot_table (index=['children'], values='debt', aggfunc=('count','sum','mean'))\n",
    "num_children_pivot[[\"count\", \"sum\", \"mean\"]]"
   ]
  },
  {
   "cell_type": "markdown",
   "metadata": {},
   "source": [
    "Прямой зависимости задолженности от количества детей не наблюдается: клиенты с 1, 2 и 4 детьми выплачивают кредиты заметно хуже (9,2-9,8% просрочки), чем бездетные (7.5%), но клиенты с 3 детьми ближе к бездетным по этому показателю (8,2%), а у клиентов с 5 детьми задолженностей нет вовсе.\n",
    "\n",
    "Но отметим, что чем больше число детей, тем менее репрезентативной выглядит выборка - слишком мало число наблюдений."
   ]
  },
  {
   "cell_type": "code",
   "execution_count": 41,
   "metadata": {},
   "outputs": [
    {
     "data": {
      "text/html": [
       "<div>\n",
       "<style scoped>\n",
       "    .dataframe tbody tr th:only-of-type {\n",
       "        vertical-align: middle;\n",
       "    }\n",
       "\n",
       "    .dataframe tbody tr th {\n",
       "        vertical-align: top;\n",
       "    }\n",
       "\n",
       "    .dataframe thead th {\n",
       "        text-align: right;\n",
       "    }\n",
       "</style>\n",
       "<table border=\"1\" class=\"dataframe\">\n",
       "  <thead>\n",
       "    <tr style=\"text-align: right;\">\n",
       "      <th></th>\n",
       "      <th>count</th>\n",
       "      <th>sum</th>\n",
       "      <th>mean</th>\n",
       "    </tr>\n",
       "    <tr>\n",
       "      <th>has_children</th>\n",
       "      <th></th>\n",
       "      <th></th>\n",
       "      <th></th>\n",
       "    </tr>\n",
       "  </thead>\n",
       "  <tbody>\n",
       "    <tr>\n",
       "      <th>0</th>\n",
       "      <td>14091.0</td>\n",
       "      <td>1063.0</td>\n",
       "      <td>0.075438</td>\n",
       "    </tr>\n",
       "    <tr>\n",
       "      <th>1</th>\n",
       "      <td>7363.0</td>\n",
       "      <td>678.0</td>\n",
       "      <td>0.092082</td>\n",
       "    </tr>\n",
       "  </tbody>\n",
       "</table>\n",
       "</div>"
      ],
      "text/plain": [
       "                count     sum      mean\n",
       "has_children                           \n",
       "0             14091.0  1063.0  0.075438\n",
       "1              7363.0   678.0  0.092082"
      ]
     },
     "execution_count": 41,
     "metadata": {},
     "output_type": "execute_result"
    }
   ],
   "source": [
    "# Составим сводную таблицу задолженности по наличию детей у клиента:\n",
    "has_children_pivot = data.pivot_table (index=['has_children'], values='debt', aggfunc=('count','sum','mean'))\n",
    "has_children_pivot[[\"count\", \"sum\", \"mean\"]]"
   ]
  },
  {
   "cell_type": "markdown",
   "metadata": {},
   "source": [
    "Тем не менее, бездетные в целом платят более исправно - лишь 7,5% бездетных клиентов имеют задолженность против 9,2% у клиентов с детьми."
   ]
  },
  {
   "cell_type": "markdown",
   "metadata": {},
   "source": [
    "**Вывод**"
   ]
  },
  {
   "cell_type": "markdown",
   "metadata": {},
   "source": [
    "Прямой зависимости между количеством детей и задолженностью не обнаружено, но в целом бездетные действительно имеют меньше долгов по кредитам, что вполне объяснимо: в общечеловеческой системе ценностей нужды ребенка, реальные или мнимые, оказываются важнее задолженности перед банком."
   ]
  },
  {
   "cell_type": "markdown",
   "metadata": {},
   "source": [
    "### Есть ли зависимость между семейным положением и возвратом кредита в срок? <a id=\"fam_status\"></a>"
   ]
  },
  {
   "cell_type": "code",
   "execution_count": 42,
   "metadata": {},
   "outputs": [
    {
     "data": {
      "text/html": [
       "<div>\n",
       "<style scoped>\n",
       "    .dataframe tbody tr th:only-of-type {\n",
       "        vertical-align: middle;\n",
       "    }\n",
       "\n",
       "    .dataframe tbody tr th {\n",
       "        vertical-align: top;\n",
       "    }\n",
       "\n",
       "    .dataframe thead th {\n",
       "        text-align: right;\n",
       "    }\n",
       "</style>\n",
       "<table border=\"1\" class=\"dataframe\">\n",
       "  <thead>\n",
       "    <tr style=\"text-align: right;\">\n",
       "      <th></th>\n",
       "      <th>count</th>\n",
       "      <th>sum</th>\n",
       "      <th>mean</th>\n",
       "    </tr>\n",
       "    <tr>\n",
       "      <th>family_status</th>\n",
       "      <th></th>\n",
       "      <th></th>\n",
       "      <th></th>\n",
       "    </tr>\n",
       "  </thead>\n",
       "  <tbody>\n",
       "    <tr>\n",
       "      <th>вдовец / вдова</th>\n",
       "      <td>959.0</td>\n",
       "      <td>63.0</td>\n",
       "      <td>0.065693</td>\n",
       "    </tr>\n",
       "    <tr>\n",
       "      <th>в разводе</th>\n",
       "      <td>1195.0</td>\n",
       "      <td>85.0</td>\n",
       "      <td>0.071130</td>\n",
       "    </tr>\n",
       "    <tr>\n",
       "      <th>женат / замужем</th>\n",
       "      <td>12339.0</td>\n",
       "      <td>931.0</td>\n",
       "      <td>0.075452</td>\n",
       "    </tr>\n",
       "    <tr>\n",
       "      <th>гражданский брак</th>\n",
       "      <td>4151.0</td>\n",
       "      <td>388.0</td>\n",
       "      <td>0.093471</td>\n",
       "    </tr>\n",
       "    <tr>\n",
       "      <th>Не женат / не замужем</th>\n",
       "      <td>2810.0</td>\n",
       "      <td>274.0</td>\n",
       "      <td>0.097509</td>\n",
       "    </tr>\n",
       "  </tbody>\n",
       "</table>\n",
       "</div>"
      ],
      "text/plain": [
       "                         count    sum      mean\n",
       "family_status                                  \n",
       "вдовец / вдова           959.0   63.0  0.065693\n",
       "в разводе               1195.0   85.0  0.071130\n",
       "женат / замужем        12339.0  931.0  0.075452\n",
       "гражданский брак        4151.0  388.0  0.093471\n",
       "Не женат / не замужем   2810.0  274.0  0.097509"
      ]
     },
     "execution_count": 42,
     "metadata": {},
     "output_type": "execute_result"
    }
   ],
   "source": [
    "# Составим сводную таблицу задолженности по семейному положению клиента:\n",
    "family_status_pivot = data.pivot_table(index=['family_status'], values='debt', aggfunc=('count','sum','mean'))\n",
    "# Для наглядности отсортируем ее по средней доле задолженностей:\n",
    "family_status_pivot = family_status_pivot.sort_values(by='mean')\n",
    "family_status_pivot[[\"count\", \"sum\", \"mean\"]]"
   ]
  },
  {
   "cell_type": "markdown",
   "metadata": {},
   "source": [
    "**Вывод**"
   ]
  },
  {
   "cell_type": "markdown",
   "metadata": {},
   "source": [
    "У людей в браке и бывших в браке задолженностей по кредитам заметно меньше (6,6-7,5%), чем у холостых или просто сожительствующих (9,3-9,8%). Можно заключить, что опыт семейной жизни учит более ответственному отношению к финансам."
   ]
  },
  {
   "cell_type": "markdown",
   "metadata": {},
   "source": [
    "### Есть ли зависимость между уровнем дохода и возвратом кредита в срок? <a id=\"income\"></a>"
   ]
  },
  {
   "cell_type": "code",
   "execution_count": 43,
   "metadata": {},
   "outputs": [
    {
     "data": {
      "text/html": [
       "<div>\n",
       "<style scoped>\n",
       "    .dataframe tbody tr th:only-of-type {\n",
       "        vertical-align: middle;\n",
       "    }\n",
       "\n",
       "    .dataframe tbody tr th {\n",
       "        vertical-align: top;\n",
       "    }\n",
       "\n",
       "    .dataframe thead th {\n",
       "        text-align: right;\n",
       "    }\n",
       "</style>\n",
       "<table border=\"1\" class=\"dataframe\">\n",
       "  <thead>\n",
       "    <tr style=\"text-align: right;\">\n",
       "      <th></th>\n",
       "      <th>count</th>\n",
       "      <th>sum</th>\n",
       "      <th>mean</th>\n",
       "    </tr>\n",
       "    <tr>\n",
       "      <th>income_group</th>\n",
       "      <th></th>\n",
       "      <th></th>\n",
       "      <th></th>\n",
       "    </tr>\n",
       "  </thead>\n",
       "  <tbody>\n",
       "    <tr>\n",
       "      <th>низкий</th>\n",
       "      <td>5364.0</td>\n",
       "      <td>427.0</td>\n",
       "      <td>0.079605</td>\n",
       "    </tr>\n",
       "    <tr>\n",
       "      <th>средний</th>\n",
       "      <td>5363.0</td>\n",
       "      <td>484.0</td>\n",
       "      <td>0.090248</td>\n",
       "    </tr>\n",
       "    <tr>\n",
       "      <th>высокий</th>\n",
       "      <td>5363.0</td>\n",
       "      <td>456.0</td>\n",
       "      <td>0.085027</td>\n",
       "    </tr>\n",
       "    <tr>\n",
       "      <th>очень высокий</th>\n",
       "      <td>5364.0</td>\n",
       "      <td>374.0</td>\n",
       "      <td>0.069724</td>\n",
       "    </tr>\n",
       "  </tbody>\n",
       "</table>\n",
       "</div>"
      ],
      "text/plain": [
       "                count    sum      mean\n",
       "income_group                          \n",
       "низкий         5364.0  427.0  0.079605\n",
       "средний        5363.0  484.0  0.090248\n",
       "высокий        5363.0  456.0  0.085027\n",
       "очень высокий  5364.0  374.0  0.069724"
      ]
     },
     "execution_count": 43,
     "metadata": {},
     "output_type": "execute_result"
    }
   ],
   "source": [
    "# Составим сводную таблицу задолженности по категории дохода клиента:\n",
    "income_group_pivot = data.pivot_table (index=['income_group'], values='debt', aggfunc=('count','sum','mean'))\n",
    "income_group_pivot[[\"count\", \"sum\", \"mean\"]]"
   ]
  },
  {
   "cell_type": "markdown",
   "metadata": {},
   "source": [
    "**Вывод**"
   ]
  },
  {
   "cell_type": "markdown",
   "metadata": {},
   "source": [
    "Клиенты с очень высоким уровнем заработка (верхние 25%) имеют наименьшую задолженность (7% просрочек). Однако самые бедные клиенты (нижние 25%) оказываются более дисциплинированными, чем \"средний класс\": 8% невозвратов против 8,5-8,8%.\n",
    "\n",
    "В целом прямой зависимости между доходом и долгами не прослеживается. Тем не менее, можно сделать очевидные наблюдения: очень богатые клиенты имеют меньше долгов, чем все остальные, а люди с ограниченным доходом волей-неволей вынуждены блюсти финансовую дисциплину."
   ]
  },
  {
   "cell_type": "markdown",
   "metadata": {},
   "source": [
    "### Как разные цели кредита влияют на его возврат в срок? <a id=\"purpose\"></a>"
   ]
  },
  {
   "cell_type": "code",
   "execution_count": 44,
   "metadata": {},
   "outputs": [
    {
     "data": {
      "text/html": [
       "<div>\n",
       "<style scoped>\n",
       "    .dataframe tbody tr th:only-of-type {\n",
       "        vertical-align: middle;\n",
       "    }\n",
       "\n",
       "    .dataframe tbody tr th {\n",
       "        vertical-align: top;\n",
       "    }\n",
       "\n",
       "    .dataframe thead th {\n",
       "        text-align: right;\n",
       "    }\n",
       "</style>\n",
       "<table border=\"1\" class=\"dataframe\">\n",
       "  <thead>\n",
       "    <tr style=\"text-align: right;\">\n",
       "      <th></th>\n",
       "      <th>count</th>\n",
       "      <th>sum</th>\n",
       "      <th>mean</th>\n",
       "    </tr>\n",
       "    <tr>\n",
       "      <th>purpose_group</th>\n",
       "      <th></th>\n",
       "      <th></th>\n",
       "      <th></th>\n",
       "    </tr>\n",
       "  </thead>\n",
       "  <tbody>\n",
       "    <tr>\n",
       "      <th>недвижимость</th>\n",
       "      <td>10811.0</td>\n",
       "      <td>782.0</td>\n",
       "      <td>0.072334</td>\n",
       "    </tr>\n",
       "    <tr>\n",
       "      <th>свадьба</th>\n",
       "      <td>2324.0</td>\n",
       "      <td>186.0</td>\n",
       "      <td>0.080034</td>\n",
       "    </tr>\n",
       "    <tr>\n",
       "      <th>образование</th>\n",
       "      <td>4013.0</td>\n",
       "      <td>370.0</td>\n",
       "      <td>0.092200</td>\n",
       "    </tr>\n",
       "    <tr>\n",
       "      <th>автомобиль</th>\n",
       "      <td>4306.0</td>\n",
       "      <td>403.0</td>\n",
       "      <td>0.093590</td>\n",
       "    </tr>\n",
       "  </tbody>\n",
       "</table>\n",
       "</div>"
      ],
      "text/plain": [
       "                 count    sum      mean\n",
       "purpose_group                          \n",
       "недвижимость   10811.0  782.0  0.072334\n",
       "свадьба         2324.0  186.0  0.080034\n",
       "образование     4013.0  370.0  0.092200\n",
       "автомобиль      4306.0  403.0  0.093590"
      ]
     },
     "execution_count": 44,
     "metadata": {},
     "output_type": "execute_result"
    }
   ],
   "source": [
    "# Составим сводную таблицу задолженности по основной цели кредита:\n",
    "purpose_group_pivot = data.pivot_table(index=['purpose_group'], values = 'debt', aggfunc=('count','sum','mean'))\n",
    "\n",
    "# Для наглядности отсортируем ее по средней доле задолженностей:\n",
    "purpose_group_pivot = purpose_group_pivot.sort_values(by='mean')\n",
    "purpose_group_pivot[[\"count\", \"sum\", \"mean\"]]"
   ]
  },
  {
   "cell_type": "markdown",
   "metadata": {},
   "source": [
    "**Вывод**"
   ]
  },
  {
   "cell_type": "markdown",
   "metadata": {},
   "source": [
    "Зависимость между целью получения кредита и процентом невозврата действительно прослеживается: кредиты на покупку недвижимости показывают наименьшую долю просрочек (около 7,2%), следом идут кредиты на свадьбу (около 8%). Клиенты, берущие кредиты на образование и покупку авто демонстрируют несколько меньшую старательность в воврате кредита, процент задолженности в этих двух категориях одного порядка (9,2-9,4%)."
   ]
  },
  {
   "cell_type": "markdown",
   "metadata": {},
   "source": [
    "## Общий вывод <a id=\"conclusion\"></a>"
   ]
  },
  {
   "cell_type": "markdown",
   "metadata": {},
   "source": [
    "Мы обработали и проанализировали данные о платежеспособности клиентов и можем сделать следующие выводы:\n",
    "\n",
    "    \n",
    "- Семейное положение действительно влияет на погашение кредита в срок. Клиенты в браке чаще платят в срок, чем вне брака, а разведенные и овдовевшие еще чаще: самыми ответственными оказались вдовцы - в среднем лишь 6,6% просрочек, самыми ненадежными неженатые/незамужние - 9,8% из них не платят вовремя. \n",
    "\n",
    "    \n",
    "- Бездетные клиенты имеют меньше задолженностей, чем клиенты с детьми; разное количество детей не коррелирует с фактом наличия задолженности. Так, ни один клиент с 5 детьми не должен банку, а у клиентов с 4 детьми долгов больше всего - 9,8%, но таких людей слишком мало, чтобы это было статистически значимым. В целом лишь 7,5% бездетных клиентов не гасят кредит в срок против 9,2% у клиентов с детьми.\n",
    "\n",
    "    \n",
    "- Клиенты с доходом выше 200 тыс. в месяц реже прочих оказываются в должниках - таковых среди них всего 7%. За ними следуют клиенты с самой низкой категорией дохода (20-100 тыс. в месяц), а вот люди со средним доходом гасят кредит неохотно. Клиенты с доходом 107-143 тыс. оказались наименее ответственными - 9% задолженностей.\n",
    "\n",
    "    \n",
    "- Кредиты на жилье и свадьбы выплачивают заметно старательней, чем на образование и покупку авто. Самыми ответственными оказались клиенты, берущие кредит на покупку недвижимости - должников лишь 7,2%, а худшими клиентами - взявшие кредит ради автомобиля, - 9,4% таких кредитов просрочено.\n",
    "\n",
    "Идеальный клиент банка по этим параметрам - бездетный, состоящий или ранее состоявший в браке, с доходом выше 200 тыс. в месяц, ищущий кредит на покупку недвижимости."
   ]
  },
  {
   "cell_type": "code",
   "execution_count": 45,
   "metadata": {},
   "outputs": [
    {
     "name": "stdout",
     "output_type": "stream",
     "text": [
      "Средняя доля задолженностей по всем клиентам: 8.1%\n",
      "Средняя доля задолженностей среди идеальных клиентов: 6.0%\n"
     ]
    }
   ],
   "source": [
    "# Продемонстрируем правильность нашего вывода: сравним среднего и нашего \"идеального\" клиента:\n",
    "ideal_data = data[(data['has_children']==0) & (data['family_status_id'].isin([0,2,3])) &\n",
    "                  (data['income_group']=='очень высокий') & (data['purpose_group']=='недвижимость')]\n",
    "print ('Средняя доля задолженностей по всем клиентам: {:.1%}'.format (data['debt'].mean()))\n",
    "print ('Средняя доля задолженностей среди идеальных клиентов: {:.1%}'.format (ideal_data['debt'].mean()))"
   ]
  },
  {
   "cell_type": "markdown",
   "metadata": {},
   "source": [
    "### Рекомендации по заполнению данных:"
   ]
  },
  {
   "cell_type": "markdown",
   "metadata": {},
   "source": [
    "- Текущий метод заполнения сведений об образовании приводит к разнобою и дубликатам. Рекомендуется выбирать категорию из списка.\n",
    "- Данные о трудовом стаже неясны. Они не используются в данном исследовании, но неплохо было бы получить разъяснения от составителей.\n",
    "- Было бы желательно ввести уникальный идентификатор клиента - без этого неясно, как трактовать идентичные строки."
   ]
  }
 ],
 "metadata": {
  "ExecuteTimeLog": [
   {
    "duration": 2847,
    "start_time": "2021-08-30T11:08:19.120Z"
   },
   {
    "duration": 65,
    "start_time": "2021-08-30T11:08:33.394Z"
   },
   {
    "duration": 340,
    "start_time": "2021-08-30T11:08:46.098Z"
   },
   {
    "duration": 79,
    "start_time": "2021-08-30T11:08:54.890Z"
   },
   {
    "duration": 691,
    "start_time": "2021-08-30T11:35:30.399Z"
   },
   {
    "duration": 74,
    "start_time": "2021-08-30T11:35:44.379Z"
   },
   {
    "duration": 100,
    "start_time": "2021-08-30T11:36:16.589Z"
   },
   {
    "duration": 98,
    "start_time": "2021-08-30T11:37:00.354Z"
   },
   {
    "duration": 70,
    "start_time": "2021-08-30T11:40:22.379Z"
   },
   {
    "duration": 85,
    "start_time": "2021-08-30T11:40:34.260Z"
   },
   {
    "duration": 90,
    "start_time": "2021-08-30T11:49:14.819Z"
   },
   {
    "duration": 368,
    "start_time": "2021-08-30T11:49:26.859Z"
   },
   {
    "duration": 353,
    "start_time": "2021-08-30T11:49:33.559Z"
   },
   {
    "duration": 353,
    "start_time": "2021-08-30T11:50:29.839Z"
   },
   {
    "duration": 332,
    "start_time": "2021-08-30T11:51:11.389Z"
   },
   {
    "duration": 3586,
    "start_time": "2021-08-30T11:51:37.099Z"
   },
   {
    "duration": 82,
    "start_time": "2021-08-30T11:53:30.659Z"
   },
   {
    "duration": 81,
    "start_time": "2021-08-30T11:53:43.258Z"
   },
   {
    "duration": 341,
    "start_time": "2021-08-30T11:54:01.178Z"
   },
   {
    "duration": 363,
    "start_time": "2021-08-30T11:54:12.959Z"
   },
   {
    "duration": 102,
    "start_time": "2021-08-30T11:54:25.078Z"
   },
   {
    "duration": 90,
    "start_time": "2021-08-30T11:54:33.538Z"
   },
   {
    "duration": 343,
    "start_time": "2021-08-30T11:54:39.668Z"
   },
   {
    "duration": 90,
    "start_time": "2021-08-30T11:55:35.819Z"
   },
   {
    "duration": 85,
    "start_time": "2021-08-30T11:55:48.199Z"
   },
   {
    "duration": 82,
    "start_time": "2021-08-30T11:56:45.499Z"
   },
   {
    "duration": 329,
    "start_time": "2021-08-30T11:57:17.639Z"
   },
   {
    "duration": 79,
    "start_time": "2021-08-30T11:57:30.737Z"
   },
   {
    "duration": 78,
    "start_time": "2021-08-30T11:59:28.117Z"
   },
   {
    "duration": 89,
    "start_time": "2021-08-30T11:59:39.399Z"
   },
   {
    "duration": 81,
    "start_time": "2021-08-30T12:00:59.619Z"
   },
   {
    "duration": 95,
    "start_time": "2021-08-30T12:01:09.139Z"
   },
   {
    "duration": 272,
    "start_time": "2021-08-30T12:04:51.843Z"
   },
   {
    "duration": 623,
    "start_time": "2021-08-30T12:15:37.723Z"
   },
   {
    "duration": 24,
    "start_time": "2021-08-30T12:15:56.471Z"
   },
   {
    "duration": 48,
    "start_time": "2021-08-30T12:16:15.740Z"
   },
   {
    "duration": 38,
    "start_time": "2021-08-30T12:16:25.227Z"
   },
   {
    "duration": 34,
    "start_time": "2021-08-30T12:16:33.819Z"
   },
   {
    "duration": 30,
    "start_time": "2021-08-30T12:16:40.167Z"
   },
   {
    "duration": 19,
    "start_time": "2021-08-30T12:16:52.475Z"
   },
   {
    "duration": 25,
    "start_time": "2021-08-30T12:18:12.779Z"
   },
   {
    "duration": 23,
    "start_time": "2021-08-30T12:18:16.678Z"
   },
   {
    "duration": 87,
    "start_time": "2021-08-30T12:18:22.579Z"
   },
   {
    "duration": 24,
    "start_time": "2021-08-30T12:18:22.669Z"
   },
   {
    "duration": 5,
    "start_time": "2021-08-30T12:18:22.696Z"
   },
   {
    "duration": 26,
    "start_time": "2021-08-30T12:18:45.443Z"
   },
   {
    "duration": 94,
    "start_time": "2021-08-30T12:18:54.308Z"
   },
   {
    "duration": 25,
    "start_time": "2021-08-30T12:18:54.405Z"
   },
   {
    "duration": 38,
    "start_time": "2021-08-30T12:18:54.433Z"
   },
   {
    "duration": 90,
    "start_time": "2021-08-30T12:20:41.418Z"
   },
   {
    "duration": 21,
    "start_time": "2021-08-30T12:24:27.702Z"
   },
   {
    "duration": 22,
    "start_time": "2021-08-30T12:27:51.059Z"
   },
   {
    "duration": 15,
    "start_time": "2021-08-30T12:28:32.987Z"
   },
   {
    "duration": 21,
    "start_time": "2021-08-30T12:28:58.589Z"
   },
   {
    "duration": 11,
    "start_time": "2021-08-30T12:29:13.927Z"
   },
   {
    "duration": 16,
    "start_time": "2021-08-30T12:29:23.149Z"
   },
   {
    "duration": 10,
    "start_time": "2021-08-30T12:29:31.803Z"
   },
   {
    "duration": 271,
    "start_time": "2021-08-30T12:29:45.949Z"
   },
   {
    "duration": 13,
    "start_time": "2021-08-30T12:29:54.300Z"
   },
   {
    "duration": 7,
    "start_time": "2021-08-30T12:33:32.219Z"
   },
   {
    "duration": 8,
    "start_time": "2021-08-30T12:33:59.629Z"
   },
   {
    "duration": 279,
    "start_time": "2021-08-30T12:36:07.809Z"
   },
   {
    "duration": 277,
    "start_time": "2021-08-30T12:36:23.231Z"
   },
   {
    "duration": 19,
    "start_time": "2021-08-30T12:37:08.331Z"
   },
   {
    "duration": 6,
    "start_time": "2021-08-30T12:43:00.549Z"
   },
   {
    "duration": 21,
    "start_time": "2021-08-30T12:43:15.499Z"
   },
   {
    "duration": 22,
    "start_time": "2021-08-30T12:51:44.689Z"
   },
   {
    "duration": 27,
    "start_time": "2021-08-30T12:52:17.951Z"
   },
   {
    "duration": 27,
    "start_time": "2021-08-30T12:52:24.249Z"
   },
   {
    "duration": 19,
    "start_time": "2021-08-30T12:52:33.719Z"
   },
   {
    "duration": 91,
    "start_time": "2021-08-30T13:03:00.341Z"
   },
   {
    "duration": 41,
    "start_time": "2021-08-30T13:03:48.199Z"
   },
   {
    "duration": 15,
    "start_time": "2021-08-30T13:06:06.743Z"
   },
   {
    "duration": 14,
    "start_time": "2021-08-30T13:07:22.007Z"
   },
   {
    "duration": 13,
    "start_time": "2021-08-30T13:07:49.869Z"
   },
   {
    "duration": 104,
    "start_time": "2021-08-30T13:09:23.147Z"
   },
   {
    "duration": 14,
    "start_time": "2021-08-30T13:10:06.107Z"
   },
   {
    "duration": 303,
    "start_time": "2021-08-30T13:12:16.799Z"
   },
   {
    "duration": 21,
    "start_time": "2021-08-30T13:12:43.745Z"
   },
   {
    "duration": 25,
    "start_time": "2021-08-30T13:14:28.852Z"
   },
   {
    "duration": 717,
    "start_time": "2021-08-30T13:15:08.737Z"
   },
   {
    "duration": 24,
    "start_time": "2021-08-30T13:15:47.898Z"
   },
   {
    "duration": 8,
    "start_time": "2021-08-30T13:28:51.147Z"
   },
   {
    "duration": 7,
    "start_time": "2021-08-30T13:33:55.559Z"
   },
   {
    "duration": 12,
    "start_time": "2021-08-30T13:37:18.699Z"
   },
   {
    "duration": 12,
    "start_time": "2021-08-30T13:38:45.900Z"
   },
   {
    "duration": 15,
    "start_time": "2021-08-30T13:39:23.900Z"
   },
   {
    "duration": 11,
    "start_time": "2021-08-30T13:46:25.683Z"
   },
   {
    "duration": 13,
    "start_time": "2021-08-30T13:46:35.405Z"
   },
   {
    "duration": 22,
    "start_time": "2021-08-30T13:54:01.173Z"
   },
   {
    "duration": 270,
    "start_time": "2021-08-30T14:05:34.245Z"
   },
   {
    "duration": 12,
    "start_time": "2021-08-30T14:05:42.731Z"
   },
   {
    "duration": 9155,
    "start_time": "2021-08-30T14:05:46.076Z"
   },
   {
    "duration": 144,
    "start_time": "2021-08-30T14:06:13.105Z"
   },
   {
    "duration": 370,
    "start_time": "2021-08-30T14:07:01.126Z"
   },
   {
    "duration": 669,
    "start_time": "2021-08-30T14:07:18.572Z"
   },
   {
    "duration": 21,
    "start_time": "2021-08-30T14:07:25.064Z"
   },
   {
    "duration": 121,
    "start_time": "2021-08-30T14:08:04.893Z"
   },
   {
    "duration": 8,
    "start_time": "2021-08-30T14:08:05.016Z"
   },
   {
    "duration": 35,
    "start_time": "2021-08-30T14:08:05.028Z"
   },
   {
    "duration": 24,
    "start_time": "2021-08-30T14:08:05.067Z"
   },
   {
    "duration": 116,
    "start_time": "2021-08-30T14:08:05.093Z"
   },
   {
    "duration": 27,
    "start_time": "2021-08-30T14:08:05.213Z"
   },
   {
    "duration": 359,
    "start_time": "2021-08-30T14:08:05.270Z"
   },
   {
    "duration": -435,
    "start_time": "2021-08-30T14:08:06.067Z"
   },
   {
    "duration": 104,
    "start_time": "2021-08-30T14:08:44.088Z"
   },
   {
    "duration": 73,
    "start_time": "2021-08-30T14:09:43.705Z"
   },
   {
    "duration": 15,
    "start_time": "2021-08-30T14:13:00.636Z"
   },
   {
    "duration": 14,
    "start_time": "2021-08-30T14:13:29.595Z"
   },
   {
    "duration": 111,
    "start_time": "2021-08-30T14:16:23.495Z"
   },
   {
    "duration": 12,
    "start_time": "2021-08-30T14:19:40.496Z"
   },
   {
    "duration": 128,
    "start_time": "2021-08-30T14:20:05.745Z"
   },
   {
    "duration": 36,
    "start_time": "2021-08-30T14:23:35.335Z"
   },
   {
    "duration": 60,
    "start_time": "2021-08-30T14:24:14.631Z"
   },
   {
    "duration": 18,
    "start_time": "2021-08-30T14:29:24.494Z"
   },
   {
    "duration": 309,
    "start_time": "2021-08-30T14:30:32.474Z"
   },
   {
    "duration": 302,
    "start_time": "2021-08-30T14:30:57.924Z"
   },
   {
    "duration": 286,
    "start_time": "2021-08-30T14:32:57.516Z"
   },
   {
    "duration": 13,
    "start_time": "2021-08-30T14:33:44.084Z"
   },
   {
    "duration": 13,
    "start_time": "2021-08-30T14:34:00.203Z"
   },
   {
    "duration": 37,
    "start_time": "2021-08-30T14:36:30.354Z"
   },
   {
    "duration": 26,
    "start_time": "2021-08-30T14:37:41.521Z"
   },
   {
    "duration": 24,
    "start_time": "2021-08-30T14:37:49.925Z"
   },
   {
    "duration": 73,
    "start_time": "2021-08-30T14:38:12.815Z"
   },
   {
    "duration": 32,
    "start_time": "2021-08-30T14:38:22.878Z"
   },
   {
    "duration": 25,
    "start_time": "2021-08-30T14:38:37.594Z"
   },
   {
    "duration": 93,
    "start_time": "2021-08-30T14:39:05.644Z"
   },
   {
    "duration": 18,
    "start_time": "2021-08-30T14:39:24.474Z"
   },
   {
    "duration": 53,
    "start_time": "2021-08-30T14:41:15.888Z"
   },
   {
    "duration": 66,
    "start_time": "2021-08-30T14:41:33.859Z"
   },
   {
    "duration": 49,
    "start_time": "2021-08-30T14:41:48.385Z"
   },
   {
    "duration": 55,
    "start_time": "2021-08-30T14:41:54.884Z"
   },
   {
    "duration": 34,
    "start_time": "2021-08-30T14:42:21.403Z"
   },
   {
    "duration": 35,
    "start_time": "2021-08-30T14:44:40.093Z"
   },
   {
    "duration": 29,
    "start_time": "2021-08-30T14:44:51.816Z"
   },
   {
    "duration": 20,
    "start_time": "2021-08-30T14:44:57.694Z"
   },
   {
    "duration": 92,
    "start_time": "2021-08-30T14:45:32.856Z"
   },
   {
    "duration": 19,
    "start_time": "2021-08-30T14:45:46.651Z"
   },
   {
    "duration": 13,
    "start_time": "2021-08-30T14:53:37.664Z"
   },
   {
    "duration": 69,
    "start_time": "2021-08-30T14:56:03.253Z"
   },
   {
    "duration": 77,
    "start_time": "2021-08-30T14:56:13.435Z"
   },
   {
    "duration": 15,
    "start_time": "2021-08-30T14:56:37.890Z"
   },
   {
    "duration": 19,
    "start_time": "2021-08-30T14:56:43.046Z"
   },
   {
    "duration": 13,
    "start_time": "2021-08-30T14:56:46.336Z"
   },
   {
    "duration": 140,
    "start_time": "2021-08-30T14:56:49.376Z"
   },
   {
    "duration": 7,
    "start_time": "2021-08-30T14:56:49.519Z"
   },
   {
    "duration": 13,
    "start_time": "2021-08-30T14:56:49.529Z"
   },
   {
    "duration": 36,
    "start_time": "2021-08-30T14:56:49.545Z"
   },
   {
    "duration": 21,
    "start_time": "2021-08-30T14:56:49.584Z"
   },
   {
    "duration": 129,
    "start_time": "2021-08-30T14:56:49.607Z"
   },
   {
    "duration": 20,
    "start_time": "2021-08-30T14:56:49.739Z"
   },
   {
    "duration": 17,
    "start_time": "2021-08-30T14:56:49.763Z"
   },
   {
    "duration": 73,
    "start_time": "2021-08-30T14:56:49.789Z"
   },
   {
    "duration": 38,
    "start_time": "2021-08-30T14:56:49.866Z"
   },
   {
    "duration": 69,
    "start_time": "2021-08-30T14:56:49.907Z"
   },
   {
    "duration": 30,
    "start_time": "2021-08-30T14:56:49.980Z"
   },
   {
    "duration": 152,
    "start_time": "2021-08-30T14:57:14.125Z"
   },
   {
    "duration": 11,
    "start_time": "2021-08-30T14:57:14.281Z"
   },
   {
    "duration": 27,
    "start_time": "2021-08-30T14:57:14.297Z"
   },
   {
    "duration": 34,
    "start_time": "2021-08-30T14:57:14.328Z"
   },
   {
    "duration": 34,
    "start_time": "2021-08-30T14:57:14.366Z"
   },
   {
    "duration": 393,
    "start_time": "2021-08-30T14:57:14.403Z"
   },
   {
    "duration": 20,
    "start_time": "2021-08-30T14:57:14.799Z"
   },
   {
    "duration": 18,
    "start_time": "2021-08-30T14:57:14.824Z"
   },
   {
    "duration": 87,
    "start_time": "2021-08-30T14:57:14.855Z"
   },
   {
    "duration": 53,
    "start_time": "2021-08-30T14:57:14.945Z"
   },
   {
    "duration": 32,
    "start_time": "2021-08-30T14:57:15.001Z"
   },
   {
    "duration": 45,
    "start_time": "2021-08-30T14:57:15.036Z"
   },
   {
    "duration": 24,
    "start_time": "2021-08-30T14:57:31.034Z"
   },
   {
    "duration": 158,
    "start_time": "2021-08-30T14:57:33.500Z"
   },
   {
    "duration": 19,
    "start_time": "2021-08-30T14:57:33.662Z"
   },
   {
    "duration": 16,
    "start_time": "2021-08-30T14:57:33.688Z"
   },
   {
    "duration": 68,
    "start_time": "2021-08-30T14:57:33.708Z"
   },
   {
    "duration": 25,
    "start_time": "2021-08-30T14:57:33.780Z"
   },
   {
    "duration": 164,
    "start_time": "2021-08-30T14:57:33.814Z"
   },
   {
    "duration": 27,
    "start_time": "2021-08-30T14:57:33.981Z"
   },
   {
    "duration": 16,
    "start_time": "2021-08-30T14:57:34.014Z"
   },
   {
    "duration": 107,
    "start_time": "2021-08-30T14:57:34.033Z"
   },
   {
    "duration": 70,
    "start_time": "2021-08-30T14:57:34.142Z"
   },
   {
    "duration": 27,
    "start_time": "2021-08-30T14:57:34.215Z"
   },
   {
    "duration": 68,
    "start_time": "2021-08-30T14:57:34.245Z"
   },
   {
    "duration": 34,
    "start_time": "2021-08-30T15:05:03.857Z"
   },
   {
    "duration": 27,
    "start_time": "2021-08-30T15:05:19.696Z"
   },
   {
    "duration": 97,
    "start_time": "2021-08-30T16:57:40.367Z"
   },
   {
    "duration": 10,
    "start_time": "2021-08-30T16:57:40.468Z"
   },
   {
    "duration": 12,
    "start_time": "2021-08-30T16:57:40.482Z"
   },
   {
    "duration": 31,
    "start_time": "2021-08-30T16:57:40.497Z"
   },
   {
    "duration": 13,
    "start_time": "2021-08-30T16:57:40.555Z"
   },
   {
    "duration": 108,
    "start_time": "2021-08-30T16:57:40.570Z"
   },
   {
    "duration": 13,
    "start_time": "2021-08-30T16:57:40.680Z"
   },
   {
    "duration": 19,
    "start_time": "2021-08-30T16:57:40.696Z"
   },
   {
    "duration": 73,
    "start_time": "2021-08-30T16:57:40.718Z"
   },
   {
    "duration": 24,
    "start_time": "2021-08-30T16:57:40.794Z"
   },
   {
    "duration": 47,
    "start_time": "2021-08-30T16:57:40.820Z"
   },
   {
    "duration": 36,
    "start_time": "2021-08-30T16:57:40.870Z"
   },
   {
    "duration": 28,
    "start_time": "2021-08-30T16:57:40.909Z"
   },
   {
    "duration": 13,
    "start_time": "2021-08-30T17:00:27.428Z"
   },
   {
    "duration": 817,
    "start_time": "2021-08-30T17:03:22.692Z"
   },
   {
    "duration": 25,
    "start_time": "2021-08-30T17:03:35.159Z"
   },
   {
    "duration": 23,
    "start_time": "2021-08-30T17:14:57.902Z"
   },
   {
    "duration": 102,
    "start_time": "2021-08-30T17:15:18.672Z"
   },
   {
    "duration": 10,
    "start_time": "2021-08-30T17:15:18.780Z"
   },
   {
    "duration": 6,
    "start_time": "2021-08-30T17:15:18.793Z"
   },
   {
    "duration": 58,
    "start_time": "2021-08-30T17:15:18.802Z"
   },
   {
    "duration": 19,
    "start_time": "2021-08-30T17:15:18.863Z"
   },
   {
    "duration": 142,
    "start_time": "2021-08-30T17:15:18.886Z"
   },
   {
    "duration": 33,
    "start_time": "2021-08-30T17:15:19.031Z"
   },
   {
    "duration": 11,
    "start_time": "2021-08-30T17:15:19.069Z"
   },
   {
    "duration": 93,
    "start_time": "2021-08-30T17:15:19.084Z"
   },
   {
    "duration": 27,
    "start_time": "2021-08-30T17:15:19.180Z"
   },
   {
    "duration": 49,
    "start_time": "2021-08-30T17:15:19.209Z"
   },
   {
    "duration": 30,
    "start_time": "2021-08-30T17:15:19.262Z"
   },
   {
    "duration": 21,
    "start_time": "2021-08-30T17:15:19.295Z"
   },
   {
    "duration": 74,
    "start_time": "2021-08-30T17:15:19.318Z"
   },
   {
    "duration": 23,
    "start_time": "2021-08-30T17:15:57.583Z"
   },
   {
    "duration": 12,
    "start_time": "2021-08-30T17:16:37.274Z"
   },
   {
    "duration": 12,
    "start_time": "2021-08-30T17:16:45.861Z"
   },
   {
    "duration": 114,
    "start_time": "2021-08-30T17:16:57.042Z"
   },
   {
    "duration": 11,
    "start_time": "2021-08-30T17:16:57.160Z"
   },
   {
    "duration": 11,
    "start_time": "2021-08-30T17:16:57.176Z"
   },
   {
    "duration": 15,
    "start_time": "2021-08-30T17:16:57.190Z"
   },
   {
    "duration": 26,
    "start_time": "2021-08-30T17:16:57.259Z"
   },
   {
    "duration": 140,
    "start_time": "2021-08-30T17:16:57.289Z"
   },
   {
    "duration": 30,
    "start_time": "2021-08-30T17:16:57.433Z"
   },
   {
    "duration": 17,
    "start_time": "2021-08-30T17:16:57.469Z"
   },
   {
    "duration": 82,
    "start_time": "2021-08-30T17:16:57.490Z"
   },
   {
    "duration": 11,
    "start_time": "2021-08-30T17:16:57.575Z"
   },
   {
    "duration": 25,
    "start_time": "2021-08-30T17:16:57.588Z"
   },
   {
    "duration": 67,
    "start_time": "2021-08-30T17:16:57.616Z"
   },
   {
    "duration": 20,
    "start_time": "2021-08-30T17:16:57.687Z"
   },
   {
    "duration": 50,
    "start_time": "2021-08-30T17:16:57.710Z"
   },
   {
    "duration": 20,
    "start_time": "2021-08-30T17:18:37.484Z"
   },
   {
    "duration": 35,
    "start_time": "2021-08-30T17:19:18.445Z"
   },
   {
    "duration": 37,
    "start_time": "2021-08-30T17:19:32.361Z"
   },
   {
    "duration": 11,
    "start_time": "2021-08-30T17:19:41.319Z"
   },
   {
    "duration": 272,
    "start_time": "2021-08-30T17:23:11.853Z"
   },
   {
    "duration": 265,
    "start_time": "2021-08-30T17:23:40.475Z"
   },
   {
    "duration": 359,
    "start_time": "2021-08-30T17:24:11.833Z"
   },
   {
    "duration": 18,
    "start_time": "2021-08-30T17:24:49.396Z"
   },
   {
    "duration": 16,
    "start_time": "2021-08-30T17:25:37.780Z"
   },
   {
    "duration": 26,
    "start_time": "2021-08-30T17:26:14.548Z"
   },
   {
    "duration": 21,
    "start_time": "2021-08-30T17:26:34.795Z"
   },
   {
    "duration": 21,
    "start_time": "2021-08-30T17:26:47.577Z"
   },
   {
    "duration": 307,
    "start_time": "2021-08-30T17:27:12.311Z"
   },
   {
    "duration": 871,
    "start_time": "2021-08-30T17:28:38.643Z"
   },
   {
    "duration": 6663,
    "start_time": "2021-08-30T17:28:54.307Z"
   },
   {
    "duration": 19,
    "start_time": "2021-08-30T17:29:05.785Z"
   },
   {
    "duration": 25,
    "start_time": "2021-08-30T17:29:16.662Z"
   },
   {
    "duration": 99,
    "start_time": "2021-08-30T17:29:27.026Z"
   },
   {
    "duration": 37,
    "start_time": "2021-08-30T17:29:27.128Z"
   },
   {
    "duration": 37,
    "start_time": "2021-08-30T17:29:27.169Z"
   },
   {
    "duration": 24,
    "start_time": "2021-08-30T17:29:27.209Z"
   },
   {
    "duration": 22,
    "start_time": "2021-08-30T17:29:27.255Z"
   },
   {
    "duration": 115,
    "start_time": "2021-08-30T17:29:27.281Z"
   },
   {
    "duration": 13,
    "start_time": "2021-08-30T17:29:27.398Z"
   },
   {
    "duration": 20,
    "start_time": "2021-08-30T17:29:27.414Z"
   },
   {
    "duration": 58,
    "start_time": "2021-08-30T17:29:27.454Z"
   },
   {
    "duration": 7,
    "start_time": "2021-08-30T17:29:27.515Z"
   },
   {
    "duration": 58,
    "start_time": "2021-08-30T17:29:27.525Z"
   },
   {
    "duration": 29,
    "start_time": "2021-08-30T17:29:27.586Z"
   },
   {
    "duration": 52,
    "start_time": "2021-08-30T17:29:27.617Z"
   },
   {
    "duration": 35,
    "start_time": "2021-08-30T17:29:27.672Z"
   },
   {
    "duration": 10,
    "start_time": "2021-08-30T17:31:22.330Z"
   },
   {
    "duration": 101,
    "start_time": "2021-08-30T17:32:03.888Z"
   },
   {
    "duration": 11,
    "start_time": "2021-08-30T17:32:03.992Z"
   },
   {
    "duration": 48,
    "start_time": "2021-08-30T17:32:04.006Z"
   },
   {
    "duration": 24,
    "start_time": "2021-08-30T17:32:04.057Z"
   },
   {
    "duration": 19,
    "start_time": "2021-08-30T17:32:04.084Z"
   },
   {
    "duration": 60,
    "start_time": "2021-08-30T17:32:04.105Z"
   },
   {
    "duration": 23,
    "start_time": "2021-08-30T17:32:04.168Z"
   },
   {
    "duration": 14,
    "start_time": "2021-08-30T17:32:04.193Z"
   },
   {
    "duration": 60,
    "start_time": "2021-08-30T17:32:04.211Z"
   },
   {
    "duration": 109,
    "start_time": "2021-08-30T17:32:04.274Z"
   },
   {
    "duration": 15,
    "start_time": "2021-08-30T17:32:04.385Z"
   },
   {
    "duration": 11,
    "start_time": "2021-08-30T17:32:04.402Z"
   },
   {
    "duration": 86,
    "start_time": "2021-08-30T17:32:04.415Z"
   },
   {
    "duration": 9,
    "start_time": "2021-08-30T17:32:04.503Z"
   },
   {
    "duration": 70,
    "start_time": "2021-08-30T17:32:04.514Z"
   },
   {
    "duration": 29,
    "start_time": "2021-08-30T17:32:04.587Z"
   },
   {
    "duration": 53,
    "start_time": "2021-08-30T17:32:04.619Z"
   },
   {
    "duration": 27,
    "start_time": "2021-08-30T17:32:04.675Z"
   },
   {
    "duration": 60,
    "start_time": "2021-08-30T17:43:05.607Z"
   },
   {
    "duration": 32,
    "start_time": "2021-08-30T17:43:33.231Z"
   },
   {
    "duration": 24,
    "start_time": "2021-08-30T17:57:28.957Z"
   },
   {
    "duration": 112,
    "start_time": "2021-08-30T17:57:54.187Z"
   },
   {
    "duration": 8,
    "start_time": "2021-08-30T17:57:54.302Z"
   },
   {
    "duration": 20,
    "start_time": "2021-08-30T17:57:54.313Z"
   },
   {
    "duration": 19,
    "start_time": "2021-08-30T17:57:54.365Z"
   },
   {
    "duration": 28,
    "start_time": "2021-08-30T17:57:54.386Z"
   },
   {
    "duration": 119,
    "start_time": "2021-08-30T17:57:54.416Z"
   },
   {
    "duration": 24,
    "start_time": "2021-08-30T17:57:54.537Z"
   },
   {
    "duration": 14,
    "start_time": "2021-08-30T17:57:54.566Z"
   },
   {
    "duration": 97,
    "start_time": "2021-08-30T17:57:54.583Z"
   },
   {
    "duration": 8,
    "start_time": "2021-08-30T17:57:54.682Z"
   },
   {
    "duration": 31,
    "start_time": "2021-08-30T17:57:54.692Z"
   },
   {
    "duration": 59,
    "start_time": "2021-08-30T17:57:54.725Z"
   },
   {
    "duration": 21,
    "start_time": "2021-08-30T17:57:54.787Z"
   },
   {
    "duration": 62,
    "start_time": "2021-08-30T17:57:54.810Z"
   },
   {
    "duration": 21,
    "start_time": "2021-08-30T17:58:09.671Z"
   },
   {
    "duration": 276,
    "start_time": "2021-08-30T17:58:19.312Z"
   },
   {
    "duration": 12,
    "start_time": "2021-08-30T17:58:28.056Z"
   },
   {
    "duration": 96,
    "start_time": "2021-08-30T18:01:13.825Z"
   },
   {
    "duration": 7,
    "start_time": "2021-08-30T18:01:13.924Z"
   },
   {
    "duration": 23,
    "start_time": "2021-08-30T18:01:13.935Z"
   },
   {
    "duration": 24,
    "start_time": "2021-08-30T18:01:13.961Z"
   },
   {
    "duration": 15,
    "start_time": "2021-08-30T18:01:13.990Z"
   },
   {
    "duration": 155,
    "start_time": "2021-08-30T18:01:14.007Z"
   },
   {
    "duration": 20,
    "start_time": "2021-08-30T18:01:14.166Z"
   },
   {
    "duration": 9,
    "start_time": "2021-08-30T18:01:14.190Z"
   },
   {
    "duration": 101,
    "start_time": "2021-08-30T18:01:14.202Z"
   },
   {
    "duration": 9,
    "start_time": "2021-08-30T18:01:14.306Z"
   },
   {
    "duration": 57,
    "start_time": "2021-08-30T18:01:14.318Z"
   },
   {
    "duration": 34,
    "start_time": "2021-08-30T18:01:14.379Z"
   },
   {
    "duration": 50,
    "start_time": "2021-08-30T18:01:14.416Z"
   },
   {
    "duration": 30,
    "start_time": "2021-08-30T18:01:14.469Z"
   },
   {
    "duration": 46,
    "start_time": "2021-08-30T18:02:12.375Z"
   },
   {
    "duration": 415,
    "start_time": "2021-08-30T18:05:14.111Z"
   },
   {
    "duration": 29,
    "start_time": "2021-08-30T18:05:32.749Z"
   },
   {
    "duration": 44,
    "start_time": "2021-08-30T18:05:50.309Z"
   },
   {
    "duration": 45,
    "start_time": "2021-08-30T18:05:54.452Z"
   },
   {
    "duration": 24,
    "start_time": "2021-08-30T18:06:26.419Z"
   },
   {
    "duration": 92,
    "start_time": "2021-08-30T18:06:32.172Z"
   },
   {
    "duration": 7,
    "start_time": "2021-08-30T18:06:32.267Z"
   },
   {
    "duration": 16,
    "start_time": "2021-08-30T18:06:32.277Z"
   },
   {
    "duration": 60,
    "start_time": "2021-08-30T18:06:32.296Z"
   },
   {
    "duration": 12,
    "start_time": "2021-08-30T18:06:32.359Z"
   },
   {
    "duration": 120,
    "start_time": "2021-08-30T18:06:32.374Z"
   },
   {
    "duration": 14,
    "start_time": "2021-08-30T18:06:32.496Z"
   },
   {
    "duration": 43,
    "start_time": "2021-08-30T18:06:32.515Z"
   },
   {
    "duration": 46,
    "start_time": "2021-08-30T18:06:32.560Z"
   },
   {
    "duration": 8,
    "start_time": "2021-08-30T18:06:32.608Z"
   },
   {
    "duration": 17,
    "start_time": "2021-08-30T18:06:32.654Z"
   },
   {
    "duration": 29,
    "start_time": "2021-08-30T18:06:32.674Z"
   },
   {
    "duration": 56,
    "start_time": "2021-08-30T18:06:32.706Z"
   },
   {
    "duration": 22,
    "start_time": "2021-08-30T18:06:32.765Z"
   },
   {
    "duration": 86,
    "start_time": "2021-08-30T18:06:32.790Z"
   },
   {
    "duration": 24,
    "start_time": "2021-08-30T18:06:32.879Z"
   },
   {
    "duration": 13,
    "start_time": "2021-08-30T18:07:56.038Z"
   },
   {
    "duration": 27,
    "start_time": "2021-08-30T18:08:07.801Z"
   },
   {
    "duration": 26,
    "start_time": "2021-08-30T18:08:24.666Z"
   },
   {
    "duration": 26,
    "start_time": "2021-08-30T18:08:33.430Z"
   },
   {
    "duration": 19,
    "start_time": "2021-08-30T18:08:59.555Z"
   },
   {
    "duration": 17,
    "start_time": "2021-08-30T18:09:03.423Z"
   },
   {
    "duration": 11,
    "start_time": "2021-08-30T18:09:12.275Z"
   },
   {
    "duration": 26,
    "start_time": "2021-08-30T18:09:19.223Z"
   },
   {
    "duration": 882,
    "start_time": "2021-08-30T18:09:40.320Z"
   },
   {
    "duration": 90,
    "start_time": "2021-08-30T18:09:41.633Z"
   },
   {
    "duration": 8,
    "start_time": "2021-08-30T18:09:41.725Z"
   },
   {
    "duration": 12,
    "start_time": "2021-08-30T18:09:41.755Z"
   },
   {
    "duration": 28,
    "start_time": "2021-08-30T18:09:41.770Z"
   },
   {
    "duration": 17,
    "start_time": "2021-08-30T18:09:41.800Z"
   },
   {
    "duration": 107,
    "start_time": "2021-08-30T18:09:41.819Z"
   },
   {
    "duration": 27,
    "start_time": "2021-08-30T18:09:41.929Z"
   },
   {
    "duration": 17,
    "start_time": "2021-08-30T18:09:41.960Z"
   },
   {
    "duration": 64,
    "start_time": "2021-08-30T18:09:41.980Z"
   },
   {
    "duration": 7,
    "start_time": "2021-08-30T18:09:42.055Z"
   },
   {
    "duration": 18,
    "start_time": "2021-08-30T18:09:42.064Z"
   },
   {
    "duration": 27,
    "start_time": "2021-08-30T18:09:42.085Z"
   },
   {
    "duration": 46,
    "start_time": "2021-08-30T18:09:42.115Z"
   },
   {
    "duration": 34,
    "start_time": "2021-08-30T18:09:42.163Z"
   },
   {
    "duration": 60,
    "start_time": "2021-08-30T18:09:42.199Z"
   },
   {
    "duration": 5078,
    "start_time": "2021-08-30T18:09:42.261Z"
   },
   {
    "duration": 96,
    "start_time": "2021-08-30T18:10:09.426Z"
   },
   {
    "duration": 10,
    "start_time": "2021-08-30T18:10:09.525Z"
   },
   {
    "duration": 21,
    "start_time": "2021-08-30T18:10:09.556Z"
   },
   {
    "duration": 35,
    "start_time": "2021-08-30T18:10:09.580Z"
   },
   {
    "duration": 27,
    "start_time": "2021-08-30T18:10:09.618Z"
   },
   {
    "duration": 86,
    "start_time": "2021-08-30T18:10:09.655Z"
   },
   {
    "duration": 14,
    "start_time": "2021-08-30T18:10:09.755Z"
   },
   {
    "duration": 27,
    "start_time": "2021-08-30T18:10:09.773Z"
   },
   {
    "duration": 77,
    "start_time": "2021-08-30T18:10:09.803Z"
   },
   {
    "duration": 8,
    "start_time": "2021-08-30T18:10:09.882Z"
   },
   {
    "duration": 61,
    "start_time": "2021-08-30T18:10:09.893Z"
   },
   {
    "duration": 42,
    "start_time": "2021-08-30T18:10:09.957Z"
   },
   {
    "duration": 13,
    "start_time": "2021-08-30T18:10:10.002Z"
   },
   {
    "duration": 36,
    "start_time": "2021-08-30T18:10:10.055Z"
   },
   {
    "duration": 93,
    "start_time": "2021-08-30T18:10:10.094Z"
   },
   {
    "duration": 39,
    "start_time": "2021-08-30T18:10:10.190Z"
   },
   {
    "duration": 43,
    "start_time": "2021-08-30T18:12:16.210Z"
   },
   {
    "duration": 134,
    "start_time": "2021-08-30T18:34:14.489Z"
   },
   {
    "duration": 29,
    "start_time": "2021-08-30T18:34:14.626Z"
   },
   {
    "duration": 22,
    "start_time": "2021-08-30T18:34:14.659Z"
   },
   {
    "duration": 28,
    "start_time": "2021-08-30T18:34:14.684Z"
   },
   {
    "duration": 43,
    "start_time": "2021-08-30T18:34:14.715Z"
   },
   {
    "duration": 140,
    "start_time": "2021-08-30T18:34:14.761Z"
   },
   {
    "duration": 16,
    "start_time": "2021-08-30T18:34:14.904Z"
   },
   {
    "duration": 33,
    "start_time": "2021-08-30T18:34:14.924Z"
   },
   {
    "duration": 58,
    "start_time": "2021-08-30T18:34:14.960Z"
   },
   {
    "duration": 37,
    "start_time": "2021-08-30T18:34:15.020Z"
   },
   {
    "duration": 31,
    "start_time": "2021-08-30T18:34:15.059Z"
   },
   {
    "duration": 31,
    "start_time": "2021-08-30T18:34:15.092Z"
   },
   {
    "duration": 38,
    "start_time": "2021-08-30T18:34:15.125Z"
   },
   {
    "duration": 26,
    "start_time": "2021-08-30T18:34:15.165Z"
   },
   {
    "duration": 93,
    "start_time": "2021-08-30T18:34:15.194Z"
   },
   {
    "duration": 37,
    "start_time": "2021-08-30T18:34:15.289Z"
   },
   {
    "duration": 274,
    "start_time": "2021-08-30T18:37:05.884Z"
   },
   {
    "duration": 109,
    "start_time": "2021-08-30T18:37:27.561Z"
   },
   {
    "duration": 8,
    "start_time": "2021-08-30T18:37:27.672Z"
   },
   {
    "duration": 10,
    "start_time": "2021-08-30T18:37:27.684Z"
   },
   {
    "duration": 60,
    "start_time": "2021-08-30T18:37:27.696Z"
   },
   {
    "duration": 17,
    "start_time": "2021-08-30T18:37:27.759Z"
   },
   {
    "duration": 121,
    "start_time": "2021-08-30T18:37:27.778Z"
   },
   {
    "duration": 22,
    "start_time": "2021-08-30T18:37:27.902Z"
   },
   {
    "duration": 28,
    "start_time": "2021-08-30T18:37:27.928Z"
   },
   {
    "duration": 47,
    "start_time": "2021-08-30T18:37:27.959Z"
   },
   {
    "duration": 8,
    "start_time": "2021-08-30T18:37:28.008Z"
   },
   {
    "duration": 19,
    "start_time": "2021-08-30T18:37:28.054Z"
   },
   {
    "duration": 32,
    "start_time": "2021-08-30T18:37:28.077Z"
   },
   {
    "duration": 50,
    "start_time": "2021-08-30T18:37:28.112Z"
   },
   {
    "duration": 9,
    "start_time": "2021-08-30T18:37:28.164Z"
   },
   {
    "duration": 24,
    "start_time": "2021-08-30T18:37:28.175Z"
   },
   {
    "duration": 93,
    "start_time": "2021-08-30T18:37:28.201Z"
   },
   {
    "duration": 36,
    "start_time": "2021-08-30T18:37:28.296Z"
   },
   {
    "duration": 62,
    "start_time": "2021-08-30T18:38:48.050Z"
   },
   {
    "duration": 52,
    "start_time": "2021-08-30T18:39:06.422Z"
   },
   {
    "duration": 95,
    "start_time": "2021-08-30T18:39:16.673Z"
   },
   {
    "duration": 9,
    "start_time": "2021-08-30T18:39:16.771Z"
   },
   {
    "duration": 14,
    "start_time": "2021-08-30T18:39:16.784Z"
   },
   {
    "duration": 59,
    "start_time": "2021-08-30T18:39:16.801Z"
   },
   {
    "duration": 14,
    "start_time": "2021-08-30T18:39:16.863Z"
   },
   {
    "duration": 128,
    "start_time": "2021-08-30T18:39:16.880Z"
   },
   {
    "duration": 14,
    "start_time": "2021-08-30T18:39:17.011Z"
   },
   {
    "duration": 31,
    "start_time": "2021-08-30T18:39:17.029Z"
   },
   {
    "duration": 46,
    "start_time": "2021-08-30T18:39:17.063Z"
   },
   {
    "duration": 46,
    "start_time": "2021-08-30T18:39:17.112Z"
   },
   {
    "duration": 31,
    "start_time": "2021-08-30T18:39:17.161Z"
   },
   {
    "duration": 27,
    "start_time": "2021-08-30T18:39:17.195Z"
   },
   {
    "duration": 11,
    "start_time": "2021-08-30T18:39:17.254Z"
   },
   {
    "duration": 9,
    "start_time": "2021-08-30T18:39:17.267Z"
   },
   {
    "duration": 29,
    "start_time": "2021-08-30T18:39:17.279Z"
   },
   {
    "duration": 87,
    "start_time": "2021-08-30T18:39:17.310Z"
   },
   {
    "duration": 73,
    "start_time": "2021-08-30T18:39:17.400Z"
   },
   {
    "duration": 39,
    "start_time": "2021-08-30T18:39:25.916Z"
   },
   {
    "duration": 60,
    "start_time": "2021-08-30T18:40:11.617Z"
   },
   {
    "duration": 141,
    "start_time": "2021-08-30T18:40:14.736Z"
   },
   {
    "duration": 11,
    "start_time": "2021-08-30T18:40:14.880Z"
   },
   {
    "duration": 17,
    "start_time": "2021-08-30T18:40:14.895Z"
   },
   {
    "duration": 55,
    "start_time": "2021-08-30T18:40:14.915Z"
   },
   {
    "duration": 15,
    "start_time": "2021-08-30T18:40:14.972Z"
   },
   {
    "duration": 131,
    "start_time": "2021-08-30T18:40:14.990Z"
   },
   {
    "duration": 14,
    "start_time": "2021-08-30T18:40:15.123Z"
   },
   {
    "duration": 9,
    "start_time": "2021-08-30T18:40:15.156Z"
   },
   {
    "duration": 44,
    "start_time": "2021-08-30T18:40:15.168Z"
   },
   {
    "duration": 46,
    "start_time": "2021-08-30T18:40:15.215Z"
   },
   {
    "duration": 28,
    "start_time": "2021-08-30T18:40:15.264Z"
   },
   {
    "duration": 74,
    "start_time": "2021-08-30T18:40:15.295Z"
   },
   {
    "duration": 9,
    "start_time": "2021-08-30T18:40:15.372Z"
   },
   {
    "duration": 10,
    "start_time": "2021-08-30T18:40:15.384Z"
   },
   {
    "duration": 67,
    "start_time": "2021-08-30T18:40:15.397Z"
   },
   {
    "duration": 41,
    "start_time": "2021-08-30T18:40:15.467Z"
   },
   {
    "duration": 64,
    "start_time": "2021-08-30T18:40:15.511Z"
   },
   {
    "duration": 34,
    "start_time": "2021-08-30T18:40:38.458Z"
   },
   {
    "duration": 92,
    "start_time": "2021-08-30T18:40:47.692Z"
   },
   {
    "duration": 9,
    "start_time": "2021-08-30T18:40:47.787Z"
   },
   {
    "duration": 24,
    "start_time": "2021-08-30T18:40:47.799Z"
   },
   {
    "duration": 39,
    "start_time": "2021-08-30T18:40:47.827Z"
   },
   {
    "duration": 30,
    "start_time": "2021-08-30T18:40:47.869Z"
   },
   {
    "duration": 154,
    "start_time": "2021-08-30T18:40:47.902Z"
   },
   {
    "duration": 16,
    "start_time": "2021-08-30T18:40:48.059Z"
   },
   {
    "duration": 17,
    "start_time": "2021-08-30T18:40:48.080Z"
   },
   {
    "duration": 85,
    "start_time": "2021-08-30T18:40:48.100Z"
   },
   {
    "duration": 8,
    "start_time": "2021-08-30T18:40:48.187Z"
   },
   {
    "duration": 61,
    "start_time": "2021-08-30T18:40:48.198Z"
   },
   {
    "duration": 38,
    "start_time": "2021-08-30T18:40:48.262Z"
   },
   {
    "duration": 12,
    "start_time": "2021-08-30T18:40:48.303Z"
   },
   {
    "duration": 17,
    "start_time": "2021-08-30T18:40:48.355Z"
   },
   {
    "duration": 31,
    "start_time": "2021-08-30T18:40:48.375Z"
   },
   {
    "duration": 71,
    "start_time": "2021-08-30T18:40:48.409Z"
   },
   {
    "duration": 28,
    "start_time": "2021-08-30T18:40:48.484Z"
   },
   {
    "duration": 13,
    "start_time": "2021-08-30T18:47:57.716Z"
   },
   {
    "duration": 13,
    "start_time": "2021-08-30T18:48:02.321Z"
   },
   {
    "duration": 13,
    "start_time": "2021-08-30T18:48:12.319Z"
   },
   {
    "duration": 4488,
    "start_time": "2021-08-30T19:04:24.702Z"
   },
   {
    "duration": 4552,
    "start_time": "2021-08-30T19:04:41.905Z"
   },
   {
    "duration": 4749,
    "start_time": "2021-08-30T19:07:31.873Z"
   },
   {
    "duration": 4630,
    "start_time": "2021-08-30T19:12:43.195Z"
   },
   {
    "duration": 5241,
    "start_time": "2021-08-30T19:13:53.747Z"
   },
   {
    "duration": 4805,
    "start_time": "2021-08-30T19:14:16.707Z"
   },
   {
    "duration": 5188,
    "start_time": "2021-08-30T19:15:22.559Z"
   },
   {
    "duration": 32,
    "start_time": "2021-08-30T19:17:17.729Z"
   },
   {
    "duration": 11,
    "start_time": "2021-08-30T19:17:52.488Z"
   },
   {
    "duration": 4587,
    "start_time": "2021-08-30T19:26:25.744Z"
   },
   {
    "duration": 4586,
    "start_time": "2021-08-30T19:27:03.958Z"
   },
   {
    "duration": 5062,
    "start_time": "2021-08-30T19:32:08.738Z"
   },
   {
    "duration": 5070,
    "start_time": "2021-08-30T19:33:17.926Z"
   },
   {
    "duration": 5195,
    "start_time": "2021-08-30T19:34:26.364Z"
   },
   {
    "duration": 98,
    "start_time": "2021-08-30T19:34:42.435Z"
   },
   {
    "duration": 5226,
    "start_time": "2021-08-30T19:34:49.164Z"
   },
   {
    "duration": 5151,
    "start_time": "2021-08-30T19:36:54.910Z"
   },
   {
    "duration": 114,
    "start_time": "2021-08-30T19:55:19.691Z"
   },
   {
    "duration": 9,
    "start_time": "2021-08-30T19:55:19.808Z"
   },
   {
    "duration": 39,
    "start_time": "2021-08-30T19:55:19.820Z"
   },
   {
    "duration": 21,
    "start_time": "2021-08-30T19:55:19.864Z"
   },
   {
    "duration": 16,
    "start_time": "2021-08-30T19:55:19.888Z"
   },
   {
    "duration": 120,
    "start_time": "2021-08-30T19:55:19.956Z"
   },
   {
    "duration": 13,
    "start_time": "2021-08-30T19:55:20.080Z"
   },
   {
    "duration": 11,
    "start_time": "2021-08-30T19:55:20.099Z"
   },
   {
    "duration": 109,
    "start_time": "2021-08-30T19:55:20.113Z"
   },
   {
    "duration": 31,
    "start_time": "2021-08-30T19:55:20.225Z"
   },
   {
    "duration": 25,
    "start_time": "2021-08-30T19:55:20.259Z"
   },
   {
    "duration": 70,
    "start_time": "2021-08-30T19:55:20.286Z"
   },
   {
    "duration": 12,
    "start_time": "2021-08-30T19:55:20.363Z"
   },
   {
    "duration": 10,
    "start_time": "2021-08-30T19:55:20.377Z"
   },
   {
    "duration": 78,
    "start_time": "2021-08-30T19:55:20.389Z"
   },
   {
    "duration": 50,
    "start_time": "2021-08-30T19:55:20.471Z"
   },
   {
    "duration": 54,
    "start_time": "2021-08-30T19:55:20.523Z"
   },
   {
    "duration": 11,
    "start_time": "2021-08-30T19:55:20.580Z"
   },
   {
    "duration": 5506,
    "start_time": "2021-08-30T19:55:20.593Z"
   },
   {
    "duration": 4,
    "start_time": "2021-08-30T19:55:26.102Z"
   },
   {
    "duration": 274,
    "start_time": "2021-08-30T19:58:14.490Z"
   },
   {
    "duration": 261,
    "start_time": "2021-08-30T19:58:22.679Z"
   },
   {
    "duration": 18,
    "start_time": "2021-08-30T19:58:28.941Z"
   },
   {
    "duration": 12,
    "start_time": "2021-08-30T19:58:39.839Z"
   },
   {
    "duration": 281,
    "start_time": "2021-08-30T19:59:38.502Z"
   },
   {
    "duration": 280,
    "start_time": "2021-08-30T20:00:55.905Z"
   },
   {
    "duration": 20,
    "start_time": "2021-08-30T20:04:36.341Z"
   },
   {
    "duration": 323,
    "start_time": "2021-08-30T20:04:50.608Z"
   },
   {
    "duration": 21,
    "start_time": "2021-08-30T20:05:24.271Z"
   },
   {
    "duration": 22,
    "start_time": "2021-08-30T20:05:35.170Z"
   },
   {
    "duration": 272,
    "start_time": "2021-08-30T20:07:57.495Z"
   },
   {
    "duration": 307,
    "start_time": "2021-08-30T20:08:10.935Z"
   },
   {
    "duration": 263,
    "start_time": "2021-08-30T20:08:31.936Z"
   },
   {
    "duration": 425,
    "start_time": "2021-08-30T20:09:28.120Z"
   },
   {
    "duration": 20,
    "start_time": "2021-08-30T20:09:33.026Z"
   },
   {
    "duration": 21,
    "start_time": "2021-08-30T20:19:06.104Z"
   },
   {
    "duration": 25,
    "start_time": "2021-08-30T20:22:18.891Z"
   },
   {
    "duration": 23,
    "start_time": "2021-08-30T20:22:34.576Z"
   },
   {
    "duration": 28,
    "start_time": "2021-08-30T20:22:39.850Z"
   },
   {
    "duration": 287,
    "start_time": "2021-08-30T20:22:58.730Z"
   },
   {
    "duration": 34,
    "start_time": "2021-08-30T20:23:07.983Z"
   },
   {
    "duration": 366,
    "start_time": "2021-08-30T20:23:28.017Z"
   },
   {
    "duration": 285,
    "start_time": "2021-08-30T20:23:42.146Z"
   },
   {
    "duration": 22,
    "start_time": "2021-08-30T20:23:50.766Z"
   },
   {
    "duration": 286,
    "start_time": "2021-08-30T20:24:34.556Z"
   },
   {
    "duration": 31,
    "start_time": "2021-08-30T20:24:39.095Z"
   },
   {
    "duration": 52,
    "start_time": "2021-08-30T20:24:51.726Z"
   },
   {
    "duration": 36,
    "start_time": "2021-08-30T20:24:58.736Z"
   },
   {
    "duration": 86,
    "start_time": "2021-08-30T20:26:26.405Z"
   },
   {
    "duration": 20,
    "start_time": "2021-08-30T20:26:33.366Z"
   },
   {
    "duration": 314,
    "start_time": "2021-08-30T20:27:11.308Z"
   },
   {
    "duration": 17,
    "start_time": "2021-08-30T20:27:30.181Z"
   },
   {
    "duration": 273,
    "start_time": "2021-08-30T20:28:24.675Z"
   },
   {
    "duration": 98,
    "start_time": "2021-08-30T20:28:32.669Z"
   },
   {
    "duration": 277,
    "start_time": "2021-08-30T20:28:45.435Z"
   },
   {
    "duration": 35,
    "start_time": "2021-08-30T20:30:57.051Z"
   },
   {
    "duration": 25,
    "start_time": "2021-08-30T20:31:06.815Z"
   },
   {
    "duration": 21,
    "start_time": "2021-08-30T20:33:21.966Z"
   },
   {
    "duration": 27,
    "start_time": "2021-08-30T20:33:49.079Z"
   },
   {
    "duration": 31,
    "start_time": "2021-08-30T20:34:52.637Z"
   },
   {
    "duration": 276,
    "start_time": "2021-08-30T20:40:42.656Z"
   },
   {
    "duration": 274,
    "start_time": "2021-08-30T20:51:02.582Z"
   },
   {
    "duration": 268,
    "start_time": "2021-08-30T20:51:25.414Z"
   },
   {
    "duration": 12,
    "start_time": "2021-08-30T20:51:39.056Z"
   },
   {
    "duration": 11,
    "start_time": "2021-08-30T20:51:51.721Z"
   },
   {
    "duration": 31,
    "start_time": "2021-08-30T20:52:18.851Z"
   },
   {
    "duration": 30,
    "start_time": "2021-08-30T20:52:36.432Z"
   },
   {
    "duration": 276,
    "start_time": "2021-08-30T20:55:11.031Z"
   },
   {
    "duration": 7,
    "start_time": "2021-08-30T20:57:12.323Z"
   },
   {
    "duration": 6,
    "start_time": "2021-08-30T20:57:21.914Z"
   },
   {
    "duration": 279,
    "start_time": "2021-08-30T20:57:39.205Z"
   },
   {
    "duration": 18,
    "start_time": "2021-08-30T20:57:48.859Z"
   },
   {
    "duration": 27,
    "start_time": "2021-08-30T20:57:55.986Z"
   },
   {
    "duration": 29,
    "start_time": "2021-08-30T20:59:56.149Z"
   },
   {
    "duration": 32,
    "start_time": "2021-08-30T21:00:11.478Z"
   },
   {
    "duration": 31,
    "start_time": "2021-08-30T21:00:27.385Z"
   },
   {
    "duration": 920,
    "start_time": "2021-08-30T21:00:46.147Z"
   },
   {
    "duration": 19,
    "start_time": "2021-08-30T21:04:47.777Z"
   },
   {
    "duration": 4906,
    "start_time": "2021-08-31T06:21:51.641Z"
   },
   {
    "duration": 4757,
    "start_time": "2021-08-31T06:22:09.244Z"
   },
   {
    "duration": 6571,
    "start_time": "2021-08-31T06:22:22.132Z"
   },
   {
    "duration": 92,
    "start_time": "2021-08-31T06:22:49.065Z"
   },
   {
    "duration": 11,
    "start_time": "2021-08-31T06:22:49.161Z"
   },
   {
    "duration": 25,
    "start_time": "2021-08-31T06:22:49.175Z"
   },
   {
    "duration": 38,
    "start_time": "2021-08-31T06:22:49.203Z"
   },
   {
    "duration": 28,
    "start_time": "2021-08-31T06:22:49.244Z"
   },
   {
    "duration": 107,
    "start_time": "2021-08-31T06:22:49.275Z"
   },
   {
    "duration": 14,
    "start_time": "2021-08-31T06:22:49.384Z"
   },
   {
    "duration": 30,
    "start_time": "2021-08-31T06:22:49.401Z"
   },
   {
    "duration": 75,
    "start_time": "2021-08-31T06:22:49.435Z"
   },
   {
    "duration": 8,
    "start_time": "2021-08-31T06:22:49.513Z"
   },
   {
    "duration": 40,
    "start_time": "2021-08-31T06:22:49.523Z"
   },
   {
    "duration": 36,
    "start_time": "2021-08-31T06:22:49.568Z"
   },
   {
    "duration": 13,
    "start_time": "2021-08-31T06:22:49.607Z"
   },
   {
    "duration": 34,
    "start_time": "2021-08-31T06:22:49.622Z"
   },
   {
    "duration": 33,
    "start_time": "2021-08-31T06:22:49.660Z"
   },
   {
    "duration": 64,
    "start_time": "2021-08-31T06:22:49.696Z"
   },
   {
    "duration": 28,
    "start_time": "2021-08-31T06:22:49.763Z"
   },
   {
    "duration": 10,
    "start_time": "2021-08-31T06:22:49.793Z"
   },
   {
    "duration": 4800,
    "start_time": "2021-08-31T06:22:49.805Z"
   },
   {
    "duration": 27,
    "start_time": "2021-08-31T06:22:54.608Z"
   },
   {
    "duration": 44,
    "start_time": "2021-08-31T06:22:54.637Z"
   },
   {
    "duration": 20,
    "start_time": "2021-08-31T06:22:54.684Z"
   },
   {
    "duration": 52,
    "start_time": "2021-08-31T06:22:54.706Z"
   },
   {
    "duration": 41,
    "start_time": "2021-08-31T06:48:27.813Z"
   },
   {
    "duration": 42,
    "start_time": "2021-08-31T06:48:36.587Z"
   },
   {
    "duration": 42,
    "start_time": "2021-08-31T06:50:01.135Z"
   },
   {
    "duration": 19,
    "start_time": "2021-08-31T06:51:51.934Z"
   },
   {
    "duration": 21,
    "start_time": "2021-08-31T06:54:18.535Z"
   },
   {
    "duration": 28,
    "start_time": "2021-08-31T06:54:22.293Z"
   },
   {
    "duration": 20,
    "start_time": "2021-08-31T06:55:18.423Z"
   },
   {
    "duration": 61,
    "start_time": "2021-08-31T06:56:51.145Z"
   },
   {
    "duration": 290,
    "start_time": "2021-08-31T06:57:16.015Z"
   },
   {
    "duration": 282,
    "start_time": "2021-08-31T06:57:22.833Z"
   },
   {
    "duration": 25,
    "start_time": "2021-08-31T06:57:44.662Z"
   },
   {
    "duration": 6807,
    "start_time": "2021-08-31T06:58:30.833Z"
   },
   {
    "duration": 6833,
    "start_time": "2021-08-31T06:59:00.564Z"
   },
   {
    "duration": 36,
    "start_time": "2021-08-31T06:59:34.171Z"
   },
   {
    "duration": 35,
    "start_time": "2021-08-31T06:59:47.863Z"
   },
   {
    "duration": 35,
    "start_time": "2021-08-31T07:03:01.573Z"
   },
   {
    "duration": 33,
    "start_time": "2021-08-31T07:10:18.182Z"
   },
   {
    "duration": 36,
    "start_time": "2021-08-31T07:14:50.813Z"
   },
   {
    "duration": 41,
    "start_time": "2021-08-31T07:15:29.631Z"
   },
   {
    "duration": 36,
    "start_time": "2021-08-31T07:15:39.073Z"
   },
   {
    "duration": 36,
    "start_time": "2021-08-31T07:20:32.774Z"
   },
   {
    "duration": 15,
    "start_time": "2021-08-31T07:22:23.425Z"
   },
   {
    "duration": 11,
    "start_time": "2021-08-31T07:26:04.111Z"
   },
   {
    "duration": 17,
    "start_time": "2021-08-31T07:27:20.903Z"
   },
   {
    "duration": 291,
    "start_time": "2021-08-31T07:27:39.533Z"
   },
   {
    "duration": 25,
    "start_time": "2021-08-31T07:28:23.722Z"
   },
   {
    "duration": 37,
    "start_time": "2021-08-31T07:31:00.674Z"
   },
   {
    "duration": 85,
    "start_time": "2021-08-31T07:34:49.611Z"
   },
   {
    "duration": 155,
    "start_time": "2021-08-31T07:35:14.544Z"
   },
   {
    "duration": 105,
    "start_time": "2021-08-31T07:35:21.011Z"
   },
   {
    "duration": 8,
    "start_time": "2021-08-31T07:35:21.119Z"
   },
   {
    "duration": 14,
    "start_time": "2021-08-31T07:35:21.154Z"
   },
   {
    "duration": 21,
    "start_time": "2021-08-31T07:35:21.172Z"
   },
   {
    "duration": 21,
    "start_time": "2021-08-31T07:35:21.195Z"
   },
   {
    "duration": 114,
    "start_time": "2021-08-31T07:35:21.218Z"
   },
   {
    "duration": 21,
    "start_time": "2021-08-31T07:35:21.335Z"
   },
   {
    "duration": 18,
    "start_time": "2021-08-31T07:35:21.362Z"
   },
   {
    "duration": 46,
    "start_time": "2021-08-31T07:35:21.384Z"
   },
   {
    "duration": 10,
    "start_time": "2021-08-31T07:35:21.454Z"
   },
   {
    "duration": 18,
    "start_time": "2021-08-31T07:35:21.468Z"
   },
   {
    "duration": 26,
    "start_time": "2021-08-31T07:35:21.489Z"
   },
   {
    "duration": 11,
    "start_time": "2021-08-31T07:35:21.555Z"
   },
   {
    "duration": 11,
    "start_time": "2021-08-31T07:35:21.570Z"
   },
   {
    "duration": 34,
    "start_time": "2021-08-31T07:35:21.583Z"
   },
   {
    "duration": 69,
    "start_time": "2021-08-31T07:35:21.619Z"
   },
   {
    "duration": 24,
    "start_time": "2021-08-31T07:35:21.691Z"
   },
   {
    "duration": 15,
    "start_time": "2021-08-31T07:35:21.717Z"
   },
   {
    "duration": 4837,
    "start_time": "2021-08-31T07:35:21.735Z"
   },
   {
    "duration": 17,
    "start_time": "2021-08-31T07:35:26.575Z"
   },
   {
    "duration": 16,
    "start_time": "2021-08-31T07:35:26.595Z"
   },
   {
    "duration": 64,
    "start_time": "2021-08-31T07:35:26.614Z"
   },
   {
    "duration": 90,
    "start_time": "2021-08-31T07:35:26.684Z"
   },
   {
    "duration": 35,
    "start_time": "2021-08-31T07:35:26.777Z"
   },
   {
    "duration": 59,
    "start_time": "2021-08-31T07:35:26.814Z"
   },
   {
    "duration": 37,
    "start_time": "2021-08-31T07:35:26.876Z"
   },
   {
    "duration": 65,
    "start_time": "2021-08-31T07:35:26.916Z"
   },
   {
    "duration": 23,
    "start_time": "2021-08-31T07:35:26.984Z"
   },
   {
    "duration": 87,
    "start_time": "2021-08-31T07:36:25.433Z"
   },
   {
    "duration": 22,
    "start_time": "2021-08-31T07:37:26.373Z"
   },
   {
    "duration": 23,
    "start_time": "2021-08-31T07:37:44.613Z"
   },
   {
    "duration": 99,
    "start_time": "2021-08-31T07:45:27.523Z"
   },
   {
    "duration": 16,
    "start_time": "2021-08-31T07:45:34.214Z"
   },
   {
    "duration": 14,
    "start_time": "2021-08-31T07:45:45.669Z"
   },
   {
    "duration": 378,
    "start_time": "2021-08-31T07:46:43.573Z"
   },
   {
    "duration": 34,
    "start_time": "2021-08-31T07:47:26.664Z"
   },
   {
    "duration": 19,
    "start_time": "2021-08-31T07:50:35.462Z"
   },
   {
    "duration": 17,
    "start_time": "2021-08-31T07:51:18.373Z"
   },
   {
    "duration": 15,
    "start_time": "2021-08-31T08:14:03.674Z"
   },
   {
    "duration": 21,
    "start_time": "2021-08-31T08:14:18.675Z"
   },
   {
    "duration": 19,
    "start_time": "2021-08-31T08:14:22.674Z"
   },
   {
    "duration": 16,
    "start_time": "2021-08-31T08:14:28.193Z"
   },
   {
    "duration": 16,
    "start_time": "2021-08-31T08:14:33.933Z"
   },
   {
    "duration": 44,
    "start_time": "2021-08-31T08:21:59.041Z"
   },
   {
    "duration": 36,
    "start_time": "2021-08-31T08:32:56.413Z"
   },
   {
    "duration": 39,
    "start_time": "2021-08-31T08:33:47.701Z"
   },
   {
    "duration": 103,
    "start_time": "2021-08-31T08:38:33.313Z"
   },
   {
    "duration": 7,
    "start_time": "2021-08-31T08:38:33.419Z"
   },
   {
    "duration": 48,
    "start_time": "2021-08-31T08:38:33.429Z"
   },
   {
    "duration": 37,
    "start_time": "2021-08-31T08:38:33.480Z"
   },
   {
    "duration": 27,
    "start_time": "2021-08-31T08:38:33.520Z"
   },
   {
    "duration": 99,
    "start_time": "2021-08-31T08:38:33.550Z"
   },
   {
    "duration": 16,
    "start_time": "2021-08-31T08:38:33.651Z"
   },
   {
    "duration": 45,
    "start_time": "2021-08-31T08:38:33.670Z"
   },
   {
    "duration": 70,
    "start_time": "2021-08-31T08:38:33.719Z"
   },
   {
    "duration": 8,
    "start_time": "2021-08-31T08:38:33.792Z"
   },
   {
    "duration": 33,
    "start_time": "2021-08-31T08:38:33.802Z"
   },
   {
    "duration": 57,
    "start_time": "2021-08-31T08:38:33.837Z"
   },
   {
    "duration": 14,
    "start_time": "2021-08-31T08:38:33.896Z"
   },
   {
    "duration": 21,
    "start_time": "2021-08-31T08:38:33.912Z"
   },
   {
    "duration": 48,
    "start_time": "2021-08-31T08:38:33.936Z"
   },
   {
    "duration": 45,
    "start_time": "2021-08-31T08:38:33.986Z"
   },
   {
    "duration": 35,
    "start_time": "2021-08-31T08:38:34.033Z"
   },
   {
    "duration": 35,
    "start_time": "2021-08-31T08:38:34.072Z"
   },
   {
    "duration": 4757,
    "start_time": "2021-08-31T08:38:34.110Z"
   },
   {
    "duration": 20,
    "start_time": "2021-08-31T08:38:38.871Z"
   },
   {
    "duration": 25,
    "start_time": "2021-08-31T08:38:38.894Z"
   },
   {
    "duration": 41,
    "start_time": "2021-08-31T08:38:38.922Z"
   },
   {
    "duration": 36,
    "start_time": "2021-08-31T08:38:38.968Z"
   },
   {
    "duration": 61,
    "start_time": "2021-08-31T08:38:39.007Z"
   },
   {
    "duration": 37,
    "start_time": "2021-08-31T08:38:39.071Z"
   },
   {
    "duration": 73,
    "start_time": "2021-08-31T08:38:39.111Z"
   },
   {
    "duration": 40,
    "start_time": "2021-08-31T08:38:39.191Z"
   },
   {
    "duration": 32,
    "start_time": "2021-08-31T08:43:38.661Z"
   },
   {
    "duration": 33,
    "start_time": "2021-08-31T08:43:48.347Z"
   },
   {
    "duration": 98,
    "start_time": "2021-08-31T08:43:52.092Z"
   },
   {
    "duration": 8,
    "start_time": "2021-08-31T08:43:52.193Z"
   },
   {
    "duration": 14,
    "start_time": "2021-08-31T08:43:52.204Z"
   },
   {
    "duration": 46,
    "start_time": "2021-08-31T08:43:52.221Z"
   },
   {
    "duration": 13,
    "start_time": "2021-08-31T08:43:52.270Z"
   },
   {
    "duration": 106,
    "start_time": "2021-08-31T08:43:52.286Z"
   },
   {
    "duration": 13,
    "start_time": "2021-08-31T08:43:52.394Z"
   },
   {
    "duration": 14,
    "start_time": "2021-08-31T08:43:52.409Z"
   },
   {
    "duration": 70,
    "start_time": "2021-08-31T08:43:52.427Z"
   },
   {
    "duration": 10,
    "start_time": "2021-08-31T08:43:52.501Z"
   },
   {
    "duration": 44,
    "start_time": "2021-08-31T08:43:52.514Z"
   },
   {
    "duration": 30,
    "start_time": "2021-08-31T08:43:52.561Z"
   },
   {
    "duration": 8,
    "start_time": "2021-08-31T08:43:52.594Z"
   },
   {
    "duration": 9,
    "start_time": "2021-08-31T08:43:52.605Z"
   },
   {
    "duration": 61,
    "start_time": "2021-08-31T08:43:52.616Z"
   },
   {
    "duration": 42,
    "start_time": "2021-08-31T08:43:52.680Z"
   },
   {
    "duration": 47,
    "start_time": "2021-08-31T08:43:52.724Z"
   },
   {
    "duration": 11,
    "start_time": "2021-08-31T08:43:52.774Z"
   },
   {
    "duration": 5349,
    "start_time": "2021-08-31T08:43:52.787Z"
   },
   {
    "duration": 36,
    "start_time": "2021-08-31T08:43:58.139Z"
   },
   {
    "duration": 40,
    "start_time": "2021-08-31T08:43:58.179Z"
   },
   {
    "duration": 44,
    "start_time": "2021-08-31T08:43:58.222Z"
   },
   {
    "duration": 42,
    "start_time": "2021-08-31T08:43:58.272Z"
   },
   {
    "duration": 66,
    "start_time": "2021-08-31T08:43:58.316Z"
   },
   {
    "duration": 38,
    "start_time": "2021-08-31T08:43:58.384Z"
   },
   {
    "duration": 65,
    "start_time": "2021-08-31T08:43:58.425Z"
   },
   {
    "duration": 40,
    "start_time": "2021-08-31T08:43:58.494Z"
   },
   {
    "duration": 100,
    "start_time": "2021-08-31T08:44:49.233Z"
   },
   {
    "duration": 30,
    "start_time": "2021-08-31T08:44:49.336Z"
   },
   {
    "duration": 13,
    "start_time": "2021-08-31T08:44:49.371Z"
   },
   {
    "duration": 22,
    "start_time": "2021-08-31T08:44:49.388Z"
   },
   {
    "duration": 48,
    "start_time": "2021-08-31T08:44:49.413Z"
   },
   {
    "duration": 138,
    "start_time": "2021-08-31T08:44:49.467Z"
   },
   {
    "duration": 18,
    "start_time": "2021-08-31T08:44:49.608Z"
   },
   {
    "duration": 32,
    "start_time": "2021-08-31T08:44:49.629Z"
   },
   {
    "duration": 55,
    "start_time": "2021-08-31T08:44:49.668Z"
   },
   {
    "duration": 8,
    "start_time": "2021-08-31T08:44:49.726Z"
   },
   {
    "duration": 21,
    "start_time": "2021-08-31T08:44:49.756Z"
   },
   {
    "duration": 40,
    "start_time": "2021-08-31T08:44:49.779Z"
   },
   {
    "duration": 33,
    "start_time": "2021-08-31T08:44:49.821Z"
   },
   {
    "duration": 17,
    "start_time": "2021-08-31T08:44:49.857Z"
   },
   {
    "duration": 27,
    "start_time": "2021-08-31T08:44:49.877Z"
   },
   {
    "duration": 63,
    "start_time": "2021-08-31T08:44:49.907Z"
   },
   {
    "duration": 44,
    "start_time": "2021-08-31T08:44:49.972Z"
   },
   {
    "duration": 11,
    "start_time": "2021-08-31T08:44:50.018Z"
   },
   {
    "duration": 4867,
    "start_time": "2021-08-31T08:44:50.059Z"
   },
   {
    "duration": 32,
    "start_time": "2021-08-31T08:44:54.929Z"
   },
   {
    "duration": 25,
    "start_time": "2021-08-31T08:44:54.964Z"
   },
   {
    "duration": 23,
    "start_time": "2021-08-31T08:44:54.991Z"
   },
   {
    "duration": 69,
    "start_time": "2021-08-31T08:44:55.016Z"
   },
   {
    "duration": 35,
    "start_time": "2021-08-31T08:44:55.087Z"
   },
   {
    "duration": 60,
    "start_time": "2021-08-31T08:44:55.125Z"
   },
   {
    "duration": 35,
    "start_time": "2021-08-31T08:44:55.188Z"
   },
   {
    "duration": 73,
    "start_time": "2021-08-31T08:44:55.227Z"
   },
   {
    "duration": 132,
    "start_time": "2021-08-31T08:47:46.751Z"
   },
   {
    "duration": 8,
    "start_time": "2021-08-31T08:47:46.886Z"
   },
   {
    "duration": 14,
    "start_time": "2021-08-31T08:47:46.897Z"
   },
   {
    "duration": 46,
    "start_time": "2021-08-31T08:47:46.914Z"
   },
   {
    "duration": 14,
    "start_time": "2021-08-31T08:47:46.967Z"
   },
   {
    "duration": 109,
    "start_time": "2021-08-31T08:47:46.984Z"
   },
   {
    "duration": 13,
    "start_time": "2021-08-31T08:47:47.095Z"
   },
   {
    "duration": 9,
    "start_time": "2021-08-31T08:47:47.112Z"
   },
   {
    "duration": 77,
    "start_time": "2021-08-31T08:47:47.124Z"
   },
   {
    "duration": 7,
    "start_time": "2021-08-31T08:47:47.204Z"
   },
   {
    "duration": 22,
    "start_time": "2021-08-31T08:47:47.213Z"
   },
   {
    "duration": 36,
    "start_time": "2021-08-31T08:47:47.253Z"
   },
   {
    "duration": 10,
    "start_time": "2021-08-31T08:47:47.291Z"
   },
   {
    "duration": 11,
    "start_time": "2021-08-31T08:47:47.303Z"
   },
   {
    "duration": 122,
    "start_time": "2021-08-31T08:47:47.316Z"
   },
   {
    "duration": -2721,
    "start_time": "2021-08-31T08:47:50.162Z"
   },
   {
    "duration": -2734,
    "start_time": "2021-08-31T08:47:50.177Z"
   },
   {
    "duration": -2735,
    "start_time": "2021-08-31T08:47:50.179Z"
   },
   {
    "duration": -2735,
    "start_time": "2021-08-31T08:47:50.181Z"
   },
   {
    "duration": -2735,
    "start_time": "2021-08-31T08:47:50.183Z"
   },
   {
    "duration": -2740,
    "start_time": "2021-08-31T08:47:50.189Z"
   },
   {
    "duration": -2741,
    "start_time": "2021-08-31T08:47:50.192Z"
   },
   {
    "duration": -2754,
    "start_time": "2021-08-31T08:47:50.207Z"
   },
   {
    "duration": -2755,
    "start_time": "2021-08-31T08:47:50.209Z"
   },
   {
    "duration": -2754,
    "start_time": "2021-08-31T08:47:50.211Z"
   },
   {
    "duration": -2754,
    "start_time": "2021-08-31T08:47:50.213Z"
   },
   {
    "duration": -2753,
    "start_time": "2021-08-31T08:47:50.214Z"
   },
   {
    "duration": -2753,
    "start_time": "2021-08-31T08:47:50.216Z"
   },
   {
    "duration": -2751,
    "start_time": "2021-08-31T08:47:50.221Z"
   },
   {
    "duration": 47,
    "start_time": "2021-08-31T08:48:01.953Z"
   },
   {
    "duration": 26,
    "start_time": "2021-08-31T08:48:03.011Z"
   },
   {
    "duration": 24,
    "start_time": "2021-08-31T08:48:04.811Z"
   },
   {
    "duration": 46,
    "start_time": "2021-08-31T08:51:13.563Z"
   },
   {
    "duration": 98,
    "start_time": "2021-08-31T08:51:28.614Z"
   },
   {
    "duration": 8,
    "start_time": "2021-08-31T08:51:28.714Z"
   },
   {
    "duration": 14,
    "start_time": "2021-08-31T08:51:28.762Z"
   },
   {
    "duration": 16,
    "start_time": "2021-08-31T08:51:28.780Z"
   },
   {
    "duration": 16,
    "start_time": "2021-08-31T08:51:28.799Z"
   },
   {
    "duration": 85,
    "start_time": "2021-08-31T08:51:28.858Z"
   },
   {
    "duration": 20,
    "start_time": "2021-08-31T08:51:28.955Z"
   },
   {
    "duration": 11,
    "start_time": "2021-08-31T08:51:28.978Z"
   },
   {
    "duration": 93,
    "start_time": "2021-08-31T08:51:28.993Z"
   },
   {
    "duration": 7,
    "start_time": "2021-08-31T08:51:29.089Z"
   },
   {
    "duration": 18,
    "start_time": "2021-08-31T08:51:29.099Z"
   },
   {
    "duration": 54,
    "start_time": "2021-08-31T08:51:29.120Z"
   },
   {
    "duration": 9,
    "start_time": "2021-08-31T08:51:29.177Z"
   },
   {
    "duration": 20,
    "start_time": "2021-08-31T08:51:29.189Z"
   },
   {
    "duration": 53,
    "start_time": "2021-08-31T08:51:29.211Z"
   },
   {
    "duration": 31,
    "start_time": "2021-08-31T08:51:29.267Z"
   },
   {
    "duration": 24,
    "start_time": "2021-08-31T08:51:29.301Z"
   },
   {
    "duration": 75,
    "start_time": "2021-08-31T08:51:29.327Z"
   },
   {
    "duration": 10,
    "start_time": "2021-08-31T08:51:29.404Z"
   },
   {
    "duration": 4838,
    "start_time": "2021-08-31T08:51:29.417Z"
   },
   {
    "duration": 19,
    "start_time": "2021-08-31T08:51:34.258Z"
   },
   {
    "duration": 25,
    "start_time": "2021-08-31T08:51:34.280Z"
   },
   {
    "duration": 26,
    "start_time": "2021-08-31T08:51:34.308Z"
   },
   {
    "duration": 38,
    "start_time": "2021-08-31T08:51:34.353Z"
   },
   {
    "duration": 33,
    "start_time": "2021-08-31T08:51:34.394Z"
   },
   {
    "duration": 53,
    "start_time": "2021-08-31T08:51:34.456Z"
   },
   {
    "duration": 75,
    "start_time": "2021-08-31T08:51:34.516Z"
   },
   {
    "duration": 38,
    "start_time": "2021-08-31T08:51:34.593Z"
   },
   {
    "duration": 12,
    "start_time": "2021-08-31T09:03:10.121Z"
   },
   {
    "duration": 16,
    "start_time": "2021-08-31T09:11:02.274Z"
   },
   {
    "duration": 110,
    "start_time": "2021-08-31T09:11:07.563Z"
   },
   {
    "duration": 8,
    "start_time": "2021-08-31T09:11:07.676Z"
   },
   {
    "duration": 14,
    "start_time": "2021-08-31T09:11:07.687Z"
   },
   {
    "duration": 13,
    "start_time": "2021-08-31T09:11:07.704Z"
   },
   {
    "duration": 57,
    "start_time": "2021-08-31T09:11:07.720Z"
   },
   {
    "duration": 113,
    "start_time": "2021-08-31T09:11:07.780Z"
   },
   {
    "duration": 14,
    "start_time": "2021-08-31T09:11:07.896Z"
   },
   {
    "duration": 8,
    "start_time": "2021-08-31T09:11:07.914Z"
   },
   {
    "duration": 72,
    "start_time": "2021-08-31T09:11:07.926Z"
   },
   {
    "duration": 7,
    "start_time": "2021-08-31T09:11:08.001Z"
   },
   {
    "duration": 47,
    "start_time": "2021-08-31T09:11:08.010Z"
   },
   {
    "duration": 29,
    "start_time": "2021-08-31T09:11:08.059Z"
   },
   {
    "duration": 11,
    "start_time": "2021-08-31T09:11:08.090Z"
   },
   {
    "duration": 9,
    "start_time": "2021-08-31T09:11:08.104Z"
   },
   {
    "duration": 67,
    "start_time": "2021-08-31T09:11:08.116Z"
   },
   {
    "duration": 28,
    "start_time": "2021-08-31T09:11:08.185Z"
   },
   {
    "duration": 68,
    "start_time": "2021-08-31T09:11:08.216Z"
   },
   {
    "duration": 43,
    "start_time": "2021-08-31T09:11:08.287Z"
   },
   {
    "duration": 15,
    "start_time": "2021-08-31T09:11:08.356Z"
   },
   {
    "duration": 4932,
    "start_time": "2021-08-31T09:11:08.375Z"
   },
   {
    "duration": 16,
    "start_time": "2021-08-31T09:11:13.310Z"
   },
   {
    "duration": 30,
    "start_time": "2021-08-31T09:11:13.329Z"
   },
   {
    "duration": 25,
    "start_time": "2021-08-31T09:11:13.368Z"
   },
   {
    "duration": 17,
    "start_time": "2021-08-31T09:11:13.395Z"
   },
   {
    "duration": 115,
    "start_time": "2021-08-31T09:11:13.415Z"
   },
   {
    "duration": -2782,
    "start_time": "2021-08-31T09:11:16.315Z"
   },
   {
    "duration": -2783,
    "start_time": "2021-08-31T09:11:16.318Z"
   },
   {
    "duration": -2783,
    "start_time": "2021-08-31T09:11:16.320Z"
   },
   {
    "duration": -2784,
    "start_time": "2021-08-31T09:11:16.322Z"
   },
   {
    "duration": -2784,
    "start_time": "2021-08-31T09:11:16.324Z"
   },
   {
    "duration": 215,
    "start_time": "2021-08-31T09:13:06.343Z"
   },
   {
    "duration": 89,
    "start_time": "2021-08-31T09:13:27.103Z"
   },
   {
    "duration": 94,
    "start_time": "2021-08-31T09:13:34.405Z"
   },
   {
    "duration": 132,
    "start_time": "2021-08-31T09:13:37.743Z"
   },
   {
    "duration": 9,
    "start_time": "2021-08-31T09:13:37.878Z"
   },
   {
    "duration": 25,
    "start_time": "2021-08-31T09:13:37.892Z"
   },
   {
    "duration": 42,
    "start_time": "2021-08-31T09:13:37.920Z"
   },
   {
    "duration": 23,
    "start_time": "2021-08-31T09:13:37.965Z"
   },
   {
    "duration": 116,
    "start_time": "2021-08-31T09:13:37.991Z"
   },
   {
    "duration": 12,
    "start_time": "2021-08-31T09:13:38.110Z"
   },
   {
    "duration": 32,
    "start_time": "2021-08-31T09:13:38.125Z"
   },
   {
    "duration": 77,
    "start_time": "2021-08-31T09:13:38.164Z"
   },
   {
    "duration": 15,
    "start_time": "2021-08-31T09:13:38.254Z"
   },
   {
    "duration": 37,
    "start_time": "2021-08-31T09:13:38.272Z"
   },
   {
    "duration": 51,
    "start_time": "2021-08-31T09:13:38.312Z"
   },
   {
    "duration": 13,
    "start_time": "2021-08-31T09:13:38.372Z"
   },
   {
    "duration": 21,
    "start_time": "2021-08-31T09:13:38.388Z"
   },
   {
    "duration": 50,
    "start_time": "2021-08-31T09:13:38.412Z"
   },
   {
    "duration": 27,
    "start_time": "2021-08-31T09:13:38.464Z"
   },
   {
    "duration": 43,
    "start_time": "2021-08-31T09:13:38.494Z"
   },
   {
    "duration": 43,
    "start_time": "2021-08-31T09:13:38.555Z"
   },
   {
    "duration": 10,
    "start_time": "2021-08-31T09:13:38.601Z"
   },
   {
    "duration": 5086,
    "start_time": "2021-08-31T09:13:38.614Z"
   },
   {
    "duration": 16,
    "start_time": "2021-08-31T09:13:43.702Z"
   },
   {
    "duration": 47,
    "start_time": "2021-08-31T09:13:43.720Z"
   },
   {
    "duration": 23,
    "start_time": "2021-08-31T09:13:43.770Z"
   },
   {
    "duration": 13,
    "start_time": "2021-08-31T09:13:43.795Z"
   },
   {
    "duration": 185,
    "start_time": "2021-08-31T09:13:43.811Z"
   },
   {
    "duration": 34,
    "start_time": "2021-08-31T09:13:43.999Z"
   },
   {
    "duration": 38,
    "start_time": "2021-08-31T09:13:44.054Z"
   },
   {
    "duration": 35,
    "start_time": "2021-08-31T09:13:44.095Z"
   },
   {
    "duration": 56,
    "start_time": "2021-08-31T09:13:44.132Z"
   },
   {
    "duration": 66,
    "start_time": "2021-08-31T09:13:44.191Z"
   },
   {
    "duration": 171,
    "start_time": "2021-08-31T09:14:00.693Z"
   },
   {
    "duration": 88,
    "start_time": "2021-08-31T09:14:19.182Z"
   },
   {
    "duration": 99,
    "start_time": "2021-08-31T09:14:34.531Z"
   },
   {
    "duration": 15,
    "start_time": "2021-08-31T09:16:05.593Z"
   },
   {
    "duration": 17,
    "start_time": "2021-08-31T09:17:40.778Z"
   },
   {
    "duration": 15,
    "start_time": "2021-08-31T09:18:01.336Z"
   },
   {
    "duration": 285,
    "start_time": "2021-08-31T09:19:18.461Z"
   },
   {
    "duration": 24,
    "start_time": "2021-08-31T09:19:22.512Z"
   },
   {
    "duration": 24,
    "start_time": "2021-08-31T09:19:36.666Z"
   },
   {
    "duration": 20,
    "start_time": "2021-08-31T09:20:03.292Z"
   },
   {
    "duration": 15,
    "start_time": "2021-08-31T09:20:17.311Z"
   },
   {
    "duration": 73,
    "start_time": "2021-08-31T09:27:55.161Z"
   },
   {
    "duration": 23,
    "start_time": "2021-08-31T09:28:03.493Z"
   },
   {
    "duration": 72,
    "start_time": "2021-08-31T09:28:12.494Z"
   },
   {
    "duration": 23,
    "start_time": "2021-08-31T09:28:12.569Z"
   },
   {
    "duration": 34,
    "start_time": "2021-08-31T09:28:12.595Z"
   },
   {
    "duration": 25,
    "start_time": "2021-08-31T09:28:12.632Z"
   },
   {
    "duration": 55,
    "start_time": "2021-08-31T09:28:12.660Z"
   },
   {
    "duration": 26,
    "start_time": "2021-08-31T09:28:12.718Z"
   },
   {
    "duration": 106,
    "start_time": "2021-08-31T09:28:12.747Z"
   },
   {
    "duration": 18,
    "start_time": "2021-08-31T09:28:12.856Z"
   },
   {
    "duration": 22,
    "start_time": "2021-08-31T09:28:12.880Z"
   },
   {
    "duration": 77,
    "start_time": "2021-08-31T09:28:12.905Z"
   },
   {
    "duration": 7,
    "start_time": "2021-08-31T09:28:12.985Z"
   },
   {
    "duration": 32,
    "start_time": "2021-08-31T09:28:12.995Z"
   },
   {
    "duration": 51,
    "start_time": "2021-08-31T09:28:13.029Z"
   },
   {
    "duration": 13,
    "start_time": "2021-08-31T09:28:13.083Z"
   },
   {
    "duration": 21,
    "start_time": "2021-08-31T09:28:13.100Z"
   },
   {
    "duration": 55,
    "start_time": "2021-08-31T09:28:13.124Z"
   },
   {
    "duration": 26,
    "start_time": "2021-08-31T09:28:13.182Z"
   },
   {
    "duration": 46,
    "start_time": "2021-08-31T09:28:13.210Z"
   },
   {
    "duration": 46,
    "start_time": "2021-08-31T09:28:13.260Z"
   },
   {
    "duration": 10,
    "start_time": "2021-08-31T09:28:13.308Z"
   },
   {
    "duration": 4612,
    "start_time": "2021-08-31T09:28:13.320Z"
   },
   {
    "duration": 31,
    "start_time": "2021-08-31T09:28:17.935Z"
   },
   {
    "duration": 37,
    "start_time": "2021-08-31T09:28:17.968Z"
   },
   {
    "duration": 50,
    "start_time": "2021-08-31T09:28:18.007Z"
   },
   {
    "duration": 30,
    "start_time": "2021-08-31T09:28:18.060Z"
   },
   {
    "duration": 53,
    "start_time": "2021-08-31T09:28:18.093Z"
   },
   {
    "duration": 48,
    "start_time": "2021-08-31T09:28:18.151Z"
   },
   {
    "duration": 49,
    "start_time": "2021-08-31T09:28:18.202Z"
   },
   {
    "duration": 41,
    "start_time": "2021-08-31T09:28:18.255Z"
   },
   {
    "duration": 33,
    "start_time": "2021-08-31T09:28:18.299Z"
   },
   {
    "duration": 65,
    "start_time": "2021-08-31T09:28:18.334Z"
   },
   {
    "duration": 95,
    "start_time": "2021-08-31T09:33:21.611Z"
   },
   {
    "duration": 81,
    "start_time": "2021-08-31T09:33:42.220Z"
   },
   {
    "duration": 76,
    "start_time": "2021-08-31T09:33:53.842Z"
   },
   {
    "duration": 18,
    "start_time": "2021-08-31T09:34:07.333Z"
   },
   {
    "duration": 21,
    "start_time": "2021-08-31T09:34:22.511Z"
   },
   {
    "duration": 22,
    "start_time": "2021-08-31T09:34:32.613Z"
   },
   {
    "duration": 12,
    "start_time": "2021-08-31T09:36:11.024Z"
   },
   {
    "duration": 10,
    "start_time": "2021-08-31T09:36:17.781Z"
   },
   {
    "duration": 10,
    "start_time": "2021-08-31T09:36:25.102Z"
   },
   {
    "duration": 9,
    "start_time": "2021-08-31T09:36:33.244Z"
   },
   {
    "duration": 23,
    "start_time": "2021-08-31T09:36:46.653Z"
   },
   {
    "duration": 18,
    "start_time": "2021-08-31T09:36:56.875Z"
   },
   {
    "duration": 13,
    "start_time": "2021-08-31T09:37:07.974Z"
   },
   {
    "duration": 14,
    "start_time": "2021-08-31T09:37:24.644Z"
   },
   {
    "duration": 9,
    "start_time": "2021-08-31T09:37:46.143Z"
   },
   {
    "duration": 97,
    "start_time": "2021-08-31T09:42:57.443Z"
   },
   {
    "duration": 75,
    "start_time": "2021-08-31T09:43:33.772Z"
   },
   {
    "duration": 31,
    "start_time": "2021-08-31T09:43:33.850Z"
   },
   {
    "duration": 23,
    "start_time": "2021-08-31T09:43:33.885Z"
   },
   {
    "duration": 20,
    "start_time": "2021-08-31T09:43:33.910Z"
   },
   {
    "duration": 38,
    "start_time": "2021-08-31T09:43:33.932Z"
   },
   {
    "duration": 29,
    "start_time": "2021-08-31T09:43:33.973Z"
   },
   {
    "duration": 42,
    "start_time": "2021-08-31T09:43:34.005Z"
   },
   {
    "duration": 95,
    "start_time": "2021-08-31T09:43:34.050Z"
   },
   {
    "duration": 18,
    "start_time": "2021-08-31T09:43:34.150Z"
   },
   {
    "duration": 26,
    "start_time": "2021-08-31T09:43:34.173Z"
   },
   {
    "duration": 65,
    "start_time": "2021-08-31T09:43:34.201Z"
   },
   {
    "duration": 9,
    "start_time": "2021-08-31T09:43:34.269Z"
   },
   {
    "duration": 27,
    "start_time": "2021-08-31T09:43:34.281Z"
   },
   {
    "duration": 54,
    "start_time": "2021-08-31T09:43:34.310Z"
   },
   {
    "duration": 13,
    "start_time": "2021-08-31T09:43:34.367Z"
   },
   {
    "duration": 21,
    "start_time": "2021-08-31T09:43:34.383Z"
   },
   {
    "duration": 53,
    "start_time": "2021-08-31T09:43:34.407Z"
   },
   {
    "duration": 38,
    "start_time": "2021-08-31T09:43:34.464Z"
   },
   {
    "duration": 66,
    "start_time": "2021-08-31T09:43:34.505Z"
   },
   {
    "duration": 57,
    "start_time": "2021-08-31T09:43:34.575Z"
   },
   {
    "duration": 28,
    "start_time": "2021-08-31T09:43:34.634Z"
   },
   {
    "duration": 5528,
    "start_time": "2021-08-31T09:43:34.665Z"
   },
   {
    "duration": 19,
    "start_time": "2021-08-31T09:43:40.196Z"
   },
   {
    "duration": 39,
    "start_time": "2021-08-31T09:43:40.217Z"
   },
   {
    "duration": 32,
    "start_time": "2021-08-31T09:43:40.260Z"
   },
   {
    "duration": 13,
    "start_time": "2021-08-31T09:43:40.295Z"
   },
   {
    "duration": 57,
    "start_time": "2021-08-31T09:43:40.314Z"
   },
   {
    "duration": 36,
    "start_time": "2021-08-31T09:43:40.373Z"
   },
   {
    "duration": 59,
    "start_time": "2021-08-31T09:43:40.411Z"
   },
   {
    "duration": 37,
    "start_time": "2021-08-31T09:43:40.474Z"
   },
   {
    "duration": 74,
    "start_time": "2021-08-31T09:43:40.513Z"
   },
   {
    "duration": 41,
    "start_time": "2021-08-31T09:43:40.590Z"
   },
   {
    "duration": 9373,
    "start_time": "2021-08-31T10:00:59.909Z"
   },
   {
    "duration": 339,
    "start_time": "2021-08-31T10:01:21.649Z"
   },
   {
    "duration": 290,
    "start_time": "2021-08-31T10:02:14.279Z"
   },
   {
    "duration": 11,
    "start_time": "2021-08-31T10:02:42.189Z"
   },
   {
    "duration": 87,
    "start_time": "2021-08-31T10:02:50.429Z"
   },
   {
    "duration": 91,
    "start_time": "2021-08-31T10:03:26.369Z"
   },
   {
    "duration": 316,
    "start_time": "2021-08-31T10:03:38.777Z"
   },
   {
    "duration": 17,
    "start_time": "2021-08-31T10:03:45.869Z"
   },
   {
    "duration": 14,
    "start_time": "2021-08-31T10:04:54.819Z"
   },
   {
    "duration": 93,
    "start_time": "2021-08-31T10:06:34.798Z"
   },
   {
    "duration": 13,
    "start_time": "2021-08-31T10:06:42.189Z"
   },
   {
    "duration": 15,
    "start_time": "2021-08-31T10:07:10.827Z"
   },
   {
    "duration": 16,
    "start_time": "2021-08-31T10:08:27.829Z"
   },
   {
    "duration": 15,
    "start_time": "2021-08-31T10:09:18.221Z"
   },
   {
    "duration": 48,
    "start_time": "2021-08-31T10:10:17.227Z"
   },
   {
    "duration": 17,
    "start_time": "2021-08-31T10:40:55.480Z"
   },
   {
    "duration": 80,
    "start_time": "2021-08-31T10:47:59.766Z"
   },
   {
    "duration": 24,
    "start_time": "2021-08-31T10:47:59.856Z"
   },
   {
    "duration": 15,
    "start_time": "2021-08-31T10:47:59.884Z"
   },
   {
    "duration": 37,
    "start_time": "2021-08-31T10:47:59.903Z"
   },
   {
    "duration": 27,
    "start_time": "2021-08-31T10:47:59.943Z"
   },
   {
    "duration": 10,
    "start_time": "2021-08-31T10:47:59.974Z"
   },
   {
    "duration": 20,
    "start_time": "2021-08-31T10:47:59.987Z"
   },
   {
    "duration": 134,
    "start_time": "2021-08-31T10:48:00.012Z"
   },
   {
    "duration": 21,
    "start_time": "2021-08-31T10:48:00.149Z"
   },
   {
    "duration": 53,
    "start_time": "2021-08-31T10:48:00.176Z"
   },
   {
    "duration": 77,
    "start_time": "2021-08-31T10:48:00.232Z"
   },
   {
    "duration": 8,
    "start_time": "2021-08-31T10:48:00.311Z"
   },
   {
    "duration": 44,
    "start_time": "2021-08-31T10:48:00.322Z"
   },
   {
    "duration": 47,
    "start_time": "2021-08-31T10:48:00.370Z"
   },
   {
    "duration": 27,
    "start_time": "2021-08-31T10:48:00.420Z"
   },
   {
    "duration": 37,
    "start_time": "2021-08-31T10:48:00.449Z"
   },
   {
    "duration": 41,
    "start_time": "2021-08-31T10:48:00.488Z"
   },
   {
    "duration": 50,
    "start_time": "2021-08-31T10:48:00.532Z"
   },
   {
    "duration": 33,
    "start_time": "2021-08-31T10:48:00.584Z"
   },
   {
    "duration": 68,
    "start_time": "2021-08-31T10:48:00.619Z"
   },
   {
    "duration": 10,
    "start_time": "2021-08-31T10:48:00.689Z"
   },
   {
    "duration": 5213,
    "start_time": "2021-08-31T10:48:00.701Z"
   },
   {
    "duration": 17,
    "start_time": "2021-08-31T10:48:05.920Z"
   },
   {
    "duration": 55,
    "start_time": "2021-08-31T10:48:05.940Z"
   },
   {
    "duration": 46,
    "start_time": "2021-08-31T10:48:05.998Z"
   },
   {
    "duration": 15,
    "start_time": "2021-08-31T10:48:06.047Z"
   },
   {
    "duration": 27,
    "start_time": "2021-08-31T10:48:06.066Z"
   },
   {
    "duration": 55,
    "start_time": "2021-08-31T10:48:06.095Z"
   },
   {
    "duration": 41,
    "start_time": "2021-08-31T10:48:06.153Z"
   },
   {
    "duration": 62,
    "start_time": "2021-08-31T10:48:06.197Z"
   },
   {
    "duration": 45,
    "start_time": "2021-08-31T10:48:06.262Z"
   },
   {
    "duration": 72,
    "start_time": "2021-08-31T10:48:06.310Z"
   },
   {
    "duration": 16,
    "start_time": "2021-08-31T10:48:06.385Z"
   },
   {
    "duration": 84,
    "start_time": "2021-08-31T10:50:25.308Z"
   },
   {
    "duration": 29,
    "start_time": "2021-08-31T10:50:27.345Z"
   },
   {
    "duration": 19,
    "start_time": "2021-08-31T10:50:51.846Z"
   },
   {
    "duration": 4940,
    "start_time": "2021-08-31T11:11:35.653Z"
   },
   {
    "duration": 78,
    "start_time": "2021-08-31T11:11:51.244Z"
   },
   {
    "duration": 43,
    "start_time": "2021-08-31T11:11:51.325Z"
   },
   {
    "duration": 23,
    "start_time": "2021-08-31T11:11:51.372Z"
   },
   {
    "duration": 31,
    "start_time": "2021-08-31T11:11:51.399Z"
   },
   {
    "duration": 27,
    "start_time": "2021-08-31T11:11:51.434Z"
   },
   {
    "duration": 12,
    "start_time": "2021-08-31T11:11:51.465Z"
   },
   {
    "duration": 30,
    "start_time": "2021-08-31T11:11:51.479Z"
   },
   {
    "duration": 101,
    "start_time": "2021-08-31T11:11:51.511Z"
   },
   {
    "duration": 13,
    "start_time": "2021-08-31T11:11:51.616Z"
   },
   {
    "duration": 34,
    "start_time": "2021-08-31T11:11:51.632Z"
   },
   {
    "duration": 66,
    "start_time": "2021-08-31T11:11:51.669Z"
   },
   {
    "duration": 17,
    "start_time": "2021-08-31T11:11:51.738Z"
   },
   {
    "duration": 29,
    "start_time": "2021-08-31T11:11:51.759Z"
   },
   {
    "duration": 39,
    "start_time": "2021-08-31T11:11:51.791Z"
   },
   {
    "duration": 36,
    "start_time": "2021-08-31T11:11:51.833Z"
   },
   {
    "duration": 14,
    "start_time": "2021-08-31T11:11:51.872Z"
   },
   {
    "duration": 31,
    "start_time": "2021-08-31T11:11:51.889Z"
   },
   {
    "duration": 35,
    "start_time": "2021-08-31T11:11:51.924Z"
   },
   {
    "duration": 26,
    "start_time": "2021-08-31T11:11:51.962Z"
   },
   {
    "duration": 63,
    "start_time": "2021-08-31T11:11:51.991Z"
   },
   {
    "duration": 10,
    "start_time": "2021-08-31T11:11:52.057Z"
   },
   {
    "duration": 4873,
    "start_time": "2021-08-31T11:11:52.070Z"
   },
   {
    "duration": 31,
    "start_time": "2021-08-31T11:11:56.946Z"
   },
   {
    "duration": 21,
    "start_time": "2021-08-31T11:11:56.980Z"
   },
   {
    "duration": 31,
    "start_time": "2021-08-31T11:11:57.003Z"
   },
   {
    "duration": 20,
    "start_time": "2021-08-31T11:11:57.054Z"
   },
   {
    "duration": 31,
    "start_time": "2021-08-31T11:11:57.080Z"
   },
   {
    "duration": 67,
    "start_time": "2021-08-31T11:11:57.114Z"
   },
   {
    "duration": 42,
    "start_time": "2021-08-31T11:11:57.183Z"
   },
   {
    "duration": 71,
    "start_time": "2021-08-31T11:11:57.228Z"
   },
   {
    "duration": 33,
    "start_time": "2021-08-31T11:11:57.302Z"
   },
   {
    "duration": 67,
    "start_time": "2021-08-31T11:11:57.337Z"
   },
   {
    "duration": 16,
    "start_time": "2021-08-31T11:11:57.406Z"
   },
   {
    "duration": 4868,
    "start_time": "2021-08-31T11:13:26.665Z"
   },
   {
    "duration": 4735,
    "start_time": "2021-08-31T11:14:18.564Z"
   },
   {
    "duration": 5320,
    "start_time": "2021-08-31T11:16:33.281Z"
   },
   {
    "duration": 79,
    "start_time": "2021-08-31T11:16:51.938Z"
   },
   {
    "duration": 830,
    "start_time": "2021-08-31T11:19:46.866Z"
   },
   {
    "duration": 27,
    "start_time": "2021-08-31T11:19:47.699Z"
   },
   {
    "duration": 29,
    "start_time": "2021-08-31T11:19:47.729Z"
   },
   {
    "duration": 13,
    "start_time": "2021-08-31T11:19:47.761Z"
   },
   {
    "duration": 24,
    "start_time": "2021-08-31T11:19:47.776Z"
   },
   {
    "duration": 9,
    "start_time": "2021-08-31T11:19:47.802Z"
   },
   {
    "duration": 57,
    "start_time": "2021-08-31T11:19:47.813Z"
   },
   {
    "duration": 101,
    "start_time": "2021-08-31T11:19:47.873Z"
   },
   {
    "duration": 14,
    "start_time": "2021-08-31T11:19:47.980Z"
   },
   {
    "duration": 12,
    "start_time": "2021-08-31T11:19:47.998Z"
   },
   {
    "duration": 90,
    "start_time": "2021-08-31T11:19:48.013Z"
   },
   {
    "duration": 8,
    "start_time": "2021-08-31T11:19:48.105Z"
   },
   {
    "duration": 49,
    "start_time": "2021-08-31T11:19:48.115Z"
   },
   {
    "duration": 30,
    "start_time": "2021-08-31T11:19:48.167Z"
   },
   {
    "duration": 14,
    "start_time": "2021-08-31T11:19:48.199Z"
   },
   {
    "duration": 14,
    "start_time": "2021-08-31T11:19:48.216Z"
   },
   {
    "duration": 28,
    "start_time": "2021-08-31T11:19:48.259Z"
   },
   {
    "duration": 24,
    "start_time": "2021-08-31T11:19:48.289Z"
   },
   {
    "duration": 59,
    "start_time": "2021-08-31T11:19:48.316Z"
   },
   {
    "duration": 41,
    "start_time": "2021-08-31T11:19:48.377Z"
   },
   {
    "duration": 10,
    "start_time": "2021-08-31T11:19:48.421Z"
   },
   {
    "duration": 4744,
    "start_time": "2021-08-31T11:19:48.455Z"
   },
   {
    "duration": 18,
    "start_time": "2021-08-31T11:19:53.201Z"
   },
   {
    "duration": 43,
    "start_time": "2021-08-31T11:19:53.221Z"
   },
   {
    "duration": 24,
    "start_time": "2021-08-31T11:19:53.267Z"
   },
   {
    "duration": 13,
    "start_time": "2021-08-31T11:19:53.294Z"
   },
   {
    "duration": 51,
    "start_time": "2021-08-31T11:19:53.313Z"
   },
   {
    "duration": 41,
    "start_time": "2021-08-31T11:19:53.368Z"
   },
   {
    "duration": 70,
    "start_time": "2021-08-31T11:19:53.412Z"
   },
   {
    "duration": 36,
    "start_time": "2021-08-31T11:19:53.484Z"
   },
   {
    "duration": 67,
    "start_time": "2021-08-31T11:19:53.522Z"
   },
   {
    "duration": 37,
    "start_time": "2021-08-31T11:19:53.591Z"
   },
   {
    "duration": 42,
    "start_time": "2021-08-31T11:19:53.631Z"
   },
   {
    "duration": 4891,
    "start_time": "2021-08-31T11:30:01.365Z"
   },
   {
    "duration": 827,
    "start_time": "2021-08-31T11:30:13.270Z"
   },
   {
    "duration": 26,
    "start_time": "2021-08-31T11:30:14.100Z"
   },
   {
    "duration": 29,
    "start_time": "2021-08-31T11:30:14.129Z"
   },
   {
    "duration": 24,
    "start_time": "2021-08-31T11:30:14.161Z"
   },
   {
    "duration": 33,
    "start_time": "2021-08-31T11:30:14.187Z"
   },
   {
    "duration": 9,
    "start_time": "2021-08-31T11:30:14.223Z"
   },
   {
    "duration": 36,
    "start_time": "2021-08-31T11:30:14.235Z"
   },
   {
    "duration": 94,
    "start_time": "2021-08-31T11:30:14.273Z"
   },
   {
    "duration": 14,
    "start_time": "2021-08-31T11:30:14.373Z"
   },
   {
    "duration": 14,
    "start_time": "2021-08-31T11:30:14.392Z"
   },
   {
    "duration": 100,
    "start_time": "2021-08-31T11:30:14.408Z"
   },
   {
    "duration": 7,
    "start_time": "2021-08-31T11:30:14.511Z"
   },
   {
    "duration": 43,
    "start_time": "2021-08-31T11:30:14.521Z"
   },
   {
    "duration": 28,
    "start_time": "2021-08-31T11:30:14.567Z"
   },
   {
    "duration": 12,
    "start_time": "2021-08-31T11:30:14.597Z"
   },
   {
    "duration": 10,
    "start_time": "2021-08-31T11:30:14.611Z"
   },
   {
    "duration": 28,
    "start_time": "2021-08-31T11:30:14.655Z"
   },
   {
    "duration": 23,
    "start_time": "2021-08-31T11:30:14.686Z"
   },
   {
    "duration": 56,
    "start_time": "2021-08-31T11:30:14.711Z"
   },
   {
    "duration": 42,
    "start_time": "2021-08-31T11:30:14.770Z"
   },
   {
    "duration": 10,
    "start_time": "2021-08-31T11:30:14.814Z"
   },
   {
    "duration": 4843,
    "start_time": "2021-08-31T11:30:14.826Z"
   },
   {
    "duration": 21,
    "start_time": "2021-08-31T11:30:19.672Z"
   },
   {
    "duration": 42,
    "start_time": "2021-08-31T11:30:19.696Z"
   },
   {
    "duration": 40,
    "start_time": "2021-08-31T11:30:19.740Z"
   },
   {
    "duration": 13,
    "start_time": "2021-08-31T11:30:19.782Z"
   },
   {
    "duration": 31,
    "start_time": "2021-08-31T11:30:19.799Z"
   },
   {
    "duration": 46,
    "start_time": "2021-08-31T11:30:19.833Z"
   },
   {
    "duration": 32,
    "start_time": "2021-08-31T11:30:19.881Z"
   },
   {
    "duration": 64,
    "start_time": "2021-08-31T11:30:19.916Z"
   },
   {
    "duration": 34,
    "start_time": "2021-08-31T11:30:19.983Z"
   },
   {
    "duration": 72,
    "start_time": "2021-08-31T11:30:20.019Z"
   },
   {
    "duration": 17,
    "start_time": "2021-08-31T11:30:20.094Z"
   },
   {
    "duration": 4778,
    "start_time": "2021-08-31T11:30:56.600Z"
   },
   {
    "duration": 4799,
    "start_time": "2021-08-31T11:31:08.050Z"
   },
   {
    "duration": 5135,
    "start_time": "2021-08-31T11:31:22.900Z"
   },
   {
    "duration": 4772,
    "start_time": "2021-08-31T11:31:40.820Z"
   },
   {
    "duration": 4791,
    "start_time": "2021-08-31T11:31:57.692Z"
   },
   {
    "duration": 82,
    "start_time": "2021-08-31T11:32:06.232Z"
   },
   {
    "duration": 38,
    "start_time": "2021-08-31T11:32:06.317Z"
   },
   {
    "duration": 7,
    "start_time": "2021-08-31T11:32:06.358Z"
   },
   {
    "duration": 16,
    "start_time": "2021-08-31T11:32:06.368Z"
   },
   {
    "duration": 18,
    "start_time": "2021-08-31T11:32:06.386Z"
   },
   {
    "duration": 49,
    "start_time": "2021-08-31T11:32:06.407Z"
   },
   {
    "duration": 16,
    "start_time": "2021-08-31T11:32:06.459Z"
   },
   {
    "duration": 110,
    "start_time": "2021-08-31T11:32:06.478Z"
   },
   {
    "duration": 14,
    "start_time": "2021-08-31T11:32:06.592Z"
   },
   {
    "duration": 14,
    "start_time": "2021-08-31T11:32:06.609Z"
   },
   {
    "duration": 78,
    "start_time": "2021-08-31T11:32:06.625Z"
   },
   {
    "duration": 8,
    "start_time": "2021-08-31T11:32:06.706Z"
   },
   {
    "duration": 49,
    "start_time": "2021-08-31T11:32:06.717Z"
   },
   {
    "duration": 26,
    "start_time": "2021-08-31T11:32:06.769Z"
   },
   {
    "duration": 9,
    "start_time": "2021-08-31T11:32:06.798Z"
   },
   {
    "duration": 12,
    "start_time": "2021-08-31T11:32:06.809Z"
   },
   {
    "duration": 61,
    "start_time": "2021-08-31T11:32:06.823Z"
   },
   {
    "duration": 24,
    "start_time": "2021-08-31T11:32:06.886Z"
   },
   {
    "duration": 57,
    "start_time": "2021-08-31T11:32:06.912Z"
   },
   {
    "duration": 42,
    "start_time": "2021-08-31T11:32:06.972Z"
   },
   {
    "duration": 10,
    "start_time": "2021-08-31T11:32:07.016Z"
   },
   {
    "duration": 4861,
    "start_time": "2021-08-31T11:32:07.029Z"
   },
   {
    "duration": 18,
    "start_time": "2021-08-31T11:32:11.892Z"
   },
   {
    "duration": 17,
    "start_time": "2021-08-31T11:32:11.913Z"
   },
   {
    "duration": 46,
    "start_time": "2021-08-31T11:32:11.933Z"
   },
   {
    "duration": 11,
    "start_time": "2021-08-31T11:32:11.982Z"
   },
   {
    "duration": 19,
    "start_time": "2021-08-31T11:32:12.000Z"
   },
   {
    "duration": 38,
    "start_time": "2021-08-31T11:32:12.061Z"
   },
   {
    "duration": 32,
    "start_time": "2021-08-31T11:32:12.101Z"
   },
   {
    "duration": 39,
    "start_time": "2021-08-31T11:32:12.156Z"
   },
   {
    "duration": 67,
    "start_time": "2021-08-31T11:32:12.198Z"
   },
   {
    "duration": 39,
    "start_time": "2021-08-31T11:32:12.268Z"
   },
   {
    "duration": 16,
    "start_time": "2021-08-31T11:32:12.310Z"
   },
   {
    "duration": 856,
    "start_time": "2021-08-31T11:32:23.958Z"
   },
   {
    "duration": 27,
    "start_time": "2021-08-31T11:32:24.817Z"
   },
   {
    "duration": 9,
    "start_time": "2021-08-31T11:32:24.856Z"
   },
   {
    "duration": 15,
    "start_time": "2021-08-31T11:32:24.868Z"
   },
   {
    "duration": 15,
    "start_time": "2021-08-31T11:32:24.885Z"
   },
   {
    "duration": 22,
    "start_time": "2021-08-31T11:32:24.903Z"
   },
   {
    "duration": 16,
    "start_time": "2021-08-31T11:32:24.957Z"
   },
   {
    "duration": 111,
    "start_time": "2021-08-31T11:32:24.978Z"
   },
   {
    "duration": 13,
    "start_time": "2021-08-31T11:32:25.092Z"
   },
   {
    "duration": 22,
    "start_time": "2021-08-31T11:32:25.107Z"
   },
   {
    "duration": 73,
    "start_time": "2021-08-31T11:32:25.132Z"
   },
   {
    "duration": 8,
    "start_time": "2021-08-31T11:32:25.207Z"
   },
   {
    "duration": 41,
    "start_time": "2021-08-31T11:32:25.217Z"
   },
   {
    "duration": 29,
    "start_time": "2021-08-31T11:32:25.261Z"
   },
   {
    "duration": 11,
    "start_time": "2021-08-31T11:32:25.294Z"
   },
   {
    "duration": 56,
    "start_time": "2021-08-31T11:32:25.308Z"
   },
   {
    "duration": 30,
    "start_time": "2021-08-31T11:32:25.367Z"
   },
   {
    "duration": 28,
    "start_time": "2021-08-31T11:32:25.399Z"
   },
   {
    "duration": 57,
    "start_time": "2021-08-31T11:32:25.429Z"
   },
   {
    "duration": 42,
    "start_time": "2021-08-31T11:32:25.488Z"
   },
   {
    "duration": 11,
    "start_time": "2021-08-31T11:32:25.554Z"
   },
   {
    "duration": 4874,
    "start_time": "2021-08-31T11:32:25.568Z"
   },
   {
    "duration": 30,
    "start_time": "2021-08-31T11:32:30.447Z"
   },
   {
    "duration": 30,
    "start_time": "2021-08-31T11:32:30.480Z"
   },
   {
    "duration": 25,
    "start_time": "2021-08-31T11:32:30.513Z"
   },
   {
    "duration": 32,
    "start_time": "2021-08-31T11:32:30.541Z"
   },
   {
    "duration": 20,
    "start_time": "2021-08-31T11:32:30.576Z"
   },
   {
    "duration": 68,
    "start_time": "2021-08-31T11:32:30.599Z"
   },
   {
    "duration": 33,
    "start_time": "2021-08-31T11:32:30.670Z"
   },
   {
    "duration": 60,
    "start_time": "2021-08-31T11:32:30.706Z"
   },
   {
    "duration": 37,
    "start_time": "2021-08-31T11:32:30.769Z"
   },
   {
    "duration": 69,
    "start_time": "2021-08-31T11:32:30.809Z"
   },
   {
    "duration": 17,
    "start_time": "2021-08-31T11:32:30.881Z"
   },
   {
    "duration": 4823,
    "start_time": "2021-08-31T11:33:32.367Z"
   },
   {
    "duration": 808,
    "start_time": "2021-08-31T11:33:43.911Z"
   },
   {
    "duration": 33,
    "start_time": "2021-08-31T11:33:44.721Z"
   },
   {
    "duration": 16,
    "start_time": "2021-08-31T11:33:44.759Z"
   },
   {
    "duration": 11,
    "start_time": "2021-08-31T11:33:44.779Z"
   },
   {
    "duration": 16,
    "start_time": "2021-08-31T11:33:44.793Z"
   },
   {
    "duration": 53,
    "start_time": "2021-08-31T11:33:44.812Z"
   },
   {
    "duration": 18,
    "start_time": "2021-08-31T11:33:44.869Z"
   },
   {
    "duration": 117,
    "start_time": "2021-08-31T11:33:44.889Z"
   },
   {
    "duration": 12,
    "start_time": "2021-08-31T11:33:45.010Z"
   },
   {
    "duration": 39,
    "start_time": "2021-08-31T11:33:45.025Z"
   },
   {
    "duration": 46,
    "start_time": "2021-08-31T11:33:45.067Z"
   },
   {
    "duration": 7,
    "start_time": "2021-08-31T11:33:45.116Z"
   },
   {
    "duration": 54,
    "start_time": "2021-08-31T11:33:45.125Z"
   },
   {
    "duration": 26,
    "start_time": "2021-08-31T11:33:45.184Z"
   },
   {
    "duration": 11,
    "start_time": "2021-08-31T11:33:45.213Z"
   },
   {
    "duration": 29,
    "start_time": "2021-08-31T11:33:45.227Z"
   },
   {
    "duration": 43,
    "start_time": "2021-08-31T11:33:45.259Z"
   },
   {
    "duration": 24,
    "start_time": "2021-08-31T11:33:45.304Z"
   },
   {
    "duration": 48,
    "start_time": "2021-08-31T11:33:45.330Z"
   },
   {
    "duration": 44,
    "start_time": "2021-08-31T11:33:45.381Z"
   },
   {
    "duration": 34,
    "start_time": "2021-08-31T11:33:45.428Z"
   },
   {
    "duration": 5153,
    "start_time": "2021-08-31T11:33:45.465Z"
   },
   {
    "duration": 15,
    "start_time": "2021-08-31T11:33:50.621Z"
   },
   {
    "duration": 16,
    "start_time": "2021-08-31T11:33:50.655Z"
   },
   {
    "duration": 26,
    "start_time": "2021-08-31T11:33:50.674Z"
   },
   {
    "duration": 12,
    "start_time": "2021-08-31T11:33:50.703Z"
   },
   {
    "duration": 57,
    "start_time": "2021-08-31T11:33:50.720Z"
   },
   {
    "duration": 37,
    "start_time": "2021-08-31T11:33:50.779Z"
   },
   {
    "duration": 70,
    "start_time": "2021-08-31T11:33:50.819Z"
   },
   {
    "duration": 37,
    "start_time": "2021-08-31T11:33:50.891Z"
   },
   {
    "duration": 41,
    "start_time": "2021-08-31T11:33:50.954Z"
   },
   {
    "duration": 58,
    "start_time": "2021-08-31T11:33:50.998Z"
   },
   {
    "duration": 21,
    "start_time": "2021-08-31T11:33:51.060Z"
   },
   {
    "duration": 973,
    "start_time": "2021-08-31T11:34:19.533Z"
   },
   {
    "duration": 27,
    "start_time": "2021-08-31T11:34:20.509Z"
   },
   {
    "duration": 22,
    "start_time": "2021-08-31T11:34:20.539Z"
   },
   {
    "duration": 20,
    "start_time": "2021-08-31T11:34:20.565Z"
   },
   {
    "duration": 26,
    "start_time": "2021-08-31T11:34:20.587Z"
   },
   {
    "duration": 15,
    "start_time": "2021-08-31T11:34:20.616Z"
   },
   {
    "duration": 43,
    "start_time": "2021-08-31T11:34:20.633Z"
   },
   {
    "duration": 108,
    "start_time": "2021-08-31T11:34:20.678Z"
   },
   {
    "duration": 13,
    "start_time": "2021-08-31T11:34:20.790Z"
   },
   {
    "duration": 21,
    "start_time": "2021-08-31T11:34:20.806Z"
   },
   {
    "duration": 70,
    "start_time": "2021-08-31T11:34:20.830Z"
   },
   {
    "duration": 8,
    "start_time": "2021-08-31T11:34:20.903Z"
   },
   {
    "duration": 42,
    "start_time": "2021-08-31T11:34:20.914Z"
   },
   {
    "duration": 32,
    "start_time": "2021-08-31T11:34:20.960Z"
   },
   {
    "duration": 8,
    "start_time": "2021-08-31T11:34:20.995Z"
   },
   {
    "duration": 11,
    "start_time": "2021-08-31T11:34:21.006Z"
   },
   {
    "duration": 55,
    "start_time": "2021-08-31T11:34:21.020Z"
   },
   {
    "duration": 32,
    "start_time": "2021-08-31T11:34:21.077Z"
   },
   {
    "duration": 45,
    "start_time": "2021-08-31T11:34:21.112Z"
   },
   {
    "duration": 45,
    "start_time": "2021-08-31T11:34:21.161Z"
   },
   {
    "duration": 10,
    "start_time": "2021-08-31T11:34:21.210Z"
   },
   {
    "duration": 4790,
    "start_time": "2021-08-31T11:34:21.222Z"
   },
   {
    "duration": 17,
    "start_time": "2021-08-31T11:34:26.014Z"
   },
   {
    "duration": 38,
    "start_time": "2021-08-31T11:34:26.034Z"
   },
   {
    "duration": 24,
    "start_time": "2021-08-31T11:34:26.075Z"
   },
   {
    "duration": 11,
    "start_time": "2021-08-31T11:34:26.102Z"
   },
   {
    "duration": 54,
    "start_time": "2021-08-31T11:34:26.118Z"
   },
   {
    "duration": 36,
    "start_time": "2021-08-31T11:34:26.176Z"
   },
   {
    "duration": 66,
    "start_time": "2021-08-31T11:34:26.215Z"
   },
   {
    "duration": 38,
    "start_time": "2021-08-31T11:34:26.283Z"
   },
   {
    "duration": 63,
    "start_time": "2021-08-31T11:34:26.324Z"
   },
   {
    "duration": 37,
    "start_time": "2021-08-31T11:34:26.389Z"
   },
   {
    "duration": 43,
    "start_time": "2021-08-31T11:34:26.429Z"
   },
   {
    "duration": 823,
    "start_time": "2021-08-31T11:36:33.974Z"
   },
   {
    "duration": 26,
    "start_time": "2021-08-31T11:36:34.800Z"
   },
   {
    "duration": 28,
    "start_time": "2021-08-31T11:36:34.829Z"
   },
   {
    "duration": 27,
    "start_time": "2021-08-31T11:36:34.861Z"
   },
   {
    "duration": 33,
    "start_time": "2021-08-31T11:36:34.890Z"
   },
   {
    "duration": 25,
    "start_time": "2021-08-31T11:36:34.925Z"
   },
   {
    "duration": 39,
    "start_time": "2021-08-31T11:36:34.952Z"
   },
   {
    "duration": 99,
    "start_time": "2021-08-31T11:36:34.994Z"
   },
   {
    "duration": 12,
    "start_time": "2021-08-31T11:36:35.097Z"
   },
   {
    "duration": 21,
    "start_time": "2021-08-31T11:36:35.112Z"
   },
   {
    "duration": 49,
    "start_time": "2021-08-31T11:36:35.155Z"
   },
   {
    "duration": 7,
    "start_time": "2021-08-31T11:36:35.206Z"
   },
   {
    "duration": 44,
    "start_time": "2021-08-31T11:36:35.216Z"
   },
   {
    "duration": 30,
    "start_time": "2021-08-31T11:36:35.264Z"
   },
   {
    "duration": 28,
    "start_time": "2021-08-31T11:36:35.296Z"
   },
   {
    "duration": 28,
    "start_time": "2021-08-31T11:36:35.326Z"
   },
   {
    "duration": 40,
    "start_time": "2021-08-31T11:36:35.357Z"
   },
   {
    "duration": 27,
    "start_time": "2021-08-31T11:36:35.400Z"
   },
   {
    "duration": 58,
    "start_time": "2021-08-31T11:36:35.429Z"
   },
   {
    "duration": 40,
    "start_time": "2021-08-31T11:36:35.490Z"
   },
   {
    "duration": 22,
    "start_time": "2021-08-31T11:36:35.532Z"
   },
   {
    "duration": 4771,
    "start_time": "2021-08-31T11:36:35.557Z"
   },
   {
    "duration": 35,
    "start_time": "2021-08-31T11:36:40.331Z"
   },
   {
    "duration": 19,
    "start_time": "2021-08-31T11:36:40.370Z"
   },
   {
    "duration": 28,
    "start_time": "2021-08-31T11:36:40.392Z"
   },
   {
    "duration": 39,
    "start_time": "2021-08-31T11:36:40.423Z"
   },
   {
    "duration": 23,
    "start_time": "2021-08-31T11:36:40.468Z"
   },
   {
    "duration": 41,
    "start_time": "2021-08-31T11:36:40.494Z"
   },
   {
    "duration": 44,
    "start_time": "2021-08-31T11:36:40.537Z"
   },
   {
    "duration": 33,
    "start_time": "2021-08-31T11:36:40.584Z"
   },
   {
    "duration": 71,
    "start_time": "2021-08-31T11:36:40.620Z"
   },
   {
    "duration": 33,
    "start_time": "2021-08-31T11:36:40.693Z"
   },
   {
    "duration": 39,
    "start_time": "2021-08-31T11:36:40.729Z"
   },
   {
    "duration": 904,
    "start_time": "2021-08-31T11:37:32.130Z"
   },
   {
    "duration": 28,
    "start_time": "2021-08-31T11:37:33.037Z"
   },
   {
    "duration": 18,
    "start_time": "2021-08-31T11:37:33.069Z"
   },
   {
    "duration": 26,
    "start_time": "2021-08-31T11:37:33.091Z"
   },
   {
    "duration": 33,
    "start_time": "2021-08-31T11:37:33.120Z"
   },
   {
    "duration": 35,
    "start_time": "2021-08-31T11:37:33.156Z"
   },
   {
    "duration": 40,
    "start_time": "2021-08-31T11:37:33.193Z"
   },
   {
    "duration": 104,
    "start_time": "2021-08-31T11:37:33.235Z"
   },
   {
    "duration": 13,
    "start_time": "2021-08-31T11:37:33.343Z"
   },
   {
    "duration": 33,
    "start_time": "2021-08-31T11:37:33.361Z"
   },
   {
    "duration": 53,
    "start_time": "2021-08-31T11:37:33.396Z"
   },
   {
    "duration": 10,
    "start_time": "2021-08-31T11:37:33.455Z"
   },
   {
    "duration": 29,
    "start_time": "2021-08-31T11:37:33.469Z"
   },
   {
    "duration": 38,
    "start_time": "2021-08-31T11:37:33.501Z"
   },
   {
    "duration": 12,
    "start_time": "2021-08-31T11:37:33.560Z"
   },
   {
    "duration": 16,
    "start_time": "2021-08-31T11:37:33.575Z"
   },
   {
    "duration": 42,
    "start_time": "2021-08-31T11:37:33.593Z"
   },
   {
    "duration": 47,
    "start_time": "2021-08-31T11:37:33.638Z"
   },
   {
    "duration": 24,
    "start_time": "2021-08-31T11:37:33.687Z"
   },
   {
    "duration": 72,
    "start_time": "2021-08-31T11:37:33.713Z"
   },
   {
    "duration": 10,
    "start_time": "2021-08-31T11:37:33.787Z"
   },
   {
    "duration": 4939,
    "start_time": "2021-08-31T11:37:33.800Z"
   },
   {
    "duration": 31,
    "start_time": "2021-08-31T11:37:38.741Z"
   },
   {
    "duration": 13,
    "start_time": "2021-08-31T11:37:38.774Z"
   },
   {
    "duration": 23,
    "start_time": "2021-08-31T11:37:38.790Z"
   },
   {
    "duration": 57,
    "start_time": "2021-08-31T11:37:38.816Z"
   },
   {
    "duration": 19,
    "start_time": "2021-08-31T11:37:38.878Z"
   },
   {
    "duration": 71,
    "start_time": "2021-08-31T11:37:38.900Z"
   },
   {
    "duration": 37,
    "start_time": "2021-08-31T11:37:38.974Z"
   },
   {
    "duration": 70,
    "start_time": "2021-08-31T11:37:39.013Z"
   },
   {
    "duration": 40,
    "start_time": "2021-08-31T11:37:39.085Z"
   },
   {
    "duration": 64,
    "start_time": "2021-08-31T11:37:39.128Z"
   },
   {
    "duration": 17,
    "start_time": "2021-08-31T11:37:39.202Z"
   },
   {
    "duration": 811,
    "start_time": "2021-08-31T11:38:58.372Z"
   },
   {
    "duration": 28,
    "start_time": "2021-08-31T11:38:59.187Z"
   },
   {
    "duration": 35,
    "start_time": "2021-08-31T11:38:59.219Z"
   },
   {
    "duration": 25,
    "start_time": "2021-08-31T11:38:59.257Z"
   },
   {
    "duration": 25,
    "start_time": "2021-08-31T11:38:59.284Z"
   },
   {
    "duration": 21,
    "start_time": "2021-08-31T11:38:59.312Z"
   },
   {
    "duration": 43,
    "start_time": "2021-08-31T11:38:59.335Z"
   },
   {
    "duration": 110,
    "start_time": "2021-08-31T11:38:59.380Z"
   },
   {
    "duration": 14,
    "start_time": "2021-08-31T11:38:59.494Z"
   },
   {
    "duration": 23,
    "start_time": "2021-08-31T11:38:59.511Z"
   },
   {
    "duration": 73,
    "start_time": "2021-08-31T11:38:59.536Z"
   },
   {
    "duration": 10,
    "start_time": "2021-08-31T11:38:59.612Z"
   },
   {
    "duration": 57,
    "start_time": "2021-08-31T11:38:59.625Z"
   },
   {
    "duration": 36,
    "start_time": "2021-08-31T11:38:59.685Z"
   },
   {
    "duration": 47,
    "start_time": "2021-08-31T11:38:59.723Z"
   },
   {
    "duration": 23,
    "start_time": "2021-08-31T11:38:59.774Z"
   },
   {
    "duration": 33,
    "start_time": "2021-08-31T11:38:59.800Z"
   },
   {
    "duration": 50,
    "start_time": "2021-08-31T11:38:59.835Z"
   },
   {
    "duration": 43,
    "start_time": "2021-08-31T11:38:59.888Z"
   },
   {
    "duration": 49,
    "start_time": "2021-08-31T11:38:59.934Z"
   },
   {
    "duration": 10,
    "start_time": "2021-08-31T11:38:59.985Z"
   },
   {
    "duration": 4803,
    "start_time": "2021-08-31T11:38:59.997Z"
   },
   {
    "duration": 17,
    "start_time": "2021-08-31T11:39:04.803Z"
   },
   {
    "duration": 33,
    "start_time": "2021-08-31T11:39:04.823Z"
   },
   {
    "duration": 33,
    "start_time": "2021-08-31T11:39:04.859Z"
   },
   {
    "duration": 10,
    "start_time": "2021-08-31T11:39:04.895Z"
   },
   {
    "duration": 48,
    "start_time": "2021-08-31T11:39:04.910Z"
   },
   {
    "duration": 52,
    "start_time": "2021-08-31T11:39:04.962Z"
   },
   {
    "duration": 39,
    "start_time": "2021-08-31T11:39:05.017Z"
   },
   {
    "duration": 38,
    "start_time": "2021-08-31T11:39:05.059Z"
   },
   {
    "duration": 70,
    "start_time": "2021-08-31T11:39:05.100Z"
   },
   {
    "duration": 36,
    "start_time": "2021-08-31T11:39:05.173Z"
   },
   {
    "duration": 22,
    "start_time": "2021-08-31T11:39:05.212Z"
   },
   {
    "duration": 851,
    "start_time": "2021-08-31T11:39:37.363Z"
   },
   {
    "duration": 43,
    "start_time": "2021-08-31T11:39:38.217Z"
   },
   {
    "duration": 11,
    "start_time": "2021-08-31T11:39:38.265Z"
   },
   {
    "duration": 14,
    "start_time": "2021-08-31T11:39:38.279Z"
   },
   {
    "duration": 22,
    "start_time": "2021-08-31T11:39:38.295Z"
   },
   {
    "duration": 52,
    "start_time": "2021-08-31T11:39:38.320Z"
   },
   {
    "duration": 21,
    "start_time": "2021-08-31T11:39:38.376Z"
   },
   {
    "duration": 164,
    "start_time": "2021-08-31T11:39:38.401Z"
   },
   {
    "duration": 16,
    "start_time": "2021-08-31T11:39:38.572Z"
   },
   {
    "duration": 11,
    "start_time": "2021-08-31T11:39:38.592Z"
   },
   {
    "duration": 87,
    "start_time": "2021-08-31T11:39:38.605Z"
   },
   {
    "duration": 8,
    "start_time": "2021-08-31T11:39:38.695Z"
   },
   {
    "duration": 22,
    "start_time": "2021-08-31T11:39:38.705Z"
   },
   {
    "duration": 56,
    "start_time": "2021-08-31T11:39:38.729Z"
   },
   {
    "duration": 10,
    "start_time": "2021-08-31T11:39:38.787Z"
   },
   {
    "duration": 9,
    "start_time": "2021-08-31T11:39:38.800Z"
   },
   {
    "duration": 72,
    "start_time": "2021-08-31T11:39:38.811Z"
   },
   {
    "duration": 25,
    "start_time": "2021-08-31T11:39:38.886Z"
   },
   {
    "duration": 24,
    "start_time": "2021-08-31T11:39:38.914Z"
   },
   {
    "duration": 51,
    "start_time": "2021-08-31T11:39:38.956Z"
   },
   {
    "duration": 10,
    "start_time": "2021-08-31T11:39:39.010Z"
   },
   {
    "duration": 5191,
    "start_time": "2021-08-31T11:39:39.023Z"
   },
   {
    "duration": 19,
    "start_time": "2021-08-31T11:39:44.216Z"
   },
   {
    "duration": 48,
    "start_time": "2021-08-31T11:39:44.237Z"
   },
   {
    "duration": 23,
    "start_time": "2021-08-31T11:39:44.287Z"
   },
   {
    "duration": 17,
    "start_time": "2021-08-31T11:39:44.313Z"
   },
   {
    "duration": 31,
    "start_time": "2021-08-31T11:39:44.334Z"
   },
   {
    "duration": 40,
    "start_time": "2021-08-31T11:39:44.369Z"
   },
   {
    "duration": 70,
    "start_time": "2021-08-31T11:39:44.412Z"
   },
   {
    "duration": 36,
    "start_time": "2021-08-31T11:39:44.484Z"
   },
   {
    "duration": 61,
    "start_time": "2021-08-31T11:39:44.523Z"
   },
   {
    "duration": 39,
    "start_time": "2021-08-31T11:39:44.587Z"
   },
   {
    "duration": 45,
    "start_time": "2021-08-31T11:39:44.629Z"
   },
   {
    "duration": 850,
    "start_time": "2021-08-31T11:41:59.259Z"
   },
   {
    "duration": 28,
    "start_time": "2021-08-31T11:42:00.112Z"
   },
   {
    "duration": 19,
    "start_time": "2021-08-31T11:42:00.143Z"
   },
   {
    "duration": 32,
    "start_time": "2021-08-31T11:42:00.166Z"
   },
   {
    "duration": 20,
    "start_time": "2021-08-31T11:42:00.200Z"
   },
   {
    "duration": 29,
    "start_time": "2021-08-31T11:42:00.223Z"
   },
   {
    "duration": 24,
    "start_time": "2021-08-31T11:42:00.256Z"
   },
   {
    "duration": 115,
    "start_time": "2021-08-31T11:42:00.284Z"
   },
   {
    "duration": 12,
    "start_time": "2021-08-31T11:42:00.402Z"
   },
   {
    "duration": 20,
    "start_time": "2021-08-31T11:42:00.416Z"
   },
   {
    "duration": 71,
    "start_time": "2021-08-31T11:42:00.438Z"
   },
   {
    "duration": 7,
    "start_time": "2021-08-31T11:42:00.511Z"
   },
   {
    "duration": 57,
    "start_time": "2021-08-31T11:42:00.521Z"
   },
   {
    "duration": 36,
    "start_time": "2021-08-31T11:42:00.581Z"
   },
   {
    "duration": 21,
    "start_time": "2021-08-31T11:42:00.620Z"
   },
   {
    "duration": 57,
    "start_time": "2021-08-31T11:42:00.643Z"
   },
   {
    "duration": 33,
    "start_time": "2021-08-31T11:42:00.703Z"
   },
   {
    "duration": 51,
    "start_time": "2021-08-31T11:42:00.739Z"
   },
   {
    "duration": 52,
    "start_time": "2021-08-31T11:42:00.792Z"
   },
   {
    "duration": 64,
    "start_time": "2021-08-31T11:42:00.846Z"
   },
   {
    "duration": 13,
    "start_time": "2021-08-31T11:42:00.912Z"
   },
   {
    "duration": 4789,
    "start_time": "2021-08-31T11:42:00.928Z"
   },
   {
    "duration": 40,
    "start_time": "2021-08-31T11:42:05.722Z"
   },
   {
    "duration": 14,
    "start_time": "2021-08-31T11:42:05.766Z"
   },
   {
    "duration": 34,
    "start_time": "2021-08-31T11:42:05.783Z"
   },
   {
    "duration": 12,
    "start_time": "2021-08-31T11:42:05.820Z"
   },
   {
    "duration": 44,
    "start_time": "2021-08-31T11:42:05.834Z"
   },
   {
    "duration": 36,
    "start_time": "2021-08-31T11:42:05.881Z"
   },
   {
    "duration": 65,
    "start_time": "2021-08-31T11:42:05.920Z"
   },
   {
    "duration": 34,
    "start_time": "2021-08-31T11:42:05.988Z"
   },
   {
    "duration": 58,
    "start_time": "2021-08-31T11:42:06.025Z"
   },
   {
    "duration": 36,
    "start_time": "2021-08-31T11:42:06.085Z"
   },
   {
    "duration": 40,
    "start_time": "2021-08-31T11:42:06.124Z"
   },
   {
    "duration": 855,
    "start_time": "2021-08-31T11:42:58.858Z"
   },
   {
    "duration": 46,
    "start_time": "2021-08-31T11:42:59.717Z"
   },
   {
    "duration": 11,
    "start_time": "2021-08-31T11:42:59.768Z"
   },
   {
    "duration": 28,
    "start_time": "2021-08-31T11:42:59.782Z"
   },
   {
    "duration": 24,
    "start_time": "2021-08-31T11:42:59.813Z"
   },
   {
    "duration": 12,
    "start_time": "2021-08-31T11:42:59.856Z"
   },
   {
    "duration": 22,
    "start_time": "2021-08-31T11:42:59.871Z"
   },
   {
    "duration": 118,
    "start_time": "2021-08-31T11:42:59.896Z"
   },
   {
    "duration": 13,
    "start_time": "2021-08-31T11:43:00.018Z"
   },
   {
    "duration": 44,
    "start_time": "2021-08-31T11:43:00.034Z"
   },
   {
    "duration": 70,
    "start_time": "2021-08-31T11:43:00.081Z"
   },
   {
    "duration": 13,
    "start_time": "2021-08-31T11:43:00.154Z"
   },
   {
    "duration": 40,
    "start_time": "2021-08-31T11:43:00.171Z"
   },
   {
    "duration": 51,
    "start_time": "2021-08-31T11:43:00.213Z"
   },
   {
    "duration": 13,
    "start_time": "2021-08-31T11:43:00.267Z"
   },
   {
    "duration": 28,
    "start_time": "2021-08-31T11:43:00.282Z"
   },
   {
    "duration": 53,
    "start_time": "2021-08-31T11:43:00.313Z"
   },
   {
    "duration": 47,
    "start_time": "2021-08-31T11:43:00.369Z"
   },
   {
    "duration": 51,
    "start_time": "2021-08-31T11:43:00.418Z"
   },
   {
    "duration": 40,
    "start_time": "2021-08-31T11:43:00.473Z"
   },
   {
    "duration": 10,
    "start_time": "2021-08-31T11:43:00.516Z"
   },
   {
    "duration": 12378,
    "start_time": "2021-08-31T11:43:00.529Z"
   },
   {
    "duration": -252,
    "start_time": "2021-08-31T11:43:13.162Z"
   },
   {
    "duration": -253,
    "start_time": "2021-08-31T11:43:13.164Z"
   },
   {
    "duration": -253,
    "start_time": "2021-08-31T11:43:13.166Z"
   },
   {
    "duration": -253,
    "start_time": "2021-08-31T11:43:13.168Z"
   },
   {
    "duration": -253,
    "start_time": "2021-08-31T11:43:13.169Z"
   },
   {
    "duration": -254,
    "start_time": "2021-08-31T11:43:13.172Z"
   },
   {
    "duration": -255,
    "start_time": "2021-08-31T11:43:13.174Z"
   },
   {
    "duration": -255,
    "start_time": "2021-08-31T11:43:13.176Z"
   },
   {
    "duration": -255,
    "start_time": "2021-08-31T11:43:13.178Z"
   },
   {
    "duration": -255,
    "start_time": "2021-08-31T11:43:13.180Z"
   },
   {
    "duration": -255,
    "start_time": "2021-08-31T11:43:13.182Z"
   },
   {
    "duration": 859,
    "start_time": "2021-08-31T11:43:30.271Z"
   },
   {
    "duration": 35,
    "start_time": "2021-08-31T11:43:31.134Z"
   },
   {
    "duration": 26,
    "start_time": "2021-08-31T11:43:31.174Z"
   },
   {
    "duration": 26,
    "start_time": "2021-08-31T11:43:31.203Z"
   },
   {
    "duration": 31,
    "start_time": "2021-08-31T11:43:31.232Z"
   },
   {
    "duration": 13,
    "start_time": "2021-08-31T11:43:31.267Z"
   },
   {
    "duration": 51,
    "start_time": "2021-08-31T11:43:31.282Z"
   },
   {
    "duration": 101,
    "start_time": "2021-08-31T11:43:31.336Z"
   },
   {
    "duration": 24,
    "start_time": "2021-08-31T11:43:31.441Z"
   },
   {
    "duration": 30,
    "start_time": "2021-08-31T11:43:31.469Z"
   },
   {
    "duration": 63,
    "start_time": "2021-08-31T11:43:31.501Z"
   },
   {
    "duration": 10,
    "start_time": "2021-08-31T11:43:31.568Z"
   },
   {
    "duration": 34,
    "start_time": "2021-08-31T11:43:31.581Z"
   },
   {
    "duration": 51,
    "start_time": "2021-08-31T11:43:31.618Z"
   },
   {
    "duration": 12,
    "start_time": "2021-08-31T11:43:31.673Z"
   },
   {
    "duration": 14,
    "start_time": "2021-08-31T11:43:31.688Z"
   },
   {
    "duration": 58,
    "start_time": "2021-08-31T11:43:31.705Z"
   },
   {
    "duration": 31,
    "start_time": "2021-08-31T11:43:31.766Z"
   },
   {
    "duration": 36,
    "start_time": "2021-08-31T11:43:31.799Z"
   },
   {
    "duration": 66,
    "start_time": "2021-08-31T11:43:31.837Z"
   },
   {
    "duration": 11,
    "start_time": "2021-08-31T11:43:31.905Z"
   },
   {
    "duration": 4805,
    "start_time": "2021-08-31T11:43:31.918Z"
   },
   {
    "duration": 32,
    "start_time": "2021-08-31T11:43:36.726Z"
   },
   {
    "duration": 32,
    "start_time": "2021-08-31T11:43:36.761Z"
   },
   {
    "duration": 42,
    "start_time": "2021-08-31T11:43:36.795Z"
   },
   {
    "duration": 34,
    "start_time": "2021-08-31T11:43:36.840Z"
   },
   {
    "duration": 35,
    "start_time": "2021-08-31T11:43:36.879Z"
   },
   {
    "duration": 40,
    "start_time": "2021-08-31T11:43:36.917Z"
   },
   {
    "duration": 33,
    "start_time": "2021-08-31T11:43:36.959Z"
   },
   {
    "duration": 35,
    "start_time": "2021-08-31T11:43:36.995Z"
   },
   {
    "duration": 37,
    "start_time": "2021-08-31T11:43:37.059Z"
   },
   {
    "duration": 57,
    "start_time": "2021-08-31T11:43:37.098Z"
   },
   {
    "duration": 15,
    "start_time": "2021-08-31T11:43:37.158Z"
   },
   {
    "duration": 785,
    "start_time": "2021-08-31T11:44:02.892Z"
   },
   {
    "duration": 26,
    "start_time": "2021-08-31T11:44:03.680Z"
   },
   {
    "duration": 27,
    "start_time": "2021-08-31T11:44:03.709Z"
   },
   {
    "duration": 31,
    "start_time": "2021-08-31T11:44:03.739Z"
   },
   {
    "duration": 20,
    "start_time": "2021-08-31T11:44:03.774Z"
   },
   {
    "duration": 19,
    "start_time": "2021-08-31T11:44:03.796Z"
   },
   {
    "duration": 37,
    "start_time": "2021-08-31T11:44:03.818Z"
   },
   {
    "duration": 97,
    "start_time": "2021-08-31T11:44:03.861Z"
   },
   {
    "duration": 16,
    "start_time": "2021-08-31T11:44:03.962Z"
   },
   {
    "duration": 24,
    "start_time": "2021-08-31T11:44:03.981Z"
   },
   {
    "duration": 68,
    "start_time": "2021-08-31T11:44:04.008Z"
   },
   {
    "duration": 8,
    "start_time": "2021-08-31T11:44:04.079Z"
   },
   {
    "duration": 19,
    "start_time": "2021-08-31T11:44:04.090Z"
   },
   {
    "duration": 64,
    "start_time": "2021-08-31T11:44:04.111Z"
   },
   {
    "duration": 10,
    "start_time": "2021-08-31T11:44:04.178Z"
   },
   {
    "duration": 16,
    "start_time": "2021-08-31T11:44:04.190Z"
   },
   {
    "duration": 29,
    "start_time": "2021-08-31T11:44:04.208Z"
   },
   {
    "duration": 30,
    "start_time": "2021-08-31T11:44:04.256Z"
   },
   {
    "duration": 26,
    "start_time": "2021-08-31T11:44:04.289Z"
   },
   {
    "duration": 70,
    "start_time": "2021-08-31T11:44:04.317Z"
   },
   {
    "duration": 10,
    "start_time": "2021-08-31T11:44:04.390Z"
   },
   {
    "duration": 4742,
    "start_time": "2021-08-31T11:44:04.403Z"
   },
   {
    "duration": 36,
    "start_time": "2021-08-31T11:44:09.164Z"
   },
   {
    "duration": 13,
    "start_time": "2021-08-31T11:44:09.203Z"
   },
   {
    "duration": 64,
    "start_time": "2021-08-31T11:44:09.219Z"
   },
   {
    "duration": 12,
    "start_time": "2021-08-31T11:44:09.286Z"
   },
   {
    "duration": 17,
    "start_time": "2021-08-31T11:44:09.300Z"
   },
   {
    "duration": 78,
    "start_time": "2021-08-31T11:44:09.320Z"
   },
   {
    "duration": 60,
    "start_time": "2021-08-31T11:44:09.401Z"
   },
   {
    "duration": 41,
    "start_time": "2021-08-31T11:44:09.465Z"
   },
   {
    "duration": 69,
    "start_time": "2021-08-31T11:44:09.509Z"
   },
   {
    "duration": 37,
    "start_time": "2021-08-31T11:44:09.582Z"
   },
   {
    "duration": 33,
    "start_time": "2021-08-31T11:44:09.622Z"
   },
   {
    "duration": 807,
    "start_time": "2021-08-31T11:49:34.096Z"
   },
   {
    "duration": 28,
    "start_time": "2021-08-31T11:49:34.906Z"
   },
   {
    "duration": 31,
    "start_time": "2021-08-31T11:49:34.937Z"
   },
   {
    "duration": 33,
    "start_time": "2021-08-31T11:49:34.972Z"
   },
   {
    "duration": 21,
    "start_time": "2021-08-31T11:49:35.008Z"
   },
   {
    "duration": 10,
    "start_time": "2021-08-31T11:49:35.031Z"
   },
   {
    "duration": 32,
    "start_time": "2021-08-31T11:49:35.044Z"
   },
   {
    "duration": 102,
    "start_time": "2021-08-31T11:49:35.083Z"
   },
   {
    "duration": 15,
    "start_time": "2021-08-31T11:49:35.188Z"
   },
   {
    "duration": 26,
    "start_time": "2021-08-31T11:49:35.205Z"
   },
   {
    "duration": 68,
    "start_time": "2021-08-31T11:49:35.233Z"
   },
   {
    "duration": 9,
    "start_time": "2021-08-31T11:49:35.303Z"
   },
   {
    "duration": 53,
    "start_time": "2021-08-31T11:49:35.314Z"
   },
   {
    "duration": 31,
    "start_time": "2021-08-31T11:49:35.370Z"
   },
   {
    "duration": 10,
    "start_time": "2021-08-31T11:49:35.404Z"
   },
   {
    "duration": 54,
    "start_time": "2021-08-31T11:49:35.417Z"
   },
   {
    "duration": 26,
    "start_time": "2021-08-31T11:49:35.474Z"
   },
   {
    "duration": 28,
    "start_time": "2021-08-31T11:49:35.502Z"
   },
   {
    "duration": 60,
    "start_time": "2021-08-31T11:49:35.532Z"
   },
   {
    "duration": 40,
    "start_time": "2021-08-31T11:49:35.594Z"
   },
   {
    "duration": 32,
    "start_time": "2021-08-31T11:49:35.637Z"
   },
   {
    "duration": 5070,
    "start_time": "2021-08-31T11:49:35.672Z"
   },
   {
    "duration": 32,
    "start_time": "2021-08-31T11:49:40.756Z"
   },
   {
    "duration": 20,
    "start_time": "2021-08-31T11:49:40.792Z"
   },
   {
    "duration": 59,
    "start_time": "2021-08-31T11:49:40.816Z"
   },
   {
    "duration": 11,
    "start_time": "2021-08-31T11:49:40.882Z"
   },
   {
    "duration": 25,
    "start_time": "2021-08-31T11:49:40.895Z"
   },
   {
    "duration": 74,
    "start_time": "2021-08-31T11:49:40.923Z"
   },
   {
    "duration": 34,
    "start_time": "2021-08-31T11:49:40.999Z"
   },
   {
    "duration": 63,
    "start_time": "2021-08-31T11:49:41.036Z"
   },
   {
    "duration": 36,
    "start_time": "2021-08-31T11:49:41.101Z"
   },
   {
    "duration": 58,
    "start_time": "2021-08-31T11:49:41.139Z"
   },
   {
    "duration": 16,
    "start_time": "2021-08-31T11:49:41.200Z"
   },
   {
    "duration": 822,
    "start_time": "2021-08-31T11:50:44.692Z"
   },
   {
    "duration": 39,
    "start_time": "2021-08-31T11:50:45.517Z"
   },
   {
    "duration": 13,
    "start_time": "2021-08-31T11:50:45.561Z"
   },
   {
    "duration": 32,
    "start_time": "2021-08-31T11:50:45.578Z"
   },
   {
    "duration": 35,
    "start_time": "2021-08-31T11:50:45.612Z"
   },
   {
    "duration": 17,
    "start_time": "2021-08-31T11:50:45.650Z"
   },
   {
    "duration": 29,
    "start_time": "2021-08-31T11:50:45.670Z"
   },
   {
    "duration": 123,
    "start_time": "2021-08-31T11:50:45.702Z"
   },
   {
    "duration": 12,
    "start_time": "2021-08-31T11:50:45.829Z"
   },
   {
    "duration": 31,
    "start_time": "2021-08-31T11:50:45.853Z"
   },
   {
    "duration": 63,
    "start_time": "2021-08-31T11:50:45.887Z"
   },
   {
    "duration": 14,
    "start_time": "2021-08-31T11:50:45.953Z"
   },
   {
    "duration": 24,
    "start_time": "2021-08-31T11:50:45.971Z"
   },
   {
    "duration": 56,
    "start_time": "2021-08-31T11:50:45.998Z"
   },
   {
    "duration": 18,
    "start_time": "2021-08-31T11:50:46.058Z"
   },
   {
    "duration": 15,
    "start_time": "2021-08-31T11:50:46.078Z"
   },
   {
    "duration": 42,
    "start_time": "2021-08-31T11:50:46.095Z"
   },
   {
    "duration": 46,
    "start_time": "2021-08-31T11:50:46.140Z"
   },
   {
    "duration": 24,
    "start_time": "2021-08-31T11:50:46.188Z"
   },
   {
    "duration": 68,
    "start_time": "2021-08-31T11:50:46.214Z"
   },
   {
    "duration": 14,
    "start_time": "2021-08-31T11:50:46.286Z"
   },
   {
    "duration": 5505,
    "start_time": "2021-08-31T11:50:46.303Z"
   },
   {
    "duration": 17,
    "start_time": "2021-08-31T11:50:51.810Z"
   },
   {
    "duration": 42,
    "start_time": "2021-08-31T11:50:51.829Z"
   },
   {
    "duration": 28,
    "start_time": "2021-08-31T11:50:51.874Z"
   },
   {
    "duration": 11,
    "start_time": "2021-08-31T11:50:51.904Z"
   },
   {
    "duration": 60,
    "start_time": "2021-08-31T11:50:51.920Z"
   },
   {
    "duration": 45,
    "start_time": "2021-08-31T11:50:51.983Z"
   },
   {
    "duration": 54,
    "start_time": "2021-08-31T11:50:52.030Z"
   },
   {
    "duration": 35,
    "start_time": "2021-08-31T11:50:52.087Z"
   },
   {
    "duration": 59,
    "start_time": "2021-08-31T11:50:52.124Z"
   },
   {
    "duration": 39,
    "start_time": "2021-08-31T11:50:52.185Z"
   },
   {
    "duration": 39,
    "start_time": "2021-08-31T11:50:52.226Z"
   },
   {
    "duration": 19,
    "start_time": "2021-08-31T11:52:58.254Z"
   },
   {
    "duration": 26,
    "start_time": "2021-08-31T11:53:01.675Z"
   },
   {
    "duration": 17,
    "start_time": "2021-08-31T11:53:34.072Z"
   },
   {
    "duration": 23,
    "start_time": "2021-08-31T11:53:52.854Z"
   },
   {
    "duration": 16,
    "start_time": "2021-08-31T11:54:01.980Z"
   },
   {
    "duration": 17,
    "start_time": "2021-08-31T11:54:19.772Z"
   },
   {
    "duration": 25,
    "start_time": "2021-08-31T11:54:30.152Z"
   },
   {
    "duration": 879,
    "start_time": "2021-08-31T11:54:39.489Z"
   },
   {
    "duration": 31,
    "start_time": "2021-08-31T11:54:40.372Z"
   },
   {
    "duration": 21,
    "start_time": "2021-08-31T11:54:40.406Z"
   },
   {
    "duration": 38,
    "start_time": "2021-08-31T11:54:40.430Z"
   },
   {
    "duration": 35,
    "start_time": "2021-08-31T11:54:40.471Z"
   },
   {
    "duration": 15,
    "start_time": "2021-08-31T11:54:40.508Z"
   },
   {
    "duration": 37,
    "start_time": "2021-08-31T11:54:40.526Z"
   },
   {
    "duration": 117,
    "start_time": "2021-08-31T11:54:40.567Z"
   },
   {
    "duration": 18,
    "start_time": "2021-08-31T11:54:40.689Z"
   },
   {
    "duration": 28,
    "start_time": "2021-08-31T11:54:40.712Z"
   },
   {
    "duration": 65,
    "start_time": "2021-08-31T11:54:40.742Z"
   },
   {
    "duration": 7,
    "start_time": "2021-08-31T11:54:40.810Z"
   },
   {
    "duration": 55,
    "start_time": "2021-08-31T11:54:40.819Z"
   },
   {
    "duration": 26,
    "start_time": "2021-08-31T11:54:40.877Z"
   },
   {
    "duration": 32,
    "start_time": "2021-08-31T11:54:40.905Z"
   },
   {
    "duration": 26,
    "start_time": "2021-08-31T11:54:40.939Z"
   },
   {
    "duration": 43,
    "start_time": "2021-08-31T11:54:40.967Z"
   },
   {
    "duration": 25,
    "start_time": "2021-08-31T11:54:41.013Z"
   },
   {
    "duration": 44,
    "start_time": "2021-08-31T11:54:41.040Z"
   },
   {
    "duration": 48,
    "start_time": "2021-08-31T11:54:41.087Z"
   },
   {
    "duration": 24,
    "start_time": "2021-08-31T11:54:41.137Z"
   },
   {
    "duration": 4943,
    "start_time": "2021-08-31T11:54:41.165Z"
   },
   {
    "duration": 19,
    "start_time": "2021-08-31T11:54:46.110Z"
   },
   {
    "duration": 35,
    "start_time": "2021-08-31T11:54:46.132Z"
   },
   {
    "duration": 34,
    "start_time": "2021-08-31T11:54:46.171Z"
   },
   {
    "duration": 28,
    "start_time": "2021-08-31T11:54:46.208Z"
   },
   {
    "duration": 31,
    "start_time": "2021-08-31T11:54:46.243Z"
   },
   {
    "duration": 39,
    "start_time": "2021-08-31T11:54:46.277Z"
   },
   {
    "duration": 59,
    "start_time": "2021-08-31T11:54:46.319Z"
   },
   {
    "duration": 37,
    "start_time": "2021-08-31T11:54:46.382Z"
   },
   {
    "duration": 62,
    "start_time": "2021-08-31T11:54:46.422Z"
   },
   {
    "duration": 36,
    "start_time": "2021-08-31T11:54:46.486Z"
   },
   {
    "duration": 45,
    "start_time": "2021-08-31T11:54:46.525Z"
   },
   {
    "duration": 69,
    "start_time": "2021-08-31T12:02:06.159Z"
   },
   {
    "duration": 936,
    "start_time": "2021-08-31T12:02:12.433Z"
   },
   {
    "duration": 37,
    "start_time": "2021-08-31T12:02:13.374Z"
   },
   {
    "duration": 8,
    "start_time": "2021-08-31T12:02:13.416Z"
   },
   {
    "duration": 50,
    "start_time": "2021-08-31T12:02:13.427Z"
   },
   {
    "duration": 35,
    "start_time": "2021-08-31T12:02:13.479Z"
   },
   {
    "duration": 29,
    "start_time": "2021-08-31T12:02:13.517Z"
   },
   {
    "duration": 44,
    "start_time": "2021-08-31T12:02:13.550Z"
   },
   {
    "duration": 103,
    "start_time": "2021-08-31T12:02:13.597Z"
   },
   {
    "duration": 14,
    "start_time": "2021-08-31T12:02:13.706Z"
   },
   {
    "duration": 34,
    "start_time": "2021-08-31T12:02:13.723Z"
   },
   {
    "duration": 97,
    "start_time": "2021-08-31T12:02:13.760Z"
   },
   {
    "duration": 18,
    "start_time": "2021-08-31T12:02:13.860Z"
   },
   {
    "duration": 31,
    "start_time": "2021-08-31T12:02:13.880Z"
   },
   {
    "duration": 59,
    "start_time": "2021-08-31T12:02:13.914Z"
   },
   {
    "duration": 24,
    "start_time": "2021-08-31T12:02:13.976Z"
   },
   {
    "duration": 33,
    "start_time": "2021-08-31T12:02:14.003Z"
   },
   {
    "duration": 53,
    "start_time": "2021-08-31T12:02:14.039Z"
   },
   {
    "duration": 53,
    "start_time": "2021-08-31T12:02:14.094Z"
   },
   {
    "duration": 39,
    "start_time": "2021-08-31T12:02:14.151Z"
   },
   {
    "duration": 63,
    "start_time": "2021-08-31T12:02:14.192Z"
   },
   {
    "duration": 17,
    "start_time": "2021-08-31T12:02:14.258Z"
   },
   {
    "duration": 5939,
    "start_time": "2021-08-31T12:02:14.280Z"
   },
   {
    "duration": 39,
    "start_time": "2021-08-31T12:02:20.222Z"
   },
   {
    "duration": 19,
    "start_time": "2021-08-31T12:02:20.264Z"
   },
   {
    "duration": 38,
    "start_time": "2021-08-31T12:02:20.286Z"
   },
   {
    "duration": 41,
    "start_time": "2021-08-31T12:02:20.326Z"
   },
   {
    "duration": 17,
    "start_time": "2021-08-31T12:02:20.379Z"
   },
   {
    "duration": 61,
    "start_time": "2021-08-31T12:02:20.399Z"
   },
   {
    "duration": 49,
    "start_time": "2021-08-31T12:02:20.463Z"
   },
   {
    "duration": 63,
    "start_time": "2021-08-31T12:02:20.515Z"
   },
   {
    "duration": 36,
    "start_time": "2021-08-31T12:02:20.581Z"
   },
   {
    "duration": 74,
    "start_time": "2021-08-31T12:02:20.620Z"
   },
   {
    "duration": 22,
    "start_time": "2021-08-31T12:02:20.697Z"
   },
   {
    "duration": 974,
    "start_time": "2021-08-31T12:02:46.526Z"
   },
   {
    "duration": 38,
    "start_time": "2021-08-31T12:02:47.503Z"
   },
   {
    "duration": 18,
    "start_time": "2021-08-31T12:02:47.556Z"
   },
   {
    "duration": 22,
    "start_time": "2021-08-31T12:02:47.578Z"
   },
   {
    "duration": 39,
    "start_time": "2021-08-31T12:02:47.602Z"
   },
   {
    "duration": 30,
    "start_time": "2021-08-31T12:02:47.643Z"
   },
   {
    "duration": 30,
    "start_time": "2021-08-31T12:02:47.676Z"
   },
   {
    "duration": 102,
    "start_time": "2021-08-31T12:02:47.710Z"
   },
   {
    "duration": 13,
    "start_time": "2021-08-31T12:02:47.815Z"
   },
   {
    "duration": 31,
    "start_time": "2021-08-31T12:02:47.830Z"
   },
   {
    "duration": 56,
    "start_time": "2021-08-31T12:02:47.863Z"
   },
   {
    "duration": 35,
    "start_time": "2021-08-31T12:02:47.922Z"
   },
   {
    "duration": 33,
    "start_time": "2021-08-31T12:02:47.960Z"
   },
   {
    "duration": 45,
    "start_time": "2021-08-31T12:02:47.995Z"
   },
   {
    "duration": 34,
    "start_time": "2021-08-31T12:02:48.043Z"
   },
   {
    "duration": 17,
    "start_time": "2021-08-31T12:02:48.080Z"
   },
   {
    "duration": 35,
    "start_time": "2021-08-31T12:02:48.100Z"
   },
   {
    "duration": 44,
    "start_time": "2021-08-31T12:02:48.137Z"
   },
   {
    "duration": 42,
    "start_time": "2021-08-31T12:02:48.184Z"
   },
   {
    "duration": 61,
    "start_time": "2021-08-31T12:02:48.229Z"
   },
   {
    "duration": 14,
    "start_time": "2021-08-31T12:02:48.294Z"
   },
   {
    "duration": 5733,
    "start_time": "2021-08-31T12:02:48.310Z"
   },
   {
    "duration": 32,
    "start_time": "2021-08-31T12:02:54.048Z"
   },
   {
    "duration": 24,
    "start_time": "2021-08-31T12:02:54.083Z"
   },
   {
    "duration": 22,
    "start_time": "2021-08-31T12:02:54.109Z"
   },
   {
    "duration": 28,
    "start_time": "2021-08-31T12:02:54.133Z"
   },
   {
    "duration": 23,
    "start_time": "2021-08-31T12:02:54.165Z"
   },
   {
    "duration": 80,
    "start_time": "2021-08-31T12:02:54.191Z"
   },
   {
    "duration": 35,
    "start_time": "2021-08-31T12:02:54.274Z"
   },
   {
    "duration": 63,
    "start_time": "2021-08-31T12:02:54.312Z"
   },
   {
    "duration": 35,
    "start_time": "2021-08-31T12:02:54.379Z"
   },
   {
    "duration": 67,
    "start_time": "2021-08-31T12:02:54.416Z"
   },
   {
    "duration": 17,
    "start_time": "2021-08-31T12:02:54.486Z"
   },
   {
    "duration": 864,
    "start_time": "2021-08-31T12:03:29.768Z"
   },
   {
    "duration": 44,
    "start_time": "2021-08-31T12:03:30.635Z"
   },
   {
    "duration": 10,
    "start_time": "2021-08-31T12:03:30.683Z"
   },
   {
    "duration": 28,
    "start_time": "2021-08-31T12:03:30.696Z"
   },
   {
    "duration": 50,
    "start_time": "2021-08-31T12:03:30.727Z"
   },
   {
    "duration": 28,
    "start_time": "2021-08-31T12:03:30.780Z"
   },
   {
    "duration": 39,
    "start_time": "2021-08-31T12:03:30.811Z"
   },
   {
    "duration": 151,
    "start_time": "2021-08-31T12:03:30.854Z"
   },
   {
    "duration": 16,
    "start_time": "2021-08-31T12:03:31.009Z"
   },
   {
    "duration": 40,
    "start_time": "2021-08-31T12:03:31.027Z"
   },
   {
    "duration": 53,
    "start_time": "2021-08-31T12:03:31.070Z"
   },
   {
    "duration": 9,
    "start_time": "2021-08-31T12:03:31.125Z"
   },
   {
    "duration": 53,
    "start_time": "2021-08-31T12:03:31.137Z"
   },
   {
    "duration": 41,
    "start_time": "2021-08-31T12:03:31.192Z"
   },
   {
    "duration": 42,
    "start_time": "2021-08-31T12:03:31.235Z"
   },
   {
    "duration": 21,
    "start_time": "2021-08-31T12:03:31.280Z"
   },
   {
    "duration": 48,
    "start_time": "2021-08-31T12:03:31.304Z"
   },
   {
    "duration": 40,
    "start_time": "2021-08-31T12:03:31.355Z"
   },
   {
    "duration": 81,
    "start_time": "2021-08-31T12:03:31.398Z"
   },
   {
    "duration": 42,
    "start_time": "2021-08-31T12:03:31.482Z"
   },
   {
    "duration": 27,
    "start_time": "2021-08-31T12:03:31.527Z"
   },
   {
    "duration": 5087,
    "start_time": "2021-08-31T12:03:31.558Z"
   },
   {
    "duration": 23,
    "start_time": "2021-08-31T12:03:36.663Z"
   },
   {
    "duration": 34,
    "start_time": "2021-08-31T12:03:36.689Z"
   },
   {
    "duration": 37,
    "start_time": "2021-08-31T12:03:36.726Z"
   },
   {
    "duration": 13,
    "start_time": "2021-08-31T12:03:36.766Z"
   },
   {
    "duration": 32,
    "start_time": "2021-08-31T12:03:36.781Z"
   },
   {
    "duration": 59,
    "start_time": "2021-08-31T12:03:36.816Z"
   },
   {
    "duration": 31,
    "start_time": "2021-08-31T12:03:36.878Z"
   },
   {
    "duration": 66,
    "start_time": "2021-08-31T12:03:36.911Z"
   },
   {
    "duration": 35,
    "start_time": "2021-08-31T12:03:36.980Z"
   },
   {
    "duration": 65,
    "start_time": "2021-08-31T12:03:37.017Z"
   },
   {
    "duration": 14,
    "start_time": "2021-08-31T12:03:37.084Z"
   },
   {
    "duration": 404,
    "start_time": "2021-08-31T12:05:45.678Z"
   },
   {
    "duration": 847,
    "start_time": "2021-08-31T12:06:02.519Z"
   },
   {
    "duration": 30,
    "start_time": "2021-08-31T12:06:03.370Z"
   },
   {
    "duration": 14,
    "start_time": "2021-08-31T12:06:03.404Z"
   },
   {
    "duration": 40,
    "start_time": "2021-08-31T12:06:03.421Z"
   },
   {
    "duration": 25,
    "start_time": "2021-08-31T12:06:03.465Z"
   },
   {
    "duration": 20,
    "start_time": "2021-08-31T12:06:03.493Z"
   },
   {
    "duration": 16,
    "start_time": "2021-08-31T12:06:03.515Z"
   },
   {
    "duration": 404,
    "start_time": "2021-08-31T12:06:03.533Z"
   },
   {
    "duration": -294,
    "start_time": "2021-08-31T12:06:04.235Z"
   },
   {
    "duration": -295,
    "start_time": "2021-08-31T12:06:04.238Z"
   },
   {
    "duration": -296,
    "start_time": "2021-08-31T12:06:04.240Z"
   },
   {
    "duration": -296,
    "start_time": "2021-08-31T12:06:04.242Z"
   },
   {
    "duration": -296,
    "start_time": "2021-08-31T12:06:04.244Z"
   },
   {
    "duration": -308,
    "start_time": "2021-08-31T12:06:04.258Z"
   },
   {
    "duration": -308,
    "start_time": "2021-08-31T12:06:04.260Z"
   },
   {
    "duration": -314,
    "start_time": "2021-08-31T12:06:04.267Z"
   },
   {
    "duration": -315,
    "start_time": "2021-08-31T12:06:04.270Z"
   },
   {
    "duration": -317,
    "start_time": "2021-08-31T12:06:04.273Z"
   },
   {
    "duration": -317,
    "start_time": "2021-08-31T12:06:04.275Z"
   },
   {
    "duration": -317,
    "start_time": "2021-08-31T12:06:04.277Z"
   },
   {
    "duration": -318,
    "start_time": "2021-08-31T12:06:04.280Z"
   },
   {
    "duration": -319,
    "start_time": "2021-08-31T12:06:04.282Z"
   },
   {
    "duration": -319,
    "start_time": "2021-08-31T12:06:04.284Z"
   },
   {
    "duration": -320,
    "start_time": "2021-08-31T12:06:04.286Z"
   },
   {
    "duration": -320,
    "start_time": "2021-08-31T12:06:04.288Z"
   },
   {
    "duration": -321,
    "start_time": "2021-08-31T12:06:04.290Z"
   },
   {
    "duration": -320,
    "start_time": "2021-08-31T12:06:04.291Z"
   },
   {
    "duration": -322,
    "start_time": "2021-08-31T12:06:04.294Z"
   },
   {
    "duration": -323,
    "start_time": "2021-08-31T12:06:04.297Z"
   },
   {
    "duration": -324,
    "start_time": "2021-08-31T12:06:04.299Z"
   },
   {
    "duration": -324,
    "start_time": "2021-08-31T12:06:04.301Z"
   },
   {
    "duration": -323,
    "start_time": "2021-08-31T12:06:04.302Z"
   },
   {
    "duration": -324,
    "start_time": "2021-08-31T12:06:04.304Z"
   },
   {
    "duration": 94,
    "start_time": "2021-08-31T12:06:21.330Z"
   },
   {
    "duration": 30,
    "start_time": "2021-08-31T12:24:24.939Z"
   },
   {
    "duration": 962,
    "start_time": "2021-08-31T12:24:36.263Z"
   },
   {
    "duration": 39,
    "start_time": "2021-08-31T12:24:37.228Z"
   },
   {
    "duration": 9,
    "start_time": "2021-08-31T12:24:37.272Z"
   },
   {
    "duration": 14,
    "start_time": "2021-08-31T12:24:37.284Z"
   },
   {
    "duration": 22,
    "start_time": "2021-08-31T12:24:37.300Z"
   },
   {
    "duration": 12,
    "start_time": "2021-08-31T12:24:37.356Z"
   },
   {
    "duration": 29,
    "start_time": "2021-08-31T12:24:37.371Z"
   },
   {
    "duration": 156,
    "start_time": "2021-08-31T12:24:37.403Z"
   },
   {
    "duration": 17,
    "start_time": "2021-08-31T12:24:37.564Z"
   },
   {
    "duration": 21,
    "start_time": "2021-08-31T12:24:37.585Z"
   },
   {
    "duration": 98,
    "start_time": "2021-08-31T12:24:37.609Z"
   },
   {
    "duration": 7,
    "start_time": "2021-08-31T12:24:37.710Z"
   },
   {
    "duration": 40,
    "start_time": "2021-08-31T12:24:37.720Z"
   },
   {
    "duration": 36,
    "start_time": "2021-08-31T12:24:37.764Z"
   },
   {
    "duration": 9,
    "start_time": "2021-08-31T12:24:37.803Z"
   },
   {
    "duration": 43,
    "start_time": "2021-08-31T12:24:37.815Z"
   },
   {
    "duration": 38,
    "start_time": "2021-08-31T12:24:37.861Z"
   },
   {
    "duration": 25,
    "start_time": "2021-08-31T12:24:37.902Z"
   },
   {
    "duration": 59,
    "start_time": "2021-08-31T12:24:37.929Z"
   },
   {
    "duration": 71,
    "start_time": "2021-08-31T12:24:37.990Z"
   },
   {
    "duration": 14,
    "start_time": "2021-08-31T12:24:38.064Z"
   },
   {
    "duration": 5253,
    "start_time": "2021-08-31T12:24:38.080Z"
   },
   {
    "duration": 40,
    "start_time": "2021-08-31T12:24:43.336Z"
   },
   {
    "duration": 17,
    "start_time": "2021-08-31T12:24:43.380Z"
   },
   {
    "duration": 16,
    "start_time": "2021-08-31T12:24:43.399Z"
   },
   {
    "duration": 39,
    "start_time": "2021-08-31T12:24:43.417Z"
   },
   {
    "duration": 18,
    "start_time": "2021-08-31T12:24:43.461Z"
   },
   {
    "duration": 41,
    "start_time": "2021-08-31T12:24:43.482Z"
   },
   {
    "duration": 40,
    "start_time": "2021-08-31T12:24:43.556Z"
   },
   {
    "duration": 57,
    "start_time": "2021-08-31T12:24:43.599Z"
   },
   {
    "duration": 41,
    "start_time": "2021-08-31T12:24:43.659Z"
   },
   {
    "duration": 64,
    "start_time": "2021-08-31T12:24:43.702Z"
   },
   {
    "duration": 18,
    "start_time": "2021-08-31T12:24:43.769Z"
   },
   {
    "duration": 1154,
    "start_time": "2021-08-31T13:33:53.738Z"
   },
   {
    "duration": 30,
    "start_time": "2021-08-31T13:33:54.895Z"
   },
   {
    "duration": 34,
    "start_time": "2021-08-31T13:33:54.929Z"
   },
   {
    "duration": 14,
    "start_time": "2021-08-31T13:33:54.967Z"
   },
   {
    "duration": 15,
    "start_time": "2021-08-31T13:33:54.984Z"
   },
   {
    "duration": 10,
    "start_time": "2021-08-31T13:33:55.002Z"
   },
   {
    "duration": 25,
    "start_time": "2021-08-31T13:33:55.060Z"
   },
   {
    "duration": 96,
    "start_time": "2021-08-31T13:33:55.089Z"
   },
   {
    "duration": 14,
    "start_time": "2021-08-31T13:33:55.188Z"
   },
   {
    "duration": 15,
    "start_time": "2021-08-31T13:33:55.205Z"
   },
   {
    "duration": 75,
    "start_time": "2021-08-31T13:33:55.223Z"
   },
   {
    "duration": 8,
    "start_time": "2021-08-31T13:33:55.301Z"
   },
   {
    "duration": 56,
    "start_time": "2021-08-31T13:33:55.312Z"
   },
   {
    "duration": 30,
    "start_time": "2021-08-31T13:33:55.371Z"
   },
   {
    "duration": 10,
    "start_time": "2021-08-31T13:33:55.404Z"
   },
   {
    "duration": 59,
    "start_time": "2021-08-31T13:33:55.417Z"
   },
   {
    "duration": 23,
    "start_time": "2021-08-31T13:33:55.480Z"
   },
   {
    "duration": 71,
    "start_time": "2021-08-31T13:33:55.506Z"
   },
   {
    "duration": 53,
    "start_time": "2021-08-31T13:33:55.579Z"
   },
   {
    "duration": 75,
    "start_time": "2021-08-31T13:33:55.634Z"
   },
   {
    "duration": 10,
    "start_time": "2021-08-31T13:33:55.712Z"
   },
   {
    "duration": 5417,
    "start_time": "2021-08-31T13:33:55.725Z"
   },
   {
    "duration": 19,
    "start_time": "2021-08-31T13:34:01.155Z"
   },
   {
    "duration": 36,
    "start_time": "2021-08-31T13:34:01.182Z"
   },
   {
    "duration": 21,
    "start_time": "2021-08-31T13:34:01.221Z"
   },
   {
    "duration": 17,
    "start_time": "2021-08-31T13:34:01.263Z"
   },
   {
    "duration": 34,
    "start_time": "2021-08-31T13:34:01.284Z"
   },
   {
    "duration": 83,
    "start_time": "2021-08-31T13:34:01.321Z"
   },
   {
    "duration": 33,
    "start_time": "2021-08-31T13:34:01.407Z"
   },
   {
    "duration": 62,
    "start_time": "2021-08-31T13:34:01.455Z"
   },
   {
    "duration": 78,
    "start_time": "2021-08-31T13:34:01.520Z"
   },
   {
    "duration": 62,
    "start_time": "2021-08-31T13:34:01.602Z"
   },
   {
    "duration": 19,
    "start_time": "2021-08-31T13:34:01.667Z"
   },
   {
    "duration": 1014,
    "start_time": "2021-08-31T13:37:35.646Z"
   },
   {
    "duration": 36,
    "start_time": "2021-08-31T13:37:36.663Z"
   },
   {
    "duration": 37,
    "start_time": "2021-08-31T13:37:36.703Z"
   },
   {
    "duration": 37,
    "start_time": "2021-08-31T13:37:36.743Z"
   },
   {
    "duration": 39,
    "start_time": "2021-08-31T13:37:36.782Z"
   },
   {
    "duration": 31,
    "start_time": "2021-08-31T13:37:36.823Z"
   },
   {
    "duration": 35,
    "start_time": "2021-08-31T13:37:36.857Z"
   },
   {
    "duration": 145,
    "start_time": "2021-08-31T13:37:36.894Z"
   },
   {
    "duration": 17,
    "start_time": "2021-08-31T13:37:37.044Z"
   },
   {
    "duration": 32,
    "start_time": "2021-08-31T13:37:37.066Z"
   },
   {
    "duration": 63,
    "start_time": "2021-08-31T13:37:37.101Z"
   },
   {
    "duration": 10,
    "start_time": "2021-08-31T13:37:37.167Z"
   },
   {
    "duration": 54,
    "start_time": "2021-08-31T13:37:37.180Z"
   },
   {
    "duration": 46,
    "start_time": "2021-08-31T13:37:37.238Z"
   },
   {
    "duration": 46,
    "start_time": "2021-08-31T13:37:37.287Z"
   },
   {
    "duration": 39,
    "start_time": "2021-08-31T13:37:37.335Z"
   },
   {
    "duration": 47,
    "start_time": "2021-08-31T13:37:37.377Z"
   },
   {
    "duration": 25,
    "start_time": "2021-08-31T13:37:37.426Z"
   },
   {
    "duration": 52,
    "start_time": "2021-08-31T13:37:37.454Z"
   },
   {
    "duration": 65,
    "start_time": "2021-08-31T13:37:37.509Z"
   },
   {
    "duration": 11,
    "start_time": "2021-08-31T13:37:37.577Z"
   },
   {
    "duration": 5867,
    "start_time": "2021-08-31T13:37:37.591Z"
   },
   {
    "duration": 25,
    "start_time": "2021-08-31T13:37:43.462Z"
   },
   {
    "duration": 29,
    "start_time": "2021-08-31T13:37:43.490Z"
   },
   {
    "duration": 17,
    "start_time": "2021-08-31T13:37:43.522Z"
   },
   {
    "duration": 17,
    "start_time": "2021-08-31T13:37:43.556Z"
   },
   {
    "duration": 15,
    "start_time": "2021-08-31T13:37:43.581Z"
   },
   {
    "duration": 84,
    "start_time": "2021-08-31T13:37:43.598Z"
   },
   {
    "duration": 32,
    "start_time": "2021-08-31T13:37:43.685Z"
   },
   {
    "duration": 74,
    "start_time": "2021-08-31T13:37:43.719Z"
   },
   {
    "duration": 34,
    "start_time": "2021-08-31T13:37:43.795Z"
   },
   {
    "duration": 59,
    "start_time": "2021-08-31T13:37:43.832Z"
   },
   {
    "duration": 17,
    "start_time": "2021-08-31T13:37:43.894Z"
   },
   {
    "duration": 972,
    "start_time": "2021-08-31T14:14:04.404Z"
   },
   {
    "duration": 27,
    "start_time": "2021-08-31T14:14:05.379Z"
   },
   {
    "duration": 8,
    "start_time": "2021-08-31T14:14:05.409Z"
   },
   {
    "duration": 40,
    "start_time": "2021-08-31T14:14:05.420Z"
   },
   {
    "duration": 27,
    "start_time": "2021-08-31T14:14:05.463Z"
   },
   {
    "duration": 11,
    "start_time": "2021-08-31T14:14:05.493Z"
   },
   {
    "duration": 50,
    "start_time": "2021-08-31T14:14:05.507Z"
   },
   {
    "duration": 98,
    "start_time": "2021-08-31T14:14:05.558Z"
   },
   {
    "duration": 14,
    "start_time": "2021-08-31T14:14:05.660Z"
   },
   {
    "duration": 14,
    "start_time": "2021-08-31T14:14:05.677Z"
   },
   {
    "duration": 77,
    "start_time": "2021-08-31T14:14:05.694Z"
   },
   {
    "duration": 8,
    "start_time": "2021-08-31T14:14:05.774Z"
   },
   {
    "duration": 29,
    "start_time": "2021-08-31T14:14:05.785Z"
   },
   {
    "duration": 49,
    "start_time": "2021-08-31T14:14:05.816Z"
   },
   {
    "duration": 12,
    "start_time": "2021-08-31T14:14:05.868Z"
   },
   {
    "duration": 7,
    "start_time": "2021-08-31T14:14:05.883Z"
   },
   {
    "duration": 61,
    "start_time": "2021-08-31T14:14:05.893Z"
   },
   {
    "duration": 27,
    "start_time": "2021-08-31T14:14:05.957Z"
   },
   {
    "duration": 33,
    "start_time": "2021-08-31T14:14:05.988Z"
   },
   {
    "duration": 79,
    "start_time": "2021-08-31T14:14:06.024Z"
   },
   {
    "duration": 10,
    "start_time": "2021-08-31T14:14:06.106Z"
   },
   {
    "duration": 5297,
    "start_time": "2021-08-31T14:14:06.119Z"
   },
   {
    "duration": 16,
    "start_time": "2021-08-31T14:14:11.418Z"
   },
   {
    "duration": 21,
    "start_time": "2021-08-31T14:14:11.436Z"
   },
   {
    "duration": 20,
    "start_time": "2021-08-31T14:14:11.459Z"
   },
   {
    "duration": 17,
    "start_time": "2021-08-31T14:14:11.482Z"
   },
   {
    "duration": 13,
    "start_time": "2021-08-31T14:14:11.504Z"
   },
   {
    "duration": 44,
    "start_time": "2021-08-31T14:14:11.560Z"
   },
   {
    "duration": 53,
    "start_time": "2021-08-31T14:14:11.607Z"
   },
   {
    "duration": 36,
    "start_time": "2021-08-31T14:14:11.662Z"
   },
   {
    "duration": 56,
    "start_time": "2021-08-31T14:14:11.701Z"
   },
   {
    "duration": 40,
    "start_time": "2021-08-31T14:14:11.762Z"
   },
   {
    "duration": 14,
    "start_time": "2021-08-31T14:14:11.804Z"
   },
   {
    "duration": 877,
    "start_time": "2021-08-31T17:48:37.450Z"
   },
   {
    "duration": 31,
    "start_time": "2021-08-31T17:48:38.330Z"
   },
   {
    "duration": 27,
    "start_time": "2021-08-31T17:48:38.365Z"
   },
   {
    "duration": 29,
    "start_time": "2021-08-31T17:48:38.396Z"
   },
   {
    "duration": 74,
    "start_time": "2021-08-31T17:48:38.429Z"
   },
   {
    "duration": 36,
    "start_time": "2021-08-31T17:48:38.506Z"
   },
   {
    "duration": 31,
    "start_time": "2021-08-31T17:48:38.545Z"
   },
   {
    "duration": 153,
    "start_time": "2021-08-31T17:48:38.580Z"
   },
   {
    "duration": 15,
    "start_time": "2021-08-31T17:48:38.736Z"
   },
   {
    "duration": 38,
    "start_time": "2021-08-31T17:48:38.755Z"
   },
   {
    "duration": 64,
    "start_time": "2021-08-31T17:48:38.795Z"
   },
   {
    "duration": 14,
    "start_time": "2021-08-31T17:48:38.863Z"
   },
   {
    "duration": 24,
    "start_time": "2021-08-31T17:48:38.880Z"
   },
   {
    "duration": 74,
    "start_time": "2021-08-31T17:48:38.907Z"
   },
   {
    "duration": 14,
    "start_time": "2021-08-31T17:48:38.984Z"
   },
   {
    "duration": 53,
    "start_time": "2021-08-31T17:48:39.002Z"
   },
   {
    "duration": 34,
    "start_time": "2021-08-31T17:48:39.059Z"
   },
   {
    "duration": 69,
    "start_time": "2021-08-31T17:48:39.096Z"
   },
   {
    "duration": 42,
    "start_time": "2021-08-31T17:48:39.168Z"
   },
   {
    "duration": 106,
    "start_time": "2021-08-31T17:48:39.214Z"
   },
   {
    "duration": 15,
    "start_time": "2021-08-31T17:48:39.323Z"
   },
   {
    "duration": 5980,
    "start_time": "2021-08-31T17:48:39.357Z"
   },
   {
    "duration": 29,
    "start_time": "2021-08-31T17:48:45.342Z"
   },
   {
    "duration": 24,
    "start_time": "2021-08-31T17:48:45.375Z"
   },
   {
    "duration": 28,
    "start_time": "2021-08-31T17:48:45.403Z"
   },
   {
    "duration": 31,
    "start_time": "2021-08-31T17:48:45.435Z"
   },
   {
    "duration": 20,
    "start_time": "2021-08-31T17:48:45.470Z"
   },
   {
    "duration": 96,
    "start_time": "2021-08-31T17:48:45.493Z"
   },
   {
    "duration": 44,
    "start_time": "2021-08-31T17:48:45.592Z"
   },
   {
    "duration": 63,
    "start_time": "2021-08-31T17:48:45.639Z"
   },
   {
    "duration": 77,
    "start_time": "2021-08-31T17:48:45.704Z"
   },
   {
    "duration": 73,
    "start_time": "2021-08-31T17:48:45.784Z"
   },
   {
    "duration": 20,
    "start_time": "2021-08-31T17:48:45.861Z"
   },
   {
    "duration": 110,
    "start_time": "2021-09-01T06:28:32.746Z"
   },
   {
    "duration": 139,
    "start_time": "2021-09-01T06:28:50.455Z"
   },
   {
    "duration": 221,
    "start_time": "2021-09-01T06:29:14.801Z"
   },
   {
    "duration": 26,
    "start_time": "2021-09-01T06:29:23.307Z"
   },
   {
    "duration": 549,
    "start_time": "2021-09-01T06:29:32.814Z"
   },
   {
    "duration": 23,
    "start_time": "2021-09-01T06:30:00.121Z"
   },
   {
    "duration": 11,
    "start_time": "2021-09-01T06:30:06.236Z"
   },
   {
    "duration": 880,
    "start_time": "2021-09-01T06:30:37.099Z"
   },
   {
    "duration": 28,
    "start_time": "2021-09-01T06:30:37.982Z"
   },
   {
    "duration": 8,
    "start_time": "2021-09-01T06:30:38.013Z"
   },
   {
    "duration": 42,
    "start_time": "2021-09-01T06:30:38.024Z"
   },
   {
    "duration": 19,
    "start_time": "2021-09-01T06:30:38.069Z"
   },
   {
    "duration": 12,
    "start_time": "2021-09-01T06:30:38.090Z"
   },
   {
    "duration": 28,
    "start_time": "2021-09-01T06:30:38.104Z"
   },
   {
    "duration": 154,
    "start_time": "2021-09-01T06:30:38.162Z"
   },
   {
    "duration": 19,
    "start_time": "2021-09-01T06:30:38.320Z"
   },
   {
    "duration": 15,
    "start_time": "2021-09-01T06:30:38.354Z"
   },
   {
    "duration": 64,
    "start_time": "2021-09-01T06:30:38.372Z"
   },
   {
    "duration": 29,
    "start_time": "2021-09-01T06:30:38.438Z"
   },
   {
    "duration": 34,
    "start_time": "2021-09-01T06:30:38.470Z"
   },
   {
    "duration": 47,
    "start_time": "2021-09-01T06:30:38.507Z"
   },
   {
    "duration": 26,
    "start_time": "2021-09-01T06:30:38.557Z"
   },
   {
    "duration": 22,
    "start_time": "2021-09-01T06:30:38.585Z"
   },
   {
    "duration": 43,
    "start_time": "2021-09-01T06:30:38.609Z"
   },
   {
    "duration": 32,
    "start_time": "2021-09-01T06:30:38.657Z"
   },
   {
    "duration": 35,
    "start_time": "2021-09-01T06:30:38.692Z"
   },
   {
    "duration": 57,
    "start_time": "2021-09-01T06:30:38.730Z"
   },
   {
    "duration": 12,
    "start_time": "2021-09-01T06:30:38.790Z"
   },
   {
    "duration": 5136,
    "start_time": "2021-09-01T06:30:38.805Z"
   },
   {
    "duration": 25,
    "start_time": "2021-09-01T06:30:43.957Z"
   },
   {
    "duration": 30,
    "start_time": "2021-09-01T06:30:43.985Z"
   },
   {
    "duration": 28,
    "start_time": "2021-09-01T06:30:44.018Z"
   },
   {
    "duration": 21,
    "start_time": "2021-09-01T06:30:44.048Z"
   },
   {
    "duration": 28,
    "start_time": "2021-09-01T06:30:44.071Z"
   },
   {
    "duration": 41,
    "start_time": "2021-09-01T06:30:44.102Z"
   },
   {
    "duration": 34,
    "start_time": "2021-09-01T06:30:44.146Z"
   },
   {
    "duration": 53,
    "start_time": "2021-09-01T06:30:44.182Z"
   },
   {
    "duration": 34,
    "start_time": "2021-09-01T06:30:44.237Z"
   },
   {
    "duration": 46,
    "start_time": "2021-09-01T06:30:44.274Z"
   },
   {
    "duration": 53,
    "start_time": "2021-09-01T06:30:44.322Z"
   },
   {
    "duration": 47,
    "start_time": "2021-09-01T06:30:44.378Z"
   },
   {
    "duration": 46,
    "start_time": "2021-09-01T06:30:44.429Z"
   },
   {
    "duration": 11,
    "start_time": "2021-09-01T06:31:51.867Z"
   },
   {
    "duration": 13,
    "start_time": "2021-09-01T06:31:53.960Z"
   },
   {
    "duration": 29,
    "start_time": "2021-09-01T06:32:07.230Z"
   },
   {
    "duration": 9,
    "start_time": "2021-09-01T06:32:08.319Z"
   },
   {
    "duration": 11,
    "start_time": "2021-09-01T06:32:37.300Z"
   },
   {
    "duration": 6,
    "start_time": "2021-09-01T06:32:38.560Z"
   },
   {
    "duration": 12,
    "start_time": "2021-09-01T06:32:39.419Z"
   },
   {
    "duration": 817,
    "start_time": "2021-09-01T06:33:33.283Z"
   },
   {
    "duration": 26,
    "start_time": "2021-09-01T06:33:34.103Z"
   },
   {
    "duration": 29,
    "start_time": "2021-09-01T06:33:34.132Z"
   },
   {
    "duration": 22,
    "start_time": "2021-09-01T06:33:34.165Z"
   },
   {
    "duration": 24,
    "start_time": "2021-09-01T06:33:34.189Z"
   },
   {
    "duration": 27,
    "start_time": "2021-09-01T06:33:34.216Z"
   },
   {
    "duration": 33,
    "start_time": "2021-09-01T06:33:34.246Z"
   },
   {
    "duration": 98,
    "start_time": "2021-09-01T06:33:34.285Z"
   },
   {
    "duration": 15,
    "start_time": "2021-09-01T06:33:34.386Z"
   },
   {
    "duration": 27,
    "start_time": "2021-09-01T06:33:34.404Z"
   },
   {
    "duration": 75,
    "start_time": "2021-09-01T06:33:34.433Z"
   },
   {
    "duration": 7,
    "start_time": "2021-09-01T06:33:34.510Z"
   },
   {
    "duration": 44,
    "start_time": "2021-09-01T06:33:34.520Z"
   },
   {
    "duration": 40,
    "start_time": "2021-09-01T06:33:34.567Z"
   },
   {
    "duration": 9,
    "start_time": "2021-09-01T06:33:34.609Z"
   },
   {
    "duration": 46,
    "start_time": "2021-09-01T06:33:34.620Z"
   },
   {
    "duration": 22,
    "start_time": "2021-09-01T06:33:34.669Z"
   },
   {
    "duration": 23,
    "start_time": "2021-09-01T06:33:34.694Z"
   },
   {
    "duration": 51,
    "start_time": "2021-09-01T06:33:34.719Z"
   },
   {
    "duration": 42,
    "start_time": "2021-09-01T06:33:34.773Z"
   },
   {
    "duration": 10,
    "start_time": "2021-09-01T06:33:34.818Z"
   },
   {
    "duration": 4686,
    "start_time": "2021-09-01T06:33:34.830Z"
   },
   {
    "duration": 16,
    "start_time": "2021-09-01T06:33:39.521Z"
   },
   {
    "duration": 17,
    "start_time": "2021-09-01T06:33:39.556Z"
   },
   {
    "duration": 16,
    "start_time": "2021-09-01T06:33:39.576Z"
   },
   {
    "duration": 14,
    "start_time": "2021-09-01T06:33:39.595Z"
   },
   {
    "duration": 30,
    "start_time": "2021-09-01T06:33:39.612Z"
   },
   {
    "duration": 29,
    "start_time": "2021-09-01T06:33:39.644Z"
   },
   {
    "duration": 30,
    "start_time": "2021-09-01T06:33:39.675Z"
   },
   {
    "duration": 45,
    "start_time": "2021-09-01T06:33:39.708Z"
   },
   {
    "duration": 33,
    "start_time": "2021-09-01T06:33:39.759Z"
   },
   {
    "duration": 35,
    "start_time": "2021-09-01T06:33:39.795Z"
   },
   {
    "duration": 54,
    "start_time": "2021-09-01T06:33:39.833Z"
   },
   {
    "duration": 39,
    "start_time": "2021-09-01T06:33:39.889Z"
   },
   {
    "duration": 19,
    "start_time": "2021-09-01T06:33:39.954Z"
   },
   {
    "duration": 806,
    "start_time": "2021-09-01T07:22:03.914Z"
   },
   {
    "duration": 26,
    "start_time": "2021-09-01T07:22:04.723Z"
   },
   {
    "duration": 9,
    "start_time": "2021-09-01T07:22:04.755Z"
   },
   {
    "duration": 37,
    "start_time": "2021-09-01T07:22:04.767Z"
   },
   {
    "duration": 14,
    "start_time": "2021-09-01T07:22:04.807Z"
   },
   {
    "duration": 8,
    "start_time": "2021-09-01T07:22:04.823Z"
   },
   {
    "duration": 31,
    "start_time": "2021-09-01T07:22:04.834Z"
   },
   {
    "duration": 105,
    "start_time": "2021-09-01T07:22:04.868Z"
   },
   {
    "duration": 13,
    "start_time": "2021-09-01T07:22:04.977Z"
   },
   {
    "duration": 14,
    "start_time": "2021-09-01T07:22:04.993Z"
   },
   {
    "duration": 81,
    "start_time": "2021-09-01T07:22:05.010Z"
   },
   {
    "duration": 8,
    "start_time": "2021-09-01T07:22:05.093Z"
   },
   {
    "duration": 19,
    "start_time": "2021-09-01T07:22:05.104Z"
   },
   {
    "duration": 53,
    "start_time": "2021-09-01T07:22:05.126Z"
   },
   {
    "duration": 13,
    "start_time": "2021-09-01T07:22:05.181Z"
   },
   {
    "duration": 11,
    "start_time": "2021-09-01T07:22:05.197Z"
   },
   {
    "duration": 54,
    "start_time": "2021-09-01T07:22:05.211Z"
   },
   {
    "duration": 24,
    "start_time": "2021-09-01T07:22:05.267Z"
   },
   {
    "duration": 44,
    "start_time": "2021-09-01T07:22:05.294Z"
   },
   {
    "duration": 57,
    "start_time": "2021-09-01T07:22:05.341Z"
   },
   {
    "duration": 11,
    "start_time": "2021-09-01T07:22:05.401Z"
   },
   {
    "duration": 4369,
    "start_time": "2021-09-01T07:22:05.415Z"
   },
   {
    "duration": 16,
    "start_time": "2021-09-01T07:22:09.786Z"
   },
   {
    "duration": 23,
    "start_time": "2021-09-01T07:22:09.804Z"
   },
   {
    "duration": 27,
    "start_time": "2021-09-01T07:22:09.829Z"
   },
   {
    "duration": 5,
    "start_time": "2021-09-01T07:22:09.858Z"
   },
   {
    "duration": 11,
    "start_time": "2021-09-01T07:22:09.867Z"
   },
   {
    "duration": 12,
    "start_time": "2021-09-01T07:22:09.881Z"
   },
   {
    "duration": 13,
    "start_time": "2021-09-01T07:22:09.896Z"
   },
   {
    "duration": 76,
    "start_time": "2021-09-01T07:22:09.912Z"
   },
   {
    "duration": 32,
    "start_time": "2021-09-01T07:22:09.990Z"
   },
   {
    "duration": 61,
    "start_time": "2021-09-01T07:22:10.025Z"
   },
   {
    "duration": 65,
    "start_time": "2021-09-01T07:22:10.088Z"
   },
   {
    "duration": 37,
    "start_time": "2021-09-01T07:22:10.155Z"
   },
   {
    "duration": 15,
    "start_time": "2021-09-01T07:22:10.195Z"
   },
   {
    "duration": 15,
    "start_time": "2021-09-01T07:29:50.204Z"
   },
   {
    "duration": 12,
    "start_time": "2021-09-01T07:29:52.087Z"
   },
   {
    "duration": 3815,
    "start_time": "2021-09-01T07:30:10.306Z"
   },
   {
    "duration": 15,
    "start_time": "2021-09-01T07:30:17.086Z"
   },
   {
    "duration": 22,
    "start_time": "2021-09-01T07:30:54.146Z"
   },
   {
    "duration": 819,
    "start_time": "2021-09-01T08:39:05.116Z"
   },
   {
    "duration": 27,
    "start_time": "2021-09-01T08:39:05.937Z"
   },
   {
    "duration": 15,
    "start_time": "2021-09-01T08:39:05.967Z"
   },
   {
    "duration": 28,
    "start_time": "2021-09-01T08:39:05.984Z"
   },
   {
    "duration": 25,
    "start_time": "2021-09-01T08:39:06.015Z"
   },
   {
    "duration": 18,
    "start_time": "2021-09-01T08:39:06.043Z"
   },
   {
    "duration": 26,
    "start_time": "2021-09-01T08:39:06.064Z"
   },
   {
    "duration": 94,
    "start_time": "2021-09-01T08:39:06.095Z"
   },
   {
    "duration": 13,
    "start_time": "2021-09-01T08:39:06.192Z"
   },
   {
    "duration": 36,
    "start_time": "2021-09-01T08:39:06.207Z"
   },
   {
    "duration": 58,
    "start_time": "2021-09-01T08:39:06.245Z"
   },
   {
    "duration": 8,
    "start_time": "2021-09-01T08:39:06.305Z"
   },
   {
    "duration": 23,
    "start_time": "2021-09-01T08:39:06.315Z"
   },
   {
    "duration": 39,
    "start_time": "2021-09-01T08:39:06.340Z"
   },
   {
    "duration": 14,
    "start_time": "2021-09-01T08:39:06.382Z"
   },
   {
    "duration": 18,
    "start_time": "2021-09-01T08:39:06.399Z"
   },
   {
    "duration": 48,
    "start_time": "2021-09-01T08:39:06.419Z"
   },
   {
    "duration": 23,
    "start_time": "2021-09-01T08:39:06.470Z"
   },
   {
    "duration": 40,
    "start_time": "2021-09-01T08:39:06.495Z"
   },
   {
    "duration": 52,
    "start_time": "2021-09-01T08:39:06.537Z"
   },
   {
    "duration": 10,
    "start_time": "2021-09-01T08:39:06.591Z"
   },
   {
    "duration": 4462,
    "start_time": "2021-09-01T08:39:06.603Z"
   },
   {
    "duration": 15,
    "start_time": "2021-09-01T08:39:11.070Z"
   },
   {
    "duration": 16,
    "start_time": "2021-09-01T08:39:11.088Z"
   },
   {
    "duration": 10,
    "start_time": "2021-09-01T08:39:11.107Z"
   },
   {
    "duration": 37,
    "start_time": "2021-09-01T08:39:11.120Z"
   },
   {
    "duration": 32,
    "start_time": "2021-09-01T08:39:11.160Z"
   },
   {
    "duration": 11,
    "start_time": "2021-09-01T08:39:11.194Z"
   },
   {
    "duration": 13,
    "start_time": "2021-09-01T08:39:11.208Z"
   },
   {
    "duration": 59,
    "start_time": "2021-09-01T08:39:11.223Z"
   },
   {
    "duration": 32,
    "start_time": "2021-09-01T08:39:11.284Z"
   },
   {
    "duration": 55,
    "start_time": "2021-09-01T08:39:11.318Z"
   },
   {
    "duration": 36,
    "start_time": "2021-09-01T08:39:11.375Z"
   },
   {
    "duration": 62,
    "start_time": "2021-09-01T08:39:11.413Z"
   },
   {
    "duration": 15,
    "start_time": "2021-09-01T08:39:11.477Z"
   },
   {
    "duration": 750,
    "start_time": "2021-09-01T17:21:14.496Z"
   },
   {
    "duration": 17,
    "start_time": "2021-09-01T17:21:15.248Z"
   },
   {
    "duration": 11,
    "start_time": "2021-09-01T17:21:15.268Z"
   },
   {
    "duration": 10,
    "start_time": "2021-09-01T17:21:15.281Z"
   },
   {
    "duration": 13,
    "start_time": "2021-09-01T17:21:15.293Z"
   },
   {
    "duration": 6,
    "start_time": "2021-09-01T17:21:15.308Z"
   },
   {
    "duration": 12,
    "start_time": "2021-09-01T17:21:15.315Z"
   },
   {
    "duration": 84,
    "start_time": "2021-09-01T17:21:15.328Z"
   },
   {
    "duration": 9,
    "start_time": "2021-09-01T17:21:15.414Z"
   },
   {
    "duration": 10,
    "start_time": "2021-09-01T17:21:15.425Z"
   },
   {
    "duration": 53,
    "start_time": "2021-09-01T17:21:15.436Z"
   },
   {
    "duration": 5,
    "start_time": "2021-09-01T17:21:15.491Z"
   },
   {
    "duration": 23,
    "start_time": "2021-09-01T17:21:15.499Z"
   },
   {
    "duration": 61,
    "start_time": "2021-09-01T17:21:15.524Z"
   },
   {
    "duration": 10,
    "start_time": "2021-09-01T17:21:15.588Z"
   },
   {
    "duration": 8,
    "start_time": "2021-09-01T17:21:15.600Z"
   },
   {
    "duration": 29,
    "start_time": "2021-09-01T17:21:15.610Z"
   },
   {
    "duration": 60,
    "start_time": "2021-09-01T17:21:15.641Z"
   },
   {
    "duration": 32,
    "start_time": "2021-09-01T17:21:15.703Z"
   },
   {
    "duration": 47,
    "start_time": "2021-09-01T17:21:15.737Z"
   },
   {
    "duration": 7,
    "start_time": "2021-09-01T17:21:15.786Z"
   },
   {
    "duration": 3599,
    "start_time": "2021-09-01T17:21:15.795Z"
   },
   {
    "duration": 11,
    "start_time": "2021-09-01T17:21:19.396Z"
   },
   {
    "duration": 69,
    "start_time": "2021-09-01T17:21:19.408Z"
   },
   {
    "duration": 18,
    "start_time": "2021-09-01T17:21:19.480Z"
   },
   {
    "duration": 23,
    "start_time": "2021-09-01T17:21:19.500Z"
   },
   {
    "duration": 24,
    "start_time": "2021-09-01T17:21:19.527Z"
   },
   {
    "duration": 17,
    "start_time": "2021-09-01T17:21:19.553Z"
   },
   {
    "duration": 24,
    "start_time": "2021-09-01T17:21:19.571Z"
   },
   {
    "duration": 38,
    "start_time": "2021-09-01T17:21:19.597Z"
   },
   {
    "duration": 22,
    "start_time": "2021-09-01T17:21:19.637Z"
   },
   {
    "duration": 39,
    "start_time": "2021-09-01T17:21:19.661Z"
   },
   {
    "duration": 115,
    "start_time": "2021-09-01T17:21:19.702Z"
   },
   {
    "duration": 25,
    "start_time": "2021-09-01T17:21:19.819Z"
   },
   {
    "duration": 14,
    "start_time": "2021-09-01T17:21:19.846Z"
   },
   {
    "duration": 10,
    "start_time": "2021-09-01T17:27:52.971Z"
   },
   {
    "duration": 332,
    "start_time": "2021-09-01T17:31:09.390Z"
   },
   {
    "duration": 300,
    "start_time": "2021-09-01T17:32:00.578Z"
   },
   {
    "duration": 4,
    "start_time": "2021-09-01T17:32:10.215Z"
   },
   {
    "duration": 4,
    "start_time": "2021-09-01T17:32:13.190Z"
   },
   {
    "duration": 4,
    "start_time": "2021-09-01T17:32:17.211Z"
   },
   {
    "duration": 4,
    "start_time": "2021-09-01T17:32:20.982Z"
   },
   {
    "duration": 20,
    "start_time": "2021-09-01T17:32:44.732Z"
   },
   {
    "duration": 4,
    "start_time": "2021-09-01T17:33:35.526Z"
   },
   {
    "duration": 4,
    "start_time": "2021-09-01T17:33:44.372Z"
   },
   {
    "duration": 4,
    "start_time": "2021-09-01T17:33:50.793Z"
   },
   {
    "duration": 5,
    "start_time": "2021-09-01T17:33:54.650Z"
   },
   {
    "duration": 301,
    "start_time": "2021-09-02T07:14:22.021Z"
   },
   {
    "duration": 739,
    "start_time": "2021-09-02T07:14:39.996Z"
   },
   {
    "duration": 26,
    "start_time": "2021-09-02T07:14:40.738Z"
   },
   {
    "duration": 12,
    "start_time": "2021-09-02T07:14:40.767Z"
   },
   {
    "duration": 11,
    "start_time": "2021-09-02T07:14:40.781Z"
   },
   {
    "duration": 16,
    "start_time": "2021-09-02T07:14:40.794Z"
   },
   {
    "duration": 8,
    "start_time": "2021-09-02T07:14:40.812Z"
   },
   {
    "duration": 16,
    "start_time": "2021-09-02T07:14:40.862Z"
   },
   {
    "duration": 38,
    "start_time": "2021-09-02T07:14:40.881Z"
   },
   {
    "duration": 44,
    "start_time": "2021-09-02T07:14:40.923Z"
   },
   {
    "duration": 14,
    "start_time": "2021-09-02T07:14:40.970Z"
   },
   {
    "duration": 22,
    "start_time": "2021-09-02T07:14:40.986Z"
   },
   {
    "duration": 67,
    "start_time": "2021-09-02T07:14:41.010Z"
   },
   {
    "duration": 7,
    "start_time": "2021-09-02T07:14:41.079Z"
   },
   {
    "duration": 24,
    "start_time": "2021-09-02T07:14:41.089Z"
   },
   {
    "duration": 53,
    "start_time": "2021-09-02T07:14:41.115Z"
   },
   {
    "duration": 339,
    "start_time": "2021-09-02T07:14:41.171Z"
   },
   {
    "duration": -2133,
    "start_time": "2021-09-02T07:14:43.646Z"
   },
   {
    "duration": -2138,
    "start_time": "2021-09-02T07:14:43.653Z"
   },
   {
    "duration": -2141,
    "start_time": "2021-09-02T07:14:43.657Z"
   },
   {
    "duration": -2143,
    "start_time": "2021-09-02T07:14:43.660Z"
   },
   {
    "duration": -2145,
    "start_time": "2021-09-02T07:14:43.664Z"
   },
   {
    "duration": -2148,
    "start_time": "2021-09-02T07:14:43.668Z"
   },
   {
    "duration": -2150,
    "start_time": "2021-09-02T07:14:43.672Z"
   },
   {
    "duration": -2153,
    "start_time": "2021-09-02T07:14:43.676Z"
   },
   {
    "duration": -2155,
    "start_time": "2021-09-02T07:14:43.679Z"
   },
   {
    "duration": -2156,
    "start_time": "2021-09-02T07:14:43.682Z"
   },
   {
    "duration": -2160,
    "start_time": "2021-09-02T07:14:43.687Z"
   },
   {
    "duration": -2162,
    "start_time": "2021-09-02T07:14:43.690Z"
   },
   {
    "duration": -2163,
    "start_time": "2021-09-02T07:14:43.693Z"
   },
   {
    "duration": -2165,
    "start_time": "2021-09-02T07:14:43.696Z"
   },
   {
    "duration": -2167,
    "start_time": "2021-09-02T07:14:43.699Z"
   },
   {
    "duration": -2167,
    "start_time": "2021-09-02T07:14:43.701Z"
   },
   {
    "duration": -2168,
    "start_time": "2021-09-02T07:14:43.704Z"
   },
   {
    "duration": -2169,
    "start_time": "2021-09-02T07:14:43.707Z"
   },
   {
    "duration": -2172,
    "start_time": "2021-09-02T07:14:43.711Z"
   },
   {
    "duration": -2173,
    "start_time": "2021-09-02T07:14:43.713Z"
   },
   {
    "duration": -2180,
    "start_time": "2021-09-02T07:14:43.721Z"
   },
   {
    "duration": 254,
    "start_time": "2021-09-02T07:32:19.403Z"
   },
   {
    "duration": 223,
    "start_time": "2021-09-02T07:32:28.225Z"
   },
   {
    "duration": 20,
    "start_time": "2021-09-02T07:32:45.786Z"
   },
   {
    "duration": 18,
    "start_time": "2021-09-02T07:34:50.106Z"
   },
   {
    "duration": 13,
    "start_time": "2021-09-02T07:36:40.515Z"
   },
   {
    "duration": 9,
    "start_time": "2021-09-02T07:47:59.385Z"
   },
   {
    "duration": 10,
    "start_time": "2021-09-02T07:48:23.085Z"
   },
   {
    "duration": 11,
    "start_time": "2021-09-02T07:48:32.486Z"
   },
   {
    "duration": 12,
    "start_time": "2021-09-02T07:48:38.723Z"
   },
   {
    "duration": 13,
    "start_time": "2021-09-02T07:49:24.625Z"
   },
   {
    "duration": 12,
    "start_time": "2021-09-02T07:49:33.865Z"
   },
   {
    "duration": 243,
    "start_time": "2021-09-02T07:49:59.195Z"
   },
   {
    "duration": 14,
    "start_time": "2021-09-02T07:50:12.913Z"
   },
   {
    "duration": 12,
    "start_time": "2021-09-02T07:50:35.586Z"
   },
   {
    "duration": 11,
    "start_time": "2021-09-02T07:52:03.603Z"
   },
   {
    "duration": 13,
    "start_time": "2021-09-02T07:52:25.785Z"
   },
   {
    "duration": 9,
    "start_time": "2021-09-02T07:54:09.550Z"
   },
   {
    "duration": 9,
    "start_time": "2021-09-02T07:54:25.197Z"
   },
   {
    "duration": 269,
    "start_time": "2021-09-02T07:54:49.733Z"
   },
   {
    "duration": 11,
    "start_time": "2021-09-02T07:54:54.679Z"
   },
   {
    "duration": 265,
    "start_time": "2021-09-02T07:57:37.233Z"
   },
   {
    "duration": 234,
    "start_time": "2021-09-02T07:57:42.465Z"
   },
   {
    "duration": 305,
    "start_time": "2021-09-02T07:58:05.583Z"
   },
   {
    "duration": 278,
    "start_time": "2021-09-02T07:58:21.673Z"
   },
   {
    "duration": 13,
    "start_time": "2021-09-02T07:58:47.803Z"
   },
   {
    "duration": 6217,
    "start_time": "2021-09-02T07:59:17.446Z"
   },
   {
    "duration": 6320,
    "start_time": "2021-09-02T07:59:43.374Z"
   },
   {
    "duration": 7258,
    "start_time": "2021-09-02T08:00:01.787Z"
   },
   {
    "duration": 12,
    "start_time": "2021-09-02T08:00:14.335Z"
   },
   {
    "duration": 12,
    "start_time": "2021-09-02T08:09:55.073Z"
   },
   {
    "duration": 3175,
    "start_time": "2021-09-02T08:13:10.524Z"
   },
   {
    "duration": 4547,
    "start_time": "2021-09-02T08:13:20.206Z"
   },
   {
    "duration": 252,
    "start_time": "2021-09-02T08:13:33.975Z"
   },
   {
    "duration": 216,
    "start_time": "2021-09-02T08:13:50.230Z"
   },
   {
    "duration": 16,
    "start_time": "2021-09-02T08:13:56.026Z"
   },
   {
    "duration": 11,
    "start_time": "2021-09-02T08:13:57.525Z"
   },
   {
    "duration": 260,
    "start_time": "2021-09-02T08:14:00.896Z"
   },
   {
    "duration": 258,
    "start_time": "2021-09-02T08:14:08.195Z"
   },
   {
    "duration": 272,
    "start_time": "2021-09-02T08:14:48.245Z"
   },
   {
    "duration": 8,
    "start_time": "2021-09-02T08:15:36.457Z"
   },
   {
    "duration": 8,
    "start_time": "2021-09-02T08:15:43.422Z"
   },
   {
    "duration": 8,
    "start_time": "2021-09-02T08:21:50.649Z"
   },
   {
    "duration": 8,
    "start_time": "2021-09-02T08:22:20.063Z"
   },
   {
    "duration": 9,
    "start_time": "2021-09-02T08:22:47.485Z"
   },
   {
    "duration": 8,
    "start_time": "2021-09-02T08:22:54.415Z"
   },
   {
    "duration": 53,
    "start_time": "2021-09-02T08:23:12.405Z"
   },
   {
    "duration": 8,
    "start_time": "2021-09-02T08:34:43.946Z"
   },
   {
    "duration": 12,
    "start_time": "2021-09-02T08:43:41.317Z"
   },
   {
    "duration": 14,
    "start_time": "2021-09-02T08:46:21.706Z"
   },
   {
    "duration": 817,
    "start_time": "2021-09-02T08:49:20.272Z"
   },
   {
    "duration": 27,
    "start_time": "2021-09-02T08:49:21.092Z"
   },
   {
    "duration": 12,
    "start_time": "2021-09-02T08:49:21.122Z"
   },
   {
    "duration": 26,
    "start_time": "2021-09-02T08:49:21.137Z"
   },
   {
    "duration": 15,
    "start_time": "2021-09-02T08:49:21.166Z"
   },
   {
    "duration": 10,
    "start_time": "2021-09-02T08:49:21.183Z"
   },
   {
    "duration": 16,
    "start_time": "2021-09-02T08:49:21.196Z"
   },
   {
    "duration": 84,
    "start_time": "2021-09-02T08:49:21.215Z"
   },
   {
    "duration": 14,
    "start_time": "2021-09-02T08:49:21.302Z"
   },
   {
    "duration": 9,
    "start_time": "2021-09-02T08:49:21.319Z"
   },
   {
    "duration": 38,
    "start_time": "2021-09-02T08:49:21.330Z"
   },
   {
    "duration": 16,
    "start_time": "2021-09-02T08:49:21.370Z"
   },
   {
    "duration": 21,
    "start_time": "2021-09-02T08:49:21.388Z"
   },
   {
    "duration": 80,
    "start_time": "2021-09-02T08:49:21.412Z"
   },
   {
    "duration": 12,
    "start_time": "2021-09-02T08:49:21.494Z"
   },
   {
    "duration": 20,
    "start_time": "2021-09-02T08:49:21.508Z"
   },
   {
    "duration": 36,
    "start_time": "2021-09-02T08:49:21.530Z"
   },
   {
    "duration": 17,
    "start_time": "2021-09-02T08:49:21.568Z"
   },
   {
    "duration": 19,
    "start_time": "2021-09-02T08:49:21.588Z"
   },
   {
    "duration": 536,
    "start_time": "2021-09-02T08:49:21.609Z"
   },
   {
    "duration": -184,
    "start_time": "2021-09-02T08:49:22.334Z"
   },
   {
    "duration": -188,
    "start_time": "2021-09-02T08:49:22.340Z"
   },
   {
    "duration": -189,
    "start_time": "2021-09-02T08:49:22.344Z"
   },
   {
    "duration": -192,
    "start_time": "2021-09-02T08:49:22.349Z"
   },
   {
    "duration": -194,
    "start_time": "2021-09-02T08:49:22.353Z"
   },
   {
    "duration": -196,
    "start_time": "2021-09-02T08:49:22.357Z"
   },
   {
    "duration": -198,
    "start_time": "2021-09-02T08:49:22.361Z"
   },
   {
    "duration": -201,
    "start_time": "2021-09-02T08:49:22.366Z"
   },
   {
    "duration": -203,
    "start_time": "2021-09-02T08:49:22.371Z"
   },
   {
    "duration": -206,
    "start_time": "2021-09-02T08:49:22.376Z"
   },
   {
    "duration": -210,
    "start_time": "2021-09-02T08:49:22.382Z"
   },
   {
    "duration": -212,
    "start_time": "2021-09-02T08:49:22.386Z"
   },
   {
    "duration": -213,
    "start_time": "2021-09-02T08:49:22.389Z"
   },
   {
    "duration": -214,
    "start_time": "2021-09-02T08:49:22.393Z"
   },
   {
    "duration": -215,
    "start_time": "2021-09-02T08:49:22.396Z"
   },
   {
    "duration": -216,
    "start_time": "2021-09-02T08:49:22.399Z"
   },
   {
    "duration": -217,
    "start_time": "2021-09-02T08:49:22.402Z"
   },
   {
    "duration": -219,
    "start_time": "2021-09-02T08:49:22.406Z"
   },
   {
    "duration": -219,
    "start_time": "2021-09-02T08:49:22.409Z"
   },
   {
    "duration": 12,
    "start_time": "2021-09-02T08:51:55.183Z"
   },
   {
    "duration": 13,
    "start_time": "2021-09-02T08:59:29.741Z"
   },
   {
    "duration": 41,
    "start_time": "2021-09-02T09:05:52.933Z"
   },
   {
    "duration": 127,
    "start_time": "2021-09-02T09:06:36.663Z"
   },
   {
    "duration": 295,
    "start_time": "2021-09-02T09:06:39.923Z"
   },
   {
    "duration": 39,
    "start_time": "2021-09-02T09:07:06.296Z"
   },
   {
    "duration": 7,
    "start_time": "2021-09-02T09:07:37.983Z"
   },
   {
    "duration": 26,
    "start_time": "2021-09-02T09:07:47.651Z"
   },
   {
    "duration": 19,
    "start_time": "2021-09-02T09:08:21.853Z"
   },
   {
    "duration": 25,
    "start_time": "2021-09-02T09:08:32.112Z"
   },
   {
    "duration": 44,
    "start_time": "2021-09-02T09:09:21.129Z"
   },
   {
    "duration": 60,
    "start_time": "2021-09-02T09:09:30.641Z"
   },
   {
    "duration": 58,
    "start_time": "2021-09-02T09:09:46.361Z"
   },
   {
    "duration": 52,
    "start_time": "2021-09-02T09:10:53.651Z"
   },
   {
    "duration": 54,
    "start_time": "2021-09-02T09:11:03.933Z"
   },
   {
    "duration": 58,
    "start_time": "2021-09-02T09:12:24.803Z"
   },
   {
    "duration": 43,
    "start_time": "2021-09-02T09:13:23.414Z"
   },
   {
    "duration": 46,
    "start_time": "2021-09-02T09:13:40.147Z"
   },
   {
    "duration": 43,
    "start_time": "2021-09-02T09:13:45.823Z"
   },
   {
    "duration": 58,
    "start_time": "2021-09-02T09:14:06.264Z"
   },
   {
    "duration": 309,
    "start_time": "2021-09-02T09:16:38.604Z"
   },
   {
    "duration": 7402,
    "start_time": "2021-09-02T09:17:19.105Z"
   },
   {
    "duration": 658,
    "start_time": "2021-09-02T09:18:00.372Z"
   },
   {
    "duration": 1924,
    "start_time": "2021-09-02T09:18:20.120Z"
   },
   {
    "duration": 8408,
    "start_time": "2021-09-02T09:20:52.223Z"
   },
   {
    "duration": 98,
    "start_time": "2021-09-02T09:21:32.611Z"
   },
   {
    "duration": 1078,
    "start_time": "2021-09-02T09:21:42.931Z"
   },
   {
    "duration": 11652,
    "start_time": "2021-09-02T09:22:18.611Z"
   },
   {
    "duration": 7028,
    "start_time": "2021-09-02T09:22:31.943Z"
   },
   {
    "duration": 11198,
    "start_time": "2021-09-02T09:23:06.131Z"
   },
   {
    "duration": 290,
    "start_time": "2021-09-02T09:23:17.802Z"
   },
   {
    "duration": 36,
    "start_time": "2021-09-02T09:23:20.383Z"
   },
   {
    "duration": 49,
    "start_time": "2021-09-02T09:23:43.924Z"
   },
   {
    "duration": 212,
    "start_time": "2021-09-02T09:24:02.483Z"
   },
   {
    "duration": 102,
    "start_time": "2021-09-02T09:24:20.351Z"
   },
   {
    "duration": 40,
    "start_time": "2021-09-02T09:25:11.003Z"
   },
   {
    "duration": 313,
    "start_time": "2021-09-02T09:26:02.671Z"
   },
   {
    "duration": 328,
    "start_time": "2021-09-02T09:26:45.873Z"
   },
   {
    "duration": 243,
    "start_time": "2021-09-02T09:26:57.761Z"
   },
   {
    "duration": 247,
    "start_time": "2021-09-02T09:27:09.571Z"
   },
   {
    "duration": 339,
    "start_time": "2021-09-02T09:28:29.671Z"
   },
   {
    "duration": 7589,
    "start_time": "2021-09-02T09:29:36.251Z"
   },
   {
    "duration": 278,
    "start_time": "2021-09-02T09:31:19.311Z"
   },
   {
    "duration": 85,
    "start_time": "2021-09-02T09:31:54.393Z"
   },
   {
    "duration": 635,
    "start_time": "2021-09-02T09:32:04.223Z"
   },
   {
    "duration": 273,
    "start_time": "2021-09-02T09:32:54.142Z"
   },
   {
    "duration": 1034,
    "start_time": "2021-09-02T09:33:42.731Z"
   },
   {
    "duration": 6817,
    "start_time": "2021-09-02T09:33:53.961Z"
   },
   {
    "duration": 1087,
    "start_time": "2021-09-02T09:34:25.884Z"
   },
   {
    "duration": 47,
    "start_time": "2021-09-02T09:37:38.352Z"
   },
   {
    "duration": 44,
    "start_time": "2021-09-02T09:37:47.133Z"
   },
   {
    "duration": 8,
    "start_time": "2021-09-02T09:38:17.516Z"
   },
   {
    "duration": 26,
    "start_time": "2021-09-02T09:38:26.923Z"
   },
   {
    "duration": 24,
    "start_time": "2021-09-02T09:38:52.854Z"
   },
   {
    "duration": 19,
    "start_time": "2021-09-02T09:39:28.723Z"
   },
   {
    "duration": 4076,
    "start_time": "2021-09-02T09:39:56.561Z"
   },
   {
    "duration": 798,
    "start_time": "2021-09-02T09:40:36.040Z"
   },
   {
    "duration": 26,
    "start_time": "2021-09-02T09:40:36.841Z"
   },
   {
    "duration": 9,
    "start_time": "2021-09-02T09:40:36.871Z"
   },
   {
    "duration": 14,
    "start_time": "2021-09-02T09:40:36.883Z"
   },
   {
    "duration": 18,
    "start_time": "2021-09-02T09:40:36.899Z"
   },
   {
    "duration": 43,
    "start_time": "2021-09-02T09:40:36.920Z"
   },
   {
    "duration": 15,
    "start_time": "2021-09-02T09:40:36.966Z"
   },
   {
    "duration": 46,
    "start_time": "2021-09-02T09:40:36.983Z"
   },
   {
    "duration": 13,
    "start_time": "2021-09-02T09:40:37.061Z"
   },
   {
    "duration": 10,
    "start_time": "2021-09-02T09:40:37.077Z"
   },
   {
    "duration": 9,
    "start_time": "2021-09-02T09:40:37.090Z"
   },
   {
    "duration": 19,
    "start_time": "2021-09-02T09:40:37.101Z"
   },
   {
    "duration": 44,
    "start_time": "2021-09-02T09:40:37.123Z"
   },
   {
    "duration": 47,
    "start_time": "2021-09-02T09:40:37.169Z"
   },
   {
    "duration": 12,
    "start_time": "2021-09-02T09:40:37.218Z"
   },
   {
    "duration": 14,
    "start_time": "2021-09-02T09:40:37.261Z"
   },
   {
    "duration": 11,
    "start_time": "2021-09-02T09:40:37.277Z"
   },
   {
    "duration": 18,
    "start_time": "2021-09-02T09:40:37.291Z"
   },
   {
    "duration": 4402,
    "start_time": "2021-09-02T09:40:37.311Z"
   },
   {
    "duration": -308,
    "start_time": "2021-09-02T09:40:42.025Z"
   },
   {
    "duration": -310,
    "start_time": "2021-09-02T09:40:42.029Z"
   },
   {
    "duration": -312,
    "start_time": "2021-09-02T09:40:42.032Z"
   },
   {
    "duration": -314,
    "start_time": "2021-09-02T09:40:42.035Z"
   },
   {
    "duration": -315,
    "start_time": "2021-09-02T09:40:42.038Z"
   },
   {
    "duration": -318,
    "start_time": "2021-09-02T09:40:42.042Z"
   },
   {
    "duration": -319,
    "start_time": "2021-09-02T09:40:42.045Z"
   },
   {
    "duration": -321,
    "start_time": "2021-09-02T09:40:42.048Z"
   },
   {
    "duration": -323,
    "start_time": "2021-09-02T09:40:42.051Z"
   },
   {
    "duration": -323,
    "start_time": "2021-09-02T09:40:42.053Z"
   },
   {
    "duration": -324,
    "start_time": "2021-09-02T09:40:42.055Z"
   },
   {
    "duration": -326,
    "start_time": "2021-09-02T09:40:42.058Z"
   },
   {
    "duration": -327,
    "start_time": "2021-09-02T09:40:42.061Z"
   },
   {
    "duration": -328,
    "start_time": "2021-09-02T09:40:42.063Z"
   },
   {
    "duration": -330,
    "start_time": "2021-09-02T09:40:42.066Z"
   },
   {
    "duration": -336,
    "start_time": "2021-09-02T09:40:42.073Z"
   },
   {
    "duration": -337,
    "start_time": "2021-09-02T09:40:42.076Z"
   },
   {
    "duration": -339,
    "start_time": "2021-09-02T09:40:42.079Z"
   },
   {
    "duration": -343,
    "start_time": "2021-09-02T09:40:42.085Z"
   },
   {
    "duration": -345,
    "start_time": "2021-09-02T09:40:42.088Z"
   },
   {
    "duration": -350,
    "start_time": "2021-09-02T09:40:42.095Z"
   },
   {
    "duration": -354,
    "start_time": "2021-09-02T09:40:42.100Z"
   },
   {
    "duration": -356,
    "start_time": "2021-09-02T09:40:42.103Z"
   },
   {
    "duration": 4552,
    "start_time": "2021-09-02T09:50:11.187Z"
   },
   {
    "duration": 794,
    "start_time": "2021-09-02T09:51:37.633Z"
   },
   {
    "duration": 32,
    "start_time": "2021-09-02T09:51:38.429Z"
   },
   {
    "duration": 7,
    "start_time": "2021-09-02T09:51:38.465Z"
   },
   {
    "duration": 15,
    "start_time": "2021-09-02T09:51:38.474Z"
   },
   {
    "duration": 20,
    "start_time": "2021-09-02T09:51:38.491Z"
   },
   {
    "duration": 8,
    "start_time": "2021-09-02T09:51:38.513Z"
   },
   {
    "duration": 49,
    "start_time": "2021-09-02T09:51:38.524Z"
   },
   {
    "duration": 50,
    "start_time": "2021-09-02T09:51:38.576Z"
   },
   {
    "duration": 12,
    "start_time": "2021-09-02T09:51:38.630Z"
   },
   {
    "duration": 27,
    "start_time": "2021-09-02T09:51:38.645Z"
   },
   {
    "duration": 9,
    "start_time": "2021-09-02T09:51:38.675Z"
   },
   {
    "duration": 20,
    "start_time": "2021-09-02T09:51:38.687Z"
   },
   {
    "duration": 24,
    "start_time": "2021-09-02T09:51:38.709Z"
   },
   {
    "duration": 65,
    "start_time": "2021-09-02T09:51:38.736Z"
   },
   {
    "duration": 12,
    "start_time": "2021-09-02T09:51:38.803Z"
   },
   {
    "duration": 13,
    "start_time": "2021-09-02T09:51:38.817Z"
   },
   {
    "duration": 37,
    "start_time": "2021-09-02T09:51:38.833Z"
   },
   {
    "duration": 18,
    "start_time": "2021-09-02T09:51:38.872Z"
   },
   {
    "duration": 4555,
    "start_time": "2021-09-02T09:51:38.893Z"
   },
   {
    "duration": -329,
    "start_time": "2021-09-02T09:51:43.780Z"
   },
   {
    "duration": -330,
    "start_time": "2021-09-02T09:51:43.783Z"
   },
   {
    "duration": -332,
    "start_time": "2021-09-02T09:51:43.786Z"
   },
   {
    "duration": -333,
    "start_time": "2021-09-02T09:51:43.789Z"
   },
   {
    "duration": -336,
    "start_time": "2021-09-02T09:51:43.793Z"
   },
   {
    "duration": -338,
    "start_time": "2021-09-02T09:51:43.797Z"
   },
   {
    "duration": -340,
    "start_time": "2021-09-02T09:51:43.800Z"
   },
   {
    "duration": -341,
    "start_time": "2021-09-02T09:51:43.803Z"
   },
   {
    "duration": -343,
    "start_time": "2021-09-02T09:51:43.806Z"
   },
   {
    "duration": -345,
    "start_time": "2021-09-02T09:51:43.810Z"
   },
   {
    "duration": -348,
    "start_time": "2021-09-02T09:51:43.814Z"
   },
   {
    "duration": -350,
    "start_time": "2021-09-02T09:51:43.817Z"
   },
   {
    "duration": -351,
    "start_time": "2021-09-02T09:51:43.819Z"
   },
   {
    "duration": -353,
    "start_time": "2021-09-02T09:51:43.823Z"
   },
   {
    "duration": -361,
    "start_time": "2021-09-02T09:51:43.832Z"
   },
   {
    "duration": -363,
    "start_time": "2021-09-02T09:51:43.835Z"
   },
   {
    "duration": -365,
    "start_time": "2021-09-02T09:51:43.838Z"
   },
   {
    "duration": -367,
    "start_time": "2021-09-02T09:51:43.842Z"
   },
   {
    "duration": -369,
    "start_time": "2021-09-02T09:51:43.845Z"
   },
   {
    "duration": -372,
    "start_time": "2021-09-02T09:51:43.849Z"
   },
   {
    "duration": -373,
    "start_time": "2021-09-02T09:51:43.852Z"
   },
   {
    "duration": -375,
    "start_time": "2021-09-02T09:51:43.855Z"
   },
   {
    "duration": -376,
    "start_time": "2021-09-02T09:51:43.858Z"
   },
   {
    "duration": 13,
    "start_time": "2021-09-02T09:52:18.693Z"
   },
   {
    "duration": 14,
    "start_time": "2021-09-02T09:52:48.076Z"
   },
   {
    "duration": 12,
    "start_time": "2021-09-02T09:52:53.803Z"
   },
   {
    "duration": 13,
    "start_time": "2021-09-02T09:53:05.434Z"
   },
   {
    "duration": 15,
    "start_time": "2021-09-02T09:53:23.415Z"
   },
   {
    "duration": 28,
    "start_time": "2021-09-02T09:53:40.165Z"
   },
   {
    "duration": 19,
    "start_time": "2021-09-02T09:56:30.124Z"
   },
   {
    "duration": 17,
    "start_time": "2021-09-02T09:56:35.966Z"
   },
   {
    "duration": 1625,
    "start_time": "2021-09-02T09:56:42.317Z"
   },
   {
    "duration": 1241,
    "start_time": "2021-09-02T09:56:54.913Z"
   },
   {
    "duration": 1204,
    "start_time": "2021-09-02T09:58:29.453Z"
   },
   {
    "duration": 792,
    "start_time": "2021-09-02T09:58:56.345Z"
   },
   {
    "duration": 31,
    "start_time": "2021-09-02T09:58:57.141Z"
   },
   {
    "duration": 7,
    "start_time": "2021-09-02T09:58:57.176Z"
   },
   {
    "duration": 10,
    "start_time": "2021-09-02T09:58:57.186Z"
   },
   {
    "duration": 14,
    "start_time": "2021-09-02T09:58:57.198Z"
   },
   {
    "duration": 48,
    "start_time": "2021-09-02T09:58:57.214Z"
   },
   {
    "duration": 14,
    "start_time": "2021-09-02T09:58:57.264Z"
   },
   {
    "duration": 41,
    "start_time": "2021-09-02T09:58:57.281Z"
   },
   {
    "duration": 41,
    "start_time": "2021-09-02T09:58:57.326Z"
   },
   {
    "duration": 10,
    "start_time": "2021-09-02T09:58:57.370Z"
   },
   {
    "duration": 19,
    "start_time": "2021-09-02T09:58:57.382Z"
   },
   {
    "duration": 32,
    "start_time": "2021-09-02T09:58:57.404Z"
   },
   {
    "duration": 28,
    "start_time": "2021-09-02T09:58:57.439Z"
   },
   {
    "duration": 48,
    "start_time": "2021-09-02T09:58:57.469Z"
   },
   {
    "duration": 21,
    "start_time": "2021-09-02T09:58:57.520Z"
   },
   {
    "duration": 14,
    "start_time": "2021-09-02T09:58:57.563Z"
   },
   {
    "duration": 10,
    "start_time": "2021-09-02T09:58:57.580Z"
   },
   {
    "duration": 22,
    "start_time": "2021-09-02T09:58:57.592Z"
   },
   {
    "duration": 1154,
    "start_time": "2021-09-02T09:58:57.616Z"
   },
   {
    "duration": 7,
    "start_time": "2021-09-02T09:58:58.773Z"
   },
   {
    "duration": 19,
    "start_time": "2021-09-02T09:58:58.783Z"
   },
   {
    "duration": 19,
    "start_time": "2021-09-02T09:58:58.805Z"
   },
   {
    "duration": 383,
    "start_time": "2021-09-02T09:58:58.827Z"
   },
   {
    "duration": -326,
    "start_time": "2021-09-02T09:58:59.540Z"
   },
   {
    "duration": -328,
    "start_time": "2021-09-02T09:58:59.543Z"
   },
   {
    "duration": -330,
    "start_time": "2021-09-02T09:58:59.546Z"
   },
   {
    "duration": -331,
    "start_time": "2021-09-02T09:58:59.549Z"
   },
   {
    "duration": -332,
    "start_time": "2021-09-02T09:58:59.552Z"
   },
   {
    "duration": -334,
    "start_time": "2021-09-02T09:58:59.555Z"
   },
   {
    "duration": -335,
    "start_time": "2021-09-02T09:58:59.558Z"
   },
   {
    "duration": -337,
    "start_time": "2021-09-02T09:58:59.561Z"
   },
   {
    "duration": -339,
    "start_time": "2021-09-02T09:58:59.564Z"
   },
   {
    "duration": -341,
    "start_time": "2021-09-02T09:58:59.568Z"
   },
   {
    "duration": -343,
    "start_time": "2021-09-02T09:58:59.571Z"
   },
   {
    "duration": -345,
    "start_time": "2021-09-02T09:58:59.574Z"
   },
   {
    "duration": -347,
    "start_time": "2021-09-02T09:58:59.577Z"
   },
   {
    "duration": -348,
    "start_time": "2021-09-02T09:58:59.580Z"
   },
   {
    "duration": -351,
    "start_time": "2021-09-02T09:58:59.584Z"
   },
   {
    "duration": -356,
    "start_time": "2021-09-02T09:58:59.591Z"
   },
   {
    "duration": -358,
    "start_time": "2021-09-02T09:58:59.594Z"
   },
   {
    "duration": -360,
    "start_time": "2021-09-02T09:58:59.597Z"
   },
   {
    "duration": -361,
    "start_time": "2021-09-02T09:58:59.600Z"
   },
   {
    "duration": 1164,
    "start_time": "2021-09-02T09:59:33.703Z"
   },
   {
    "duration": 1164,
    "start_time": "2021-09-02T10:00:25.543Z"
   },
   {
    "duration": 1155,
    "start_time": "2021-09-02T10:01:21.463Z"
   },
   {
    "duration": 1149,
    "start_time": "2021-09-02T10:01:34.033Z"
   },
   {
    "duration": 1171,
    "start_time": "2021-09-02T10:01:59.534Z"
   },
   {
    "duration": 1433,
    "start_time": "2021-09-02T10:02:10.943Z"
   },
   {
    "duration": 1153,
    "start_time": "2021-09-02T10:02:19.783Z"
   },
   {
    "duration": 1177,
    "start_time": "2021-09-02T10:03:45.965Z"
   },
   {
    "duration": 1520,
    "start_time": "2021-09-02T10:04:06.587Z"
   },
   {
    "duration": 1202,
    "start_time": "2021-09-02T10:04:13.993Z"
   },
   {
    "duration": 1161,
    "start_time": "2021-09-02T10:05:04.305Z"
   },
   {
    "duration": 1169,
    "start_time": "2021-09-02T10:05:55.945Z"
   },
   {
    "duration": 690,
    "start_time": "2021-09-02T10:09:10.414Z"
   },
   {
    "duration": 21,
    "start_time": "2021-09-02T10:09:25.025Z"
   },
   {
    "duration": 13,
    "start_time": "2021-09-02T10:11:54.133Z"
   },
   {
    "duration": 14,
    "start_time": "2021-09-02T10:18:32.746Z"
   },
   {
    "duration": 9,
    "start_time": "2021-09-02T10:24:18.845Z"
   },
   {
    "duration": 892,
    "start_time": "2021-09-02T10:24:30.787Z"
   },
   {
    "duration": 28,
    "start_time": "2021-09-02T10:24:31.684Z"
   },
   {
    "duration": 14,
    "start_time": "2021-09-02T10:24:31.715Z"
   },
   {
    "duration": 32,
    "start_time": "2021-09-02T10:24:31.731Z"
   },
   {
    "duration": 21,
    "start_time": "2021-09-02T10:24:31.766Z"
   },
   {
    "duration": 11,
    "start_time": "2021-09-02T10:24:31.790Z"
   },
   {
    "duration": 27,
    "start_time": "2021-09-02T10:24:31.803Z"
   },
   {
    "duration": 62,
    "start_time": "2021-09-02T10:24:31.832Z"
   },
   {
    "duration": 13,
    "start_time": "2021-09-02T10:24:31.897Z"
   },
   {
    "duration": 9,
    "start_time": "2021-09-02T10:24:31.913Z"
   },
   {
    "duration": 45,
    "start_time": "2021-09-02T10:24:31.925Z"
   },
   {
    "duration": 15,
    "start_time": "2021-09-02T10:24:31.972Z"
   },
   {
    "duration": 19,
    "start_time": "2021-09-02T10:24:31.990Z"
   },
   {
    "duration": 79,
    "start_time": "2021-09-02T10:24:32.011Z"
   },
   {
    "duration": 12,
    "start_time": "2021-09-02T10:24:32.093Z"
   },
   {
    "duration": 18,
    "start_time": "2021-09-02T10:24:32.107Z"
   },
   {
    "duration": 35,
    "start_time": "2021-09-02T10:24:32.128Z"
   },
   {
    "duration": 19,
    "start_time": "2021-09-02T10:24:32.166Z"
   },
   {
    "duration": 1175,
    "start_time": "2021-09-02T10:24:32.188Z"
   },
   {
    "duration": 20,
    "start_time": "2021-09-02T10:24:33.365Z"
   },
   {
    "duration": 8,
    "start_time": "2021-09-02T10:24:33.387Z"
   },
   {
    "duration": 22,
    "start_time": "2021-09-02T10:24:33.398Z"
   },
   {
    "duration": 47,
    "start_time": "2021-09-02T10:24:33.423Z"
   },
   {
    "duration": 11,
    "start_time": "2021-09-02T10:24:33.473Z"
   },
   {
    "duration": 13,
    "start_time": "2021-09-02T10:24:33.486Z"
   },
   {
    "duration": 24,
    "start_time": "2021-09-02T10:24:33.502Z"
   },
   {
    "duration": 24,
    "start_time": "2021-09-02T10:24:33.565Z"
   },
   {
    "duration": 27,
    "start_time": "2021-09-02T10:24:33.592Z"
   },
   {
    "duration": 72,
    "start_time": "2021-09-02T10:24:33.621Z"
   },
   {
    "duration": 10,
    "start_time": "2021-09-02T10:24:33.696Z"
   },
   {
    "duration": 4678,
    "start_time": "2021-09-02T10:24:33.708Z"
   },
   {
    "duration": 16,
    "start_time": "2021-09-02T10:24:38.389Z"
   },
   {
    "duration": 9,
    "start_time": "2021-09-02T10:24:38.408Z"
   },
   {
    "duration": 45,
    "start_time": "2021-09-02T10:24:38.420Z"
   },
   {
    "duration": 20,
    "start_time": "2021-09-02T10:24:38.467Z"
   },
   {
    "duration": 9,
    "start_time": "2021-09-02T10:24:38.490Z"
   },
   {
    "duration": 21,
    "start_time": "2021-09-02T10:24:38.501Z"
   },
   {
    "duration": 50,
    "start_time": "2021-09-02T10:24:38.524Z"
   },
   {
    "duration": 36,
    "start_time": "2021-09-02T10:24:38.577Z"
   },
   {
    "duration": 59,
    "start_time": "2021-09-02T10:24:38.615Z"
   },
   {
    "duration": 35,
    "start_time": "2021-09-02T10:24:38.676Z"
   },
   {
    "duration": 62,
    "start_time": "2021-09-02T10:24:38.713Z"
   },
   {
    "duration": 14,
    "start_time": "2021-09-02T10:24:38.777Z"
   },
   {
    "duration": 23,
    "start_time": "2021-09-02T10:28:07.089Z"
   },
   {
    "duration": 37,
    "start_time": "2021-09-02T10:31:13.277Z"
   },
   {
    "duration": 37,
    "start_time": "2021-09-02T10:31:36.327Z"
   },
   {
    "duration": 54,
    "start_time": "2021-09-02T10:32:54.958Z"
   },
   {
    "duration": 338,
    "start_time": "2021-09-02T10:33:22.657Z"
   },
   {
    "duration": 228,
    "start_time": "2021-09-02T10:33:41.730Z"
   },
   {
    "duration": 231,
    "start_time": "2021-09-02T10:33:46.798Z"
   },
   {
    "duration": 31,
    "start_time": "2021-09-02T10:33:51.467Z"
   },
   {
    "duration": 41,
    "start_time": "2021-09-02T10:34:09.030Z"
   },
   {
    "duration": 51,
    "start_time": "2021-09-02T10:34:29.308Z"
   },
   {
    "duration": 25,
    "start_time": "2021-09-02T10:38:18.700Z"
   },
   {
    "duration": 44,
    "start_time": "2021-09-02T10:38:53.743Z"
   },
   {
    "duration": 984,
    "start_time": "2021-09-02T10:39:08.009Z"
   },
   {
    "duration": 55,
    "start_time": "2021-09-02T10:39:17.260Z"
   },
   {
    "duration": 312,
    "start_time": "2021-09-02T10:39:29.490Z"
   },
   {
    "duration": 48,
    "start_time": "2021-09-02T10:39:39.570Z"
   },
   {
    "duration": 59,
    "start_time": "2021-09-02T10:40:57.437Z"
   },
   {
    "duration": 45,
    "start_time": "2021-09-02T10:41:24.581Z"
   },
   {
    "duration": 43,
    "start_time": "2021-09-02T10:41:31.699Z"
   },
   {
    "duration": 51,
    "start_time": "2021-09-02T10:41:38.269Z"
   },
   {
    "duration": 96,
    "start_time": "2021-09-02T10:41:51.549Z"
   },
   {
    "duration": 84,
    "start_time": "2021-09-02T10:41:57.102Z"
   },
   {
    "duration": 41,
    "start_time": "2021-09-02T10:42:04.702Z"
   },
   {
    "duration": 66,
    "start_time": "2021-09-02T10:42:15.890Z"
   },
   {
    "duration": 42,
    "start_time": "2021-09-02T10:42:36.688Z"
   },
   {
    "duration": 40,
    "start_time": "2021-09-02T10:44:10.857Z"
   },
   {
    "duration": 45,
    "start_time": "2021-09-02T10:44:30.587Z"
   },
   {
    "duration": 305,
    "start_time": "2021-09-02T10:56:10.988Z"
   },
   {
    "duration": 302,
    "start_time": "2021-09-02T10:56:28.257Z"
   },
   {
    "duration": 39,
    "start_time": "2021-09-02T10:56:33.029Z"
   },
   {
    "duration": 38,
    "start_time": "2021-09-02T10:57:05.958Z"
   },
   {
    "duration": 49,
    "start_time": "2021-09-02T10:57:50.908Z"
   },
   {
    "duration": 38,
    "start_time": "2021-09-02T10:58:08.949Z"
   },
   {
    "duration": 53,
    "start_time": "2021-09-02T10:59:27.329Z"
   },
   {
    "duration": 8,
    "start_time": "2021-09-02T11:00:32.700Z"
   },
   {
    "duration": 239,
    "start_time": "2021-09-02T11:00:38.109Z"
   },
   {
    "duration": 16,
    "start_time": "2021-09-02T11:00:49.199Z"
   },
   {
    "duration": 252,
    "start_time": "2021-09-02T11:01:00.410Z"
   },
   {
    "duration": 15,
    "start_time": "2021-09-02T11:01:17.238Z"
   },
   {
    "duration": 10,
    "start_time": "2021-09-02T11:03:08.652Z"
   },
   {
    "duration": 16,
    "start_time": "2021-09-02T11:03:16.938Z"
   },
   {
    "duration": 16,
    "start_time": "2021-09-02T11:03:33.060Z"
   },
   {
    "duration": 12,
    "start_time": "2021-09-02T11:03:37.430Z"
   },
   {
    "duration": 9,
    "start_time": "2021-09-02T11:03:49.928Z"
   },
   {
    "duration": 12,
    "start_time": "2021-09-02T11:03:56.477Z"
   },
   {
    "duration": 12,
    "start_time": "2021-09-02T11:04:04.405Z"
   },
   {
    "duration": 12,
    "start_time": "2021-09-02T11:04:07.614Z"
   },
   {
    "duration": 268,
    "start_time": "2021-09-02T11:05:55.508Z"
   },
   {
    "duration": 28,
    "start_time": "2021-09-02T11:06:19.646Z"
   },
   {
    "duration": 730,
    "start_time": "2021-09-02T11:06:38.437Z"
   },
   {
    "duration": 31,
    "start_time": "2021-09-02T11:06:47.528Z"
   },
   {
    "duration": 29,
    "start_time": "2021-09-02T11:07:46.479Z"
   },
   {
    "duration": 300,
    "start_time": "2021-09-02T11:08:24.732Z"
   },
   {
    "duration": 263,
    "start_time": "2021-09-02T11:09:47.550Z"
   },
   {
    "duration": 281,
    "start_time": "2021-09-02T11:10:41.389Z"
   },
   {
    "duration": 38,
    "start_time": "2021-09-02T11:11:27.410Z"
   },
   {
    "duration": 33,
    "start_time": "2021-09-02T11:11:39.749Z"
   },
   {
    "duration": 36,
    "start_time": "2021-09-02T11:11:52.099Z"
   },
   {
    "duration": 37,
    "start_time": "2021-09-02T11:12:00.939Z"
   },
   {
    "duration": 169,
    "start_time": "2021-09-02T11:12:40.580Z"
   },
   {
    "duration": 188,
    "start_time": "2021-09-02T11:13:26.179Z"
   },
   {
    "duration": 1779,
    "start_time": "2021-09-02T11:14:04.358Z"
   },
   {
    "duration": 1810,
    "start_time": "2021-09-02T11:31:41.111Z"
   },
   {
    "duration": 6,
    "start_time": "2021-09-02T11:35:49.840Z"
   },
   {
    "duration": 6,
    "start_time": "2021-09-02T11:36:03.741Z"
   },
   {
    "duration": 7,
    "start_time": "2021-09-02T11:36:10.674Z"
   },
   {
    "duration": 7,
    "start_time": "2021-09-02T11:36:18.899Z"
   },
   {
    "duration": 7,
    "start_time": "2021-09-02T11:36:51.869Z"
   },
   {
    "duration": 7,
    "start_time": "2021-09-02T11:37:08.733Z"
   },
   {
    "duration": 74,
    "start_time": "2021-09-02T11:42:09.962Z"
   },
   {
    "duration": 119,
    "start_time": "2021-09-02T11:42:18.919Z"
   },
   {
    "duration": 8,
    "start_time": "2021-09-02T11:42:29.877Z"
   },
   {
    "duration": 8,
    "start_time": "2021-09-02T11:42:41.849Z"
   },
   {
    "duration": 7,
    "start_time": "2021-09-02T11:42:46.698Z"
   },
   {
    "duration": 10,
    "start_time": "2021-09-02T11:49:51.180Z"
   },
   {
    "duration": 16,
    "start_time": "2021-09-02T11:50:37.018Z"
   },
   {
    "duration": 102,
    "start_time": "2021-09-02T11:58:01.409Z"
   },
   {
    "duration": 11,
    "start_time": "2021-09-02T11:58:06.890Z"
   },
   {
    "duration": 11,
    "start_time": "2021-09-02T11:59:44.470Z"
   },
   {
    "duration": 13,
    "start_time": "2021-09-02T12:00:25.500Z"
   },
   {
    "duration": 7,
    "start_time": "2021-09-02T12:01:19.710Z"
   },
   {
    "duration": 16,
    "start_time": "2021-09-02T12:01:28.561Z"
   },
   {
    "duration": 15,
    "start_time": "2021-09-02T12:01:41.070Z"
   },
   {
    "duration": 21,
    "start_time": "2021-09-02T12:02:53.339Z"
   },
   {
    "duration": 26,
    "start_time": "2021-09-02T12:03:13.401Z"
   },
   {
    "duration": 16,
    "start_time": "2021-09-02T12:28:46.310Z"
   },
   {
    "duration": 884,
    "start_time": "2021-09-02T12:28:53.261Z"
   },
   {
    "duration": 33,
    "start_time": "2021-09-02T12:28:54.148Z"
   },
   {
    "duration": 10,
    "start_time": "2021-09-02T12:28:54.185Z"
   },
   {
    "duration": 14,
    "start_time": "2021-09-02T12:28:54.198Z"
   },
   {
    "duration": 49,
    "start_time": "2021-09-02T12:28:54.214Z"
   },
   {
    "duration": 11,
    "start_time": "2021-09-02T12:28:54.266Z"
   },
   {
    "duration": 20,
    "start_time": "2021-09-02T12:28:54.280Z"
   },
   {
    "duration": 73,
    "start_time": "2021-09-02T12:28:54.303Z"
   },
   {
    "duration": 12,
    "start_time": "2021-09-02T12:28:54.380Z"
   },
   {
    "duration": 11,
    "start_time": "2021-09-02T12:28:54.396Z"
   },
   {
    "duration": 8,
    "start_time": "2021-09-02T12:28:54.409Z"
   },
   {
    "duration": 51,
    "start_time": "2021-09-02T12:28:54.420Z"
   },
   {
    "duration": 9,
    "start_time": "2021-09-02T12:28:54.473Z"
   },
   {
    "duration": 86,
    "start_time": "2021-09-02T12:28:54.485Z"
   },
   {
    "duration": 12,
    "start_time": "2021-09-02T12:28:54.574Z"
   },
   {
    "duration": 42,
    "start_time": "2021-09-02T12:28:54.589Z"
   },
   {
    "duration": 12,
    "start_time": "2021-09-02T12:28:54.634Z"
   },
   {
    "duration": 19,
    "start_time": "2021-09-02T12:28:54.663Z"
   },
   {
    "duration": 1291,
    "start_time": "2021-09-02T12:28:54.684Z"
   },
   {
    "duration": 21,
    "start_time": "2021-09-02T12:28:55.978Z"
   },
   {
    "duration": 7,
    "start_time": "2021-09-02T12:28:56.001Z"
   },
   {
    "duration": 17,
    "start_time": "2021-09-02T12:28:56.011Z"
   },
   {
    "duration": 49,
    "start_time": "2021-09-02T12:28:56.031Z"
   },
   {
    "duration": 13,
    "start_time": "2021-09-02T12:28:56.083Z"
   },
   {
    "duration": 20,
    "start_time": "2021-09-02T12:28:56.098Z"
   },
   {
    "duration": 63,
    "start_time": "2021-09-02T12:28:56.121Z"
   },
   {
    "duration": 34,
    "start_time": "2021-09-02T12:28:56.190Z"
   },
   {
    "duration": 50,
    "start_time": "2021-09-02T12:28:56.228Z"
   },
   {
    "duration": 54,
    "start_time": "2021-09-02T12:28:56.280Z"
   },
   {
    "duration": 29,
    "start_time": "2021-09-02T12:28:56.336Z"
   },
   {
    "duration": 5127,
    "start_time": "2021-09-02T12:28:56.370Z"
   },
   {
    "duration": 17,
    "start_time": "2021-09-02T12:29:01.499Z"
   },
   {
    "duration": 22,
    "start_time": "2021-09-02T12:29:01.520Z"
   },
   {
    "duration": 37,
    "start_time": "2021-09-02T12:29:01.544Z"
   },
   {
    "duration": 15,
    "start_time": "2021-09-02T12:29:01.584Z"
   },
   {
    "duration": 45,
    "start_time": "2021-09-02T12:29:01.602Z"
   },
   {
    "duration": 44,
    "start_time": "2021-09-02T12:29:01.650Z"
   },
   {
    "duration": 30,
    "start_time": "2021-09-02T12:29:01.697Z"
   },
   {
    "duration": 62,
    "start_time": "2021-09-02T12:29:01.729Z"
   },
   {
    "duration": 37,
    "start_time": "2021-09-02T12:29:01.795Z"
   },
   {
    "duration": 55,
    "start_time": "2021-09-02T12:29:01.834Z"
   },
   {
    "duration": 36,
    "start_time": "2021-09-02T12:29:01.891Z"
   },
   {
    "duration": 90,
    "start_time": "2021-09-02T12:29:01.929Z"
   },
   {
    "duration": 22,
    "start_time": "2021-09-02T12:29:02.023Z"
   },
   {
    "duration": 2786,
    "start_time": "2021-09-02T12:29:02.048Z"
   },
   {
    "duration": 45573,
    "start_time": "2021-09-02T12:41:19.096Z"
   },
   {
    "duration": 22975,
    "start_time": "2021-09-02T12:42:24.734Z"
   },
   {
    "duration": 117,
    "start_time": "2021-09-02T12:50:28.686Z"
   },
   {
    "duration": 23,
    "start_time": "2021-09-02T12:50:34.155Z"
   },
   {
    "duration": 12206,
    "start_time": "2021-09-02T12:52:30.083Z"
   },
   {
    "duration": 4623,
    "start_time": "2021-09-02T12:52:45.034Z"
   },
   {
    "duration": 792,
    "start_time": "2021-09-02T12:53:26.640Z"
   },
   {
    "duration": 34,
    "start_time": "2021-09-02T12:53:27.435Z"
   },
   {
    "duration": 19,
    "start_time": "2021-09-02T12:53:27.472Z"
   },
   {
    "duration": 29,
    "start_time": "2021-09-02T12:53:27.494Z"
   },
   {
    "duration": 28,
    "start_time": "2021-09-02T12:53:27.526Z"
   },
   {
    "duration": 29,
    "start_time": "2021-09-02T12:53:27.556Z"
   },
   {
    "duration": 31,
    "start_time": "2021-09-02T12:53:27.587Z"
   },
   {
    "duration": 60,
    "start_time": "2021-09-02T12:53:27.622Z"
   },
   {
    "duration": 15,
    "start_time": "2021-09-02T12:53:27.686Z"
   },
   {
    "duration": 13,
    "start_time": "2021-09-02T12:53:27.704Z"
   },
   {
    "duration": 13,
    "start_time": "2021-09-02T12:53:27.719Z"
   },
   {
    "duration": 29,
    "start_time": "2021-09-02T12:53:27.764Z"
   },
   {
    "duration": 26,
    "start_time": "2021-09-02T12:53:27.795Z"
   },
   {
    "duration": 72,
    "start_time": "2021-09-02T12:53:27.823Z"
   },
   {
    "duration": 17,
    "start_time": "2021-09-02T12:53:27.899Z"
   },
   {
    "duration": 34,
    "start_time": "2021-09-02T12:53:27.918Z"
   },
   {
    "duration": 27,
    "start_time": "2021-09-02T12:53:27.954Z"
   },
   {
    "duration": 19,
    "start_time": "2021-09-02T12:53:27.985Z"
   },
   {
    "duration": 1395,
    "start_time": "2021-09-02T12:53:28.006Z"
   },
   {
    "duration": 5210,
    "start_time": "2021-09-02T12:53:29.404Z"
   },
   {
    "duration": -698,
    "start_time": "2021-09-02T12:53:35.318Z"
   },
   {
    "duration": -701,
    "start_time": "2021-09-02T12:53:35.322Z"
   },
   {
    "duration": -701,
    "start_time": "2021-09-02T12:53:35.325Z"
   },
   {
    "duration": -702,
    "start_time": "2021-09-02T12:53:35.328Z"
   },
   {
    "duration": -703,
    "start_time": "2021-09-02T12:53:35.331Z"
   },
   {
    "duration": -703,
    "start_time": "2021-09-02T12:53:35.333Z"
   },
   {
    "duration": -704,
    "start_time": "2021-09-02T12:53:35.336Z"
   },
   {
    "duration": -706,
    "start_time": "2021-09-02T12:53:35.340Z"
   },
   {
    "duration": -706,
    "start_time": "2021-09-02T12:53:35.342Z"
   },
   {
    "duration": -708,
    "start_time": "2021-09-02T12:53:35.345Z"
   },
   {
    "duration": -709,
    "start_time": "2021-09-02T12:53:35.347Z"
   },
   {
    "duration": -710,
    "start_time": "2021-09-02T12:53:35.350Z"
   },
   {
    "duration": -719,
    "start_time": "2021-09-02T12:53:35.360Z"
   },
   {
    "duration": -722,
    "start_time": "2021-09-02T12:53:35.364Z"
   },
   {
    "duration": -726,
    "start_time": "2021-09-02T12:53:35.370Z"
   },
   {
    "duration": -729,
    "start_time": "2021-09-02T12:53:35.374Z"
   },
   {
    "duration": -729,
    "start_time": "2021-09-02T12:53:35.376Z"
   },
   {
    "duration": -732,
    "start_time": "2021-09-02T12:53:35.380Z"
   },
   {
    "duration": -736,
    "start_time": "2021-09-02T12:53:35.386Z"
   },
   {
    "duration": -738,
    "start_time": "2021-09-02T12:53:35.389Z"
   },
   {
    "duration": -738,
    "start_time": "2021-09-02T12:53:35.391Z"
   },
   {
    "duration": -739,
    "start_time": "2021-09-02T12:53:35.394Z"
   },
   {
    "duration": -742,
    "start_time": "2021-09-02T12:53:35.398Z"
   },
   {
    "duration": -743,
    "start_time": "2021-09-02T12:53:35.404Z"
   },
   {
    "duration": 6690,
    "start_time": "2021-09-02T12:55:18.519Z"
   },
   {
    "duration": 290,
    "start_time": "2021-09-02T12:55:59.351Z"
   },
   {
    "duration": 4457,
    "start_time": "2021-09-02T12:56:19.336Z"
   },
   {
    "duration": 238,
    "start_time": "2021-09-02T12:57:18.139Z"
   },
   {
    "duration": 241,
    "start_time": "2021-09-02T12:57:41.139Z"
   },
   {
    "duration": 819,
    "start_time": "2021-09-02T12:58:12.133Z"
   },
   {
    "duration": 33,
    "start_time": "2021-09-02T12:58:12.955Z"
   },
   {
    "duration": 8,
    "start_time": "2021-09-02T12:58:12.991Z"
   },
   {
    "duration": 14,
    "start_time": "2021-09-02T12:58:13.002Z"
   },
   {
    "duration": 16,
    "start_time": "2021-09-02T12:58:13.019Z"
   },
   {
    "duration": 16,
    "start_time": "2021-09-02T12:58:13.062Z"
   },
   {
    "duration": 15,
    "start_time": "2021-09-02T12:58:13.080Z"
   },
   {
    "duration": 78,
    "start_time": "2021-09-02T12:58:13.099Z"
   },
   {
    "duration": 15,
    "start_time": "2021-09-02T12:58:13.181Z"
   },
   {
    "duration": 23,
    "start_time": "2021-09-02T12:58:13.198Z"
   },
   {
    "duration": 8,
    "start_time": "2021-09-02T12:58:13.224Z"
   },
   {
    "duration": 39,
    "start_time": "2021-09-02T12:58:13.234Z"
   },
   {
    "duration": 10,
    "start_time": "2021-09-02T12:58:13.277Z"
   },
   {
    "duration": 45,
    "start_time": "2021-09-02T12:58:13.289Z"
   },
   {
    "duration": 21,
    "start_time": "2021-09-02T12:58:13.363Z"
   },
   {
    "duration": 15,
    "start_time": "2021-09-02T12:58:13.386Z"
   },
   {
    "duration": 11,
    "start_time": "2021-09-02T12:58:13.403Z"
   },
   {
    "duration": 59,
    "start_time": "2021-09-02T12:58:13.416Z"
   },
   {
    "duration": 1289,
    "start_time": "2021-09-02T12:58:13.477Z"
   },
   {
    "duration": 218,
    "start_time": "2021-09-02T12:58:14.769Z"
   },
   {
    "duration": 12,
    "start_time": "2021-09-02T12:58:14.992Z"
   },
   {
    "duration": 25,
    "start_time": "2021-09-02T12:58:15.007Z"
   },
   {
    "duration": 45,
    "start_time": "2021-09-02T12:58:15.037Z"
   },
   {
    "duration": 14,
    "start_time": "2021-09-02T12:58:15.086Z"
   },
   {
    "duration": 12,
    "start_time": "2021-09-02T12:58:15.102Z"
   },
   {
    "duration": 54,
    "start_time": "2021-09-02T12:58:15.116Z"
   },
   {
    "duration": 26,
    "start_time": "2021-09-02T12:58:15.172Z"
   },
   {
    "duration": 43,
    "start_time": "2021-09-02T12:58:15.201Z"
   },
   {
    "duration": 74,
    "start_time": "2021-09-02T12:58:15.246Z"
   },
   {
    "duration": 11,
    "start_time": "2021-09-02T12:58:15.322Z"
   },
   {
    "duration": 4765,
    "start_time": "2021-09-02T12:58:15.335Z"
   },
   {
    "duration": 17,
    "start_time": "2021-09-02T12:58:20.103Z"
   },
   {
    "duration": 15,
    "start_time": "2021-09-02T12:58:20.123Z"
   },
   {
    "duration": 38,
    "start_time": "2021-09-02T12:58:20.140Z"
   },
   {
    "duration": 14,
    "start_time": "2021-09-02T12:58:20.180Z"
   },
   {
    "duration": 10,
    "start_time": "2021-09-02T12:58:20.196Z"
   },
   {
    "duration": 17,
    "start_time": "2021-09-02T12:58:20.208Z"
   },
   {
    "duration": 44,
    "start_time": "2021-09-02T12:58:20.228Z"
   },
   {
    "duration": 56,
    "start_time": "2021-09-02T12:58:20.274Z"
   },
   {
    "duration": 38,
    "start_time": "2021-09-02T12:58:20.332Z"
   },
   {
    "duration": 36,
    "start_time": "2021-09-02T12:58:20.373Z"
   },
   {
    "duration": 59,
    "start_time": "2021-09-02T12:58:20.412Z"
   },
   {
    "duration": 44,
    "start_time": "2021-09-02T12:58:20.474Z"
   },
   {
    "duration": 42,
    "start_time": "2021-09-02T12:58:20.521Z"
   },
   {
    "duration": 13,
    "start_time": "2021-09-02T12:58:27.892Z"
   },
   {
    "duration": 51,
    "start_time": "2021-09-02T12:59:38.784Z"
   },
   {
    "duration": 786,
    "start_time": "2021-09-02T12:59:46.198Z"
   },
   {
    "duration": 27,
    "start_time": "2021-09-02T12:59:46.986Z"
   },
   {
    "duration": 10,
    "start_time": "2021-09-02T12:59:47.016Z"
   },
   {
    "duration": 36,
    "start_time": "2021-09-02T12:59:47.029Z"
   },
   {
    "duration": 15,
    "start_time": "2021-09-02T12:59:47.067Z"
   },
   {
    "duration": 10,
    "start_time": "2021-09-02T12:59:47.085Z"
   },
   {
    "duration": 16,
    "start_time": "2021-09-02T12:59:47.097Z"
   },
   {
    "duration": 92,
    "start_time": "2021-09-02T12:59:47.117Z"
   },
   {
    "duration": 13,
    "start_time": "2021-09-02T12:59:47.212Z"
   },
   {
    "duration": 28,
    "start_time": "2021-09-02T12:59:47.227Z"
   },
   {
    "duration": 19,
    "start_time": "2021-09-02T12:59:47.257Z"
   },
   {
    "duration": 34,
    "start_time": "2021-09-02T12:59:47.278Z"
   },
   {
    "duration": 34,
    "start_time": "2021-09-02T12:59:47.314Z"
   },
   {
    "duration": 100,
    "start_time": "2021-09-02T12:59:47.351Z"
   },
   {
    "duration": 17,
    "start_time": "2021-09-02T12:59:47.454Z"
   },
   {
    "duration": 37,
    "start_time": "2021-09-02T12:59:47.474Z"
   },
   {
    "duration": 25,
    "start_time": "2021-09-02T12:59:47.514Z"
   },
   {
    "duration": 19,
    "start_time": "2021-09-02T12:59:47.541Z"
   },
   {
    "duration": 1943,
    "start_time": "2021-09-02T12:59:47.562Z"
   },
   {
    "duration": 96,
    "start_time": "2021-09-02T12:59:49.507Z"
   },
   {
    "duration": 8,
    "start_time": "2021-09-02T12:59:49.605Z"
   },
   {
    "duration": 64,
    "start_time": "2021-09-02T12:59:49.615Z"
   },
   {
    "duration": 20,
    "start_time": "2021-09-02T12:59:49.684Z"
   },
   {
    "duration": 59,
    "start_time": "2021-09-02T12:59:49.708Z"
   },
   {
    "duration": 16,
    "start_time": "2021-09-02T12:59:49.769Z"
   },
   {
    "duration": 97,
    "start_time": "2021-09-02T12:59:49.788Z"
   },
   {
    "duration": 78,
    "start_time": "2021-09-02T12:59:49.888Z"
   },
   {
    "duration": 33,
    "start_time": "2021-09-02T12:59:49.973Z"
   },
   {
    "duration": 168,
    "start_time": "2021-09-02T12:59:50.008Z"
   },
   {
    "duration": 12,
    "start_time": "2021-09-02T12:59:50.179Z"
   },
   {
    "duration": 5545,
    "start_time": "2021-09-02T12:59:50.194Z"
   },
   {
    "duration": 24,
    "start_time": "2021-09-02T12:59:55.741Z"
   },
   {
    "duration": 24,
    "start_time": "2021-09-02T12:59:55.767Z"
   },
   {
    "duration": 17,
    "start_time": "2021-09-02T12:59:55.794Z"
   },
   {
    "duration": 10,
    "start_time": "2021-09-02T12:59:55.813Z"
   },
   {
    "duration": 9,
    "start_time": "2021-09-02T12:59:55.826Z"
   },
   {
    "duration": 31,
    "start_time": "2021-09-02T12:59:55.837Z"
   },
   {
    "duration": 26,
    "start_time": "2021-09-02T12:59:55.870Z"
   },
   {
    "duration": 68,
    "start_time": "2021-09-02T12:59:55.898Z"
   },
   {
    "duration": 37,
    "start_time": "2021-09-02T12:59:55.968Z"
   },
   {
    "duration": 73,
    "start_time": "2021-09-02T12:59:56.008Z"
   },
   {
    "duration": 35,
    "start_time": "2021-09-02T12:59:56.084Z"
   },
   {
    "duration": 64,
    "start_time": "2021-09-02T12:59:56.122Z"
   },
   {
    "duration": 14,
    "start_time": "2021-09-02T12:59:56.189Z"
   },
   {
    "duration": 27,
    "start_time": "2021-09-02T13:00:07.839Z"
   },
   {
    "duration": 42,
    "start_time": "2021-09-02T13:11:10.529Z"
   },
   {
    "duration": 11,
    "start_time": "2021-09-02T13:17:40.646Z"
   },
   {
    "duration": 64,
    "start_time": "2021-09-02T13:21:00.147Z"
   },
   {
    "duration": 24,
    "start_time": "2021-09-02T13:34:50.384Z"
   },
   {
    "duration": 22,
    "start_time": "2021-09-02T13:35:07.695Z"
   },
   {
    "duration": 365,
    "start_time": "2021-09-02T13:36:11.204Z"
   },
   {
    "duration": 288,
    "start_time": "2021-09-02T13:36:20.194Z"
   },
   {
    "duration": 287,
    "start_time": "2021-09-02T13:36:36.094Z"
   },
   {
    "duration": 366,
    "start_time": "2021-09-02T13:36:43.242Z"
   },
   {
    "duration": 14,
    "start_time": "2021-09-02T13:36:49.624Z"
   },
   {
    "duration": 14,
    "start_time": "2021-09-02T13:38:15.389Z"
   },
   {
    "duration": 22,
    "start_time": "2021-09-02T13:40:08.149Z"
   },
   {
    "duration": 17,
    "start_time": "2021-09-02T13:40:45.511Z"
   },
   {
    "duration": 257,
    "start_time": "2021-09-02T13:41:23.062Z"
   },
   {
    "duration": 21,
    "start_time": "2021-09-02T13:41:28.030Z"
   },
   {
    "duration": 829,
    "start_time": "2021-09-02T13:57:29.329Z"
   },
   {
    "duration": 27,
    "start_time": "2021-09-02T13:57:30.161Z"
   },
   {
    "duration": 19,
    "start_time": "2021-09-02T13:57:30.191Z"
   },
   {
    "duration": 20,
    "start_time": "2021-09-02T13:57:30.213Z"
   },
   {
    "duration": 24,
    "start_time": "2021-09-02T13:57:30.236Z"
   },
   {
    "duration": 30,
    "start_time": "2021-09-02T13:57:30.263Z"
   },
   {
    "duration": 19,
    "start_time": "2021-09-02T13:57:30.296Z"
   },
   {
    "duration": 50,
    "start_time": "2021-09-02T13:57:30.319Z"
   },
   {
    "duration": 12,
    "start_time": "2021-09-02T13:57:30.372Z"
   },
   {
    "duration": 11,
    "start_time": "2021-09-02T13:57:30.387Z"
   },
   {
    "duration": 21,
    "start_time": "2021-09-02T13:57:30.401Z"
   },
   {
    "duration": 37,
    "start_time": "2021-09-02T13:57:30.425Z"
   },
   {
    "duration": 12,
    "start_time": "2021-09-02T13:57:30.466Z"
   },
   {
    "duration": 92,
    "start_time": "2021-09-02T13:57:30.481Z"
   },
   {
    "duration": 11,
    "start_time": "2021-09-02T13:57:30.575Z"
   },
   {
    "duration": 29,
    "start_time": "2021-09-02T13:57:30.589Z"
   },
   {
    "duration": 11,
    "start_time": "2021-09-02T13:57:30.621Z"
   },
   {
    "duration": 45,
    "start_time": "2021-09-02T13:57:30.634Z"
   },
   {
    "duration": 1371,
    "start_time": "2021-09-02T13:57:30.682Z"
   },
   {
    "duration": 50,
    "start_time": "2021-09-02T13:57:32.062Z"
   },
   {
    "duration": 7,
    "start_time": "2021-09-02T13:57:32.115Z"
   },
   {
    "duration": 45,
    "start_time": "2021-09-02T13:57:32.125Z"
   },
   {
    "duration": 21,
    "start_time": "2021-09-02T13:57:32.175Z"
   },
   {
    "duration": 21,
    "start_time": "2021-09-02T13:57:32.199Z"
   },
   {
    "duration": 11,
    "start_time": "2021-09-02T13:57:32.223Z"
   },
   {
    "duration": 51,
    "start_time": "2021-09-02T13:57:32.236Z"
   },
   {
    "duration": 25,
    "start_time": "2021-09-02T13:57:32.290Z"
   },
   {
    "duration": 61,
    "start_time": "2021-09-02T13:57:32.317Z"
   },
   {
    "duration": 50,
    "start_time": "2021-09-02T13:57:32.381Z"
   },
   {
    "duration": 11,
    "start_time": "2021-09-02T13:57:32.435Z"
   },
   {
    "duration": 5284,
    "start_time": "2021-09-02T13:57:32.462Z"
   },
   {
    "duration": 24,
    "start_time": "2021-09-02T13:57:37.749Z"
   },
   {
    "duration": 15,
    "start_time": "2021-09-02T13:57:37.775Z"
   },
   {
    "duration": 15,
    "start_time": "2021-09-02T13:57:37.793Z"
   },
   {
    "duration": 9,
    "start_time": "2021-09-02T13:57:37.811Z"
   },
   {
    "duration": 4,
    "start_time": "2021-09-02T13:57:37.822Z"
   },
   {
    "duration": 39,
    "start_time": "2021-09-02T13:57:37.829Z"
   },
   {
    "duration": 33,
    "start_time": "2021-09-02T13:57:37.871Z"
   },
   {
    "duration": 34,
    "start_time": "2021-09-02T13:57:37.906Z"
   },
   {
    "duration": 33,
    "start_time": "2021-09-02T13:57:37.962Z"
   },
   {
    "duration": 35,
    "start_time": "2021-09-02T13:57:37.998Z"
   },
   {
    "duration": 58,
    "start_time": "2021-09-02T13:57:38.035Z"
   },
   {
    "duration": 37,
    "start_time": "2021-09-02T13:57:38.095Z"
   },
   {
    "duration": 16,
    "start_time": "2021-09-02T13:57:38.162Z"
   },
   {
    "duration": 19,
    "start_time": "2021-09-02T14:11:21.506Z"
   },
   {
    "duration": 839,
    "start_time": "2021-09-02T14:14:22.489Z"
   },
   {
    "duration": 32,
    "start_time": "2021-09-02T14:14:23.331Z"
   },
   {
    "duration": 12,
    "start_time": "2021-09-02T14:14:23.367Z"
   },
   {
    "duration": 12,
    "start_time": "2021-09-02T14:14:23.394Z"
   },
   {
    "duration": 14,
    "start_time": "2021-09-02T14:14:23.409Z"
   },
   {
    "duration": 47,
    "start_time": "2021-09-02T14:14:23.425Z"
   },
   {
    "duration": 19,
    "start_time": "2021-09-02T14:14:23.476Z"
   },
   {
    "duration": 92,
    "start_time": "2021-09-02T14:14:23.499Z"
   },
   {
    "duration": 12,
    "start_time": "2021-09-02T14:14:23.594Z"
   },
   {
    "duration": 12,
    "start_time": "2021-09-02T14:14:23.609Z"
   },
   {
    "duration": 7,
    "start_time": "2021-09-02T14:14:23.624Z"
   },
   {
    "duration": 43,
    "start_time": "2021-09-02T14:14:23.633Z"
   },
   {
    "duration": 11,
    "start_time": "2021-09-02T14:14:23.679Z"
   },
   {
    "duration": 96,
    "start_time": "2021-09-02T14:14:23.693Z"
   },
   {
    "duration": 12,
    "start_time": "2021-09-02T14:14:23.791Z"
   },
   {
    "duration": 13,
    "start_time": "2021-09-02T14:14:23.805Z"
   },
   {
    "duration": 41,
    "start_time": "2021-09-02T14:14:23.820Z"
   },
   {
    "duration": 28,
    "start_time": "2021-09-02T14:14:23.866Z"
   },
   {
    "duration": 1315,
    "start_time": "2021-09-02T14:14:23.896Z"
   },
   {
    "duration": 74,
    "start_time": "2021-09-02T14:14:25.214Z"
   },
   {
    "duration": 11,
    "start_time": "2021-09-02T14:14:25.291Z"
   },
   {
    "duration": 31,
    "start_time": "2021-09-02T14:14:25.305Z"
   },
   {
    "duration": 41,
    "start_time": "2021-09-02T14:14:25.342Z"
   },
   {
    "duration": 10,
    "start_time": "2021-09-02T14:14:25.386Z"
   },
   {
    "duration": 20,
    "start_time": "2021-09-02T14:14:25.399Z"
   },
   {
    "duration": 58,
    "start_time": "2021-09-02T14:14:25.422Z"
   },
   {
    "duration": 24,
    "start_time": "2021-09-02T14:14:25.482Z"
   },
   {
    "duration": 50,
    "start_time": "2021-09-02T14:14:25.508Z"
   },
   {
    "duration": 52,
    "start_time": "2021-09-02T14:14:25.560Z"
   },
   {
    "duration": 11,
    "start_time": "2021-09-02T14:14:25.614Z"
   },
   {
    "duration": 5337,
    "start_time": "2021-09-02T14:14:25.627Z"
   },
   {
    "duration": 26,
    "start_time": "2021-09-02T14:14:30.968Z"
   },
   {
    "duration": 55,
    "start_time": "2021-09-02T14:14:30.997Z"
   },
   {
    "duration": 37,
    "start_time": "2021-09-02T14:14:31.056Z"
   },
   {
    "duration": 35,
    "start_time": "2021-09-02T14:14:31.097Z"
   },
   {
    "duration": 23,
    "start_time": "2021-09-02T14:14:31.136Z"
   },
   {
    "duration": 20,
    "start_time": "2021-09-02T14:14:31.162Z"
   },
   {
    "duration": 24,
    "start_time": "2021-09-02T14:14:31.185Z"
   },
   {
    "duration": 86,
    "start_time": "2021-09-02T14:14:31.212Z"
   },
   {
    "duration": 74,
    "start_time": "2021-09-02T14:14:31.301Z"
   },
   {
    "duration": 36,
    "start_time": "2021-09-02T14:14:31.377Z"
   },
   {
    "duration": 64,
    "start_time": "2021-09-02T14:14:31.415Z"
   },
   {
    "duration": 38,
    "start_time": "2021-09-02T14:14:31.481Z"
   },
   {
    "duration": 41,
    "start_time": "2021-09-02T14:14:31.521Z"
   },
   {
    "duration": 4632,
    "start_time": "2021-09-02T14:23:21.575Z"
   },
   {
    "duration": 826,
    "start_time": "2021-09-02T14:49:44.353Z"
   },
   {
    "duration": 25,
    "start_time": "2021-09-02T14:49:45.182Z"
   },
   {
    "duration": 10,
    "start_time": "2021-09-02T14:49:45.211Z"
   },
   {
    "duration": 43,
    "start_time": "2021-09-02T14:49:45.225Z"
   },
   {
    "duration": 14,
    "start_time": "2021-09-02T14:49:45.270Z"
   },
   {
    "duration": 15,
    "start_time": "2021-09-02T14:49:45.286Z"
   },
   {
    "duration": 22,
    "start_time": "2021-09-02T14:49:45.303Z"
   },
   {
    "duration": 42,
    "start_time": "2021-09-02T14:49:45.363Z"
   },
   {
    "duration": 15,
    "start_time": "2021-09-02T14:49:45.408Z"
   },
   {
    "duration": 41,
    "start_time": "2021-09-02T14:49:45.426Z"
   },
   {
    "duration": 9,
    "start_time": "2021-09-02T14:49:45.470Z"
   },
   {
    "duration": 15,
    "start_time": "2021-09-02T14:49:45.482Z"
   },
   {
    "duration": 12,
    "start_time": "2021-09-02T14:49:45.499Z"
   },
   {
    "duration": 46,
    "start_time": "2021-09-02T14:49:45.563Z"
   },
   {
    "duration": 13,
    "start_time": "2021-09-02T14:49:45.612Z"
   },
   {
    "duration": 48,
    "start_time": "2021-09-02T14:49:45.628Z"
   },
   {
    "duration": 13,
    "start_time": "2021-09-02T14:49:45.680Z"
   },
   {
    "duration": 20,
    "start_time": "2021-09-02T14:49:45.696Z"
   },
   {
    "duration": 1210,
    "start_time": "2021-09-02T14:49:45.719Z"
   },
   {
    "duration": 65,
    "start_time": "2021-09-02T14:49:46.932Z"
   },
   {
    "duration": 8,
    "start_time": "2021-09-02T14:49:46.999Z"
   },
   {
    "duration": 23,
    "start_time": "2021-09-02T14:49:47.009Z"
   },
   {
    "duration": 37,
    "start_time": "2021-09-02T14:49:47.036Z"
   },
   {
    "duration": 15,
    "start_time": "2021-09-02T14:49:47.077Z"
   },
   {
    "duration": 14,
    "start_time": "2021-09-02T14:49:47.095Z"
   },
   {
    "duration": 30,
    "start_time": "2021-09-02T14:49:47.112Z"
   },
   {
    "duration": 26,
    "start_time": "2021-09-02T14:49:47.161Z"
   },
   {
    "duration": 48,
    "start_time": "2021-09-02T14:49:47.189Z"
   },
   {
    "duration": 52,
    "start_time": "2021-09-02T14:49:47.240Z"
   },
   {
    "duration": 9,
    "start_time": "2021-09-02T14:49:47.295Z"
   },
   {
    "duration": 4418,
    "start_time": "2021-09-02T14:49:47.306Z"
   },
   {
    "duration": 16,
    "start_time": "2021-09-02T14:49:51.727Z"
   },
   {
    "duration": 6,
    "start_time": "2021-09-02T14:49:51.763Z"
   },
   {
    "duration": 22,
    "start_time": "2021-09-02T14:49:51.771Z"
   },
   {
    "duration": 12,
    "start_time": "2021-09-02T14:49:51.795Z"
   },
   {
    "duration": 5,
    "start_time": "2021-09-02T14:49:51.809Z"
   },
   {
    "duration": 37,
    "start_time": "2021-09-02T14:49:51.830Z"
   },
   {
    "duration": 20,
    "start_time": "2021-09-02T14:49:51.869Z"
   },
   {
    "duration": 33,
    "start_time": "2021-09-02T14:49:51.892Z"
   },
   {
    "duration": 64,
    "start_time": "2021-09-02T14:49:51.927Z"
   },
   {
    "duration": 34,
    "start_time": "2021-09-02T14:49:51.993Z"
   },
   {
    "duration": 63,
    "start_time": "2021-09-02T14:49:52.029Z"
   },
   {
    "duration": 37,
    "start_time": "2021-09-02T14:49:52.094Z"
   },
   {
    "duration": 40,
    "start_time": "2021-09-02T14:49:52.133Z"
   },
   {
    "duration": 311,
    "start_time": "2021-09-03T09:38:33.793Z"
   },
   {
    "duration": 993,
    "start_time": "2021-09-03T09:38:48.351Z"
   },
   {
    "duration": 107,
    "start_time": "2021-09-03T09:39:10.252Z"
   },
   {
    "duration": 29,
    "start_time": "2021-09-03T09:39:20.583Z"
   },
   {
    "duration": 7,
    "start_time": "2021-09-03T09:39:26.707Z"
   },
   {
    "duration": 5,
    "start_time": "2021-09-03T09:39:32.340Z"
   },
   {
    "duration": 7351,
    "start_time": "2021-09-03T09:39:37.510Z"
   },
   {
    "duration": 61,
    "start_time": "2021-09-03T09:40:31.062Z"
   },
   {
    "duration": 46,
    "start_time": "2021-09-03T09:40:43.858Z"
   },
   {
    "duration": 292,
    "start_time": "2021-09-03T09:41:06.297Z"
   },
   {
    "duration": 17,
    "start_time": "2021-09-03T09:41:17.136Z"
   },
   {
    "duration": 74,
    "start_time": "2021-09-03T09:52:19.599Z"
   },
   {
    "duration": 17,
    "start_time": "2021-09-03T09:52:19.676Z"
   },
   {
    "duration": 14,
    "start_time": "2021-09-03T09:52:19.696Z"
   },
   {
    "duration": 43,
    "start_time": "2021-09-03T09:52:19.713Z"
   },
   {
    "duration": 25,
    "start_time": "2021-09-03T09:52:19.758Z"
   },
   {
    "duration": 8,
    "start_time": "2021-09-03T09:52:19.786Z"
   },
   {
    "duration": 30,
    "start_time": "2021-09-03T09:52:19.796Z"
   },
   {
    "duration": 61,
    "start_time": "2021-09-03T09:52:19.828Z"
   },
   {
    "duration": 13,
    "start_time": "2021-09-03T09:52:19.893Z"
   },
   {
    "duration": 20,
    "start_time": "2021-09-03T09:52:19.909Z"
   },
   {
    "duration": 28,
    "start_time": "2021-09-03T09:52:19.932Z"
   },
   {
    "duration": 29,
    "start_time": "2021-09-03T09:52:19.963Z"
   },
   {
    "duration": 26,
    "start_time": "2021-09-03T09:52:19.994Z"
   },
   {
    "duration": 48,
    "start_time": "2021-09-03T09:52:20.022Z"
   },
   {
    "duration": 11,
    "start_time": "2021-09-03T09:52:20.073Z"
   },
   {
    "duration": 36,
    "start_time": "2021-09-03T09:52:20.086Z"
   },
   {
    "duration": 26,
    "start_time": "2021-09-03T09:52:20.125Z"
   },
   {
    "duration": 28,
    "start_time": "2021-09-03T09:52:20.155Z"
   },
   {
    "duration": 1177,
    "start_time": "2021-09-03T09:52:20.185Z"
   },
   {
    "duration": 47,
    "start_time": "2021-09-03T09:52:21.365Z"
   },
   {
    "duration": 119,
    "start_time": "2021-09-03T09:52:21.415Z"
   },
   {
    "duration": 36,
    "start_time": "2021-09-03T09:52:21.536Z"
   },
   {
    "duration": 6,
    "start_time": "2021-09-03T09:52:21.574Z"
   },
   {
    "duration": 11,
    "start_time": "2021-09-03T09:52:21.582Z"
   },
   {
    "duration": 7486,
    "start_time": "2021-09-03T09:52:21.595Z"
   },
   {
    "duration": 7317,
    "start_time": "2021-09-03T09:52:29.083Z"
   },
   {
    "duration": 7280,
    "start_time": "2021-09-03T09:52:36.406Z"
   },
   {
    "duration": 46,
    "start_time": "2021-09-03T09:52:43.690Z"
   },
   {
    "duration": 24,
    "start_time": "2021-09-03T09:52:43.739Z"
   },
   {
    "duration": 15,
    "start_time": "2021-09-03T09:52:43.765Z"
   },
   {
    "duration": 17,
    "start_time": "2021-09-03T09:52:43.782Z"
   },
   {
    "duration": 19,
    "start_time": "2021-09-03T09:52:43.801Z"
   },
   {
    "duration": 9,
    "start_time": "2021-09-03T09:52:43.855Z"
   },
   {
    "duration": 8,
    "start_time": "2021-09-03T09:52:43.867Z"
   },
   {
    "duration": 36,
    "start_time": "2021-09-03T09:52:43.877Z"
   },
   {
    "duration": 47,
    "start_time": "2021-09-03T09:52:43.916Z"
   },
   {
    "duration": 39,
    "start_time": "2021-09-03T09:52:43.966Z"
   },
   {
    "duration": 58,
    "start_time": "2021-09-03T09:52:44.008Z"
   },
   {
    "duration": 12,
    "start_time": "2021-09-03T09:52:44.068Z"
   },
   {
    "duration": 4474,
    "start_time": "2021-09-03T09:52:44.082Z"
   },
   {
    "duration": 15,
    "start_time": "2021-09-03T09:52:48.559Z"
   },
   {
    "duration": 11,
    "start_time": "2021-09-03T09:52:48.577Z"
   },
   {
    "duration": 19,
    "start_time": "2021-09-03T09:52:48.591Z"
   },
   {
    "duration": 11,
    "start_time": "2021-09-03T09:52:48.613Z"
   },
   {
    "duration": 30,
    "start_time": "2021-09-03T09:52:48.627Z"
   },
   {
    "duration": 27,
    "start_time": "2021-09-03T09:52:48.660Z"
   },
   {
    "duration": 34,
    "start_time": "2021-09-03T09:52:48.690Z"
   },
   {
    "duration": 38,
    "start_time": "2021-09-03T09:52:48.726Z"
   },
   {
    "duration": 35,
    "start_time": "2021-09-03T09:52:48.767Z"
   },
   {
    "duration": 71,
    "start_time": "2021-09-03T09:52:48.805Z"
   },
   {
    "duration": 12,
    "start_time": "2021-09-03T09:52:48.879Z"
   },
   {
    "duration": 71,
    "start_time": "2021-09-03T09:52:48.894Z"
   },
   {
    "duration": 934,
    "start_time": "2021-09-03T14:28:34.158Z"
   },
   {
    "duration": 30,
    "start_time": "2021-09-03T14:28:35.095Z"
   },
   {
    "duration": 8,
    "start_time": "2021-09-03T14:28:35.128Z"
   },
   {
    "duration": 11,
    "start_time": "2021-09-03T14:28:35.139Z"
   },
   {
    "duration": 13,
    "start_time": "2021-09-03T14:28:35.152Z"
   },
   {
    "duration": 9,
    "start_time": "2021-09-03T14:28:35.167Z"
   },
   {
    "duration": 52,
    "start_time": "2021-09-03T14:28:35.178Z"
   },
   {
    "duration": 40,
    "start_time": "2021-09-03T14:28:35.233Z"
   },
   {
    "duration": 41,
    "start_time": "2021-09-03T14:28:35.277Z"
   },
   {
    "duration": 10,
    "start_time": "2021-09-03T14:28:35.321Z"
   },
   {
    "duration": 9,
    "start_time": "2021-09-03T14:28:35.333Z"
   },
   {
    "duration": 13,
    "start_time": "2021-09-03T14:28:35.344Z"
   },
   {
    "duration": 56,
    "start_time": "2021-09-03T14:28:35.360Z"
   },
   {
    "duration": 46,
    "start_time": "2021-09-03T14:28:35.418Z"
   },
   {
    "duration": 13,
    "start_time": "2021-09-03T14:28:35.466Z"
   },
   {
    "duration": 46,
    "start_time": "2021-09-03T14:28:35.481Z"
   },
   {
    "duration": 11,
    "start_time": "2021-09-03T14:28:35.530Z"
   },
   {
    "duration": 20,
    "start_time": "2021-09-03T14:28:35.544Z"
   },
   {
    "duration": 1244,
    "start_time": "2021-09-03T14:28:35.567Z"
   },
   {
    "duration": 51,
    "start_time": "2021-09-03T14:28:36.817Z"
   },
   {
    "duration": 128,
    "start_time": "2021-09-03T14:28:36.871Z"
   },
   {
    "duration": 36,
    "start_time": "2021-09-03T14:28:37.001Z"
   },
   {
    "duration": 5,
    "start_time": "2021-09-03T14:28:37.040Z"
   },
   {
    "duration": 10,
    "start_time": "2021-09-03T14:28:37.048Z"
   },
   {
    "duration": 7833,
    "start_time": "2021-09-03T14:28:37.061Z"
   },
   {
    "duration": 7416,
    "start_time": "2021-09-03T14:28:44.896Z"
   },
   {
    "duration": 7554,
    "start_time": "2021-09-03T14:28:52.320Z"
   },
   {
    "duration": 56,
    "start_time": "2021-09-03T14:28:59.877Z"
   },
   {
    "duration": 13,
    "start_time": "2021-09-03T14:28:59.936Z"
   },
   {
    "duration": 27,
    "start_time": "2021-09-03T14:28:59.951Z"
   },
   {
    "duration": 19,
    "start_time": "2021-09-03T14:28:59.980Z"
   },
   {
    "duration": 30,
    "start_time": "2021-09-03T14:29:00.001Z"
   },
   {
    "duration": 10,
    "start_time": "2021-09-03T14:29:00.034Z"
   },
   {
    "duration": 26,
    "start_time": "2021-09-03T14:29:00.047Z"
   },
   {
    "duration": 47,
    "start_time": "2021-09-03T14:29:00.076Z"
   },
   {
    "duration": 22,
    "start_time": "2021-09-03T14:29:00.125Z"
   },
   {
    "duration": 40,
    "start_time": "2021-09-03T14:29:00.150Z"
   },
   {
    "duration": 65,
    "start_time": "2021-09-03T14:29:00.193Z"
   },
   {
    "duration": 10,
    "start_time": "2021-09-03T14:29:00.260Z"
   },
   {
    "duration": 4579,
    "start_time": "2021-09-03T14:29:00.273Z"
   },
   {
    "duration": 17,
    "start_time": "2021-09-03T14:29:04.855Z"
   },
   {
    "duration": 8,
    "start_time": "2021-09-03T14:29:04.874Z"
   },
   {
    "duration": 41,
    "start_time": "2021-09-03T14:29:04.884Z"
   },
   {
    "duration": 10,
    "start_time": "2021-09-03T14:29:04.927Z"
   },
   {
    "duration": 5,
    "start_time": "2021-09-03T14:29:04.940Z"
   },
   {
    "duration": 14,
    "start_time": "2021-09-03T14:29:04.947Z"
   },
   {
    "duration": 58,
    "start_time": "2021-09-03T14:29:04.964Z"
   },
   {
    "duration": 37,
    "start_time": "2021-09-03T14:29:05.024Z"
   },
   {
    "duration": 65,
    "start_time": "2021-09-03T14:29:05.064Z"
   },
   {
    "duration": 38,
    "start_time": "2021-09-03T14:29:05.131Z"
   },
   {
    "duration": 13,
    "start_time": "2021-09-03T14:29:05.171Z"
   },
   {
    "duration": 81,
    "start_time": "2021-09-03T14:29:05.186Z"
   },
   {
    "duration": 77,
    "start_time": "2021-09-03T14:29:05.270Z"
   },
   {
    "duration": 66,
    "start_time": "2021-09-03T14:29:05.350Z"
   },
   {
    "duration": 19,
    "start_time": "2021-09-03T14:29:05.418Z"
   },
   {
    "duration": 198,
    "start_time": "2021-09-06T07:08:31.058Z"
   },
   {
    "duration": 630,
    "start_time": "2021-09-06T07:08:38.073Z"
   },
   {
    "duration": 15,
    "start_time": "2021-09-06T07:08:38.705Z"
   },
   {
    "duration": 5,
    "start_time": "2021-09-06T07:08:38.722Z"
   },
   {
    "duration": 8,
    "start_time": "2021-09-06T07:08:38.728Z"
   },
   {
    "duration": 13,
    "start_time": "2021-09-06T07:08:38.738Z"
   },
   {
    "duration": 5,
    "start_time": "2021-09-06T07:08:38.752Z"
   },
   {
    "duration": 34,
    "start_time": "2021-09-06T07:08:38.759Z"
   },
   {
    "duration": 25,
    "start_time": "2021-09-06T07:08:38.795Z"
   },
   {
    "duration": 8,
    "start_time": "2021-09-06T07:08:38.822Z"
   },
   {
    "duration": 6,
    "start_time": "2021-09-06T07:08:38.832Z"
   },
   {
    "duration": 5,
    "start_time": "2021-09-06T07:08:38.840Z"
   },
   {
    "duration": 45,
    "start_time": "2021-09-06T07:08:38.846Z"
   },
   {
    "duration": 9,
    "start_time": "2021-09-06T07:08:38.892Z"
   },
   {
    "duration": 31,
    "start_time": "2021-09-06T07:08:38.903Z"
   },
   {
    "duration": 8,
    "start_time": "2021-09-06T07:08:38.935Z"
   },
   {
    "duration": 9,
    "start_time": "2021-09-06T07:08:38.944Z"
   },
   {
    "duration": 32,
    "start_time": "2021-09-06T07:08:38.955Z"
   },
   {
    "duration": 13,
    "start_time": "2021-09-06T07:08:38.989Z"
   },
   {
    "duration": 717,
    "start_time": "2021-09-06T07:08:39.003Z"
   },
   {
    "duration": 31,
    "start_time": "2021-09-06T07:08:39.722Z"
   },
   {
    "duration": 77,
    "start_time": "2021-09-06T07:08:39.754Z"
   },
   {
    "duration": 17,
    "start_time": "2021-09-06T07:08:39.833Z"
   },
   {
    "duration": 4,
    "start_time": "2021-09-06T07:08:39.853Z"
   },
   {
    "duration": 9,
    "start_time": "2021-09-06T07:08:39.860Z"
   },
   {
    "duration": 3766,
    "start_time": "2021-09-06T07:08:39.885Z"
   },
   {
    "duration": 3516,
    "start_time": "2021-09-06T07:08:43.653Z"
   },
   {
    "duration": 3710,
    "start_time": "2021-09-06T07:08:47.170Z"
   },
   {
    "duration": 4,
    "start_time": "2021-09-06T07:08:50.884Z"
   },
   {
    "duration": 18,
    "start_time": "2021-09-06T07:08:50.889Z"
   },
   {
    "duration": 5,
    "start_time": "2021-09-06T07:08:50.908Z"
   },
   {
    "duration": 10,
    "start_time": "2021-09-06T07:08:50.915Z"
   },
   {
    "duration": 12,
    "start_time": "2021-09-06T07:08:50.926Z"
   },
   {
    "duration": 6,
    "start_time": "2021-09-06T07:08:50.939Z"
   },
   {
    "duration": 6,
    "start_time": "2021-09-06T07:08:50.946Z"
   },
   {
    "duration": 45,
    "start_time": "2021-09-06T07:08:50.953Z"
   },
   {
    "duration": 15,
    "start_time": "2021-09-06T07:08:50.999Z"
   },
   {
    "duration": 18,
    "start_time": "2021-09-06T07:08:51.016Z"
   },
   {
    "duration": 50,
    "start_time": "2021-09-06T07:08:51.035Z"
   },
   {
    "duration": 6,
    "start_time": "2021-09-06T07:08:51.087Z"
   },
   {
    "duration": 3110,
    "start_time": "2021-09-06T07:08:51.095Z"
   },
   {
    "duration": 10,
    "start_time": "2021-09-06T07:08:54.207Z"
   },
   {
    "duration": 8,
    "start_time": "2021-09-06T07:08:54.219Z"
   },
   {
    "duration": 14,
    "start_time": "2021-09-06T07:08:54.228Z"
   },
   {
    "duration": 7,
    "start_time": "2021-09-06T07:08:54.243Z"
   },
   {
    "duration": 3,
    "start_time": "2021-09-06T07:08:54.251Z"
   },
   {
    "duration": 29,
    "start_time": "2021-09-06T07:08:54.256Z"
   },
   {
    "duration": 14,
    "start_time": "2021-09-06T07:08:54.287Z"
   },
   {
    "duration": 22,
    "start_time": "2021-09-06T07:08:54.302Z"
   },
   {
    "duration": 19,
    "start_time": "2021-09-06T07:08:54.326Z"
   },
   {
    "duration": 44,
    "start_time": "2021-09-06T07:08:54.347Z"
   },
   {
    "duration": 7,
    "start_time": "2021-09-06T07:08:54.392Z"
   },
   {
    "duration": 28,
    "start_time": "2021-09-06T07:08:54.400Z"
   },
   {
    "duration": 19,
    "start_time": "2021-09-06T07:08:54.429Z"
   },
   {
    "duration": 51,
    "start_time": "2021-09-06T07:08:54.450Z"
   },
   {
    "duration": 8,
    "start_time": "2021-09-06T07:08:54.503Z"
   },
   {
    "duration": 12,
    "start_time": "2021-09-06T07:08:56.635Z"
   },
   {
    "duration": 20,
    "start_time": "2021-09-06T08:38:10.634Z"
   },
   {
    "duration": 4,
    "start_time": "2021-09-06T08:38:11.382Z"
   },
   {
    "duration": 4,
    "start_time": "2021-09-06T08:38:12.323Z"
   },
   {
    "duration": 3619,
    "start_time": "2021-09-06T08:38:13.234Z"
   },
   {
    "duration": 3667,
    "start_time": "2021-09-06T08:38:20.868Z"
   },
   {
    "duration": 3656,
    "start_time": "2021-09-06T08:38:25.653Z"
   },
   {
    "duration": 30,
    "start_time": "2021-09-06T08:38:31.284Z"
   },
   {
    "duration": 18,
    "start_time": "2021-09-06T11:20:47.174Z"
   },
   {
    "duration": 3865,
    "start_time": "2021-09-06T12:04:27.938Z"
   },
   {
    "duration": 1103,
    "start_time": "2021-09-06T12:04:55.502Z"
   },
   {
    "duration": 3762,
    "start_time": "2021-09-06T12:06:19.459Z"
   },
   {
    "duration": 15,
    "start_time": "2021-09-06T12:06:45.760Z"
   },
   {
    "duration": 25,
    "start_time": "2021-09-06T12:07:07.086Z"
   },
   {
    "duration": 11,
    "start_time": "2021-09-06T12:16:48.994Z"
   },
   {
    "duration": 244,
    "start_time": "2021-09-07T09:35:24.247Z"
   },
   {
    "duration": 181,
    "start_time": "2021-09-07T09:35:46.277Z"
   },
   {
    "duration": 196,
    "start_time": "2021-09-07T10:10:47.602Z"
   },
   {
    "duration": 5969,
    "start_time": "2021-09-08T07:04:43.792Z"
   },
   {
    "duration": 5978,
    "start_time": "2021-09-08T07:05:28.614Z"
   },
   {
    "duration": 3282,
    "start_time": "2021-09-08T07:22:29.291Z"
   },
   {
    "duration": 3159,
    "start_time": "2021-09-08T09:36:40.870Z"
   },
   {
    "duration": 2500,
    "start_time": "2021-09-08T09:36:58.881Z"
   },
   {
    "duration": 2820,
    "start_time": "2021-09-08T09:37:18.068Z"
   },
   {
    "duration": 2445,
    "start_time": "2021-09-08T09:37:43.858Z"
   },
   {
    "duration": 2541,
    "start_time": "2021-09-08T09:38:00.041Z"
   },
   {
    "duration": 55,
    "start_time": "2021-09-08T09:38:12.710Z"
   },
   {
    "duration": 2606,
    "start_time": "2021-09-08T09:38:22.049Z"
   },
   {
    "duration": 247,
    "start_time": "2021-09-08T09:38:52.713Z"
   },
   {
    "duration": 52,
    "start_time": "2021-09-08T09:39:02.601Z"
   },
   {
    "duration": 10,
    "start_time": "2021-09-08T09:39:48.296Z"
   },
   {
    "duration": 3582,
    "start_time": "2021-09-08T13:27:08.722Z"
   },
   {
    "duration": 631,
    "start_time": "2021-09-08T13:27:38.378Z"
   },
   {
    "duration": 18,
    "start_time": "2021-09-08T13:27:39.011Z"
   },
   {
    "duration": 23,
    "start_time": "2021-09-08T13:27:39.030Z"
   },
   {
    "duration": 36,
    "start_time": "2021-09-08T13:27:39.055Z"
   },
   {
    "duration": 17,
    "start_time": "2021-09-08T13:27:39.093Z"
   },
   {
    "duration": 21,
    "start_time": "2021-09-08T13:27:39.111Z"
   },
   {
    "duration": 33,
    "start_time": "2021-09-08T13:27:39.133Z"
   },
   {
    "duration": 39,
    "start_time": "2021-09-08T13:27:39.168Z"
   },
   {
    "duration": 9,
    "start_time": "2021-09-08T13:27:39.209Z"
   },
   {
    "duration": 6,
    "start_time": "2021-09-08T13:27:39.220Z"
   },
   {
    "duration": 7,
    "start_time": "2021-09-08T13:27:39.228Z"
   },
   {
    "duration": 10,
    "start_time": "2021-09-08T13:27:39.237Z"
   },
   {
    "duration": 7,
    "start_time": "2021-09-08T13:27:39.249Z"
   },
   {
    "duration": 30,
    "start_time": "2021-09-08T13:27:39.285Z"
   },
   {
    "duration": 9,
    "start_time": "2021-09-08T13:27:39.317Z"
   },
   {
    "duration": 10,
    "start_time": "2021-09-08T13:27:39.328Z"
   },
   {
    "duration": 7,
    "start_time": "2021-09-08T13:27:39.339Z"
   },
   {
    "duration": 46,
    "start_time": "2021-09-08T13:27:39.347Z"
   },
   {
    "duration": 717,
    "start_time": "2021-09-08T13:27:39.395Z"
   },
   {
    "duration": 29,
    "start_time": "2021-09-08T13:27:40.114Z"
   },
   {
    "duration": 82,
    "start_time": "2021-09-08T13:27:40.145Z"
   },
   {
    "duration": 20,
    "start_time": "2021-09-08T13:27:40.228Z"
   },
   {
    "duration": 19,
    "start_time": "2021-09-08T13:27:40.249Z"
   },
   {
    "duration": 34,
    "start_time": "2021-09-08T13:27:40.270Z"
   },
   {
    "duration": 3505,
    "start_time": "2021-09-08T13:27:40.306Z"
   },
   {
    "duration": 3525,
    "start_time": "2021-09-08T13:27:43.813Z"
   },
   {
    "duration": 3790,
    "start_time": "2021-09-08T13:27:47.342Z"
   },
   {
    "duration": 28,
    "start_time": "2021-09-08T13:27:51.134Z"
   },
   {
    "duration": 8,
    "start_time": "2021-09-08T13:27:51.164Z"
   },
   {
    "duration": 5,
    "start_time": "2021-09-08T13:27:51.185Z"
   },
   {
    "duration": 11,
    "start_time": "2021-09-08T13:27:51.192Z"
   },
   {
    "duration": 12,
    "start_time": "2021-09-08T13:27:51.204Z"
   },
   {
    "duration": 7,
    "start_time": "2021-09-08T13:27:51.218Z"
   },
   {
    "duration": 6,
    "start_time": "2021-09-08T13:27:51.226Z"
   },
   {
    "duration": 18,
    "start_time": "2021-09-08T13:27:51.233Z"
   },
   {
    "duration": 47,
    "start_time": "2021-09-08T13:27:51.252Z"
   },
   {
    "duration": 18,
    "start_time": "2021-09-08T13:27:51.302Z"
   },
   {
    "duration": 33,
    "start_time": "2021-09-08T13:27:51.322Z"
   },
   {
    "duration": 34,
    "start_time": "2021-09-08T13:27:51.356Z"
   },
   {
    "duration": 3271,
    "start_time": "2021-09-08T13:27:51.392Z"
   },
   {
    "duration": 21,
    "start_time": "2021-09-08T13:27:54.665Z"
   },
   {
    "duration": 10,
    "start_time": "2021-09-08T13:27:54.688Z"
   },
   {
    "duration": 10,
    "start_time": "2021-09-08T13:27:54.699Z"
   },
   {
    "duration": 7,
    "start_time": "2021-09-08T13:27:54.710Z"
   },
   {
    "duration": 2,
    "start_time": "2021-09-08T13:27:54.719Z"
   },
   {
    "duration": 7,
    "start_time": "2021-09-08T13:27:54.723Z"
   },
   {
    "duration": 15,
    "start_time": "2021-09-08T13:27:54.731Z"
   },
   {
    "duration": 50,
    "start_time": "2021-09-08T13:27:54.747Z"
   },
   {
    "duration": 19,
    "start_time": "2021-09-08T13:27:54.798Z"
   },
   {
    "duration": 21,
    "start_time": "2021-09-08T13:27:54.818Z"
   },
   {
    "duration": 8,
    "start_time": "2021-09-08T13:27:54.840Z"
   },
   {
    "duration": 53,
    "start_time": "2021-09-08T13:27:54.850Z"
   },
   {
    "duration": 20,
    "start_time": "2021-09-08T13:27:54.904Z"
   },
   {
    "duration": 23,
    "start_time": "2021-09-08T13:27:54.925Z"
   },
   {
    "duration": 40,
    "start_time": "2021-09-08T13:27:54.949Z"
   },
   {
    "duration": 62,
    "start_time": "2021-09-09T09:40:07.077Z"
   },
   {
    "duration": 296,
    "start_time": "2021-09-09T09:40:15.473Z"
   },
   {
    "duration": 25,
    "start_time": "2021-09-09T09:40:22.912Z"
   },
   {
    "duration": 29,
    "start_time": "2021-09-09T09:40:55.991Z"
   },
   {
    "duration": 32,
    "start_time": "2021-09-09T09:41:17.670Z"
   },
   {
    "duration": 41,
    "start_time": "2021-09-09T09:42:21.700Z"
   },
   {
    "duration": 32,
    "start_time": "2021-09-09T09:42:53.032Z"
   },
   {
    "duration": 227,
    "start_time": "2021-09-13T14:25:47.923Z"
   },
   {
    "duration": 636,
    "start_time": "2021-09-13T14:25:55.561Z"
   },
   {
    "duration": 17,
    "start_time": "2021-09-13T14:25:56.861Z"
   },
   {
    "duration": 815,
    "start_time": "2021-09-19T06:48:58.318Z"
   },
   {
    "duration": 25,
    "start_time": "2021-09-19T06:48:59.136Z"
   },
   {
    "duration": 19,
    "start_time": "2021-09-19T06:48:59.164Z"
   },
   {
    "duration": 22,
    "start_time": "2021-09-19T06:48:59.186Z"
   },
   {
    "duration": 21,
    "start_time": "2021-09-19T06:48:59.211Z"
   },
   {
    "duration": 16,
    "start_time": "2021-09-19T06:48:59.234Z"
   },
   {
    "duration": 20,
    "start_time": "2021-09-19T06:48:59.255Z"
   },
   {
    "duration": 42,
    "start_time": "2021-09-19T06:48:59.279Z"
   },
   {
    "duration": 31,
    "start_time": "2021-09-19T06:48:59.324Z"
   },
   {
    "duration": 10,
    "start_time": "2021-09-19T06:48:59.358Z"
   },
   {
    "duration": 25,
    "start_time": "2021-09-19T06:48:59.370Z"
   },
   {
    "duration": 22,
    "start_time": "2021-09-19T06:48:59.398Z"
   },
   {
    "duration": 36,
    "start_time": "2021-09-19T06:48:59.423Z"
   },
   {
    "duration": 47,
    "start_time": "2021-09-19T06:48:59.462Z"
   },
   {
    "duration": 44,
    "start_time": "2021-09-19T06:48:59.512Z"
   },
   {
    "duration": 13,
    "start_time": "2021-09-19T06:48:59.559Z"
   },
   {
    "duration": 24,
    "start_time": "2021-09-19T06:48:59.575Z"
   },
   {
    "duration": 33,
    "start_time": "2021-09-19T06:48:59.601Z"
   },
   {
    "duration": 1251,
    "start_time": "2021-09-19T06:48:59.653Z"
   },
   {
    "duration": 59,
    "start_time": "2021-09-19T06:49:00.907Z"
   },
   {
    "duration": 114,
    "start_time": "2021-09-19T06:49:00.969Z"
   },
   {
    "duration": 30,
    "start_time": "2021-09-19T06:49:01.086Z"
   },
   {
    "duration": 32,
    "start_time": "2021-09-19T06:49:01.124Z"
   },
   {
    "duration": 80,
    "start_time": "2021-09-19T06:49:01.160Z"
   },
   {
    "duration": 7207,
    "start_time": "2021-09-19T06:49:01.243Z"
   },
   {
    "duration": 7605,
    "start_time": "2021-09-19T06:49:08.455Z"
   },
   {
    "duration": 8034,
    "start_time": "2021-09-19T06:49:16.062Z"
   },
   {
    "duration": 60,
    "start_time": "2021-09-19T06:49:24.098Z"
   },
   {
    "duration": 18,
    "start_time": "2021-09-19T06:49:24.161Z"
   },
   {
    "duration": 19,
    "start_time": "2021-09-19T06:49:24.181Z"
   },
   {
    "duration": 28,
    "start_time": "2021-09-19T06:49:24.202Z"
   },
   {
    "duration": 24,
    "start_time": "2021-09-19T06:49:24.253Z"
   },
   {
    "duration": 11,
    "start_time": "2021-09-19T06:49:24.280Z"
   },
   {
    "duration": 10,
    "start_time": "2021-09-19T06:49:24.294Z"
   },
   {
    "duration": 68,
    "start_time": "2021-09-19T06:49:24.306Z"
   },
   {
    "duration": 26,
    "start_time": "2021-09-19T06:49:24.377Z"
   },
   {
    "duration": 53,
    "start_time": "2021-09-19T06:49:24.405Z"
   },
   {
    "duration": 49,
    "start_time": "2021-09-19T06:49:24.460Z"
   },
   {
    "duration": 10,
    "start_time": "2021-09-19T06:49:24.511Z"
   },
   {
    "duration": 4568,
    "start_time": "2021-09-19T06:49:24.523Z"
   },
   {
    "duration": 15,
    "start_time": "2021-09-19T06:49:29.094Z"
   },
   {
    "duration": 13,
    "start_time": "2021-09-19T06:49:29.111Z"
   },
   {
    "duration": 30,
    "start_time": "2021-09-19T06:49:29.127Z"
   },
   {
    "duration": 10,
    "start_time": "2021-09-19T06:49:29.159Z"
   },
   {
    "duration": 5,
    "start_time": "2021-09-19T06:49:29.171Z"
   },
   {
    "duration": 11,
    "start_time": "2021-09-19T06:49:29.178Z"
   },
   {
    "duration": 24,
    "start_time": "2021-09-19T06:49:29.191Z"
   },
   {
    "duration": 67,
    "start_time": "2021-09-19T06:49:29.218Z"
   },
   {
    "duration": 32,
    "start_time": "2021-09-19T06:49:29.287Z"
   },
   {
    "duration": 61,
    "start_time": "2021-09-19T06:49:29.321Z"
   },
   {
    "duration": 12,
    "start_time": "2021-09-19T06:49:29.384Z"
   },
   {
    "duration": 82,
    "start_time": "2021-09-19T06:49:29.399Z"
   },
   {
    "duration": 68,
    "start_time": "2021-09-19T06:49:29.485Z"
   },
   {
    "duration": 41,
    "start_time": "2021-09-19T06:49:29.556Z"
   },
   {
    "duration": 17,
    "start_time": "2021-09-19T06:49:29.600Z"
   }
  ],
  "kernelspec": {
   "display_name": "Python 3 (ipykernel)",
   "language": "python",
   "name": "python3"
  },
  "language_info": {
   "codemirror_mode": {
    "name": "ipython",
    "version": 3
   },
   "file_extension": ".py",
   "mimetype": "text/x-python",
   "name": "python",
   "nbconvert_exporter": "python",
   "pygments_lexer": "ipython3",
   "version": "3.9.7"
  },
  "toc": {
   "base_numbering": 1,
   "nav_menu": {
    "height": "336px",
    "width": "655px"
   },
   "number_sections": true,
   "sideBar": true,
   "skip_h1_title": true,
   "title_cell": "Содержание",
   "title_sidebar": "Contents",
   "toc_cell": true,
   "toc_position": {
    "height": "calc(100% - 180px)",
    "left": "10px",
    "top": "150px",
    "width": "246px"
   },
   "toc_section_display": true,
   "toc_window_display": true
  }
 },
 "nbformat": 4,
 "nbformat_minor": 2
}

{
 "cells": [
  {
   "cell_type": "markdown",
   "metadata": {
    "id": "ykkT3lDb8pD8"
   },
   "source": [
    "# Разметка комментариев на токсичность"
   ]
  },
  {
   "cell_type": "markdown",
   "metadata": {
    "id": "bFOrhzQZ8pEB"
   },
   "source": [
    "Интернет-магазин эксперементирует с новым сервисом - пользователи могут редактировать описания товаров по принципу wiki: предлагать свои правки и комментировать чужие. Чтобы упростить процесс утверждения правок, потребуется инструмент, который будет искать токсичные комментарии и отправлять их на модерацию человеку."
   ]
  },
  {
   "cell_type": "markdown",
   "metadata": {
    "id": "8Ck3Olv7b_C1"
   },
   "source": [
    "<h1>Содержание<span class=\"tocSkip\"></span></h1>\n",
    "<div class=\"toc\"><ul class=\"toc-item\"><li><span><a href=\"#Обзор-данных\" data-toc-modified-id=\"Обзор-данных-1\"><span class=\"toc-item-num\">1&nbsp;&nbsp;</span>Обзор данных</a></span><ul class=\"toc-item\"><li><span><a href=\"#Вывод\" data-toc-modified-id=\"Вывод-1.1\"><span class=\"toc-item-num\">1.1&nbsp;&nbsp;</span>Вывод</a></span></li></ul></li><li><span><a href=\"#Модель\" data-toc-modified-id=\"Модель-2\"><span class=\"toc-item-num\">2&nbsp;&nbsp;</span>Модель</a></span><ul class=\"toc-item\"><li><span><a href=\"#Подготовка-выборок\" data-toc-modified-id=\"Подготовка-выборок-2.1\"><span class=\"toc-item-num\">2.1&nbsp;&nbsp;</span>Подготовка выборок</a></span></li><li><span><a href=\"#Балансировка-классов\" data-toc-modified-id=\"Балансировка-классов-2.2\"><span class=\"toc-item-num\">2.2&nbsp;&nbsp;</span>Балансировка классов</a></span></li><li><span><a href=\"#Модель\" data-toc-modified-id=\"Модель-2.3\"><span class=\"toc-item-num\">2.3&nbsp;&nbsp;</span>Модель</a></span></li><li><span><a href=\"#Обучение-и-проверка-на-тестовой-выборке\" data-toc-modified-id=\"Обучение-и-проверка-на-тестовой-выборке-2.4\"><span class=\"toc-item-num\">2.4&nbsp;&nbsp;</span>Обучение и проверка на тестовой выборке</a></span></li><li><span><a href=\"#Проверка-произвольных-текстов\" data-toc-modified-id=\"Проверка-произвольных-текстов-2.5\"><span class=\"toc-item-num\">2.5&nbsp;&nbsp;</span>Проверка произвольных текстов</a></span></li></ul></li><li><span><a href=\"#Выводы\" data-toc-modified-id=\"Выводы-3\"><span class=\"toc-item-num\">3&nbsp;&nbsp;</span>Выводы</a></span></li></ul></div>"
   ]
  },
  {
   "cell_type": "markdown",
   "metadata": {
    "id": "egZTypo88pEE"
   },
   "source": [
    "## Обзор данных"
   ]
  },
  {
   "cell_type": "code",
   "execution_count": 1,
   "metadata": {
    "colab": {
     "base_uri": "https://localhost:8080/"
    },
    "id": "cXodqLIQ-G4w",
    "outputId": "35fdbb71-4044-43bb-cc3f-bb9e966d470e"
   },
   "outputs": [],
   "source": [
    "# Мы будем использовать skorch, а также нам понадобятся transformers версии не ниже 4.0.0\n",
    "# %pip install skorch transformers --user"
   ]
  },
  {
   "cell_type": "code",
   "execution_count": 2,
   "metadata": {
    "id": "OGqhWgnf8pEE"
   },
   "outputs": [],
   "source": [
    "# Импортируем необходимые модули:\n",
    "import re\n",
    "\n",
    "import pandas as pd\n",
    "\n",
    "import torch\n",
    "from torch import nn\n",
    "from torch.optim import Adam\n",
    "from torch.utils.data import Dataset, WeightedRandomSampler\n",
    "from transformers import BertModel, BertTokenizer\n",
    "\n",
    "from skorch import NeuralNetClassifier\n",
    "from skorch.helper import predefined_split\n",
    "from skorch.callbacks import Checkpoint\n",
    "\n",
    "from sklearn.model_selection import train_test_split\n",
    "from sklearn.metrics import accuracy_score, f1_score, roc_auc_score, average_precision_score, confusion_matrix, roc_curve, precision_recall_curve\n",
    "\n",
    "import numpy as np\n",
    "import matplotlib.pyplot as plt\n",
    "import seaborn as sns"
   ]
  },
  {
   "cell_type": "code",
   "execution_count": 3,
   "metadata": {
    "id": "_M-Yzp5T8pEG"
   },
   "outputs": [],
   "source": [
    "# Зафиксируем состояние генератора случайных чисел для воспроизведения результатов:\n",
    "RANDOM_STATE = 177013\n",
    "torch.manual_seed(RANDOM_STATE);"
   ]
  },
  {
   "cell_type": "markdown",
   "metadata": {
    "id": "BWzAktQebDb4"
   },
   "source": [
    "Ознакомимся с общей информацией и первыми строками таблицы:"
   ]
  },
  {
   "cell_type": "code",
   "execution_count": 4,
   "metadata": {
    "id": "MA4SB7eZ8pEG"
   },
   "outputs": [],
   "source": [
    "df = pd.read_csv('/datasets/toxic_comments.csv')"
   ]
  },
  {
   "cell_type": "code",
   "execution_count": 5,
   "metadata": {
    "colab": {
     "base_uri": "https://localhost:8080/"
    },
    "id": "eDPWc0FI8pEH",
    "outputId": "fd876809-1b2a-4af4-d92b-d5cb07223893"
   },
   "outputs": [
    {
     "name": "stdout",
     "output_type": "stream",
     "text": [
      "<class 'pandas.core.frame.DataFrame'>\n",
      "RangeIndex: 159571 entries, 0 to 159570\n",
      "Data columns (total 2 columns):\n",
      " #   Column  Non-Null Count   Dtype \n",
      "---  ------  --------------   ----- \n",
      " 0   text    159571 non-null  object\n",
      " 1   toxic   159571 non-null  int64 \n",
      "dtypes: int64(1), object(1)\n",
      "memory usage: 2.4+ MB\n"
     ]
    }
   ],
   "source": [
    "df.info()"
   ]
  },
  {
   "cell_type": "code",
   "execution_count": 6,
   "metadata": {
    "colab": {
     "base_uri": "https://localhost:8080/",
     "height": 204
    },
    "id": "vkHjXJtF8pEJ",
    "outputId": "28ab1dfb-15cc-4e76-f591-d1f4bc247885"
   },
   "outputs": [
    {
     "data": {
      "text/html": [
       "<div>\n",
       "<style scoped>\n",
       "    .dataframe tbody tr th:only-of-type {\n",
       "        vertical-align: middle;\n",
       "    }\n",
       "\n",
       "    .dataframe tbody tr th {\n",
       "        vertical-align: top;\n",
       "    }\n",
       "\n",
       "    .dataframe thead th {\n",
       "        text-align: right;\n",
       "    }\n",
       "</style>\n",
       "<table border=\"1\" class=\"dataframe\">\n",
       "  <thead>\n",
       "    <tr style=\"text-align: right;\">\n",
       "      <th></th>\n",
       "      <th>text</th>\n",
       "      <th>toxic</th>\n",
       "    </tr>\n",
       "  </thead>\n",
       "  <tbody>\n",
       "    <tr>\n",
       "      <th>0</th>\n",
       "      <td>Explanation\\nWhy the edits made under my usern...</td>\n",
       "      <td>0</td>\n",
       "    </tr>\n",
       "    <tr>\n",
       "      <th>1</th>\n",
       "      <td>D'aww! He matches this background colour I'm s...</td>\n",
       "      <td>0</td>\n",
       "    </tr>\n",
       "    <tr>\n",
       "      <th>2</th>\n",
       "      <td>Hey man, I'm really not trying to edit war. It...</td>\n",
       "      <td>0</td>\n",
       "    </tr>\n",
       "    <tr>\n",
       "      <th>3</th>\n",
       "      <td>\"\\nMore\\nI can't make any real suggestions on ...</td>\n",
       "      <td>0</td>\n",
       "    </tr>\n",
       "    <tr>\n",
       "      <th>4</th>\n",
       "      <td>You, sir, are my hero. Any chance you remember...</td>\n",
       "      <td>0</td>\n",
       "    </tr>\n",
       "  </tbody>\n",
       "</table>\n",
       "</div>"
      ],
      "text/plain": [
       "                                                text  toxic\n",
       "0  Explanation\\nWhy the edits made under my usern...      0\n",
       "1  D'aww! He matches this background colour I'm s...      0\n",
       "2  Hey man, I'm really not trying to edit war. It...      0\n",
       "3  \"\\nMore\\nI can't make any real suggestions on ...      0\n",
       "4  You, sir, are my hero. Any chance you remember...      0"
      ]
     },
     "execution_count": 6,
     "metadata": {},
     "output_type": "execute_result"
    }
   ],
   "source": [
    "df.head()"
   ]
  },
  {
   "cell_type": "code",
   "execution_count": 7,
   "metadata": {
    "colab": {
     "base_uri": "https://localhost:8080/"
    },
    "id": "d27nyZ_0bs1V",
    "outputId": "d8c62e64-611e-4885-ef1e-aae5de4472f7"
   },
   "outputs": [
    {
     "data": {
      "text/plain": [
       "0"
      ]
     },
     "execution_count": 7,
     "metadata": {},
     "output_type": "execute_result"
    }
   ],
   "source": [
    "df.duplicated().sum()"
   ]
  },
  {
   "cell_type": "markdown",
   "metadata": {
    "id": "CAjPN-v3bTbX"
   },
   "source": [
    "### Вывод"
   ]
  },
  {
   "cell_type": "markdown",
   "metadata": {
    "id": "io2ihCUMbV-Y"
   },
   "source": [
    "В датасете 159571 комментарий и лишь два столбца: тексты (англоязычные) и соответствующая бинарная классификация. Нет ни дублированных строк, ни пропущенных значений. Чего еще в датасете нет, так это баланса классов: на положительный класс приходится лишь около 10% наблюдений."
   ]
  },
  {
   "cell_type": "code",
   "execution_count": 8,
   "metadata": {
    "colab": {
     "base_uri": "https://localhost:8080/",
     "height": 292
    },
    "id": "hwV_y_jk8pEK",
    "outputId": "09e5b158-2d76-441e-8b7a-fb218cbce572"
   },
   "outputs": [
    {
     "data": {
      "image/png": "[encoded data removed]",
      "text/plain": [
       "<Figure size 432x288 with 1 Axes>"
      ]
     },
     "metadata": {
      "needs_background": "light"
     },
     "output_type": "display_data"
    }
   ],
   "source": [
    "df['toxic'].value_counts().plot(kind='bar').set(title='Баланс классов', xlabel='Класс', ylabel='Наблюдений, шт.');"
   ]
  },
  {
   "cell_type": "code",
   "execution_count": 9,
   "metadata": {
    "colab": {
     "base_uri": "https://localhost:8080/"
    },
    "id": "mZeKgCkB8pEL",
    "outputId": "ac822054-a256-400f-dd76-6b0ea94950e9"
   },
   "outputs": [
    {
     "data": {
      "text/plain": [
       "0    143346\n",
       "1     16225\n",
       "Name: toxic, dtype: int64"
      ]
     },
     "execution_count": 9,
     "metadata": {},
     "output_type": "execute_result"
    }
   ],
   "source": [
    "df['toxic'].value_counts()"
   ]
  },
  {
   "cell_type": "markdown",
   "metadata": {
    "id": "WOZLfLKc8pEL"
   },
   "source": [
    "## Модель"
   ]
  },
  {
   "cell_type": "markdown",
   "metadata": {
    "id": "xyAo_mZfv8LL"
   },
   "source": [
    "### Подготовка выборок\n",
    "\n"
   ]
  },
  {
   "cell_type": "markdown",
   "metadata": {
    "id": "m0valJrm9jaP"
   },
   "source": [
    "Нашей модели не потребуется лемматизации, поскольку она обучена на естественных текстах, а токенизация позволяет превращать морфемы в токены. Тем не менее, небольшая чистка текста от лишних символов улучшает метрику с порогом классификации по умолчанию:"
   ]
  },
  {
   "cell_type": "code",
   "execution_count": 10,
   "metadata": {
    "id": "kdBUWvwZegoB"
   },
   "outputs": [],
   "source": [
    "def clear_text(text):\n",
    "    return ' '.join(re.sub(r\"[^a-zA-Z '\\.,-;:!?]\",' ',text).split())"
   ]
  },
  {
   "cell_type": "code",
   "execution_count": 11,
   "metadata": {
    "colab": {
     "base_uri": "https://localhost:8080/"
    },
    "id": "uDFLxSzTkxe7",
    "outputId": "cead0bcf-e6e3-4540-ab47-7f0dde37f608"
   },
   "outputs": [],
   "source": [
    "df['text'] = df['text'].apply(clear_text)"
   ]
  },
  {
   "cell_type": "markdown",
   "metadata": {
    "id": "TR2Vg0L4glv6"
   },
   "source": [
    "Поскольку техзадание оговаривает использование модели BERT, воспользуемся токенизатором из ее комплекта (без различия регистра):"
   ]
  },
  {
   "cell_type": "code",
   "execution_count": 12,
   "metadata": {
    "colab": {
     "base_uri": "https://localhost:8080/",
     "height": 145,
     "referenced_widgets": [
      "8d9637c1e08d4968b604c00110a4eb13",
      "64af23079f624cf6a83186f7f6139f1c",
      "9a37034755c343d1876e4f47b135261e",
      "2525ab2549fd4bee8db0ccfd7123ee78",
      "7344d0df991448d1801854f7dc15c24d",
      "f61e9aa42dcb4798a1193fb2d8c18c13",
      "7985251bfbf64eedab075290547d4a69",
      "801bd5e7cdae4275b3ce4b167d7a73ce",
      "7f540d7235f547ea96a467ae8cfe66ac",
      "ec7c2b082e254764a8c9877e9b6bfc7e",
      "bf5e21f2bfce4a5ab512fcb3f7e9a1c5",
      "f25f0d6379224b84908e3d802777274f",
      "6b473431dc9345e884cec5d02906613c",
      "36d250b7576347ecb321b18679aaddfe",
      "e259b8f6220448388ba911c8d4b9bf80",
      "b2713b32b5e1463cb149b5b87a0b8d0d",
      "82172dbbdb4c494da2b810570e7a276d",
      "5ce6e85512e24ed68abaf0cf4dc885f4",
      "42765d6392c64ae58ba1b638510aaf96",
      "d06f79fc78184adf9c27d1582c3b086f",
      "5a41ea23db484145b5a3aff80548b9ab",
      "b84982a3ce2f42ee862a96239bb0d9b7",
      "ca5ecf7cfcc8489884c135961428aecf",
      "8788cfef8b9743d3ba8f4ae048a7ef55",
      "e8e77e4e23ab49da9d3f72c8a0187ad1",
      "76edfd71f6344c7581044d72f28bcd87",
      "8d297752297f4c0484789a9ff93c85d1",
      "352bbf78bae847eeaa0b3b3a2d7d1e56",
      "13991c625e304588938500ec45f4df8f",
      "32799f999dc64af984985a08a299ced7",
      "3f00e76258674e42b1b29e8a3d9d8459",
      "33f3c440ca724b1eba8b7367b21c872b",
      "ab06e3b35dae4a69b41645785fae05c2",
      "849fd51169914b9db03c2eb88c14c78f",
      "a41dc06e109548668e3e7c184318c5f7",
      "0505e3b197654468852c40b0969eefc2",
      "72f93c8aa2624ff9af8eb0af1e51e0ec",
      "cf04009583ae401197a6ae7eb24bc057",
      "b91a072485984147ad51388d4d8b1195",
      "e9a4deaf60b04891916cde2990ad1fad",
      "f19c6985d3c1490f9432a3b1a901ac1e",
      "4d963d9c979c447b8a9986e4889aa259",
      "a0dfbfeb79a84b5aa8ce49f2daf643d8",
      "a0fd9a85894f454ea58aa3e24bff0902"
     ]
    },
    "id": "VWmmLzR_8pEM",
    "outputId": "63c8ba72-9d61-40fd-c9e4-5320c3d2d759"
   },
   "outputs": [],
   "source": [
    "tokenizer = BertTokenizer.from_pretrained('bert-base-uncased', do_lower_case=True, use_fast=True)"
   ]
  },
  {
   "cell_type": "markdown",
   "metadata": {
    "id": "rCwjefrWhAvy"
   },
   "source": [
    "Для более оптимальной обработки данных реализуем свой класс *Dataset* для torch:"
   ]
  },
  {
   "cell_type": "code",
   "execution_count": 13,
   "metadata": {
    "id": "oHaeJmTl8pEN"
   },
   "outputs": [],
   "source": [
    "class MyDataset(torch.utils.data.Dataset):\n",
    "    def __init__(self, df):\n",
    "        self.texts = [text for text in df['text']]\n",
    "        self.labels = [label for label in df['toxic']]\n",
    "\n",
    "    def __len__(self):\n",
    "        return len(self.labels)\n",
    "    \n",
    "    def __getitem__(self, idx):\n",
    "        batch_texts = self.texts[idx]\n",
    "        # Некоторые особенности последних версий библиотеки transformers:\n",
    "        # Токенизировать данные заранее не рекомендуется: это мешает параллельной обработке.\n",
    "        # Прямой вызов encode() или encode_plus() больше не требуется, достаточно метода __call__() токенизатора.\n",
    "        # Он возвращает и токены, и attention mask.\n",
    "        # Максимальная длина последовательности для BERT - 512 токенов, однако на практике можно использовать\n",
    "        # первые 128. Увеличение максимальной длины сильно замедляет токенизацию при незначительном улучшении\n",
    "        # метрики F1 (0.02-0.03).\n",
    "        batch_tokens = tokenizer(batch_texts, padding='max_length', max_length=512,\n",
    "                                 truncation=True, return_tensors=\"pt\")\n",
    "        # Багфикс от 04.02.22: c некоторыми версиями пакетов таргет оказывался не того типа (торч требует long).\n",
    "        batch_labels = np.array(self.labels[idx]).astype('int64')\n",
    "        return batch_tokens, batch_labels"
   ]
  },
  {
   "cell_type": "markdown",
   "metadata": {
    "id": "s4btQudGhcYK"
   },
   "source": [
    "Выделим тестовую выборку в размере 20% от датасета.\n",
    "\n",
    "Также выделим небольшую валидационную выборку в размере 2% от общего объема (она понадобится только для быстрого мониторинга прогресса обучения)."
   ]
  },
  {
   "cell_type": "code",
   "execution_count": 14,
   "metadata": {
    "id": "Aj9MIeXh8pEN"
   },
   "outputs": [],
   "source": [
    "df_train, df_valid_test = train_test_split(df, test_size=0.22, random_state=RANDOM_STATE)\n",
    "df_test, df_valid = train_test_split(df_valid_test, test_size=0.1, random_state=RANDOM_STATE)"
   ]
  },
  {
   "cell_type": "markdown",
   "metadata": {
    "id": "7hCmscXtb_DB"
   },
   "source": [
    "Загрузим выборки в экземпляры нашего класса:"
   ]
  },
  {
   "cell_type": "code",
   "execution_count": 15,
   "metadata": {
    "id": "LW9lWkPS8pEQ"
   },
   "outputs": [],
   "source": [
    "train_set, val_set, test_set = MyDataset(df_train), MyDataset(df_valid), MyDataset(df_test)"
   ]
  },
  {
   "cell_type": "markdown",
   "metadata": {
    "id": "ePBI8qCzwZPy"
   },
   "source": [
    "### Балансировка классов"
   ]
  },
  {
   "cell_type": "markdown",
   "metadata": {
    "id": "YjEzpUsDi0X4"
   },
   "source": [
    "Поскольку мы используем torch, развесовку представляется оптимальным сделать с помощью *WeightedRandomSampler*, это же позволяет регулировать размер обучающей выборки для экспериментов."
   ]
  },
  {
   "cell_type": "code",
   "execution_count": 16,
   "metadata": {
    "colab": {
     "base_uri": "https://localhost:8080/"
    },
    "id": "FSHAOsVD8pEP",
    "outputId": "f8b3d11a-02b3-4d56-9ae7-095b1291a678"
   },
   "outputs": [
    {
     "data": {
      "text/plain": [
       "tensor([1.1127, 9.8735], dtype=torch.float64)"
      ]
     },
     "execution_count": 16,
     "metadata": {},
     "output_type": "execute_result"
    }
   ],
   "source": [
    "# Вычислим веса классов:\n",
    "class_weights = torch.DoubleTensor([len(df_train)/c for c in df_train['toxic'].value_counts().sort_index().values])\n",
    "class_weights"
   ]
  },
  {
   "cell_type": "markdown",
   "metadata": {
    "id": "racTZxvhhqo2"
   },
   "source": [
    "Мы не будем загружать в модель обучающую выборку полностью: языковые трансформеры хорошо улавливают закономерности даже на небольшом количестве примеров, кроме того, за счет семплирования за 10 эпох обучения мы обеспечим модели количество примеров положительного класса, сравнимое с их общим числом в выборке, и столько же отрицательных примеров."
   ]
  },
  {
   "cell_type": "code",
   "execution_count": 17,
   "metadata": {
    "id": "3mhW7npo8pEQ"
   },
   "outputs": [],
   "source": [
    "# .. и создадим соответствующий самплер (с возвращением):\n",
    "sample_weights = df_train['toxic'].apply(lambda x: class_weights[x])\n",
    "sampler = WeightedRandomSampler(weights=sample_weights, num_samples = int(len(train_set)/40), replacement=True)"
   ]
  },
  {
   "cell_type": "markdown",
   "metadata": {
    "id": "hkWtNGvcwii6"
   },
   "source": [
    "### Модель"
   ]
  },
  {
   "cell_type": "markdown",
   "metadata": {
    "id": "IXVKMsf-j51Y"
   },
   "source": [
    "Приматывать к BERT логистическую регрессию синей изолентой мы, конечно, не будем, вместо этого добавим к модели линейную часть, сводящую эмбеддинги к классам (то же самое делает, например, *BertForSequenceClassification*):"
   ]
  },
  {
   "cell_type": "code",
   "execution_count": 18,
   "metadata": {
    "id": "ikm2C2kY8pEY"
   },
   "outputs": [],
   "source": [
    "class BertBinaryClassifier(nn.Module):\n",
    "    def __init__(self):\n",
    "        super(BertBinaryClassifier, self).__init__()\n",
    "        # Загрузим модель BERT:\n",
    "        self.bert = BertModel.from_pretrained('bert-base-uncased')\n",
    "        # Добавим dropout, рандомно выключающий часть нейронных связей, чтобы модель не переобучалась:\n",
    "        self.dropout = torch.nn.Dropout(0.5)\n",
    "        # И будем сводить 768 выходных узлов BERT к 2 классам:\n",
    "        self.linear = torch.nn.Linear(768, 2)\n",
    "\n",
    "    # BERT ожидает на входе следующие именованные аргументы:\n",
    "    def forward(self, input_ids, token_type_ids, attention_mask):\n",
    "        _, pooled_output = self.bert(input_ids=input_ids.squeeze(1), attention_mask=attention_mask, return_dict=False)\n",
    "        dropout_output = self.dropout(pooled_output)\n",
    "        linear_output = self.linear(dropout_output)\n",
    "\n",
    "        return linear_output"
   ]
  },
  {
   "cell_type": "code",
   "execution_count": 19,
   "metadata": {
    "colab": {
     "base_uri": "https://localhost:8080/",
     "height": 123,
     "referenced_widgets": [
      "93f180aeeb4b4a1fb49822502e3f707b",
      "9415c25ea3db446687ed2e2bd26c5db7",
      "d6beb312acc645f2854e91c74f654b23",
      "a52935b1e505476c896645a4b191b349",
      "65882545672c474f804d4b05ec504d4d",
      "edbc99bee00347e1896fffed10761e95",
      "d33f777e549b42f797eff10fccd9a971",
      "be30a29d1a48450ea624d58a7e3002af",
      "f0a7f3c85dea478dad8bbac4f803ee67",
      "7f86926d5cf9499d86cc2610c2ad9d9c",
      "a1b290a505d3467c9505f1da79953557"
     ]
    },
    "id": "Rs0_JqMcvhl_",
    "outputId": "fd6546e1-6d59-468c-c2f2-4e4a7795ae97"
   },
   "outputs": [
    {
     "name": "stderr",
     "output_type": "stream",
     "text": [
      "Some weights of the model checkpoint at bert-base-uncased were not used when initializing BertModel: ['cls.predictions.transform.LayerNorm.weight', 'cls.predictions.transform.dense.weight', 'cls.predictions.decoder.weight', 'cls.seq_relationship.weight', 'cls.predictions.transform.dense.bias', 'cls.predictions.transform.LayerNorm.bias', 'cls.predictions.bias', 'cls.seq_relationship.bias']\n",
      "- This IS expected if you are initializing BertModel from the checkpoint of a model trained on another task or with another architecture (e.g. initializing a BertForSequenceClassification model from a BertForPreTraining model).\n",
      "- This IS NOT expected if you are initializing BertModel from the checkpoint of a model that you expect to be exactly identical (initializing a BertForSequenceClassification model from a BertForSequenceClassification model).\n"
     ]
    }
   ],
   "source": [
    "model = BertBinaryClassifier()"
   ]
  },
  {
   "cell_type": "code",
   "execution_count": 20,
   "metadata": {
    "id": "MxNvF1U-ydHd"
   },
   "outputs": [],
   "source": [
    "# Здесь можно поменять константы для даталоадера и обучения:\n",
    "NUM_WORKERS = 12 # Число потоков для загрузки данных (рекомендуемое значение - по числу процессорных ядер).\n",
    "NUM_EPOCHS = 10 # Количество эпох обучения.\n",
    "BATCH_SIZE = 2 # Размер пакета для одновременной обработки (следует уменьшить в случае нехватки памяти).\n",
    "LEARNING_RATE = 5e-6 # Скорость обучения модели.\n",
    "\n",
    "# Модель будет использовать CUDA, если соответствующее устройство доступно.\n",
    "DEVICE = torch.device('cuda' if torch.cuda.is_available() else 'cpu')"
   ]
  },
  {
   "cell_type": "markdown",
   "metadata": {
    "id": "kX4vYB2-k5Q-"
   },
   "source": [
    "Для компактности и удобства дальнейшего подсчета метрик мы воспользуемся оберткой *skorch*:"
   ]
  },
  {
   "cell_type": "code",
   "execution_count": 21,
   "metadata": {
    "id": "OvfCHFwBF5Ce"
   },
   "outputs": [],
   "source": [
    "# Будем сохранять самое удачное состояние модели для дальнейшего использования:\n",
    "cp = Checkpoint(dirname='bert_checkpoints')"
   ]
  },
  {
   "cell_type": "code",
   "execution_count": 22,
   "metadata": {
    "id": "KHw86JREv8CI"
   },
   "outputs": [],
   "source": [
    "net = NeuralNetClassifier(\n",
    "    model,\n",
    "    max_epochs = NUM_EPOCHS,\n",
    "    batch_size = BATCH_SIZE,\n",
    "    lr = LEARNING_RATE,\n",
    "    criterion = nn.CrossEntropyLoss(),\n",
    "    optimizer = Adam,\n",
    "    optimizer__weight_decay = 5e-7,\n",
    "    device = DEVICE,\n",
    "\n",
    "    iterator_train__sampler = sampler,\n",
    "    # Замечание от 04.02.22:\n",
    "    # В некоторых странных окружениях (типа windows+CPU) могут возникать проблемы с параллелизацией.\n",
    "    # Если у вас возникает ошибка вида AttributeError: Can't get attribute on <module '__main__' (built-in)>,\n",
    "    # закомментируйте следующие две строчки.\n",
    "    iterator_train__num_workers = NUM_WORKERS,\n",
    "    iterator_valid__num_workers = NUM_WORKERS,\n",
    "    iterator_train__pin_memory = True,\n",
    "    iterator_valid__pin_memory = True,\n",
    "    train_split = predefined_split(val_set),\n",
    "    \n",
    "    callbacks = [cp]\n",
    ")"
   ]
  },
  {
   "cell_type": "markdown",
   "metadata": {
    "id": "NBSONDc7yXKl"
   },
   "source": [
    "### Обучение и проверка на тестовой выборке"
   ]
  },
  {
   "cell_type": "code",
   "execution_count": 23,
   "metadata": {
    "colab": {
     "background_save": true,
     "base_uri": "https://localhost:8080/"
    },
    "id": "BC7dzebrv7bp",
    "outputId": "166bd6d6-9bb3-4046-8442-409f21b0403a",
    "scrolled": false
   },
   "outputs": [
    {
     "name": "stdout",
     "output_type": "stream",
     "text": [
      "  epoch    train_loss    valid_acc    valid_loss    cp       dur\n",
      "-------  ------------  -----------  ------------  ----  --------\n",
      "      1        \u001b[36m0.3450\u001b[0m       \u001b[32m0.9171\u001b[0m        \u001b[35m0.2002\u001b[0m     +  486.4785\n",
      "      2        \u001b[36m0.1924\u001b[0m       \u001b[32m0.9211\u001b[0m        0.2184        488.0720\n",
      "      3        0.1928       \u001b[32m0.9493\u001b[0m        \u001b[35m0.1276\u001b[0m     +  487.2762\n",
      "      4        \u001b[36m0.1555\u001b[0m       0.8989        0.2634        487.3028\n",
      "      5        0.1616       0.8684        0.3342        487.3486\n",
      "      6        \u001b[36m0.1520\u001b[0m       \u001b[32m0.9601\u001b[0m        \u001b[35m0.0921\u001b[0m     +  487.4320\n",
      "      7        \u001b[36m0.1377\u001b[0m       0.9416        0.1384        487.3300\n",
      "      8        \u001b[36m0.1309\u001b[0m       0.9419        0.1480        487.4128\n",
      "      9        0.1356       0.9077        0.2552        487.5242\n",
      "     10        \u001b[36m0.1270\u001b[0m       0.9382        0.1529        487.5283\n"
     ]
    }
   ],
   "source": [
    "net.fit(train_set, None);"
   ]
  },
  {
   "cell_type": "code",
   "execution_count": 24,
   "metadata": {
    "colab": {
     "background_save": true
    },
    "id": "5npmnWHlF5Cf"
   },
   "outputs": [],
   "source": [
    "# Перезагрузим лучший результат:\n",
    "net.load_params(checkpoint=cp)"
   ]
  },
  {
   "cell_type": "markdown",
   "metadata": {
    "id": "k4xG8-n-mMHl"
   },
   "source": [
    "Оценим наши метрики и подберем оптимальные пороги классификации:"
   ]
  },
  {
   "cell_type": "code",
   "execution_count": 25,
   "metadata": {
    "colab": {
     "background_save": true
    },
    "id": "atXIrl6h8pEW"
   },
   "outputs": [],
   "source": [
    "# Обновление от 04.02.22: добавлена average precision (аналог PR_AUC, скорректированный для меньшей оптимистичности).\n",
    "def calculate_metrics(model, test_set):\n",
    "    predictions = model.predict(test_set)\n",
    "    probabilities = model.predict_proba(test_set)[:, 1]\n",
    "    f1 = f1_score(target_test, predictions)\n",
    "    roc_auc = roc_auc_score(target_test, probabilities)\n",
    "    acc = accuracy_score(target_test, predictions)\n",
    "    ap = average_precision_score(target_test, probabilities)\n",
    "    cmatrix = confusion_matrix(target_test, predictions)\n",
    "    \n",
    "    fpr, tpr, _ = roc_curve(target_test, probabilities)\n",
    "    precision, recall, thresholds = precision_recall_curve(target_test, probabilities)\n",
    "    # Векторная операция:\n",
    "    f1_scores = 2*recall*precision/(recall+precision)\n",
    "    best_f1 = np.max(f1_scores)\n",
    "    best_thresh = thresholds[np.argmax (f1_scores)]\n",
    "\n",
    "    pred_t = (probabilities > best_thresh)\n",
    "    best_cmatrix = confusion_matrix(target_test, pred_t)\n",
    "    \n",
    "    return f1, best_f1, roc_auc, acc, ap, best_thresh, fpr, tpr, recall, precision, cmatrix, best_cmatrix\n",
    "\n",
    "def visualize_tests(model, test_set):\n",
    "    cmatrices = []\n",
    "\n",
    "    fig, axes = plt.subplots(1, 2, figsize=(15,6))\n",
    "    axes[0].plot([0, 1], linestyle='--')\n",
    "    axes[1].plot([0.5, 0.5], linestyle='--')\n",
    "\n",
    "    name = type(model).__name__\n",
    "    print('Идет обработка тестовой выборки, подождите...')\n",
    "    f1, best_f1, roc_auc, acc, ap, best_thresh, fpr, tpr, recall, precision, cmatrix, best_cmatrix = calculate_metrics (model, test_set)\n",
    "    axes[0].plot (fpr, tpr);\n",
    "    axes[1].plot (recall, precision);\n",
    "    print (f'{name}: F1: {f1:.2f} (максимум: {best_f1:.2f} с порогом {best_thresh:.2f}), ROC_AUC: {roc_auc:.2f}, accuracy: {acc:.0%}, AP (PR_AUC): {ap:.2f}')\n",
    "    cmatrices.append(cmatrix)\n",
    "    cmatrices.append(best_cmatrix)\n",
    "    \n",
    "    axes[0].set (xlabel = 'FPR', ylabel = 'TPR', title = 'ROC-кривая', xlim=(0,1), ylim=(0,1))\n",
    "    axes[1].set (xlabel = 'Recall', ylabel = 'Precision', title = 'PR-кривая', xlim=(0,1), ylim=(0,1))\n",
    "    \n",
    "    fig, axes = plt.subplots(1, 2, figsize=(13, 5), constrained_layout=True)\n",
    "    for cmatrix, ax, title in zip(cmatrices, axes.flat, ['Матрица ошибок', 'Матрица ошибок (оптимальный порог)']):\n",
    "        sns.heatmap(cmatrix, ax=ax, annot=True, cmap='Blues', fmt='d').set(title=title, xlabel='Предсказания', ylabel='Правильные ответы')\n",
    "    \n",
    "    return best_thresh"
   ]
  },
  {
   "cell_type": "code",
   "execution_count": 26,
   "metadata": {
    "colab": {
     "base_uri": "https://localhost:8080/"
    },
    "id": "KTtDR9xr8pEW",
    "outputId": "64b1e8df-3d84-46bf-8cf0-1a22fd8e80bf",
    "scrolled": false
   },
   "outputs": [
    {
     "name": "stdout",
     "output_type": "stream",
     "text": [
      "Идет обработка тестовой выборки, подождите...\n",
      "NeuralNetClassifier: F1: 0.81 (максимум: 0.84 с порогом 0.75), ROC_AUC: 0.99, accuracy: 96%, AP (PR_AUC): 0.92\n"
     ]
    },
    {
     "data": {
      "image/png": "[encoded data removed]",
      "text/plain": [
       "<Figure size 1080x432 with 2 Axes>"
      ]
     },
     "metadata": {
      "needs_background": "light"
     },
     "output_type": "display_data"
    },
    {
     "data": {
      "image/png": "[encoded data removed]",
      "text/plain": [
       "<Figure size 936x360 with 4 Axes>"
      ]
     },
     "metadata": {
      "needs_background": "light"
     },
     "output_type": "display_data"
    }
   ],
   "source": [
    "target_test = [label for label in df_test['toxic']]\n",
    "best_threshold = visualize_tests(net, test_set)"
   ]
  },
  {
   "cell_type": "markdown",
   "metadata": {
    "id": "NrB6DGJKySrg"
   },
   "source": [
    "\n",
    "Наша модель даже без дополнительного тюнинга соответствует условиям техзадания: метрика F1 на тестовой выборке порядка 0,8. С порогом по умолчанию у модели отличный recall: около 90% токсичных комментариев подсвечено! А вот precision оставляет желать лучшего: в 30% случаев тревога ложная.\n",
    "\n",
    "Тем не менее, это поправимо. Анализ кривых позволяет выбрать оптимальный уровень \"уверенности\" в ответе для классификации: сбалансированный вариант лежит в пределах 12-20% ложных срабатываний и 20% упущенных случаев (метрика F1 достигает 0,84)."
   ]
  },
  {
   "cell_type": "markdown",
   "metadata": {
    "id": "hnhC-ISYP_Sw"
   },
   "source": [
    "### Проверка произвольных текстов"
   ]
  },
  {
   "cell_type": "markdown",
   "metadata": {
    "id": "7tGDZq8Ab_DH"
   },
   "source": [
    "В качестве иллюстрации реализуем проверку произвольных текстов c заданным порогом уверенности:"
   ]
  },
  {
   "cell_type": "code",
   "execution_count": 30,
   "metadata": {
    "id": "89JsYWPn8pEY"
   },
   "outputs": [],
   "source": [
    "def classify(texts, threshold):\n",
    "    inference_df = pd.DataFrame(data = {'text': texts, 'toxic': [np.nan]*len(texts)})\n",
    "    inference_df['text'] = inference_df['text'].apply(clear_text)\n",
    "    inference_set = MyDataset(inference_df)\n",
    "    proba = net.predict_proba(inference_set)[:,1]\n",
    "    for i in range (len(texts)):\n",
    "        print (f'Текст: \"{texts[i]}\", ', end='')\n",
    "        if proba[i] > threshold:\n",
    "            print (f'вероятно, токсичен (уверенность {proba[i]:.0%}).')\n",
    "        else:\n",
    "            print (f'скорее всего, не токсичен.')"
   ]
  },
  {
   "cell_type": "code",
   "execution_count": 31,
   "metadata": {
    "id": "6KRtW1oH8pEU"
   },
   "outputs": [],
   "source": [
    "texts = ['I am here to lead you.',\n",
    "         'Do not trifle with me, worm.',\n",
    "         'Can no one offer me a challenge?!',\n",
    "         'You rabble are undeserving of my presence.',\n",
    "         'Weaklings! I will fight alongside you no longer.',\n",
    "         'Take me to them, that I may render judgement.']"
   ]
  },
  {
   "cell_type": "code",
   "execution_count": 32,
   "metadata": {
    "id": "9RIPMSnA8pEY"
   },
   "outputs": [
    {
     "name": "stdout",
     "output_type": "stream",
     "text": [
      "Текст: \"I am here to lead you.\", скорее всего, не токсичен.\n",
      "Текст: \"Do not trifle with me, worm.\", вероятно, токсичен (уверенность 82%).\n",
      "Текст: \"Can no one offer me a challenge?!\", скорее всего, не токсичен.\n",
      "Текст: \"You rabble are undeserving of my presence.\", вероятно, токсичен (уверенность 97%).\n",
      "Текст: \"Weaklings! I will fight alongside you no longer.\", вероятно, токсичен (уверенность 86%).\n",
      "Текст: \"Take me to them, that I may render judgement.\", скорее всего, не токсичен.\n"
     ]
    }
   ],
   "source": [
    "classify(texts, best_threshold)"
   ]
  },
  {
   "cell_type": "markdown",
   "metadata": {
    "id": "RHaYBLee8pEc"
   },
   "source": [
    "## Выводы"
   ]
  },
  {
   "cell_type": "markdown",
   "metadata": {
    "id": "rUcpWMn-3dRc"
   },
   "source": [
    "Мы подготовили данные, сбалансировали их и достроили модель BERT с помощью полносвязного слоя для классификации. По итогам обучения модель обеспечивает высокой показатель метрики (до 0,84 F1 с учетом оптимального порога классификации и 0,98-0,99 ROC_AUC) на тестовой выборке.\n",
    "\n",
    "С практической точки зрения это означает, что:\n",
    "\n",
    "- из действительно негативных комментариев модель способна детектировать не менее 80%;\n",
    "- доля ложных срабатываний составит (в зависимости от ограничения на число токенов) от 12 до 20% от предсказаний положительного класса (или 2% от всех сообщений положительной тональности) - дополнительная нагрузка на модераторов не будет слишком высока.\n",
    "- при необходимости метрика модели может быть легко подстроена под оптимальное соотношение точности и полноты исходя из оптимального порога степени уверенности в ответе, - к примеру, с незначительными изменениями можно применить взвешенную F-меру."
   ]
  }
 ],
 "metadata": {
  "accelerator": "GPU",
  "colab": {
   "collapsed_sections": [],
   "name": "8fcd5a04_40fb_4260_89f9_ef0366c38900_(1).ipynb",
   "provenance": [],
   "toc_visible": true
  },
  "kernelspec": {
   "display_name": "Python 3 (ipykernel)",
   "language": "python",
   "name": "python3"
  },
  "language_info": {
   "codemirror_mode": {
    "name": "ipython",
    "version": 3
   },
   "file_extension": ".py",
   "mimetype": "text/x-python",
   "name": "python",
   "nbconvert_exporter": "python",
   "pygments_lexer": "ipython3",
   "version": "3.9.7"
  },
  "toc": {
   "base_numbering": 1,
   "nav_menu": {},
   "number_sections": true,
   "sideBar": true,
   "skip_h1_title": true,
   "title_cell": "Содержание",
   "title_sidebar": "Contents",
   "toc_cell": true,
   "toc_position": {
    "height": "calc(100% - 180px)",
    "left": "10px",
    "top": "150px",
    "width": "302.391px"
   },
   "toc_section_display": true,
   "toc_window_display": true
  },
  "widgets": {
   "application/vnd.jupyter.widget-state+json": {
    "0505e3b197654468852c40b0969eefc2": {
     "model_module": "@jupyter-widgets/controls",
     "model_module_version": "1.5.0",
     "model_name": "FloatProgressModel",
     "state": {
      "_dom_classes": [],
      "_model_module": "@jupyter-widgets/controls",
      "_model_module_version": "1.5.0",
      "_model_name": "FloatProgressModel",
      "_view_count": null,
      "_view_module": "@jupyter-widgets/controls",
      "_view_module_version": "1.5.0",
      "_view_name": "ProgressView",
      "bar_style": "success",
      "description": "",
      "description_tooltip": null,
      "layout": "IPY_MODEL_f19c6985d3c1490f9432a3b1a901ac1e",
      "max": 570,
      "min": 0,
      "orientation": "horizontal",
      "style": "IPY_MODEL_4d963d9c979c447b8a9986e4889aa259",
      "value": 570
     }
    },
    "13991c625e304588938500ec45f4df8f": {
     "model_module": "@jupyter-widgets/controls",
     "model_module_version": "1.5.0",
     "model_name": "DescriptionStyleModel",
     "state": {
      "_model_module": "@jupyter-widgets/controls",
      "_model_module_version": "1.5.0",
      "_model_name": "DescriptionStyleModel",
      "_view_count": null,
      "_view_module": "@jupyter-widgets/base",
      "_view_module_version": "1.2.0",
      "_view_name": "StyleView",
      "description_width": ""
     }
    },
    "2525ab2549fd4bee8db0ccfd7123ee78": {
     "model_module": "@jupyter-widgets/controls",
     "model_module_version": "1.5.0",
     "model_name": "HTMLModel",
     "state": {
      "_dom_classes": [],
      "_model_module": "@jupyter-widgets/controls",
      "_model_module_version": "1.5.0",
      "_model_name": "HTMLModel",
      "_view_count": null,
      "_view_module": "@jupyter-widgets/controls",
      "_view_module_version": "1.5.0",
      "_view_name": "HTMLView",
      "description": "",
      "description_tooltip": null,
      "layout": "IPY_MODEL_ec7c2b082e254764a8c9877e9b6bfc7e",
      "placeholder": "​",
      "style": "IPY_MODEL_bf5e21f2bfce4a5ab512fcb3f7e9a1c5",
      "value": " 28.0/28.0 [00:00&lt;00:00, 588B/s]"
     }
    },
    "32799f999dc64af984985a08a299ced7": {
     "model_module": "@jupyter-widgets/base",
     "model_module_version": "1.2.0",
     "model_name": "LayoutModel",
     "state": {
      "_model_module": "@jupyter-widgets/base",
      "_model_module_version": "1.2.0",
      "_model_name": "LayoutModel",
      "_view_count": null,
      "_view_module": "@jupyter-widgets/base",
      "_view_module_version": "1.2.0",
      "_view_name": "LayoutView",
      "align_content": null,
      "align_items": null,
      "align_self": null,
      "border": null,
      "bottom": null,
      "display": null,
      "flex": null,
      "flex_flow": null,
      "grid_area": null,
      "grid_auto_columns": null,
      "grid_auto_flow": null,
      "grid_auto_rows": null,
      "grid_column": null,
      "grid_gap": null,
      "grid_row": null,
      "grid_template_areas": null,
      "grid_template_columns": null,
      "grid_template_rows": null,
      "height": null,
      "justify_content": null,
      "justify_items": null,
      "left": null,
      "margin": null,
      "max_height": null,
      "max_width": null,
      "min_height": null,
      "min_width": null,
      "object_fit": null,
      "object_position": null,
      "order": null,
      "overflow": null,
      "overflow_x": null,
      "overflow_y": null,
      "padding": null,
      "right": null,
      "top": null,
      "visibility": null,
      "width": null
     }
    },
    "33f3c440ca724b1eba8b7367b21c872b": {
     "model_module": "@jupyter-widgets/base",
     "model_module_version": "1.2.0",
     "model_name": "LayoutModel",
     "state": {
      "_model_module": "@jupyter-widgets/base",
      "_model_module_version": "1.2.0",
      "_model_name": "LayoutModel",
      "_view_count": null,
      "_view_module": "@jupyter-widgets/base",
      "_view_module_version": "1.2.0",
      "_view_name": "LayoutView",
      "align_content": null,
      "align_items": null,
      "align_self": null,
      "border": null,
      "bottom": null,
      "display": null,
      "flex": null,
      "flex_flow": null,
      "grid_area": null,
      "grid_auto_columns": null,
      "grid_auto_flow": null,
      "grid_auto_rows": null,
      "grid_column": null,
      "grid_gap": null,
      "grid_row": null,
      "grid_template_areas": null,
      "grid_template_columns": null,
      "grid_template_rows": null,
      "height": null,
      "justify_content": null,
      "justify_items": null,
      "left": null,
      "margin": null,
      "max_height": null,
      "max_width": null,
      "min_height": null,
      "min_width": null,
      "object_fit": null,
      "object_position": null,
      "order": null,
      "overflow": null,
      "overflow_x": null,
      "overflow_y": null,
      "padding": null,
      "right": null,
      "top": null,
      "visibility": null,
      "width": null
     }
    },
    "352bbf78bae847eeaa0b3b3a2d7d1e56": {
     "model_module": "@jupyter-widgets/base",
     "model_module_version": "1.2.0",
     "model_name": "LayoutModel",
     "state": {
      "_model_module": "@jupyter-widgets/base",
      "_model_module_version": "1.2.0",
      "_model_name": "LayoutModel",
      "_view_count": null,
      "_view_module": "@jupyter-widgets/base",
      "_view_module_version": "1.2.0",
      "_view_name": "LayoutView",
      "align_content": null,
      "align_items": null,
      "align_self": null,
      "border": null,
      "bottom": null,
      "display": null,
      "flex": null,
      "flex_flow": null,
      "grid_area": null,
      "grid_auto_columns": null,
      "grid_auto_flow": null,
      "grid_auto_rows": null,
      "grid_column": null,
      "grid_gap": null,
      "grid_row": null,
      "grid_template_areas": null,
      "grid_template_columns": null,
      "grid_template_rows": null,
      "height": null,
      "justify_content": null,
      "justify_items": null,
      "left": null,
      "margin": null,
      "max_height": null,
      "max_width": null,
      "min_height": null,
      "min_width": null,
      "object_fit": null,
      "object_position": null,
      "order": null,
      "overflow": null,
      "overflow_x": null,
      "overflow_y": null,
      "padding": null,
      "right": null,
      "top": null,
      "visibility": null,
      "width": null
     }
    },
    "36d250b7576347ecb321b18679aaddfe": {
     "model_module": "@jupyter-widgets/controls",
     "model_module_version": "1.5.0",
     "model_name": "FloatProgressModel",
     "state": {
      "_dom_classes": [],
      "_model_module": "@jupyter-widgets/controls",
      "_model_module_version": "1.5.0",
      "_model_name": "FloatProgressModel",
      "_view_count": null,
      "_view_module": "@jupyter-widgets/controls",
      "_view_module_version": "1.5.0",
      "_view_name": "ProgressView",
      "bar_style": "success",
      "description": "",
      "description_tooltip": null,
      "layout": "IPY_MODEL_42765d6392c64ae58ba1b638510aaf96",
      "max": 231508,
      "min": 0,
      "orientation": "horizontal",
      "style": "IPY_MODEL_d06f79fc78184adf9c27d1582c3b086f",
      "value": 231508
     }
    },
    "3f00e76258674e42b1b29e8a3d9d8459": {
     "model_module": "@jupyter-widgets/controls",
     "model_module_version": "1.5.0",
     "model_name": "ProgressStyleModel",
     "state": {
      "_model_module": "@jupyter-widgets/controls",
      "_model_module_version": "1.5.0",
      "_model_name": "ProgressStyleModel",
      "_view_count": null,
      "_view_module": "@jupyter-widgets/base",
      "_view_module_version": "1.2.0",
      "_view_name": "StyleView",
      "bar_color": null,
      "description_width": ""
     }
    },
    "42765d6392c64ae58ba1b638510aaf96": {
     "model_module": "@jupyter-widgets/base",
     "model_module_version": "1.2.0",
     "model_name": "LayoutModel",
     "state": {
      "_model_module": "@jupyter-widgets/base",
      "_model_module_version": "1.2.0",
      "_model_name": "LayoutModel",
      "_view_count": null,
      "_view_module": "@jupyter-widgets/base",
      "_view_module_version": "1.2.0",
      "_view_name": "LayoutView",
      "align_content": null,
      "align_items": null,
      "align_self": null,
      "border": null,
      "bottom": null,
      "display": null,
      "flex": null,
      "flex_flow": null,
      "grid_area": null,
      "grid_auto_columns": null,
      "grid_auto_flow": null,
      "grid_auto_rows": null,
      "grid_column": null,
      "grid_gap": null,
      "grid_row": null,
      "grid_template_areas": null,
      "grid_template_columns": null,
      "grid_template_rows": null,
      "height": null,
      "justify_content": null,
      "justify_items": null,
      "left": null,
      "margin": null,
      "max_height": null,
      "max_width": null,
      "min_height": null,
      "min_width": null,
      "object_fit": null,
      "object_position": null,
      "order": null,
      "overflow": null,
      "overflow_x": null,
      "overflow_y": null,
      "padding": null,
      "right": null,
      "top": null,
      "visibility": null,
      "width": null
     }
    },
    "4d963d9c979c447b8a9986e4889aa259": {
     "model_module": "@jupyter-widgets/controls",
     "model_module_version": "1.5.0",
     "model_name": "ProgressStyleModel",
     "state": {
      "_model_module": "@jupyter-widgets/controls",
      "_model_module_version": "1.5.0",
      "_model_name": "ProgressStyleModel",
      "_view_count": null,
      "_view_module": "@jupyter-widgets/base",
      "_view_module_version": "1.2.0",
      "_view_name": "StyleView",
      "bar_color": null,
      "description_width": ""
     }
    },
    "5a41ea23db484145b5a3aff80548b9ab": {
     "model_module": "@jupyter-widgets/base",
     "model_module_version": "1.2.0",
     "model_name": "LayoutModel",
     "state": {
      "_model_module": "@jupyter-widgets/base",
      "_model_module_version": "1.2.0",
      "_model_name": "LayoutModel",
      "_view_count": null,
      "_view_module": "@jupyter-widgets/base",
      "_view_module_version": "1.2.0",
      "_view_name": "LayoutView",
      "align_content": null,
      "align_items": null,
      "align_self": null,
      "border": null,
      "bottom": null,
      "display": null,
      "flex": null,
      "flex_flow": null,
      "grid_area": null,
      "grid_auto_columns": null,
      "grid_auto_flow": null,
      "grid_auto_rows": null,
      "grid_column": null,
      "grid_gap": null,
      "grid_row": null,
      "grid_template_areas": null,
      "grid_template_columns": null,
      "grid_template_rows": null,
      "height": null,
      "justify_content": null,
      "justify_items": null,
      "left": null,
      "margin": null,
      "max_height": null,
      "max_width": null,
      "min_height": null,
      "min_width": null,
      "object_fit": null,
      "object_position": null,
      "order": null,
      "overflow": null,
      "overflow_x": null,
      "overflow_y": null,
      "padding": null,
      "right": null,
      "top": null,
      "visibility": null,
      "width": null
     }
    },
    "5ce6e85512e24ed68abaf0cf4dc885f4": {
     "model_module": "@jupyter-widgets/controls",
     "model_module_version": "1.5.0",
     "model_name": "DescriptionStyleModel",
     "state": {
      "_model_module": "@jupyter-widgets/controls",
      "_model_module_version": "1.5.0",
      "_model_name": "DescriptionStyleModel",
      "_view_count": null,
      "_view_module": "@jupyter-widgets/base",
      "_view_module_version": "1.2.0",
      "_view_name": "StyleView",
      "description_width": ""
     }
    },
    "64af23079f624cf6a83186f7f6139f1c": {
     "model_module": "@jupyter-widgets/controls",
     "model_module_version": "1.5.0",
     "model_name": "HTMLModel",
     "state": {
      "_dom_classes": [],
      "_model_module": "@jupyter-widgets/controls",
      "_model_module_version": "1.5.0",
      "_model_name": "HTMLModel",
      "_view_count": null,
      "_view_module": "@jupyter-widgets/controls",
      "_view_module_version": "1.5.0",
      "_view_name": "HTMLView",
      "description": "",
      "description_tooltip": null,
      "layout": "IPY_MODEL_f61e9aa42dcb4798a1193fb2d8c18c13",
      "placeholder": "​",
      "style": "IPY_MODEL_7985251bfbf64eedab075290547d4a69",
      "value": "Downloading: 100%"
     }
    },
    "65882545672c474f804d4b05ec504d4d": {
     "model_module": "@jupyter-widgets/base",
     "model_module_version": "1.2.0",
     "model_name": "LayoutModel",
     "state": {
      "_model_module": "@jupyter-widgets/base",
      "_model_module_version": "1.2.0",
      "_model_name": "LayoutModel",
      "_view_count": null,
      "_view_module": "@jupyter-widgets/base",
      "_view_module_version": "1.2.0",
      "_view_name": "LayoutView",
      "align_content": null,
      "align_items": null,
      "align_self": null,
      "border": null,
      "bottom": null,
      "display": null,
      "flex": null,
      "flex_flow": null,
      "grid_area": null,
      "grid_auto_columns": null,
      "grid_auto_flow": null,
      "grid_auto_rows": null,
      "grid_column": null,
      "grid_gap": null,
      "grid_row": null,
      "grid_template_areas": null,
      "grid_template_columns": null,
      "grid_template_rows": null,
      "height": null,
      "justify_content": null,
      "justify_items": null,
      "left": null,
      "margin": null,
      "max_height": null,
      "max_width": null,
      "min_height": null,
      "min_width": null,
      "object_fit": null,
      "object_position": null,
      "order": null,
      "overflow": null,
      "overflow_x": null,
      "overflow_y": null,
      "padding": null,
      "right": null,
      "top": null,
      "visibility": null,
      "width": null
     }
    },
    "6b473431dc9345e884cec5d02906613c": {
     "model_module": "@jupyter-widgets/controls",
     "model_module_version": "1.5.0",
     "model_name": "HTMLModel",
     "state": {
      "_dom_classes": [],
      "_model_module": "@jupyter-widgets/controls",
      "_model_module_version": "1.5.0",
      "_model_name": "HTMLModel",
      "_view_count": null,
      "_view_module": "@jupyter-widgets/controls",
      "_view_module_version": "1.5.0",
      "_view_name": "HTMLView",
      "description": "",
      "description_tooltip": null,
      "layout": "IPY_MODEL_82172dbbdb4c494da2b810570e7a276d",
      "placeholder": "​",
      "style": "IPY_MODEL_5ce6e85512e24ed68abaf0cf4dc885f4",
      "value": "Downloading: 100%"
     }
    },
    "72f93c8aa2624ff9af8eb0af1e51e0ec": {
     "model_module": "@jupyter-widgets/controls",
     "model_module_version": "1.5.0",
     "model_name": "HTMLModel",
     "state": {
      "_dom_classes": [],
      "_model_module": "@jupyter-widgets/controls",
      "_model_module_version": "1.5.0",
      "_model_name": "HTMLModel",
      "_view_count": null,
      "_view_module": "@jupyter-widgets/controls",
      "_view_module_version": "1.5.0",
      "_view_name": "HTMLView",
      "description": "",
      "description_tooltip": null,
      "layout": "IPY_MODEL_a0dfbfeb79a84b5aa8ce49f2daf643d8",
      "placeholder": "​",
      "style": "IPY_MODEL_a0fd9a85894f454ea58aa3e24bff0902",
      "value": " 570/570 [00:00&lt;00:00, 13.6kB/s]"
     }
    },
    "7344d0df991448d1801854f7dc15c24d": {
     "model_module": "@jupyter-widgets/base",
     "model_module_version": "1.2.0",
     "model_name": "LayoutModel",
     "state": {
      "_model_module": "@jupyter-widgets/base",
      "_model_module_version": "1.2.0",
      "_model_name": "LayoutModel",
      "_view_count": null,
      "_view_module": "@jupyter-widgets/base",
      "_view_module_version": "1.2.0",
      "_view_name": "LayoutView",
      "align_content": null,
      "align_items": null,
      "align_self": null,
      "border": null,
      "bottom": null,
      "display": null,
      "flex": null,
      "flex_flow": null,
      "grid_area": null,
      "grid_auto_columns": null,
      "grid_auto_flow": null,
      "grid_auto_rows": null,
      "grid_column": null,
      "grid_gap": null,
      "grid_row": null,
      "grid_template_areas": null,
      "grid_template_columns": null,
      "grid_template_rows": null,
      "height": null,
      "justify_content": null,
      "justify_items": null,
      "left": null,
      "margin": null,
      "max_height": null,
      "max_width": null,
      "min_height": null,
      "min_width": null,
      "object_fit": null,
      "object_position": null,
      "order": null,
      "overflow": null,
      "overflow_x": null,
      "overflow_y": null,
      "padding": null,
      "right": null,
      "top": null,
      "visibility": null,
      "width": null
     }
    },
    "76edfd71f6344c7581044d72f28bcd87": {
     "model_module": "@jupyter-widgets/controls",
     "model_module_version": "1.5.0",
     "model_name": "HTMLModel",
     "state": {
      "_dom_classes": [],
      "_model_module": "@jupyter-widgets/controls",
      "_model_module_version": "1.5.0",
      "_model_name": "HTMLModel",
      "_view_count": null,
      "_view_module": "@jupyter-widgets/controls",
      "_view_module_version": "1.5.0",
      "_view_name": "HTMLView",
      "description": "",
      "description_tooltip": null,
      "layout": "IPY_MODEL_33f3c440ca724b1eba8b7367b21c872b",
      "placeholder": "​",
      "style": "IPY_MODEL_ab06e3b35dae4a69b41645785fae05c2",
      "value": " 455k/455k [00:00&lt;00:00, 560kB/s]"
     }
    },
    "7985251bfbf64eedab075290547d4a69": {
     "model_module": "@jupyter-widgets/controls",
     "model_module_version": "1.5.0",
     "model_name": "DescriptionStyleModel",
     "state": {
      "_model_module": "@jupyter-widgets/controls",
      "_model_module_version": "1.5.0",
      "_model_name": "DescriptionStyleModel",
      "_view_count": null,
      "_view_module": "@jupyter-widgets/base",
      "_view_module_version": "1.2.0",
      "_view_name": "StyleView",
      "description_width": ""
     }
    },
    "7f540d7235f547ea96a467ae8cfe66ac": {
     "model_module": "@jupyter-widgets/controls",
     "model_module_version": "1.5.0",
     "model_name": "ProgressStyleModel",
     "state": {
      "_model_module": "@jupyter-widgets/controls",
      "_model_module_version": "1.5.0",
      "_model_name": "ProgressStyleModel",
      "_view_count": null,
      "_view_module": "@jupyter-widgets/base",
      "_view_module_version": "1.2.0",
      "_view_name": "StyleView",
      "bar_color": null,
      "description_width": ""
     }
    },
    "7f86926d5cf9499d86cc2610c2ad9d9c": {
     "model_module": "@jupyter-widgets/base",
     "model_module_version": "1.2.0",
     "model_name": "LayoutModel",
     "state": {
      "_model_module": "@jupyter-widgets/base",
      "_model_module_version": "1.2.0",
      "_model_name": "LayoutModel",
      "_view_count": null,
      "_view_module": "@jupyter-widgets/base",
      "_view_module_version": "1.2.0",
      "_view_name": "LayoutView",
      "align_content": null,
      "align_items": null,
      "align_self": null,
      "border": null,
      "bottom": null,
      "display": null,
      "flex": null,
      "flex_flow": null,
      "grid_area": null,
      "grid_auto_columns": null,
      "grid_auto_flow": null,
      "grid_auto_rows": null,
      "grid_column": null,
      "grid_gap": null,
      "grid_row": null,
      "grid_template_areas": null,
      "grid_template_columns": null,
      "grid_template_rows": null,
      "height": null,
      "justify_content": null,
      "justify_items": null,
      "left": null,
      "margin": null,
      "max_height": null,
      "max_width": null,
      "min_height": null,
      "min_width": null,
      "object_fit": null,
      "object_position": null,
      "order": null,
      "overflow": null,
      "overflow_x": null,
      "overflow_y": null,
      "padding": null,
      "right": null,
      "top": null,
      "visibility": null,
      "width": null
     }
    },
    "801bd5e7cdae4275b3ce4b167d7a73ce": {
     "model_module": "@jupyter-widgets/base",
     "model_module_version": "1.2.0",
     "model_name": "LayoutModel",
     "state": {
      "_model_module": "@jupyter-widgets/base",
      "_model_module_version": "1.2.0",
      "_model_name": "LayoutModel",
      "_view_count": null,
      "_view_module": "@jupyter-widgets/base",
      "_view_module_version": "1.2.0",
      "_view_name": "LayoutView",
      "align_content": null,
      "align_items": null,
      "align_self": null,
      "border": null,
      "bottom": null,
      "display": null,
      "flex": null,
      "flex_flow": null,
      "grid_area": null,
      "grid_auto_columns": null,
      "grid_auto_flow": null,
      "grid_auto_rows": null,
      "grid_column": null,
      "grid_gap": null,
      "grid_row": null,
      "grid_template_areas": null,
      "grid_template_columns": null,
      "grid_template_rows": null,
      "height": null,
      "justify_content": null,
      "justify_items": null,
      "left": null,
      "margin": null,
      "max_height": null,
      "max_width": null,
      "min_height": null,
      "min_width": null,
      "object_fit": null,
      "object_position": null,
      "order": null,
      "overflow": null,
      "overflow_x": null,
      "overflow_y": null,
      "padding": null,
      "right": null,
      "top": null,
      "visibility": null,
      "width": null
     }
    },
    "82172dbbdb4c494da2b810570e7a276d": {
     "model_module": "@jupyter-widgets/base",
     "model_module_version": "1.2.0",
     "model_name": "LayoutModel",
     "state": {
      "_model_module": "@jupyter-widgets/base",
      "_model_module_version": "1.2.0",
      "_model_name": "LayoutModel",
      "_view_count": null,
      "_view_module": "@jupyter-widgets/base",
      "_view_module_version": "1.2.0",
      "_view_name": "LayoutView",
      "align_content": null,
      "align_items": null,
      "align_self": null,
      "border": null,
      "bottom": null,
      "display": null,
      "flex": null,
      "flex_flow": null,
      "grid_area": null,
      "grid_auto_columns": null,
      "grid_auto_flow": null,
      "grid_auto_rows": null,
      "grid_column": null,
      "grid_gap": null,
      "grid_row": null,
      "grid_template_areas": null,
      "grid_template_columns": null,
      "grid_template_rows": null,
      "height": null,
      "justify_content": null,
      "justify_items": null,
      "left": null,
      "margin": null,
      "max_height": null,
      "max_width": null,
      "min_height": null,
      "min_width": null,
      "object_fit": null,
      "object_position": null,
      "order": null,
      "overflow": null,
      "overflow_x": null,
      "overflow_y": null,
      "padding": null,
      "right": null,
      "top": null,
      "visibility": null,
      "width": null
     }
    },
    "849fd51169914b9db03c2eb88c14c78f": {
     "model_module": "@jupyter-widgets/controls",
     "model_module_version": "1.5.0",
     "model_name": "HBoxModel",
     "state": {
      "_dom_classes": [],
      "_model_module": "@jupyter-widgets/controls",
      "_model_module_version": "1.5.0",
      "_model_name": "HBoxModel",
      "_view_count": null,
      "_view_module": "@jupyter-widgets/controls",
      "_view_module_version": "1.5.0",
      "_view_name": "HBoxView",
      "box_style": "",
      "children": [
       "IPY_MODEL_a41dc06e109548668e3e7c184318c5f7",
       "IPY_MODEL_0505e3b197654468852c40b0969eefc2",
       "IPY_MODEL_72f93c8aa2624ff9af8eb0af1e51e0ec"
      ],
      "layout": "IPY_MODEL_cf04009583ae401197a6ae7eb24bc057"
     }
    },
    "8788cfef8b9743d3ba8f4ae048a7ef55": {
     "model_module": "@jupyter-widgets/controls",
     "model_module_version": "1.5.0",
     "model_name": "HTMLModel",
     "state": {
      "_dom_classes": [],
      "_model_module": "@jupyter-widgets/controls",
      "_model_module_version": "1.5.0",
      "_model_name": "HTMLModel",
      "_view_count": null,
      "_view_module": "@jupyter-widgets/controls",
      "_view_module_version": "1.5.0",
      "_view_name": "HTMLView",
      "description": "",
      "description_tooltip": null,
      "layout": "IPY_MODEL_352bbf78bae847eeaa0b3b3a2d7d1e56",
      "placeholder": "​",
      "style": "IPY_MODEL_13991c625e304588938500ec45f4df8f",
      "value": "Downloading: 100%"
     }
    },
    "8d297752297f4c0484789a9ff93c85d1": {
     "model_module": "@jupyter-widgets/base",
     "model_module_version": "1.2.0",
     "model_name": "LayoutModel",
     "state": {
      "_model_module": "@jupyter-widgets/base",
      "_model_module_version": "1.2.0",
      "_model_name": "LayoutModel",
      "_view_count": null,
      "_view_module": "@jupyter-widgets/base",
      "_view_module_version": "1.2.0",
      "_view_name": "LayoutView",
      "align_content": null,
      "align_items": null,
      "align_self": null,
      "border": null,
      "bottom": null,
      "display": null,
      "flex": null,
      "flex_flow": null,
      "grid_area": null,
      "grid_auto_columns": null,
      "grid_auto_flow": null,
      "grid_auto_rows": null,
      "grid_column": null,
      "grid_gap": null,
      "grid_row": null,
      "grid_template_areas": null,
      "grid_template_columns": null,
      "grid_template_rows": null,
      "height": null,
      "justify_content": null,
      "justify_items": null,
      "left": null,
      "margin": null,
      "max_height": null,
      "max_width": null,
      "min_height": null,
      "min_width": null,
      "object_fit": null,
      "object_position": null,
      "order": null,
      "overflow": null,
      "overflow_x": null,
      "overflow_y": null,
      "padding": null,
      "right": null,
      "top": null,
      "visibility": null,
      "width": null
     }
    },
    "8d9637c1e08d4968b604c00110a4eb13": {
     "model_module": "@jupyter-widgets/controls",
     "model_module_version": "1.5.0",
     "model_name": "HBoxModel",
     "state": {
      "_dom_classes": [],
      "_model_module": "@jupyter-widgets/controls",
      "_model_module_version": "1.5.0",
      "_model_name": "HBoxModel",
      "_view_count": null,
      "_view_module": "@jupyter-widgets/controls",
      "_view_module_version": "1.5.0",
      "_view_name": "HBoxView",
      "box_style": "",
      "children": [
       "IPY_MODEL_64af23079f624cf6a83186f7f6139f1c",
       "IPY_MODEL_9a37034755c343d1876e4f47b135261e",
       "IPY_MODEL_2525ab2549fd4bee8db0ccfd7123ee78"
      ],
      "layout": "IPY_MODEL_7344d0df991448d1801854f7dc15c24d"
     }
    },
    "93f180aeeb4b4a1fb49822502e3f707b": {
     "model_module": "@jupyter-widgets/controls",
     "model_module_version": "1.5.0",
     "model_name": "HBoxModel",
     "state": {
      "_dom_classes": [],
      "_model_module": "@jupyter-widgets/controls",
      "_model_module_version": "1.5.0",
      "_model_name": "HBoxModel",
      "_view_count": null,
      "_view_module": "@jupyter-widgets/controls",
      "_view_module_version": "1.5.0",
      "_view_name": "HBoxView",
      "box_style": "",
      "children": [
       "IPY_MODEL_9415c25ea3db446687ed2e2bd26c5db7",
       "IPY_MODEL_d6beb312acc645f2854e91c74f654b23",
       "IPY_MODEL_a52935b1e505476c896645a4b191b349"
      ],
      "layout": "IPY_MODEL_65882545672c474f804d4b05ec504d4d"
     }
    },
    "9415c25ea3db446687ed2e2bd26c5db7": {
     "model_module": "@jupyter-widgets/controls",
     "model_module_version": "1.5.0",
     "model_name": "HTMLModel",
     "state": {
      "_dom_classes": [],
      "_model_module": "@jupyter-widgets/controls",
      "_model_module_version": "1.5.0",
      "_model_name": "HTMLModel",
      "_view_count": null,
      "_view_module": "@jupyter-widgets/controls",
      "_view_module_version": "1.5.0",
      "_view_name": "HTMLView",
      "description": "",
      "description_tooltip": null,
      "layout": "IPY_MODEL_edbc99bee00347e1896fffed10761e95",
      "placeholder": "​",
      "style": "IPY_MODEL_d33f777e549b42f797eff10fccd9a971",
      "value": "Downloading: 100%"
     }
    },
    "9a37034755c343d1876e4f47b135261e": {
     "model_module": "@jupyter-widgets/controls",
     "model_module_version": "1.5.0",
     "model_name": "FloatProgressModel",
     "state": {
      "_dom_classes": [],
      "_model_module": "@jupyter-widgets/controls",
      "_model_module_version": "1.5.0",
      "_model_name": "FloatProgressModel",
      "_view_count": null,
      "_view_module": "@jupyter-widgets/controls",
      "_view_module_version": "1.5.0",
      "_view_name": "ProgressView",
      "bar_style": "success",
      "description": "",
      "description_tooltip": null,
      "layout": "IPY_MODEL_801bd5e7cdae4275b3ce4b167d7a73ce",
      "max": 28,
      "min": 0,
      "orientation": "horizontal",
      "style": "IPY_MODEL_7f540d7235f547ea96a467ae8cfe66ac",
      "value": 28
     }
    },
    "a0dfbfeb79a84b5aa8ce49f2daf643d8": {
     "model_module": "@jupyter-widgets/base",
     "model_module_version": "1.2.0",
     "model_name": "LayoutModel",
     "state": {
      "_model_module": "@jupyter-widgets/base",
      "_model_module_version": "1.2.0",
      "_model_name": "LayoutModel",
      "_view_count": null,
      "_view_module": "@jupyter-widgets/base",
      "_view_module_version": "1.2.0",
      "_view_name": "LayoutView",
      "align_content": null,
      "align_items": null,
      "align_self": null,
      "border": null,
      "bottom": null,
      "display": null,
      "flex": null,
      "flex_flow": null,
      "grid_area": null,
      "grid_auto_columns": null,
      "grid_auto_flow": null,
      "grid_auto_rows": null,
      "grid_column": null,
      "grid_gap": null,
      "grid_row": null,
      "grid_template_areas": null,
      "grid_template_columns": null,
      "grid_template_rows": null,
      "height": null,
      "justify_content": null,
      "justify_items": null,
      "left": null,
      "margin": null,
      "max_height": null,
      "max_width": null,
      "min_height": null,
      "min_width": null,
      "object_fit": null,
      "object_position": null,
      "order": null,
      "overflow": null,
      "overflow_x": null,
      "overflow_y": null,
      "padding": null,
      "right": null,
      "top": null,
      "visibility": null,
      "width": null
     }
    },
    "a0fd9a85894f454ea58aa3e24bff0902": {
     "model_module": "@jupyter-widgets/controls",
     "model_module_version": "1.5.0",
     "model_name": "DescriptionStyleModel",
     "state": {
      "_model_module": "@jupyter-widgets/controls",
      "_model_module_version": "1.5.0",
      "_model_name": "DescriptionStyleModel",
      "_view_count": null,
      "_view_module": "@jupyter-widgets/base",
      "_view_module_version": "1.2.0",
      "_view_name": "StyleView",
      "description_width": ""
     }
    },
    "a1b290a505d3467c9505f1da79953557": {
     "model_module": "@jupyter-widgets/controls",
     "model_module_version": "1.5.0",
     "model_name": "DescriptionStyleModel",
     "state": {
      "_model_module": "@jupyter-widgets/controls",
      "_model_module_version": "1.5.0",
      "_model_name": "DescriptionStyleModel",
      "_view_count": null,
      "_view_module": "@jupyter-widgets/base",
      "_view_module_version": "1.2.0",
      "_view_name": "StyleView",
      "description_width": ""
     }
    },
    "a41dc06e109548668e3e7c184318c5f7": {
     "model_module": "@jupyter-widgets/controls",
     "model_module_version": "1.5.0",
     "model_name": "HTMLModel",
     "state": {
      "_dom_classes": [],
      "_model_module": "@jupyter-widgets/controls",
      "_model_module_version": "1.5.0",
      "_model_name": "HTMLModel",
      "_view_count": null,
      "_view_module": "@jupyter-widgets/controls",
      "_view_module_version": "1.5.0",
      "_view_name": "HTMLView",
      "description": "",
      "description_tooltip": null,
      "layout": "IPY_MODEL_b91a072485984147ad51388d4d8b1195",
      "placeholder": "​",
      "style": "IPY_MODEL_e9a4deaf60b04891916cde2990ad1fad",
      "value": "Downloading: 100%"
     }
    },
    "a52935b1e505476c896645a4b191b349": {
     "model_module": "@jupyter-widgets/controls",
     "model_module_version": "1.5.0",
     "model_name": "HTMLModel",
     "state": {
      "_dom_classes": [],
      "_model_module": "@jupyter-widgets/controls",
      "_model_module_version": "1.5.0",
      "_model_name": "HTMLModel",
      "_view_count": null,
      "_view_module": "@jupyter-widgets/controls",
      "_view_module_version": "1.5.0",
      "_view_name": "HTMLView",
      "description": "",
      "description_tooltip": null,
      "layout": "IPY_MODEL_7f86926d5cf9499d86cc2610c2ad9d9c",
      "placeholder": "​",
      "style": "IPY_MODEL_a1b290a505d3467c9505f1da79953557",
      "value": " 420M/420M [00:12&lt;00:00, 36.6MB/s]"
     }
    },
    "ab06e3b35dae4a69b41645785fae05c2": {
     "model_module": "@jupyter-widgets/controls",
     "model_module_version": "1.5.0",
     "model_name": "DescriptionStyleModel",
     "state": {
      "_model_module": "@jupyter-widgets/controls",
      "_model_module_version": "1.5.0",
      "_model_name": "DescriptionStyleModel",
      "_view_count": null,
      "_view_module": "@jupyter-widgets/base",
      "_view_module_version": "1.2.0",
      "_view_name": "StyleView",
      "description_width": ""
     }
    },
    "b2713b32b5e1463cb149b5b87a0b8d0d": {
     "model_module": "@jupyter-widgets/base",
     "model_module_version": "1.2.0",
     "model_name": "LayoutModel",
     "state": {
      "_model_module": "@jupyter-widgets/base",
      "_model_module_version": "1.2.0",
      "_model_name": "LayoutModel",
      "_view_count": null,
      "_view_module": "@jupyter-widgets/base",
      "_view_module_version": "1.2.0",
      "_view_name": "LayoutView",
      "align_content": null,
      "align_items": null,
      "align_self": null,
      "border": null,
      "bottom": null,
      "display": null,
      "flex": null,
      "flex_flow": null,
      "grid_area": null,
      "grid_auto_columns": null,
      "grid_auto_flow": null,
      "grid_auto_rows": null,
      "grid_column": null,
      "grid_gap": null,
      "grid_row": null,
      "grid_template_areas": null,
      "grid_template_columns": null,
      "grid_template_rows": null,
      "height": null,
      "justify_content": null,
      "justify_items": null,
      "left": null,
      "margin": null,
      "max_height": null,
      "max_width": null,
      "min_height": null,
      "min_width": null,
      "object_fit": null,
      "object_position": null,
      "order": null,
      "overflow": null,
      "overflow_x": null,
      "overflow_y": null,
      "padding": null,
      "right": null,
      "top": null,
      "visibility": null,
      "width": null
     }
    },
    "b84982a3ce2f42ee862a96239bb0d9b7": {
     "model_module": "@jupyter-widgets/controls",
     "model_module_version": "1.5.0",
     "model_name": "DescriptionStyleModel",
     "state": {
      "_model_module": "@jupyter-widgets/controls",
      "_model_module_version": "1.5.0",
      "_model_name": "DescriptionStyleModel",
      "_view_count": null,
      "_view_module": "@jupyter-widgets/base",
      "_view_module_version": "1.2.0",
      "_view_name": "StyleView",
      "description_width": ""
     }
    },
    "b91a072485984147ad51388d4d8b1195": {
     "model_module": "@jupyter-widgets/base",
     "model_module_version": "1.2.0",
     "model_name": "LayoutModel",
     "state": {
      "_model_module": "@jupyter-widgets/base",
      "_model_module_version": "1.2.0",
      "_model_name": "LayoutModel",
      "_view_count": null,
      "_view_module": "@jupyter-widgets/base",
      "_view_module_version": "1.2.0",
      "_view_name": "LayoutView",
      "align_content": null,
      "align_items": null,
      "align_self": null,
      "border": null,
      "bottom": null,
      "display": null,
      "flex": null,
      "flex_flow": null,
      "grid_area": null,
      "grid_auto_columns": null,
      "grid_auto_flow": null,
      "grid_auto_rows": null,
      "grid_column": null,
      "grid_gap": null,
      "grid_row": null,
      "grid_template_areas": null,
      "grid_template_columns": null,
      "grid_template_rows": null,
      "height": null,
      "justify_content": null,
      "justify_items": null,
      "left": null,
      "margin": null,
      "max_height": null,
      "max_width": null,
      "min_height": null,
      "min_width": null,
      "object_fit": null,
      "object_position": null,
      "order": null,
      "overflow": null,
      "overflow_x": null,
      "overflow_y": null,
      "padding": null,
      "right": null,
      "top": null,
      "visibility": null,
      "width": null
     }
    },
    "be30a29d1a48450ea624d58a7e3002af": {
     "model_module": "@jupyter-widgets/base",
     "model_module_version": "1.2.0",
     "model_name": "LayoutModel",
     "state": {
      "_model_module": "@jupyter-widgets/base",
      "_model_module_version": "1.2.0",
      "_model_name": "LayoutModel",
      "_view_count": null,
      "_view_module": "@jupyter-widgets/base",
      "_view_module_version": "1.2.0",
      "_view_name": "LayoutView",
      "align_content": null,
      "align_items": null,
      "align_self": null,
      "border": null,
      "bottom": null,
      "display": null,
      "flex": null,
      "flex_flow": null,
      "grid_area": null,
      "grid_auto_columns": null,
      "grid_auto_flow": null,
      "grid_auto_rows": null,
      "grid_column": null,
      "grid_gap": null,
      "grid_row": null,
      "grid_template_areas": null,
      "grid_template_columns": null,
      "grid_template_rows": null,
      "height": null,
      "justify_content": null,
      "justify_items": null,
      "left": null,
      "margin": null,
      "max_height": null,
      "max_width": null,
      "min_height": null,
      "min_width": null,
      "object_fit": null,
      "object_position": null,
      "order": null,
      "overflow": null,
      "overflow_x": null,
      "overflow_y": null,
      "padding": null,
      "right": null,
      "top": null,
      "visibility": null,
      "width": null
     }
    },
    "bf5e21f2bfce4a5ab512fcb3f7e9a1c5": {
     "model_module": "@jupyter-widgets/controls",
     "model_module_version": "1.5.0",
     "model_name": "DescriptionStyleModel",
     "state": {
      "_model_module": "@jupyter-widgets/controls",
      "_model_module_version": "1.5.0",
      "_model_name": "DescriptionStyleModel",
      "_view_count": null,
      "_view_module": "@jupyter-widgets/base",
      "_view_module_version": "1.2.0",
      "_view_name": "StyleView",
      "description_width": ""
     }
    },
    "ca5ecf7cfcc8489884c135961428aecf": {
     "model_module": "@jupyter-widgets/controls",
     "model_module_version": "1.5.0",
     "model_name": "HBoxModel",
     "state": {
      "_dom_classes": [],
      "_model_module": "@jupyter-widgets/controls",
      "_model_module_version": "1.5.0",
      "_model_name": "HBoxModel",
      "_view_count": null,
      "_view_module": "@jupyter-widgets/controls",
      "_view_module_version": "1.5.0",
      "_view_name": "HBoxView",
      "box_style": "",
      "children": [
       "IPY_MODEL_8788cfef8b9743d3ba8f4ae048a7ef55",
       "IPY_MODEL_e8e77e4e23ab49da9d3f72c8a0187ad1",
       "IPY_MODEL_76edfd71f6344c7581044d72f28bcd87"
      ],
      "layout": "IPY_MODEL_8d297752297f4c0484789a9ff93c85d1"
     }
    },
    "cf04009583ae401197a6ae7eb24bc057": {
     "model_module": "@jupyter-widgets/base",
     "model_module_version": "1.2.0",
     "model_name": "LayoutModel",
     "state": {
      "_model_module": "@jupyter-widgets/base",
      "_model_module_version": "1.2.0",
      "_model_name": "LayoutModel",
      "_view_count": null,
      "_view_module": "@jupyter-widgets/base",
      "_view_module_version": "1.2.0",
      "_view_name": "LayoutView",
      "align_content": null,
      "align_items": null,
      "align_self": null,
      "border": null,
      "bottom": null,
      "display": null,
      "flex": null,
      "flex_flow": null,
      "grid_area": null,
      "grid_auto_columns": null,
      "grid_auto_flow": null,
      "grid_auto_rows": null,
      "grid_column": null,
      "grid_gap": null,
      "grid_row": null,
      "grid_template_areas": null,
      "grid_template_columns": null,
      "grid_template_rows": null,
      "height": null,
      "justify_content": null,
      "justify_items": null,
      "left": null,
      "margin": null,
      "max_height": null,
      "max_width": null,
      "min_height": null,
      "min_width": null,
      "object_fit": null,
      "object_position": null,
      "order": null,
      "overflow": null,
      "overflow_x": null,
      "overflow_y": null,
      "padding": null,
      "right": null,
      "top": null,
      "visibility": null,
      "width": null
     }
    },
    "d06f79fc78184adf9c27d1582c3b086f": {
     "model_module": "@jupyter-widgets/controls",
     "model_module_version": "1.5.0",
     "model_name": "ProgressStyleModel",
     "state": {
      "_model_module": "@jupyter-widgets/controls",
      "_model_module_version": "1.5.0",
      "_model_name": "ProgressStyleModel",
      "_view_count": null,
      "_view_module": "@jupyter-widgets/base",
      "_view_module_version": "1.2.0",
      "_view_name": "StyleView",
      "bar_color": null,
      "description_width": ""
     }
    },
    "d33f777e549b42f797eff10fccd9a971": {
     "model_module": "@jupyter-widgets/controls",
     "model_module_version": "1.5.0",
     "model_name": "DescriptionStyleModel",
     "state": {
      "_model_module": "@jupyter-widgets/controls",
      "_model_module_version": "1.5.0",
      "_model_name": "DescriptionStyleModel",
      "_view_count": null,
      "_view_module": "@jupyter-widgets/base",
      "_view_module_version": "1.2.0",
      "_view_name": "StyleView",
      "description_width": ""
     }
    },
    "d6beb312acc645f2854e91c74f654b23": {
     "model_module": "@jupyter-widgets/controls",
     "model_module_version": "1.5.0",
     "model_name": "FloatProgressModel",
     "state": {
      "_dom_classes": [],
      "_model_module": "@jupyter-widgets/controls",
      "_model_module_version": "1.5.0",
      "_model_name": "FloatProgressModel",
      "_view_count": null,
      "_view_module": "@jupyter-widgets/controls",
      "_view_module_version": "1.5.0",
      "_view_name": "ProgressView",
      "bar_style": "success",
      "description": "",
      "description_tooltip": null,
      "layout": "IPY_MODEL_be30a29d1a48450ea624d58a7e3002af",
      "max": 440473133,
      "min": 0,
      "orientation": "horizontal",
      "style": "IPY_MODEL_f0a7f3c85dea478dad8bbac4f803ee67",
      "value": 440473133
     }
    },
    "e259b8f6220448388ba911c8d4b9bf80": {
     "model_module": "@jupyter-widgets/controls",
     "model_module_version": "1.5.0",
     "model_name": "HTMLModel",
     "state": {
      "_dom_classes": [],
      "_model_module": "@jupyter-widgets/controls",
      "_model_module_version": "1.5.0",
      "_model_name": "HTMLModel",
      "_view_count": null,
      "_view_module": "@jupyter-widgets/controls",
      "_view_module_version": "1.5.0",
      "_view_name": "HTMLView",
      "description": "",
      "description_tooltip": null,
      "layout": "IPY_MODEL_5a41ea23db484145b5a3aff80548b9ab",
      "placeholder": "​",
      "style": "IPY_MODEL_b84982a3ce2f42ee862a96239bb0d9b7",
      "value": " 226k/226k [00:00&lt;00:00, 501kB/s]"
     }
    },
    "e8e77e4e23ab49da9d3f72c8a0187ad1": {
     "model_module": "@jupyter-widgets/controls",
     "model_module_version": "1.5.0",
     "model_name": "FloatProgressModel",
     "state": {
      "_dom_classes": [],
      "_model_module": "@jupyter-widgets/controls",
      "_model_module_version": "1.5.0",
      "_model_name": "FloatProgressModel",
      "_view_count": null,
      "_view_module": "@jupyter-widgets/controls",
      "_view_module_version": "1.5.0",
      "_view_name": "ProgressView",
      "bar_style": "success",
      "description": "",
      "description_tooltip": null,
      "layout": "IPY_MODEL_32799f999dc64af984985a08a299ced7",
      "max": 466062,
      "min": 0,
      "orientation": "horizontal",
      "style": "IPY_MODEL_3f00e76258674e42b1b29e8a3d9d8459",
      "value": 466062
     }
    },
    "e9a4deaf60b04891916cde2990ad1fad": {
     "model_module": "@jupyter-widgets/controls",
     "model_module_version": "1.5.0",
     "model_name": "DescriptionStyleModel",
     "state": {
      "_model_module": "@jupyter-widgets/controls",
      "_model_module_version": "1.5.0",
      "_model_name": "DescriptionStyleModel",
      "_view_count": null,
      "_view_module": "@jupyter-widgets/base",
      "_view_module_version": "1.2.0",
      "_view_name": "StyleView",
      "description_width": ""
     }
    },
    "ec7c2b082e254764a8c9877e9b6bfc7e": {
     "model_module": "@jupyter-widgets/base",
     "model_module_version": "1.2.0",
     "model_name": "LayoutModel",
     "state": {
      "_model_module": "@jupyter-widgets/base",
      "_model_module_version": "1.2.0",
      "_model_name": "LayoutModel",
      "_view_count": null,
      "_view_module": "@jupyter-widgets/base",
      "_view_module_version": "1.2.0",
      "_view_name": "LayoutView",
      "align_content": null,
      "align_items": null,
      "align_self": null,
      "border": null,
      "bottom": null,
      "display": null,
      "flex": null,
      "flex_flow": null,
      "grid_area": null,
      "grid_auto_columns": null,
      "grid_auto_flow": null,
      "grid_auto_rows": null,
      "grid_column": null,
      "grid_gap": null,
      "grid_row": null,
      "grid_template_areas": null,
      "grid_template_columns": null,
      "grid_template_rows": null,
      "height": null,
      "justify_content": null,
      "justify_items": null,
      "left": null,
      "margin": null,
      "max_height": null,
      "max_width": null,
      "min_height": null,
      "min_width": null,
      "object_fit": null,
      "object_position": null,
      "order": null,
      "overflow": null,
      "overflow_x": null,
      "overflow_y": null,
      "padding": null,
      "right": null,
      "top": null,
      "visibility": null,
      "width": null
     }
    },
    "edbc99bee00347e1896fffed10761e95": {
     "model_module": "@jupyter-widgets/base",
     "model_module_version": "1.2.0",
     "model_name": "LayoutModel",
     "state": {
      "_model_module": "@jupyter-widgets/base",
      "_model_module_version": "1.2.0",
      "_model_name": "LayoutModel",
      "_view_count": null,
      "_view_module": "@jupyter-widgets/base",
      "_view_module_version": "1.2.0",
      "_view_name": "LayoutView",
      "align_content": null,
      "align_items": null,
      "align_self": null,
      "border": null,
      "bottom": null,
      "display": null,
      "flex": null,
      "flex_flow": null,
      "grid_area": null,
      "grid_auto_columns": null,
      "grid_auto_flow": null,
      "grid_auto_rows": null,
      "grid_column": null,
      "grid_gap": null,
      "grid_row": null,
      "grid_template_areas": null,
      "grid_template_columns": null,
      "grid_template_rows": null,
      "height": null,
      "justify_content": null,
      "justify_items": null,
      "left": null,
      "margin": null,
      "max_height": null,
      "max_width": null,
      "min_height": null,
      "min_width": null,
      "object_fit": null,
      "object_position": null,
      "order": null,
      "overflow": null,
      "overflow_x": null,
      "overflow_y": null,
      "padding": null,
      "right": null,
      "top": null,
      "visibility": null,
      "width": null
     }
    },
    "f0a7f3c85dea478dad8bbac4f803ee67": {
     "model_module": "@jupyter-widgets/controls",
     "model_module_version": "1.5.0",
     "model_name": "ProgressStyleModel",
     "state": {
      "_model_module": "@jupyter-widgets/controls",
      "_model_module_version": "1.5.0",
      "_model_name": "ProgressStyleModel",
      "_view_count": null,
      "_view_module": "@jupyter-widgets/base",
      "_view_module_version": "1.2.0",
      "_view_name": "StyleView",
      "bar_color": null,
      "description_width": ""
     }
    },
    "f19c6985d3c1490f9432a3b1a901ac1e": {
     "model_module": "@jupyter-widgets/base",
     "model_module_version": "1.2.0",
     "model_name": "LayoutModel",
     "state": {
      "_model_module": "@jupyter-widgets/base",
      "_model_module_version": "1.2.0",
      "_model_name": "LayoutModel",
      "_view_count": null,
      "_view_module": "@jupyter-widgets/base",
      "_view_module_version": "1.2.0",
      "_view_name": "LayoutView",
      "align_content": null,
      "align_items": null,
      "align_self": null,
      "border": null,
      "bottom": null,
      "display": null,
      "flex": null,
      "flex_flow": null,
      "grid_area": null,
      "grid_auto_columns": null,
      "grid_auto_flow": null,
      "grid_auto_rows": null,
      "grid_column": null,
      "grid_gap": null,
      "grid_row": null,
      "grid_template_areas": null,
      "grid_template_columns": null,
      "grid_template_rows": null,
      "height": null,
      "justify_content": null,
      "justify_items": null,
      "left": null,
      "margin": null,
      "max_height": null,
      "max_width": null,
      "min_height": null,
      "min_width": null,
      "object_fit": null,
      "object_position": null,
      "order": null,
      "overflow": null,
      "overflow_x": null,
      "overflow_y": null,
      "padding": null,
      "right": null,
      "top": null,
      "visibility": null,
      "width": null
     }
    },
    "f25f0d6379224b84908e3d802777274f": {
     "model_module": "@jupyter-widgets/controls",
     "model_module_version": "1.5.0",
     "model_name": "HBoxModel",
     "state": {
      "_dom_classes": [],
      "_model_module": "@jupyter-widgets/controls",
      "_model_module_version": "1.5.0",
      "_model_name": "HBoxModel",
      "_view_count": null,
      "_view_module": "@jupyter-widgets/controls",
      "_view_module_version": "1.5.0",
      "_view_name": "HBoxView",
      "box_style": "",
      "children": [
       "IPY_MODEL_6b473431dc9345e884cec5d02906613c",
       "IPY_MODEL_36d250b7576347ecb321b18679aaddfe",
       "IPY_MODEL_e259b8f6220448388ba911c8d4b9bf80"
      ],
      "layout": "IPY_MODEL_b2713b32b5e1463cb149b5b87a0b8d0d"
     }
    },
    "f61e9aa42dcb4798a1193fb2d8c18c13": {
     "model_module": "@jupyter-widgets/base",
     "model_module_version": "1.2.0",
     "model_name": "LayoutModel",
     "state": {
      "_model_module": "@jupyter-widgets/base",
      "_model_module_version": "1.2.0",
      "_model_name": "LayoutModel",
      "_view_count": null,
      "_view_module": "@jupyter-widgets/base",
      "_view_module_version": "1.2.0",
      "_view_name": "LayoutView",
      "align_content": null,
      "align_items": null,
      "align_self": null,
      "border": null,
      "bottom": null,
      "display": null,
      "flex": null,
      "flex_flow": null,
      "grid_area": null,
      "grid_auto_columns": null,
      "grid_auto_flow": null,
      "grid_auto_rows": null,
      "grid_column": null,
      "grid_gap": null,
      "grid_row": null,
      "grid_template_areas": null,
      "grid_template_columns": null,
      "grid_template_rows": null,
      "height": null,
      "justify_content": null,
      "justify_items": null,
      "left": null,
      "margin": null,
      "max_height": null,
      "max_width": null,
      "min_height": null,
      "min_width": null,
      "object_fit": null,
      "object_position": null,
      "order": null,
      "overflow": null,
      "overflow_x": null,
      "overflow_y": null,
      "padding": null,
      "right": null,
      "top": null,
      "visibility": null,
      "width": null
     }
    }
   }
  }
 },
 "nbformat": 4,
 "nbformat_minor": 1
}

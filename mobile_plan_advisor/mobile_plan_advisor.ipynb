{
 "cells": [
  {
   "cell_type": "markdown",
   "metadata": {},
   "source": [
    "# Рекомендация тарифов"
   ]
  },
  {
   "cell_type": "markdown",
   "metadata": {},
   "source": [
    "В нашем распоряжении уже предобработанные данные о поведении клиентов, использующих разные тарифы (из проекта «Определение перспективного тарифа для телеком-компании»). Необходимо выстроить модель классификации, которая будет рекомендовать клиенту подходящий тариф.\n",
    "\n",
    "Задача - построить модель с максимально большим значением *accuracy*. Требуется довести долю правильных ответов на тестовой выборке по крайней мере до 0.75.\n",
    "\n",
    "**Предоставленные данные:**\n",
    "- данные о поведении клиентов, уже использующих новые тарифы. Предобработка данных уже проведена.\n",
    "\n",
    "**Этапы работы:**\n",
    "1. Обзор предоставленных данных.\n",
    "2. Выделение обучающей, валидационной и тестовой выборок.\n",
    "3. Исследование качества разных моделей, подбор гиперпараметров.\n",
    "4. Проверка качества модели на тестовой выборке.\n",
    "5. Проверка модели на вменяемость.\n",
    "\n",
    "**Цель работы:**\n",
    "\n",
    "Построение модели для задачи классификации, способной предложить клиентам пододящий тариф на основе данных об их поведении.\n",
    "\n",
    "**Используемые библиотеки:**\n",
    "\n",
    "- Pandas\n",
    "- Scikit-learn\n",
    "- Matplotlib\n",
    "- Seaborn\n",
    "- XGBoost\n",
    "- tqdm"
   ]
  },
  {
   "cell_type": "markdown",
   "metadata": {
    "toc": true
   },
   "source": [
    "<h1>Содержание:<span class=\"tocSkip\"></span></h1>\n",
    "<div class=\"toc\"><ul class=\"toc-item\"><li><span><a href=\"#Обзор-данных\" data-toc-modified-id=\"Обзор-данных-1\"><span class=\"toc-item-num\">1&nbsp;&nbsp;</span>Обзор данных</a></span><ul class=\"toc-item\"><li><span><a href=\"#Вывод\" data-toc-modified-id=\"Вывод-1.1\"><span class=\"toc-item-num\">1.1&nbsp;&nbsp;</span>Вывод</a></span></li></ul></li><li><span><a href=\"#Выделение-выборок\" data-toc-modified-id=\"Выделение-выборок-2\"><span class=\"toc-item-num\">2&nbsp;&nbsp;</span>Выделение выборок</a></span></li><li><span><a href=\"#Исследование-моделей\" data-toc-modified-id=\"Исследование-моделей-3\"><span class=\"toc-item-num\">3&nbsp;&nbsp;</span>Исследование моделей</a></span><ul class=\"toc-item\"><li><span><a href=\"#Логистическая-регрессия\" data-toc-modified-id=\"Логистическая-регрессия-3.1\"><span class=\"toc-item-num\">3.1&nbsp;&nbsp;</span>Логистическая регрессия</a></span></li><li><span><a href=\"#Дерево-решений\" data-toc-modified-id=\"Дерево-решений-3.2\"><span class=\"toc-item-num\">3.2&nbsp;&nbsp;</span>Дерево решений</a></span></li><li><span><a href=\"#Случайный-лес\" data-toc-modified-id=\"Случайный-лес-3.3\"><span class=\"toc-item-num\">3.3&nbsp;&nbsp;</span>Случайный лес</a></span></li><li><span><a href=\"#Градиентный-бустинг\" data-toc-modified-id=\"Градиентный-бустинг-3.4\"><span class=\"toc-item-num\">3.4&nbsp;&nbsp;</span>Градиентный бустинг</a></span></li><li><span><a href=\"#Вывод\" data-toc-modified-id=\"Вывод-3.5\"><span class=\"toc-item-num\">3.5&nbsp;&nbsp;</span>Вывод</a></span></li></ul></li><li><span><a href=\"#Проверка-моделей-на-тестовой-выборке-и-общий-вывод\" data-toc-modified-id=\"Проверка-моделей-на-тестовой-выборке-и-общий-вывод-4\"><span class=\"toc-item-num\">4&nbsp;&nbsp;</span>Проверка моделей на тестовой выборке и общий вывод</a></span></li><li><span><a href=\"#Проверка-моделей-на-адекватность\" data-toc-modified-id=\"Проверка-моделей-на-адекватность-5\"><span class=\"toc-item-num\">5&nbsp;&nbsp;</span>Проверка моделей на адекватность</a></span></li></ul></div>"
   ]
  },
  {
   "cell_type": "markdown",
   "metadata": {},
   "source": [
    "## Обзор данных"
   ]
  },
  {
   "cell_type": "code",
   "execution_count": 1,
   "metadata": {},
   "outputs": [],
   "source": [
    "# Импортируем необходимые модули:\n",
    "import pandas as pd\n",
    "\n",
    "from sklearn.model_selection import train_test_split \n",
    "from sklearn.tree import DecisionTreeClassifier\n",
    "from sklearn.ensemble import RandomForestClassifier\n",
    "from sklearn.linear_model import LogisticRegression\n",
    "from sklearn.dummy import DummyClassifier\n",
    "from sklearn import base, tree\n",
    "from sklearn.utils import resample\n",
    "\n",
    "from xgboost import XGBClassifier\n",
    "\n",
    "from matplotlib import pyplot as plt\n",
    "import seaborn as sns\n",
    "from tqdm import tqdm"
   ]
  },
  {
   "cell_type": "markdown",
   "metadata": {},
   "source": [
    "Ознакомимся с общей информацией и выборкой из таблицы:"
   ]
  },
  {
   "cell_type": "code",
   "execution_count": 2,
   "metadata": {},
   "outputs": [
    {
     "name": "stdout",
     "output_type": "stream",
     "text": [
      "<class 'pandas.core.frame.DataFrame'>\n",
      "RangeIndex: 3214 entries, 0 to 3213\n",
      "Data columns (total 5 columns):\n",
      " #   Column    Non-Null Count  Dtype  \n",
      "---  ------    --------------  -----  \n",
      " 0   calls     3214 non-null   float64\n",
      " 1   minutes   3214 non-null   float64\n",
      " 2   messages  3214 non-null   float64\n",
      " 3   mb_used   3214 non-null   float64\n",
      " 4   is_ultra  3214 non-null   int64  \n",
      "dtypes: float64(4), int64(1)\n",
      "memory usage: 125.7 KB\n"
     ]
    }
   ],
   "source": [
    "df = pd.read_csv('users_behavior.csv')\n",
    "df.info()"
   ]
  },
  {
   "cell_type": "code",
   "execution_count": 3,
   "metadata": {},
   "outputs": [
    {
     "data": {
      "text/html": [
       "<div>\n",
       "<style scoped>\n",
       "    .dataframe tbody tr th:only-of-type {\n",
       "        vertical-align: middle;\n",
       "    }\n",
       "\n",
       "    .dataframe tbody tr th {\n",
       "        vertical-align: top;\n",
       "    }\n",
       "\n",
       "    .dataframe thead th {\n",
       "        text-align: right;\n",
       "    }\n",
       "</style>\n",
       "<table border=\"1\" class=\"dataframe\">\n",
       "  <thead>\n",
       "    <tr style=\"text-align: right;\">\n",
       "      <th></th>\n",
       "      <th>calls</th>\n",
       "      <th>minutes</th>\n",
       "      <th>messages</th>\n",
       "      <th>mb_used</th>\n",
       "      <th>is_ultra</th>\n",
       "    </tr>\n",
       "  </thead>\n",
       "  <tbody>\n",
       "    <tr>\n",
       "      <th>3091</th>\n",
       "      <td>17.0</td>\n",
       "      <td>91.03</td>\n",
       "      <td>13.0</td>\n",
       "      <td>2614.07</td>\n",
       "      <td>1</td>\n",
       "    </tr>\n",
       "    <tr>\n",
       "      <th>1651</th>\n",
       "      <td>58.0</td>\n",
       "      <td>408.53</td>\n",
       "      <td>2.0</td>\n",
       "      <td>15346.04</td>\n",
       "      <td>0</td>\n",
       "    </tr>\n",
       "    <tr>\n",
       "      <th>2747</th>\n",
       "      <td>43.0</td>\n",
       "      <td>343.32</td>\n",
       "      <td>20.0</td>\n",
       "      <td>6377.68</td>\n",
       "      <td>0</td>\n",
       "    </tr>\n",
       "    <tr>\n",
       "      <th>2306</th>\n",
       "      <td>54.0</td>\n",
       "      <td>366.17</td>\n",
       "      <td>59.0</td>\n",
       "      <td>19497.32</td>\n",
       "      <td>0</td>\n",
       "    </tr>\n",
       "    <tr>\n",
       "      <th>3104</th>\n",
       "      <td>81.0</td>\n",
       "      <td>509.52</td>\n",
       "      <td>40.0</td>\n",
       "      <td>27210.40</td>\n",
       "      <td>1</td>\n",
       "    </tr>\n",
       "    <tr>\n",
       "      <th>3189</th>\n",
       "      <td>46.0</td>\n",
       "      <td>329.61</td>\n",
       "      <td>42.0</td>\n",
       "      <td>13249.14</td>\n",
       "      <td>0</td>\n",
       "    </tr>\n",
       "    <tr>\n",
       "      <th>2132</th>\n",
       "      <td>18.0</td>\n",
       "      <td>117.80</td>\n",
       "      <td>0.0</td>\n",
       "      <td>10006.79</td>\n",
       "      <td>1</td>\n",
       "    </tr>\n",
       "    <tr>\n",
       "      <th>1767</th>\n",
       "      <td>50.0</td>\n",
       "      <td>375.76</td>\n",
       "      <td>78.0</td>\n",
       "      <td>12666.67</td>\n",
       "      <td>1</td>\n",
       "    </tr>\n",
       "    <tr>\n",
       "      <th>65</th>\n",
       "      <td>98.0</td>\n",
       "      <td>677.18</td>\n",
       "      <td>46.0</td>\n",
       "      <td>16285.67</td>\n",
       "      <td>0</td>\n",
       "    </tr>\n",
       "    <tr>\n",
       "      <th>1379</th>\n",
       "      <td>77.0</td>\n",
       "      <td>480.37</td>\n",
       "      <td>33.0</td>\n",
       "      <td>20586.08</td>\n",
       "      <td>0</td>\n",
       "    </tr>\n",
       "  </tbody>\n",
       "</table>\n",
       "</div>"
      ],
      "text/plain": [
       "      calls  minutes  messages   mb_used  is_ultra\n",
       "3091   17.0    91.03      13.0   2614.07         1\n",
       "1651   58.0   408.53       2.0  15346.04         0\n",
       "2747   43.0   343.32      20.0   6377.68         0\n",
       "2306   54.0   366.17      59.0  19497.32         0\n",
       "3104   81.0   509.52      40.0  27210.40         1\n",
       "3189   46.0   329.61      42.0  13249.14         0\n",
       "2132   18.0   117.80       0.0  10006.79         1\n",
       "1767   50.0   375.76      78.0  12666.67         1\n",
       "65     98.0   677.18      46.0  16285.67         0\n",
       "1379   77.0   480.37      33.0  20586.08         0"
      ]
     },
     "execution_count": 3,
     "metadata": {},
     "output_type": "execute_result"
    }
   ],
   "source": [
    "# Здесь и далее мы будем использовать постоянный random seed для воспроизведения результатов:\n",
    "random_state = 177013\n",
    "df.sample(n=10, random_state=random_state)"
   ]
  },
  {
   "cell_type": "markdown",
   "metadata": {},
   "source": [
    "Хотя данные уже оговорены как предобработанные, на всякий случай проверим их на дубликаты и пропущенные значения в столбцах:"
   ]
  },
  {
   "cell_type": "code",
   "execution_count": 4,
   "metadata": {
    "scrolled": true
   },
   "outputs": [
    {
     "data": {
      "text/plain": [
       "0"
      ]
     },
     "execution_count": 4,
     "metadata": {},
     "output_type": "execute_result"
    }
   ],
   "source": [
    "df.duplicated().sum()"
   ]
  },
  {
   "cell_type": "code",
   "execution_count": 5,
   "metadata": {},
   "outputs": [
    {
     "data": {
      "text/plain": [
       "calls       0.0\n",
       "minutes     0.0\n",
       "messages    0.0\n",
       "mb_used     0.0\n",
       "is_ultra    0.0\n",
       "dtype: float64"
      ]
     },
     "execution_count": 5,
     "metadata": {},
     "output_type": "execute_result"
    }
   ],
   "source": [
    "df.isnull().mean()"
   ]
  },
  {
   "cell_type": "markdown",
   "metadata": {},
   "source": [
    "### Вывод"
   ]
  },
  {
   "cell_type": "markdown",
   "metadata": {},
   "source": [
    "Предоставлены данных о 3214 клиентах по 5 признакам (в том числе 4 числовым и 1 категориальному). Предобработка данных выглядит удовлетворительной: явных дубликатов и пропусков нет. Использование вещественных чисел вместо целых в сочетании с sklearn выглядит даже предпочтительней, бинарный признак для тарифа - еще лучше."
   ]
  },
  {
   "cell_type": "code",
   "execution_count": 6,
   "metadata": {},
   "outputs": [
    {
     "data": {
      "image/png": "[encoded data removed]",
      "text/plain": [
       "<Figure size 1152x1152 with 25 Axes>"
      ]
     },
     "metadata": {
      "needs_background": "light"
     },
     "output_type": "display_data"
    }
   ],
   "source": [
    "pd.plotting.scatter_matrix(df, figsize=(16,16));"
   ]
  },
  {
   "cell_type": "markdown",
   "metadata": {},
   "source": [
    "Минуты и число звонков зависят почти линейно, с очень небольшим разбросом. Другие факторы не показывают такой четкой зависимости, но на всякий случай проверим корреляцию:"
   ]
  },
  {
   "cell_type": "code",
   "execution_count": 7,
   "metadata": {},
   "outputs": [
    {
     "data": {
      "image/png": "[encoded data removed]",
      "text/plain": [
       "<Figure size 720x576 with 2 Axes>"
      ]
     },
     "metadata": {
      "needs_background": "light"
     },
     "output_type": "display_data"
    }
   ],
   "source": [
    "plt.figure(figsize=(10,8))\n",
    "sns.heatmap(df.corr(), annot=True);"
   ]
  },
  {
   "cell_type": "markdown",
   "metadata": {},
   "source": [
    "Действительно, корреляция числа разговоров и минут 0,98! Избавиться от одного из столбцов вполне разумно. Остальные признаки показывают низкий коэффициент, так что это говорит лишь о том, что активные пользователи одной из услуг могут активнее использовать и другие, но далеко не всегда."
   ]
  },
  {
   "cell_type": "code",
   "execution_count": 8,
   "metadata": {},
   "outputs": [],
   "source": [
    "df = df.drop('calls', axis=1)"
   ]
  },
  {
   "cell_type": "markdown",
   "metadata": {},
   "source": [
    "## Выделение выборок"
   ]
  },
  {
   "cell_type": "markdown",
   "metadata": {},
   "source": [
    "Впрочем, есть момент, о котором предобработка не позаботилась: датасет не сбалансирован:"
   ]
  },
  {
   "cell_type": "code",
   "execution_count": 9,
   "metadata": {},
   "outputs": [
    {
     "data": {
      "text/plain": [
       "0    0.693528\n",
       "1    0.306472\n",
       "Name: is_ultra, dtype: float64"
      ]
     },
     "execution_count": 9,
     "metadata": {},
     "output_type": "execute_result"
    }
   ],
   "source": [
    "df['is_ultra'].value_counts(normalize=True)"
   ]
  },
  {
   "cell_type": "markdown",
   "metadata": {},
   "source": [
    "69% пользователей используют тариф *smart*, иными словами, всегда выбирая этот ответ, мы бы получили 69% точности предсказаний. Модели, обученные на таком распределении, показали бы удовлетворительную точность в среднем, но для каждого тарифа точность сильно отличалась бы.\n",
    "\n",
    "Поправить дело нам поможет *sklearn.utils.resample()*:"
   ]
  },
  {
   "cell_type": "code",
   "execution_count": 10,
   "metadata": {},
   "outputs": [
    {
     "data": {
      "text/plain": [
       "(1928, 4)"
      ]
     },
     "execution_count": 10,
     "metadata": {},
     "output_type": "execute_result"
    }
   ],
   "source": [
    "df_train = df.sample(frac=0.6, random_state=random_state)\n",
    "df_valid = df[~df.index.isin(df_train.index)]\n",
    "df_train.shape"
   ]
  },
  {
   "cell_type": "code",
   "execution_count": 11,
   "metadata": {},
   "outputs": [
    {
     "data": {
      "text/plain": [
       "3214"
      ]
     },
     "execution_count": 11,
     "metadata": {},
     "output_type": "execute_result"
    }
   ],
   "source": [
    "df_train.shape[0] + df_valid.shape[0]"
   ]
  },
  {
   "cell_type": "markdown",
   "metadata": {},
   "source": [
    "Мы выделим 60% данных для обучения и по 20% для валидации и тестирования, но при этом сбалансируем классы в обучающем наборе, тем самым увеличив его:"
   ]
  },
  {
   "cell_type": "code",
   "execution_count": 12,
   "metadata": {},
   "outputs": [
    {
     "data": {
      "text/plain": [
       "0    1323\n",
       "1    1323\n",
       "Name: is_ultra, dtype: int64"
      ]
     },
     "execution_count": 12,
     "metadata": {},
     "output_type": "execute_result"
    }
   ],
   "source": [
    "df_smart = df_train[df_train['is_ultra']==0]\n",
    "df_ultra = df_train[df_train['is_ultra']==1]\n",
    "\n",
    "smart_len = len (df_smart)\n",
    "\n",
    "df_ultra_oversample = resample(df_ultra, replace=True, n_samples=len(df_smart), random_state=random_state)\n",
    "\n",
    "df_train = pd.concat([df_smart, df_ultra_oversample])\n",
    "\n",
    "df_train['is_ultra'].value_counts()"
   ]
  },
  {
   "cell_type": "markdown",
   "metadata": {},
   "source": [
    "Теперь отделим целевой признак от остальных и создадим обучающую, проверочную и тестовую выборки на базе этих двух наборов:"
   ]
  },
  {
   "cell_type": "code",
   "execution_count": 13,
   "metadata": {},
   "outputs": [],
   "source": [
    "features_train = df_train.drop('is_ultra', axis=1)\n",
    "target_train = df_train['is_ultra']\n",
    "\n",
    "features_valid = df_valid.drop('is_ultra', axis=1)\n",
    "target_valid = df_valid['is_ultra']"
   ]
  },
  {
   "cell_type": "code",
   "execution_count": 14,
   "metadata": {},
   "outputs": [
    {
     "name": "stdout",
     "output_type": "stream",
     "text": [
      "Couldn't find program: 'echo'\n"
     ]
    }
   ],
   "source": [
    "%%script echo (Если вы хотите проверить работу моделей без балансировки обучающей выборки, закомментируйте эту строку.)\n",
    "features = df.drop('is_ultra', axis=1)\n",
    "target = df['is_ultra']\n",
    "features_train, features_valid, target_train, target_valid = train_test_split(features, target, test_size=0.4, random_state=random_state)"
   ]
  },
  {
   "cell_type": "code",
   "execution_count": 15,
   "metadata": {},
   "outputs": [],
   "source": [
    "# Выделим тестовую выборку:\n",
    "features_valid, features_test, target_valid, target_test = train_test_split(features_valid, target_valid, test_size=0.5, random_state=random_state)"
   ]
  },
  {
   "cell_type": "markdown",
   "metadata": {},
   "source": [
    "## Исследование моделей"
   ]
  },
  {
   "cell_type": "markdown",
   "metadata": {},
   "source": [
    "### Логистическая регрессия"
   ]
  },
  {
   "cell_type": "markdown",
   "metadata": {},
   "source": [
    "Начнем с самого простого и быстрого метода: логистической регрессии."
   ]
  },
  {
   "cell_type": "code",
   "execution_count": 16,
   "metadata": {},
   "outputs": [],
   "source": [
    "def print_hyps(model):\n",
    "    global best_score\n",
    "    print(f'Класс: {type(model)}')\n",
    "    if hasattr(model,'solver'):\n",
    "        print(f'Метод: {model.solver}')\n",
    "    if hasattr(model,'max_depth'):\n",
    "        print(f'Предел высоты: {model.max_depth}')\n",
    "    if hasattr(model,'min_samples_leaf'):\n",
    "        print(f'Минимальный размер узла: {model.min_samples_leaf}')\n",
    "    if hasattr(model,'n_estimators'):\n",
    "        print(f'Количество деревьев: {model.n_estimators}')\n",
    "    print(f'Качество: {best_score:.0%}')"
   ]
  },
  {
   "cell_type": "code",
   "execution_count": 17,
   "metadata": {},
   "outputs": [],
   "source": [
    "best_logres = None\n",
    "best_score = 0\n",
    "\n",
    "# newton-cg и sag/saga не очень сходятся:\n",
    "for solver in ['lbfgs', 'liblinear']:\n",
    "    model = LogisticRegression(random_state=random_state, solver=solver)\n",
    "    model.fit(features_train, target_train)\n",
    "    score = model.score(features_valid, target_valid)\n",
    "    if score > best_score:\n",
    "        best_score = score\n",
    "        best_logres = model"
   ]
  },
  {
   "cell_type": "code",
   "execution_count": 18,
   "metadata": {},
   "outputs": [
    {
     "name": "stdout",
     "output_type": "stream",
     "text": [
      "Класс: <class 'sklearn.linear_model._logistic.LogisticRegression'>\n",
      "Метод: lbfgs\n",
      "Качество: 65%\n"
     ]
    }
   ],
   "source": [
    "print_hyps(best_logres)"
   ]
  },
  {
   "cell_type": "markdown",
   "metadata": {},
   "source": [
    "Всего лишь <font color='purple'>65%</font> на валидации. Отметим, что для несбалансированного датасета средний результат был бы на первый взгляд лучше - около 75%, но это достигалось бы за счет совершенно неприемлемой точности на тарифе *ultra*."
   ]
  },
  {
   "cell_type": "markdown",
   "metadata": {},
   "source": [
    "### Дерево решений"
   ]
  },
  {
   "cell_type": "markdown",
   "metadata": {},
   "source": [
    "Для дерева решений мы попробуем подобрать оптимальные гиперпараметры `max_depth` (высота дерева) и `min_samples_leaf` (минимальный размер \"листа\", то есть конечного узла, позволяющий уменьшить сложность дерева):"
   ]
  },
  {
   "cell_type": "code",
   "execution_count": 19,
   "metadata": {},
   "outputs": [
    {
     "name": "stderr",
     "output_type": "stream",
     "text": [
      "100%|████████████████████████████████████████████████████████████████████████████████████| 9/9 [00:00<00:00, 43.18it/s]\n"
     ]
    }
   ],
   "source": [
    "best_tree = None\n",
    "best_score = 0\n",
    "\n",
    "for depth in tqdm(range(1, 10)):\n",
    "    for samples in range(1,5):\n",
    "        model = DecisionTreeClassifier(random_state=random_state, max_depth=depth, min_samples_leaf=samples)\n",
    "        model.fit(features_train, target_train)\n",
    "        score = model.score(features_valid,target_valid)\n",
    "        if score > best_score:\n",
    "            best_score = score\n",
    "            best_tree = model"
   ]
  },
  {
   "cell_type": "code",
   "execution_count": 20,
   "metadata": {
    "scrolled": true
   },
   "outputs": [
    {
     "name": "stdout",
     "output_type": "stream",
     "text": [
      "Класс: <class 'sklearn.tree._classes.DecisionTreeClassifier'>\n",
      "Предел высоты: 3\n",
      "Минимальный размер узла: 1\n",
      "Качество: 79%\n"
     ]
    }
   ],
   "source": [
    "print_hyps(best_tree)"
   ]
  },
  {
   "cell_type": "markdown",
   "metadata": {},
   "source": [
    "Оптимизация позволила нам достичь точности в 79%, дальнейшее увеличение высоты показывает себя нецелесообразным.\n",
    "\n",
    "Кроме того, модель легко наглядно визуализировать, что тоже плюс."
   ]
  },
  {
   "cell_type": "code",
   "execution_count": 21,
   "metadata": {
    "scrolled": false
   },
   "outputs": [
    {
     "data": {
      "image/png": "[encoded data removed]",
      "text/plain": [
       "<Figure size 1152x432 with 1 Axes>"
      ]
     },
     "metadata": {
      "needs_background": "light"
     },
     "output_type": "display_data"
    }
   ],
   "source": [
    "plt.figure(figsize=(16,6))\n",
    "tree.plot_tree(best_tree, feature_names=features_train.columns, class_names=['smart','ultra'],filled=True);"
   ]
  },
  {
   "cell_type": "markdown",
   "metadata": {},
   "source": [
    "### Случайный лес"
   ]
  },
  {
   "cell_type": "markdown",
   "metadata": {},
   "source": [
    "У Random Forest есть несколько гиперпараметров, которые могут помочь нам улучшить качество модели, хотя подбор займет некоторое время:"
   ]
  },
  {
   "cell_type": "code",
   "execution_count": 22,
   "metadata": {},
   "outputs": [
    {
     "name": "stderr",
     "output_type": "stream",
     "text": [
      "100%|████████████████████████████████████████████████████████████████████████████████████| 9/9 [00:04<00:00,  1.96it/s]\n"
     ]
    }
   ],
   "source": [
    "best_forest = None\n",
    "best_score = 0\n",
    "\n",
    "for est in tqdm(range(1,10)):\n",
    "    for depth in range(1,10):\n",
    "        for samples in range(1,5):\n",
    "            model = RandomForestClassifier(random_state=random_state, max_depth=depth, min_samples_leaf=samples, n_estimators=est)\n",
    "            model.fit(features_train, target_train)\n",
    "            score = model.score(features_valid,target_valid)\n",
    "            if score > best_score:\n",
    "                best_score = score\n",
    "                best_forest = model"
   ]
  },
  {
   "cell_type": "code",
   "execution_count": 23,
   "metadata": {
    "scrolled": true
   },
   "outputs": [
    {
     "name": "stdout",
     "output_type": "stream",
     "text": [
      "Класс: <class 'sklearn.ensemble._forest.RandomForestClassifier'>\n",
      "Предел высоты: 6\n",
      "Минимальный размер узла: 1\n",
      "Количество деревьев: 3\n",
      "Качество: 80%\n"
     ]
    }
   ],
   "source": [
    "print_hyps(best_forest)"
   ]
  },
  {
   "cell_type": "markdown",
   "metadata": {},
   "source": [
    "80% попаданий на валидации, качество растет."
   ]
  },
  {
   "cell_type": "markdown",
   "metadata": {},
   "source": [
    "### Градиентный бустинг"
   ]
  },
  {
   "cell_type": "markdown",
   "metadata": {},
   "source": [
    "Результаты уже можно считать приемлемыми, но для полноты картины попробуем применить очень модную библиотеку XGBoost, реализующую метод градиентного бустинга деревьев. Говоря проще, в отличие от Random Forest, здесь \"деревья\" будут выращиваться последовательно, и новое будет улучшать результат предыдущего:"
   ]
  },
  {
   "cell_type": "code",
   "execution_count": 28,
   "metadata": {
    "scrolled": false
   },
   "outputs": [
    {
     "name": "stderr",
     "output_type": "stream",
     "text": [
      "100%|██████████████████████████████████████████████████████████████████████████████████| 69/69 [00:36<00:00,  1.90it/s]\n"
     ]
    }
   ],
   "source": [
    "best_xgboost = None\n",
    "best_score = 0\n",
    "\n",
    "for est in tqdm(range(1,70)):\n",
    "    for depth in range(1, 10):\n",
    "            model = XGBClassifier(max_depth=depth, random_state=random_state, n_estimators=est, use_label_encoder=False, eval_metric='logloss')\n",
    "            model.fit(features_train, target_train)\n",
    "            score = model.score(features_valid,target_valid)\n",
    "            if score > best_score:\n",
    "                best_score = score\n",
    "                best_xgboost = model"
   ]
  },
  {
   "cell_type": "code",
   "execution_count": 25,
   "metadata": {
    "scrolled": true
   },
   "outputs": [
    {
     "name": "stdout",
     "output_type": "stream",
     "text": [
      "Класс: <class 'xgboost.sklearn.XGBClassifier'>\n",
      "Предел высоты: 1\n",
      "Количество деревьев: 20\n",
      "Качество: 80%\n"
     ]
    }
   ],
   "source": [
    "print_hyps(best_xgboost)"
   ]
  },
  {
   "cell_type": "markdown",
   "metadata": {},
   "source": [
    "### Вывод"
   ]
  },
  {
   "cell_type": "markdown",
   "metadata": {},
   "source": [
    "Результаты валидации можно назвать ожидаемыми:\n",
    "- Логистическая регрессия, как самый быстрый вариант с минимумом параметров и настроек, показывает точность предсказаний около 65%. Это нельзя признать достаточным для поставленой задачи.\n",
    "- Дерево решений показывает более надежный результат: до 79% с подбором предела глубины, подбор размера \"листа\" не вносит существенного эффекта.\n",
    "- Случайный лес, ценой перебора числа деревьев, глубины и размера узла, достигает точности 80% на валидации.\n",
    "- Модный метод градиентного бустинга, также с перебором высоты и числа деревьев, выдает такой же результат (80%)."
   ]
  },
  {
   "cell_type": "markdown",
   "metadata": {},
   "source": [
    "## Проверка моделей на тестовой выборке и общий вывод"
   ]
  },
  {
   "cell_type": "code",
   "execution_count": 29,
   "metadata": {},
   "outputs": [
    {
     "name": "stdout",
     "output_type": "stream",
     "text": [
      "Логистическая регрессия: качество 65%\n",
      "Дерево решений: качество 81%\n",
      "Случайный лес: качество 79%\n",
      "Градиентный бустинг: качество 80%\n"
     ]
    }
   ],
   "source": [
    "model_list = [best_logres, best_tree, best_forest, best_xgboost]\n",
    "name_list = ['Логистическая регрессия', 'Дерево решений', 'Случайный лес', 'Градиентный бустинг']\n",
    "for model, name in zip(model_list, name_list):\n",
    "    score = model.score(features_test, target_test)\n",
    "    print (f'{name}: качество {score:.0%}')"
   ]
  },
  {
   "cell_type": "markdown",
   "metadata": {},
   "source": [
    "Тестирование подтверждает тенденции, выявленные на валидации:\n",
    "- Модель **логистической регрессии** с выявленной достоверностью предсказаний 65% нельзя считать подходящей для поставленной задачи: ее качество явно ниже допустимого предела.\n",
    "- Модель **дерева решений** с достоверностью 79-81% может быть принята как допустимый вариант, если есть ограничения по быстродействию.\n",
    "- **Случайный лес** при условии отсутствия ограничений по машинному времени (в том числе на подбор оптимальных гиперпараметров) показывает как минимум не худший результат - до 80%\n",
    "- **XGBoost** тоже выглядит неплохо с качеством также около 80%, дальнейшая оптимизация гиперпараметров возможна, но в рамках формата тетради выглядит слишком времязатратной. Предпочтительнее использовать для этого специализированные библиотеки наподобие *hyperopt*."
   ]
  },
  {
   "cell_type": "markdown",
   "metadata": {},
   "source": [
    "## Проверка моделей на адекватность"
   ]
  },
  {
   "cell_type": "markdown",
   "metadata": {},
   "source": [
    "Проведем дополнительное тестирование на три критерия:\n",
    "- Сходятся ли модели в целом (точность на обучающей выборке).\n",
    "- Действительно ли модели лучше фиктивных методов?\n",
    "- Сравнима ли точность предсказаний на обоих тарифах?"
   ]
  },
  {
   "cell_type": "code",
   "execution_count": 31,
   "metadata": {},
   "outputs": [
    {
     "name": "stdout",
     "output_type": "stream",
     "text": [
      "Логистическая регрессия: качество 63%\n",
      "Дерево решений: качество 72%\n",
      "Случайный лес: качество 76%\n",
      "Градиентный бустинг: качество 74%\n"
     ]
    }
   ],
   "source": [
    "for model, name in zip(model_list, name_list):\n",
    "    score = model.score(features_train, target_train)\n",
    "    print (f'{name}: качество {score:.0%}')"
   ]
  },
  {
   "cell_type": "markdown",
   "metadata": {},
   "source": [
    "Сходимость логистической регрессии, как видим, не слишком хороша (методы, отличные от lbfgs и liblinear работают еще хуже). Остальные модели сходятся заметно лучше, особенно Random Forest, но не показывают тенденции к переобучению.\n",
    "\n",
    "Что касается второго критерия, sklearn предоставляет нам dummy classifier, использующий несколько фиктивных методов (случайный выбор, выбор только самого частого значения признака и т.д.). Посмотрим, не зря ли мы обучали наши модели:"
   ]
  },
  {
   "cell_type": "code",
   "execution_count": 32,
   "metadata": {
    "scrolled": true
   },
   "outputs": [
    {
     "name": "stdout",
     "output_type": "stream",
     "text": [
      "Стратегия: uniform, точность предсказаний 52%.\n",
      "Стратегия: most_frequent, точность предсказаний 71%.\n",
      "Стратегия: stratified, точность предсказаний 50%.\n",
      "Стратегия: prior, точность предсказаний 71%.\n"
     ]
    }
   ],
   "source": [
    "for strategy in ['uniform','most_frequent','stratified','prior']:\n",
    "    dummy = DummyClassifier(strategy=strategy, random_state=random_state)\n",
    "    dummy.fit(features_train, target_train)\n",
    "    dummy_accuracy = dummy.score(features_test, target_test)\n",
    "    print(f'Стратегия: {strategy}, точность предсказаний {dummy_accuracy:.0%}.')"
   ]
  },
  {
   "cell_type": "markdown",
   "metadata": {},
   "source": [
    "Следование самому частому значению, как видим, не так уж и плохо, ведь около 70% клиентов используют тариф *smart*. Наши модели, за исключением логистической регрессии, в среднем работают лучше. А как насчет сравнения качества моделей на разных тарифах?"
   ]
  },
  {
   "cell_type": "code",
   "execution_count": 33,
   "metadata": {},
   "outputs": [
    {
     "name": "stdout",
     "output_type": "stream",
     "text": [
      "Логистическая регрессия: ultra 56%, smart 69%\n",
      "Дерево решений: ultra 52%, smart 92%\n",
      "Случайный лес: ultra 58%, smart 88%\n",
      "Градиентный бустинг: ultra 59%, smart 89%\n"
     ]
    }
   ],
   "source": [
    "for model, name in zip(model_list, name_list):\n",
    "    predictions = model.predict(features_test)\n",
    "    ultra_correct=0\n",
    "    ultra_count=0\n",
    "    smart_correct=0\n",
    "    smart_count=0\n",
    "    for prediction, target in zip (predictions, target_test):\n",
    "        if target == 1:\n",
    "            ultra_count+=1\n",
    "            if prediction == target:\n",
    "                ultra_correct+=1\n",
    "        else:\n",
    "            smart_count+=1\n",
    "            if prediction == target:\n",
    "                smart_correct+=1\n",
    "    print(f'{name}: ultra {ultra_correct/ultra_count:.0%}, smart {smart_correct/smart_count:.0%}')"
   ]
  },
  {
   "cell_type": "markdown",
   "metadata": {},
   "source": [
    "Точность на тарифе *ultra*, к сожалению, все еще недостаточно хороша, но для сравнения приведем цифры, которые мы получили бы при обучении на несбалансированном датасете:"
   ]
  },
  {
   "cell_type": "markdown",
   "metadata": {},
   "source": [
    "- Логистическая регрессия: ultra 21%, smart 98%\n",
    "- Дерево решений: ultra 44%, smart 95%\n",
    "- Случайный лес: ultra 47%, smart 92%\n",
    "- Градиентный бустинг: ultra 47%, smart 94%"
   ]
  },
  {
   "cell_type": "markdown",
   "metadata": {},
   "source": [
    "Вне зависимости от поставленных условий, случайный лес и градиентный бустинг выглядят лучшими вариантами, дерево решений достойно рассмотрения, когда важнее быстродействие."
   ]
  }
 ],
 "metadata": {
  "ExecuteTimeLog": [
   {
    "duration": 663,
    "start_time": "2021-10-25T09:56:44.950Z"
   },
   {
    "duration": 19,
    "start_time": "2021-10-25T09:56:45.615Z"
   },
   {
    "duration": 15,
    "start_time": "2021-10-25T09:56:45.831Z"
   },
   {
    "duration": 4,
    "start_time": "2021-10-25T10:00:45.938Z"
   },
   {
    "duration": 419,
    "start_time": "2021-10-25T10:09:57.492Z"
   },
   {
    "duration": 323,
    "start_time": "2021-10-25T10:09:58.099Z"
   },
   {
    "duration": 592,
    "start_time": "2021-10-25T10:10:23.132Z"
   },
   {
    "duration": 7,
    "start_time": "2021-10-25T10:10:28.932Z"
   },
   {
    "duration": 8,
    "start_time": "2021-10-25T10:10:30.131Z"
   },
   {
    "duration": 363,
    "start_time": "2021-10-25T10:18:31.638Z"
   },
   {
    "duration": 415,
    "start_time": "2021-10-25T10:18:54.391Z"
   },
   {
    "duration": 40,
    "start_time": "2021-10-25T10:19:03.952Z"
   },
   {
    "duration": 68,
    "start_time": "2021-10-25T10:19:06.380Z"
   },
   {
    "duration": 5,
    "start_time": "2021-10-25T10:19:08.452Z"
   },
   {
    "duration": 283,
    "start_time": "2021-10-25T10:20:15.060Z"
   },
   {
    "duration": 4,
    "start_time": "2021-10-25T10:20:17.692Z"
   },
   {
    "duration": 265,
    "start_time": "2021-10-25T10:20:27.224Z"
   },
   {
    "duration": 4,
    "start_time": "2021-10-25T10:20:28.371Z"
   },
   {
    "duration": 3,
    "start_time": "2021-10-25T10:21:10.711Z"
   },
   {
    "duration": 82,
    "start_time": "2021-10-25T10:23:41.551Z"
   },
   {
    "duration": 4,
    "start_time": "2021-10-25T10:23:51.851Z"
   },
   {
    "duration": 17,
    "start_time": "2021-10-25T10:31:07.792Z"
   },
   {
    "duration": 337,
    "start_time": "2021-10-25T10:31:56.391Z"
   },
   {
    "duration": 86,
    "start_time": "2021-10-25T10:32:39.712Z"
   },
   {
    "duration": 4,
    "start_time": "2021-10-25T10:32:46.671Z"
   },
   {
    "duration": 91,
    "start_time": "2021-10-25T10:33:53.411Z"
   },
   {
    "duration": 4,
    "start_time": "2021-10-25T10:33:54.271Z"
   },
   {
    "duration": 87,
    "start_time": "2021-10-25T10:34:04.983Z"
   },
   {
    "duration": 89,
    "start_time": "2021-10-25T10:35:59.292Z"
   },
   {
    "duration": 5,
    "start_time": "2021-10-25T10:36:00.130Z"
   },
   {
    "duration": 9,
    "start_time": "2021-10-25T10:37:04.892Z"
   },
   {
    "duration": 114,
    "start_time": "2021-10-25T10:41:18.962Z"
   },
   {
    "duration": 4,
    "start_time": "2021-10-25T10:41:20.410Z"
   },
   {
    "duration": 133,
    "start_time": "2021-10-25T10:43:06.585Z"
   },
   {
    "duration": 9371,
    "start_time": "2021-10-25T10:43:23.370Z"
   },
   {
    "duration": 4,
    "start_time": "2021-10-25T10:43:32.743Z"
   },
   {
    "duration": 47815,
    "start_time": "2021-10-25T10:44:40.531Z"
   },
   {
    "duration": 176,
    "start_time": "2021-10-25T10:52:19.518Z"
   },
   {
    "duration": 7,
    "start_time": "2021-10-25T10:52:20.888Z"
   },
   {
    "duration": 185,
    "start_time": "2021-10-25T10:54:51.330Z"
   },
   {
    "duration": 5,
    "start_time": "2021-10-25T10:55:03.630Z"
   },
   {
    "duration": 177,
    "start_time": "2021-10-25T10:55:24.070Z"
   },
   {
    "duration": 4,
    "start_time": "2021-10-25T10:55:25.891Z"
   },
   {
    "duration": 48069,
    "start_time": "2021-10-25T11:01:14.429Z"
   },
   {
    "duration": 4,
    "start_time": "2021-10-25T11:02:02.500Z"
   },
   {
    "duration": 11,
    "start_time": "2021-10-25T11:05:41.649Z"
   },
   {
    "duration": 16934,
    "start_time": "2021-10-25T11:05:55.437Z"
   },
   {
    "duration": -879,
    "start_time": "2021-10-25T11:08:00.802Z"
   },
   {
    "duration": 27404,
    "start_time": "2021-10-25T11:08:02.318Z"
   },
   {
    "duration": 13358,
    "start_time": "2021-10-25T11:10:46.757Z"
   },
   {
    "duration": 4,
    "start_time": "2021-10-25T11:11:07.890Z"
   },
   {
    "duration": 66865,
    "start_time": "2021-10-25T11:11:21.730Z"
   },
   {
    "duration": 320,
    "start_time": "2021-10-25T11:14:55.550Z"
   },
   {
    "duration": 3,
    "start_time": "2021-10-25T11:15:31.330Z"
   },
   {
    "duration": 9,
    "start_time": "2021-10-25T11:15:34.578Z"
   },
   {
    "duration": 2936,
    "start_time": "2021-10-25T11:18:27.310Z"
   },
   {
    "duration": 5,
    "start_time": "2021-10-25T11:18:33.489Z"
   },
   {
    "duration": 2740,
    "start_time": "2021-10-25T11:18:53.095Z"
   },
   {
    "duration": 4,
    "start_time": "2021-10-25T11:19:01.110Z"
   },
   {
    "duration": 5,
    "start_time": "2021-10-25T11:19:06.869Z"
   },
   {
    "duration": 2888,
    "start_time": "2021-10-25T11:19:40.078Z"
   },
   {
    "duration": 8,
    "start_time": "2021-10-25T11:19:42.968Z"
   },
   {
    "duration": 2767,
    "start_time": "2021-10-25T11:19:58.747Z"
   },
   {
    "duration": 4187,
    "start_time": "2021-10-25T11:20:06.070Z"
   },
   {
    "duration": 4,
    "start_time": "2021-10-25T11:20:12.930Z"
   },
   {
    "duration": 4,
    "start_time": "2021-10-25T11:20:29.990Z"
   },
   {
    "duration": 103,
    "start_time": "2021-10-25T11:22:27.577Z"
   },
   {
    "duration": 16737,
    "start_time": "2021-10-25T11:22:32.458Z"
   },
   {
    "duration": 4,
    "start_time": "2021-10-25T11:24:00.751Z"
   },
   {
    "duration": 5,
    "start_time": "2021-10-25T11:24:04.149Z"
   },
   {
    "duration": 133267,
    "start_time": "2021-10-25T11:33:29.790Z"
   },
   {
    "duration": 19,
    "start_time": "2021-10-25T11:35:43.059Z"
   },
   {
    "duration": 8,
    "start_time": "2021-10-25T11:35:43.080Z"
   },
   {
    "duration": 4,
    "start_time": "2021-10-25T11:35:50.434Z"
   },
   {
    "duration": 5,
    "start_time": "2021-10-25T11:35:51.550Z"
   },
   {
    "duration": 5,
    "start_time": "2021-10-25T11:36:01.213Z"
   },
   {
    "duration": 4,
    "start_time": "2021-10-25T11:36:02.370Z"
   },
   {
    "duration": 672,
    "start_time": "2021-10-25T11:37:01.878Z"
   },
   {
    "duration": 3,
    "start_time": "2021-10-25T11:37:09.237Z"
   },
   {
    "duration": 180360,
    "start_time": "2021-10-25T11:37:13.018Z"
   },
   {
    "duration": 11,
    "start_time": "2021-10-25T11:41:09.005Z"
   },
   {
    "duration": 106,
    "start_time": "2021-10-25T11:42:38.850Z"
   },
   {
    "duration": 4,
    "start_time": "2021-10-25T11:42:59.875Z"
   },
   {
    "duration": 4,
    "start_time": "2021-10-25T11:43:29.391Z"
   },
   {
    "duration": 388,
    "start_time": "2021-10-25T11:43:51.658Z"
   },
   {
    "duration": 3,
    "start_time": "2021-10-25T11:43:56.330Z"
   },
   {
    "duration": 4,
    "start_time": "2021-10-25T11:44:04.770Z"
   },
   {
    "duration": 400,
    "start_time": "2021-10-25T11:44:08.898Z"
   },
   {
    "duration": 4,
    "start_time": "2021-10-25T11:44:10.130Z"
   },
   {
    "duration": 66884,
    "start_time": "2021-10-25T11:44:10.758Z"
   },
   {
    "duration": 160,
    "start_time": "2021-10-25T11:45:17.808Z"
   },
   {
    "duration": 5,
    "start_time": "2021-10-25T11:45:31.190Z"
   },
   {
    "duration": 41855,
    "start_time": "2021-10-25T11:45:36.977Z"
   },
   {
    "duration": -889,
    "start_time": "2021-10-25T11:46:19.724Z"
   },
   {
    "duration": 119893,
    "start_time": "2021-10-25T11:46:26.850Z"
   },
   {
    "duration": 186,
    "start_time": "2021-10-25T11:48:26.746Z"
   },
   {
    "duration": 2,
    "start_time": "2021-10-25T11:49:45.950Z"
   },
   {
    "duration": 2,
    "start_time": "2021-10-25T11:49:56.498Z"
   },
   {
    "duration": 5,
    "start_time": "2021-10-25T11:50:02.049Z"
   },
   {
    "duration": 128,
    "start_time": "2021-10-25T11:51:15.410Z"
   },
   {
    "duration": 157,
    "start_time": "2021-10-25T11:51:24.690Z"
   },
   {
    "duration": 173,
    "start_time": "2021-10-25T11:51:29.062Z"
   },
   {
    "duration": 142,
    "start_time": "2021-10-25T11:51:34.838Z"
   },
   {
    "duration": 117,
    "start_time": "2021-10-25T11:51:41.937Z"
   },
   {
    "duration": 5,
    "start_time": "2021-10-25T11:51:54.070Z"
   },
   {
    "duration": 165,
    "start_time": "2021-10-25T11:52:17.000Z"
   },
   {
    "duration": 204,
    "start_time": "2021-10-25T11:52:27.618Z"
   },
   {
    "duration": 129,
    "start_time": "2021-10-25T11:52:38.278Z"
   },
   {
    "duration": 115,
    "start_time": "2021-10-25T11:52:44.258Z"
   },
   {
    "duration": 105,
    "start_time": "2021-10-25T11:52:50.537Z"
   },
   {
    "duration": 41,
    "start_time": "2021-10-25T11:52:59.870Z"
   },
   {
    "duration": 128,
    "start_time": "2021-10-25T11:53:04.937Z"
   },
   {
    "duration": 489,
    "start_time": "2021-10-25T11:54:19.338Z"
   },
   {
    "duration": 1237,
    "start_time": "2021-10-25T11:54:25.038Z"
   },
   {
    "duration": 1384,
    "start_time": "2021-10-25T11:54:29.997Z"
   },
   {
    "duration": 1268,
    "start_time": "2021-10-25T11:54:33.658Z"
   },
   {
    "duration": 556,
    "start_time": "2021-10-25T11:54:38.838Z"
   },
   {
    "duration": 854,
    "start_time": "2021-10-25T11:54:46.098Z"
   },
   {
    "duration": 1302,
    "start_time": "2021-10-25T11:54:51.526Z"
   },
   {
    "duration": 1147,
    "start_time": "2021-10-25T11:54:59.478Z"
   },
   {
    "duration": 172,
    "start_time": "2021-10-25T11:55:13.046Z"
   },
   {
    "duration": 5,
    "start_time": "2021-10-25T11:57:22.388Z"
   },
   {
    "duration": 82,
    "start_time": "2021-10-25T11:57:44.549Z"
   },
   {
    "duration": 57,
    "start_time": "2021-10-25T11:57:53.108Z"
   },
   {
    "duration": 43,
    "start_time": "2021-10-25T11:58:01.052Z"
   },
   {
    "duration": 38,
    "start_time": "2021-10-25T11:59:00.636Z"
   },
   {
    "duration": 11,
    "start_time": "2021-10-25T11:59:01.377Z"
   },
   {
    "duration": 9,
    "start_time": "2021-10-25T11:59:58.108Z"
   },
   {
    "duration": 18,
    "start_time": "2021-10-25T12:00:05.080Z"
   },
   {
    "duration": 25,
    "start_time": "2021-10-25T12:09:26.892Z"
   },
   {
    "duration": 9,
    "start_time": "2021-10-25T12:12:42.004Z"
   },
   {
    "duration": 6,
    "start_time": "2021-10-25T12:14:26.655Z"
   },
   {
    "duration": 3,
    "start_time": "2021-10-25T12:27:47.165Z"
   },
   {
    "duration": 3,
    "start_time": "2021-10-25T12:30:00.664Z"
   },
   {
    "duration": 3,
    "start_time": "2021-10-25T12:30:17.163Z"
   },
   {
    "duration": 111,
    "start_time": "2021-10-25T12:30:56.223Z"
   },
   {
    "duration": 3,
    "start_time": "2021-10-25T12:31:03.244Z"
   },
   {
    "duration": 3,
    "start_time": "2021-10-25T12:31:05.484Z"
   },
   {
    "duration": 2,
    "start_time": "2021-10-25T12:32:20.372Z"
   },
   {
    "duration": 45,
    "start_time": "2021-10-25T12:32:21.984Z"
   },
   {
    "duration": 5,
    "start_time": "2021-10-25T12:32:23.108Z"
   },
   {
    "duration": 5,
    "start_time": "2021-10-25T12:32:36.804Z"
   },
   {
    "duration": 4,
    "start_time": "2021-10-25T12:33:08.971Z"
   },
   {
    "duration": 44,
    "start_time": "2021-10-25T12:33:09.764Z"
   },
   {
    "duration": 6,
    "start_time": "2021-10-25T12:33:10.383Z"
   },
   {
    "duration": 4,
    "start_time": "2021-10-25T12:33:11.556Z"
   },
   {
    "duration": 3,
    "start_time": "2021-10-25T12:33:40.044Z"
   },
   {
    "duration": 56,
    "start_time": "2021-10-25T12:33:40.972Z"
   },
   {
    "duration": 4,
    "start_time": "2021-10-25T12:33:41.536Z"
   },
   {
    "duration": 665,
    "start_time": "2021-10-25T12:33:43.304Z"
   },
   {
    "duration": 3,
    "start_time": "2021-10-25T12:33:52.203Z"
   },
   {
    "duration": 3,
    "start_time": "2021-10-25T12:33:55.025Z"
   },
   {
    "duration": 5,
    "start_time": "2021-10-25T12:34:25.404Z"
   },
   {
    "duration": 56,
    "start_time": "2021-10-25T12:34:25.872Z"
   },
   {
    "duration": 6,
    "start_time": "2021-10-25T12:34:26.224Z"
   },
   {
    "duration": 6,
    "start_time": "2021-10-25T12:34:35.877Z"
   },
   {
    "duration": 646,
    "start_time": "2021-10-25T12:36:12.723Z"
   },
   {
    "duration": 4,
    "start_time": "2021-10-25T12:36:30.124Z"
   },
   {
    "duration": 654,
    "start_time": "2021-10-25T12:36:36.584Z"
   },
   {
    "duration": 4,
    "start_time": "2021-10-25T12:37:34.343Z"
   },
   {
    "duration": 4,
    "start_time": "2021-10-25T12:37:39.763Z"
   },
   {
    "duration": 6,
    "start_time": "2021-10-25T12:38:36.196Z"
   },
   {
    "duration": 727,
    "start_time": "2021-10-25T12:38:39.304Z"
   },
   {
    "duration": 5,
    "start_time": "2021-10-25T12:39:13.604Z"
   },
   {
    "duration": 36,
    "start_time": "2021-10-25T12:39:14.313Z"
   },
   {
    "duration": 5,
    "start_time": "2021-10-25T12:39:15.184Z"
   },
   {
    "duration": 3,
    "start_time": "2021-10-25T12:39:22.143Z"
   },
   {
    "duration": 5,
    "start_time": "2021-10-25T12:39:35.204Z"
   },
   {
    "duration": 248,
    "start_time": "2021-10-25T12:39:48.973Z"
   },
   {
    "duration": 5,
    "start_time": "2021-10-25T12:39:50.307Z"
   },
   {
    "duration": 3,
    "start_time": "2021-10-25T12:44:05.176Z"
   },
   {
    "duration": 3,
    "start_time": "2021-10-25T12:44:16.905Z"
   },
   {
    "duration": 13070,
    "start_time": "2021-10-25T12:44:19.784Z"
   },
   {
    "duration": 105965,
    "start_time": "2021-10-25T12:44:59.392Z"
   },
   {
    "duration": 4,
    "start_time": "2021-10-25T12:48:54.851Z"
   },
   {
    "duration": 37,
    "start_time": "2021-10-25T12:48:55.484Z"
   },
   {
    "duration": 4,
    "start_time": "2021-10-25T12:48:56.056Z"
   },
   {
    "duration": 3,
    "start_time": "2021-10-25T12:49:04.028Z"
   },
   {
    "duration": 1098,
    "start_time": "2021-10-25T12:54:48.625Z"
   },
   {
    "duration": 22,
    "start_time": "2021-10-25T12:54:49.725Z"
   },
   {
    "duration": 16,
    "start_time": "2021-10-25T12:54:49.749Z"
   },
   {
    "duration": 21,
    "start_time": "2021-10-25T12:54:49.766Z"
   },
   {
    "duration": 6,
    "start_time": "2021-10-25T12:54:49.790Z"
   },
   {
    "duration": 4,
    "start_time": "2021-10-25T12:54:49.797Z"
   },
   {
    "duration": 8,
    "start_time": "2021-10-25T12:54:49.803Z"
   },
   {
    "duration": 4,
    "start_time": "2021-10-25T12:54:49.813Z"
   },
   {
    "duration": 65,
    "start_time": "2021-10-25T12:54:49.819Z"
   },
   {
    "duration": 4,
    "start_time": "2021-10-25T12:54:49.886Z"
   },
   {
    "duration": 433,
    "start_time": "2021-10-25T12:54:49.892Z"
   },
   {
    "duration": -841,
    "start_time": "2021-10-25T12:54:51.167Z"
   },
   {
    "duration": -842,
    "start_time": "2021-10-25T12:54:51.169Z"
   },
   {
    "duration": -901,
    "start_time": "2021-10-25T12:54:51.229Z"
   },
   {
    "duration": -905,
    "start_time": "2021-10-25T12:54:51.234Z"
   },
   {
    "duration": -905,
    "start_time": "2021-10-25T12:54:51.235Z"
   },
   {
    "duration": -906,
    "start_time": "2021-10-25T12:54:51.237Z"
   },
   {
    "duration": -906,
    "start_time": "2021-10-25T12:54:51.238Z"
   },
   {
    "duration": -907,
    "start_time": "2021-10-25T12:54:51.240Z"
   },
   {
    "duration": 1250,
    "start_time": "2021-10-25T12:55:10.276Z"
   },
   {
    "duration": 657,
    "start_time": "2021-10-25T12:55:11.529Z"
   },
   {
    "duration": 19,
    "start_time": "2021-10-25T12:55:12.188Z"
   },
   {
    "duration": 8,
    "start_time": "2021-10-25T12:55:12.210Z"
   },
   {
    "duration": 6,
    "start_time": "2021-10-25T12:55:12.220Z"
   },
   {
    "duration": 5,
    "start_time": "2021-10-25T12:55:12.228Z"
   },
   {
    "duration": 15,
    "start_time": "2021-10-25T12:55:12.234Z"
   },
   {
    "duration": 6,
    "start_time": "2021-10-25T12:55:12.277Z"
   },
   {
    "duration": 49,
    "start_time": "2021-10-25T12:55:12.286Z"
   },
   {
    "duration": 4,
    "start_time": "2021-10-25T12:55:12.338Z"
   },
   {
    "duration": 188,
    "start_time": "2021-10-25T12:55:12.344Z"
   },
   {
    "duration": 12,
    "start_time": "2021-10-25T12:55:12.534Z"
   },
   {
    "duration": 110223,
    "start_time": "2021-10-25T12:55:12.548Z"
   },
   {
    "duration": 3,
    "start_time": "2021-10-25T12:57:02.777Z"
   },
   {
    "duration": 193688,
    "start_time": "2021-10-25T12:57:02.782Z"
   },
   {
    "duration": 6,
    "start_time": "2021-10-25T13:00:16.472Z"
   },
   {
    "duration": 8,
    "start_time": "2021-10-25T13:00:16.479Z"
   },
   {
    "duration": 27,
    "start_time": "2021-10-25T13:00:16.489Z"
   },
   {
    "duration": 9,
    "start_time": "2021-10-25T13:00:16.518Z"
   },
   {
    "duration": 3,
    "start_time": "2021-10-25T13:02:10.010Z"
   },
   {
    "duration": 184063,
    "start_time": "2021-10-25T13:04:14.446Z"
   },
   {
    "duration": 3,
    "start_time": "2021-10-25T13:07:25.306Z"
   },
   {
    "duration": 22,
    "start_time": "2021-10-25T13:08:11.714Z"
   },
   {
    "duration": 120,
    "start_time": "2021-10-25T13:14:58.287Z"
   },
   {
    "duration": 550,
    "start_time": "2021-10-25T13:15:04.848Z"
   },
   {
    "duration": 4,
    "start_time": "2021-10-25T13:15:06.479Z"
   },
   {
    "duration": 563,
    "start_time": "2021-10-25T13:15:19.416Z"
   },
   {
    "duration": 4,
    "start_time": "2021-10-25T13:15:20.635Z"
   },
   {
    "duration": 542,
    "start_time": "2021-10-25T13:15:34.635Z"
   },
   {
    "duration": 4,
    "start_time": "2021-10-25T13:15:37.609Z"
   },
   {
    "duration": 686,
    "start_time": "2021-10-25T13:15:46.915Z"
   },
   {
    "duration": 4,
    "start_time": "2021-10-25T13:15:48.427Z"
   },
   {
    "duration": 541,
    "start_time": "2021-10-25T13:17:40.140Z"
   },
   {
    "duration": 4,
    "start_time": "2021-10-25T13:17:41.467Z"
   },
   {
    "duration": 4,
    "start_time": "2021-10-25T13:18:02.108Z"
   },
   {
    "duration": 178,
    "start_time": "2021-10-25T13:31:31.916Z"
   },
   {
    "duration": 707719,
    "start_time": "2021-10-25T13:31:38.795Z"
   },
   {
    "duration": 3,
    "start_time": "2021-10-25T14:27:38.940Z"
   },
   {
    "duration": 4,
    "start_time": "2021-10-25T14:27:56.787Z"
   },
   {
    "duration": 17,
    "start_time": "2021-10-25T14:28:08.176Z"
   },
   {
    "duration": 15495,
    "start_time": "2021-10-25T14:31:16.128Z"
   },
   {
    "duration": 175421,
    "start_time": "2021-10-25T14:31:40.436Z"
   },
   {
    "duration": 386487,
    "start_time": "2021-10-25T14:34:35.858Z"
   },
   {
    "duration": -1330,
    "start_time": "2021-10-25T14:41:03.677Z"
   },
   {
    "duration": -1347,
    "start_time": "2021-10-25T14:41:03.695Z"
   },
   {
    "duration": -1350,
    "start_time": "2021-10-25T14:41:03.699Z"
   },
   {
    "duration": 96937,
    "start_time": "2021-10-25T14:41:08.447Z"
   },
   {
    "duration": 3,
    "start_time": "2021-10-25T14:42:56.308Z"
   },
   {
    "duration": 3,
    "start_time": "2021-10-25T14:42:59.256Z"
   },
   {
    "duration": 4,
    "start_time": "2021-10-25T14:43:11.987Z"
   },
   {
    "duration": 24905,
    "start_time": "2021-10-25T14:43:21.331Z"
   },
   {
    "duration": 4,
    "start_time": "2021-10-25T14:43:48.187Z"
   },
   {
    "duration": 57383,
    "start_time": "2021-10-25T14:43:55.075Z"
   },
   {
    "duration": 4,
    "start_time": "2021-10-25T14:45:01.327Z"
   },
   {
    "duration": 353,
    "start_time": "2021-10-25T14:45:15.547Z"
   },
   {
    "duration": 388,
    "start_time": "2021-10-25T14:45:23.920Z"
   },
   {
    "duration": 15,
    "start_time": "2021-10-25T14:45:38.107Z"
   },
   {
    "duration": 378,
    "start_time": "2021-10-25T14:48:37.587Z"
   },
   {
    "duration": 22,
    "start_time": "2021-10-25T14:58:39.087Z"
   },
   {
    "duration": 10,
    "start_time": "2021-10-25T15:02:00.239Z"
   },
   {
    "duration": 359,
    "start_time": "2021-10-25T15:05:13.328Z"
   },
   {
    "duration": 466,
    "start_time": "2021-10-25T15:05:17.448Z"
   },
   {
    "duration": 351,
    "start_time": "2021-10-25T15:05:27.427Z"
   },
   {
    "duration": 12,
    "start_time": "2021-10-25T15:05:45.148Z"
   },
   {
    "duration": 392,
    "start_time": "2021-10-25T16:58:31.270Z"
   },
   {
    "duration": 1130,
    "start_time": "2021-10-25T16:58:37.187Z"
   },
   {
    "duration": 25,
    "start_time": "2021-10-25T16:58:38.319Z"
   },
   {
    "duration": 18,
    "start_time": "2021-10-25T16:58:38.347Z"
   },
   {
    "duration": 6,
    "start_time": "2021-10-25T16:58:38.377Z"
   },
   {
    "duration": 6,
    "start_time": "2021-10-25T16:58:38.384Z"
   },
   {
    "duration": 4,
    "start_time": "2021-10-25T16:58:38.391Z"
   },
   {
    "duration": 7,
    "start_time": "2021-10-25T16:58:38.396Z"
   },
   {
    "duration": 3,
    "start_time": "2021-10-25T16:58:38.406Z"
   },
   {
    "duration": 71,
    "start_time": "2021-10-25T16:58:38.411Z"
   },
   {
    "duration": 3,
    "start_time": "2021-10-25T16:58:38.484Z"
   },
   {
    "duration": 536,
    "start_time": "2021-10-25T16:58:38.488Z"
   },
   {
    "duration": 3,
    "start_time": "2021-10-25T16:58:39.026Z"
   },
   {
    "duration": 25147,
    "start_time": "2021-10-25T16:58:39.031Z"
   },
   {
    "duration": 4,
    "start_time": "2021-10-25T16:59:04.180Z"
   },
   {
    "duration": 59440,
    "start_time": "2021-10-25T16:59:04.185Z"
   },
   {
    "duration": 5,
    "start_time": "2021-10-25T17:00:03.627Z"
   },
   {
    "duration": 43,
    "start_time": "2021-10-25T17:00:03.634Z"
   },
   {
    "duration": 24,
    "start_time": "2021-10-25T17:00:03.679Z"
   },
   {
    "duration": 12,
    "start_time": "2021-10-25T17:00:03.706Z"
   },
   {
    "duration": 12,
    "start_time": "2021-10-25T17:00:03.720Z"
   },
   {
    "duration": 547,
    "start_time": "2021-10-25T17:00:03.734Z"
   },
   {
    "duration": 365,
    "start_time": "2021-10-25T17:00:50.712Z"
   },
   {
    "duration": 20,
    "start_time": "2021-10-25T17:01:00.680Z"
   },
   {
    "duration": 362,
    "start_time": "2021-10-25T17:05:27.010Z"
   },
   {
    "duration": 19,
    "start_time": "2021-10-25T17:06:05.462Z"
   },
   {
    "duration": 19,
    "start_time": "2021-10-25T17:10:37.131Z"
   },
   {
    "duration": 35,
    "start_time": "2021-10-25T17:13:42.743Z"
   },
   {
    "duration": 3,
    "start_time": "2021-10-25T17:13:43.468Z"
   },
   {
    "duration": 380,
    "start_time": "2021-10-25T17:15:51.321Z"
   },
   {
    "duration": 28,
    "start_time": "2021-10-25T17:16:15.153Z"
   },
   {
    "duration": 3,
    "start_time": "2021-10-25T17:16:17.250Z"
   },
   {
    "duration": 27,
    "start_time": "2021-10-25T17:16:36.717Z"
   },
   {
    "duration": 3,
    "start_time": "2021-10-25T17:16:37.251Z"
   },
   {
    "duration": 31,
    "start_time": "2021-10-25T17:16:46.550Z"
   },
   {
    "duration": 4,
    "start_time": "2021-10-25T17:16:47.245Z"
   },
   {
    "duration": 27,
    "start_time": "2021-10-25T17:17:56.737Z"
   },
   {
    "duration": 3,
    "start_time": "2021-10-25T17:17:57.457Z"
   },
   {
    "duration": 17,
    "start_time": "2021-10-25T17:18:01.459Z"
   },
   {
    "duration": 28,
    "start_time": "2021-10-25T17:18:51.802Z"
   },
   {
    "duration": 4,
    "start_time": "2021-10-25T17:18:52.271Z"
   },
   {
    "duration": 16,
    "start_time": "2021-10-25T17:19:12.701Z"
   },
   {
    "duration": 16,
    "start_time": "2021-10-25T17:19:27.118Z"
   },
   {
    "duration": 5,
    "start_time": "2021-10-25T17:19:50.975Z"
   },
   {
    "duration": 28,
    "start_time": "2021-10-25T17:19:51.578Z"
   },
   {
    "duration": 3,
    "start_time": "2021-10-25T17:19:52.233Z"
   },
   {
    "duration": 35,
    "start_time": "2021-10-25T17:20:20.855Z"
   },
   {
    "duration": 3,
    "start_time": "2021-10-25T17:20:21.832Z"
   },
   {
    "duration": 16,
    "start_time": "2021-10-25T17:20:26.443Z"
   },
   {
    "duration": 17,
    "start_time": "2021-10-25T17:20:30.239Z"
   },
   {
    "duration": 1161,
    "start_time": "2021-10-25T17:20:52.773Z"
   },
   {
    "duration": 25,
    "start_time": "2021-10-25T17:20:53.938Z"
   },
   {
    "duration": 20,
    "start_time": "2021-10-25T17:20:53.965Z"
   },
   {
    "duration": 7,
    "start_time": "2021-10-25T17:20:53.987Z"
   },
   {
    "duration": 5,
    "start_time": "2021-10-25T17:20:53.996Z"
   },
   {
    "duration": 3,
    "start_time": "2021-10-25T17:20:54.003Z"
   },
   {
    "duration": 7,
    "start_time": "2021-10-25T17:20:54.008Z"
   },
   {
    "duration": 4,
    "start_time": "2021-10-25T17:20:54.017Z"
   },
   {
    "duration": 80,
    "start_time": "2021-10-25T17:20:54.023Z"
   },
   {
    "duration": 3,
    "start_time": "2021-10-25T17:20:54.105Z"
   },
   {
    "duration": 553,
    "start_time": "2021-10-25T17:20:54.110Z"
   },
   {
    "duration": 13,
    "start_time": "2021-10-25T17:20:54.665Z"
   },
   {
    "duration": 26013,
    "start_time": "2021-10-25T17:20:54.679Z"
   },
   {
    "duration": 4,
    "start_time": "2021-10-25T17:21:20.694Z"
   },
   {
    "duration": 59113,
    "start_time": "2021-10-25T17:21:20.700Z"
   },
   {
    "duration": 4,
    "start_time": "2021-10-25T17:22:19.814Z"
   },
   {
    "duration": 22,
    "start_time": "2021-10-25T17:22:19.819Z"
   },
   {
    "duration": 47,
    "start_time": "2021-10-25T17:22:19.843Z"
   },
   {
    "duration": 10,
    "start_time": "2021-10-25T17:22:19.892Z"
   },
   {
    "duration": 10,
    "start_time": "2021-10-25T17:22:19.904Z"
   },
   {
    "duration": 16,
    "start_time": "2021-10-25T17:22:19.916Z"
   },
   {
    "duration": 1208,
    "start_time": "2021-10-25T17:22:59.974Z"
   },
   {
    "duration": 24,
    "start_time": "2021-10-25T17:23:01.185Z"
   },
   {
    "duration": 27,
    "start_time": "2021-10-25T17:23:01.212Z"
   },
   {
    "duration": 11,
    "start_time": "2021-10-25T17:23:01.241Z"
   },
   {
    "duration": 23,
    "start_time": "2021-10-25T17:23:01.254Z"
   },
   {
    "duration": 19,
    "start_time": "2021-10-25T17:23:01.279Z"
   },
   {
    "duration": 20,
    "start_time": "2021-10-25T17:23:01.300Z"
   },
   {
    "duration": 9,
    "start_time": "2021-10-25T17:23:01.323Z"
   },
   {
    "duration": 37,
    "start_time": "2021-10-25T17:23:01.334Z"
   },
   {
    "duration": 3,
    "start_time": "2021-10-25T17:23:01.373Z"
   },
   {
    "duration": 551,
    "start_time": "2021-10-25T17:23:01.378Z"
   },
   {
    "duration": 3,
    "start_time": "2021-10-25T17:23:01.931Z"
   },
   {
    "duration": 25405,
    "start_time": "2021-10-25T17:23:01.936Z"
   },
   {
    "duration": 4,
    "start_time": "2021-10-25T17:23:27.343Z"
   },
   {
    "duration": 59085,
    "start_time": "2021-10-25T17:23:27.349Z"
   },
   {
    "duration": 3,
    "start_time": "2021-10-25T17:24:26.437Z"
   },
   {
    "duration": 43,
    "start_time": "2021-10-25T17:24:26.442Z"
   },
   {
    "duration": 25,
    "start_time": "2021-10-25T17:24:26.487Z"
   },
   {
    "duration": 11,
    "start_time": "2021-10-25T17:24:26.515Z"
   },
   {
    "duration": 13,
    "start_time": "2021-10-25T17:24:26.528Z"
   },
   {
    "duration": 453,
    "start_time": "2021-10-25T17:24:26.577Z"
   },
   {
    "duration": 28,
    "start_time": "2021-10-25T17:25:10.265Z"
   },
   {
    "duration": 4,
    "start_time": "2021-10-25T17:25:10.807Z"
   },
   {
    "duration": 25,
    "start_time": "2021-10-25T17:25:21.555Z"
   },
   {
    "duration": 4,
    "start_time": "2021-10-25T17:25:22.256Z"
   },
   {
    "duration": 400,
    "start_time": "2021-10-25T17:25:28.306Z"
   },
   {
    "duration": 1165,
    "start_time": "2021-10-25T17:25:35.472Z"
   },
   {
    "duration": 24,
    "start_time": "2021-10-25T17:25:36.639Z"
   },
   {
    "duration": 17,
    "start_time": "2021-10-25T17:25:36.665Z"
   },
   {
    "duration": 7,
    "start_time": "2021-10-25T17:25:36.684Z"
   },
   {
    "duration": 6,
    "start_time": "2021-10-25T17:25:36.693Z"
   },
   {
    "duration": 5,
    "start_time": "2021-10-25T17:25:36.700Z"
   },
   {
    "duration": 10,
    "start_time": "2021-10-25T17:25:36.707Z"
   },
   {
    "duration": 5,
    "start_time": "2021-10-25T17:25:36.721Z"
   },
   {
    "duration": 69,
    "start_time": "2021-10-25T17:25:36.728Z"
   },
   {
    "duration": 4,
    "start_time": "2021-10-25T17:25:36.799Z"
   },
   {
    "duration": 580,
    "start_time": "2021-10-25T17:25:36.805Z"
   },
   {
    "duration": 4,
    "start_time": "2021-10-25T17:25:37.387Z"
   },
   {
    "duration": 25759,
    "start_time": "2021-10-25T17:25:37.393Z"
   },
   {
    "duration": 4,
    "start_time": "2021-10-25T17:26:03.154Z"
   },
   {
    "duration": 58176,
    "start_time": "2021-10-25T17:26:03.160Z"
   },
   {
    "duration": 3,
    "start_time": "2021-10-25T17:27:01.338Z"
   },
   {
    "duration": 37,
    "start_time": "2021-10-25T17:27:01.343Z"
   },
   {
    "duration": 23,
    "start_time": "2021-10-25T17:27:01.381Z"
   },
   {
    "duration": 10,
    "start_time": "2021-10-25T17:27:01.406Z"
   },
   {
    "duration": 22,
    "start_time": "2021-10-25T17:27:01.417Z"
   },
   {
    "duration": 44,
    "start_time": "2021-10-25T17:27:01.440Z"
   },
   {
    "duration": 25,
    "start_time": "2021-10-25T17:27:21.514Z"
   },
   {
    "duration": 3,
    "start_time": "2021-10-25T17:27:22.069Z"
   },
   {
    "duration": 26,
    "start_time": "2021-10-25T17:27:26.657Z"
   },
   {
    "duration": 3,
    "start_time": "2021-10-25T17:27:27.254Z"
   },
   {
    "duration": 35,
    "start_time": "2021-10-25T17:27:32.143Z"
   },
   {
    "duration": 4,
    "start_time": "2021-10-25T17:27:32.516Z"
   },
   {
    "duration": 30,
    "start_time": "2021-10-25T17:27:40.056Z"
   },
   {
    "duration": 4,
    "start_time": "2021-10-25T17:27:40.573Z"
   },
   {
    "duration": 36,
    "start_time": "2021-10-25T17:27:47.555Z"
   },
   {
    "duration": 3,
    "start_time": "2021-10-25T17:27:47.963Z"
   },
   {
    "duration": 24,
    "start_time": "2021-10-25T17:27:57.747Z"
   },
   {
    "duration": 3,
    "start_time": "2021-10-25T17:27:58.223Z"
   },
   {
    "duration": 35,
    "start_time": "2021-10-25T17:28:01.543Z"
   },
   {
    "duration": 4,
    "start_time": "2021-10-25T17:28:01.995Z"
   },
   {
    "duration": 18,
    "start_time": "2021-10-25T17:28:09.204Z"
   },
   {
    "duration": 17,
    "start_time": "2021-10-25T17:28:37.061Z"
   },
   {
    "duration": 533,
    "start_time": "2021-10-25T17:28:40.205Z"
   },
   {
    "duration": 4,
    "start_time": "2021-10-25T17:28:40.741Z"
   },
   {
    "duration": 16,
    "start_time": "2021-10-25T17:28:43.721Z"
   },
   {
    "duration": 50,
    "start_time": "2021-10-25T17:28:55.859Z"
   },
   {
    "duration": 4,
    "start_time": "2021-10-25T17:28:56.250Z"
   },
   {
    "duration": 61,
    "start_time": "2021-10-25T17:29:01.609Z"
   },
   {
    "duration": 4,
    "start_time": "2021-10-25T17:29:01.938Z"
   },
   {
    "duration": 30,
    "start_time": "2021-10-25T17:29:07.898Z"
   },
   {
    "duration": 4,
    "start_time": "2021-10-25T17:29:08.306Z"
   },
   {
    "duration": 35,
    "start_time": "2021-10-25T17:29:12.161Z"
   },
   {
    "duration": 3,
    "start_time": "2021-10-25T17:29:12.857Z"
   },
   {
    "duration": 37,
    "start_time": "2021-10-25T17:29:16.894Z"
   },
   {
    "duration": 4,
    "start_time": "2021-10-25T17:29:17.303Z"
   },
   {
    "duration": 16,
    "start_time": "2021-10-25T17:29:46.990Z"
   },
   {
    "duration": 5,
    "start_time": "2021-10-25T17:29:51.317Z"
   },
   {
    "duration": 34,
    "start_time": "2021-10-25T17:29:51.664Z"
   },
   {
    "duration": 3,
    "start_time": "2021-10-25T17:29:52.076Z"
   },
   {
    "duration": 18,
    "start_time": "2021-10-25T17:29:58.841Z"
   },
   {
    "duration": 1180,
    "start_time": "2021-10-25T17:30:30.999Z"
   },
   {
    "duration": 24,
    "start_time": "2021-10-25T17:30:32.181Z"
   },
   {
    "duration": 20,
    "start_time": "2021-10-25T17:30:32.208Z"
   },
   {
    "duration": 17,
    "start_time": "2021-10-25T17:30:32.231Z"
   },
   {
    "duration": 28,
    "start_time": "2021-10-25T17:30:32.250Z"
   },
   {
    "duration": 4,
    "start_time": "2021-10-25T17:30:32.279Z"
   },
   {
    "duration": 8,
    "start_time": "2021-10-25T17:30:32.285Z"
   },
   {
    "duration": 7,
    "start_time": "2021-10-25T17:30:32.295Z"
   },
   {
    "duration": 42,
    "start_time": "2021-10-25T17:30:32.305Z"
   },
   {
    "duration": 27,
    "start_time": "2021-10-25T17:30:32.349Z"
   },
   {
    "duration": 570,
    "start_time": "2021-10-25T17:30:32.378Z"
   },
   {
    "duration": 4,
    "start_time": "2021-10-25T17:30:32.950Z"
   },
   {
    "duration": 26845,
    "start_time": "2021-10-25T17:30:32.956Z"
   },
   {
    "duration": 4,
    "start_time": "2021-10-25T17:30:59.803Z"
   },
   {
    "duration": 58803,
    "start_time": "2021-10-25T17:30:59.808Z"
   },
   {
    "duration": 3,
    "start_time": "2021-10-25T17:31:58.613Z"
   },
   {
    "duration": 16,
    "start_time": "2021-10-25T17:31:58.618Z"
   },
   {
    "duration": 44,
    "start_time": "2021-10-25T17:31:58.636Z"
   },
   {
    "duration": 9,
    "start_time": "2021-10-25T17:31:58.682Z"
   },
   {
    "duration": 13,
    "start_time": "2021-10-25T17:31:58.693Z"
   },
   {
    "duration": 17,
    "start_time": "2021-10-25T17:31:58.708Z"
   },
   {
    "duration": 55,
    "start_time": "2021-10-25T17:31:58.727Z"
   },
   {
    "duration": 17,
    "start_time": "2021-10-25T17:35:49.666Z"
   },
   {
    "duration": 444,
    "start_time": "2021-10-25T17:36:05.654Z"
   },
   {
    "duration": 16,
    "start_time": "2021-10-25T17:36:09.409Z"
   },
   {
    "duration": 16,
    "start_time": "2021-10-25T17:48:21.204Z"
   },
   {
    "duration": 18,
    "start_time": "2021-10-25T17:49:24.201Z"
   },
   {
    "duration": 25681,
    "start_time": "2021-10-25T17:50:17.146Z"
   },
   {
    "duration": 57860,
    "start_time": "2021-10-25T17:50:50.569Z"
   },
   {
    "duration": 123,
    "start_time": "2021-10-25T17:51:48.431Z"
   },
   {
    "duration": 353,
    "start_time": "2021-10-25T17:51:59.580Z"
   },
   {
    "duration": 1148,
    "start_time": "2021-10-25T17:57:59.201Z"
   },
   {
    "duration": 23,
    "start_time": "2021-10-25T17:58:00.352Z"
   },
   {
    "duration": 23,
    "start_time": "2021-10-25T17:58:00.377Z"
   },
   {
    "duration": 17,
    "start_time": "2021-10-25T17:58:00.402Z"
   },
   {
    "duration": 10,
    "start_time": "2021-10-25T17:58:00.420Z"
   },
   {
    "duration": 15,
    "start_time": "2021-10-25T17:58:00.431Z"
   },
   {
    "duration": 19,
    "start_time": "2021-10-25T17:58:00.447Z"
   },
   {
    "duration": 4,
    "start_time": "2021-10-25T17:58:00.469Z"
   },
   {
    "duration": 46,
    "start_time": "2021-10-25T17:58:00.476Z"
   },
   {
    "duration": 3,
    "start_time": "2021-10-25T17:58:00.523Z"
   },
   {
    "duration": 537,
    "start_time": "2021-10-25T17:58:00.528Z"
   },
   {
    "duration": 11,
    "start_time": "2021-10-25T17:58:01.066Z"
   },
   {
    "duration": 25761,
    "start_time": "2021-10-25T17:58:01.079Z"
   },
   {
    "duration": 4,
    "start_time": "2021-10-25T17:58:26.841Z"
   },
   {
    "duration": 366785,
    "start_time": "2021-10-25T17:58:26.847Z"
   },
   {
    "duration": 7189,
    "start_time": "2021-10-25T18:04:26.445Z"
   },
   {
    "duration": 7188,
    "start_time": "2021-10-25T18:04:26.447Z"
   },
   {
    "duration": 7187,
    "start_time": "2021-10-25T18:04:26.449Z"
   },
   {
    "duration": 7186,
    "start_time": "2021-10-25T18:04:26.451Z"
   },
   {
    "duration": 7185,
    "start_time": "2021-10-25T18:04:26.453Z"
   },
   {
    "duration": 7184,
    "start_time": "2021-10-25T18:04:26.455Z"
   },
   {
    "duration": 7184,
    "start_time": "2021-10-25T18:04:26.457Z"
   },
   {
    "duration": 368,
    "start_time": "2021-10-25T18:04:52.499Z"
   },
   {
    "duration": 365,
    "start_time": "2021-10-25T18:05:56.245Z"
   },
   {
    "duration": 32,
    "start_time": "2021-10-25T18:06:04.322Z"
   },
   {
    "duration": 29,
    "start_time": "2021-10-25T18:06:44.766Z"
   },
   {
    "duration": 27,
    "start_time": "2021-10-25T18:06:53.380Z"
   },
   {
    "duration": 490,
    "start_time": "2021-10-25T18:09:59.369Z"
   },
   {
    "duration": 384,
    "start_time": "2021-10-25T18:10:04.900Z"
   },
   {
    "duration": 753,
    "start_time": "2021-10-25T18:10:29.233Z"
   },
   {
    "duration": 956,
    "start_time": "2021-10-25T18:10:49.988Z"
   },
   {
    "duration": 544,
    "start_time": "2021-10-25T18:10:59.640Z"
   },
   {
    "duration": 720,
    "start_time": "2021-10-25T18:11:04.695Z"
   },
   {
    "duration": 570,
    "start_time": "2021-10-25T18:11:10.014Z"
   },
   {
    "duration": 579,
    "start_time": "2021-10-25T18:11:16.713Z"
   },
   {
    "duration": 473,
    "start_time": "2021-10-25T18:11:24.549Z"
   },
   {
    "duration": 410,
    "start_time": "2021-10-25T18:12:29.552Z"
   },
   {
    "duration": 508,
    "start_time": "2021-10-25T18:12:46.268Z"
   },
   {
    "duration": 461,
    "start_time": "2021-10-25T18:13:15.669Z"
   },
   {
    "duration": 492,
    "start_time": "2021-10-25T18:13:30.820Z"
   },
   {
    "duration": 483,
    "start_time": "2021-10-25T18:13:47.927Z"
   },
   {
    "duration": 413,
    "start_time": "2021-10-25T18:21:05.955Z"
   },
   {
    "duration": 975,
    "start_time": "2021-10-25T18:21:30.977Z"
   },
   {
    "duration": 745,
    "start_time": "2021-10-25T18:22:26.573Z"
   },
   {
    "duration": 492,
    "start_time": "2021-10-25T18:22:36.728Z"
   },
   {
    "duration": 841,
    "start_time": "2021-10-25T18:22:49.448Z"
   },
   {
    "duration": 944,
    "start_time": "2021-10-25T18:24:14.415Z"
   },
   {
    "duration": 496,
    "start_time": "2021-10-25T18:26:17.954Z"
   },
   {
    "duration": 1241,
    "start_time": "2021-10-25T18:26:55.340Z"
   },
   {
    "duration": 24,
    "start_time": "2021-10-25T18:26:56.583Z"
   },
   {
    "duration": 14,
    "start_time": "2021-10-25T18:26:56.610Z"
   },
   {
    "duration": 7,
    "start_time": "2021-10-25T18:26:56.626Z"
   },
   {
    "duration": 8,
    "start_time": "2021-10-25T18:26:56.635Z"
   },
   {
    "duration": 4,
    "start_time": "2021-10-25T18:26:56.646Z"
   },
   {
    "duration": 8,
    "start_time": "2021-10-25T18:26:56.676Z"
   },
   {
    "duration": 4,
    "start_time": "2021-10-25T18:26:56.686Z"
   },
   {
    "duration": 34,
    "start_time": "2021-10-25T18:26:56.692Z"
   },
   {
    "duration": 3,
    "start_time": "2021-10-25T18:26:56.728Z"
   },
   {
    "duration": 562,
    "start_time": "2021-10-25T18:26:56.733Z"
   },
   {
    "duration": 3,
    "start_time": "2021-10-25T18:26:57.296Z"
   },
   {
    "duration": 518,
    "start_time": "2021-10-25T18:26:57.302Z"
   },
   {
    "duration": 25396,
    "start_time": "2021-10-25T18:26:57.822Z"
   },
   {
    "duration": 4,
    "start_time": "2021-10-25T18:27:23.220Z"
   },
   {
    "duration": 245230,
    "start_time": "2021-10-25T18:27:23.226Z"
   },
   {
    "duration": 7187,
    "start_time": "2021-10-25T18:31:21.271Z"
   },
   {
    "duration": 7186,
    "start_time": "2021-10-25T18:31:21.273Z"
   },
   {
    "duration": 7187,
    "start_time": "2021-10-25T18:31:21.274Z"
   },
   {
    "duration": 7186,
    "start_time": "2021-10-25T18:31:21.275Z"
   },
   {
    "duration": 7185,
    "start_time": "2021-10-25T18:31:21.277Z"
   },
   {
    "duration": 7184,
    "start_time": "2021-10-25T18:31:21.279Z"
   },
   {
    "duration": 1236,
    "start_time": "2021-10-25T18:31:35.780Z"
   },
   {
    "duration": 25,
    "start_time": "2021-10-25T18:31:37.018Z"
   },
   {
    "duration": 14,
    "start_time": "2021-10-25T18:31:37.045Z"
   },
   {
    "duration": 16,
    "start_time": "2021-10-25T18:31:37.061Z"
   },
   {
    "duration": 6,
    "start_time": "2021-10-25T18:31:37.079Z"
   },
   {
    "duration": 6,
    "start_time": "2021-10-25T18:31:37.087Z"
   },
   {
    "duration": 9,
    "start_time": "2021-10-25T18:31:37.094Z"
   },
   {
    "duration": 4,
    "start_time": "2021-10-25T18:31:37.104Z"
   },
   {
    "duration": 72,
    "start_time": "2021-10-25T18:31:37.111Z"
   },
   {
    "duration": 4,
    "start_time": "2021-10-25T18:31:37.185Z"
   },
   {
    "duration": 564,
    "start_time": "2021-10-25T18:31:37.190Z"
   },
   {
    "duration": 3,
    "start_time": "2021-10-25T18:31:37.756Z"
   },
   {
    "duration": 524,
    "start_time": "2021-10-25T18:31:37.761Z"
   },
   {
    "duration": 25314,
    "start_time": "2021-10-25T18:31:38.288Z"
   },
   {
    "duration": 3,
    "start_time": "2021-10-25T18:32:03.603Z"
   },
   {
    "duration": 58849,
    "start_time": "2021-10-25T18:32:03.608Z"
   },
   {
    "duration": 3,
    "start_time": "2021-10-25T18:33:02.459Z"
   },
   {
    "duration": 26,
    "start_time": "2021-10-25T18:33:02.464Z"
   },
   {
    "duration": 21,
    "start_time": "2021-10-25T18:33:02.491Z"
   },
   {
    "duration": 10,
    "start_time": "2021-10-25T18:33:02.514Z"
   },
   {
    "duration": 51,
    "start_time": "2021-10-25T18:33:02.526Z"
   },
   {
    "duration": 16,
    "start_time": "2021-10-25T18:33:02.579Z"
   },
   {
    "duration": 1256,
    "start_time": "2021-10-25T18:54:32.253Z"
   },
   {
    "duration": 23,
    "start_time": "2021-10-25T18:54:33.512Z"
   },
   {
    "duration": 13,
    "start_time": "2021-10-25T18:54:33.537Z"
   },
   {
    "duration": 8,
    "start_time": "2021-10-25T18:54:33.552Z"
   },
   {
    "duration": 6,
    "start_time": "2021-10-25T18:54:33.576Z"
   },
   {
    "duration": 6,
    "start_time": "2021-10-25T18:54:33.584Z"
   },
   {
    "duration": 7,
    "start_time": "2021-10-25T18:54:33.592Z"
   },
   {
    "duration": 5,
    "start_time": "2021-10-25T18:54:33.601Z"
   },
   {
    "duration": 35,
    "start_time": "2021-10-25T18:54:33.608Z"
   },
   {
    "duration": 33,
    "start_time": "2021-10-25T18:54:33.645Z"
   },
   {
    "duration": 547,
    "start_time": "2021-10-25T18:54:33.680Z"
   },
   {
    "duration": 3,
    "start_time": "2021-10-25T18:54:34.228Z"
   },
   {
    "duration": 516,
    "start_time": "2021-10-25T18:54:34.233Z"
   },
   {
    "duration": 25241,
    "start_time": "2021-10-25T18:54:34.751Z"
   },
   {
    "duration": 4,
    "start_time": "2021-10-25T18:54:59.994Z"
   },
   {
    "duration": 58931,
    "start_time": "2021-10-25T18:55:00.000Z"
   },
   {
    "duration": 4,
    "start_time": "2021-10-25T18:55:58.933Z"
   },
   {
    "duration": 40,
    "start_time": "2021-10-25T18:55:58.941Z"
   },
   {
    "duration": 29,
    "start_time": "2021-10-25T18:55:58.983Z"
   },
   {
    "duration": 11,
    "start_time": "2021-10-25T18:55:59.014Z"
   },
   {
    "duration": 16,
    "start_time": "2021-10-25T18:55:59.027Z"
   },
   {
    "duration": 46,
    "start_time": "2021-10-25T18:55:59.045Z"
   },
   {
    "duration": 117,
    "start_time": "2021-10-25T18:57:42.043Z"
   },
   {
    "duration": 470,
    "start_time": "2021-10-25T18:58:02.141Z"
   },
   {
    "duration": 6,
    "start_time": "2021-10-25T18:59:05.445Z"
   },
   {
    "duration": 23,
    "start_time": "2021-10-25T18:59:16.434Z"
   },
   {
    "duration": 14,
    "start_time": "2021-10-25T19:03:42.608Z"
   },
   {
    "duration": 14,
    "start_time": "2021-10-25T19:05:35.538Z"
   },
   {
    "duration": 9,
    "start_time": "2021-10-25T19:05:54.130Z"
   },
   {
    "duration": 1245,
    "start_time": "2021-10-25T19:06:27.870Z"
   },
   {
    "duration": 24,
    "start_time": "2021-10-25T19:06:29.117Z"
   },
   {
    "duration": 13,
    "start_time": "2021-10-25T19:06:29.146Z"
   },
   {
    "duration": 29,
    "start_time": "2021-10-25T19:06:29.161Z"
   },
   {
    "duration": 8,
    "start_time": "2021-10-25T19:06:29.192Z"
   },
   {
    "duration": 9,
    "start_time": "2021-10-25T19:06:29.202Z"
   },
   {
    "duration": 4,
    "start_time": "2021-10-25T19:06:29.213Z"
   },
   {
    "duration": 8,
    "start_time": "2021-10-25T19:06:29.219Z"
   },
   {
    "duration": 4,
    "start_time": "2021-10-25T19:06:29.229Z"
   },
   {
    "duration": 1462,
    "start_time": "2021-10-25T19:06:29.235Z"
   },
   {
    "duration": 11,
    "start_time": "2021-10-25T19:06:30.781Z"
   },
   {
    "duration": 668,
    "start_time": "2021-10-25T19:06:30.794Z"
   },
   {
    "duration": 20,
    "start_time": "2021-10-25T19:06:31.463Z"
   },
   {
    "duration": 24273,
    "start_time": "2021-10-25T19:06:31.486Z"
   },
   {
    "duration": 30669,
    "start_time": "2021-10-25T19:06:55.762Z"
   },
   {
    "duration": 4,
    "start_time": "2021-10-25T19:07:26.432Z"
   },
   {
    "duration": 78217,
    "start_time": "2021-10-25T19:07:26.437Z"
   },
   {
    "duration": 3,
    "start_time": "2021-10-25T19:08:44.656Z"
   },
   {
    "duration": 33,
    "start_time": "2021-10-25T19:08:44.661Z"
   },
   {
    "duration": 186,
    "start_time": "2021-10-25T19:08:44.697Z"
   },
   {
    "duration": 10,
    "start_time": "2021-10-25T19:08:44.887Z"
   },
   {
    "duration": 10,
    "start_time": "2021-10-25T19:08:44.900Z"
   },
   {
    "duration": 17,
    "start_time": "2021-10-25T19:08:44.912Z"
   },
   {
    "duration": 1506,
    "start_time": "2021-10-25T19:15:02.119Z"
   },
   {
    "duration": 12,
    "start_time": "2021-10-25T19:15:16.167Z"
   },
   {
    "duration": 1225,
    "start_time": "2021-10-25T19:15:40.589Z"
   },
   {
    "duration": 24,
    "start_time": "2021-10-25T19:15:41.816Z"
   },
   {
    "duration": 13,
    "start_time": "2021-10-25T19:15:41.843Z"
   },
   {
    "duration": 20,
    "start_time": "2021-10-25T19:15:41.858Z"
   },
   {
    "duration": 7,
    "start_time": "2021-10-25T19:15:41.885Z"
   },
   {
    "duration": 12,
    "start_time": "2021-10-25T19:15:41.894Z"
   },
   {
    "duration": 4,
    "start_time": "2021-10-25T19:15:41.907Z"
   },
   {
    "duration": 8,
    "start_time": "2021-10-25T19:15:41.913Z"
   },
   {
    "duration": 4,
    "start_time": "2021-10-25T19:15:41.923Z"
   },
   {
    "duration": 469,
    "start_time": "2021-10-25T19:15:41.929Z"
   },
   {
    "duration": 80,
    "start_time": "2021-10-25T19:15:42.401Z"
   },
   {
    "duration": 683,
    "start_time": "2021-10-25T19:15:42.484Z"
   },
   {
    "duration": 4,
    "start_time": "2021-10-25T19:15:43.168Z"
   },
   {
    "duration": 20307,
    "start_time": "2021-10-25T19:15:43.177Z"
   },
   {
    "duration": 31199,
    "start_time": "2021-10-25T19:16:03.486Z"
   },
   {
    "duration": 4,
    "start_time": "2021-10-25T19:16:34.687Z"
   },
   {
    "duration": 82154,
    "start_time": "2021-10-25T19:16:34.695Z"
   },
   {
    "duration": 3,
    "start_time": "2021-10-25T19:17:56.850Z"
   },
   {
    "duration": 39,
    "start_time": "2021-10-25T19:17:56.855Z"
   },
   {
    "duration": 190,
    "start_time": "2021-10-25T19:17:56.895Z"
   },
   {
    "duration": 11,
    "start_time": "2021-10-25T19:17:57.089Z"
   },
   {
    "duration": 11,
    "start_time": "2021-10-25T19:17:57.102Z"
   },
   {
    "duration": 20,
    "start_time": "2021-10-25T19:17:57.115Z"
   },
   {
    "duration": 10068,
    "start_time": "2021-10-25T19:19:21.013Z"
   },
   {
    "duration": 453,
    "start_time": "2021-10-25T19:20:05.622Z"
   },
   {
    "duration": 3,
    "start_time": "2021-10-25T19:20:14.355Z"
   },
   {
    "duration": 7,
    "start_time": "2021-10-25T19:20:23.482Z"
   },
   {
    "duration": 390,
    "start_time": "2021-10-25T19:20:36.478Z"
   },
   {
    "duration": 5,
    "start_time": "2021-10-25T19:21:08.415Z"
   },
   {
    "duration": 7,
    "start_time": "2021-10-25T19:21:27.578Z"
   },
   {
    "duration": 5,
    "start_time": "2021-10-25T19:21:41.109Z"
   },
   {
    "duration": 4,
    "start_time": "2021-10-25T19:21:47.535Z"
   },
   {
    "duration": 6,
    "start_time": "2021-10-25T19:22:08.531Z"
   },
   {
    "duration": 8,
    "start_time": "2021-10-25T19:22:12.413Z"
   },
   {
    "duration": 6,
    "start_time": "2021-10-25T19:23:31.079Z"
   },
   {
    "duration": 381,
    "start_time": "2021-10-25T19:29:03.911Z"
   },
   {
    "duration": 11,
    "start_time": "2021-10-25T19:29:18.638Z"
   },
   {
    "duration": 12,
    "start_time": "2021-10-25T19:30:09.418Z"
   },
   {
    "duration": 29,
    "start_time": "2021-10-25T19:30:14.438Z"
   },
   {
    "duration": 1233,
    "start_time": "2021-10-25T19:30:40.689Z"
   },
   {
    "duration": 24,
    "start_time": "2021-10-25T19:30:41.925Z"
   },
   {
    "duration": 15,
    "start_time": "2021-10-25T19:30:41.951Z"
   },
   {
    "duration": 14,
    "start_time": "2021-10-25T19:30:41.968Z"
   },
   {
    "duration": 13,
    "start_time": "2021-10-25T19:30:41.984Z"
   },
   {
    "duration": 11,
    "start_time": "2021-10-25T19:30:41.999Z"
   },
   {
    "duration": 17,
    "start_time": "2021-10-25T19:30:42.013Z"
   },
   {
    "duration": 7,
    "start_time": "2021-10-25T19:30:42.032Z"
   },
   {
    "duration": 43,
    "start_time": "2021-10-25T19:30:42.043Z"
   },
   {
    "duration": 6,
    "start_time": "2021-10-25T19:30:42.090Z"
   },
   {
    "duration": 1781,
    "start_time": "2021-10-25T19:30:42.098Z"
   },
   {
    "duration": 8,
    "start_time": "2021-10-25T19:30:43.886Z"
   },
   {
    "duration": 753,
    "start_time": "2021-10-25T19:30:43.896Z"
   },
   {
    "duration": 4,
    "start_time": "2021-10-25T19:30:44.651Z"
   },
   {
    "duration": 23891,
    "start_time": "2021-10-25T19:30:44.657Z"
   },
   {
    "duration": 31826,
    "start_time": "2021-10-25T19:31:08.550Z"
   },
   {
    "duration": 3,
    "start_time": "2021-10-25T19:31:40.378Z"
   },
   {
    "duration": 85104,
    "start_time": "2021-10-25T19:31:40.383Z"
   },
   {
    "duration": 4,
    "start_time": "2021-10-25T19:33:05.490Z"
   },
   {
    "duration": 25,
    "start_time": "2021-10-25T19:33:05.496Z"
   },
   {
    "duration": 162,
    "start_time": "2021-10-25T19:33:05.523Z"
   },
   {
    "duration": 13,
    "start_time": "2021-10-25T19:33:05.688Z"
   },
   {
    "duration": 13,
    "start_time": "2021-10-25T19:33:05.703Z"
   },
   {
    "duration": 27,
    "start_time": "2021-10-25T19:33:05.718Z"
   },
   {
    "duration": 861,
    "start_time": "2021-10-25T19:48:14.716Z"
   },
   {
    "duration": 4,
    "start_time": "2021-10-25T19:48:17.690Z"
   },
   {
    "duration": 57548,
    "start_time": "2021-10-25T19:48:45.786Z"
   },
   {
    "duration": 4,
    "start_time": "2021-10-25T19:49:49.913Z"
   },
   {
    "duration": 81863,
    "start_time": "2021-10-25T19:50:08.965Z"
   },
   {
    "duration": 4,
    "start_time": "2021-10-25T19:51:32.239Z"
   },
   {
    "duration": 4,
    "start_time": "2021-10-25T19:51:40.151Z"
   },
   {
    "duration": 20882,
    "start_time": "2021-10-25T19:52:11.396Z"
   },
   {
    "duration": 7,
    "start_time": "2021-10-25T19:52:32.280Z"
   },
   {
    "duration": 4,
    "start_time": "2021-10-25T19:52:37.952Z"
   },
   {
    "duration": 4,
    "start_time": "2021-10-25T19:52:45.243Z"
   },
   {
    "duration": 3,
    "start_time": "2021-10-25T19:52:50.335Z"
   },
   {
    "duration": 169230,
    "start_time": "2021-10-25T19:53:05.382Z"
   },
   {
    "duration": 4,
    "start_time": "2021-10-25T19:55:54.614Z"
   },
   {
    "duration": 4,
    "start_time": "2021-10-25T19:56:05.456Z"
   },
   {
    "duration": 170217,
    "start_time": "2021-10-25T19:56:20.639Z"
   },
   {
    "duration": 3,
    "start_time": "2021-10-25T19:59:10.858Z"
   },
   {
    "duration": 3,
    "start_time": "2021-10-25T19:59:16.014Z"
   },
   {
    "duration": 4,
    "start_time": "2021-10-25T19:59:29.334Z"
   },
   {
    "duration": 4,
    "start_time": "2021-10-25T19:59:45.836Z"
   },
   {
    "duration": 19501,
    "start_time": "2021-10-25T19:59:53.853Z"
   },
   {
    "duration": 4,
    "start_time": "2021-10-25T20:00:16.745Z"
   },
   {
    "duration": 4,
    "start_time": "2021-10-25T20:00:37.521Z"
   },
   {
    "duration": 861,
    "start_time": "2021-10-25T20:00:39.467Z"
   },
   {
    "duration": 4,
    "start_time": "2021-10-25T20:00:40.974Z"
   },
   {
    "duration": 1185,
    "start_time": "2021-10-25T20:01:03.222Z"
   },
   {
    "duration": 24,
    "start_time": "2021-10-25T20:01:04.409Z"
   },
   {
    "duration": 13,
    "start_time": "2021-10-25T20:01:04.437Z"
   },
   {
    "duration": 10,
    "start_time": "2021-10-25T20:01:04.452Z"
   },
   {
    "duration": 16,
    "start_time": "2021-10-25T20:01:04.464Z"
   },
   {
    "duration": 6,
    "start_time": "2021-10-25T20:01:04.482Z"
   },
   {
    "duration": 12,
    "start_time": "2021-10-25T20:01:04.491Z"
   },
   {
    "duration": 3,
    "start_time": "2021-10-25T20:01:04.506Z"
   },
   {
    "duration": 11,
    "start_time": "2021-10-25T20:01:04.511Z"
   },
   {
    "duration": 4,
    "start_time": "2021-10-25T20:01:04.524Z"
   },
   {
    "duration": 449,
    "start_time": "2021-10-25T20:01:04.530Z"
   },
   {
    "duration": 4,
    "start_time": "2021-10-25T20:01:04.981Z"
   },
   {
    "duration": 886,
    "start_time": "2021-10-25T20:01:04.986Z"
   },
   {
    "duration": 3,
    "start_time": "2021-10-25T20:01:05.876Z"
   },
   {
    "duration": 23241,
    "start_time": "2021-10-25T20:01:05.881Z"
   },
   {
    "duration": 13624,
    "start_time": "2021-10-25T20:01:29.124Z"
   },
   {
    "duration": 3,
    "start_time": "2021-10-25T20:01:42.750Z"
   },
   {
    "duration": 87639,
    "start_time": "2021-10-25T20:01:42.755Z"
   },
   {
    "duration": 3,
    "start_time": "2021-10-25T20:03:10.396Z"
   },
   {
    "duration": 25,
    "start_time": "2021-10-25T20:03:10.401Z"
   },
   {
    "duration": 175,
    "start_time": "2021-10-25T20:03:10.427Z"
   },
   {
    "duration": 10,
    "start_time": "2021-10-25T20:03:10.605Z"
   },
   {
    "duration": 11,
    "start_time": "2021-10-25T20:03:10.617Z"
   },
   {
    "duration": 56,
    "start_time": "2021-10-25T20:03:10.630Z"
   },
   {
    "duration": 23969,
    "start_time": "2021-10-25T20:04:13.318Z"
   },
   {
    "duration": 26904,
    "start_time": "2021-10-25T20:05:10.916Z"
   },
   {
    "duration": 24578,
    "start_time": "2021-10-25T20:05:59.849Z"
   },
   {
    "duration": 1261,
    "start_time": "2021-10-25T20:06:56.245Z"
   },
   {
    "duration": 24,
    "start_time": "2021-10-25T20:06:57.508Z"
   },
   {
    "duration": 12,
    "start_time": "2021-10-25T20:06:57.536Z"
   },
   {
    "duration": 27,
    "start_time": "2021-10-25T20:06:57.550Z"
   },
   {
    "duration": 5,
    "start_time": "2021-10-25T20:06:57.579Z"
   },
   {
    "duration": 8,
    "start_time": "2021-10-25T20:06:57.586Z"
   },
   {
    "duration": 11,
    "start_time": "2021-10-25T20:06:57.596Z"
   },
   {
    "duration": 3,
    "start_time": "2021-10-25T20:06:57.609Z"
   },
   {
    "duration": 9,
    "start_time": "2021-10-25T20:06:57.613Z"
   },
   {
    "duration": 6,
    "start_time": "2021-10-25T20:06:57.624Z"
   },
   {
    "duration": 450,
    "start_time": "2021-10-25T20:06:57.631Z"
   },
   {
    "duration": 95,
    "start_time": "2021-10-25T20:06:58.083Z"
   },
   {
    "duration": 887,
    "start_time": "2021-10-25T20:06:58.180Z"
   },
   {
    "duration": 3,
    "start_time": "2021-10-25T20:06:59.077Z"
   },
   {
    "duration": 25808,
    "start_time": "2021-10-25T20:06:59.082Z"
   },
   {
    "duration": 53396,
    "start_time": "2021-10-25T20:07:24.892Z"
   },
   {
    "duration": 3,
    "start_time": "2021-10-25T20:08:18.289Z"
   },
   {
    "duration": 86453,
    "start_time": "2021-10-25T20:08:18.294Z"
   },
   {
    "duration": 3,
    "start_time": "2021-10-25T20:09:44.749Z"
   },
   {
    "duration": 40,
    "start_time": "2021-10-25T20:09:44.753Z"
   },
   {
    "duration": 205,
    "start_time": "2021-10-25T20:09:44.795Z"
   },
   {
    "duration": 10,
    "start_time": "2021-10-25T20:09:45.003Z"
   },
   {
    "duration": 15,
    "start_time": "2021-10-25T20:09:45.015Z"
   },
   {
    "duration": 51,
    "start_time": "2021-10-25T20:09:45.032Z"
   },
   {
    "duration": 6,
    "start_time": "2021-10-25T20:12:34.448Z"
   },
   {
    "duration": 1330,
    "start_time": "2021-10-25T20:12:41.674Z"
   },
   {
    "duration": 24,
    "start_time": "2021-10-25T20:12:43.006Z"
   },
   {
    "duration": 17,
    "start_time": "2021-10-25T20:12:43.032Z"
   },
   {
    "duration": 7,
    "start_time": "2021-10-25T20:12:43.051Z"
   },
   {
    "duration": 20,
    "start_time": "2021-10-25T20:12:43.060Z"
   },
   {
    "duration": 11,
    "start_time": "2021-10-25T20:12:43.082Z"
   },
   {
    "duration": 12,
    "start_time": "2021-10-25T20:12:43.094Z"
   },
   {
    "duration": 4,
    "start_time": "2021-10-25T20:12:43.109Z"
   },
   {
    "duration": 9,
    "start_time": "2021-10-25T20:12:43.115Z"
   },
   {
    "duration": 4,
    "start_time": "2021-10-25T20:12:43.126Z"
   },
   {
    "duration": 452,
    "start_time": "2021-10-25T20:12:43.132Z"
   },
   {
    "duration": 93,
    "start_time": "2021-10-25T20:12:43.586Z"
   },
   {
    "duration": 1203,
    "start_time": "2021-10-25T20:12:43.681Z"
   },
   {
    "duration": 3,
    "start_time": "2021-10-25T20:12:44.886Z"
   },
   {
    "duration": 34390,
    "start_time": "2021-10-25T20:12:44.891Z"
   },
   {
    "duration": 54632,
    "start_time": "2021-10-25T20:13:19.283Z"
   },
   {
    "duration": 3,
    "start_time": "2021-10-25T20:14:13.917Z"
   },
   {
    "duration": 86796,
    "start_time": "2021-10-25T20:14:13.922Z"
   },
   {
    "duration": 4,
    "start_time": "2021-10-25T20:15:40.721Z"
   },
   {
    "duration": 50,
    "start_time": "2021-10-25T20:15:40.727Z"
   },
   {
    "duration": 213,
    "start_time": "2021-10-25T20:15:40.778Z"
   },
   {
    "duration": 12,
    "start_time": "2021-10-25T20:15:40.992Z"
   },
   {
    "duration": 23,
    "start_time": "2021-10-25T20:15:41.007Z"
   },
   {
    "duration": 1210,
    "start_time": "2021-10-25T20:19:40.105Z"
   },
   {
    "duration": 25,
    "start_time": "2021-10-25T20:19:41.317Z"
   },
   {
    "duration": 14,
    "start_time": "2021-10-25T20:19:41.348Z"
   },
   {
    "duration": 17,
    "start_time": "2021-10-25T20:19:41.364Z"
   },
   {
    "duration": 6,
    "start_time": "2021-10-25T20:19:41.383Z"
   },
   {
    "duration": 7,
    "start_time": "2021-10-25T20:19:41.391Z"
   },
   {
    "duration": 10,
    "start_time": "2021-10-25T20:19:41.401Z"
   },
   {
    "duration": 4,
    "start_time": "2021-10-25T20:19:41.413Z"
   },
   {
    "duration": 58,
    "start_time": "2021-10-25T20:19:41.419Z"
   },
   {
    "duration": 4,
    "start_time": "2021-10-25T20:19:41.479Z"
   },
   {
    "duration": 498,
    "start_time": "2021-10-25T20:19:41.485Z"
   },
   {
    "duration": 92,
    "start_time": "2021-10-25T20:19:41.986Z"
   },
   {
    "duration": 1023,
    "start_time": "2021-10-25T20:19:42.080Z"
   },
   {
    "duration": 3,
    "start_time": "2021-10-25T20:19:43.105Z"
   },
   {
    "duration": 33945,
    "start_time": "2021-10-25T20:19:43.109Z"
   },
   {
    "duration": 54232,
    "start_time": "2021-10-25T20:20:17.056Z"
   },
   {
    "duration": 4,
    "start_time": "2021-10-25T20:21:11.290Z"
   },
   {
    "duration": 86541,
    "start_time": "2021-10-25T20:21:11.296Z"
   },
   {
    "duration": 2,
    "start_time": "2021-10-25T20:22:37.839Z"
   },
   {
    "duration": 44,
    "start_time": "2021-10-25T20:22:37.843Z"
   },
   {
    "duration": 209,
    "start_time": "2021-10-25T20:22:37.889Z"
   },
   {
    "duration": 9,
    "start_time": "2021-10-25T20:22:38.100Z"
   },
   {
    "duration": 21,
    "start_time": "2021-10-25T20:22:38.111Z"
   },
   {
    "duration": 3057,
    "start_time": "2021-10-25T20:25:22.020Z"
   },
   {
    "duration": 725,
    "start_time": "2021-10-25T20:25:37.482Z"
   },
   {
    "duration": 718,
    "start_time": "2021-10-25T20:25:42.090Z"
   },
   {
    "duration": 329,
    "start_time": "2021-10-25T20:25:48.349Z"
   },
   {
    "duration": 3,
    "start_time": "2021-10-25T20:25:51.674Z"
   },
   {
    "duration": 26,
    "start_time": "2021-10-25T20:30:20.313Z"
   },
   {
    "duration": 24,
    "start_time": "2021-10-25T20:30:34.339Z"
   },
   {
    "duration": 26,
    "start_time": "2021-10-25T20:31:17.741Z"
   },
   {
    "duration": 22,
    "start_time": "2021-10-25T20:31:29.665Z"
   },
   {
    "duration": 1226,
    "start_time": "2021-10-25T20:34:02.779Z"
   },
   {
    "duration": 28,
    "start_time": "2021-10-25T20:34:04.007Z"
   },
   {
    "duration": 20,
    "start_time": "2021-10-25T20:34:04.038Z"
   },
   {
    "duration": 20,
    "start_time": "2021-10-25T20:34:04.061Z"
   },
   {
    "duration": 5,
    "start_time": "2021-10-25T20:34:04.083Z"
   },
   {
    "duration": 11,
    "start_time": "2021-10-25T20:34:04.090Z"
   },
   {
    "duration": 11,
    "start_time": "2021-10-25T20:34:04.103Z"
   },
   {
    "duration": 4,
    "start_time": "2021-10-25T20:34:04.116Z"
   },
   {
    "duration": 11,
    "start_time": "2021-10-25T20:34:04.122Z"
   },
   {
    "duration": 4,
    "start_time": "2021-10-25T20:34:04.177Z"
   },
   {
    "duration": 302,
    "start_time": "2021-10-25T20:34:04.182Z"
   },
   {
    "duration": 4,
    "start_time": "2021-10-25T20:34:04.487Z"
   },
   {
    "duration": 893,
    "start_time": "2021-10-25T20:34:04.577Z"
   },
   {
    "duration": 7,
    "start_time": "2021-10-25T20:34:05.471Z"
   },
   {
    "duration": 59202,
    "start_time": "2021-10-25T20:34:05.479Z"
   },
   {
    "duration": 55250,
    "start_time": "2021-10-25T20:35:04.684Z"
   },
   {
    "duration": 3,
    "start_time": "2021-10-25T20:35:59.936Z"
   },
   {
    "duration": 87283,
    "start_time": "2021-10-25T20:35:59.941Z"
   },
   {
    "duration": 4,
    "start_time": "2021-10-25T20:37:27.226Z"
   },
   {
    "duration": 49,
    "start_time": "2021-10-25T20:37:27.233Z"
   },
   {
    "duration": 196,
    "start_time": "2021-10-25T20:37:27.285Z"
   },
   {
    "duration": 10,
    "start_time": "2021-10-25T20:37:27.483Z"
   },
   {
    "duration": 24,
    "start_time": "2021-10-25T20:37:27.494Z"
   },
   {
    "duration": 62,
    "start_time": "2021-10-25T20:39:03.629Z"
   },
   {
    "duration": 34,
    "start_time": "2021-10-25T20:39:23.344Z"
   },
   {
    "duration": 33,
    "start_time": "2021-10-25T20:39:32.337Z"
   },
   {
    "duration": 38,
    "start_time": "2021-10-25T20:39:42.643Z"
   },
   {
    "duration": 61058,
    "start_time": "2021-10-25T20:40:17.405Z"
   },
   {
    "duration": 51,
    "start_time": "2021-10-25T20:41:27.175Z"
   },
   {
    "duration": 8,
    "start_time": "2021-10-25T20:41:57.213Z"
   },
   {
    "duration": 6,
    "start_time": "2021-10-25T20:42:03.912Z"
   },
   {
    "duration": 7,
    "start_time": "2021-10-25T20:42:10.010Z"
   },
   {
    "duration": 66004,
    "start_time": "2021-10-25T20:42:15.561Z"
   },
   {
    "duration": 46,
    "start_time": "2021-10-25T20:44:05.963Z"
   },
   {
    "duration": 1217,
    "start_time": "2021-10-25T20:44:48.290Z"
   },
   {
    "duration": 24,
    "start_time": "2021-10-25T20:44:49.509Z"
   },
   {
    "duration": 13,
    "start_time": "2021-10-25T20:44:49.535Z"
   },
   {
    "duration": 7,
    "start_time": "2021-10-25T20:44:49.550Z"
   },
   {
    "duration": 23,
    "start_time": "2021-10-25T20:44:49.558Z"
   },
   {
    "duration": 8,
    "start_time": "2021-10-25T20:44:49.582Z"
   },
   {
    "duration": 12,
    "start_time": "2021-10-25T20:44:49.592Z"
   },
   {
    "duration": 4,
    "start_time": "2021-10-25T20:44:49.606Z"
   },
   {
    "duration": 8,
    "start_time": "2021-10-25T20:44:49.612Z"
   },
   {
    "duration": 4,
    "start_time": "2021-10-25T20:44:49.622Z"
   },
   {
    "duration": 450,
    "start_time": "2021-10-25T20:44:49.628Z"
   },
   {
    "duration": 4,
    "start_time": "2021-10-25T20:44:50.080Z"
   },
   {
    "duration": 970,
    "start_time": "2021-10-25T20:44:50.085Z"
   },
   {
    "duration": 4,
    "start_time": "2021-10-25T20:44:51.056Z"
   },
   {
    "duration": 32,
    "start_time": "2021-10-25T20:44:51.061Z"
   },
   {
    "duration": 54319,
    "start_time": "2021-10-25T20:44:51.095Z"
   },
   {
    "duration": 5,
    "start_time": "2021-10-25T20:45:45.416Z"
   },
   {
    "duration": 90386,
    "start_time": "2021-10-25T20:45:45.423Z"
   },
   {
    "duration": 3,
    "start_time": "2021-10-25T20:47:15.811Z"
   },
   {
    "duration": 24,
    "start_time": "2021-10-25T20:47:15.816Z"
   },
   {
    "duration": 159,
    "start_time": "2021-10-25T20:47:15.842Z"
   },
   {
    "duration": 76,
    "start_time": "2021-10-25T20:47:16.003Z"
   },
   {
    "duration": 26,
    "start_time": "2021-10-25T20:47:16.085Z"
   },
   {
    "duration": 62757,
    "start_time": "2021-10-25T20:50:12.511Z"
   },
   {
    "duration": 4,
    "start_time": "2021-10-25T21:04:34.020Z"
   },
   {
    "duration": 26,
    "start_time": "2021-10-25T21:04:34.025Z"
   },
   {
    "duration": 11,
    "start_time": "2021-10-25T21:04:34.053Z"
   },
   {
    "duration": 10,
    "start_time": "2021-10-25T21:04:34.066Z"
   },
   {
    "duration": 7,
    "start_time": "2021-10-25T21:04:34.078Z"
   },
   {
    "duration": 6,
    "start_time": "2021-10-25T21:04:34.087Z"
   },
   {
    "duration": 7,
    "start_time": "2021-10-25T21:04:47.594Z"
   },
   {
    "duration": 8,
    "start_time": "2021-10-25T21:04:55.546Z"
   },
   {
    "duration": 10,
    "start_time": "2021-10-25T21:06:09.508Z"
   },
   {
    "duration": 3,
    "start_time": "2021-10-25T21:10:11.200Z"
   },
   {
    "duration": 1269,
    "start_time": "2021-10-25T21:11:06.307Z"
   },
   {
    "duration": 28,
    "start_time": "2021-10-25T21:11:07.578Z"
   },
   {
    "duration": 14,
    "start_time": "2021-10-25T21:11:07.609Z"
   },
   {
    "duration": 6,
    "start_time": "2021-10-25T21:11:07.625Z"
   },
   {
    "duration": 6,
    "start_time": "2021-10-25T21:11:07.633Z"
   },
   {
    "duration": 36,
    "start_time": "2021-10-25T21:11:07.641Z"
   },
   {
    "duration": 6,
    "start_time": "2021-10-25T21:11:07.679Z"
   },
   {
    "duration": 12,
    "start_time": "2021-10-25T21:11:07.687Z"
   },
   {
    "duration": 5,
    "start_time": "2021-10-25T21:11:07.702Z"
   },
   {
    "duration": 10,
    "start_time": "2021-10-25T21:11:07.708Z"
   },
   {
    "duration": 7,
    "start_time": "2021-10-25T21:11:07.719Z"
   },
   {
    "duration": 5,
    "start_time": "2021-10-25T21:11:07.728Z"
   },
   {
    "duration": 448,
    "start_time": "2021-10-25T21:11:07.734Z"
   },
   {
    "duration": 4,
    "start_time": "2021-10-25T21:11:08.276Z"
   },
   {
    "duration": 831,
    "start_time": "2021-10-25T21:11:08.282Z"
   },
   {
    "duration": 4,
    "start_time": "2021-10-25T21:11:09.115Z"
   },
   {
    "duration": 20,
    "start_time": "2021-10-25T21:11:09.121Z"
   },
   {
    "duration": 52177,
    "start_time": "2021-10-25T21:11:09.144Z"
   },
   {
    "duration": 4,
    "start_time": "2021-10-25T21:12:01.322Z"
   },
   {
    "duration": 84480,
    "start_time": "2021-10-25T21:12:01.328Z"
   },
   {
    "duration": 3,
    "start_time": "2021-10-25T21:13:25.810Z"
   },
   {
    "duration": 13,
    "start_time": "2021-10-25T21:13:25.815Z"
   },
   {
    "duration": 152,
    "start_time": "2021-10-25T21:13:25.831Z"
   },
   {
    "duration": 10,
    "start_time": "2021-10-25T21:13:25.985Z"
   },
   {
    "duration": 12,
    "start_time": "2021-10-25T21:13:25.997Z"
   },
   {
    "duration": 510,
    "start_time": "2021-10-25T21:14:14.813Z"
   },
   {
    "duration": 4,
    "start_time": "2021-10-25T21:19:05.759Z"
   },
   {
    "duration": 12,
    "start_time": "2021-10-25T21:19:34.964Z"
   },
   {
    "duration": 1192,
    "start_time": "2021-10-25T21:19:41.120Z"
   },
   {
    "duration": 24,
    "start_time": "2021-10-25T21:19:42.314Z"
   },
   {
    "duration": 35,
    "start_time": "2021-10-25T21:19:42.344Z"
   },
   {
    "duration": 6,
    "start_time": "2021-10-25T21:19:42.381Z"
   },
   {
    "duration": 6,
    "start_time": "2021-10-25T21:19:42.389Z"
   },
   {
    "duration": 7,
    "start_time": "2021-10-25T21:19:42.397Z"
   },
   {
    "duration": 6,
    "start_time": "2021-10-25T21:19:42.406Z"
   },
   {
    "duration": 4,
    "start_time": "2021-10-25T21:19:42.413Z"
   },
   {
    "duration": 58,
    "start_time": "2021-10-25T21:19:42.419Z"
   },
   {
    "duration": 5,
    "start_time": "2021-10-25T21:19:42.479Z"
   },
   {
    "duration": 10,
    "start_time": "2021-10-25T21:19:42.486Z"
   },
   {
    "duration": 5,
    "start_time": "2021-10-25T21:19:42.498Z"
   },
   {
    "duration": 5,
    "start_time": "2021-10-25T21:19:42.505Z"
   },
   {
    "duration": 170,
    "start_time": "2021-10-25T21:19:42.513Z"
   },
   {
    "duration": 92,
    "start_time": "2021-10-25T21:19:42.685Z"
   },
   {
    "duration": 234,
    "start_time": "2021-10-25T21:19:42.779Z"
   },
   {
    "duration": 3,
    "start_time": "2021-10-25T21:19:43.015Z"
   },
   {
    "duration": 544,
    "start_time": "2021-10-25T21:19:43.020Z"
   },
   {
    "duration": 5218,
    "start_time": "2021-10-25T21:19:43.566Z"
   },
   {
    "duration": 3,
    "start_time": "2021-10-25T21:19:48.786Z"
   },
   {
    "duration": 38911,
    "start_time": "2021-10-25T21:19:48.792Z"
   },
   {
    "duration": 3,
    "start_time": "2021-10-25T21:20:27.705Z"
   },
   {
    "duration": 14,
    "start_time": "2021-10-25T21:20:27.710Z"
   },
   {
    "duration": 59,
    "start_time": "2021-10-25T21:20:27.725Z"
   },
   {
    "duration": 101,
    "start_time": "2021-10-25T21:20:27.786Z"
   },
   {
    "duration": 15,
    "start_time": "2021-10-25T21:20:27.889Z"
   },
   {
    "duration": 12,
    "start_time": "2021-10-25T21:23:57.655Z"
   },
   {
    "duration": 1240,
    "start_time": "2021-10-25T21:25:53.577Z"
   },
   {
    "duration": 24,
    "start_time": "2021-10-25T21:25:54.819Z"
   },
   {
    "duration": 12,
    "start_time": "2021-10-25T21:25:54.845Z"
   },
   {
    "duration": 20,
    "start_time": "2021-10-25T21:25:54.859Z"
   },
   {
    "duration": 5,
    "start_time": "2021-10-25T21:25:54.881Z"
   },
   {
    "duration": 8,
    "start_time": "2021-10-25T21:25:54.888Z"
   },
   {
    "duration": 6,
    "start_time": "2021-10-25T21:25:54.898Z"
   },
   {
    "duration": 12,
    "start_time": "2021-10-25T21:25:54.906Z"
   },
   {
    "duration": 4,
    "start_time": "2021-10-25T21:25:54.921Z"
   },
   {
    "duration": 8,
    "start_time": "2021-10-25T21:25:54.927Z"
   },
   {
    "duration": 5,
    "start_time": "2021-10-25T21:25:54.977Z"
   },
   {
    "duration": 4,
    "start_time": "2021-10-25T21:25:54.984Z"
   },
   {
    "duration": 36,
    "start_time": "2021-10-25T21:25:54.990Z"
   },
   {
    "duration": 3,
    "start_time": "2021-10-25T21:25:55.028Z"
   },
   {
    "duration": 220,
    "start_time": "2021-10-25T21:25:55.033Z"
   },
   {
    "duration": 4,
    "start_time": "2021-10-25T21:25:55.255Z"
   },
   {
    "duration": 3136,
    "start_time": "2021-10-25T21:25:55.261Z"
   },
   {
    "duration": 4512,
    "start_time": "2021-10-25T21:25:58.399Z"
   },
   {
    "duration": 4,
    "start_time": "2021-10-25T21:26:02.913Z"
   },
   {
    "duration": 29700,
    "start_time": "2021-10-25T21:26:02.918Z"
   },
   {
    "duration": 3,
    "start_time": "2021-10-25T21:26:32.620Z"
   },
   {
    "duration": 13,
    "start_time": "2021-10-25T21:26:32.625Z"
   },
   {
    "duration": 41,
    "start_time": "2021-10-25T21:26:32.641Z"
   },
   {
    "duration": 10,
    "start_time": "2021-10-25T21:26:32.684Z"
   },
   {
    "duration": 12,
    "start_time": "2021-10-25T21:26:32.695Z"
   },
   {
    "duration": 1210,
    "start_time": "2021-10-25T21:27:56.796Z"
   },
   {
    "duration": 26,
    "start_time": "2021-10-25T21:27:58.008Z"
   },
   {
    "duration": 16,
    "start_time": "2021-10-25T21:27:58.037Z"
   },
   {
    "duration": 27,
    "start_time": "2021-10-25T21:27:58.055Z"
   },
   {
    "duration": 8,
    "start_time": "2021-10-25T21:27:58.084Z"
   },
   {
    "duration": 11,
    "start_time": "2021-10-25T21:27:58.094Z"
   },
   {
    "duration": 6,
    "start_time": "2021-10-25T21:27:58.107Z"
   },
   {
    "duration": 12,
    "start_time": "2021-10-25T21:27:58.116Z"
   },
   {
    "duration": 46,
    "start_time": "2021-10-25T21:27:58.131Z"
   },
   {
    "duration": 19,
    "start_time": "2021-10-25T21:27:58.179Z"
   },
   {
    "duration": 7,
    "start_time": "2021-10-25T21:27:58.201Z"
   },
   {
    "duration": 6,
    "start_time": "2021-10-25T21:27:58.210Z"
   },
   {
    "duration": 464,
    "start_time": "2021-10-25T21:27:58.218Z"
   },
   {
    "duration": 94,
    "start_time": "2021-10-25T21:27:58.685Z"
   },
   {
    "duration": 238,
    "start_time": "2021-10-25T21:27:58.781Z"
   },
   {
    "duration": 4,
    "start_time": "2021-10-25T21:27:59.021Z"
   },
   {
    "duration": 784,
    "start_time": "2021-10-25T21:27:59.027Z"
   },
   {
    "duration": 5293,
    "start_time": "2021-10-25T21:27:59.813Z"
   },
   {
    "duration": 4,
    "start_time": "2021-10-25T21:28:05.108Z"
   },
   {
    "duration": 38808,
    "start_time": "2021-10-25T21:28:05.114Z"
   },
   {
    "duration": 4,
    "start_time": "2021-10-25T21:28:43.925Z"
   },
   {
    "duration": 16,
    "start_time": "2021-10-25T21:28:43.932Z"
   },
   {
    "duration": 21,
    "start_time": "2021-10-25T21:28:43.976Z"
   },
   {
    "duration": 17,
    "start_time": "2021-10-25T21:28:44.076Z"
   },
   {
    "duration": 90,
    "start_time": "2021-10-25T21:28:44.095Z"
   },
   {
    "duration": 37,
    "start_time": "2021-10-25T21:37:46.432Z"
   },
   {
    "duration": 21,
    "start_time": "2021-10-25T21:37:49.681Z"
   },
   {
    "duration": 20,
    "start_time": "2021-10-25T21:37:58.678Z"
   },
   {
    "duration": 1251,
    "start_time": "2021-10-25T21:49:04.157Z"
   },
   {
    "duration": 26,
    "start_time": "2021-10-25T21:49:05.410Z"
   },
   {
    "duration": 15,
    "start_time": "2021-10-25T21:49:05.439Z"
   },
   {
    "duration": 30,
    "start_time": "2021-10-25T21:49:05.456Z"
   },
   {
    "duration": 8,
    "start_time": "2021-10-25T21:49:05.488Z"
   },
   {
    "duration": 9,
    "start_time": "2021-10-25T21:49:05.498Z"
   },
   {
    "duration": 6,
    "start_time": "2021-10-25T21:49:05.509Z"
   },
   {
    "duration": 19,
    "start_time": "2021-10-25T21:49:05.516Z"
   },
   {
    "duration": 41,
    "start_time": "2021-10-25T21:49:05.538Z"
   },
   {
    "duration": 7,
    "start_time": "2021-10-25T21:49:05.581Z"
   },
   {
    "duration": 6,
    "start_time": "2021-10-25T21:49:05.590Z"
   },
   {
    "duration": 9,
    "start_time": "2021-10-25T21:49:05.597Z"
   },
   {
    "duration": 33,
    "start_time": "2021-10-25T21:49:05.608Z"
   },
   {
    "duration": 3,
    "start_time": "2021-10-25T21:49:05.643Z"
   },
   {
    "duration": 191,
    "start_time": "2021-10-25T21:49:05.677Z"
   },
   {
    "duration": 3,
    "start_time": "2021-10-25T21:49:05.877Z"
   },
   {
    "duration": 3130,
    "start_time": "2021-10-25T21:49:05.882Z"
   },
   {
    "duration": 4377,
    "start_time": "2021-10-25T21:49:09.014Z"
   },
   {
    "duration": 4,
    "start_time": "2021-10-25T21:49:13.394Z"
   },
   {
    "duration": 29420,
    "start_time": "2021-10-25T21:49:13.400Z"
   },
   {
    "duration": 3,
    "start_time": "2021-10-25T21:49:42.822Z"
   },
   {
    "duration": 12,
    "start_time": "2021-10-25T21:49:42.826Z"
   },
   {
    "duration": 41,
    "start_time": "2021-10-25T21:49:42.839Z"
   },
   {
    "duration": 9,
    "start_time": "2021-10-25T21:49:42.882Z"
   },
   {
    "duration": 11,
    "start_time": "2021-10-25T21:49:42.893Z"
   },
   {
    "duration": 1212,
    "start_time": "2021-10-25T21:50:22.594Z"
   },
   {
    "duration": 25,
    "start_time": "2021-10-25T21:50:23.808Z"
   },
   {
    "duration": 13,
    "start_time": "2021-10-25T21:50:23.838Z"
   },
   {
    "duration": 25,
    "start_time": "2021-10-25T21:50:23.852Z"
   },
   {
    "duration": 6,
    "start_time": "2021-10-25T21:50:23.879Z"
   },
   {
    "duration": 9,
    "start_time": "2021-10-25T21:50:23.886Z"
   },
   {
    "duration": 5,
    "start_time": "2021-10-25T21:50:23.896Z"
   },
   {
    "duration": 10,
    "start_time": "2021-10-25T21:50:23.904Z"
   },
   {
    "duration": 4,
    "start_time": "2021-10-25T21:50:23.916Z"
   },
   {
    "duration": 62,
    "start_time": "2021-10-25T21:50:23.922Z"
   },
   {
    "duration": 6,
    "start_time": "2021-10-25T21:50:23.986Z"
   },
   {
    "duration": 4,
    "start_time": "2021-10-25T21:50:23.993Z"
   },
   {
    "duration": 383,
    "start_time": "2021-10-25T21:50:23.999Z"
   },
   {
    "duration": 93,
    "start_time": "2021-10-25T21:50:24.384Z"
   },
   {
    "duration": 228,
    "start_time": "2021-10-25T21:50:24.479Z"
   },
   {
    "duration": 3,
    "start_time": "2021-10-25T21:50:24.709Z"
   },
   {
    "duration": 524,
    "start_time": "2021-10-25T21:50:24.714Z"
   },
   {
    "duration": 4738,
    "start_time": "2021-10-25T21:50:25.240Z"
   },
   {
    "duration": 3,
    "start_time": "2021-10-25T21:50:29.980Z"
   },
   {
    "duration": 38452,
    "start_time": "2021-10-25T21:50:29.984Z"
   },
   {
    "duration": 4,
    "start_time": "2021-10-25T21:51:08.438Z"
   },
   {
    "duration": 35,
    "start_time": "2021-10-25T21:51:08.444Z"
   },
   {
    "duration": 97,
    "start_time": "2021-10-25T21:51:08.481Z"
   },
   {
    "duration": 99,
    "start_time": "2021-10-25T21:51:08.581Z"
   },
   {
    "duration": 12,
    "start_time": "2021-10-25T21:51:08.682Z"
   },
   {
    "duration": 1478,
    "start_time": "2021-10-25T23:07:13.902Z"
   },
   {
    "duration": 29,
    "start_time": "2021-10-25T23:07:15.383Z"
   },
   {
    "duration": 18,
    "start_time": "2021-10-25T23:07:15.415Z"
   },
   {
    "duration": 9,
    "start_time": "2021-10-25T23:07:15.597Z"
   },
   {
    "duration": 9,
    "start_time": "2021-10-25T23:07:16.738Z"
   },
   {
    "duration": 15,
    "start_time": "2021-10-25T23:41:06.643Z"
   },
   {
    "duration": 9,
    "start_time": "2021-10-25T23:41:08.623Z"
   },
   {
    "duration": 15,
    "start_time": "2021-10-25T23:41:16.253Z"
   },
   {
    "duration": 6,
    "start_time": "2021-10-25T23:41:16.762Z"
   },
   {
    "duration": 26,
    "start_time": "2021-10-25T23:41:17.140Z"
   },
   {
    "duration": 9,
    "start_time": "2021-10-25T23:41:17.319Z"
   },
   {
    "duration": 6,
    "start_time": "2021-10-25T23:41:18.196Z"
   },
   {
    "duration": 474,
    "start_time": "2021-10-25T23:41:18.351Z"
   },
   {
    "duration": 5,
    "start_time": "2021-10-25T23:41:18.827Z"
   },
   {
    "duration": 286,
    "start_time": "2021-10-25T23:41:19.170Z"
   },
   {
    "duration": 4,
    "start_time": "2021-10-25T23:41:19.459Z"
   },
   {
    "duration": 797,
    "start_time": "2021-10-25T23:41:19.638Z"
   },
   {
    "duration": 6875,
    "start_time": "2021-10-25T23:41:32.472Z"
   },
   {
    "duration": 5,
    "start_time": "2021-10-25T23:41:39.350Z"
   },
   {
    "duration": 52608,
    "start_time": "2021-10-25T23:41:39.358Z"
   },
   {
    "duration": 5,
    "start_time": "2021-10-25T23:42:31.969Z"
   },
   {
    "duration": 20,
    "start_time": "2021-10-25T23:42:31.977Z"
   },
   {
    "duration": 200,
    "start_time": "2021-10-25T23:42:32.023Z"
   },
   {
    "duration": 13,
    "start_time": "2021-10-25T23:42:32.226Z"
   },
   {
    "duration": 17,
    "start_time": "2021-10-25T23:42:32.242Z"
   },
   {
    "duration": 5,
    "start_time": "2021-10-25T23:42:59.862Z"
   },
   {
    "duration": 5,
    "start_time": "2021-10-25T23:44:31.485Z"
   },
   {
    "duration": 5,
    "start_time": "2021-10-25T23:52:27.964Z"
   },
   {
    "duration": 5,
    "start_time": "2021-10-25T23:52:41.601Z"
   },
   {
    "duration": 554,
    "start_time": "2021-10-26T06:42:03.104Z"
   },
   {
    "duration": 366,
    "start_time": "2021-10-26T06:42:09.893Z"
   },
   {
    "duration": 2557,
    "start_time": "2021-10-26T06:42:33.243Z"
   },
   {
    "duration": 3203,
    "start_time": "2021-10-26T06:42:40.533Z"
   },
   {
    "duration": 2846,
    "start_time": "2021-10-26T06:43:00.664Z"
   },
   {
    "duration": 2825,
    "start_time": "2021-10-26T06:46:18.219Z"
   },
   {
    "duration": 3799,
    "start_time": "2021-10-26T06:46:39.949Z"
   },
   {
    "duration": 2849,
    "start_time": "2021-10-26T06:46:49.734Z"
   },
   {
    "duration": 3363,
    "start_time": "2021-10-26T06:47:09.549Z"
   },
   {
    "duration": 385,
    "start_time": "2021-10-26T06:51:33.679Z"
   },
   {
    "duration": 62,
    "start_time": "2021-10-26T06:52:12.719Z"
   },
   {
    "duration": 296,
    "start_time": "2021-10-26T06:52:16.533Z"
   },
   {
    "duration": 517,
    "start_time": "2021-10-26T06:52:28.849Z"
   },
   {
    "duration": 567,
    "start_time": "2021-10-26T06:52:45.104Z"
   },
   {
    "duration": 362,
    "start_time": "2021-10-26T06:53:02.104Z"
   },
   {
    "duration": 374,
    "start_time": "2021-10-26T06:53:30.524Z"
   },
   {
    "duration": 367,
    "start_time": "2021-10-26T06:53:38.634Z"
   },
   {
    "duration": 390,
    "start_time": "2021-10-26T06:54:24.379Z"
   },
   {
    "duration": 128,
    "start_time": "2021-10-26T07:20:14.333Z"
   },
   {
    "duration": 4,
    "start_time": "2021-10-26T07:20:20.393Z"
   },
   {
    "duration": 6,
    "start_time": "2021-10-26T07:30:43.289Z"
   },
   {
    "duration": 5,
    "start_time": "2021-10-26T07:30:43.969Z"
   },
   {
    "duration": 6,
    "start_time": "2021-10-26T07:31:23.198Z"
   },
   {
    "duration": 4,
    "start_time": "2021-10-26T07:31:23.735Z"
   },
   {
    "duration": 6,
    "start_time": "2021-10-26T07:32:06.098Z"
   },
   {
    "duration": 4,
    "start_time": "2021-10-26T07:34:15.494Z"
   },
   {
    "duration": 5,
    "start_time": "2021-10-26T07:35:20.754Z"
   },
   {
    "duration": 4,
    "start_time": "2021-10-26T07:35:21.373Z"
   },
   {
    "duration": 11,
    "start_time": "2021-10-26T07:35:37.194Z"
   },
   {
    "duration": 1271,
    "start_time": "2021-10-26T07:35:44.242Z"
   },
   {
    "duration": 23,
    "start_time": "2021-10-26T07:35:45.515Z"
   },
   {
    "duration": 30,
    "start_time": "2021-10-26T07:35:45.540Z"
   },
   {
    "duration": 28,
    "start_time": "2021-10-26T07:35:45.572Z"
   },
   {
    "duration": 11,
    "start_time": "2021-10-26T07:35:45.602Z"
   },
   {
    "duration": 3138,
    "start_time": "2021-10-26T07:35:45.615Z"
   },
   {
    "duration": 400,
    "start_time": "2021-10-26T07:35:48.755Z"
   },
   {
    "duration": 4,
    "start_time": "2021-10-26T07:35:49.157Z"
   },
   {
    "duration": 28,
    "start_time": "2021-10-26T07:35:49.163Z"
   },
   {
    "duration": 11,
    "start_time": "2021-10-26T07:35:49.193Z"
   },
   {
    "duration": 28,
    "start_time": "2021-10-26T07:35:49.206Z"
   },
   {
    "duration": 21,
    "start_time": "2021-10-26T07:35:49.236Z"
   },
   {
    "duration": 23,
    "start_time": "2021-10-26T07:35:49.259Z"
   },
   {
    "duration": 37,
    "start_time": "2021-10-26T07:35:49.284Z"
   },
   {
    "duration": 21,
    "start_time": "2021-10-26T07:35:49.324Z"
   },
   {
    "duration": 19,
    "start_time": "2021-10-26T07:35:49.347Z"
   },
   {
    "duration": 16,
    "start_time": "2021-10-26T07:35:49.368Z"
   },
   {
    "duration": 16,
    "start_time": "2021-10-26T07:35:49.386Z"
   },
   {
    "duration": 50,
    "start_time": "2021-10-26T07:35:49.404Z"
   },
   {
    "duration": 3,
    "start_time": "2021-10-26T07:35:49.456Z"
   },
   {
    "duration": 191,
    "start_time": "2021-10-26T07:35:49.461Z"
   },
   {
    "duration": 3,
    "start_time": "2021-10-26T07:35:49.654Z"
   },
   {
    "duration": 527,
    "start_time": "2021-10-26T07:35:49.660Z"
   },
   {
    "duration": 3987,
    "start_time": "2021-10-26T07:35:50.189Z"
   },
   {
    "duration": 3,
    "start_time": "2021-10-26T07:35:54.178Z"
   },
   {
    "duration": 34415,
    "start_time": "2021-10-26T07:35:54.182Z"
   },
   {
    "duration": 4,
    "start_time": "2021-10-26T07:36:28.598Z"
   },
   {
    "duration": 20,
    "start_time": "2021-10-26T07:36:28.604Z"
   },
   {
    "duration": 13,
    "start_time": "2021-10-26T07:36:28.625Z"
   },
   {
    "duration": 10,
    "start_time": "2021-10-26T07:36:28.640Z"
   },
   {
    "duration": 12,
    "start_time": "2021-10-26T07:36:28.676Z"
   },
   {
    "duration": 1287,
    "start_time": "2021-10-26T08:03:09.165Z"
   },
   {
    "duration": 25,
    "start_time": "2021-10-26T08:03:10.454Z"
   },
   {
    "duration": 16,
    "start_time": "2021-10-26T08:03:10.482Z"
   },
   {
    "duration": 27,
    "start_time": "2021-10-26T08:03:10.500Z"
   },
   {
    "duration": 22,
    "start_time": "2021-10-26T08:03:10.529Z"
   },
   {
    "duration": 3599,
    "start_time": "2021-10-26T08:03:10.553Z"
   },
   {
    "duration": 423,
    "start_time": "2021-10-26T08:03:14.154Z"
   },
   {
    "duration": 4,
    "start_time": "2021-10-26T08:03:14.578Z"
   },
   {
    "duration": 9,
    "start_time": "2021-10-26T08:03:14.585Z"
   },
   {
    "duration": 5,
    "start_time": "2021-10-26T08:03:14.596Z"
   },
   {
    "duration": 5,
    "start_time": "2021-10-26T08:03:14.603Z"
   },
   {
    "duration": 11,
    "start_time": "2021-10-26T08:03:14.609Z"
   },
   {
    "duration": 4,
    "start_time": "2021-10-26T08:03:14.622Z"
   },
   {
    "duration": 8,
    "start_time": "2021-10-26T08:03:14.628Z"
   },
   {
    "duration": 41,
    "start_time": "2021-10-26T08:03:14.638Z"
   },
   {
    "duration": 4,
    "start_time": "2021-10-26T08:03:14.681Z"
   },
   {
    "duration": 7,
    "start_time": "2021-10-26T08:03:14.687Z"
   },
   {
    "duration": 6,
    "start_time": "2021-10-26T08:03:14.695Z"
   },
   {
    "duration": 36,
    "start_time": "2021-10-26T08:03:14.703Z"
   },
   {
    "duration": 3,
    "start_time": "2021-10-26T08:03:14.741Z"
   },
   {
    "duration": 184,
    "start_time": "2021-10-26T08:03:14.745Z"
   },
   {
    "duration": 4,
    "start_time": "2021-10-26T08:03:14.931Z"
   },
   {
    "duration": 4016,
    "start_time": "2021-10-26T08:03:14.936Z"
   },
   {
    "duration": 3662,
    "start_time": "2021-10-26T08:03:18.954Z"
   },
   {
    "duration": 4,
    "start_time": "2021-10-26T08:03:22.617Z"
   },
   {
    "duration": 27297,
    "start_time": "2021-10-26T08:03:22.622Z"
   },
   {
    "duration": 4,
    "start_time": "2021-10-26T08:03:49.922Z"
   },
   {
    "duration": 29,
    "start_time": "2021-10-26T08:03:49.928Z"
   },
   {
    "duration": 27,
    "start_time": "2021-10-26T08:03:49.959Z"
   },
   {
    "duration": 9,
    "start_time": "2021-10-26T08:03:49.988Z"
   },
   {
    "duration": 17,
    "start_time": "2021-10-26T08:03:49.999Z"
   },
   {
    "duration": 8,
    "start_time": "2021-10-26T08:11:01.610Z"
   },
   {
    "duration": 1308,
    "start_time": "2021-10-26T08:11:55.058Z"
   },
   {
    "duration": 24,
    "start_time": "2021-10-26T08:11:56.368Z"
   },
   {
    "duration": 13,
    "start_time": "2021-10-26T08:11:56.394Z"
   },
   {
    "duration": 10,
    "start_time": "2021-10-26T08:11:56.409Z"
   },
   {
    "duration": 7,
    "start_time": "2021-10-26T08:11:56.421Z"
   },
   {
    "duration": 3180,
    "start_time": "2021-10-26T08:11:56.430Z"
   },
   {
    "duration": 367,
    "start_time": "2021-10-26T08:11:59.612Z"
   },
   {
    "duration": 3,
    "start_time": "2021-10-26T08:11:59.982Z"
   },
   {
    "duration": 8,
    "start_time": "2021-10-26T08:11:59.988Z"
   },
   {
    "duration": 9,
    "start_time": "2021-10-26T08:11:59.998Z"
   },
   {
    "duration": 4,
    "start_time": "2021-10-26T08:12:00.009Z"
   },
   {
    "duration": 13,
    "start_time": "2021-10-26T08:12:00.015Z"
   },
   {
    "duration": 10,
    "start_time": "2021-10-26T08:12:00.030Z"
   },
   {
    "duration": 54,
    "start_time": "2021-10-26T08:12:00.042Z"
   },
   {
    "duration": 6,
    "start_time": "2021-10-26T08:12:00.098Z"
   },
   {
    "duration": 11,
    "start_time": "2021-10-26T08:12:00.106Z"
   },
   {
    "duration": 8,
    "start_time": "2021-10-26T08:12:00.119Z"
   },
   {
    "duration": 19,
    "start_time": "2021-10-26T08:12:00.129Z"
   },
   {
    "duration": 48,
    "start_time": "2021-10-26T08:12:00.150Z"
   },
   {
    "duration": 4,
    "start_time": "2021-10-26T08:12:00.200Z"
   },
   {
    "duration": 209,
    "start_time": "2021-10-26T08:12:00.206Z"
   },
   {
    "duration": 4,
    "start_time": "2021-10-26T08:12:00.417Z"
   },
   {
    "duration": 535,
    "start_time": "2021-10-26T08:12:00.425Z"
   },
   {
    "duration": 4028,
    "start_time": "2021-10-26T08:12:00.962Z"
   },
   {
    "duration": 4,
    "start_time": "2021-10-26T08:12:04.992Z"
   },
   {
    "duration": 34769,
    "start_time": "2021-10-26T08:12:04.998Z"
   },
   {
    "duration": 4,
    "start_time": "2021-10-26T08:12:39.776Z"
   },
   {
    "duration": 17,
    "start_time": "2021-10-26T08:12:39.781Z"
   },
   {
    "duration": 13,
    "start_time": "2021-10-26T08:12:39.800Z"
   },
   {
    "duration": 9,
    "start_time": "2021-10-26T08:12:39.815Z"
   },
   {
    "duration": 12,
    "start_time": "2021-10-26T08:12:39.826Z"
   },
   {
    "duration": 5,
    "start_time": "2021-10-26T08:19:08.673Z"
   },
   {
    "duration": 268,
    "start_time": "2021-10-26T08:27:39.763Z"
   },
   {
    "duration": 15,
    "start_time": "2021-10-26T08:28:02.244Z"
   },
   {
    "duration": 12,
    "start_time": "2021-10-26T08:28:06.148Z"
   },
   {
    "duration": 521,
    "start_time": "2021-10-26T08:31:50.978Z"
   },
   {
    "duration": 4,
    "start_time": "2021-10-26T08:32:11.428Z"
   },
   {
    "duration": 363,
    "start_time": "2021-10-26T08:32:21.588Z"
   },
   {
    "duration": 284,
    "start_time": "2021-10-26T08:32:35.448Z"
   },
   {
    "duration": 292,
    "start_time": "2021-10-26T08:32:40.948Z"
   },
   {
    "duration": 453,
    "start_time": "2021-10-26T08:33:37.573Z"
   },
   {
    "duration": 12,
    "start_time": "2021-10-26T08:33:52.963Z"
   },
   {
    "duration": 1240,
    "start_time": "2021-10-26T08:33:58.833Z"
   },
   {
    "duration": 24,
    "start_time": "2021-10-26T08:34:00.075Z"
   },
   {
    "duration": 15,
    "start_time": "2021-10-26T08:34:00.101Z"
   },
   {
    "duration": 15,
    "start_time": "2021-10-26T08:34:00.119Z"
   },
   {
    "duration": 8,
    "start_time": "2021-10-26T08:34:00.136Z"
   },
   {
    "duration": 3631,
    "start_time": "2021-10-26T08:34:00.146Z"
   },
   {
    "duration": 401,
    "start_time": "2021-10-26T08:34:03.779Z"
   },
   {
    "duration": 4,
    "start_time": "2021-10-26T08:34:04.182Z"
   },
   {
    "duration": 13,
    "start_time": "2021-10-26T08:34:04.188Z"
   },
   {
    "duration": 21,
    "start_time": "2021-10-26T08:34:04.203Z"
   },
   {
    "duration": 4,
    "start_time": "2021-10-26T08:34:04.227Z"
   },
   {
    "duration": 17,
    "start_time": "2021-10-26T08:34:04.234Z"
   },
   {
    "duration": 24,
    "start_time": "2021-10-26T08:34:04.253Z"
   },
   {
    "duration": 22,
    "start_time": "2021-10-26T08:34:04.279Z"
   },
   {
    "duration": 6,
    "start_time": "2021-10-26T08:34:04.303Z"
   },
   {
    "duration": 9,
    "start_time": "2021-10-26T08:34:04.311Z"
   },
   {
    "duration": 6,
    "start_time": "2021-10-26T08:34:04.321Z"
   },
   {
    "duration": 7,
    "start_time": "2021-10-26T08:34:04.329Z"
   },
   {
    "duration": 64,
    "start_time": "2021-10-26T08:34:04.338Z"
   },
   {
    "duration": 4,
    "start_time": "2021-10-26T08:34:04.404Z"
   },
   {
    "duration": 197,
    "start_time": "2021-10-26T08:34:04.409Z"
   },
   {
    "duration": 4,
    "start_time": "2021-10-26T08:34:04.608Z"
   },
   {
    "duration": 528,
    "start_time": "2021-10-26T08:34:04.616Z"
   },
   {
    "duration": 4186,
    "start_time": "2021-10-26T08:34:05.146Z"
   },
   {
    "duration": 3,
    "start_time": "2021-10-26T08:34:09.334Z"
   },
   {
    "duration": 34802,
    "start_time": "2021-10-26T08:34:09.339Z"
   },
   {
    "duration": 4,
    "start_time": "2021-10-26T08:34:44.142Z"
   },
   {
    "duration": 14,
    "start_time": "2021-10-26T08:34:44.147Z"
   },
   {
    "duration": 347,
    "start_time": "2021-10-26T08:34:44.177Z"
   },
   {
    "duration": 13,
    "start_time": "2021-10-26T08:34:44.526Z"
   },
   {
    "duration": 10,
    "start_time": "2021-10-26T08:34:44.540Z"
   },
   {
    "duration": 12,
    "start_time": "2021-10-26T08:34:44.577Z"
   },
   {
    "duration": 8,
    "start_time": "2021-10-26T08:45:49.722Z"
   },
   {
    "duration": 249,
    "start_time": "2021-10-26T09:15:54.928Z"
   },
   {
    "duration": 1309,
    "start_time": "2021-10-26T09:31:53.853Z"
   },
   {
    "duration": 23,
    "start_time": "2021-10-26T09:31:55.165Z"
   },
   {
    "duration": 13,
    "start_time": "2021-10-26T09:31:55.191Z"
   },
   {
    "duration": 16,
    "start_time": "2021-10-26T09:31:55.206Z"
   },
   {
    "duration": 14,
    "start_time": "2021-10-26T09:31:55.224Z"
   },
   {
    "duration": 3255,
    "start_time": "2021-10-26T09:31:55.240Z"
   },
   {
    "duration": 378,
    "start_time": "2021-10-26T09:31:58.498Z"
   },
   {
    "duration": 4,
    "start_time": "2021-10-26T09:31:58.878Z"
   },
   {
    "duration": 10,
    "start_time": "2021-10-26T09:31:58.884Z"
   },
   {
    "duration": 9,
    "start_time": "2021-10-26T09:31:58.897Z"
   },
   {
    "duration": 5,
    "start_time": "2021-10-26T09:31:58.908Z"
   },
   {
    "duration": 16,
    "start_time": "2021-10-26T09:31:58.915Z"
   },
   {
    "duration": 6,
    "start_time": "2021-10-26T09:31:58.933Z"
   },
   {
    "duration": 28,
    "start_time": "2021-10-26T09:31:58.976Z"
   },
   {
    "duration": 7,
    "start_time": "2021-10-26T09:31:59.006Z"
   },
   {
    "duration": 6,
    "start_time": "2021-10-26T09:31:59.015Z"
   },
   {
    "duration": 6,
    "start_time": "2021-10-26T09:31:59.023Z"
   },
   {
    "duration": 4,
    "start_time": "2021-10-26T09:31:59.033Z"
   },
   {
    "duration": 67,
    "start_time": "2021-10-26T09:31:59.039Z"
   },
   {
    "duration": 3,
    "start_time": "2021-10-26T09:31:59.108Z"
   },
   {
    "duration": 208,
    "start_time": "2021-10-26T09:31:59.113Z"
   },
   {
    "duration": 3,
    "start_time": "2021-10-26T09:31:59.323Z"
   },
   {
    "duration": 541,
    "start_time": "2021-10-26T09:31:59.327Z"
   },
   {
    "duration": 4139,
    "start_time": "2021-10-26T09:31:59.870Z"
   },
   {
    "duration": 4,
    "start_time": "2021-10-26T09:32:04.011Z"
   },
   {
    "duration": 35215,
    "start_time": "2021-10-26T09:32:04.017Z"
   },
   {
    "duration": 3,
    "start_time": "2021-10-26T09:32:39.234Z"
   },
   {
    "duration": 13,
    "start_time": "2021-10-26T09:32:39.239Z"
   },
   {
    "duration": 373,
    "start_time": "2021-10-26T09:32:39.254Z"
   },
   {
    "duration": 13,
    "start_time": "2021-10-26T09:32:39.629Z"
   },
   {
    "duration": 36,
    "start_time": "2021-10-26T09:32:39.644Z"
   },
   {
    "duration": 11,
    "start_time": "2021-10-26T09:32:39.682Z"
   },
   {
    "duration": 1500,
    "start_time": "2021-10-26T12:17:33.051Z"
   },
   {
    "duration": 28,
    "start_time": "2021-10-26T12:17:35.099Z"
   },
   {
    "duration": 24,
    "start_time": "2021-10-26T12:17:35.243Z"
   },
   {
    "duration": 11,
    "start_time": "2021-10-26T12:17:35.534Z"
   },
   {
    "duration": 9,
    "start_time": "2021-10-26T12:17:35.693Z"
   },
   {
    "duration": 4990,
    "start_time": "2021-10-26T12:17:36.424Z"
   },
   {
    "duration": 537,
    "start_time": "2021-10-26T12:17:41.416Z"
   },
   {
    "duration": 6,
    "start_time": "2021-10-26T12:17:41.957Z"
   },
   {
    "duration": 11,
    "start_time": "2021-10-26T12:17:41.967Z"
   },
   {
    "duration": 9,
    "start_time": "2021-10-26T12:17:43.056Z"
   },
   {
    "duration": 6,
    "start_time": "2021-10-26T12:17:44.104Z"
   },
   {
    "duration": 15,
    "start_time": "2021-10-26T12:17:52.551Z"
   },
   {
    "duration": 7,
    "start_time": "2021-10-26T12:18:46.797Z"
   },
   {
    "duration": 21,
    "start_time": "2021-10-26T12:18:47.954Z"
   },
   {
    "duration": 8,
    "start_time": "2021-10-26T12:18:49.432Z"
   },
   {
    "duration": 6,
    "start_time": "2021-10-26T12:18:50.083Z"
   },
   {
    "duration": 5,
    "start_time": "2021-10-26T12:18:53.744Z"
   },
   {
    "duration": 337,
    "start_time": "2021-10-26T19:05:05.859Z"
   },
   {
    "duration": 1232,
    "start_time": "2021-10-26T19:05:13.719Z"
   },
   {
    "duration": 22,
    "start_time": "2021-10-26T19:05:14.953Z"
   },
   {
    "duration": 14,
    "start_time": "2021-10-26T19:05:14.977Z"
   },
   {
    "duration": 10,
    "start_time": "2021-10-26T19:05:14.993Z"
   },
   {
    "duration": 10,
    "start_time": "2021-10-26T19:05:15.005Z"
   },
   {
    "duration": 3141,
    "start_time": "2021-10-26T19:05:15.017Z"
   },
   {
    "duration": 7612,
    "start_time": "2021-10-26T19:05:10.548Z"
   },
   {
    "duration": 7611,
    "start_time": "2021-10-26T19:05:10.550Z"
   },
   {
    "duration": 7609,
    "start_time": "2021-10-26T19:05:10.553Z"
   },
   {
    "duration": 7607,
    "start_time": "2021-10-26T19:05:10.556Z"
   },
   {
    "duration": 7605,
    "start_time": "2021-10-26T19:05:10.559Z"
   },
   {
    "duration": 7602,
    "start_time": "2021-10-26T19:05:10.562Z"
   },
   {
    "duration": 7601,
    "start_time": "2021-10-26T19:05:10.564Z"
   },
   {
    "duration": 7599,
    "start_time": "2021-10-26T19:05:10.567Z"
   },
   {
    "duration": 7598,
    "start_time": "2021-10-26T19:05:10.569Z"
   },
   {
    "duration": 7595,
    "start_time": "2021-10-26T19:05:10.572Z"
   },
   {
    "duration": 7594,
    "start_time": "2021-10-26T19:05:10.574Z"
   },
   {
    "duration": 7592,
    "start_time": "2021-10-26T19:05:10.577Z"
   },
   {
    "duration": 7590,
    "start_time": "2021-10-26T19:05:10.580Z"
   },
   {
    "duration": 7589,
    "start_time": "2021-10-26T19:05:10.582Z"
   },
   {
    "duration": 7587,
    "start_time": "2021-10-26T19:05:10.585Z"
   },
   {
    "duration": 7586,
    "start_time": "2021-10-26T19:05:10.587Z"
   },
   {
    "duration": 7585,
    "start_time": "2021-10-26T19:05:10.589Z"
   },
   {
    "duration": 7582,
    "start_time": "2021-10-26T19:05:10.592Z"
   },
   {
    "duration": 7580,
    "start_time": "2021-10-26T19:05:10.595Z"
   },
   {
    "duration": 7578,
    "start_time": "2021-10-26T19:05:10.598Z"
   },
   {
    "duration": 7577,
    "start_time": "2021-10-26T19:05:10.600Z"
   },
   {
    "duration": 7575,
    "start_time": "2021-10-26T19:05:10.603Z"
   },
   {
    "duration": 7573,
    "start_time": "2021-10-26T19:05:10.605Z"
   },
   {
    "duration": 7572,
    "start_time": "2021-10-26T19:05:10.607Z"
   },
   {
    "duration": 7563,
    "start_time": "2021-10-26T19:05:10.617Z"
   },
   {
    "duration": 7562,
    "start_time": "2021-10-26T19:05:10.619Z"
   },
   {
    "duration": 2885,
    "start_time": "2021-10-26T19:05:31.143Z"
   },
   {
    "duration": 2940,
    "start_time": "2021-10-26T19:05:40.543Z"
   },
   {
    "duration": 1182,
    "start_time": "2021-10-26T19:05:50.117Z"
   },
   {
    "duration": 23,
    "start_time": "2021-10-26T19:05:51.301Z"
   },
   {
    "duration": 13,
    "start_time": "2021-10-26T19:05:51.327Z"
   },
   {
    "duration": 5,
    "start_time": "2021-10-26T19:05:51.345Z"
   },
   {
    "duration": 5,
    "start_time": "2021-10-26T19:05:51.352Z"
   },
   {
    "duration": 3116,
    "start_time": "2021-10-26T19:05:51.359Z"
   },
   {
    "duration": 374,
    "start_time": "2021-10-26T19:05:54.476Z"
   },
   {
    "duration": 3,
    "start_time": "2021-10-26T19:05:54.852Z"
   },
   {
    "duration": 18,
    "start_time": "2021-10-26T19:05:54.858Z"
   },
   {
    "duration": 11,
    "start_time": "2021-10-26T19:05:54.878Z"
   },
   {
    "duration": 4,
    "start_time": "2021-10-26T19:05:54.891Z"
   },
   {
    "duration": 15,
    "start_time": "2021-10-26T19:05:54.896Z"
   },
   {
    "duration": 4,
    "start_time": "2021-10-26T19:05:54.912Z"
   },
   {
    "duration": 38,
    "start_time": "2021-10-26T19:05:54.918Z"
   },
   {
    "duration": 6,
    "start_time": "2021-10-26T19:05:54.958Z"
   },
   {
    "duration": 6,
    "start_time": "2021-10-26T19:05:54.966Z"
   },
   {
    "duration": 4,
    "start_time": "2021-10-26T19:05:54.973Z"
   },
   {
    "duration": 4,
    "start_time": "2021-10-26T19:05:54.979Z"
   },
   {
    "duration": 35,
    "start_time": "2021-10-26T19:05:54.984Z"
   },
   {
    "duration": 3,
    "start_time": "2021-10-26T19:05:55.021Z"
   },
   {
    "duration": 185,
    "start_time": "2021-10-26T19:05:55.045Z"
   },
   {
    "duration": 15,
    "start_time": "2021-10-26T19:05:55.231Z"
   },
   {
    "duration": 471,
    "start_time": "2021-10-26T19:05:55.247Z"
   },
   {
    "duration": 3686,
    "start_time": "2021-10-26T19:05:55.720Z"
   },
   {
    "duration": 4,
    "start_time": "2021-10-26T19:05:59.407Z"
   },
   {
    "duration": 33598,
    "start_time": "2021-10-26T19:05:59.413Z"
   },
   {
    "duration": 3,
    "start_time": "2021-10-26T19:06:33.015Z"
   },
   {
    "duration": 27,
    "start_time": "2021-10-26T19:06:33.020Z"
   },
   {
    "duration": 345,
    "start_time": "2021-10-26T19:06:33.049Z"
   },
   {
    "duration": 13,
    "start_time": "2021-10-26T19:06:33.396Z"
   },
   {
    "duration": 35,
    "start_time": "2021-10-26T19:06:33.412Z"
   },
   {
    "duration": 12,
    "start_time": "2021-10-26T19:06:33.449Z"
   },
   {
    "duration": 1250,
    "start_time": "2021-10-31T08:48:53.753Z"
   },
   {
    "duration": 1753,
    "start_time": "2021-10-31T08:49:00.940Z"
   },
   {
    "duration": 31,
    "start_time": "2021-10-31T08:49:02.696Z"
   },
   {
    "duration": 24,
    "start_time": "2021-10-31T08:49:02.735Z"
   },
   {
    "duration": 11,
    "start_time": "2021-10-31T08:49:02.763Z"
   },
   {
    "duration": 53,
    "start_time": "2021-10-31T08:49:02.776Z"
   },
   {
    "duration": 6119,
    "start_time": "2021-10-31T08:49:02.832Z"
   },
   {
    "duration": 621,
    "start_time": "2021-10-31T08:49:08.954Z"
   },
   {
    "duration": 5,
    "start_time": "2021-10-31T08:49:09.579Z"
   },
   {
    "duration": 16,
    "start_time": "2021-10-31T08:49:09.586Z"
   },
   {
    "duration": 28,
    "start_time": "2021-10-31T08:49:09.605Z"
   },
   {
    "duration": 9,
    "start_time": "2021-10-31T08:49:09.636Z"
   },
   {
    "duration": 18,
    "start_time": "2021-10-31T08:49:09.648Z"
   },
   {
    "duration": 6,
    "start_time": "2021-10-31T08:49:09.668Z"
   },
   {
    "duration": 69,
    "start_time": "2021-10-31T08:49:09.677Z"
   },
   {
    "duration": 9,
    "start_time": "2021-10-31T08:49:09.749Z"
   },
   {
    "duration": 15,
    "start_time": "2021-10-31T08:49:09.761Z"
   },
   {
    "duration": 17,
    "start_time": "2021-10-31T08:49:09.778Z"
   },
   {
    "duration": 27,
    "start_time": "2021-10-31T08:49:09.798Z"
   },
   {
    "duration": 56,
    "start_time": "2021-10-31T08:49:09.828Z"
   },
   {
    "duration": 4,
    "start_time": "2021-10-31T08:49:09.887Z"
   },
   {
    "duration": 331,
    "start_time": "2021-10-31T08:49:09.893Z"
   },
   {
    "duration": 6,
    "start_time": "2021-10-31T08:49:10.230Z"
   },
   {
    "duration": 914,
    "start_time": "2021-10-31T08:49:10.239Z"
   },
   {
    "duration": 6772,
    "start_time": "2021-10-31T08:49:11.155Z"
   },
   {
    "duration": 8,
    "start_time": "2021-10-31T08:49:17.930Z"
   },
   {
    "duration": 56767,
    "start_time": "2021-10-31T08:49:17.940Z"
   },
   {
    "duration": 16,
    "start_time": "2021-10-31T08:50:14.709Z"
   },
   {
    "duration": 29048,
    "start_time": "2021-10-31T08:50:14.728Z"
   },
   {
    "duration": 15,
    "start_time": "2021-10-31T08:50:43.778Z"
   },
   {
    "duration": 661,
    "start_time": "2021-10-31T08:50:43.796Z"
   },
   {
    "duration": 24,
    "start_time": "2021-10-31T08:50:44.461Z"
   },
   {
    "duration": 46,
    "start_time": "2021-10-31T08:50:44.488Z"
   },
   {
    "duration": 19,
    "start_time": "2021-10-31T08:50:44.538Z"
   },
   {
    "duration": 27387,
    "start_time": "2021-10-31T09:07:53.886Z"
   },
   {
    "duration": 2011,
    "start_time": "2021-10-31T09:08:31.196Z"
   },
   {
    "duration": 30,
    "start_time": "2021-10-31T09:08:33.210Z"
   },
   {
    "duration": 27,
    "start_time": "2021-10-31T09:08:33.243Z"
   },
   {
    "duration": 10,
    "start_time": "2021-10-31T09:08:33.273Z"
   },
   {
    "duration": 42,
    "start_time": "2021-10-31T09:08:33.286Z"
   },
   {
    "duration": 5690,
    "start_time": "2021-10-31T09:08:33.331Z"
   },
   {
    "duration": 654,
    "start_time": "2021-10-31T09:08:39.024Z"
   },
   {
    "duration": 5,
    "start_time": "2021-10-31T09:08:39.681Z"
   },
   {
    "duration": 9,
    "start_time": "2021-10-31T09:08:39.690Z"
   },
   {
    "duration": 29,
    "start_time": "2021-10-31T09:08:39.701Z"
   },
   {
    "duration": 8,
    "start_time": "2021-10-31T09:08:39.733Z"
   },
   {
    "duration": 32,
    "start_time": "2021-10-31T09:08:39.744Z"
   },
   {
    "duration": 9,
    "start_time": "2021-10-31T09:08:39.778Z"
   },
   {
    "duration": 51,
    "start_time": "2021-10-31T09:08:39.789Z"
   },
   {
    "duration": 9,
    "start_time": "2021-10-31T09:08:39.843Z"
   },
   {
    "duration": 21,
    "start_time": "2021-10-31T09:08:39.855Z"
   },
   {
    "duration": 19,
    "start_time": "2021-10-31T09:08:39.878Z"
   },
   {
    "duration": 13,
    "start_time": "2021-10-31T09:08:39.900Z"
   },
   {
    "duration": 65,
    "start_time": "2021-10-31T09:08:39.916Z"
   },
   {
    "duration": 6,
    "start_time": "2021-10-31T09:08:39.983Z"
   },
   {
    "duration": 289,
    "start_time": "2021-10-31T09:08:39.992Z"
   },
   {
    "duration": 4,
    "start_time": "2021-10-31T09:08:40.284Z"
   },
   {
    "duration": 915,
    "start_time": "2021-10-31T09:08:40.292Z"
   },
   {
    "duration": 7151,
    "start_time": "2021-10-31T09:08:41.210Z"
   },
   {
    "duration": 4,
    "start_time": "2021-10-31T09:08:48.363Z"
   },
   {
    "duration": 51014,
    "start_time": "2021-10-31T09:08:48.370Z"
   },
   {
    "duration": 5,
    "start_time": "2021-10-31T09:09:39.386Z"
   },
   {
    "duration": 25573,
    "start_time": "2021-10-31T09:09:39.393Z"
   },
   {
    "duration": 20,
    "start_time": "2021-10-31T09:10:04.968Z"
   },
   {
    "duration": 606,
    "start_time": "2021-10-31T09:10:04.990Z"
   },
   {
    "duration": 40,
    "start_time": "2021-10-31T09:10:05.599Z"
   },
   {
    "duration": 14,
    "start_time": "2021-10-31T09:10:05.642Z"
   },
   {
    "duration": 16,
    "start_time": "2021-10-31T09:10:05.658Z"
   }
  ],
  "kernelspec": {
   "display_name": "Python 3 (ipykernel)",
   "language": "python",
   "name": "python3"
  },
  "language_info": {
   "codemirror_mode": {
    "name": "ipython",
    "version": 3
   },
   "file_extension": ".py",
   "mimetype": "text/x-python",
   "name": "python",
   "nbconvert_exporter": "python",
   "pygments_lexer": "ipython3",
   "version": "3.9.7"
  },
  "toc": {
   "base_numbering": 1,
   "nav_menu": {},
   "number_sections": true,
   "sideBar": true,
   "skip_h1_title": true,
   "title_cell": "Содержание:",
   "title_sidebar": "Содержание",
   "toc_cell": true,
   "toc_position": {
    "height": "calc(100% - 180px)",
    "left": "10px",
    "top": "150px",
    "width": "320.797px"
   },
   "toc_section_display": true,
   "toc_window_display": true
  }
 },
 "nbformat": 4,
 "nbformat_minor": 2
}

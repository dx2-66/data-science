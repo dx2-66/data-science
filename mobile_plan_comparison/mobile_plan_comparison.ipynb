{
 "cells": [
  {
   "cell_type": "markdown",
   "metadata": {},
   "source": [
    "# Определение перспективного тарифа для телеком-компании\n",
    "\n",
    "Оператор сотовой связи предлагает клиентам два тарифных плана: «Смарт» и «Ультра». Чтобы скорректировать маркетинговый бюджет, коммерческому департаменту нужно выяснить, какой тариф приносит больше дохода.\n",
    "\n",
    "Нам предстоит провести предварительный анализ тарифов на небольшой выборке. В нашем распоряжении данные 500 пользователей: кто они, откуда, каким тарифом пользуются, какими услугами оператора поьзовались в 2018 году. Нужно изучить поведение клиентов и прийти к выводу — какой из тарифов лучше."
   ]
  },
  {
   "cell_type": "markdown",
   "metadata": {
    "toc": true
   },
   "source": [
    "<h1>Содержание:<span class=\"tocSkip\"></span></h1>\n",
    "<div class=\"toc\"><ul class=\"toc-item\"><li><span><a href=\"#Обзор-данных\" data-toc-modified-id=\"Обзор-данных-1\"><span class=\"toc-item-num\">1&nbsp;&nbsp;</span>Обзор данных</a></span><ul class=\"toc-item\"><li><span><a href=\"#Датасет-calls-(информация-о-звонках)\" data-toc-modified-id=\"Датасет-calls-(информация-о-звонках)-1.1\"><span class=\"toc-item-num\">1.1&nbsp;&nbsp;</span>Датасет calls (информация о звонках)</a></span></li><li><span><a href=\"#Датасет-internet-(информация-об-интернет-сессиях)\" data-toc-modified-id=\"Датасет-internet-(информация-об-интернет-сессиях)-1.2\"><span class=\"toc-item-num\">1.2&nbsp;&nbsp;</span>Датасет internet (информация об интернет-сессиях)</a></span></li><li><span><a href=\"#Датасет-messages-(информация-о-сообщениях)\" data-toc-modified-id=\"Датасет-messages-(информация-о-сообщениях)-1.3\"><span class=\"toc-item-num\">1.3&nbsp;&nbsp;</span>Датасет messages (информация о сообщениях)</a></span></li><li><span><a href=\"#Датасет-tariffs-(информация-о-тарифах)\" data-toc-modified-id=\"Датасет-tariffs-(информация-о-тарифах)-1.4\"><span class=\"toc-item-num\">1.4&nbsp;&nbsp;</span>Датасет tariffs (информация о тарифах)</a></span></li><li><span><a href=\"#Датасет-users-(информация-о-пользователях)\" data-toc-modified-id=\"Датасет-users-(информация-о-пользователях)-1.5\"><span class=\"toc-item-num\">1.5&nbsp;&nbsp;</span>Датасет users (информация о пользователях)</a></span></li><li><span><a href=\"#Вывод\" data-toc-modified-id=\"Вывод-1.6\"><span class=\"toc-item-num\">1.6&nbsp;&nbsp;</span>Вывод</a></span></li></ul></li><li><span><a href=\"#Предобработка-данных\" data-toc-modified-id=\"Предобработка-данных-2\"><span class=\"toc-item-num\">2&nbsp;&nbsp;</span>Предобработка данных</a></span><ul class=\"toc-item\"><li><span><a href=\"#Вывод\" data-toc-modified-id=\"Вывод-2.1\"><span class=\"toc-item-num\">2.1&nbsp;&nbsp;</span>Вывод</a></span></li></ul></li><li><span><a href=\"#Расчёты-и-добавление-результатов-в-таблицу\" data-toc-modified-id=\"Расчёты-и-добавление-результатов-в-таблицу-3\"><span class=\"toc-item-num\">3&nbsp;&nbsp;</span>Расчёты и добавление результатов в таблицу</a></span></li><li><span><a href=\"#Анализ-распределения-исходных-данных\" data-toc-modified-id=\"Анализ-распределения-исходных-данных-4\"><span class=\"toc-item-num\">4&nbsp;&nbsp;</span>Анализ распределения исходных данных</a></span><ul class=\"toc-item\"><li><span><a href=\"#Длительность-разговоров\" data-toc-modified-id=\"Длительность-разговоров-4.1\"><span class=\"toc-item-num\">4.1&nbsp;&nbsp;</span>Длительность разговоров</a></span></li><li><span><a href=\"#Сообщения\" data-toc-modified-id=\"Сообщения-4.2\"><span class=\"toc-item-num\">4.2&nbsp;&nbsp;</span>Сообщения</a></span></li><li><span><a href=\"#Объем-трафика\" data-toc-modified-id=\"Объем-трафика-4.3\"><span class=\"toc-item-num\">4.3&nbsp;&nbsp;</span>Объем трафика</a></span></li><li><span><a href=\"#Дополнительно:-распределение-по-месяцам\" data-toc-modified-id=\"Дополнительно:-распределение-по-месяцам-4.4\"><span class=\"toc-item-num\">4.4&nbsp;&nbsp;</span>Дополнительно: распределение по месяцам</a></span></li><li><span><a href=\"#Вывод\" data-toc-modified-id=\"Вывод-4.5\"><span class=\"toc-item-num\">4.5&nbsp;&nbsp;</span>Вывод</a></span></li></ul></li><li><span><a href=\"#Статистический-анализ\" data-toc-modified-id=\"Статистический-анализ-5\"><span class=\"toc-item-num\">5&nbsp;&nbsp;</span>Статистический анализ</a></span><ul class=\"toc-item\"><li><span><a href=\"#Средняя-выручка-по-тарифам\" data-toc-modified-id=\"Средняя-выручка-по-тарифам-5.1\"><span class=\"toc-item-num\">5.1&nbsp;&nbsp;</span>Средняя выручка по тарифам</a></span></li><li><span><a href=\"#Средняя-выручка-по-местоположению\" data-toc-modified-id=\"Средняя-выручка-по-местоположению-5.2\"><span class=\"toc-item-num\">5.2&nbsp;&nbsp;</span>Средняя выручка по местоположению</a></span></li><li><span><a href=\"#Вывод\" data-toc-modified-id=\"Вывод-5.3\"><span class=\"toc-item-num\">5.3&nbsp;&nbsp;</span>Вывод</a></span></li></ul></li><li><span><a href=\"#Общий-вывод\" data-toc-modified-id=\"Общий-вывод-6\"><span class=\"toc-item-num\">6&nbsp;&nbsp;</span>Общий вывод</a></span><ul class=\"toc-item\"><li><span><a href=\"#Рекомендации-по-выгрузке-данных\" data-toc-modified-id=\"Рекомендации-по-выгрузке-данных-6.1\"><span class=\"toc-item-num\">6.1&nbsp;&nbsp;</span>Рекомендации по выгрузке данных</a></span></li></ul></li></ul></div>"
   ]
  },
  {
   "cell_type": "markdown",
   "metadata": {},
   "source": [
    "## Обзор данных"
   ]
  },
  {
   "cell_type": "code",
   "execution_count": 227,
   "metadata": {},
   "outputs": [],
   "source": [
    "# Импортируем необходимые модули:\n",
    "import pandas as pd\n",
    "import numpy as np\n",
    "from scipy import stats as st\n",
    "\n",
    "import matplotlib.pyplot as plt\n",
    "import seaborn as sns"
   ]
  },
  {
   "cell_type": "markdown",
   "metadata": {},
   "source": [
    "Ознакомимся с информацией о предоставленных датасетах и их первыми строками:"
   ]
  },
  {
   "cell_type": "markdown",
   "metadata": {},
   "source": [
    "### Датасет calls (информация о звонках)"
   ]
  },
  {
   "cell_type": "code",
   "execution_count": 228,
   "metadata": {},
   "outputs": [
    {
     "name": "stdout",
     "output_type": "stream",
     "text": [
      "<class 'pandas.core.frame.DataFrame'>\n",
      "RangeIndex: 202607 entries, 0 to 202606\n",
      "Data columns (total 4 columns):\n",
      " #   Column     Non-Null Count   Dtype  \n",
      "---  ------     --------------   -----  \n",
      " 0   id         202607 non-null  object \n",
      " 1   call_date  202607 non-null  object \n",
      " 2   duration   202607 non-null  float64\n",
      " 3   user_id    202607 non-null  int64  \n",
      "dtypes: float64(1), int64(1), object(2)\n",
      "memory usage: 6.2+ MB\n"
     ]
    }
   ],
   "source": [
    "calls = pd.read_csv ('datasets/calls.csv')\n",
    "calls.info()"
   ]
  },
  {
   "cell_type": "code",
   "execution_count": 229,
   "metadata": {},
   "outputs": [
    {
     "data": {
      "text/html": [
       "<div>\n",
       "<style scoped>\n",
       "    .dataframe tbody tr th:only-of-type {\n",
       "        vertical-align: middle;\n",
       "    }\n",
       "\n",
       "    .dataframe tbody tr th {\n",
       "        vertical-align: top;\n",
       "    }\n",
       "\n",
       "    .dataframe thead th {\n",
       "        text-align: right;\n",
       "    }\n",
       "</style>\n",
       "<table border=\"1\" class=\"dataframe\">\n",
       "  <thead>\n",
       "    <tr style=\"text-align: right;\">\n",
       "      <th></th>\n",
       "      <th>id</th>\n",
       "      <th>call_date</th>\n",
       "      <th>duration</th>\n",
       "      <th>user_id</th>\n",
       "    </tr>\n",
       "  </thead>\n",
       "  <tbody>\n",
       "    <tr>\n",
       "      <th>0</th>\n",
       "      <td>1000_0</td>\n",
       "      <td>2018-07-25</td>\n",
       "      <td>0.00</td>\n",
       "      <td>1000</td>\n",
       "    </tr>\n",
       "    <tr>\n",
       "      <th>1</th>\n",
       "      <td>1000_1</td>\n",
       "      <td>2018-08-17</td>\n",
       "      <td>0.00</td>\n",
       "      <td>1000</td>\n",
       "    </tr>\n",
       "    <tr>\n",
       "      <th>2</th>\n",
       "      <td>1000_2</td>\n",
       "      <td>2018-06-11</td>\n",
       "      <td>2.85</td>\n",
       "      <td>1000</td>\n",
       "    </tr>\n",
       "    <tr>\n",
       "      <th>3</th>\n",
       "      <td>1000_3</td>\n",
       "      <td>2018-09-21</td>\n",
       "      <td>13.80</td>\n",
       "      <td>1000</td>\n",
       "    </tr>\n",
       "    <tr>\n",
       "      <th>4</th>\n",
       "      <td>1000_4</td>\n",
       "      <td>2018-12-15</td>\n",
       "      <td>5.18</td>\n",
       "      <td>1000</td>\n",
       "    </tr>\n",
       "  </tbody>\n",
       "</table>\n",
       "</div>"
      ],
      "text/plain": [
       "       id   call_date  duration  user_id\n",
       "0  1000_0  2018-07-25      0.00     1000\n",
       "1  1000_1  2018-08-17      0.00     1000\n",
       "2  1000_2  2018-06-11      2.85     1000\n",
       "3  1000_3  2018-09-21     13.80     1000\n",
       "4  1000_4  2018-12-15      5.18     1000"
      ]
     },
     "execution_count": 229,
     "metadata": {},
     "output_type": "execute_result"
    }
   ],
   "source": [
    "calls.head()"
   ]
  },
  {
   "cell_type": "code",
   "execution_count": 230,
   "metadata": {},
   "outputs": [
    {
     "data": {
      "text/plain": [
       "0"
      ]
     },
     "execution_count": 230,
     "metadata": {},
     "output_type": "execute_result"
    }
   ],
   "source": [
    "calls.duplicated().sum()"
   ]
  },
  {
   "cell_type": "code",
   "execution_count": 231,
   "metadata": {},
   "outputs": [
    {
     "data": {
      "text/html": [
       "<div>\n",
       "<style scoped>\n",
       "    .dataframe tbody tr th:only-of-type {\n",
       "        vertical-align: middle;\n",
       "    }\n",
       "\n",
       "    .dataframe tbody tr th {\n",
       "        vertical-align: top;\n",
       "    }\n",
       "\n",
       "    .dataframe thead th {\n",
       "        text-align: right;\n",
       "    }\n",
       "</style>\n",
       "<table border=\"1\" class=\"dataframe\">\n",
       "  <thead>\n",
       "    <tr style=\"text-align: right;\">\n",
       "      <th></th>\n",
       "      <th>count</th>\n",
       "      <th>mean</th>\n",
       "      <th>std</th>\n",
       "      <th>min</th>\n",
       "      <th>25%</th>\n",
       "      <th>50%</th>\n",
       "      <th>75%</th>\n",
       "      <th>max</th>\n",
       "    </tr>\n",
       "  </thead>\n",
       "  <tbody>\n",
       "    <tr>\n",
       "      <th>duration</th>\n",
       "      <td>202607.0</td>\n",
       "      <td>6.755887</td>\n",
       "      <td>5.843365</td>\n",
       "      <td>0.0</td>\n",
       "      <td>1.3</td>\n",
       "      <td>6.0</td>\n",
       "      <td>10.7</td>\n",
       "      <td>38.0</td>\n",
       "    </tr>\n",
       "    <tr>\n",
       "      <th>user_id</th>\n",
       "      <td>202607.0</td>\n",
       "      <td>1253.940619</td>\n",
       "      <td>144.722751</td>\n",
       "      <td>1000.0</td>\n",
       "      <td>1126.0</td>\n",
       "      <td>1260.0</td>\n",
       "      <td>1379.0</td>\n",
       "      <td>1499.0</td>\n",
       "    </tr>\n",
       "  </tbody>\n",
       "</table>\n",
       "</div>"
      ],
      "text/plain": [
       "             count         mean         std     min     25%     50%     75%  \\\n",
       "duration  202607.0     6.755887    5.843365     0.0     1.3     6.0    10.7   \n",
       "user_id   202607.0  1253.940619  144.722751  1000.0  1126.0  1260.0  1379.0   \n",
       "\n",
       "             max  \n",
       "duration    38.0  \n",
       "user_id   1499.0  "
      ]
     },
     "execution_count": 231,
     "metadata": {},
     "output_type": "execute_result"
    }
   ],
   "source": [
    "calls.describe().T"
   ]
  },
  {
   "cell_type": "markdown",
   "metadata": {},
   "source": [
    "Предоставлены данные о 202607 отдельных звонках по 4 признакам (в т.ч. 2 количественным (с 1 дискретным), 1 типа дата/время и 1 категории). Заголовки колонок удовлетворительны. Явные пропуски и дубликаты отсутствуют, нулевое значение столбца `duration` оговорено как имеющее особый смысл (пропущенный вызов).\n",
    "\n",
    "Столбец `call_date` (дата звонка) потребует приведения к типу дата/время."
   ]
  },
  {
   "cell_type": "markdown",
   "metadata": {},
   "source": [
    "### Датасет internet (информация об интернет-сессиях)"
   ]
  },
  {
   "cell_type": "code",
   "execution_count": 232,
   "metadata": {},
   "outputs": [
    {
     "name": "stdout",
     "output_type": "stream",
     "text": [
      "<class 'pandas.core.frame.DataFrame'>\n",
      "Int64Index: 149396 entries, 0 to 149395\n",
      "Data columns (total 4 columns):\n",
      " #   Column        Non-Null Count   Dtype  \n",
      "---  ------        --------------   -----  \n",
      " 0   id            149396 non-null  object \n",
      " 1   mb_used       149396 non-null  float64\n",
      " 2   session_date  149396 non-null  object \n",
      " 3   user_id       149396 non-null  int64  \n",
      "dtypes: float64(1), int64(1), object(2)\n",
      "memory usage: 5.7+ MB\n"
     ]
    }
   ],
   "source": [
    "internet = pd.read_csv ('datasets/internet.csv', index_col=0)\n",
    "internet.info()"
   ]
  },
  {
   "cell_type": "code",
   "execution_count": 233,
   "metadata": {},
   "outputs": [
    {
     "data": {
      "text/html": [
       "<div>\n",
       "<style scoped>\n",
       "    .dataframe tbody tr th:only-of-type {\n",
       "        vertical-align: middle;\n",
       "    }\n",
       "\n",
       "    .dataframe tbody tr th {\n",
       "        vertical-align: top;\n",
       "    }\n",
       "\n",
       "    .dataframe thead th {\n",
       "        text-align: right;\n",
       "    }\n",
       "</style>\n",
       "<table border=\"1\" class=\"dataframe\">\n",
       "  <thead>\n",
       "    <tr style=\"text-align: right;\">\n",
       "      <th></th>\n",
       "      <th>id</th>\n",
       "      <th>mb_used</th>\n",
       "      <th>session_date</th>\n",
       "      <th>user_id</th>\n",
       "    </tr>\n",
       "  </thead>\n",
       "  <tbody>\n",
       "    <tr>\n",
       "      <th>0</th>\n",
       "      <td>1000_0</td>\n",
       "      <td>112.95</td>\n",
       "      <td>2018-11-25</td>\n",
       "      <td>1000</td>\n",
       "    </tr>\n",
       "    <tr>\n",
       "      <th>1</th>\n",
       "      <td>1000_1</td>\n",
       "      <td>1052.81</td>\n",
       "      <td>2018-09-07</td>\n",
       "      <td>1000</td>\n",
       "    </tr>\n",
       "    <tr>\n",
       "      <th>2</th>\n",
       "      <td>1000_2</td>\n",
       "      <td>1197.26</td>\n",
       "      <td>2018-06-25</td>\n",
       "      <td>1000</td>\n",
       "    </tr>\n",
       "    <tr>\n",
       "      <th>3</th>\n",
       "      <td>1000_3</td>\n",
       "      <td>550.27</td>\n",
       "      <td>2018-08-22</td>\n",
       "      <td>1000</td>\n",
       "    </tr>\n",
       "    <tr>\n",
       "      <th>4</th>\n",
       "      <td>1000_4</td>\n",
       "      <td>302.56</td>\n",
       "      <td>2018-09-24</td>\n",
       "      <td>1000</td>\n",
       "    </tr>\n",
       "  </tbody>\n",
       "</table>\n",
       "</div>"
      ],
      "text/plain": [
       "       id  mb_used session_date  user_id\n",
       "0  1000_0   112.95   2018-11-25     1000\n",
       "1  1000_1  1052.81   2018-09-07     1000\n",
       "2  1000_2  1197.26   2018-06-25     1000\n",
       "3  1000_3   550.27   2018-08-22     1000\n",
       "4  1000_4   302.56   2018-09-24     1000"
      ]
     },
     "execution_count": 233,
     "metadata": {},
     "output_type": "execute_result"
    }
   ],
   "source": [
    "internet.head()"
   ]
  },
  {
   "cell_type": "code",
   "execution_count": 234,
   "metadata": {},
   "outputs": [
    {
     "data": {
      "text/plain": [
       "0"
      ]
     },
     "execution_count": 234,
     "metadata": {},
     "output_type": "execute_result"
    }
   ],
   "source": [
    "internet.duplicated().sum()"
   ]
  },
  {
   "cell_type": "code",
   "execution_count": 235,
   "metadata": {},
   "outputs": [
    {
     "data": {
      "text/html": [
       "<div>\n",
       "<style scoped>\n",
       "    .dataframe tbody tr th:only-of-type {\n",
       "        vertical-align: middle;\n",
       "    }\n",
       "\n",
       "    .dataframe tbody tr th {\n",
       "        vertical-align: top;\n",
       "    }\n",
       "\n",
       "    .dataframe thead th {\n",
       "        text-align: right;\n",
       "    }\n",
       "</style>\n",
       "<table border=\"1\" class=\"dataframe\">\n",
       "  <thead>\n",
       "    <tr style=\"text-align: right;\">\n",
       "      <th></th>\n",
       "      <th>count</th>\n",
       "      <th>mean</th>\n",
       "      <th>std</th>\n",
       "      <th>min</th>\n",
       "      <th>25%</th>\n",
       "      <th>50%</th>\n",
       "      <th>75%</th>\n",
       "      <th>max</th>\n",
       "    </tr>\n",
       "  </thead>\n",
       "  <tbody>\n",
       "    <tr>\n",
       "      <th>mb_used</th>\n",
       "      <td>149396.0</td>\n",
       "      <td>370.192426</td>\n",
       "      <td>278.300951</td>\n",
       "      <td>0.0</td>\n",
       "      <td>138.1875</td>\n",
       "      <td>348.015</td>\n",
       "      <td>559.5525</td>\n",
       "      <td>1724.83</td>\n",
       "    </tr>\n",
       "    <tr>\n",
       "      <th>user_id</th>\n",
       "      <td>149396.0</td>\n",
       "      <td>1252.099842</td>\n",
       "      <td>144.050823</td>\n",
       "      <td>1000.0</td>\n",
       "      <td>1130.0000</td>\n",
       "      <td>1251.000</td>\n",
       "      <td>1380.0000</td>\n",
       "      <td>1499.00</td>\n",
       "    </tr>\n",
       "  </tbody>\n",
       "</table>\n",
       "</div>"
      ],
      "text/plain": [
       "            count         mean         std     min        25%       50%  \\\n",
       "mb_used  149396.0   370.192426  278.300951     0.0   138.1875   348.015   \n",
       "user_id  149396.0  1252.099842  144.050823  1000.0  1130.0000  1251.000   \n",
       "\n",
       "               75%      max  \n",
       "mb_used   559.5525  1724.83  \n",
       "user_id  1380.0000  1499.00  "
      ]
     },
     "execution_count": 235,
     "metadata": {},
     "output_type": "execute_result"
    }
   ],
   "source": [
    "internet.describe().T"
   ]
  },
  {
   "cell_type": "markdown",
   "metadata": {},
   "source": [
    "Предоставлены данные о 149396 интернет-сессиях по 4 признакам (в т.ч. 2 количественным (с 1 дискретным), 1 типа дата/время и 1 категории). Заголовки колонок удовлетворительны (мы воспользовались параметром `index_col` для столбца, дублирующего индексацию). Явные пропуски и дубликаты отсутствуют. Значения параметра `mb_used` (объем трафика за сессию) лежат в разумных пределах, они содержат нулевые значения, смысл которых - пустая сессия или пропущенное значение - на данном этапе неясен.\n",
    "\n",
    "Столбец `session_date` (дата) потребует приведения к типу дата/время."
   ]
  },
  {
   "cell_type": "markdown",
   "metadata": {},
   "source": [
    "### Датасет messages (информация о сообщениях)"
   ]
  },
  {
   "cell_type": "code",
   "execution_count": 236,
   "metadata": {},
   "outputs": [
    {
     "name": "stdout",
     "output_type": "stream",
     "text": [
      "<class 'pandas.core.frame.DataFrame'>\n",
      "RangeIndex: 123036 entries, 0 to 123035\n",
      "Data columns (total 3 columns):\n",
      " #   Column        Non-Null Count   Dtype \n",
      "---  ------        --------------   ----- \n",
      " 0   id            123036 non-null  object\n",
      " 1   message_date  123036 non-null  object\n",
      " 2   user_id       123036 non-null  int64 \n",
      "dtypes: int64(1), object(2)\n",
      "memory usage: 2.8+ MB\n"
     ]
    }
   ],
   "source": [
    "messages = pd.read_csv ('datasets/messages.csv')\n",
    "messages.info()"
   ]
  },
  {
   "cell_type": "code",
   "execution_count": 237,
   "metadata": {},
   "outputs": [
    {
     "data": {
      "text/html": [
       "<div>\n",
       "<style scoped>\n",
       "    .dataframe tbody tr th:only-of-type {\n",
       "        vertical-align: middle;\n",
       "    }\n",
       "\n",
       "    .dataframe tbody tr th {\n",
       "        vertical-align: top;\n",
       "    }\n",
       "\n",
       "    .dataframe thead th {\n",
       "        text-align: right;\n",
       "    }\n",
       "</style>\n",
       "<table border=\"1\" class=\"dataframe\">\n",
       "  <thead>\n",
       "    <tr style=\"text-align: right;\">\n",
       "      <th></th>\n",
       "      <th>id</th>\n",
       "      <th>message_date</th>\n",
       "      <th>user_id</th>\n",
       "    </tr>\n",
       "  </thead>\n",
       "  <tbody>\n",
       "    <tr>\n",
       "      <th>0</th>\n",
       "      <td>1000_0</td>\n",
       "      <td>2018-06-27</td>\n",
       "      <td>1000</td>\n",
       "    </tr>\n",
       "    <tr>\n",
       "      <th>1</th>\n",
       "      <td>1000_1</td>\n",
       "      <td>2018-10-08</td>\n",
       "      <td>1000</td>\n",
       "    </tr>\n",
       "    <tr>\n",
       "      <th>2</th>\n",
       "      <td>1000_2</td>\n",
       "      <td>2018-08-04</td>\n",
       "      <td>1000</td>\n",
       "    </tr>\n",
       "    <tr>\n",
       "      <th>3</th>\n",
       "      <td>1000_3</td>\n",
       "      <td>2018-06-16</td>\n",
       "      <td>1000</td>\n",
       "    </tr>\n",
       "    <tr>\n",
       "      <th>4</th>\n",
       "      <td>1000_4</td>\n",
       "      <td>2018-12-05</td>\n",
       "      <td>1000</td>\n",
       "    </tr>\n",
       "  </tbody>\n",
       "</table>\n",
       "</div>"
      ],
      "text/plain": [
       "       id message_date  user_id\n",
       "0  1000_0   2018-06-27     1000\n",
       "1  1000_1   2018-10-08     1000\n",
       "2  1000_2   2018-08-04     1000\n",
       "3  1000_3   2018-06-16     1000\n",
       "4  1000_4   2018-12-05     1000"
      ]
     },
     "execution_count": 237,
     "metadata": {},
     "output_type": "execute_result"
    }
   ],
   "source": [
    "messages.head()"
   ]
  },
  {
   "cell_type": "code",
   "execution_count": 238,
   "metadata": {},
   "outputs": [
    {
     "data": {
      "text/plain": [
       "0"
      ]
     },
     "execution_count": 238,
     "metadata": {},
     "output_type": "execute_result"
    }
   ],
   "source": [
    "messages.duplicated().sum()"
   ]
  },
  {
   "cell_type": "code",
   "execution_count": 239,
   "metadata": {},
   "outputs": [
    {
     "data": {
      "text/html": [
       "<div>\n",
       "<style scoped>\n",
       "    .dataframe tbody tr th:only-of-type {\n",
       "        vertical-align: middle;\n",
       "    }\n",
       "\n",
       "    .dataframe tbody tr th {\n",
       "        vertical-align: top;\n",
       "    }\n",
       "\n",
       "    .dataframe thead th {\n",
       "        text-align: right;\n",
       "    }\n",
       "</style>\n",
       "<table border=\"1\" class=\"dataframe\">\n",
       "  <thead>\n",
       "    <tr style=\"text-align: right;\">\n",
       "      <th></th>\n",
       "      <th>count</th>\n",
       "      <th>mean</th>\n",
       "      <th>std</th>\n",
       "      <th>min</th>\n",
       "      <th>25%</th>\n",
       "      <th>50%</th>\n",
       "      <th>75%</th>\n",
       "      <th>max</th>\n",
       "    </tr>\n",
       "  </thead>\n",
       "  <tbody>\n",
       "    <tr>\n",
       "      <th>user_id</th>\n",
       "      <td>123036.0</td>\n",
       "      <td>1256.98941</td>\n",
       "      <td>143.523967</td>\n",
       "      <td>1000.0</td>\n",
       "      <td>1134.0</td>\n",
       "      <td>1271.0</td>\n",
       "      <td>1381.0</td>\n",
       "      <td>1499.0</td>\n",
       "    </tr>\n",
       "  </tbody>\n",
       "</table>\n",
       "</div>"
      ],
      "text/plain": [
       "            count        mean         std     min     25%     50%     75%  \\\n",
       "user_id  123036.0  1256.98941  143.523967  1000.0  1134.0  1271.0  1381.0   \n",
       "\n",
       "            max  \n",
       "user_id  1499.0  "
      ]
     },
     "execution_count": 239,
     "metadata": {},
     "output_type": "execute_result"
    }
   ],
   "source": [
    "messages.describe().T"
   ]
  },
  {
   "cell_type": "markdown",
   "metadata": {},
   "source": [
    "Предоставлены данные о 123036 сообщениях по 3 признакам (в т.ч. 1 количественныму дискретному; 1 типа дата/время и 1 категории). Заголовки колонок удовлетворительны. Явные пропуски и дубликаты отсутствуют.\n",
    "\n",
    "Столбец `message_date` (дата) потребует приведения к типу дата/время."
   ]
  },
  {
   "cell_type": "markdown",
   "metadata": {},
   "source": [
    "### Датасет tariffs (информация о тарифах)"
   ]
  },
  {
   "cell_type": "code",
   "execution_count": 240,
   "metadata": {},
   "outputs": [
    {
     "name": "stdout",
     "output_type": "stream",
     "text": [
      "<class 'pandas.core.frame.DataFrame'>\n",
      "RangeIndex: 2 entries, 0 to 1\n",
      "Data columns (total 8 columns):\n",
      " #   Column                 Non-Null Count  Dtype \n",
      "---  ------                 --------------  ----- \n",
      " 0   messages_included      2 non-null      int64 \n",
      " 1   mb_per_month_included  2 non-null      int64 \n",
      " 2   minutes_included       2 non-null      int64 \n",
      " 3   rub_monthly_fee        2 non-null      int64 \n",
      " 4   rub_per_gb             2 non-null      int64 \n",
      " 5   rub_per_message        2 non-null      int64 \n",
      " 6   rub_per_minute         2 non-null      int64 \n",
      " 7   tariff_name            2 non-null      object\n",
      "dtypes: int64(7), object(1)\n",
      "memory usage: 256.0+ bytes\n"
     ]
    }
   ],
   "source": [
    "tariffs = pd.read_csv ('datasets/tariffs.csv')\n",
    "tariffs.info()"
   ]
  },
  {
   "cell_type": "code",
   "execution_count": 241,
   "metadata": {},
   "outputs": [
    {
     "data": {
      "text/html": [
       "<div>\n",
       "<style scoped>\n",
       "    .dataframe tbody tr th:only-of-type {\n",
       "        vertical-align: middle;\n",
       "    }\n",
       "\n",
       "    .dataframe tbody tr th {\n",
       "        vertical-align: top;\n",
       "    }\n",
       "\n",
       "    .dataframe thead th {\n",
       "        text-align: right;\n",
       "    }\n",
       "</style>\n",
       "<table border=\"1\" class=\"dataframe\">\n",
       "  <thead>\n",
       "    <tr style=\"text-align: right;\">\n",
       "      <th></th>\n",
       "      <th>messages_included</th>\n",
       "      <th>mb_per_month_included</th>\n",
       "      <th>minutes_included</th>\n",
       "      <th>rub_monthly_fee</th>\n",
       "      <th>rub_per_gb</th>\n",
       "      <th>rub_per_message</th>\n",
       "      <th>rub_per_minute</th>\n",
       "      <th>tariff_name</th>\n",
       "    </tr>\n",
       "  </thead>\n",
       "  <tbody>\n",
       "    <tr>\n",
       "      <th>0</th>\n",
       "      <td>50</td>\n",
       "      <td>15360</td>\n",
       "      <td>500</td>\n",
       "      <td>550</td>\n",
       "      <td>200</td>\n",
       "      <td>3</td>\n",
       "      <td>3</td>\n",
       "      <td>smart</td>\n",
       "    </tr>\n",
       "    <tr>\n",
       "      <th>1</th>\n",
       "      <td>1000</td>\n",
       "      <td>30720</td>\n",
       "      <td>3000</td>\n",
       "      <td>1950</td>\n",
       "      <td>150</td>\n",
       "      <td>1</td>\n",
       "      <td>1</td>\n",
       "      <td>ultra</td>\n",
       "    </tr>\n",
       "  </tbody>\n",
       "</table>\n",
       "</div>"
      ],
      "text/plain": [
       "   messages_included  mb_per_month_included  minutes_included  \\\n",
       "0                 50                  15360               500   \n",
       "1               1000                  30720              3000   \n",
       "\n",
       "   rub_monthly_fee  rub_per_gb  rub_per_message  rub_per_minute tariff_name  \n",
       "0              550         200                3               3       smart  \n",
       "1             1950         150                1               1       ultra  "
      ]
     },
     "execution_count": 241,
     "metadata": {},
     "output_type": "execute_result"
    }
   ],
   "source": [
    "tariffs.head()"
   ]
  },
  {
   "cell_type": "code",
   "execution_count": 242,
   "metadata": {},
   "outputs": [
    {
     "data": {
      "text/plain": [
       "0"
      ]
     },
     "execution_count": 242,
     "metadata": {},
     "output_type": "execute_result"
    }
   ],
   "source": [
    "tariffs.duplicated().sum()"
   ]
  },
  {
   "cell_type": "markdown",
   "metadata": {},
   "source": [
    "Предоставлены данные о 2 тарифах по 8 признакам (в т.ч. 7 количественным и 1 категории). Заголовки колонок удовлетворительны. Объем данных повзволяет полностью оценить их качество визуально, нареканий нет."
   ]
  },
  {
   "cell_type": "markdown",
   "metadata": {},
   "source": [
    "### Датасет users (информация о пользователях)"
   ]
  },
  {
   "cell_type": "code",
   "execution_count": 243,
   "metadata": {},
   "outputs": [
    {
     "name": "stdout",
     "output_type": "stream",
     "text": [
      "<class 'pandas.core.frame.DataFrame'>\n",
      "RangeIndex: 500 entries, 0 to 499\n",
      "Data columns (total 8 columns):\n",
      " #   Column      Non-Null Count  Dtype \n",
      "---  ------      --------------  ----- \n",
      " 0   user_id     500 non-null    int64 \n",
      " 1   age         500 non-null    int64 \n",
      " 2   churn_date  38 non-null     object\n",
      " 3   city        500 non-null    object\n",
      " 4   first_name  500 non-null    object\n",
      " 5   last_name   500 non-null    object\n",
      " 6   reg_date    500 non-null    object\n",
      " 7   tariff      500 non-null    object\n",
      "dtypes: int64(2), object(6)\n",
      "memory usage: 31.4+ KB\n"
     ]
    }
   ],
   "source": [
    "users = pd.read_csv ('datasets/users.csv')\n",
    "users.info()"
   ]
  },
  {
   "cell_type": "code",
   "execution_count": 244,
   "metadata": {},
   "outputs": [
    {
     "data": {
      "text/html": [
       "<div>\n",
       "<style scoped>\n",
       "    .dataframe tbody tr th:only-of-type {\n",
       "        vertical-align: middle;\n",
       "    }\n",
       "\n",
       "    .dataframe tbody tr th {\n",
       "        vertical-align: top;\n",
       "    }\n",
       "\n",
       "    .dataframe thead th {\n",
       "        text-align: right;\n",
       "    }\n",
       "</style>\n",
       "<table border=\"1\" class=\"dataframe\">\n",
       "  <thead>\n",
       "    <tr style=\"text-align: right;\">\n",
       "      <th></th>\n",
       "      <th>user_id</th>\n",
       "      <th>age</th>\n",
       "      <th>churn_date</th>\n",
       "      <th>city</th>\n",
       "      <th>first_name</th>\n",
       "      <th>last_name</th>\n",
       "      <th>reg_date</th>\n",
       "      <th>tariff</th>\n",
       "    </tr>\n",
       "  </thead>\n",
       "  <tbody>\n",
       "    <tr>\n",
       "      <th>0</th>\n",
       "      <td>1000</td>\n",
       "      <td>52</td>\n",
       "      <td>NaN</td>\n",
       "      <td>Краснодар</td>\n",
       "      <td>Рафаил</td>\n",
       "      <td>Верещагин</td>\n",
       "      <td>2018-05-25</td>\n",
       "      <td>ultra</td>\n",
       "    </tr>\n",
       "    <tr>\n",
       "      <th>1</th>\n",
       "      <td>1001</td>\n",
       "      <td>41</td>\n",
       "      <td>NaN</td>\n",
       "      <td>Москва</td>\n",
       "      <td>Иван</td>\n",
       "      <td>Ежов</td>\n",
       "      <td>2018-11-01</td>\n",
       "      <td>smart</td>\n",
       "    </tr>\n",
       "    <tr>\n",
       "      <th>2</th>\n",
       "      <td>1002</td>\n",
       "      <td>59</td>\n",
       "      <td>NaN</td>\n",
       "      <td>Стерлитамак</td>\n",
       "      <td>Евгений</td>\n",
       "      <td>Абрамович</td>\n",
       "      <td>2018-06-17</td>\n",
       "      <td>smart</td>\n",
       "    </tr>\n",
       "    <tr>\n",
       "      <th>3</th>\n",
       "      <td>1003</td>\n",
       "      <td>23</td>\n",
       "      <td>NaN</td>\n",
       "      <td>Москва</td>\n",
       "      <td>Белла</td>\n",
       "      <td>Белякова</td>\n",
       "      <td>2018-08-17</td>\n",
       "      <td>ultra</td>\n",
       "    </tr>\n",
       "    <tr>\n",
       "      <th>4</th>\n",
       "      <td>1004</td>\n",
       "      <td>68</td>\n",
       "      <td>NaN</td>\n",
       "      <td>Новокузнецк</td>\n",
       "      <td>Татьяна</td>\n",
       "      <td>Авдеенко</td>\n",
       "      <td>2018-05-14</td>\n",
       "      <td>ultra</td>\n",
       "    </tr>\n",
       "  </tbody>\n",
       "</table>\n",
       "</div>"
      ],
      "text/plain": [
       "   user_id  age churn_date         city first_name  last_name    reg_date  \\\n",
       "0     1000   52        NaN    Краснодар     Рафаил  Верещагин  2018-05-25   \n",
       "1     1001   41        NaN       Москва       Иван       Ежов  2018-11-01   \n",
       "2     1002   59        NaN  Стерлитамак    Евгений  Абрамович  2018-06-17   \n",
       "3     1003   23        NaN       Москва      Белла   Белякова  2018-08-17   \n",
       "4     1004   68        NaN  Новокузнецк    Татьяна   Авдеенко  2018-05-14   \n",
       "\n",
       "  tariff  \n",
       "0  ultra  \n",
       "1  smart  \n",
       "2  smart  \n",
       "3  ultra  \n",
       "4  ultra  "
      ]
     },
     "execution_count": 244,
     "metadata": {},
     "output_type": "execute_result"
    }
   ],
   "source": [
    "users.head()"
   ]
  },
  {
   "cell_type": "code",
   "execution_count": 245,
   "metadata": {},
   "outputs": [
    {
     "data": {
      "text/plain": [
       "0"
      ]
     },
     "execution_count": 245,
     "metadata": {},
     "output_type": "execute_result"
    }
   ],
   "source": [
    "users.duplicated().sum()"
   ]
  },
  {
   "cell_type": "code",
   "execution_count": 246,
   "metadata": {
    "scrolled": true
   },
   "outputs": [
    {
     "data": {
      "text/html": [
       "<div>\n",
       "<style scoped>\n",
       "    .dataframe tbody tr th:only-of-type {\n",
       "        vertical-align: middle;\n",
       "    }\n",
       "\n",
       "    .dataframe tbody tr th {\n",
       "        vertical-align: top;\n",
       "    }\n",
       "\n",
       "    .dataframe thead th {\n",
       "        text-align: right;\n",
       "    }\n",
       "</style>\n",
       "<table border=\"1\" class=\"dataframe\">\n",
       "  <thead>\n",
       "    <tr style=\"text-align: right;\">\n",
       "      <th></th>\n",
       "      <th>count</th>\n",
       "      <th>mean</th>\n",
       "      <th>std</th>\n",
       "      <th>min</th>\n",
       "      <th>25%</th>\n",
       "      <th>50%</th>\n",
       "      <th>75%</th>\n",
       "      <th>max</th>\n",
       "    </tr>\n",
       "  </thead>\n",
       "  <tbody>\n",
       "    <tr>\n",
       "      <th>user_id</th>\n",
       "      <td>500.0</td>\n",
       "      <td>1249.500</td>\n",
       "      <td>144.481833</td>\n",
       "      <td>1000.0</td>\n",
       "      <td>1124.75</td>\n",
       "      <td>1249.5</td>\n",
       "      <td>1374.25</td>\n",
       "      <td>1499.0</td>\n",
       "    </tr>\n",
       "    <tr>\n",
       "      <th>age</th>\n",
       "      <td>500.0</td>\n",
       "      <td>46.588</td>\n",
       "      <td>16.667630</td>\n",
       "      <td>18.0</td>\n",
       "      <td>32.00</td>\n",
       "      <td>46.0</td>\n",
       "      <td>62.00</td>\n",
       "      <td>75.0</td>\n",
       "    </tr>\n",
       "  </tbody>\n",
       "</table>\n",
       "</div>"
      ],
      "text/plain": [
       "         count      mean         std     min      25%     50%      75%     max\n",
       "user_id  500.0  1249.500  144.481833  1000.0  1124.75  1249.5  1374.25  1499.0\n",
       "age      500.0    46.588   16.667630    18.0    32.00    46.0    62.00    75.0"
      ]
     },
     "execution_count": 246,
     "metadata": {},
     "output_type": "execute_result"
    }
   ],
   "source": [
    "users.describe().T"
   ]
  },
  {
   "cell_type": "code",
   "execution_count": 247,
   "metadata": {},
   "outputs": [
    {
     "data": {
      "text/plain": [
       "smart    351\n",
       "ultra    149\n",
       "Name: tariff, dtype: int64"
      ]
     },
     "execution_count": 247,
     "metadata": {},
     "output_type": "execute_result"
    }
   ],
   "source": [
    "users['tariff'].value_counts()"
   ]
  },
  {
   "cell_type": "markdown",
   "metadata": {},
   "source": [
    "Предоставлены данные о 500 пользователях по 8 признакам (в т.ч. 2 количественным дискретным; 2 типа дата/время и 4 категориям). Заголовки колонок удовлетворительны. Явные дубликаты отсутствуют. Столбец `churn_date` (дата окончания действия тарифа) содержит в основном пропуски, что оговорено как осмысленное значение: тариф по-прежнему активен. Других явных пропусков не наблюдается.\n",
    "\n",
    "Сразу можно отметить, что аномальных значений параметра `age` (возраст клиента) не зафиксировано.\n",
    "\n",
    "Столбцы `reg_date` (дата регистрации) и `churn_date` потребуют приведения к типу дата/время."
   ]
  },
  {
   "cell_type": "markdown",
   "metadata": {},
   "source": [
    "### Вывод"
   ]
  },
  {
   "cell_type": "markdown",
   "metadata": {},
   "source": [
    "Информация предоставлена в пяти датасетах. Помимо общих данных о пользователях, приведены данные по дате и продолжительности звонков, дате и объеме трафика интернет-сессии и датах сообщений с привязкой к идентификатору пользователя. Также представлена информация об используемых пользователями тарифах.\n",
    "\n",
    "Вся информация о датах потребует приведения к типу дата/время.\n",
    "\n",
    "Пропущенные значения имеются лишь в одном столбце `churn_date` датасета `users`, некритичном для целей исследования. Других явных пропусков и дубликатов не обнаружено.\n",
    "\n",
    "Нулевые значения в столбце `duration` датасета `calls` оговорены как имеющие особый смысл (пропущенный вызов).\n",
    "\n",
    "Нулевые значения в столбце `mb_used` датасета `internet` можно трактовать двояко. Желательно прояснить этот момент с автором выгрузки.\n",
    "\n",
    "Идентификаторы звонков, сессий и сообщений, представляющие собой строки, слепленные из числового идентификатора пользователя и порядкового номера с разделителем, являются не слишком удачным решением с точки зрения быстродействия и удобства обработки, но это не оказывает влияния на вопросы нашего исследования.\n",
    "\n",
    "По предварительному ознакомлению можно судить, что предоставленные данные должны относиться с одним и тем же пользователям с идентификаторами в диапазоне 1000-1499, использующих один из двух описанных тарифов. 351 пользователь пользовался тарифом ***smart***, а 149 пользователей - тарифом ***ultra***."
   ]
  },
  {
   "cell_type": "markdown",
   "metadata": {},
   "source": [
    "## Предобработка данных"
   ]
  },
  {
   "cell_type": "markdown",
   "metadata": {},
   "source": [
    "Приведем уже упомянутые выше столбцы к типу дата/время:"
   ]
  },
  {
   "cell_type": "code",
   "execution_count": 248,
   "metadata": {},
   "outputs": [],
   "source": [
    "calls['call_date'] = pd.to_datetime(calls['call_date'])\n",
    "internet['session_date'] = pd.to_datetime(internet['session_date'])\n",
    "messages['message_date'] = pd.to_datetime(messages['message_date'])\n",
    "users['reg_date'] = pd.to_datetime(users['reg_date'])\n",
    "# В случае типа datetime пропущенные значения не являются помехой:\n",
    "users['churn_date'] = pd.to_datetime(users['churn_date'])"
   ]
  },
  {
   "cell_type": "markdown",
   "metadata": {},
   "source": [
    "Проведем быструю проверку на неявные дубликаты в столбцах, имеющих значения-строки:"
   ]
  },
  {
   "cell_type": "code",
   "execution_count": 249,
   "metadata": {},
   "outputs": [],
   "source": [
    "def check_case (df, column):\n",
    "    try:\n",
    "        # Изменится ли количество уникальных значений при приведении к нижнему регистру?\n",
    "        if len (df[column].unique()) == len (df[column].str.lower().unique()):\n",
    "            print ('Приведение регистра не требуется.')\n",
    "            \n",
    "        else:\n",
    "            print ('Приводим к нижнему регистру!')\n",
    "            df[column] = df[column].str.lower()\n",
    "            \n",
    "        print ('Уникальных значений:', len (df[column].unique()))\n",
    "        \n",
    "    except:\n",
    "        print ('Проверьте правильность переданных данных!')"
   ]
  },
  {
   "cell_type": "code",
   "execution_count": 250,
   "metadata": {},
   "outputs": [
    {
     "name": "stdout",
     "output_type": "stream",
     "text": [
      "Приведение регистра не требуется.\n",
      "Уникальных значений: 246\n"
     ]
    }
   ],
   "source": [
    "check_case (users, 'first_name')"
   ]
  },
  {
   "cell_type": "code",
   "execution_count": 251,
   "metadata": {},
   "outputs": [
    {
     "name": "stdout",
     "output_type": "stream",
     "text": [
      "Приведение регистра не требуется.\n",
      "Уникальных значений: 419\n"
     ]
    }
   ],
   "source": [
    "check_case (users, 'last_name')"
   ]
  },
  {
   "cell_type": "code",
   "execution_count": 252,
   "metadata": {},
   "outputs": [
    {
     "name": "stdout",
     "output_type": "stream",
     "text": [
      "Приведение регистра не требуется.\n",
      "Уникальных значений: 76\n"
     ]
    }
   ],
   "source": [
    "check_case (users, 'city')"
   ]
  },
  {
   "cell_type": "markdown",
   "metadata": {},
   "source": [
    "Столбец `city` таблицы `users` содержит относительно немного уникальных значений, есть смысл привести его к категориальному типу в целях оптимизации:"
   ]
  },
  {
   "cell_type": "code",
   "execution_count": 253,
   "metadata": {},
   "outputs": [],
   "source": [
    "users['city'] = users['city'].astype('category')\n",
    "users['tariff'] = users['tariff'].astype('category')"
   ]
  },
  {
   "cell_type": "markdown",
   "metadata": {},
   "source": [
    "Оценим также количество нулевых значений в столбце `mb_used` датасета `internet`:"
   ]
  },
  {
   "cell_type": "code",
   "execution_count": 254,
   "metadata": {},
   "outputs": [
    {
     "data": {
      "text/plain": [
       "0.00      19598\n",
       "447.30        9\n",
       "197.56        9\n",
       "335.91        9\n",
       "513.25        8\n",
       "Name: mb_used, dtype: int64"
      ]
     },
     "execution_count": 254,
     "metadata": {},
     "output_type": "execute_result"
    },
    {
     "data": {
      "image/png": "[encoded data removed]",
      "text/plain": [
       "<Figure size 432x288 with 1 Axes>"
      ]
     },
     "metadata": {
      "needs_background": "light"
     },
     "output_type": "display_data"
    }
   ],
   "source": [
    "internet['mb_used'].hist(bins='fd');\n",
    "internet['mb_used'].value_counts().sort_values(ascending = False).head()"
   ]
  },
  {
   "cell_type": "markdown",
   "metadata": {},
   "source": [
    "Около 20 тыс. сессий (порядка 13%) имеют нулевое значение трафика. Пик имеет аномальный характер. Мы не можем сказать с уверенностью, вызвано ли это отсутствием данных или по каким-то техническим причинам многие сессии действительно происходят без активных действий. Тем не менее, **нулевые значения не повлияют на подсчет суммарного трафика и расход трафика из расчета на пользователя**, и для целей нашего исследования качество данных можно признать удовлетворительным. Удаление или заполнение этих данных будет играть роль только в случае исследований по сессиям."
   ]
  },
  {
   "cell_type": "markdown",
   "metadata": {},
   "source": [
    "Кроме того, нам известно, что **значения минут всегда округляются вверх**. Мы можем провести соответствующее округление и привести столбец к целому типу:"
   ]
  },
  {
   "cell_type": "code",
   "execution_count": 255,
   "metadata": {},
   "outputs": [],
   "source": [
    "calls['duration'] = np.ceil(calls['duration']).astype('uint16')"
   ]
  },
  {
   "cell_type": "markdown",
   "metadata": {},
   "source": [
    "### Вывод"
   ]
  },
  {
   "cell_type": "markdown",
   "metadata": {},
   "source": [
    "Все выявленные столбцы, требующие приведения к типу дата/время, были приведены с использованием *pd.to_datetime()*.\n",
    "\n",
    "Неявных дубликатов в столбцах со строковыми значениями не выявлено. Столбец `city` таблицы `users` также был приведен к категориальному типу ввиду существенной экономии памяти.\n",
    "\n",
    "Нулевые значения в столбце `mb_used` датасета `internet` выглядят аномально частыми, но не оказывают влияния в вопросах нашего исследования, и мы можем оставить их как есть.\n",
    "\n",
    "Также следуя оговоренной методике расчетов, мы округлили длину разговора в минутах (столбец `duration` таблицы `calls`) и объем трафика за сессию (столбец `mb_used` таблицы `internet`) в большую сторону, что позволило привести их к целочисленному типу."
   ]
  },
  {
   "cell_type": "markdown",
   "metadata": {},
   "source": [
    "## Расчёты и добавление результатов в таблицу"
   ]
  },
  {
   "cell_type": "markdown",
   "metadata": {},
   "source": [
    "Рассчитаем и добавим в таблицу следующие параметры для каждого пользователя:\n",
    " - количество сделанных звонков и израсходованных минут разговора по месяцам;\n",
    " - количество отправленных сообщений по месяцам;\n",
    " - объем израсходованного интернет-трафика по месяцам;\n",
    " - помесячную выручку с каждого пользователя.\n",
    " \n",
    "В целях группировки по месяцам целесообразно будет добавить соответствующую колонку в таблицы `calls`, `messages` и `internet`, поскольку год у нас только один:"
   ]
  },
  {
   "cell_type": "code",
   "execution_count": 256,
   "metadata": {},
   "outputs": [],
   "source": [
    "calls['month'] = calls ['call_date'].dt.month\n",
    "messages['month'] = messages ['message_date'].dt.month\n",
    "internet['month'] = internet ['session_date'].dt.month"
   ]
  },
  {
   "cell_type": "markdown",
   "metadata": {},
   "source": [
    "Составим сводные таблицы, сгруппированные по идентификатору пользователя и месяцу:"
   ]
  },
  {
   "cell_type": "code",
   "execution_count": 257,
   "metadata": {},
   "outputs": [],
   "source": [
    "calls_pivot = calls.pivot_table(index = ['user_id', 'month'], values = 'duration', aggfunc=['count', 'sum'])\n",
    "calls_pivot.columns = ['call_count', 'minutes_total']\n",
    "\n",
    "message_pivot = messages.pivot_table(index = ['user_id', 'month'], values = 'id', aggfunc='count')\n",
    "message_pivot.columns = ['message_count']\n",
    "\n",
    "internet_pivot = internet.pivot_table(index = ['user_id', 'month'], values = 'mb_used', aggfunc='sum')\n",
    "internet_pivot.columns = ['mb_total']"
   ]
  },
  {
   "cell_type": "markdown",
   "metadata": {},
   "source": [
    "И объединим их:"
   ]
  },
  {
   "cell_type": "code",
   "execution_count": 258,
   "metadata": {
    "scrolled": false
   },
   "outputs": [
    {
     "data": {
      "text/html": [
       "<div>\n",
       "<style scoped>\n",
       "    .dataframe tbody tr th:only-of-type {\n",
       "        vertical-align: middle;\n",
       "    }\n",
       "\n",
       "    .dataframe tbody tr th {\n",
       "        vertical-align: top;\n",
       "    }\n",
       "\n",
       "    .dataframe thead th {\n",
       "        text-align: right;\n",
       "    }\n",
       "</style>\n",
       "<table border=\"1\" class=\"dataframe\">\n",
       "  <thead>\n",
       "    <tr style=\"text-align: right;\">\n",
       "      <th></th>\n",
       "      <th></th>\n",
       "      <th>call_count</th>\n",
       "      <th>minutes_total</th>\n",
       "      <th>message_count</th>\n",
       "      <th>mb_total</th>\n",
       "    </tr>\n",
       "    <tr>\n",
       "      <th>user_id</th>\n",
       "      <th>month</th>\n",
       "      <th></th>\n",
       "      <th></th>\n",
       "      <th></th>\n",
       "      <th></th>\n",
       "    </tr>\n",
       "  </thead>\n",
       "  <tbody>\n",
       "    <tr>\n",
       "      <th>1479</th>\n",
       "      <th>10</th>\n",
       "      <td>83.0</td>\n",
       "      <td>640.0</td>\n",
       "      <td>NaN</td>\n",
       "      <td>17914.67</td>\n",
       "    </tr>\n",
       "    <tr>\n",
       "      <th>1262</th>\n",
       "      <th>6</th>\n",
       "      <td>46.0</td>\n",
       "      <td>329.0</td>\n",
       "      <td>31.0</td>\n",
       "      <td>16087.37</td>\n",
       "    </tr>\n",
       "    <tr>\n",
       "      <th>1427</th>\n",
       "      <th>10</th>\n",
       "      <td>72.0</td>\n",
       "      <td>482.0</td>\n",
       "      <td>9.0</td>\n",
       "      <td>17435.64</td>\n",
       "    </tr>\n",
       "    <tr>\n",
       "      <th>1365</th>\n",
       "      <th>10</th>\n",
       "      <td>5.0</td>\n",
       "      <td>43.0</td>\n",
       "      <td>1.0</td>\n",
       "      <td>0.00</td>\n",
       "    </tr>\n",
       "    <tr>\n",
       "      <th>1481</th>\n",
       "      <th>4</th>\n",
       "      <td>42.0</td>\n",
       "      <td>361.0</td>\n",
       "      <td>21.0</td>\n",
       "      <td>20296.54</td>\n",
       "    </tr>\n",
       "    <tr>\n",
       "      <th>1495</th>\n",
       "      <th>11</th>\n",
       "      <td>129.0</td>\n",
       "      <td>954.0</td>\n",
       "      <td>79.0</td>\n",
       "      <td>38939.11</td>\n",
       "    </tr>\n",
       "    <tr>\n",
       "      <th>1337</th>\n",
       "      <th>3</th>\n",
       "      <td>21.0</td>\n",
       "      <td>215.0</td>\n",
       "      <td>8.0</td>\n",
       "      <td>14883.02</td>\n",
       "    </tr>\n",
       "    <tr>\n",
       "      <th>1280</th>\n",
       "      <th>7</th>\n",
       "      <td>43.0</td>\n",
       "      <td>354.0</td>\n",
       "      <td>20.0</td>\n",
       "      <td>6377.64</td>\n",
       "    </tr>\n",
       "    <tr>\n",
       "      <th>1009</th>\n",
       "      <th>5</th>\n",
       "      <td>28.0</td>\n",
       "      <td>170.0</td>\n",
       "      <td>7.0</td>\n",
       "      <td>13371.89</td>\n",
       "    </tr>\n",
       "    <tr>\n",
       "      <th>1217</th>\n",
       "      <th>4</th>\n",
       "      <td>67.0</td>\n",
       "      <td>455.0</td>\n",
       "      <td>62.0</td>\n",
       "      <td>17171.10</td>\n",
       "    </tr>\n",
       "  </tbody>\n",
       "</table>\n",
       "</div>"
      ],
      "text/plain": [
       "               call_count  minutes_total  message_count  mb_total\n",
       "user_id month                                                    \n",
       "1479    10           83.0          640.0            NaN  17914.67\n",
       "1262    6            46.0          329.0           31.0  16087.37\n",
       "1427    10           72.0          482.0            9.0  17435.64\n",
       "1365    10            5.0           43.0            1.0      0.00\n",
       "1481    4            42.0          361.0           21.0  20296.54\n",
       "1495    11          129.0          954.0           79.0  38939.11\n",
       "1337    3            21.0          215.0            8.0  14883.02\n",
       "1280    7            43.0          354.0           20.0   6377.64\n",
       "1009    5            28.0          170.0            7.0  13371.89\n",
       "1217    4            67.0          455.0           62.0  17171.10"
      ]
     },
     "execution_count": 258,
     "metadata": {},
     "output_type": "execute_result"
    }
   ],
   "source": [
    "joint_pivot = calls_pivot.join ([message_pivot, internet_pivot], how='outer')\n",
    "joint_pivot.sample(n=10, random_state=177013)"
   ]
  },
  {
   "cell_type": "markdown",
   "metadata": {},
   "source": [
    "Скорее всего, не по всем пользователям будут присутствовать все данные за каждый месяц, кто-то мог, к примеру, не отправить ни одного сообщения или не пользоваться интернетом. Заполним недостающие данные нулями и приведем их к целому:"
   ]
  },
  {
   "cell_type": "code",
   "execution_count": 259,
   "metadata": {},
   "outputs": [
    {
     "data": {
      "text/html": [
       "<div>\n",
       "<style scoped>\n",
       "    .dataframe tbody tr th:only-of-type {\n",
       "        vertical-align: middle;\n",
       "    }\n",
       "\n",
       "    .dataframe tbody tr th {\n",
       "        vertical-align: top;\n",
       "    }\n",
       "\n",
       "    .dataframe thead th {\n",
       "        text-align: right;\n",
       "    }\n",
       "</style>\n",
       "<table border=\"1\" class=\"dataframe\">\n",
       "  <thead>\n",
       "    <tr style=\"text-align: right;\">\n",
       "      <th></th>\n",
       "      <th>count</th>\n",
       "      <th>mean</th>\n",
       "      <th>std</th>\n",
       "      <th>min</th>\n",
       "      <th>25%</th>\n",
       "      <th>50%</th>\n",
       "      <th>75%</th>\n",
       "      <th>max</th>\n",
       "    </tr>\n",
       "  </thead>\n",
       "  <tbody>\n",
       "    <tr>\n",
       "      <th>call_count</th>\n",
       "      <td>3214.0</td>\n",
       "      <td>63.038892</td>\n",
       "      <td>33.236368</td>\n",
       "      <td>0.0</td>\n",
       "      <td>40.00</td>\n",
       "      <td>62.0</td>\n",
       "      <td>82.0</td>\n",
       "      <td>244.0</td>\n",
       "    </tr>\n",
       "    <tr>\n",
       "      <th>minutes_total</th>\n",
       "      <td>3214.0</td>\n",
       "      <td>451.244866</td>\n",
       "      <td>241.909978</td>\n",
       "      <td>0.0</td>\n",
       "      <td>282.00</td>\n",
       "      <td>443.0</td>\n",
       "      <td>589.0</td>\n",
       "      <td>1673.0</td>\n",
       "    </tr>\n",
       "    <tr>\n",
       "      <th>message_count</th>\n",
       "      <td>3214.0</td>\n",
       "      <td>38.281269</td>\n",
       "      <td>36.148326</td>\n",
       "      <td>0.0</td>\n",
       "      <td>9.00</td>\n",
       "      <td>30.0</td>\n",
       "      <td>57.0</td>\n",
       "      <td>224.0</td>\n",
       "    </tr>\n",
       "    <tr>\n",
       "      <th>mb_total</th>\n",
       "      <td>3214.0</td>\n",
       "      <td>17208.101742</td>\n",
       "      <td>7570.970783</td>\n",
       "      <td>0.0</td>\n",
       "      <td>12492.25</td>\n",
       "      <td>16943.5</td>\n",
       "      <td>21425.0</td>\n",
       "      <td>49746.0</td>\n",
       "    </tr>\n",
       "  </tbody>\n",
       "</table>\n",
       "</div>"
      ],
      "text/plain": [
       "                count          mean          std  min       25%      50%  \\\n",
       "call_count     3214.0     63.038892    33.236368  0.0     40.00     62.0   \n",
       "minutes_total  3214.0    451.244866   241.909978  0.0    282.00    443.0   \n",
       "message_count  3214.0     38.281269    36.148326  0.0      9.00     30.0   \n",
       "mb_total       3214.0  17208.101742  7570.970783  0.0  12492.25  16943.5   \n",
       "\n",
       "                   75%      max  \n",
       "call_count        82.0    244.0  \n",
       "minutes_total    589.0   1673.0  \n",
       "message_count     57.0    224.0  \n",
       "mb_total       21425.0  49746.0  "
      ]
     },
     "execution_count": 259,
     "metadata": {},
     "output_type": "execute_result"
    }
   ],
   "source": [
    "joint_pivot['call_count'] = joint_pivot['call_count'].fillna(0).astype('uint16')\n",
    "joint_pivot['minutes_total'] = joint_pivot['minutes_total'].fillna(0).astype('uint16')\n",
    "joint_pivot['message_count'] = joint_pivot['message_count'].fillna(0).astype('uint16')\n",
    "# Не забудем округлить трафик в большую сторону согласно условию:\n",
    "joint_pivot['mb_total'] = np.ceil (joint_pivot['mb_total']).fillna(0).astype('uint32')\n",
    "joint_pivot.describe().T"
   ]
  },
  {
   "cell_type": "markdown",
   "metadata": {},
   "source": [
    "Добавим для удобства столбец с тарифом, который использовал пользователь:"
   ]
  },
  {
   "cell_type": "code",
   "execution_count": 260,
   "metadata": {
    "scrolled": true
   },
   "outputs": [
    {
     "data": {
      "text/html": [
       "<div>\n",
       "<style scoped>\n",
       "    .dataframe tbody tr th:only-of-type {\n",
       "        vertical-align: middle;\n",
       "    }\n",
       "\n",
       "    .dataframe tbody tr th {\n",
       "        vertical-align: top;\n",
       "    }\n",
       "\n",
       "    .dataframe thead th {\n",
       "        text-align: right;\n",
       "    }\n",
       "</style>\n",
       "<table border=\"1\" class=\"dataframe\">\n",
       "  <thead>\n",
       "    <tr style=\"text-align: right;\">\n",
       "      <th></th>\n",
       "      <th></th>\n",
       "      <th>call_count</th>\n",
       "      <th>minutes_total</th>\n",
       "      <th>message_count</th>\n",
       "      <th>mb_total</th>\n",
       "      <th>tariff</th>\n",
       "    </tr>\n",
       "    <tr>\n",
       "      <th>user_id</th>\n",
       "      <th>month</th>\n",
       "      <th></th>\n",
       "      <th></th>\n",
       "      <th></th>\n",
       "      <th></th>\n",
       "      <th></th>\n",
       "    </tr>\n",
       "  </thead>\n",
       "  <tbody>\n",
       "    <tr>\n",
       "      <th>1479</th>\n",
       "      <th>10</th>\n",
       "      <td>83</td>\n",
       "      <td>640</td>\n",
       "      <td>0</td>\n",
       "      <td>17915</td>\n",
       "      <td>smart</td>\n",
       "    </tr>\n",
       "    <tr>\n",
       "      <th>1262</th>\n",
       "      <th>6</th>\n",
       "      <td>46</td>\n",
       "      <td>329</td>\n",
       "      <td>31</td>\n",
       "      <td>16088</td>\n",
       "      <td>smart</td>\n",
       "    </tr>\n",
       "    <tr>\n",
       "      <th>1427</th>\n",
       "      <th>10</th>\n",
       "      <td>72</td>\n",
       "      <td>482</td>\n",
       "      <td>9</td>\n",
       "      <td>17436</td>\n",
       "      <td>smart</td>\n",
       "    </tr>\n",
       "    <tr>\n",
       "      <th>1365</th>\n",
       "      <th>10</th>\n",
       "      <td>5</td>\n",
       "      <td>43</td>\n",
       "      <td>1</td>\n",
       "      <td>0</td>\n",
       "      <td>smart</td>\n",
       "    </tr>\n",
       "    <tr>\n",
       "      <th>1481</th>\n",
       "      <th>4</th>\n",
       "      <td>42</td>\n",
       "      <td>361</td>\n",
       "      <td>21</td>\n",
       "      <td>20297</td>\n",
       "      <td>smart</td>\n",
       "    </tr>\n",
       "    <tr>\n",
       "      <th>1495</th>\n",
       "      <th>11</th>\n",
       "      <td>129</td>\n",
       "      <td>954</td>\n",
       "      <td>79</td>\n",
       "      <td>38940</td>\n",
       "      <td>ultra</td>\n",
       "    </tr>\n",
       "    <tr>\n",
       "      <th>1337</th>\n",
       "      <th>3</th>\n",
       "      <td>21</td>\n",
       "      <td>215</td>\n",
       "      <td>8</td>\n",
       "      <td>14884</td>\n",
       "      <td>smart</td>\n",
       "    </tr>\n",
       "    <tr>\n",
       "      <th>1280</th>\n",
       "      <th>7</th>\n",
       "      <td>43</td>\n",
       "      <td>354</td>\n",
       "      <td>20</td>\n",
       "      <td>6378</td>\n",
       "      <td>smart</td>\n",
       "    </tr>\n",
       "    <tr>\n",
       "      <th>1009</th>\n",
       "      <th>5</th>\n",
       "      <td>28</td>\n",
       "      <td>170</td>\n",
       "      <td>7</td>\n",
       "      <td>13372</td>\n",
       "      <td>smart</td>\n",
       "    </tr>\n",
       "    <tr>\n",
       "      <th>1217</th>\n",
       "      <th>4</th>\n",
       "      <td>67</td>\n",
       "      <td>455</td>\n",
       "      <td>62</td>\n",
       "      <td>17172</td>\n",
       "      <td>smart</td>\n",
       "    </tr>\n",
       "  </tbody>\n",
       "</table>\n",
       "</div>"
      ],
      "text/plain": [
       "               call_count  minutes_total  message_count  mb_total tariff\n",
       "user_id month                                                           \n",
       "1479    10             83            640              0     17915  smart\n",
       "1262    6              46            329             31     16088  smart\n",
       "1427    10             72            482              9     17436  smart\n",
       "1365    10              5             43              1         0  smart\n",
       "1481    4              42            361             21     20297  smart\n",
       "1495    11            129            954             79     38940  ultra\n",
       "1337    3              21            215              8     14884  smart\n",
       "1280    7              43            354             20      6378  smart\n",
       "1009    5              28            170              7     13372  smart\n",
       "1217    4              67            455             62     17172  smart"
      ]
     },
     "execution_count": 260,
     "metadata": {},
     "output_type": "execute_result"
    }
   ],
   "source": [
    "tariff_view = users[['user_id', 'tariff']].set_index('user_id')\n",
    "joint_pivot = joint_pivot.join(tariff_view, how='outer')\n",
    "joint_pivot.sample(n=10, random_state=177013)"
   ]
  },
  {
   "cell_type": "markdown",
   "metadata": {},
   "source": [
    "Рассчитаем суммарную выручку по каждой строке и внесем в таблицу:"
   ]
  },
  {
   "cell_type": "code",
   "execution_count": 261,
   "metadata": {
    "scrolled": true
   },
   "outputs": [
    {
     "data": {
      "text/html": [
       "<div>\n",
       "<style scoped>\n",
       "    .dataframe tbody tr th:only-of-type {\n",
       "        vertical-align: middle;\n",
       "    }\n",
       "\n",
       "    .dataframe tbody tr th {\n",
       "        vertical-align: top;\n",
       "    }\n",
       "\n",
       "    .dataframe thead th {\n",
       "        text-align: right;\n",
       "    }\n",
       "</style>\n",
       "<table border=\"1\" class=\"dataframe\">\n",
       "  <thead>\n",
       "    <tr style=\"text-align: right;\">\n",
       "      <th></th>\n",
       "      <th>count</th>\n",
       "      <th>mean</th>\n",
       "      <th>std</th>\n",
       "      <th>min</th>\n",
       "      <th>25%</th>\n",
       "      <th>50%</th>\n",
       "      <th>75%</th>\n",
       "      <th>max</th>\n",
       "    </tr>\n",
       "  </thead>\n",
       "  <tbody>\n",
       "    <tr>\n",
       "      <th>call_count</th>\n",
       "      <td>3214.0</td>\n",
       "      <td>63.038892</td>\n",
       "      <td>33.236368</td>\n",
       "      <td>0.0</td>\n",
       "      <td>40.00</td>\n",
       "      <td>62.0</td>\n",
       "      <td>82.0</td>\n",
       "      <td>244.0</td>\n",
       "    </tr>\n",
       "    <tr>\n",
       "      <th>minutes_total</th>\n",
       "      <td>3214.0</td>\n",
       "      <td>451.244866</td>\n",
       "      <td>241.909978</td>\n",
       "      <td>0.0</td>\n",
       "      <td>282.00</td>\n",
       "      <td>443.0</td>\n",
       "      <td>589.0</td>\n",
       "      <td>1673.0</td>\n",
       "    </tr>\n",
       "    <tr>\n",
       "      <th>message_count</th>\n",
       "      <td>3214.0</td>\n",
       "      <td>38.281269</td>\n",
       "      <td>36.148326</td>\n",
       "      <td>0.0</td>\n",
       "      <td>9.00</td>\n",
       "      <td>30.0</td>\n",
       "      <td>57.0</td>\n",
       "      <td>224.0</td>\n",
       "    </tr>\n",
       "    <tr>\n",
       "      <th>mb_total</th>\n",
       "      <td>3214.0</td>\n",
       "      <td>17208.101742</td>\n",
       "      <td>7570.970783</td>\n",
       "      <td>0.0</td>\n",
       "      <td>12492.25</td>\n",
       "      <td>16943.5</td>\n",
       "      <td>21425.0</td>\n",
       "      <td>49746.0</td>\n",
       "    </tr>\n",
       "    <tr>\n",
       "      <th>revenue</th>\n",
       "      <td>3214.0</td>\n",
       "      <td>1529.076229</td>\n",
       "      <td>798.251091</td>\n",
       "      <td>550.0</td>\n",
       "      <td>750.00</td>\n",
       "      <td>1653.5</td>\n",
       "      <td>1950.0</td>\n",
       "      <td>6770.0</td>\n",
       "    </tr>\n",
       "  </tbody>\n",
       "</table>\n",
       "</div>"
      ],
      "text/plain": [
       "                count          mean          std    min       25%      50%  \\\n",
       "call_count     3214.0     63.038892    33.236368    0.0     40.00     62.0   \n",
       "minutes_total  3214.0    451.244866   241.909978    0.0    282.00    443.0   \n",
       "message_count  3214.0     38.281269    36.148326    0.0      9.00     30.0   \n",
       "mb_total       3214.0  17208.101742  7570.970783    0.0  12492.25  16943.5   \n",
       "revenue        3214.0   1529.076229   798.251091  550.0    750.00   1653.5   \n",
       "\n",
       "                   75%      max  \n",
       "call_count        82.0    244.0  \n",
       "minutes_total    589.0   1673.0  \n",
       "message_count     57.0    224.0  \n",
       "mb_total       21425.0  49746.0  \n",
       "revenue         1950.0   6770.0  "
      ]
     },
     "execution_count": 261,
     "metadata": {},
     "output_type": "execute_result"
    }
   ],
   "source": [
    "def calculate_revenue (row):\n",
    "    tariff        = row['tariff']\n",
    "    minutes_total = row['minutes_total']\n",
    "    message_count = row['message_count']\n",
    "    mb_total      = row['mb_total']\n",
    "    \n",
    "    if tariff == 'smart':\n",
    "        tariff_info = tariffs.loc[0]\n",
    "    else:\n",
    "        tariff_info = tariffs.loc[1]\n",
    "  \n",
    "    # Если израсходовано меньше лимита, отбрасываем отрицательные значения и принимаем прибыль нулевой:\n",
    "    call_revenue    = tariff_info['rub_per_minute']  * max (minutes_total - tariff_info['minutes_included'], 0)\n",
    "    message_revenue = tariff_info['rub_per_message'] * max (message_count - tariff_info['messages_included'], 0)\n",
    "    # Мегабайты свыше лимита переводим в гигабайты и округляем в большую сторону:\n",
    "    traffic_revenue = tariff_info['rub_per_gb'] * max (np.ceil((mb_total - tariff_info['mb_per_month_included'])/1024), 0)\n",
    "    \n",
    "    # Суммируем результаты и абонентскую плату:\n",
    "    total_revenue = call_revenue + message_revenue + traffic_revenue + tariff_info['rub_monthly_fee']\n",
    "    return total_revenue\n",
    "\n",
    "joint_pivot['revenue'] = joint_pivot.apply(calculate_revenue, axis=1).round().astype('uint16')\n",
    "joint_pivot.describe().T"
   ]
  },
  {
   "cell_type": "code",
   "execution_count": 262,
   "metadata": {},
   "outputs": [
    {
     "data": {
      "text/html": [
       "<div>\n",
       "<style scoped>\n",
       "    .dataframe tbody tr th:only-of-type {\n",
       "        vertical-align: middle;\n",
       "    }\n",
       "\n",
       "    .dataframe tbody tr th {\n",
       "        vertical-align: top;\n",
       "    }\n",
       "\n",
       "    .dataframe thead th {\n",
       "        text-align: right;\n",
       "    }\n",
       "</style>\n",
       "<table border=\"1\" class=\"dataframe\">\n",
       "  <thead>\n",
       "    <tr style=\"text-align: right;\">\n",
       "      <th></th>\n",
       "      <th></th>\n",
       "      <th>call_count</th>\n",
       "      <th>minutes_total</th>\n",
       "      <th>message_count</th>\n",
       "      <th>mb_total</th>\n",
       "      <th>tariff</th>\n",
       "      <th>revenue</th>\n",
       "    </tr>\n",
       "    <tr>\n",
       "      <th>user_id</th>\n",
       "      <th>month</th>\n",
       "      <th></th>\n",
       "      <th></th>\n",
       "      <th></th>\n",
       "      <th></th>\n",
       "      <th></th>\n",
       "      <th></th>\n",
       "    </tr>\n",
       "  </thead>\n",
       "  <tbody>\n",
       "    <tr>\n",
       "      <th>1479</th>\n",
       "      <th>10</th>\n",
       "      <td>83</td>\n",
       "      <td>640</td>\n",
       "      <td>0</td>\n",
       "      <td>17915</td>\n",
       "      <td>smart</td>\n",
       "      <td>1570</td>\n",
       "    </tr>\n",
       "    <tr>\n",
       "      <th>1262</th>\n",
       "      <th>6</th>\n",
       "      <td>46</td>\n",
       "      <td>329</td>\n",
       "      <td>31</td>\n",
       "      <td>16088</td>\n",
       "      <td>smart</td>\n",
       "      <td>750</td>\n",
       "    </tr>\n",
       "    <tr>\n",
       "      <th>1427</th>\n",
       "      <th>10</th>\n",
       "      <td>72</td>\n",
       "      <td>482</td>\n",
       "      <td>9</td>\n",
       "      <td>17436</td>\n",
       "      <td>smart</td>\n",
       "      <td>1150</td>\n",
       "    </tr>\n",
       "    <tr>\n",
       "      <th>1365</th>\n",
       "      <th>10</th>\n",
       "      <td>5</td>\n",
       "      <td>43</td>\n",
       "      <td>1</td>\n",
       "      <td>0</td>\n",
       "      <td>smart</td>\n",
       "      <td>550</td>\n",
       "    </tr>\n",
       "    <tr>\n",
       "      <th>1481</th>\n",
       "      <th>4</th>\n",
       "      <td>42</td>\n",
       "      <td>361</td>\n",
       "      <td>21</td>\n",
       "      <td>20297</td>\n",
       "      <td>smart</td>\n",
       "      <td>1550</td>\n",
       "    </tr>\n",
       "    <tr>\n",
       "      <th>1495</th>\n",
       "      <th>11</th>\n",
       "      <td>129</td>\n",
       "      <td>954</td>\n",
       "      <td>79</td>\n",
       "      <td>38940</td>\n",
       "      <td>ultra</td>\n",
       "      <td>3300</td>\n",
       "    </tr>\n",
       "    <tr>\n",
       "      <th>1337</th>\n",
       "      <th>3</th>\n",
       "      <td>21</td>\n",
       "      <td>215</td>\n",
       "      <td>8</td>\n",
       "      <td>14884</td>\n",
       "      <td>smart</td>\n",
       "      <td>550</td>\n",
       "    </tr>\n",
       "    <tr>\n",
       "      <th>1280</th>\n",
       "      <th>7</th>\n",
       "      <td>43</td>\n",
       "      <td>354</td>\n",
       "      <td>20</td>\n",
       "      <td>6378</td>\n",
       "      <td>smart</td>\n",
       "      <td>550</td>\n",
       "    </tr>\n",
       "    <tr>\n",
       "      <th>1009</th>\n",
       "      <th>5</th>\n",
       "      <td>28</td>\n",
       "      <td>170</td>\n",
       "      <td>7</td>\n",
       "      <td>13372</td>\n",
       "      <td>smart</td>\n",
       "      <td>550</td>\n",
       "    </tr>\n",
       "    <tr>\n",
       "      <th>1217</th>\n",
       "      <th>4</th>\n",
       "      <td>67</td>\n",
       "      <td>455</td>\n",
       "      <td>62</td>\n",
       "      <td>17172</td>\n",
       "      <td>smart</td>\n",
       "      <td>986</td>\n",
       "    </tr>\n",
       "  </tbody>\n",
       "</table>\n",
       "</div>"
      ],
      "text/plain": [
       "               call_count  minutes_total  message_count  mb_total tariff  \\\n",
       "user_id month                                                              \n",
       "1479    10             83            640              0     17915  smart   \n",
       "1262    6              46            329             31     16088  smart   \n",
       "1427    10             72            482              9     17436  smart   \n",
       "1365    10              5             43              1         0  smart   \n",
       "1481    4              42            361             21     20297  smart   \n",
       "1495    11            129            954             79     38940  ultra   \n",
       "1337    3              21            215              8     14884  smart   \n",
       "1280    7              43            354             20      6378  smart   \n",
       "1009    5              28            170              7     13372  smart   \n",
       "1217    4              67            455             62     17172  smart   \n",
       "\n",
       "               revenue  \n",
       "user_id month           \n",
       "1479    10        1570  \n",
       "1262    6          750  \n",
       "1427    10        1150  \n",
       "1365    10         550  \n",
       "1481    4         1550  \n",
       "1495    11        3300  \n",
       "1337    3          550  \n",
       "1280    7          550  \n",
       "1009    5          550  \n",
       "1217    4          986  "
      ]
     },
     "execution_count": 262,
     "metadata": {},
     "output_type": "execute_result"
    }
   ],
   "source": [
    "joint_pivot.sample(n=10, random_state=177013)"
   ]
  },
  {
   "cell_type": "markdown",
   "metadata": {},
   "source": [
    "## Анализ распределения исходных данных"
   ]
  },
  {
   "cell_type": "markdown",
   "metadata": {},
   "source": [
    "Сведем усредненные данные по каждому пользователю (точнее, будем использовать медиану, поскольку она позволяет лучше оценить характерное поведение клиента) и рассмотрим сравнительную статистику по тарифам.\n",
    "\n",
    "Следует, однако, рассмотреть случаи, когда в таблице `users` пользователь есть, но никаких данных по услугам у него нет:"
   ]
  },
  {
   "cell_type": "code",
   "execution_count": 263,
   "metadata": {},
   "outputs": [
    {
     "data": {
      "text/html": [
       "<div>\n",
       "<style scoped>\n",
       "    .dataframe tbody tr th:only-of-type {\n",
       "        vertical-align: middle;\n",
       "    }\n",
       "\n",
       "    .dataframe tbody tr th {\n",
       "        vertical-align: top;\n",
       "    }\n",
       "\n",
       "    .dataframe thead th {\n",
       "        text-align: right;\n",
       "    }\n",
       "</style>\n",
       "<table border=\"1\" class=\"dataframe\">\n",
       "  <thead>\n",
       "    <tr style=\"text-align: right;\">\n",
       "      <th></th>\n",
       "      <th>user_id</th>\n",
       "      <th>age</th>\n",
       "      <th>churn_date</th>\n",
       "      <th>city</th>\n",
       "      <th>first_name</th>\n",
       "      <th>last_name</th>\n",
       "      <th>reg_date</th>\n",
       "      <th>tariff</th>\n",
       "    </tr>\n",
       "  </thead>\n",
       "  <tbody>\n",
       "    <tr>\n",
       "      <th>128</th>\n",
       "      <td>1128</td>\n",
       "      <td>51</td>\n",
       "      <td>2018-12-23</td>\n",
       "      <td>Волжский</td>\n",
       "      <td>Ксения</td>\n",
       "      <td>Агаева</td>\n",
       "      <td>2018-12-15</td>\n",
       "      <td>ultra</td>\n",
       "    </tr>\n",
       "    <tr>\n",
       "      <th>371</th>\n",
       "      <td>1371</td>\n",
       "      <td>50</td>\n",
       "      <td>2018-12-30</td>\n",
       "      <td>Омск</td>\n",
       "      <td>Ириней</td>\n",
       "      <td>Трофимов</td>\n",
       "      <td>2018-12-25</td>\n",
       "      <td>smart</td>\n",
       "    </tr>\n",
       "  </tbody>\n",
       "</table>\n",
       "</div>"
      ],
      "text/plain": [
       "     user_id  age churn_date      city first_name last_name   reg_date tariff\n",
       "128     1128   51 2018-12-23  Волжский     Ксения    Агаева 2018-12-15  ultra\n",
       "371     1371   50 2018-12-30      Омск     Ириней  Трофимов 2018-12-25  smart"
      ]
     },
     "execution_count": 263,
     "metadata": {},
     "output_type": "execute_result"
    }
   ],
   "source": [
    "users [~users['user_id'].isin(calls['user_id']) & ~users['user_id'].isin(messages['user_id']) & ~users['user_id'].isin(internet['user_id'])]"
   ]
  },
  {
   "cell_type": "markdown",
   "metadata": {},
   "source": [
    "У нас два таких пользователя, причем один из них пользовался тарифом ***smart***, а другой ***ultra***, но в обоих случаях лишь несколько дней. Мы не можем даже сказать с уверенностью, вносилась ли абонентская плата. В любом случае, в целях изучения поведения клиента включать их в статистику было бы нецелесообразно."
   ]
  },
  {
   "cell_type": "code",
   "execution_count": 264,
   "metadata": {
    "scrolled": true
   },
   "outputs": [],
   "source": [
    "user_pivot = joint_pivot.pivot_table(index='user_id', values=['minutes_total', 'message_count', 'mb_total', 'revenue'], aggfunc='median')\n",
    "\n",
    "# Здесь мы не будем использовать outer - если о пользователе совсем нет данных, он не попадет в статистику:\n",
    "user_pivot = user_pivot.join(tariff_view)"
   ]
  },
  {
   "cell_type": "markdown",
   "metadata": {},
   "source": [
    "Также для исследования целесообразно добавить в таблицу данные о городах:"
   ]
  },
  {
   "cell_type": "code",
   "execution_count": 265,
   "metadata": {},
   "outputs": [],
   "source": [
    "city_view = users[['user_id', 'city']].set_index('user_id')\n",
    "user_pivot = user_pivot.join(city_view)"
   ]
  },
  {
   "cell_type": "markdown",
   "metadata": {},
   "source": [
    "Для порядка приведем данные к целому типу, где это целесообразно:"
   ]
  },
  {
   "cell_type": "code",
   "execution_count": 266,
   "metadata": {},
   "outputs": [],
   "source": [
    "user_pivot['mb_total'] = user_pivot['mb_total'].astype('uint32')\n",
    "user_pivot['message_count'] = user_pivot['message_count'].astype('uint16')\n",
    "user_pivot['minutes_total'] = user_pivot['minutes_total'].astype('uint16')\n",
    "user_pivot['revenue'] = user_pivot['revenue'].astype('uint16')"
   ]
  },
  {
   "cell_type": "code",
   "execution_count": 267,
   "metadata": {},
   "outputs": [
    {
     "data": {
      "text/html": [
       "<div>\n",
       "<style scoped>\n",
       "    .dataframe tbody tr th:only-of-type {\n",
       "        vertical-align: middle;\n",
       "    }\n",
       "\n",
       "    .dataframe tbody tr th {\n",
       "        vertical-align: top;\n",
       "    }\n",
       "\n",
       "    .dataframe thead th {\n",
       "        text-align: right;\n",
       "    }\n",
       "</style>\n",
       "<table border=\"1\" class=\"dataframe\">\n",
       "  <thead>\n",
       "    <tr style=\"text-align: right;\">\n",
       "      <th></th>\n",
       "      <th>mb_total</th>\n",
       "      <th>message_count</th>\n",
       "      <th>minutes_total</th>\n",
       "      <th>revenue</th>\n",
       "      <th>tariff</th>\n",
       "      <th>city</th>\n",
       "    </tr>\n",
       "    <tr>\n",
       "      <th>user_id</th>\n",
       "      <th></th>\n",
       "      <th></th>\n",
       "      <th></th>\n",
       "      <th></th>\n",
       "      <th></th>\n",
       "      <th></th>\n",
       "    </tr>\n",
       "  </thead>\n",
       "  <tbody>\n",
       "    <tr>\n",
       "      <th>1000</th>\n",
       "      <td>14312</td>\n",
       "      <td>65</td>\n",
       "      <td>339</td>\n",
       "      <td>1950</td>\n",
       "      <td>ultra</td>\n",
       "      <td>Краснодар</td>\n",
       "    </tr>\n",
       "    <tr>\n",
       "      <th>1001</th>\n",
       "      <td>16233</td>\n",
       "      <td>0</td>\n",
       "      <td>422</td>\n",
       "      <td>850</td>\n",
       "      <td>smart</td>\n",
       "      <td>Москва</td>\n",
       "    </tr>\n",
       "    <tr>\n",
       "      <th>1002</th>\n",
       "      <td>17581</td>\n",
       "      <td>11</td>\n",
       "      <td>214</td>\n",
       "      <td>1150</td>\n",
       "      <td>smart</td>\n",
       "      <td>Стерлитамак</td>\n",
       "    </tr>\n",
       "    <tr>\n",
       "      <th>1003</th>\n",
       "      <td>11357</td>\n",
       "      <td>83</td>\n",
       "      <td>824</td>\n",
       "      <td>1950</td>\n",
       "      <td>ultra</td>\n",
       "      <td>Москва</td>\n",
       "    </tr>\n",
       "    <tr>\n",
       "      <th>1004</th>\n",
       "      <td>17811</td>\n",
       "      <td>154</td>\n",
       "      <td>132</td>\n",
       "      <td>1950</td>\n",
       "      <td>ultra</td>\n",
       "      <td>Новокузнецк</td>\n",
       "    </tr>\n",
       "  </tbody>\n",
       "</table>\n",
       "</div>"
      ],
      "text/plain": [
       "         mb_total  message_count  minutes_total  revenue tariff         city\n",
       "user_id                                                                     \n",
       "1000        14312             65            339     1950  ultra    Краснодар\n",
       "1001        16233              0            422      850  smart       Москва\n",
       "1002        17581             11            214     1150  smart  Стерлитамак\n",
       "1003        11357             83            824     1950  ultra       Москва\n",
       "1004        17811            154            132     1950  ultra  Новокузнецк"
      ]
     },
     "execution_count": 267,
     "metadata": {},
     "output_type": "execute_result"
    }
   ],
   "source": [
    "user_pivot.head()"
   ]
  },
  {
   "cell_type": "markdown",
   "metadata": {},
   "source": [
    "Подготовим небольшую автоматизацию построения графиков:"
   ]
  },
  {
   "cell_type": "code",
   "execution_count": 268,
   "metadata": {},
   "outputs": [],
   "source": [
    "df_smart = user_pivot.query('tariff == \"smart\"')\n",
    "df_ultra = user_pivot.query('tariff == \"ultra\"')\n",
    "\n",
    "translations = {\n",
    "    'minutes_total': {'title':'длительность разговоров', 'unit':'мин'},\n",
    "    'message_count': {'title':'сообщения', 'unit':'шт'},\n",
    "    'mb_total': {'title':'трафик', 'unit':'МБ'},\n",
    "    'revenue': {'title':'выручка', 'unit':'р'}\n",
    "}\n",
    "\n",
    "def visualize (column):\n",
    "    xlabel = 'Среднемесячный объем, ' + translations[column]['unit']\n",
    "    \n",
    "    fig, axes = plt.subplots(1, 2, figsize=(16,7))\n",
    "\n",
    "    sns.histplot (df_smart[column], color='tab:blue', ax=axes[0], bins='scott', kde=False, alpha=0.6, linewidth=0)\n",
    "    sns.histplot (df_ultra[column], color='tab:orange', ax=axes[0], bins='scott', kde=False, alpha=0.6, linewidth=0)\n",
    "\n",
    "    fig.suptitle('Распределение по тарифам: ' + translations[column]['title'])\n",
    "    axes[0].set (title='Гистограмма', xlabel=xlabel, ylabel='Количество пользователей, чел.');\n",
    "    axes[0].legend (['smart', 'ultra'])\n",
    "\n",
    "    sns.violinplot (data=user_pivot, ax=axes[1], y='tariff', x=column)\n",
    "    axes[1].set (title='Плотность и размах', xlabel=xlabel, ylabel='Тариф', xlim=0);"
   ]
  },
  {
   "cell_type": "markdown",
   "metadata": {},
   "source": [
    "### Длительность разговоров"
   ]
  },
  {
   "cell_type": "markdown",
   "metadata": {},
   "source": [
    "Сгруппируем данные всех пользователей по тарифам, вычислим средние значения, а также медиану, дисперсию и стандартное отклонение с помощью стандартных функций var и std:"
   ]
  },
  {
   "cell_type": "code",
   "execution_count": 269,
   "metadata": {},
   "outputs": [
    {
     "data": {
      "text/html": [
       "<div>\n",
       "<style scoped>\n",
       "    .dataframe tbody tr th:only-of-type {\n",
       "        vertical-align: middle;\n",
       "    }\n",
       "\n",
       "    .dataframe tbody tr th {\n",
       "        vertical-align: top;\n",
       "    }\n",
       "\n",
       "    .dataframe thead tr th {\n",
       "        text-align: left;\n",
       "    }\n",
       "\n",
       "    .dataframe thead tr:last-of-type th {\n",
       "        text-align: right;\n",
       "    }\n",
       "</style>\n",
       "<table border=\"1\" class=\"dataframe\">\n",
       "  <thead>\n",
       "    <tr>\n",
       "      <th></th>\n",
       "      <th>mean</th>\n",
       "      <th>median</th>\n",
       "      <th>var</th>\n",
       "      <th>std</th>\n",
       "    </tr>\n",
       "    <tr>\n",
       "      <th></th>\n",
       "      <th>minutes_total</th>\n",
       "      <th>minutes_total</th>\n",
       "      <th>minutes_total</th>\n",
       "      <th>minutes_total</th>\n",
       "    </tr>\n",
       "    <tr>\n",
       "      <th>tariff</th>\n",
       "      <th></th>\n",
       "      <th></th>\n",
       "      <th></th>\n",
       "      <th></th>\n",
       "    </tr>\n",
       "  </thead>\n",
       "  <tbody>\n",
       "    <tr>\n",
       "      <th>smart</th>\n",
       "      <td>437.354286</td>\n",
       "      <td>439.5</td>\n",
       "      <td>25686.080426</td>\n",
       "      <td>160.268776</td>\n",
       "    </tr>\n",
       "    <tr>\n",
       "      <th>ultra</th>\n",
       "      <td>557.391892</td>\n",
       "      <td>535.0</td>\n",
       "      <td>92272.185512</td>\n",
       "      <td>303.763371</td>\n",
       "    </tr>\n",
       "  </tbody>\n",
       "</table>\n",
       "</div>"
      ],
      "text/plain": [
       "                mean        median           var           std\n",
       "       minutes_total minutes_total minutes_total minutes_total\n",
       "tariff                                                        \n",
       "smart     437.354286         439.5  25686.080426    160.268776\n",
       "ultra     557.391892         535.0  92272.185512    303.763371"
      ]
     },
     "execution_count": 269,
     "metadata": {},
     "output_type": "execute_result"
    }
   ],
   "source": [
    "calls_pivot = user_pivot.pivot_table(index='tariff', values='minutes_total', aggfunc=['mean', 'median', 'var', 'std'])\n",
    "calls_pivot"
   ]
  },
  {
   "cell_type": "markdown",
   "metadata": {},
   "source": [
    "Построим графики распределения:"
   ]
  },
  {
   "cell_type": "code",
   "execution_count": 270,
   "metadata": {},
   "outputs": [
    {
     "data": {
      "image/png": "[encoded data removed]",
      "text/plain": [
       "<Figure size 1152x504 with 2 Axes>"
      ]
     },
     "metadata": {
      "needs_background": "light"
     },
     "output_type": "display_data"
    }
   ],
   "source": [
    "visualize('minutes_total')"
   ]
  },
  {
   "cell_type": "markdown",
   "metadata": {},
   "source": [
    "Поскольку распределения явно различны, оценим также плотность и размах с помощью violin plot."
   ]
  },
  {
   "cell_type": "markdown",
   "metadata": {},
   "source": [
    "В среднем абонент тарифа ***smart*** проговаривает в месяц около 440 минут, а абонент тарифа ***ultra*** - около 560 минут (535 по медиане). Дисперсия и стандартное отклонение на тарифе ***ultra*** заметно выше, что говорит о большом размахе значений (это подтвержадается графиками размаха и плотности распределения). Можно заключить, что хотя средний пользователь ***smart*** вписывается в 500 минут лимита, пользователи ***ultra*** чувствуют себя менее стесненными: по диаграмме размаха значимая длительность разговоров доходит до 1300 минут против порядка 850 у ***smart***."
   ]
  },
  {
   "cell_type": "markdown",
   "metadata": {},
   "source": [
    "### Сообщения"
   ]
  },
  {
   "cell_type": "code",
   "execution_count": 271,
   "metadata": {},
   "outputs": [
    {
     "data": {
      "text/html": [
       "<div>\n",
       "<style scoped>\n",
       "    .dataframe tbody tr th:only-of-type {\n",
       "        vertical-align: middle;\n",
       "    }\n",
       "\n",
       "    .dataframe tbody tr th {\n",
       "        vertical-align: top;\n",
       "    }\n",
       "\n",
       "    .dataframe thead tr th {\n",
       "        text-align: left;\n",
       "    }\n",
       "\n",
       "    .dataframe thead tr:last-of-type th {\n",
       "        text-align: right;\n",
       "    }\n",
       "</style>\n",
       "<table border=\"1\" class=\"dataframe\">\n",
       "  <thead>\n",
       "    <tr>\n",
       "      <th></th>\n",
       "      <th>mean</th>\n",
       "      <th>median</th>\n",
       "      <th>var</th>\n",
       "      <th>std</th>\n",
       "    </tr>\n",
       "    <tr>\n",
       "      <th></th>\n",
       "      <th>message_count</th>\n",
       "      <th>message_count</th>\n",
       "      <th>message_count</th>\n",
       "      <th>message_count</th>\n",
       "    </tr>\n",
       "    <tr>\n",
       "      <th>tariff</th>\n",
       "      <th></th>\n",
       "      <th></th>\n",
       "      <th></th>\n",
       "      <th></th>\n",
       "    </tr>\n",
       "  </thead>\n",
       "  <tbody>\n",
       "    <tr>\n",
       "      <th>smart</th>\n",
       "      <td>33.674286</td>\n",
       "      <td>28</td>\n",
       "      <td>783.784724</td>\n",
       "      <td>27.996156</td>\n",
       "    </tr>\n",
       "    <tr>\n",
       "      <th>ultra</th>\n",
       "      <td>56.891892</td>\n",
       "      <td>47</td>\n",
       "      <td>2422.654900</td>\n",
       "      <td>49.220472</td>\n",
       "    </tr>\n",
       "  </tbody>\n",
       "</table>\n",
       "</div>"
      ],
      "text/plain": [
       "                mean        median           var           std\n",
       "       message_count message_count message_count message_count\n",
       "tariff                                                        \n",
       "smart      33.674286            28    783.784724     27.996156\n",
       "ultra      56.891892            47   2422.654900     49.220472"
      ]
     },
     "execution_count": 271,
     "metadata": {},
     "output_type": "execute_result"
    }
   ],
   "source": [
    "message_pivot = user_pivot.pivot_table(index='tariff', values='message_count', aggfunc=['mean', 'median', 'var', 'std'])\n",
    "message_pivot"
   ]
  },
  {
   "cell_type": "code",
   "execution_count": 272,
   "metadata": {},
   "outputs": [
    {
     "data": {
      "image/png": "[encoded data removed]",
      "text/plain": [
       "<Figure size 1152x504 with 2 Axes>"
      ]
     },
     "metadata": {
      "needs_background": "light"
     },
     "output_type": "display_data"
    }
   ],
   "source": [
    "visualize('message_count')"
   ]
  },
  {
   "cell_type": "markdown",
   "metadata": {},
   "source": [
    "В среднем абонент тарифа ***smart*** рассылает порядка одного сообщения в день, а абонент тарифа ***ultra*** - в полтора-два раза больше. Дисперсия и стандартное отклонение на тарифе ***ultra*** также выше, что подтверждается большим разбросом значений: в пределы диаграммы размаха входят значения вплоть до 190 против около 110 у ***smart***."
   ]
  },
  {
   "cell_type": "markdown",
   "metadata": {},
   "source": [
    "### Объем трафика"
   ]
  },
  {
   "cell_type": "code",
   "execution_count": 273,
   "metadata": {},
   "outputs": [
    {
     "data": {
      "text/html": [
       "<div>\n",
       "<style scoped>\n",
       "    .dataframe tbody tr th:only-of-type {\n",
       "        vertical-align: middle;\n",
       "    }\n",
       "\n",
       "    .dataframe tbody tr th {\n",
       "        vertical-align: top;\n",
       "    }\n",
       "\n",
       "    .dataframe thead tr th {\n",
       "        text-align: left;\n",
       "    }\n",
       "\n",
       "    .dataframe thead tr:last-of-type th {\n",
       "        text-align: right;\n",
       "    }\n",
       "</style>\n",
       "<table border=\"1\" class=\"dataframe\">\n",
       "  <thead>\n",
       "    <tr>\n",
       "      <th></th>\n",
       "      <th>mean</th>\n",
       "      <th>median</th>\n",
       "      <th>var</th>\n",
       "      <th>std</th>\n",
       "    </tr>\n",
       "    <tr>\n",
       "      <th></th>\n",
       "      <th>mb_total</th>\n",
       "      <th>mb_total</th>\n",
       "      <th>mb_total</th>\n",
       "      <th>mb_total</th>\n",
       "    </tr>\n",
       "    <tr>\n",
       "      <th>tariff</th>\n",
       "      <th></th>\n",
       "      <th></th>\n",
       "      <th></th>\n",
       "      <th></th>\n",
       "    </tr>\n",
       "  </thead>\n",
       "  <tbody>\n",
       "    <tr>\n",
       "      <th>smart</th>\n",
       "      <td>16832.320000</td>\n",
       "      <td>16925.5</td>\n",
       "      <td>1.742409e+07</td>\n",
       "      <td>4174.216817</td>\n",
       "    </tr>\n",
       "    <tr>\n",
       "      <th>ultra</th>\n",
       "      <td>20303.804054</td>\n",
       "      <td>19733.5</td>\n",
       "      <td>7.908526e+07</td>\n",
       "      <td>8892.989279</td>\n",
       "    </tr>\n",
       "  </tbody>\n",
       "</table>\n",
       "</div>"
      ],
      "text/plain": [
       "                mean   median           var          std\n",
       "            mb_total mb_total      mb_total     mb_total\n",
       "tariff                                                  \n",
       "smart   16832.320000  16925.5  1.742409e+07  4174.216817\n",
       "ultra   20303.804054  19733.5  7.908526e+07  8892.989279"
      ]
     },
     "execution_count": 273,
     "metadata": {},
     "output_type": "execute_result"
    }
   ],
   "source": [
    "internet_pivot = user_pivot.pivot_table(index='tariff', values='mb_total', aggfunc=['mean', 'median', 'var', 'std'])\n",
    "internet_pivot"
   ]
  },
  {
   "cell_type": "code",
   "execution_count": 274,
   "metadata": {},
   "outputs": [
    {
     "data": {
      "image/png": "[encoded data removed]",
      "text/plain": [
       "<Figure size 1152x504 with 2 Axes>"
      ]
     },
     "metadata": {
      "needs_background": "light"
     },
     "output_type": "display_data"
    }
   ],
   "source": [
    "visualize('mb_total')"
   ]
  },
  {
   "cell_type": "markdown",
   "metadata": {},
   "source": [
    "В среднем абонент тарифа ***smart*** расходует за месяц около 17 ГБ трафика, а абонент тарифа ***ultra*** - 19-20 ГБ. Дисперсия и стандартное отклонение на тарифе ***ultra*** и здесь выше, чем на ***smart***. Можно отметить, что даже среднестатистический пользователь ***smart*** не вписывается в лимит 15 ГБ и вынужден докупать трафик. В целом же значимая выборка на диаграмме размаха покрывает значения до примерно 27 ГБ для ***smart***, а для ***ultra*** приближается к 40 ГБ.\n",
    "\n",
    "Распределение в целом очень похоже на распределение длительности разговоров, однако ***smart*** демонстирует сравнительно большой хвост выбросов."
   ]
  },
  {
   "cell_type": "markdown",
   "metadata": {},
   "source": [
    "### Дополнительно: распределение по месяцам"
   ]
  },
  {
   "cell_type": "markdown",
   "metadata": {},
   "source": [
    "Исследование не ставит нам задачи изучать потребление помесячно, однако в рамках глобальной цели (выбора оптимального тарифа) небольшой обзор будет полезен."
   ]
  },
  {
   "cell_type": "code",
   "execution_count": 275,
   "metadata": {},
   "outputs": [
    {
     "data": {
      "image/png": "[encoded data removed]",
      "text/plain": [
       "<Figure size 1152x720 with 4 Axes>"
      ]
     },
     "metadata": {
      "needs_background": "light"
     },
     "output_type": "display_data"
    }
   ],
   "source": [
    "month_ticks=['январь', 'февраль', 'март', 'апрель', 'май', 'июнь', 'июль', 'август', 'сентябрь', 'октябрь', 'ноябрь', 'декабрь']\n",
    "column_list=['minutes_total', 'message_count', 'mb_total', 'revenue']\n",
    "\n",
    "# Сгруппируем данные по месяцам и построим соответствующие диаграммы.\n",
    "month_pivot = joint_pivot.pivot_table(index=['month'], columns='tariff', values=column_list)\n",
    "\n",
    "fig, axes = plt.subplots(2, 2, figsize=(16,10), constrained_layout=True)\n",
    "\n",
    "for column, ax in zip(column_list, axes.flat):\n",
    "    month_pivot[column].plot(ax=ax, kind='bar')\n",
    "    ax.set(xticklabels=month_ticks, title='Распределение по месяцам: ' + translations[column]['title'], xlabel='Месяц', ylabel='Cредний расход, ' + translations[column]['unit'])"
   ]
  },
  {
   "cell_type": "markdown",
   "metadata": {},
   "source": [
    "Что мы видим в целом? Потребление услуг в течение года в основом росло: более активно на тарифе ***ultra***, где пользователи меньше ограничены лимитами, менее заметно на ***smart*** (среднее число сообщений, например, к лету примерно стабилизировалось). Тем не менее, расходы на тарифе ***smart*** неуклонно растут - пользователям явно не хватает стандартного пакета. В то же время средние расходы на ***ultra*** примерно стабильны, среднему пользователю хватает пакета услуг с запасом."
   ]
  },
  {
   "cell_type": "markdown",
   "metadata": {},
   "source": [
    "### Вывод"
   ]
  },
  {
   "cell_type": "markdown",
   "metadata": {},
   "source": [
    "В среднем абонент тарифа ***smart*** проговаривает в месяц около 440 минут, отправляет порядка 30 сообщений и расходует примерно 17 ГБ трафика, а абонент тарифа ***ultra*** - соответственно около 535-560 минут, 50-60 сообщений и 19-20 ГБ. Дисперсия и стандартное отклонение на тарифе ***ultra*** по всем параметрам выше, размах значений больше.\n",
    "\n",
    "Распределения длительности разговоров и трафика достаточно симметричны и близки к нормальным с тяжелыми \"хвостами\". Их можно считать примером T-распределений Стьюдента. Распределение на тарифе ***ultra*** существенно более плавное, среднее и медиана смещены вправо отностительно ***smart***.\n",
    "\n",
    "Распределение количества сообщений существенно скошено вправо (среднее значение выше медианы) и близко к распределению Пуассона.\n",
    "\n",
    "Можно заключить, что пользователи ***smart*** чувствуют себя более стесненными, как минимум в отношении лимитов минут и трафика. Потребление услуг на обоих тарифах растет, но на ***ultra*** растет заметно быстрее."
   ]
  },
  {
   "cell_type": "markdown",
   "metadata": {},
   "source": [
    "## Статистический анализ"
   ]
  },
  {
   "cell_type": "markdown",
   "metadata": {},
   "source": [
    "### Средняя выручка по тарифам"
   ]
  },
  {
   "cell_type": "markdown",
   "metadata": {},
   "source": [
    "Нам предстоит проверить гипотезу о том, что средняя выручка пользователей тарифов ***ultra*** и ***smart*** различается, или, говоря строго:\n",
    "- *нулевая гипотеза* (H<sub>0</sub>): средние выручки пользователей тарифов ***ultra*** и ***smart*** равны;\n",
    "- *альтернативная гипотеза* (H<sub>1</sub>): средние выручки пользователей двух тарифов не равны.\n",
    "\n",
    "Это типичная гипотеза о равенстве среднего двух генеральных совокупностей по выборкам из них. Выборки независимы, поэтому воспользуемся соответствующим T-тестом для двух независимых выборок (*ttest_ind()*). Уровень значимости критерия Стьюдента примем в 0.01%\n",
    "\n",
    "Оценим различие в дисперсии двух выборок:"
   ]
  },
  {
   "cell_type": "code",
   "execution_count": 276,
   "metadata": {},
   "outputs": [
    {
     "data": {
      "text/plain": [
       "521031.2232910356"
      ]
     },
     "execution_count": 276,
     "metadata": {},
     "output_type": "execute_result"
    }
   ],
   "source": [
    "df_smart['revenue'].var(ddof=1)"
   ]
  },
  {
   "cell_type": "code",
   "execution_count": 277,
   "metadata": {},
   "outputs": [
    {
     "data": {
      "text/plain": [
       "89118.86376172092"
      ]
     },
     "execution_count": 277,
     "metadata": {},
     "output_type": "execute_result"
    }
   ],
   "source": [
    "df_ultra['revenue'].var(ddof=1)"
   ]
  },
  {
   "cell_type": "markdown",
   "metadata": {},
   "source": [
    "Разница существенна, поэтому будем использовать параметр `equal_var=False`:"
   ]
  },
  {
   "cell_type": "code",
   "execution_count": 278,
   "metadata": {},
   "outputs": [
    {
     "name": "stdout",
     "output_type": "stream",
     "text": [
      "P-значение: 2.040936841408498e-49\n",
      "Отвергаем нулевую гипотезу\n"
     ]
    }
   ],
   "source": [
    "alpha = 0.0001\n",
    "results1 = st.ttest_ind (df_smart['revenue'], df_ultra['revenue'], equal_var=False) \n",
    "\n",
    "print ('P-значение:', results1.pvalue)\n",
    "\n",
    "if (results1.pvalue < alpha):\n",
    "    print(\"Отвергаем нулевую гипотезу\")\n",
    "else:\n",
    "    print(\"Не получилось отвергнуть нулевую гипотезу\")"
   ]
  },
  {
   "cell_type": "code",
   "execution_count": 279,
   "metadata": {},
   "outputs": [
    {
     "data": {
      "text/html": [
       "<div>\n",
       "<style scoped>\n",
       "    .dataframe tbody tr th:only-of-type {\n",
       "        vertical-align: middle;\n",
       "    }\n",
       "\n",
       "    .dataframe tbody tr th {\n",
       "        vertical-align: top;\n",
       "    }\n",
       "\n",
       "    .dataframe thead tr th {\n",
       "        text-align: left;\n",
       "    }\n",
       "\n",
       "    .dataframe thead tr:last-of-type th {\n",
       "        text-align: right;\n",
       "    }\n",
       "</style>\n",
       "<table border=\"1\" class=\"dataframe\">\n",
       "  <thead>\n",
       "    <tr>\n",
       "      <th></th>\n",
       "      <th>mean</th>\n",
       "      <th>median</th>\n",
       "    </tr>\n",
       "    <tr>\n",
       "      <th></th>\n",
       "      <th>revenue</th>\n",
       "      <th>revenue</th>\n",
       "    </tr>\n",
       "    <tr>\n",
       "      <th>tariff</th>\n",
       "      <th></th>\n",
       "      <th></th>\n",
       "    </tr>\n",
       "  </thead>\n",
       "  <tbody>\n",
       "    <tr>\n",
       "      <th>smart</th>\n",
       "      <td>1303.614286</td>\n",
       "      <td>1150</td>\n",
       "    </tr>\n",
       "    <tr>\n",
       "      <th>ultra</th>\n",
       "      <td>2061.486486</td>\n",
       "      <td>1950</td>\n",
       "    </tr>\n",
       "  </tbody>\n",
       "</table>\n",
       "</div>"
      ],
      "text/plain": [
       "               mean  median\n",
       "            revenue revenue\n",
       "tariff                     \n",
       "smart   1303.614286    1150\n",
       "ultra   2061.486486    1950"
      ]
     },
     "execution_count": 279,
     "metadata": {},
     "output_type": "execute_result"
    }
   ],
   "source": [
    "user_pivot.pivot_table(index='tariff', values='revenue', aggfunc=['mean','median'])"
   ]
  },
  {
   "cell_type": "markdown",
   "metadata": {},
   "source": [
    "В нашей выборке средняя выручка различается весьма существенно: более чем в полтора раза в пользу тарифа ***ultra***. Очень маленькое P-значение недвусмысленно утверждает: вероятность того, что это случайность, **крайне мала**."
   ]
  },
  {
   "cell_type": "markdown",
   "metadata": {},
   "source": [
    "### Средняя выручка по местоположению"
   ]
  },
  {
   "cell_type": "markdown",
   "metadata": {},
   "source": [
    "Следующая гипотеза о том, что средняя выручка пользователей из Москвы отличается от средней выручки в других городах. Иными словами:\n",
    "- *нулевая гипотеза* (H<sub>0</sub>): средние выручки пользователей из Москвы и не из Москвы равны;\n",
    "- *альтернативная гипотеза* (H<sub>1</sub>): средние выручки не равны.\n",
    "\n",
    "Это также гипотеза о равенстве среднего двух генеральных совокупностей по выборкам, и выборки также независимы. Уровень значимости примем в 5%.\n",
    "\n",
    "Оценим различие в дисперсии двух выборок:"
   ]
  },
  {
   "cell_type": "code",
   "execution_count": 280,
   "metadata": {},
   "outputs": [
    {
     "data": {
      "text/plain": [
       "393186.57101628534"
      ]
     },
     "execution_count": 280,
     "metadata": {},
     "output_type": "execute_result"
    }
   ],
   "source": [
    "df_moscow = user_pivot.query('city == \"Москва\"')\n",
    "df_outside = user_pivot.query('city != \"Москва\"')\n",
    "\n",
    "df_moscow['revenue'].var(ddof=1)"
   ]
  },
  {
   "cell_type": "code",
   "execution_count": 281,
   "metadata": {},
   "outputs": [
    {
     "data": {
      "text/plain": [
       "541837.5083059408"
      ]
     },
     "execution_count": 281,
     "metadata": {},
     "output_type": "execute_result"
    }
   ],
   "source": [
    "df_outside['revenue'].var(ddof=1)"
   ]
  },
  {
   "cell_type": "markdown",
   "metadata": {},
   "source": [
    "Дисперсия, как и в прошлом случае, различна:"
   ]
  },
  {
   "cell_type": "code",
   "execution_count": 282,
   "metadata": {},
   "outputs": [
    {
     "name": "stdout",
     "output_type": "stream",
     "text": [
      "P-значение: 0.27808329444484664\n",
      "Не получилось отвергнуть нулевую гипотезу\n"
     ]
    }
   ],
   "source": [
    "alpha = 0.05\n",
    "results2 = st.ttest_ind (df_moscow['revenue'], df_outside['revenue'], equal_var=False) \n",
    "print ('P-значение:', results2.pvalue)\n",
    "\n",
    "if (results2.pvalue < alpha):\n",
    "    print(\"Отвергаем нулевую гипотезу\")\n",
    "else:\n",
    "    print(\"Не получилось отвергнуть нулевую гипотезу\")"
   ]
  },
  {
   "cell_type": "code",
   "execution_count": 283,
   "metadata": {},
   "outputs": [
    {
     "data": {
      "text/html": [
       "<div>\n",
       "<style scoped>\n",
       "    .dataframe tbody tr th:only-of-type {\n",
       "        vertical-align: middle;\n",
       "    }\n",
       "\n",
       "    .dataframe tbody tr th {\n",
       "        vertical-align: top;\n",
       "    }\n",
       "\n",
       "    .dataframe thead tr th {\n",
       "        text-align: left;\n",
       "    }\n",
       "\n",
       "    .dataframe thead tr:last-of-type th {\n",
       "        text-align: right;\n",
       "    }\n",
       "</style>\n",
       "<table border=\"1\" class=\"dataframe\">\n",
       "  <thead>\n",
       "    <tr>\n",
       "      <th></th>\n",
       "      <th>mean</th>\n",
       "      <th>median</th>\n",
       "    </tr>\n",
       "    <tr>\n",
       "      <th></th>\n",
       "      <th>revenue</th>\n",
       "      <th>revenue</th>\n",
       "    </tr>\n",
       "    <tr>\n",
       "      <th>province</th>\n",
       "      <th></th>\n",
       "      <th></th>\n",
       "    </tr>\n",
       "  </thead>\n",
       "  <tbody>\n",
       "    <tr>\n",
       "      <th>Москва</th>\n",
       "      <td>1465.202020</td>\n",
       "      <td>1559</td>\n",
       "    </tr>\n",
       "    <tr>\n",
       "      <th>Другой</th>\n",
       "      <td>1544.636591</td>\n",
       "      <td>1550</td>\n",
       "    </tr>\n",
       "  </tbody>\n",
       "</table>\n",
       "</div>"
      ],
      "text/plain": [
       "                 mean  median\n",
       "              revenue revenue\n",
       "province                     \n",
       "Москва    1465.202020    1559\n",
       "Другой    1544.636591    1550"
      ]
     },
     "execution_count": 283,
     "metadata": {},
     "output_type": "execute_result"
    }
   ],
   "source": [
    "# В ближайшем будущем pandas перестанет поддерживать неявную конверсию между строками и категориями:\n",
    "user_pivot['city'] = user_pivot['city'].cat.add_categories('Другой')\n",
    "\n",
    "# Категоризуем все города по принципу Москва - не Москва и подсчитаем среднюю выручку:\n",
    "user_pivot['province'] = user_pivot['city'].where(user_pivot['city'] == \"Москва\", \"Другой\")\n",
    "user_pivot.pivot_table (index='province', values='revenue', aggfunc=['mean', 'median'])"
   ]
  },
  {
   "cell_type": "markdown",
   "metadata": {},
   "source": [
    "Разница в средней выручке в нашей выборке присутствует, но высокое P-значение свидетельствует: этого недостаточно, чтобы судить о неравенстве на генеральной совокупности."
   ]
  },
  {
   "cell_type": "markdown",
   "metadata": {},
   "source": [
    "### Вывод"
   ]
  },
  {
   "cell_type": "markdown",
   "metadata": {},
   "source": [
    "Мы проверили две нулевых гипотезы:\n",
    "\n",
    "- средняя выручка с пользователей на тарифах ***smart*** и ***ultra*** равны;\n",
    "- средняя выручка с пользователей в Москве и других городах равны.\n",
    "\n",
    "В качестве альтернативных гипотез были выбраны утверждения, что соответствующие средние выручки не равны. Проверка с использованием Т-теста для двух независимых выборок показала:\n",
    "\n",
    "- первая гипотеза может быть спокойно отвергнута с уровнем значимости 0,01%: P-значение очень мало;\n",
    "- вторая гипотеза не может быть отвергнута даже с относительно большим уровнем значимости 5%. Наблюдаемое небольшое различие средней выручки может быть случайным.\n",
    "\n",
    "Можно заключить, что:\n",
    "\n",
    "- средняя выручка на двух тарифах действительно отличается;\n",
    "- наблюдаемая в нашей выборке разница средней выручки между Москвой и другими городами с должной достоверностью не подтверждается."
   ]
  },
  {
   "cell_type": "markdown",
   "metadata": {},
   "source": [
    "## Общий вывод"
   ]
  },
  {
   "cell_type": "markdown",
   "metadata": {},
   "source": [
    "Мы проанализировали данные о пользователях двух разных тарифов, использовании ими услуг связи и соответствующей выручке оператора. Мы можем сделать следующие выводы:\n",
    "\n",
    "В среднем абонент тарифа ***smart*** проговаривает в месяц около 440 минут, отправляет порядка 30 сообщений и расходует примерно 17 ГБ трафика, а абонент тарифа ***ultra*** - соответственно около 535-560 минут, 50-60 сообщений и 19-20 ГБ. Дисперсия и стандартное отклонение на тарифе ***ultra*** по всем параметрам выше, размах значений больше.\n",
    "\n",
    "Можно заключить, что пользователи ***smart*** чувствуют себя более стесненными лимитами, причем с течением времени все больше: их расходы на услуги сверх пакета растут. При этом потребление услуг в целом растет на обоих тарифах.\n",
    "\n",
    "В предоставленной выборке средняя выручка с пользователя тарифа ***ultra*** более чем в потора раза выше, чем с пользователя тарифа ***smart*** (более 2000 р против 1300, или 1950 против 1150 по медиане), что подтверждается статистическим тестом. Это особенно показательно, учитывая, что медианная выручка по ***ultra*** равна абонентской плате, а в случае ***smart*** превышает ее вдвое - то есть даже при том, что пользователи ***smart*** постоянно переплачивают за услуги, не входящие в базовый пакет, ***ultra*** выглядит более прибыльным.\n",
    "\n",
    "Наблюдаемая в выборке небольшая разница средней выручки между Москвой и другими городами не подтверждается статистическим тестом с должной достоверностью: с большой долей вероятности она случайна."
   ]
  },
  {
   "cell_type": "markdown",
   "metadata": {},
   "source": [
    "### Рекомендации по заполнению данных"
   ]
  },
  {
   "cell_type": "markdown",
   "metadata": {},
   "source": [
    "Выгрузка данных достаточно качественная. Требует прояснения лишь вопрос с интернет-сессиями с нулевым объемом трафика, столь большое их число выглядит необычно и может указывать на неполадки с предоставлением услуги или подсчетом трафика. Также по двум пользователям, присутствующим в базе данных, нет никаких данных по использованию услуг."
   ]
  }
 ],
 "metadata": {
  "ExecuteTimeLog": [
   {
    "duration": 1452,
    "start_time": "2021-09-27T11:03:43.838Z"
   },
   {
    "duration": 221,
    "start_time": "2021-09-27T11:05:33.606Z"
   },
   {
    "duration": 241,
    "start_time": "2021-09-27T11:05:47.467Z"
   },
   {
    "duration": 25,
    "start_time": "2021-09-27T11:05:54.456Z"
   },
   {
    "duration": 39,
    "start_time": "2021-09-27T11:06:07.909Z"
   },
   {
    "duration": 44,
    "start_time": "2021-09-27T11:06:15.018Z"
   },
   {
    "duration": 483,
    "start_time": "2021-09-27T11:17:58.007Z"
   },
   {
    "duration": 129,
    "start_time": "2021-09-27T11:18:07.187Z"
   },
   {
    "duration": 190,
    "start_time": "2021-09-27T11:28:33.858Z"
   },
   {
    "duration": 12,
    "start_time": "2021-09-27T11:28:34.708Z"
   },
   {
    "duration": 95,
    "start_time": "2021-09-27T11:28:35.268Z"
   },
   {
    "duration": 42,
    "start_time": "2021-09-27T11:28:36.798Z"
   },
   {
    "duration": 202,
    "start_time": "2021-09-27T11:30:03.830Z"
   },
   {
    "duration": 11,
    "start_time": "2021-09-27T11:30:04.578Z"
   },
   {
    "duration": 71,
    "start_time": "2021-09-27T11:30:05.158Z"
   },
   {
    "duration": 37,
    "start_time": "2021-09-27T11:30:05.758Z"
   },
   {
    "duration": 36,
    "start_time": "2021-09-27T11:33:18.768Z"
   },
   {
    "duration": 41,
    "start_time": "2021-09-27T11:33:22.716Z"
   },
   {
    "duration": 146,
    "start_time": "2021-09-27T11:34:58.158Z"
   },
   {
    "duration": 10,
    "start_time": "2021-09-27T11:34:58.488Z"
   },
   {
    "duration": 18,
    "start_time": "2021-09-27T11:34:58.927Z"
   },
   {
    "duration": 25,
    "start_time": "2021-09-27T11:34:59.368Z"
   },
   {
    "duration": 137,
    "start_time": "2021-09-27T11:35:06.908Z"
   },
   {
    "duration": 10,
    "start_time": "2021-09-27T11:35:07.308Z"
   },
   {
    "duration": 59,
    "start_time": "2021-09-27T11:35:07.809Z"
   },
   {
    "duration": 25,
    "start_time": "2021-09-27T11:35:08.362Z"
   },
   {
    "duration": 24,
    "start_time": "2021-09-27T11:37:21.374Z"
   },
   {
    "duration": 12,
    "start_time": "2021-09-27T11:37:21.828Z"
   },
   {
    "duration": 8,
    "start_time": "2021-09-27T11:37:22.428Z"
   },
   {
    "duration": 46,
    "start_time": "2021-09-27T11:37:22.927Z"
   },
   {
    "duration": 59,
    "start_time": "2021-09-27T11:47:02.116Z"
   },
   {
    "duration": 14,
    "start_time": "2021-09-27T11:47:02.606Z"
   },
   {
    "duration": 9,
    "start_time": "2021-09-27T11:47:03.138Z"
   },
   {
    "duration": 27,
    "start_time": "2021-09-27T11:47:03.625Z"
   },
   {
    "duration": 435,
    "start_time": "2021-09-27T12:10:52.227Z"
   },
   {
    "duration": 8,
    "start_time": "2021-09-27T12:11:05.197Z"
   },
   {
    "duration": 398,
    "start_time": "2021-09-27T12:11:15.608Z"
   },
   {
    "duration": 8,
    "start_time": "2021-09-27T12:11:26.648Z"
   },
   {
    "duration": 7,
    "start_time": "2021-09-27T12:19:54.029Z"
   },
   {
    "duration": 47,
    "start_time": "2021-09-27T12:35:56.908Z"
   },
   {
    "duration": 60,
    "start_time": "2021-09-27T12:38:03.868Z"
   },
   {
    "duration": 17,
    "start_time": "2021-09-27T12:38:13.081Z"
   },
   {
    "duration": 10,
    "start_time": "2021-09-27T12:38:28.768Z"
   },
   {
    "duration": 23,
    "start_time": "2021-09-27T12:41:22.057Z"
   },
   {
    "duration": 10,
    "start_time": "2021-09-27T13:03:11.568Z"
   },
   {
    "duration": 7,
    "start_time": "2021-09-27T13:03:39.948Z"
   },
   {
    "duration": 9,
    "start_time": "2021-09-27T13:03:46.858Z"
   },
   {
    "duration": 10,
    "start_time": "2021-09-27T13:03:56.555Z"
   },
   {
    "duration": 399,
    "start_time": "2021-09-27T13:04:20.710Z"
   },
   {
    "duration": 11,
    "start_time": "2021-09-27T13:04:29.817Z"
   },
   {
    "duration": 9,
    "start_time": "2021-09-27T13:04:42.098Z"
   },
   {
    "duration": 7,
    "start_time": "2021-09-27T13:04:57.908Z"
   },
   {
    "duration": 6,
    "start_time": "2021-09-27T13:05:15.768Z"
   },
   {
    "duration": 9,
    "start_time": "2021-09-27T13:05:31.708Z"
   },
   {
    "duration": 8,
    "start_time": "2021-09-27T13:05:42.310Z"
   },
   {
    "duration": 10,
    "start_time": "2021-09-27T13:06:03.787Z"
   },
   {
    "duration": 5,
    "start_time": "2021-09-27T13:09:42.508Z"
   },
   {
    "duration": 6,
    "start_time": "2021-09-27T13:10:04.238Z"
   },
   {
    "duration": 6,
    "start_time": "2021-09-27T13:10:14.768Z"
   },
   {
    "duration": 7,
    "start_time": "2021-09-27T13:10:33.047Z"
   },
   {
    "duration": 6,
    "start_time": "2021-09-27T13:15:26.144Z"
   },
   {
    "duration": 6,
    "start_time": "2021-09-27T13:15:26.917Z"
   },
   {
    "duration": 6,
    "start_time": "2021-09-27T13:15:51.208Z"
   },
   {
    "duration": 5,
    "start_time": "2021-09-27T13:15:53.056Z"
   },
   {
    "duration": 8,
    "start_time": "2021-09-27T13:15:55.038Z"
   },
   {
    "duration": 7,
    "start_time": "2021-09-27T13:15:55.694Z"
   },
   {
    "duration": 7,
    "start_time": "2021-09-27T13:15:56.333Z"
   },
   {
    "duration": 5,
    "start_time": "2021-09-27T13:16:15.336Z"
   },
   {
    "duration": 6,
    "start_time": "2021-09-27T13:16:15.888Z"
   },
   {
    "duration": 6,
    "start_time": "2021-09-27T13:16:16.999Z"
   },
   {
    "duration": 5,
    "start_time": "2021-09-27T13:16:39.026Z"
   },
   {
    "duration": 6,
    "start_time": "2021-09-27T13:16:39.434Z"
   },
   {
    "duration": 7,
    "start_time": "2021-09-27T13:16:41.577Z"
   },
   {
    "duration": 7,
    "start_time": "2021-09-27T13:16:42.501Z"
   },
   {
    "duration": 10,
    "start_time": "2021-09-27T13:17:21.508Z"
   },
   {
    "duration": 6,
    "start_time": "2021-09-27T13:17:52.308Z"
   },
   {
    "duration": 11,
    "start_time": "2021-09-27T13:17:54.238Z"
   },
   {
    "duration": 6,
    "start_time": "2021-09-27T13:18:05.588Z"
   },
   {
    "duration": 12,
    "start_time": "2021-09-27T13:18:07.598Z"
   },
   {
    "duration": 6,
    "start_time": "2021-09-27T13:18:18.338Z"
   },
   {
    "duration": 12,
    "start_time": "2021-09-27T13:18:20.088Z"
   },
   {
    "duration": 801,
    "start_time": "2021-09-27T13:19:00.355Z"
   },
   {
    "duration": 244,
    "start_time": "2021-09-27T13:19:01.159Z"
   },
   {
    "duration": 23,
    "start_time": "2021-09-27T13:19:01.415Z"
   },
   {
    "duration": 153,
    "start_time": "2021-09-27T13:19:01.442Z"
   },
   {
    "duration": 58,
    "start_time": "2021-09-27T13:19:01.598Z"
   },
   {
    "duration": 210,
    "start_time": "2021-09-27T13:19:01.659Z"
   },
   {
    "duration": 12,
    "start_time": "2021-09-27T13:19:01.872Z"
   },
   {
    "duration": 87,
    "start_time": "2021-09-27T13:19:01.890Z"
   },
   {
    "duration": 60,
    "start_time": "2021-09-27T13:19:01.981Z"
   },
   {
    "duration": 133,
    "start_time": "2021-09-27T13:19:02.044Z"
   },
   {
    "duration": 11,
    "start_time": "2021-09-27T13:19:02.180Z"
   },
   {
    "duration": 56,
    "start_time": "2021-09-27T13:19:02.216Z"
   },
   {
    "duration": 53,
    "start_time": "2021-09-27T13:19:02.275Z"
   },
   {
    "duration": 26,
    "start_time": "2021-09-27T13:19:02.331Z"
   },
   {
    "duration": 21,
    "start_time": "2021-09-27T13:19:02.360Z"
   },
   {
    "duration": 23,
    "start_time": "2021-09-27T13:19:02.384Z"
   },
   {
    "duration": 43,
    "start_time": "2021-09-27T13:19:02.416Z"
   },
   {
    "duration": 33,
    "start_time": "2021-09-27T13:19:02.462Z"
   },
   {
    "duration": 20,
    "start_time": "2021-09-27T13:19:02.497Z"
   },
   {
    "duration": 47,
    "start_time": "2021-09-27T13:19:02.519Z"
   },
   {
    "duration": 25,
    "start_time": "2021-09-27T13:19:02.574Z"
   },
   {
    "duration": 116,
    "start_time": "2021-09-27T13:19:02.601Z"
   },
   {
    "duration": 6,
    "start_time": "2021-09-27T13:19:02.721Z"
   },
   {
    "duration": 26,
    "start_time": "2021-09-27T13:19:02.729Z"
   },
   {
    "duration": 24,
    "start_time": "2021-09-27T13:19:02.758Z"
   },
   {
    "duration": 14,
    "start_time": "2021-09-27T13:19:02.785Z"
   },
   {
    "duration": 23,
    "start_time": "2021-09-27T13:19:02.801Z"
   },
   {
    "duration": 12,
    "start_time": "2021-09-27T13:19:02.826Z"
   },
   {
    "duration": 12,
    "start_time": "2021-09-27T13:19:07.796Z"
   },
   {
    "duration": 6,
    "start_time": "2021-09-27T13:19:21.215Z"
   },
   {
    "duration": 11,
    "start_time": "2021-09-27T13:19:23.345Z"
   },
   {
    "duration": 5,
    "start_time": "2021-09-27T13:19:47.255Z"
   },
   {
    "duration": 8,
    "start_time": "2021-09-27T13:19:47.725Z"
   },
   {
    "duration": 8,
    "start_time": "2021-09-27T13:19:48.865Z"
   },
   {
    "duration": 9,
    "start_time": "2021-09-27T13:19:49.645Z"
   },
   {
    "duration": 5,
    "start_time": "2021-09-27T13:20:24.885Z"
   },
   {
    "duration": 10,
    "start_time": "2021-09-27T13:20:25.268Z"
   },
   {
    "duration": 130,
    "start_time": "2021-09-27T13:20:35.635Z"
   },
   {
    "duration": 10,
    "start_time": "2021-09-27T13:20:36.035Z"
   },
   {
    "duration": 6,
    "start_time": "2021-09-27T13:20:53.603Z"
   },
   {
    "duration": 6,
    "start_time": "2021-09-27T13:20:57.823Z"
   },
   {
    "duration": 7,
    "start_time": "2021-09-27T13:20:58.275Z"
   },
   {
    "duration": 10,
    "start_time": "2021-09-27T13:20:59.641Z"
   },
   {
    "duration": 9,
    "start_time": "2021-09-27T13:21:00.314Z"
   },
   {
    "duration": 23,
    "start_time": "2021-09-27T13:43:13.321Z"
   },
   {
    "duration": 430,
    "start_time": "2021-09-27T13:43:19.634Z"
   },
   {
    "duration": 1423,
    "start_time": "2021-09-27T13:43:31.112Z"
   },
   {
    "duration": 27,
    "start_time": "2021-09-27T13:44:08.225Z"
   },
   {
    "duration": 619,
    "start_time": "2021-09-27T13:44:32.635Z"
   },
   {
    "duration": 631,
    "start_time": "2021-09-27T13:45:45.495Z"
   },
   {
    "duration": 70,
    "start_time": "2021-09-27T14:07:57.215Z"
   },
   {
    "duration": 80,
    "start_time": "2021-09-27T14:08:11.155Z"
   },
   {
    "duration": 72,
    "start_time": "2021-09-27T14:08:18.985Z"
   },
   {
    "duration": 807,
    "start_time": "2021-09-27T14:09:28.853Z"
   },
   {
    "duration": 36,
    "start_time": "2021-09-27T14:09:47.644Z"
   },
   {
    "duration": 536,
    "start_time": "2021-09-27T14:10:19.615Z"
   },
   {
    "duration": 456,
    "start_time": "2021-09-27T14:10:33.075Z"
   },
   {
    "duration": 52,
    "start_time": "2021-09-27T14:10:40.616Z"
   },
   {
    "duration": 41,
    "start_time": "2021-09-27T14:10:54.905Z"
   },
   {
    "duration": 54,
    "start_time": "2021-09-27T14:11:42.009Z"
   },
   {
    "duration": 433,
    "start_time": "2021-09-27T14:20:59.465Z"
   },
   {
    "duration": 52,
    "start_time": "2021-09-27T14:21:08.075Z"
   },
   {
    "duration": 11,
    "start_time": "2021-09-27T14:21:10.186Z"
   },
   {
    "duration": 28,
    "start_time": "2021-09-27T14:21:18.366Z"
   },
   {
    "duration": 30,
    "start_time": "2021-09-27T14:21:32.095Z"
   },
   {
    "duration": 438,
    "start_time": "2021-09-27T14:22:44.004Z"
   },
   {
    "duration": 42,
    "start_time": "2021-09-27T14:22:48.695Z"
   },
   {
    "duration": 125,
    "start_time": "2021-09-27T14:22:49.694Z"
   },
   {
    "duration": 48,
    "start_time": "2021-09-27T14:23:06.935Z"
   },
   {
    "duration": 116,
    "start_time": "2021-09-27T14:25:00.894Z"
   },
   {
    "duration": 51,
    "start_time": "2021-09-27T14:25:20.293Z"
   },
   {
    "duration": 178,
    "start_time": "2021-09-27T14:25:24.615Z"
   },
   {
    "duration": 85,
    "start_time": "2021-09-27T14:25:25.689Z"
   },
   {
    "duration": 114,
    "start_time": "2021-09-27T14:27:47.983Z"
   },
   {
    "duration": 53,
    "start_time": "2021-09-27T14:27:49.245Z"
   },
   {
    "duration": 53,
    "start_time": "2021-09-27T14:28:19.475Z"
   },
   {
    "duration": 435,
    "start_time": "2021-09-27T14:35:34.274Z"
   },
   {
    "duration": 12551,
    "start_time": "2021-09-27T14:35:45.426Z"
   },
   {
    "duration": 16,
    "start_time": "2021-09-27T14:36:16.665Z"
   },
   {
    "duration": 69,
    "start_time": "2021-09-27T14:41:23.215Z"
   },
   {
    "duration": 110,
    "start_time": "2021-09-27T14:41:24.766Z"
   },
   {
    "duration": 107,
    "start_time": "2021-09-27T14:41:27.749Z"
   },
   {
    "duration": 52,
    "start_time": "2021-09-27T14:41:28.821Z"
   },
   {
    "duration": 50,
    "start_time": "2021-09-27T14:46:04.285Z"
   },
   {
    "duration": 420,
    "start_time": "2021-09-27T14:47:32.235Z"
   },
   {
    "duration": 33,
    "start_time": "2021-09-27T14:47:43.535Z"
   },
   {
    "duration": 113,
    "start_time": "2021-09-27T14:48:52.621Z"
   },
   {
    "duration": 1692,
    "start_time": "2021-09-27T14:49:01.883Z"
   },
   {
    "duration": 201,
    "start_time": "2021-09-27T14:49:27.354Z"
   },
   {
    "duration": 1760,
    "start_time": "2021-09-27T14:49:28.545Z"
   },
   {
    "duration": 47,
    "start_time": "2021-09-27T14:49:35.745Z"
   },
   {
    "duration": 38,
    "start_time": "2021-09-27T14:49:40.912Z"
   },
   {
    "duration": 433,
    "start_time": "2021-09-27T14:50:16.525Z"
   },
   {
    "duration": 122,
    "start_time": "2021-09-27T14:50:27.692Z"
   },
   {
    "duration": 51,
    "start_time": "2021-09-27T14:50:29.376Z"
   },
   {
    "duration": 37,
    "start_time": "2021-09-27T14:50:31.155Z"
   },
   {
    "duration": 49,
    "start_time": "2021-09-27T14:51:49.443Z"
   },
   {
    "duration": 35,
    "start_time": "2021-09-27T14:51:52.133Z"
   },
   {
    "duration": 684,
    "start_time": "2021-09-27T16:29:32.437Z"
   },
   {
    "duration": 1097,
    "start_time": "2021-09-27T16:29:43.216Z"
   },
   {
    "duration": 225,
    "start_time": "2021-09-27T16:29:44.316Z"
   },
   {
    "duration": 21,
    "start_time": "2021-09-27T16:29:44.544Z"
   },
   {
    "duration": 169,
    "start_time": "2021-09-27T16:29:44.567Z"
   },
   {
    "duration": 41,
    "start_time": "2021-09-27T16:29:44.739Z"
   },
   {
    "duration": 222,
    "start_time": "2021-09-27T16:29:44.782Z"
   },
   {
    "duration": 16,
    "start_time": "2021-09-27T16:29:45.007Z"
   },
   {
    "duration": 97,
    "start_time": "2021-09-27T16:29:45.028Z"
   },
   {
    "duration": 35,
    "start_time": "2021-09-27T16:29:45.128Z"
   },
   {
    "duration": 147,
    "start_time": "2021-09-27T16:29:45.166Z"
   },
   {
    "duration": 10,
    "start_time": "2021-09-27T16:29:45.316Z"
   },
   {
    "duration": 89,
    "start_time": "2021-09-27T16:29:45.329Z"
   },
   {
    "duration": 25,
    "start_time": "2021-09-27T16:29:45.420Z"
   },
   {
    "duration": 24,
    "start_time": "2021-09-27T16:29:45.448Z"
   },
   {
    "duration": 57,
    "start_time": "2021-09-27T16:29:45.475Z"
   },
   {
    "duration": 31,
    "start_time": "2021-09-27T16:29:45.535Z"
   },
   {
    "duration": 60,
    "start_time": "2021-09-27T16:29:45.569Z"
   },
   {
    "duration": 21,
    "start_time": "2021-09-27T16:29:45.632Z"
   },
   {
    "duration": 17,
    "start_time": "2021-09-27T16:29:45.657Z"
   },
   {
    "duration": 88,
    "start_time": "2021-09-27T16:29:45.684Z"
   },
   {
    "duration": 39,
    "start_time": "2021-09-27T16:29:45.793Z"
   },
   {
    "duration": 115,
    "start_time": "2021-09-27T16:29:45.841Z"
   },
   {
    "duration": 6,
    "start_time": "2021-09-27T16:29:45.962Z"
   },
   {
    "duration": 11,
    "start_time": "2021-09-27T16:29:45.971Z"
   },
   {
    "duration": 7,
    "start_time": "2021-09-27T16:29:45.985Z"
   },
   {
    "duration": 7,
    "start_time": "2021-09-27T16:29:46.017Z"
   },
   {
    "duration": 7,
    "start_time": "2021-09-27T16:29:46.026Z"
   },
   {
    "duration": 750,
    "start_time": "2021-09-27T16:29:46.036Z"
   },
   {
    "duration": 8,
    "start_time": "2021-09-27T16:29:46.788Z"
   },
   {
    "duration": 82,
    "start_time": "2021-09-27T16:29:46.798Z"
   },
   {
    "duration": 163,
    "start_time": "2021-09-27T16:29:46.883Z"
   },
   {
    "duration": 119,
    "start_time": "2021-09-27T16:29:47.048Z"
   },
   {
    "duration": 59,
    "start_time": "2021-09-27T16:29:47.170Z"
   },
   {
    "duration": 8,
    "start_time": "2021-09-27T16:53:18.921Z"
   },
   {
    "duration": 11,
    "start_time": "2021-09-27T16:53:33.983Z"
   },
   {
    "duration": 8,
    "start_time": "2021-09-27T16:53:38.202Z"
   },
   {
    "duration": 9,
    "start_time": "2021-09-27T16:54:29.385Z"
   },
   {
    "duration": 12,
    "start_time": "2021-09-27T16:55:21.918Z"
   },
   {
    "duration": 1010,
    "start_time": "2021-09-27T16:56:33.356Z"
   },
   {
    "duration": 331,
    "start_time": "2021-09-27T16:56:34.370Z"
   },
   {
    "duration": 31,
    "start_time": "2021-09-27T16:56:34.704Z"
   },
   {
    "duration": 162,
    "start_time": "2021-09-27T16:56:34.738Z"
   },
   {
    "duration": 49,
    "start_time": "2021-09-27T16:56:34.903Z"
   },
   {
    "duration": 233,
    "start_time": "2021-09-27T16:56:34.954Z"
   },
   {
    "duration": 28,
    "start_time": "2021-09-27T16:56:35.190Z"
   },
   {
    "duration": 68,
    "start_time": "2021-09-27T16:56:35.222Z"
   },
   {
    "duration": 36,
    "start_time": "2021-09-27T16:56:35.317Z"
   },
   {
    "duration": 144,
    "start_time": "2021-09-27T16:56:35.355Z"
   },
   {
    "duration": 19,
    "start_time": "2021-09-27T16:56:35.501Z"
   },
   {
    "duration": 58,
    "start_time": "2021-09-27T16:56:35.523Z"
   },
   {
    "duration": 50,
    "start_time": "2021-09-27T16:56:35.584Z"
   },
   {
    "duration": 26,
    "start_time": "2021-09-27T16:56:35.637Z"
   },
   {
    "duration": 12,
    "start_time": "2021-09-27T16:56:35.665Z"
   },
   {
    "duration": 39,
    "start_time": "2021-09-27T16:56:35.679Z"
   },
   {
    "duration": 47,
    "start_time": "2021-09-27T16:56:35.721Z"
   },
   {
    "duration": 17,
    "start_time": "2021-09-27T16:56:35.770Z"
   },
   {
    "duration": 13,
    "start_time": "2021-09-27T16:56:35.789Z"
   },
   {
    "duration": 35,
    "start_time": "2021-09-27T16:56:35.805Z"
   },
   {
    "duration": 10,
    "start_time": "2021-09-27T16:56:35.842Z"
   },
   {
    "duration": 125,
    "start_time": "2021-09-27T16:56:35.854Z"
   },
   {
    "duration": 5,
    "start_time": "2021-09-27T16:56:35.984Z"
   },
   {
    "duration": 27,
    "start_time": "2021-09-27T16:56:35.992Z"
   },
   {
    "duration": 15,
    "start_time": "2021-09-27T16:56:36.021Z"
   },
   {
    "duration": 14,
    "start_time": "2021-09-27T16:56:36.038Z"
   },
   {
    "duration": 10,
    "start_time": "2021-09-27T16:56:36.054Z"
   },
   {
    "duration": 758,
    "start_time": "2021-09-27T16:56:36.066Z"
   },
   {
    "duration": 8,
    "start_time": "2021-09-27T16:56:36.827Z"
   },
   {
    "duration": 104,
    "start_time": "2021-09-27T16:56:36.837Z"
   },
   {
    "duration": 160,
    "start_time": "2021-09-27T16:56:36.943Z"
   },
   {
    "duration": 112,
    "start_time": "2021-09-27T16:56:37.106Z"
   },
   {
    "duration": 37,
    "start_time": "2021-09-27T16:56:37.221Z"
   },
   {
    "duration": 9,
    "start_time": "2021-09-27T16:56:37.260Z"
   },
   {
    "duration": 552,
    "start_time": "2021-09-27T16:56:37.271Z"
   },
   {
    "duration": 13,
    "start_time": "2021-09-27T16:57:43.561Z"
   },
   {
    "duration": 12,
    "start_time": "2021-09-27T16:58:25.369Z"
   },
   {
    "duration": 473,
    "start_time": "2021-09-27T17:01:59.301Z"
   },
   {
    "duration": 14,
    "start_time": "2021-09-27T17:03:09.899Z"
   },
   {
    "duration": 403,
    "start_time": "2021-09-27T17:05:14.115Z"
   },
   {
    "duration": 35,
    "start_time": "2021-09-27T17:05:20.281Z"
   },
   {
    "duration": 36,
    "start_time": "2021-09-27T17:05:40.208Z"
   },
   {
    "duration": 862,
    "start_time": "2021-09-27T17:06:04.585Z"
   },
   {
    "duration": 230,
    "start_time": "2021-09-27T17:06:05.450Z"
   },
   {
    "duration": 35,
    "start_time": "2021-09-27T17:06:05.683Z"
   },
   {
    "duration": 151,
    "start_time": "2021-09-27T17:06:05.721Z"
   },
   {
    "duration": 56,
    "start_time": "2021-09-27T17:06:05.874Z"
   },
   {
    "duration": 212,
    "start_time": "2021-09-27T17:06:05.932Z"
   },
   {
    "duration": 11,
    "start_time": "2021-09-27T17:06:06.147Z"
   },
   {
    "duration": 100,
    "start_time": "2021-09-27T17:06:06.161Z"
   },
   {
    "duration": 52,
    "start_time": "2021-09-27T17:06:06.264Z"
   },
   {
    "duration": 136,
    "start_time": "2021-09-27T17:06:06.319Z"
   },
   {
    "duration": 10,
    "start_time": "2021-09-27T17:06:06.457Z"
   },
   {
    "duration": 87,
    "start_time": "2021-09-27T17:06:06.469Z"
   },
   {
    "duration": 24,
    "start_time": "2021-09-27T17:06:06.558Z"
   },
   {
    "duration": 41,
    "start_time": "2021-09-27T17:06:06.584Z"
   },
   {
    "duration": 22,
    "start_time": "2021-09-27T17:06:06.628Z"
   },
   {
    "duration": 25,
    "start_time": "2021-09-27T17:06:06.652Z"
   },
   {
    "duration": 49,
    "start_time": "2021-09-27T17:06:06.679Z"
   },
   {
    "duration": 19,
    "start_time": "2021-09-27T17:06:06.731Z"
   },
   {
    "duration": 31,
    "start_time": "2021-09-27T17:06:06.753Z"
   },
   {
    "duration": 37,
    "start_time": "2021-09-27T17:06:06.786Z"
   },
   {
    "duration": 16,
    "start_time": "2021-09-27T17:06:06.825Z"
   },
   {
    "duration": 108,
    "start_time": "2021-09-27T17:06:06.844Z"
   },
   {
    "duration": 6,
    "start_time": "2021-09-27T17:06:06.957Z"
   },
   {
    "duration": 26,
    "start_time": "2021-09-27T17:06:06.966Z"
   },
   {
    "duration": 23,
    "start_time": "2021-09-27T17:06:06.994Z"
   },
   {
    "duration": 8,
    "start_time": "2021-09-27T17:06:07.020Z"
   },
   {
    "duration": 22,
    "start_time": "2021-09-27T17:06:07.031Z"
   },
   {
    "duration": 752,
    "start_time": "2021-09-27T17:06:07.056Z"
   },
   {
    "duration": 11,
    "start_time": "2021-09-27T17:06:07.811Z"
   },
   {
    "duration": 95,
    "start_time": "2021-09-27T17:06:07.825Z"
   },
   {
    "duration": 144,
    "start_time": "2021-09-27T17:06:07.922Z"
   },
   {
    "duration": 115,
    "start_time": "2021-09-27T17:06:08.068Z"
   },
   {
    "duration": 51,
    "start_time": "2021-09-27T17:06:08.186Z"
   },
   {
    "duration": 8,
    "start_time": "2021-09-27T17:06:08.239Z"
   },
   {
    "duration": 31,
    "start_time": "2021-09-27T17:06:08.249Z"
   },
   {
    "duration": 36,
    "start_time": "2021-09-27T17:06:51.674Z"
   },
   {
    "duration": 786,
    "start_time": "2021-09-27T17:07:00.031Z"
   },
   {
    "duration": 241,
    "start_time": "2021-09-27T17:07:00.820Z"
   },
   {
    "duration": 23,
    "start_time": "2021-09-27T17:07:01.064Z"
   },
   {
    "duration": 180,
    "start_time": "2021-09-27T17:07:01.091Z"
   },
   {
    "duration": 68,
    "start_time": "2021-09-27T17:07:01.274Z"
   },
   {
    "duration": 229,
    "start_time": "2021-09-27T17:07:01.345Z"
   },
   {
    "duration": 13,
    "start_time": "2021-09-27T17:07:01.577Z"
   },
   {
    "duration": 98,
    "start_time": "2021-09-27T17:07:01.594Z"
   },
   {
    "duration": 51,
    "start_time": "2021-09-27T17:07:01.698Z"
   },
   {
    "duration": 165,
    "start_time": "2021-09-27T17:07:01.753Z"
   },
   {
    "duration": 11,
    "start_time": "2021-09-27T17:07:01.921Z"
   },
   {
    "duration": 84,
    "start_time": "2021-09-27T17:07:01.934Z"
   },
   {
    "duration": 25,
    "start_time": "2021-09-27T17:07:02.020Z"
   },
   {
    "duration": 25,
    "start_time": "2021-09-27T17:07:02.048Z"
   },
   {
    "duration": 44,
    "start_time": "2021-09-27T17:07:02.077Z"
   },
   {
    "duration": 15,
    "start_time": "2021-09-27T17:07:02.124Z"
   },
   {
    "duration": 46,
    "start_time": "2021-09-27T17:07:02.142Z"
   },
   {
    "duration": 29,
    "start_time": "2021-09-27T17:07:02.192Z"
   },
   {
    "duration": 19,
    "start_time": "2021-09-27T17:07:02.224Z"
   },
   {
    "duration": 42,
    "start_time": "2021-09-27T17:07:02.246Z"
   },
   {
    "duration": 26,
    "start_time": "2021-09-27T17:07:02.290Z"
   },
   {
    "duration": 97,
    "start_time": "2021-09-27T17:07:02.319Z"
   },
   {
    "duration": 7,
    "start_time": "2021-09-27T17:07:02.424Z"
   },
   {
    "duration": 15,
    "start_time": "2021-09-27T17:07:02.434Z"
   },
   {
    "duration": 10,
    "start_time": "2021-09-27T17:07:02.452Z"
   },
   {
    "duration": 10,
    "start_time": "2021-09-27T17:07:02.464Z"
   },
   {
    "duration": 9,
    "start_time": "2021-09-27T17:07:02.516Z"
   },
   {
    "duration": 766,
    "start_time": "2021-09-27T17:07:02.527Z"
   },
   {
    "duration": 7,
    "start_time": "2021-09-27T17:07:03.296Z"
   },
   {
    "duration": 70,
    "start_time": "2021-09-27T17:07:03.316Z"
   },
   {
    "duration": 166,
    "start_time": "2021-09-27T17:07:03.388Z"
   },
   {
    "duration": 106,
    "start_time": "2021-09-27T17:07:03.556Z"
   },
   {
    "duration": 54,
    "start_time": "2021-09-27T17:07:03.664Z"
   },
   {
    "duration": 8,
    "start_time": "2021-09-27T17:07:03.721Z"
   },
   {
    "duration": 34,
    "start_time": "2021-09-27T17:07:03.731Z"
   },
   {
    "duration": 75,
    "start_time": "2021-09-27T17:07:03.767Z"
   },
   {
    "duration": 919,
    "start_time": "2021-09-27T17:08:21.315Z"
   },
   {
    "duration": 237,
    "start_time": "2021-09-27T17:08:22.237Z"
   },
   {
    "duration": 38,
    "start_time": "2021-09-27T17:08:22.480Z"
   },
   {
    "duration": 151,
    "start_time": "2021-09-27T17:08:22.521Z"
   },
   {
    "duration": 53,
    "start_time": "2021-09-27T17:08:22.675Z"
   },
   {
    "duration": 211,
    "start_time": "2021-09-27T17:08:22.730Z"
   },
   {
    "duration": 12,
    "start_time": "2021-09-27T17:08:22.945Z"
   },
   {
    "duration": 99,
    "start_time": "2021-09-27T17:08:22.960Z"
   },
   {
    "duration": 36,
    "start_time": "2021-09-27T17:08:23.062Z"
   },
   {
    "duration": 135,
    "start_time": "2021-09-27T17:08:23.117Z"
   },
   {
    "duration": 10,
    "start_time": "2021-09-27T17:08:23.254Z"
   },
   {
    "duration": 84,
    "start_time": "2021-09-27T17:08:23.267Z"
   },
   {
    "duration": 25,
    "start_time": "2021-09-27T17:08:23.354Z"
   },
   {
    "duration": 38,
    "start_time": "2021-09-27T17:08:23.381Z"
   },
   {
    "duration": 13,
    "start_time": "2021-09-27T17:08:23.422Z"
   },
   {
    "duration": 9,
    "start_time": "2021-09-27T17:08:23.437Z"
   },
   {
    "duration": 38,
    "start_time": "2021-09-27T17:08:23.448Z"
   },
   {
    "duration": 41,
    "start_time": "2021-09-27T17:08:23.488Z"
   },
   {
    "duration": 10,
    "start_time": "2021-09-27T17:08:23.532Z"
   },
   {
    "duration": 27,
    "start_time": "2021-09-27T17:08:23.544Z"
   },
   {
    "duration": 8,
    "start_time": "2021-09-27T17:08:23.617Z"
   },
   {
    "duration": 111,
    "start_time": "2021-09-27T17:08:23.630Z"
   },
   {
    "duration": 6,
    "start_time": "2021-09-27T17:08:23.744Z"
   },
   {
    "duration": 17,
    "start_time": "2021-09-27T17:08:23.752Z"
   },
   {
    "duration": 9,
    "start_time": "2021-09-27T17:08:23.773Z"
   },
   {
    "duration": 9,
    "start_time": "2021-09-27T17:08:23.818Z"
   },
   {
    "duration": 12,
    "start_time": "2021-09-27T17:08:23.830Z"
   },
   {
    "duration": 809,
    "start_time": "2021-09-27T17:08:23.845Z"
   },
   {
    "duration": 10,
    "start_time": "2021-09-27T17:08:24.657Z"
   },
   {
    "duration": 110,
    "start_time": "2021-09-27T17:08:24.670Z"
   },
   {
    "duration": 150,
    "start_time": "2021-09-27T17:08:24.783Z"
   },
   {
    "duration": 123,
    "start_time": "2021-09-27T17:08:24.935Z"
   },
   {
    "duration": 60,
    "start_time": "2021-09-27T17:08:25.062Z"
   },
   {
    "duration": 8,
    "start_time": "2021-09-27T17:08:25.124Z"
   },
   {
    "duration": 68,
    "start_time": "2021-09-27T17:08:25.135Z"
   },
   {
    "duration": 62,
    "start_time": "2021-09-27T17:08:25.205Z"
   },
   {
    "duration": 816,
    "start_time": "2021-09-27T17:09:53.583Z"
   },
   {
    "duration": 315,
    "start_time": "2021-09-27T17:09:54.415Z"
   },
   {
    "duration": 21,
    "start_time": "2021-09-27T17:09:54.733Z"
   },
   {
    "duration": 167,
    "start_time": "2021-09-27T17:09:54.757Z"
   },
   {
    "duration": 41,
    "start_time": "2021-09-27T17:09:54.927Z"
   },
   {
    "duration": 306,
    "start_time": "2021-09-27T17:09:54.971Z"
   },
   {
    "duration": 11,
    "start_time": "2021-09-27T17:09:55.281Z"
   },
   {
    "duration": 86,
    "start_time": "2021-09-27T17:09:55.296Z"
   },
   {
    "duration": 59,
    "start_time": "2021-09-27T17:09:55.384Z"
   },
   {
    "duration": 150,
    "start_time": "2021-09-27T17:09:55.446Z"
   },
   {
    "duration": 23,
    "start_time": "2021-09-27T17:09:55.599Z"
   },
   {
    "duration": 62,
    "start_time": "2021-09-27T17:09:55.624Z"
   },
   {
    "duration": 50,
    "start_time": "2021-09-27T17:09:55.688Z"
   },
   {
    "duration": 25,
    "start_time": "2021-09-27T17:09:55.740Z"
   },
   {
    "duration": 16,
    "start_time": "2021-09-27T17:09:55.768Z"
   },
   {
    "duration": 35,
    "start_time": "2021-09-27T17:09:55.786Z"
   },
   {
    "duration": 43,
    "start_time": "2021-09-27T17:09:55.824Z"
   },
   {
    "duration": 15,
    "start_time": "2021-09-27T17:09:55.870Z"
   },
   {
    "duration": 9,
    "start_time": "2021-09-27T17:09:55.887Z"
   },
   {
    "duration": 28,
    "start_time": "2021-09-27T17:09:55.917Z"
   },
   {
    "duration": 16,
    "start_time": "2021-09-27T17:09:55.948Z"
   },
   {
    "duration": 124,
    "start_time": "2021-09-27T17:09:55.968Z"
   },
   {
    "duration": 6,
    "start_time": "2021-09-27T17:09:56.095Z"
   },
   {
    "duration": 9,
    "start_time": "2021-09-27T17:09:56.116Z"
   },
   {
    "duration": 9,
    "start_time": "2021-09-27T17:09:56.128Z"
   },
   {
    "duration": 9,
    "start_time": "2021-09-27T17:09:56.139Z"
   },
   {
    "duration": 10,
    "start_time": "2021-09-27T17:09:56.151Z"
   },
   {
    "duration": 744,
    "start_time": "2021-09-27T17:09:56.217Z"
   },
   {
    "duration": 8,
    "start_time": "2021-09-27T17:09:56.964Z"
   },
   {
    "duration": 96,
    "start_time": "2021-09-27T17:09:56.975Z"
   },
   {
    "duration": 150,
    "start_time": "2021-09-27T17:09:57.073Z"
   },
   {
    "duration": 112,
    "start_time": "2021-09-27T17:09:57.225Z"
   },
   {
    "duration": 40,
    "start_time": "2021-09-27T17:09:57.339Z"
   },
   {
    "duration": 39,
    "start_time": "2021-09-27T17:09:57.382Z"
   },
   {
    "duration": 41,
    "start_time": "2021-09-27T17:09:57.423Z"
   },
   {
    "duration": 60,
    "start_time": "2021-09-27T17:09:57.466Z"
   },
   {
    "duration": 43,
    "start_time": "2021-09-27T17:12:03.273Z"
   },
   {
    "duration": 1659,
    "start_time": "2021-09-27T17:29:41.797Z"
   },
   {
    "duration": 12293,
    "start_time": "2021-09-27T17:30:16.561Z"
   },
   {
    "duration": 665,
    "start_time": "2021-09-27T17:30:55.207Z"
   },
   {
    "duration": 148,
    "start_time": "2021-09-27T17:38:20.686Z"
   },
   {
    "duration": 131,
    "start_time": "2021-09-27T17:38:27.890Z"
   },
   {
    "duration": 661,
    "start_time": "2021-09-27T17:38:36.014Z"
   },
   {
    "duration": 732,
    "start_time": "2021-09-27T17:39:02.977Z"
   },
   {
    "duration": 666,
    "start_time": "2021-09-27T17:39:13.842Z"
   },
   {
    "duration": 833,
    "start_time": "2021-09-27T17:39:45.101Z"
   },
   {
    "duration": 741,
    "start_time": "2021-09-27T17:40:13.958Z"
   },
   {
    "duration": 10,
    "start_time": "2021-09-27T17:41:12.376Z"
   },
   {
    "duration": 738,
    "start_time": "2021-09-27T17:42:32.081Z"
   },
   {
    "duration": 694,
    "start_time": "2021-09-27T17:42:58.305Z"
   },
   {
    "duration": 702,
    "start_time": "2021-09-27T17:43:54.392Z"
   },
   {
    "duration": 145,
    "start_time": "2021-09-27T17:45:19.477Z"
   },
   {
    "duration": 138,
    "start_time": "2021-09-27T17:46:23.951Z"
   },
   {
    "duration": 37427,
    "start_time": "2021-09-27T17:46:40.031Z"
   },
   {
    "duration": 810,
    "start_time": "2021-09-27T17:49:05.791Z"
   },
   {
    "duration": 230,
    "start_time": "2021-09-27T17:49:06.603Z"
   },
   {
    "duration": 20,
    "start_time": "2021-09-27T17:49:06.839Z"
   },
   {
    "duration": 165,
    "start_time": "2021-09-27T17:49:06.862Z"
   },
   {
    "duration": 41,
    "start_time": "2021-09-27T17:49:07.029Z"
   },
   {
    "duration": 221,
    "start_time": "2021-09-27T17:49:07.072Z"
   },
   {
    "duration": 24,
    "start_time": "2021-09-27T17:49:07.297Z"
   },
   {
    "duration": 79,
    "start_time": "2021-09-27T17:49:07.325Z"
   },
   {
    "duration": 41,
    "start_time": "2021-09-27T17:49:07.406Z"
   },
   {
    "duration": 154,
    "start_time": "2021-09-27T17:49:07.449Z"
   },
   {
    "duration": 13,
    "start_time": "2021-09-27T17:49:07.605Z"
   },
   {
    "duration": 66,
    "start_time": "2021-09-27T17:49:07.620Z"
   },
   {
    "duration": 44,
    "start_time": "2021-09-27T17:49:07.689Z"
   },
   {
    "duration": 29,
    "start_time": "2021-09-27T17:49:07.736Z"
   },
   {
    "duration": 50,
    "start_time": "2021-09-27T17:49:07.768Z"
   },
   {
    "duration": 8,
    "start_time": "2021-09-27T17:49:07.821Z"
   },
   {
    "duration": 43,
    "start_time": "2021-09-27T17:49:07.831Z"
   },
   {
    "duration": 15,
    "start_time": "2021-09-27T17:49:07.876Z"
   },
   {
    "duration": 30,
    "start_time": "2021-09-27T17:49:07.893Z"
   },
   {
    "duration": 28,
    "start_time": "2021-09-27T17:49:07.926Z"
   },
   {
    "duration": 13,
    "start_time": "2021-09-27T17:49:07.956Z"
   },
   {
    "duration": 131,
    "start_time": "2021-09-27T17:49:07.973Z"
   },
   {
    "duration": 5,
    "start_time": "2021-09-27T17:49:08.117Z"
   },
   {
    "duration": 10,
    "start_time": "2021-09-27T17:49:08.125Z"
   },
   {
    "duration": 7,
    "start_time": "2021-09-27T17:49:08.137Z"
   },
   {
    "duration": 8,
    "start_time": "2021-09-27T17:49:08.147Z"
   },
   {
    "duration": 10,
    "start_time": "2021-09-27T17:49:08.157Z"
   },
   {
    "duration": 727,
    "start_time": "2021-09-27T17:49:08.218Z"
   },
   {
    "duration": 8,
    "start_time": "2021-09-27T17:49:08.947Z"
   },
   {
    "duration": 103,
    "start_time": "2021-09-27T17:49:08.958Z"
   },
   {
    "duration": 141,
    "start_time": "2021-09-27T17:49:09.063Z"
   },
   {
    "duration": 123,
    "start_time": "2021-09-27T17:49:09.207Z"
   },
   {
    "duration": 37,
    "start_time": "2021-09-27T17:49:09.332Z"
   },
   {
    "duration": 65,
    "start_time": "2021-09-27T17:49:09.371Z"
   },
   {
    "duration": 39,
    "start_time": "2021-09-27T17:49:09.439Z"
   },
   {
    "duration": 35662,
    "start_time": "2021-09-27T17:49:09.481Z"
   },
   {
    "duration": 7040,
    "start_time": "2021-09-27T17:57:26.474Z"
   },
   {
    "duration": 6962,
    "start_time": "2021-09-27T17:59:26.688Z"
   },
   {
    "duration": 10,
    "start_time": "2021-09-27T18:02:52.876Z"
   },
   {
    "duration": 388,
    "start_time": "2021-09-27T18:03:08.603Z"
   },
   {
    "duration": 11,
    "start_time": "2021-09-27T18:03:19.877Z"
   },
   {
    "duration": 395,
    "start_time": "2021-09-27T18:03:33.310Z"
   },
   {
    "duration": 12,
    "start_time": "2021-09-27T18:03:55.779Z"
   },
   {
    "duration": 422,
    "start_time": "2021-09-27T18:05:32.232Z"
   },
   {
    "duration": 714,
    "start_time": "2021-09-27T18:05:33.534Z"
   },
   {
    "duration": 15,
    "start_time": "2021-09-27T18:05:45.709Z"
   },
   {
    "duration": 693,
    "start_time": "2021-09-27T18:05:46.498Z"
   },
   {
    "duration": 12,
    "start_time": "2021-09-27T18:06:37.988Z"
   },
   {
    "duration": 748,
    "start_time": "2021-09-27T18:06:38.687Z"
   },
   {
    "duration": 11,
    "start_time": "2021-09-27T18:09:10.414Z"
   },
   {
    "duration": 745,
    "start_time": "2021-09-27T18:09:11.032Z"
   },
   {
    "duration": 579,
    "start_time": "2021-09-27T18:09:40.262Z"
   },
   {
    "duration": 846,
    "start_time": "2021-09-27T18:09:54.752Z"
   },
   {
    "duration": 707,
    "start_time": "2021-09-27T18:17:44.087Z"
   },
   {
    "duration": 677,
    "start_time": "2021-09-27T18:18:55.474Z"
   },
   {
    "duration": 676,
    "start_time": "2021-09-27T18:19:15.833Z"
   },
   {
    "duration": 727,
    "start_time": "2021-09-27T18:19:29.976Z"
   },
   {
    "duration": 12461,
    "start_time": "2021-09-27T18:20:43.004Z"
   },
   {
    "duration": 12291,
    "start_time": "2021-09-27T18:21:01.023Z"
   },
   {
    "duration": 128,
    "start_time": "2021-09-27T18:21:21.350Z"
   },
   {
    "duration": 411,
    "start_time": "2021-09-27T18:21:28.243Z"
   },
   {
    "duration": 177,
    "start_time": "2021-09-27T18:24:14.352Z"
   },
   {
    "duration": 394,
    "start_time": "2021-09-27T18:24:21.008Z"
   },
   {
    "duration": 529,
    "start_time": "2021-09-27T18:24:28.178Z"
   },
   {
    "duration": 14,
    "start_time": "2021-09-27T18:24:36.141Z"
   },
   {
    "duration": 8,
    "start_time": "2021-09-27T18:28:06.820Z"
   },
   {
    "duration": 876,
    "start_time": "2021-09-27T18:28:38.983Z"
   },
   {
    "duration": 16621,
    "start_time": "2021-09-27T18:28:49.734Z"
   },
   {
    "duration": 30603,
    "start_time": "2021-09-27T18:31:09.900Z"
   },
   {
    "duration": 17455,
    "start_time": "2021-09-27T18:32:36.044Z"
   },
   {
    "duration": 16741,
    "start_time": "2021-09-27T18:33:05.040Z"
   },
   {
    "duration": 25058,
    "start_time": "2021-09-27T18:33:45.339Z"
   },
   {
    "duration": 11,
    "start_time": "2021-09-27T18:34:49.977Z"
   },
   {
    "duration": 716,
    "start_time": "2021-09-27T18:36:19.742Z"
   },
   {
    "duration": 842,
    "start_time": "2021-09-27T18:41:00.812Z"
   },
   {
    "duration": 25381,
    "start_time": "2021-09-27T18:41:09.851Z"
   },
   {
    "duration": 13,
    "start_time": "2021-09-27T18:42:05.031Z"
   },
   {
    "duration": 45,
    "start_time": "2021-09-27T18:44:21.804Z"
   },
   {
    "duration": 25353,
    "start_time": "2021-09-27T18:44:23.529Z"
   },
   {
    "duration": 45,
    "start_time": "2021-09-27T18:44:57.499Z"
   },
   {
    "duration": 891,
    "start_time": "2021-09-27T18:46:38.080Z"
   },
   {
    "duration": 1888,
    "start_time": "2021-09-27T18:48:22.029Z"
   },
   {
    "duration": 1977,
    "start_time": "2021-09-27T18:50:14.701Z"
   },
   {
    "duration": 181,
    "start_time": "2021-09-27T18:50:41.757Z"
   },
   {
    "duration": 1852,
    "start_time": "2021-09-27T18:51:14.984Z"
   },
   {
    "duration": 1905,
    "start_time": "2021-09-27T18:51:32.769Z"
   },
   {
    "duration": 7,
    "start_time": "2021-09-27T18:53:52.465Z"
   },
   {
    "duration": 13,
    "start_time": "2021-09-27T18:54:35.823Z"
   },
   {
    "duration": 12,
    "start_time": "2021-09-27T18:55:18.761Z"
   },
   {
    "duration": 486,
    "start_time": "2021-09-27T18:55:52.180Z"
   },
   {
    "duration": 10,
    "start_time": "2021-09-27T18:56:00.633Z"
   },
   {
    "duration": 2097,
    "start_time": "2021-09-27T18:58:32.943Z"
   },
   {
    "duration": 1843,
    "start_time": "2021-09-27T19:06:10.956Z"
   },
   {
    "duration": 9,
    "start_time": "2021-09-27T19:06:14.939Z"
   },
   {
    "duration": 406,
    "start_time": "2021-09-27T19:07:00.277Z"
   },
   {
    "duration": 40,
    "start_time": "2021-09-27T19:07:06.360Z"
   },
   {
    "duration": 1855,
    "start_time": "2021-09-27T19:07:16.378Z"
   },
   {
    "duration": 37,
    "start_time": "2021-09-27T19:07:23.316Z"
   },
   {
    "duration": 1889,
    "start_time": "2021-09-27T19:07:41.720Z"
   },
   {
    "duration": 34,
    "start_time": "2021-09-27T20:15:33.475Z"
   },
   {
    "duration": 457,
    "start_time": "2021-09-27T20:18:24.718Z"
   },
   {
    "duration": 32,
    "start_time": "2021-09-27T20:18:41.617Z"
   },
   {
    "duration": 1805,
    "start_time": "2021-09-27T20:19:19.590Z"
   },
   {
    "duration": 1862,
    "start_time": "2021-09-27T20:20:25.144Z"
   },
   {
    "duration": 2244,
    "start_time": "2021-09-27T20:20:40.561Z"
   },
   {
    "duration": 1760,
    "start_time": "2021-09-27T20:20:50.364Z"
   },
   {
    "duration": 33,
    "start_time": "2021-09-27T20:28:43.576Z"
   },
   {
    "duration": 432,
    "start_time": "2021-09-27T20:55:46.494Z"
   },
   {
    "duration": 420,
    "start_time": "2021-09-27T20:56:11.758Z"
   },
   {
    "duration": 59,
    "start_time": "2021-09-27T20:56:57.979Z"
   },
   {
    "duration": 53,
    "start_time": "2021-09-27T20:57:20.095Z"
   },
   {
    "duration": 463,
    "start_time": "2021-09-27T20:57:24.965Z"
   },
   {
    "duration": 31,
    "start_time": "2021-09-27T20:57:35.642Z"
   },
   {
    "duration": 513,
    "start_time": "2021-09-27T20:57:39.524Z"
   },
   {
    "duration": 35,
    "start_time": "2021-09-27T21:01:05.508Z"
   },
   {
    "duration": 407,
    "start_time": "2021-09-27T21:01:52.946Z"
   },
   {
    "duration": 490,
    "start_time": "2021-09-27T21:02:05.204Z"
   },
   {
    "duration": 424,
    "start_time": "2021-09-27T21:02:14.834Z"
   },
   {
    "duration": 472,
    "start_time": "2021-09-27T21:02:48.231Z"
   },
   {
    "duration": 452,
    "start_time": "2021-09-27T21:02:55.187Z"
   },
   {
    "duration": 31,
    "start_time": "2021-09-27T21:03:34.198Z"
   },
   {
    "duration": 31,
    "start_time": "2021-09-27T21:03:43.501Z"
   },
   {
    "duration": 388,
    "start_time": "2021-09-27T21:03:50.373Z"
   },
   {
    "duration": 32,
    "start_time": "2021-09-27T21:04:21.041Z"
   },
   {
    "duration": 34,
    "start_time": "2021-09-27T21:04:25.659Z"
   },
   {
    "duration": 408,
    "start_time": "2021-09-27T21:04:52.230Z"
   },
   {
    "duration": 22,
    "start_time": "2021-09-27T21:05:22.340Z"
   },
   {
    "duration": 59,
    "start_time": "2021-09-27T21:05:23.222Z"
   },
   {
    "duration": 77,
    "start_time": "2021-09-27T21:05:34.813Z"
   },
   {
    "duration": 52,
    "start_time": "2021-09-27T21:06:16.696Z"
   },
   {
    "duration": 2146,
    "start_time": "2021-09-27T21:08:05.079Z"
   },
   {
    "duration": 412,
    "start_time": "2021-09-28T07:36:55.993Z"
   },
   {
    "duration": 807,
    "start_time": "2021-09-28T07:37:01.909Z"
   },
   {
    "duration": 234,
    "start_time": "2021-09-28T07:37:02.722Z"
   },
   {
    "duration": 22,
    "start_time": "2021-09-28T07:37:02.959Z"
   },
   {
    "duration": 163,
    "start_time": "2021-09-28T07:37:02.983Z"
   },
   {
    "duration": 43,
    "start_time": "2021-09-28T07:37:03.149Z"
   },
   {
    "duration": 224,
    "start_time": "2021-09-28T07:37:03.194Z"
   },
   {
    "duration": 11,
    "start_time": "2021-09-28T07:37:03.422Z"
   },
   {
    "duration": 101,
    "start_time": "2021-09-28T07:37:03.437Z"
   },
   {
    "duration": 37,
    "start_time": "2021-09-28T07:37:03.541Z"
   },
   {
    "duration": 147,
    "start_time": "2021-09-28T07:37:03.581Z"
   },
   {
    "duration": 10,
    "start_time": "2021-09-28T07:37:03.731Z"
   },
   {
    "duration": 85,
    "start_time": "2021-09-28T07:37:03.744Z"
   },
   {
    "duration": 25,
    "start_time": "2021-09-28T07:37:03.832Z"
   },
   {
    "duration": 25,
    "start_time": "2021-09-28T07:37:03.859Z"
   },
   {
    "duration": 38,
    "start_time": "2021-09-28T07:37:03.886Z"
   },
   {
    "duration": 14,
    "start_time": "2021-09-28T07:37:03.927Z"
   },
   {
    "duration": 52,
    "start_time": "2021-09-28T07:37:03.944Z"
   },
   {
    "duration": 18,
    "start_time": "2021-09-28T07:37:03.998Z"
   },
   {
    "duration": 21,
    "start_time": "2021-09-28T07:37:04.019Z"
   },
   {
    "duration": 46,
    "start_time": "2021-09-28T07:37:04.042Z"
   },
   {
    "duration": 17,
    "start_time": "2021-09-28T07:37:04.090Z"
   },
   {
    "duration": 103,
    "start_time": "2021-09-28T07:37:04.113Z"
   },
   {
    "duration": 5,
    "start_time": "2021-09-28T07:37:04.219Z"
   },
   {
    "duration": 13,
    "start_time": "2021-09-28T07:37:04.226Z"
   },
   {
    "duration": 8,
    "start_time": "2021-09-28T07:37:04.241Z"
   },
   {
    "duration": 6,
    "start_time": "2021-09-28T07:37:04.252Z"
   },
   {
    "duration": 14,
    "start_time": "2021-09-28T07:37:04.260Z"
   },
   {
    "duration": 723,
    "start_time": "2021-09-28T07:37:04.316Z"
   },
   {
    "duration": 8,
    "start_time": "2021-09-28T07:37:05.042Z"
   },
   {
    "duration": 98,
    "start_time": "2021-09-28T07:37:05.052Z"
   },
   {
    "duration": 146,
    "start_time": "2021-09-28T07:37:05.152Z"
   },
   {
    "duration": 104,
    "start_time": "2021-09-28T07:37:05.301Z"
   },
   {
    "duration": 37,
    "start_time": "2021-09-28T07:37:05.408Z"
   },
   {
    "duration": 33,
    "start_time": "2021-09-28T07:37:05.447Z"
   },
   {
    "duration": 13111,
    "start_time": "2021-09-28T07:37:05.482Z"
   },
   {
    "duration": -173,
    "start_time": "2021-09-28T07:37:18.770Z"
   },
   {
    "duration": -173,
    "start_time": "2021-09-28T07:37:18.773Z"
   },
   {
    "duration": -174,
    "start_time": "2021-09-28T07:37:18.776Z"
   },
   {
    "duration": 40,
    "start_time": "2021-09-28T07:37:32.496Z"
   },
   {
    "duration": 34,
    "start_time": "2021-09-28T07:38:25.069Z"
   },
   {
    "duration": 764,
    "start_time": "2021-09-28T07:38:31.054Z"
   },
   {
    "duration": 316,
    "start_time": "2021-09-28T07:38:31.821Z"
   },
   {
    "duration": 41,
    "start_time": "2021-09-28T07:38:32.141Z"
   },
   {
    "duration": 217,
    "start_time": "2021-09-28T07:38:32.186Z"
   },
   {
    "duration": 45,
    "start_time": "2021-09-28T07:38:32.405Z"
   },
   {
    "duration": 225,
    "start_time": "2021-09-28T07:38:32.453Z"
   },
   {
    "duration": 10,
    "start_time": "2021-09-28T07:38:32.680Z"
   },
   {
    "duration": 89,
    "start_time": "2021-09-28T07:38:32.693Z"
   },
   {
    "duration": 58,
    "start_time": "2021-09-28T07:38:32.788Z"
   },
   {
    "duration": 150,
    "start_time": "2021-09-28T07:38:32.850Z"
   },
   {
    "duration": 18,
    "start_time": "2021-09-28T07:38:33.002Z"
   },
   {
    "duration": 64,
    "start_time": "2021-09-28T07:38:33.022Z"
   },
   {
    "duration": 47,
    "start_time": "2021-09-28T07:38:33.089Z"
   },
   {
    "duration": 25,
    "start_time": "2021-09-28T07:38:33.138Z"
   },
   {
    "duration": 15,
    "start_time": "2021-09-28T07:38:33.166Z"
   },
   {
    "duration": 39,
    "start_time": "2021-09-28T07:38:33.183Z"
   },
   {
    "duration": 41,
    "start_time": "2021-09-28T07:38:33.225Z"
   },
   {
    "duration": 15,
    "start_time": "2021-09-28T07:38:33.268Z"
   },
   {
    "duration": 13,
    "start_time": "2021-09-28T07:38:33.285Z"
   },
   {
    "duration": 27,
    "start_time": "2021-09-28T07:38:33.316Z"
   },
   {
    "duration": 9,
    "start_time": "2021-09-28T07:38:33.345Z"
   },
   {
    "duration": 127,
    "start_time": "2021-09-28T07:38:33.356Z"
   },
   {
    "duration": 5,
    "start_time": "2021-09-28T07:38:33.485Z"
   },
   {
    "duration": 25,
    "start_time": "2021-09-28T07:38:33.493Z"
   },
   {
    "duration": 39,
    "start_time": "2021-09-28T07:38:33.520Z"
   },
   {
    "duration": 11,
    "start_time": "2021-09-28T07:38:33.561Z"
   },
   {
    "duration": 8,
    "start_time": "2021-09-28T07:38:33.577Z"
   },
   {
    "duration": 846,
    "start_time": "2021-09-28T07:38:33.588Z"
   },
   {
    "duration": 8,
    "start_time": "2021-09-28T07:38:34.437Z"
   },
   {
    "duration": 101,
    "start_time": "2021-09-28T07:38:34.448Z"
   },
   {
    "duration": 153,
    "start_time": "2021-09-28T07:38:34.551Z"
   },
   {
    "duration": 120,
    "start_time": "2021-09-28T07:38:34.707Z"
   },
   {
    "duration": 34,
    "start_time": "2021-09-28T07:38:34.830Z"
   },
   {
    "duration": 69,
    "start_time": "2021-09-28T07:38:34.867Z"
   },
   {
    "duration": 12,
    "start_time": "2021-09-28T07:38:34.939Z"
   },
   {
    "duration": 12082,
    "start_time": "2021-09-28T07:38:34.953Z"
   },
   {
    "duration": -167,
    "start_time": "2021-09-28T07:38:47.205Z"
   },
   {
    "duration": -168,
    "start_time": "2021-09-28T07:38:47.207Z"
   },
   {
    "duration": 40,
    "start_time": "2021-09-28T07:38:52.537Z"
   },
   {
    "duration": 10,
    "start_time": "2021-09-28T07:39:13.175Z"
   },
   {
    "duration": 793,
    "start_time": "2021-09-28T07:40:59.607Z"
   },
   {
    "duration": 245,
    "start_time": "2021-09-28T07:41:00.403Z"
   },
   {
    "duration": 21,
    "start_time": "2021-09-28T07:41:00.654Z"
   },
   {
    "duration": 178,
    "start_time": "2021-09-28T07:41:00.678Z"
   },
   {
    "duration": 58,
    "start_time": "2021-09-28T07:41:00.859Z"
   },
   {
    "duration": 225,
    "start_time": "2021-09-28T07:41:00.920Z"
   },
   {
    "duration": 12,
    "start_time": "2021-09-28T07:41:01.148Z"
   },
   {
    "duration": 103,
    "start_time": "2021-09-28T07:41:01.164Z"
   },
   {
    "duration": 54,
    "start_time": "2021-09-28T07:41:01.271Z"
   },
   {
    "duration": 140,
    "start_time": "2021-09-28T07:41:01.327Z"
   },
   {
    "duration": 11,
    "start_time": "2021-09-28T07:41:01.469Z"
   },
   {
    "duration": 84,
    "start_time": "2021-09-28T07:41:01.482Z"
   },
   {
    "duration": 24,
    "start_time": "2021-09-28T07:41:01.569Z"
   },
   {
    "duration": 31,
    "start_time": "2021-09-28T07:41:01.595Z"
   },
   {
    "duration": 16,
    "start_time": "2021-09-28T07:41:01.629Z"
   },
   {
    "duration": 17,
    "start_time": "2021-09-28T07:41:01.648Z"
   },
   {
    "duration": 95,
    "start_time": "2021-09-28T07:41:01.667Z"
   },
   {
    "duration": 27,
    "start_time": "2021-09-28T07:41:01.765Z"
   },
   {
    "duration": 80,
    "start_time": "2021-09-28T07:41:01.795Z"
   },
   {
    "duration": 75,
    "start_time": "2021-09-28T07:41:01.878Z"
   },
   {
    "duration": 12,
    "start_time": "2021-09-28T07:41:01.955Z"
   },
   {
    "duration": 95,
    "start_time": "2021-09-28T07:41:01.970Z"
   },
   {
    "duration": 5,
    "start_time": "2021-09-28T07:41:02.068Z"
   },
   {
    "duration": 90,
    "start_time": "2021-09-28T07:41:02.076Z"
   },
   {
    "duration": 41,
    "start_time": "2021-09-28T07:41:02.169Z"
   },
   {
    "duration": 28,
    "start_time": "2021-09-28T07:41:02.214Z"
   },
   {
    "duration": 15,
    "start_time": "2021-09-28T07:41:02.245Z"
   },
   {
    "duration": 748,
    "start_time": "2021-09-28T07:41:02.262Z"
   },
   {
    "duration": 11,
    "start_time": "2021-09-28T07:41:03.017Z"
   },
   {
    "duration": 102,
    "start_time": "2021-09-28T07:41:03.030Z"
   },
   {
    "duration": 155,
    "start_time": "2021-09-28T07:41:03.135Z"
   },
   {
    "duration": 123,
    "start_time": "2021-09-28T07:41:03.293Z"
   },
   {
    "duration": 37,
    "start_time": "2021-09-28T07:41:03.418Z"
   },
   {
    "duration": 71,
    "start_time": "2021-09-28T07:41:03.457Z"
   },
   {
    "duration": 10,
    "start_time": "2021-09-28T07:41:03.530Z"
   },
   {
    "duration": 15,
    "start_time": "2021-09-28T07:41:03.542Z"
   },
   {
    "duration": 1846,
    "start_time": "2021-09-28T07:41:03.560Z"
   },
   {
    "duration": 20,
    "start_time": "2021-09-28T07:41:05.416Z"
   },
   {
    "duration": 51,
    "start_time": "2021-09-28T07:41:05.439Z"
   },
   {
    "duration": 743,
    "start_time": "2021-09-28T07:41:38.545Z"
   },
   {
    "duration": 250,
    "start_time": "2021-09-28T07:41:39.291Z"
   },
   {
    "duration": 25,
    "start_time": "2021-09-28T07:41:39.545Z"
   },
   {
    "duration": 162,
    "start_time": "2021-09-28T07:41:39.575Z"
   },
   {
    "duration": 40,
    "start_time": "2021-09-28T07:41:39.739Z"
   },
   {
    "duration": 248,
    "start_time": "2021-09-28T07:41:39.781Z"
   },
   {
    "duration": 11,
    "start_time": "2021-09-28T07:41:40.032Z"
   },
   {
    "duration": 113,
    "start_time": "2021-09-28T07:41:40.046Z"
   },
   {
    "duration": 57,
    "start_time": "2021-09-28T07:41:40.165Z"
   },
   {
    "duration": 132,
    "start_time": "2021-09-28T07:41:40.225Z"
   },
   {
    "duration": 10,
    "start_time": "2021-09-28T07:41:40.360Z"
   },
   {
    "duration": 89,
    "start_time": "2021-09-28T07:41:40.372Z"
   },
   {
    "duration": 25,
    "start_time": "2021-09-28T07:41:40.464Z"
   },
   {
    "duration": 34,
    "start_time": "2021-09-28T07:41:40.492Z"
   },
   {
    "duration": 17,
    "start_time": "2021-09-28T07:41:40.528Z"
   },
   {
    "duration": 15,
    "start_time": "2021-09-28T07:41:40.547Z"
   },
   {
    "duration": 52,
    "start_time": "2021-09-28T07:41:40.564Z"
   },
   {
    "duration": 15,
    "start_time": "2021-09-28T07:41:40.619Z"
   },
   {
    "duration": 22,
    "start_time": "2021-09-28T07:41:40.637Z"
   },
   {
    "duration": 56,
    "start_time": "2021-09-28T07:41:40.662Z"
   },
   {
    "duration": 8,
    "start_time": "2021-09-28T07:41:40.720Z"
   },
   {
    "duration": 118,
    "start_time": "2021-09-28T07:41:40.731Z"
   },
   {
    "duration": 6,
    "start_time": "2021-09-28T07:41:40.851Z"
   },
   {
    "duration": 13,
    "start_time": "2021-09-28T07:41:40.859Z"
   },
   {
    "duration": 9,
    "start_time": "2021-09-28T07:41:40.875Z"
   },
   {
    "duration": 37,
    "start_time": "2021-09-28T07:41:40.886Z"
   },
   {
    "duration": 7,
    "start_time": "2021-09-28T07:41:40.928Z"
   },
   {
    "duration": 787,
    "start_time": "2021-09-28T07:41:40.938Z"
   },
   {
    "duration": 8,
    "start_time": "2021-09-28T07:41:41.728Z"
   },
   {
    "duration": 97,
    "start_time": "2021-09-28T07:41:41.738Z"
   },
   {
    "duration": 148,
    "start_time": "2021-09-28T07:41:41.838Z"
   },
   {
    "duration": 112,
    "start_time": "2021-09-28T07:41:41.989Z"
   },
   {
    "duration": 40,
    "start_time": "2021-09-28T07:41:42.103Z"
   },
   {
    "duration": 39,
    "start_time": "2021-09-28T07:41:42.145Z"
   },
   {
    "duration": 36,
    "start_time": "2021-09-28T07:41:42.187Z"
   },
   {
    "duration": 21,
    "start_time": "2021-09-28T07:41:42.225Z"
   },
   {
    "duration": 1882,
    "start_time": "2021-09-28T07:41:42.249Z"
   },
   {
    "duration": 18,
    "start_time": "2021-09-28T07:41:44.134Z"
   },
   {
    "duration": 82,
    "start_time": "2021-09-28T07:41:44.155Z"
   },
   {
    "duration": 1831,
    "start_time": "2021-09-28T07:44:15.574Z"
   },
   {
    "duration": 1904,
    "start_time": "2021-09-28T07:47:26.963Z"
   },
   {
    "duration": 16,
    "start_time": "2021-09-28T07:48:45.279Z"
   },
   {
    "duration": 17,
    "start_time": "2021-09-28T07:49:30.963Z"
   },
   {
    "duration": 17,
    "start_time": "2021-09-28T07:49:53.184Z"
   },
   {
    "duration": 19,
    "start_time": "2021-09-28T07:59:34.984Z"
   },
   {
    "duration": 52,
    "start_time": "2021-09-28T07:59:35.553Z"
   },
   {
    "duration": 8,
    "start_time": "2021-09-28T08:00:02.843Z"
   },
   {
    "duration": 23,
    "start_time": "2021-09-28T08:00:54.673Z"
   },
   {
    "duration": 39,
    "start_time": "2021-09-28T08:01:41.213Z"
   },
   {
    "duration": 538,
    "start_time": "2021-09-28T08:02:01.355Z"
   },
   {
    "duration": 23,
    "start_time": "2021-09-28T08:02:07.414Z"
   },
   {
    "duration": 23,
    "start_time": "2021-09-28T08:02:12.053Z"
   },
   {
    "duration": 32,
    "start_time": "2021-09-28T08:05:44.783Z"
   },
   {
    "duration": 47,
    "start_time": "2021-09-28T08:11:21.491Z"
   },
   {
    "duration": 412,
    "start_time": "2021-09-28T08:13:37.313Z"
   },
   {
    "duration": 51,
    "start_time": "2021-09-28T08:13:58.331Z"
   },
   {
    "duration": 50,
    "start_time": "2021-09-28T08:14:44.973Z"
   },
   {
    "duration": 30,
    "start_time": "2021-09-28T08:23:08.928Z"
   },
   {
    "duration": 32,
    "start_time": "2021-09-28T08:23:18.867Z"
   },
   {
    "duration": 32,
    "start_time": "2021-09-28T08:23:25.925Z"
   },
   {
    "duration": 50,
    "start_time": "2021-09-28T08:25:39.477Z"
   },
   {
    "duration": 56,
    "start_time": "2021-09-28T08:25:46.137Z"
   },
   {
    "duration": 61,
    "start_time": "2021-09-28T08:26:19.765Z"
   },
   {
    "duration": 56,
    "start_time": "2021-09-28T08:26:44.757Z"
   },
   {
    "duration": 80,
    "start_time": "2021-09-28T08:28:25.016Z"
   },
   {
    "duration": 857,
    "start_time": "2021-09-28T09:02:00.982Z"
   },
   {
    "duration": 412,
    "start_time": "2021-09-28T09:02:42.232Z"
   },
   {
    "duration": 292,
    "start_time": "2021-09-28T09:02:48.881Z"
   },
   {
    "duration": 333,
    "start_time": "2021-09-28T09:02:58.342Z"
   },
   {
    "duration": 373,
    "start_time": "2021-09-28T09:03:05.062Z"
   },
   {
    "duration": 293,
    "start_time": "2021-09-28T09:03:16.603Z"
   },
   {
    "duration": 388,
    "start_time": "2021-09-28T09:07:25.681Z"
   },
   {
    "duration": 302,
    "start_time": "2021-09-28T09:08:40.883Z"
   },
   {
    "duration": 427,
    "start_time": "2021-09-28T09:09:33.881Z"
   },
   {
    "duration": 350,
    "start_time": "2021-09-28T09:10:46.870Z"
   },
   {
    "duration": 860,
    "start_time": "2021-09-28T09:11:21.971Z"
   },
   {
    "duration": 620,
    "start_time": "2021-09-28T09:11:31.741Z"
   },
   {
    "duration": 465,
    "start_time": "2021-09-28T09:11:44.771Z"
   },
   {
    "duration": 419,
    "start_time": "2021-09-28T09:11:51.230Z"
   },
   {
    "duration": 439,
    "start_time": "2021-09-28T09:12:07.090Z"
   },
   {
    "duration": 576,
    "start_time": "2021-09-28T09:12:48.180Z"
   },
   {
    "duration": 412,
    "start_time": "2021-09-28T09:12:56.241Z"
   },
   {
    "duration": 870,
    "start_time": "2021-09-28T09:13:18.091Z"
   },
   {
    "duration": 433,
    "start_time": "2021-09-28T09:13:33.971Z"
   },
   {
    "duration": 415,
    "start_time": "2021-09-28T09:14:47.122Z"
   },
   {
    "duration": 662,
    "start_time": "2021-09-28T09:14:54.262Z"
   },
   {
    "duration": 444,
    "start_time": "2021-09-28T09:14:58.572Z"
   },
   {
    "duration": 1079,
    "start_time": "2021-09-28T09:15:06.803Z"
   },
   {
    "duration": 357,
    "start_time": "2021-09-28T09:15:14.973Z"
   },
   {
    "duration": 671,
    "start_time": "2021-09-28T09:15:37.462Z"
   },
   {
    "duration": 438,
    "start_time": "2021-09-28T09:17:42.742Z"
   },
   {
    "duration": 380,
    "start_time": "2021-09-28T09:17:49.122Z"
   },
   {
    "duration": 784,
    "start_time": "2021-09-28T09:18:03.463Z"
   },
   {
    "duration": 780,
    "start_time": "2021-09-28T09:18:30.661Z"
   },
   {
    "duration": 456,
    "start_time": "2021-09-28T09:18:36.452Z"
   },
   {
    "duration": 578,
    "start_time": "2021-09-28T09:19:24.071Z"
   },
   {
    "duration": 742,
    "start_time": "2021-09-28T09:19:38.102Z"
   },
   {
    "duration": 717,
    "start_time": "2021-09-28T09:20:18.302Z"
   },
   {
    "duration": 4,
    "start_time": "2021-09-28T09:20:35.022Z"
   },
   {
    "duration": 354,
    "start_time": "2021-09-28T09:20:40.440Z"
   },
   {
    "duration": 911,
    "start_time": "2021-09-28T09:20:55.772Z"
   },
   {
    "duration": 4,
    "start_time": "2021-09-28T09:21:09.953Z"
   },
   {
    "duration": 404,
    "start_time": "2021-09-28T09:21:15.402Z"
   },
   {
    "duration": 445,
    "start_time": "2021-09-28T09:22:42.310Z"
   },
   {
    "duration": 575,
    "start_time": "2021-09-28T09:22:57.050Z"
   },
   {
    "duration": 434,
    "start_time": "2021-09-28T09:23:15.011Z"
   },
   {
    "duration": 457,
    "start_time": "2021-09-28T09:24:14.471Z"
   },
   {
    "duration": 441,
    "start_time": "2021-09-28T09:24:58.071Z"
   },
   {
    "duration": 426,
    "start_time": "2021-09-28T09:25:08.681Z"
   },
   {
    "duration": 423,
    "start_time": "2021-09-28T09:26:04.141Z"
   },
   {
    "duration": 431,
    "start_time": "2021-09-28T09:27:07.420Z"
   },
   {
    "duration": 435,
    "start_time": "2021-09-28T09:27:19.220Z"
   },
   {
    "duration": 538,
    "start_time": "2021-09-28T09:27:31.500Z"
   },
   {
    "duration": 1316,
    "start_time": "2021-09-28T09:27:55.051Z"
   },
   {
    "duration": 533,
    "start_time": "2021-09-28T09:28:18.922Z"
   },
   {
    "duration": 419,
    "start_time": "2021-09-28T09:28:44.013Z"
   },
   {
    "duration": 428,
    "start_time": "2021-09-28T09:29:23.430Z"
   },
   {
    "duration": 498,
    "start_time": "2021-09-28T09:30:49.480Z"
   },
   {
    "duration": 478,
    "start_time": "2021-09-28T09:32:12.510Z"
   },
   {
    "duration": 427,
    "start_time": "2021-09-28T09:32:31.213Z"
   },
   {
    "duration": 514,
    "start_time": "2021-09-28T09:32:38.372Z"
   },
   {
    "duration": 425,
    "start_time": "2021-09-28T09:32:43.721Z"
   },
   {
    "duration": 450,
    "start_time": "2021-09-28T09:32:51.603Z"
   },
   {
    "duration": 396,
    "start_time": "2021-09-28T09:33:14.370Z"
   },
   {
    "duration": 384,
    "start_time": "2021-09-28T09:33:30.950Z"
   },
   {
    "duration": 518,
    "start_time": "2021-09-28T09:34:10.662Z"
   },
   {
    "duration": 1510,
    "start_time": "2021-09-28T09:34:39.868Z"
   },
   {
    "duration": 229,
    "start_time": "2021-09-28T09:34:41.381Z"
   },
   {
    "duration": 16,
    "start_time": "2021-09-28T09:34:41.613Z"
   },
   {
    "duration": 163,
    "start_time": "2021-09-28T09:34:41.631Z"
   },
   {
    "duration": 53,
    "start_time": "2021-09-28T09:34:41.796Z"
   },
   {
    "duration": 207,
    "start_time": "2021-09-28T09:34:41.852Z"
   },
   {
    "duration": 12,
    "start_time": "2021-09-28T09:34:42.061Z"
   },
   {
    "duration": 117,
    "start_time": "2021-09-28T09:34:42.076Z"
   },
   {
    "duration": 43,
    "start_time": "2021-09-28T09:34:42.197Z"
   },
   {
    "duration": 138,
    "start_time": "2021-09-28T09:34:42.243Z"
   },
   {
    "duration": 10,
    "start_time": "2021-09-28T09:34:42.383Z"
   },
   {
    "duration": 78,
    "start_time": "2021-09-28T09:34:42.395Z"
   },
   {
    "duration": 46,
    "start_time": "2021-09-28T09:34:42.475Z"
   },
   {
    "duration": 23,
    "start_time": "2021-09-28T09:34:42.524Z"
   },
   {
    "duration": 24,
    "start_time": "2021-09-28T09:34:42.550Z"
   },
   {
    "duration": 14,
    "start_time": "2021-09-28T09:34:42.576Z"
   },
   {
    "duration": 46,
    "start_time": "2021-09-28T09:34:42.593Z"
   },
   {
    "duration": 15,
    "start_time": "2021-09-28T09:34:42.641Z"
   },
   {
    "duration": 14,
    "start_time": "2021-09-28T09:34:42.658Z"
   },
   {
    "duration": 52,
    "start_time": "2021-09-28T09:34:42.674Z"
   },
   {
    "duration": 8,
    "start_time": "2021-09-28T09:34:42.729Z"
   },
   {
    "duration": 124,
    "start_time": "2021-09-28T09:34:42.739Z"
   },
   {
    "duration": 6,
    "start_time": "2021-09-28T09:34:42.865Z"
   },
   {
    "duration": 15,
    "start_time": "2021-09-28T09:34:42.873Z"
   },
   {
    "duration": 29,
    "start_time": "2021-09-28T09:34:42.890Z"
   },
   {
    "duration": 9,
    "start_time": "2021-09-28T09:34:42.921Z"
   },
   {
    "duration": 7,
    "start_time": "2021-09-28T09:34:42.936Z"
   },
   {
    "duration": 652,
    "start_time": "2021-09-28T09:34:42.946Z"
   },
   {
    "duration": 16,
    "start_time": "2021-09-28T09:34:43.601Z"
   },
   {
    "duration": 74,
    "start_time": "2021-09-28T09:34:43.619Z"
   },
   {
    "duration": 153,
    "start_time": "2021-09-28T09:34:43.696Z"
   },
   {
    "duration": 49,
    "start_time": "2021-09-28T09:34:43.851Z"
   },
   {
    "duration": 46,
    "start_time": "2021-09-28T09:34:43.902Z"
   },
   {
    "duration": 73,
    "start_time": "2021-09-28T09:34:43.950Z"
   },
   {
    "duration": 10,
    "start_time": "2021-09-28T09:34:44.026Z"
   },
   {
    "duration": 34,
    "start_time": "2021-09-28T09:34:44.039Z"
   },
   {
    "duration": 1877,
    "start_time": "2021-09-28T09:34:44.075Z"
   },
   {
    "duration": 8,
    "start_time": "2021-09-28T09:34:45.954Z"
   },
   {
    "duration": 40,
    "start_time": "2021-09-28T09:34:45.965Z"
   },
   {
    "duration": 47,
    "start_time": "2021-09-28T09:34:46.007Z"
   },
   {
    "duration": 80,
    "start_time": "2021-09-28T09:34:46.057Z"
   },
   {
    "duration": 491,
    "start_time": "2021-09-28T09:34:46.139Z"
   },
   {
    "duration": 388,
    "start_time": "2021-09-28T09:34:46.632Z"
   },
   {
    "duration": 57,
    "start_time": "2021-09-28T09:34:47.022Z"
   },
   {
    "duration": 91,
    "start_time": "2021-09-28T09:34:47.082Z"
   },
   {
    "duration": 79,
    "start_time": "2021-09-28T09:34:47.175Z"
   },
   {
    "duration": 731,
    "start_time": "2021-09-28T09:35:30.970Z"
   },
   {
    "duration": 662,
    "start_time": "2021-09-28T09:35:42.160Z"
   },
   {
    "duration": 422,
    "start_time": "2021-09-28T09:35:53.361Z"
   },
   {
    "duration": 158,
    "start_time": "2021-09-28T09:36:01.931Z"
   },
   {
    "duration": 412,
    "start_time": "2021-09-28T09:36:07.881Z"
   },
   {
    "duration": 435,
    "start_time": "2021-09-28T09:36:28.619Z"
   },
   {
    "duration": 451,
    "start_time": "2021-09-28T09:36:33.405Z"
   },
   {
    "duration": 446,
    "start_time": "2021-09-28T09:36:40.009Z"
   },
   {
    "duration": 413,
    "start_time": "2021-09-28T09:36:47.861Z"
   },
   {
    "duration": 411,
    "start_time": "2021-09-28T09:37:47.741Z"
   },
   {
    "duration": 137,
    "start_time": "2021-09-28T09:38:15.140Z"
   },
   {
    "duration": 147,
    "start_time": "2021-09-28T09:38:36.401Z"
   },
   {
    "duration": 833,
    "start_time": "2021-09-28T09:38:49.440Z"
   },
   {
    "duration": 502,
    "start_time": "2021-09-28T09:39:13.056Z"
   },
   {
    "duration": 426,
    "start_time": "2021-09-28T09:39:47.372Z"
   },
   {
    "duration": 490,
    "start_time": "2021-09-28T09:39:54.559Z"
   },
   {
    "duration": 430,
    "start_time": "2021-09-28T09:40:03.532Z"
   },
   {
    "duration": 449,
    "start_time": "2021-09-28T09:40:07.069Z"
   },
   {
    "duration": 494,
    "start_time": "2021-09-28T09:40:22.159Z"
   },
   {
    "duration": 445,
    "start_time": "2021-09-28T09:40:37.541Z"
   },
   {
    "duration": 373,
    "start_time": "2021-09-28T09:40:46.739Z"
   },
   {
    "duration": 500,
    "start_time": "2021-09-28T09:41:08.649Z"
   },
   {
    "duration": 394,
    "start_time": "2021-09-28T09:41:21.722Z"
   },
   {
    "duration": 390,
    "start_time": "2021-09-28T09:41:34.229Z"
   },
   {
    "duration": 530,
    "start_time": "2021-09-28T09:41:50.009Z"
   },
   {
    "duration": 650,
    "start_time": "2021-09-28T09:42:08.682Z"
   },
   {
    "duration": 131,
    "start_time": "2021-09-28T09:42:34.140Z"
   },
   {
    "duration": 456,
    "start_time": "2021-09-28T09:42:42.550Z"
   },
   {
    "duration": 456,
    "start_time": "2021-09-28T09:43:23.762Z"
   },
   {
    "duration": 426,
    "start_time": "2021-09-28T09:43:47.539Z"
   },
   {
    "duration": 434,
    "start_time": "2021-09-28T09:43:56.539Z"
   },
   {
    "duration": 429,
    "start_time": "2021-09-28T09:44:11.259Z"
   },
   {
    "duration": 440,
    "start_time": "2021-09-28T09:44:17.979Z"
   },
   {
    "duration": 458,
    "start_time": "2021-09-28T09:44:38.310Z"
   },
   {
    "duration": 496,
    "start_time": "2021-09-28T09:44:50.279Z"
   },
   {
    "duration": 457,
    "start_time": "2021-09-28T09:44:55.541Z"
   },
   {
    "duration": 787,
    "start_time": "2021-09-28T09:45:56.679Z"
   },
   {
    "duration": 1385,
    "start_time": "2021-09-28T09:47:34.829Z"
   },
   {
    "duration": 536,
    "start_time": "2021-09-28T09:47:51.329Z"
   },
   {
    "duration": 449,
    "start_time": "2021-09-28T09:48:17.719Z"
   },
   {
    "duration": 389,
    "start_time": "2021-09-28T09:50:03.769Z"
   },
   {
    "duration": 442,
    "start_time": "2021-09-28T09:51:05.362Z"
   },
   {
    "duration": 402,
    "start_time": "2021-09-28T09:54:06.960Z"
   },
   {
    "duration": 449,
    "start_time": "2021-09-28T09:56:09.299Z"
   },
   {
    "duration": 443,
    "start_time": "2021-09-28T09:57:42.639Z"
   },
   {
    "duration": 578,
    "start_time": "2021-09-28T10:29:16.043Z"
   },
   {
    "duration": 391,
    "start_time": "2021-09-28T10:29:57.923Z"
   },
   {
    "duration": 998,
    "start_time": "2021-09-28T10:32:23.843Z"
   },
   {
    "duration": 617,
    "start_time": "2021-09-28T10:32:32.245Z"
   },
   {
    "duration": 614,
    "start_time": "2021-09-28T10:32:52.383Z"
   },
   {
    "duration": 597,
    "start_time": "2021-09-28T10:33:34.354Z"
   },
   {
    "duration": 614,
    "start_time": "2021-09-28T10:33:46.083Z"
   },
   {
    "duration": 642,
    "start_time": "2021-09-28T10:34:15.196Z"
   },
   {
    "duration": 630,
    "start_time": "2021-09-28T10:34:29.574Z"
   },
   {
    "duration": 495,
    "start_time": "2021-09-28T10:34:37.845Z"
   },
   {
    "duration": 773,
    "start_time": "2021-09-28T10:34:46.743Z"
   },
   {
    "duration": 906,
    "start_time": "2021-09-28T10:35:04.833Z"
   },
   {
    "duration": 578,
    "start_time": "2021-09-28T10:35:21.003Z"
   },
   {
    "duration": 600,
    "start_time": "2021-09-28T10:35:40.265Z"
   },
   {
    "duration": 1012,
    "start_time": "2021-09-28T10:36:58.271Z"
   },
   {
    "duration": 408,
    "start_time": "2021-09-28T10:37:03.115Z"
   },
   {
    "duration": 479,
    "start_time": "2021-09-28T10:37:08.933Z"
   },
   {
    "duration": 390,
    "start_time": "2021-09-28T10:37:22.985Z"
   },
   {
    "duration": 468,
    "start_time": "2021-09-28T10:37:52.555Z"
   },
   {
    "duration": 548,
    "start_time": "2021-09-28T10:38:00.890Z"
   },
   {
    "duration": 527,
    "start_time": "2021-09-28T10:38:13.694Z"
   },
   {
    "duration": 527,
    "start_time": "2021-09-28T10:38:19.405Z"
   },
   {
    "duration": 510,
    "start_time": "2021-09-28T10:38:28.716Z"
   },
   {
    "duration": 482,
    "start_time": "2021-09-28T10:38:33.144Z"
   },
   {
    "duration": 500,
    "start_time": "2021-09-28T10:39:12.153Z"
   },
   {
    "duration": 496,
    "start_time": "2021-09-28T10:40:00.976Z"
   },
   {
    "duration": 477,
    "start_time": "2021-09-28T10:40:11.154Z"
   },
   {
    "duration": 509,
    "start_time": "2021-09-28T10:40:35.143Z"
   },
   {
    "duration": 519,
    "start_time": "2021-09-28T10:40:38.056Z"
   },
   {
    "duration": 582,
    "start_time": "2021-09-28T10:41:16.622Z"
   },
   {
    "duration": 457,
    "start_time": "2021-09-28T10:44:39.622Z"
   },
   {
    "duration": 443,
    "start_time": "2021-09-28T10:45:07.114Z"
   },
   {
    "duration": 490,
    "start_time": "2021-09-28T10:45:44.443Z"
   },
   {
    "duration": 488,
    "start_time": "2021-09-28T10:50:13.184Z"
   },
   {
    "duration": 513,
    "start_time": "2021-09-28T10:50:27.874Z"
   },
   {
    "duration": 504,
    "start_time": "2021-09-28T10:50:40.442Z"
   },
   {
    "duration": 661,
    "start_time": "2021-09-28T10:51:00.842Z"
   },
   {
    "duration": 440,
    "start_time": "2021-09-28T10:52:46.712Z"
   },
   {
    "duration": 473,
    "start_time": "2021-09-28T10:52:58.244Z"
   },
   {
    "duration": 468,
    "start_time": "2021-09-28T10:58:40.032Z"
   },
   {
    "duration": 438,
    "start_time": "2021-09-28T10:59:01.373Z"
   },
   {
    "duration": 454,
    "start_time": "2021-09-28T10:59:36.334Z"
   },
   {
    "duration": 455,
    "start_time": "2021-09-28T10:59:57.136Z"
   },
   {
    "duration": 431,
    "start_time": "2021-09-28T11:07:23.773Z"
   },
   {
    "duration": 532,
    "start_time": "2021-09-28T11:15:39.582Z"
   },
   {
    "duration": 4,
    "start_time": "2021-09-28T11:33:10.805Z"
   },
   {
    "duration": 456,
    "start_time": "2021-09-28T11:35:17.715Z"
   },
   {
    "duration": 7,
    "start_time": "2021-09-28T11:35:24.542Z"
   },
   {
    "duration": 7,
    "start_time": "2021-09-28T11:37:53.283Z"
   },
   {
    "duration": 9,
    "start_time": "2021-09-28T11:38:21.744Z"
   },
   {
    "duration": 8,
    "start_time": "2021-09-28T11:38:48.947Z"
   },
   {
    "duration": 1540,
    "start_time": "2021-09-28T11:39:05.088Z"
   },
   {
    "duration": 239,
    "start_time": "2021-09-28T11:39:06.631Z"
   },
   {
    "duration": 16,
    "start_time": "2021-09-28T11:39:06.874Z"
   },
   {
    "duration": 167,
    "start_time": "2021-09-28T11:39:06.893Z"
   },
   {
    "duration": 63,
    "start_time": "2021-09-28T11:39:07.062Z"
   },
   {
    "duration": 208,
    "start_time": "2021-09-28T11:39:07.128Z"
   },
   {
    "duration": 11,
    "start_time": "2021-09-28T11:39:07.338Z"
   },
   {
    "duration": 101,
    "start_time": "2021-09-28T11:39:07.353Z"
   },
   {
    "duration": 36,
    "start_time": "2021-09-28T11:39:07.457Z"
   },
   {
    "duration": 167,
    "start_time": "2021-09-28T11:39:07.496Z"
   },
   {
    "duration": 10,
    "start_time": "2021-09-28T11:39:07.666Z"
   },
   {
    "duration": 85,
    "start_time": "2021-09-28T11:39:07.678Z"
   },
   {
    "duration": 25,
    "start_time": "2021-09-28T11:39:07.765Z"
   },
   {
    "duration": 36,
    "start_time": "2021-09-28T11:39:07.792Z"
   },
   {
    "duration": 19,
    "start_time": "2021-09-28T11:39:07.832Z"
   },
   {
    "duration": 16,
    "start_time": "2021-09-28T11:39:07.853Z"
   },
   {
    "duration": 51,
    "start_time": "2021-09-28T11:39:07.872Z"
   },
   {
    "duration": 17,
    "start_time": "2021-09-28T11:39:07.926Z"
   },
   {
    "duration": 11,
    "start_time": "2021-09-28T11:39:07.946Z"
   },
   {
    "duration": 66,
    "start_time": "2021-09-28T11:39:07.960Z"
   },
   {
    "duration": 8,
    "start_time": "2021-09-28T11:39:08.029Z"
   },
   {
    "duration": 129,
    "start_time": "2021-09-28T11:39:08.040Z"
   },
   {
    "duration": 6,
    "start_time": "2021-09-28T11:39:08.174Z"
   },
   {
    "duration": 10,
    "start_time": "2021-09-28T11:39:08.183Z"
   },
   {
    "duration": 23,
    "start_time": "2021-09-28T11:39:08.196Z"
   },
   {
    "duration": 12,
    "start_time": "2021-09-28T11:39:08.224Z"
   },
   {
    "duration": 7,
    "start_time": "2021-09-28T11:39:08.238Z"
   },
   {
    "duration": 695,
    "start_time": "2021-09-28T11:39:08.247Z"
   },
   {
    "duration": 8,
    "start_time": "2021-09-28T11:39:08.944Z"
   },
   {
    "duration": 97,
    "start_time": "2021-09-28T11:39:08.954Z"
   },
   {
    "duration": 156,
    "start_time": "2021-09-28T11:39:09.053Z"
   },
   {
    "duration": 53,
    "start_time": "2021-09-28T11:39:09.212Z"
   },
   {
    "duration": 67,
    "start_time": "2021-09-28T11:39:09.267Z"
   },
   {
    "duration": 40,
    "start_time": "2021-09-28T11:39:09.337Z"
   },
   {
    "duration": 9,
    "start_time": "2021-09-28T11:39:09.379Z"
   },
   {
    "duration": 21,
    "start_time": "2021-09-28T11:39:09.422Z"
   },
   {
    "duration": 2121,
    "start_time": "2021-09-28T11:39:09.445Z"
   },
   {
    "duration": 8,
    "start_time": "2021-09-28T11:39:11.569Z"
   },
   {
    "duration": 47,
    "start_time": "2021-09-28T11:39:11.580Z"
   },
   {
    "duration": 30,
    "start_time": "2021-09-28T11:39:11.633Z"
   },
   {
    "duration": 100,
    "start_time": "2021-09-28T11:39:11.666Z"
   },
   {
    "duration": 455,
    "start_time": "2021-09-28T11:39:11.768Z"
   },
   {
    "duration": 626,
    "start_time": "2021-09-28T11:39:12.225Z"
   },
   {
    "duration": 67,
    "start_time": "2021-09-28T11:39:12.853Z"
   },
   {
    "duration": 517,
    "start_time": "2021-09-28T11:39:12.922Z"
   },
   {
    "duration": 544,
    "start_time": "2021-09-28T11:39:13.441Z"
   },
   {
    "duration": 66,
    "start_time": "2021-09-28T11:39:13.988Z"
   },
   {
    "duration": 609,
    "start_time": "2021-09-28T11:39:14.056Z"
   },
   {
    "duration": 628,
    "start_time": "2021-09-28T11:39:14.668Z"
   },
   {
    "duration": 8,
    "start_time": "2021-09-28T11:39:15.298Z"
   },
   {
    "duration": 50,
    "start_time": "2021-09-28T11:39:15.322Z"
   },
   {
    "duration": 1457,
    "start_time": "2021-09-28T11:40:05.757Z"
   },
   {
    "duration": 251,
    "start_time": "2021-09-28T11:40:07.219Z"
   },
   {
    "duration": 15,
    "start_time": "2021-09-28T11:40:07.473Z"
   },
   {
    "duration": 156,
    "start_time": "2021-09-28T11:40:07.491Z"
   },
   {
    "duration": 41,
    "start_time": "2021-09-28T11:40:07.649Z"
   },
   {
    "duration": 238,
    "start_time": "2021-09-28T11:40:07.692Z"
   },
   {
    "duration": 12,
    "start_time": "2021-09-28T11:40:07.933Z"
   },
   {
    "duration": 114,
    "start_time": "2021-09-28T11:40:07.948Z"
   },
   {
    "duration": 52,
    "start_time": "2021-09-28T11:40:08.069Z"
   },
   {
    "duration": 141,
    "start_time": "2021-09-28T11:40:08.130Z"
   },
   {
    "duration": 11,
    "start_time": "2021-09-28T11:40:08.273Z"
   },
   {
    "duration": 72,
    "start_time": "2021-09-28T11:40:08.286Z"
   },
   {
    "duration": 26,
    "start_time": "2021-09-28T11:40:08.360Z"
   },
   {
    "duration": 42,
    "start_time": "2021-09-28T11:40:08.389Z"
   },
   {
    "duration": 18,
    "start_time": "2021-09-28T11:40:08.433Z"
   },
   {
    "duration": 25,
    "start_time": "2021-09-28T11:40:08.453Z"
   },
   {
    "duration": 56,
    "start_time": "2021-09-28T11:40:08.480Z"
   },
   {
    "duration": 17,
    "start_time": "2021-09-28T11:40:08.539Z"
   },
   {
    "duration": 19,
    "start_time": "2021-09-28T11:40:08.559Z"
   },
   {
    "duration": 61,
    "start_time": "2021-09-28T11:40:08.581Z"
   },
   {
    "duration": 8,
    "start_time": "2021-09-28T11:40:08.645Z"
   },
   {
    "duration": 118,
    "start_time": "2021-09-28T11:40:08.655Z"
   },
   {
    "duration": 6,
    "start_time": "2021-09-28T11:40:08.775Z"
   },
   {
    "duration": 20,
    "start_time": "2021-09-28T11:40:08.783Z"
   },
   {
    "duration": 12,
    "start_time": "2021-09-28T11:40:08.815Z"
   },
   {
    "duration": 11,
    "start_time": "2021-09-28T11:40:08.833Z"
   },
   {
    "duration": 18,
    "start_time": "2021-09-28T11:40:08.852Z"
   },
   {
    "duration": 694,
    "start_time": "2021-09-28T11:40:08.874Z"
   },
   {
    "duration": 11,
    "start_time": "2021-09-28T11:40:09.571Z"
   },
   {
    "duration": 104,
    "start_time": "2021-09-28T11:40:09.585Z"
   },
   {
    "duration": 168,
    "start_time": "2021-09-28T11:40:09.692Z"
   },
   {
    "duration": 74,
    "start_time": "2021-09-28T11:40:09.862Z"
   },
   {
    "duration": 41,
    "start_time": "2021-09-28T11:40:09.940Z"
   },
   {
    "duration": 77,
    "start_time": "2021-09-28T11:40:09.984Z"
   },
   {
    "duration": 10,
    "start_time": "2021-09-28T11:40:10.064Z"
   },
   {
    "duration": 59,
    "start_time": "2021-09-28T11:40:10.076Z"
   },
   {
    "duration": 2019,
    "start_time": "2021-09-28T11:40:10.137Z"
   },
   {
    "duration": 9,
    "start_time": "2021-09-28T11:40:12.159Z"
   },
   {
    "duration": 58,
    "start_time": "2021-09-28T11:40:12.171Z"
   },
   {
    "duration": 31,
    "start_time": "2021-09-28T11:40:12.232Z"
   },
   {
    "duration": 87,
    "start_time": "2021-09-28T11:40:12.265Z"
   },
   {
    "duration": 485,
    "start_time": "2021-09-28T11:40:12.355Z"
   },
   {
    "duration": 582,
    "start_time": "2021-09-28T11:40:12.843Z"
   },
   {
    "duration": 65,
    "start_time": "2021-09-28T11:40:13.431Z"
   },
   {
    "duration": 533,
    "start_time": "2021-09-28T11:40:13.517Z"
   },
   {
    "duration": 538,
    "start_time": "2021-09-28T11:40:14.052Z"
   },
   {
    "duration": 67,
    "start_time": "2021-09-28T11:40:14.593Z"
   },
   {
    "duration": 613,
    "start_time": "2021-09-28T11:40:14.663Z"
   },
   {
    "duration": 503,
    "start_time": "2021-09-28T11:40:15.279Z"
   },
   {
    "duration": 6,
    "start_time": "2021-09-28T11:40:15.785Z"
   },
   {
    "duration": 68,
    "start_time": "2021-09-28T11:40:15.794Z"
   },
   {
    "duration": 19,
    "start_time": "2021-09-28T11:41:16.118Z"
   },
   {
    "duration": 8,
    "start_time": "2021-09-28T11:41:21.637Z"
   },
   {
    "duration": 8,
    "start_time": "2021-09-28T11:42:34.348Z"
   },
   {
    "duration": 34,
    "start_time": "2021-09-28T11:42:57.807Z"
   },
   {
    "duration": 9,
    "start_time": "2021-09-28T11:42:58.897Z"
   },
   {
    "duration": 31,
    "start_time": "2021-09-28T11:43:05.378Z"
   },
   {
    "duration": 15,
    "start_time": "2021-09-28T11:43:28.777Z"
   },
   {
    "duration": 19,
    "start_time": "2021-09-28T11:43:36.306Z"
   },
   {
    "duration": 16,
    "start_time": "2021-09-28T11:44:03.878Z"
   },
   {
    "duration": 23,
    "start_time": "2021-09-28T11:44:50.438Z"
   },
   {
    "duration": 20,
    "start_time": "2021-09-28T11:45:01.118Z"
   },
   {
    "duration": 12,
    "start_time": "2021-09-28T11:45:10.667Z"
   },
   {
    "duration": 13,
    "start_time": "2021-09-28T11:45:18.028Z"
   },
   {
    "duration": 32,
    "start_time": "2021-09-28T11:46:27.766Z"
   },
   {
    "duration": 15,
    "start_time": "2021-09-28T11:46:28.647Z"
   },
   {
    "duration": 5,
    "start_time": "2021-09-28T12:00:41.739Z"
   },
   {
    "duration": 30,
    "start_time": "2021-09-28T12:00:47.527Z"
   },
   {
    "duration": 5,
    "start_time": "2021-09-28T12:00:49.448Z"
   },
   {
    "duration": 36,
    "start_time": "2021-09-28T12:01:54.497Z"
   },
   {
    "duration": 1596,
    "start_time": "2021-09-28T12:02:03.641Z"
   },
   {
    "duration": 243,
    "start_time": "2021-09-28T12:02:05.240Z"
   },
   {
    "duration": 33,
    "start_time": "2021-09-28T12:02:05.486Z"
   },
   {
    "duration": 157,
    "start_time": "2021-09-28T12:02:05.522Z"
   },
   {
    "duration": 62,
    "start_time": "2021-09-28T12:02:05.681Z"
   },
   {
    "duration": 217,
    "start_time": "2021-09-28T12:02:05.746Z"
   },
   {
    "duration": 11,
    "start_time": "2021-09-28T12:02:05.965Z"
   },
   {
    "duration": 98,
    "start_time": "2021-09-28T12:02:05.979Z"
   },
   {
    "duration": 58,
    "start_time": "2021-09-28T12:02:06.082Z"
   },
   {
    "duration": 150,
    "start_time": "2021-09-28T12:02:06.144Z"
   },
   {
    "duration": 11,
    "start_time": "2021-09-28T12:02:06.296Z"
   },
   {
    "duration": 66,
    "start_time": "2021-09-28T12:02:06.320Z"
   },
   {
    "duration": 30,
    "start_time": "2021-09-28T12:02:06.416Z"
   },
   {
    "duration": 26,
    "start_time": "2021-09-28T12:02:06.449Z"
   },
   {
    "duration": 39,
    "start_time": "2021-09-28T12:02:06.478Z"
   },
   {
    "duration": 18,
    "start_time": "2021-09-28T12:02:06.520Z"
   },
   {
    "duration": 74,
    "start_time": "2021-09-28T12:02:06.540Z"
   },
   {
    "duration": 22,
    "start_time": "2021-09-28T12:02:06.617Z"
   },
   {
    "duration": 13,
    "start_time": "2021-09-28T12:02:06.642Z"
   },
   {
    "duration": 74,
    "start_time": "2021-09-28T12:02:06.658Z"
   },
   {
    "duration": 11,
    "start_time": "2021-09-28T12:02:06.734Z"
   },
   {
    "duration": 181,
    "start_time": "2021-09-28T12:02:06.749Z"
   },
   {
    "duration": 7,
    "start_time": "2021-09-28T12:02:06.933Z"
   },
   {
    "duration": 10,
    "start_time": "2021-09-28T12:02:06.943Z"
   },
   {
    "duration": 7,
    "start_time": "2021-09-28T12:02:06.955Z"
   },
   {
    "duration": 8,
    "start_time": "2021-09-28T12:02:06.965Z"
   },
   {
    "duration": 9,
    "start_time": "2021-09-28T12:02:07.025Z"
   },
   {
    "duration": 701,
    "start_time": "2021-09-28T12:02:07.041Z"
   },
   {
    "duration": 8,
    "start_time": "2021-09-28T12:02:07.745Z"
   },
   {
    "duration": 100,
    "start_time": "2021-09-28T12:02:07.755Z"
   },
   {
    "duration": 153,
    "start_time": "2021-09-28T12:02:07.857Z"
   },
   {
    "duration": 56,
    "start_time": "2021-09-28T12:02:08.013Z"
   },
   {
    "duration": 72,
    "start_time": "2021-09-28T12:02:08.072Z"
   },
   {
    "duration": 40,
    "start_time": "2021-09-28T12:02:08.147Z"
   },
   {
    "duration": 42,
    "start_time": "2021-09-28T12:02:08.189Z"
   },
   {
    "duration": 16,
    "start_time": "2021-09-28T12:02:08.237Z"
   },
   {
    "duration": 2144,
    "start_time": "2021-09-28T12:02:08.256Z"
   },
   {
    "duration": 21,
    "start_time": "2021-09-28T12:02:10.403Z"
   },
   {
    "duration": 20,
    "start_time": "2021-09-28T12:02:10.427Z"
   },
   {
    "duration": 32,
    "start_time": "2021-09-28T12:02:10.450Z"
   },
   {
    "duration": 21,
    "start_time": "2021-09-28T12:02:10.529Z"
   },
   {
    "duration": 77,
    "start_time": "2021-09-28T12:02:10.552Z"
   },
   {
    "duration": 488,
    "start_time": "2021-09-28T12:02:10.632Z"
   },
   {
    "duration": 558,
    "start_time": "2021-09-28T12:02:11.122Z"
   },
   {
    "duration": 78,
    "start_time": "2021-09-28T12:02:11.682Z"
   },
   {
    "duration": 530,
    "start_time": "2021-09-28T12:02:11.762Z"
   },
   {
    "duration": 513,
    "start_time": "2021-09-28T12:02:12.295Z"
   },
   {
    "duration": 63,
    "start_time": "2021-09-28T12:02:12.811Z"
   },
   {
    "duration": 476,
    "start_time": "2021-09-28T12:02:12.878Z"
   },
   {
    "duration": 554,
    "start_time": "2021-09-28T12:02:13.357Z"
   },
   {
    "duration": 8,
    "start_time": "2021-09-28T12:02:13.913Z"
   },
   {
    "duration": 55,
    "start_time": "2021-09-28T12:02:13.924Z"
   },
   {
    "duration": 8,
    "start_time": "2021-09-28T12:03:30.332Z"
   },
   {
    "duration": 1519,
    "start_time": "2021-09-28T12:04:41.092Z"
   },
   {
    "duration": 244,
    "start_time": "2021-09-28T12:04:42.614Z"
   },
   {
    "duration": 15,
    "start_time": "2021-09-28T12:04:42.861Z"
   },
   {
    "duration": 162,
    "start_time": "2021-09-28T12:04:42.879Z"
   },
   {
    "duration": 42,
    "start_time": "2021-09-28T12:04:43.044Z"
   },
   {
    "duration": 225,
    "start_time": "2021-09-28T12:04:43.089Z"
   },
   {
    "duration": 14,
    "start_time": "2021-09-28T12:04:43.319Z"
   },
   {
    "duration": 103,
    "start_time": "2021-09-28T12:04:43.336Z"
   },
   {
    "duration": 38,
    "start_time": "2021-09-28T12:04:43.443Z"
   },
   {
    "duration": 160,
    "start_time": "2021-09-28T12:04:43.484Z"
   },
   {
    "duration": 9,
    "start_time": "2021-09-28T12:04:43.647Z"
   },
   {
    "duration": 90,
    "start_time": "2021-09-28T12:04:43.659Z"
   },
   {
    "duration": 26,
    "start_time": "2021-09-28T12:04:43.751Z"
   },
   {
    "duration": 41,
    "start_time": "2021-09-28T12:04:43.780Z"
   },
   {
    "duration": 17,
    "start_time": "2021-09-28T12:04:43.824Z"
   },
   {
    "duration": 15,
    "start_time": "2021-09-28T12:04:43.843Z"
   },
   {
    "duration": 51,
    "start_time": "2021-09-28T12:04:43.860Z"
   },
   {
    "duration": 17,
    "start_time": "2021-09-28T12:04:43.916Z"
   },
   {
    "duration": 9,
    "start_time": "2021-09-28T12:04:43.935Z"
   },
   {
    "duration": 29,
    "start_time": "2021-09-28T12:04:43.946Z"
   },
   {
    "duration": 53,
    "start_time": "2021-09-28T12:04:43.977Z"
   },
   {
    "duration": 113,
    "start_time": "2021-09-28T12:04:44.033Z"
   },
   {
    "duration": 7,
    "start_time": "2021-09-28T12:04:44.149Z"
   },
   {
    "duration": 22,
    "start_time": "2021-09-28T12:04:44.159Z"
   },
   {
    "duration": 34,
    "start_time": "2021-09-28T12:04:44.184Z"
   },
   {
    "duration": 9,
    "start_time": "2021-09-28T12:04:44.226Z"
   },
   {
    "duration": 8,
    "start_time": "2021-09-28T12:04:44.240Z"
   },
   {
    "duration": 658,
    "start_time": "2021-09-28T12:04:44.250Z"
   },
   {
    "duration": 9,
    "start_time": "2021-09-28T12:04:44.911Z"
   },
   {
    "duration": 105,
    "start_time": "2021-09-28T12:04:44.922Z"
   },
   {
    "duration": 141,
    "start_time": "2021-09-28T12:04:45.029Z"
   },
   {
    "duration": 70,
    "start_time": "2021-09-28T12:04:45.172Z"
   },
   {
    "duration": 35,
    "start_time": "2021-09-28T12:04:45.244Z"
   },
   {
    "duration": 68,
    "start_time": "2021-09-28T12:04:45.281Z"
   },
   {
    "duration": 10,
    "start_time": "2021-09-28T12:04:45.352Z"
   },
   {
    "duration": 21,
    "start_time": "2021-09-28T12:04:45.364Z"
   },
   {
    "duration": 2110,
    "start_time": "2021-09-28T12:04:45.388Z"
   },
   {
    "duration": 30,
    "start_time": "2021-09-28T12:04:47.501Z"
   },
   {
    "duration": 21,
    "start_time": "2021-09-28T12:04:47.534Z"
   },
   {
    "duration": 63,
    "start_time": "2021-09-28T12:04:47.557Z"
   },
   {
    "duration": 21,
    "start_time": "2021-09-28T12:04:47.623Z"
   },
   {
    "duration": 81,
    "start_time": "2021-09-28T12:04:47.646Z"
   },
   {
    "duration": 472,
    "start_time": "2021-09-28T12:04:47.729Z"
   },
   {
    "duration": 504,
    "start_time": "2021-09-28T12:04:48.203Z"
   },
   {
    "duration": 62,
    "start_time": "2021-09-28T12:04:48.717Z"
   },
   {
    "duration": 507,
    "start_time": "2021-09-28T12:04:48.781Z"
   },
   {
    "duration": 554,
    "start_time": "2021-09-28T12:04:49.291Z"
   },
   {
    "duration": 81,
    "start_time": "2021-09-28T12:04:49.848Z"
   },
   {
    "duration": 457,
    "start_time": "2021-09-28T12:04:49.932Z"
   },
   {
    "duration": 497,
    "start_time": "2021-09-28T12:04:50.391Z"
   },
   {
    "duration": 8,
    "start_time": "2021-09-28T12:04:50.891Z"
   },
   {
    "duration": 54,
    "start_time": "2021-09-28T12:04:50.921Z"
   },
   {
    "duration": 9,
    "start_time": "2021-09-28T12:08:07.622Z"
   },
   {
    "duration": 7,
    "start_time": "2021-09-28T12:14:18.282Z"
   },
   {
    "duration": 6,
    "start_time": "2021-09-28T12:14:19.083Z"
   },
   {
    "duration": 809,
    "start_time": "2021-09-28T12:25:28.540Z"
   },
   {
    "duration": 38,
    "start_time": "2021-09-28T12:25:32.430Z"
   },
   {
    "duration": 38,
    "start_time": "2021-09-28T12:25:42.236Z"
   },
   {
    "duration": 18,
    "start_time": "2021-09-28T12:25:46.912Z"
   },
   {
    "duration": 1550,
    "start_time": "2021-09-28T12:25:58.379Z"
   },
   {
    "duration": 247,
    "start_time": "2021-09-28T12:25:59.932Z"
   },
   {
    "duration": 16,
    "start_time": "2021-09-28T12:26:00.182Z"
   },
   {
    "duration": 171,
    "start_time": "2021-09-28T12:26:00.200Z"
   },
   {
    "duration": 71,
    "start_time": "2021-09-28T12:26:00.374Z"
   },
   {
    "duration": 226,
    "start_time": "2021-09-28T12:26:00.448Z"
   },
   {
    "duration": 12,
    "start_time": "2021-09-28T12:26:00.676Z"
   },
   {
    "duration": 108,
    "start_time": "2021-09-28T12:26:00.691Z"
   },
   {
    "duration": 46,
    "start_time": "2021-09-28T12:26:00.803Z"
   },
   {
    "duration": 154,
    "start_time": "2021-09-28T12:26:00.852Z"
   },
   {
    "duration": 21,
    "start_time": "2021-09-28T12:26:01.009Z"
   },
   {
    "duration": 88,
    "start_time": "2021-09-28T12:26:01.033Z"
   },
   {
    "duration": 26,
    "start_time": "2021-09-28T12:26:01.124Z"
   },
   {
    "duration": 25,
    "start_time": "2021-09-28T12:26:01.153Z"
   },
   {
    "duration": 43,
    "start_time": "2021-09-28T12:26:01.180Z"
   },
   {
    "duration": 22,
    "start_time": "2021-09-28T12:26:01.226Z"
   },
   {
    "duration": 68,
    "start_time": "2021-09-28T12:26:01.251Z"
   },
   {
    "duration": 38,
    "start_time": "2021-09-28T12:26:01.322Z"
   },
   {
    "duration": 58,
    "start_time": "2021-09-28T12:26:01.362Z"
   },
   {
    "duration": 48,
    "start_time": "2021-09-28T12:26:01.423Z"
   },
   {
    "duration": 31,
    "start_time": "2021-09-28T12:26:01.474Z"
   },
   {
    "duration": 127,
    "start_time": "2021-09-28T12:26:01.507Z"
   },
   {
    "duration": 6,
    "start_time": "2021-09-28T12:26:01.636Z"
   },
   {
    "duration": 52,
    "start_time": "2021-09-28T12:26:01.645Z"
   },
   {
    "duration": 46,
    "start_time": "2021-09-28T12:26:01.699Z"
   },
   {
    "duration": 21,
    "start_time": "2021-09-28T12:26:01.747Z"
   },
   {
    "duration": 21,
    "start_time": "2021-09-28T12:26:01.773Z"
   },
   {
    "duration": 688,
    "start_time": "2021-09-28T12:26:01.797Z"
   },
   {
    "duration": 7,
    "start_time": "2021-09-28T12:26:02.488Z"
   },
   {
    "duration": 78,
    "start_time": "2021-09-28T12:26:02.516Z"
   },
   {
    "duration": 179,
    "start_time": "2021-09-28T12:26:02.596Z"
   },
   {
    "duration": 76,
    "start_time": "2021-09-28T12:26:02.778Z"
   },
   {
    "duration": 34,
    "start_time": "2021-09-28T12:26:02.857Z"
   },
   {
    "duration": 62,
    "start_time": "2021-09-28T12:26:02.894Z"
   },
   {
    "duration": 10,
    "start_time": "2021-09-28T12:26:02.958Z"
   },
   {
    "duration": 61,
    "start_time": "2021-09-28T12:26:02.970Z"
   },
   {
    "duration": 2000,
    "start_time": "2021-09-28T12:26:03.033Z"
   },
   {
    "duration": 8,
    "start_time": "2021-09-28T12:26:05.035Z"
   },
   {
    "duration": 23,
    "start_time": "2021-09-28T12:26:05.045Z"
   },
   {
    "duration": 80,
    "start_time": "2021-09-28T12:26:05.070Z"
   },
   {
    "duration": 77,
    "start_time": "2021-09-28T12:26:05.152Z"
   },
   {
    "duration": 458,
    "start_time": "2021-09-28T12:26:05.233Z"
   },
   {
    "duration": 526,
    "start_time": "2021-09-28T12:26:05.693Z"
   },
   {
    "duration": 68,
    "start_time": "2021-09-28T12:26:06.224Z"
   },
   {
    "duration": 517,
    "start_time": "2021-09-28T12:26:06.295Z"
   },
   {
    "duration": 487,
    "start_time": "2021-09-28T12:26:06.817Z"
   },
   {
    "duration": 57,
    "start_time": "2021-09-28T12:26:07.307Z"
   },
   {
    "duration": 485,
    "start_time": "2021-09-28T12:26:07.367Z"
   },
   {
    "duration": 546,
    "start_time": "2021-09-28T12:26:07.855Z"
   },
   {
    "duration": 20,
    "start_time": "2021-09-28T12:26:08.404Z"
   },
   {
    "duration": 11,
    "start_time": "2021-09-28T12:26:08.427Z"
   },
   {
    "duration": 7,
    "start_time": "2021-09-28T12:26:08.441Z"
   },
   {
    "duration": 84,
    "start_time": "2021-09-28T12:26:08.450Z"
   },
   {
    "duration": 15,
    "start_time": "2021-09-28T12:28:18.123Z"
   },
   {
    "duration": 7,
    "start_time": "2021-09-28T12:28:19.423Z"
   },
   {
    "duration": 8,
    "start_time": "2021-09-28T12:29:48.590Z"
   },
   {
    "duration": 7,
    "start_time": "2021-09-28T12:31:00.531Z"
   },
   {
    "duration": 7,
    "start_time": "2021-09-28T12:31:32.183Z"
   },
   {
    "duration": 6,
    "start_time": "2021-09-28T12:31:48.151Z"
   },
   {
    "duration": 7,
    "start_time": "2021-09-28T12:32:07.279Z"
   },
   {
    "duration": 8,
    "start_time": "2021-09-28T12:34:54.293Z"
   },
   {
    "duration": 8,
    "start_time": "2021-09-28T12:35:39.862Z"
   },
   {
    "duration": 632,
    "start_time": "2021-09-28T12:40:19.167Z"
   },
   {
    "duration": 20,
    "start_time": "2021-09-28T12:40:22.543Z"
   },
   {
    "duration": 19,
    "start_time": "2021-09-28T12:40:35.142Z"
   },
   {
    "duration": 28,
    "start_time": "2021-09-28T12:43:17.733Z"
   },
   {
    "duration": 491,
    "start_time": "2021-09-28T12:45:50.493Z"
   },
   {
    "duration": 686,
    "start_time": "2021-09-28T12:46:58.823Z"
   },
   {
    "duration": 23,
    "start_time": "2021-09-28T12:47:21.463Z"
   },
   {
    "duration": 23,
    "start_time": "2021-09-28T12:49:14.554Z"
   },
   {
    "duration": 336,
    "start_time": "2021-09-28T12:50:10.151Z"
   },
   {
    "duration": 621,
    "start_time": "2021-09-28T12:50:27.513Z"
   },
   {
    "duration": 1943,
    "start_time": "2021-09-28T12:50:39.633Z"
   },
   {
    "duration": 444,
    "start_time": "2021-09-28T12:51:01.842Z"
   },
   {
    "duration": 1824,
    "start_time": "2021-09-28T12:51:10.853Z"
   },
   {
    "duration": 8,
    "start_time": "2021-09-28T13:08:46.545Z"
   },
   {
    "duration": 22,
    "start_time": "2021-09-28T13:08:58.665Z"
   },
   {
    "duration": 7,
    "start_time": "2021-09-28T13:08:59.235Z"
   },
   {
    "duration": 8,
    "start_time": "2021-09-28T13:09:00.385Z"
   },
   {
    "duration": 429,
    "start_time": "2021-09-28T13:18:12.193Z"
   },
   {
    "duration": 28,
    "start_time": "2021-09-28T13:18:16.623Z"
   },
   {
    "duration": 24,
    "start_time": "2021-09-28T13:18:22.113Z"
   },
   {
    "duration": 621,
    "start_time": "2021-09-28T13:18:49.125Z"
   },
   {
    "duration": 7,
    "start_time": "2021-09-28T13:29:49.195Z"
   },
   {
    "duration": 7,
    "start_time": "2021-09-28T13:32:09.933Z"
   },
   {
    "duration": 7,
    "start_time": "2021-09-28T13:34:56.334Z"
   },
   {
    "duration": 25,
    "start_time": "2021-09-28T13:37:14.164Z"
   },
   {
    "duration": 1762,
    "start_time": "2021-09-28T13:37:36.796Z"
   },
   {
    "duration": 2051,
    "start_time": "2021-09-28T13:37:43.215Z"
   },
   {
    "duration": 1850,
    "start_time": "2021-09-28T13:38:39.444Z"
   },
   {
    "duration": 1981,
    "start_time": "2021-09-28T13:40:09.485Z"
   },
   {
    "duration": 774,
    "start_time": "2021-09-28T13:40:35.335Z"
   },
   {
    "duration": 1765,
    "start_time": "2021-09-28T13:40:56.108Z"
   },
   {
    "duration": 1811,
    "start_time": "2021-09-28T13:41:05.564Z"
   },
   {
    "duration": 1974,
    "start_time": "2021-09-28T13:41:12.126Z"
   },
   {
    "duration": 10,
    "start_time": "2021-09-28T14:00:54.643Z"
   },
   {
    "duration": 2076,
    "start_time": "2021-09-28T14:13:29.396Z"
   },
   {
    "duration": 23,
    "start_time": "2021-09-28T14:13:34.333Z"
   },
   {
    "duration": 7,
    "start_time": "2021-09-28T14:23:14.485Z"
   },
   {
    "duration": 8,
    "start_time": "2021-09-28T14:28:13.192Z"
   },
   {
    "duration": 1600,
    "start_time": "2021-09-28T17:01:52.508Z"
   },
   {
    "duration": 243,
    "start_time": "2021-09-28T17:01:54.110Z"
   },
   {
    "duration": 16,
    "start_time": "2021-09-28T17:01:54.356Z"
   },
   {
    "duration": 167,
    "start_time": "2021-09-28T17:01:54.374Z"
   },
   {
    "duration": 42,
    "start_time": "2021-09-28T17:01:54.544Z"
   },
   {
    "duration": 233,
    "start_time": "2021-09-28T17:01:54.589Z"
   },
   {
    "duration": 13,
    "start_time": "2021-09-28T17:01:54.824Z"
   },
   {
    "duration": 100,
    "start_time": "2021-09-28T17:01:54.841Z"
   },
   {
    "duration": 42,
    "start_time": "2021-09-28T17:01:54.945Z"
   },
   {
    "duration": 183,
    "start_time": "2021-09-28T17:01:54.990Z"
   },
   {
    "duration": 10,
    "start_time": "2021-09-28T17:01:55.176Z"
   },
   {
    "duration": 87,
    "start_time": "2021-09-28T17:01:55.188Z"
   },
   {
    "duration": 48,
    "start_time": "2021-09-28T17:01:55.277Z"
   },
   {
    "duration": 26,
    "start_time": "2021-09-28T17:01:55.327Z"
   },
   {
    "duration": 14,
    "start_time": "2021-09-28T17:01:55.356Z"
   },
   {
    "duration": 9,
    "start_time": "2021-09-28T17:01:55.372Z"
   },
   {
    "duration": 113,
    "start_time": "2021-09-28T17:01:55.384Z"
   },
   {
    "duration": 18,
    "start_time": "2021-09-28T17:01:55.500Z"
   },
   {
    "duration": 17,
    "start_time": "2021-09-28T17:01:55.522Z"
   },
   {
    "duration": 30,
    "start_time": "2021-09-28T17:01:55.542Z"
   },
   {
    "duration": 8,
    "start_time": "2021-09-28T17:01:55.575Z"
   },
   {
    "duration": 112,
    "start_time": "2021-09-28T17:01:55.616Z"
   },
   {
    "duration": 6,
    "start_time": "2021-09-28T17:01:55.734Z"
   },
   {
    "duration": 13,
    "start_time": "2021-09-28T17:01:55.743Z"
   },
   {
    "duration": 7,
    "start_time": "2021-09-28T17:01:55.759Z"
   },
   {
    "duration": 6,
    "start_time": "2021-09-28T17:01:55.768Z"
   },
   {
    "duration": 46,
    "start_time": "2021-09-28T17:01:55.777Z"
   },
   {
    "duration": 681,
    "start_time": "2021-09-28T17:01:55.826Z"
   },
   {
    "duration": 12,
    "start_time": "2021-09-28T17:01:56.509Z"
   },
   {
    "duration": 96,
    "start_time": "2021-09-28T17:01:56.524Z"
   },
   {
    "duration": 156,
    "start_time": "2021-09-28T17:01:56.624Z"
   },
   {
    "duration": 70,
    "start_time": "2021-09-28T17:01:56.783Z"
   },
   {
    "duration": 36,
    "start_time": "2021-09-28T17:01:56.855Z"
   },
   {
    "duration": 61,
    "start_time": "2021-09-28T17:01:56.894Z"
   },
   {
    "duration": 9,
    "start_time": "2021-09-28T17:01:56.957Z"
   },
   {
    "duration": 55,
    "start_time": "2021-09-28T17:01:56.968Z"
   },
   {
    "duration": 2019,
    "start_time": "2021-09-28T17:01:57.026Z"
   },
   {
    "duration": 7,
    "start_time": "2021-09-28T17:01:59.047Z"
   },
   {
    "duration": 21,
    "start_time": "2021-09-28T17:01:59.056Z"
   },
   {
    "duration": 79,
    "start_time": "2021-09-28T17:01:59.079Z"
   },
   {
    "duration": 87,
    "start_time": "2021-09-28T17:01:59.160Z"
   },
   {
    "duration": 472,
    "start_time": "2021-09-28T17:01:59.249Z"
   },
   {
    "duration": 539,
    "start_time": "2021-09-28T17:01:59.724Z"
   },
   {
    "duration": 86,
    "start_time": "2021-09-28T17:02:00.266Z"
   },
   {
    "duration": 553,
    "start_time": "2021-09-28T17:02:00.354Z"
   },
   {
    "duration": 499,
    "start_time": "2021-09-28T17:02:00.910Z"
   },
   {
    "duration": 63,
    "start_time": "2021-09-28T17:02:01.411Z"
   },
   {
    "duration": 585,
    "start_time": "2021-09-28T17:02:01.478Z"
   },
   {
    "duration": 537,
    "start_time": "2021-09-28T17:02:02.066Z"
   },
   {
    "duration": 10,
    "start_time": "2021-09-28T17:02:02.606Z"
   },
   {
    "duration": 6,
    "start_time": "2021-09-28T17:02:02.619Z"
   },
   {
    "duration": 10,
    "start_time": "2021-09-28T17:02:02.628Z"
   },
   {
    "duration": 30,
    "start_time": "2021-09-28T17:02:02.640Z"
   },
   {
    "duration": 15,
    "start_time": "2021-09-28T17:02:02.717Z"
   },
   {
    "duration": 11,
    "start_time": "2021-09-28T17:02:02.734Z"
   },
   {
    "duration": 20,
    "start_time": "2021-09-28T17:02:02.748Z"
   },
   {
    "duration": 2146,
    "start_time": "2021-09-28T17:02:02.771Z"
   },
   {
    "duration": 33,
    "start_time": "2021-09-28T17:02:04.921Z"
   },
   {
    "duration": 24,
    "start_time": "2021-09-28T17:56:28.378Z"
   },
   {
    "duration": 29,
    "start_time": "2021-09-28T18:00:41.409Z"
   },
   {
    "duration": 41,
    "start_time": "2021-09-28T18:01:05.451Z"
   },
   {
    "duration": 574,
    "start_time": "2021-09-28T18:01:28.981Z"
   },
   {
    "duration": 6,
    "start_time": "2021-09-28T18:01:45.931Z"
   },
   {
    "duration": 39,
    "start_time": "2021-09-28T18:02:12.453Z"
   },
   {
    "duration": 316,
    "start_time": "2021-09-28T18:02:32.311Z"
   },
   {
    "duration": 306,
    "start_time": "2021-09-28T18:02:38.832Z"
   },
   {
    "duration": 373,
    "start_time": "2021-09-28T18:04:17.538Z"
   },
   {
    "duration": 43,
    "start_time": "2021-09-28T18:04:24.444Z"
   },
   {
    "duration": 3,
    "start_time": "2021-09-28T18:09:07.300Z"
   },
   {
    "duration": 37,
    "start_time": "2021-09-28T18:09:50.497Z"
   },
   {
    "duration": 29,
    "start_time": "2021-09-28T18:15:12.966Z"
   },
   {
    "duration": 57,
    "start_time": "2021-09-28T18:15:45.570Z"
   },
   {
    "duration": 33,
    "start_time": "2021-09-28T18:16:36.559Z"
   },
   {
    "duration": 42,
    "start_time": "2021-09-28T18:16:44.520Z"
   },
   {
    "duration": 30,
    "start_time": "2021-09-28T18:16:50.054Z"
   },
   {
    "duration": 43,
    "start_time": "2021-09-28T18:16:57.785Z"
   },
   {
    "duration": 57,
    "start_time": "2021-09-28T18:17:55.287Z"
   },
   {
    "duration": 12,
    "start_time": "2021-09-28T18:19:14.421Z"
   },
   {
    "duration": 8,
    "start_time": "2021-09-28T18:19:17.773Z"
   },
   {
    "duration": 9,
    "start_time": "2021-09-28T18:19:20.440Z"
   },
   {
    "duration": 16,
    "start_time": "2021-09-28T18:19:39.937Z"
   },
   {
    "duration": 66,
    "start_time": "2021-09-28T18:19:58.585Z"
   },
   {
    "duration": 467,
    "start_time": "2021-09-28T18:20:00.680Z"
   },
   {
    "duration": 522,
    "start_time": "2021-09-28T18:20:02.619Z"
   },
   {
    "duration": 63,
    "start_time": "2021-09-28T18:20:06.169Z"
   },
   {
    "duration": 501,
    "start_time": "2021-09-28T18:20:27.276Z"
   },
   {
    "duration": 496,
    "start_time": "2021-09-28T18:20:27.989Z"
   },
   {
    "duration": 63,
    "start_time": "2021-09-28T18:20:33.142Z"
   },
   {
    "duration": 466,
    "start_time": "2021-09-28T18:20:35.470Z"
   },
   {
    "duration": 637,
    "start_time": "2021-09-28T18:20:36.139Z"
   },
   {
    "duration": 1577,
    "start_time": "2021-09-28T18:21:28.755Z"
   },
   {
    "duration": 261,
    "start_time": "2021-09-28T18:21:30.337Z"
   },
   {
    "duration": 29,
    "start_time": "2021-09-28T18:21:30.603Z"
   },
   {
    "duration": 166,
    "start_time": "2021-09-28T18:21:30.635Z"
   },
   {
    "duration": 60,
    "start_time": "2021-09-28T18:21:30.803Z"
   },
   {
    "duration": 219,
    "start_time": "2021-09-28T18:21:30.867Z"
   },
   {
    "duration": 10,
    "start_time": "2021-09-28T18:21:31.090Z"
   },
   {
    "duration": 66,
    "start_time": "2021-09-28T18:21:31.120Z"
   },
   {
    "duration": 59,
    "start_time": "2021-09-28T18:21:31.189Z"
   },
   {
    "duration": 143,
    "start_time": "2021-09-28T18:21:31.250Z"
   },
   {
    "duration": 10,
    "start_time": "2021-09-28T18:21:31.395Z"
   },
   {
    "duration": 84,
    "start_time": "2021-09-28T18:21:31.417Z"
   },
   {
    "duration": 45,
    "start_time": "2021-09-28T18:21:31.503Z"
   },
   {
    "duration": 25,
    "start_time": "2021-09-28T18:21:31.550Z"
   },
   {
    "duration": 27,
    "start_time": "2021-09-28T18:21:31.578Z"
   },
   {
    "duration": 22,
    "start_time": "2021-09-28T18:21:31.608Z"
   },
   {
    "duration": 43,
    "start_time": "2021-09-28T18:21:31.633Z"
   },
   {
    "duration": 14,
    "start_time": "2021-09-28T18:21:31.678Z"
   },
   {
    "duration": 16,
    "start_time": "2021-09-28T18:21:31.695Z"
   },
   {
    "duration": 35,
    "start_time": "2021-09-28T18:21:31.713Z"
   },
   {
    "duration": 13,
    "start_time": "2021-09-28T18:21:31.750Z"
   },
   {
    "duration": 128,
    "start_time": "2021-09-28T18:21:31.769Z"
   },
   {
    "duration": 6,
    "start_time": "2021-09-28T18:21:31.900Z"
   },
   {
    "duration": 18,
    "start_time": "2021-09-28T18:21:31.908Z"
   },
   {
    "duration": 8,
    "start_time": "2021-09-28T18:21:31.929Z"
   },
   {
    "duration": 13,
    "start_time": "2021-09-28T18:21:31.940Z"
   },
   {
    "duration": 62,
    "start_time": "2021-09-28T18:21:31.955Z"
   },
   {
    "duration": 633,
    "start_time": "2021-09-28T18:21:32.024Z"
   },
   {
    "duration": 8,
    "start_time": "2021-09-28T18:21:32.660Z"
   },
   {
    "duration": 108,
    "start_time": "2021-09-28T18:21:32.670Z"
   },
   {
    "duration": 154,
    "start_time": "2021-09-28T18:21:32.781Z"
   },
   {
    "duration": 54,
    "start_time": "2021-09-28T18:21:32.938Z"
   },
   {
    "duration": 54,
    "start_time": "2021-09-28T18:21:32.994Z"
   },
   {
    "duration": 71,
    "start_time": "2021-09-28T18:21:33.052Z"
   },
   {
    "duration": 11,
    "start_time": "2021-09-28T18:21:33.126Z"
   },
   {
    "duration": 30,
    "start_time": "2021-09-28T18:21:33.139Z"
   },
   {
    "duration": 2480,
    "start_time": "2021-09-28T18:21:33.171Z"
   },
   {
    "duration": 8,
    "start_time": "2021-09-28T18:21:35.654Z"
   },
   {
    "duration": 19,
    "start_time": "2021-09-28T18:21:35.664Z"
   },
   {
    "duration": 30,
    "start_time": "2021-09-28T18:21:35.716Z"
   },
   {
    "duration": 3,
    "start_time": "2021-09-28T18:21:35.748Z"
   },
   {
    "duration": 17,
    "start_time": "2021-09-28T18:21:35.754Z"
   },
   {
    "duration": 87,
    "start_time": "2021-09-28T18:21:35.773Z"
   },
   {
    "duration": 483,
    "start_time": "2021-09-28T18:21:35.862Z"
   },
   {
    "duration": 538,
    "start_time": "2021-09-28T18:21:36.347Z"
   },
   {
    "duration": 65,
    "start_time": "2021-09-28T18:21:36.888Z"
   },
   {
    "duration": 498,
    "start_time": "2021-09-28T18:21:36.956Z"
   },
   {
    "duration": 539,
    "start_time": "2021-09-28T18:21:37.456Z"
   },
   {
    "duration": 64,
    "start_time": "2021-09-28T18:21:37.997Z"
   },
   {
    "duration": 468,
    "start_time": "2021-09-28T18:21:38.064Z"
   },
   {
    "duration": 548,
    "start_time": "2021-09-28T18:21:38.535Z"
   },
   {
    "duration": 6,
    "start_time": "2021-09-28T18:21:39.085Z"
   },
   {
    "duration": 8,
    "start_time": "2021-09-28T18:21:39.093Z"
   },
   {
    "duration": 10,
    "start_time": "2021-09-28T18:21:39.120Z"
   },
   {
    "duration": 92,
    "start_time": "2021-09-28T18:21:39.133Z"
   },
   {
    "duration": 19,
    "start_time": "2021-09-28T18:21:39.228Z"
   },
   {
    "duration": 9,
    "start_time": "2021-09-28T18:21:39.249Z"
   },
   {
    "duration": 8,
    "start_time": "2021-09-28T18:21:39.261Z"
   },
   {
    "duration": 82,
    "start_time": "2021-09-28T18:21:39.272Z"
   },
   {
    "duration": 1494,
    "start_time": "2021-09-28T18:23:04.970Z"
   },
   {
    "duration": 232,
    "start_time": "2021-09-28T18:23:06.467Z"
   },
   {
    "duration": 27,
    "start_time": "2021-09-28T18:23:06.702Z"
   },
   {
    "duration": 155,
    "start_time": "2021-09-28T18:23:06.732Z"
   },
   {
    "duration": 53,
    "start_time": "2021-09-28T18:23:06.889Z"
   },
   {
    "duration": 218,
    "start_time": "2021-09-28T18:23:06.944Z"
   },
   {
    "duration": 12,
    "start_time": "2021-09-28T18:23:07.164Z"
   },
   {
    "duration": 101,
    "start_time": "2021-09-28T18:23:07.180Z"
   },
   {
    "duration": 53,
    "start_time": "2021-09-28T18:23:07.285Z"
   },
   {
    "duration": 143,
    "start_time": "2021-09-28T18:23:07.341Z"
   },
   {
    "duration": 11,
    "start_time": "2021-09-28T18:23:07.487Z"
   },
   {
    "duration": 62,
    "start_time": "2021-09-28T18:23:07.516Z"
   },
   {
    "duration": 62,
    "start_time": "2021-09-28T18:23:07.580Z"
   },
   {
    "duration": 25,
    "start_time": "2021-09-28T18:23:07.644Z"
   },
   {
    "duration": 13,
    "start_time": "2021-09-28T18:23:07.672Z"
   },
   {
    "duration": 41,
    "start_time": "2021-09-28T18:23:07.688Z"
   },
   {
    "duration": 38,
    "start_time": "2021-09-28T18:23:07.732Z"
   },
   {
    "duration": 15,
    "start_time": "2021-09-28T18:23:07.773Z"
   },
   {
    "duration": 10,
    "start_time": "2021-09-28T18:23:07.790Z"
   },
   {
    "duration": 44,
    "start_time": "2021-09-28T18:23:07.803Z"
   },
   {
    "duration": 13,
    "start_time": "2021-09-28T18:23:07.849Z"
   },
   {
    "duration": 119,
    "start_time": "2021-09-28T18:23:07.864Z"
   },
   {
    "duration": 5,
    "start_time": "2021-09-28T18:23:07.989Z"
   },
   {
    "duration": 21,
    "start_time": "2021-09-28T18:23:07.997Z"
   },
   {
    "duration": 12,
    "start_time": "2021-09-28T18:23:08.023Z"
   },
   {
    "duration": 8,
    "start_time": "2021-09-28T18:23:08.038Z"
   },
   {
    "duration": 8,
    "start_time": "2021-09-28T18:23:08.049Z"
   },
   {
    "duration": 689,
    "start_time": "2021-09-28T18:23:08.060Z"
   },
   {
    "duration": 8,
    "start_time": "2021-09-28T18:23:08.751Z"
   },
   {
    "duration": 97,
    "start_time": "2021-09-28T18:23:08.761Z"
   },
   {
    "duration": 154,
    "start_time": "2021-09-28T18:23:08.860Z"
   },
   {
    "duration": 57,
    "start_time": "2021-09-28T18:23:09.018Z"
   },
   {
    "duration": 71,
    "start_time": "2021-09-28T18:23:09.078Z"
   },
   {
    "duration": 39,
    "start_time": "2021-09-28T18:23:09.151Z"
   },
   {
    "duration": 32,
    "start_time": "2021-09-28T18:23:09.192Z"
   },
   {
    "duration": 22,
    "start_time": "2021-09-28T18:23:09.227Z"
   },
   {
    "duration": 2508,
    "start_time": "2021-09-28T18:23:09.252Z"
   },
   {
    "duration": 10,
    "start_time": "2021-09-28T18:23:11.763Z"
   },
   {
    "duration": 58,
    "start_time": "2021-09-28T18:23:11.776Z"
   },
   {
    "duration": 26,
    "start_time": "2021-09-28T18:23:11.836Z"
   },
   {
    "duration": 8,
    "start_time": "2021-09-28T18:23:11.865Z"
   },
   {
    "duration": 50,
    "start_time": "2021-09-28T18:23:11.875Z"
   },
   {
    "duration": 62,
    "start_time": "2021-09-28T18:23:11.928Z"
   },
   {
    "duration": 459,
    "start_time": "2021-09-28T18:23:11.994Z"
   },
   {
    "duration": 551,
    "start_time": "2021-09-28T18:23:12.456Z"
   },
   {
    "duration": 64,
    "start_time": "2021-09-28T18:23:13.010Z"
   },
   {
    "duration": 504,
    "start_time": "2021-09-28T18:23:13.076Z"
   },
   {
    "duration": 509,
    "start_time": "2021-09-28T18:23:13.582Z"
   },
   {
    "duration": 73,
    "start_time": "2021-09-28T18:23:14.093Z"
   },
   {
    "duration": 474,
    "start_time": "2021-09-28T18:23:14.169Z"
   },
   {
    "duration": 538,
    "start_time": "2021-09-28T18:23:14.646Z"
   },
   {
    "duration": 6,
    "start_time": "2021-09-28T18:23:15.187Z"
   },
   {
    "duration": 29,
    "start_time": "2021-09-28T18:23:15.195Z"
   },
   {
    "duration": 11,
    "start_time": "2021-09-28T18:23:15.227Z"
   },
   {
    "duration": 41,
    "start_time": "2021-09-28T18:23:15.241Z"
   },
   {
    "duration": 20,
    "start_time": "2021-09-28T18:23:15.317Z"
   },
   {
    "duration": 6,
    "start_time": "2021-09-28T18:23:15.339Z"
   },
   {
    "duration": 12,
    "start_time": "2021-09-28T18:23:15.347Z"
   },
   {
    "duration": 99,
    "start_time": "2021-09-28T18:23:15.361Z"
   },
   {
    "duration": 455,
    "start_time": "2021-09-28T18:27:05.323Z"
   },
   {
    "duration": 462,
    "start_time": "2021-09-28T18:27:11.246Z"
   },
   {
    "duration": 459,
    "start_time": "2021-09-28T18:27:18.298Z"
   },
   {
    "duration": 446,
    "start_time": "2021-09-28T18:27:38.564Z"
   },
   {
    "duration": 655,
    "start_time": "2021-09-28T18:30:16.081Z"
   },
   {
    "duration": 613,
    "start_time": "2021-09-28T18:30:38.478Z"
   },
   {
    "duration": 489,
    "start_time": "2021-09-28T18:30:49.804Z"
   },
   {
    "duration": 455,
    "start_time": "2021-09-28T18:31:03.442Z"
   },
   {
    "duration": 450,
    "start_time": "2021-09-28T18:31:17.470Z"
   },
   {
    "duration": 451,
    "start_time": "2021-09-28T18:31:36.043Z"
   },
   {
    "duration": 452,
    "start_time": "2021-09-28T18:32:51.194Z"
   },
   {
    "duration": 434,
    "start_time": "2021-09-28T18:33:10.950Z"
   },
   {
    "duration": 1138,
    "start_time": "2021-09-28T18:33:36.810Z"
   },
   {
    "duration": 542,
    "start_time": "2021-09-28T18:33:48.330Z"
   },
   {
    "duration": 453,
    "start_time": "2021-09-28T18:33:54.566Z"
   },
   {
    "duration": 487,
    "start_time": "2021-09-28T18:34:26.576Z"
   },
   {
    "duration": 464,
    "start_time": "2021-09-28T18:34:48.593Z"
   },
   {
    "duration": 477,
    "start_time": "2021-09-28T18:34:58.753Z"
   },
   {
    "duration": 460,
    "start_time": "2021-09-28T18:35:03.946Z"
   },
   {
    "duration": 434,
    "start_time": "2021-09-28T18:35:18.908Z"
   },
   {
    "duration": 446,
    "start_time": "2021-09-28T18:36:44.644Z"
   },
   {
    "duration": 1522,
    "start_time": "2021-09-28T18:38:11.181Z"
   },
   {
    "duration": 245,
    "start_time": "2021-09-28T18:38:12.705Z"
   },
   {
    "duration": 16,
    "start_time": "2021-09-28T18:38:12.956Z"
   },
   {
    "duration": 179,
    "start_time": "2021-09-28T18:38:12.975Z"
   },
   {
    "duration": 65,
    "start_time": "2021-09-28T18:38:13.158Z"
   },
   {
    "duration": 207,
    "start_time": "2021-09-28T18:38:13.226Z"
   },
   {
    "duration": 12,
    "start_time": "2021-09-28T18:38:13.436Z"
   },
   {
    "duration": 99,
    "start_time": "2021-09-28T18:38:13.450Z"
   },
   {
    "duration": 37,
    "start_time": "2021-09-28T18:38:13.551Z"
   },
   {
    "duration": 166,
    "start_time": "2021-09-28T18:38:13.591Z"
   },
   {
    "duration": 9,
    "start_time": "2021-09-28T18:38:13.759Z"
   },
   {
    "duration": 86,
    "start_time": "2021-09-28T18:38:13.770Z"
   },
   {
    "duration": 25,
    "start_time": "2021-09-28T18:38:13.858Z"
   },
   {
    "duration": 40,
    "start_time": "2021-09-28T18:38:13.885Z"
   },
   {
    "duration": 22,
    "start_time": "2021-09-28T18:38:13.930Z"
   },
   {
    "duration": 20,
    "start_time": "2021-09-28T18:38:13.955Z"
   },
   {
    "duration": 60,
    "start_time": "2021-09-28T18:38:13.978Z"
   },
   {
    "duration": 15,
    "start_time": "2021-09-28T18:38:14.041Z"
   },
   {
    "duration": 18,
    "start_time": "2021-09-28T18:38:14.059Z"
   },
   {
    "duration": 47,
    "start_time": "2021-09-28T18:38:14.080Z"
   },
   {
    "duration": 11,
    "start_time": "2021-09-28T18:38:14.130Z"
   },
   {
    "duration": 121,
    "start_time": "2021-09-28T18:38:14.146Z"
   },
   {
    "duration": 6,
    "start_time": "2021-09-28T18:38:14.270Z"
   },
   {
    "duration": 28,
    "start_time": "2021-09-28T18:38:14.278Z"
   },
   {
    "duration": 17,
    "start_time": "2021-09-28T18:38:14.316Z"
   },
   {
    "duration": 21,
    "start_time": "2021-09-28T18:38:14.335Z"
   },
   {
    "duration": 24,
    "start_time": "2021-09-28T18:38:14.358Z"
   },
   {
    "duration": 666,
    "start_time": "2021-09-28T18:38:14.385Z"
   },
   {
    "duration": 8,
    "start_time": "2021-09-28T18:38:15.054Z"
   },
   {
    "duration": 95,
    "start_time": "2021-09-28T18:38:15.065Z"
   },
   {
    "duration": 153,
    "start_time": "2021-09-28T18:38:15.163Z"
   },
   {
    "duration": 52,
    "start_time": "2021-09-28T18:38:15.325Z"
   },
   {
    "duration": 59,
    "start_time": "2021-09-28T18:38:15.379Z"
   },
   {
    "duration": 40,
    "start_time": "2021-09-28T18:38:15.440Z"
   },
   {
    "duration": 38,
    "start_time": "2021-09-28T18:38:15.482Z"
   },
   {
    "duration": 21,
    "start_time": "2021-09-28T18:38:15.523Z"
   },
   {
    "duration": 1994,
    "start_time": "2021-09-28T18:38:15.546Z"
   },
   {
    "duration": 8,
    "start_time": "2021-09-28T18:38:17.542Z"
   },
   {
    "duration": 26,
    "start_time": "2021-09-28T18:38:17.552Z"
   },
   {
    "duration": 61,
    "start_time": "2021-09-28T18:38:17.580Z"
   },
   {
    "duration": 8,
    "start_time": "2021-09-28T18:38:17.643Z"
   },
   {
    "duration": 26,
    "start_time": "2021-09-28T18:38:17.653Z"
   },
   {
    "duration": 85,
    "start_time": "2021-09-28T18:38:17.681Z"
   },
   {
    "duration": 443,
    "start_time": "2021-09-28T18:38:17.768Z"
   },
   {
    "duration": 594,
    "start_time": "2021-09-28T18:38:18.216Z"
   },
   {
    "duration": 63,
    "start_time": "2021-09-28T18:38:18.816Z"
   },
   {
    "duration": 458,
    "start_time": "2021-09-28T18:38:18.881Z"
   },
   {
    "duration": 661,
    "start_time": "2021-09-28T18:38:19.342Z"
   },
   {
    "duration": 74,
    "start_time": "2021-09-28T18:38:20.006Z"
   },
   {
    "duration": 484,
    "start_time": "2021-09-28T18:38:20.084Z"
   },
   {
    "duration": 527,
    "start_time": "2021-09-28T18:38:20.571Z"
   },
   {
    "duration": 15,
    "start_time": "2021-09-28T18:38:21.101Z"
   },
   {
    "duration": 126,
    "start_time": "2021-09-28T18:38:21.120Z"
   },
   {
    "duration": 307,
    "start_time": "2021-09-28T18:38:21.249Z"
   },
   {
    "duration": 48,
    "start_time": "2021-09-28T18:38:21.559Z"
   },
   {
    "duration": 100,
    "start_time": "2021-09-28T18:38:21.610Z"
   },
   {
    "duration": 122,
    "start_time": "2021-09-28T18:38:21.713Z"
   },
   {
    "duration": 68,
    "start_time": "2021-09-28T18:38:21.838Z"
   },
   {
    "duration": 53,
    "start_time": "2021-09-28T18:38:21.909Z"
   },
   {
    "duration": 2225,
    "start_time": "2021-09-28T18:38:49.054Z"
   },
   {
    "duration": 36,
    "start_time": "2021-09-28T18:39:10.034Z"
   },
   {
    "duration": 1659,
    "start_time": "2021-09-28T18:39:20.661Z"
   },
   {
    "duration": 244,
    "start_time": "2021-09-28T18:39:22.327Z"
   },
   {
    "duration": 16,
    "start_time": "2021-09-28T18:39:22.574Z"
   },
   {
    "duration": 162,
    "start_time": "2021-09-28T18:39:22.593Z"
   },
   {
    "duration": 76,
    "start_time": "2021-09-28T18:39:22.758Z"
   },
   {
    "duration": 219,
    "start_time": "2021-09-28T18:39:22.836Z"
   },
   {
    "duration": 12,
    "start_time": "2021-09-28T18:39:23.059Z"
   },
   {
    "duration": 100,
    "start_time": "2021-09-28T18:39:23.075Z"
   },
   {
    "duration": 52,
    "start_time": "2021-09-28T18:39:23.178Z"
   },
   {
    "duration": 138,
    "start_time": "2021-09-28T18:39:23.233Z"
   },
   {
    "duration": 12,
    "start_time": "2021-09-28T18:39:23.374Z"
   },
   {
    "duration": 83,
    "start_time": "2021-09-28T18:39:23.389Z"
   },
   {
    "duration": 59,
    "start_time": "2021-09-28T18:39:23.475Z"
   },
   {
    "duration": 25,
    "start_time": "2021-09-28T18:39:23.537Z"
   },
   {
    "duration": 28,
    "start_time": "2021-09-28T18:39:23.564Z"
   },
   {
    "duration": 23,
    "start_time": "2021-09-28T18:39:23.595Z"
   },
   {
    "duration": 57,
    "start_time": "2021-09-28T18:39:23.620Z"
   },
   {
    "duration": 23,
    "start_time": "2021-09-28T18:39:23.680Z"
   },
   {
    "duration": 24,
    "start_time": "2021-09-28T18:39:23.705Z"
   },
   {
    "duration": 31,
    "start_time": "2021-09-28T18:39:23.732Z"
   },
   {
    "duration": 51,
    "start_time": "2021-09-28T18:39:23.765Z"
   },
   {
    "duration": 191,
    "start_time": "2021-09-28T18:39:23.825Z"
   },
   {
    "duration": 8,
    "start_time": "2021-09-28T18:39:24.020Z"
   },
   {
    "duration": 18,
    "start_time": "2021-09-28T18:39:24.031Z"
   },
   {
    "duration": 19,
    "start_time": "2021-09-28T18:39:24.051Z"
   },
   {
    "duration": 11,
    "start_time": "2021-09-28T18:39:24.123Z"
   },
   {
    "duration": 11,
    "start_time": "2021-09-28T18:39:24.136Z"
   },
   {
    "duration": 1009,
    "start_time": "2021-09-28T18:39:24.149Z"
   },
   {
    "duration": 8,
    "start_time": "2021-09-28T18:39:25.160Z"
   },
   {
    "duration": 100,
    "start_time": "2021-09-28T18:39:25.170Z"
   },
   {
    "duration": 158,
    "start_time": "2021-09-28T18:39:25.273Z"
   },
   {
    "duration": 44,
    "start_time": "2021-09-28T18:39:25.433Z"
   },
   {
    "duration": 60,
    "start_time": "2021-09-28T18:39:25.480Z"
   },
   {
    "duration": 41,
    "start_time": "2021-09-28T18:39:25.542Z"
   },
   {
    "duration": 11,
    "start_time": "2021-09-28T18:39:25.616Z"
   },
   {
    "duration": 22,
    "start_time": "2021-09-28T18:39:25.630Z"
   },
   {
    "duration": 2112,
    "start_time": "2021-09-28T18:39:25.655Z"
   },
   {
    "duration": 10,
    "start_time": "2021-09-28T18:39:27.771Z"
   },
   {
    "duration": 52,
    "start_time": "2021-09-28T18:39:27.784Z"
   },
   {
    "duration": 28,
    "start_time": "2021-09-28T18:39:27.838Z"
   },
   {
    "duration": 8,
    "start_time": "2021-09-28T18:39:27.868Z"
   },
   {
    "duration": 50,
    "start_time": "2021-09-28T18:39:27.878Z"
   },
   {
    "duration": 58,
    "start_time": "2021-09-28T18:39:27.931Z"
   },
   {
    "duration": 572,
    "start_time": "2021-09-28T18:39:27.992Z"
   },
   {
    "duration": 535,
    "start_time": "2021-09-28T18:39:28.566Z"
   },
   {
    "duration": 71,
    "start_time": "2021-09-28T18:39:29.103Z"
   },
   {
    "duration": 459,
    "start_time": "2021-09-28T18:39:29.177Z"
   },
   {
    "duration": 562,
    "start_time": "2021-09-28T18:39:29.639Z"
   },
   {
    "duration": 79,
    "start_time": "2021-09-28T18:39:30.203Z"
   },
   {
    "duration": 494,
    "start_time": "2021-09-28T18:39:30.285Z"
   },
   {
    "duration": 511,
    "start_time": "2021-09-28T18:39:30.781Z"
   },
   {
    "duration": 7,
    "start_time": "2021-09-28T18:39:31.294Z"
   },
   {
    "duration": 7,
    "start_time": "2021-09-28T18:39:31.317Z"
   },
   {
    "duration": 15,
    "start_time": "2021-09-28T18:39:31.327Z"
   },
   {
    "duration": 50,
    "start_time": "2021-09-28T18:39:31.344Z"
   },
   {
    "duration": 20,
    "start_time": "2021-09-28T18:39:31.417Z"
   },
   {
    "duration": 12,
    "start_time": "2021-09-28T18:39:31.440Z"
   },
   {
    "duration": 29,
    "start_time": "2021-09-28T18:39:31.455Z"
   },
   {
    "duration": 77,
    "start_time": "2021-09-28T18:39:31.487Z"
   },
   {
    "duration": 39,
    "start_time": "2021-09-28T18:45:06.217Z"
   },
   {
    "duration": 42,
    "start_time": "2021-09-28T18:46:11.568Z"
   },
   {
    "duration": 536,
    "start_time": "2021-09-28T18:47:11.508Z"
   },
   {
    "duration": 42,
    "start_time": "2021-09-28T18:47:22.012Z"
   },
   {
    "duration": 40,
    "start_time": "2021-09-28T18:47:31.596Z"
   },
   {
    "duration": 1561,
    "start_time": "2021-09-28T18:47:47.586Z"
   },
   {
    "duration": 243,
    "start_time": "2021-09-28T18:47:49.150Z"
   },
   {
    "duration": 29,
    "start_time": "2021-09-28T18:47:49.397Z"
   },
   {
    "duration": 150,
    "start_time": "2021-09-28T18:47:49.429Z"
   },
   {
    "duration": 60,
    "start_time": "2021-09-28T18:47:49.582Z"
   },
   {
    "duration": 220,
    "start_time": "2021-09-28T18:47:49.645Z"
   },
   {
    "duration": 11,
    "start_time": "2021-09-28T18:47:49.868Z"
   },
   {
    "duration": 89,
    "start_time": "2021-09-28T18:47:49.883Z"
   },
   {
    "duration": 63,
    "start_time": "2021-09-28T18:47:49.975Z"
   },
   {
    "duration": 142,
    "start_time": "2021-09-28T18:47:50.040Z"
   },
   {
    "duration": 10,
    "start_time": "2021-09-28T18:47:50.185Z"
   },
   {
    "duration": 79,
    "start_time": "2021-09-28T18:47:50.197Z"
   },
   {
    "duration": 49,
    "start_time": "2021-09-28T18:47:50.279Z"
   },
   {
    "duration": 26,
    "start_time": "2021-09-28T18:47:50.331Z"
   },
   {
    "duration": 13,
    "start_time": "2021-09-28T18:47:50.359Z"
   },
   {
    "duration": 52,
    "start_time": "2021-09-28T18:47:50.375Z"
   },
   {
    "duration": 36,
    "start_time": "2021-09-28T18:47:50.435Z"
   },
   {
    "duration": 16,
    "start_time": "2021-09-28T18:47:50.473Z"
   },
   {
    "duration": 20,
    "start_time": "2021-09-28T18:47:50.491Z"
   },
   {
    "duration": 32,
    "start_time": "2021-09-28T18:47:50.513Z"
   },
   {
    "duration": 13,
    "start_time": "2021-09-28T18:47:50.548Z"
   },
   {
    "duration": 120,
    "start_time": "2021-09-28T18:47:50.564Z"
   },
   {
    "duration": 6,
    "start_time": "2021-09-28T18:47:50.690Z"
   },
   {
    "duration": 7,
    "start_time": "2021-09-28T18:47:50.726Z"
   },
   {
    "duration": 15,
    "start_time": "2021-09-28T18:47:50.736Z"
   },
   {
    "duration": 10,
    "start_time": "2021-09-28T18:47:50.754Z"
   },
   {
    "duration": 9,
    "start_time": "2021-09-28T18:47:50.767Z"
   },
   {
    "duration": 689,
    "start_time": "2021-09-28T18:47:50.779Z"
   },
   {
    "duration": 8,
    "start_time": "2021-09-28T18:47:51.470Z"
   },
   {
    "duration": 96,
    "start_time": "2021-09-28T18:47:51.481Z"
   },
   {
    "duration": 152,
    "start_time": "2021-09-28T18:47:51.580Z"
   },
   {
    "duration": 47,
    "start_time": "2021-09-28T18:47:51.735Z"
   },
   {
    "duration": 60,
    "start_time": "2021-09-28T18:47:51.785Z"
   },
   {
    "duration": 42,
    "start_time": "2021-09-28T18:47:51.848Z"
   },
   {
    "duration": 14,
    "start_time": "2021-09-28T18:47:51.917Z"
   },
   {
    "duration": 23,
    "start_time": "2021-09-28T18:47:51.933Z"
   },
   {
    "duration": 2002,
    "start_time": "2021-09-28T18:47:51.959Z"
   },
   {
    "duration": 7,
    "start_time": "2021-09-28T18:47:53.964Z"
   },
   {
    "duration": 51,
    "start_time": "2021-09-28T18:47:53.974Z"
   },
   {
    "duration": 25,
    "start_time": "2021-09-28T18:47:54.028Z"
   },
   {
    "duration": 8,
    "start_time": "2021-09-28T18:47:54.056Z"
   },
   {
    "duration": 16,
    "start_time": "2021-09-28T18:47:54.066Z"
   },
   {
    "duration": 69,
    "start_time": "2021-09-28T18:47:54.116Z"
   },
   {
    "duration": 476,
    "start_time": "2021-09-28T18:47:54.187Z"
   },
   {
    "duration": 542,
    "start_time": "2021-09-28T18:47:54.666Z"
   },
   {
    "duration": 72,
    "start_time": "2021-09-28T18:47:55.216Z"
   },
   {
    "duration": 464,
    "start_time": "2021-09-28T18:47:55.291Z"
   },
   {
    "duration": 537,
    "start_time": "2021-09-28T18:47:55.757Z"
   },
   {
    "duration": 72,
    "start_time": "2021-09-28T18:47:56.296Z"
   },
   {
    "duration": 498,
    "start_time": "2021-09-28T18:47:56.371Z"
   },
   {
    "duration": 510,
    "start_time": "2021-09-28T18:47:56.872Z"
   },
   {
    "duration": 6,
    "start_time": "2021-09-28T18:47:57.384Z"
   },
   {
    "duration": 32,
    "start_time": "2021-09-28T18:47:57.393Z"
   },
   {
    "duration": 11,
    "start_time": "2021-09-28T18:47:57.429Z"
   },
   {
    "duration": 78,
    "start_time": "2021-09-28T18:47:57.443Z"
   },
   {
    "duration": 17,
    "start_time": "2021-09-28T18:47:57.524Z"
   },
   {
    "duration": 6,
    "start_time": "2021-09-28T18:47:57.544Z"
   },
   {
    "duration": 8,
    "start_time": "2021-09-28T18:47:57.552Z"
   },
   {
    "duration": 89,
    "start_time": "2021-09-28T18:47:57.562Z"
   },
   {
    "duration": 568,
    "start_time": "2021-09-28T18:50:24.280Z"
   },
   {
    "duration": 1547,
    "start_time": "2021-09-28T18:50:30.296Z"
   },
   {
    "duration": 252,
    "start_time": "2021-09-28T18:50:31.846Z"
   },
   {
    "duration": 28,
    "start_time": "2021-09-28T18:50:32.101Z"
   },
   {
    "duration": 157,
    "start_time": "2021-09-28T18:50:32.133Z"
   },
   {
    "duration": 56,
    "start_time": "2021-09-28T18:50:32.293Z"
   },
   {
    "duration": 223,
    "start_time": "2021-09-28T18:50:32.351Z"
   },
   {
    "duration": 12,
    "start_time": "2021-09-28T18:50:32.576Z"
   },
   {
    "duration": 96,
    "start_time": "2021-09-28T18:50:32.592Z"
   },
   {
    "duration": 53,
    "start_time": "2021-09-28T18:50:32.691Z"
   },
   {
    "duration": 147,
    "start_time": "2021-09-28T18:50:32.746Z"
   },
   {
    "duration": 20,
    "start_time": "2021-09-28T18:50:32.896Z"
   },
   {
    "duration": 65,
    "start_time": "2021-09-28T18:50:32.921Z"
   },
   {
    "duration": 50,
    "start_time": "2021-09-28T18:50:32.988Z"
   },
   {
    "duration": 28,
    "start_time": "2021-09-28T18:50:33.041Z"
   },
   {
    "duration": 50,
    "start_time": "2021-09-28T18:50:33.072Z"
   },
   {
    "duration": 14,
    "start_time": "2021-09-28T18:50:33.124Z"
   },
   {
    "duration": 45,
    "start_time": "2021-09-28T18:50:33.140Z"
   },
   {
    "duration": 15,
    "start_time": "2021-09-28T18:50:33.187Z"
   },
   {
    "duration": 27,
    "start_time": "2021-09-28T18:50:33.205Z"
   },
   {
    "duration": 27,
    "start_time": "2021-09-28T18:50:33.234Z"
   },
   {
    "duration": 9,
    "start_time": "2021-09-28T18:50:33.263Z"
   },
   {
    "duration": 125,
    "start_time": "2021-09-28T18:50:33.274Z"
   },
   {
    "duration": 8,
    "start_time": "2021-09-28T18:50:33.417Z"
   },
   {
    "duration": 9,
    "start_time": "2021-09-28T18:50:33.431Z"
   },
   {
    "duration": 7,
    "start_time": "2021-09-28T18:50:33.444Z"
   },
   {
    "duration": 7,
    "start_time": "2021-09-28T18:50:33.453Z"
   },
   {
    "duration": 55,
    "start_time": "2021-09-28T18:50:33.463Z"
   },
   {
    "duration": 655,
    "start_time": "2021-09-28T18:50:33.520Z"
   },
   {
    "duration": 8,
    "start_time": "2021-09-28T18:50:34.177Z"
   },
   {
    "duration": 91,
    "start_time": "2021-09-28T18:50:34.187Z"
   },
   {
    "duration": 152,
    "start_time": "2021-09-28T18:50:34.280Z"
   },
   {
    "duration": 45,
    "start_time": "2021-09-28T18:50:34.435Z"
   },
   {
    "duration": 59,
    "start_time": "2021-09-28T18:50:34.482Z"
   },
   {
    "duration": 80,
    "start_time": "2021-09-28T18:50:34.544Z"
   },
   {
    "duration": 13,
    "start_time": "2021-09-28T18:50:34.627Z"
   },
   {
    "duration": 24,
    "start_time": "2021-09-28T18:50:34.642Z"
   },
   {
    "duration": 1998,
    "start_time": "2021-09-28T18:50:34.669Z"
   },
   {
    "duration": 9,
    "start_time": "2021-09-28T18:50:36.669Z"
   },
   {
    "duration": 48,
    "start_time": "2021-09-28T18:50:36.681Z"
   },
   {
    "duration": 48,
    "start_time": "2021-09-28T18:50:36.732Z"
   },
   {
    "duration": 11,
    "start_time": "2021-09-28T18:50:36.782Z"
   },
   {
    "duration": 43,
    "start_time": "2021-09-28T18:50:36.796Z"
   },
   {
    "duration": 65,
    "start_time": "2021-09-28T18:50:36.842Z"
   },
   {
    "duration": 453,
    "start_time": "2021-09-28T18:50:36.909Z"
   },
   {
    "duration": 540,
    "start_time": "2021-09-28T18:50:37.365Z"
   },
   {
    "duration": 71,
    "start_time": "2021-09-28T18:50:37.908Z"
   },
   {
    "duration": 462,
    "start_time": "2021-09-28T18:50:37.981Z"
   },
   {
    "duration": 540,
    "start_time": "2021-09-28T18:50:38.446Z"
   },
   {
    "duration": 75,
    "start_time": "2021-09-28T18:50:38.988Z"
   },
   {
    "duration": 494,
    "start_time": "2021-09-28T18:50:39.066Z"
   },
   {
    "duration": 534,
    "start_time": "2021-09-28T18:50:39.563Z"
   },
   {
    "duration": 7,
    "start_time": "2021-09-28T18:50:40.099Z"
   },
   {
    "duration": 21,
    "start_time": "2021-09-28T18:50:40.117Z"
   },
   {
    "duration": 23,
    "start_time": "2021-09-28T18:50:40.140Z"
   },
   {
    "duration": 64,
    "start_time": "2021-09-28T18:50:40.166Z"
   },
   {
    "duration": 14,
    "start_time": "2021-09-28T18:50:40.233Z"
   },
   {
    "duration": 15,
    "start_time": "2021-09-28T18:50:40.249Z"
   },
   {
    "duration": 27,
    "start_time": "2021-09-28T18:50:40.266Z"
   },
   {
    "duration": 65,
    "start_time": "2021-09-28T18:50:40.296Z"
   },
   {
    "duration": 569,
    "start_time": "2021-09-28T19:23:03.357Z"
   },
   {
    "duration": 1495,
    "start_time": "2021-09-28T19:23:11.006Z"
   },
   {
    "duration": 239,
    "start_time": "2021-09-28T19:23:12.504Z"
   },
   {
    "duration": 16,
    "start_time": "2021-09-28T19:23:12.753Z"
   },
   {
    "duration": 174,
    "start_time": "2021-09-28T19:23:12.772Z"
   },
   {
    "duration": 40,
    "start_time": "2021-09-28T19:23:12.949Z"
   },
   {
    "duration": 217,
    "start_time": "2021-09-28T19:23:12.993Z"
   },
   {
    "duration": 12,
    "start_time": "2021-09-28T19:23:13.213Z"
   },
   {
    "duration": 97,
    "start_time": "2021-09-28T19:23:13.227Z"
   },
   {
    "duration": 36,
    "start_time": "2021-09-28T19:23:13.327Z"
   },
   {
    "duration": 154,
    "start_time": "2021-09-28T19:23:13.365Z"
   },
   {
    "duration": 11,
    "start_time": "2021-09-28T19:23:13.521Z"
   },
   {
    "duration": 87,
    "start_time": "2021-09-28T19:23:13.535Z"
   },
   {
    "duration": 25,
    "start_time": "2021-09-28T19:23:13.624Z"
   },
   {
    "duration": 26,
    "start_time": "2021-09-28T19:23:13.652Z"
   },
   {
    "duration": 42,
    "start_time": "2021-09-28T19:23:13.680Z"
   },
   {
    "duration": 11,
    "start_time": "2021-09-28T19:23:13.725Z"
   },
   {
    "duration": 39,
    "start_time": "2021-09-28T19:23:13.739Z"
   },
   {
    "duration": 15,
    "start_time": "2021-09-28T19:23:13.780Z"
   },
   {
    "duration": 10,
    "start_time": "2021-09-28T19:23:13.816Z"
   },
   {
    "duration": 29,
    "start_time": "2021-09-28T19:23:13.828Z"
   },
   {
    "duration": 58,
    "start_time": "2021-09-28T19:23:13.863Z"
   },
   {
    "duration": 194,
    "start_time": "2021-09-28T19:23:13.924Z"
   },
   {
    "duration": 6,
    "start_time": "2021-09-28T19:23:14.121Z"
   },
   {
    "duration": 10,
    "start_time": "2021-09-28T19:23:14.129Z"
   },
   {
    "duration": 14,
    "start_time": "2021-09-28T19:23:14.141Z"
   },
   {
    "duration": 59,
    "start_time": "2021-09-28T19:23:14.158Z"
   },
   {
    "duration": 13,
    "start_time": "2021-09-28T19:23:14.220Z"
   },
   {
    "duration": 917,
    "start_time": "2021-09-28T19:23:14.236Z"
   },
   {
    "duration": 8,
    "start_time": "2021-09-28T19:23:15.156Z"
   },
   {
    "duration": 97,
    "start_time": "2021-09-28T19:23:15.166Z"
   },
   {
    "duration": 164,
    "start_time": "2021-09-28T19:23:15.266Z"
   },
   {
    "duration": 49,
    "start_time": "2021-09-28T19:23:15.433Z"
   },
   {
    "duration": 58,
    "start_time": "2021-09-28T19:23:15.485Z"
   },
   {
    "duration": 40,
    "start_time": "2021-09-28T19:23:15.546Z"
   },
   {
    "duration": 24,
    "start_time": "2021-09-28T19:23:15.616Z"
   },
   {
    "duration": 2079,
    "start_time": "2021-09-28T19:23:15.642Z"
   },
   {
    "duration": 20,
    "start_time": "2021-09-28T19:23:17.724Z"
   },
   {
    "duration": 75,
    "start_time": "2021-09-28T19:23:17.747Z"
   },
   {
    "duration": 8,
    "start_time": "2021-09-28T19:23:17.824Z"
   },
   {
    "duration": 21,
    "start_time": "2021-09-28T19:23:17.835Z"
   },
   {
    "duration": 104,
    "start_time": "2021-09-28T19:23:17.859Z"
   },
   {
    "duration": 461,
    "start_time": "2021-09-28T19:23:17.965Z"
   },
   {
    "duration": 583,
    "start_time": "2021-09-28T19:23:18.428Z"
   },
   {
    "duration": 64,
    "start_time": "2021-09-28T19:23:19.016Z"
   },
   {
    "duration": 557,
    "start_time": "2021-09-28T19:23:19.083Z"
   },
   {
    "duration": 526,
    "start_time": "2021-09-28T19:23:19.644Z"
   },
   {
    "duration": 79,
    "start_time": "2021-09-28T19:23:20.173Z"
   },
   {
    "duration": 471,
    "start_time": "2021-09-28T19:23:20.255Z"
   },
   {
    "duration": 531,
    "start_time": "2021-09-28T19:23:20.728Z"
   },
   {
    "duration": 7,
    "start_time": "2021-09-28T19:23:21.261Z"
   },
   {
    "duration": 11,
    "start_time": "2021-09-28T19:23:21.270Z"
   },
   {
    "duration": 40,
    "start_time": "2021-09-28T19:23:21.284Z"
   },
   {
    "duration": 37,
    "start_time": "2021-09-28T19:23:21.326Z"
   },
   {
    "duration": 51,
    "start_time": "2021-09-28T19:23:21.365Z"
   },
   {
    "duration": 7,
    "start_time": "2021-09-28T19:23:21.418Z"
   },
   {
    "duration": 14,
    "start_time": "2021-09-28T19:23:21.427Z"
   },
   {
    "duration": 75,
    "start_time": "2021-09-28T19:23:21.444Z"
   },
   {
    "duration": 11,
    "start_time": "2021-09-28T19:28:13.098Z"
   },
   {
    "duration": 19,
    "start_time": "2021-09-28T19:29:50.952Z"
   },
   {
    "duration": 1581,
    "start_time": "2021-09-28T20:20:29.314Z"
   },
   {
    "duration": 272,
    "start_time": "2021-09-28T20:20:30.902Z"
   },
   {
    "duration": 45,
    "start_time": "2021-09-28T20:20:31.179Z"
   },
   {
    "duration": 155,
    "start_time": "2021-09-28T20:20:31.227Z"
   },
   {
    "duration": 64,
    "start_time": "2021-09-28T20:20:31.384Z"
   },
   {
    "duration": 231,
    "start_time": "2021-09-28T20:20:31.450Z"
   },
   {
    "duration": 12,
    "start_time": "2021-09-28T20:20:31.685Z"
   },
   {
    "duration": 79,
    "start_time": "2021-09-28T20:20:31.716Z"
   },
   {
    "duration": 63,
    "start_time": "2021-09-28T20:20:31.798Z"
   },
   {
    "duration": 161,
    "start_time": "2021-09-28T20:20:31.863Z"
   },
   {
    "duration": 22,
    "start_time": "2021-09-28T20:20:32.026Z"
   },
   {
    "duration": 90,
    "start_time": "2021-09-28T20:20:32.050Z"
   },
   {
    "duration": 26,
    "start_time": "2021-09-28T20:20:32.143Z"
   },
   {
    "duration": 27,
    "start_time": "2021-09-28T20:20:32.172Z"
   },
   {
    "duration": 24,
    "start_time": "2021-09-28T20:20:32.217Z"
   },
   {
    "duration": 15,
    "start_time": "2021-09-28T20:20:32.244Z"
   },
   {
    "duration": 68,
    "start_time": "2021-09-28T20:20:32.262Z"
   },
   {
    "duration": 17,
    "start_time": "2021-09-28T20:20:32.334Z"
   },
   {
    "duration": 22,
    "start_time": "2021-09-28T20:20:32.354Z"
   },
   {
    "duration": 61,
    "start_time": "2021-09-28T20:20:32.379Z"
   },
   {
    "duration": 9,
    "start_time": "2021-09-28T20:20:32.442Z"
   },
   {
    "duration": 126,
    "start_time": "2021-09-28T20:20:32.453Z"
   },
   {
    "duration": 5,
    "start_time": "2021-09-28T20:20:32.582Z"
   },
   {
    "duration": 18,
    "start_time": "2021-09-28T20:20:32.589Z"
   },
   {
    "duration": 10,
    "start_time": "2021-09-28T20:20:32.625Z"
   },
   {
    "duration": 14,
    "start_time": "2021-09-28T20:20:32.638Z"
   },
   {
    "duration": 13,
    "start_time": "2021-09-28T20:20:32.654Z"
   },
   {
    "duration": 696,
    "start_time": "2021-09-28T20:20:32.669Z"
   },
   {
    "duration": 8,
    "start_time": "2021-09-28T20:20:33.368Z"
   },
   {
    "duration": 103,
    "start_time": "2021-09-28T20:20:33.379Z"
   },
   {
    "duration": 162,
    "start_time": "2021-09-28T20:20:33.485Z"
   },
   {
    "duration": 45,
    "start_time": "2021-09-28T20:20:33.650Z"
   },
   {
    "duration": 57,
    "start_time": "2021-09-28T20:20:33.697Z"
   },
   {
    "duration": 72,
    "start_time": "2021-09-28T20:20:33.756Z"
   },
   {
    "duration": 26,
    "start_time": "2021-09-28T20:20:33.831Z"
   },
   {
    "duration": 2047,
    "start_time": "2021-09-28T20:20:33.860Z"
   },
   {
    "duration": 27,
    "start_time": "2021-09-28T20:20:35.921Z"
   },
   {
    "duration": 20,
    "start_time": "2021-09-28T20:20:35.951Z"
   },
   {
    "duration": 7,
    "start_time": "2021-09-28T20:20:35.974Z"
   },
   {
    "duration": 46,
    "start_time": "2021-09-28T20:20:35.984Z"
   },
   {
    "duration": 18,
    "start_time": "2021-09-28T20:20:36.033Z"
   },
   {
    "duration": 89,
    "start_time": "2021-09-28T20:20:36.054Z"
   },
   {
    "duration": 479,
    "start_time": "2021-09-28T20:20:36.146Z"
   },
   {
    "duration": 601,
    "start_time": "2021-09-28T20:20:36.628Z"
   },
   {
    "duration": 62,
    "start_time": "2021-09-28T20:20:37.231Z"
   },
   {
    "duration": 471,
    "start_time": "2021-09-28T20:20:37.297Z"
   },
   {
    "duration": 523,
    "start_time": "2021-09-28T20:20:37.772Z"
   },
   {
    "duration": 83,
    "start_time": "2021-09-28T20:20:38.298Z"
   },
   {
    "duration": 497,
    "start_time": "2021-09-28T20:20:38.384Z"
   },
   {
    "duration": 512,
    "start_time": "2021-09-28T20:20:38.884Z"
   },
   {
    "duration": 6,
    "start_time": "2021-09-28T20:20:39.399Z"
   },
   {
    "duration": 19,
    "start_time": "2021-09-28T20:20:39.420Z"
   },
   {
    "duration": 11,
    "start_time": "2021-09-28T20:20:39.441Z"
   },
   {
    "duration": 66,
    "start_time": "2021-09-28T20:20:39.455Z"
   },
   {
    "duration": 20,
    "start_time": "2021-09-28T20:20:39.524Z"
   },
   {
    "duration": 8,
    "start_time": "2021-09-28T20:20:39.548Z"
   },
   {
    "duration": 13,
    "start_time": "2021-09-28T20:20:39.558Z"
   },
   {
    "duration": 97,
    "start_time": "2021-09-28T20:20:39.573Z"
   },
   {
    "duration": 31,
    "start_time": "2021-09-28T20:28:45.510Z"
   },
   {
    "duration": 356,
    "start_time": "2021-09-28T20:28:54.408Z"
   },
   {
    "duration": 510,
    "start_time": "2021-09-28T20:29:07.553Z"
   },
   {
    "duration": 317,
    "start_time": "2021-09-28T20:29:23.313Z"
   },
   {
    "duration": 581,
    "start_time": "2021-09-28T20:29:42.593Z"
   },
   {
    "duration": 444,
    "start_time": "2021-09-28T20:29:48.913Z"
   },
   {
    "duration": 539,
    "start_time": "2021-09-28T20:30:28.374Z"
   },
   {
    "duration": 485,
    "start_time": "2021-09-28T20:30:56.866Z"
   },
   {
    "duration": 335,
    "start_time": "2021-09-28T20:32:22.913Z"
   },
   {
    "duration": 393,
    "start_time": "2021-09-28T20:32:40.042Z"
   },
   {
    "duration": 1587,
    "start_time": "2021-09-28T20:33:09.017Z"
   },
   {
    "duration": 361,
    "start_time": "2021-09-28T20:34:33.440Z"
   },
   {
    "duration": 493,
    "start_time": "2021-09-28T20:35:20.830Z"
   },
   {
    "duration": 458,
    "start_time": "2021-09-28T20:35:27.005Z"
   },
   {
    "duration": 600,
    "start_time": "2021-09-28T20:55:09.891Z"
   },
   {
    "duration": 363,
    "start_time": "2021-09-28T20:56:46.286Z"
   },
   {
    "duration": 934,
    "start_time": "2021-09-28T20:57:09.788Z"
   },
   {
    "duration": 446,
    "start_time": "2021-09-28T20:57:17.502Z"
   },
   {
    "duration": 465,
    "start_time": "2021-09-28T20:57:40.875Z"
   },
   {
    "duration": 471,
    "start_time": "2021-09-28T20:58:16.235Z"
   },
   {
    "duration": 516,
    "start_time": "2021-09-28T20:58:21.456Z"
   },
   {
    "duration": 832,
    "start_time": "2021-09-28T20:58:51.437Z"
   },
   {
    "duration": 752,
    "start_time": "2021-09-28T20:58:57.364Z"
   },
   {
    "duration": 722,
    "start_time": "2021-09-28T20:59:21.732Z"
   },
   {
    "duration": 740,
    "start_time": "2021-09-28T20:59:28.832Z"
   },
   {
    "duration": 716,
    "start_time": "2021-09-28T20:59:50.964Z"
   },
   {
    "duration": 683,
    "start_time": "2021-09-28T21:00:04.159Z"
   },
   {
    "duration": 293,
    "start_time": "2021-09-28T21:00:14.086Z"
   },
   {
    "duration": 1693,
    "start_time": "2021-09-28T21:03:40.089Z"
   },
   {
    "duration": 1540,
    "start_time": "2021-09-28T21:05:07.943Z"
   },
   {
    "duration": 1531,
    "start_time": "2021-09-28T21:05:28.294Z"
   },
   {
    "duration": 1584,
    "start_time": "2021-09-28T21:05:33.788Z"
   },
   {
    "duration": 1842,
    "start_time": "2021-09-28T21:05:45.183Z"
   },
   {
    "duration": 1710,
    "start_time": "2021-09-28T21:07:41.272Z"
   },
   {
    "duration": 1679,
    "start_time": "2021-09-28T21:07:53.103Z"
   },
   {
    "duration": 1776,
    "start_time": "2021-09-28T21:08:15.678Z"
   },
   {
    "duration": 1704,
    "start_time": "2021-09-28T21:09:25.682Z"
   },
   {
    "duration": 1603,
    "start_time": "2021-09-28T21:10:11.261Z"
   },
   {
    "duration": 1834,
    "start_time": "2021-09-28T21:10:23.848Z"
   },
   {
    "duration": 836,
    "start_time": "2021-09-28T21:11:09.139Z"
   },
   {
    "duration": 1705,
    "start_time": "2021-09-28T21:11:22.886Z"
   },
   {
    "duration": 145,
    "start_time": "2021-09-28T21:14:20.508Z"
   },
   {
    "duration": 1954,
    "start_time": "2021-09-28T21:14:32.243Z"
   },
   {
    "duration": 1680,
    "start_time": "2021-09-28T21:15:27.010Z"
   },
   {
    "duration": 1624,
    "start_time": "2021-09-28T21:15:36.477Z"
   },
   {
    "duration": 1803,
    "start_time": "2021-09-28T21:15:42.833Z"
   },
   {
    "duration": 1904,
    "start_time": "2021-09-29T06:48:14.498Z"
   },
   {
    "duration": 2087,
    "start_time": "2021-09-29T06:49:41.790Z"
   },
   {
    "duration": 1725,
    "start_time": "2021-09-29T07:16:58.931Z"
   },
   {
    "duration": 265,
    "start_time": "2021-09-29T07:17:00.659Z"
   },
   {
    "duration": 17,
    "start_time": "2021-09-29T07:17:00.928Z"
   },
   {
    "duration": 194,
    "start_time": "2021-09-29T07:17:00.948Z"
   },
   {
    "duration": 44,
    "start_time": "2021-09-29T07:17:01.144Z"
   },
   {
    "duration": 248,
    "start_time": "2021-09-29T07:17:01.190Z"
   },
   {
    "duration": 16,
    "start_time": "2021-09-29T07:17:01.441Z"
   },
   {
    "duration": 116,
    "start_time": "2021-09-29T07:17:01.461Z"
   },
   {
    "duration": 63,
    "start_time": "2021-09-29T07:17:01.581Z"
   },
   {
    "duration": 151,
    "start_time": "2021-09-29T07:17:01.646Z"
   },
   {
    "duration": 11,
    "start_time": "2021-09-29T07:17:01.799Z"
   },
   {
    "duration": 123,
    "start_time": "2021-09-29T07:17:01.822Z"
   },
   {
    "duration": 24,
    "start_time": "2021-09-29T07:17:01.948Z"
   },
   {
    "duration": 50,
    "start_time": "2021-09-29T07:17:01.975Z"
   },
   {
    "duration": 38,
    "start_time": "2021-09-29T07:17:02.029Z"
   },
   {
    "duration": 52,
    "start_time": "2021-09-29T07:17:02.070Z"
   },
   {
    "duration": 129,
    "start_time": "2021-09-29T07:17:02.125Z"
   },
   {
    "duration": 21,
    "start_time": "2021-09-29T07:17:02.257Z"
   },
   {
    "duration": 54,
    "start_time": "2021-09-29T07:17:02.281Z"
   },
   {
    "duration": 32,
    "start_time": "2021-09-29T07:17:02.338Z"
   },
   {
    "duration": 9,
    "start_time": "2021-09-29T07:17:02.372Z"
   },
   {
    "duration": 136,
    "start_time": "2021-09-29T07:17:02.384Z"
   },
   {
    "duration": 6,
    "start_time": "2021-09-29T07:17:02.526Z"
   },
   {
    "duration": 20,
    "start_time": "2021-09-29T07:17:02.535Z"
   },
   {
    "duration": 25,
    "start_time": "2021-09-29T07:17:02.558Z"
   },
   {
    "duration": 14,
    "start_time": "2021-09-29T07:17:02.585Z"
   },
   {
    "duration": 21,
    "start_time": "2021-09-29T07:17:02.601Z"
   },
   {
    "duration": 751,
    "start_time": "2021-09-29T07:17:02.625Z"
   },
   {
    "duration": 8,
    "start_time": "2021-09-29T07:17:03.378Z"
   },
   {
    "duration": 105,
    "start_time": "2021-09-29T07:17:03.388Z"
   },
   {
    "duration": 162,
    "start_time": "2021-09-29T07:17:03.496Z"
   },
   {
    "duration": 56,
    "start_time": "2021-09-29T07:17:03.660Z"
   },
   {
    "duration": 37,
    "start_time": "2021-09-29T07:17:03.718Z"
   },
   {
    "duration": 83,
    "start_time": "2021-09-29T07:17:03.758Z"
   },
   {
    "duration": 38,
    "start_time": "2021-09-29T07:17:03.846Z"
   },
   {
    "duration": 2280,
    "start_time": "2021-09-29T07:17:03.887Z"
   },
   {
    "duration": 17,
    "start_time": "2021-09-29T07:17:06.170Z"
   },
   {
    "duration": 51,
    "start_time": "2021-09-29T07:17:06.190Z"
   },
   {
    "duration": 9,
    "start_time": "2021-09-29T07:17:06.243Z"
   },
   {
    "duration": 25,
    "start_time": "2021-09-29T07:17:06.256Z"
   },
   {
    "duration": 49,
    "start_time": "2021-09-29T07:17:06.284Z"
   },
   {
    "duration": 62,
    "start_time": "2021-09-29T07:17:06.336Z"
   },
   {
    "duration": 467,
    "start_time": "2021-09-29T07:17:06.401Z"
   },
   {
    "duration": 526,
    "start_time": "2021-09-29T07:17:06.871Z"
   },
   {
    "duration": 78,
    "start_time": "2021-09-29T07:17:07.399Z"
   },
   {
    "duration": 502,
    "start_time": "2021-09-29T07:17:07.480Z"
   },
   {
    "duration": 508,
    "start_time": "2021-09-29T07:17:07.986Z"
   },
   {
    "duration": 73,
    "start_time": "2021-09-29T07:17:08.496Z"
   },
   {
    "duration": 510,
    "start_time": "2021-09-29T07:17:08.571Z"
   },
   {
    "duration": 1064,
    "start_time": "2021-09-29T07:17:09.083Z"
   },
   {
    "duration": 1991,
    "start_time": "2021-09-29T07:17:10.150Z"
   },
   {
    "duration": 8,
    "start_time": "2021-09-29T07:17:12.143Z"
   },
   {
    "duration": 21,
    "start_time": "2021-09-29T07:17:12.153Z"
   },
   {
    "duration": 14,
    "start_time": "2021-09-29T07:17:12.177Z"
   },
   {
    "duration": 39,
    "start_time": "2021-09-29T07:17:12.218Z"
   },
   {
    "duration": 33,
    "start_time": "2021-09-29T07:17:12.260Z"
   },
   {
    "duration": 24,
    "start_time": "2021-09-29T07:17:12.296Z"
   },
   {
    "duration": 22,
    "start_time": "2021-09-29T07:17:12.323Z"
   },
   {
    "duration": 53,
    "start_time": "2021-09-29T07:17:12.348Z"
   },
   {
    "duration": 1729,
    "start_time": "2021-09-29T07:17:36.074Z"
   },
   {
    "duration": 265,
    "start_time": "2021-09-29T07:17:37.806Z"
   },
   {
    "duration": 16,
    "start_time": "2021-09-29T07:17:38.074Z"
   },
   {
    "duration": 182,
    "start_time": "2021-09-29T07:17:38.092Z"
   },
   {
    "duration": 62,
    "start_time": "2021-09-29T07:17:38.277Z"
   },
   {
    "duration": 224,
    "start_time": "2021-09-29T07:17:38.341Z"
   },
   {
    "duration": 12,
    "start_time": "2021-09-29T07:17:38.567Z"
   },
   {
    "duration": 105,
    "start_time": "2021-09-29T07:17:38.581Z"
   },
   {
    "duration": 67,
    "start_time": "2021-09-29T07:17:38.692Z"
   },
   {
    "duration": 179,
    "start_time": "2021-09-29T07:17:38.764Z"
   },
   {
    "duration": 13,
    "start_time": "2021-09-29T07:17:38.947Z"
   },
   {
    "duration": 104,
    "start_time": "2021-09-29T07:17:38.963Z"
   },
   {
    "duration": 48,
    "start_time": "2021-09-29T07:17:39.070Z"
   },
   {
    "duration": 38,
    "start_time": "2021-09-29T07:17:39.121Z"
   },
   {
    "duration": 12,
    "start_time": "2021-09-29T07:17:39.162Z"
   },
   {
    "duration": 14,
    "start_time": "2021-09-29T07:17:39.177Z"
   },
   {
    "duration": 73,
    "start_time": "2021-09-29T07:17:39.217Z"
   },
   {
    "duration": 15,
    "start_time": "2021-09-29T07:17:39.292Z"
   },
   {
    "duration": 17,
    "start_time": "2021-09-29T07:17:39.309Z"
   },
   {
    "duration": 28,
    "start_time": "2021-09-29T07:17:39.329Z"
   },
   {
    "duration": 10,
    "start_time": "2021-09-29T07:17:39.360Z"
   },
   {
    "duration": 136,
    "start_time": "2021-09-29T07:17:39.372Z"
   },
   {
    "duration": 7,
    "start_time": "2021-09-29T07:17:39.511Z"
   },
   {
    "duration": 12,
    "start_time": "2021-09-29T07:17:39.522Z"
   },
   {
    "duration": 30,
    "start_time": "2021-09-29T07:17:39.537Z"
   },
   {
    "duration": 7,
    "start_time": "2021-09-29T07:17:39.570Z"
   },
   {
    "duration": 12,
    "start_time": "2021-09-29T07:17:39.623Z"
   },
   {
    "duration": 908,
    "start_time": "2021-09-29T07:17:39.639Z"
   },
   {
    "duration": 8,
    "start_time": "2021-09-29T07:17:40.550Z"
   },
   {
    "duration": 112,
    "start_time": "2021-09-29T07:17:40.560Z"
   },
   {
    "duration": 142,
    "start_time": "2021-09-29T07:17:40.674Z"
   },
   {
    "duration": 47,
    "start_time": "2021-09-29T07:17:40.819Z"
   },
   {
    "duration": 65,
    "start_time": "2021-09-29T07:17:40.869Z"
   },
   {
    "duration": 47,
    "start_time": "2021-09-29T07:17:40.938Z"
   },
   {
    "duration": 53,
    "start_time": "2021-09-29T07:17:40.987Z"
   },
   {
    "duration": 2324,
    "start_time": "2021-09-29T07:17:41.044Z"
   },
   {
    "duration": 26,
    "start_time": "2021-09-29T07:17:43.371Z"
   },
   {
    "duration": 32,
    "start_time": "2021-09-29T07:17:43.417Z"
   },
   {
    "duration": 16,
    "start_time": "2021-09-29T07:17:43.452Z"
   },
   {
    "duration": 11,
    "start_time": "2021-09-29T07:17:43.471Z"
   },
   {
    "duration": 23,
    "start_time": "2021-09-29T07:17:43.518Z"
   },
   {
    "duration": 96,
    "start_time": "2021-09-29T07:17:43.544Z"
   },
   {
    "duration": 481,
    "start_time": "2021-09-29T07:17:43.643Z"
   },
   {
    "duration": 672,
    "start_time": "2021-09-29T07:17:44.127Z"
   },
   {
    "duration": 82,
    "start_time": "2021-09-29T07:17:44.802Z"
   },
   {
    "duration": 507,
    "start_time": "2021-09-29T07:17:44.888Z"
   },
   {
    "duration": 596,
    "start_time": "2021-09-29T07:17:45.399Z"
   },
   {
    "duration": 90,
    "start_time": "2021-09-29T07:17:45.997Z"
   },
   {
    "duration": 525,
    "start_time": "2021-09-29T07:17:46.091Z"
   },
   {
    "duration": 914,
    "start_time": "2021-09-29T07:17:46.619Z"
   },
   {
    "duration": 2145,
    "start_time": "2021-09-29T07:17:47.536Z"
   },
   {
    "duration": 8,
    "start_time": "2021-09-29T07:17:49.685Z"
   },
   {
    "duration": 9,
    "start_time": "2021-09-29T07:17:49.715Z"
   },
   {
    "duration": 28,
    "start_time": "2021-09-29T07:17:49.727Z"
   },
   {
    "duration": 60,
    "start_time": "2021-09-29T07:17:49.758Z"
   },
   {
    "duration": 16,
    "start_time": "2021-09-29T07:17:49.820Z"
   },
   {
    "duration": 8,
    "start_time": "2021-09-29T07:17:49.838Z"
   },
   {
    "duration": 12,
    "start_time": "2021-09-29T07:17:49.848Z"
   },
   {
    "duration": 91,
    "start_time": "2021-09-29T07:17:49.862Z"
   },
   {
    "duration": 142,
    "start_time": "2021-09-29T07:28:09.161Z"
   },
   {
    "duration": 587,
    "start_time": "2021-09-29T07:28:21.590Z"
   },
   {
    "duration": 10102,
    "start_time": "2021-09-29T07:28:26.380Z"
   },
   {
    "duration": 8,
    "start_time": "2021-09-29T07:29:06.282Z"
   },
   {
    "duration": 8,
    "start_time": "2021-09-29T07:29:15.761Z"
   },
   {
    "duration": 36,
    "start_time": "2021-09-29T07:29:26.082Z"
   },
   {
    "duration": 55,
    "start_time": "2021-09-29T07:29:30.491Z"
   },
   {
    "duration": 433,
    "start_time": "2021-09-29T07:30:38.463Z"
   },
   {
    "duration": 1633,
    "start_time": "2021-09-29T07:31:07.412Z"
   },
   {
    "duration": 407,
    "start_time": "2021-09-29T07:31:45.641Z"
   },
   {
    "duration": 439,
    "start_time": "2021-09-29T07:33:09.301Z"
   },
   {
    "duration": 812,
    "start_time": "2021-09-29T07:33:54.660Z"
   },
   {
    "duration": 18,
    "start_time": "2021-09-29T07:35:03.800Z"
   },
   {
    "duration": 10,
    "start_time": "2021-09-29T07:35:14.679Z"
   },
   {
    "duration": 22,
    "start_time": "2021-09-29T07:35:23.211Z"
   },
   {
    "duration": 27,
    "start_time": "2021-09-29T07:35:35.071Z"
   },
   {
    "duration": 23,
    "start_time": "2021-09-29T07:35:47.748Z"
   },
   {
    "duration": 26,
    "start_time": "2021-09-29T07:35:48.481Z"
   },
   {
    "duration": 1634,
    "start_time": "2021-09-29T07:35:54.966Z"
   },
   {
    "duration": 260,
    "start_time": "2021-09-29T07:35:56.603Z"
   },
   {
    "duration": 16,
    "start_time": "2021-09-29T07:35:56.866Z"
   },
   {
    "duration": 170,
    "start_time": "2021-09-29T07:35:56.885Z"
   },
   {
    "duration": 60,
    "start_time": "2021-09-29T07:35:57.058Z"
   },
   {
    "duration": 227,
    "start_time": "2021-09-29T07:35:57.121Z"
   },
   {
    "duration": 12,
    "start_time": "2021-09-29T07:35:57.350Z"
   },
   {
    "duration": 93,
    "start_time": "2021-09-29T07:35:57.364Z"
   },
   {
    "duration": 55,
    "start_time": "2021-09-29T07:35:57.461Z"
   },
   {
    "duration": 145,
    "start_time": "2021-09-29T07:35:57.521Z"
   },
   {
    "duration": 10,
    "start_time": "2021-09-29T07:35:57.669Z"
   },
   {
    "duration": 94,
    "start_time": "2021-09-29T07:35:57.681Z"
   },
   {
    "duration": 41,
    "start_time": "2021-09-29T07:35:57.778Z"
   },
   {
    "duration": 25,
    "start_time": "2021-09-29T07:35:57.822Z"
   },
   {
    "duration": 13,
    "start_time": "2021-09-29T07:35:57.850Z"
   },
   {
    "duration": 11,
    "start_time": "2021-09-29T07:35:57.866Z"
   },
   {
    "duration": 74,
    "start_time": "2021-09-29T07:35:57.879Z"
   },
   {
    "duration": 14,
    "start_time": "2021-09-29T07:35:57.956Z"
   },
   {
    "duration": 15,
    "start_time": "2021-09-29T07:35:57.972Z"
   },
   {
    "duration": 36,
    "start_time": "2021-09-29T07:35:57.989Z"
   },
   {
    "duration": 8,
    "start_time": "2021-09-29T07:35:58.028Z"
   },
   {
    "duration": 120,
    "start_time": "2021-09-29T07:35:58.039Z"
   },
   {
    "duration": 6,
    "start_time": "2021-09-29T07:35:58.161Z"
   },
   {
    "duration": 25,
    "start_time": "2021-09-29T07:35:58.170Z"
   },
   {
    "duration": 22,
    "start_time": "2021-09-29T07:35:58.198Z"
   },
   {
    "duration": 12,
    "start_time": "2021-09-29T07:35:58.222Z"
   },
   {
    "duration": 16,
    "start_time": "2021-09-29T07:35:58.241Z"
   },
   {
    "duration": 672,
    "start_time": "2021-09-29T07:35:58.260Z"
   },
   {
    "duration": 8,
    "start_time": "2021-09-29T07:35:58.935Z"
   },
   {
    "duration": 103,
    "start_time": "2021-09-29T07:35:58.945Z"
   },
   {
    "duration": 151,
    "start_time": "2021-09-29T07:35:59.050Z"
   },
   {
    "duration": 52,
    "start_time": "2021-09-29T07:35:59.203Z"
   },
   {
    "duration": 33,
    "start_time": "2021-09-29T07:35:59.257Z"
   },
   {
    "duration": 49,
    "start_time": "2021-09-29T07:35:59.316Z"
   },
   {
    "duration": 58,
    "start_time": "2021-09-29T07:35:59.368Z"
   },
   {
    "duration": 2022,
    "start_time": "2021-09-29T07:35:59.428Z"
   },
   {
    "duration": 18,
    "start_time": "2021-09-29T07:36:01.453Z"
   },
   {
    "duration": 59,
    "start_time": "2021-09-29T07:36:01.473Z"
   },
   {
    "duration": 30,
    "start_time": "2021-09-29T07:36:01.535Z"
   },
   {
    "duration": 8,
    "start_time": "2021-09-29T07:36:01.567Z"
   },
   {
    "duration": 579,
    "start_time": "2021-09-29T07:36:01.577Z"
   },
   {
    "duration": -3358,
    "start_time": "2021-09-29T07:36:05.516Z"
   },
   {
    "duration": -3360,
    "start_time": "2021-09-29T07:36:05.519Z"
   },
   {
    "duration": -3361,
    "start_time": "2021-09-29T07:36:05.522Z"
   },
   {
    "duration": -3363,
    "start_time": "2021-09-29T07:36:05.525Z"
   },
   {
    "duration": -3364,
    "start_time": "2021-09-29T07:36:05.527Z"
   },
   {
    "duration": -3365,
    "start_time": "2021-09-29T07:36:05.530Z"
   },
   {
    "duration": -3366,
    "start_time": "2021-09-29T07:36:05.532Z"
   },
   {
    "duration": -3367,
    "start_time": "2021-09-29T07:36:05.535Z"
   },
   {
    "duration": -3371,
    "start_time": "2021-09-29T07:36:05.541Z"
   },
   {
    "duration": -3373,
    "start_time": "2021-09-29T07:36:05.544Z"
   },
   {
    "duration": -3373,
    "start_time": "2021-09-29T07:36:05.546Z"
   },
   {
    "duration": -3375,
    "start_time": "2021-09-29T07:36:05.549Z"
   },
   {
    "duration": -3375,
    "start_time": "2021-09-29T07:36:05.551Z"
   },
   {
    "duration": -3379,
    "start_time": "2021-09-29T07:36:05.557Z"
   },
   {
    "duration": -3381,
    "start_time": "2021-09-29T07:36:05.560Z"
   },
   {
    "duration": -3381,
    "start_time": "2021-09-29T07:36:05.562Z"
   },
   {
    "duration": -3382,
    "start_time": "2021-09-29T07:36:05.565Z"
   },
   {
    "duration": -3383,
    "start_time": "2021-09-29T07:36:05.567Z"
   },
   {
    "duration": -3383,
    "start_time": "2021-09-29T07:36:05.569Z"
   },
   {
    "duration": 22,
    "start_time": "2021-09-29T07:37:00.642Z"
   },
   {
    "duration": 31,
    "start_time": "2021-09-29T07:37:01.213Z"
   },
   {
    "duration": 20,
    "start_time": "2021-09-29T07:37:20.571Z"
   },
   {
    "duration": 18,
    "start_time": "2021-09-29T07:37:21.094Z"
   },
   {
    "duration": 18,
    "start_time": "2021-09-29T07:37:39.133Z"
   },
   {
    "duration": 29,
    "start_time": "2021-09-29T07:37:54.124Z"
   },
   {
    "duration": 14,
    "start_time": "2021-09-29T07:38:12.895Z"
   },
   {
    "duration": 16,
    "start_time": "2021-09-29T07:38:39.393Z"
   },
   {
    "duration": 12,
    "start_time": "2021-09-29T07:38:44.093Z"
   },
   {
    "duration": 10,
    "start_time": "2021-09-29T07:40:04.934Z"
   },
   {
    "duration": 25,
    "start_time": "2021-09-29T07:40:47.324Z"
   },
   {
    "duration": 27,
    "start_time": "2021-09-29T07:42:10.313Z"
   },
   {
    "duration": 19,
    "start_time": "2021-09-29T08:02:03.572Z"
   },
   {
    "duration": 1430,
    "start_time": "2021-09-29T08:07:06.167Z"
   },
   {
    "duration": 234,
    "start_time": "2021-09-29T08:07:07.600Z"
   },
   {
    "duration": 16,
    "start_time": "2021-09-29T08:07:07.837Z"
   },
   {
    "duration": 165,
    "start_time": "2021-09-29T08:07:07.856Z"
   },
   {
    "duration": 40,
    "start_time": "2021-09-29T08:07:08.024Z"
   },
   {
    "duration": 225,
    "start_time": "2021-09-29T08:07:08.066Z"
   },
   {
    "duration": 23,
    "start_time": "2021-09-29T08:07:08.294Z"
   },
   {
    "duration": 70,
    "start_time": "2021-09-29T08:07:08.321Z"
   },
   {
    "duration": 55,
    "start_time": "2021-09-29T08:07:08.394Z"
   },
   {
    "duration": 144,
    "start_time": "2021-09-29T08:07:08.452Z"
   },
   {
    "duration": 20,
    "start_time": "2021-09-29T08:07:08.598Z"
   },
   {
    "duration": 65,
    "start_time": "2021-09-29T08:07:08.620Z"
   },
   {
    "duration": 48,
    "start_time": "2021-09-29T08:07:08.687Z"
   },
   {
    "duration": 25,
    "start_time": "2021-09-29T08:07:08.737Z"
   },
   {
    "duration": 16,
    "start_time": "2021-09-29T08:07:08.765Z"
   },
   {
    "duration": 36,
    "start_time": "2021-09-29T08:07:08.783Z"
   },
   {
    "duration": 48,
    "start_time": "2021-09-29T08:07:08.821Z"
   },
   {
    "duration": 19,
    "start_time": "2021-09-29T08:07:08.871Z"
   },
   {
    "duration": 22,
    "start_time": "2021-09-29T08:07:08.893Z"
   },
   {
    "duration": 27,
    "start_time": "2021-09-29T08:07:08.918Z"
   },
   {
    "duration": 9,
    "start_time": "2021-09-29T08:07:08.947Z"
   },
   {
    "duration": 123,
    "start_time": "2021-09-29T08:07:08.958Z"
   },
   {
    "duration": 6,
    "start_time": "2021-09-29T08:07:09.087Z"
   },
   {
    "duration": 21,
    "start_time": "2021-09-29T08:07:09.096Z"
   },
   {
    "duration": 12,
    "start_time": "2021-09-29T08:07:09.120Z"
   },
   {
    "duration": 12,
    "start_time": "2021-09-29T08:07:09.135Z"
   },
   {
    "duration": 11,
    "start_time": "2021-09-29T08:07:09.150Z"
   },
   {
    "duration": 678,
    "start_time": "2021-09-29T08:07:09.164Z"
   },
   {
    "duration": 8,
    "start_time": "2021-09-29T08:07:09.845Z"
   },
   {
    "duration": 104,
    "start_time": "2021-09-29T08:07:09.855Z"
   },
   {
    "duration": 161,
    "start_time": "2021-09-29T08:07:09.962Z"
   },
   {
    "duration": 46,
    "start_time": "2021-09-29T08:07:10.126Z"
   },
   {
    "duration": 63,
    "start_time": "2021-09-29T08:07:10.174Z"
   },
   {
    "duration": 41,
    "start_time": "2021-09-29T08:07:10.239Z"
   },
   {
    "duration": 48,
    "start_time": "2021-09-29T08:07:10.283Z"
   },
   {
    "duration": 1917,
    "start_time": "2021-09-29T08:07:10.335Z"
   },
   {
    "duration": 17,
    "start_time": "2021-09-29T08:07:12.255Z"
   },
   {
    "duration": 56,
    "start_time": "2021-09-29T08:07:12.276Z"
   },
   {
    "duration": 24,
    "start_time": "2021-09-29T08:07:12.335Z"
   },
   {
    "duration": 8,
    "start_time": "2021-09-29T08:07:12.362Z"
   },
   {
    "duration": 49,
    "start_time": "2021-09-29T08:07:12.373Z"
   },
   {
    "duration": 34,
    "start_time": "2021-09-29T08:07:12.424Z"
   },
   {
    "duration": 73,
    "start_time": "2021-09-29T08:07:12.462Z"
   },
   {
    "duration": 448,
    "start_time": "2021-09-29T08:07:12.538Z"
   },
   {
    "duration": 630,
    "start_time": "2021-09-29T08:07:12.989Z"
   },
   {
    "duration": 59,
    "start_time": "2021-09-29T08:07:13.621Z"
   },
   {
    "duration": 461,
    "start_time": "2021-09-29T08:07:13.683Z"
   },
   {
    "duration": 516,
    "start_time": "2021-09-29T08:07:14.146Z"
   },
   {
    "duration": 78,
    "start_time": "2021-09-29T08:07:14.665Z"
   },
   {
    "duration": 574,
    "start_time": "2021-09-29T08:07:14.745Z"
   },
   {
    "duration": 482,
    "start_time": "2021-09-29T08:07:15.321Z"
   },
   {
    "duration": 2004,
    "start_time": "2021-09-29T08:07:15.806Z"
   },
   {
    "duration": 7,
    "start_time": "2021-09-29T08:07:17.812Z"
   },
   {
    "duration": 9,
    "start_time": "2021-09-29T08:07:17.821Z"
   },
   {
    "duration": 11,
    "start_time": "2021-09-29T08:07:17.833Z"
   },
   {
    "duration": 84,
    "start_time": "2021-09-29T08:07:17.846Z"
   },
   {
    "duration": 16,
    "start_time": "2021-09-29T08:07:17.932Z"
   },
   {
    "duration": 7,
    "start_time": "2021-09-29T08:07:17.950Z"
   },
   {
    "duration": 10,
    "start_time": "2021-09-29T08:07:17.960Z"
   },
   {
    "duration": 43,
    "start_time": "2021-09-29T08:07:18.016Z"
   },
   {
    "duration": 1611,
    "start_time": "2021-09-29T08:46:49.812Z"
   },
   {
    "duration": 237,
    "start_time": "2021-09-29T08:46:51.426Z"
   },
   {
    "duration": 17,
    "start_time": "2021-09-29T08:46:51.666Z"
   },
   {
    "duration": 166,
    "start_time": "2021-09-29T08:46:51.686Z"
   },
   {
    "duration": 42,
    "start_time": "2021-09-29T08:46:51.855Z"
   },
   {
    "duration": 209,
    "start_time": "2021-09-29T08:46:51.917Z"
   },
   {
    "duration": 12,
    "start_time": "2021-09-29T08:46:52.128Z"
   },
   {
    "duration": 125,
    "start_time": "2021-09-29T08:46:52.144Z"
   },
   {
    "duration": 53,
    "start_time": "2021-09-29T08:46:52.272Z"
   },
   {
    "duration": 140,
    "start_time": "2021-09-29T08:46:52.328Z"
   },
   {
    "duration": 11,
    "start_time": "2021-09-29T08:46:52.470Z"
   },
   {
    "duration": 87,
    "start_time": "2021-09-29T08:46:52.483Z"
   },
   {
    "duration": 43,
    "start_time": "2021-09-29T08:46:52.573Z"
   },
   {
    "duration": 25,
    "start_time": "2021-09-29T08:46:52.618Z"
   },
   {
    "duration": 17,
    "start_time": "2021-09-29T08:46:52.645Z"
   },
   {
    "duration": 9,
    "start_time": "2021-09-29T08:46:52.664Z"
   },
   {
    "duration": 53,
    "start_time": "2021-09-29T08:46:52.675Z"
   },
   {
    "duration": 15,
    "start_time": "2021-09-29T08:46:52.731Z"
   },
   {
    "duration": 13,
    "start_time": "2021-09-29T08:46:52.748Z"
   },
   {
    "duration": 59,
    "start_time": "2021-09-29T08:46:52.764Z"
   },
   {
    "duration": 11,
    "start_time": "2021-09-29T08:46:52.826Z"
   },
   {
    "duration": 122,
    "start_time": "2021-09-29T08:46:52.840Z"
   },
   {
    "duration": 6,
    "start_time": "2021-09-29T08:46:52.970Z"
   },
   {
    "duration": 8,
    "start_time": "2021-09-29T08:46:52.980Z"
   },
   {
    "duration": 8,
    "start_time": "2021-09-29T08:46:53.017Z"
   },
   {
    "duration": 8,
    "start_time": "2021-09-29T08:46:53.028Z"
   },
   {
    "duration": 14,
    "start_time": "2021-09-29T08:46:53.038Z"
   },
   {
    "duration": 662,
    "start_time": "2021-09-29T08:46:53.055Z"
   },
   {
    "duration": 8,
    "start_time": "2021-09-29T08:46:53.719Z"
   },
   {
    "duration": 103,
    "start_time": "2021-09-29T08:46:53.730Z"
   },
   {
    "duration": 148,
    "start_time": "2021-09-29T08:46:53.836Z"
   },
   {
    "duration": 53,
    "start_time": "2021-09-29T08:46:53.986Z"
   },
   {
    "duration": 33,
    "start_time": "2021-09-29T08:46:54.042Z"
   },
   {
    "duration": 73,
    "start_time": "2021-09-29T08:46:54.078Z"
   },
   {
    "duration": 24,
    "start_time": "2021-09-29T08:46:54.153Z"
   },
   {
    "duration": 2074,
    "start_time": "2021-09-29T08:46:54.179Z"
   },
   {
    "duration": 16,
    "start_time": "2021-09-29T08:46:56.256Z"
   },
   {
    "duration": 57,
    "start_time": "2021-09-29T08:46:56.275Z"
   },
   {
    "duration": 21,
    "start_time": "2021-09-29T08:46:56.334Z"
   },
   {
    "duration": 8,
    "start_time": "2021-09-29T08:46:56.358Z"
   },
   {
    "duration": 54,
    "start_time": "2021-09-29T08:46:56.368Z"
   },
   {
    "duration": 23,
    "start_time": "2021-09-29T08:46:56.424Z"
   },
   {
    "duration": 96,
    "start_time": "2021-09-29T08:46:56.449Z"
   },
   {
    "duration": 442,
    "start_time": "2021-09-29T08:46:56.547Z"
   },
   {
    "duration": 588,
    "start_time": "2021-09-29T08:46:56.992Z"
   },
   {
    "duration": 73,
    "start_time": "2021-09-29T08:46:57.583Z"
   },
   {
    "duration": 450,
    "start_time": "2021-09-29T08:46:57.658Z"
   },
   {
    "duration": 547,
    "start_time": "2021-09-29T08:46:58.115Z"
   },
   {
    "duration": 81,
    "start_time": "2021-09-29T08:46:58.665Z"
   },
   {
    "duration": 460,
    "start_time": "2021-09-29T08:46:58.748Z"
   },
   {
    "duration": 483,
    "start_time": "2021-09-29T08:46:59.215Z"
   },
   {
    "duration": 1849,
    "start_time": "2021-09-29T08:46:59.700Z"
   },
   {
    "duration": 6,
    "start_time": "2021-09-29T08:47:01.552Z"
   },
   {
    "duration": 21,
    "start_time": "2021-09-29T08:47:01.561Z"
   },
   {
    "duration": 45,
    "start_time": "2021-09-29T08:47:01.585Z"
   },
   {
    "duration": 44,
    "start_time": "2021-09-29T08:47:01.633Z"
   },
   {
    "duration": 60,
    "start_time": "2021-09-29T08:47:01.679Z"
   },
   {
    "duration": 29,
    "start_time": "2021-09-29T08:47:01.742Z"
   },
   {
    "duration": 19,
    "start_time": "2021-09-29T08:47:01.775Z"
   },
   {
    "duration": 80,
    "start_time": "2021-09-29T08:47:01.798Z"
   },
   {
    "duration": 1520,
    "start_time": "2021-09-29T08:52:14.374Z"
   },
   {
    "duration": 245,
    "start_time": "2021-09-29T08:52:15.897Z"
   },
   {
    "duration": 15,
    "start_time": "2021-09-29T08:52:16.145Z"
   },
   {
    "duration": 155,
    "start_time": "2021-09-29T08:52:16.163Z"
   },
   {
    "duration": 41,
    "start_time": "2021-09-29T08:52:16.320Z"
   },
   {
    "duration": 225,
    "start_time": "2021-09-29T08:52:16.363Z"
   },
   {
    "duration": 25,
    "start_time": "2021-09-29T08:52:16.591Z"
   },
   {
    "duration": 69,
    "start_time": "2021-09-29T08:52:16.619Z"
   },
   {
    "duration": 38,
    "start_time": "2021-09-29T08:52:16.721Z"
   },
   {
    "duration": 156,
    "start_time": "2021-09-29T08:52:16.764Z"
   },
   {
    "duration": 13,
    "start_time": "2021-09-29T08:52:16.923Z"
   },
   {
    "duration": 92,
    "start_time": "2021-09-29T08:52:16.939Z"
   },
   {
    "duration": 24,
    "start_time": "2021-09-29T08:52:17.033Z"
   },
   {
    "duration": 24,
    "start_time": "2021-09-29T08:52:17.060Z"
   },
   {
    "duration": 37,
    "start_time": "2021-09-29T08:52:17.087Z"
   },
   {
    "duration": 15,
    "start_time": "2021-09-29T08:52:17.126Z"
   },
   {
    "duration": 42,
    "start_time": "2021-09-29T08:52:17.143Z"
   },
   {
    "duration": 31,
    "start_time": "2021-09-29T08:52:17.187Z"
   },
   {
    "duration": 14,
    "start_time": "2021-09-29T08:52:17.220Z"
   },
   {
    "duration": 29,
    "start_time": "2021-09-29T08:52:17.236Z"
   },
   {
    "duration": 10,
    "start_time": "2021-09-29T08:52:17.268Z"
   },
   {
    "duration": 114,
    "start_time": "2021-09-29T08:52:17.318Z"
   },
   {
    "duration": 7,
    "start_time": "2021-09-29T08:52:17.435Z"
   },
   {
    "duration": 11,
    "start_time": "2021-09-29T08:52:17.444Z"
   },
   {
    "duration": 7,
    "start_time": "2021-09-29T08:52:17.458Z"
   },
   {
    "duration": 52,
    "start_time": "2021-09-29T08:52:17.467Z"
   },
   {
    "duration": 8,
    "start_time": "2021-09-29T08:52:17.525Z"
   },
   {
    "duration": 651,
    "start_time": "2021-09-29T08:52:17.537Z"
   },
   {
    "duration": 8,
    "start_time": "2021-09-29T08:52:18.191Z"
   },
   {
    "duration": 71,
    "start_time": "2021-09-29T08:52:18.217Z"
   },
   {
    "duration": 161,
    "start_time": "2021-09-29T08:52:18.291Z"
   },
   {
    "duration": 43,
    "start_time": "2021-09-29T08:52:18.455Z"
   },
   {
    "duration": 41,
    "start_time": "2021-09-29T08:52:18.516Z"
   },
   {
    "duration": 56,
    "start_time": "2021-09-29T08:52:18.559Z"
   },
   {
    "duration": 1934,
    "start_time": "2021-09-29T08:52:18.618Z"
   },
   {
    "duration": 18,
    "start_time": "2021-09-29T08:52:20.554Z"
   },
   {
    "duration": 52,
    "start_time": "2021-09-29T08:52:20.574Z"
   },
   {
    "duration": 22,
    "start_time": "2021-09-29T08:52:20.629Z"
   },
   {
    "duration": 8,
    "start_time": "2021-09-29T08:52:20.654Z"
   },
   {
    "duration": 12,
    "start_time": "2021-09-29T08:52:20.664Z"
   },
   {
    "duration": 14,
    "start_time": "2021-09-29T08:52:20.716Z"
   },
   {
    "duration": 86,
    "start_time": "2021-09-29T08:52:20.732Z"
   },
   {
    "duration": 443,
    "start_time": "2021-09-29T08:52:20.821Z"
   },
   {
    "duration": 523,
    "start_time": "2021-09-29T08:52:21.266Z"
   },
   {
    "duration": 71,
    "start_time": "2021-09-29T08:52:21.792Z"
   },
   {
    "duration": 440,
    "start_time": "2021-09-29T08:52:21.865Z"
   },
   {
    "duration": 475,
    "start_time": "2021-09-29T08:52:22.308Z"
   },
   {
    "duration": 71,
    "start_time": "2021-09-29T08:52:22.785Z"
   },
   {
    "duration": 489,
    "start_time": "2021-09-29T08:52:22.858Z"
   },
   {
    "duration": 513,
    "start_time": "2021-09-29T08:52:23.350Z"
   },
   {
    "duration": 1829,
    "start_time": "2021-09-29T08:52:23.865Z"
   },
   {
    "duration": 6,
    "start_time": "2021-09-29T08:52:25.696Z"
   },
   {
    "duration": 9,
    "start_time": "2021-09-29T08:52:25.717Z"
   },
   {
    "duration": 25,
    "start_time": "2021-09-29T08:52:25.729Z"
   },
   {
    "duration": 64,
    "start_time": "2021-09-29T08:52:25.756Z"
   },
   {
    "duration": 19,
    "start_time": "2021-09-29T08:52:25.823Z"
   },
   {
    "duration": 6,
    "start_time": "2021-09-29T08:52:25.845Z"
   },
   {
    "duration": 15,
    "start_time": "2021-09-29T08:52:25.854Z"
   },
   {
    "duration": 79,
    "start_time": "2021-09-29T08:52:25.872Z"
   },
   {
    "duration": 73,
    "start_time": "2021-09-29T08:57:26.125Z"
   },
   {
    "duration": 68,
    "start_time": "2021-09-29T08:57:35.730Z"
   },
   {
    "duration": 34,
    "start_time": "2021-09-29T08:57:59.675Z"
   },
   {
    "duration": 2315,
    "start_time": "2021-09-29T08:59:11.674Z"
   },
   {
    "duration": 1590,
    "start_time": "2021-09-29T09:00:42.157Z"
   },
   {
    "duration": 256,
    "start_time": "2021-09-29T09:00:43.750Z"
   },
   {
    "duration": 28,
    "start_time": "2021-09-29T09:00:44.008Z"
   },
   {
    "duration": 173,
    "start_time": "2021-09-29T09:00:44.039Z"
   },
   {
    "duration": 46,
    "start_time": "2021-09-29T09:00:44.215Z"
   },
   {
    "duration": 225,
    "start_time": "2021-09-29T09:00:44.264Z"
   },
   {
    "duration": 11,
    "start_time": "2021-09-29T09:00:44.492Z"
   },
   {
    "duration": 102,
    "start_time": "2021-09-29T09:00:44.520Z"
   },
   {
    "duration": 47,
    "start_time": "2021-09-29T09:00:44.627Z"
   },
   {
    "duration": 182,
    "start_time": "2021-09-29T09:00:44.678Z"
   },
   {
    "duration": 11,
    "start_time": "2021-09-29T09:00:44.863Z"
   },
   {
    "duration": 97,
    "start_time": "2021-09-29T09:00:44.877Z"
   },
   {
    "duration": 55,
    "start_time": "2021-09-29T09:00:44.976Z"
   },
   {
    "duration": 25,
    "start_time": "2021-09-29T09:00:45.034Z"
   },
   {
    "duration": 19,
    "start_time": "2021-09-29T09:00:45.061Z"
   },
   {
    "duration": 16,
    "start_time": "2021-09-29T09:00:45.082Z"
   },
   {
    "duration": 48,
    "start_time": "2021-09-29T09:00:45.118Z"
   },
   {
    "duration": 14,
    "start_time": "2021-09-29T09:00:45.168Z"
   },
   {
    "duration": 8,
    "start_time": "2021-09-29T09:00:45.185Z"
   },
   {
    "duration": 41,
    "start_time": "2021-09-29T09:00:45.196Z"
   },
   {
    "duration": 8,
    "start_time": "2021-09-29T09:00:45.240Z"
   },
   {
    "duration": 129,
    "start_time": "2021-09-29T09:00:45.251Z"
   },
   {
    "duration": 6,
    "start_time": "2021-09-29T09:00:45.382Z"
   },
   {
    "duration": 33,
    "start_time": "2021-09-29T09:00:45.390Z"
   },
   {
    "duration": 10,
    "start_time": "2021-09-29T09:00:45.425Z"
   },
   {
    "duration": 10,
    "start_time": "2021-09-29T09:00:45.438Z"
   },
   {
    "duration": 11,
    "start_time": "2021-09-29T09:00:45.454Z"
   },
   {
    "duration": 724,
    "start_time": "2021-09-29T09:00:45.469Z"
   },
   {
    "duration": 21,
    "start_time": "2021-09-29T09:00:46.195Z"
   },
   {
    "duration": 75,
    "start_time": "2021-09-29T09:00:46.218Z"
   },
   {
    "duration": 182,
    "start_time": "2021-09-29T09:00:46.295Z"
   },
   {
    "duration": 64,
    "start_time": "2021-09-29T09:00:46.480Z"
   },
   {
    "duration": 43,
    "start_time": "2021-09-29T09:00:46.547Z"
   },
   {
    "duration": 53,
    "start_time": "2021-09-29T09:00:46.593Z"
   },
   {
    "duration": 2106,
    "start_time": "2021-09-29T09:00:46.649Z"
   },
   {
    "duration": 17,
    "start_time": "2021-09-29T09:00:48.757Z"
   },
   {
    "duration": 52,
    "start_time": "2021-09-29T09:00:48.776Z"
   },
   {
    "duration": 23,
    "start_time": "2021-09-29T09:00:48.831Z"
   },
   {
    "duration": 10,
    "start_time": "2021-09-29T09:00:48.857Z"
   },
   {
    "duration": 33,
    "start_time": "2021-09-29T09:00:48.870Z"
   },
   {
    "duration": 50,
    "start_time": "2021-09-29T09:00:48.906Z"
   },
   {
    "duration": 64,
    "start_time": "2021-09-29T09:00:48.958Z"
   },
   {
    "duration": 493,
    "start_time": "2021-09-29T09:00:49.027Z"
   },
   {
    "duration": 582,
    "start_time": "2021-09-29T09:00:49.523Z"
   },
   {
    "duration": 70,
    "start_time": "2021-09-29T09:00:50.107Z"
   },
   {
    "duration": 477,
    "start_time": "2021-09-29T09:00:50.180Z"
   },
   {
    "duration": 554,
    "start_time": "2021-09-29T09:00:50.660Z"
   },
   {
    "duration": 63,
    "start_time": "2021-09-29T09:00:51.223Z"
   },
   {
    "duration": 510,
    "start_time": "2021-09-29T09:00:51.288Z"
   },
   {
    "duration": 532,
    "start_time": "2021-09-29T09:00:51.801Z"
   },
   {
    "duration": 1927,
    "start_time": "2021-09-29T09:00:52.336Z"
   },
   {
    "duration": 6,
    "start_time": "2021-09-29T09:00:54.266Z"
   },
   {
    "duration": 17,
    "start_time": "2021-09-29T09:00:54.274Z"
   },
   {
    "duration": 27,
    "start_time": "2021-09-29T09:00:54.293Z"
   },
   {
    "duration": 48,
    "start_time": "2021-09-29T09:00:54.322Z"
   },
   {
    "duration": 14,
    "start_time": "2021-09-29T09:00:54.373Z"
   },
   {
    "duration": 10,
    "start_time": "2021-09-29T09:00:54.417Z"
   },
   {
    "duration": 20,
    "start_time": "2021-09-29T09:00:54.429Z"
   },
   {
    "duration": 79,
    "start_time": "2021-09-29T09:00:54.452Z"
   },
   {
    "duration": 1595,
    "start_time": "2021-09-29T09:02:02.642Z"
   },
   {
    "duration": 254,
    "start_time": "2021-09-29T09:02:04.240Z"
   },
   {
    "duration": 33,
    "start_time": "2021-09-29T09:02:04.498Z"
   },
   {
    "duration": 168,
    "start_time": "2021-09-29T09:02:04.538Z"
   },
   {
    "duration": 53,
    "start_time": "2021-09-29T09:02:04.709Z"
   },
   {
    "duration": 253,
    "start_time": "2021-09-29T09:02:04.765Z"
   },
   {
    "duration": 23,
    "start_time": "2021-09-29T09:02:05.022Z"
   },
   {
    "duration": 101,
    "start_time": "2021-09-29T09:02:05.048Z"
   },
   {
    "duration": 39,
    "start_time": "2021-09-29T09:02:05.153Z"
   },
   {
    "duration": 172,
    "start_time": "2021-09-29T09:02:05.195Z"
   },
   {
    "duration": 9,
    "start_time": "2021-09-29T09:02:05.370Z"
   },
   {
    "duration": 93,
    "start_time": "2021-09-29T09:02:05.382Z"
   },
   {
    "duration": 41,
    "start_time": "2021-09-29T09:02:05.478Z"
   },
   {
    "duration": 29,
    "start_time": "2021-09-29T09:02:05.522Z"
   },
   {
    "duration": 15,
    "start_time": "2021-09-29T09:02:05.555Z"
   },
   {
    "duration": 13,
    "start_time": "2021-09-29T09:02:05.573Z"
   },
   {
    "duration": 73,
    "start_time": "2021-09-29T09:02:05.588Z"
   },
   {
    "duration": 14,
    "start_time": "2021-09-29T09:02:05.664Z"
   },
   {
    "duration": 14,
    "start_time": "2021-09-29T09:02:05.681Z"
   },
   {
    "duration": 54,
    "start_time": "2021-09-29T09:02:05.697Z"
   },
   {
    "duration": 17,
    "start_time": "2021-09-29T09:02:05.753Z"
   },
   {
    "duration": 130,
    "start_time": "2021-09-29T09:02:05.773Z"
   },
   {
    "duration": 6,
    "start_time": "2021-09-29T09:02:05.906Z"
   },
   {
    "duration": 14,
    "start_time": "2021-09-29T09:02:05.919Z"
   },
   {
    "duration": 10,
    "start_time": "2021-09-29T09:02:05.938Z"
   },
   {
    "duration": 19,
    "start_time": "2021-09-29T09:02:05.951Z"
   },
   {
    "duration": 13,
    "start_time": "2021-09-29T09:02:06.019Z"
   },
   {
    "duration": 797,
    "start_time": "2021-09-29T09:02:06.037Z"
   },
   {
    "duration": 9,
    "start_time": "2021-09-29T09:02:06.837Z"
   },
   {
    "duration": 103,
    "start_time": "2021-09-29T09:02:06.849Z"
   },
   {
    "duration": 158,
    "start_time": "2021-09-29T09:02:06.954Z"
   },
   {
    "duration": 55,
    "start_time": "2021-09-29T09:02:07.119Z"
   },
   {
    "duration": 70,
    "start_time": "2021-09-29T09:02:07.177Z"
   },
   {
    "duration": 24,
    "start_time": "2021-09-29T09:02:07.250Z"
   },
   {
    "duration": 2251,
    "start_time": "2021-09-29T09:02:07.276Z"
   },
   {
    "duration": 19,
    "start_time": "2021-09-29T09:02:09.530Z"
   },
   {
    "duration": 27,
    "start_time": "2021-09-29T09:02:09.552Z"
   },
   {
    "duration": 27,
    "start_time": "2021-09-29T09:02:09.624Z"
   },
   {
    "duration": 25,
    "start_time": "2021-09-29T09:02:09.653Z"
   },
   {
    "duration": 22,
    "start_time": "2021-09-29T09:02:09.681Z"
   },
   {
    "duration": 24,
    "start_time": "2021-09-29T09:02:09.722Z"
   },
   {
    "duration": 82,
    "start_time": "2021-09-29T09:02:09.750Z"
   },
   {
    "duration": 549,
    "start_time": "2021-09-29T09:02:09.834Z"
   },
   {
    "duration": 553,
    "start_time": "2021-09-29T09:02:10.386Z"
   },
   {
    "duration": 83,
    "start_time": "2021-09-29T09:02:10.943Z"
   },
   {
    "duration": 463,
    "start_time": "2021-09-29T09:02:11.028Z"
   },
   {
    "duration": 513,
    "start_time": "2021-09-29T09:02:11.493Z"
   },
   {
    "duration": 81,
    "start_time": "2021-09-29T09:02:12.009Z"
   },
   {
    "duration": 506,
    "start_time": "2021-09-29T09:02:12.092Z"
   },
   {
    "duration": 511,
    "start_time": "2021-09-29T09:02:12.600Z"
   },
   {
    "duration": 2026,
    "start_time": "2021-09-29T09:02:13.121Z"
   },
   {
    "duration": 8,
    "start_time": "2021-09-29T09:02:15.150Z"
   },
   {
    "duration": 8,
    "start_time": "2021-09-29T09:02:15.162Z"
   },
   {
    "duration": 48,
    "start_time": "2021-09-29T09:02:15.173Z"
   },
   {
    "duration": 43,
    "start_time": "2021-09-29T09:02:15.224Z"
   },
   {
    "duration": 57,
    "start_time": "2021-09-29T09:02:15.270Z"
   },
   {
    "duration": 7,
    "start_time": "2021-09-29T09:02:15.330Z"
   },
   {
    "duration": 8,
    "start_time": "2021-09-29T09:02:15.340Z"
   },
   {
    "duration": 96,
    "start_time": "2021-09-29T09:02:15.351Z"
   },
   {
    "duration": 2097,
    "start_time": "2021-09-29T09:04:37.781Z"
   },
   {
    "duration": 1681,
    "start_time": "2021-09-29T09:04:49.469Z"
   },
   {
    "duration": 260,
    "start_time": "2021-09-29T09:04:51.153Z"
   },
   {
    "duration": 18,
    "start_time": "2021-09-29T09:04:51.416Z"
   },
   {
    "duration": 169,
    "start_time": "2021-09-29T09:04:51.437Z"
   },
   {
    "duration": 54,
    "start_time": "2021-09-29T09:04:51.608Z"
   },
   {
    "duration": 237,
    "start_time": "2021-09-29T09:04:51.664Z"
   },
   {
    "duration": 25,
    "start_time": "2021-09-29T09:04:51.904Z"
   },
   {
    "duration": 95,
    "start_time": "2021-09-29T09:04:51.940Z"
   },
   {
    "duration": 38,
    "start_time": "2021-09-29T09:04:52.039Z"
   },
   {
    "duration": 162,
    "start_time": "2021-09-29T09:04:52.079Z"
   },
   {
    "duration": 15,
    "start_time": "2021-09-29T09:04:52.245Z"
   },
   {
    "duration": 124,
    "start_time": "2021-09-29T09:04:52.263Z"
   },
   {
    "duration": 46,
    "start_time": "2021-09-29T09:04:52.391Z"
   },
   {
    "duration": 29,
    "start_time": "2021-09-29T09:04:52.440Z"
   },
   {
    "duration": 25,
    "start_time": "2021-09-29T09:04:52.471Z"
   },
   {
    "duration": 37,
    "start_time": "2021-09-29T09:04:52.499Z"
   },
   {
    "duration": 44,
    "start_time": "2021-09-29T09:04:52.539Z"
   },
   {
    "duration": 16,
    "start_time": "2021-09-29T09:04:52.586Z"
   },
   {
    "duration": 29,
    "start_time": "2021-09-29T09:04:52.605Z"
   },
   {
    "duration": 33,
    "start_time": "2021-09-29T09:04:52.637Z"
   },
   {
    "duration": 12,
    "start_time": "2021-09-29T09:04:52.672Z"
   },
   {
    "duration": 135,
    "start_time": "2021-09-29T09:04:52.686Z"
   },
   {
    "duration": 8,
    "start_time": "2021-09-29T09:04:52.824Z"
   },
   {
    "duration": 23,
    "start_time": "2021-09-29T09:04:52.835Z"
   },
   {
    "duration": 27,
    "start_time": "2021-09-29T09:04:52.860Z"
   },
   {
    "duration": 11,
    "start_time": "2021-09-29T09:04:52.893Z"
   },
   {
    "duration": 13,
    "start_time": "2021-09-29T09:04:52.923Z"
   },
   {
    "duration": 819,
    "start_time": "2021-09-29T09:04:52.939Z"
   },
   {
    "duration": 10,
    "start_time": "2021-09-29T09:04:53.762Z"
   },
   {
    "duration": 112,
    "start_time": "2021-09-29T09:04:53.775Z"
   },
   {
    "duration": 202,
    "start_time": "2021-09-29T09:04:53.891Z"
   },
   {
    "duration": 69,
    "start_time": "2021-09-29T09:04:54.095Z"
   },
   {
    "duration": 63,
    "start_time": "2021-09-29T09:04:54.166Z"
   },
   {
    "duration": 26,
    "start_time": "2021-09-29T09:04:54.232Z"
   },
   {
    "duration": 2145,
    "start_time": "2021-09-29T09:04:54.261Z"
   },
   {
    "duration": 24,
    "start_time": "2021-09-29T09:04:56.416Z"
   },
   {
    "duration": 27,
    "start_time": "2021-09-29T09:04:56.442Z"
   },
   {
    "duration": 57,
    "start_time": "2021-09-29T09:04:56.472Z"
   },
   {
    "duration": 13,
    "start_time": "2021-09-29T09:04:56.531Z"
   },
   {
    "duration": 8,
    "start_time": "2021-09-29T09:04:56.547Z"
   },
   {
    "duration": 21,
    "start_time": "2021-09-29T09:04:56.558Z"
   },
   {
    "duration": 101,
    "start_time": "2021-09-29T09:04:56.582Z"
   },
   {
    "duration": 484,
    "start_time": "2021-09-29T09:04:56.686Z"
   },
   {
    "duration": 658,
    "start_time": "2021-09-29T09:04:57.173Z"
   },
   {
    "duration": 89,
    "start_time": "2021-09-29T09:04:57.835Z"
   },
   {
    "duration": 500,
    "start_time": "2021-09-29T09:04:57.928Z"
   },
   {
    "duration": 564,
    "start_time": "2021-09-29T09:04:58.431Z"
   },
   {
    "duration": 77,
    "start_time": "2021-09-29T09:04:58.997Z"
   },
   {
    "duration": 510,
    "start_time": "2021-09-29T09:04:59.077Z"
   },
   {
    "duration": 532,
    "start_time": "2021-09-29T09:04:59.589Z"
   },
   {
    "duration": 2027,
    "start_time": "2021-09-29T09:05:00.124Z"
   },
   {
    "duration": 6,
    "start_time": "2021-09-29T09:05:02.154Z"
   },
   {
    "duration": 43,
    "start_time": "2021-09-29T09:05:02.162Z"
   },
   {
    "duration": 35,
    "start_time": "2021-09-29T09:05:02.208Z"
   },
   {
    "duration": 67,
    "start_time": "2021-09-29T09:05:02.246Z"
   },
   {
    "duration": 47,
    "start_time": "2021-09-29T09:05:02.316Z"
   },
   {
    "duration": 21,
    "start_time": "2021-09-29T09:05:02.366Z"
   },
   {
    "duration": 44,
    "start_time": "2021-09-29T09:05:02.390Z"
   },
   {
    "duration": 62,
    "start_time": "2021-09-29T09:05:02.436Z"
   },
   {
    "duration": 1095,
    "start_time": "2021-09-29T12:02:36.229Z"
   },
   {
    "duration": 166,
    "start_time": "2021-09-29T12:02:37.326Z"
   },
   {
    "duration": 13,
    "start_time": "2021-09-29T12:02:37.495Z"
   },
   {
    "duration": 102,
    "start_time": "2021-09-29T12:02:37.510Z"
   },
   {
    "duration": 29,
    "start_time": "2021-09-29T12:02:37.614Z"
   },
   {
    "duration": 152,
    "start_time": "2021-09-29T12:02:37.645Z"
   },
   {
    "duration": 7,
    "start_time": "2021-09-29T12:02:37.800Z"
   },
   {
    "duration": 41,
    "start_time": "2021-09-29T12:02:37.810Z"
   },
   {
    "duration": 24,
    "start_time": "2021-09-29T12:02:37.853Z"
   },
   {
    "duration": 103,
    "start_time": "2021-09-29T12:02:37.879Z"
   },
   {
    "duration": 16,
    "start_time": "2021-09-29T12:02:37.983Z"
   },
   {
    "duration": 37,
    "start_time": "2021-09-29T12:02:38.001Z"
   },
   {
    "duration": 15,
    "start_time": "2021-09-29T12:02:38.039Z"
   },
   {
    "duration": 19,
    "start_time": "2021-09-29T12:02:38.056Z"
   },
   {
    "duration": 8,
    "start_time": "2021-09-29T12:02:38.076Z"
   },
   {
    "duration": 5,
    "start_time": "2021-09-29T12:02:38.100Z"
   },
   {
    "duration": 34,
    "start_time": "2021-09-29T12:02:38.106Z"
   },
   {
    "duration": 9,
    "start_time": "2021-09-29T12:02:38.142Z"
   },
   {
    "duration": 7,
    "start_time": "2021-09-29T12:02:38.152Z"
   },
   {
    "duration": 17,
    "start_time": "2021-09-29T12:02:38.161Z"
   },
   {
    "duration": 6,
    "start_time": "2021-09-29T12:02:38.180Z"
   },
   {
    "duration": 68,
    "start_time": "2021-09-29T12:02:38.187Z"
   },
   {
    "duration": 4,
    "start_time": "2021-09-29T12:02:38.259Z"
   },
   {
    "duration": 8,
    "start_time": "2021-09-29T12:02:38.266Z"
   },
   {
    "duration": 24,
    "start_time": "2021-09-29T12:02:38.276Z"
   },
   {
    "duration": 4,
    "start_time": "2021-09-29T12:02:38.302Z"
   },
   {
    "duration": 7,
    "start_time": "2021-09-29T12:02:38.308Z"
   },
   {
    "duration": 415,
    "start_time": "2021-09-29T12:02:38.316Z"
   },
   {
    "duration": 7,
    "start_time": "2021-09-29T12:02:38.732Z"
   },
   {
    "duration": 64,
    "start_time": "2021-09-29T12:02:38.740Z"
   },
   {
    "duration": 102,
    "start_time": "2021-09-29T12:02:38.806Z"
   },
   {
    "duration": 30,
    "start_time": "2021-09-29T12:02:38.909Z"
   },
   {
    "duration": 26,
    "start_time": "2021-09-29T12:02:38.940Z"
   },
   {
    "duration": 35,
    "start_time": "2021-09-29T12:02:38.968Z"
   },
   {
    "duration": 1033,
    "start_time": "2021-09-29T12:02:39.005Z"
   },
   {
    "duration": 11,
    "start_time": "2021-09-29T12:02:40.039Z"
   },
   {
    "duration": 18,
    "start_time": "2021-09-29T12:02:40.052Z"
   },
   {
    "duration": 28,
    "start_time": "2021-09-29T12:02:40.071Z"
   },
   {
    "duration": 5,
    "start_time": "2021-09-29T12:02:40.101Z"
   },
   {
    "duration": 12,
    "start_time": "2021-09-29T12:02:40.108Z"
   },
   {
    "duration": 24,
    "start_time": "2021-09-29T12:02:40.121Z"
   },
   {
    "duration": 47,
    "start_time": "2021-09-29T12:02:40.147Z"
   },
   {
    "duration": 274,
    "start_time": "2021-09-29T12:02:40.196Z"
   },
   {
    "duration": 381,
    "start_time": "2021-09-29T12:02:40.471Z"
   },
   {
    "duration": 50,
    "start_time": "2021-09-29T12:02:40.854Z"
   },
   {
    "duration": 270,
    "start_time": "2021-09-29T12:02:40.905Z"
   },
   {
    "duration": 374,
    "start_time": "2021-09-29T12:02:41.177Z"
   },
   {
    "duration": 53,
    "start_time": "2021-09-29T12:02:41.553Z"
   },
   {
    "duration": 295,
    "start_time": "2021-09-29T12:02:41.608Z"
   },
   {
    "duration": 339,
    "start_time": "2021-09-29T12:02:41.904Z"
   },
   {
    "duration": 1139,
    "start_time": "2021-09-29T12:02:42.245Z"
   },
   {
    "duration": 5,
    "start_time": "2021-09-29T12:02:43.385Z"
   },
   {
    "duration": 3,
    "start_time": "2021-09-29T12:02:43.399Z"
   },
   {
    "duration": 5,
    "start_time": "2021-09-29T12:02:43.404Z"
   },
   {
    "duration": 23,
    "start_time": "2021-09-29T12:02:43.411Z"
   },
   {
    "duration": 10,
    "start_time": "2021-09-29T12:02:43.435Z"
   },
   {
    "duration": 3,
    "start_time": "2021-09-29T12:02:43.447Z"
   },
   {
    "duration": 6,
    "start_time": "2021-09-29T12:02:43.452Z"
   },
   {
    "duration": 58,
    "start_time": "2021-09-29T12:02:43.459Z"
   },
   {
    "duration": 11,
    "start_time": "2021-09-29T12:15:02.284Z"
   },
   {
    "duration": 6,
    "start_time": "2021-09-29T13:09:42.305Z"
   },
   {
    "duration": 1558,
    "start_time": "2021-09-29T13:20:18.951Z"
   },
   {
    "duration": 238,
    "start_time": "2021-09-29T13:20:20.512Z"
   },
   {
    "duration": 16,
    "start_time": "2021-09-29T13:20:20.753Z"
   },
   {
    "duration": 158,
    "start_time": "2021-09-29T13:20:20.772Z"
   },
   {
    "duration": 42,
    "start_time": "2021-09-29T13:20:20.933Z"
   },
   {
    "duration": 241,
    "start_time": "2021-09-29T13:20:20.977Z"
   },
   {
    "duration": 11,
    "start_time": "2021-09-29T13:20:21.221Z"
   },
   {
    "duration": 95,
    "start_time": "2021-09-29T13:20:21.235Z"
   },
   {
    "duration": 36,
    "start_time": "2021-09-29T13:20:21.333Z"
   },
   {
    "duration": 147,
    "start_time": "2021-09-29T13:20:21.372Z"
   },
   {
    "duration": 10,
    "start_time": "2021-09-29T13:20:21.522Z"
   },
   {
    "duration": 90,
    "start_time": "2021-09-29T13:20:21.534Z"
   },
   {
    "duration": 23,
    "start_time": "2021-09-29T13:20:21.627Z"
   },
   {
    "duration": 24,
    "start_time": "2021-09-29T13:20:21.653Z"
   },
   {
    "duration": 38,
    "start_time": "2021-09-29T13:20:21.679Z"
   },
   {
    "duration": 9,
    "start_time": "2021-09-29T13:20:21.720Z"
   },
   {
    "duration": 43,
    "start_time": "2021-09-29T13:20:21.732Z"
   },
   {
    "duration": 17,
    "start_time": "2021-09-29T13:20:21.778Z"
   },
   {
    "duration": 14,
    "start_time": "2021-09-29T13:20:21.817Z"
   },
   {
    "duration": 31,
    "start_time": "2021-09-29T13:20:21.834Z"
   },
   {
    "duration": 50,
    "start_time": "2021-09-29T13:20:21.868Z"
   },
   {
    "duration": 114,
    "start_time": "2021-09-29T13:20:21.921Z"
   },
   {
    "duration": 5,
    "start_time": "2021-09-29T13:20:22.040Z"
   },
   {
    "duration": 24,
    "start_time": "2021-09-29T13:20:22.048Z"
   },
   {
    "duration": 24,
    "start_time": "2021-09-29T13:20:22.074Z"
   },
   {
    "duration": 17,
    "start_time": "2021-09-29T13:20:22.101Z"
   },
   {
    "duration": 30,
    "start_time": "2021-09-29T13:20:22.120Z"
   },
   {
    "duration": 641,
    "start_time": "2021-09-29T13:20:22.152Z"
   },
   {
    "duration": 6,
    "start_time": "2021-09-29T13:20:22.796Z"
   },
   {
    "duration": 80,
    "start_time": "2021-09-29T13:20:22.804Z"
   },
   {
    "duration": 167,
    "start_time": "2021-09-29T13:20:22.887Z"
   },
   {
    "duration": 43,
    "start_time": "2021-09-29T13:20:23.057Z"
   },
   {
    "duration": 55,
    "start_time": "2021-09-29T13:20:23.102Z"
   },
   {
    "duration": 23,
    "start_time": "2021-09-29T13:20:23.160Z"
   },
   {
    "duration": 1902,
    "start_time": "2021-09-29T13:20:23.217Z"
   },
   {
    "duration": 17,
    "start_time": "2021-09-29T13:20:25.121Z"
   },
   {
    "duration": 26,
    "start_time": "2021-09-29T13:20:25.141Z"
   },
   {
    "duration": 62,
    "start_time": "2021-09-29T13:20:25.169Z"
   },
   {
    "duration": 10,
    "start_time": "2021-09-29T13:20:25.234Z"
   },
   {
    "duration": 11,
    "start_time": "2021-09-29T13:20:25.246Z"
   },
   {
    "duration": 24,
    "start_time": "2021-09-29T13:20:25.259Z"
   },
   {
    "duration": 94,
    "start_time": "2021-09-29T13:20:25.286Z"
   },
   {
    "duration": 471,
    "start_time": "2021-09-29T13:20:25.383Z"
   },
   {
    "duration": 574,
    "start_time": "2021-09-29T13:20:25.857Z"
   },
   {
    "duration": 90,
    "start_time": "2021-09-29T13:20:26.434Z"
   },
   {
    "duration": 473,
    "start_time": "2021-09-29T13:20:26.527Z"
   },
   {
    "duration": 513,
    "start_time": "2021-09-29T13:20:27.003Z"
   },
   {
    "duration": 57,
    "start_time": "2021-09-29T13:20:27.519Z"
   },
   {
    "duration": 476,
    "start_time": "2021-09-29T13:20:27.578Z"
   },
   {
    "duration": 539,
    "start_time": "2021-09-29T13:20:28.057Z"
   },
   {
    "duration": 1798,
    "start_time": "2021-09-29T13:20:28.599Z"
   },
   {
    "duration": 20,
    "start_time": "2021-09-29T13:20:30.400Z"
   },
   {
    "duration": 21,
    "start_time": "2021-09-29T13:20:30.423Z"
   },
   {
    "duration": 31,
    "start_time": "2021-09-29T13:20:30.448Z"
   },
   {
    "duration": 50,
    "start_time": "2021-09-29T13:20:30.483Z"
   },
   {
    "duration": 38,
    "start_time": "2021-09-29T13:20:30.536Z"
   },
   {
    "duration": 34,
    "start_time": "2021-09-29T13:20:30.576Z"
   },
   {
    "duration": 23,
    "start_time": "2021-09-29T13:20:30.612Z"
   },
   {
    "duration": 58,
    "start_time": "2021-09-29T13:20:30.638Z"
   },
   {
    "duration": 644,
    "start_time": "2021-09-29T14:26:48.861Z"
   },
   {
    "duration": 1203,
    "start_time": "2021-09-29T14:27:10.039Z"
   },
   {
    "duration": 1197,
    "start_time": "2021-09-29T14:27:25.500Z"
   },
   {
    "duration": 962,
    "start_time": "2021-09-29T14:27:35.937Z"
   },
   {
    "duration": 899,
    "start_time": "2021-09-29T14:27:53.849Z"
   },
   {
    "duration": 1072,
    "start_time": "2021-09-29T14:29:12.581Z"
   },
   {
    "duration": 1120,
    "start_time": "2021-09-29T14:29:51.561Z"
   },
   {
    "duration": 1193,
    "start_time": "2021-09-29T14:30:36.579Z"
   },
   {
    "duration": 1050,
    "start_time": "2021-09-29T14:31:04.350Z"
   },
   {
    "duration": 1103,
    "start_time": "2021-09-29T14:31:14.060Z"
   },
   {
    "duration": 1063,
    "start_time": "2021-09-29T14:31:22.410Z"
   },
   {
    "duration": 1054,
    "start_time": "2021-09-29T14:31:37.202Z"
   },
   {
    "duration": 973,
    "start_time": "2021-09-29T14:31:53.919Z"
   },
   {
    "duration": 1079,
    "start_time": "2021-09-29T14:32:31.083Z"
   },
   {
    "duration": 1034,
    "start_time": "2021-09-29T14:32:43.209Z"
   },
   {
    "duration": 972,
    "start_time": "2021-09-29T14:32:53.799Z"
   },
   {
    "duration": 849,
    "start_time": "2021-09-29T14:33:01.865Z"
   },
   {
    "duration": 1087,
    "start_time": "2021-09-29T14:33:28.183Z"
   },
   {
    "duration": 964,
    "start_time": "2021-09-29T14:33:37.302Z"
   },
   {
    "duration": 1119,
    "start_time": "2021-09-29T14:34:26.929Z"
   },
   {
    "duration": 1159,
    "start_time": "2021-09-29T14:35:17.609Z"
   },
   {
    "duration": 1127,
    "start_time": "2021-09-29T14:35:26.079Z"
   },
   {
    "duration": 1103,
    "start_time": "2021-09-29T14:35:30.599Z"
   },
   {
    "duration": 872,
    "start_time": "2021-09-29T14:35:42.729Z"
   },
   {
    "duration": 919,
    "start_time": "2021-09-29T14:35:53.491Z"
   },
   {
    "duration": 842,
    "start_time": "2021-09-29T14:36:12.740Z"
   },
   {
    "duration": 1197,
    "start_time": "2021-09-29T14:36:44.989Z"
   },
   {
    "duration": 1250,
    "start_time": "2021-09-29T14:36:55.709Z"
   },
   {
    "duration": 832,
    "start_time": "2021-09-29T14:37:10.749Z"
   },
   {
    "duration": 154,
    "start_time": "2021-09-29T14:38:16.180Z"
   },
   {
    "duration": 175,
    "start_time": "2021-09-29T14:38:39.342Z"
   },
   {
    "duration": 156,
    "start_time": "2021-09-29T14:39:18.791Z"
   },
   {
    "duration": 1243,
    "start_time": "2021-09-29T14:39:29.818Z"
   },
   {
    "duration": 825,
    "start_time": "2021-09-29T14:39:40.160Z"
   },
   {
    "duration": 967,
    "start_time": "2021-09-29T14:40:00.490Z"
   },
   {
    "duration": 1194,
    "start_time": "2021-09-29T14:42:36.541Z"
   },
   {
    "duration": 928,
    "start_time": "2021-09-29T14:42:50.012Z"
   },
   {
    "duration": 1466,
    "start_time": "2021-09-29T14:43:12.852Z"
   },
   {
    "duration": 890,
    "start_time": "2021-09-29T14:43:41.270Z"
   },
   {
    "duration": 862,
    "start_time": "2021-09-29T14:43:50.769Z"
   },
   {
    "duration": 1290,
    "start_time": "2021-09-29T14:44:13.922Z"
   },
   {
    "duration": 949,
    "start_time": "2021-09-29T14:45:03.098Z"
   },
   {
    "duration": 886,
    "start_time": "2021-09-29T14:45:11.620Z"
   },
   {
    "duration": 908,
    "start_time": "2021-09-29T14:45:16.989Z"
   },
   {
    "duration": 898,
    "start_time": "2021-09-29T14:45:24.211Z"
   },
   {
    "duration": 1006,
    "start_time": "2021-09-29T14:45:31.220Z"
   },
   {
    "duration": 925,
    "start_time": "2021-09-29T14:46:04.220Z"
   },
   {
    "duration": 929,
    "start_time": "2021-09-29T14:46:23.780Z"
   },
   {
    "duration": 907,
    "start_time": "2021-09-29T14:46:46.309Z"
   },
   {
    "duration": 820,
    "start_time": "2021-09-29T14:47:40.155Z"
   },
   {
    "duration": 860,
    "start_time": "2021-09-29T14:47:46.339Z"
   },
   {
    "duration": 937,
    "start_time": "2021-09-29T14:47:52.079Z"
   },
   {
    "duration": 858,
    "start_time": "2021-09-29T14:47:57.149Z"
   },
   {
    "duration": 1129,
    "start_time": "2021-09-29T14:48:13.970Z"
   },
   {
    "duration": 976,
    "start_time": "2021-09-29T14:49:08.370Z"
   },
   {
    "duration": 850,
    "start_time": "2021-09-29T14:50:50.269Z"
   },
   {
    "duration": 995,
    "start_time": "2021-09-29T14:51:18.009Z"
   },
   {
    "duration": 973,
    "start_time": "2021-09-29T14:53:15.960Z"
   },
   {
    "duration": 949,
    "start_time": "2021-09-29T14:53:24.779Z"
   },
   {
    "duration": 1752,
    "start_time": "2021-09-29T14:54:26.830Z"
   },
   {
    "duration": 858,
    "start_time": "2021-09-29T14:54:36.742Z"
   },
   {
    "duration": 1021,
    "start_time": "2021-09-29T14:56:41.716Z"
   },
   {
    "duration": 853,
    "start_time": "2021-09-29T14:57:01.346Z"
   },
   {
    "duration": 1001,
    "start_time": "2021-09-29T14:57:56.596Z"
   },
   {
    "duration": 832,
    "start_time": "2021-09-29T15:00:12.837Z"
   },
   {
    "duration": 941,
    "start_time": "2021-09-29T15:01:21.246Z"
   },
   {
    "duration": 19,
    "start_time": "2021-09-29T15:02:50.060Z"
   },
   {
    "duration": 828,
    "start_time": "2021-09-29T15:03:01.947Z"
   },
   {
    "duration": 790,
    "start_time": "2021-09-29T15:03:16.569Z"
   },
   {
    "duration": 857,
    "start_time": "2021-09-29T15:03:39.112Z"
   },
   {
    "duration": 20,
    "start_time": "2021-09-29T16:34:18.268Z"
   },
   {
    "duration": 998,
    "start_time": "2021-09-29T16:34:28.018Z"
   },
   {
    "duration": 1755,
    "start_time": "2021-09-29T16:37:57.499Z"
   },
   {
    "duration": 1238,
    "start_time": "2021-09-29T16:38:24.763Z"
   },
   {
    "duration": 1796,
    "start_time": "2021-09-29T16:39:24.074Z"
   },
   {
    "duration": 1641,
    "start_time": "2021-09-29T16:39:56.278Z"
   },
   {
    "duration": 1182,
    "start_time": "2021-09-29T16:40:05.606Z"
   },
   {
    "duration": 1915,
    "start_time": "2021-09-29T16:40:30.132Z"
   },
   {
    "duration": 2238,
    "start_time": "2021-09-29T16:40:51.169Z"
   },
   {
    "duration": 1231,
    "start_time": "2021-09-29T16:41:11.919Z"
   },
   {
    "duration": 12168,
    "start_time": "2021-09-29T16:42:08.328Z"
   },
   {
    "duration": 1199,
    "start_time": "2021-09-29T16:42:32.428Z"
   },
   {
    "duration": 1178,
    "start_time": "2021-09-29T16:42:46.912Z"
   },
   {
    "duration": 1451,
    "start_time": "2021-09-29T16:42:54.302Z"
   },
   {
    "duration": 1558,
    "start_time": "2021-09-29T16:43:05.182Z"
   },
   {
    "duration": 156,
    "start_time": "2021-09-29T16:43:25.202Z"
   },
   {
    "duration": 1634,
    "start_time": "2021-09-29T16:43:33.208Z"
   },
   {
    "duration": 1691,
    "start_time": "2021-09-29T16:44:12.578Z"
   },
   {
    "duration": 1622,
    "start_time": "2021-09-29T16:44:38.973Z"
   },
   {
    "duration": 1656,
    "start_time": "2021-09-29T16:44:58.501Z"
   },
   {
    "duration": 13099,
    "start_time": "2021-09-29T16:45:07.089Z"
   },
   {
    "duration": 1202,
    "start_time": "2021-09-29T16:45:27.371Z"
   },
   {
    "duration": 1657,
    "start_time": "2021-09-29T16:46:08.161Z"
   },
   {
    "duration": 1719,
    "start_time": "2021-09-29T16:46:42.993Z"
   },
   {
    "duration": 1639,
    "start_time": "2021-09-29T16:47:53.337Z"
   },
   {
    "duration": 1628,
    "start_time": "2021-09-29T16:48:05.698Z"
   },
   {
    "duration": 1820,
    "start_time": "2021-09-29T16:48:17.663Z"
   },
   {
    "duration": 1234,
    "start_time": "2021-09-29T16:48:31.466Z"
   },
   {
    "duration": 1680,
    "start_time": "2021-09-29T16:49:02.079Z"
   },
   {
    "duration": 1695,
    "start_time": "2021-09-29T16:49:47.318Z"
   },
   {
    "duration": 1883,
    "start_time": "2021-09-29T16:49:58.724Z"
   },
   {
    "duration": 1792,
    "start_time": "2021-09-29T16:52:02.142Z"
   },
   {
    "duration": 1731,
    "start_time": "2021-09-29T16:52:29.774Z"
   },
   {
    "duration": 1402,
    "start_time": "2021-09-29T16:55:03.093Z"
   },
   {
    "duration": 1154,
    "start_time": "2021-09-29T16:55:14.496Z"
   },
   {
    "duration": 2515,
    "start_time": "2021-09-29T16:58:17.854Z"
   },
   {
    "duration": 156,
    "start_time": "2021-09-29T17:08:12.590Z"
   },
   {
    "duration": 904,
    "start_time": "2021-09-29T17:08:16.825Z"
   },
   {
    "duration": 487,
    "start_time": "2021-09-29T17:11:44.925Z"
   },
   {
    "duration": 466,
    "start_time": "2021-09-29T17:12:01.335Z"
   },
   {
    "duration": 483,
    "start_time": "2021-09-29T17:12:08.690Z"
   },
   {
    "duration": 590,
    "start_time": "2021-09-29T17:12:18.826Z"
   },
   {
    "duration": 458,
    "start_time": "2021-09-29T17:12:54.700Z"
   },
   {
    "duration": 1426,
    "start_time": "2021-09-29T17:15:26.358Z"
   },
   {
    "duration": 1547,
    "start_time": "2021-09-29T17:16:28.202Z"
   },
   {
    "duration": 1441,
    "start_time": "2021-09-29T17:17:44.276Z"
   },
   {
    "duration": 1572,
    "start_time": "2021-09-29T17:17:54.800Z"
   },
   {
    "duration": 1567,
    "start_time": "2021-09-29T17:19:34.887Z"
   },
   {
    "duration": 1570,
    "start_time": "2021-09-29T17:20:03.207Z"
   },
   {
    "duration": 1576,
    "start_time": "2021-09-29T17:21:43.088Z"
   },
   {
    "duration": 1591,
    "start_time": "2021-09-29T17:22:19.498Z"
   },
   {
    "duration": 2312,
    "start_time": "2021-09-29T17:23:35.369Z"
   },
   {
    "duration": 1859,
    "start_time": "2021-09-29T17:24:16.702Z"
   },
   {
    "duration": 1871,
    "start_time": "2021-09-29T17:24:24.714Z"
   },
   {
    "duration": 1979,
    "start_time": "2021-09-29T17:24:41.625Z"
   },
   {
    "duration": 2041,
    "start_time": "2021-09-29T17:24:54.928Z"
   },
   {
    "duration": 1948,
    "start_time": "2021-09-29T17:25:19.650Z"
   },
   {
    "duration": 1948,
    "start_time": "2021-09-29T17:25:30.200Z"
   },
   {
    "duration": 2251,
    "start_time": "2021-09-29T17:25:37.646Z"
   },
   {
    "duration": 158,
    "start_time": "2021-09-29T17:25:56.475Z"
   },
   {
    "duration": 2132,
    "start_time": "2021-09-29T17:26:03.809Z"
   },
   {
    "duration": 1953,
    "start_time": "2021-09-29T17:26:16.925Z"
   },
   {
    "duration": 1610,
    "start_time": "2021-09-29T17:26:48.062Z"
   },
   {
    "duration": 2823,
    "start_time": "2021-09-29T17:27:42.552Z"
   },
   {
    "duration": 2842,
    "start_time": "2021-09-29T17:28:01.617Z"
   },
   {
    "duration": 2610,
    "start_time": "2021-09-29T17:28:31.626Z"
   },
   {
    "duration": 2781,
    "start_time": "2021-09-29T17:29:14.385Z"
   },
   {
    "duration": 2286,
    "start_time": "2021-09-29T17:29:52.578Z"
   },
   {
    "duration": 2768,
    "start_time": "2021-09-29T17:29:59.108Z"
   },
   {
    "duration": 3413,
    "start_time": "2021-09-29T17:30:30.286Z"
   },
   {
    "duration": 1627,
    "start_time": "2021-09-29T17:31:50.696Z"
   },
   {
    "duration": 249,
    "start_time": "2021-09-29T17:31:52.327Z"
   },
   {
    "duration": 19,
    "start_time": "2021-09-29T17:31:52.579Z"
   },
   {
    "duration": 155,
    "start_time": "2021-09-29T17:31:52.617Z"
   },
   {
    "duration": 54,
    "start_time": "2021-09-29T17:31:52.775Z"
   },
   {
    "duration": 220,
    "start_time": "2021-09-29T17:31:52.831Z"
   },
   {
    "duration": 11,
    "start_time": "2021-09-29T17:31:53.054Z"
   },
   {
    "duration": 105,
    "start_time": "2021-09-29T17:31:53.069Z"
   },
   {
    "duration": 48,
    "start_time": "2021-09-29T17:31:53.178Z"
   },
   {
    "duration": 157,
    "start_time": "2021-09-29T17:31:53.229Z"
   },
   {
    "duration": 11,
    "start_time": "2021-09-29T17:31:53.390Z"
   },
   {
    "duration": 81,
    "start_time": "2021-09-29T17:31:53.403Z"
   },
   {
    "duration": 52,
    "start_time": "2021-09-29T17:31:53.486Z"
   },
   {
    "duration": 25,
    "start_time": "2021-09-29T17:31:53.540Z"
   },
   {
    "duration": 15,
    "start_time": "2021-09-29T17:31:53.568Z"
   },
   {
    "duration": 37,
    "start_time": "2021-09-29T17:31:53.585Z"
   },
   {
    "duration": 42,
    "start_time": "2021-09-29T17:31:53.625Z"
   },
   {
    "duration": 15,
    "start_time": "2021-09-29T17:31:53.669Z"
   },
   {
    "duration": 37,
    "start_time": "2021-09-29T17:31:53.687Z"
   },
   {
    "duration": 31,
    "start_time": "2021-09-29T17:31:53.727Z"
   },
   {
    "duration": 8,
    "start_time": "2021-09-29T17:31:53.761Z"
   },
   {
    "duration": 138,
    "start_time": "2021-09-29T17:31:53.771Z"
   },
   {
    "duration": 9,
    "start_time": "2021-09-29T17:31:53.916Z"
   },
   {
    "duration": 8,
    "start_time": "2021-09-29T17:31:53.930Z"
   },
   {
    "duration": 7,
    "start_time": "2021-09-29T17:31:53.941Z"
   },
   {
    "duration": 8,
    "start_time": "2021-09-29T17:31:53.950Z"
   },
   {
    "duration": 58,
    "start_time": "2021-09-29T17:31:53.960Z"
   },
   {
    "duration": 680,
    "start_time": "2021-09-29T17:31:54.022Z"
   },
   {
    "duration": 17,
    "start_time": "2021-09-29T17:31:54.705Z"
   },
   {
    "duration": 90,
    "start_time": "2021-09-29T17:31:54.727Z"
   },
   {
    "duration": 162,
    "start_time": "2021-09-29T17:31:54.820Z"
   },
   {
    "duration": 60,
    "start_time": "2021-09-29T17:31:54.984Z"
   },
   {
    "duration": 41,
    "start_time": "2021-09-29T17:31:55.046Z"
   },
   {
    "duration": 29,
    "start_time": "2021-09-29T17:31:55.116Z"
   },
   {
    "duration": 2187,
    "start_time": "2021-09-29T17:31:55.147Z"
   },
   {
    "duration": 17,
    "start_time": "2021-09-29T17:31:57.336Z"
   },
   {
    "duration": 26,
    "start_time": "2021-09-29T17:31:57.355Z"
   },
   {
    "duration": 59,
    "start_time": "2021-09-29T17:31:57.383Z"
   },
   {
    "duration": 8,
    "start_time": "2021-09-29T17:31:57.444Z"
   },
   {
    "duration": 11,
    "start_time": "2021-09-29T17:31:57.455Z"
   },
   {
    "duration": 60,
    "start_time": "2021-09-29T17:31:57.469Z"
   },
   {
    "duration": 25,
    "start_time": "2021-09-29T17:31:57.532Z"
   },
   {
    "duration": 84,
    "start_time": "2021-09-29T17:31:57.560Z"
   },
   {
    "duration": 902,
    "start_time": "2021-09-29T17:31:57.647Z"
   },
   {
    "duration": 76,
    "start_time": "2021-09-29T17:31:58.551Z"
   },
   {
    "duration": 849,
    "start_time": "2021-09-29T17:31:58.629Z"
   },
   {
    "duration": 82,
    "start_time": "2021-09-29T17:31:59.480Z"
   },
   {
    "duration": 936,
    "start_time": "2021-09-29T17:31:59.564Z"
   },
   {
    "duration": 2872,
    "start_time": "2021-09-29T17:32:00.503Z"
   },
   {
    "duration": 7,
    "start_time": "2021-09-29T17:32:03.379Z"
   },
   {
    "duration": 31,
    "start_time": "2021-09-29T17:32:03.390Z"
   },
   {
    "duration": 10,
    "start_time": "2021-09-29T17:32:03.424Z"
   },
   {
    "duration": 50,
    "start_time": "2021-09-29T17:32:03.437Z"
   },
   {
    "duration": 44,
    "start_time": "2021-09-29T17:32:03.490Z"
   },
   {
    "duration": 9,
    "start_time": "2021-09-29T17:32:03.537Z"
   },
   {
    "duration": 18,
    "start_time": "2021-09-29T17:32:03.548Z"
   },
   {
    "duration": 84,
    "start_time": "2021-09-29T17:32:03.569Z"
   },
   {
    "duration": 1577,
    "start_time": "2021-09-29T18:18:36.135Z"
   },
   {
    "duration": 237,
    "start_time": "2021-09-29T18:18:37.716Z"
   },
   {
    "duration": 15,
    "start_time": "2021-09-29T18:18:37.958Z"
   },
   {
    "duration": 169,
    "start_time": "2021-09-29T18:18:37.976Z"
   },
   {
    "duration": 41,
    "start_time": "2021-09-29T18:18:38.147Z"
   },
   {
    "duration": 238,
    "start_time": "2021-09-29T18:18:38.192Z"
   },
   {
    "duration": 12,
    "start_time": "2021-09-29T18:18:38.436Z"
   },
   {
    "duration": 102,
    "start_time": "2021-09-29T18:18:38.453Z"
   },
   {
    "duration": 58,
    "start_time": "2021-09-29T18:18:38.559Z"
   },
   {
    "duration": 137,
    "start_time": "2021-09-29T18:18:38.620Z"
   },
   {
    "duration": 11,
    "start_time": "2021-09-29T18:18:38.759Z"
   },
   {
    "duration": 85,
    "start_time": "2021-09-29T18:18:38.773Z"
   },
   {
    "duration": 25,
    "start_time": "2021-09-29T18:18:38.860Z"
   },
   {
    "duration": 51,
    "start_time": "2021-09-29T18:18:38.888Z"
   },
   {
    "duration": 19,
    "start_time": "2021-09-29T18:18:38.943Z"
   },
   {
    "duration": 16,
    "start_time": "2021-09-29T18:18:38.965Z"
   },
   {
    "duration": 48,
    "start_time": "2021-09-29T18:18:38.984Z"
   },
   {
    "duration": 14,
    "start_time": "2021-09-29T18:18:39.034Z"
   },
   {
    "duration": 16,
    "start_time": "2021-09-29T18:18:39.051Z"
   },
   {
    "duration": 51,
    "start_time": "2021-09-29T18:18:39.069Z"
   },
   {
    "duration": 7,
    "start_time": "2021-09-29T18:18:39.122Z"
   },
   {
    "duration": 117,
    "start_time": "2021-09-29T18:18:39.135Z"
   },
   {
    "duration": 5,
    "start_time": "2021-09-29T18:18:39.256Z"
   },
   {
    "duration": 22,
    "start_time": "2021-09-29T18:18:39.263Z"
   },
   {
    "duration": 30,
    "start_time": "2021-09-29T18:18:39.288Z"
   },
   {
    "duration": 7,
    "start_time": "2021-09-29T18:18:39.320Z"
   },
   {
    "duration": 14,
    "start_time": "2021-09-29T18:18:39.330Z"
   },
   {
    "duration": 689,
    "start_time": "2021-09-29T18:18:39.346Z"
   },
   {
    "duration": 8,
    "start_time": "2021-09-29T18:18:40.038Z"
   },
   {
    "duration": 102,
    "start_time": "2021-09-29T18:18:40.049Z"
   },
   {
    "duration": 144,
    "start_time": "2021-09-29T18:18:40.154Z"
   },
   {
    "duration": 51,
    "start_time": "2021-09-29T18:18:40.301Z"
   },
   {
    "duration": 62,
    "start_time": "2021-09-29T18:18:40.354Z"
   },
   {
    "duration": 24,
    "start_time": "2021-09-29T18:18:40.418Z"
   },
   {
    "duration": 2088,
    "start_time": "2021-09-29T18:18:40.444Z"
   },
   {
    "duration": 17,
    "start_time": "2021-09-29T18:18:42.534Z"
   },
   {
    "duration": 37,
    "start_time": "2021-09-29T18:18:42.553Z"
   },
   {
    "duration": 40,
    "start_time": "2021-09-29T18:18:42.593Z"
   },
   {
    "duration": 18,
    "start_time": "2021-09-29T18:18:42.635Z"
   },
   {
    "duration": 19,
    "start_time": "2021-09-29T18:18:42.655Z"
   },
   {
    "duration": 28,
    "start_time": "2021-09-29T18:18:42.676Z"
   },
   {
    "duration": 30,
    "start_time": "2021-09-29T18:18:42.706Z"
   },
   {
    "duration": 56,
    "start_time": "2021-09-29T18:18:42.738Z"
   },
   {
    "duration": 874,
    "start_time": "2021-09-29T18:18:42.816Z"
   },
   {
    "duration": 73,
    "start_time": "2021-09-29T18:18:43.692Z"
   },
   {
    "duration": 820,
    "start_time": "2021-09-29T18:18:43.768Z"
   },
   {
    "duration": 69,
    "start_time": "2021-09-29T18:18:44.591Z"
   },
   {
    "duration": 926,
    "start_time": "2021-09-29T18:18:44.662Z"
   },
   {
    "duration": 2809,
    "start_time": "2021-09-29T18:18:45.591Z"
   },
   {
    "duration": 19,
    "start_time": "2021-09-29T18:18:48.402Z"
   },
   {
    "duration": 13,
    "start_time": "2021-09-29T18:18:48.423Z"
   },
   {
    "duration": 19,
    "start_time": "2021-09-29T18:18:48.439Z"
   },
   {
    "duration": 58,
    "start_time": "2021-09-29T18:18:48.460Z"
   },
   {
    "duration": 17,
    "start_time": "2021-09-29T18:18:48.520Z"
   },
   {
    "duration": 16,
    "start_time": "2021-09-29T18:18:48.540Z"
   },
   {
    "duration": 10,
    "start_time": "2021-09-29T18:18:48.559Z"
   },
   {
    "duration": 80,
    "start_time": "2021-09-29T18:18:48.572Z"
   },
   {
    "duration": 7,
    "start_time": "2021-09-29T18:27:19.496Z"
   },
   {
    "duration": 7,
    "start_time": "2021-09-29T18:28:58.269Z"
   },
   {
    "duration": 8,
    "start_time": "2021-09-29T18:30:14.065Z"
   },
   {
    "duration": 1551,
    "start_time": "2021-09-29T18:31:17.550Z"
   },
   {
    "duration": 244,
    "start_time": "2021-09-29T18:31:19.104Z"
   },
   {
    "duration": 16,
    "start_time": "2021-09-29T18:31:19.354Z"
   },
   {
    "duration": 171,
    "start_time": "2021-09-29T18:31:19.373Z"
   },
   {
    "duration": 73,
    "start_time": "2021-09-29T18:31:19.547Z"
   },
   {
    "duration": 252,
    "start_time": "2021-09-29T18:31:19.623Z"
   },
   {
    "duration": 11,
    "start_time": "2021-09-29T18:31:19.878Z"
   },
   {
    "duration": 80,
    "start_time": "2021-09-29T18:31:19.892Z"
   },
   {
    "duration": 66,
    "start_time": "2021-09-29T18:31:19.975Z"
   },
   {
    "duration": 144,
    "start_time": "2021-09-29T18:31:20.044Z"
   },
   {
    "duration": 25,
    "start_time": "2021-09-29T18:31:20.191Z"
   },
   {
    "duration": 64,
    "start_time": "2021-09-29T18:31:20.219Z"
   },
   {
    "duration": 44,
    "start_time": "2021-09-29T18:31:20.286Z"
   },
   {
    "duration": 25,
    "start_time": "2021-09-29T18:31:20.333Z"
   },
   {
    "duration": 24,
    "start_time": "2021-09-29T18:31:20.360Z"
   },
   {
    "duration": 32,
    "start_time": "2021-09-29T18:31:20.386Z"
   },
   {
    "duration": 45,
    "start_time": "2021-09-29T18:31:20.420Z"
   },
   {
    "duration": 27,
    "start_time": "2021-09-29T18:31:20.468Z"
   },
   {
    "duration": 31,
    "start_time": "2021-09-29T18:31:20.498Z"
   },
   {
    "duration": 40,
    "start_time": "2021-09-29T18:31:20.532Z"
   },
   {
    "duration": 19,
    "start_time": "2021-09-29T18:31:20.574Z"
   },
   {
    "duration": 101,
    "start_time": "2021-09-29T18:31:20.599Z"
   },
   {
    "duration": 5,
    "start_time": "2021-09-29T18:31:20.704Z"
   },
   {
    "duration": 14,
    "start_time": "2021-09-29T18:31:20.716Z"
   },
   {
    "duration": 12,
    "start_time": "2021-09-29T18:31:20.732Z"
   },
   {
    "duration": 17,
    "start_time": "2021-09-29T18:31:20.746Z"
   },
   {
    "duration": 25,
    "start_time": "2021-09-29T18:31:20.766Z"
   },
   {
    "duration": 652,
    "start_time": "2021-09-29T18:31:20.794Z"
   },
   {
    "duration": 5,
    "start_time": "2021-09-29T18:31:21.449Z"
   },
   {
    "duration": 94,
    "start_time": "2021-09-29T18:31:21.457Z"
   },
   {
    "duration": 146,
    "start_time": "2021-09-29T18:31:21.554Z"
   },
   {
    "duration": 51,
    "start_time": "2021-09-29T18:31:21.703Z"
   },
   {
    "duration": 61,
    "start_time": "2021-09-29T18:31:21.757Z"
   },
   {
    "duration": 24,
    "start_time": "2021-09-29T18:31:21.820Z"
   },
   {
    "duration": 1939,
    "start_time": "2021-09-29T18:31:21.846Z"
   },
   {
    "duration": 33,
    "start_time": "2021-09-29T18:31:23.788Z"
   },
   {
    "duration": 24,
    "start_time": "2021-09-29T18:31:23.823Z"
   },
   {
    "duration": 21,
    "start_time": "2021-09-29T18:31:23.849Z"
   },
   {
    "duration": 47,
    "start_time": "2021-09-29T18:31:23.872Z"
   },
   {
    "duration": 8,
    "start_time": "2021-09-29T18:31:23.921Z"
   },
   {
    "duration": 26,
    "start_time": "2021-09-29T18:31:23.931Z"
   },
   {
    "duration": 28,
    "start_time": "2021-09-29T18:31:23.959Z"
   },
   {
    "duration": 73,
    "start_time": "2021-09-29T18:31:23.990Z"
   },
   {
    "duration": 836,
    "start_time": "2021-09-29T18:31:24.065Z"
   },
   {
    "duration": 66,
    "start_time": "2021-09-29T18:31:24.903Z"
   },
   {
    "duration": 820,
    "start_time": "2021-09-29T18:31:24.971Z"
   },
   {
    "duration": 75,
    "start_time": "2021-09-29T18:31:25.794Z"
   },
   {
    "duration": 895,
    "start_time": "2021-09-29T18:31:25.872Z"
   },
   {
    "duration": 2595,
    "start_time": "2021-09-29T18:31:26.770Z"
   },
   {
    "duration": 6,
    "start_time": "2021-09-29T18:31:29.368Z"
   },
   {
    "duration": 12,
    "start_time": "2021-09-29T18:31:29.376Z"
   },
   {
    "duration": 32,
    "start_time": "2021-09-29T18:31:29.390Z"
   },
   {
    "duration": 49,
    "start_time": "2021-09-29T18:31:29.424Z"
   },
   {
    "duration": 43,
    "start_time": "2021-09-29T18:31:29.475Z"
   },
   {
    "duration": 6,
    "start_time": "2021-09-29T18:31:29.521Z"
   },
   {
    "duration": 13,
    "start_time": "2021-09-29T18:31:29.529Z"
   },
   {
    "duration": 99,
    "start_time": "2021-09-29T18:31:29.545Z"
   },
   {
    "duration": 1706,
    "start_time": "2021-09-30T06:58:59.844Z"
   },
   {
    "duration": 247,
    "start_time": "2021-09-30T06:59:01.553Z"
   },
   {
    "duration": 18,
    "start_time": "2021-09-30T06:59:01.804Z"
   },
   {
    "duration": 169,
    "start_time": "2021-09-30T06:59:01.825Z"
   },
   {
    "duration": 44,
    "start_time": "2021-09-30T06:59:01.996Z"
   },
   {
    "duration": 212,
    "start_time": "2021-09-30T06:59:02.063Z"
   },
   {
    "duration": 18,
    "start_time": "2021-09-30T06:59:02.278Z"
   },
   {
    "duration": 133,
    "start_time": "2021-09-30T06:59:02.302Z"
   },
   {
    "duration": 54,
    "start_time": "2021-09-30T06:59:02.439Z"
   },
   {
    "duration": 143,
    "start_time": "2021-09-30T06:59:02.497Z"
   },
   {
    "duration": 20,
    "start_time": "2021-09-30T06:59:02.643Z"
   },
   {
    "duration": 69,
    "start_time": "2021-09-30T06:59:02.666Z"
   },
   {
    "duration": 50,
    "start_time": "2021-09-30T06:59:02.738Z"
   },
   {
    "duration": 23,
    "start_time": "2021-09-30T06:59:02.791Z"
   },
   {
    "duration": 52,
    "start_time": "2021-09-30T06:59:02.817Z"
   },
   {
    "duration": 10,
    "start_time": "2021-09-30T06:59:02.871Z"
   },
   {
    "duration": 38,
    "start_time": "2021-09-30T06:59:02.883Z"
   },
   {
    "duration": 14,
    "start_time": "2021-09-30T06:59:02.924Z"
   },
   {
    "duration": 28,
    "start_time": "2021-09-30T06:59:02.941Z"
   },
   {
    "duration": 31,
    "start_time": "2021-09-30T06:59:02.972Z"
   },
   {
    "duration": 9,
    "start_time": "2021-09-30T06:59:03.006Z"
   },
   {
    "duration": 139,
    "start_time": "2021-09-30T06:59:03.018Z"
   },
   {
    "duration": 6,
    "start_time": "2021-09-30T06:59:03.164Z"
   },
   {
    "duration": 28,
    "start_time": "2021-09-30T06:59:03.174Z"
   },
   {
    "duration": 11,
    "start_time": "2021-09-30T06:59:03.205Z"
   },
   {
    "duration": 10,
    "start_time": "2021-09-30T06:59:03.219Z"
   },
   {
    "duration": 11,
    "start_time": "2021-09-30T06:59:03.231Z"
   },
   {
    "duration": 654,
    "start_time": "2021-09-30T06:59:03.265Z"
   },
   {
    "duration": 7,
    "start_time": "2021-09-30T06:59:03.922Z"
   },
   {
    "duration": 94,
    "start_time": "2021-09-30T06:59:03.931Z"
   },
   {
    "duration": 155,
    "start_time": "2021-09-30T06:59:04.027Z"
   },
   {
    "duration": 46,
    "start_time": "2021-09-30T06:59:04.184Z"
   },
   {
    "duration": 85,
    "start_time": "2021-09-30T06:59:04.234Z"
   },
   {
    "duration": 50,
    "start_time": "2021-09-30T06:59:04.322Z"
   },
   {
    "duration": 2735,
    "start_time": "2021-09-30T06:59:04.375Z"
   },
   {
    "duration": 28,
    "start_time": "2021-09-30T06:59:07.114Z"
   },
   {
    "duration": 42,
    "start_time": "2021-09-30T06:59:07.162Z"
   },
   {
    "duration": 59,
    "start_time": "2021-09-30T06:59:07.208Z"
   },
   {
    "duration": 13,
    "start_time": "2021-09-30T06:59:07.270Z"
   },
   {
    "duration": 9,
    "start_time": "2021-09-30T06:59:07.286Z"
   },
   {
    "duration": 23,
    "start_time": "2021-09-30T06:59:07.297Z"
   },
   {
    "duration": 46,
    "start_time": "2021-09-30T06:59:07.322Z"
   },
   {
    "duration": 62,
    "start_time": "2021-09-30T06:59:07.372Z"
   },
   {
    "duration": 911,
    "start_time": "2021-09-30T06:59:07.436Z"
   },
   {
    "duration": 73,
    "start_time": "2021-09-30T06:59:08.349Z"
   },
   {
    "duration": 930,
    "start_time": "2021-09-30T06:59:08.424Z"
   },
   {
    "duration": 110,
    "start_time": "2021-09-30T06:59:09.367Z"
   },
   {
    "duration": 988,
    "start_time": "2021-09-30T06:59:09.482Z"
   },
   {
    "duration": 3020,
    "start_time": "2021-09-30T06:59:10.473Z"
   },
   {
    "duration": 7,
    "start_time": "2021-09-30T06:59:13.496Z"
   },
   {
    "duration": 27,
    "start_time": "2021-09-30T06:59:13.505Z"
   },
   {
    "duration": 16,
    "start_time": "2021-09-30T06:59:13.534Z"
   },
   {
    "duration": 39,
    "start_time": "2021-09-30T06:59:13.574Z"
   },
   {
    "duration": 16,
    "start_time": "2021-09-30T06:59:13.616Z"
   },
   {
    "duration": 31,
    "start_time": "2021-09-30T06:59:13.635Z"
   },
   {
    "duration": 8,
    "start_time": "2021-09-30T06:59:13.674Z"
   },
   {
    "duration": 54,
    "start_time": "2021-09-30T06:59:13.684Z"
   },
   {
    "duration": 167,
    "start_time": "2021-09-30T18:49:21.838Z"
   },
   {
    "duration": 127,
    "start_time": "2021-09-30T18:49:46.675Z"
   },
   {
    "duration": 130,
    "start_time": "2021-09-30T18:49:49.422Z"
   }
  ],
  "kernelspec": {
   "display_name": "Python 3 (ipykernel)",
   "language": "python",
   "name": "python3"
  },
  "language_info": {
   "codemirror_mode": {
    "name": "ipython",
    "version": 3
   },
   "file_extension": ".py",
   "mimetype": "text/x-python",
   "name": "python",
   "nbconvert_exporter": "python",
   "pygments_lexer": "ipython3",
   "version": "3.9.7"
  },
  "toc": {
   "base_numbering": 1,
   "nav_menu": {
    "height": "265px",
    "width": "251px"
   },
   "number_sections": true,
   "sideBar": true,
   "skip_h1_title": true,
   "title_cell": "Содержание:",
   "title_sidebar": "Содержание:",
   "toc_cell": true,
   "toc_position": {
    "height": "calc(100% - 180px)",
    "left": "10px",
    "top": "150px",
    "width": "387.391px"
   },
   "toc_section_display": true,
   "toc_window_display": true
  }
 },
 "nbformat": 4,
 "nbformat_minor": 2
}

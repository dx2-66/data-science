{
 "cells": [
  {
   "cell_type": "markdown",
   "metadata": {},
   "source": [
    "# Защита персональных данных клиентов"
   ]
  },
  {
   "cell_type": "markdown",
   "metadata": {},
   "source": [
    "Страховой компании необходимо защитить данные клиентов, которые подаются на вход модели машинного обучения. Задача - разработать такой метод преобразования данных, чтобы по ним было сложно восстановить персональную информацию (с обоснованием корректности его работы). В то же время при преобразовании качество модели не должно ухудшаться. Подбирать наилучшую модель не требуется."
   ]
  },
  {
   "cell_type": "markdown",
   "metadata": {
    "toc": true
   },
   "source": [
    "<h1>Содержание<span class=\"tocSkip\"></span></h1>\n",
    "<div class=\"toc\"><ul class=\"toc-item\"><li><span><a href=\"#Обзор-и-предобработка-данных\" data-toc-modified-id=\"Обзор-и-предобработка-данных-1\"><span class=\"toc-item-num\">1&nbsp;&nbsp;</span>Обзор и предобработка данных</a></span><ul class=\"toc-item\"><li><span><a href=\"#Предварительный-обзор\" data-toc-modified-id=\"Предварительный-обзор-1.1\"><span class=\"toc-item-num\">1.1&nbsp;&nbsp;</span>Предварительный обзор</a></span></li><li><span><a href=\"#EDA\" data-toc-modified-id=\"EDA-1.2\"><span class=\"toc-item-num\">1.2&nbsp;&nbsp;</span>EDA</a></span></li><li><span><a href=\"#Предобработка-данных\" data-toc-modified-id=\"Предобработка-данных-1.3\"><span class=\"toc-item-num\">1.3&nbsp;&nbsp;</span>Предобработка данных</a></span></li><li><span><a href=\"#Вывод\" data-toc-modified-id=\"Вывод-1.4\"><span class=\"toc-item-num\">1.4&nbsp;&nbsp;</span>Вывод</a></span></li></ul></li><li><span><a href=\"#Теоретический-раздел\" data-toc-modified-id=\"Теоретический-раздел-2\"><span class=\"toc-item-num\">2&nbsp;&nbsp;</span>Теоретический раздел</a></span></li><li><span><a href=\"#Алгоритм-преобразования\" data-toc-modified-id=\"Алгоритм-преобразования-3\"><span class=\"toc-item-num\">3&nbsp;&nbsp;</span>Алгоритм преобразования</a></span></li><li><span><a href=\"#Проверка-алгоритма\" data-toc-modified-id=\"Проверка-алгоритма-4\"><span class=\"toc-item-num\">4&nbsp;&nbsp;</span>Проверка алгоритма</a></span></li><li><span><a href=\"#Вывод\" data-toc-modified-id=\"Вывод-5\"><span class=\"toc-item-num\">5&nbsp;&nbsp;</span>Вывод</a></span><ul class=\"toc-item\"><li><span><a href=\"#Рекомендации-по-заполнению-данных\" data-toc-modified-id=\"Рекомендации-по-заполнению-данных-5.1\"><span class=\"toc-item-num\">5.1&nbsp;&nbsp;</span>Рекомендации по заполнению данных</a></span></li></ul></li></ul></div>"
   ]
  },
  {
   "cell_type": "markdown",
   "metadata": {},
   "source": [
    "## Обзор и предобработка данных"
   ]
  },
  {
   "cell_type": "code",
   "execution_count": 1,
   "metadata": {},
   "outputs": [],
   "source": [
    "# Импортируем необходимые модули:\n",
    "import pandas as pd\n",
    "import numpy as np\n",
    "\n",
    "import seaborn as sns\n",
    "import matplotlib.pyplot as plt\n",
    "\n",
    "from sklearn.linear_model import LinearRegression\n",
    "from sklearn.datasets import make_spd_matrix\n",
    "from sklearn.model_selection import train_test_split, GridSearchCV\n",
    "from sklearn.preprocessing import StandardScaler\n",
    "from sklearn.metrics import r2_score"
   ]
  },
  {
   "cell_type": "code",
   "execution_count": 2,
   "metadata": {},
   "outputs": [],
   "source": [
    "# Зафиксируем состояние генератора случайных чисел для воспроизведения результатов:\n",
    "random_state = 177013"
   ]
  },
  {
   "cell_type": "markdown",
   "metadata": {},
   "source": [
    "### Предварительный обзор"
   ]
  },
  {
   "cell_type": "markdown",
   "metadata": {},
   "source": [
    "Ознакомимся с первыми строками таблицы, небольшой случайной выборкой из нее и общей информацией:"
   ]
  },
  {
   "cell_type": "code",
   "execution_count": 3,
   "metadata": {},
   "outputs": [],
   "source": [
    "df = pd.read_csv ('/datasets/insurance.csv')"
   ]
  },
  {
   "cell_type": "code",
   "execution_count": 4,
   "metadata": {},
   "outputs": [
    {
     "data": {
      "text/html": [
       "<div>\n",
       "<style scoped>\n",
       "    .dataframe tbody tr th:only-of-type {\n",
       "        vertical-align: middle;\n",
       "    }\n",
       "\n",
       "    .dataframe tbody tr th {\n",
       "        vertical-align: top;\n",
       "    }\n",
       "\n",
       "    .dataframe thead th {\n",
       "        text-align: right;\n",
       "    }\n",
       "</style>\n",
       "<table border=\"1\" class=\"dataframe\">\n",
       "  <thead>\n",
       "    <tr style=\"text-align: right;\">\n",
       "      <th></th>\n",
       "      <th>Пол</th>\n",
       "      <th>Возраст</th>\n",
       "      <th>Зарплата</th>\n",
       "      <th>Члены семьи</th>\n",
       "      <th>Страховые выплаты</th>\n",
       "    </tr>\n",
       "  </thead>\n",
       "  <tbody>\n",
       "    <tr>\n",
       "      <td>0</td>\n",
       "      <td>1</td>\n",
       "      <td>41.0</td>\n",
       "      <td>49600.0</td>\n",
       "      <td>1</td>\n",
       "      <td>0</td>\n",
       "    </tr>\n",
       "    <tr>\n",
       "      <td>1</td>\n",
       "      <td>0</td>\n",
       "      <td>46.0</td>\n",
       "      <td>38000.0</td>\n",
       "      <td>1</td>\n",
       "      <td>1</td>\n",
       "    </tr>\n",
       "    <tr>\n",
       "      <td>2</td>\n",
       "      <td>0</td>\n",
       "      <td>29.0</td>\n",
       "      <td>21000.0</td>\n",
       "      <td>0</td>\n",
       "      <td>0</td>\n",
       "    </tr>\n",
       "    <tr>\n",
       "      <td>3</td>\n",
       "      <td>0</td>\n",
       "      <td>21.0</td>\n",
       "      <td>41700.0</td>\n",
       "      <td>2</td>\n",
       "      <td>0</td>\n",
       "    </tr>\n",
       "    <tr>\n",
       "      <td>4</td>\n",
       "      <td>1</td>\n",
       "      <td>28.0</td>\n",
       "      <td>26100.0</td>\n",
       "      <td>0</td>\n",
       "      <td>0</td>\n",
       "    </tr>\n",
       "  </tbody>\n",
       "</table>\n",
       "</div>"
      ],
      "text/plain": [
       "   Пол  Возраст  Зарплата  Члены семьи  Страховые выплаты\n",
       "0    1     41.0   49600.0            1                  0\n",
       "1    0     46.0   38000.0            1                  1\n",
       "2    0     29.0   21000.0            0                  0\n",
       "3    0     21.0   41700.0            2                  0\n",
       "4    1     28.0   26100.0            0                  0"
      ]
     },
     "execution_count": 4,
     "metadata": {},
     "output_type": "execute_result"
    }
   ],
   "source": [
    "df.head()"
   ]
  },
  {
   "cell_type": "code",
   "execution_count": 5,
   "metadata": {},
   "outputs": [
    {
     "data": {
      "text/html": [
       "<div>\n",
       "<style scoped>\n",
       "    .dataframe tbody tr th:only-of-type {\n",
       "        vertical-align: middle;\n",
       "    }\n",
       "\n",
       "    .dataframe tbody tr th {\n",
       "        vertical-align: top;\n",
       "    }\n",
       "\n",
       "    .dataframe thead th {\n",
       "        text-align: right;\n",
       "    }\n",
       "</style>\n",
       "<table border=\"1\" class=\"dataframe\">\n",
       "  <thead>\n",
       "    <tr style=\"text-align: right;\">\n",
       "      <th></th>\n",
       "      <th>Пол</th>\n",
       "      <th>Возраст</th>\n",
       "      <th>Зарплата</th>\n",
       "      <th>Члены семьи</th>\n",
       "      <th>Страховые выплаты</th>\n",
       "    </tr>\n",
       "  </thead>\n",
       "  <tbody>\n",
       "    <tr>\n",
       "      <td>3284</td>\n",
       "      <td>0</td>\n",
       "      <td>18.0</td>\n",
       "      <td>29000.0</td>\n",
       "      <td>0</td>\n",
       "      <td>0</td>\n",
       "    </tr>\n",
       "    <tr>\n",
       "      <td>4850</td>\n",
       "      <td>0</td>\n",
       "      <td>19.0</td>\n",
       "      <td>42000.0</td>\n",
       "      <td>2</td>\n",
       "      <td>0</td>\n",
       "    </tr>\n",
       "    <tr>\n",
       "      <td>2783</td>\n",
       "      <td>0</td>\n",
       "      <td>39.0</td>\n",
       "      <td>57800.0</td>\n",
       "      <td>1</td>\n",
       "      <td>0</td>\n",
       "    </tr>\n",
       "    <tr>\n",
       "      <td>3828</td>\n",
       "      <td>0</td>\n",
       "      <td>32.0</td>\n",
       "      <td>32000.0</td>\n",
       "      <td>0</td>\n",
       "      <td>0</td>\n",
       "    </tr>\n",
       "    <tr>\n",
       "      <td>2459</td>\n",
       "      <td>0</td>\n",
       "      <td>26.0</td>\n",
       "      <td>32600.0</td>\n",
       "      <td>0</td>\n",
       "      <td>0</td>\n",
       "    </tr>\n",
       "    <tr>\n",
       "      <td>2358</td>\n",
       "      <td>1</td>\n",
       "      <td>31.0</td>\n",
       "      <td>48500.0</td>\n",
       "      <td>1</td>\n",
       "      <td>0</td>\n",
       "    </tr>\n",
       "    <tr>\n",
       "      <td>3706</td>\n",
       "      <td>1</td>\n",
       "      <td>38.0</td>\n",
       "      <td>37700.0</td>\n",
       "      <td>2</td>\n",
       "      <td>0</td>\n",
       "    </tr>\n",
       "    <tr>\n",
       "      <td>2126</td>\n",
       "      <td>0</td>\n",
       "      <td>32.0</td>\n",
       "      <td>42400.0</td>\n",
       "      <td>2</td>\n",
       "      <td>0</td>\n",
       "    </tr>\n",
       "    <tr>\n",
       "      <td>3181</td>\n",
       "      <td>1</td>\n",
       "      <td>25.0</td>\n",
       "      <td>51900.0</td>\n",
       "      <td>0</td>\n",
       "      <td>0</td>\n",
       "    </tr>\n",
       "    <tr>\n",
       "      <td>2926</td>\n",
       "      <td>1</td>\n",
       "      <td>23.0</td>\n",
       "      <td>42700.0</td>\n",
       "      <td>0</td>\n",
       "      <td>0</td>\n",
       "    </tr>\n",
       "  </tbody>\n",
       "</table>\n",
       "</div>"
      ],
      "text/plain": [
       "      Пол  Возраст  Зарплата  Члены семьи  Страховые выплаты\n",
       "3284    0     18.0   29000.0            0                  0\n",
       "4850    0     19.0   42000.0            2                  0\n",
       "2783    0     39.0   57800.0            1                  0\n",
       "3828    0     32.0   32000.0            0                  0\n",
       "2459    0     26.0   32600.0            0                  0\n",
       "2358    1     31.0   48500.0            1                  0\n",
       "3706    1     38.0   37700.0            2                  0\n",
       "2126    0     32.0   42400.0            2                  0\n",
       "3181    1     25.0   51900.0            0                  0\n",
       "2926    1     23.0   42700.0            0                  0"
      ]
     },
     "execution_count": 5,
     "metadata": {},
     "output_type": "execute_result"
    }
   ],
   "source": [
    "df.sample(n=10, random_state=random_state)"
   ]
  },
  {
   "cell_type": "code",
   "execution_count": 6,
   "metadata": {
    "scrolled": true
   },
   "outputs": [
    {
     "name": "stdout",
     "output_type": "stream",
     "text": [
      "<class 'pandas.core.frame.DataFrame'>\n",
      "RangeIndex: 5000 entries, 0 to 4999\n",
      "Data columns (total 5 columns):\n",
      "Пол                  5000 non-null int64\n",
      "Возраст              5000 non-null float64\n",
      "Зарплата             5000 non-null float64\n",
      "Члены семьи          5000 non-null int64\n",
      "Страховые выплаты    5000 non-null int64\n",
      "dtypes: float64(2), int64(3)\n",
      "memory usage: 195.4 KB\n"
     ]
    }
   ],
   "source": [
    "df.info()"
   ]
  },
  {
   "cell_type": "code",
   "execution_count": 7,
   "metadata": {},
   "outputs": [
    {
     "data": {
      "text/html": [
       "<div>\n",
       "<style scoped>\n",
       "    .dataframe tbody tr th:only-of-type {\n",
       "        vertical-align: middle;\n",
       "    }\n",
       "\n",
       "    .dataframe tbody tr th {\n",
       "        vertical-align: top;\n",
       "    }\n",
       "\n",
       "    .dataframe thead th {\n",
       "        text-align: right;\n",
       "    }\n",
       "</style>\n",
       "<table border=\"1\" class=\"dataframe\">\n",
       "  <thead>\n",
       "    <tr style=\"text-align: right;\">\n",
       "      <th></th>\n",
       "      <th>count</th>\n",
       "      <th>mean</th>\n",
       "      <th>std</th>\n",
       "      <th>min</th>\n",
       "      <th>25%</th>\n",
       "      <th>50%</th>\n",
       "      <th>75%</th>\n",
       "      <th>max</th>\n",
       "    </tr>\n",
       "  </thead>\n",
       "  <tbody>\n",
       "    <tr>\n",
       "      <td>Пол</td>\n",
       "      <td>5000.0</td>\n",
       "      <td>0.4990</td>\n",
       "      <td>0.500049</td>\n",
       "      <td>0.0</td>\n",
       "      <td>0.0</td>\n",
       "      <td>0.0</td>\n",
       "      <td>1.0</td>\n",
       "      <td>1.0</td>\n",
       "    </tr>\n",
       "    <tr>\n",
       "      <td>Возраст</td>\n",
       "      <td>5000.0</td>\n",
       "      <td>30.9528</td>\n",
       "      <td>8.440807</td>\n",
       "      <td>18.0</td>\n",
       "      <td>24.0</td>\n",
       "      <td>30.0</td>\n",
       "      <td>37.0</td>\n",
       "      <td>65.0</td>\n",
       "    </tr>\n",
       "    <tr>\n",
       "      <td>Зарплата</td>\n",
       "      <td>5000.0</td>\n",
       "      <td>39916.3600</td>\n",
       "      <td>9900.083569</td>\n",
       "      <td>5300.0</td>\n",
       "      <td>33300.0</td>\n",
       "      <td>40200.0</td>\n",
       "      <td>46600.0</td>\n",
       "      <td>79000.0</td>\n",
       "    </tr>\n",
       "    <tr>\n",
       "      <td>Члены семьи</td>\n",
       "      <td>5000.0</td>\n",
       "      <td>1.1942</td>\n",
       "      <td>1.091387</td>\n",
       "      <td>0.0</td>\n",
       "      <td>0.0</td>\n",
       "      <td>1.0</td>\n",
       "      <td>2.0</td>\n",
       "      <td>6.0</td>\n",
       "    </tr>\n",
       "    <tr>\n",
       "      <td>Страховые выплаты</td>\n",
       "      <td>5000.0</td>\n",
       "      <td>0.1480</td>\n",
       "      <td>0.463183</td>\n",
       "      <td>0.0</td>\n",
       "      <td>0.0</td>\n",
       "      <td>0.0</td>\n",
       "      <td>0.0</td>\n",
       "      <td>5.0</td>\n",
       "    </tr>\n",
       "  </tbody>\n",
       "</table>\n",
       "</div>"
      ],
      "text/plain": [
       "                    count        mean          std     min      25%      50%  \\\n",
       "Пол                5000.0      0.4990     0.500049     0.0      0.0      0.0   \n",
       "Возраст            5000.0     30.9528     8.440807    18.0     24.0     30.0   \n",
       "Зарплата           5000.0  39916.3600  9900.083569  5300.0  33300.0  40200.0   \n",
       "Члены семьи        5000.0      1.1942     1.091387     0.0      0.0      1.0   \n",
       "Страховые выплаты  5000.0      0.1480     0.463183     0.0      0.0      0.0   \n",
       "\n",
       "                       75%      max  \n",
       "Пол                    1.0      1.0  \n",
       "Возраст               37.0     65.0  \n",
       "Зарплата           46600.0  79000.0  \n",
       "Члены семьи            2.0      6.0  \n",
       "Страховые выплаты      0.0      5.0  "
      ]
     },
     "execution_count": 7,
     "metadata": {},
     "output_type": "execute_result"
    }
   ],
   "source": [
    "df.describe().T"
   ]
  },
  {
   "cell_type": "markdown",
   "metadata": {},
   "source": [
    "Предоставлены данные о 5000 клиентов по 5 признакам, все они числовые и выглядят целыми. Проверим целесообразность приведения столбцов `Возраст` и `Зарплата` к целочисленному типу:"
   ]
  },
  {
   "cell_type": "code",
   "execution_count": 8,
   "metadata": {},
   "outputs": [
    {
     "data": {
      "text/plain": [
       "0"
      ]
     },
     "execution_count": 8,
     "metadata": {},
     "output_type": "execute_result"
    }
   ],
   "source": [
    "len (df[df['Возраст'] - df['Возраст'].astype('int') != 0])"
   ]
  },
  {
   "cell_type": "code",
   "execution_count": 9,
   "metadata": {},
   "outputs": [
    {
     "data": {
      "text/plain": [
       "0"
      ]
     },
     "execution_count": 9,
     "metadata": {},
     "output_type": "execute_result"
    }
   ],
   "source": [
    "len(df[df['Зарплата'].round() % 100 !=0])"
   ]
  },
  {
   "cell_type": "markdown",
   "metadata": {},
   "source": [
    "Действительно, для значения возраста не используется дробная часть, а зарплаты кратны 100, что делает использование дробной части избыточным. Это значит, что все столбцы могут быть приведены к одному из целочисленных подтипов."
   ]
  },
  {
   "cell_type": "code",
   "execution_count": 10,
   "metadata": {},
   "outputs": [],
   "source": [
    "def convert_to_uint32(df):\n",
    "    return df.astype('uint32')"
   ]
  },
  {
   "cell_type": "markdown",
   "metadata": {},
   "source": [
    "Заголовки столбцов не следуют общепринятой практике (используется кириллица с заглавными буквами). Это неплохо для аналитической части, но для работы с моделью мы переименуем их:"
   ]
  },
  {
   "cell_type": "code",
   "execution_count": 11,
   "metadata": {},
   "outputs": [],
   "source": [
    "def rename_columns(df):\n",
    "    try:\n",
    "        return df.rename(columns = {'Пол': 'sex',\n",
    "                                    'Возраст': 'age',\n",
    "                                    'Зарплата': 'salary',\n",
    "                                    'Члены семьи': 'num_relatives', \n",
    "                                    'Страховые выплаты': 'num_insurance_cases'})\n",
    "    except:\n",
    "        print('Проверьте заготовки столбцов!')\n",
    "        return df"
   ]
  },
  {
   "cell_type": "code",
   "execution_count": 12,
   "metadata": {},
   "outputs": [
    {
     "data": {
      "text/plain": [
       "153"
      ]
     },
     "execution_count": 12,
     "metadata": {},
     "output_type": "execute_result"
    }
   ],
   "source": [
    "df.duplicated().sum()"
   ]
  },
  {
   "cell_type": "markdown",
   "metadata": {},
   "source": [
    "У нас есть порядка 3% идентичных строк, однако поскольку идентификаторов пользователя нет, а число признаков невелико, это могут быть и совпадения, поэтому мы сохраним эти строки в выборке."
   ]
  },
  {
   "cell_type": "markdown",
   "metadata": {},
   "source": [
    "### EDA"
   ]
  },
  {
   "cell_type": "markdown",
   "metadata": {},
   "source": [
    "Согласно выводу *describe()* выше, значения признаков лежат в разумных пределах и не имеют пропусков. Рассмотрим их немного повнимательней перед построением модели."
   ]
  },
  {
   "cell_type": "code",
   "execution_count": 13,
   "metadata": {},
   "outputs": [
    {
     "data": {
      "image/png": "[encoded data removed]",
      "text/plain": [
       "<Figure size 1152x576 with 6 Axes>"
      ]
     },
     "metadata": {
      "needs_background": "light"
     },
     "output_type": "display_data"
    }
   ],
   "source": [
    "fig, axes = plt.subplots(2, 3, figsize=(16,8))\n",
    "for column, ax in zip (df.columns, axes.flat):\n",
    "    if df[column].nunique() < 10:\n",
    "        df[column].value_counts().sort_index().plot(kind='bar', ax=ax, rot=0, width=0.7);\n",
    "    else:\n",
    "        sns.violinplot (data=df[column], ax=ax, orient='h');\n",
    "    ax.set(xlabel=column)\n",
    "axes[1,2].set_axis_off()        \n",
    "fig.suptitle('Признаки: распределение');"
   ]
  },
  {
   "cell_type": "markdown",
   "metadata": {},
   "source": [
    "- Распределение клиентов по **полу** практически сбалансировано, - хотя не документировано, как трактовать значения (традиционно для мужского пола применяют значение 1, но могут быть и исключения).\n",
    "- **Возраст** большинства клиентов составляет от 18 до 37 лет, в среднем же 30-31 год. На людей от 37 до 65 приходится лишь 25% выборки.\n",
    "- Распредедение **зарплат** клиентов близко к нормальному, среднее и медианное значение порядка 40 тыс. В целом разброс составляет от 5,3 тыс. до 79 тыс., половина значений приходится на диапазон 33,3 тыс. - 46,6 тыс.\n",
    "- Количество **членов семьи** (по-видимому, не считая самого клиента, ввиду большого количества нулевых значений) колеблется в пределах 6, причем 75% значений не превышает 2, что соотносится со здравым смыслом.\n",
    "- Число **страховых случаев** на клиента не превышает 5, причем подавляющее большинство (почти 4,5 тысячи из 5) таковых вовсе не имеет, а общая доля клиентов, получавших больше двух страховых выплат, не превышает 0,5%:"
   ]
  },
  {
   "cell_type": "code",
   "execution_count": 14,
   "metadata": {},
   "outputs": [
    {
     "data": {
      "text/plain": [
       "0    0.8872\n",
       "1    0.0846\n",
       "2    0.0230\n",
       "3    0.0036\n",
       "4    0.0014\n",
       "5    0.0002\n",
       "Name: Страховые выплаты, dtype: float64"
      ]
     },
     "execution_count": 14,
     "metadata": {},
     "output_type": "execute_result"
    }
   ],
   "source": [
    "df['Страховые выплаты'].value_counts(normalize=True)"
   ]
  },
  {
   "cell_type": "code",
   "execution_count": 15,
   "metadata": {},
   "outputs": [
    {
     "data": {
      "image/png": "[encoded data removed]",
      "text/plain": [
       "<Figure size 720x576 with 2 Axes>"
      ]
     },
     "metadata": {
      "needs_background": "light"
     },
     "output_type": "display_data"
    }
   ],
   "source": [
    "plt.figure (figsize=(10,8))\n",
    "sns.heatmap (df.corr(), annot=True, cmap='Blues');"
   ]
  },
  {
   "cell_type": "markdown",
   "metadata": {},
   "source": [
    "Что касается корреляций, число страховых случаев заметно коррелирует с возрастом, что в данном случае не тождественно корреляции со временем: оговорено, что страховые случаи для всех возрастов приведены за последние 5 лет. В остальном же линейной зависимости не наблюдается."
   ]
  },
  {
   "cell_type": "markdown",
   "metadata": {},
   "source": [
    "### Предобработка данных"
   ]
  },
  {
   "cell_type": "markdown",
   "metadata": {},
   "source": [
    "Приведем столбцы к типу `uint32` и переименуем их:"
   ]
  },
  {
   "cell_type": "code",
   "execution_count": 16,
   "metadata": {},
   "outputs": [],
   "source": [
    "df = (df.\n",
    "      pipe(convert_to_uint32).\n",
    "      pipe(rename_columns)\n",
    "     )"
   ]
  },
  {
   "cell_type": "code",
   "execution_count": 17,
   "metadata": {},
   "outputs": [
    {
     "data": {
      "text/html": [
       "<div>\n",
       "<style scoped>\n",
       "    .dataframe tbody tr th:only-of-type {\n",
       "        vertical-align: middle;\n",
       "    }\n",
       "\n",
       "    .dataframe tbody tr th {\n",
       "        vertical-align: top;\n",
       "    }\n",
       "\n",
       "    .dataframe thead th {\n",
       "        text-align: right;\n",
       "    }\n",
       "</style>\n",
       "<table border=\"1\" class=\"dataframe\">\n",
       "  <thead>\n",
       "    <tr style=\"text-align: right;\">\n",
       "      <th></th>\n",
       "      <th>sex</th>\n",
       "      <th>age</th>\n",
       "      <th>salary</th>\n",
       "      <th>num_relatives</th>\n",
       "      <th>num_insurance_cases</th>\n",
       "    </tr>\n",
       "  </thead>\n",
       "  <tbody>\n",
       "    <tr>\n",
       "      <td>3284</td>\n",
       "      <td>0</td>\n",
       "      <td>18</td>\n",
       "      <td>29000</td>\n",
       "      <td>0</td>\n",
       "      <td>0</td>\n",
       "    </tr>\n",
       "    <tr>\n",
       "      <td>4850</td>\n",
       "      <td>0</td>\n",
       "      <td>19</td>\n",
       "      <td>42000</td>\n",
       "      <td>2</td>\n",
       "      <td>0</td>\n",
       "    </tr>\n",
       "    <tr>\n",
       "      <td>2783</td>\n",
       "      <td>0</td>\n",
       "      <td>39</td>\n",
       "      <td>57800</td>\n",
       "      <td>1</td>\n",
       "      <td>0</td>\n",
       "    </tr>\n",
       "    <tr>\n",
       "      <td>3828</td>\n",
       "      <td>0</td>\n",
       "      <td>32</td>\n",
       "      <td>32000</td>\n",
       "      <td>0</td>\n",
       "      <td>0</td>\n",
       "    </tr>\n",
       "    <tr>\n",
       "      <td>2459</td>\n",
       "      <td>0</td>\n",
       "      <td>26</td>\n",
       "      <td>32600</td>\n",
       "      <td>0</td>\n",
       "      <td>0</td>\n",
       "    </tr>\n",
       "    <tr>\n",
       "      <td>2358</td>\n",
       "      <td>1</td>\n",
       "      <td>31</td>\n",
       "      <td>48500</td>\n",
       "      <td>1</td>\n",
       "      <td>0</td>\n",
       "    </tr>\n",
       "    <tr>\n",
       "      <td>3706</td>\n",
       "      <td>1</td>\n",
       "      <td>38</td>\n",
       "      <td>37700</td>\n",
       "      <td>2</td>\n",
       "      <td>0</td>\n",
       "    </tr>\n",
       "    <tr>\n",
       "      <td>2126</td>\n",
       "      <td>0</td>\n",
       "      <td>32</td>\n",
       "      <td>42400</td>\n",
       "      <td>2</td>\n",
       "      <td>0</td>\n",
       "    </tr>\n",
       "    <tr>\n",
       "      <td>3181</td>\n",
       "      <td>1</td>\n",
       "      <td>25</td>\n",
       "      <td>51900</td>\n",
       "      <td>0</td>\n",
       "      <td>0</td>\n",
       "    </tr>\n",
       "    <tr>\n",
       "      <td>2926</td>\n",
       "      <td>1</td>\n",
       "      <td>23</td>\n",
       "      <td>42700</td>\n",
       "      <td>0</td>\n",
       "      <td>0</td>\n",
       "    </tr>\n",
       "  </tbody>\n",
       "</table>\n",
       "</div>"
      ],
      "text/plain": [
       "      sex  age  salary  num_relatives  num_insurance_cases\n",
       "3284    0   18   29000              0                    0\n",
       "4850    0   19   42000              2                    0\n",
       "2783    0   39   57800              1                    0\n",
       "3828    0   32   32000              0                    0\n",
       "2459    0   26   32600              0                    0\n",
       "2358    1   31   48500              1                    0\n",
       "3706    1   38   37700              2                    0\n",
       "2126    0   32   42400              2                    0\n",
       "3181    1   25   51900              0                    0\n",
       "2926    1   23   42700              0                    0"
      ]
     },
     "execution_count": 17,
     "metadata": {},
     "output_type": "execute_result"
    }
   ],
   "source": [
    "df.sample(n=10, random_state=random_state)"
   ]
  },
  {
   "cell_type": "markdown",
   "metadata": {},
   "source": [
    "### Вывод"
   ]
  },
  {
   "cell_type": "markdown",
   "metadata": {},
   "source": [
    "Датасет содержит данные о 5000 клиентов по 5 признакам, все они числовые. Столбцы `Возраст` и `Зарплата` изначально используют тип с плавающей точкой, однако дробная часть не используется. В целях экономии ресурсов мы привели все столбцы к типу `uint32`.\n",
    "\n",
    "Данные качественные, не имеют пропусков и распределены без аномалий. Часть строк являются полными дубликатами, однако при отсутсвии уникальных идентификаторов такие совпадения вполне возможны. Мультиколлинеарности признаков не отмечается.\n",
    "\n",
    "Заголовки столбцов используют кириллицу с заглавными буквами. Следуя общепринятой практике, мы переименовали их по заключении аналитической части."
   ]
  },
  {
   "cell_type": "markdown",
   "metadata": {},
   "source": [
    "## Теоретический раздел"
   ]
  },
  {
   "cell_type": "markdown",
   "metadata": {},
   "source": [
    "**Условные обозначения**\n",
    "\n",
    "- $X$ — матрица признаков (нулевой столбец состоит из единиц)\n",
    "\n",
    "- $y$ — вектор целевого признака\n",
    "\n",
    "- $P$ — матрица, на которую умножаются признаки\n",
    "\n",
    "- $w$ — вектор весов линейной регрессии (нулевой элемент равен сдвигу)\n",
    "\n",
    "**Формулы линейной регрессии**\n",
    "\n",
    "Предсказания:\n",
    "\n",
    "$$\n",
    "a = Xw\n",
    "$$\n",
    "\n",
    "Задача обучения:\n",
    "\n",
    "$$\n",
    "w = \\arg\\min_w MSE(Xw, y)\n",
    "$$\n",
    "\n",
    "Формула обучения:\n",
    "\n",
    "$$\n",
    "w = (X^T X)^{-1} X^T y\n",
    "$$"
   ]
  },
  {
   "cell_type": "markdown",
   "metadata": {},
   "source": [
    "**Постановка задачи**:\n",
    "\n",
    "Признаки умножают на обратимую матрицу. Изменится ли качество линейной регрессии?"
   ]
  },
  {
   "cell_type": "markdown",
   "metadata": {},
   "source": [
    "**Краткий ответ:**\n",
    "\n",
    "Не изменится.\n",
    "\n",
    "\n",
    "**Обоснование:**\n",
    "\n",
    "Пусть матрица $P$ - произвольная обратимая матрица, а результат умножения матрицы признаков на нее, соответственно, $XP$. Тогда новый вектор обучения (обозначим его как $w'$) можно вычислить как\n",
    "\n",
    "$$w' = ((XP)^T XP)^{-1} (XP)^T y$$\n",
    "\n",
    "По правилам транспонирования матриц, если существует произведение $XP$, то существует и $P^T X^T$, причем $P^T X^T = (XP)^T$:\n",
    "\n",
    "$$ w' = (P^T X^T X P) ^{-1} P^T X^T y $$\n",
    "\n",
    "Аналогичными свойствами обладает и обратная матрица произведения матриц, то есть:\n",
    "\n",
    "$$ w' = P^{-1} (X^T X)^{-1} (P^T)^{-1} P^T X^T y $$\n",
    "\n",
    "Произведение прямой и обратной матриц дает единичную матрицу, следовательно\n",
    "\n",
    "$$ w' = P^{-1} (X^T X)^{-1} X^T y $$\n",
    "\n",
    "Но так как по условию $w = (X^T X)^{-1} X^T y$, получается, что\n",
    "\n",
    "$$ w' = P^{-1} w $$\n",
    "\n",
    "И тогда новые предсказания (обозначим их как $a'$) $ a' = XPw' $ или $ XP P^{-1} w $, а следовательно $ a' = Xw = a $\n",
    "\n",
    "Таким образом, **при умножении матрицы признаков на обратимую матрицу предсказания модели не изменятся**, а значит, не изменится и качество."
   ]
  },
  {
   "cell_type": "markdown",
   "metadata": {},
   "source": [
    "## Алгоритм преобразования"
   ]
  },
  {
   "cell_type": "markdown",
   "metadata": {},
   "source": [
    "**Алгоритм**\n",
    "\n",
    "Воспользуемся доказанным нами свойством линейной регрессии:\n",
    "\n",
    "1. Сгенерируем случайную матрицу размером $n x n$, где $n$ - число признаков в обучающей выборке, и проверим ее на обратимость. Если матрица окажется необратимой, перегенерируем ее.\n",
    "2. Получив обратимую матрицу, используем ее как ключ шифрования, перемножив с матрицей признаков.\n",
    "3. Полученное произведение используем для обучения модели - как мы убедились, умножение матрицы признаков на произвольную обратимую матрицу не меняет предсказаний."
   ]
  },
  {
   "cell_type": "markdown",
   "metadata": {},
   "source": [
    "**Обоснование**\n",
    "\n",
    "Шифрованная матрица должна совпадать с матрицей признаков по размерности. При этом обратные матрицы существуют лишь для квадратных матриц с определителем, не равным нулю. Таким образом, нам понадобится сгенерировать квадратную матрицу с размером \"стороны\", равному количеству признаков для регрессии.\n",
    "\n",
    "Вероятность получить вырожденную матрицу относительно мала, поэтому возможная перегенерация не будет потреблять особых ресурсов.\n",
    "\n",
    "Надежность шифрования весьма высока, при этом в силу доказанных свойств линейной регресии \"расшифровка\" не потребуется вовсе."
   ]
  },
  {
   "cell_type": "markdown",
   "metadata": {},
   "source": [
    "## Проверка алгоритма"
   ]
  },
  {
   "cell_type": "markdown",
   "metadata": {},
   "source": [
    "Отделим рабочие признаки от целевого и зашифруем их согласно нашему алгоритму. Для генерации матриц воспользуемся *sklearn.datasets.make_spd_matrix()*, а для проверки на обратимость - *numpy.linalg.det()* и *numpy.linalg.inv()*."
   ]
  },
  {
   "cell_type": "code",
   "execution_count": 18,
   "metadata": {},
   "outputs": [],
   "source": [
    "features = df.drop('num_insurance_cases', axis=1)\n",
    "target = df['num_insurance_cases']"
   ]
  },
  {
   "cell_type": "code",
   "execution_count": 19,
   "metadata": {},
   "outputs": [],
   "source": [
    "def get_key(size):\n",
    "    return make_spd_matrix (n_dim=size, random_state=random_state)"
   ]
  },
  {
   "cell_type": "code",
   "execution_count": 20,
   "metadata": {},
   "outputs": [
    {
     "data": {
      "text/plain": [
       "array([[ 0.98148154, -1.17592319, -1.00789041,  0.07257075],\n",
       "       [-1.17592319,  2.37076338,  1.56327087, -0.10238864],\n",
       "       [-1.00789041,  1.56327087,  1.61070607, -0.04937788],\n",
       "       [ 0.07257075, -0.10238864, -0.04937788,  0.31608302]])"
      ]
     },
     "execution_count": 20,
     "metadata": {},
     "output_type": "execute_result"
    }
   ],
   "source": [
    "# Сгенерируем матрицу 4х4:\n",
    "key_size = features.shape[1]\n",
    "key = get_key(key_size)\n",
    "# Проверим детерминант: если он нулевой, перегенерируем ключ.\n",
    "while np.linalg.det(key) == 0:\n",
    "    key = get_key(key_size)\n",
    "key    "
   ]
  },
  {
   "cell_type": "code",
   "execution_count": 21,
   "metadata": {},
   "outputs": [
    {
     "name": "stdout",
     "output_type": "stream",
     "text": [
      "[[ 3.30812168  0.74658933  1.33596439 -0.30898061]\n",
      " [ 0.74658933  1.35318598 -0.84201015  0.13538736]\n",
      " [ 1.33596439 -0.84201015  2.26712378 -0.22531565]\n",
      " [-0.30898061  0.13538736 -0.22531565  3.24332341]]\n"
     ]
    }
   ],
   "source": [
    "try:\n",
    "    print (np.linalg.inv(key))\n",
    "except:\n",
    "    print('Матрица необратима! Проверьте правильность генерации!')"
   ]
  },
  {
   "cell_type": "markdown",
   "metadata": {},
   "source": [
    "Ключ успешно генерируется и проходит проверку на обратимость. Теперь зашифруем данные:"
   ]
  },
  {
   "cell_type": "code",
   "execution_count": 22,
   "metadata": {},
   "outputs": [
    {
     "data": {
      "text/plain": [
       "array([[-50038.52319493,  77634.15815235,  79954.05771632,\n",
       "         -2452.95197918],\n",
       "       [-38353.85552222,  59513.2457973 ,  61278.69159424,\n",
       "         -1880.75312002],\n",
       "       [-21199.80040804,  32897.44041381,  33870.16224349,\n",
       "         -1039.90468733],\n",
       "       ...,\n",
       "       [-34190.85826264,  53042.09299259,  54634.10230269,\n",
       "         -1675.32563673],\n",
       "       [-32982.68756325,  51169.63116321,  52703.32429682,\n",
       "         -1615.88830784],\n",
       "       [-40952.22249252,  63533.90039592,  65437.38060004,\n",
       "         -2007.22003396]])"
      ]
     },
     "execution_count": 22,
     "metadata": {},
     "output_type": "execute_result"
    }
   ],
   "source": [
    "encoded_features = features.values @ key\n",
    "encoded_features"
   ]
  },
  {
   "cell_type": "markdown",
   "metadata": {},
   "source": [
    "- Создадим обучающие и тестовые выборки для обоих наборов признаков: с шифрованием и без.\n",
    "- У нас не стоит задачи максимизировать метрику, но для большей точности воспользуемся кроссвалидацией через *GridSearchCV()*.\n",
    "- Также проверим, как влияет на метрику масштабирование данных."
   ]
  },
  {
   "cell_type": "code",
   "execution_count": 23,
   "metadata": {},
   "outputs": [],
   "source": [
    "features_train, features_test, target_train, target_test = train_test_split(features, \n",
    "                                                                              target, test_size=0.2, \n",
    "                                                                              random_state=random_state)"
   ]
  },
  {
   "cell_type": "code",
   "execution_count": 24,
   "metadata": {},
   "outputs": [],
   "source": [
    "def optimize(X, Xtest):\n",
    "    scaler = StandardScaler()\n",
    "    scaler.fit(X)\n",
    "    X_scaled = scaler.transform(X)\n",
    "    Xtest_scaled = scaler.transform (Xtest)\n",
    "\n",
    "    params = {\n",
    "                'fit_intercept':[True, False],\n",
    "                'copy_X':[True, False]\n",
    "             }\n",
    "\n",
    "    model = GridSearchCV(estimator=LinearRegression(), param_grid=params, cv=5, scoring='r2')\n",
    "    model.fit(X, target_train)\n",
    "    \n",
    "    predictions = model.predict(Xtest)\n",
    "    r2 = r2_score(target_test, predictions)\n",
    "    \n",
    "    print('Без масштабирования:')\n",
    "    print (f'Метрика R2 : {r2}')\n",
    "    print (f'Коэффициенты регрессии: {model.best_estimator_.coef_}')\n",
    "\n",
    "    model.fit(X_scaled, target_train)\n",
    "    \n",
    "    predictions = model.predict(Xtest_scaled)\n",
    "    r2 = r2_score(target_test, predictions)\n",
    "\n",
    "    print('C масштабированием:')\n",
    "    print (f'Метрика R2 : {r2}')\n",
    "    print (f'Коэффициенты регрессии: {model.best_estimator_.coef_}')"
   ]
  },
  {
   "cell_type": "code",
   "execution_count": 25,
   "metadata": {
    "scrolled": true
   },
   "outputs": [
    {
     "name": "stdout",
     "output_type": "stream",
     "text": [
      "Незашифрованные данные:\n",
      "Без масштабирования:\n",
      "Метрика R2 : 0.42742726064947123\n",
      "Коэффициенты регрессии: [ 1.78819209e-03  3.56820576e-02 -3.22722032e-07 -1.36542051e-02]\n",
      "C масштабированием:\n",
      "Метрика R2 : 0.4274272606494667\n",
      "Коэффициенты регрессии: [ 0.0008941   0.30236414 -0.00319555 -0.0148356 ]\n"
     ]
    }
   ],
   "source": [
    "print('Незашифрованные данные:')\n",
    "optimize(features_train, features_test)"
   ]
  },
  {
   "cell_type": "code",
   "execution_count": 26,
   "metadata": {},
   "outputs": [],
   "source": [
    "features_train_encoded, features_test_encoded, target_train, target_test = train_test_split(encoded_features, \n",
    "                                                                              target, test_size=0.2, \n",
    "                                                                              random_state=random_state)"
   ]
  },
  {
   "cell_type": "code",
   "execution_count": 27,
   "metadata": {},
   "outputs": [
    {
     "name": "stdout",
     "output_type": "stream",
     "text": [
      "Зашифрованные данные:\n",
      "Без масштабирования:\n",
      "Метрика R2 : 0.427427260649506\n",
      "Коэффициенты регрессии: [ 0.03677385  0.04777117 -0.02457992 -0.04000655]\n",
      "C масштабированием:\n",
      "Метрика R2 : 0.4274272606494317\n",
      "Коэффициенты регрессии: [ 366.99564078  739.44558782 -392.01855318  -19.56022633]\n"
     ]
    }
   ],
   "source": [
    "print('Зашифрованные данные:')\n",
    "optimize(features_train_encoded, features_test_encoded)"
   ]
  },
  {
   "cell_type": "markdown",
   "metadata": {},
   "source": [
    "Как видим, метрика R2 для зашифрованных и незашифрованных данных совпадает с точностью до двенадцатого знака после запятой - на уровне точности представления вещественных чисел в памяти. Сохранение качества при шифровании можно считать доказанным на практике. Масштабирование признаков в данном случае также не оказывает влияния на метрику."
   ]
  },
  {
   "cell_type": "markdown",
   "metadata": {},
   "source": [
    "## Вывод"
   ]
  },
  {
   "cell_type": "markdown",
   "metadata": {},
   "source": [
    "Мы проанализировали данные, изучили теоретические вопросы преобразования данных и построили модели предсказания страховых случаев по пользовательским данным. Мы можем сделать следующие выводы:\n",
    "\n",
    "- Теоретическое исследование доказывает: при умножении матрицы признаков на произвольную обратимую матрицу предсказания модели линейной регрессии не изменятся, а значит, не изменится и качество метрики.\n",
    "- Это позволяет реализовать простой и надежный метод преобразования исходных данных путем умножения на квадратную матрицу с размерностью, соответствующей количеству рабочих признаков для регрессии.\n",
    "- При реализации этого метода мы воспользовались *sklearn.datasets.make_spd_matrix()* для создания матрицы и*numpy.linalg.det()* / *numpy.linalg.inv()* для проверки ее на обратимость.\n",
    "- Метрика R2 для моделей, обученных на зашифрованных и незашифрованных данных совпадает с точностью до $10^{-12}$ и составляет около 0,43. Теоретические выкладки, таким образом, полностью подтверждаются на практике."
   ]
  },
  {
   "cell_type": "markdown",
   "metadata": {},
   "source": [
    "### Рекомендации по заполнению данных"
   ]
  },
  {
   "cell_type": "markdown",
   "metadata": {},
   "source": [
    "Данные качественные. Встает лишь вопрос о природе дубликатов: повторы или случайные совпадения? Введение идентификатора клиента легко разрешило бы эту неясность."
   ]
  }
 ],
 "metadata": {
  "ExecuteTimeLog": [
   {
    "duration": 883,
    "start_time": "2021-12-20T11:00:39.341Z"
   },
   {
    "duration": 407,
    "start_time": "2021-12-20T11:00:58.004Z"
   },
   {
    "duration": 87,
    "start_time": "2021-12-20T11:01:02.083Z"
   },
   {
    "duration": 22,
    "start_time": "2021-12-20T11:01:07.570Z"
   },
   {
    "duration": 13,
    "start_time": "2021-12-20T11:01:11.886Z"
   },
   {
    "duration": 40,
    "start_time": "2021-12-20T11:01:22.864Z"
   },
   {
    "duration": 53,
    "start_time": "2021-12-20T11:01:26.163Z"
   },
   {
    "duration": 6,
    "start_time": "2021-12-20T11:15:11.419Z"
   },
   {
    "duration": 42,
    "start_time": "2021-12-20T11:15:16.614Z"
   },
   {
    "duration": 516,
    "start_time": "2021-12-20T11:17:06.624Z"
   },
   {
    "duration": 21,
    "start_time": "2021-12-20T11:17:29.282Z"
   },
   {
    "duration": 10,
    "start_time": "2021-12-20T11:17:33.270Z"
   },
   {
    "duration": 770,
    "start_time": "2021-12-20T11:17:49.988Z"
   },
   {
    "duration": 65,
    "start_time": "2021-12-20T11:17:50.761Z"
   },
   {
    "duration": 21,
    "start_time": "2021-12-20T11:17:50.829Z"
   },
   {
    "duration": 30,
    "start_time": "2021-12-20T11:17:50.853Z"
   },
   {
    "duration": 57,
    "start_time": "2021-12-20T11:17:50.885Z"
   },
   {
    "duration": 17,
    "start_time": "2021-12-20T11:17:50.944Z"
   },
   {
    "duration": 29,
    "start_time": "2021-12-20T11:17:50.963Z"
   },
   {
    "duration": 9,
    "start_time": "2021-12-20T11:17:50.995Z"
   },
   {
    "duration": 4,
    "start_time": "2021-12-20T11:19:00.776Z"
   },
   {
    "duration": 12,
    "start_time": "2021-12-20T11:19:00.964Z"
   },
   {
    "duration": 14,
    "start_time": "2021-12-20T11:19:06.069Z"
   },
   {
    "duration": 731,
    "start_time": "2021-12-20T11:19:16.941Z"
   },
   {
    "duration": 67,
    "start_time": "2021-12-20T11:19:17.675Z"
   },
   {
    "duration": 28,
    "start_time": "2021-12-20T11:19:17.746Z"
   },
   {
    "duration": 63,
    "start_time": "2021-12-20T11:19:17.777Z"
   },
   {
    "duration": 26,
    "start_time": "2021-12-20T11:19:17.843Z"
   },
   {
    "duration": 84,
    "start_time": "2021-12-20T11:19:17.871Z"
   },
   {
    "duration": 17,
    "start_time": "2021-12-20T11:19:17.959Z"
   },
   {
    "duration": 51,
    "start_time": "2021-12-20T11:19:17.979Z"
   },
   {
    "duration": 18,
    "start_time": "2021-12-20T11:19:18.035Z"
   },
   {
    "duration": 11,
    "start_time": "2021-12-20T11:20:39.567Z"
   },
   {
    "duration": 8,
    "start_time": "2021-12-20T11:20:43.703Z"
   },
   {
    "duration": 14,
    "start_time": "2021-12-20T11:23:27.424Z"
   },
   {
    "duration": 738,
    "start_time": "2021-12-20T11:23:35.164Z"
   },
   {
    "duration": 75,
    "start_time": "2021-12-20T11:23:35.905Z"
   },
   {
    "duration": 3,
    "start_time": "2021-12-20T11:23:35.984Z"
   },
   {
    "duration": 28,
    "start_time": "2021-12-20T11:23:35.990Z"
   },
   {
    "duration": 14,
    "start_time": "2021-12-20T11:23:36.020Z"
   },
   {
    "duration": 20,
    "start_time": "2021-12-20T11:23:36.036Z"
   },
   {
    "duration": 38,
    "start_time": "2021-12-20T11:23:36.058Z"
   },
   {
    "duration": 28,
    "start_time": "2021-12-20T11:23:36.098Z"
   },
   {
    "duration": 18,
    "start_time": "2021-12-20T11:23:36.130Z"
   },
   {
    "duration": 11,
    "start_time": "2021-12-20T11:23:36.151Z"
   },
   {
    "duration": 14,
    "start_time": "2021-12-20T11:23:36.164Z"
   },
   {
    "duration": 13,
    "start_time": "2021-12-20T11:23:45.611Z"
   },
   {
    "duration": 690,
    "start_time": "2021-12-20T11:23:51.560Z"
   },
   {
    "duration": 56,
    "start_time": "2021-12-20T11:23:52.254Z"
   },
   {
    "duration": 3,
    "start_time": "2021-12-20T11:23:52.313Z"
   },
   {
    "duration": 38,
    "start_time": "2021-12-20T11:23:52.318Z"
   },
   {
    "duration": 26,
    "start_time": "2021-12-20T11:23:52.358Z"
   },
   {
    "duration": 39,
    "start_time": "2021-12-20T11:23:52.386Z"
   },
   {
    "duration": 66,
    "start_time": "2021-12-20T11:23:52.428Z"
   },
   {
    "duration": 19,
    "start_time": "2021-12-20T11:23:52.499Z"
   },
   {
    "duration": 36,
    "start_time": "2021-12-20T11:23:52.520Z"
   },
   {
    "duration": 20,
    "start_time": "2021-12-20T11:23:52.558Z"
   },
   {
    "duration": 32,
    "start_time": "2021-12-20T11:23:52.580Z"
   },
   {
    "duration": 131,
    "start_time": "2021-12-20T11:24:17.448Z"
   },
   {
    "duration": 1426,
    "start_time": "2021-12-20T11:24:31.717Z"
   },
   {
    "duration": 60,
    "start_time": "2021-12-20T11:24:33.146Z"
   },
   {
    "duration": 5,
    "start_time": "2021-12-20T11:24:33.214Z"
   },
   {
    "duration": 65,
    "start_time": "2021-12-20T11:24:33.223Z"
   },
   {
    "duration": 26,
    "start_time": "2021-12-20T11:24:33.291Z"
   },
   {
    "duration": 47,
    "start_time": "2021-12-20T11:24:33.319Z"
   },
   {
    "duration": 53,
    "start_time": "2021-12-20T11:24:33.369Z"
   },
   {
    "duration": 12,
    "start_time": "2021-12-20T11:24:33.426Z"
   },
   {
    "duration": 10,
    "start_time": "2021-12-20T11:24:33.440Z"
   },
   {
    "duration": 7,
    "start_time": "2021-12-20T11:24:33.453Z"
   },
   {
    "duration": 21,
    "start_time": "2021-12-20T11:24:33.462Z"
   },
   {
    "duration": 10,
    "start_time": "2021-12-20T11:25:11.542Z"
   },
   {
    "duration": 9,
    "start_time": "2021-12-20T11:25:19.602Z"
   },
   {
    "duration": 746,
    "start_time": "2021-12-20T11:25:24.940Z"
   },
   {
    "duration": 65,
    "start_time": "2021-12-20T11:25:25.690Z"
   },
   {
    "duration": 4,
    "start_time": "2021-12-20T11:25:25.759Z"
   },
   {
    "duration": 29,
    "start_time": "2021-12-20T11:25:25.767Z"
   },
   {
    "duration": 14,
    "start_time": "2021-12-20T11:25:25.799Z"
   },
   {
    "duration": 25,
    "start_time": "2021-12-20T11:25:25.817Z"
   },
   {
    "duration": 36,
    "start_time": "2021-12-20T11:25:25.845Z"
   },
   {
    "duration": 15,
    "start_time": "2021-12-20T11:25:25.883Z"
   },
   {
    "duration": 26,
    "start_time": "2021-12-20T11:25:25.901Z"
   },
   {
    "duration": 15,
    "start_time": "2021-12-20T11:25:25.931Z"
   },
   {
    "duration": 25,
    "start_time": "2021-12-20T11:25:25.948Z"
   },
   {
    "duration": 12,
    "start_time": "2021-12-20T11:25:38.624Z"
   },
   {
    "duration": 8,
    "start_time": "2021-12-20T11:25:56.238Z"
   },
   {
    "duration": 9,
    "start_time": "2021-12-20T11:25:56.726Z"
   },
   {
    "duration": 790,
    "start_time": "2021-12-20T11:26:02.682Z"
   },
   {
    "duration": 61,
    "start_time": "2021-12-20T11:26:03.475Z"
   },
   {
    "duration": 3,
    "start_time": "2021-12-20T11:26:03.539Z"
   },
   {
    "duration": 45,
    "start_time": "2021-12-20T11:26:03.545Z"
   },
   {
    "duration": 14,
    "start_time": "2021-12-20T11:26:03.592Z"
   },
   {
    "duration": 15,
    "start_time": "2021-12-20T11:26:03.609Z"
   },
   {
    "duration": 43,
    "start_time": "2021-12-20T11:26:03.627Z"
   },
   {
    "duration": 12,
    "start_time": "2021-12-20T11:26:03.673Z"
   },
   {
    "duration": 8,
    "start_time": "2021-12-20T11:26:03.688Z"
   },
   {
    "duration": 7,
    "start_time": "2021-12-20T11:26:03.722Z"
   },
   {
    "duration": 13,
    "start_time": "2021-12-20T11:26:03.731Z"
   },
   {
    "duration": 11,
    "start_time": "2021-12-20T11:26:24.046Z"
   },
   {
    "duration": 769,
    "start_time": "2021-12-20T11:26:35.216Z"
   },
   {
    "duration": 70,
    "start_time": "2021-12-20T11:26:35.987Z"
   },
   {
    "duration": 4,
    "start_time": "2021-12-20T11:26:36.060Z"
   },
   {
    "duration": 39,
    "start_time": "2021-12-20T11:26:36.067Z"
   },
   {
    "duration": 20,
    "start_time": "2021-12-20T11:26:36.110Z"
   },
   {
    "duration": 28,
    "start_time": "2021-12-20T11:26:36.133Z"
   },
   {
    "duration": 55,
    "start_time": "2021-12-20T11:26:36.165Z"
   },
   {
    "duration": 15,
    "start_time": "2021-12-20T11:26:36.223Z"
   },
   {
    "duration": 18,
    "start_time": "2021-12-20T11:26:36.242Z"
   },
   {
    "duration": 11,
    "start_time": "2021-12-20T11:26:36.263Z"
   },
   {
    "duration": 19,
    "start_time": "2021-12-20T11:26:36.276Z"
   },
   {
    "duration": 461,
    "start_time": "2021-12-20T11:28:08.607Z"
   },
   {
    "duration": 711,
    "start_time": "2021-12-20T11:28:28.106Z"
   },
   {
    "duration": 345,
    "start_time": "2021-12-20T11:28:31.015Z"
   },
   {
    "duration": 4,
    "start_time": "2021-12-20T11:28:43.986Z"
   },
   {
    "duration": 547,
    "start_time": "2021-12-20T11:29:18.546Z"
   },
   {
    "duration": 1298,
    "start_time": "2021-12-20T11:33:33.212Z"
   },
   {
    "duration": 1367,
    "start_time": "2021-12-20T11:34:40.565Z"
   },
   {
    "duration": 1412,
    "start_time": "2021-12-20T11:34:45.914Z"
   },
   {
    "duration": 1305,
    "start_time": "2021-12-20T11:34:50.766Z"
   },
   {
    "duration": 1400,
    "start_time": "2021-12-20T11:34:54.265Z"
   },
   {
    "duration": 1718,
    "start_time": "2021-12-20T11:34:59.053Z"
   },
   {
    "duration": 1282,
    "start_time": "2021-12-20T11:35:21.754Z"
   },
   {
    "duration": 1844,
    "start_time": "2021-12-20T11:35:27.265Z"
   },
   {
    "duration": 1303,
    "start_time": "2021-12-20T11:35:35.665Z"
   },
   {
    "duration": 1406,
    "start_time": "2021-12-20T11:35:40.049Z"
   },
   {
    "duration": 1553,
    "start_time": "2021-12-20T11:36:20.486Z"
   },
   {
    "duration": 1276,
    "start_time": "2021-12-20T11:36:38.262Z"
   },
   {
    "duration": 1182,
    "start_time": "2021-12-20T11:36:49.106Z"
   },
   {
    "duration": 1175,
    "start_time": "2021-12-20T11:36:52.470Z"
   },
   {
    "duration": 1421,
    "start_time": "2021-12-20T11:37:04.002Z"
   },
   {
    "duration": 1588,
    "start_time": "2021-12-20T11:37:18.227Z"
   },
   {
    "duration": 1664,
    "start_time": "2021-12-20T11:37:35.666Z"
   },
   {
    "duration": 1721,
    "start_time": "2021-12-20T11:38:39.945Z"
   },
   {
    "duration": 1550,
    "start_time": "2021-12-20T11:38:53.046Z"
   },
   {
    "duration": 1950,
    "start_time": "2021-12-20T11:38:59.627Z"
   },
   {
    "duration": 1779,
    "start_time": "2021-12-20T11:39:04.127Z"
   },
   {
    "duration": 1669,
    "start_time": "2021-12-20T11:39:12.395Z"
   },
   {
    "duration": 1774,
    "start_time": "2021-12-20T11:39:25.627Z"
   },
   {
    "duration": 1688,
    "start_time": "2021-12-20T11:39:45.066Z"
   },
   {
    "duration": 1830,
    "start_time": "2021-12-20T11:40:01.065Z"
   },
   {
    "duration": 1949,
    "start_time": "2021-12-20T11:40:24.474Z"
   },
   {
    "duration": 1812,
    "start_time": "2021-12-20T11:40:38.343Z"
   },
   {
    "duration": 2454,
    "start_time": "2021-12-20T11:40:43.265Z"
   },
   {
    "duration": 1569,
    "start_time": "2021-12-20T11:40:58.622Z"
   },
   {
    "duration": 1588,
    "start_time": "2021-12-20T11:41:03.075Z"
   },
   {
    "duration": 1565,
    "start_time": "2021-12-20T11:41:21.675Z"
   },
   {
    "duration": 1636,
    "start_time": "2021-12-20T11:41:43.390Z"
   },
   {
    "duration": 1627,
    "start_time": "2021-12-20T11:41:52.265Z"
   },
   {
    "duration": 1612,
    "start_time": "2021-12-20T11:41:57.886Z"
   },
   {
    "duration": 1691,
    "start_time": "2021-12-20T11:42:06.527Z"
   },
   {
    "duration": 1643,
    "start_time": "2021-12-20T11:42:13.407Z"
   },
   {
    "duration": 1822,
    "start_time": "2021-12-20T11:42:26.819Z"
   },
   {
    "duration": 1606,
    "start_time": "2021-12-20T11:42:38.045Z"
   },
   {
    "duration": 1612,
    "start_time": "2021-12-20T11:42:50.496Z"
   },
   {
    "duration": 1619,
    "start_time": "2021-12-20T11:42:59.146Z"
   },
   {
    "duration": 1667,
    "start_time": "2021-12-20T11:43:13.907Z"
   },
   {
    "duration": 1760,
    "start_time": "2021-12-20T11:43:17.346Z"
   },
   {
    "duration": 1548,
    "start_time": "2021-12-20T11:43:23.156Z"
   },
   {
    "duration": 1763,
    "start_time": "2021-12-20T11:44:44.448Z"
   },
   {
    "duration": 1927,
    "start_time": "2021-12-20T11:44:47.353Z"
   },
   {
    "duration": 1425,
    "start_time": "2021-12-20T11:44:52.645Z"
   },
   {
    "duration": 1294,
    "start_time": "2021-12-20T11:58:20.206Z"
   },
   {
    "duration": 1343,
    "start_time": "2021-12-20T11:58:29.987Z"
   },
   {
    "duration": 1606,
    "start_time": "2021-12-20T11:58:45.415Z"
   },
   {
    "duration": 1359,
    "start_time": "2021-12-20T11:59:24.255Z"
   },
   {
    "duration": 1422,
    "start_time": "2021-12-20T11:59:30.939Z"
   },
   {
    "duration": 1532,
    "start_time": "2021-12-20T11:59:39.826Z"
   },
   {
    "duration": 1583,
    "start_time": "2021-12-20T11:59:44.095Z"
   },
   {
    "duration": 1366,
    "start_time": "2021-12-20T11:59:49.147Z"
   },
   {
    "duration": 1801,
    "start_time": "2021-12-20T11:59:53.316Z"
   },
   {
    "duration": 2069,
    "start_time": "2021-12-20T12:00:00.254Z"
   },
   {
    "duration": 1506,
    "start_time": "2021-12-20T12:00:08.135Z"
   },
   {
    "duration": 1539,
    "start_time": "2021-12-20T12:00:16.234Z"
   },
   {
    "duration": 1872,
    "start_time": "2021-12-20T12:01:19.668Z"
   },
   {
    "duration": 1629,
    "start_time": "2021-12-20T12:01:23.706Z"
   },
   {
    "duration": 171,
    "start_time": "2021-12-20T12:01:36.406Z"
   },
   {
    "duration": 1788,
    "start_time": "2021-12-20T12:01:41.195Z"
   },
   {
    "duration": 4,
    "start_time": "2021-12-20T12:52:02.262Z"
   },
   {
    "duration": 4,
    "start_time": "2021-12-20T12:55:45.694Z"
   },
   {
    "duration": 10,
    "start_time": "2021-12-20T13:01:29.387Z"
   },
   {
    "duration": 10,
    "start_time": "2021-12-20T13:01:39.034Z"
   },
   {
    "duration": 8,
    "start_time": "2021-12-20T13:18:31.175Z"
   },
   {
    "duration": 10,
    "start_time": "2021-12-20T13:19:00.783Z"
   },
   {
    "duration": 309,
    "start_time": "2021-12-20T13:20:50.123Z"
   },
   {
    "duration": 4938,
    "start_time": "2021-12-20T13:20:55.911Z"
   },
   {
    "duration": 5260,
    "start_time": "2021-12-20T13:21:06.243Z"
   },
   {
    "duration": 5519,
    "start_time": "2021-12-20T13:21:39.583Z"
   },
   {
    "duration": 286,
    "start_time": "2021-12-20T13:24:36.524Z"
   },
   {
    "duration": 347,
    "start_time": "2021-12-20T13:24:40.510Z"
   },
   {
    "duration": 290,
    "start_time": "2021-12-20T13:24:44.363Z"
   },
   {
    "duration": 451,
    "start_time": "2021-12-20T13:25:39.075Z"
   },
   {
    "duration": 447,
    "start_time": "2021-12-20T13:25:43.699Z"
   },
   {
    "duration": 446,
    "start_time": "2021-12-20T13:25:55.663Z"
   },
   {
    "duration": 326,
    "start_time": "2021-12-20T13:37:46.243Z"
   },
   {
    "duration": 4,
    "start_time": "2021-12-20T13:37:51.777Z"
   },
   {
    "duration": 621,
    "start_time": "2021-12-20T13:37:51.784Z"
   },
   {
    "duration": 491,
    "start_time": "2021-12-20T13:37:52.407Z"
   },
   {
    "duration": 6,
    "start_time": "2021-12-20T13:42:02.463Z"
   },
   {
    "duration": 5,
    "start_time": "2021-12-20T13:42:14.623Z"
   },
   {
    "duration": 43,
    "start_time": "2021-12-20T13:42:16.863Z"
   },
   {
    "duration": 13,
    "start_time": "2021-12-20T13:52:52.823Z"
   },
   {
    "duration": -1208,
    "start_time": "2021-12-20T14:03:18.885Z"
   },
   {
    "duration": 1325,
    "start_time": "2021-12-20T14:03:22.219Z"
   },
   {
    "duration": 2281,
    "start_time": "2021-12-20T14:03:31.752Z"
   },
   {
    "duration": 1297,
    "start_time": "2021-12-20T14:03:55.905Z"
   },
   {
    "duration": 1245,
    "start_time": "2021-12-20T14:04:55.951Z"
   },
   {
    "duration": 432,
    "start_time": "2021-12-20T14:09:23.103Z"
   },
   {
    "duration": 1872,
    "start_time": "2021-12-20T14:09:44.527Z"
   },
   {
    "duration": 3,
    "start_time": "2021-12-20T14:09:46.402Z"
   },
   {
    "duration": 1363,
    "start_time": "2021-12-20T14:09:46.408Z"
   },
   {
    "duration": 185,
    "start_time": "2021-12-20T14:09:47.774Z"
   },
   {
    "duration": 1266,
    "start_time": "2021-12-20T14:09:47.961Z"
   },
   {
    "duration": 1204,
    "start_time": "2021-12-20T14:09:49.229Z"
   },
   {
    "duration": 1116,
    "start_time": "2021-12-20T14:09:50.435Z"
   },
   {
    "duration": 1120,
    "start_time": "2021-12-20T14:09:51.553Z"
   },
   {
    "duration": 1140,
    "start_time": "2021-12-20T14:09:52.677Z"
   },
   {
    "duration": 807,
    "start_time": "2021-12-20T14:09:53.820Z"
   },
   {
    "duration": 422,
    "start_time": "2021-12-20T14:09:54.630Z"
   },
   {
    "duration": 1002,
    "start_time": "2021-12-20T14:09:55.054Z"
   },
   {
    "duration": 2318,
    "start_time": "2021-12-20T14:09:56.058Z"
   },
   {
    "duration": 12,
    "start_time": "2021-12-20T14:09:58.379Z"
   },
   {
    "duration": 1479,
    "start_time": "2021-12-20T14:09:58.393Z"
   },
   {
    "duration": 1131,
    "start_time": "2021-12-20T14:09:59.874Z"
   },
   {
    "duration": -1014,
    "start_time": "2021-12-20T14:10:02.021Z"
   },
   {
    "duration": -1013,
    "start_time": "2021-12-20T14:10:02.022Z"
   },
   {
    "duration": 292,
    "start_time": "2021-12-20T14:11:08.760Z"
   },
   {
    "duration": 284,
    "start_time": "2021-12-20T14:11:42.079Z"
   },
   {
    "duration": 473,
    "start_time": "2021-12-20T14:11:51.193Z"
   },
   {
    "duration": 307,
    "start_time": "2021-12-20T14:14:09.018Z"
   },
   {
    "duration": 289,
    "start_time": "2021-12-20T14:14:18.307Z"
   },
   {
    "duration": 331,
    "start_time": "2021-12-20T14:14:22.113Z"
   },
   {
    "duration": 295,
    "start_time": "2021-12-20T14:14:33.691Z"
   },
   {
    "duration": 296,
    "start_time": "2021-12-20T14:14:42.119Z"
   },
   {
    "duration": 284,
    "start_time": "2021-12-20T14:14:51.339Z"
   },
   {
    "duration": 300,
    "start_time": "2021-12-20T14:14:56.698Z"
   },
   {
    "duration": 311,
    "start_time": "2021-12-20T14:15:03.839Z"
   },
   {
    "duration": 323,
    "start_time": "2021-12-20T14:15:21.469Z"
   },
   {
    "duration": 12,
    "start_time": "2021-12-20T14:16:10.978Z"
   },
   {
    "duration": 290,
    "start_time": "2021-12-20T14:16:54.858Z"
   },
   {
    "duration": 18,
    "start_time": "2021-12-20T14:17:09.807Z"
   },
   {
    "duration": 243,
    "start_time": "2021-12-20T14:19:09.991Z"
   },
   {
    "duration": 474,
    "start_time": "2021-12-20T14:19:49.562Z"
   },
   {
    "duration": 298,
    "start_time": "2021-12-20T14:20:14.219Z"
   },
   {
    "duration": 6562,
    "start_time": "2021-12-20T14:20:24.827Z"
   },
   {
    "duration": 296,
    "start_time": "2021-12-20T16:18:45.673Z"
   },
   {
    "duration": 69,
    "start_time": "2021-12-20T16:18:53.424Z"
   },
   {
    "duration": 488,
    "start_time": "2021-12-20T16:21:54.763Z"
   },
   {
    "duration": 1741,
    "start_time": "2021-12-20T16:22:02.997Z"
   },
   {
    "duration": 4,
    "start_time": "2021-12-20T16:22:04.741Z"
   },
   {
    "duration": 96,
    "start_time": "2021-12-20T16:22:04.750Z"
   },
   {
    "duration": 16,
    "start_time": "2021-12-20T16:22:04.849Z"
   },
   {
    "duration": 14,
    "start_time": "2021-12-20T16:22:04.869Z"
   },
   {
    "duration": 9,
    "start_time": "2021-12-20T16:22:04.885Z"
   },
   {
    "duration": 65,
    "start_time": "2021-12-20T16:22:04.897Z"
   },
   {
    "duration": 13,
    "start_time": "2021-12-20T16:22:04.964Z"
   },
   {
    "duration": 49,
    "start_time": "2021-12-20T16:22:04.980Z"
   },
   {
    "duration": 4,
    "start_time": "2021-12-20T16:22:05.031Z"
   },
   {
    "duration": 6,
    "start_time": "2021-12-20T16:22:05.038Z"
   },
   {
    "duration": 12,
    "start_time": "2021-12-20T16:22:05.047Z"
   },
   {
    "duration": 1384,
    "start_time": "2021-12-20T16:22:05.062Z"
   },
   {
    "duration": 9,
    "start_time": "2021-12-20T16:22:06.448Z"
   },
   {
    "duration": 600,
    "start_time": "2021-12-20T16:22:06.459Z"
   },
   {
    "duration": 5,
    "start_time": "2021-12-20T16:22:07.062Z"
   },
   {
    "duration": 14,
    "start_time": "2021-12-20T16:22:07.070Z"
   },
   {
    "duration": 36,
    "start_time": "2021-12-20T16:22:07.087Z"
   },
   {
    "duration": 850,
    "start_time": "2021-12-20T16:27:09.308Z"
   },
   {
    "duration": 1355,
    "start_time": "2021-12-20T16:27:16.056Z"
   },
   {
    "duration": 4,
    "start_time": "2021-12-20T16:27:20.144Z"
   },
   {
    "duration": 1120,
    "start_time": "2021-12-20T16:27:20.372Z"
   },
   {
    "duration": 91,
    "start_time": "2021-12-20T16:27:59.015Z"
   },
   {
    "duration": 11,
    "start_time": "2021-12-20T16:28:03.443Z"
   },
   {
    "duration": 9,
    "start_time": "2021-12-20T16:29:33.484Z"
   },
   {
    "duration": 8,
    "start_time": "2021-12-20T16:29:36.311Z"
   },
   {
    "duration": 4,
    "start_time": "2021-12-20T16:30:39.161Z"
   },
   {
    "duration": 7,
    "start_time": "2021-12-20T16:30:53.644Z"
   },
   {
    "duration": 3,
    "start_time": "2021-12-20T16:32:02.880Z"
   },
   {
    "duration": 7,
    "start_time": "2021-12-20T16:32:06.803Z"
   },
   {
    "duration": 4,
    "start_time": "2021-12-20T16:32:20.587Z"
   },
   {
    "duration": 525,
    "start_time": "2021-12-20T16:33:09.845Z"
   },
   {
    "duration": 5,
    "start_time": "2021-12-20T16:33:47.773Z"
   },
   {
    "duration": 6,
    "start_time": "2021-12-20T16:33:51.668Z"
   },
   {
    "duration": 597,
    "start_time": "2021-12-20T16:38:09.324Z"
   },
   {
    "duration": 7,
    "start_time": "2021-12-20T16:38:42.086Z"
   },
   {
    "duration": 800,
    "start_time": "2021-12-20T16:38:46.653Z"
   },
   {
    "duration": 383,
    "start_time": "2021-12-20T16:38:59.536Z"
   },
   {
    "duration": 7,
    "start_time": "2021-12-20T16:39:14.504Z"
   },
   {
    "duration": 357,
    "start_time": "2021-12-20T16:39:20.098Z"
   },
   {
    "duration": 6,
    "start_time": "2021-12-20T16:39:27.055Z"
   },
   {
    "duration": 65,
    "start_time": "2021-12-20T16:39:27.440Z"
   },
   {
    "duration": 69,
    "start_time": "2021-12-20T16:40:32.700Z"
   },
   {
    "duration": 8,
    "start_time": "2021-12-20T16:40:45.728Z"
   },
   {
    "duration": 4,
    "start_time": "2021-12-20T16:40:57.608Z"
   },
   {
    "duration": 5,
    "start_time": "2021-12-20T16:40:58.044Z"
   },
   {
    "duration": 3,
    "start_time": "2021-12-20T16:41:00.101Z"
   },
   {
    "duration": 6,
    "start_time": "2021-12-20T16:41:00.433Z"
   },
   {
    "duration": 8,
    "start_time": "2021-12-20T16:41:04.035Z"
   },
   {
    "duration": 72,
    "start_time": "2021-12-20T16:41:04.383Z"
   },
   {
    "duration": 7,
    "start_time": "2021-12-20T16:41:35.562Z"
   },
   {
    "duration": 62,
    "start_time": "2021-12-20T16:42:47.527Z"
   },
   {
    "duration": 8,
    "start_time": "2021-12-20T16:43:50.861Z"
   },
   {
    "duration": 64,
    "start_time": "2021-12-20T16:43:51.362Z"
   },
   {
    "duration": 84,
    "start_time": "2021-12-20T16:44:03.333Z"
   },
   {
    "duration": 1698,
    "start_time": "2021-12-20T16:44:56.541Z"
   },
   {
    "duration": 5,
    "start_time": "2021-12-20T16:44:58.243Z"
   },
   {
    "duration": 113,
    "start_time": "2021-12-20T16:44:58.254Z"
   },
   {
    "duration": 19,
    "start_time": "2021-12-20T16:44:58.370Z"
   },
   {
    "duration": 53,
    "start_time": "2021-12-20T16:44:58.392Z"
   },
   {
    "duration": 32,
    "start_time": "2021-12-20T16:44:58.448Z"
   },
   {
    "duration": 72,
    "start_time": "2021-12-20T16:44:58.483Z"
   },
   {
    "duration": 18,
    "start_time": "2021-12-20T16:44:58.559Z"
   },
   {
    "duration": 14,
    "start_time": "2021-12-20T16:44:58.581Z"
   },
   {
    "duration": 28,
    "start_time": "2021-12-20T16:44:58.598Z"
   },
   {
    "duration": 35,
    "start_time": "2021-12-20T16:44:58.630Z"
   },
   {
    "duration": 47,
    "start_time": "2021-12-20T16:44:58.668Z"
   },
   {
    "duration": 1270,
    "start_time": "2021-12-20T16:44:58.718Z"
   },
   {
    "duration": 9,
    "start_time": "2021-12-20T16:44:59.990Z"
   },
   {
    "duration": 666,
    "start_time": "2021-12-20T16:45:00.002Z"
   },
   {
    "duration": 6,
    "start_time": "2021-12-20T16:45:00.671Z"
   },
   {
    "duration": 30,
    "start_time": "2021-12-20T16:45:00.679Z"
   },
   {
    "duration": 36,
    "start_time": "2021-12-20T16:45:00.711Z"
   },
   {
    "duration": 14,
    "start_time": "2021-12-20T16:45:00.750Z"
   },
   {
    "duration": 34,
    "start_time": "2021-12-20T16:45:00.767Z"
   },
   {
    "duration": 19,
    "start_time": "2021-12-20T16:45:00.804Z"
   },
   {
    "duration": 97,
    "start_time": "2021-12-20T16:45:00.827Z"
   },
   {
    "duration": 101,
    "start_time": "2021-12-20T16:45:00.928Z"
   },
   {
    "duration": 37,
    "start_time": "2021-12-20T16:45:01.031Z"
   },
   {
    "duration": 770,
    "start_time": "2021-12-20T16:45:01.071Z"
   },
   {
    "duration": 74,
    "start_time": "2021-12-20T16:45:12.144Z"
   },
   {
    "duration": 71,
    "start_time": "2021-12-20T16:45:20.997Z"
   },
   {
    "duration": 1698,
    "start_time": "2021-12-20T16:45:42.195Z"
   },
   {
    "duration": 4,
    "start_time": "2021-12-20T16:45:43.897Z"
   },
   {
    "duration": 72,
    "start_time": "2021-12-20T16:45:43.925Z"
   },
   {
    "duration": 20,
    "start_time": "2021-12-20T16:45:43.999Z"
   },
   {
    "duration": 17,
    "start_time": "2021-12-20T16:45:44.022Z"
   },
   {
    "duration": 31,
    "start_time": "2021-12-20T16:45:44.043Z"
   },
   {
    "duration": 79,
    "start_time": "2021-12-20T16:45:44.077Z"
   },
   {
    "duration": 17,
    "start_time": "2021-12-20T16:45:44.160Z"
   },
   {
    "duration": 8,
    "start_time": "2021-12-20T16:45:44.181Z"
   },
   {
    "duration": 35,
    "start_time": "2021-12-20T16:45:44.191Z"
   },
   {
    "duration": 27,
    "start_time": "2021-12-20T16:45:44.231Z"
   },
   {
    "duration": 18,
    "start_time": "2021-12-20T16:45:44.261Z"
   },
   {
    "duration": 1364,
    "start_time": "2021-12-20T16:45:44.282Z"
   },
   {
    "duration": 10,
    "start_time": "2021-12-20T16:45:45.648Z"
   },
   {
    "duration": 632,
    "start_time": "2021-12-20T16:45:45.661Z"
   },
   {
    "duration": 7,
    "start_time": "2021-12-20T16:45:46.295Z"
   },
   {
    "duration": 20,
    "start_time": "2021-12-20T16:45:46.323Z"
   },
   {
    "duration": 11,
    "start_time": "2021-12-20T16:45:46.345Z"
   },
   {
    "duration": 15,
    "start_time": "2021-12-20T16:45:46.359Z"
   },
   {
    "duration": 55,
    "start_time": "2021-12-20T16:45:46.377Z"
   },
   {
    "duration": 28,
    "start_time": "2021-12-20T16:45:46.435Z"
   },
   {
    "duration": 57,
    "start_time": "2021-12-20T16:45:46.467Z"
   },
   {
    "duration": 20,
    "start_time": "2021-12-20T16:45:46.527Z"
   },
   {
    "duration": 95,
    "start_time": "2021-12-20T16:45:46.550Z"
   },
   {
    "duration": 71,
    "start_time": "2021-12-20T16:45:46.649Z"
   },
   {
    "duration": 6,
    "start_time": "2021-12-20T16:46:15.151Z"
   },
   {
    "duration": 72,
    "start_time": "2021-12-20T16:46:15.897Z"
   },
   {
    "duration": 7,
    "start_time": "2021-12-20T16:58:22.439Z"
   },
   {
    "duration": 917,
    "start_time": "2021-12-20T16:59:21.291Z"
   },
   {
    "duration": 7,
    "start_time": "2021-12-20T16:59:26.300Z"
   },
   {
    "duration": 753,
    "start_time": "2021-12-20T16:59:26.595Z"
   },
   {
    "duration": 786,
    "start_time": "2021-12-20T16:59:34.606Z"
   },
   {
    "duration": 658,
    "start_time": "2021-12-20T16:59:40.847Z"
   },
   {
    "duration": 59,
    "start_time": "2021-12-20T16:59:48.761Z"
   },
   {
    "duration": 60,
    "start_time": "2021-12-20T17:00:06.716Z"
   },
   {
    "duration": 62,
    "start_time": "2021-12-20T17:03:00.752Z"
   },
   {
    "duration": 7,
    "start_time": "2021-12-20T17:04:00.601Z"
   },
   {
    "duration": 8,
    "start_time": "2021-12-20T17:05:18.513Z"
   },
   {
    "duration": 7,
    "start_time": "2021-12-20T17:05:18.850Z"
   },
   {
    "duration": 6,
    "start_time": "2021-12-20T17:06:32.413Z"
   },
   {
    "duration": 765,
    "start_time": "2021-12-20T17:06:34.579Z"
   },
   {
    "duration": 59,
    "start_time": "2021-12-20T17:06:40.183Z"
   },
   {
    "duration": 71,
    "start_time": "2021-12-20T17:06:56.897Z"
   },
   {
    "duration": 89,
    "start_time": "2021-12-20T17:28:45.037Z"
   },
   {
    "duration": 109,
    "start_time": "2021-12-20T17:29:09.855Z"
   },
   {
    "duration": 62,
    "start_time": "2021-12-20T17:29:45.337Z"
   },
   {
    "duration": 81,
    "start_time": "2021-12-20T17:29:48.309Z"
   },
   {
    "duration": 1601,
    "start_time": "2021-12-20T17:33:03.861Z"
   },
   {
    "duration": 4,
    "start_time": "2021-12-20T17:33:05.465Z"
   },
   {
    "duration": 101,
    "start_time": "2021-12-20T17:33:05.475Z"
   },
   {
    "duration": 17,
    "start_time": "2021-12-20T17:33:05.579Z"
   },
   {
    "duration": 17,
    "start_time": "2021-12-20T17:33:05.599Z"
   },
   {
    "duration": 35,
    "start_time": "2021-12-20T17:33:05.619Z"
   },
   {
    "duration": 39,
    "start_time": "2021-12-20T17:33:05.658Z"
   },
   {
    "duration": 30,
    "start_time": "2021-12-20T17:33:05.700Z"
   },
   {
    "duration": 11,
    "start_time": "2021-12-20T17:33:05.733Z"
   },
   {
    "duration": 12,
    "start_time": "2021-12-20T17:33:05.748Z"
   },
   {
    "duration": 7,
    "start_time": "2021-12-20T17:33:05.763Z"
   },
   {
    "duration": 16,
    "start_time": "2021-12-20T17:33:05.772Z"
   },
   {
    "duration": 1370,
    "start_time": "2021-12-20T17:33:05.791Z"
   },
   {
    "duration": 9,
    "start_time": "2021-12-20T17:33:07.164Z"
   },
   {
    "duration": 646,
    "start_time": "2021-12-20T17:33:07.175Z"
   },
   {
    "duration": 7,
    "start_time": "2021-12-20T17:33:07.824Z"
   },
   {
    "duration": 41,
    "start_time": "2021-12-20T17:33:07.833Z"
   },
   {
    "duration": 6,
    "start_time": "2021-12-20T17:33:07.877Z"
   },
   {
    "duration": 9,
    "start_time": "2021-12-20T17:33:07.886Z"
   },
   {
    "duration": 35,
    "start_time": "2021-12-20T17:33:07.898Z"
   },
   {
    "duration": 20,
    "start_time": "2021-12-20T17:33:07.937Z"
   },
   {
    "duration": 65,
    "start_time": "2021-12-20T17:33:07.965Z"
   },
   {
    "duration": 101,
    "start_time": "2021-12-20T17:33:08.033Z"
   },
   {
    "duration": 45,
    "start_time": "2021-12-20T17:33:08.140Z"
   },
   {
    "duration": 8,
    "start_time": "2021-12-20T17:33:08.188Z"
   },
   {
    "duration": 99,
    "start_time": "2021-12-20T17:33:08.199Z"
   },
   {
    "duration": 149,
    "start_time": "2021-12-20T17:33:08.301Z"
   },
   {
    "duration": 89,
    "start_time": "2021-12-20T17:33:08.453Z"
   },
   {
    "duration": 57,
    "start_time": "2021-12-20T17:33:08.545Z"
   },
   {
    "duration": 1563,
    "start_time": "2021-12-20T17:57:58.448Z"
   },
   {
    "duration": 4,
    "start_time": "2021-12-20T17:58:00.014Z"
   },
   {
    "duration": 74,
    "start_time": "2021-12-20T17:58:00.024Z"
   },
   {
    "duration": 17,
    "start_time": "2021-12-20T17:58:00.102Z"
   },
   {
    "duration": 35,
    "start_time": "2021-12-20T17:58:00.121Z"
   },
   {
    "duration": 15,
    "start_time": "2021-12-20T17:58:00.158Z"
   },
   {
    "duration": 60,
    "start_time": "2021-12-20T17:58:00.175Z"
   },
   {
    "duration": 12,
    "start_time": "2021-12-20T17:58:00.241Z"
   },
   {
    "duration": 15,
    "start_time": "2021-12-20T17:58:00.256Z"
   },
   {
    "duration": 16,
    "start_time": "2021-12-20T17:58:00.273Z"
   },
   {
    "duration": 36,
    "start_time": "2021-12-20T17:58:00.292Z"
   },
   {
    "duration": 20,
    "start_time": "2021-12-20T17:58:00.338Z"
   },
   {
    "duration": 1392,
    "start_time": "2021-12-20T17:58:00.361Z"
   },
   {
    "duration": 9,
    "start_time": "2021-12-20T17:58:01.756Z"
   },
   {
    "duration": 651,
    "start_time": "2021-12-20T17:58:01.768Z"
   },
   {
    "duration": 15,
    "start_time": "2021-12-20T17:58:02.422Z"
   },
   {
    "duration": 22,
    "start_time": "2021-12-20T17:58:02.440Z"
   },
   {
    "duration": 12,
    "start_time": "2021-12-20T17:58:02.464Z"
   },
   {
    "duration": 9,
    "start_time": "2021-12-20T17:58:02.479Z"
   },
   {
    "duration": 36,
    "start_time": "2021-12-20T17:58:02.491Z"
   },
   {
    "duration": 8,
    "start_time": "2021-12-20T17:58:02.530Z"
   },
   {
    "duration": 83,
    "start_time": "2021-12-20T17:58:02.541Z"
   },
   {
    "duration": 12,
    "start_time": "2021-12-20T17:58:02.632Z"
   },
   {
    "duration": 104,
    "start_time": "2021-12-20T17:58:02.648Z"
   },
   {
    "duration": 73,
    "start_time": "2021-12-20T17:58:02.756Z"
   },
   {
    "duration": 133,
    "start_time": "2021-12-20T17:58:02.832Z"
   },
   {
    "duration": 8,
    "start_time": "2021-12-20T17:58:02.968Z"
   },
   {
    "duration": 98,
    "start_time": "2021-12-20T17:58:02.979Z"
   },
   {
    "duration": 91,
    "start_time": "2021-12-20T17:58:03.080Z"
   },
   {
    "duration": 67,
    "start_time": "2021-12-20T17:59:54.445Z"
   },
   {
    "duration": 6,
    "start_time": "2021-12-20T18:00:02.792Z"
   },
   {
    "duration": 1184,
    "start_time": "2021-12-20T18:00:03.099Z"
   },
   {
    "duration": 7,
    "start_time": "2021-12-20T18:00:12.950Z"
   },
   {
    "duration": 667,
    "start_time": "2021-12-20T18:00:13.618Z"
   },
   {
    "duration": 6,
    "start_time": "2021-12-20T18:00:51.172Z"
   },
   {
    "duration": 59,
    "start_time": "2021-12-20T18:00:51.649Z"
   },
   {
    "duration": 7,
    "start_time": "2021-12-20T18:04:26.843Z"
   },
   {
    "duration": 171,
    "start_time": "2021-12-20T18:04:38.373Z"
   },
   {
    "duration": 128,
    "start_time": "2021-12-20T18:04:51.717Z"
   },
   {
    "duration": 8,
    "start_time": "2021-12-20T18:05:31.038Z"
   },
   {
    "duration": 165,
    "start_time": "2021-12-20T18:05:31.395Z"
   },
   {
    "duration": 6,
    "start_time": "2021-12-20T18:05:31.689Z"
   },
   {
    "duration": 110,
    "start_time": "2021-12-20T18:05:32.735Z"
   },
   {
    "duration": 7,
    "start_time": "2021-12-20T18:05:39.741Z"
   },
   {
    "duration": 8,
    "start_time": "2021-12-20T18:05:40.075Z"
   },
   {
    "duration": 168,
    "start_time": "2021-12-20T18:05:40.581Z"
   },
   {
    "duration": 5,
    "start_time": "2021-12-20T18:05:41.255Z"
   },
   {
    "duration": 124,
    "start_time": "2021-12-20T18:05:41.630Z"
   },
   {
    "duration": 1554,
    "start_time": "2021-12-20T18:06:26.533Z"
   },
   {
    "duration": 4,
    "start_time": "2021-12-20T18:06:28.089Z"
   },
   {
    "duration": 92,
    "start_time": "2021-12-20T18:06:28.096Z"
   },
   {
    "duration": 18,
    "start_time": "2021-12-20T18:06:28.191Z"
   },
   {
    "duration": 35,
    "start_time": "2021-12-20T18:06:28.211Z"
   },
   {
    "duration": 26,
    "start_time": "2021-12-20T18:06:28.248Z"
   },
   {
    "duration": 71,
    "start_time": "2021-12-20T18:06:28.277Z"
   },
   {
    "duration": 9,
    "start_time": "2021-12-20T18:06:28.351Z"
   },
   {
    "duration": 29,
    "start_time": "2021-12-20T18:06:28.365Z"
   },
   {
    "duration": 25,
    "start_time": "2021-12-20T18:06:28.398Z"
   },
   {
    "duration": 32,
    "start_time": "2021-12-20T18:06:28.427Z"
   },
   {
    "duration": 20,
    "start_time": "2021-12-20T18:06:28.462Z"
   },
   {
    "duration": 1418,
    "start_time": "2021-12-20T18:06:28.484Z"
   },
   {
    "duration": 18,
    "start_time": "2021-12-20T18:06:29.905Z"
   },
   {
    "duration": 564,
    "start_time": "2021-12-20T18:06:29.929Z"
   },
   {
    "duration": 6,
    "start_time": "2021-12-20T18:06:30.496Z"
   },
   {
    "duration": 39,
    "start_time": "2021-12-20T18:06:30.505Z"
   },
   {
    "duration": 19,
    "start_time": "2021-12-20T18:06:30.547Z"
   },
   {
    "duration": 14,
    "start_time": "2021-12-20T18:06:30.569Z"
   },
   {
    "duration": 23,
    "start_time": "2021-12-20T18:06:30.586Z"
   },
   {
    "duration": 27,
    "start_time": "2021-12-20T18:06:30.612Z"
   },
   {
    "duration": 84,
    "start_time": "2021-12-20T18:06:30.642Z"
   },
   {
    "duration": 101,
    "start_time": "2021-12-20T18:06:30.729Z"
   },
   {
    "duration": 14,
    "start_time": "2021-12-20T18:06:30.834Z"
   },
   {
    "duration": 178,
    "start_time": "2021-12-20T18:06:30.850Z"
   },
   {
    "duration": 9,
    "start_time": "2021-12-20T18:06:31.030Z"
   },
   {
    "duration": 145,
    "start_time": "2021-12-20T18:06:31.045Z"
   },
   {
    "duration": 437,
    "start_time": "2021-12-20T18:08:08.398Z"
   },
   {
    "duration": 6,
    "start_time": "2021-12-20T18:08:12.876Z"
   },
   {
    "duration": 15,
    "start_time": "2021-12-20T18:08:27.040Z"
   },
   {
    "duration": 15,
    "start_time": "2021-12-20T18:08:32.127Z"
   },
   {
    "duration": 481,
    "start_time": "2021-12-20T18:09:12.096Z"
   },
   {
    "duration": 326,
    "start_time": "2021-12-20T18:10:08.488Z"
   },
   {
    "duration": 11,
    "start_time": "2021-12-20T18:10:14.005Z"
   },
   {
    "duration": 437,
    "start_time": "2021-12-20T18:11:10.415Z"
   },
   {
    "duration": 510,
    "start_time": "2021-12-20T18:12:01.939Z"
   },
   {
    "duration": 762,
    "start_time": "2021-12-20T18:12:22.474Z"
   },
   {
    "duration": 770,
    "start_time": "2021-12-20T18:13:44.028Z"
   },
   {
    "duration": 8,
    "start_time": "2021-12-20T18:14:15.473Z"
   },
   {
    "duration": 467,
    "start_time": "2021-12-20T18:14:36.177Z"
   },
   {
    "duration": 13123,
    "start_time": "2021-12-20T18:15:32.884Z"
   },
   {
    "duration": 531,
    "start_time": "2021-12-20T18:15:52.276Z"
   },
   {
    "duration": 519,
    "start_time": "2021-12-20T18:16:01.274Z"
   },
   {
    "duration": 699,
    "start_time": "2021-12-20T18:16:56.724Z"
   },
   {
    "duration": 490,
    "start_time": "2021-12-20T18:17:04.370Z"
   },
   {
    "duration": 619,
    "start_time": "2021-12-20T18:17:09.689Z"
   },
   {
    "duration": 154,
    "start_time": "2021-12-20T18:29:45.835Z"
   },
   {
    "duration": 263,
    "start_time": "2021-12-20T18:29:54.660Z"
   },
   {
    "duration": 117,
    "start_time": "2021-12-20T18:30:06.147Z"
   },
   {
    "duration": 1520,
    "start_time": "2021-12-20T18:30:20.390Z"
   },
   {
    "duration": 4,
    "start_time": "2021-12-20T18:30:21.913Z"
   },
   {
    "duration": 58,
    "start_time": "2021-12-20T18:30:21.920Z"
   },
   {
    "duration": 16,
    "start_time": "2021-12-20T18:30:21.981Z"
   },
   {
    "duration": 17,
    "start_time": "2021-12-20T18:30:21.999Z"
   },
   {
    "duration": 22,
    "start_time": "2021-12-20T18:30:22.019Z"
   },
   {
    "duration": 52,
    "start_time": "2021-12-20T18:30:22.044Z"
   },
   {
    "duration": 24,
    "start_time": "2021-12-20T18:30:22.100Z"
   },
   {
    "duration": 7,
    "start_time": "2021-12-20T18:30:22.127Z"
   },
   {
    "duration": 15,
    "start_time": "2021-12-20T18:30:22.137Z"
   },
   {
    "duration": 19,
    "start_time": "2021-12-20T18:30:22.155Z"
   },
   {
    "duration": 19,
    "start_time": "2021-12-20T18:30:22.176Z"
   },
   {
    "duration": 1719,
    "start_time": "2021-12-20T18:30:22.199Z"
   },
   {
    "duration": 13,
    "start_time": "2021-12-20T18:30:23.924Z"
   },
   {
    "duration": 614,
    "start_time": "2021-12-20T18:30:23.940Z"
   },
   {
    "duration": 6,
    "start_time": "2021-12-20T18:30:24.556Z"
   },
   {
    "duration": 12,
    "start_time": "2021-12-20T18:30:24.564Z"
   },
   {
    "duration": 7,
    "start_time": "2021-12-20T18:30:24.579Z"
   },
   {
    "duration": 37,
    "start_time": "2021-12-20T18:30:24.588Z"
   },
   {
    "duration": 9,
    "start_time": "2021-12-20T18:30:24.627Z"
   },
   {
    "duration": 5,
    "start_time": "2021-12-20T18:30:24.639Z"
   },
   {
    "duration": 79,
    "start_time": "2021-12-20T18:30:24.647Z"
   },
   {
    "duration": 91,
    "start_time": "2021-12-20T18:30:24.732Z"
   },
   {
    "duration": 9,
    "start_time": "2021-12-20T18:30:24.826Z"
   },
   {
    "duration": 186,
    "start_time": "2021-12-20T18:30:24.837Z"
   },
   {
    "duration": 6,
    "start_time": "2021-12-20T18:30:25.025Z"
   },
   {
    "duration": 140,
    "start_time": "2021-12-20T18:30:25.033Z"
   },
   {
    "duration": 6,
    "start_time": "2021-12-20T18:32:45.037Z"
   },
   {
    "duration": 1548,
    "start_time": "2021-12-20T18:35:39.701Z"
   },
   {
    "duration": 3,
    "start_time": "2021-12-20T18:35:41.252Z"
   },
   {
    "duration": 112,
    "start_time": "2021-12-20T18:35:41.260Z"
   },
   {
    "duration": 16,
    "start_time": "2021-12-20T18:35:41.375Z"
   },
   {
    "duration": 18,
    "start_time": "2021-12-20T18:35:41.393Z"
   },
   {
    "duration": 40,
    "start_time": "2021-12-20T18:35:41.414Z"
   },
   {
    "duration": 48,
    "start_time": "2021-12-20T18:35:41.460Z"
   },
   {
    "duration": 16,
    "start_time": "2021-12-20T18:35:41.513Z"
   },
   {
    "duration": 17,
    "start_time": "2021-12-20T18:35:41.532Z"
   },
   {
    "duration": 21,
    "start_time": "2021-12-20T18:35:41.551Z"
   },
   {
    "duration": 15,
    "start_time": "2021-12-20T18:35:41.574Z"
   },
   {
    "duration": 25,
    "start_time": "2021-12-20T18:35:41.592Z"
   },
   {
    "duration": 1270,
    "start_time": "2021-12-20T18:35:41.619Z"
   },
   {
    "duration": 8,
    "start_time": "2021-12-20T18:35:42.892Z"
   },
   {
    "duration": 545,
    "start_time": "2021-12-20T18:35:42.926Z"
   },
   {
    "duration": 6,
    "start_time": "2021-12-20T18:35:43.473Z"
   },
   {
    "duration": 27,
    "start_time": "2021-12-20T18:35:43.481Z"
   },
   {
    "duration": 14,
    "start_time": "2021-12-20T18:35:43.522Z"
   },
   {
    "duration": 18,
    "start_time": "2021-12-20T18:35:43.539Z"
   },
   {
    "duration": 28,
    "start_time": "2021-12-20T18:35:43.559Z"
   },
   {
    "duration": 15,
    "start_time": "2021-12-20T18:35:43.589Z"
   },
   {
    "duration": 12,
    "start_time": "2021-12-20T18:35:43.627Z"
   },
   {
    "duration": 113,
    "start_time": "2021-12-20T18:35:43.644Z"
   },
   {
    "duration": 22,
    "start_time": "2021-12-20T18:35:43.760Z"
   },
   {
    "duration": 193,
    "start_time": "2021-12-20T18:35:43.784Z"
   },
   {
    "duration": 7,
    "start_time": "2021-12-20T18:35:43.981Z"
   },
   {
    "duration": 138,
    "start_time": "2021-12-20T18:35:43.991Z"
   },
   {
    "duration": 1399,
    "start_time": "2021-12-20T19:06:05.363Z"
   },
   {
    "duration": 2,
    "start_time": "2021-12-20T19:06:06.764Z"
   },
   {
    "duration": 73,
    "start_time": "2021-12-20T19:06:07.824Z"
   },
   {
    "duration": 11,
    "start_time": "2021-12-20T19:06:08.370Z"
   },
   {
    "duration": 9,
    "start_time": "2021-12-20T19:06:08.978Z"
   },
   {
    "duration": 7,
    "start_time": "2021-12-20T19:06:09.432Z"
   },
   {
    "duration": 23,
    "start_time": "2021-12-20T19:06:09.755Z"
   },
   {
    "duration": 10,
    "start_time": "2021-12-20T19:06:11.082Z"
   },
   {
    "duration": 6,
    "start_time": "2021-12-20T19:06:11.291Z"
   },
   {
    "duration": 3,
    "start_time": "2021-12-20T19:06:11.683Z"
   },
   {
    "duration": 4,
    "start_time": "2021-12-20T19:06:12.390Z"
   },
   {
    "duration": 6,
    "start_time": "2021-12-20T19:06:12.852Z"
   },
   {
    "duration": 827,
    "start_time": "2021-12-20T19:06:14.550Z"
   },
   {
    "duration": 7,
    "start_time": "2021-12-20T19:06:15.386Z"
   },
   {
    "duration": 397,
    "start_time": "2021-12-20T19:06:15.548Z"
   },
   {
    "duration": 4,
    "start_time": "2021-12-20T19:06:20.524Z"
   },
   {
    "duration": 10,
    "start_time": "2021-12-20T19:06:20.737Z"
   },
   {
    "duration": 4,
    "start_time": "2021-12-20T19:09:22.261Z"
   },
   {
    "duration": 3,
    "start_time": "2021-12-20T19:09:23.343Z"
   },
   {
    "duration": 6,
    "start_time": "2021-12-20T19:09:23.868Z"
   },
   {
    "duration": 4,
    "start_time": "2021-12-20T19:09:24.960Z"
   },
   {
    "duration": 5,
    "start_time": "2021-12-20T19:09:57.543Z"
   },
   {
    "duration": 5,
    "start_time": "2021-12-20T19:09:59.269Z"
   },
   {
    "duration": 5,
    "start_time": "2021-12-20T19:10:00.006Z"
   },
   {
    "duration": 149,
    "start_time": "2021-12-20T19:10:01.201Z"
   },
   {
    "duration": 4,
    "start_time": "2021-12-20T19:10:07.587Z"
   },
   {
    "duration": 77,
    "start_time": "2021-12-20T19:10:08.102Z"
   }
  ],
  "kernelspec": {
   "display_name": "Python 3 (ipykernel)",
   "language": "python",
   "name": "python3"
  },
  "language_info": {
   "codemirror_mode": {
    "name": "ipython",
    "version": 3
   },
   "file_extension": ".py",
   "mimetype": "text/x-python",
   "name": "python",
   "nbconvert_exporter": "python",
   "pygments_lexer": "ipython3",
   "version": "3.9.7"
  },
  "toc": {
   "base_numbering": 1,
   "nav_menu": {},
   "number_sections": true,
   "sideBar": true,
   "skip_h1_title": true,
   "title_cell": "Содержание",
   "title_sidebar": "Contents",
   "toc_cell": true,
   "toc_position": {},
   "toc_section_display": true,
   "toc_window_display": true
  }
 },
 "nbformat": 4,
 "nbformat_minor": 2
}

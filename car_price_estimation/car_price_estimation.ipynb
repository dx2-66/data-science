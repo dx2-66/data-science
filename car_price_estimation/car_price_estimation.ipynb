{
 "cells": [
  {
   "cell_type": "markdown",
   "metadata": {},
   "source": [
    "# Определение стоимости автомобилей"
   ]
  },
  {
   "cell_type": "markdown",
   "metadata": {},
   "source": [
    "Сервис по продаже подержанных автомобилей разрабатывает приложение для привлечения новых клиентов. В числе функций предполагается калькулятор рыночной цены автомобиля. В нашем распоряжении исторические данные: технические характеристики, комплектация и цены; на выходе мы должны получить модель для определения стоимости.  \n",
    "\n",
    "Заказчику важны:\n",
    "\n",
    "- качество предсказания;\n",
    "- скорость предсказания;\n",
    "- время обучения.\n",
    "\n",
    "**Предоставленные данные:**\n",
    "- технические характеристики, комплектации и цены автомобилей из базы анкет. \n",
    "\n",
    "**Этапы работы:**\n",
    "\n",
    "1. Обзор и подготовка данных.\n",
    "2. Обучение моделей, подбор гиперпараметров. Для модели градиентного бустинга техзаданием оговорено использование библиотеки LightGBM.\n",
    "3. Анализ скорости работы и качества моделей с целевой метрикой RMSE.\n",
    "4. Общий вывод.\n",
    "\n",
    "**Цель работы**\n",
    "\n",
    "Построение модели машинного обучения, способной оценить рыночную стоимость автомобиля исходя из технических характеристик и комплектации.\n",
    "\n",
    "**Используемые библиотеки:**\n",
    "\n",
    "- Pandas\n",
    "- Scikit-learn\n",
    "- category_encoders\n",
    "- NumPy\n",
    "- SciPy\n",
    "- statsmodels\n",
    "- LightGBM\n",
    "- Matplotlib\n",
    "- Seaborn"
   ]
  },
  {
   "cell_type": "markdown",
   "metadata": {
    "toc": true
   },
   "source": [
    "<h1>Содержание:<span class=\"tocSkip\"></span></h1>\n",
    "<div class=\"toc\"><ul class=\"toc-item\"><li><span><a href=\"#Обзор-и-предобработка-данных\" data-toc-modified-id=\"Обзор-и-предобработка-данных-1\"><span class=\"toc-item-num\">1&nbsp;&nbsp;</span>Обзор и предобработка данных</a></span><ul class=\"toc-item\"><li><span><a href=\"#Предварительный-вывод\" data-toc-modified-id=\"Предварительный-вывод-1.1\"><span class=\"toc-item-num\">1.1&nbsp;&nbsp;</span>Предварительный вывод</a></span></li><li><span><a href=\"#Анализ-данных\" data-toc-modified-id=\"Анализ-данных-1.2\"><span class=\"toc-item-num\">1.2&nbsp;&nbsp;</span>Анализ данных</a></span><ul class=\"toc-item\"><li><span><a href=\"#Разброс-цен\" data-toc-modified-id=\"Разброс-цен-1.2.1\"><span class=\"toc-item-num\">1.2.1&nbsp;&nbsp;</span>Разброс цен</a></span></li><li><span><a href=\"#Марка-и-модель-авто\" data-toc-modified-id=\"Марка-и-модель-авто-1.2.2\"><span class=\"toc-item-num\">1.2.2&nbsp;&nbsp;</span>Марка и модель авто</a></span></li><li><span><a href=\"#Датировка\" data-toc-modified-id=\"Датировка-1.2.3\"><span class=\"toc-item-num\">1.2.3&nbsp;&nbsp;</span>Датировка</a></span></li><li><span><a href=\"#Мощность-двигателя\" data-toc-modified-id=\"Мощность-двигателя-1.2.4\"><span class=\"toc-item-num\">1.2.4&nbsp;&nbsp;</span>Мощность двигателя</a></span></li><li><span><a href=\"#Километраж\" data-toc-modified-id=\"Километраж-1.2.5\"><span class=\"toc-item-num\">1.2.5&nbsp;&nbsp;</span>Километраж</a></span></li><li><span><a href=\"#Прочие-характеристики\" data-toc-modified-id=\"Прочие-характеристики-1.2.6\"><span class=\"toc-item-num\">1.2.6&nbsp;&nbsp;</span>Прочие характеристики</a></span></li></ul></li><li><span><a href=\"#Корректировка-выбросов\" data-toc-modified-id=\"Корректировка-выбросов-1.3\"><span class=\"toc-item-num\">1.3&nbsp;&nbsp;</span>Корректировка выбросов</a></span></li><li><span><a href=\"#Финальная-обработка-и-one-hot-encoding\" data-toc-modified-id=\"Финальная-обработка-и-one-hot-encoding-1.4\"><span class=\"toc-item-num\">1.4&nbsp;&nbsp;</span>Финальная обработка и one-hot encoding</a></span></li><li><span><a href=\"#Вывод\" data-toc-modified-id=\"Вывод-1.5\"><span class=\"toc-item-num\">1.5&nbsp;&nbsp;</span>Вывод</a></span></li></ul></li><li><span><a href=\"#Разбиение-на-выборки-и-feature-selection\" data-toc-modified-id=\"Разбиение-на-выборки-и-feature-selection-2\"><span class=\"toc-item-num\">2&nbsp;&nbsp;</span>Разбиение на выборки и feature selection</a></span><ul class=\"toc-item\"><li><span><a href=\"#Mean-target-encoding\" data-toc-modified-id=\"Mean-target-encoding-2.1\"><span class=\"toc-item-num\">2.1&nbsp;&nbsp;</span>Mean-target encoding</a></span></li><li><span><a href=\"#Взаимная-информация\" data-toc-modified-id=\"Взаимная-информация-2.2\"><span class=\"toc-item-num\">2.2&nbsp;&nbsp;</span>Взаимная информация</a></span></li><li><span><a href=\"#Коллинеарность\" data-toc-modified-id=\"Коллинеарность-2.3\"><span class=\"toc-item-num\">2.3&nbsp;&nbsp;</span>Коллинеарность</a></span></li></ul></li><li><span><a href=\"#Обучение-моделей\" data-toc-modified-id=\"Обучение-моделей-3\"><span class=\"toc-item-num\">3&nbsp;&nbsp;</span>Обучение моделей</a></span></li><li><span><a href=\"#Анализ-моделей\" data-toc-modified-id=\"Анализ-моделей-4\"><span class=\"toc-item-num\">4&nbsp;&nbsp;</span>Анализ моделей</a></span><ul class=\"toc-item\"><li><span><a href=\"#Скорость-обучения-моделей-с-оптимальными-гиперпараметрами\" data-toc-modified-id=\"Скорость-обучения-моделей-с-оптимальными-гиперпараметрами-4.1\"><span class=\"toc-item-num\">4.1&nbsp;&nbsp;</span>Скорость обучения моделей с оптимальными гиперпараметрами</a></span></li><li><span><a href=\"#Метрика-на-тестовой-выборке-и-скорость-инференса\" data-toc-modified-id=\"Метрика-на-тестовой-выборке-и-скорость-инференса-4.2\"><span class=\"toc-item-num\">4.2&nbsp;&nbsp;</span>Метрика на тестовой выборке и скорость инференса</a></span></li><li><span><a href=\"#Сравнение-с-фиктивными-моделями\" data-toc-modified-id=\"Сравнение-с-фиктивными-моделями-4.3\"><span class=\"toc-item-num\">4.3&nbsp;&nbsp;</span>Сравнение с фиктивными моделями</a></span></li><li><span><a href=\"#Использование-признаков\" data-toc-modified-id=\"Использование-признаков-4.4\"><span class=\"toc-item-num\">4.4&nbsp;&nbsp;</span>Использование признаков</a></span></li></ul></li><li><span><a href=\"#Вывод\" data-toc-modified-id=\"Вывод-5\"><span class=\"toc-item-num\">5&nbsp;&nbsp;</span>Вывод</a></span><ul class=\"toc-item\"><li><span><a href=\"#Рекомендации-по-заполению-данных\" data-toc-modified-id=\"Рекомендации-по-заполению-данных-5.1\"><span class=\"toc-item-num\">5.1&nbsp;&nbsp;</span>Рекомендации по заполению данных</a></span></li></ul></ul></div>"
   ]
  },
  {
   "cell_type": "markdown",
   "metadata": {},
   "source": [
    "## Обзор и предобработка данных"
   ]
  },
  {
   "cell_type": "code",
   "execution_count": 1,
   "metadata": {},
   "outputs": [
    {
     "name": "stdout",
     "output_type": "stream",
     "text": [
      "Requirement already satisfied: category_encoders in /home/jovyan/.local/lib/python3.7/site-packages (2.3.0)\n",
      "Requirement already satisfied: patsy>=0.5.1 in /opt/conda/lib/python3.7/site-packages (from category_encoders) (0.5.1)\n",
      "Requirement already satisfied: numpy>=1.14.0 in /opt/conda/lib/python3.7/site-packages (from category_encoders) (1.19.5)\n",
      "Requirement already satisfied: pandas>=0.21.1 in /opt/conda/lib/python3.7/site-packages (from category_encoders) (0.25.1)\n",
      "Requirement already satisfied: scipy>=1.0.0 in /opt/conda/lib/python3.7/site-packages (from category_encoders) (1.4.1)\n",
      "Requirement already satisfied: statsmodels>=0.9.0 in /opt/conda/lib/python3.7/site-packages (from category_encoders) (0.10.1)\n",
      "Requirement already satisfied: scikit-learn>=0.20.0 in /opt/conda/lib/python3.7/site-packages (from category_encoders) (0.21.2)\n",
      "Requirement already satisfied: six in /opt/conda/lib/python3.7/site-packages (from patsy>=0.5.1->category_encoders) (1.15.0)\n",
      "Requirement already satisfied: pytz>=2017.2 in /opt/conda/lib/python3.7/site-packages (from pandas>=0.21.1->category_encoders) (2021.1)\n",
      "Requirement already satisfied: python-dateutil>=2.6.1 in /opt/conda/lib/python3.7/site-packages (from pandas>=0.21.1->category_encoders) (2.8.1)\n",
      "Requirement already satisfied: joblib>=0.11 in /opt/conda/lib/python3.7/site-packages (from scikit-learn>=0.20.0->category_encoders) (1.0.1)\n",
      "Note: you may need to restart the kernel to use updated packages.\n"
     ]
    }
   ],
   "source": [
    "%pip install category_encoders --user"
   ]
  },
  {
   "cell_type": "code",
   "execution_count": 2,
   "metadata": {},
   "outputs": [],
   "source": [
    "# Импортируем необходимые модули.\n",
    "import pandas as pd\n",
    "import numpy as np\n",
    "import matplotlib.pyplot as plt\n",
    "from matplotlib import patches\n",
    "import seaborn as sns\n",
    "\n",
    "from sklearn import base\n",
    "from sklearn.preprocessing import StandardScaler\n",
    "from sklearn.linear_model import LinearRegression\n",
    "from sklearn.tree import DecisionTreeRegressor\n",
    "from sklearn.ensemble import RandomForestRegressor\n",
    "from sklearn.dummy import DummyRegressor\n",
    "from sklearn.metrics import mean_squared_error, r2_score\n",
    "from sklearn.model_selection import train_test_split, GridSearchCV\n",
    "from sklearn.feature_selection import mutual_info_regression\n",
    "\n",
    "from lightgbm import LGBMRegressor\n",
    "\n",
    "from category_encoders import TargetEncoder\n",
    "\n",
    "from statsmodels.stats.outliers_influence import variance_inflation_factor\n",
    "from scipy import spatial"
   ]
  },
  {
   "cell_type": "code",
   "execution_count": 3,
   "metadata": {},
   "outputs": [],
   "source": [
    "pd.set_option('max_colwidth', 90)"
   ]
  },
  {
   "cell_type": "markdown",
   "metadata": {},
   "source": [
    "Ознакомимся с первыми строками таблицы и общей информацией:"
   ]
  },
  {
   "cell_type": "code",
   "execution_count": 4,
   "metadata": {},
   "outputs": [],
   "source": [
    "df = pd.read_csv('/datasets/autos.csv')"
   ]
  },
  {
   "cell_type": "code",
   "execution_count": 5,
   "metadata": {},
   "outputs": [
    {
     "data": {
      "text/html": [
       "<div>\n",
       "<style scoped>\n",
       "    .dataframe tbody tr th:only-of-type {\n",
       "        vertical-align: middle;\n",
       "    }\n",
       "\n",
       "    .dataframe tbody tr th {\n",
       "        vertical-align: top;\n",
       "    }\n",
       "\n",
       "    .dataframe thead th {\n",
       "        text-align: right;\n",
       "    }\n",
       "</style>\n",
       "<table border=\"1\" class=\"dataframe\">\n",
       "  <thead>\n",
       "    <tr style=\"text-align: right;\">\n",
       "      <th></th>\n",
       "      <th>DateCrawled</th>\n",
       "      <th>Price</th>\n",
       "      <th>VehicleType</th>\n",
       "      <th>RegistrationYear</th>\n",
       "      <th>Gearbox</th>\n",
       "      <th>Power</th>\n",
       "      <th>Model</th>\n",
       "      <th>Kilometer</th>\n",
       "      <th>RegistrationMonth</th>\n",
       "      <th>FuelType</th>\n",
       "      <th>Brand</th>\n",
       "      <th>NotRepaired</th>\n",
       "      <th>DateCreated</th>\n",
       "      <th>NumberOfPictures</th>\n",
       "      <th>PostalCode</th>\n",
       "      <th>LastSeen</th>\n",
       "    </tr>\n",
       "  </thead>\n",
       "  <tbody>\n",
       "    <tr>\n",
       "      <td>0</td>\n",
       "      <td>2016-03-24 11:52:17</td>\n",
       "      <td>480</td>\n",
       "      <td>NaN</td>\n",
       "      <td>1993</td>\n",
       "      <td>manual</td>\n",
       "      <td>0</td>\n",
       "      <td>golf</td>\n",
       "      <td>150000</td>\n",
       "      <td>0</td>\n",
       "      <td>petrol</td>\n",
       "      <td>volkswagen</td>\n",
       "      <td>NaN</td>\n",
       "      <td>2016-03-24 00:00:00</td>\n",
       "      <td>0</td>\n",
       "      <td>70435</td>\n",
       "      <td>2016-04-07 03:16:57</td>\n",
       "    </tr>\n",
       "    <tr>\n",
       "      <td>1</td>\n",
       "      <td>2016-03-24 10:58:45</td>\n",
       "      <td>18300</td>\n",
       "      <td>coupe</td>\n",
       "      <td>2011</td>\n",
       "      <td>manual</td>\n",
       "      <td>190</td>\n",
       "      <td>NaN</td>\n",
       "      <td>125000</td>\n",
       "      <td>5</td>\n",
       "      <td>gasoline</td>\n",
       "      <td>audi</td>\n",
       "      <td>yes</td>\n",
       "      <td>2016-03-24 00:00:00</td>\n",
       "      <td>0</td>\n",
       "      <td>66954</td>\n",
       "      <td>2016-04-07 01:46:50</td>\n",
       "    </tr>\n",
       "    <tr>\n",
       "      <td>2</td>\n",
       "      <td>2016-03-14 12:52:21</td>\n",
       "      <td>9800</td>\n",
       "      <td>suv</td>\n",
       "      <td>2004</td>\n",
       "      <td>auto</td>\n",
       "      <td>163</td>\n",
       "      <td>grand</td>\n",
       "      <td>125000</td>\n",
       "      <td>8</td>\n",
       "      <td>gasoline</td>\n",
       "      <td>jeep</td>\n",
       "      <td>NaN</td>\n",
       "      <td>2016-03-14 00:00:00</td>\n",
       "      <td>0</td>\n",
       "      <td>90480</td>\n",
       "      <td>2016-04-05 12:47:46</td>\n",
       "    </tr>\n",
       "    <tr>\n",
       "      <td>3</td>\n",
       "      <td>2016-03-17 16:54:04</td>\n",
       "      <td>1500</td>\n",
       "      <td>small</td>\n",
       "      <td>2001</td>\n",
       "      <td>manual</td>\n",
       "      <td>75</td>\n",
       "      <td>golf</td>\n",
       "      <td>150000</td>\n",
       "      <td>6</td>\n",
       "      <td>petrol</td>\n",
       "      <td>volkswagen</td>\n",
       "      <td>no</td>\n",
       "      <td>2016-03-17 00:00:00</td>\n",
       "      <td>0</td>\n",
       "      <td>91074</td>\n",
       "      <td>2016-03-17 17:40:17</td>\n",
       "    </tr>\n",
       "    <tr>\n",
       "      <td>4</td>\n",
       "      <td>2016-03-31 17:25:20</td>\n",
       "      <td>3600</td>\n",
       "      <td>small</td>\n",
       "      <td>2008</td>\n",
       "      <td>manual</td>\n",
       "      <td>69</td>\n",
       "      <td>fabia</td>\n",
       "      <td>90000</td>\n",
       "      <td>7</td>\n",
       "      <td>gasoline</td>\n",
       "      <td>skoda</td>\n",
       "      <td>no</td>\n",
       "      <td>2016-03-31 00:00:00</td>\n",
       "      <td>0</td>\n",
       "      <td>60437</td>\n",
       "      <td>2016-04-06 10:17:21</td>\n",
       "    </tr>\n",
       "  </tbody>\n",
       "</table>\n",
       "</div>"
      ],
      "text/plain": [
       "           DateCrawled  Price VehicleType  RegistrationYear Gearbox  Power  \\\n",
       "0  2016-03-24 11:52:17    480         NaN              1993  manual      0   \n",
       "1  2016-03-24 10:58:45  18300       coupe              2011  manual    190   \n",
       "2  2016-03-14 12:52:21   9800         suv              2004    auto    163   \n",
       "3  2016-03-17 16:54:04   1500       small              2001  manual     75   \n",
       "4  2016-03-31 17:25:20   3600       small              2008  manual     69   \n",
       "\n",
       "   Model  Kilometer  RegistrationMonth  FuelType       Brand NotRepaired  \\\n",
       "0   golf     150000                  0    petrol  volkswagen         NaN   \n",
       "1    NaN     125000                  5  gasoline        audi         yes   \n",
       "2  grand     125000                  8  gasoline        jeep         NaN   \n",
       "3   golf     150000                  6    petrol  volkswagen          no   \n",
       "4  fabia      90000                  7  gasoline       skoda          no   \n",
       "\n",
       "           DateCreated  NumberOfPictures  PostalCode             LastSeen  \n",
       "0  2016-03-24 00:00:00                 0       70435  2016-04-07 03:16:57  \n",
       "1  2016-03-24 00:00:00                 0       66954  2016-04-07 01:46:50  \n",
       "2  2016-03-14 00:00:00                 0       90480  2016-04-05 12:47:46  \n",
       "3  2016-03-17 00:00:00                 0       91074  2016-03-17 17:40:17  \n",
       "4  2016-03-31 00:00:00                 0       60437  2016-04-06 10:17:21  "
      ]
     },
     "execution_count": 5,
     "metadata": {},
     "output_type": "execute_result"
    }
   ],
   "source": [
    "df.head()"
   ]
  },
  {
   "cell_type": "code",
   "execution_count": 6,
   "metadata": {},
   "outputs": [
    {
     "name": "stdout",
     "output_type": "stream",
     "text": [
      "<class 'pandas.core.frame.DataFrame'>\n",
      "RangeIndex: 354369 entries, 0 to 354368\n",
      "Data columns (total 16 columns):\n",
      "DateCrawled          354369 non-null object\n",
      "Price                354369 non-null int64\n",
      "VehicleType          316879 non-null object\n",
      "RegistrationYear     354369 non-null int64\n",
      "Gearbox              334536 non-null object\n",
      "Power                354369 non-null int64\n",
      "Model                334664 non-null object\n",
      "Kilometer            354369 non-null int64\n",
      "RegistrationMonth    354369 non-null int64\n",
      "FuelType             321474 non-null object\n",
      "Brand                354369 non-null object\n",
      "NotRepaired          283215 non-null object\n",
      "DateCreated          354369 non-null object\n",
      "NumberOfPictures     354369 non-null int64\n",
      "PostalCode           354369 non-null int64\n",
      "LastSeen             354369 non-null object\n",
      "dtypes: int64(7), object(9)\n",
      "memory usage: 43.3+ MB\n"
     ]
    }
   ],
   "source": [
    "df.info()"
   ]
  },
  {
   "cell_type": "code",
   "execution_count": 7,
   "metadata": {},
   "outputs": [
    {
     "data": {
      "text/html": [
       "<div>\n",
       "<style scoped>\n",
       "    .dataframe tbody tr th:only-of-type {\n",
       "        vertical-align: middle;\n",
       "    }\n",
       "\n",
       "    .dataframe tbody tr th {\n",
       "        vertical-align: top;\n",
       "    }\n",
       "\n",
       "    .dataframe thead th {\n",
       "        text-align: right;\n",
       "    }\n",
       "</style>\n",
       "<table border=\"1\" class=\"dataframe\">\n",
       "  <thead>\n",
       "    <tr style=\"text-align: right;\">\n",
       "      <th></th>\n",
       "      <th>count</th>\n",
       "      <th>mean</th>\n",
       "      <th>std</th>\n",
       "      <th>min</th>\n",
       "      <th>25%</th>\n",
       "      <th>50%</th>\n",
       "      <th>75%</th>\n",
       "      <th>max</th>\n",
       "    </tr>\n",
       "  </thead>\n",
       "  <tbody>\n",
       "    <tr>\n",
       "      <td>Price</td>\n",
       "      <td>354369.0</td>\n",
       "      <td>4416.656776</td>\n",
       "      <td>4514.158514</td>\n",
       "      <td>0.0</td>\n",
       "      <td>1050.0</td>\n",
       "      <td>2700.0</td>\n",
       "      <td>6400.0</td>\n",
       "      <td>20000.0</td>\n",
       "    </tr>\n",
       "    <tr>\n",
       "      <td>RegistrationYear</td>\n",
       "      <td>354369.0</td>\n",
       "      <td>2004.234448</td>\n",
       "      <td>90.227958</td>\n",
       "      <td>1000.0</td>\n",
       "      <td>1999.0</td>\n",
       "      <td>2003.0</td>\n",
       "      <td>2008.0</td>\n",
       "      <td>9999.0</td>\n",
       "    </tr>\n",
       "    <tr>\n",
       "      <td>Power</td>\n",
       "      <td>354369.0</td>\n",
       "      <td>110.094337</td>\n",
       "      <td>189.850405</td>\n",
       "      <td>0.0</td>\n",
       "      <td>69.0</td>\n",
       "      <td>105.0</td>\n",
       "      <td>143.0</td>\n",
       "      <td>20000.0</td>\n",
       "    </tr>\n",
       "    <tr>\n",
       "      <td>Kilometer</td>\n",
       "      <td>354369.0</td>\n",
       "      <td>128211.172535</td>\n",
       "      <td>37905.341530</td>\n",
       "      <td>5000.0</td>\n",
       "      <td>125000.0</td>\n",
       "      <td>150000.0</td>\n",
       "      <td>150000.0</td>\n",
       "      <td>150000.0</td>\n",
       "    </tr>\n",
       "    <tr>\n",
       "      <td>RegistrationMonth</td>\n",
       "      <td>354369.0</td>\n",
       "      <td>5.714645</td>\n",
       "      <td>3.726421</td>\n",
       "      <td>0.0</td>\n",
       "      <td>3.0</td>\n",
       "      <td>6.0</td>\n",
       "      <td>9.0</td>\n",
       "      <td>12.0</td>\n",
       "    </tr>\n",
       "    <tr>\n",
       "      <td>NumberOfPictures</td>\n",
       "      <td>354369.0</td>\n",
       "      <td>0.000000</td>\n",
       "      <td>0.000000</td>\n",
       "      <td>0.0</td>\n",
       "      <td>0.0</td>\n",
       "      <td>0.0</td>\n",
       "      <td>0.0</td>\n",
       "      <td>0.0</td>\n",
       "    </tr>\n",
       "    <tr>\n",
       "      <td>PostalCode</td>\n",
       "      <td>354369.0</td>\n",
       "      <td>50508.689087</td>\n",
       "      <td>25783.096248</td>\n",
       "      <td>1067.0</td>\n",
       "      <td>30165.0</td>\n",
       "      <td>49413.0</td>\n",
       "      <td>71083.0</td>\n",
       "      <td>99998.0</td>\n",
       "    </tr>\n",
       "  </tbody>\n",
       "</table>\n",
       "</div>"
      ],
      "text/plain": [
       "                      count           mean           std     min       25%  \\\n",
       "Price              354369.0    4416.656776   4514.158514     0.0    1050.0   \n",
       "RegistrationYear   354369.0    2004.234448     90.227958  1000.0    1999.0   \n",
       "Power              354369.0     110.094337    189.850405     0.0      69.0   \n",
       "Kilometer          354369.0  128211.172535  37905.341530  5000.0  125000.0   \n",
       "RegistrationMonth  354369.0       5.714645      3.726421     0.0       3.0   \n",
       "NumberOfPictures   354369.0       0.000000      0.000000     0.0       0.0   \n",
       "PostalCode         354369.0   50508.689087  25783.096248  1067.0   30165.0   \n",
       "\n",
       "                        50%       75%       max  \n",
       "Price                2700.0    6400.0   20000.0  \n",
       "RegistrationYear     2003.0    2008.0    9999.0  \n",
       "Power                 105.0     143.0   20000.0  \n",
       "Kilometer          150000.0  150000.0  150000.0  \n",
       "RegistrationMonth       6.0       9.0      12.0  \n",
       "NumberOfPictures        0.0       0.0       0.0  \n",
       "PostalCode          49413.0   71083.0   99998.0  "
      ]
     },
     "execution_count": 7,
     "metadata": {},
     "output_type": "execute_result"
    }
   ],
   "source": [
    "df.describe().T"
   ]
  },
  {
   "cell_type": "code",
   "execution_count": 8,
   "metadata": {},
   "outputs": [
    {
     "data": {
      "text/plain": [
       "NotRepaired          0.200791\n",
       "VehicleType          0.105794\n",
       "FuelType             0.092827\n",
       "Gearbox              0.055967\n",
       "Model                0.055606\n",
       "LastSeen             0.000000\n",
       "PostalCode           0.000000\n",
       "NumberOfPictures     0.000000\n",
       "DateCreated          0.000000\n",
       "Brand                0.000000\n",
       "RegistrationMonth    0.000000\n",
       "Kilometer            0.000000\n",
       "Power                0.000000\n",
       "RegistrationYear     0.000000\n",
       "Price                0.000000\n",
       "DateCrawled          0.000000\n",
       "dtype: float64"
      ]
     },
     "execution_count": 8,
     "metadata": {},
     "output_type": "execute_result"
    }
   ],
   "source": [
    "df.isna().mean().sort_values(ascending=False)"
   ]
  },
  {
   "cell_type": "code",
   "execution_count": 9,
   "metadata": {},
   "outputs": [
    {
     "data": {
      "text/html": [
       "<div>\n",
       "<style scoped>\n",
       "    .dataframe tbody tr th:only-of-type {\n",
       "        vertical-align: middle;\n",
       "    }\n",
       "\n",
       "    .dataframe tbody tr th {\n",
       "        vertical-align: top;\n",
       "    }\n",
       "\n",
       "    .dataframe thead th {\n",
       "        text-align: right;\n",
       "    }\n",
       "</style>\n",
       "<table border=\"1\" class=\"dataframe\">\n",
       "  <thead>\n",
       "    <tr style=\"text-align: right;\">\n",
       "      <th></th>\n",
       "      <th>DateCrawled</th>\n",
       "      <th>Price</th>\n",
       "      <th>VehicleType</th>\n",
       "      <th>RegistrationYear</th>\n",
       "      <th>Gearbox</th>\n",
       "      <th>Power</th>\n",
       "      <th>Model</th>\n",
       "      <th>Kilometer</th>\n",
       "      <th>RegistrationMonth</th>\n",
       "      <th>FuelType</th>\n",
       "      <th>Brand</th>\n",
       "      <th>NotRepaired</th>\n",
       "      <th>DateCreated</th>\n",
       "      <th>NumberOfPictures</th>\n",
       "      <th>PostalCode</th>\n",
       "      <th>LastSeen</th>\n",
       "    </tr>\n",
       "  </thead>\n",
       "  <tbody>\n",
       "    <tr>\n",
       "      <td>88087</td>\n",
       "      <td>2016-03-08 18:42:48</td>\n",
       "      <td>1799</td>\n",
       "      <td>coupe</td>\n",
       "      <td>1999</td>\n",
       "      <td>auto</td>\n",
       "      <td>193</td>\n",
       "      <td>clk</td>\n",
       "      <td>20000</td>\n",
       "      <td>7</td>\n",
       "      <td>petrol</td>\n",
       "      <td>mercedes_benz</td>\n",
       "      <td>no</td>\n",
       "      <td>2016-03-08 00:00:00</td>\n",
       "      <td>0</td>\n",
       "      <td>89518</td>\n",
       "      <td>2016-03-09 09:46:57</td>\n",
       "    </tr>\n",
       "    <tr>\n",
       "      <td>171088</td>\n",
       "      <td>2016-03-08 18:42:48</td>\n",
       "      <td>1799</td>\n",
       "      <td>coupe</td>\n",
       "      <td>1999</td>\n",
       "      <td>auto</td>\n",
       "      <td>193</td>\n",
       "      <td>clk</td>\n",
       "      <td>20000</td>\n",
       "      <td>7</td>\n",
       "      <td>petrol</td>\n",
       "      <td>mercedes_benz</td>\n",
       "      <td>no</td>\n",
       "      <td>2016-03-08 00:00:00</td>\n",
       "      <td>0</td>\n",
       "      <td>89518</td>\n",
       "      <td>2016-03-09 09:46:57</td>\n",
       "    </tr>\n",
       "    <tr>\n",
       "      <td>187735</td>\n",
       "      <td>2016-04-03 09:01:15</td>\n",
       "      <td>4699</td>\n",
       "      <td>coupe</td>\n",
       "      <td>2003</td>\n",
       "      <td>auto</td>\n",
       "      <td>218</td>\n",
       "      <td>clk</td>\n",
       "      <td>125000</td>\n",
       "      <td>6</td>\n",
       "      <td>petrol</td>\n",
       "      <td>mercedes_benz</td>\n",
       "      <td>yes</td>\n",
       "      <td>2016-04-03 00:00:00</td>\n",
       "      <td>0</td>\n",
       "      <td>75196</td>\n",
       "      <td>2016-04-07 09:44:54</td>\n",
       "    </tr>\n",
       "    <tr>\n",
       "      <td>258109</td>\n",
       "      <td>2016-04-03 09:01:15</td>\n",
       "      <td>4699</td>\n",
       "      <td>coupe</td>\n",
       "      <td>2003</td>\n",
       "      <td>auto</td>\n",
       "      <td>218</td>\n",
       "      <td>clk</td>\n",
       "      <td>125000</td>\n",
       "      <td>6</td>\n",
       "      <td>petrol</td>\n",
       "      <td>mercedes_benz</td>\n",
       "      <td>yes</td>\n",
       "      <td>2016-04-03 00:00:00</td>\n",
       "      <td>0</td>\n",
       "      <td>75196</td>\n",
       "      <td>2016-04-07 09:44:54</td>\n",
       "    </tr>\n",
       "    <tr>\n",
       "      <td>90964</td>\n",
       "      <td>2016-03-28 00:56:10</td>\n",
       "      <td>1000</td>\n",
       "      <td>small</td>\n",
       "      <td>2002</td>\n",
       "      <td>manual</td>\n",
       "      <td>83</td>\n",
       "      <td>other</td>\n",
       "      <td>150000</td>\n",
       "      <td>1</td>\n",
       "      <td>petrol</td>\n",
       "      <td>suzuki</td>\n",
       "      <td>no</td>\n",
       "      <td>2016-03-28 00:00:00</td>\n",
       "      <td>0</td>\n",
       "      <td>66589</td>\n",
       "      <td>2016-03-28 08:46:21</td>\n",
       "    </tr>\n",
       "    <tr>\n",
       "      <td>231258</td>\n",
       "      <td>2016-03-28 00:56:10</td>\n",
       "      <td>1000</td>\n",
       "      <td>small</td>\n",
       "      <td>2002</td>\n",
       "      <td>manual</td>\n",
       "      <td>83</td>\n",
       "      <td>other</td>\n",
       "      <td>150000</td>\n",
       "      <td>1</td>\n",
       "      <td>petrol</td>\n",
       "      <td>suzuki</td>\n",
       "      <td>no</td>\n",
       "      <td>2016-03-28 00:00:00</td>\n",
       "      <td>0</td>\n",
       "      <td>66589</td>\n",
       "      <td>2016-03-28 08:46:21</td>\n",
       "    </tr>\n",
       "    <tr>\n",
       "      <td>41529</td>\n",
       "      <td>2016-03-18 18:46:15</td>\n",
       "      <td>1999</td>\n",
       "      <td>wagon</td>\n",
       "      <td>2001</td>\n",
       "      <td>manual</td>\n",
       "      <td>131</td>\n",
       "      <td>passat</td>\n",
       "      <td>150000</td>\n",
       "      <td>7</td>\n",
       "      <td>gasoline</td>\n",
       "      <td>volkswagen</td>\n",
       "      <td>no</td>\n",
       "      <td>2016-03-18 00:00:00</td>\n",
       "      <td>0</td>\n",
       "      <td>36391</td>\n",
       "      <td>2016-03-18 18:46:15</td>\n",
       "    </tr>\n",
       "    <tr>\n",
       "      <td>325651</td>\n",
       "      <td>2016-03-18 18:46:15</td>\n",
       "      <td>1999</td>\n",
       "      <td>wagon</td>\n",
       "      <td>2001</td>\n",
       "      <td>manual</td>\n",
       "      <td>131</td>\n",
       "      <td>passat</td>\n",
       "      <td>150000</td>\n",
       "      <td>7</td>\n",
       "      <td>gasoline</td>\n",
       "      <td>volkswagen</td>\n",
       "      <td>no</td>\n",
       "      <td>2016-03-18 00:00:00</td>\n",
       "      <td>0</td>\n",
       "      <td>36391</td>\n",
       "      <td>2016-03-18 18:46:15</td>\n",
       "    </tr>\n",
       "  </tbody>\n",
       "</table>\n",
       "</div>"
      ],
      "text/plain": [
       "                DateCrawled  Price VehicleType  RegistrationYear Gearbox  \\\n",
       "88087   2016-03-08 18:42:48   1799       coupe              1999    auto   \n",
       "171088  2016-03-08 18:42:48   1799       coupe              1999    auto   \n",
       "187735  2016-04-03 09:01:15   4699       coupe              2003    auto   \n",
       "258109  2016-04-03 09:01:15   4699       coupe              2003    auto   \n",
       "90964   2016-03-28 00:56:10   1000       small              2002  manual   \n",
       "231258  2016-03-28 00:56:10   1000       small              2002  manual   \n",
       "41529   2016-03-18 18:46:15   1999       wagon              2001  manual   \n",
       "325651  2016-03-18 18:46:15   1999       wagon              2001  manual   \n",
       "\n",
       "        Power   Model  Kilometer  RegistrationMonth  FuelType          Brand  \\\n",
       "88087     193     clk      20000                  7    petrol  mercedes_benz   \n",
       "171088    193     clk      20000                  7    petrol  mercedes_benz   \n",
       "187735    218     clk     125000                  6    petrol  mercedes_benz   \n",
       "258109    218     clk     125000                  6    petrol  mercedes_benz   \n",
       "90964      83   other     150000                  1    petrol         suzuki   \n",
       "231258     83   other     150000                  1    petrol         suzuki   \n",
       "41529     131  passat     150000                  7  gasoline     volkswagen   \n",
       "325651    131  passat     150000                  7  gasoline     volkswagen   \n",
       "\n",
       "       NotRepaired          DateCreated  NumberOfPictures  PostalCode  \\\n",
       "88087           no  2016-03-08 00:00:00                 0       89518   \n",
       "171088          no  2016-03-08 00:00:00                 0       89518   \n",
       "187735         yes  2016-04-03 00:00:00                 0       75196   \n",
       "258109         yes  2016-04-03 00:00:00                 0       75196   \n",
       "90964           no  2016-03-28 00:00:00                 0       66589   \n",
       "231258          no  2016-03-28 00:00:00                 0       66589   \n",
       "41529           no  2016-03-18 00:00:00                 0       36391   \n",
       "325651          no  2016-03-18 00:00:00                 0       36391   \n",
       "\n",
       "                   LastSeen  \n",
       "88087   2016-03-09 09:46:57  \n",
       "171088  2016-03-09 09:46:57  \n",
       "187735  2016-04-07 09:44:54  \n",
       "258109  2016-04-07 09:44:54  \n",
       "90964   2016-03-28 08:46:21  \n",
       "231258  2016-03-28 08:46:21  \n",
       "41529   2016-03-18 18:46:15  \n",
       "325651  2016-03-18 18:46:15  "
      ]
     },
     "execution_count": 9,
     "metadata": {},
     "output_type": "execute_result"
    }
   ],
   "source": [
    "df[df.duplicated(keep=False)].sort_values(by='Model')"
   ]
  },
  {
   "cell_type": "markdown",
   "metadata": {},
   "source": [
    "### Предварительный вывод"
   ]
  },
  {
   "cell_type": "markdown",
   "metadata": {},
   "source": [
    "Предоставлены данные по 16 признакам, в том числе 7 целочисленным числовым, 6 категориальным и 3 типа дата/время (они потребуют приведения типа, хотя для целей исследования данные в этих столбцах не выглядят значимыми). Заголовки колонок удовлетворительны.\n",
    "\n",
    "Категории `NotRepaired`, `VehicleType`, `FuelType`, `Gearbox` и `Model` имеют значительное количество пропусков (от 5% до 20% от общего количества наблюдений). Также присутствуют нулевые значения в числовых признаках `Price`, `Power`, `RegistrationMonth`, не имеющие физического смысла, и очевидно, тоже свидетельствующие о пропущенных данных. Столбец `NumberOfPictures` содержит только нули - по-видимому, в текущей версии учета он никак не используется.\n",
    "\n",
    "Кроме того, сразу заметны некорректые значения некоторых числовых признаков (например, 1000 и 9999 годы или 20000 л.с. мощности).\n",
    "\n",
    "В наличии 4 дублированных строки, учитывая совпадения вплоть до дат, их следует трактовать как повторы и исключить из выборки."
   ]
  },
  {
   "cell_type": "markdown",
   "metadata": {},
   "source": [
    "### Анализ данных"
   ]
  },
  {
   "cell_type": "code",
   "execution_count": 10,
   "metadata": {},
   "outputs": [],
   "source": [
    "translations = {\n",
    "                    'Price':'Цена, евро',\n",
    "                    'Power':'Мощность двигателя, л.с.',\n",
    "                    'RegistrationYear':'Год выпуска',\n",
    "               }\n",
    "\n",
    "def visualize(column, xlim=(0)):\n",
    "    xlabel = translations[column]\n",
    "    fig, axes = plt.subplots(1, 2, figsize=(16,7))\n",
    "    \n",
    "    sns.distplot (df[column], ax=axes[0], bins='auto', kde=False)\n",
    "    \n",
    "    axes[0].set (title='Гистограмма', xlabel=xlabel, ylabel='Наблюдений, шт.', xlim=xlim);\n",
    "    sns.violinplot (data=df, ax=axes[1], x=column)\n",
    "    axes[1].set (title='Плотность и размах', xlabel=xlabel, xlim=xlim);"
   ]
  },
  {
   "cell_type": "markdown",
   "metadata": {},
   "source": [
    "#### Разброс цен"
   ]
  },
  {
   "cell_type": "code",
   "execution_count": 11,
   "metadata": {},
   "outputs": [
    {
     "data": {
      "image/png": "[encoded data removed]",
      "text/plain": [
       "<Figure size 1152x504 with 2 Axes>"
      ]
     },
     "metadata": {
      "needs_background": "light"
     },
     "output_type": "display_data"
    }
   ],
   "source": [
    "visualize('Price')"
   ]
  },
  {
   "cell_type": "markdown",
   "metadata": {},
   "source": [
    "Цены в нашем датасете разбросаны от 0 до 20000 евро, основная часть приходится на дешевые предложения: медианное значение всего лишь 2700 евро, а 75% ценников не превосходят 6400. Выбросы в основном приходятся на круглые цифры, что вполне ожидаемо.\n",
    "\n",
    "Однако у нас много нулевых и околонулевых значений, что ставит серьезную задачу о том, где проводить границу допустимого. С одной стороны, цена в 1 или 10 евро выглядит неправдоподобно, с другой - 100 евро за сильно подержанную машину в некоторых странах - вполне реальная цена, кроме того, в базе могут присутствовать, например, мотороллеры. Наконец, не оговаривается, что машина должна быть на ходу."
   ]
  },
  {
   "cell_type": "code",
   "execution_count": 12,
   "metadata": {},
   "outputs": [
    {
     "data": {
      "text/plain": [
       "0.05      200.0\n",
       "0.95    14600.0\n",
       "Name: Price, dtype: float64"
      ]
     },
     "execution_count": 12,
     "metadata": {},
     "output_type": "execute_result"
    }
   ],
   "source": [
    "df['Price'].quantile([.05, 0.95])"
   ]
  },
  {
   "cell_type": "markdown",
   "metadata": {},
   "source": [
    "90% значений лежит в диапазоне от 200 до 14600 евро, пока примем это к сведению и обратимся к другим данным."
   ]
  },
  {
   "cell_type": "markdown",
   "metadata": {},
   "source": [
    "#### Марка и модель авто"
   ]
  },
  {
   "cell_type": "code",
   "execution_count": 13,
   "metadata": {},
   "outputs": [
    {
     "data": {
      "text/html": [
       "<div>\n",
       "<style scoped>\n",
       "    .dataframe tbody tr th:only-of-type {\n",
       "        vertical-align: middle;\n",
       "    }\n",
       "\n",
       "    .dataframe tbody tr th {\n",
       "        vertical-align: top;\n",
       "    }\n",
       "\n",
       "    .dataframe thead th {\n",
       "        text-align: right;\n",
       "    }\n",
       "</style>\n",
       "<table border=\"1\" class=\"dataframe\">\n",
       "  <thead>\n",
       "    <tr style=\"text-align: right;\">\n",
       "      <th></th>\n",
       "      <th>count</th>\n",
       "      <th>mean</th>\n",
       "      <th>median</th>\n",
       "    </tr>\n",
       "    <tr>\n",
       "      <th>Brand</th>\n",
       "      <th></th>\n",
       "      <th></th>\n",
       "      <th></th>\n",
       "    </tr>\n",
       "  </thead>\n",
       "  <tbody>\n",
       "    <tr>\n",
       "      <td>porsche</td>\n",
       "      <td>758.0</td>\n",
       "      <td>10994.670185</td>\n",
       "      <td>11900.0</td>\n",
       "    </tr>\n",
       "    <tr>\n",
       "      <td>mini</td>\n",
       "      <td>3202.0</td>\n",
       "      <td>8992.646159</td>\n",
       "      <td>8200.0</td>\n",
       "    </tr>\n",
       "    <tr>\n",
       "      <td>land_rover</td>\n",
       "      <td>545.0</td>\n",
       "      <td>8429.365138</td>\n",
       "      <td>7000.0</td>\n",
       "    </tr>\n",
       "    <tr>\n",
       "      <td>jeep</td>\n",
       "      <td>677.0</td>\n",
       "      <td>7065.096012</td>\n",
       "      <td>5900.0</td>\n",
       "    </tr>\n",
       "    <tr>\n",
       "      <td>jaguar</td>\n",
       "      <td>505.0</td>\n",
       "      <td>6685.538614</td>\n",
       "      <td>4990.0</td>\n",
       "    </tr>\n",
       "    <tr>\n",
       "      <td>audi</td>\n",
       "      <td>29456.0</td>\n",
       "      <td>6239.976507</td>\n",
       "      <td>4600.0</td>\n",
       "    </tr>\n",
       "    <tr>\n",
       "      <td>bmw</td>\n",
       "      <td>36914.0</td>\n",
       "      <td>6162.214661</td>\n",
       "      <td>4799.0</td>\n",
       "    </tr>\n",
       "    <tr>\n",
       "      <td>mercedes_benz</td>\n",
       "      <td>32046.0</td>\n",
       "      <td>5910.507614</td>\n",
       "      <td>4250.0</td>\n",
       "    </tr>\n",
       "    <tr>\n",
       "      <td>skoda</td>\n",
       "      <td>5500.0</td>\n",
       "      <td>5909.606727</td>\n",
       "      <td>4800.0</td>\n",
       "    </tr>\n",
       "    <tr>\n",
       "      <td>dacia</td>\n",
       "      <td>900.0</td>\n",
       "      <td>5839.654444</td>\n",
       "      <td>4800.0</td>\n",
       "    </tr>\n",
       "    <tr>\n",
       "      <td>chevrolet</td>\n",
       "      <td>1754.0</td>\n",
       "      <td>5639.312429</td>\n",
       "      <td>4000.0</td>\n",
       "    </tr>\n",
       "    <tr>\n",
       "      <td>hyundai</td>\n",
       "      <td>3587.0</td>\n",
       "      <td>5108.007248</td>\n",
       "      <td>3850.0</td>\n",
       "    </tr>\n",
       "    <tr>\n",
       "      <td>sonstige_autos</td>\n",
       "      <td>3374.0</td>\n",
       "      <td>5026.058684</td>\n",
       "      <td>2999.0</td>\n",
       "    </tr>\n",
       "    <tr>\n",
       "      <td>kia</td>\n",
       "      <td>2465.0</td>\n",
       "      <td>4981.772414</td>\n",
       "      <td>3400.0</td>\n",
       "    </tr>\n",
       "    <tr>\n",
       "      <td>toyota</td>\n",
       "      <td>4606.0</td>\n",
       "      <td>4771.252063</td>\n",
       "      <td>3999.0</td>\n",
       "    </tr>\n",
       "    <tr>\n",
       "      <td>volkswagen</td>\n",
       "      <td>77013.0</td>\n",
       "      <td>4381.277070</td>\n",
       "      <td>2699.0</td>\n",
       "    </tr>\n",
       "    <tr>\n",
       "      <td>volvo</td>\n",
       "      <td>3210.0</td>\n",
       "      <td>4266.457632</td>\n",
       "      <td>2374.5</td>\n",
       "    </tr>\n",
       "    <tr>\n",
       "      <td>nissan</td>\n",
       "      <td>4941.0</td>\n",
       "      <td>4084.704311</td>\n",
       "      <td>1950.0</td>\n",
       "    </tr>\n",
       "    <tr>\n",
       "      <td>seat</td>\n",
       "      <td>6907.0</td>\n",
       "      <td>3997.564355</td>\n",
       "      <td>2500.0</td>\n",
       "    </tr>\n",
       "    <tr>\n",
       "      <td>suzuki</td>\n",
       "      <td>2323.0</td>\n",
       "      <td>3875.147654</td>\n",
       "      <td>2990.0</td>\n",
       "    </tr>\n",
       "    <tr>\n",
       "      <td>chrysler</td>\n",
       "      <td>1439.0</td>\n",
       "      <td>3710.838777</td>\n",
       "      <td>2200.0</td>\n",
       "    </tr>\n",
       "    <tr>\n",
       "      <td>subaru</td>\n",
       "      <td>762.0</td>\n",
       "      <td>3698.850394</td>\n",
       "      <td>1670.0</td>\n",
       "    </tr>\n",
       "    <tr>\n",
       "      <td>alfa_romeo</td>\n",
       "      <td>2314.0</td>\n",
       "      <td>3697.622731</td>\n",
       "      <td>2200.0</td>\n",
       "    </tr>\n",
       "    <tr>\n",
       "      <td>saab</td>\n",
       "      <td>526.0</td>\n",
       "      <td>3668.102662</td>\n",
       "      <td>2394.5</td>\n",
       "    </tr>\n",
       "    <tr>\n",
       "      <td>honda</td>\n",
       "      <td>2817.0</td>\n",
       "      <td>3649.479233</td>\n",
       "      <td>2200.0</td>\n",
       "    </tr>\n",
       "    <tr>\n",
       "      <td>mazda</td>\n",
       "      <td>5615.0</td>\n",
       "      <td>3620.883526</td>\n",
       "      <td>2249.0</td>\n",
       "    </tr>\n",
       "    <tr>\n",
       "      <td>smart</td>\n",
       "      <td>5246.0</td>\n",
       "      <td>3487.832634</td>\n",
       "      <td>2800.0</td>\n",
       "    </tr>\n",
       "    <tr>\n",
       "      <td>citroen</td>\n",
       "      <td>5148.0</td>\n",
       "      <td>3467.194639</td>\n",
       "      <td>2497.0</td>\n",
       "    </tr>\n",
       "    <tr>\n",
       "      <td>ford</td>\n",
       "      <td>25179.0</td>\n",
       "      <td>3175.719846</td>\n",
       "      <td>1650.0</td>\n",
       "    </tr>\n",
       "    <tr>\n",
       "      <td>peugeot</td>\n",
       "      <td>10998.0</td>\n",
       "      <td>3111.897709</td>\n",
       "      <td>2200.0</td>\n",
       "    </tr>\n",
       "    <tr>\n",
       "      <td>lada</td>\n",
       "      <td>225.0</td>\n",
       "      <td>3037.444444</td>\n",
       "      <td>2500.0</td>\n",
       "    </tr>\n",
       "    <tr>\n",
       "      <td>mitsubishi</td>\n",
       "      <td>3022.0</td>\n",
       "      <td>2932.187624</td>\n",
       "      <td>1500.0</td>\n",
       "    </tr>\n",
       "    <tr>\n",
       "      <td>opel</td>\n",
       "      <td>39931.0</td>\n",
       "      <td>2730.767549</td>\n",
       "      <td>1500.0</td>\n",
       "    </tr>\n",
       "    <tr>\n",
       "      <td>fiat</td>\n",
       "      <td>9643.0</td>\n",
       "      <td>2694.944830</td>\n",
       "      <td>1500.0</td>\n",
       "    </tr>\n",
       "    <tr>\n",
       "      <td>lancia</td>\n",
       "      <td>471.0</td>\n",
       "      <td>2351.031847</td>\n",
       "      <td>1111.0</td>\n",
       "    </tr>\n",
       "    <tr>\n",
       "      <td>renault</td>\n",
       "      <td>17927.0</td>\n",
       "      <td>2269.627210</td>\n",
       "      <td>1300.0</td>\n",
       "    </tr>\n",
       "    <tr>\n",
       "      <td>daihatsu</td>\n",
       "      <td>806.0</td>\n",
       "      <td>1693.656328</td>\n",
       "      <td>999.0</td>\n",
       "    </tr>\n",
       "    <tr>\n",
       "      <td>trabant</td>\n",
       "      <td>589.0</td>\n",
       "      <td>1617.499151</td>\n",
       "      <td>900.0</td>\n",
       "    </tr>\n",
       "    <tr>\n",
       "      <td>rover</td>\n",
       "      <td>486.0</td>\n",
       "      <td>1316.524691</td>\n",
       "      <td>949.0</td>\n",
       "    </tr>\n",
       "    <tr>\n",
       "      <td>daewoo</td>\n",
       "      <td>542.0</td>\n",
       "      <td>1017.811808</td>\n",
       "      <td>999.0</td>\n",
       "    </tr>\n",
       "  </tbody>\n",
       "</table>\n",
       "</div>"
      ],
      "text/plain": [
       "                  count          mean   median\n",
       "Brand                                         \n",
       "porsche           758.0  10994.670185  11900.0\n",
       "mini             3202.0   8992.646159   8200.0\n",
       "land_rover        545.0   8429.365138   7000.0\n",
       "jeep              677.0   7065.096012   5900.0\n",
       "jaguar            505.0   6685.538614   4990.0\n",
       "audi            29456.0   6239.976507   4600.0\n",
       "bmw             36914.0   6162.214661   4799.0\n",
       "mercedes_benz   32046.0   5910.507614   4250.0\n",
       "skoda            5500.0   5909.606727   4800.0\n",
       "dacia             900.0   5839.654444   4800.0\n",
       "chevrolet        1754.0   5639.312429   4000.0\n",
       "hyundai          3587.0   5108.007248   3850.0\n",
       "sonstige_autos   3374.0   5026.058684   2999.0\n",
       "kia              2465.0   4981.772414   3400.0\n",
       "toyota           4606.0   4771.252063   3999.0\n",
       "volkswagen      77013.0   4381.277070   2699.0\n",
       "volvo            3210.0   4266.457632   2374.5\n",
       "nissan           4941.0   4084.704311   1950.0\n",
       "seat             6907.0   3997.564355   2500.0\n",
       "suzuki           2323.0   3875.147654   2990.0\n",
       "chrysler         1439.0   3710.838777   2200.0\n",
       "subaru            762.0   3698.850394   1670.0\n",
       "alfa_romeo       2314.0   3697.622731   2200.0\n",
       "saab              526.0   3668.102662   2394.5\n",
       "honda            2817.0   3649.479233   2200.0\n",
       "mazda            5615.0   3620.883526   2249.0\n",
       "smart            5246.0   3487.832634   2800.0\n",
       "citroen          5148.0   3467.194639   2497.0\n",
       "ford            25179.0   3175.719846   1650.0\n",
       "peugeot         10998.0   3111.897709   2200.0\n",
       "lada              225.0   3037.444444   2500.0\n",
       "mitsubishi       3022.0   2932.187624   1500.0\n",
       "opel            39931.0   2730.767549   1500.0\n",
       "fiat             9643.0   2694.944830   1500.0\n",
       "lancia            471.0   2351.031847   1111.0\n",
       "renault         17927.0   2269.627210   1300.0\n",
       "daihatsu          806.0   1693.656328    999.0\n",
       "trabant           589.0   1617.499151    900.0\n",
       "rover             486.0   1316.524691    949.0\n",
       "daewoo            542.0   1017.811808    999.0"
      ]
     },
     "execution_count": 13,
     "metadata": {},
     "output_type": "execute_result"
    }
   ],
   "source": [
    "brand_pivot = df.pivot_table(index='Brand', values='Price', aggfunc={'count','mean','median'})\n",
    "brand_pivot.sort_values(by='mean', ascending=False)"
   ]
  },
  {
   "cell_type": "markdown",
   "metadata": {},
   "source": [
    "Бренды выглядят корректно (Sonstige Аutos - буквально \"прочие автомобили\" по-немецки, но для моделирования язык не имеет значения), кроме того, зависимость цены от производителя налицо. Это определенно важные данные."
   ]
  },
  {
   "cell_type": "code",
   "execution_count": 14,
   "metadata": {},
   "outputs": [
    {
     "data": {
      "text/plain": [
       "Brand\n",
       "alfa_romeo                                                         [156, 147, nan, spider, 159, other, 145]\n",
       "audi                             [nan, a8, a4, a1, tt, a6, 80, 100, a3, a2, a5, other, 90, q7, q3, 200, q5]\n",
       "bmw                                    [3er, 5er, 1er, 7er, z_reihe, nan, 6er, other, x_reihe, m_reihe, i3]\n",
       "chevrolet                                                         [other, matiz, nan, spark, captiva, aveo]\n",
       "chrysler                                           [other, ptcruiser, crossfire, 300c, grand, voyager, nan]\n",
       "citroen                                                          [c4, berlingo, c1, other, c3, c5, nan, c2]\n",
       "dacia                                                           [logan, duster, sandero, lodgy, nan, other]\n",
       "daewoo                                                            [lanos, kalos, matiz, other, nubira, nan]\n",
       "daihatsu                                        [cuore, sirion, other, charade, move, nan, terios, materia]\n",
       "fiat                          [punto, nan, other, panda, seicento, 500, stilo, ducato, bravo, croma, doblo]\n",
       "ford              [c_max, ka, fiesta, escort, focus, mustang, mondeo, s_max, galaxy, other, transit, nan...\n",
       "honda                                                           [civic, other, jazz, accord, cr_reihe, nan]\n",
       "hyundai                                                          [other, getz, i_reihe, santa, nan, tucson]\n",
       "jaguar                                                                         [other, x_type, s_type, nan]\n",
       "jeep                                                                [grand, wrangler, cherokee, other, nan]\n",
       "kia                                           [sportage, sorento, ceed, rio, other, picanto, nan, carnival]\n",
       "lada                                                                     [other, samara, niva, nan, kalina]\n",
       "lancia                                         [other, ypsilon, lybra, nan, musa, delta, elefantino, kappa]\n",
       "land_rover        [discovery, freelander, defender, nan, range_rover, serie_2, range_rover_sport, other,...\n",
       "mazda                        [3_reihe, other, 6_reihe, 5_reihe, rx_reihe, 1_reihe, mx_reihe, nan, cx_reihe]\n",
       "mercedes_benz     [a_klasse, other, e_klasse, b_klasse, c_klasse, vito, sprinter, slk, viano, s_klasse, ...\n",
       "mini                                                                     [one, cooper, other, clubman, nan]\n",
       "mitsubishi                                   [other, colt, nan, carisma, galant, lancer, pajero, outlander]\n",
       "nissan                           [navara, micra, almera, other, primera, juke, qashqai, nan, x_trail, note]\n",
       "opel              [meriva, kadett, corsa, signum, astra, other, insignia, combo, omega, zafira, vectra, ...\n",
       "peugeot                                           [2_reihe, 3_reihe, nan, other, 4_reihe, 1_reihe, 5_reihe]\n",
       "porsche                                                                 [other, boxster, cayenne, 911, nan]\n",
       "renault                      [twingo, clio, kangoo, scenic, nan, megane, r19, espace, modus, other, laguna]\n",
       "rover                                             [other, discovery, nan, rangerover, freelander, defender]\n",
       "saab                                                                                [nan, other, 900, 9000]\n",
       "seat                          [arosa, other, ibiza, cordoba, mii, leon, exeo, alhambra, nan, toledo, altea]\n",
       "skoda                                          [fabia, yeti, octavia, roomster, other, nan, superb, citigo]\n",
       "smart                                                               [fortwo, nan, other, roadster, forfour]\n",
       "sonstige_autos                                                                                        [nan]\n",
       "subaru                                                       [forester, impreza, justy, legacy, other, nan]\n",
       "suzuki                                                                    [other, grand, swift, nan, jimny]\n",
       "toyota                                       [other, avensis, nan, corolla, verso, rav, yaris, aygo, auris]\n",
       "trabant                                                                                   [nan, other, 601]\n",
       "volkswagen        [golf, other, passat, polo, scirocco, transporter, jetta, nan, eos, touran, lupo, cadd...\n",
       "volvo                                         [xc_reihe, v40, nan, v50, other, c_reihe, v70, s60, 850, v60]\n",
       "Name: unique, dtype: object"
      ]
     },
     "execution_count": 14,
     "metadata": {},
     "output_type": "execute_result"
    }
   ],
   "source": [
    "model_pivot = df.pivot_table(index='Brand', values='Model', aggfunc={'unique'})\n",
    "model_pivot['unique']"
   ]
  },
  {
   "cell_type": "markdown",
   "metadata": {},
   "source": [
    "Среди моделей около 5,5% пропусков, в остальном они выглядят достаточно корректно. Зависимость стоимости от модели достаточно очевидна: в рамках одного бренда могут выпускаться как люксовые, так и бюджетные автомобили, кроме того, есть модели старые и новые:"
   ]
  },
  {
   "cell_type": "code",
   "execution_count": 15,
   "metadata": {},
   "outputs": [
    {
     "data": {
      "text/html": [
       "<div>\n",
       "<style scoped>\n",
       "    .dataframe tbody tr th:only-of-type {\n",
       "        vertical-align: middle;\n",
       "    }\n",
       "\n",
       "    .dataframe tbody tr th {\n",
       "        vertical-align: top;\n",
       "    }\n",
       "\n",
       "    .dataframe thead th {\n",
       "        text-align: right;\n",
       "    }\n",
       "</style>\n",
       "<table border=\"1\" class=\"dataframe\">\n",
       "  <thead>\n",
       "    <tr style=\"text-align: right;\">\n",
       "      <th></th>\n",
       "      <th></th>\n",
       "      <th>mean</th>\n",
       "      <th>median</th>\n",
       "    </tr>\n",
       "    <tr>\n",
       "      <th>Brand</th>\n",
       "      <th>Model</th>\n",
       "      <th></th>\n",
       "      <th></th>\n",
       "    </tr>\n",
       "  </thead>\n",
       "  <tbody>\n",
       "    <tr>\n",
       "      <td rowspan=\"10\" valign=\"top\">fiat</td>\n",
       "      <td>500</td>\n",
       "      <td>7702.017391</td>\n",
       "      <td>7500.0</td>\n",
       "    </tr>\n",
       "    <tr>\n",
       "      <td>bravo</td>\n",
       "      <td>2661.419940</td>\n",
       "      <td>1550.0</td>\n",
       "    </tr>\n",
       "    <tr>\n",
       "      <td>croma</td>\n",
       "      <td>3980.266667</td>\n",
       "      <td>3500.0</td>\n",
       "    </tr>\n",
       "    <tr>\n",
       "      <td>doblo</td>\n",
       "      <td>3578.129231</td>\n",
       "      <td>2900.0</td>\n",
       "    </tr>\n",
       "    <tr>\n",
       "      <td>ducato</td>\n",
       "      <td>3850.754023</td>\n",
       "      <td>2999.0</td>\n",
       "    </tr>\n",
       "    <tr>\n",
       "      <td>other</td>\n",
       "      <td>2851.624371</td>\n",
       "      <td>1899.0</td>\n",
       "    </tr>\n",
       "    <tr>\n",
       "      <td>panda</td>\n",
       "      <td>3102.130178</td>\n",
       "      <td>2950.0</td>\n",
       "    </tr>\n",
       "    <tr>\n",
       "      <td>punto</td>\n",
       "      <td>1637.711383</td>\n",
       "      <td>1000.0</td>\n",
       "    </tr>\n",
       "    <tr>\n",
       "      <td>seicento</td>\n",
       "      <td>814.094030</td>\n",
       "      <td>750.0</td>\n",
       "    </tr>\n",
       "    <tr>\n",
       "      <td>stilo</td>\n",
       "      <td>1600.917081</td>\n",
       "      <td>1500.0</td>\n",
       "    </tr>\n",
       "  </tbody>\n",
       "</table>\n",
       "</div>"
      ],
      "text/plain": [
       "                       mean  median\n",
       "Brand Model                        \n",
       "fiat  500       7702.017391  7500.0\n",
       "      bravo     2661.419940  1550.0\n",
       "      croma     3980.266667  3500.0\n",
       "      doblo     3578.129231  2900.0\n",
       "      ducato    3850.754023  2999.0\n",
       "      other     2851.624371  1899.0\n",
       "      panda     3102.130178  2950.0\n",
       "      punto     1637.711383  1000.0\n",
       "      seicento   814.094030   750.0\n",
       "      stilo     1600.917081  1500.0"
      ]
     },
     "execution_count": 15,
     "metadata": {},
     "output_type": "execute_result"
    }
   ],
   "source": [
    "df.pivot_table(index=['Brand','Model'], values='Price', aggfunc={'mean','median'}).query('Brand == \"fiat\"')"
   ]
  },
  {
   "cell_type": "markdown",
   "metadata": {},
   "source": [
    "Подготовим функцию для обработки пропусков в столбце: у нас уже есть значение *other*, так что воспользуемся им."
   ]
  },
  {
   "cell_type": "code",
   "execution_count": 16,
   "metadata": {},
   "outputs": [],
   "source": [
    "def fill_with_other(df, columns):\n",
    "    df[columns] = df[columns].fillna('other')\n",
    "    return df"
   ]
  },
  {
   "cell_type": "markdown",
   "metadata": {},
   "source": [
    "#### Датировка"
   ]
  },
  {
   "cell_type": "code",
   "execution_count": 17,
   "metadata": {},
   "outputs": [
    {
     "data": {
      "image/png": "[encoded data removed]",
      "text/plain": [
       "<Figure size 1152x504 with 2 Axes>"
      ]
     },
     "metadata": {
      "needs_background": "light"
     },
     "output_type": "display_data"
    }
   ],
   "source": [
    "visualize('RegistrationYear', xlim=(1980, 2020))"
   ]
  },
  {
   "cell_type": "markdown",
   "metadata": {},
   "source": [
    "Диграмма размаха простирается с 1986 по 2019 год, пик предложений приходится на 2000 и 2005 годы.\n",
    "\n",
    "Отметим ненормальный всплеск на 2016-2019 годах - при этом датасет сформирован в начале 2016 года:"
   ]
  },
  {
   "cell_type": "code",
   "execution_count": 18,
   "metadata": {},
   "outputs": [
    {
     "data": {
      "text/plain": [
       "Timestamp('2016-04-07 14:36:58')"
      ]
     },
     "execution_count": 18,
     "metadata": {},
     "output_type": "execute_result"
    }
   ],
   "source": [
    "pd.to_datetime(df['DateCrawled']).max()"
   ]
  },
  {
   "cell_type": "markdown",
   "metadata": {},
   "source": [
    "В то же время средняя цена в этом периоде сильно ниже, чем за предшествующие годы. Подобных событий на реальном рынке не наблюдалось. Можно с уверенностью заключить, что перед нами ошибка в данных. Возможно, некоторые цифры месяца попали в год, но почему именно такие - не вполне ясно."
   ]
  },
  {
   "cell_type": "code",
   "execution_count": 19,
   "metadata": {},
   "outputs": [
    {
     "data": {
      "image/png": "[encoded data removed]",
      "text/plain": [
       "<Figure size 720x432 with 1 Axes>"
      ]
     },
     "metadata": {
      "needs_background": "light"
     },
     "output_type": "display_data"
    }
   ],
   "source": [
    "year_pivot = df.pivot_table(index='RegistrationYear', values='Price', aggfunc={'mean','median'})\n",
    "year_pivot.plot(kind='line', rot=45, figsize=(10,6)).set(xlim=(2000,2019), xlabel='Год регистрации',\n",
    "                                                         ylabel='Цена, евро', xticks=range(2000, 2020),\n",
    "                                                         title='Средние цены по годам');"
   ]
  },
  {
   "cell_type": "markdown",
   "metadata": {},
   "source": [
    "На аномальный период приходится около 7% наблюдений."
   ]
  },
  {
   "cell_type": "code",
   "execution_count": 20,
   "metadata": {
    "scrolled": true
   },
   "outputs": [
    {
     "data": {
      "text/plain": [
       "0.06809004173615638"
      ]
     },
     "execution_count": 20,
     "metadata": {},
     "output_type": "execute_result"
    }
   ],
   "source": [
    "len(df.query('RegistrationYear > 2015')) / len(df)"
   ]
  },
  {
   "cell_type": "markdown",
   "metadata": {},
   "source": [
    "Посмотрим теперь на месяцы:"
   ]
  },
  {
   "cell_type": "code",
   "execution_count": 21,
   "metadata": {},
   "outputs": [
    {
     "data": {
      "image/png": "[encoded data removed]",
      "text/plain": [
       "<Figure size 864x432 with 1 Axes>"
      ]
     },
     "metadata": {
      "needs_background": "light"
     },
     "output_type": "display_data"
    }
   ],
   "source": [
    "month_pivot=df.pivot_table(index='RegistrationMonth', values='Price', aggfunc={'mean','median'})\n",
    "month_pivot.reset_index().plot(kind='bar', x='RegistrationMonth', figsize=(12,6), width=0.8).set(title='Средняя цена по месяцам', xlabel='Месяц', ylabel='Цена, евро');"
   ]
  },
  {
   "cell_type": "markdown",
   "metadata": {},
   "source": [
    "Записи, отмеченные нулевым месяцем, характеризуются аномально низкой средней ценой - меньше половины от нормы. Распределение по другим месяцам достаточно равномерное, с разбросом в несколько процентов. С точки зрения здравого смысла, месяц регистрации ТС не должен иметь сколько-нибудь серьезного влияния на его цену. Нулевое значение, возможно, имеет какой-то особый смысл, для нас утерянный. С точки зрения поставленной задачи, на вход калькулятора скорее всего будут подаваться корректные данные, и сохранять нулевой месяц не имеет смысла. Таких строк, однако, более 10%:"
   ]
  },
  {
   "cell_type": "code",
   "execution_count": 22,
   "metadata": {},
   "outputs": [
    {
     "data": {
      "text/plain": [
       "0.10540425375808832"
      ]
     },
     "execution_count": 22,
     "metadata": {},
     "output_type": "execute_result"
    }
   ],
   "source": [
    "len(df.query('RegistrationMonth ==0')) / len(df)"
   ]
  },
  {
   "cell_type": "markdown",
   "metadata": {},
   "source": [
    "Сохраним эти условия для отсеивания подозрительных данных, кроме того, не будем рассматривать модели до 1930 года:"
   ]
  },
  {
   "cell_type": "code",
   "execution_count": 23,
   "metadata": {},
   "outputs": [],
   "source": [
    "sane_dates =(df['RegistrationYear'] > 1930) & (df['RegistrationYear'] < 2016) & (df['RegistrationMonth'] != 0)"
   ]
  },
  {
   "cell_type": "markdown",
   "metadata": {},
   "source": [
    "#### Мощность двигателя"
   ]
  },
  {
   "cell_type": "code",
   "execution_count": 24,
   "metadata": {
    "scrolled": false
   },
   "outputs": [
    {
     "data": {
      "image/png": "[encoded data removed]",
      "text/plain": [
       "<Figure size 1152x504 with 2 Axes>"
      ]
     },
     "metadata": {
      "needs_background": "light"
     },
     "output_type": "display_data"
    }
   ],
   "source": [
    "visualize('Power', xlim=(20,400))"
   ]
  },
  {
   "cell_type": "markdown",
   "metadata": {},
   "source": [
    "Визуализация не слишком информативная: распределение чересчур неравномерно. Тем не менее, диаграмма размаха покрывает диапазон от 0 до 250 л.с., хотя нулевая мощность, понятно, не имеет смысла, а машины в 300 и более л.с. не так уж и редки в наши дни. Разумная нижняя граница опять же достаточно размыта - фиат500 в свое время имел двигатель  всего в 13 л.с., бывают и мотоколяски с мощностью еще ниже."
   ]
  },
  {
   "cell_type": "code",
   "execution_count": 25,
   "metadata": {},
   "outputs": [
    {
     "data": {
      "image/png": "[encoded data removed]",
      "text/plain": [
       "<Figure size 720x432 with 1 Axes>"
      ]
     },
     "metadata": {
      "needs_background": "light"
     },
     "output_type": "display_data"
    }
   ],
   "source": [
    "power_pivot = df.pivot_table(index='Power', values='Price', aggfunc='mean')\n",
    "power_pivot.reset_index().plot(kind='scatter', x='Power', y='Price', xlim=(0,400), figsize=(10,6)).set(title='Зависимость средней цены от мощности', xlabel='Мощность, л.с.', ylabel='Цена, евро');"
   ]
  },
  {
   "cell_type": "markdown",
   "metadata": {},
   "source": [
    "В значимом промежутке, как и следовало ожидать, прослеживается достаточно линейная зависимость усредненной цены автомобиля от мощности мотора. Это однозначно важный признак."
   ]
  },
  {
   "cell_type": "code",
   "execution_count": 26,
   "metadata": {},
   "outputs": [
    {
     "data": {
      "text/plain": [
       "0.11351162206626426"
      ]
     },
     "execution_count": 26,
     "metadata": {},
     "output_type": "execute_result"
    }
   ],
   "source": [
    "len(df.query('Power == 0')) / len(df)"
   ]
  },
  {
   "cell_type": "markdown",
   "metadata": {},
   "source": [
    "В столбце `Power` порядка 11% нулевых значений. Заполнение пропусков в признаке, к сожалению, не представляется возможным: даже при совпадении модели, кузова и года значения могут довольно сильно отличаться, что ставит о вопрос о качестве даже заполненных данных:"
   ]
  },
  {
   "cell_type": "code",
   "execution_count": 27,
   "metadata": {},
   "outputs": [
    {
     "data": {
      "text/html": [
       "<div>\n",
       "<style scoped>\n",
       "    .dataframe tbody tr th:only-of-type {\n",
       "        vertical-align: middle;\n",
       "    }\n",
       "\n",
       "    .dataframe tbody tr th {\n",
       "        vertical-align: top;\n",
       "    }\n",
       "\n",
       "    .dataframe thead th {\n",
       "        text-align: right;\n",
       "    }\n",
       "</style>\n",
       "<table border=\"1\" class=\"dataframe\">\n",
       "  <thead>\n",
       "    <tr style=\"text-align: right;\">\n",
       "      <th></th>\n",
       "      <th></th>\n",
       "      <th></th>\n",
       "      <th></th>\n",
       "      <th>min</th>\n",
       "      <th>max</th>\n",
       "      <th>mode</th>\n",
       "    </tr>\n",
       "    <tr>\n",
       "      <th>Brand</th>\n",
       "      <th>Model</th>\n",
       "      <th>VehicleType</th>\n",
       "      <th>RegistrationYear</th>\n",
       "      <th></th>\n",
       "      <th></th>\n",
       "      <th></th>\n",
       "    </tr>\n",
       "  </thead>\n",
       "  <tbody>\n",
       "    <tr>\n",
       "      <td rowspan=\"5\" valign=\"top\">alfa_romeo</td>\n",
       "      <td rowspan=\"5\" valign=\"top\">145</td>\n",
       "      <td>coupe</td>\n",
       "      <td>1999</td>\n",
       "      <td>0</td>\n",
       "      <td>103</td>\n",
       "      <td>0</td>\n",
       "    </tr>\n",
       "    <tr>\n",
       "      <td>other</td>\n",
       "      <td>1995</td>\n",
       "      <td>100</td>\n",
       "      <td>100</td>\n",
       "      <td>100</td>\n",
       "    </tr>\n",
       "    <tr>\n",
       "      <td rowspan=\"3\" valign=\"top\">sedan</td>\n",
       "      <td>1995</td>\n",
       "      <td>90</td>\n",
       "      <td>90</td>\n",
       "      <td>90</td>\n",
       "    </tr>\n",
       "    <tr>\n",
       "      <td>1997</td>\n",
       "      <td>140</td>\n",
       "      <td>140</td>\n",
       "      <td>140</td>\n",
       "    </tr>\n",
       "    <tr>\n",
       "      <td>1998</td>\n",
       "      <td>119</td>\n",
       "      <td>227</td>\n",
       "      <td>119</td>\n",
       "    </tr>\n",
       "    <tr>\n",
       "      <td>...</td>\n",
       "      <td>...</td>\n",
       "      <td>...</td>\n",
       "      <td>...</td>\n",
       "      <td>...</td>\n",
       "      <td>...</td>\n",
       "      <td>...</td>\n",
       "    </tr>\n",
       "    <tr>\n",
       "      <td rowspan=\"5\" valign=\"top\">volvo</td>\n",
       "      <td rowspan=\"5\" valign=\"top\">xc_reihe</td>\n",
       "      <td rowspan=\"5\" valign=\"top\">wagon</td>\n",
       "      <td>2007</td>\n",
       "      <td>185</td>\n",
       "      <td>185</td>\n",
       "      <td>185</td>\n",
       "    </tr>\n",
       "    <tr>\n",
       "      <td>2008</td>\n",
       "      <td>185</td>\n",
       "      <td>185</td>\n",
       "      <td>185</td>\n",
       "    </tr>\n",
       "    <tr>\n",
       "      <td>2009</td>\n",
       "      <td>185</td>\n",
       "      <td>205</td>\n",
       "      <td>185</td>\n",
       "    </tr>\n",
       "    <tr>\n",
       "      <td>2010</td>\n",
       "      <td>163</td>\n",
       "      <td>163</td>\n",
       "      <td>163</td>\n",
       "    </tr>\n",
       "    <tr>\n",
       "      <td>2011</td>\n",
       "      <td>163</td>\n",
       "      <td>163</td>\n",
       "      <td>163</td>\n",
       "    </tr>\n",
       "  </tbody>\n",
       "</table>\n",
       "<p>13526 rows × 3 columns</p>\n",
       "</div>"
      ],
      "text/plain": [
       "                                                  min  max  mode\n",
       "Brand      Model    VehicleType RegistrationYear                \n",
       "alfa_romeo 145      coupe       1999                0  103     0\n",
       "                    other       1995              100  100   100\n",
       "                    sedan       1995               90   90    90\n",
       "                                1997              140  140   140\n",
       "                                1998              119  227   119\n",
       "...                                               ...  ...   ...\n",
       "volvo      xc_reihe wagon       2007              185  185   185\n",
       "                                2008              185  185   185\n",
       "                                2009              185  205   185\n",
       "                                2010              163  163   163\n",
       "                                2011              163  163   163\n",
       "\n",
       "[13526 rows x 3 columns]"
      ]
     },
     "execution_count": 27,
     "metadata": {},
     "output_type": "execute_result"
    }
   ],
   "source": [
    "df.groupby(['Brand', 'Model', 'VehicleType', 'RegistrationYear'])['Power'].agg(min='min', max='max', mode=lambda x: pd.Series.mode(x)[0])"
   ]
  },
  {
   "cell_type": "markdown",
   "metadata": {},
   "source": [
    "Корректировка всех данных по сути требует пересборки датасета и в данном случае нецелесообразна. В то же время с позиции поставленной задачи (калькулятор цены автомобиля требует лишь разумной оценки, а не идеальной точности) удаление нулевых строк выглядит приемлемым решением. Запишем это условие:"
   ]
  },
  {
   "cell_type": "code",
   "execution_count": 28,
   "metadata": {},
   "outputs": [],
   "source": [
    "sane_power =(df['Power'] > 0)"
   ]
  },
  {
   "cell_type": "markdown",
   "metadata": {},
   "source": [
    "#### Километраж"
   ]
  },
  {
   "cell_type": "code",
   "execution_count": 29,
   "metadata": {},
   "outputs": [
    {
     "data": {
      "text/plain": [
       "150000    238209\n",
       "125000     36454\n",
       "100000     14882\n",
       "90000      11567\n",
       "80000      10047\n",
       "70000       8593\n",
       "60000       7444\n",
       "5000        6397\n",
       "50000       6232\n",
       "40000       4911\n",
       "30000       4436\n",
       "20000       3975\n",
       "10000       1222\n",
       "Name: Kilometer, dtype: int64"
      ]
     },
     "execution_count": 29,
     "metadata": {},
     "output_type": "execute_result"
    }
   ],
   "source": [
    "df['Kilometer'].value_counts(dropna=False)"
   ]
  },
  {
   "cell_type": "markdown",
   "metadata": {},
   "source": [
    "Все значения пробега округлены, причем подавляющее большинство приходится на 150 тыс. км (видимо, подразумевается \"и более\")."
   ]
  },
  {
   "cell_type": "code",
   "execution_count": 30,
   "metadata": {},
   "outputs": [
    {
     "data": {
      "text/html": [
       "<div>\n",
       "<style scoped>\n",
       "    .dataframe tbody tr th:only-of-type {\n",
       "        vertical-align: middle;\n",
       "    }\n",
       "\n",
       "    .dataframe tbody tr th {\n",
       "        vertical-align: top;\n",
       "    }\n",
       "\n",
       "    .dataframe thead th {\n",
       "        text-align: right;\n",
       "    }\n",
       "</style>\n",
       "<table border=\"1\" class=\"dataframe\">\n",
       "  <thead>\n",
       "    <tr style=\"text-align: right;\">\n",
       "      <th></th>\n",
       "      <th>mean</th>\n",
       "      <th>median</th>\n",
       "    </tr>\n",
       "    <tr>\n",
       "      <th>Kilometer</th>\n",
       "      <th></th>\n",
       "      <th></th>\n",
       "    </tr>\n",
       "  </thead>\n",
       "  <tbody>\n",
       "    <tr>\n",
       "      <td>5000</td>\n",
       "      <td>3252.405436</td>\n",
       "      <td>1250.0</td>\n",
       "    </tr>\n",
       "    <tr>\n",
       "      <td>10000</td>\n",
       "      <td>9878.122164</td>\n",
       "      <td>9999.0</td>\n",
       "    </tr>\n",
       "    <tr>\n",
       "      <td>20000</td>\n",
       "      <td>8816.631222</td>\n",
       "      <td>8500.0</td>\n",
       "    </tr>\n",
       "    <tr>\n",
       "      <td>30000</td>\n",
       "      <td>9477.222761</td>\n",
       "      <td>8992.5</td>\n",
       "    </tr>\n",
       "    <tr>\n",
       "      <td>40000</td>\n",
       "      <td>9768.012974</td>\n",
       "      <td>9100.0</td>\n",
       "    </tr>\n",
       "    <tr>\n",
       "      <td>50000</td>\n",
       "      <td>9247.385666</td>\n",
       "      <td>8400.0</td>\n",
       "    </tr>\n",
       "    <tr>\n",
       "      <td>60000</td>\n",
       "      <td>8649.567648</td>\n",
       "      <td>7800.0</td>\n",
       "    </tr>\n",
       "    <tr>\n",
       "      <td>70000</td>\n",
       "      <td>8015.902979</td>\n",
       "      <td>6999.0</td>\n",
       "    </tr>\n",
       "    <tr>\n",
       "      <td>80000</td>\n",
       "      <td>7345.423737</td>\n",
       "      <td>6300.0</td>\n",
       "    </tr>\n",
       "    <tr>\n",
       "      <td>90000</td>\n",
       "      <td>6747.281464</td>\n",
       "      <td>5490.0</td>\n",
       "    </tr>\n",
       "    <tr>\n",
       "      <td>100000</td>\n",
       "      <td>6112.398449</td>\n",
       "      <td>4850.0</td>\n",
       "    </tr>\n",
       "    <tr>\n",
       "      <td>125000</td>\n",
       "      <td>5206.630446</td>\n",
       "      <td>3700.0</td>\n",
       "    </tr>\n",
       "    <tr>\n",
       "      <td>150000</td>\n",
       "      <td>3475.370301</td>\n",
       "      <td>2150.0</td>\n",
       "    </tr>\n",
       "  </tbody>\n",
       "</table>\n",
       "</div>"
      ],
      "text/plain": [
       "                  mean  median\n",
       "Kilometer                     \n",
       "5000       3252.405436  1250.0\n",
       "10000      9878.122164  9999.0\n",
       "20000      8816.631222  8500.0\n",
       "30000      9477.222761  8992.5\n",
       "40000      9768.012974  9100.0\n",
       "50000      9247.385666  8400.0\n",
       "60000      8649.567648  7800.0\n",
       "70000      8015.902979  6999.0\n",
       "80000      7345.423737  6300.0\n",
       "90000      6747.281464  5490.0\n",
       "100000     6112.398449  4850.0\n",
       "125000     5206.630446  3700.0\n",
       "150000     3475.370301  2150.0"
      ]
     },
     "execution_count": 30,
     "metadata": {},
     "output_type": "execute_result"
    }
   ],
   "source": [
    "df.query('Price>0').pivot_table(index='Kilometer', values='Price', aggfunc={'mean','median'})"
   ]
  },
  {
   "cell_type": "markdown",
   "metadata": {},
   "source": [
    "В целом средняя цена с ростом пробега, как и ожидается, падает. Аномально выглядит лишь категория с пробегом 5000 км (соответственно, видимо, \"и менее\") - она оказывается самой \"дешевой\". Это не обязательно ошибка - если на старом автомобиле не ездили, возможно, он неликвиден по тем или иным причинам. Без консультации специалиста разумнее пока сохранить эти значения."
   ]
  },
  {
   "cell_type": "markdown",
   "metadata": {},
   "source": [
    "#### Прочие характеристики"
   ]
  },
  {
   "cell_type": "code",
   "execution_count": 31,
   "metadata": {},
   "outputs": [
    {
     "data": {
      "text/plain": [
       "manual    268251\n",
       "auto       66285\n",
       "NaN        19833\n",
       "Name: Gearbox, dtype: int64"
      ]
     },
     "execution_count": 31,
     "metadata": {},
     "output_type": "execute_result"
    }
   ],
   "source": [
    "df['Gearbox'].value_counts(dropna=False)"
   ]
  },
  {
   "cell_type": "markdown",
   "metadata": {},
   "source": [
    "В ряде случаев не указан тип коробки передач. Представляется вполне разумным заполнить пропуски наиболее частым значением (ручная коробка)."
   ]
  },
  {
   "cell_type": "code",
   "execution_count": 32,
   "metadata": {},
   "outputs": [
    {
     "data": {
      "text/plain": [
       "no     247161\n",
       "NaN     71154\n",
       "yes     36054\n",
       "Name: NotRepaired, dtype: int64"
      ]
     },
     "execution_count": 32,
     "metadata": {},
     "output_type": "execute_result"
    }
   ],
   "source": [
    "df['NotRepaired'].value_counts(dropna=False)"
   ]
  },
  {
   "cell_type": "markdown",
   "metadata": {},
   "source": [
    "Большое количество пропусков в столбце `NotRepaired` ставит вопрос о трактовке признака:"
   ]
  },
  {
   "cell_type": "code",
   "execution_count": 33,
   "metadata": {},
   "outputs": [
    {
     "data": {
      "text/html": [
       "<div>\n",
       "<style scoped>\n",
       "    .dataframe tbody tr th:only-of-type {\n",
       "        vertical-align: middle;\n",
       "    }\n",
       "\n",
       "    .dataframe tbody tr th {\n",
       "        vertical-align: top;\n",
       "    }\n",
       "\n",
       "    .dataframe thead th {\n",
       "        text-align: right;\n",
       "    }\n",
       "</style>\n",
       "<table border=\"1\" class=\"dataframe\">\n",
       "  <thead>\n",
       "    <tr style=\"text-align: right;\">\n",
       "      <th></th>\n",
       "      <th>mean</th>\n",
       "      <th>median</th>\n",
       "    </tr>\n",
       "    <tr>\n",
       "      <th>NotRepaired</th>\n",
       "      <th></th>\n",
       "      <th></th>\n",
       "    </tr>\n",
       "  </thead>\n",
       "  <tbody>\n",
       "    <tr>\n",
       "      <td>no</td>\n",
       "      <td>5296.811135</td>\n",
       "      <td>3690.0</td>\n",
       "    </tr>\n",
       "    <tr>\n",
       "      <td>yes</td>\n",
       "      <td>1916.039080</td>\n",
       "      <td>900.0</td>\n",
       "    </tr>\n",
       "  </tbody>\n",
       "</table>\n",
       "</div>"
      ],
      "text/plain": [
       "                    mean  median\n",
       "NotRepaired                     \n",
       "no           5296.811135  3690.0\n",
       "yes          1916.039080   900.0"
      ]
     },
     "execution_count": 33,
     "metadata": {},
     "output_type": "execute_result"
    }
   ],
   "source": [
    "df.pivot_table(index='NotRepaired', values='Price', aggfunc={'mean', 'median'})"
   ]
  },
  {
   "cell_type": "markdown",
   "metadata": {},
   "source": [
    "Судя по распределению средних цен, признак следует понимать как то, что машина нуждается в ремонте - позиции со значением *yes* сильно дешевле. Заполнять пропуски более логично будет значением *no* - как правило, если машина не в исправности, это указывают явно."
   ]
  },
  {
   "cell_type": "code",
   "execution_count": 34,
   "metadata": {
    "scrolled": true
   },
   "outputs": [
    {
     "data": {
      "text/plain": [
       "petrol      216352\n",
       "gasoline     98720\n",
       "NaN          32895\n",
       "lpg           5310\n",
       "cng            565\n",
       "hybrid         233\n",
       "other          204\n",
       "electric        90\n",
       "Name: FuelType, dtype: int64"
      ]
     },
     "execution_count": 34,
     "metadata": {},
     "output_type": "execute_result"
    }
   ],
   "source": [
    "df['FuelType'].value_counts(dropna=False)"
   ]
  },
  {
   "cell_type": "markdown",
   "metadata": {},
   "source": [
    "Отметим, что *petrol* и *gasoline* в данном контексте - это одно и то же (бензиновый мотор). Подготовим функцию замены:"
   ]
  },
  {
   "cell_type": "code",
   "execution_count": 35,
   "metadata": {},
   "outputs": [],
   "source": [
    "def fix_fuel_types(df):\n",
    "    df['FuelType'] = df['FuelType'].replace('gasoline', 'petrol')\n",
    "    return df"
   ]
  },
  {
   "cell_type": "markdown",
   "metadata": {},
   "source": [
    "Остальные значения выглядят корректно, *lpg* и *cng* символизуют сжиженный газ и биогаз соответственно. Пропуски также представляется разумным заполнить модой (*petrol*)."
   ]
  },
  {
   "cell_type": "markdown",
   "metadata": {},
   "source": [
    "### Корректировка выбросов"
   ]
  },
  {
   "cell_type": "code",
   "execution_count": 36,
   "metadata": {},
   "outputs": [],
   "source": [
    "df_filtered = df[sane_dates & sane_power]"
   ]
  },
  {
   "cell_type": "markdown",
   "metadata": {},
   "source": [
    "Попробуем выделить границы выбросов для цены и мощности с помощью расстояния Махалонобиса (обобщение евклидова расстояния через матрицу ковариации). Это позволит учесть формы распределений этих двух параметров и их взаимозависимость, что должно дать несколько лучший результат, чем отсеивание по отдельным значениям признаков:"
   ]
  },
  {
   "cell_type": "code",
   "execution_count": 37,
   "metadata": {},
   "outputs": [],
   "source": [
    "outlier_space = ['Power','Price']\n",
    "\n",
    "# Вычислим матрицу ковариации:\n",
    "covariance = np.cov(df_filtered[outlier_space], rowvar=False)\n",
    "covariance_pm1 = np.linalg.matrix_power(covariance, -1)\n",
    "# Найдем центр распределения:\n",
    "center = np.mean(df_filtered[outlier_space], axis=0)"
   ]
  },
  {
   "cell_type": "code",
   "execution_count": 38,
   "metadata": {},
   "outputs": [],
   "source": [
    "def calc_distance(row):\n",
    "    return spatial.distance.mahalanobis(row, center, covariance_pm1)"
   ]
  },
  {
   "cell_type": "code",
   "execution_count": 39,
   "metadata": {},
   "outputs": [],
   "source": [
    "# Вычислим расстояния для каждого наблюдения:\n",
    "distance = df_filtered[outlier_space].apply(calc_distance, axis=1)"
   ]
  },
  {
   "cell_type": "markdown",
   "metadata": {},
   "source": [
    "Мы сохраним 80% наблюдений, это позволит задать нижнюю границу цены. Нашей целевой метрикой является RMSE, которая ввиду большого правого \"хвоста\" в распределении цен будет очевидным образом зависеть от заданной верхней границы цены. Чем больше высоких значений мы отсеем, тем ниже будет среднеквадратичная ошибка - скорее всего, ценой несколько большей относительной ошибки. С точки зрения задачи построения ценового калькулятора подбор оптимальной верхней границы - скорее совместная работа с разработчиками конечного приложения и отделом продаж. Здесь можно изменить этот параметр."
   ]
  },
  {
   "cell_type": "code",
   "execution_count": 40,
   "metadata": {},
   "outputs": [],
   "source": [
    "limit = distance.quantile(0.8)"
   ]
  },
  {
   "cell_type": "code",
   "execution_count": 41,
   "metadata": {},
   "outputs": [
    {
     "data": {
      "image/png": "[encoded data removed]",
      "text/plain": [
       "<Figure size 720x432 with 1 Axes>"
      ]
     },
     "metadata": {
      "needs_background": "light"
     },
     "output_type": "display_data"
    }
   ],
   "source": [
    "# Обрисуем границы выбросов\n",
    "pearson = covariance[0, 1]/np.sqrt(covariance[0, 0] * covariance[1, 1])\n",
    "ell_radius_x = np.sqrt(1 + pearson)\n",
    "ell_radius_y = np.sqrt(1 - pearson)\n",
    "lambda_, v = np.linalg.eig(covariance)\n",
    "lambda_ = np.sqrt(lambda_)\n",
    "ellipse = patches.Ellipse(xy=(center[0], center[1]),\n",
    "                  width=lambda_[0]*np.sqrt(limit)*2, height=lambda_[1]*np.sqrt(distance.quantile(0.8))*2,\n",
    "                  angle=np.rad2deg(np.arccos(v[0, 0])))\n",
    "ellipse.set_alpha(0.5)\n",
    "fig = plt.figure(figsize=(10,6))\n",
    "ax = plt.subplot()\n",
    "plt.scatter(power_pivot.reset_index()['Power'], power_pivot.reset_index()['Price']);\n",
    "ax.add_artist(ellipse)\n",
    "ax.set(xlim=(0,500),title='Разброс средней цены и мощности', xlabel='Мощность, л.с.', ylabel='Цена, евро');"
   ]
  },
  {
   "cell_type": "code",
   "execution_count": 42,
   "metadata": {},
   "outputs": [
    {
     "data": {
      "text/html": [
       "<div>\n",
       "<style scoped>\n",
       "    .dataframe tbody tr th:only-of-type {\n",
       "        vertical-align: middle;\n",
       "    }\n",
       "\n",
       "    .dataframe tbody tr th {\n",
       "        vertical-align: top;\n",
       "    }\n",
       "\n",
       "    .dataframe thead th {\n",
       "        text-align: right;\n",
       "    }\n",
       "</style>\n",
       "<table border=\"1\" class=\"dataframe\">\n",
       "  <thead>\n",
       "    <tr style=\"text-align: right;\">\n",
       "      <th></th>\n",
       "      <th>count</th>\n",
       "      <th>mean</th>\n",
       "      <th>std</th>\n",
       "      <th>min</th>\n",
       "      <th>25%</th>\n",
       "      <th>50%</th>\n",
       "      <th>75%</th>\n",
       "      <th>max</th>\n",
       "    </tr>\n",
       "  </thead>\n",
       "  <tbody>\n",
       "    <tr>\n",
       "      <td>Price</td>\n",
       "      <td>222564.0</td>\n",
       "      <td>3374.502673</td>\n",
       "      <td>2486.272210</td>\n",
       "      <td>142.0</td>\n",
       "      <td>1299.0</td>\n",
       "      <td>2699.0</td>\n",
       "      <td>4999.0</td>\n",
       "      <td>9800.0</td>\n",
       "    </tr>\n",
       "    <tr>\n",
       "      <td>RegistrationYear</td>\n",
       "      <td>222564.0</td>\n",
       "      <td>2001.801760</td>\n",
       "      <td>5.553520</td>\n",
       "      <td>1931.0</td>\n",
       "      <td>1999.0</td>\n",
       "      <td>2002.0</td>\n",
       "      <td>2006.0</td>\n",
       "      <td>2015.0</td>\n",
       "    </tr>\n",
       "    <tr>\n",
       "      <td>Power</td>\n",
       "      <td>222564.0</td>\n",
       "      <td>111.175186</td>\n",
       "      <td>43.223751</td>\n",
       "      <td>1.0</td>\n",
       "      <td>75.0</td>\n",
       "      <td>105.0</td>\n",
       "      <td>140.0</td>\n",
       "      <td>310.0</td>\n",
       "    </tr>\n",
       "    <tr>\n",
       "      <td>Kilometer</td>\n",
       "      <td>222564.0</td>\n",
       "      <td>132871.263996</td>\n",
       "      <td>32360.006232</td>\n",
       "      <td>5000.0</td>\n",
       "      <td>125000.0</td>\n",
       "      <td>150000.0</td>\n",
       "      <td>150000.0</td>\n",
       "      <td>150000.0</td>\n",
       "    </tr>\n",
       "    <tr>\n",
       "      <td>RegistrationMonth</td>\n",
       "      <td>222564.0</td>\n",
       "      <td>6.376997</td>\n",
       "      <td>3.348703</td>\n",
       "      <td>1.0</td>\n",
       "      <td>3.0</td>\n",
       "      <td>6.0</td>\n",
       "      <td>9.0</td>\n",
       "      <td>12.0</td>\n",
       "    </tr>\n",
       "    <tr>\n",
       "      <td>NumberOfPictures</td>\n",
       "      <td>222564.0</td>\n",
       "      <td>0.000000</td>\n",
       "      <td>0.000000</td>\n",
       "      <td>0.0</td>\n",
       "      <td>0.0</td>\n",
       "      <td>0.0</td>\n",
       "      <td>0.0</td>\n",
       "      <td>0.0</td>\n",
       "    </tr>\n",
       "    <tr>\n",
       "      <td>PostalCode</td>\n",
       "      <td>222564.0</td>\n",
       "      <td>50939.145531</td>\n",
       "      <td>25653.946970</td>\n",
       "      <td>1067.0</td>\n",
       "      <td>30851.0</td>\n",
       "      <td>49828.0</td>\n",
       "      <td>71332.0</td>\n",
       "      <td>99998.0</td>\n",
       "    </tr>\n",
       "  </tbody>\n",
       "</table>\n",
       "</div>"
      ],
      "text/plain": [
       "                      count           mean           std     min       25%  \\\n",
       "Price              222564.0    3374.502673   2486.272210   142.0    1299.0   \n",
       "RegistrationYear   222564.0    2001.801760      5.553520  1931.0    1999.0   \n",
       "Power              222564.0     111.175186     43.223751     1.0      75.0   \n",
       "Kilometer          222564.0  132871.263996  32360.006232  5000.0  125000.0   \n",
       "RegistrationMonth  222564.0       6.376997      3.348703     1.0       3.0   \n",
       "NumberOfPictures   222564.0       0.000000      0.000000     0.0       0.0   \n",
       "PostalCode         222564.0   50939.145531  25653.946970  1067.0   30851.0   \n",
       "\n",
       "                        50%       75%       max  \n",
       "Price                2699.0    4999.0    9800.0  \n",
       "RegistrationYear     2002.0    2006.0    2015.0  \n",
       "Power                 105.0     140.0     310.0  \n",
       "Kilometer          150000.0  150000.0  150000.0  \n",
       "RegistrationMonth       6.0       9.0      12.0  \n",
       "NumberOfPictures        0.0       0.0       0.0  \n",
       "PostalCode          49828.0   71332.0   99998.0  "
      ]
     },
     "execution_count": 42,
     "metadata": {},
     "output_type": "execute_result"
    }
   ],
   "source": [
    "df_filtered = df_filtered[distance < distance.quantile(0.8)]\n",
    "df_filtered.describe().T"
   ]
  },
  {
   "cell_type": "markdown",
   "metadata": {},
   "source": [
    "При таких условиях значимая граница цен составит от 142 до 9800 евро, а верхняя граница мощности мотора - 310 л.с."
   ]
  },
  {
   "cell_type": "markdown",
   "metadata": {},
   "source": [
    "### Финальная обработка и one-hot encoding"
   ]
  },
  {
   "cell_type": "markdown",
   "metadata": {},
   "source": [
    "Подытожим нашу предобработку: нам понадобится исправить значения в столбце `FuelType` и заполнить пропуски в столбцах `FuelType`, `Gearbox` и `NotRepaired` по наиболее частым значениям. Аналогично поступим со столбцом `VehicleType`, но с учетом группировки по маркам автомобилей.\n",
    "\n",
    "От столбца `NumberOfPictures` мы избавимся, так как он не используется, аналогично поступим с признаками `DateCrawled`, `DateCreated` и `LastSeen` - они по большей части не связаны с ценой и их точно не будет на входе конечного приложения-калькулятора.\n",
    "\n",
    "Кроме того, нам предстоит закодировать категориальные признаки. Для `Gearbox` и `NotRepaired` разумно использовать one-hot кодирование, так как они по сути бинарны. А вот, к примеру, для марки авто это привело бы к появлению нескольких сотен новых столбцов, что неприемлемо с точки зрения ресурсоемкости модели.\n",
    "\n",
    "Оптимальным представляется использовать для `Brand`, `Model`, `FuelType` и `VehicleType` mean-target кодирование (кодирование нормализованным средним значением целевого признака). Его же можно применить для `PostalCode` (хотя этот признак формально числовой, он не коррелирует с ценой напрямую, но при этом может быть информативен, т.к. указывает на регион). Но этот этап мы проведем уже после выделения тестовой выборки - во избежание утечки данных."
   ]
  },
  {
   "cell_type": "code",
   "execution_count": 43,
   "metadata": {},
   "outputs": [],
   "source": [
    "one_hot_encoded_columns = ['Gearbox', 'NotRepaired']\n",
    "unused_columns = ['DateCrawled', 'DateCreated', 'NumberOfPictures', 'LastSeen'] + one_hot_encoded_columns"
   ]
  },
  {
   "cell_type": "code",
   "execution_count": 44,
   "metadata": {},
   "outputs": [],
   "source": [
    "# Функция заполнения пропусков модой столбца:\n",
    "def fill_with_mode(df, columns):\n",
    "    for column in columns:\n",
    "        df[column] = df[column].fillna(df[column].mode()[0])\n",
    "    return df"
   ]
  },
  {
   "cell_type": "code",
   "execution_count": 45,
   "metadata": {},
   "outputs": [],
   "source": [
    "# Функция заполнения пропусков модой столбца, но с учетом группировки по модели авто:\n",
    "def fill_with_mode_by_groups(df, columns):\n",
    "    for column in columns:\n",
    "        df[column] = df[column].fillna(df.groupby(['Brand','Model'])[column].transform(lambda x: pd.Series.mode(x)[0]))\n",
    "    return df"
   ]
  },
  {
   "cell_type": "code",
   "execution_count": 46,
   "metadata": {},
   "outputs": [],
   "source": [
    "# Функция one-hot кодирования:\n",
    "def one_hot_encoding(df, columns):\n",
    "    dummies = pd.get_dummies(df[columns], drop_first=True)\n",
    "    df[dummies.columns] = dummies\n",
    "    return df"
   ]
  },
  {
   "cell_type": "code",
   "execution_count": 47,
   "metadata": {},
   "outputs": [],
   "source": [
    "def drop_unused_columns (df, column_list):\n",
    "    return df.drop (column_list, axis=1)"
   ]
  },
  {
   "cell_type": "code",
   "execution_count": 48,
   "metadata": {},
   "outputs": [],
   "source": [
    "df_filtered = (\n",
    "    df_filtered\n",
    "    .drop_duplicates().reset_index(drop=True)\n",
    "    .pipe(fix_fuel_types)\n",
    "    .pipe(fill_with_other, ['Model'])\n",
    "    .pipe(fill_with_mode, ['FuelType','Gearbox', 'NotRepaired'])\n",
    "    .pipe(fill_with_mode_by_groups, ['VehicleType'])\n",
    "    .pipe(one_hot_encoding, one_hot_encoded_columns)\n",
    "    .pipe(drop_unused_columns, unused_columns)\n",
    ")"
   ]
  },
  {
   "cell_type": "code",
   "execution_count": 49,
   "metadata": {},
   "outputs": [
    {
     "data": {
      "text/plain": [
       "Price                0\n",
       "VehicleType          0\n",
       "RegistrationYear     0\n",
       "Power                0\n",
       "Model                0\n",
       "Kilometer            0\n",
       "RegistrationMonth    0\n",
       "FuelType             0\n",
       "Brand                0\n",
       "PostalCode           0\n",
       "Gearbox_manual       0\n",
       "NotRepaired_yes      0\n",
       "dtype: int64"
      ]
     },
     "execution_count": 49,
     "metadata": {},
     "output_type": "execute_result"
    }
   ],
   "source": [
    "df_filtered.isna().sum()"
   ]
  },
  {
   "cell_type": "code",
   "execution_count": 50,
   "metadata": {},
   "outputs": [
    {
     "data": {
      "text/html": [
       "<div>\n",
       "<style scoped>\n",
       "    .dataframe tbody tr th:only-of-type {\n",
       "        vertical-align: middle;\n",
       "    }\n",
       "\n",
       "    .dataframe tbody tr th {\n",
       "        vertical-align: top;\n",
       "    }\n",
       "\n",
       "    .dataframe thead th {\n",
       "        text-align: right;\n",
       "    }\n",
       "</style>\n",
       "<table border=\"1\" class=\"dataframe\">\n",
       "  <thead>\n",
       "    <tr style=\"text-align: right;\">\n",
       "      <th></th>\n",
       "      <th>Price</th>\n",
       "      <th>VehicleType</th>\n",
       "      <th>RegistrationYear</th>\n",
       "      <th>Power</th>\n",
       "      <th>Model</th>\n",
       "      <th>Kilometer</th>\n",
       "      <th>RegistrationMonth</th>\n",
       "      <th>FuelType</th>\n",
       "      <th>Brand</th>\n",
       "      <th>PostalCode</th>\n",
       "      <th>Gearbox_manual</th>\n",
       "      <th>NotRepaired_yes</th>\n",
       "    </tr>\n",
       "  </thead>\n",
       "  <tbody>\n",
       "    <tr>\n",
       "      <td>0</td>\n",
       "      <td>1500</td>\n",
       "      <td>small</td>\n",
       "      <td>2001</td>\n",
       "      <td>75</td>\n",
       "      <td>golf</td>\n",
       "      <td>150000</td>\n",
       "      <td>6</td>\n",
       "      <td>petrol</td>\n",
       "      <td>volkswagen</td>\n",
       "      <td>91074</td>\n",
       "      <td>1</td>\n",
       "      <td>0</td>\n",
       "    </tr>\n",
       "    <tr>\n",
       "      <td>1</td>\n",
       "      <td>3600</td>\n",
       "      <td>small</td>\n",
       "      <td>2008</td>\n",
       "      <td>69</td>\n",
       "      <td>fabia</td>\n",
       "      <td>90000</td>\n",
       "      <td>7</td>\n",
       "      <td>petrol</td>\n",
       "      <td>skoda</td>\n",
       "      <td>60437</td>\n",
       "      <td>1</td>\n",
       "      <td>0</td>\n",
       "    </tr>\n",
       "    <tr>\n",
       "      <td>2</td>\n",
       "      <td>650</td>\n",
       "      <td>sedan</td>\n",
       "      <td>1995</td>\n",
       "      <td>102</td>\n",
       "      <td>3er</td>\n",
       "      <td>150000</td>\n",
       "      <td>10</td>\n",
       "      <td>petrol</td>\n",
       "      <td>bmw</td>\n",
       "      <td>33775</td>\n",
       "      <td>1</td>\n",
       "      <td>1</td>\n",
       "    </tr>\n",
       "    <tr>\n",
       "      <td>3</td>\n",
       "      <td>2200</td>\n",
       "      <td>convertible</td>\n",
       "      <td>2004</td>\n",
       "      <td>109</td>\n",
       "      <td>2_reihe</td>\n",
       "      <td>150000</td>\n",
       "      <td>8</td>\n",
       "      <td>petrol</td>\n",
       "      <td>peugeot</td>\n",
       "      <td>67112</td>\n",
       "      <td>1</td>\n",
       "      <td>0</td>\n",
       "    </tr>\n",
       "    <tr>\n",
       "      <td>4</td>\n",
       "      <td>2000</td>\n",
       "      <td>sedan</td>\n",
       "      <td>2004</td>\n",
       "      <td>105</td>\n",
       "      <td>3_reihe</td>\n",
       "      <td>150000</td>\n",
       "      <td>12</td>\n",
       "      <td>petrol</td>\n",
       "      <td>mazda</td>\n",
       "      <td>96224</td>\n",
       "      <td>1</td>\n",
       "      <td>0</td>\n",
       "    </tr>\n",
       "  </tbody>\n",
       "</table>\n",
       "</div>"
      ],
      "text/plain": [
       "   Price  VehicleType  RegistrationYear  Power    Model  Kilometer  \\\n",
       "0   1500        small              2001     75     golf     150000   \n",
       "1   3600        small              2008     69    fabia      90000   \n",
       "2    650        sedan              1995    102      3er     150000   \n",
       "3   2200  convertible              2004    109  2_reihe     150000   \n",
       "4   2000        sedan              2004    105  3_reihe     150000   \n",
       "\n",
       "   RegistrationMonth FuelType       Brand  PostalCode  Gearbox_manual  \\\n",
       "0                  6   petrol  volkswagen       91074               1   \n",
       "1                  7   petrol       skoda       60437               1   \n",
       "2                 10   petrol         bmw       33775               1   \n",
       "3                  8   petrol     peugeot       67112               1   \n",
       "4                 12   petrol       mazda       96224               1   \n",
       "\n",
       "   NotRepaired_yes  \n",
       "0                0  \n",
       "1                0  \n",
       "2                1  \n",
       "3                0  \n",
       "4                0  "
      ]
     },
     "execution_count": 50,
     "metadata": {},
     "output_type": "execute_result"
    }
   ],
   "source": [
    "df_filtered.head()"
   ]
  },
  {
   "cell_type": "markdown",
   "metadata": {},
   "source": [
    "### Вывод"
   ]
  },
  {
   "cell_type": "markdown",
   "metadata": {},
   "source": [
    "По итогам анализа и предобработки:\n",
    "\n",
    "- Разброс **цен** в исходном датасете составляет 0 до 20000 евро, медианное значение 2700 евро. Мы ограничили цены диапазоном 142 - 9800 евро, этот параметр в идеале подлежит дальнейшему согласованию с заказчиком.\n",
    "- Пик предложений приходится на машины 2000 и 2005 годов. Значимый **период регистрации** транспортного средства согласно диаграмме размаха приходится на 1986-2019 годы. Однако период 2016-2019 противоречит техническим временным отметкам в данных и сильно не соответствует ценовой динамике предыдущих лет, поэтому мы исключили данные за этот период из выборки (как и последующие явно некорректные значения). За минимальную дату был принят 1931 год. Признак месяца регистрации содержит аномальные значения 0, сильно отличающиеся от остальных месяцев по цене. Эти строки были удалены.\n",
    "- Значения **мощности двигателя** разбросаны очень сильно и содержат большое количество нулевых значений. Ввиду различия значений даже в пределах одной модели нам пришлось удалить нулевые строки. Допустимый диапазон значений мы ограничили 1-310 л.с.\n",
    "- Цена достаточно явно зависит от значений мощности, а также обратно пропорциональна **пробегу**, за исключением машин с наименьшим пробегом. Причина последнего не вполне ясна, но может иметь реальные основания, поэтому эти данные были сохранены.\n",
    "- Пропуски в значениях **модели**, **типа трансмиссии** и **двигателя** были заполнены модами, а для **типа кузова** - модами по группам.\n",
    "- К столбцам `Gearbox` и `NotRepaired` мы применили one-hot encoding, а столбцы `DateCrawled`, `DateCreated`, `NumberOfPictures`, `LastSeen` удалили как неинформативные с точки зрения поставленной задачи."
   ]
  },
  {
   "cell_type": "code",
   "execution_count": 51,
   "metadata": {},
   "outputs": [
    {
     "data": {
      "image/png": "[encoded data removed]",
      "text/plain": [
       "<Figure size 720x576 with 2 Axes>"
      ]
     },
     "metadata": {
      "needs_background": "light"
     },
     "output_type": "display_data"
    }
   ],
   "source": [
    "plt.figure (figsize=(10,8))\n",
    "sns.heatmap (df_filtered.corr(), annot=True, cmap='Blues');"
   ]
  },
  {
   "cell_type": "markdown",
   "metadata": {},
   "source": [
    "Напоследок посмотрим на корреляции в отфильтрованном датасете:\n",
    "\n",
    "- Цена ожидаемо зависит от года и мощности двигателя и обратно пропорциональна пробегу. Ручная коробка передач и наличие повреждений как будто бы снижают цену, но эти признаки по сути бинарны, поэтому мы не можем говорить о реальной корреляции. Статистических тестов в данном случае делать не будем, поскольку ниже проведем проверку взаимной информации.\n",
    "\n",
    "- Год обратно пропорционален пробегу. Также ожидаемо.\n",
    "\n",
    "- Пробег зависит от мощности. Тоже вполне объяснимо, мощный двигатель пройдет больше за то же время.\n",
    "\n",
    "- Наконец, на мощные машины как будто бы предпочитают ставить автоматическую трансмиссию, но это находится за пределами темы нашего исследования."
   ]
  },
  {
   "cell_type": "markdown",
   "metadata": {},
   "source": [
    "## Разбиение на выборки и feature selection"
   ]
  },
  {
   "cell_type": "code",
   "execution_count": 52,
   "metadata": {},
   "outputs": [],
   "source": [
    "# Зафиксируем состояние генератора случайных чисел для воспроизведения результатов:\n",
    "random_state=177013"
   ]
  },
  {
   "cell_type": "markdown",
   "metadata": {},
   "source": [
    "Выделим обучающую и тестовую выборки в размере 80% и 20% от отфильтрованного датасета:"
   ]
  },
  {
   "cell_type": "code",
   "execution_count": 53,
   "metadata": {},
   "outputs": [],
   "source": [
    "df_features = df_filtered.drop(['Price'], axis=1)\n",
    "df_target = df_filtered['Price']"
   ]
  },
  {
   "cell_type": "code",
   "execution_count": 54,
   "metadata": {},
   "outputs": [],
   "source": [
    "features_train, features_test, target_train, target_test = train_test_split(df_features, df_target, test_size=0.2, random_state=random_state)"
   ]
  },
  {
   "cell_type": "markdown",
   "metadata": {},
   "source": [
    "### Mean-target encoding"
   ]
  },
  {
   "cell_type": "markdown",
   "metadata": {},
   "source": [
    "Воспользуемся *TargetEncoder* из библиотеки сategory_encoders:"
   ]
  },
  {
   "cell_type": "code",
   "execution_count": 55,
   "metadata": {},
   "outputs": [],
   "source": [
    "target_encoded_columns = ['Brand', 'Model', 'VehicleType', 'FuelType', 'PostalCode']"
   ]
  },
  {
   "cell_type": "code",
   "execution_count": 56,
   "metadata": {},
   "outputs": [
    {
     "name": "stderr",
     "output_type": "stream",
     "text": [
      "/opt/conda/lib/python3.7/site-packages/ipykernel_launcher.py:4: SettingWithCopyWarning: \n",
      "A value is trying to be set on a copy of a slice from a DataFrame.\n",
      "Try using .loc[row_indexer,col_indexer] = value instead\n",
      "\n",
      "See the caveats in the documentation: http://pandas.pydata.org/pandas-docs/stable/user_guide/indexing.html#returning-a-view-versus-a-copy\n",
      "  after removing the cwd from sys.path.\n",
      "/opt/conda/lib/python3.7/site-packages/ipykernel_launcher.py:5: SettingWithCopyWarning: \n",
      "A value is trying to be set on a copy of a slice from a DataFrame.\n",
      "Try using .loc[row_indexer,col_indexer] = value instead\n",
      "\n",
      "See the caveats in the documentation: http://pandas.pydata.org/pandas-docs/stable/user_guide/indexing.html#returning-a-view-versus-a-copy\n",
      "  \"\"\"\n"
     ]
    }
   ],
   "source": [
    "for column in target_encoded_columns:\n",
    "    encoder = TargetEncoder()\n",
    "    encoder.fit(features_train[column], target_train)\n",
    "    features_train[column] = encoder.transform(features_train[column])\n",
    "    features_test[column] = encoder.transform(features_test[column])"
   ]
  },
  {
   "cell_type": "code",
   "execution_count": 57,
   "metadata": {},
   "outputs": [
    {
     "data": {
      "text/html": [
       "<div>\n",
       "<style scoped>\n",
       "    .dataframe tbody tr th:only-of-type {\n",
       "        vertical-align: middle;\n",
       "    }\n",
       "\n",
       "    .dataframe tbody tr th {\n",
       "        vertical-align: top;\n",
       "    }\n",
       "\n",
       "    .dataframe thead th {\n",
       "        text-align: right;\n",
       "    }\n",
       "</style>\n",
       "<table border=\"1\" class=\"dataframe\">\n",
       "  <thead>\n",
       "    <tr style=\"text-align: right;\">\n",
       "      <th></th>\n",
       "      <th>VehicleType</th>\n",
       "      <th>RegistrationYear</th>\n",
       "      <th>Power</th>\n",
       "      <th>Model</th>\n",
       "      <th>Kilometer</th>\n",
       "      <th>RegistrationMonth</th>\n",
       "      <th>FuelType</th>\n",
       "      <th>Brand</th>\n",
       "      <th>PostalCode</th>\n",
       "      <th>Gearbox_manual</th>\n",
       "      <th>NotRepaired_yes</th>\n",
       "    </tr>\n",
       "  </thead>\n",
       "  <tbody>\n",
       "    <tr>\n",
       "      <td>175995</td>\n",
       "      <td>3384.772270</td>\n",
       "      <td>2004</td>\n",
       "      <td>116</td>\n",
       "      <td>2857.859675</td>\n",
       "      <td>150000</td>\n",
       "      <td>9</td>\n",
       "      <td>3372.373432</td>\n",
       "      <td>2701.035763</td>\n",
       "      <td>89269</td>\n",
       "      <td>1</td>\n",
       "      <td>0</td>\n",
       "    </tr>\n",
       "    <tr>\n",
       "      <td>174293</td>\n",
       "      <td>4095.224368</td>\n",
       "      <td>1991</td>\n",
       "      <td>75</td>\n",
       "      <td>3639.588235</td>\n",
       "      <td>150000</td>\n",
       "      <td>7</td>\n",
       "      <td>3372.373432</td>\n",
       "      <td>2715.520420</td>\n",
       "      <td>84069</td>\n",
       "      <td>1</td>\n",
       "      <td>0</td>\n",
       "    </tr>\n",
       "    <tr>\n",
       "      <td>213232</td>\n",
       "      <td>3384.772270</td>\n",
       "      <td>2004</td>\n",
       "      <td>177</td>\n",
       "      <td>4247.573650</td>\n",
       "      <td>150000</td>\n",
       "      <td>7</td>\n",
       "      <td>3372.373432</td>\n",
       "      <td>4244.387478</td>\n",
       "      <td>37696</td>\n",
       "      <td>1</td>\n",
       "      <td>0</td>\n",
       "    </tr>\n",
       "    <tr>\n",
       "      <td>120221</td>\n",
       "      <td>3384.772270</td>\n",
       "      <td>2007</td>\n",
       "      <td>140</td>\n",
       "      <td>3241.212860</td>\n",
       "      <td>150000</td>\n",
       "      <td>7</td>\n",
       "      <td>3372.373432</td>\n",
       "      <td>3401.860724</td>\n",
       "      <td>82140</td>\n",
       "      <td>1</td>\n",
       "      <td>0</td>\n",
       "    </tr>\n",
       "    <tr>\n",
       "      <td>185250</td>\n",
       "      <td>2584.029886</td>\n",
       "      <td>2002</td>\n",
       "      <td>73</td>\n",
       "      <td>3751.595679</td>\n",
       "      <td>80000</td>\n",
       "      <td>12</td>\n",
       "      <td>3372.373432</td>\n",
       "      <td>3182.041939</td>\n",
       "      <td>49074</td>\n",
       "      <td>1</td>\n",
       "      <td>0</td>\n",
       "    </tr>\n",
       "  </tbody>\n",
       "</table>\n",
       "</div>"
      ],
      "text/plain": [
       "        VehicleType  RegistrationYear  Power        Model  Kilometer  \\\n",
       "175995  3384.772270              2004    116  2857.859675     150000   \n",
       "174293  4095.224368              1991     75  3639.588235     150000   \n",
       "213232  3384.772270              2004    177  4247.573650     150000   \n",
       "120221  3384.772270              2007    140  3241.212860     150000   \n",
       "185250  2584.029886              2002     73  3751.595679      80000   \n",
       "\n",
       "        RegistrationMonth     FuelType        Brand  PostalCode  \\\n",
       "175995                  9  3372.373432  2701.035763       89269   \n",
       "174293                  7  3372.373432  2715.520420       84069   \n",
       "213232                  7  3372.373432  4244.387478       37696   \n",
       "120221                  7  3372.373432  3401.860724       82140   \n",
       "185250                 12  3372.373432  3182.041939       49074   \n",
       "\n",
       "        Gearbox_manual  NotRepaired_yes  \n",
       "175995               1                0  \n",
       "174293               1                0  \n",
       "213232               1                0  \n",
       "120221               1                0  \n",
       "185250               1                0  "
      ]
     },
     "execution_count": 57,
     "metadata": {},
     "output_type": "execute_result"
    }
   ],
   "source": [
    "features_train.head()"
   ]
  },
  {
   "cell_type": "markdown",
   "metadata": {},
   "source": [
    "### Взаимная информация"
   ]
  },
  {
   "cell_type": "markdown",
   "metadata": {},
   "source": [
    "Все ли оставшиеся признаки значимы? Это можно оценить с помощью меры взаимной информации:"
   ]
  },
  {
   "cell_type": "code",
   "execution_count": 58,
   "metadata": {},
   "outputs": [
    {
     "data": {
      "image/png": "[encoded data removed]",
      "text/plain": [
       "<Figure size 432x288 with 1 Axes>"
      ]
     },
     "metadata": {
      "needs_background": "light"
     },
     "output_type": "display_data"
    }
   ],
   "source": [
    "# Полностью загрузить выборку здесь, к сожалению, не выходит, поскольку умирает ядро.\n",
    "# Результат верифицирован локально на полной выборке и соответствует.\n",
    "mi_scores = mutual_info_regression(features_train.sample(frac=0.25, random_state=random_state), target_train.sample(frac=0.25, random_state=random_state))\n",
    "sns.violinplot(data=mi_scores, orient='h').set(title='Распределение признаков по ВИ', xlabel='Взаимная информация');"
   ]
  },
  {
   "cell_type": "code",
   "execution_count": 59,
   "metadata": {},
   "outputs": [
    {
     "data": {
      "text/plain": [
       "count    11.000000\n",
       "mean      0.093964\n",
       "std       0.115372\n",
       "min       0.000750\n",
       "25%       0.018468\n",
       "50%       0.049234\n",
       "75%       0.121466\n",
       "max       0.365166\n",
       "dtype: float64"
      ]
     },
     "execution_count": 59,
     "metadata": {},
     "output_type": "execute_result"
    }
   ],
   "source": [
    "pd.Series(mi_scores).describe()"
   ]
  },
  {
   "cell_type": "code",
   "execution_count": 60,
   "metadata": {},
   "outputs": [
    {
     "data": {
      "text/plain": [
       "['FuelType', 'Gearbox_manual', 'RegistrationMonth']"
      ]
     },
     "execution_count": 60,
     "metadata": {},
     "output_type": "execute_result"
    }
   ],
   "source": [
    "mi_score_selected_index = np.where(mi_scores > 0.02)[0]\n",
    "recommended_columns = features_train.iloc[:, mi_score_selected_index].columns\n",
    "not_recommended = sorted(list(set(features_train.columns).difference(set(recommended_columns))))\n",
    "not_recommended"
   ]
  },
  {
   "cell_type": "markdown",
   "metadata": {},
   "source": [
    "Признак `RegistrationMonth`, как и ожидалось, влияет на цену слабо, кроме того, несущественными оказываются `FuelType` и `Gearbox`. Исключим эти три столбца из выборок:"
   ]
  },
  {
   "cell_type": "code",
   "execution_count": 61,
   "metadata": {},
   "outputs": [],
   "source": [
    "features_train = features_train.drop(not_recommended, axis=1)\n",
    "features_test = features_test.drop(not_recommended, axis=1)"
   ]
  },
  {
   "cell_type": "markdown",
   "metadata": {},
   "source": [
    "### Коллинеарность"
   ]
  },
  {
   "cell_type": "markdown",
   "metadata": {},
   "source": [
    "Посмотрим, нет ли у нас избыточных признаков. Для оценки будем использовать матрицу коррелляции и Variance Inflation Factor."
   ]
  },
  {
   "cell_type": "code",
   "execution_count": 62,
   "metadata": {},
   "outputs": [
    {
     "data": {
      "text/html": [
       "<div>\n",
       "<style scoped>\n",
       "    .dataframe tbody tr th:only-of-type {\n",
       "        vertical-align: middle;\n",
       "    }\n",
       "\n",
       "    .dataframe tbody tr th {\n",
       "        vertical-align: top;\n",
       "    }\n",
       "\n",
       "    .dataframe thead th {\n",
       "        text-align: right;\n",
       "    }\n",
       "</style>\n",
       "<table border=\"1\" class=\"dataframe\">\n",
       "  <thead>\n",
       "    <tr style=\"text-align: right;\">\n",
       "      <th></th>\n",
       "      <th>feature</th>\n",
       "      <th>VIF</th>\n",
       "    </tr>\n",
       "  </thead>\n",
       "  <tbody>\n",
       "    <tr>\n",
       "      <td>1</td>\n",
       "      <td>RegistrationYear</td>\n",
       "      <td>66.386182</td>\n",
       "    </tr>\n",
       "    <tr>\n",
       "      <td>0</td>\n",
       "      <td>VehicleType</td>\n",
       "      <td>42.537844</td>\n",
       "    </tr>\n",
       "    <tr>\n",
       "      <td>5</td>\n",
       "      <td>Brand</td>\n",
       "      <td>39.196517</td>\n",
       "    </tr>\n",
       "    <tr>\n",
       "      <td>4</td>\n",
       "      <td>Kilometer</td>\n",
       "      <td>19.066611</td>\n",
       "    </tr>\n",
       "    <tr>\n",
       "      <td>3</td>\n",
       "      <td>Model</td>\n",
       "      <td>16.043646</td>\n",
       "    </tr>\n",
       "    <tr>\n",
       "      <td>2</td>\n",
       "      <td>Power</td>\n",
       "      <td>11.290113</td>\n",
       "    </tr>\n",
       "    <tr>\n",
       "      <td>6</td>\n",
       "      <td>PostalCode</td>\n",
       "      <td>4.953420</td>\n",
       "    </tr>\n",
       "    <tr>\n",
       "      <td>7</td>\n",
       "      <td>NotRepaired_yes</td>\n",
       "      <td>1.117066</td>\n",
       "    </tr>\n",
       "  </tbody>\n",
       "</table>\n",
       "</div>"
      ],
      "text/plain": [
       "            feature        VIF\n",
       "1  RegistrationYear  66.386182\n",
       "0       VehicleType  42.537844\n",
       "5             Brand  39.196517\n",
       "4         Kilometer  19.066611\n",
       "3             Model  16.043646\n",
       "2             Power  11.290113\n",
       "6        PostalCode   4.953420\n",
       "7   NotRepaired_yes   1.117066"
      ]
     },
     "execution_count": 62,
     "metadata": {},
     "output_type": "execute_result"
    }
   ],
   "source": [
    "vif_data = pd.DataFrame()\n",
    "vif_data['feature'] = features_train.columns\n",
    "vif_data['VIF'] = [variance_inflation_factor(features_train.values, i) for i in range(len(features_train.columns))]\n",
    "  \n",
    "vif_data.sort_values(by='VIF', ascending=False)"
   ]
  },
  {
   "cell_type": "code",
   "execution_count": 63,
   "metadata": {},
   "outputs": [
    {
     "data": {
      "image/png": "[encoded data removed]",
      "text/plain": [
       "<Figure size 720x576 with 2 Axes>"
      ]
     },
     "metadata": {
      "needs_background": "light"
     },
     "output_type": "display_data"
    }
   ],
   "source": [
    "plt.figure (figsize=(10,8))\n",
    "sns.heatmap (features_train.corr(), annot=True, cmap='Blues');"
   ]
  },
  {
   "cell_type": "markdown",
   "metadata": {},
   "source": [
    "Кодированные переменные не вызвали сильной коллинеарности (все корреляции ожидаемы), однако VIF некоторых важных признаков высок - до 66 единиц. Точность модели будет не слишком хорошей, но ничего катастрофического."
   ]
  },
  {
   "cell_type": "markdown",
   "metadata": {},
   "source": [
    "## Обучение моделей"
   ]
  },
  {
   "cell_type": "code",
   "execution_count": 64,
   "metadata": {},
   "outputs": [],
   "source": [
    "# Функция оптимизации модели. Принимает на вход модель, диапазон гиперпараметров для GridSearchCV и обучающую выборку.\n",
    "# Возвращает модель с оптимальными гиперпараметрами.\n",
    "def optimize(model, params, X, y):\n",
    "    name = f'{type(model).__name__}'\n",
    "    print(f'Оптимизация {name}...')\n",
    "    scaler = StandardScaler()\n",
    "    X_scaled = scaler.fit_transform(X)\n",
    "    gcv = GridSearchCV (estimator=model, param_grid=params, cv=2, scoring='neg_mean_squared_error', n_jobs=-1)\n",
    "    gcv.fit (X_scaled, y)\n",
    "    print(f'Лучшие параметры: {gcv.best_params_}')\n",
    "    print(f'RMSE: {(-gcv.best_score_) ** 0.5:.1f}')\n",
    "    return gcv.best_estimator_"
   ]
  },
  {
   "cell_type": "markdown",
   "metadata": {},
   "source": [
    "Помимо оговоренного в техзадании градиентного бустинга через LightGBM, воспользуемcя классическим набором моделей: линейной регрессией, деревом решений и случайным лесом. (Также были протестированы несколько других регрессоров, в том числе SGD, опорные вектора и метод ближайших соседей, но они показали себя неконкурентосособными по скорости и точности предсказания, и для краткости мы не включили сюда откровенно неудачные модели)."
   ]
  },
  {
   "cell_type": "code",
   "execution_count": 65,
   "metadata": {},
   "outputs": [
    {
     "name": "stdout",
     "output_type": "stream",
     "text": [
      "Оптимизация LinearRegression...\n",
      "Лучшие параметры: {'copy_X': True, 'fit_intercept': True}\n",
      "RMSE: 1633.8\n",
      "CPU times: user 947 ms, sys: 697 ms, total: 1.64 s\n",
      "Wall time: 1.64 s\n"
     ]
    }
   ],
   "source": [
    "%%time\n",
    "linear_params = {\n",
    "                    'fit_intercept':[True, False],\n",
    "                    'copy_X':[True, False]\n",
    "                }\n",
    "best_linear = optimize(LinearRegression(n_jobs=-1), linear_params, features_train, target_train)"
   ]
  },
  {
   "cell_type": "code",
   "execution_count": 66,
   "metadata": {
    "scrolled": false
   },
   "outputs": [
    {
     "name": "stdout",
     "output_type": "stream",
     "text": [
      "Оптимизация DecisionTreeRegressor...\n",
      "Лучшие параметры: {'max_depth': 15, 'min_samples_leaf': 16}\n",
      "RMSE: 1138.4\n",
      "CPU times: user 1min 44s, sys: 68.5 ms, total: 1min 44s\n",
      "Wall time: 1min 45s\n"
     ]
    }
   ],
   "source": [
    "%%time\n",
    "tree_params = {\n",
    "                'max_depth' : range(10,20),\n",
    "                'min_samples_leaf' : range(1,20),\n",
    "              }\n",
    "\n",
    "best_tree = optimize (DecisionTreeRegressor(random_state=random_state), tree_params, features_train, target_train)"
   ]
  },
  {
   "cell_type": "code",
   "execution_count": 67,
   "metadata": {
    "scrolled": false
   },
   "outputs": [
    {
     "name": "stdout",
     "output_type": "stream",
     "text": [
      "Оптимизация RandomForestRegressor...\n",
      "Лучшие параметры: {'max_depth': 19, 'max_features': 3, 'n_estimators': 25}\n",
      "RMSE: 1024.1\n",
      "CPU times: user 1min 38s, sys: 54.2 ms, total: 1min 38s\n",
      "Wall time: 1min 38s\n"
     ]
    }
   ],
   "source": [
    "%%time\n",
    "forest_params = {\n",
    "                    'max_depth' : range(15,20),\n",
    "                    'n_estimators' : [25],\n",
    "                    'max_features' : range(1,5)\n",
    "                }\n",
    "best_forest = optimize(RandomForestRegressor(random_state=random_state, n_jobs=-1), forest_params, features_train, target_train)"
   ]
  },
  {
   "cell_type": "code",
   "execution_count": 68,
   "metadata": {},
   "outputs": [
    {
     "name": "stdout",
     "output_type": "stream",
     "text": [
      "Оптимизация LGBMRegressor...\n",
      "Лучшие параметры: {'learning_rate': 0.2, 'n_estimators': 300}\n",
      "RMSE: 1028.2\n",
      "CPU times: user 1min 38s, sys: 369 ms, total: 1min 39s\n",
      "Wall time: 1min 41s\n"
     ]
    }
   ],
   "source": [
    "%%time\n",
    "lgbm_params = {\n",
    "                  'n_estimators':[100, 200, 300],\n",
    "                  'learning_rate':[0.1, 0.2, 0.3],\n",
    "              }\n",
    "best_lgbm = optimize(LGBMRegressor(random_state=random_state, n_jobs=-1), lgbm_params, features_train, target_train)"
   ]
  },
  {
   "cell_type": "markdown",
   "metadata": {},
   "source": [
    "Время на подбор гиперпараметров - обычно самая времязатратная часть проекта, но техзадание требует, чтобы модель не была слишком тяжелой, поэтому мы не будем задавать слишком много итераций в сложных моделях (случайный лес на 100 деревьев или 4000 итераций градиентного бустинга позволили бы выжать еще несколько десятков из RMSE, но ценой непропорционального роста сложности).\n",
    "\n",
    "Линейная регрессия почти не имеет гиперпараметров и обучается за секунды. Для остальных моделей мы задали диапазон перебора, требующий примерно одинаковое время на оптимизацию (в пределах 2 минут)."
   ]
  },
  {
   "cell_type": "markdown",
   "metadata": {},
   "source": [
    "## Анализ моделей"
   ]
  },
  {
   "cell_type": "markdown",
   "metadata": {},
   "source": [
    "### Скорость обучения моделей с оптимальными гиперпараметрами"
   ]
  },
  {
   "cell_type": "code",
   "execution_count": 69,
   "metadata": {},
   "outputs": [],
   "source": [
    "def refit(model):\n",
    "    model_instance = base.clone(model)\n",
    "    scaler = StandardScaler()\n",
    "    scaler.fit(features_train)\n",
    "    features_train_scaled = scaler.transform(features_train)\n",
    "    features_test_scaled = scaler.transform(features_test)\n",
    "    model_instance.fit(features_train_scaled, target_train)\n",
    "    return model_instance"
   ]
  },
  {
   "cell_type": "code",
   "execution_count": 70,
   "metadata": {},
   "outputs": [
    {
     "name": "stdout",
     "output_type": "stream",
     "text": [
      "111 ms ± 4.43 ms per loop (mean ± std. dev. of 7 runs, 10 loops each)\n"
     ]
    }
   ],
   "source": [
    "%%timeit\n",
    "refit(best_linear)"
   ]
  },
  {
   "cell_type": "code",
   "execution_count": 71,
   "metadata": {},
   "outputs": [
    {
     "name": "stdout",
     "output_type": "stream",
     "text": [
      "578 ms ± 41.7 ms per loop (mean ± std. dev. of 7 runs, 1 loop each)\n"
     ]
    }
   ],
   "source": [
    "%%timeit\n",
    "refit(best_tree)"
   ]
  },
  {
   "cell_type": "code",
   "execution_count": 72,
   "metadata": {},
   "outputs": [
    {
     "name": "stdout",
     "output_type": "stream",
     "text": [
      "5.21 s ± 56.1 ms per loop (mean ± std. dev. of 7 runs, 1 loop each)\n"
     ]
    }
   ],
   "source": [
    "%%timeit\n",
    "refit(best_forest)"
   ]
  },
  {
   "cell_type": "code",
   "execution_count": 73,
   "metadata": {},
   "outputs": [
    {
     "name": "stdout",
     "output_type": "stream",
     "text": [
      "10.2 s ± 2.05 s per loop (mean ± std. dev. of 7 runs, 1 loop each)\n"
     ]
    }
   ],
   "source": [
    "%%timeit\n",
    "refit(best_lgbm)"
   ]
  },
  {
   "cell_type": "markdown",
   "metadata": {},
   "source": [
    "Обучение оптимальной модели идет куда быстрее: линейная регрессия требует порядка 100мс, дерево решений порядка 0,6 с, cлучайный лес около 5 с. Градиентный бустинг учится медленнее всех - около 10 с."
   ]
  },
  {
   "cell_type": "markdown",
   "metadata": {},
   "source": [
    "### Метрика на тестовой выборке и скорость инференса"
   ]
  },
  {
   "cell_type": "code",
   "execution_count": 74,
   "metadata": {},
   "outputs": [],
   "source": [
    "def predict_only(model):\n",
    "    scaler = StandardScaler()\n",
    "    scaler.fit(features_train)\n",
    "    features_test_scaled = scaler.transform(features_test)\n",
    "    return model.predict(features_test_scaled)"
   ]
  },
  {
   "cell_type": "code",
   "execution_count": 75,
   "metadata": {},
   "outputs": [],
   "source": [
    "def full_test(model):\n",
    "    predictions = predict_only(model)\n",
    "    mse = mean_squared_error(target_test, predictions)\n",
    "    r2 = r2_score(target_test, predictions)\n",
    "    print (f'Модель: {type(model).__name__} RMSE: {mse**0.5:.1f} R2: {r2:.2f}')"
   ]
  },
  {
   "cell_type": "code",
   "execution_count": 76,
   "metadata": {},
   "outputs": [
    {
     "name": "stdout",
     "output_type": "stream",
     "text": [
      "196 ms ± 6.67 ms per loop (mean ± std. dev. of 7 runs, 10 loops each)\n"
     ]
    }
   ],
   "source": [
    "%%timeit\n",
    "predict_only(best_linear)"
   ]
  },
  {
   "cell_type": "code",
   "execution_count": 77,
   "metadata": {},
   "outputs": [
    {
     "name": "stdout",
     "output_type": "stream",
     "text": [
      "Модель: LinearRegression RMSE: 1633.8 R2: 0.57\n"
     ]
    }
   ],
   "source": [
    "full_test(best_linear)"
   ]
  },
  {
   "cell_type": "code",
   "execution_count": 78,
   "metadata": {},
   "outputs": [
    {
     "name": "stdout",
     "output_type": "stream",
     "text": [
      "28.8 ms ± 675 µs per loop (mean ± std. dev. of 7 runs, 10 loops each)\n"
     ]
    }
   ],
   "source": [
    "%%timeit\n",
    "predict_only(best_tree)"
   ]
  },
  {
   "cell_type": "code",
   "execution_count": 79,
   "metadata": {},
   "outputs": [
    {
     "name": "stdout",
     "output_type": "stream",
     "text": [
      "Модель: DecisionTreeRegressor RMSE: 1103.0 R2: 0.80\n"
     ]
    }
   ],
   "source": [
    "full_test(best_tree)"
   ]
  },
  {
   "cell_type": "code",
   "execution_count": 80,
   "metadata": {},
   "outputs": [
    {
     "name": "stdout",
     "output_type": "stream",
     "text": [
      "312 ms ± 17.1 ms per loop (mean ± std. dev. of 7 runs, 1 loop each)\n"
     ]
    }
   ],
   "source": [
    "%%timeit\n",
    "predict_only(best_forest)"
   ]
  },
  {
   "cell_type": "code",
   "execution_count": 81,
   "metadata": {},
   "outputs": [
    {
     "name": "stdout",
     "output_type": "stream",
     "text": [
      "Модель: RandomForestRegressor RMSE: 990.6 R2: 0.84\n"
     ]
    }
   ],
   "source": [
    "full_test(best_forest)"
   ]
  },
  {
   "cell_type": "code",
   "execution_count": 82,
   "metadata": {
    "scrolled": true
   },
   "outputs": [
    {
     "name": "stdout",
     "output_type": "stream",
     "text": [
      "686 ms ± 27.4 ms per loop (mean ± std. dev. of 7 runs, 1 loop each)\n"
     ]
    }
   ],
   "source": [
    "%%timeit\n",
    "predict_only(best_lgbm)"
   ]
  },
  {
   "cell_type": "code",
   "execution_count": 83,
   "metadata": {},
   "outputs": [
    {
     "name": "stdout",
     "output_type": "stream",
     "text": [
      "Модель: LGBMRegressor RMSE: 1020.6 R2: 0.83\n"
     ]
    }
   ],
   "source": [
    "full_test(best_lgbm)"
   ]
  },
  {
   "cell_type": "markdown",
   "metadata": {},
   "source": [
    "Тесты проходят достаточно быстро: у линейной регрессии 200 мс, дерево решений требует всего порядка 30 мс, случайный лес порядка 300-350 мс, градиентный бустинг - около 700 мс.\n",
    "\n",
    "Точность линейной регрессии оставляет желать лучшего - RMSE превышает 1600 евро. Дерево смотрится заметно лучше - среднеквадратичная ошибка 1100 евро (0.8 метрики R2). Градиентный бустинг и случайный лес впереди всех с 0,83-0,84 R2 и RMSE порядка 1000."
   ]
  },
  {
   "cell_type": "markdown",
   "metadata": {},
   "source": [
    "### Сравнение с фиктивными моделями"
   ]
  },
  {
   "cell_type": "code",
   "execution_count": 84,
   "metadata": {},
   "outputs": [
    {
     "name": "stdout",
     "output_type": "stream",
     "text": [
      "Стратегия: mean, RMSE: 2491.9 R2: -0.00\n",
      "Стратегия: median, RMSE: 2581.1 R2: -0.07\n"
     ]
    }
   ],
   "source": [
    "for strategy in ['mean', 'median']:\n",
    "    dummy = DummyRegressor(strategy=strategy)\n",
    "    scaler = StandardScaler()\n",
    "    dummy_train_scaled = scaler.fit_transform(features_train)\n",
    "    features_test_scaled = scaler.transform(features_test)\n",
    "    dummy.fit(dummy_train_scaled, target_train)\n",
    "    dummy_predictions = dummy.predict(features_test_scaled)\n",
    "       \n",
    "    mse = mean_squared_error(target_test, dummy_predictions)\n",
    "    r2 = r2_score(target_test, dummy_predictions)\n",
    "    \n",
    "    print(f'Стратегия: {strategy}, RMSE: {mse**0.5:.1f} R2: {r2:.2f}')"
   ]
  },
  {
   "cell_type": "markdown",
   "metadata": {},
   "source": [
    "Неплохо: RMSE константной модели примерно вдвое выше, чем у нас, а R2, как и положено, околонулевой. **Результаты наших моделей существенно лучше.**"
   ]
  },
  {
   "cell_type": "markdown",
   "metadata": {},
   "source": [
    "### Использование признаков"
   ]
  },
  {
   "cell_type": "code",
   "execution_count": 85,
   "metadata": {},
   "outputs": [
    {
     "data": {
      "image/png": "[encoded data removed]",
      "text/plain": [
       "<Figure size 864x432 with 1 Axes>"
      ]
     },
     "metadata": {
      "needs_background": "light"
     },
     "output_type": "display_data"
    }
   ],
   "source": [
    "importances = pd.DataFrame()\n",
    "\n",
    "for model in [best_tree, best_forest, best_lgbm]:\n",
    "    importance = model.feature_importances_\n",
    "    importances = importances.append (pd.Series(importance, index=features_train.columns), ignore_index=True)\n",
    "\n",
    "# Нормализуем показатели, сведя их к одному масштабу:\n",
    "importances = importances.div (importances.sum (axis=1), axis=0)\n",
    "importances.T.plot(kind='bar', figsize=(12,6), width=0.7).set(title=\"Влияние признаков в моделях\", ylabel=\"Влияние (нормализовано)\");\n",
    "plt.legend(['Дерево решений', 'Случайный лес', 'LightGBM']);"
   ]
  },
  {
   "cell_type": "markdown",
   "metadata": {},
   "source": [
    "Успешные модели довольно похожи: градиентный бустинг меньше опирается на год регистрации, уделяя больше внимания модели и региону. Мощность играет близкую роль у всех видов моделей, а состояние машины имеет наименьший \"вес\" среди значимых признаков."
   ]
  },
  {
   "cell_type": "markdown",
   "metadata": {},
   "source": [
    "## Вывод"
   ]
  },
  {
   "cell_type": "markdown",
   "metadata": {},
   "source": [
    "Мы изучили и предобработали данные и испытали несколько моделей регрессии (линейную регрессию, дерево решений, случайный лес и модуль градиентного бустинга LightGBM).\n",
    "\n",
    "По итогам аналитической части можно сделать следующие выводы:\n",
    "\n",
    "- Разброс цен в исходном датасете составляет 0 до 20000 евро, медианное значение 2700 евро. Мы ограничили цены диапазоном 142 - 9800 евро, этот параметр в идеале подлежит дальнейшему согласованию с заказчиком.\n",
    "- Период 2016-2019 в значениях года регистрации не соответствует техническим временным отметкам `DateCrawled` и противоречит ценовой динамике предыдущих лет, поэтому мы исключили данные за этот период из выборки (как и последующие явно некорректные значения). За минимальную дату был принят 1931 год. Признак месяца регистрации содержит аномальные значения 0, сильно отличающиеся от остальных месяцев по цене. Эти строки также были удалены.\n",
    "- Цена на автомобили последних лет ожидаемо падает с их возрастом, а также обратно пропорциональна пробегу, за исключением машин с наименьшим пробегом. Причина последнего не вполне ясна, но может иметь реальные основания, поэтому эти данные были сохранены.\n",
    "- Значения мощности двигателя разбросаны очень сильно и содержат большое количество нулей. Ввиду различия значений даже в пределах одной модели нам пришлось удалить нулевые строки. Допустимый диапазон значений мы ограничили 1-310 л.с. Цена достаточно явно зависит от значений мощности.\n",
    "\n",
    "По итогам обучения и тестирования моделей машинного обучения:\n",
    "\n",
    "- Поскольку техзадание ставит ограничения на ресурсоемкость модели, мы не стали задавать слишком сложные гиперпараметры, ограничившись 25 деревьями для случайного леса и 300 для градиентного бустинга. Обучение модели линейной регрессии идет около 100 мс, дерева решений - порядка 0,6 с, cлучайного леса -  около 5 с. Градиентный бустинг учится медленнее всех - около 10 с.\n",
    "- Прохождение тестовой выборки по большей части быстрее: дерево решений требует всего 30 мс, линейная регрессия - 200 мс (больше, чем обучение), случайный лес порядка 300-350 мс, градиентный бустинг - более 700 мс.\n",
    "- Точность линейной регрессии оставляет желать лучшего - RMSE превышает 1600 евро. Дерево смотрится заметно лучше - среднеквадартичная ошибка 1100 евро (0.8 метрики R2). Градиентный бустинг и случайный лес впереди всех с 0,83-0,84 R2 и RMSE порядка 1000.\n",
    "\n",
    "В целом можно заключить:\n",
    "- Модель линейной регрессии не обеспечивает должной точности.\n",
    "- Из успешных моделей решаюшее дерево вне конкуренции по скорости и обеспечивает приемлемую точность (тем более, что конечное приложение наверняка будет округлять результат);\n",
    "- Модели случайного леса и LightGBM сопоставимы по точности и скорости; кроме того, они хорошо распараллеливаются, в отличие от дерева. В условиях многоядерной или многопроцессорной системы они приближаются к дереву по фактической скорости работы и имеют запас по увеличению точности за счет увеличения числа итераций.\n",
    "- В целом ошибка в пределах 1000 евро (меньше в абсолюте, поскольку на среднеквадратичную ошибку сильно влияет качество данных) - удовлетворительный результат. Усложняя модели, можно улучшить метрику еще на несколько процентов."
   ]
  },
  {
   "cell_type": "markdown",
   "metadata": {},
   "source": [
    "### Рекомендации по заполению данных"
   ]
  },
  {
   "cell_type": "markdown",
   "metadata": {},
   "source": [
    "Данные сильно зашумлены - возможно, ошибки webscraping'а, а может и плохая фильтрация ввода анкет. Есть сильное подозрение, что многие цифры попали не в те столбцы, в какие должны были - даты и значения мощности как наиболее очевидные примеры. Целевая метрика MSE/RMSE чувствительна к выбросам - более аккуратное составление выборки благотворно скажется на результате.\n",
    "\n",
    "Отдельный вопрос встает с ценами на позиции с наименьшим пробегом - ошибка или объективные причины?"
   ]
  }
 ],
 "metadata": {
  "ExecuteTimeLog": [
   {
    "duration": 1457,
    "start_time": "2022-01-10T10:15:38.799Z"
   },
   {
    "duration": 1161,
    "start_time": "2022-01-10T10:16:11.588Z"
   },
   {
    "duration": 32,
    "start_time": "2022-01-10T10:16:18.072Z"
   },
   {
    "duration": 160,
    "start_time": "2022-01-10T10:16:27.503Z"
   },
   {
    "duration": 255,
    "start_time": "2022-01-10T10:16:42.465Z"
   },
   {
    "duration": 153,
    "start_time": "2022-01-10T10:17:17.177Z"
   },
   {
    "duration": 180,
    "start_time": "2022-01-10T10:17:24.526Z"
   },
   {
    "duration": 125,
    "start_time": "2022-01-10T10:21:08.320Z"
   },
   {
    "duration": 224,
    "start_time": "2022-01-10T10:32:43.095Z"
   },
   {
    "duration": 679,
    "start_time": "2022-01-10T10:33:05.807Z"
   },
   {
    "duration": 19,
    "start_time": "2022-01-10T10:34:35.574Z"
   },
   {
    "duration": 336184,
    "start_time": "2022-01-10T10:47:51.873Z"
   },
   {
    "duration": 675,
    "start_time": "2022-01-10T10:53:28.060Z"
   },
   {
    "duration": 753,
    "start_time": "2022-01-10T10:55:42.101Z"
   },
   {
    "duration": 766,
    "start_time": "2022-01-10T10:55:54.012Z"
   },
   {
    "duration": 1124,
    "start_time": "2022-01-10T10:56:05.210Z"
   },
   {
    "duration": 673,
    "start_time": "2022-01-10T10:56:27.100Z"
   },
   {
    "duration": 319440,
    "start_time": "2022-01-10T10:59:00.062Z"
   },
   {
    "duration": 1786,
    "start_time": "2022-01-10T11:04:19.505Z"
   },
   {
    "duration": 1607,
    "start_time": "2022-01-10T11:07:45.962Z"
   },
   {
    "duration": 1608,
    "start_time": "2022-01-10T11:14:06.961Z"
   },
   {
    "duration": 1652,
    "start_time": "2022-01-10T11:14:17.526Z"
   },
   {
    "duration": 1480,
    "start_time": "2022-01-10T11:15:02.658Z"
   },
   {
    "duration": 329,
    "start_time": "2022-01-10T11:15:20.372Z"
   },
   {
    "duration": 15,
    "start_time": "2022-01-10T11:16:02.948Z"
   },
   {
    "duration": 16,
    "start_time": "2022-01-10T11:16:15.650Z"
   },
   {
    "duration": 15,
    "start_time": "2022-01-10T11:16:22.494Z"
   },
   {
    "duration": 331,
    "start_time": "2022-01-10T11:18:28.438Z"
   },
   {
    "duration": 4,
    "start_time": "2022-01-10T11:18:37.852Z"
   },
   {
    "duration": 11,
    "start_time": "2022-01-10T11:18:42.964Z"
   },
   {
    "duration": 495,
    "start_time": "2022-01-10T11:19:10.153Z"
   },
   {
    "duration": 41,
    "start_time": "2022-01-10T11:19:14.521Z"
   },
   {
    "duration": 53,
    "start_time": "2022-01-10T11:19:34.859Z"
   },
   {
    "duration": 48,
    "start_time": "2022-01-10T11:19:41.274Z"
   },
   {
    "duration": 55,
    "start_time": "2022-01-10T11:19:45.216Z"
   },
   {
    "duration": 48,
    "start_time": "2022-01-10T11:20:06.959Z"
   },
   {
    "duration": 49,
    "start_time": "2022-01-10T11:20:11.496Z"
   },
   {
    "duration": 11,
    "start_time": "2022-01-10T11:20:39.695Z"
   },
   {
    "duration": 52,
    "start_time": "2022-01-10T11:20:40.062Z"
   },
   {
    "duration": 12,
    "start_time": "2022-01-10T11:20:50.862Z"
   },
   {
    "duration": 26,
    "start_time": "2022-01-10T11:20:51.480Z"
   },
   {
    "duration": 13,
    "start_time": "2022-01-10T11:21:07.758Z"
   },
   {
    "duration": 58,
    "start_time": "2022-01-10T11:21:08.525Z"
   },
   {
    "duration": 11,
    "start_time": "2022-01-10T11:21:15.345Z"
   },
   {
    "duration": 63,
    "start_time": "2022-01-10T11:21:15.665Z"
   },
   {
    "duration": 10,
    "start_time": "2022-01-10T11:21:20.834Z"
   },
   {
    "duration": 18,
    "start_time": "2022-01-10T11:21:21.447Z"
   },
   {
    "duration": 11,
    "start_time": "2022-01-10T11:21:25.753Z"
   },
   {
    "duration": 47,
    "start_time": "2022-01-10T11:21:26.363Z"
   },
   {
    "duration": 4,
    "start_time": "2022-01-10T11:23:30.512Z"
   },
   {
    "duration": 23,
    "start_time": "2022-01-10T11:24:25.175Z"
   },
   {
    "duration": 366,
    "start_time": "2022-01-10T11:25:39.374Z"
   },
   {
    "duration": 3,
    "start_time": "2022-01-10T11:25:44.017Z"
   },
   {
    "duration": 23,
    "start_time": "2022-01-10T11:25:46.265Z"
   },
   {
    "duration": 72,
    "start_time": "2022-01-10T11:25:46.297Z"
   },
   {
    "duration": 297,
    "start_time": "2022-01-10T11:25:48.385Z"
   },
   {
    "duration": 267,
    "start_time": "2022-01-10T11:26:07.121Z"
   },
   {
    "duration": 939,
    "start_time": "2022-01-10T11:26:52.566Z"
   },
   {
    "duration": 49829,
    "start_time": "2022-01-10T11:27:05.833Z"
   },
   {
    "duration": 372,
    "start_time": "2022-01-10T11:28:40.699Z"
   },
   {
    "duration": 3,
    "start_time": "2022-01-10T11:29:13.316Z"
   },
   {
    "duration": 892,
    "start_time": "2022-01-10T11:29:18.409Z"
   },
   {
    "duration": 284,
    "start_time": "2022-01-10T11:29:26.139Z"
   },
   {
    "duration": 49893,
    "start_time": "2022-01-10T11:29:31.797Z"
   },
   {
    "duration": 40,
    "start_time": "2022-01-10T11:30:21.693Z"
   },
   {
    "duration": 118,
    "start_time": "2022-01-10T11:30:21.736Z"
   },
   {
    "duration": 45,
    "start_time": "2022-01-10T11:33:00.750Z"
   },
   {
    "duration": 88,
    "start_time": "2022-01-10T11:33:01.992Z"
   },
   {
    "duration": 61,
    "start_time": "2022-01-10T11:33:25.796Z"
   },
   {
    "duration": 13,
    "start_time": "2022-01-10T11:33:32.972Z"
   },
   {
    "duration": 55,
    "start_time": "2022-01-10T11:33:37.677Z"
   },
   {
    "duration": 72,
    "start_time": "2022-01-10T11:33:38.628Z"
   },
   {
    "duration": 15,
    "start_time": "2022-01-10T11:33:39.533Z"
   },
   {
    "duration": 41,
    "start_time": "2022-01-10T11:33:45.710Z"
   },
   {
    "duration": 63,
    "start_time": "2022-01-10T11:33:45.931Z"
   },
   {
    "duration": 13,
    "start_time": "2022-01-10T11:33:46.747Z"
   },
   {
    "duration": 41,
    "start_time": "2022-01-10T11:33:51.402Z"
   },
   {
    "duration": 63,
    "start_time": "2022-01-10T11:33:51.753Z"
   },
   {
    "duration": 13,
    "start_time": "2022-01-10T11:33:52.130Z"
   },
   {
    "duration": 40,
    "start_time": "2022-01-10T11:33:56.773Z"
   },
   {
    "duration": 65,
    "start_time": "2022-01-10T11:33:57.056Z"
   },
   {
    "duration": 13,
    "start_time": "2022-01-10T11:33:57.424Z"
   },
   {
    "duration": 38,
    "start_time": "2022-01-10T11:34:14.710Z"
   },
   {
    "duration": 60,
    "start_time": "2022-01-10T11:34:14.983Z"
   },
   {
    "duration": 12,
    "start_time": "2022-01-10T11:34:15.273Z"
   },
   {
    "duration": 101,
    "start_time": "2022-01-10T11:34:42.193Z"
   },
   {
    "duration": 41,
    "start_time": "2022-01-10T11:34:46.902Z"
   },
   {
    "duration": 66,
    "start_time": "2022-01-10T11:34:47.337Z"
   },
   {
    "duration": 100,
    "start_time": "2022-01-10T11:34:47.708Z"
   },
   {
    "duration": 40,
    "start_time": "2022-01-10T11:35:22.309Z"
   },
   {
    "duration": 65,
    "start_time": "2022-01-10T11:35:22.638Z"
   },
   {
    "duration": 99,
    "start_time": "2022-01-10T11:35:22.854Z"
   },
   {
    "duration": 39,
    "start_time": "2022-01-10T11:35:30.661Z"
   },
   {
    "duration": 65,
    "start_time": "2022-01-10T11:35:30.937Z"
   },
   {
    "duration": 104,
    "start_time": "2022-01-10T11:35:31.084Z"
   },
   {
    "duration": 39,
    "start_time": "2022-01-10T11:35:43.540Z"
   },
   {
    "duration": 62,
    "start_time": "2022-01-10T11:35:43.835Z"
   },
   {
    "duration": 102,
    "start_time": "2022-01-10T11:35:44.012Z"
   },
   {
    "duration": 41,
    "start_time": "2022-01-10T11:36:02.055Z"
   },
   {
    "duration": 65,
    "start_time": "2022-01-10T11:36:02.208Z"
   },
   {
    "duration": 97,
    "start_time": "2022-01-10T11:36:02.341Z"
   },
   {
    "duration": 11,
    "start_time": "2022-01-10T11:37:31.520Z"
   },
   {
    "duration": 15,
    "start_time": "2022-01-10T11:37:34.183Z"
   },
   {
    "duration": 6,
    "start_time": "2022-01-10T11:41:42.161Z"
   },
   {
    "duration": 11,
    "start_time": "2022-01-10T11:41:49.799Z"
   },
   {
    "duration": 5,
    "start_time": "2022-01-10T11:41:49.971Z"
   },
   {
    "duration": 11,
    "start_time": "2022-01-10T11:41:55.313Z"
   },
   {
    "duration": 6,
    "start_time": "2022-01-10T11:41:55.472Z"
   },
   {
    "duration": 10,
    "start_time": "2022-01-10T11:41:59.159Z"
   },
   {
    "duration": 6,
    "start_time": "2022-01-10T11:41:59.413Z"
   },
   {
    "duration": 14,
    "start_time": "2022-01-10T11:42:07.241Z"
   },
   {
    "duration": 5,
    "start_time": "2022-01-10T11:42:07.743Z"
   },
   {
    "duration": 11,
    "start_time": "2022-01-10T11:42:13.841Z"
   },
   {
    "duration": 6,
    "start_time": "2022-01-10T11:42:14.618Z"
   },
   {
    "duration": 37,
    "start_time": "2022-01-10T11:45:05.351Z"
   },
   {
    "duration": 39,
    "start_time": "2022-01-10T11:46:05.339Z"
   },
   {
    "duration": 383,
    "start_time": "2022-01-10T11:52:24.715Z"
   },
   {
    "duration": 794,
    "start_time": "2022-01-10T11:52:32.368Z"
   },
   {
    "duration": 549,
    "start_time": "2022-01-10T11:52:43.403Z"
   },
   {
    "duration": 2263,
    "start_time": "2022-01-10T11:53:00.673Z"
   },
   {
    "duration": 11,
    "start_time": "2022-01-10T11:53:15.428Z"
   },
   {
    "duration": 6,
    "start_time": "2022-01-10T11:53:15.847Z"
   },
   {
    "duration": 11,
    "start_time": "2022-01-10T11:53:19.380Z"
   },
   {
    "duration": 5,
    "start_time": "2022-01-10T11:53:19.671Z"
   },
   {
    "duration": 11,
    "start_time": "2022-01-10T11:53:23.950Z"
   },
   {
    "duration": 6,
    "start_time": "2022-01-10T11:53:24.102Z"
   },
   {
    "duration": 22,
    "start_time": "2022-01-10T11:53:51.258Z"
   },
   {
    "duration": 17,
    "start_time": "2022-01-10T11:54:06.012Z"
   },
   {
    "duration": 18,
    "start_time": "2022-01-10T11:54:09.739Z"
   },
   {
    "duration": 732,
    "start_time": "2022-01-10T11:54:19.339Z"
   },
   {
    "duration": 7,
    "start_time": "2022-01-10T11:59:56.364Z"
   },
   {
    "duration": 1706,
    "start_time": "2022-01-10T12:00:03.506Z"
   },
   {
    "duration": 7,
    "start_time": "2022-01-10T12:00:14.339Z"
   },
   {
    "duration": 1433,
    "start_time": "2022-01-10T12:00:15.944Z"
   },
   {
    "duration": 7,
    "start_time": "2022-01-10T12:00:22.272Z"
   },
   {
    "duration": 1228,
    "start_time": "2022-01-10T12:00:22.446Z"
   },
   {
    "duration": 7,
    "start_time": "2022-01-10T12:00:35.178Z"
   },
   {
    "duration": 1686,
    "start_time": "2022-01-10T12:00:35.381Z"
   },
   {
    "duration": 6,
    "start_time": "2022-01-10T12:01:00.629Z"
   },
   {
    "duration": 2391,
    "start_time": "2022-01-10T12:01:01.034Z"
   },
   {
    "duration": 7,
    "start_time": "2022-01-10T12:01:25.323Z"
   },
   {
    "duration": 2654,
    "start_time": "2022-01-10T12:01:25.396Z"
   },
   {
    "duration": 7,
    "start_time": "2022-01-10T12:01:46.662Z"
   },
   {
    "duration": 2368,
    "start_time": "2022-01-10T12:01:46.804Z"
   },
   {
    "duration": 7,
    "start_time": "2022-01-10T12:02:17.025Z"
   },
   {
    "duration": 1625,
    "start_time": "2022-01-10T12:02:17.160Z"
   },
   {
    "duration": 8,
    "start_time": "2022-01-10T12:02:40.635Z"
   },
   {
    "duration": 2450,
    "start_time": "2022-01-10T12:02:40.836Z"
   },
   {
    "duration": 7,
    "start_time": "2022-01-10T12:02:52.848Z"
   },
   {
    "duration": 1103,
    "start_time": "2022-01-10T12:02:53.007Z"
   },
   {
    "duration": 7,
    "start_time": "2022-01-10T12:02:58.034Z"
   },
   {
    "duration": 2502,
    "start_time": "2022-01-10T12:02:58.208Z"
   },
   {
    "duration": 16,
    "start_time": "2022-01-10T12:04:32.718Z"
   },
   {
    "duration": 16,
    "start_time": "2022-01-10T12:04:47.720Z"
   },
   {
    "duration": 15,
    "start_time": "2022-01-10T12:04:54.538Z"
   },
   {
    "duration": 17,
    "start_time": "2022-01-10T12:16:23.865Z"
   },
   {
    "duration": 42,
    "start_time": "2022-01-10T12:16:42.912Z"
   },
   {
    "duration": 67,
    "start_time": "2022-01-10T12:16:43.379Z"
   },
   {
    "duration": 112,
    "start_time": "2022-01-10T12:16:43.658Z"
   },
   {
    "duration": 299,
    "start_time": "2022-01-10T12:18:53.477Z"
   },
   {
    "duration": 197,
    "start_time": "2022-01-10T12:18:58.579Z"
   },
   {
    "duration": 18,
    "start_time": "2022-01-10T12:20:02.670Z"
   },
   {
    "duration": 17,
    "start_time": "2022-01-10T12:20:10.017Z"
   },
   {
    "duration": 17,
    "start_time": "2022-01-10T12:20:25.962Z"
   },
   {
    "duration": 16,
    "start_time": "2022-01-10T12:20:38.202Z"
   },
   {
    "duration": 17,
    "start_time": "2022-01-10T12:20:42.518Z"
   },
   {
    "duration": 16,
    "start_time": "2022-01-10T12:20:47.117Z"
   },
   {
    "duration": 17,
    "start_time": "2022-01-10T12:20:53.541Z"
   },
   {
    "duration": 4,
    "start_time": "2022-01-10T12:21:39.249Z"
   },
   {
    "duration": 4,
    "start_time": "2022-01-10T12:21:39.870Z"
   },
   {
    "duration": 15,
    "start_time": "2022-01-10T12:21:40.691Z"
   },
   {
    "duration": 4,
    "start_time": "2022-01-10T12:21:41.257Z"
   },
   {
    "duration": 50964,
    "start_time": "2022-01-10T12:21:42.234Z"
   },
   {
    "duration": 44,
    "start_time": "2022-01-10T12:22:33.201Z"
   },
   {
    "duration": 78,
    "start_time": "2022-01-10T12:22:33.248Z"
   },
   {
    "duration": 122,
    "start_time": "2022-01-10T12:22:33.328Z"
   },
   {
    "duration": 40,
    "start_time": "2022-01-10T12:23:04.152Z"
   },
   {
    "duration": 63,
    "start_time": "2022-01-10T12:23:04.450Z"
   },
   {
    "duration": 97,
    "start_time": "2022-01-10T12:23:05.241Z"
   },
   {
    "duration": 41,
    "start_time": "2022-01-10T12:23:09.415Z"
   },
   {
    "duration": 67,
    "start_time": "2022-01-10T12:23:09.555Z"
   },
   {
    "duration": 101,
    "start_time": "2022-01-10T12:23:09.690Z"
   },
   {
    "duration": 52,
    "start_time": "2022-01-10T12:23:14.840Z"
   },
   {
    "duration": 61,
    "start_time": "2022-01-10T12:23:14.990Z"
   },
   {
    "duration": 100,
    "start_time": "2022-01-10T12:23:15.137Z"
   },
   {
    "duration": 41,
    "start_time": "2022-01-10T12:23:21.690Z"
   },
   {
    "duration": 65,
    "start_time": "2022-01-10T12:23:21.833Z"
   },
   {
    "duration": 100,
    "start_time": "2022-01-10T12:23:21.959Z"
   },
   {
    "duration": 41,
    "start_time": "2022-01-10T12:23:25.864Z"
   },
   {
    "duration": 63,
    "start_time": "2022-01-10T12:23:26.023Z"
   },
   {
    "duration": 97,
    "start_time": "2022-01-10T12:23:26.122Z"
   },
   {
    "duration": 196,
    "start_time": "2022-01-10T12:23:36.641Z"
   },
   {
    "duration": 191,
    "start_time": "2022-01-10T12:23:41.991Z"
   },
   {
    "duration": 201,
    "start_time": "2022-01-10T12:23:44.929Z"
   },
   {
    "duration": 203,
    "start_time": "2022-01-10T12:23:53.713Z"
   },
   {
    "duration": 192,
    "start_time": "2022-01-10T12:24:05.100Z"
   },
   {
    "duration": 175,
    "start_time": "2022-01-10T12:24:12.132Z"
   },
   {
    "duration": 143,
    "start_time": "2022-01-10T12:24:35.057Z"
   },
   {
    "duration": 140,
    "start_time": "2022-01-10T12:24:43.375Z"
   },
   {
    "duration": 125,
    "start_time": "2022-01-10T12:24:52.641Z"
   },
   {
    "duration": 130,
    "start_time": "2022-01-10T12:24:59.885Z"
   },
   {
    "duration": 178,
    "start_time": "2022-01-10T12:25:10.458Z"
   },
   {
    "duration": 4,
    "start_time": "2022-01-10T12:26:01.263Z"
   },
   {
    "duration": 560,
    "start_time": "2022-01-10T12:26:05.179Z"
   },
   {
    "duration": 48,
    "start_time": "2022-01-10T12:29:57.676Z"
   },
   {
    "duration": 50,
    "start_time": "2022-01-10T12:30:16.916Z"
   },
   {
    "duration": 6,
    "start_time": "2022-01-10T12:30:43.310Z"
   },
   {
    "duration": 282,
    "start_time": "2022-01-10T12:30:52.027Z"
   },
   {
    "duration": 82,
    "start_time": "2022-01-10T12:31:20.690Z"
   },
   {
    "duration": 78,
    "start_time": "2022-01-10T12:31:34.153Z"
   },
   {
    "duration": 104,
    "start_time": "2022-01-10T12:31:43.375Z"
   },
   {
    "duration": 119,
    "start_time": "2022-01-10T12:31:54.502Z"
   },
   {
    "duration": 126,
    "start_time": "2022-01-10T12:32:29.259Z"
   },
   {
    "duration": 388,
    "start_time": "2022-01-10T12:32:44.613Z"
   },
   {
    "duration": 289,
    "start_time": "2022-01-10T12:33:02.255Z"
   },
   {
    "duration": 306,
    "start_time": "2022-01-10T12:33:05.330Z"
   },
   {
    "duration": 321,
    "start_time": "2022-01-10T12:33:19.539Z"
   },
   {
    "duration": 303,
    "start_time": "2022-01-10T12:33:25.011Z"
   },
   {
    "duration": 486,
    "start_time": "2022-01-10T12:33:30.027Z"
   },
   {
    "duration": 398,
    "start_time": "2022-01-10T12:33:39.770Z"
   },
   {
    "duration": 463,
    "start_time": "2022-01-10T12:33:46.940Z"
   },
   {
    "duration": 300,
    "start_time": "2022-01-10T12:36:11.781Z"
   },
   {
    "duration": 119,
    "start_time": "2022-01-10T12:37:48.531Z"
   },
   {
    "duration": 370,
    "start_time": "2022-01-10T12:37:53.151Z"
   },
   {
    "duration": 104,
    "start_time": "2022-01-10T12:38:38.871Z"
   },
   {
    "duration": 144,
    "start_time": "2022-01-10T12:38:42.514Z"
   },
   {
    "duration": 138,
    "start_time": "2022-01-10T12:39:18.064Z"
   },
   {
    "duration": 135,
    "start_time": "2022-01-10T12:39:25.399Z"
   },
   {
    "duration": 152,
    "start_time": "2022-01-10T12:40:03.844Z"
   },
   {
    "duration": 184,
    "start_time": "2022-01-10T12:40:46.516Z"
   },
   {
    "duration": 389,
    "start_time": "2022-01-10T12:40:56.733Z"
   },
   {
    "duration": 194,
    "start_time": "2022-01-10T12:41:06.365Z"
   },
   {
    "duration": 224,
    "start_time": "2022-01-10T12:43:21.434Z"
   },
   {
    "duration": 1542,
    "start_time": "2022-01-10T12:45:41.217Z"
   },
   {
    "duration": 100,
    "start_time": "2022-01-10T12:47:06.560Z"
   },
   {
    "duration": 1475,
    "start_time": "2022-01-10T12:47:16.634Z"
   },
   {
    "duration": 1650,
    "start_time": "2022-01-10T12:48:03.799Z"
   },
   {
    "duration": 1842,
    "start_time": "2022-01-10T12:49:24.288Z"
   },
   {
    "duration": 224,
    "start_time": "2022-01-10T12:54:36.913Z"
   },
   {
    "duration": 199,
    "start_time": "2022-01-10T12:55:04.888Z"
   },
   {
    "duration": 193,
    "start_time": "2022-01-10T12:55:57.222Z"
   },
   {
    "duration": 4,
    "start_time": "2022-01-10T12:56:39.006Z"
   },
   {
    "duration": 4,
    "start_time": "2022-01-10T12:57:48.850Z"
   },
   {
    "duration": 5625,
    "start_time": "2022-01-10T12:57:49.504Z"
   },
   {
    "duration": 5,
    "start_time": "2022-01-10T12:59:11.894Z"
   },
   {
    "duration": 995,
    "start_time": "2022-01-10T12:59:12.355Z"
   },
   {
    "duration": 5,
    "start_time": "2022-01-10T12:59:26.665Z"
   },
   {
    "duration": 881,
    "start_time": "2022-01-10T12:59:27.191Z"
   },
   {
    "duration": 295,
    "start_time": "2022-01-10T13:04:34.834Z"
   },
   {
    "duration": 279,
    "start_time": "2022-01-10T13:04:41.371Z"
   },
   {
    "duration": 274,
    "start_time": "2022-01-10T13:05:00.609Z"
   },
   {
    "duration": 1900,
    "start_time": "2022-01-10T13:06:04.496Z"
   },
   {
    "duration": 337,
    "start_time": "2022-01-10T13:06:40.580Z"
   },
   {
    "duration": 1887,
    "start_time": "2022-01-10T13:07:04.149Z"
   },
   {
    "duration": 1763,
    "start_time": "2022-01-10T13:07:32.684Z"
   },
   {
    "duration": 1104,
    "start_time": "2022-01-10T13:08:17.483Z"
   },
   {
    "duration": 301,
    "start_time": "2022-01-10T13:09:54.117Z"
   },
   {
    "duration": 235,
    "start_time": "2022-01-10T13:10:09.696Z"
   },
   {
    "duration": 523,
    "start_time": "2022-01-10T13:11:03.009Z"
   },
   {
    "duration": 1311,
    "start_time": "2022-01-10T13:11:27.297Z"
   },
   {
    "duration": 7266,
    "start_time": "2022-01-10T13:23:11.571Z"
   },
   {
    "duration": 7139,
    "start_time": "2022-01-10T13:25:07.453Z"
   },
   {
    "duration": 7027,
    "start_time": "2022-01-10T13:25:28.206Z"
   },
   {
    "duration": 7023,
    "start_time": "2022-01-10T13:27:51.631Z"
   },
   {
    "duration": 7248,
    "start_time": "2022-01-10T13:28:02.288Z"
   },
   {
    "duration": 115,
    "start_time": "2022-01-10T13:28:49.019Z"
   },
   {
    "duration": 7291,
    "start_time": "2022-01-10T13:28:53.601Z"
   },
   {
    "duration": 296,
    "start_time": "2022-01-10T13:29:27.475Z"
   },
   {
    "duration": 30,
    "start_time": "2022-01-10T13:29:36.251Z"
   },
   {
    "duration": 7029,
    "start_time": "2022-01-10T13:30:10.113Z"
   },
   {
    "duration": 14,
    "start_time": "2022-01-10T13:35:27.002Z"
   },
   {
    "duration": 55,
    "start_time": "2022-01-10T13:36:30.339Z"
   },
   {
    "duration": 6398,
    "start_time": "2022-01-10T13:36:40.008Z"
   },
   {
    "duration": 27,
    "start_time": "2022-01-10T13:36:54.412Z"
   },
   {
    "duration": 62,
    "start_time": "2022-01-10T13:52:20.726Z"
   },
   {
    "duration": 75,
    "start_time": "2022-01-10T13:52:24.667Z"
   },
   {
    "duration": 589,
    "start_time": "2022-01-10T13:53:08.527Z"
   },
   {
    "duration": 36,
    "start_time": "2022-01-10T13:53:21.147Z"
   },
   {
    "duration": 8,
    "start_time": "2022-01-10T13:53:57.923Z"
   },
   {
    "duration": 7953,
    "start_time": "2022-01-10T13:54:06.663Z"
   },
   {
    "duration": 16,
    "start_time": "2022-01-10T13:55:48.877Z"
   },
   {
    "duration": 15,
    "start_time": "2022-01-10T13:55:53.991Z"
   },
   {
    "duration": 15,
    "start_time": "2022-01-10T13:56:02.574Z"
   },
   {
    "duration": 14,
    "start_time": "2022-01-10T13:56:07.758Z"
   },
   {
    "duration": 4,
    "start_time": "2022-01-10T13:57:11.798Z"
   },
   {
    "duration": 16,
    "start_time": "2022-01-10T13:57:31.791Z"
   },
   {
    "duration": 4,
    "start_time": "2022-01-10T13:58:30.042Z"
   },
   {
    "duration": 3,
    "start_time": "2022-01-10T13:58:30.371Z"
   },
   {
    "duration": 930,
    "start_time": "2022-01-10T14:01:35.349Z"
   },
   {
    "duration": 44188,
    "start_time": "2022-01-10T14:02:13.579Z"
   },
   {
    "duration": 13,
    "start_time": "2022-01-10T14:03:01.619Z"
   },
   {
    "duration": 305,
    "start_time": "2022-01-10T14:03:20.451Z"
   },
   {
    "duration": 3,
    "start_time": "2022-01-10T14:04:17.706Z"
   },
   {
    "duration": 38,
    "start_time": "2022-01-10T14:04:54.345Z"
   },
   {
    "duration": 114,
    "start_time": "2022-01-10T14:04:55.096Z"
   },
   {
    "duration": 147,
    "start_time": "2022-01-10T14:05:06.609Z"
   },
   {
    "duration": 36,
    "start_time": "2022-01-10T14:06:22.857Z"
   },
   {
    "duration": 146,
    "start_time": "2022-01-10T14:06:24.289Z"
   },
   {
    "duration": 14,
    "start_time": "2022-01-10T14:09:20.193Z"
   },
   {
    "duration": 4,
    "start_time": "2022-01-10T14:13:40.064Z"
   },
   {
    "duration": 337,
    "start_time": "2022-01-10T14:13:40.072Z"
   },
   {
    "duration": 3,
    "start_time": "2022-01-10T14:13:41.056Z"
   },
   {
    "duration": 4,
    "start_time": "2022-01-10T14:13:52.208Z"
   },
   {
    "duration": 20,
    "start_time": "2022-01-10T14:13:52.491Z"
   },
   {
    "duration": 4,
    "start_time": "2022-01-10T14:13:53.230Z"
   },
   {
    "duration": 4,
    "start_time": "2022-01-10T14:13:53.643Z"
   },
   {
    "duration": 44639,
    "start_time": "2022-01-10T14:13:54.130Z"
   },
   {
    "duration": 36,
    "start_time": "2022-01-10T14:14:38.772Z"
   },
   {
    "duration": 170,
    "start_time": "2022-01-10T14:14:38.811Z"
   },
   {
    "duration": 107,
    "start_time": "2022-01-10T14:17:20.842Z"
   },
   {
    "duration": 4,
    "start_time": "2022-01-10T14:19:49.884Z"
   },
   {
    "duration": 2757,
    "start_time": "2022-01-10T14:20:16.610Z"
   },
   {
    "duration": 4,
    "start_time": "2022-01-10T14:23:18.327Z"
   },
   {
    "duration": 13144,
    "start_time": "2022-01-10T14:23:18.701Z"
   },
   {
    "duration": 7,
    "start_time": "2022-01-10T14:23:57.822Z"
   },
   {
    "duration": 6201,
    "start_time": "2022-01-10T14:24:12.130Z"
   },
   {
    "duration": -2607,
    "start_time": "2022-01-10T14:24:20.944Z"
   },
   {
    "duration": -2964,
    "start_time": "2022-01-10T14:24:21.302Z"
   },
   {
    "duration": -2964,
    "start_time": "2022-01-10T14:24:21.304Z"
   },
   {
    "duration": -2963,
    "start_time": "2022-01-10T14:24:21.305Z"
   },
   {
    "duration": -3059,
    "start_time": "2022-01-10T14:24:21.402Z"
   },
   {
    "duration": -3060,
    "start_time": "2022-01-10T14:24:21.405Z"
   },
   {
    "duration": -3166,
    "start_time": "2022-01-10T14:24:21.512Z"
   },
   {
    "duration": -3166,
    "start_time": "2022-01-10T14:24:21.513Z"
   },
   {
    "duration": -3393,
    "start_time": "2022-01-10T14:24:21.742Z"
   },
   {
    "duration": -3540,
    "start_time": "2022-01-10T14:24:21.890Z"
   },
   {
    "duration": -3542,
    "start_time": "2022-01-10T14:24:21.893Z"
   },
   {
    "duration": -3681,
    "start_time": "2022-01-10T14:24:22.034Z"
   },
   {
    "duration": -3698,
    "start_time": "2022-01-10T14:24:22.052Z"
   },
   {
    "duration": -3700,
    "start_time": "2022-01-10T14:24:22.055Z"
   },
   {
    "duration": -3702,
    "start_time": "2022-01-10T14:24:22.058Z"
   },
   {
    "duration": -3704,
    "start_time": "2022-01-10T14:24:22.061Z"
   },
   {
    "duration": -3751,
    "start_time": "2022-01-10T14:24:22.110Z"
   },
   {
    "duration": -3763,
    "start_time": "2022-01-10T14:24:22.123Z"
   },
   {
    "duration": -3872,
    "start_time": "2022-01-10T14:24:22.233Z"
   },
   {
    "duration": -3873,
    "start_time": "2022-01-10T14:24:22.236Z"
   },
   {
    "duration": -3874,
    "start_time": "2022-01-10T14:24:22.238Z"
   },
   {
    "duration": -4129,
    "start_time": "2022-01-10T14:24:22.494Z"
   },
   {
    "duration": 1763,
    "start_time": "2022-01-10T14:24:25.647Z"
   },
   {
    "duration": 4785,
    "start_time": "2022-01-10T14:24:27.413Z"
   },
   {
    "duration": 25,
    "start_time": "2022-01-10T14:24:32.202Z"
   },
   {
    "duration": 181,
    "start_time": "2022-01-10T14:24:32.230Z"
   },
   {
    "duration": 144,
    "start_time": "2022-01-10T14:24:32.413Z"
   },
   {
    "duration": 168,
    "start_time": "2022-01-10T14:24:32.566Z"
   },
   {
    "duration": 721,
    "start_time": "2022-01-10T14:24:32.736Z"
   },
   {
    "duration": 7,
    "start_time": "2022-01-10T14:24:33.467Z"
   },
   {
    "duration": 2536,
    "start_time": "2022-01-10T14:24:33.480Z"
   },
   {
    "duration": 17,
    "start_time": "2022-01-10T14:24:36.021Z"
   },
   {
    "duration": 32,
    "start_time": "2022-01-10T14:24:36.041Z"
   },
   {
    "duration": 21,
    "start_time": "2022-01-10T14:24:36.077Z"
   },
   {
    "duration": 6,
    "start_time": "2022-01-10T14:24:36.102Z"
   },
   {
    "duration": 58,
    "start_time": "2022-01-10T14:24:36.112Z"
   },
   {
    "duration": 118,
    "start_time": "2022-01-10T14:24:36.173Z"
   },
   {
    "duration": 50,
    "start_time": "2022-01-10T14:24:36.294Z"
   },
   {
    "duration": 66,
    "start_time": "2022-01-10T14:24:36.346Z"
   },
   {
    "duration": 127,
    "start_time": "2022-01-10T14:24:36.415Z"
   },
   {
    "duration": 4,
    "start_time": "2022-01-10T14:24:36.545Z"
   },
   {
    "duration": 14482,
    "start_time": "2022-01-10T14:24:36.551Z"
   },
   {
    "duration": 44,
    "start_time": "2022-01-10T14:24:51.036Z"
   },
   {
    "duration": 8235,
    "start_time": "2022-01-10T14:24:51.083Z"
   },
   {
    "duration": 26,
    "start_time": "2022-01-10T14:24:59.321Z"
   },
   {
    "duration": 1472,
    "start_time": "2022-01-10T14:24:59.349Z"
   },
   {
    "duration": 68,
    "start_time": "2022-01-10T14:25:00.824Z"
   },
   {
    "duration": 15,
    "start_time": "2022-01-10T14:25:00.894Z"
   },
   {
    "duration": 4,
    "start_time": "2022-01-10T14:25:00.914Z"
   },
   {
    "duration": 52,
    "start_time": "2022-01-10T14:25:00.920Z"
   },
   {
    "duration": 4,
    "start_time": "2022-01-10T14:25:00.974Z"
   },
   {
    "duration": 87,
    "start_time": "2022-01-10T14:25:00.980Z"
   },
   {
    "duration": 42960,
    "start_time": "2022-01-10T14:25:01.070Z"
   },
   {
    "duration": 54,
    "start_time": "2022-01-10T14:25:44.033Z"
   },
   {
    "duration": 152,
    "start_time": "2022-01-10T14:25:44.090Z"
   },
   {
    "duration": 442,
    "start_time": "2022-01-10T14:25:44.245Z"
   },
   {
    "duration": -1160,
    "start_time": "2022-01-10T14:25:45.850Z"
   },
   {
    "duration": -1163,
    "start_time": "2022-01-10T14:25:45.855Z"
   },
   {
    "duration": 39,
    "start_time": "2022-01-10T14:29:49.052Z"
   },
   {
    "duration": 26,
    "start_time": "2022-01-10T14:29:55.890Z"
   },
   {
    "duration": 40,
    "start_time": "2022-01-10T14:30:05.575Z"
   },
   {
    "duration": 41,
    "start_time": "2022-01-10T14:30:13.834Z"
   },
   {
    "duration": 38,
    "start_time": "2022-01-10T14:30:19.723Z"
   },
   {
    "duration": 37,
    "start_time": "2022-01-10T14:30:27.811Z"
   },
   {
    "duration": 1637,
    "start_time": "2022-01-10T14:31:34.708Z"
   },
   {
    "duration": 1239,
    "start_time": "2022-01-10T14:31:36.347Z"
   },
   {
    "duration": 27,
    "start_time": "2022-01-10T14:31:37.589Z"
   },
   {
    "duration": 236,
    "start_time": "2022-01-10T14:31:37.620Z"
   },
   {
    "duration": 153,
    "start_time": "2022-01-10T14:31:37.867Z"
   },
   {
    "duration": 178,
    "start_time": "2022-01-10T14:31:38.023Z"
   },
   {
    "duration": 759,
    "start_time": "2022-01-10T14:31:38.204Z"
   },
   {
    "duration": 7,
    "start_time": "2022-01-10T14:31:38.967Z"
   },
   {
    "duration": 2407,
    "start_time": "2022-01-10T14:31:38.978Z"
   },
   {
    "duration": 15,
    "start_time": "2022-01-10T14:31:41.389Z"
   },
   {
    "duration": 125,
    "start_time": "2022-01-10T14:31:41.406Z"
   },
   {
    "duration": 104,
    "start_time": "2022-01-10T14:31:41.534Z"
   },
   {
    "duration": 49,
    "start_time": "2022-01-10T14:31:41.641Z"
   },
   {
    "duration": 112,
    "start_time": "2022-01-10T14:31:41.693Z"
   },
   {
    "duration": 126,
    "start_time": "2022-01-10T14:31:41.808Z"
   },
   {
    "duration": 53,
    "start_time": "2022-01-10T14:31:41.936Z"
   },
   {
    "duration": 60,
    "start_time": "2022-01-10T14:31:41.992Z"
   },
   {
    "duration": 141,
    "start_time": "2022-01-10T14:31:42.055Z"
   },
   {
    "duration": 27,
    "start_time": "2022-01-10T14:31:42.199Z"
   },
   {
    "duration": 15129,
    "start_time": "2022-01-10T14:31:42.229Z"
   },
   {
    "duration": 44,
    "start_time": "2022-01-10T14:31:57.361Z"
   },
   {
    "duration": 8464,
    "start_time": "2022-01-10T14:31:57.408Z"
   },
   {
    "duration": 28,
    "start_time": "2022-01-10T14:32:05.875Z"
   },
   {
    "duration": 7536,
    "start_time": "2022-01-10T14:32:05.905Z"
   },
   {
    "duration": 64,
    "start_time": "2022-01-10T14:32:13.444Z"
   },
   {
    "duration": 16,
    "start_time": "2022-01-10T14:32:13.511Z"
   },
   {
    "duration": 4,
    "start_time": "2022-01-10T14:32:13.532Z"
   },
   {
    "duration": 52,
    "start_time": "2022-01-10T14:32:13.539Z"
   },
   {
    "duration": 4,
    "start_time": "2022-01-10T14:32:13.594Z"
   },
   {
    "duration": 71,
    "start_time": "2022-01-10T14:32:13.602Z"
   },
   {
    "duration": 46683,
    "start_time": "2022-01-10T14:32:13.676Z"
   },
   {
    "duration": 36,
    "start_time": "2022-01-10T14:33:00.361Z"
   },
   {
    "duration": 328,
    "start_time": "2022-01-10T14:33:00.400Z"
   },
   {
    "duration": 62,
    "start_time": "2022-01-10T14:33:00.731Z"
   },
   {
    "duration": 530,
    "start_time": "2022-01-10T14:33:00.796Z"
   },
   {
    "duration": -1843,
    "start_time": "2022-01-10T14:33:03.172Z"
   },
   {
    "duration": -1844,
    "start_time": "2022-01-10T14:33:03.175Z"
   },
   {
    "duration": 5,
    "start_time": "2022-01-10T14:39:55.299Z"
   },
   {
    "duration": 14,
    "start_time": "2022-01-10T14:39:55.946Z"
   },
   {
    "duration": 4,
    "start_time": "2022-01-10T14:39:56.268Z"
   },
   {
    "duration": 4,
    "start_time": "2022-01-10T14:39:56.607Z"
   },
   {
    "duration": 47080,
    "start_time": "2022-01-10T14:39:56.905Z"
   },
   {
    "duration": 38,
    "start_time": "2022-01-10T14:40:43.988Z"
   },
   {
    "duration": 170,
    "start_time": "2022-01-10T14:40:44.029Z"
   },
   {
    "duration": 3,
    "start_time": "2022-01-10T14:43:14.798Z"
   },
   {
    "duration": 498,
    "start_time": "2022-01-10T14:43:15.059Z"
   },
   {
    "duration": -1346,
    "start_time": "2022-01-10T14:43:16.906Z"
   },
   {
    "duration": -1347,
    "start_time": "2022-01-10T14:43:16.909Z"
   },
   {
    "duration": 53187,
    "start_time": "2022-01-10T14:43:15.845Z"
   },
   {
    "duration": 14,
    "start_time": "2022-01-10T14:44:09.034Z"
   },
   {
    "duration": 15,
    "start_time": "2022-01-10T14:44:18.578Z"
   },
   {
    "duration": 15,
    "start_time": "2022-01-10T14:44:21.795Z"
   },
   {
    "duration": 16,
    "start_time": "2022-01-10T14:44:39.006Z"
   },
   {
    "duration": 15,
    "start_time": "2022-01-10T14:44:45.825Z"
   },
   {
    "duration": 16,
    "start_time": "2022-01-10T14:45:27.666Z"
   },
   {
    "duration": 13,
    "start_time": "2022-01-10T14:45:36.559Z"
   },
   {
    "duration": 14,
    "start_time": "2022-01-10T14:45:38.879Z"
   },
   {
    "duration": 14,
    "start_time": "2022-01-10T14:45:43.788Z"
   },
   {
    "duration": 24,
    "start_time": "2022-01-10T14:47:09.224Z"
   },
   {
    "duration": 11,
    "start_time": "2022-01-10T14:48:36.941Z"
   },
   {
    "duration": 708,
    "start_time": "2022-01-10T14:48:52.768Z"
   },
   {
    "duration": 8,
    "start_time": "2022-01-10T14:49:54.159Z"
   },
   {
    "duration": 13,
    "start_time": "2022-01-10T14:49:57.829Z"
   },
   {
    "duration": 3,
    "start_time": "2022-01-10T14:51:12.366Z"
   },
   {
    "duration": 68,
    "start_time": "2022-01-10T14:51:12.687Z"
   },
   {
    "duration": 4,
    "start_time": "2022-01-10T14:51:13.334Z"
   },
   {
    "duration": 140,
    "start_time": "2022-01-10T14:51:13.656Z"
   },
   {
    "duration": 47344,
    "start_time": "2022-01-10T14:51:13.858Z"
   },
   {
    "duration": 46,
    "start_time": "2022-01-10T14:52:01.204Z"
   },
   {
    "duration": 404,
    "start_time": "2022-01-10T14:52:01.252Z"
   },
   {
    "duration": 1683,
    "start_time": "2022-01-10T16:45:26.648Z"
   },
   {
    "duration": 1184,
    "start_time": "2022-01-10T16:45:28.334Z"
   },
   {
    "duration": 43,
    "start_time": "2022-01-10T16:45:29.524Z"
   },
   {
    "duration": 332,
    "start_time": "2022-01-10T16:45:29.570Z"
   },
   {
    "duration": 153,
    "start_time": "2022-01-10T16:45:29.904Z"
   },
   {
    "duration": 274,
    "start_time": "2022-01-10T16:45:30.067Z"
   },
   {
    "duration": 773,
    "start_time": "2022-01-10T16:45:30.345Z"
   },
   {
    "duration": 7,
    "start_time": "2022-01-10T16:45:31.121Z"
   },
   {
    "duration": 2613,
    "start_time": "2022-01-10T16:45:31.131Z"
   },
   {
    "duration": 28,
    "start_time": "2022-01-10T16:45:33.747Z"
   },
   {
    "duration": 184,
    "start_time": "2022-01-10T16:45:33.779Z"
   },
   {
    "duration": 296,
    "start_time": "2022-01-10T16:45:33.965Z"
   },
   {
    "duration": 196,
    "start_time": "2022-01-10T16:45:34.264Z"
   },
   {
    "duration": 191,
    "start_time": "2022-01-10T16:45:34.463Z"
   },
   {
    "duration": 116,
    "start_time": "2022-01-10T16:45:34.657Z"
   },
   {
    "duration": 259,
    "start_time": "2022-01-10T16:45:34.777Z"
   },
   {
    "duration": 105,
    "start_time": "2022-01-10T16:45:35.039Z"
   },
   {
    "duration": 234,
    "start_time": "2022-01-10T16:45:35.147Z"
   },
   {
    "duration": 270,
    "start_time": "2022-01-10T16:45:35.385Z"
   },
   {
    "duration": 133,
    "start_time": "2022-01-10T16:45:35.666Z"
   },
   {
    "duration": 15689,
    "start_time": "2022-01-10T16:45:35.802Z"
   },
   {
    "duration": 27,
    "start_time": "2022-01-10T16:45:51.498Z"
   },
   {
    "duration": 312,
    "start_time": "2022-01-10T16:45:51.527Z"
   },
   {
    "duration": 293,
    "start_time": "2022-01-10T16:45:51.842Z"
   },
   {
    "duration": 8894,
    "start_time": "2022-01-10T16:45:52.138Z"
   },
   {
    "duration": 46,
    "start_time": "2022-01-10T16:46:01.035Z"
   },
   {
    "duration": 8416,
    "start_time": "2022-01-10T16:46:01.084Z"
   },
   {
    "duration": 94,
    "start_time": "2022-01-10T16:46:09.503Z"
   },
   {
    "duration": 275,
    "start_time": "2022-01-10T16:46:09.600Z"
   },
   {
    "duration": 188,
    "start_time": "2022-01-10T16:46:09.878Z"
   },
   {
    "duration": 336,
    "start_time": "2022-01-10T16:46:10.068Z"
   },
   {
    "duration": 277,
    "start_time": "2022-01-10T16:46:10.408Z"
   },
   {
    "duration": 269,
    "start_time": "2022-01-10T16:46:10.688Z"
   },
   {
    "duration": 51596,
    "start_time": "2022-01-10T16:46:10.959Z"
   },
   {
    "duration": 40,
    "start_time": "2022-01-10T16:47:02.557Z"
   },
   {
    "duration": 371,
    "start_time": "2022-01-10T16:47:02.599Z"
   },
   {
    "duration": 139,
    "start_time": "2022-01-10T16:47:02.972Z"
   },
   {
    "duration": 933,
    "start_time": "2022-01-10T16:47:03.114Z"
   },
   {
    "duration": 22,
    "start_time": "2022-01-10T16:47:04.049Z"
   },
   {
    "duration": 614,
    "start_time": "2022-01-10T16:47:50.629Z"
   },
   {
    "duration": 9855,
    "start_time": "2022-01-10T16:48:47.093Z"
   },
   {
    "duration": 10531,
    "start_time": "2022-01-10T16:49:10.869Z"
   },
   {
    "duration": 9660,
    "start_time": "2022-01-10T16:49:49.157Z"
   },
   {
    "duration": 5,
    "start_time": "2022-01-10T16:49:58.820Z"
   },
   {
    "duration": 342,
    "start_time": "2022-01-10T16:50:08.308Z"
   },
   {
    "duration": 109,
    "start_time": "2022-01-10T16:50:19.642Z"
   },
   {
    "duration": 725,
    "start_time": "2022-01-10T16:50:38.018Z"
   },
   {
    "duration": 12846,
    "start_time": "2022-01-10T16:50:51.606Z"
   },
   {
    "duration": 13,
    "start_time": "2022-01-10T16:51:04.455Z"
   },
   {
    "duration": 385,
    "start_time": "2022-01-10T16:51:16.852Z"
   },
   {
    "duration": 88,
    "start_time": "2022-01-10T16:51:28.922Z"
   },
   {
    "duration": 99,
    "start_time": "2022-01-10T16:51:34.189Z"
   },
   {
    "duration": 345,
    "start_time": "2022-01-10T16:51:48.034Z"
   },
   {
    "duration": 317,
    "start_time": "2022-01-10T16:52:49.576Z"
   },
   {
    "duration": 11,
    "start_time": "2022-01-10T16:53:13.135Z"
   },
   {
    "duration": 343,
    "start_time": "2022-01-10T16:53:19.670Z"
   },
   {
    "duration": 314,
    "start_time": "2022-01-10T16:53:35.814Z"
   },
   {
    "duration": 10,
    "start_time": "2022-01-10T16:53:58.848Z"
   },
   {
    "duration": 349,
    "start_time": "2022-01-10T16:55:00.175Z"
   },
   {
    "duration": 95,
    "start_time": "2022-01-10T16:55:09.221Z"
   },
   {
    "duration": 135,
    "start_time": "2022-01-10T16:55:12.274Z"
   },
   {
    "duration": 150,
    "start_time": "2022-01-10T16:55:27.165Z"
   },
   {
    "duration": 112,
    "start_time": "2022-01-10T16:55:49.481Z"
   },
   {
    "duration": 219,
    "start_time": "2022-01-10T16:55:57.228Z"
   },
   {
    "duration": 10159,
    "start_time": "2022-01-10T16:56:03.978Z"
   },
   {
    "duration": 9530,
    "start_time": "2022-01-10T16:56:14.139Z"
   },
   {
    "duration": 6,
    "start_time": "2022-01-10T16:56:23.672Z"
   },
   {
    "duration": 161,
    "start_time": "2022-01-10T16:56:23.680Z"
   },
   {
    "duration": 486,
    "start_time": "2022-01-10T16:56:23.844Z"
   },
   {
    "duration": 4728,
    "start_time": "2022-01-10T16:57:15.212Z"
   },
   {
    "duration": 4385,
    "start_time": "2022-01-10T16:57:46.472Z"
   },
   {
    "duration": 4991,
    "start_time": "2022-01-10T16:57:55.414Z"
   },
   {
    "duration": 5001,
    "start_time": "2022-01-10T16:58:10.654Z"
   },
   {
    "duration": 4568,
    "start_time": "2022-01-10T16:58:30.633Z"
   },
   {
    "duration": 386,
    "start_time": "2022-01-10T16:59:18.172Z"
   },
   {
    "duration": 26,
    "start_time": "2022-01-10T16:59:22.653Z"
   },
   {
    "duration": 9022,
    "start_time": "2022-01-10T16:59:22.961Z"
   },
   {
    "duration": 3692,
    "start_time": "2022-01-10T16:59:28.294Z"
   },
   {
    "duration": 13,
    "start_time": "2022-01-10T16:59:34.804Z"
   },
   {
    "duration": 345,
    "start_time": "2022-01-10T16:59:44.911Z"
   },
   {
    "duration": 291,
    "start_time": "2022-01-10T16:59:55.933Z"
   },
   {
    "duration": 420,
    "start_time": "2022-01-10T17:00:02.232Z"
   },
   {
    "duration": 347,
    "start_time": "2022-01-10T17:00:13.858Z"
   },
   {
    "duration": 314,
    "start_time": "2022-01-10T17:00:25.394Z"
   },
   {
    "duration": 8099,
    "start_time": "2022-01-10T17:00:39.305Z"
   },
   {
    "duration": 26,
    "start_time": "2022-01-10T17:00:48.847Z"
   },
   {
    "duration": 12,
    "start_time": "2022-01-10T17:00:49.805Z"
   },
   {
    "duration": 310,
    "start_time": "2022-01-10T17:00:54.867Z"
   },
   {
    "duration": 30,
    "start_time": "2022-01-10T17:01:03.694Z"
   },
   {
    "duration": 12,
    "start_time": "2022-01-10T17:01:05.652Z"
   },
   {
    "duration": 393,
    "start_time": "2022-01-10T17:01:08.466Z"
   },
   {
    "duration": 480,
    "start_time": "2022-01-10T17:01:15.539Z"
   },
   {
    "duration": 1183,
    "start_time": "2022-01-10T17:01:49.615Z"
   },
   {
    "duration": 4779,
    "start_time": "2022-01-10T17:01:58.249Z"
   },
   {
    "duration": 284,
    "start_time": "2022-01-10T17:02:29.372Z"
   },
   {
    "duration": 23,
    "start_time": "2022-01-10T17:02:31.813Z"
   },
   {
    "duration": 437,
    "start_time": "2022-01-10T17:02:31.991Z"
   },
   {
    "duration": 332,
    "start_time": "2022-01-10T17:02:42.073Z"
   },
   {
    "duration": 10,
    "start_time": "2022-01-10T17:05:53.620Z"
   },
   {
    "duration": 29,
    "start_time": "2022-01-10T17:07:11.210Z"
   },
   {
    "duration": 27,
    "start_time": "2022-01-10T17:07:24.569Z"
   },
   {
    "duration": 7,
    "start_time": "2022-01-10T17:07:27.381Z"
   },
   {
    "duration": 283,
    "start_time": "2022-01-10T17:07:50.014Z"
   },
   {
    "duration": 30,
    "start_time": "2022-01-10T17:07:52.859Z"
   },
   {
    "duration": 98,
    "start_time": "2022-01-10T17:07:53.058Z"
   },
   {
    "duration": 26,
    "start_time": "2022-01-10T17:08:13.592Z"
   },
   {
    "duration": 5,
    "start_time": "2022-01-10T17:08:14.250Z"
   },
   {
    "duration": 28,
    "start_time": "2022-01-10T17:08:23.234Z"
   },
   {
    "duration": 25,
    "start_time": "2022-01-10T17:08:28.169Z"
   },
   {
    "duration": 24,
    "start_time": "2022-01-10T17:08:31.455Z"
   },
   {
    "duration": 11,
    "start_time": "2022-01-10T17:08:37.172Z"
   },
   {
    "duration": 37,
    "start_time": "2022-01-10T17:08:43.698Z"
   },
   {
    "duration": 5,
    "start_time": "2022-01-10T17:08:44.287Z"
   },
   {
    "duration": 41,
    "start_time": "2022-01-10T17:11:14.342Z"
   },
   {
    "duration": 39,
    "start_time": "2022-01-10T17:11:53.936Z"
   },
   {
    "duration": 29,
    "start_time": "2022-01-10T17:25:34.822Z"
   },
   {
    "duration": 31,
    "start_time": "2022-01-10T17:26:25.451Z"
   },
   {
    "duration": 31,
    "start_time": "2022-01-10T17:26:44.809Z"
   },
   {
    "duration": 1655,
    "start_time": "2022-01-10T17:28:25.545Z"
   },
   {
    "duration": 1330,
    "start_time": "2022-01-10T17:28:27.202Z"
   },
   {
    "duration": 43,
    "start_time": "2022-01-10T17:28:28.538Z"
   },
   {
    "duration": 344,
    "start_time": "2022-01-10T17:28:28.584Z"
   },
   {
    "duration": 300,
    "start_time": "2022-01-10T17:28:28.932Z"
   },
   {
    "duration": 264,
    "start_time": "2022-01-10T17:28:29.235Z"
   },
   {
    "duration": 830,
    "start_time": "2022-01-10T17:28:29.503Z"
   },
   {
    "duration": 10,
    "start_time": "2022-01-10T17:28:30.336Z"
   },
   {
    "duration": 2670,
    "start_time": "2022-01-10T17:28:30.366Z"
   },
   {
    "duration": 32,
    "start_time": "2022-01-10T17:28:33.038Z"
   },
   {
    "duration": 185,
    "start_time": "2022-01-10T17:28:33.074Z"
   },
   {
    "duration": 200,
    "start_time": "2022-01-10T17:28:33.261Z"
   },
   {
    "duration": 243,
    "start_time": "2022-01-10T17:28:33.463Z"
   },
   {
    "duration": 238,
    "start_time": "2022-01-10T17:28:33.709Z"
   },
   {
    "duration": 331,
    "start_time": "2022-01-10T17:28:33.949Z"
   },
   {
    "duration": 267,
    "start_time": "2022-01-10T17:28:34.283Z"
   },
   {
    "duration": 156,
    "start_time": "2022-01-10T17:28:34.552Z"
   },
   {
    "duration": 222,
    "start_time": "2022-01-10T17:28:34.710Z"
   },
   {
    "duration": 284,
    "start_time": "2022-01-10T17:28:34.935Z"
   },
   {
    "duration": 171,
    "start_time": "2022-01-10T17:28:35.223Z"
   },
   {
    "duration": 15448,
    "start_time": "2022-01-10T17:28:35.397Z"
   },
   {
    "duration": 40,
    "start_time": "2022-01-10T17:28:50.852Z"
   },
   {
    "duration": 155,
    "start_time": "2022-01-10T17:28:50.897Z"
   },
   {
    "duration": 285,
    "start_time": "2022-01-10T17:28:51.055Z"
   },
   {
    "duration": 307,
    "start_time": "2022-01-10T17:28:51.344Z"
   },
   {
    "duration": 295,
    "start_time": "2022-01-10T17:28:51.653Z"
   },
   {
    "duration": 755,
    "start_time": "2022-01-10T17:28:51.951Z"
   },
   {
    "duration": 27,
    "start_time": "2022-01-10T17:28:52.709Z"
   },
   {
    "duration": 271,
    "start_time": "2022-01-10T17:28:52.739Z"
   },
   {
    "duration": 302,
    "start_time": "2022-01-10T17:28:53.012Z"
   },
   {
    "duration": 793,
    "start_time": "2022-01-10T17:28:53.317Z"
   },
   {
    "duration": 3727,
    "start_time": "2022-01-10T17:28:50.386Z"
   },
   {
    "duration": 3724,
    "start_time": "2022-01-10T17:28:50.390Z"
   },
   {
    "duration": 3724,
    "start_time": "2022-01-10T17:28:50.392Z"
   },
   {
    "duration": 3717,
    "start_time": "2022-01-10T17:28:50.401Z"
   },
   {
    "duration": 3731,
    "start_time": "2022-01-10T17:28:50.405Z"
   },
   {
    "duration": 3729,
    "start_time": "2022-01-10T17:28:50.408Z"
   },
   {
    "duration": 3727,
    "start_time": "2022-01-10T17:28:50.412Z"
   },
   {
    "duration": 3728,
    "start_time": "2022-01-10T17:28:50.413Z"
   },
   {
    "duration": 3726,
    "start_time": "2022-01-10T17:28:50.416Z"
   },
   {
    "duration": 3724,
    "start_time": "2022-01-10T17:28:50.419Z"
   },
   {
    "duration": 3722,
    "start_time": "2022-01-10T17:28:50.422Z"
   },
   {
    "duration": 3720,
    "start_time": "2022-01-10T17:28:50.426Z"
   },
   {
    "duration": 3715,
    "start_time": "2022-01-10T17:28:50.432Z"
   },
   {
    "duration": 3714,
    "start_time": "2022-01-10T17:28:50.435Z"
   },
   {
    "duration": 3712,
    "start_time": "2022-01-10T17:28:50.438Z"
   },
   {
    "duration": 3707,
    "start_time": "2022-01-10T17:28:50.444Z"
   },
   {
    "duration": 3706,
    "start_time": "2022-01-10T17:28:50.447Z"
   },
   {
    "duration": 3707,
    "start_time": "2022-01-10T17:28:50.448Z"
   },
   {
    "duration": 3704,
    "start_time": "2022-01-10T17:28:50.452Z"
   },
   {
    "duration": 3703,
    "start_time": "2022-01-10T17:28:50.455Z"
   },
   {
    "duration": 3708,
    "start_time": "2022-01-10T17:28:50.459Z"
   },
   {
    "duration": 3707,
    "start_time": "2022-01-10T17:28:50.462Z"
   },
   {
    "duration": 3706,
    "start_time": "2022-01-10T17:28:50.464Z"
   },
   {
    "duration": 3705,
    "start_time": "2022-01-10T17:28:50.467Z"
   },
   {
    "duration": 3702,
    "start_time": "2022-01-10T17:28:50.472Z"
   },
   {
    "duration": 4,
    "start_time": "2022-01-10T17:29:55.932Z"
   },
   {
    "duration": 37,
    "start_time": "2022-01-10T17:29:56.283Z"
   },
   {
    "duration": 47,
    "start_time": "2022-01-10T17:30:03.661Z"
   },
   {
    "duration": 208,
    "start_time": "2022-01-10T17:30:03.711Z"
   },
   {
    "duration": 156,
    "start_time": "2022-01-10T17:30:03.922Z"
   },
   {
    "duration": 612,
    "start_time": "2022-01-10T17:30:04.080Z"
   },
   {
    "duration": 8727,
    "start_time": "2022-01-10T17:30:04.695Z"
   },
   {
    "duration": 48,
    "start_time": "2022-01-10T17:30:13.425Z"
   },
   {
    "duration": 455,
    "start_time": "2022-01-10T17:30:13.477Z"
   },
   {
    "duration": 366,
    "start_time": "2022-01-10T17:30:13.935Z"
   },
   {
    "duration": 7684,
    "start_time": "2022-01-10T17:30:14.307Z"
   },
   {
    "duration": 90,
    "start_time": "2022-01-10T17:30:21.995Z"
   },
   {
    "duration": 74,
    "start_time": "2022-01-10T17:30:22.087Z"
   },
   {
    "duration": 10824,
    "start_time": "2022-01-10T17:30:22.163Z"
   },
   {
    "duration": 10231,
    "start_time": "2022-01-10T17:30:32.990Z"
   },
   {
    "duration": 8,
    "start_time": "2022-01-10T17:30:43.224Z"
   },
   {
    "duration": 123,
    "start_time": "2022-01-10T17:30:43.234Z"
   },
   {
    "duration": 426,
    "start_time": "2022-01-10T17:30:43.360Z"
   },
   {
    "duration": 4,
    "start_time": "2022-01-10T17:30:43.791Z"
   },
   {
    "duration": 134,
    "start_time": "2022-01-10T17:30:43.798Z"
   },
   {
    "duration": 62,
    "start_time": "2022-01-10T17:30:43.935Z"
   },
   {
    "duration": 126,
    "start_time": "2022-01-10T17:30:43.999Z"
   },
   {
    "duration": 43812,
    "start_time": "2022-01-10T17:30:44.128Z"
   },
   {
    "duration": 46,
    "start_time": "2022-01-10T17:31:27.942Z"
   },
   {
    "duration": 364,
    "start_time": "2022-01-10T17:31:27.990Z"
   },
   {
    "duration": 143,
    "start_time": "2022-01-10T17:31:28.356Z"
   },
   {
    "duration": 818,
    "start_time": "2022-01-10T17:31:28.502Z"
   },
   {
    "duration": 17,
    "start_time": "2022-01-10T17:31:29.322Z"
   },
   {
    "duration": 180,
    "start_time": "2022-01-10T17:31:29.345Z"
   },
   {
    "duration": 249,
    "start_time": "2022-01-10T17:31:29.528Z"
   },
   {
    "duration": 13,
    "start_time": "2022-01-10T17:32:37.832Z"
   },
   {
    "duration": 1767,
    "start_time": "2022-01-10T17:34:17.805Z"
   },
   {
    "duration": 1581,
    "start_time": "2022-01-10T17:34:19.576Z"
   },
   {
    "duration": 33,
    "start_time": "2022-01-10T17:34:21.163Z"
   },
   {
    "duration": 271,
    "start_time": "2022-01-10T17:34:21.198Z"
   },
   {
    "duration": 151,
    "start_time": "2022-01-10T17:34:21.472Z"
   },
   {
    "duration": 191,
    "start_time": "2022-01-10T17:34:21.627Z"
   },
   {
    "duration": 941,
    "start_time": "2022-01-10T17:34:21.823Z"
   },
   {
    "duration": 10,
    "start_time": "2022-01-10T17:34:22.769Z"
   },
   {
    "duration": 3248,
    "start_time": "2022-01-10T17:34:22.782Z"
   },
   {
    "duration": 36,
    "start_time": "2022-01-10T17:34:26.033Z"
   },
   {
    "duration": 203,
    "start_time": "2022-01-10T17:34:26.073Z"
   },
   {
    "duration": 229,
    "start_time": "2022-01-10T17:34:26.280Z"
   },
   {
    "duration": 211,
    "start_time": "2022-01-10T17:34:26.513Z"
   },
   {
    "duration": 195,
    "start_time": "2022-01-10T17:34:26.727Z"
   },
   {
    "duration": 117,
    "start_time": "2022-01-10T17:34:26.924Z"
   },
   {
    "duration": 232,
    "start_time": "2022-01-10T17:34:27.044Z"
   },
   {
    "duration": 86,
    "start_time": "2022-01-10T17:34:27.279Z"
   },
   {
    "duration": 175,
    "start_time": "2022-01-10T17:34:27.368Z"
   },
   {
    "duration": 267,
    "start_time": "2022-01-10T17:34:27.545Z"
   },
   {
    "duration": 146,
    "start_time": "2022-01-10T17:34:27.814Z"
   },
   {
    "duration": 15052,
    "start_time": "2022-01-10T17:34:27.963Z"
   },
   {
    "duration": 30,
    "start_time": "2022-01-10T17:34:43.021Z"
   },
   {
    "duration": 197,
    "start_time": "2022-01-10T17:34:43.054Z"
   },
   {
    "duration": 263,
    "start_time": "2022-01-10T17:34:43.253Z"
   },
   {
    "duration": 261,
    "start_time": "2022-01-10T17:34:43.518Z"
   },
   {
    "duration": 134,
    "start_time": "2022-01-10T17:34:43.782Z"
   },
   {
    "duration": 696,
    "start_time": "2022-01-10T17:34:43.919Z"
   },
   {
    "duration": 26,
    "start_time": "2022-01-10T17:34:44.618Z"
   },
   {
    "duration": 150,
    "start_time": "2022-01-10T17:34:44.647Z"
   },
   {
    "duration": 171,
    "start_time": "2022-01-10T17:34:44.800Z"
   },
   {
    "duration": 179,
    "start_time": "2022-01-10T17:34:44.973Z"
   },
   {
    "duration": 221,
    "start_time": "2022-01-10T17:34:45.155Z"
   },
   {
    "duration": 132,
    "start_time": "2022-01-10T17:34:45.380Z"
   },
   {
    "duration": 175,
    "start_time": "2022-01-10T17:34:45.515Z"
   },
   {
    "duration": 454,
    "start_time": "2022-01-10T17:34:45.693Z"
   },
   {
    "duration": 8887,
    "start_time": "2022-01-10T17:34:46.149Z"
   },
   {
    "duration": 44,
    "start_time": "2022-01-10T17:34:55.039Z"
   },
   {
    "duration": 172,
    "start_time": "2022-01-10T17:34:55.086Z"
   },
   {
    "duration": 208,
    "start_time": "2022-01-10T17:34:55.261Z"
   },
   {
    "duration": 272,
    "start_time": "2022-01-10T17:34:55.472Z"
   },
   {
    "duration": 7441,
    "start_time": "2022-01-10T17:34:55.748Z"
   },
   {
    "duration": 88,
    "start_time": "2022-01-10T17:35:03.195Z"
   },
   {
    "duration": 70,
    "start_time": "2022-01-10T17:35:03.285Z"
   },
   {
    "duration": 11533,
    "start_time": "2022-01-10T17:35:03.358Z"
   },
   {
    "duration": 10119,
    "start_time": "2022-01-10T17:35:14.893Z"
   },
   {
    "duration": 7,
    "start_time": "2022-01-10T17:35:25.014Z"
   },
   {
    "duration": 147,
    "start_time": "2022-01-10T17:35:25.024Z"
   },
   {
    "duration": 377,
    "start_time": "2022-01-10T17:35:25.174Z"
   },
   {
    "duration": 12,
    "start_time": "2022-01-10T17:35:25.555Z"
   },
   {
    "duration": 156,
    "start_time": "2022-01-10T17:35:25.569Z"
   },
   {
    "duration": 132,
    "start_time": "2022-01-10T17:35:25.728Z"
   },
   {
    "duration": 139,
    "start_time": "2022-01-10T17:35:25.863Z"
   },
   {
    "duration": 57969,
    "start_time": "2022-01-10T17:35:26.005Z"
   },
   {
    "duration": 39,
    "start_time": "2022-01-10T17:36:23.977Z"
   },
   {
    "duration": 267,
    "start_time": "2022-01-10T17:36:24.018Z"
   },
   {
    "duration": 40,
    "start_time": "2022-01-10T17:36:24.287Z"
   },
   {
    "duration": 794,
    "start_time": "2022-01-10T17:36:24.330Z"
   },
   {
    "duration": 18,
    "start_time": "2022-01-10T17:36:25.126Z"
   },
   {
    "duration": 5,
    "start_time": "2022-01-10T17:37:20.072Z"
   },
   {
    "duration": 20,
    "start_time": "2022-01-10T17:37:20.502Z"
   },
   {
    "duration": 4,
    "start_time": "2022-01-10T17:37:20.920Z"
   },
   {
    "duration": 4,
    "start_time": "2022-01-10T17:37:21.269Z"
   },
   {
    "duration": 47122,
    "start_time": "2022-01-10T17:37:21.655Z"
   },
   {
    "duration": 36,
    "start_time": "2022-01-10T17:38:08.780Z"
   },
   {
    "duration": 225,
    "start_time": "2022-01-10T17:38:08.819Z"
   },
   {
    "duration": 3,
    "start_time": "2022-01-10T17:42:14.197Z"
   },
   {
    "duration": 127,
    "start_time": "2022-01-10T17:42:14.375Z"
   },
   {
    "duration": 98,
    "start_time": "2022-01-10T17:42:14.569Z"
   },
   {
    "duration": 129,
    "start_time": "2022-01-10T17:42:14.830Z"
   },
   {
    "duration": 46469,
    "start_time": "2022-01-10T17:42:15.527Z"
   },
   {
    "duration": 37,
    "start_time": "2022-01-10T17:43:01.999Z"
   },
   {
    "duration": 394,
    "start_time": "2022-01-10T17:43:02.039Z"
   },
   {
    "duration": 15,
    "start_time": "2022-01-10T17:48:49.805Z"
   },
   {
    "duration": 16,
    "start_time": "2022-01-10T17:48:55.131Z"
   },
   {
    "duration": 14,
    "start_time": "2022-01-10T17:49:03.156Z"
   },
   {
    "duration": 14,
    "start_time": "2022-01-10T17:49:15.532Z"
   },
   {
    "duration": 14,
    "start_time": "2022-01-10T17:49:27.109Z"
   },
   {
    "duration": 14,
    "start_time": "2022-01-10T17:49:49.046Z"
   },
   {
    "duration": 13,
    "start_time": "2022-01-10T17:49:54.623Z"
   },
   {
    "duration": 15,
    "start_time": "2022-01-10T17:49:58.291Z"
   },
   {
    "duration": 892,
    "start_time": "2022-01-10T17:50:32.960Z"
   },
   {
    "duration": 8,
    "start_time": "2022-01-10T17:50:56.220Z"
   },
   {
    "duration": 9192,
    "start_time": "2022-01-10T17:51:03.212Z"
   },
   {
    "duration": 7,
    "start_time": "2022-01-10T17:52:02.441Z"
   },
   {
    "duration": 9395,
    "start_time": "2022-01-10T17:52:09.063Z"
   },
   {
    "duration": 7,
    "start_time": "2022-01-10T17:52:37.669Z"
   },
   {
    "duration": 9717,
    "start_time": "2022-01-10T17:52:41.009Z"
   },
   {
    "duration": 13,
    "start_time": "2022-01-10T17:54:36.244Z"
   },
   {
    "duration": 6,
    "start_time": "2022-01-10T17:55:14.992Z"
   },
   {
    "duration": 13128,
    "start_time": "2022-01-10T17:55:18.625Z"
   },
   {
    "duration": 12,
    "start_time": "2022-01-10T17:56:25.382Z"
   },
   {
    "duration": 1732,
    "start_time": "2022-01-10T17:56:39.986Z"
   },
   {
    "duration": 1282,
    "start_time": "2022-01-10T17:56:41.721Z"
   },
   {
    "duration": 25,
    "start_time": "2022-01-10T17:56:43.009Z"
   },
   {
    "duration": 248,
    "start_time": "2022-01-10T17:56:43.036Z"
   },
   {
    "duration": 141,
    "start_time": "2022-01-10T17:56:43.287Z"
   },
   {
    "duration": 173,
    "start_time": "2022-01-10T17:56:43.430Z"
   },
   {
    "duration": 738,
    "start_time": "2022-01-10T17:56:43.606Z"
   },
   {
    "duration": 7,
    "start_time": "2022-01-10T17:56:44.347Z"
   },
   {
    "duration": 2407,
    "start_time": "2022-01-10T17:56:44.367Z"
   },
   {
    "duration": 16,
    "start_time": "2022-01-10T17:56:46.776Z"
   },
   {
    "duration": 12,
    "start_time": "2022-01-10T17:56:46.794Z"
   },
   {
    "duration": 6,
    "start_time": "2022-01-10T17:56:46.808Z"
   },
   {
    "duration": 56,
    "start_time": "2022-01-10T17:56:46.817Z"
   },
   {
    "duration": 48,
    "start_time": "2022-01-10T17:56:46.876Z"
   },
   {
    "duration": 50,
    "start_time": "2022-01-10T17:56:46.927Z"
   },
   {
    "duration": 104,
    "start_time": "2022-01-10T17:56:46.980Z"
   },
   {
    "duration": 48,
    "start_time": "2022-01-10T17:56:47.086Z"
   },
   {
    "duration": 69,
    "start_time": "2022-01-10T17:56:47.136Z"
   },
   {
    "duration": 20,
    "start_time": "2022-01-10T17:56:47.207Z"
   },
   {
    "duration": 113428,
    "start_time": "2022-01-10T17:56:47.229Z"
   },
   {
    "duration": 153,
    "start_time": "2022-01-10T17:58:40.667Z"
   },
   {
    "duration": 5,
    "start_time": "2022-01-10T17:58:40.826Z"
   },
   {
    "duration": 33,
    "start_time": "2022-01-10T17:58:40.835Z"
   },
   {
    "duration": 22,
    "start_time": "2022-01-10T17:58:40.871Z"
   },
   {
    "duration": 34,
    "start_time": "2022-01-10T17:58:40.896Z"
   },
   {
    "duration": 35,
    "start_time": "2022-01-10T17:58:40.933Z"
   },
   {
    "duration": 17,
    "start_time": "2022-01-10T17:58:40.971Z"
   },
   {
    "duration": 30,
    "start_time": "2022-01-10T17:58:40.991Z"
   },
   {
    "duration": 50,
    "start_time": "2022-01-10T17:58:41.024Z"
   },
   {
    "duration": 427,
    "start_time": "2022-01-10T17:58:41.077Z"
   },
   {
    "duration": 25,
    "start_time": "2022-01-10T17:58:41.507Z"
   },
   {
    "duration": 33,
    "start_time": "2022-01-10T17:58:41.534Z"
   },
   {
    "duration": 25,
    "start_time": "2022-01-10T17:58:41.570Z"
   },
   {
    "duration": 4,
    "start_time": "2022-01-10T17:58:41.597Z"
   },
   {
    "duration": 90,
    "start_time": "2022-01-10T17:58:41.603Z"
   },
   {
    "duration": 40,
    "start_time": "2022-01-10T17:58:41.696Z"
   },
   {
    "duration": 29,
    "start_time": "2022-01-10T17:58:41.738Z"
   },
   {
    "duration": 5465,
    "start_time": "2022-01-10T17:58:41.770Z"
   },
   {
    "duration": 31032,
    "start_time": "2022-01-10T17:58:47.237Z"
   },
   {
    "duration": 25,
    "start_time": "2022-01-10T17:59:18.271Z"
   },
   {
    "duration": 16,
    "start_time": "2022-01-10T17:59:18.299Z"
   },
   {
    "duration": 63,
    "start_time": "2022-01-10T17:59:18.317Z"
   },
   {
    "duration": 17,
    "start_time": "2022-01-10T17:59:18.383Z"
   },
   {
    "duration": 7037,
    "start_time": "2022-01-10T17:59:18.402Z"
   },
   {
    "duration": 91,
    "start_time": "2022-01-10T17:59:25.442Z"
   },
   {
    "duration": 33,
    "start_time": "2022-01-10T17:59:25.535Z"
   },
   {
    "duration": 10684,
    "start_time": "2022-01-10T17:59:25.570Z"
   },
   {
    "duration": 9492,
    "start_time": "2022-01-10T17:59:36.256Z"
   },
   {
    "duration": 18,
    "start_time": "2022-01-10T17:59:45.751Z"
   },
   {
    "duration": 12,
    "start_time": "2022-01-10T17:59:45.772Z"
   },
   {
    "duration": 272,
    "start_time": "2022-01-10T17:59:45.786Z"
   },
   {
    "duration": 3,
    "start_time": "2022-01-10T17:59:46.067Z"
   },
   {
    "duration": 17,
    "start_time": "2022-01-10T17:59:46.072Z"
   },
   {
    "duration": 5,
    "start_time": "2022-01-10T17:59:46.092Z"
   },
   {
    "duration": 7,
    "start_time": "2022-01-10T17:59:46.100Z"
   },
   {
    "duration": 48058,
    "start_time": "2022-01-10T17:59:46.170Z"
   },
   {
    "duration": 53,
    "start_time": "2022-01-10T18:00:34.231Z"
   },
   {
    "duration": 165,
    "start_time": "2022-01-10T18:00:34.286Z"
   },
   {
    "duration": 53,
    "start_time": "2022-01-10T18:00:34.453Z"
   },
   {
    "duration": 751,
    "start_time": "2022-01-10T18:00:34.508Z"
   },
   {
    "duration": 19,
    "start_time": "2022-01-10T18:00:35.262Z"
   },
   {
    "duration": 19,
    "start_time": "2022-01-10T18:00:35.286Z"
   },
   {
    "duration": 108233,
    "start_time": "2022-01-10T18:00:35.308Z"
   },
   {
    "duration": 4,
    "start_time": "2022-01-10T18:02:23.544Z"
   },
   {
    "duration": 23,
    "start_time": "2022-01-10T18:02:23.567Z"
   },
   {
    "duration": 3,
    "start_time": "2022-01-10T18:02:23.593Z"
   },
   {
    "duration": 68,
    "start_time": "2022-01-10T18:02:23.600Z"
   },
   {
    "duration": 47388,
    "start_time": "2022-01-10T18:02:23.671Z"
   },
   {
    "duration": 46,
    "start_time": "2022-01-10T18:03:11.062Z"
   },
   {
    "duration": 211,
    "start_time": "2022-01-10T18:03:11.111Z"
   },
   {
    "duration": 4,
    "start_time": "2022-01-10T18:06:46.164Z"
   },
   {
    "duration": 24,
    "start_time": "2022-01-10T18:06:46.863Z"
   },
   {
    "duration": 3,
    "start_time": "2022-01-10T18:06:47.176Z"
   },
   {
    "duration": 4,
    "start_time": "2022-01-10T18:06:47.432Z"
   },
   {
    "duration": 45792,
    "start_time": "2022-01-10T18:06:47.630Z"
   },
   {
    "duration": 51,
    "start_time": "2022-01-10T18:07:33.424Z"
   },
   {
    "duration": 109,
    "start_time": "2022-01-10T18:07:33.478Z"
   },
   {
    "duration": 16,
    "start_time": "2022-01-10T18:09:08.637Z"
   },
   {
    "duration": 104,
    "start_time": "2022-01-10T18:10:10.483Z"
   },
   {
    "duration": 2623,
    "start_time": "2022-01-10T18:10:11.379Z"
   },
   {
    "duration": 6,
    "start_time": "2022-01-10T18:10:26.454Z"
   },
   {
    "duration": 2414,
    "start_time": "2022-01-10T18:10:26.781Z"
   },
   {
    "duration": 7,
    "start_time": "2022-01-10T18:17:55.732Z"
   },
   {
    "duration": 2217,
    "start_time": "2022-01-10T18:17:56.650Z"
   },
   {
    "duration": 7,
    "start_time": "2022-01-10T18:18:21.532Z"
   },
   {
    "duration": 2691,
    "start_time": "2022-01-10T18:18:21.997Z"
   },
   {
    "duration": 8,
    "start_time": "2022-01-10T18:18:37.143Z"
   },
   {
    "duration": 2630,
    "start_time": "2022-01-10T18:18:37.970Z"
   },
   {
    "duration": 7,
    "start_time": "2022-01-10T18:18:52.875Z"
   },
   {
    "duration": 5625,
    "start_time": "2022-01-10T18:18:53.170Z"
   },
   {
    "duration": 8,
    "start_time": "2022-01-10T18:19:19.536Z"
   },
   {
    "duration": 2213,
    "start_time": "2022-01-10T18:19:19.998Z"
   },
   {
    "duration": 7,
    "start_time": "2022-01-10T18:19:52.156Z"
   },
   {
    "duration": 2198,
    "start_time": "2022-01-10T18:19:52.524Z"
   },
   {
    "duration": 16,
    "start_time": "2022-01-10T18:20:35.769Z"
   },
   {
    "duration": 17,
    "start_time": "2022-01-10T18:20:39.608Z"
   },
   {
    "duration": 16,
    "start_time": "2022-01-10T18:20:43.148Z"
   },
   {
    "duration": 17,
    "start_time": "2022-01-10T18:20:46.884Z"
   },
   {
    "duration": 612,
    "start_time": "2022-01-10T18:22:32.589Z"
   },
   {
    "duration": 347,
    "start_time": "2022-01-10T18:22:45.234Z"
   },
   {
    "duration": 419,
    "start_time": "2022-01-10T18:22:47.766Z"
   },
   {
    "duration": 510,
    "start_time": "2022-01-10T18:22:55.778Z"
   },
   {
    "duration": 519,
    "start_time": "2022-01-10T18:22:59.454Z"
   },
   {
    "duration": 554,
    "start_time": "2022-01-10T18:23:03.062Z"
   },
   {
    "duration": 464,
    "start_time": "2022-01-10T18:23:32.528Z"
   },
   {
    "duration": 507,
    "start_time": "2022-01-10T18:23:45.816Z"
   },
   {
    "duration": 539,
    "start_time": "2022-01-10T18:23:50.769Z"
   },
   {
    "duration": 565,
    "start_time": "2022-01-10T18:24:04.320Z"
   },
   {
    "duration": 560,
    "start_time": "2022-01-10T18:24:27.235Z"
   },
   {
    "duration": 4609,
    "start_time": "2022-01-10T18:27:14.169Z"
   },
   {
    "duration": 5647,
    "start_time": "2022-01-10T18:27:44.467Z"
   },
   {
    "duration": 25,
    "start_time": "2022-01-10T18:28:06.204Z"
   },
   {
    "duration": 17,
    "start_time": "2022-01-10T18:28:10.907Z"
   },
   {
    "duration": 43,
    "start_time": "2022-01-10T18:28:58.175Z"
   },
   {
    "duration": 443,
    "start_time": "2022-01-10T18:29:52.153Z"
   },
   {
    "duration": 428,
    "start_time": "2022-01-10T18:30:03.588Z"
   },
   {
    "duration": 419,
    "start_time": "2022-01-10T18:30:22.004Z"
   },
   {
    "duration": 56,
    "start_time": "2022-01-10T18:30:59.396Z"
   },
   {
    "duration": 54,
    "start_time": "2022-01-10T18:31:17.896Z"
   },
   {
    "duration": 518,
    "start_time": "2022-01-10T18:33:11.968Z"
   },
   {
    "duration": 416,
    "start_time": "2022-01-10T18:34:05.185Z"
   },
   {
    "duration": 108,
    "start_time": "2022-01-10T18:34:09.654Z"
   },
   {
    "duration": 20,
    "start_time": "2022-01-10T18:34:09.972Z"
   },
   {
    "duration": 436,
    "start_time": "2022-01-10T18:34:10.358Z"
   },
   {
    "duration": 83,
    "start_time": "2022-01-10T18:34:18.530Z"
   },
   {
    "duration": 13,
    "start_time": "2022-01-10T18:34:19.021Z"
   },
   {
    "duration": 422,
    "start_time": "2022-01-10T18:34:19.741Z"
   },
   {
    "duration": 16,
    "start_time": "2022-01-10T18:38:17.334Z"
   },
   {
    "duration": 23,
    "start_time": "2022-01-10T18:42:53.124Z"
   },
   {
    "duration": 24,
    "start_time": "2022-01-10T18:43:03.421Z"
   },
   {
    "duration": 18,
    "start_time": "2022-01-10T18:44:47.048Z"
   },
   {
    "duration": 4,
    "start_time": "2022-01-10T18:46:35.022Z"
   },
   {
    "duration": 23,
    "start_time": "2022-01-10T18:46:35.303Z"
   },
   {
    "duration": 3,
    "start_time": "2022-01-10T18:46:35.495Z"
   },
   {
    "duration": 4,
    "start_time": "2022-01-10T18:46:35.647Z"
   },
   {
    "duration": 43918,
    "start_time": "2022-01-10T18:46:35.794Z"
   },
   {
    "duration": 52,
    "start_time": "2022-01-10T18:47:19.715Z"
   },
   {
    "duration": 167,
    "start_time": "2022-01-10T18:47:19.770Z"
   },
   {
    "duration": 85,
    "start_time": "2022-01-10T18:47:27.704Z"
   },
   {
    "duration": 10,
    "start_time": "2022-01-10T18:47:28.042Z"
   },
   {
    "duration": 84,
    "start_time": "2022-01-10T18:47:48.626Z"
   },
   {
    "duration": 11,
    "start_time": "2022-01-10T18:47:48.984Z"
   },
   {
    "duration": 337,
    "start_time": "2022-01-10T18:49:25.732Z"
   },
   {
    "duration": 296,
    "start_time": "2022-01-10T18:49:56.147Z"
   },
   {
    "duration": 577,
    "start_time": "2022-01-10T18:50:20.390Z"
   },
   {
    "duration": 347,
    "start_time": "2022-01-10T18:50:32.323Z"
   },
   {
    "duration": 314,
    "start_time": "2022-01-10T18:50:40.843Z"
   },
   {
    "duration": 3750,
    "start_time": "2022-01-10T18:51:19.984Z"
   },
   {
    "duration": 1642,
    "start_time": "2022-01-10T18:52:33.601Z"
   },
   {
    "duration": 576,
    "start_time": "2022-01-10T18:52:43.377Z"
   },
   {
    "duration": 369,
    "start_time": "2022-01-10T18:52:58.571Z"
   },
   {
    "duration": 49,
    "start_time": "2022-01-10T18:54:12.513Z"
   },
   {
    "duration": 5,
    "start_time": "2022-01-10T18:54:13.323Z"
   },
   {
    "duration": 18,
    "start_time": "2022-01-10T18:54:17.217Z"
   },
   {
    "duration": 3,
    "start_time": "2022-01-10T18:54:17.842Z"
   },
   {
    "duration": 4,
    "start_time": "2022-01-10T18:54:18.796Z"
   },
   {
    "duration": 43023,
    "start_time": "2022-01-10T18:54:21.335Z"
   },
   {
    "duration": 38,
    "start_time": "2022-01-10T18:55:04.362Z"
   },
   {
    "duration": 169,
    "start_time": "2022-01-10T18:55:04.403Z"
   },
   {
    "duration": 5,
    "start_time": "2022-01-10T18:55:35.857Z"
   },
   {
    "duration": 23,
    "start_time": "2022-01-10T18:55:36.197Z"
   },
   {
    "duration": 4,
    "start_time": "2022-01-10T18:55:36.373Z"
   },
   {
    "duration": 4,
    "start_time": "2022-01-10T18:55:36.528Z"
   },
   {
    "duration": 45344,
    "start_time": "2022-01-10T18:55:36.648Z"
   },
   {
    "duration": 29,
    "start_time": "2022-01-10T18:56:21.995Z"
   },
   {
    "duration": 109,
    "start_time": "2022-01-10T18:56:22.027Z"
   },
   {
    "duration": 65,
    "start_time": "2022-01-10T18:56:47.024Z"
   },
   {
    "duration": 3,
    "start_time": "2022-01-10T18:56:48.110Z"
   },
   {
    "duration": 18,
    "start_time": "2022-01-10T18:56:48.316Z"
   },
   {
    "duration": 4,
    "start_time": "2022-01-10T18:56:48.468Z"
   },
   {
    "duration": 5,
    "start_time": "2022-01-10T18:56:48.608Z"
   },
   {
    "duration": 40520,
    "start_time": "2022-01-10T18:56:48.747Z"
   },
   {
    "duration": 33,
    "start_time": "2022-01-10T18:57:29.270Z"
   },
   {
    "duration": 138,
    "start_time": "2022-01-10T18:57:29.306Z"
   },
   {
    "duration": 4,
    "start_time": "2022-01-10T18:57:47.888Z"
   },
   {
    "duration": 14,
    "start_time": "2022-01-10T18:57:48.097Z"
   },
   {
    "duration": 4,
    "start_time": "2022-01-10T18:57:48.249Z"
   },
   {
    "duration": 5,
    "start_time": "2022-01-10T18:57:48.397Z"
   },
   {
    "duration": 39992,
    "start_time": "2022-01-10T18:57:48.533Z"
   },
   {
    "duration": 48,
    "start_time": "2022-01-10T18:58:28.528Z"
   },
   {
    "duration": 143,
    "start_time": "2022-01-10T18:58:28.579Z"
   },
   {
    "duration": 26,
    "start_time": "2022-01-10T19:01:35.314Z"
   },
   {
    "duration": 27,
    "start_time": "2022-01-10T19:01:53.562Z"
   },
   {
    "duration": 28,
    "start_time": "2022-01-10T19:02:00.707Z"
   },
   {
    "duration": 26,
    "start_time": "2022-01-10T19:02:03.647Z"
   },
   {
    "duration": 25,
    "start_time": "2022-01-10T19:02:11.057Z"
   },
   {
    "duration": 27,
    "start_time": "2022-01-10T19:02:18.411Z"
   },
   {
    "duration": 63,
    "start_time": "2022-01-10T19:02:27.110Z"
   },
   {
    "duration": 3,
    "start_time": "2022-01-10T19:02:29.941Z"
   },
   {
    "duration": 14,
    "start_time": "2022-01-10T19:02:30.166Z"
   },
   {
    "duration": 3,
    "start_time": "2022-01-10T19:02:30.339Z"
   },
   {
    "duration": 4,
    "start_time": "2022-01-10T19:02:30.491Z"
   },
   {
    "duration": 47816,
    "start_time": "2022-01-10T19:02:30.636Z"
   },
   {
    "duration": 37,
    "start_time": "2022-01-10T19:03:18.455Z"
   },
   {
    "duration": 154,
    "start_time": "2022-01-10T19:03:18.495Z"
   },
   {
    "duration": 38,
    "start_time": "2022-01-10T19:03:49.904Z"
   },
   {
    "duration": 131,
    "start_time": "2022-01-10T19:03:50.292Z"
   },
   {
    "duration": 35,
    "start_time": "2022-01-10T19:03:55.199Z"
   },
   {
    "duration": 129,
    "start_time": "2022-01-10T19:03:55.415Z"
   },
   {
    "duration": 34,
    "start_time": "2022-01-10T19:04:03.539Z"
   },
   {
    "duration": 137,
    "start_time": "2022-01-10T19:04:03.880Z"
   },
   {
    "duration": 34,
    "start_time": "2022-01-10T19:04:11.545Z"
   },
   {
    "duration": 132,
    "start_time": "2022-01-10T19:04:12.091Z"
   },
   {
    "duration": 24,
    "start_time": "2022-01-10T19:04:34.467Z"
   },
   {
    "duration": 3,
    "start_time": "2022-01-10T19:04:37.006Z"
   },
   {
    "duration": 8,
    "start_time": "2022-01-10T19:04:37.327Z"
   },
   {
    "duration": 3,
    "start_time": "2022-01-10T19:04:37.518Z"
   },
   {
    "duration": 4,
    "start_time": "2022-01-10T19:04:37.671Z"
   },
   {
    "duration": 11,
    "start_time": "2022-01-10T19:04:37.829Z"
   },
   {
    "duration": 4,
    "start_time": "2022-01-10T19:04:38.163Z"
   },
   {
    "duration": 48,
    "start_time": "2022-01-10T19:04:38.531Z"
   },
   {
    "duration": 66,
    "start_time": "2022-01-10T19:04:52.924Z"
   },
   {
    "duration": 3,
    "start_time": "2022-01-10T19:04:53.111Z"
   },
   {
    "duration": 16,
    "start_time": "2022-01-10T19:04:53.247Z"
   },
   {
    "duration": 4,
    "start_time": "2022-01-10T19:04:53.384Z"
   },
   {
    "duration": 4,
    "start_time": "2022-01-10T19:04:53.524Z"
   },
   {
    "duration": 57996,
    "start_time": "2022-01-10T19:04:53.662Z"
   },
   {
    "duration": 39,
    "start_time": "2022-01-10T19:05:51.660Z"
   },
   {
    "duration": 190,
    "start_time": "2022-01-10T19:05:51.702Z"
   },
   {
    "duration": 38,
    "start_time": "2022-01-10T19:07:37.049Z"
   },
   {
    "duration": 16,
    "start_time": "2022-01-10T19:07:37.425Z"
   },
   {
    "duration": 441,
    "start_time": "2022-01-10T19:07:37.933Z"
   },
   {
    "duration": 6,
    "start_time": "2022-01-10T19:08:31.573Z"
   },
   {
    "duration": 34,
    "start_time": "2022-01-10T19:08:37.135Z"
   },
   {
    "duration": 130,
    "start_time": "2022-01-10T19:08:37.674Z"
   },
   {
    "duration": 35,
    "start_time": "2022-01-10T19:08:43.307Z"
   },
   {
    "duration": 134,
    "start_time": "2022-01-10T19:08:43.345Z"
   },
   {
    "duration": 37,
    "start_time": "2022-01-10T19:09:01.454Z"
   },
   {
    "duration": 128,
    "start_time": "2022-01-10T19:09:01.919Z"
   },
   {
    "duration": 33,
    "start_time": "2022-01-10T19:09:06.569Z"
   },
   {
    "duration": 125,
    "start_time": "2022-01-10T19:09:06.913Z"
   },
   {
    "duration": 33,
    "start_time": "2022-01-10T19:09:10.144Z"
   },
   {
    "duration": 100,
    "start_time": "2022-01-10T19:09:10.989Z"
   },
   {
    "duration": 35,
    "start_time": "2022-01-10T19:09:14.295Z"
   },
   {
    "duration": 80,
    "start_time": "2022-01-10T19:09:14.458Z"
   },
   {
    "duration": 35,
    "start_time": "2022-01-10T19:09:20.900Z"
   },
   {
    "duration": 152,
    "start_time": "2022-01-10T19:09:21.681Z"
   },
   {
    "duration": 9145,
    "start_time": "2022-01-10T19:10:55.270Z"
   },
   {
    "duration": 9952,
    "start_time": "2022-01-10T19:11:04.418Z"
   },
   {
    "duration": 7,
    "start_time": "2022-01-10T19:11:14.373Z"
   },
   {
    "duration": 15,
    "start_time": "2022-01-10T19:11:14.382Z"
   },
   {
    "duration": 430,
    "start_time": "2022-01-10T19:11:14.400Z"
   },
   {
    "duration": 234,
    "start_time": "2022-01-10T19:11:21.012Z"
   },
   {
    "duration": 9009,
    "start_time": "2022-01-10T19:11:40.923Z"
   },
   {
    "duration": 9937,
    "start_time": "2022-01-10T19:11:49.935Z"
   },
   {
    "duration": 11,
    "start_time": "2022-01-10T19:11:59.875Z"
   },
   {
    "duration": 12,
    "start_time": "2022-01-10T19:11:59.889Z"
   },
   {
    "duration": 270,
    "start_time": "2022-01-10T19:11:59.904Z"
   },
   {
    "duration": 7,
    "start_time": "2022-01-10T19:12:55.176Z"
   },
   {
    "duration": 2216,
    "start_time": "2022-01-10T19:12:56.000Z"
   },
   {
    "duration": 104084,
    "start_time": "2022-01-10T19:13:16.674Z"
   },
   {
    "duration": 5023,
    "start_time": "2022-01-10T19:15:00.761Z"
   },
   {
    "duration": 1915,
    "start_time": "2022-01-10T19:16:12.272Z"
   },
   {
    "duration": 1857,
    "start_time": "2022-01-10T19:16:38.951Z"
   },
   {
    "duration": 809,
    "start_time": "2022-01-10T19:16:49.432Z"
   },
   {
    "duration": 1011,
    "start_time": "2022-01-10T19:17:20.598Z"
   },
   {
    "duration": 39,
    "start_time": "2022-01-10T19:17:26.681Z"
   },
   {
    "duration": 14,
    "start_time": "2022-01-10T19:17:27.413Z"
   },
   {
    "duration": 700,
    "start_time": "2022-01-10T19:17:30.413Z"
   },
   {
    "duration": 334,
    "start_time": "2022-01-10T19:17:47.142Z"
   },
   {
    "duration": 997,
    "start_time": "2022-01-10T19:17:51.740Z"
   },
   {
    "duration": 353,
    "start_time": "2022-01-10T19:17:58.622Z"
   },
   {
    "duration": 6335,
    "start_time": "2022-01-10T19:19:13.710Z"
   },
   {
    "duration": 31054,
    "start_time": "2022-01-10T19:19:44.068Z"
   },
   {
    "duration": 31470,
    "start_time": "2022-01-10T19:21:49.622Z"
   },
   {
    "duration": 17,
    "start_time": "2022-01-10T19:22:21.096Z"
   },
   {
    "duration": 14,
    "start_time": "2022-01-10T19:22:27.699Z"
   },
   {
    "duration": 13,
    "start_time": "2022-01-10T19:22:34.929Z"
   },
   {
    "duration": 18,
    "start_time": "2022-01-10T19:22:40.148Z"
   },
   {
    "duration": 63,
    "start_time": "2022-01-10T19:22:50.207Z"
   },
   {
    "duration": 5,
    "start_time": "2022-01-10T19:22:50.921Z"
   },
   {
    "duration": 4,
    "start_time": "2022-01-10T19:22:51.624Z"
   },
   {
    "duration": 18,
    "start_time": "2022-01-10T19:22:52.169Z"
   },
   {
    "duration": 3,
    "start_time": "2022-01-10T19:22:52.552Z"
   },
   {
    "duration": 4,
    "start_time": "2022-01-10T19:22:52.773Z"
   },
   {
    "duration": 38694,
    "start_time": "2022-01-10T19:22:52.931Z"
   },
   {
    "duration": 46,
    "start_time": "2022-01-10T19:23:31.628Z"
   },
   {
    "duration": 157,
    "start_time": "2022-01-10T19:23:31.677Z"
   },
   {
    "duration": 9324,
    "start_time": "2022-01-10T19:23:31.837Z"
   },
   {
    "duration": 9827,
    "start_time": "2022-01-10T19:23:41.168Z"
   },
   {
    "duration": 9,
    "start_time": "2022-01-10T19:23:50.999Z"
   },
   {
    "duration": 16,
    "start_time": "2022-01-10T19:23:51.011Z"
   },
   {
    "duration": 293,
    "start_time": "2022-01-10T19:23:51.031Z"
   },
   {
    "duration": 17,
    "start_time": "2022-01-10T19:24:13.264Z"
   },
   {
    "duration": 13,
    "start_time": "2022-01-10T19:24:24.818Z"
   },
   {
    "duration": 16,
    "start_time": "2022-01-10T19:24:40.193Z"
   },
   {
    "duration": 29968,
    "start_time": "2022-01-10T19:25:00.732Z"
   },
   {
    "duration": 14,
    "start_time": "2022-01-10T19:26:50.856Z"
   },
   {
    "duration": 26,
    "start_time": "2022-01-10T19:26:59.812Z"
   },
   {
    "duration": 21,
    "start_time": "2022-01-10T19:27:14.518Z"
   },
   {
    "duration": 22,
    "start_time": "2022-01-10T19:27:36.595Z"
   },
   {
    "duration": 45,
    "start_time": "2022-01-10T19:27:51.479Z"
   },
   {
    "duration": 15,
    "start_time": "2022-01-10T19:28:43.435Z"
   },
   {
    "duration": 16,
    "start_time": "2022-01-10T19:29:59.431Z"
   },
   {
    "duration": 16,
    "start_time": "2022-01-10T19:30:02.132Z"
   },
   {
    "duration": 13,
    "start_time": "2022-01-10T19:30:05.292Z"
   },
   {
    "duration": 21,
    "start_time": "2022-01-10T19:30:25.508Z"
   },
   {
    "duration": 16,
    "start_time": "2022-01-10T19:30:28.415Z"
   },
   {
    "duration": 19,
    "start_time": "2022-01-10T19:30:30.843Z"
   },
   {
    "duration": 16,
    "start_time": "2022-01-10T19:30:34.419Z"
   },
   {
    "duration": 15,
    "start_time": "2022-01-10T19:30:38.781Z"
   },
   {
    "duration": 19,
    "start_time": "2022-01-10T19:30:41.119Z"
   },
   {
    "duration": 15,
    "start_time": "2022-01-10T19:30:44.156Z"
   },
   {
    "duration": 15,
    "start_time": "2022-01-10T19:30:46.584Z"
   },
   {
    "duration": 18,
    "start_time": "2022-01-10T19:30:49.399Z"
   },
   {
    "duration": 18,
    "start_time": "2022-01-10T19:30:52.446Z"
   },
   {
    "duration": 17,
    "start_time": "2022-01-10T19:30:55.362Z"
   },
   {
    "duration": 19,
    "start_time": "2022-01-10T19:30:58.197Z"
   },
   {
    "duration": 16,
    "start_time": "2022-01-10T19:31:00.920Z"
   },
   {
    "duration": 22,
    "start_time": "2022-01-10T19:31:03.822Z"
   },
   {
    "duration": 19,
    "start_time": "2022-01-10T19:31:06.934Z"
   },
   {
    "duration": 16,
    "start_time": "2022-01-10T19:31:10.142Z"
   },
   {
    "duration": 19,
    "start_time": "2022-01-10T19:31:13.039Z"
   },
   {
    "duration": 16,
    "start_time": "2022-01-10T19:31:16.942Z"
   },
   {
    "duration": 41,
    "start_time": "2022-01-10T19:31:23.920Z"
   },
   {
    "duration": 20,
    "start_time": "2022-01-10T19:32:33.854Z"
   },
   {
    "duration": 21,
    "start_time": "2022-01-10T19:32:37.543Z"
   },
   {
    "duration": 21,
    "start_time": "2022-01-10T19:32:43.569Z"
   },
   {
    "duration": 20,
    "start_time": "2022-01-10T19:32:46.439Z"
   },
   {
    "duration": 18,
    "start_time": "2022-01-10T19:32:49.947Z"
   },
   {
    "duration": 15,
    "start_time": "2022-01-10T19:55:58.064Z"
   },
   {
    "duration": 15,
    "start_time": "2022-01-10T19:56:02.292Z"
   },
   {
    "duration": 22,
    "start_time": "2022-01-10T19:56:39.484Z"
   },
   {
    "duration": 25,
    "start_time": "2022-01-10T19:56:57.916Z"
   },
   {
    "duration": 26,
    "start_time": "2022-01-10T19:57:02.635Z"
   },
   {
    "duration": 27,
    "start_time": "2022-01-10T19:57:07.498Z"
   },
   {
    "duration": 24,
    "start_time": "2022-01-10T19:57:20.603Z"
   },
   {
    "duration": 25,
    "start_time": "2022-01-10T19:57:33.233Z"
   },
   {
    "duration": 26,
    "start_time": "2022-01-10T19:57:37.549Z"
   },
   {
    "duration": 26,
    "start_time": "2022-01-10T19:57:41.409Z"
   },
   {
    "duration": 25,
    "start_time": "2022-01-10T19:57:45.088Z"
   },
   {
    "duration": 24,
    "start_time": "2022-01-10T19:57:50.231Z"
   },
   {
    "duration": 26,
    "start_time": "2022-01-10T19:57:54.850Z"
   },
   {
    "duration": 308,
    "start_time": "2022-01-10T19:58:12.926Z"
   },
   {
    "duration": 41,
    "start_time": "2022-01-10T19:58:21.733Z"
   },
   {
    "duration": 52,
    "start_time": "2022-01-10T19:59:09.395Z"
   },
   {
    "duration": 51,
    "start_time": "2022-01-10T19:59:54.662Z"
   },
   {
    "duration": 18,
    "start_time": "2022-01-10T20:01:52.108Z"
   },
   {
    "duration": 17,
    "start_time": "2022-01-10T20:01:55.796Z"
   },
   {
    "duration": 16,
    "start_time": "2022-01-10T20:01:59.860Z"
   },
   {
    "duration": 15,
    "start_time": "2022-01-10T20:02:03.509Z"
   },
   {
    "duration": 15,
    "start_time": "2022-01-10T20:02:06.539Z"
   },
   {
    "duration": 14,
    "start_time": "2022-01-10T20:02:09.692Z"
   },
   {
    "duration": 14,
    "start_time": "2022-01-10T20:02:14.346Z"
   },
   {
    "duration": 15,
    "start_time": "2022-01-10T20:02:23.497Z"
   },
   {
    "duration": 13,
    "start_time": "2022-01-10T20:03:02.096Z"
   },
   {
    "duration": 79,
    "start_time": "2022-01-10T20:03:31.262Z"
   },
   {
    "duration": 5,
    "start_time": "2022-01-10T20:03:31.586Z"
   },
   {
    "duration": 3,
    "start_time": "2022-01-10T20:03:32.451Z"
   },
   {
    "duration": 14,
    "start_time": "2022-01-10T20:03:32.832Z"
   },
   {
    "duration": 4,
    "start_time": "2022-01-10T20:03:33.127Z"
   },
   {
    "duration": 4,
    "start_time": "2022-01-10T20:03:33.311Z"
   },
   {
    "duration": 39681,
    "start_time": "2022-01-10T20:03:33.480Z"
   },
   {
    "duration": 32,
    "start_time": "2022-01-10T20:04:13.164Z"
   },
   {
    "duration": 159,
    "start_time": "2022-01-10T20:04:13.198Z"
   },
   {
    "duration": 9105,
    "start_time": "2022-01-10T20:04:13.368Z"
   },
   {
    "duration": 9708,
    "start_time": "2022-01-10T20:04:22.476Z"
   },
   {
    "duration": 8,
    "start_time": "2022-01-10T20:04:32.186Z"
   },
   {
    "duration": 35,
    "start_time": "2022-01-10T20:04:32.197Z"
   },
   {
    "duration": 248,
    "start_time": "2022-01-10T20:04:32.235Z"
   },
   {
    "duration": 77,
    "start_time": "2022-01-10T20:05:27.598Z"
   },
   {
    "duration": 5,
    "start_time": "2022-01-10T20:05:27.782Z"
   },
   {
    "duration": 4,
    "start_time": "2022-01-10T20:05:27.943Z"
   },
   {
    "duration": 14,
    "start_time": "2022-01-10T20:05:28.080Z"
   },
   {
    "duration": 4,
    "start_time": "2022-01-10T20:05:28.224Z"
   },
   {
    "duration": 4,
    "start_time": "2022-01-10T20:05:28.364Z"
   },
   {
    "duration": 39475,
    "start_time": "2022-01-10T20:05:28.507Z"
   },
   {
    "duration": 32,
    "start_time": "2022-01-10T20:06:07.985Z"
   },
   {
    "duration": 155,
    "start_time": "2022-01-10T20:06:08.019Z"
   },
   {
    "duration": 67,
    "start_time": "2022-01-10T20:06:28.277Z"
   },
   {
    "duration": 6,
    "start_time": "2022-01-10T20:06:28.459Z"
   },
   {
    "duration": 3,
    "start_time": "2022-01-10T20:06:28.610Z"
   },
   {
    "duration": 19,
    "start_time": "2022-01-10T20:06:28.740Z"
   },
   {
    "duration": 4,
    "start_time": "2022-01-10T20:06:28.880Z"
   },
   {
    "duration": 4,
    "start_time": "2022-01-10T20:06:29.019Z"
   },
   {
    "duration": 39782,
    "start_time": "2022-01-10T20:06:29.154Z"
   },
   {
    "duration": 44,
    "start_time": "2022-01-10T20:07:08.938Z"
   },
   {
    "duration": 115,
    "start_time": "2022-01-10T20:07:08.985Z"
   },
   {
    "duration": 64,
    "start_time": "2022-01-10T20:08:01.796Z"
   },
   {
    "duration": 6,
    "start_time": "2022-01-10T20:08:01.956Z"
   },
   {
    "duration": 3,
    "start_time": "2022-01-10T20:08:02.112Z"
   },
   {
    "duration": 18,
    "start_time": "2022-01-10T20:08:02.254Z"
   },
   {
    "duration": 4,
    "start_time": "2022-01-10T20:08:02.390Z"
   },
   {
    "duration": 4,
    "start_time": "2022-01-10T20:08:02.532Z"
   },
   {
    "duration": 39407,
    "start_time": "2022-01-10T20:08:02.678Z"
   },
   {
    "duration": 33,
    "start_time": "2022-01-10T20:08:42.088Z"
   },
   {
    "duration": 135,
    "start_time": "2022-01-10T20:08:42.124Z"
   },
   {
    "duration": 4,
    "start_time": "2022-01-10T20:13:20.118Z"
   },
   {
    "duration": 14,
    "start_time": "2022-01-10T20:13:20.640Z"
   },
   {
    "duration": 3,
    "start_time": "2022-01-10T20:13:20.790Z"
   },
   {
    "duration": 4,
    "start_time": "2022-01-10T20:13:20.936Z"
   },
   {
    "duration": 62,
    "start_time": "2022-01-10T20:13:59.471Z"
   },
   {
    "duration": 6,
    "start_time": "2022-01-10T20:13:59.535Z"
   },
   {
    "duration": 25,
    "start_time": "2022-01-10T20:13:59.543Z"
   },
   {
    "duration": 16,
    "start_time": "2022-01-10T20:13:59.570Z"
   },
   {
    "duration": 5,
    "start_time": "2022-01-10T20:13:59.591Z"
   },
   {
    "duration": 6,
    "start_time": "2022-01-10T20:13:59.598Z"
   },
   {
    "duration": 38791,
    "start_time": "2022-01-10T20:13:59.667Z"
   },
   {
    "duration": 30,
    "start_time": "2022-01-10T20:14:38.461Z"
   },
   {
    "duration": 146,
    "start_time": "2022-01-10T20:14:38.494Z"
   },
   {
    "duration": 9419,
    "start_time": "2022-01-10T20:14:38.642Z"
   },
   {
    "duration": 9645,
    "start_time": "2022-01-10T20:14:48.067Z"
   },
   {
    "duration": 7,
    "start_time": "2022-01-10T20:14:57.716Z"
   },
   {
    "duration": 41,
    "start_time": "2022-01-10T20:14:57.726Z"
   },
   {
    "duration": 241,
    "start_time": "2022-01-10T20:14:57.770Z"
   },
   {
    "duration": 677,
    "start_time": "2022-01-10T20:14:58.014Z"
   },
   {
    "duration": 74,
    "start_time": "2022-01-10T20:16:50.916Z"
   },
   {
    "duration": 6,
    "start_time": "2022-01-10T20:16:51.062Z"
   },
   {
    "duration": 4,
    "start_time": "2022-01-10T20:16:51.213Z"
   },
   {
    "duration": 15,
    "start_time": "2022-01-10T20:16:51.350Z"
   },
   {
    "duration": 5,
    "start_time": "2022-01-10T20:16:51.488Z"
   },
   {
    "duration": 4,
    "start_time": "2022-01-10T20:16:51.628Z"
   },
   {
    "duration": 39314,
    "start_time": "2022-01-10T20:16:51.760Z"
   },
   {
    "duration": 33,
    "start_time": "2022-01-10T20:17:31.077Z"
   },
   {
    "duration": 159,
    "start_time": "2022-01-10T20:17:31.113Z"
   },
   {
    "duration": 45,
    "start_time": "2022-01-10T20:19:21.787Z"
   },
   {
    "duration": 133,
    "start_time": "2022-01-10T20:19:22.135Z"
   },
   {
    "duration": 35,
    "start_time": "2022-01-10T20:19:25.634Z"
   },
   {
    "duration": 129,
    "start_time": "2022-01-10T20:19:27.103Z"
   },
   {
    "duration": 34,
    "start_time": "2022-01-10T20:19:32.887Z"
   },
   {
    "duration": 131,
    "start_time": "2022-01-10T20:19:33.326Z"
   },
   {
    "duration": 33,
    "start_time": "2022-01-10T20:19:36.968Z"
   },
   {
    "duration": 138,
    "start_time": "2022-01-10T20:19:37.254Z"
   },
   {
    "duration": 32,
    "start_time": "2022-01-10T20:19:43.630Z"
   },
   {
    "duration": 127,
    "start_time": "2022-01-10T20:19:43.947Z"
   },
   {
    "duration": 323,
    "start_time": "2022-01-10T20:20:18.880Z"
   },
   {
    "duration": 410,
    "start_time": "2022-01-10T20:20:26.497Z"
   },
   {
    "duration": 139,
    "start_time": "2022-01-10T20:20:40.032Z"
   },
   {
    "duration": 7,
    "start_time": "2022-01-10T20:20:40.431Z"
   },
   {
    "duration": 3,
    "start_time": "2022-01-10T20:20:41.029Z"
   },
   {
    "duration": 13,
    "start_time": "2022-01-10T20:20:41.431Z"
   },
   {
    "duration": 4,
    "start_time": "2022-01-10T20:20:41.799Z"
   },
   {
    "duration": 4,
    "start_time": "2022-01-10T20:20:43.770Z"
   },
   {
    "duration": 39581,
    "start_time": "2022-01-10T20:20:43.777Z"
   },
   {
    "duration": 33,
    "start_time": "2022-01-10T20:21:23.361Z"
   },
   {
    "duration": 155,
    "start_time": "2022-01-10T20:21:23.397Z"
   },
   {
    "duration": 10437,
    "start_time": "2022-01-10T20:21:23.555Z"
   },
   {
    "duration": 9961,
    "start_time": "2022-01-10T20:21:33.996Z"
   },
   {
    "duration": 13,
    "start_time": "2022-01-10T20:21:43.959Z"
   },
   {
    "duration": 19,
    "start_time": "2022-01-10T20:21:43.975Z"
   },
   {
    "duration": 225,
    "start_time": "2022-01-10T20:21:43.999Z"
   },
   {
    "duration": 32,
    "start_time": "2022-01-10T20:21:53.749Z"
   },
   {
    "duration": 128,
    "start_time": "2022-01-10T20:21:54.120Z"
   },
   {
    "duration": 32,
    "start_time": "2022-01-10T20:22:09.862Z"
   },
   {
    "duration": 132,
    "start_time": "2022-01-10T20:22:10.190Z"
   },
   {
    "duration": 35,
    "start_time": "2022-01-10T20:22:19.205Z"
   },
   {
    "duration": 137,
    "start_time": "2022-01-10T20:22:19.586Z"
   },
   {
    "duration": 33,
    "start_time": "2022-01-10T20:22:23.319Z"
   },
   {
    "duration": 134,
    "start_time": "2022-01-10T20:22:23.678Z"
   },
   {
    "duration": 32,
    "start_time": "2022-01-10T20:22:33.924Z"
   },
   {
    "duration": 135,
    "start_time": "2022-01-10T20:22:34.314Z"
   },
   {
    "duration": 8,
    "start_time": "2022-01-10T20:22:57.807Z"
   },
   {
    "duration": 6,
    "start_time": "2022-01-10T20:23:11.796Z"
   },
   {
    "duration": 14,
    "start_time": "2022-01-10T20:24:15.082Z"
   },
   {
    "duration": 6,
    "start_time": "2022-01-10T20:24:25.612Z"
   },
   {
    "duration": 7,
    "start_time": "2022-01-10T20:24:33.750Z"
   },
   {
    "duration": 11,
    "start_time": "2022-01-10T20:24:38.665Z"
   },
   {
    "duration": 14,
    "start_time": "2022-01-10T20:24:45.091Z"
   },
   {
    "duration": 13,
    "start_time": "2022-01-10T20:25:03.032Z"
   },
   {
    "duration": 10,
    "start_time": "2022-01-10T20:25:10.799Z"
   },
   {
    "duration": 162,
    "start_time": "2022-01-10T20:25:16.382Z"
   },
   {
    "duration": 162,
    "start_time": "2022-01-10T20:25:26.213Z"
   },
   {
    "duration": 154,
    "start_time": "2022-01-10T20:25:33.495Z"
   },
   {
    "duration": 168,
    "start_time": "2022-01-10T20:25:39.451Z"
   },
   {
    "duration": 155,
    "start_time": "2022-01-10T20:25:42.584Z"
   },
   {
    "duration": 150,
    "start_time": "2022-01-10T20:25:46.487Z"
   },
   {
    "duration": 137,
    "start_time": "2022-01-10T20:25:50.636Z"
   },
   {
    "duration": 159,
    "start_time": "2022-01-10T20:25:56.518Z"
   },
   {
    "duration": 206,
    "start_time": "2022-01-10T20:26:03.823Z"
   },
   {
    "duration": 145,
    "start_time": "2022-01-10T20:26:07.087Z"
   },
   {
    "duration": 149,
    "start_time": "2022-01-10T20:26:11.012Z"
   },
   {
    "duration": 152,
    "start_time": "2022-01-10T20:26:16.503Z"
   },
   {
    "duration": 141,
    "start_time": "2022-01-10T20:26:19.347Z"
   },
   {
    "duration": 156,
    "start_time": "2022-01-10T20:26:21.644Z"
   },
   {
    "duration": 17,
    "start_time": "2022-01-10T20:27:33.845Z"
   },
   {
    "duration": 367,
    "start_time": "2022-01-10T20:27:48.169Z"
   },
   {
    "duration": 51,
    "start_time": "2022-01-10T20:27:50.606Z"
   },
   {
    "duration": 6,
    "start_time": "2022-01-10T20:27:50.804Z"
   },
   {
    "duration": 16,
    "start_time": "2022-01-10T20:28:12.998Z"
   },
   {
    "duration": 17,
    "start_time": "2022-01-10T20:28:16.640Z"
   },
   {
    "duration": 30,
    "start_time": "2022-01-10T20:28:38.526Z"
   },
   {
    "duration": 5,
    "start_time": "2022-01-10T20:28:39.080Z"
   },
   {
    "duration": 57,
    "start_time": "2022-01-10T20:28:46.572Z"
   },
   {
    "duration": 5,
    "start_time": "2022-01-10T20:28:47.252Z"
   },
   {
    "duration": 111,
    "start_time": "2022-01-10T20:29:04.102Z"
   },
   {
    "duration": 65,
    "start_time": "2022-01-10T20:30:32.986Z"
   },
   {
    "duration": 5,
    "start_time": "2022-01-10T20:30:33.695Z"
   },
   {
    "duration": 104,
    "start_time": "2022-01-10T20:30:36.893Z"
   },
   {
    "duration": 399,
    "start_time": "2022-01-10T20:30:51.763Z"
   },
   {
    "duration": 81,
    "start_time": "2022-01-10T20:30:54.656Z"
   },
   {
    "duration": 5,
    "start_time": "2022-01-10T20:30:55.187Z"
   },
   {
    "duration": 54,
    "start_time": "2022-01-10T20:30:55.841Z"
   },
   {
    "duration": 5,
    "start_time": "2022-01-10T20:30:56.156Z"
   },
   {
    "duration": 106,
    "start_time": "2022-01-10T20:30:57.163Z"
   },
   {
    "duration": 80,
    "start_time": "2022-01-10T20:31:38.840Z"
   },
   {
    "duration": 6,
    "start_time": "2022-01-10T20:31:39.141Z"
   },
   {
    "duration": 64,
    "start_time": "2022-01-10T20:31:39.531Z"
   },
   {
    "duration": 6,
    "start_time": "2022-01-10T20:31:39.906Z"
   },
   {
    "duration": 144,
    "start_time": "2022-01-10T20:31:40.400Z"
   },
   {
    "duration": 4,
    "start_time": "2022-01-10T20:31:41.056Z"
   },
   {
    "duration": 14,
    "start_time": "2022-01-10T20:31:41.540Z"
   },
   {
    "duration": 4,
    "start_time": "2022-01-10T20:31:43.048Z"
   },
   {
    "duration": 4,
    "start_time": "2022-01-10T20:31:43.464Z"
   },
   {
    "duration": 39765,
    "start_time": "2022-01-10T20:31:43.918Z"
   },
   {
    "duration": 6,
    "start_time": "2022-01-10T20:32:23.686Z"
   },
   {
    "duration": 8,
    "start_time": "2022-01-10T20:32:23.695Z"
   },
   {
    "duration": 9,
    "start_time": "2022-01-10T20:32:23.706Z"
   },
   {
    "duration": 208,
    "start_time": "2022-01-10T20:32:23.718Z"
   },
   {
    "duration": 144,
    "start_time": "2022-01-10T20:33:33.959Z"
   },
   {
    "duration": 134,
    "start_time": "2022-01-10T20:33:44.006Z"
   },
   {
    "duration": 141,
    "start_time": "2022-01-10T20:33:53.433Z"
   },
   {
    "duration": 142,
    "start_time": "2022-01-10T20:33:59.121Z"
   },
   {
    "duration": 6,
    "start_time": "2022-01-10T20:42:34.132Z"
   },
   {
    "duration": 267,
    "start_time": "2022-01-10T20:42:46.412Z"
   },
   {
    "duration": 315,
    "start_time": "2022-01-10T20:43:45.276Z"
   },
   {
    "duration": 4,
    "start_time": "2022-01-10T20:44:05.894Z"
   },
   {
    "duration": 4,
    "start_time": "2022-01-10T20:44:13.389Z"
   },
   {
    "duration": 35,
    "start_time": "2022-01-10T20:45:54.257Z"
   },
   {
    "duration": 338,
    "start_time": "2022-01-10T20:46:09.141Z"
   },
   {
    "duration": 5,
    "start_time": "2022-01-10T20:46:12.075Z"
   },
   {
    "duration": 53,
    "start_time": "2022-01-10T20:46:12.431Z"
   },
   {
    "duration": 168,
    "start_time": "2022-01-10T20:46:12.618Z"
   },
   {
    "duration": 182,
    "start_time": "2022-01-10T20:46:35.583Z"
   },
   {
    "duration": 7,
    "start_time": "2022-01-10T20:46:37.143Z"
   },
   {
    "duration": 382,
    "start_time": "2022-01-10T20:46:38.141Z"
   },
   {
    "duration": 25,
    "start_time": "2022-01-10T20:47:42.183Z"
   },
   {
    "duration": 6,
    "start_time": "2022-01-10T20:47:48.255Z"
   },
   {
    "duration": 3045,
    "start_time": "2022-01-10T20:47:49.235Z"
   },
   {
    "duration": 38,
    "start_time": "2022-01-10T20:48:13.319Z"
   },
   {
    "duration": 39,
    "start_time": "2022-01-10T20:49:24.267Z"
   },
   {
    "duration": 124,
    "start_time": "2022-01-10T20:49:25.197Z"
   },
   {
    "duration": 6,
    "start_time": "2022-01-10T20:49:25.829Z"
   },
   {
    "duration": 670,
    "start_time": "2022-01-10T20:49:26.548Z"
   },
   {
    "duration": 4,
    "start_time": "2022-01-10T20:50:36.276Z"
   },
   {
    "duration": 4,
    "start_time": "2022-01-10T20:51:23.013Z"
   },
   {
    "duration": 4,
    "start_time": "2022-01-10T20:52:06.777Z"
   },
   {
    "duration": 1263,
    "start_time": "2022-01-10T20:52:08.144Z"
   },
   {
    "duration": 30,
    "start_time": "2022-01-10T20:52:18.132Z"
   },
   {
    "duration": 4,
    "start_time": "2022-01-10T20:53:04.993Z"
   },
   {
    "duration": 1536,
    "start_time": "2022-01-10T20:53:06.109Z"
   },
   {
    "duration": 29,
    "start_time": "2022-01-10T20:53:07.734Z"
   },
   {
    "duration": 4,
    "start_time": "2022-01-10T20:53:32.859Z"
   },
   {
    "duration": 834,
    "start_time": "2022-01-10T20:53:33.602Z"
   },
   {
    "duration": 28,
    "start_time": "2022-01-10T20:53:35.596Z"
   },
   {
    "duration": 106,
    "start_time": "2022-01-10T20:54:02.612Z"
   },
   {
    "duration": 805,
    "start_time": "2022-01-10T20:54:03.299Z"
   },
   {
    "duration": 6,
    "start_time": "2022-01-10T20:54:05.059Z"
   },
   {
    "duration": 2693,
    "start_time": "2022-01-10T20:54:06.240Z"
   },
   {
    "duration": 4,
    "start_time": "2022-01-10T20:54:27.506Z"
   },
   {
    "duration": 4,
    "start_time": "2022-01-10T20:54:27.705Z"
   },
   {
    "duration": 330,
    "start_time": "2022-01-10T20:54:28.239Z"
   },
   {
    "duration": 24,
    "start_time": "2022-01-10T20:54:37.410Z"
   },
   {
    "duration": 2435,
    "start_time": "2022-01-10T20:54:49.808Z"
   },
   {
    "duration": 6711,
    "start_time": "2022-01-10T20:54:52.245Z"
   },
   {
    "duration": 34,
    "start_time": "2022-01-10T20:54:58.960Z"
   },
   {
    "duration": 183,
    "start_time": "2022-01-10T20:54:58.997Z"
   },
   {
    "duration": 141,
    "start_time": "2022-01-10T20:54:59.183Z"
   },
   {
    "duration": 169,
    "start_time": "2022-01-10T20:54:59.326Z"
   },
   {
    "duration": 757,
    "start_time": "2022-01-10T20:54:59.498Z"
   },
   {
    "duration": 11,
    "start_time": "2022-01-10T20:55:00.258Z"
   },
   {
    "duration": 2551,
    "start_time": "2022-01-10T20:55:00.274Z"
   },
   {
    "duration": 16,
    "start_time": "2022-01-10T20:55:02.828Z"
   },
   {
    "duration": 29,
    "start_time": "2022-01-10T20:55:02.847Z"
   },
   {
    "duration": 10,
    "start_time": "2022-01-10T20:55:02.878Z"
   },
   {
    "duration": 19,
    "start_time": "2022-01-10T20:55:02.890Z"
   },
   {
    "duration": 801,
    "start_time": "2022-01-10T20:55:02.911Z"
   },
   {
    "duration": 3,
    "start_time": "2022-01-10T20:55:03.715Z"
   },
   {
    "duration": 31,
    "start_time": "2022-01-10T20:55:03.720Z"
   },
   {
    "duration": 116,
    "start_time": "2022-01-10T20:55:03.753Z"
   },
   {
    "duration": 49,
    "start_time": "2022-01-10T20:55:03.872Z"
   },
   {
    "duration": 79,
    "start_time": "2022-01-10T20:55:03.924Z"
   },
   {
    "duration": 19,
    "start_time": "2022-01-10T20:55:04.007Z"
   },
   {
    "duration": 106102,
    "start_time": "2022-01-10T20:55:04.029Z"
   },
   {
    "duration": 165,
    "start_time": "2022-01-10T20:56:50.134Z"
   },
   {
    "duration": 5,
    "start_time": "2022-01-10T20:56:50.301Z"
   },
   {
    "duration": 7,
    "start_time": "2022-01-10T20:56:50.308Z"
   },
   {
    "duration": 51,
    "start_time": "2022-01-10T20:56:50.318Z"
   },
   {
    "duration": 27,
    "start_time": "2022-01-10T20:56:50.372Z"
   },
   {
    "duration": 19,
    "start_time": "2022-01-10T20:56:50.407Z"
   },
   {
    "duration": 37,
    "start_time": "2022-01-10T20:56:50.430Z"
   },
   {
    "duration": 15,
    "start_time": "2022-01-10T20:56:50.470Z"
   },
   {
    "duration": 38,
    "start_time": "2022-01-10T20:56:50.488Z"
   },
   {
    "duration": 14,
    "start_time": "2022-01-10T20:56:50.568Z"
   },
   {
    "duration": 424,
    "start_time": "2022-01-10T20:56:50.585Z"
   },
   {
    "duration": 8869,
    "start_time": "2022-01-10T20:56:51.011Z"
   },
   {
    "duration": 42,
    "start_time": "2022-01-10T20:56:59.883Z"
   },
   {
    "duration": 41,
    "start_time": "2022-01-10T20:56:59.928Z"
   },
   {
    "duration": 353,
    "start_time": "2022-01-10T20:56:59.972Z"
   },
   {
    "duration": 41,
    "start_time": "2022-01-10T20:57:00.328Z"
   },
   {
    "duration": 53,
    "start_time": "2022-01-10T20:57:00.372Z"
   },
   {
    "duration": 125,
    "start_time": "2022-01-10T20:57:00.428Z"
   },
   {
    "duration": 406,
    "start_time": "2022-01-10T20:57:00.556Z"
   },
   {
    "duration": 10,
    "start_time": "2022-01-10T20:57:00.968Z"
   },
   {
    "duration": 32,
    "start_time": "2022-01-10T20:57:00.980Z"
   },
   {
    "duration": 3,
    "start_time": "2022-01-10T20:57:01.015Z"
   },
   {
    "duration": 93,
    "start_time": "2022-01-10T20:57:01.021Z"
   },
   {
    "duration": 67,
    "start_time": "2022-01-10T20:57:01.116Z"
   },
   {
    "duration": 7,
    "start_time": "2022-01-10T20:57:01.186Z"
   },
   {
    "duration": 376,
    "start_time": "2022-01-10T20:57:01.196Z"
   },
   {
    "duration": 29563,
    "start_time": "2022-01-10T20:57:01.575Z"
   },
   {
    "duration": 45,
    "start_time": "2022-01-10T20:57:31.141Z"
   },
   {
    "duration": 48,
    "start_time": "2022-01-10T20:57:31.189Z"
   },
   {
    "duration": 15,
    "start_time": "2022-01-10T20:57:31.268Z"
   },
   {
    "duration": 42,
    "start_time": "2022-01-10T20:57:31.285Z"
   },
   {
    "duration": 42,
    "start_time": "2022-01-10T20:57:31.329Z"
   },
   {
    "duration": 32,
    "start_time": "2022-01-10T20:57:31.373Z"
   },
   {
    "duration": 17,
    "start_time": "2022-01-10T20:57:31.407Z"
   },
   {
    "duration": 25,
    "start_time": "2022-01-10T20:57:31.467Z"
   },
   {
    "duration": 26,
    "start_time": "2022-01-10T20:57:31.495Z"
   },
   {
    "duration": 60,
    "start_time": "2022-01-10T20:57:31.524Z"
   },
   {
    "duration": 21,
    "start_time": "2022-01-10T20:57:31.587Z"
   },
   {
    "duration": 7017,
    "start_time": "2022-01-10T20:57:31.611Z"
   },
   {
    "duration": 77,
    "start_time": "2022-01-10T20:57:38.631Z"
   },
   {
    "duration": 16,
    "start_time": "2022-01-10T20:57:38.711Z"
   },
   {
    "duration": 44,
    "start_time": "2022-01-10T20:57:38.731Z"
   },
   {
    "duration": 89,
    "start_time": "2022-01-10T20:57:38.778Z"
   },
   {
    "duration": 7,
    "start_time": "2022-01-10T20:57:38.870Z"
   },
   {
    "duration": 97,
    "start_time": "2022-01-10T20:57:38.880Z"
   },
   {
    "duration": 6,
    "start_time": "2022-01-10T20:57:38.980Z"
   },
   {
    "duration": 158,
    "start_time": "2022-01-10T20:57:38.989Z"
   },
   {
    "duration": 4,
    "start_time": "2022-01-10T20:57:39.151Z"
   },
   {
    "duration": 17,
    "start_time": "2022-01-10T20:57:39.167Z"
   },
   {
    "duration": 3,
    "start_time": "2022-01-10T20:57:39.187Z"
   },
   {
    "duration": 8,
    "start_time": "2022-01-10T20:57:39.194Z"
   },
   {
    "duration": 40313,
    "start_time": "2022-01-10T20:57:39.269Z"
   },
   {
    "duration": 6,
    "start_time": "2022-01-10T20:58:19.585Z"
   },
   {
    "duration": 9,
    "start_time": "2022-01-10T20:58:19.594Z"
   },
   {
    "duration": 9,
    "start_time": "2022-01-10T20:58:19.605Z"
   },
   {
    "duration": 210,
    "start_time": "2022-01-10T20:58:19.617Z"
   },
   {
    "duration": 65,
    "start_time": "2022-01-10T20:58:19.830Z"
   },
   {
    "duration": 9014,
    "start_time": "2022-01-10T20:58:19.899Z"
   },
   {
    "duration": 11521,
    "start_time": "2022-01-10T20:58:28.916Z"
   },
   {
    "duration": 22,
    "start_time": "2022-01-10T20:58:40.452Z"
   },
   {
    "duration": 14,
    "start_time": "2022-01-10T20:58:40.478Z"
   },
   {
    "duration": 293,
    "start_time": "2022-01-10T20:58:40.495Z"
   },
   {
    "duration": 707,
    "start_time": "2022-01-10T20:58:40.791Z"
   },
   {
    "duration": 20,
    "start_time": "2022-01-10T20:58:41.500Z"
   },
   {
    "duration": 6,
    "start_time": "2022-01-10T20:58:41.524Z"
   },
   {
    "duration": 35,
    "start_time": "2022-01-10T20:58:41.532Z"
   },
   {
    "duration": 5,
    "start_time": "2022-01-10T20:58:41.570Z"
   },
   {
    "duration": 1702,
    "start_time": "2022-01-10T20:58:41.578Z"
   },
   {
    "duration": 89,
    "start_time": "2022-01-10T20:58:43.283Z"
   },
   {
    "duration": 5,
    "start_time": "2022-01-10T20:58:43.375Z"
   },
   {
    "duration": 209,
    "start_time": "2022-01-10T20:58:43.382Z"
   },
   {
    "duration": 1095,
    "start_time": "2022-01-10T20:58:43.594Z"
   },
   {
    "duration": 9,
    "start_time": "2022-01-10T20:58:44.691Z"
   },
   {
    "duration": 3978,
    "start_time": "2022-01-10T20:58:44.703Z"
   },
   {
    "duration": 3776,
    "start_time": "2022-01-10T20:58:44.907Z"
   },
   {
    "duration": 7,
    "start_time": "2022-01-10T20:59:00.474Z"
   },
   {
    "duration": 200695,
    "start_time": "2022-01-10T20:59:01.521Z"
   },
   {
    "duration": 9,
    "start_time": "2022-01-10T21:02:24.246Z"
   },
   {
    "duration": 134958,
    "start_time": "2022-01-10T21:02:24.920Z"
   },
   {
    "duration": 173013,
    "start_time": "2022-01-10T21:04:39.881Z"
   },
   {
    "duration": 88,
    "start_time": "2022-01-10T21:07:33.598Z"
   },
   {
    "duration": 8,
    "start_time": "2022-01-10T21:07:50.359Z"
   },
   {
    "duration": 364,
    "start_time": "2022-01-10T21:07:51.198Z"
   },
   {
    "duration": 261,
    "start_time": "2022-01-10T21:08:02.901Z"
   },
   {
    "duration": 2094,
    "start_time": "2022-01-10T21:08:11.376Z"
   },
   {
    "duration": 4738,
    "start_time": "2022-01-10T21:08:13.473Z"
   },
   {
    "duration": 32,
    "start_time": "2022-01-10T21:08:18.214Z"
   },
   {
    "duration": 205,
    "start_time": "2022-01-10T21:08:18.249Z"
   },
   {
    "duration": 148,
    "start_time": "2022-01-10T21:08:18.456Z"
   },
   {
    "duration": 175,
    "start_time": "2022-01-10T21:08:18.607Z"
   },
   {
    "duration": 727,
    "start_time": "2022-01-10T21:08:18.785Z"
   },
   {
    "duration": 7,
    "start_time": "2022-01-10T21:08:19.515Z"
   },
   {
    "duration": 2493,
    "start_time": "2022-01-10T21:08:19.525Z"
   },
   {
    "duration": 21,
    "start_time": "2022-01-10T21:08:22.021Z"
   },
   {
    "duration": 34,
    "start_time": "2022-01-10T21:08:22.045Z"
   },
   {
    "duration": 6,
    "start_time": "2022-01-10T21:08:22.082Z"
   },
   {
    "duration": 20,
    "start_time": "2022-01-10T21:08:22.091Z"
   },
   {
    "duration": 808,
    "start_time": "2022-01-10T21:08:22.114Z"
   },
   {
    "duration": 4,
    "start_time": "2022-01-10T21:08:22.925Z"
   },
   {
    "duration": 45,
    "start_time": "2022-01-10T21:08:22.932Z"
   },
   {
    "duration": 124,
    "start_time": "2022-01-10T21:08:22.980Z"
   },
   {
    "duration": 74,
    "start_time": "2022-01-10T21:08:23.107Z"
   },
   {
    "duration": 92,
    "start_time": "2022-01-10T21:08:23.184Z"
   },
   {
    "duration": 15,
    "start_time": "2022-01-10T21:08:23.279Z"
   },
   {
    "duration": 111112,
    "start_time": "2022-01-10T21:08:23.297Z"
   },
   {
    "duration": 160,
    "start_time": "2022-01-10T21:10:14.412Z"
   },
   {
    "duration": 4,
    "start_time": "2022-01-10T21:10:14.577Z"
   },
   {
    "duration": 4,
    "start_time": "2022-01-10T21:10:14.585Z"
   },
   {
    "duration": 21,
    "start_time": "2022-01-10T21:10:14.591Z"
   },
   {
    "duration": 66,
    "start_time": "2022-01-10T21:10:14.615Z"
   },
   {
    "duration": 19,
    "start_time": "2022-01-10T21:10:14.683Z"
   },
   {
    "duration": 4,
    "start_time": "2022-01-10T21:10:14.704Z"
   },
   {
    "duration": 57,
    "start_time": "2022-01-10T21:10:14.711Z"
   },
   {
    "duration": 30,
    "start_time": "2022-01-10T21:10:14.771Z"
   },
   {
    "duration": 12,
    "start_time": "2022-01-10T21:10:14.803Z"
   },
   {
    "duration": 469,
    "start_time": "2022-01-10T21:10:14.817Z"
   },
   {
    "duration": 9216,
    "start_time": "2022-01-10T21:10:15.289Z"
   },
   {
    "duration": 66,
    "start_time": "2022-01-10T21:10:24.508Z"
   },
   {
    "duration": 15,
    "start_time": "2022-01-10T21:10:24.576Z"
   },
   {
    "duration": 329,
    "start_time": "2022-01-10T21:10:24.593Z"
   },
   {
    "duration": 44,
    "start_time": "2022-01-10T21:10:24.924Z"
   },
   {
    "duration": 53,
    "start_time": "2022-01-10T21:10:24.971Z"
   },
   {
    "duration": 119,
    "start_time": "2022-01-10T21:10:25.026Z"
   },
   {
    "duration": 397,
    "start_time": "2022-01-10T21:10:25.147Z"
   },
   {
    "duration": 25,
    "start_time": "2022-01-10T21:10:25.547Z"
   },
   {
    "duration": 31,
    "start_time": "2022-01-10T21:10:25.575Z"
   },
   {
    "duration": 4,
    "start_time": "2022-01-10T21:10:25.609Z"
   },
   {
    "duration": 101,
    "start_time": "2022-01-10T21:10:25.616Z"
   },
   {
    "duration": 77,
    "start_time": "2022-01-10T21:10:25.721Z"
   },
   {
    "duration": 7,
    "start_time": "2022-01-10T21:10:25.800Z"
   },
   {
    "duration": 367,
    "start_time": "2022-01-10T21:10:25.810Z"
   },
   {
    "duration": 30295,
    "start_time": "2022-01-10T21:10:26.179Z"
   },
   {
    "duration": 29,
    "start_time": "2022-01-10T21:10:56.477Z"
   },
   {
    "duration": 81,
    "start_time": "2022-01-10T21:10:56.508Z"
   },
   {
    "duration": 14,
    "start_time": "2022-01-10T21:10:56.591Z"
   },
   {
    "duration": 72,
    "start_time": "2022-01-10T21:10:56.608Z"
   },
   {
    "duration": 13,
    "start_time": "2022-01-10T21:10:56.682Z"
   },
   {
    "duration": 25,
    "start_time": "2022-01-10T21:10:56.697Z"
   },
   {
    "duration": 55,
    "start_time": "2022-01-10T21:10:56.724Z"
   },
   {
    "duration": 33,
    "start_time": "2022-01-10T21:10:56.781Z"
   },
   {
    "duration": 54,
    "start_time": "2022-01-10T21:10:56.816Z"
   },
   {
    "duration": 20,
    "start_time": "2022-01-10T21:10:56.872Z"
   },
   {
    "duration": 17,
    "start_time": "2022-01-10T21:10:56.895Z"
   },
   {
    "duration": 7110,
    "start_time": "2022-01-10T21:10:56.915Z"
   },
   {
    "duration": 68,
    "start_time": "2022-01-10T21:11:04.028Z"
   },
   {
    "duration": 14,
    "start_time": "2022-01-10T21:11:04.098Z"
   },
   {
    "duration": 13,
    "start_time": "2022-01-10T21:11:04.114Z"
   },
   {
    "duration": 82,
    "start_time": "2022-01-10T21:11:04.132Z"
   },
   {
    "duration": 5,
    "start_time": "2022-01-10T21:11:04.216Z"
   },
   {
    "duration": 97,
    "start_time": "2022-01-10T21:11:04.224Z"
   },
   {
    "duration": 6,
    "start_time": "2022-01-10T21:11:04.323Z"
   },
   {
    "duration": 129,
    "start_time": "2022-01-10T21:11:04.337Z"
   },
   {
    "duration": 3,
    "start_time": "2022-01-10T21:11:04.470Z"
   },
   {
    "duration": 25,
    "start_time": "2022-01-10T21:11:04.475Z"
   },
   {
    "duration": 5,
    "start_time": "2022-01-10T21:11:04.503Z"
   },
   {
    "duration": 56,
    "start_time": "2022-01-10T21:11:04.511Z"
   },
   {
    "duration": 39516,
    "start_time": "2022-01-10T21:11:04.570Z"
   },
   {
    "duration": 8,
    "start_time": "2022-01-10T21:11:44.089Z"
   },
   {
    "duration": 9,
    "start_time": "2022-01-10T21:11:44.100Z"
   },
   {
    "duration": 10,
    "start_time": "2022-01-10T21:11:44.112Z"
   },
   {
    "duration": 171,
    "start_time": "2022-01-10T21:11:44.167Z"
   },
   {
    "duration": 61,
    "start_time": "2022-01-10T21:11:44.341Z"
   },
   {
    "duration": 9800,
    "start_time": "2022-01-10T21:11:44.405Z"
   },
   {
    "duration": 9802,
    "start_time": "2022-01-10T21:11:54.208Z"
   },
   {
    "duration": 8,
    "start_time": "2022-01-10T21:12:04.012Z"
   },
   {
    "duration": 20,
    "start_time": "2022-01-10T21:12:04.023Z"
   },
   {
    "duration": 251,
    "start_time": "2022-01-10T21:12:04.066Z"
   },
   {
    "duration": 682,
    "start_time": "2022-01-10T21:12:04.319Z"
   },
   {
    "duration": 18,
    "start_time": "2022-01-10T21:12:05.003Z"
   },
   {
    "duration": 5,
    "start_time": "2022-01-10T21:12:05.024Z"
   },
   {
    "duration": 36,
    "start_time": "2022-01-10T21:12:05.031Z"
   },
   {
    "duration": 3,
    "start_time": "2022-01-10T21:12:05.070Z"
   },
   {
    "duration": 1457,
    "start_time": "2022-01-10T21:12:05.076Z"
   },
   {
    "duration": 33,
    "start_time": "2022-01-10T21:12:06.535Z"
   },
   {
    "duration": 3,
    "start_time": "2022-01-10T21:12:06.571Z"
   },
   {
    "duration": 125,
    "start_time": "2022-01-10T21:12:06.576Z"
   },
   {
    "duration": 915,
    "start_time": "2022-01-10T21:12:06.704Z"
   },
   {
    "duration": 5,
    "start_time": "2022-01-10T21:12:07.622Z"
   },
   {
    "duration": 3860,
    "start_time": "2022-01-10T21:12:07.630Z"
   },
   {
    "duration": 3799,
    "start_time": "2022-01-10T21:12:07.695Z"
   },
   {
    "duration": 3798,
    "start_time": "2022-01-10T21:12:07.698Z"
   },
   {
    "duration": 4,
    "start_time": "2022-01-10T21:12:40.838Z"
   },
   {
    "duration": 3,
    "start_time": "2022-01-10T21:13:29.568Z"
   },
   {
    "duration": 5,
    "start_time": "2022-01-10T21:13:33.976Z"
   },
   {
    "duration": 1419,
    "start_time": "2022-01-10T21:14:04.824Z"
   },
   {
    "duration": 4,
    "start_time": "2022-01-10T21:14:51.304Z"
   },
   {
    "duration": 17,
    "start_time": "2022-01-10T21:14:52.434Z"
   },
   {
    "duration": 4,
    "start_time": "2022-01-10T21:15:11.908Z"
   },
   {
    "duration": 144,
    "start_time": "2022-01-10T21:15:12.833Z"
   },
   {
    "duration": 4,
    "start_time": "2022-01-10T21:16:51.971Z"
   },
   {
    "duration": 52,
    "start_time": "2022-01-10T21:16:53.865Z"
   },
   {
    "duration": 4,
    "start_time": "2022-01-10T21:17:57.918Z"
   },
   {
    "duration": 48,
    "start_time": "2022-01-10T21:17:58.701Z"
   },
   {
    "duration": 5,
    "start_time": "2022-01-10T21:18:18.373Z"
   },
   {
    "duration": 75,
    "start_time": "2022-01-10T21:18:19.038Z"
   },
   {
    "duration": 4,
    "start_time": "2022-01-10T21:18:50.682Z"
   },
   {
    "duration": 622,
    "start_time": "2022-01-10T21:18:51.572Z"
   },
   {
    "duration": 4,
    "start_time": "2022-01-10T21:22:08.980Z"
   },
   {
    "duration": 5592,
    "start_time": "2022-01-10T21:22:09.420Z"
   },
   {
    "duration": 5,
    "start_time": "2022-01-10T21:22:43.595Z"
   },
   {
    "duration": 4537,
    "start_time": "2022-01-10T21:22:43.603Z"
   },
   {
    "duration": 5,
    "start_time": "2022-01-10T21:23:16.182Z"
   },
   {
    "duration": 204303,
    "start_time": "2022-01-10T21:23:16.896Z"
   },
   {
    "duration": 3777,
    "start_time": "2022-01-10T21:26:37.424Z"
   },
   {
    "duration": 4,
    "start_time": "2022-01-10T21:28:58.841Z"
   },
   {
    "duration": 121,
    "start_time": "2022-01-10T21:28:59.250Z"
   },
   {
    "duration": 4,
    "start_time": "2022-01-10T21:29:53.797Z"
   },
   {
    "duration": 1150,
    "start_time": "2022-01-10T21:29:54.264Z"
   },
   {
    "duration": 4,
    "start_time": "2022-01-10T21:30:04.443Z"
   },
   {
    "duration": 632,
    "start_time": "2022-01-10T21:30:05.104Z"
   },
   {
    "duration": 4,
    "start_time": "2022-01-10T21:30:16.940Z"
   },
   {
    "duration": 135,
    "start_time": "2022-01-10T21:30:17.315Z"
   },
   {
    "duration": 113,
    "start_time": "2022-01-10T21:31:14.255Z"
   },
   {
    "duration": 5,
    "start_time": "2022-01-10T21:31:19.156Z"
   },
   {
    "duration": 116,
    "start_time": "2022-01-10T21:31:19.640Z"
   },
   {
    "duration": 305,
    "start_time": "2022-01-10T21:32:01.358Z"
   },
   {
    "duration": 4,
    "start_time": "2022-01-10T21:32:18.340Z"
   },
   {
    "duration": 6,
    "start_time": "2022-01-10T21:32:18.654Z"
   },
   {
    "duration": 1642,
    "start_time": "2022-01-10T21:32:51.805Z"
   },
   {
    "duration": 1194,
    "start_time": "2022-01-10T21:32:53.451Z"
   },
   {
    "duration": 45,
    "start_time": "2022-01-10T21:32:54.651Z"
   },
   {
    "duration": 186,
    "start_time": "2022-01-10T21:32:54.699Z"
   },
   {
    "duration": 143,
    "start_time": "2022-01-10T21:32:54.888Z"
   },
   {
    "duration": 184,
    "start_time": "2022-01-10T21:32:55.034Z"
   },
   {
    "duration": 747,
    "start_time": "2022-01-10T21:32:55.221Z"
   },
   {
    "duration": 7,
    "start_time": "2022-01-10T21:32:55.971Z"
   },
   {
    "duration": 2450,
    "start_time": "2022-01-10T21:32:55.981Z"
   },
   {
    "duration": 34,
    "start_time": "2022-01-10T21:32:58.433Z"
   },
   {
    "duration": 12,
    "start_time": "2022-01-10T21:32:58.469Z"
   },
   {
    "duration": 6,
    "start_time": "2022-01-10T21:32:58.484Z"
   },
   {
    "duration": 18,
    "start_time": "2022-01-10T21:32:58.492Z"
   },
   {
    "duration": 765,
    "start_time": "2022-01-10T21:32:58.512Z"
   },
   {
    "duration": 3,
    "start_time": "2022-01-10T21:32:59.280Z"
   },
   {
    "duration": 25,
    "start_time": "2022-01-10T21:32:59.286Z"
   },
   {
    "duration": 133,
    "start_time": "2022-01-10T21:32:59.313Z"
   },
   {
    "duration": 56,
    "start_time": "2022-01-10T21:32:59.449Z"
   },
   {
    "duration": 69,
    "start_time": "2022-01-10T21:32:59.508Z"
   },
   {
    "duration": 13,
    "start_time": "2022-01-10T21:32:59.579Z"
   },
   {
    "duration": 1581,
    "start_time": "2022-01-10T21:33:35.169Z"
   },
   {
    "duration": 1183,
    "start_time": "2022-01-10T21:33:36.752Z"
   },
   {
    "duration": 42,
    "start_time": "2022-01-10T21:33:37.941Z"
   },
   {
    "duration": 195,
    "start_time": "2022-01-10T21:33:37.986Z"
   },
   {
    "duration": 144,
    "start_time": "2022-01-10T21:33:38.184Z"
   },
   {
    "duration": 192,
    "start_time": "2022-01-10T21:33:38.331Z"
   },
   {
    "duration": 780,
    "start_time": "2022-01-10T21:33:38.527Z"
   },
   {
    "duration": 7,
    "start_time": "2022-01-10T21:33:39.310Z"
   },
   {
    "duration": 2726,
    "start_time": "2022-01-10T21:33:39.320Z"
   },
   {
    "duration": 19,
    "start_time": "2022-01-10T21:33:42.049Z"
   },
   {
    "duration": 11,
    "start_time": "2022-01-10T21:33:42.071Z"
   },
   {
    "duration": 5,
    "start_time": "2022-01-10T21:33:42.085Z"
   },
   {
    "duration": 18,
    "start_time": "2022-01-10T21:33:42.093Z"
   },
   {
    "duration": 881,
    "start_time": "2022-01-10T21:33:42.113Z"
   },
   {
    "duration": 3,
    "start_time": "2022-01-10T21:33:42.997Z"
   },
   {
    "duration": 65,
    "start_time": "2022-01-10T21:33:43.002Z"
   },
   {
    "duration": 108,
    "start_time": "2022-01-10T21:33:43.070Z"
   },
   {
    "duration": 48,
    "start_time": "2022-01-10T21:33:43.181Z"
   },
   {
    "duration": 70,
    "start_time": "2022-01-10T21:33:43.231Z"
   },
   {
    "duration": 14,
    "start_time": "2022-01-10T21:33:43.303Z"
   },
   {
    "duration": 116458,
    "start_time": "2022-01-10T21:33:43.320Z"
   },
   {
    "duration": 160,
    "start_time": "2022-01-10T21:35:39.784Z"
   },
   {
    "duration": 21,
    "start_time": "2022-01-10T21:35:39.948Z"
   },
   {
    "duration": 5,
    "start_time": "2022-01-10T21:35:39.973Z"
   },
   {
    "duration": 21,
    "start_time": "2022-01-10T21:35:39.981Z"
   },
   {
    "duration": 81,
    "start_time": "2022-01-10T21:35:40.005Z"
   },
   {
    "duration": 21,
    "start_time": "2022-01-10T21:35:40.089Z"
   },
   {
    "duration": 4,
    "start_time": "2022-01-10T21:35:40.113Z"
   },
   {
    "duration": 63,
    "start_time": "2022-01-10T21:35:40.120Z"
   },
   {
    "duration": 37,
    "start_time": "2022-01-10T21:35:40.188Z"
   },
   {
    "duration": 42,
    "start_time": "2022-01-10T21:35:40.228Z"
   },
   {
    "duration": 496,
    "start_time": "2022-01-10T21:35:40.272Z"
   },
   {
    "duration": 9085,
    "start_time": "2022-01-10T21:35:40.771Z"
   },
   {
    "duration": 48,
    "start_time": "2022-01-10T21:35:49.858Z"
   },
   {
    "duration": 15,
    "start_time": "2022-01-10T21:35:49.909Z"
   },
   {
    "duration": 402,
    "start_time": "2022-01-10T21:35:49.927Z"
   },
   {
    "duration": 42,
    "start_time": "2022-01-10T21:35:50.332Z"
   },
   {
    "duration": 52,
    "start_time": "2022-01-10T21:35:50.377Z"
   },
   {
    "duration": 121,
    "start_time": "2022-01-10T21:35:50.432Z"
   },
   {
    "duration": 397,
    "start_time": "2022-01-10T21:35:50.555Z"
   },
   {
    "duration": 19,
    "start_time": "2022-01-10T21:35:50.955Z"
   },
   {
    "duration": 34,
    "start_time": "2022-01-10T21:35:50.976Z"
   },
   {
    "duration": 4,
    "start_time": "2022-01-10T21:35:51.013Z"
   },
   {
    "duration": 90,
    "start_time": "2022-01-10T21:35:51.019Z"
   },
   {
    "duration": 60,
    "start_time": "2022-01-10T21:35:51.112Z"
   },
   {
    "duration": 5,
    "start_time": "2022-01-10T21:35:51.175Z"
   },
   {
    "duration": 338,
    "start_time": "2022-01-10T21:35:51.182Z"
   },
   {
    "duration": 29602,
    "start_time": "2022-01-10T21:35:51.523Z"
   },
   {
    "duration": 55,
    "start_time": "2022-01-10T21:36:21.129Z"
   },
   {
    "duration": 52,
    "start_time": "2022-01-10T21:36:21.186Z"
   },
   {
    "duration": 33,
    "start_time": "2022-01-10T21:36:21.241Z"
   },
   {
    "duration": 41,
    "start_time": "2022-01-10T21:36:21.277Z"
   },
   {
    "duration": 51,
    "start_time": "2022-01-10T21:36:21.321Z"
   },
   {
    "duration": 26,
    "start_time": "2022-01-10T21:36:21.374Z"
   },
   {
    "duration": 63,
    "start_time": "2022-01-10T21:36:21.403Z"
   },
   {
    "duration": 24,
    "start_time": "2022-01-10T21:36:21.469Z"
   },
   {
    "duration": 29,
    "start_time": "2022-01-10T21:36:21.496Z"
   },
   {
    "duration": 21,
    "start_time": "2022-01-10T21:36:21.567Z"
   },
   {
    "duration": 18,
    "start_time": "2022-01-10T21:36:21.590Z"
   },
   {
    "duration": 7300,
    "start_time": "2022-01-10T21:36:21.610Z"
   },
   {
    "duration": 71,
    "start_time": "2022-01-10T21:36:28.912Z"
   },
   {
    "duration": 16,
    "start_time": "2022-01-10T21:36:28.986Z"
   },
   {
    "duration": 14,
    "start_time": "2022-01-10T21:36:29.004Z"
   },
   {
    "duration": 90,
    "start_time": "2022-01-10T21:36:29.020Z"
   },
   {
    "duration": 5,
    "start_time": "2022-01-10T21:36:29.113Z"
   },
   {
    "duration": 99,
    "start_time": "2022-01-10T21:36:29.121Z"
   },
   {
    "duration": 5,
    "start_time": "2022-01-10T21:36:29.229Z"
   },
   {
    "duration": 135,
    "start_time": "2022-01-10T21:36:29.238Z"
   },
   {
    "duration": 4,
    "start_time": "2022-01-10T21:36:29.376Z"
   },
   {
    "duration": 17,
    "start_time": "2022-01-10T21:36:29.382Z"
   },
   {
    "duration": 3,
    "start_time": "2022-01-10T21:36:29.402Z"
   },
   {
    "duration": 61,
    "start_time": "2022-01-10T21:36:29.408Z"
   },
   {
    "duration": 39012,
    "start_time": "2022-01-10T21:36:29.471Z"
   },
   {
    "duration": 7,
    "start_time": "2022-01-10T21:37:08.486Z"
   },
   {
    "duration": 7,
    "start_time": "2022-01-10T21:37:08.496Z"
   },
   {
    "duration": 9,
    "start_time": "2022-01-10T21:37:08.506Z"
   },
   {
    "duration": 205,
    "start_time": "2022-01-10T21:37:08.518Z"
   },
   {
    "duration": 60,
    "start_time": "2022-01-10T21:37:08.726Z"
   },
   {
    "duration": 8965,
    "start_time": "2022-01-10T21:37:08.788Z"
   },
   {
    "duration": 9668,
    "start_time": "2022-01-10T21:37:17.756Z"
   },
   {
    "duration": 8,
    "start_time": "2022-01-10T21:37:27.427Z"
   },
   {
    "duration": 35,
    "start_time": "2022-01-10T21:37:27.438Z"
   },
   {
    "duration": 244,
    "start_time": "2022-01-10T21:37:27.476Z"
   },
   {
    "duration": 674,
    "start_time": "2022-01-10T21:37:27.722Z"
   },
   {
    "duration": 23,
    "start_time": "2022-01-10T21:37:28.400Z"
   },
   {
    "duration": 9,
    "start_time": "2022-01-10T21:37:28.425Z"
   },
   {
    "duration": 128,
    "start_time": "2022-01-10T21:37:28.467Z"
   },
   {
    "duration": 4,
    "start_time": "2022-01-10T21:37:28.598Z"
   },
   {
    "duration": 12,
    "start_time": "2022-01-10T21:37:28.604Z"
   },
   {
    "duration": 8,
    "start_time": "2022-01-10T21:37:28.619Z"
   },
   {
    "duration": 1767,
    "start_time": "2022-01-10T21:37:28.630Z"
   },
   {
    "duration": 24,
    "start_time": "2022-01-10T21:37:30.400Z"
   },
   {
    "duration": 24,
    "start_time": "2022-01-10T21:37:30.427Z"
   },
   {
    "duration": 133,
    "start_time": "2022-01-10T21:37:30.453Z"
   },
   {
    "duration": 1051,
    "start_time": "2022-01-10T21:37:30.588Z"
   },
   {
    "duration": 5,
    "start_time": "2022-01-10T21:37:31.642Z"
   },
   {
    "duration": 146619,
    "start_time": "2022-01-10T21:37:31.650Z"
   },
   {
    "duration": 95,
    "start_time": "2022-01-10T21:39:58.273Z"
   },
   {
    "duration": 34333,
    "start_time": "2022-01-10T21:39:58.372Z"
   },
   {
    "duration": 54,
    "start_time": "2022-01-10T21:40:56.473Z"
   },
   {
    "duration": 6,
    "start_time": "2022-01-10T21:40:57.779Z"
   },
   {
    "duration": 107,
    "start_time": "2022-01-10T21:40:58.207Z"
   },
   {
    "duration": 315,
    "start_time": "2022-01-10T21:41:20.811Z"
   },
   {
    "duration": 1597,
    "start_time": "2022-01-10T21:41:40.152Z"
   },
   {
    "duration": 1186,
    "start_time": "2022-01-10T21:41:41.751Z"
   },
   {
    "duration": 34,
    "start_time": "2022-01-10T21:41:42.941Z"
   },
   {
    "duration": 180,
    "start_time": "2022-01-10T21:41:42.978Z"
   },
   {
    "duration": 144,
    "start_time": "2022-01-10T21:41:43.161Z"
   },
   {
    "duration": 173,
    "start_time": "2022-01-10T21:41:43.307Z"
   },
   {
    "duration": 708,
    "start_time": "2022-01-10T21:41:43.483Z"
   },
   {
    "duration": 7,
    "start_time": "2022-01-10T21:41:44.195Z"
   },
   {
    "duration": 2435,
    "start_time": "2022-01-10T21:41:44.205Z"
   },
   {
    "duration": 28,
    "start_time": "2022-01-10T21:41:46.643Z"
   },
   {
    "duration": 12,
    "start_time": "2022-01-10T21:41:46.673Z"
   },
   {
    "duration": 6,
    "start_time": "2022-01-10T21:41:46.687Z"
   },
   {
    "duration": 20,
    "start_time": "2022-01-10T21:41:46.695Z"
   },
   {
    "duration": 790,
    "start_time": "2022-01-10T21:41:46.718Z"
   },
   {
    "duration": 3,
    "start_time": "2022-01-10T21:41:47.511Z"
   },
   {
    "duration": 21,
    "start_time": "2022-01-10T21:41:47.516Z"
   },
   {
    "duration": 100,
    "start_time": "2022-01-10T21:41:47.567Z"
   },
   {
    "duration": 47,
    "start_time": "2022-01-10T21:41:47.670Z"
   },
   {
    "duration": 72,
    "start_time": "2022-01-10T21:41:47.720Z"
   },
   {
    "duration": 15,
    "start_time": "2022-01-10T21:41:47.795Z"
   },
   {
    "duration": 103654,
    "start_time": "2022-01-10T21:41:47.813Z"
   },
   {
    "duration": 158,
    "start_time": "2022-01-10T21:43:31.470Z"
   },
   {
    "duration": 5,
    "start_time": "2022-01-10T21:43:31.634Z"
   },
   {
    "duration": 29,
    "start_time": "2022-01-10T21:43:31.643Z"
   },
   {
    "duration": 25,
    "start_time": "2022-01-10T21:43:31.675Z"
   },
   {
    "duration": 27,
    "start_time": "2022-01-10T21:43:31.702Z"
   },
   {
    "duration": 46,
    "start_time": "2022-01-10T21:43:31.732Z"
   },
   {
    "duration": 4,
    "start_time": "2022-01-10T21:43:31.780Z"
   },
   {
    "duration": 20,
    "start_time": "2022-01-10T21:43:31.787Z"
   },
   {
    "duration": 73,
    "start_time": "2022-01-10T21:43:31.809Z"
   },
   {
    "duration": 12,
    "start_time": "2022-01-10T21:43:31.884Z"
   },
   {
    "duration": 514,
    "start_time": "2022-01-10T21:43:31.899Z"
   },
   {
    "duration": 9141,
    "start_time": "2022-01-10T21:43:32.416Z"
   },
   {
    "duration": 42,
    "start_time": "2022-01-10T21:43:41.566Z"
   },
   {
    "duration": 14,
    "start_time": "2022-01-10T21:43:41.611Z"
   },
   {
    "duration": 345,
    "start_time": "2022-01-10T21:43:41.628Z"
   },
   {
    "duration": 25,
    "start_time": "2022-01-10T21:43:41.976Z"
   },
   {
    "duration": 82,
    "start_time": "2022-01-10T21:43:42.003Z"
   },
   {
    "duration": 114,
    "start_time": "2022-01-10T21:43:42.088Z"
   },
   {
    "duration": 389,
    "start_time": "2022-01-10T21:43:42.205Z"
   },
   {
    "duration": 10,
    "start_time": "2022-01-10T21:43:42.597Z"
   },
   {
    "duration": 27,
    "start_time": "2022-01-10T21:43:42.609Z"
   },
   {
    "duration": 3,
    "start_time": "2022-01-10T21:43:42.668Z"
   },
   {
    "duration": 52,
    "start_time": "2022-01-10T21:43:42.674Z"
   },
   {
    "duration": 74,
    "start_time": "2022-01-10T21:43:42.728Z"
   },
   {
    "duration": 5,
    "start_time": "2022-01-10T21:43:42.805Z"
   },
   {
    "duration": 363,
    "start_time": "2022-01-10T21:43:42.812Z"
   },
   {
    "duration": 29417,
    "start_time": "2022-01-10T21:43:43.178Z"
   },
   {
    "duration": 32,
    "start_time": "2022-01-10T21:44:12.598Z"
   },
   {
    "duration": 80,
    "start_time": "2022-01-10T21:44:12.634Z"
   },
   {
    "duration": 53,
    "start_time": "2022-01-10T21:44:12.718Z"
   },
   {
    "duration": 45,
    "start_time": "2022-01-10T21:44:12.774Z"
   },
   {
    "duration": 50,
    "start_time": "2022-01-10T21:44:12.822Z"
   },
   {
    "duration": 25,
    "start_time": "2022-01-10T21:44:12.875Z"
   },
   {
    "duration": 17,
    "start_time": "2022-01-10T21:44:12.903Z"
   },
   {
    "duration": 60,
    "start_time": "2022-01-10T21:44:12.923Z"
   },
   {
    "duration": 27,
    "start_time": "2022-01-10T21:44:12.986Z"
   },
   {
    "duration": 57,
    "start_time": "2022-01-10T21:44:13.016Z"
   },
   {
    "duration": 18,
    "start_time": "2022-01-10T21:44:13.075Z"
   },
   {
    "duration": 6963,
    "start_time": "2022-01-10T21:44:13.095Z"
   },
   {
    "duration": 60,
    "start_time": "2022-01-10T21:44:20.060Z"
   },
   {
    "duration": 44,
    "start_time": "2022-01-10T21:44:20.123Z"
   },
   {
    "duration": 14,
    "start_time": "2022-01-10T21:44:20.170Z"
   },
   {
    "duration": 84,
    "start_time": "2022-01-10T21:44:20.187Z"
   },
   {
    "duration": 5,
    "start_time": "2022-01-10T21:44:20.274Z"
   },
   {
    "duration": 88,
    "start_time": "2022-01-10T21:44:20.282Z"
   },
   {
    "duration": 5,
    "start_time": "2022-01-10T21:44:20.372Z"
   },
   {
    "duration": 129,
    "start_time": "2022-01-10T21:44:20.386Z"
   },
   {
    "duration": 3,
    "start_time": "2022-01-10T21:44:20.518Z"
   },
   {
    "duration": 42,
    "start_time": "2022-01-10T21:44:20.525Z"
   },
   {
    "duration": 5,
    "start_time": "2022-01-10T21:44:20.570Z"
   },
   {
    "duration": 15,
    "start_time": "2022-01-10T21:44:20.577Z"
   },
   {
    "duration": 38759,
    "start_time": "2022-01-10T21:44:20.595Z"
   },
   {
    "duration": 11,
    "start_time": "2022-01-10T21:44:59.357Z"
   },
   {
    "duration": 6,
    "start_time": "2022-01-10T21:44:59.371Z"
   },
   {
    "duration": 11,
    "start_time": "2022-01-10T21:44:59.379Z"
   },
   {
    "duration": 224,
    "start_time": "2022-01-10T21:44:59.393Z"
   },
   {
    "duration": 69,
    "start_time": "2022-01-10T21:44:59.620Z"
   },
   {
    "duration": 9343,
    "start_time": "2022-01-10T21:44:59.692Z"
   },
   {
    "duration": 9700,
    "start_time": "2022-01-10T21:45:09.038Z"
   },
   {
    "duration": 7,
    "start_time": "2022-01-10T21:45:18.741Z"
   },
   {
    "duration": 27,
    "start_time": "2022-01-10T21:45:18.751Z"
   },
   {
    "duration": 253,
    "start_time": "2022-01-10T21:45:18.780Z"
   },
   {
    "duration": 689,
    "start_time": "2022-01-10T21:45:19.036Z"
   },
   {
    "duration": 19,
    "start_time": "2022-01-10T21:45:19.727Z"
   },
   {
    "duration": 4,
    "start_time": "2022-01-10T21:45:19.768Z"
   },
   {
    "duration": 8,
    "start_time": "2022-01-10T21:45:19.775Z"
   },
   {
    "duration": 8,
    "start_time": "2022-01-10T21:45:19.785Z"
   },
   {
    "duration": 9,
    "start_time": "2022-01-10T21:45:19.795Z"
   },
   {
    "duration": 424,
    "start_time": "2022-01-10T21:45:19.806Z"
   },
   {
    "duration": 3817,
    "start_time": "2022-01-10T21:45:16.416Z"
   },
   {
    "duration": 3815,
    "start_time": "2022-01-10T21:45:16.419Z"
   },
   {
    "duration": 3814,
    "start_time": "2022-01-10T21:45:16.422Z"
   },
   {
    "duration": 3812,
    "start_time": "2022-01-10T21:45:16.425Z"
   },
   {
    "duration": 3812,
    "start_time": "2022-01-10T21:45:16.427Z"
   },
   {
    "duration": 3812,
    "start_time": "2022-01-10T21:45:16.429Z"
   },
   {
    "duration": 3805,
    "start_time": "2022-01-10T21:45:16.437Z"
   },
   {
    "duration": 3805,
    "start_time": "2022-01-10T21:45:16.439Z"
   },
   {
    "duration": 3804,
    "start_time": "2022-01-10T21:45:16.442Z"
   },
   {
    "duration": 4,
    "start_time": "2022-01-10T21:45:34.027Z"
   },
   {
    "duration": 4,
    "start_time": "2022-01-10T21:45:38.108Z"
   },
   {
    "duration": 1357,
    "start_time": "2022-01-10T21:45:38.586Z"
   },
   {
    "duration": 26,
    "start_time": "2022-01-10T21:45:41.817Z"
   },
   {
    "duration": 6,
    "start_time": "2022-01-10T21:45:56.603Z"
   },
   {
    "duration": 12,
    "start_time": "2022-01-10T21:46:02.385Z"
   },
   {
    "duration": 4,
    "start_time": "2022-01-10T21:46:25.462Z"
   },
   {
    "duration": 111,
    "start_time": "2022-01-10T21:46:25.469Z"
   },
   {
    "duration": 830,
    "start_time": "2022-01-10T21:46:25.583Z"
   },
   {
    "duration": 6,
    "start_time": "2022-01-10T21:46:26.416Z"
   },
   {
    "duration": 128449,
    "start_time": "2022-01-10T21:46:26.425Z"
   },
   {
    "duration": 366,
    "start_time": "2022-01-10T21:48:34.877Z"
   },
   {
    "duration": 3821,
    "start_time": "2022-01-10T21:48:31.426Z"
   },
   {
    "duration": 3821,
    "start_time": "2022-01-10T21:48:31.428Z"
   },
   {
    "duration": 278,
    "start_time": "2022-01-10T21:51:25.999Z"
   },
   {
    "duration": 26230,
    "start_time": "2022-01-10T21:51:39.337Z"
   },
   {
    "duration": 478,
    "start_time": "2022-01-10T21:52:31.768Z"
   },
   {
    "duration": 4,
    "start_time": "2022-01-10T21:52:56.034Z"
   },
   {
    "duration": 571,
    "start_time": "2022-01-10T21:52:57.096Z"
   },
   {
    "duration": 131,
    "start_time": "2022-01-10T21:53:11.243Z"
   },
   {
    "duration": 5,
    "start_time": "2022-01-10T21:53:19.712Z"
   },
   {
    "duration": 42,
    "start_time": "2022-01-10T21:54:54.912Z"
   },
   {
    "duration": 105,
    "start_time": "2022-01-10T21:54:55.346Z"
   },
   {
    "duration": 818,
    "start_time": "2022-01-10T21:54:55.941Z"
   },
   {
    "duration": 6,
    "start_time": "2022-01-10T21:54:57.308Z"
   },
   {
    "duration": 25103,
    "start_time": "2022-01-10T21:54:58.066Z"
   },
   {
    "duration": 94,
    "start_time": "2022-01-10T21:55:23.173Z"
   },
   {
    "duration": 198,
    "start_time": "2022-01-10T21:55:23.270Z"
   },
   {
    "duration": 95,
    "start_time": "2022-01-10T21:55:23.472Z"
   },
   {
    "duration": 320802,
    "start_time": "2022-01-10T21:55:38.065Z"
   },
   {
    "duration": 4,
    "start_time": "2022-01-10T22:00:58.869Z"
   },
   {
    "duration": 22333945,
    "start_time": "2022-01-10T22:00:58.876Z"
   },
   {
    "duration": 621,
    "start_time": "2022-01-11T06:30:20.640Z"
   },
   {
    "duration": 5924,
    "start_time": "2022-01-11T06:30:32.919Z"
   },
   {
    "duration": 287,
    "start_time": "2022-01-11T06:30:40.789Z"
   },
   {
    "duration": 8033,
    "start_time": "2022-01-11T06:31:43.879Z"
   },
   {
    "duration": 239,
    "start_time": "2022-01-11T06:38:18.289Z"
   },
   {
    "duration": 294,
    "start_time": "2022-01-11T06:38:46.836Z"
   },
   {
    "duration": 44,
    "start_time": "2022-01-11T06:40:04.328Z"
   },
   {
    "duration": 7927,
    "start_time": "2022-01-11T06:40:26.281Z"
   },
   {
    "duration": 217,
    "start_time": "2022-01-11T06:40:38.494Z"
   },
   {
    "duration": 13,
    "start_time": "2022-01-11T06:40:38.878Z"
   },
   {
    "duration": 4,
    "start_time": "2022-01-11T06:50:54.004Z"
   },
   {
    "duration": 3329,
    "start_time": "2022-01-11T06:53:55.244Z"
   },
   {
    "duration": 1654,
    "start_time": "2022-01-11T06:53:58.575Z"
   },
   {
    "duration": 1191,
    "start_time": "2022-01-11T06:54:00.232Z"
   },
   {
    "duration": 30,
    "start_time": "2022-01-11T06:54:01.425Z"
   },
   {
    "duration": 172,
    "start_time": "2022-01-11T06:54:01.468Z"
   },
   {
    "duration": 145,
    "start_time": "2022-01-11T06:54:01.643Z"
   },
   {
    "duration": 178,
    "start_time": "2022-01-11T06:54:01.790Z"
   },
   {
    "duration": 771,
    "start_time": "2022-01-11T06:54:01.972Z"
   },
   {
    "duration": 6,
    "start_time": "2022-01-11T06:54:02.746Z"
   },
   {
    "duration": 2530,
    "start_time": "2022-01-11T06:54:02.754Z"
   },
   {
    "duration": 16,
    "start_time": "2022-01-11T06:54:05.287Z"
   },
   {
    "duration": 11,
    "start_time": "2022-01-11T06:54:05.305Z"
   },
   {
    "duration": 5,
    "start_time": "2022-01-11T06:54:05.318Z"
   },
   {
    "duration": 51,
    "start_time": "2022-01-11T06:54:05.325Z"
   },
   {
    "duration": 873,
    "start_time": "2022-01-11T06:54:05.379Z"
   },
   {
    "duration": 13,
    "start_time": "2022-01-11T06:54:06.254Z"
   },
   {
    "duration": 33,
    "start_time": "2022-01-11T06:54:06.270Z"
   },
   {
    "duration": 180,
    "start_time": "2022-01-11T06:54:06.305Z"
   },
   {
    "duration": 50,
    "start_time": "2022-01-11T06:54:06.487Z"
   },
   {
    "duration": 66,
    "start_time": "2022-01-11T06:54:06.539Z"
   },
   {
    "duration": 16,
    "start_time": "2022-01-11T06:54:06.607Z"
   },
   {
    "duration": 109682,
    "start_time": "2022-01-11T06:54:06.625Z"
   },
   {
    "duration": 155,
    "start_time": "2022-01-11T06:55:56.313Z"
   },
   {
    "duration": 4,
    "start_time": "2022-01-11T06:55:56.473Z"
   },
   {
    "duration": 7,
    "start_time": "2022-01-11T06:55:56.479Z"
   },
   {
    "duration": 27,
    "start_time": "2022-01-11T06:55:56.488Z"
   },
   {
    "duration": 51,
    "start_time": "2022-01-11T06:55:56.518Z"
   },
   {
    "duration": 17,
    "start_time": "2022-01-11T06:55:56.571Z"
   },
   {
    "duration": 3,
    "start_time": "2022-01-11T06:55:56.591Z"
   },
   {
    "duration": 28,
    "start_time": "2022-01-11T06:55:56.597Z"
   },
   {
    "duration": 54,
    "start_time": "2022-01-11T06:55:56.627Z"
   },
   {
    "duration": 13,
    "start_time": "2022-01-11T06:55:56.683Z"
   },
   {
    "duration": 422,
    "start_time": "2022-01-11T06:55:56.699Z"
   },
   {
    "duration": 5291,
    "start_time": "2022-01-11T06:55:57.124Z"
   },
   {
    "duration": 61,
    "start_time": "2022-01-11T06:56:02.418Z"
   },
   {
    "duration": 16,
    "start_time": "2022-01-11T06:56:02.482Z"
   },
   {
    "duration": 351,
    "start_time": "2022-01-11T06:56:02.500Z"
   },
   {
    "duration": 28,
    "start_time": "2022-01-11T06:56:02.853Z"
   },
   {
    "duration": 62,
    "start_time": "2022-01-11T06:56:02.883Z"
   },
   {
    "duration": 125,
    "start_time": "2022-01-11T06:56:02.947Z"
   },
   {
    "duration": 399,
    "start_time": "2022-01-11T06:56:03.074Z"
   },
   {
    "duration": 10,
    "start_time": "2022-01-11T06:56:03.476Z"
   },
   {
    "duration": 36,
    "start_time": "2022-01-11T06:56:03.489Z"
   },
   {
    "duration": 4,
    "start_time": "2022-01-11T06:56:03.527Z"
   },
   {
    "duration": 75,
    "start_time": "2022-01-11T06:56:03.533Z"
   },
   {
    "duration": 56,
    "start_time": "2022-01-11T06:56:03.611Z"
   },
   {
    "duration": 6,
    "start_time": "2022-01-11T06:56:03.669Z"
   },
   {
    "duration": 347,
    "start_time": "2022-01-11T06:56:03.678Z"
   },
   {
    "duration": 35958,
    "start_time": "2022-01-11T06:56:04.028Z"
   },
   {
    "duration": 34,
    "start_time": "2022-01-11T06:56:39.989Z"
   },
   {
    "duration": 85,
    "start_time": "2022-01-11T06:56:40.026Z"
   },
   {
    "duration": 16,
    "start_time": "2022-01-11T06:56:40.114Z"
   },
   {
    "duration": 81,
    "start_time": "2022-01-11T06:56:40.136Z"
   },
   {
    "duration": 17,
    "start_time": "2022-01-11T06:56:40.220Z"
   },
   {
    "duration": 1005,
    "start_time": "2022-01-11T06:56:40.240Z"
   },
   {
    "duration": 29,
    "start_time": "2022-01-11T06:56:41.248Z"
   },
   {
    "duration": 24,
    "start_time": "2022-01-11T06:56:41.280Z"
   },
   {
    "duration": 25,
    "start_time": "2022-01-11T06:56:41.307Z"
   },
   {
    "duration": 47,
    "start_time": "2022-01-11T06:56:41.335Z"
   },
   {
    "duration": 17,
    "start_time": "2022-01-11T06:56:41.385Z"
   },
   {
    "duration": 7263,
    "start_time": "2022-01-11T06:56:41.404Z"
   },
   {
    "duration": 55,
    "start_time": "2022-01-11T06:56:48.669Z"
   },
   {
    "duration": 14,
    "start_time": "2022-01-11T06:56:48.726Z"
   },
   {
    "duration": 33,
    "start_time": "2022-01-11T06:56:48.743Z"
   },
   {
    "duration": 62,
    "start_time": "2022-01-11T06:56:48.778Z"
   },
   {
    "duration": 27,
    "start_time": "2022-01-11T06:56:48.842Z"
   },
   {
    "duration": 68,
    "start_time": "2022-01-11T06:56:48.872Z"
   },
   {
    "duration": 21,
    "start_time": "2022-01-11T06:56:48.949Z"
   },
   {
    "duration": 124,
    "start_time": "2022-01-11T06:56:48.974Z"
   },
   {
    "duration": 3,
    "start_time": "2022-01-11T06:56:49.101Z"
   },
   {
    "duration": 16,
    "start_time": "2022-01-11T06:56:49.106Z"
   },
   {
    "duration": 3,
    "start_time": "2022-01-11T06:56:49.125Z"
   },
   {
    "duration": 5,
    "start_time": "2022-01-11T06:56:49.168Z"
   },
   {
    "duration": 40474,
    "start_time": "2022-01-11T06:56:49.176Z"
   },
   {
    "duration": 14,
    "start_time": "2022-01-11T06:57:29.653Z"
   },
   {
    "duration": 6,
    "start_time": "2022-01-11T06:57:29.670Z"
   },
   {
    "duration": 15,
    "start_time": "2022-01-11T06:57:29.678Z"
   },
   {
    "duration": 182,
    "start_time": "2022-01-11T06:57:29.696Z"
   },
   {
    "duration": 45,
    "start_time": "2022-01-11T06:57:29.880Z"
   },
   {
    "duration": 9352,
    "start_time": "2022-01-11T06:57:29.927Z"
   },
   {
    "duration": 9493,
    "start_time": "2022-01-11T06:57:39.281Z"
   },
   {
    "duration": 6,
    "start_time": "2022-01-11T06:57:48.777Z"
   },
   {
    "duration": 13,
    "start_time": "2022-01-11T06:57:48.786Z"
   },
   {
    "duration": 269,
    "start_time": "2022-01-11T06:57:48.802Z"
   },
   {
    "duration": 699,
    "start_time": "2022-01-11T06:57:49.073Z"
   },
   {
    "duration": 19,
    "start_time": "2022-01-11T06:57:49.775Z"
   },
   {
    "duration": 4,
    "start_time": "2022-01-11T06:57:49.797Z"
   },
   {
    "duration": 5,
    "start_time": "2022-01-11T06:57:49.804Z"
   },
   {
    "duration": 12,
    "start_time": "2022-01-11T06:57:49.812Z"
   },
   {
    "duration": 40,
    "start_time": "2022-01-11T06:57:49.827Z"
   },
   {
    "duration": 8,
    "start_time": "2022-01-11T06:57:49.870Z"
   },
   {
    "duration": 7,
    "start_time": "2022-01-11T06:57:49.880Z"
   },
   {
    "duration": 7201,
    "start_time": "2022-01-11T06:57:49.889Z"
   },
   {
    "duration": -3750,
    "start_time": "2022-01-11T06:58:00.844Z"
   },
   {
    "duration": -3751,
    "start_time": "2022-01-11T06:58:00.848Z"
   },
   {
    "duration": -3754,
    "start_time": "2022-01-11T06:58:00.853Z"
   },
   {
    "duration": -3755,
    "start_time": "2022-01-11T06:58:00.856Z"
   },
   {
    "duration": -3756,
    "start_time": "2022-01-11T06:58:00.859Z"
   },
   {
    "duration": -3756,
    "start_time": "2022-01-11T06:58:00.862Z"
   },
   {
    "duration": -3833,
    "start_time": "2022-01-11T06:58:00.941Z"
   },
   {
    "duration": -3835,
    "start_time": "2022-01-11T06:58:00.945Z"
   },
   {
    "duration": -3884,
    "start_time": "2022-01-11T06:58:00.996Z"
   },
   {
    "duration": -3895,
    "start_time": "2022-01-11T06:58:01.010Z"
   },
   {
    "duration": -3896,
    "start_time": "2022-01-11T06:58:01.013Z"
   },
   {
    "duration": -3898,
    "start_time": "2022-01-11T06:58:01.016Z"
   },
   {
    "duration": -3899,
    "start_time": "2022-01-11T06:58:01.020Z"
   },
   {
    "duration": -3900,
    "start_time": "2022-01-11T06:58:01.023Z"
   },
   {
    "duration": -3901,
    "start_time": "2022-01-11T06:58:01.026Z"
   },
   {
    "duration": -3902,
    "start_time": "2022-01-11T06:58:01.029Z"
   },
   {
    "duration": 43,
    "start_time": "2022-01-11T06:58:56.966Z"
   },
   {
    "duration": 40,
    "start_time": "2022-01-11T07:01:53.568Z"
   },
   {
    "duration": 44,
    "start_time": "2022-01-11T07:02:08.874Z"
   },
   {
    "duration": 41,
    "start_time": "2022-01-11T07:02:12.920Z"
   },
   {
    "duration": 44,
    "start_time": "2022-01-11T07:03:06.197Z"
   },
   {
    "duration": 660,
    "start_time": "2022-01-11T07:03:53.405Z"
   },
   {
    "duration": 254,
    "start_time": "2022-01-11T07:04:05.458Z"
   },
   {
    "duration": 279,
    "start_time": "2022-01-11T07:04:19.485Z"
   },
   {
    "duration": 286,
    "start_time": "2022-01-11T07:04:23.121Z"
   },
   {
    "duration": 19,
    "start_time": "2022-01-11T07:04:54.871Z"
   },
   {
    "duration": 287,
    "start_time": "2022-01-11T07:05:42.916Z"
   },
   {
    "duration": 83,
    "start_time": "2022-01-11T07:05:51.584Z"
   },
   {
    "duration": 1822,
    "start_time": "2022-01-11T07:06:02.514Z"
   },
   {
    "duration": 1521,
    "start_time": "2022-01-11T07:06:49.201Z"
   },
   {
    "duration": 40,
    "start_time": "2022-01-11T07:07:24.891Z"
   },
   {
    "duration": 300,
    "start_time": "2022-01-11T07:07:26.148Z"
   },
   {
    "duration": 1897,
    "start_time": "2022-01-11T07:07:28.313Z"
   },
   {
    "duration": 1526,
    "start_time": "2022-01-11T07:08:56.627Z"
   },
   {
    "duration": 24,
    "start_time": "2022-01-11T07:09:48.803Z"
   },
   {
    "duration": 343,
    "start_time": "2022-01-11T07:09:50.068Z"
   },
   {
    "duration": 470,
    "start_time": "2022-01-11T07:09:54.574Z"
   },
   {
    "duration": 495,
    "start_time": "2022-01-11T07:10:00.022Z"
   },
   {
    "duration": 41,
    "start_time": "2022-01-11T07:10:08.902Z"
   },
   {
    "duration": 20,
    "start_time": "2022-01-11T07:10:16.621Z"
   },
   {
    "duration": 47,
    "start_time": "2022-01-11T07:27:52.082Z"
   },
   {
    "duration": 41,
    "start_time": "2022-01-11T07:27:52.261Z"
   },
   {
    "duration": 49,
    "start_time": "2022-01-11T07:39:28.168Z"
   },
   {
    "duration": 331,
    "start_time": "2022-01-11T07:39:49.836Z"
   },
   {
    "duration": 312,
    "start_time": "2022-01-11T07:44:57.225Z"
   },
   {
    "duration": 273,
    "start_time": "2022-01-11T07:45:05.574Z"
   },
   {
    "duration": 303,
    "start_time": "2022-01-11T07:45:18.482Z"
   },
   {
    "duration": 1394,
    "start_time": "2022-01-11T07:54:33.984Z"
   },
   {
    "duration": 39,
    "start_time": "2022-01-11T07:56:53.017Z"
   },
   {
    "duration": 43,
    "start_time": "2022-01-11T07:57:18.450Z"
   },
   {
    "duration": 7719,
    "start_time": "2022-01-11T07:57:54.733Z"
   },
   {
    "duration": 1418,
    "start_time": "2022-01-11T07:58:31.781Z"
   },
   {
    "duration": 357,
    "start_time": "2022-01-11T08:00:57.284Z"
   },
   {
    "duration": 101,
    "start_time": "2022-01-11T08:01:02.521Z"
   },
   {
    "duration": 11,
    "start_time": "2022-01-11T08:01:06.991Z"
   },
   {
    "duration": 94,
    "start_time": "2022-01-11T08:02:32.538Z"
   },
   {
    "duration": 16,
    "start_time": "2022-01-11T08:02:33.500Z"
   },
   {
    "duration": 71,
    "start_time": "2022-01-11T08:02:46.936Z"
   },
   {
    "duration": 88,
    "start_time": "2022-01-11T08:02:54.759Z"
   },
   {
    "duration": 11,
    "start_time": "2022-01-11T08:02:55.520Z"
   },
   {
    "duration": 48,
    "start_time": "2022-01-11T08:04:13.282Z"
   },
   {
    "duration": 80,
    "start_time": "2022-01-11T08:04:13.655Z"
   },
   {
    "duration": 11,
    "start_time": "2022-01-11T08:04:14.652Z"
   },
   {
    "duration": 91,
    "start_time": "2022-01-11T08:05:14.196Z"
   },
   {
    "duration": 74,
    "start_time": "2022-01-11T08:05:15.250Z"
   },
   {
    "duration": 11,
    "start_time": "2022-01-11T08:05:16.338Z"
   },
   {
    "duration": 100,
    "start_time": "2022-01-11T08:06:46.093Z"
   },
   {
    "duration": 77,
    "start_time": "2022-01-11T08:06:47.269Z"
   },
   {
    "duration": 12,
    "start_time": "2022-01-11T08:06:47.631Z"
   },
   {
    "duration": 105,
    "start_time": "2022-01-11T08:06:55.103Z"
   },
   {
    "duration": 75,
    "start_time": "2022-01-11T08:06:55.432Z"
   },
   {
    "duration": 11,
    "start_time": "2022-01-11T08:06:56.167Z"
   },
   {
    "duration": 1159,
    "start_time": "2022-01-11T08:14:22.118Z"
   },
   {
    "duration": 88,
    "start_time": "2022-01-11T08:14:35.236Z"
   },
   {
    "duration": 77,
    "start_time": "2022-01-11T08:14:35.991Z"
   },
   {
    "duration": 12,
    "start_time": "2022-01-11T08:14:36.276Z"
   },
   {
    "duration": 1182,
    "start_time": "2022-01-11T08:14:36.572Z"
   },
   {
    "duration": 135,
    "start_time": "2022-01-11T08:15:17.136Z"
   },
   {
    "duration": 77,
    "start_time": "2022-01-11T08:15:18.018Z"
   },
   {
    "duration": 12,
    "start_time": "2022-01-11T08:15:18.730Z"
   },
   {
    "duration": 1677,
    "start_time": "2022-01-11T08:15:21.014Z"
   },
   {
    "duration": 1716,
    "start_time": "2022-01-11T08:15:29.692Z"
   },
   {
    "duration": 1581,
    "start_time": "2022-01-11T08:15:59.778Z"
   },
   {
    "duration": 7,
    "start_time": "2022-01-11T08:22:45.213Z"
   },
   {
    "duration": 113,
    "start_time": "2022-01-11T08:22:59.953Z"
   },
   {
    "duration": 101,
    "start_time": "2022-01-11T08:23:05.882Z"
   },
   {
    "duration": 107,
    "start_time": "2022-01-11T08:23:48.879Z"
   },
   {
    "duration": 78,
    "start_time": "2022-01-11T08:23:49.243Z"
   },
   {
    "duration": 97,
    "start_time": "2022-01-11T08:23:49.810Z"
   },
   {
    "duration": 123,
    "start_time": "2022-01-11T08:24:17.434Z"
   },
   {
    "duration": 75,
    "start_time": "2022-01-11T08:24:17.796Z"
   },
   {
    "duration": 65,
    "start_time": "2022-01-11T08:24:17.965Z"
   },
   {
    "duration": 3517,
    "start_time": "2022-01-11T08:26:24.401Z"
   },
   {
    "duration": 1725,
    "start_time": "2022-01-11T08:26:27.921Z"
   },
   {
    "duration": 1291,
    "start_time": "2022-01-11T08:26:29.649Z"
   },
   {
    "duration": 37,
    "start_time": "2022-01-11T08:26:30.943Z"
   },
   {
    "duration": 208,
    "start_time": "2022-01-11T08:26:30.982Z"
   },
   {
    "duration": 157,
    "start_time": "2022-01-11T08:26:31.192Z"
   },
   {
    "duration": 192,
    "start_time": "2022-01-11T08:26:31.352Z"
   },
   {
    "duration": 738,
    "start_time": "2022-01-11T08:26:31.549Z"
   },
   {
    "duration": 7,
    "start_time": "2022-01-11T08:26:32.290Z"
   },
   {
    "duration": 2676,
    "start_time": "2022-01-11T08:26:32.299Z"
   },
   {
    "duration": 17,
    "start_time": "2022-01-11T08:26:34.977Z"
   },
   {
    "duration": 11,
    "start_time": "2022-01-11T08:26:34.996Z"
   },
   {
    "duration": 6,
    "start_time": "2022-01-11T08:26:35.010Z"
   },
   {
    "duration": 62,
    "start_time": "2022-01-11T08:26:35.018Z"
   },
   {
    "duration": 821,
    "start_time": "2022-01-11T08:26:35.083Z"
   },
   {
    "duration": 3,
    "start_time": "2022-01-11T08:26:35.907Z"
   },
   {
    "duration": 31,
    "start_time": "2022-01-11T08:26:35.913Z"
   },
   {
    "duration": 193,
    "start_time": "2022-01-11T08:26:35.946Z"
   },
   {
    "duration": 51,
    "start_time": "2022-01-11T08:26:36.141Z"
   },
   {
    "duration": 75,
    "start_time": "2022-01-11T08:26:36.195Z"
   },
   {
    "duration": 16,
    "start_time": "2022-01-11T08:26:36.272Z"
   },
   {
    "duration": 112297,
    "start_time": "2022-01-11T08:26:36.292Z"
   },
   {
    "duration": 164,
    "start_time": "2022-01-11T08:28:28.595Z"
   },
   {
    "duration": 5,
    "start_time": "2022-01-11T08:28:28.770Z"
   },
   {
    "duration": 5,
    "start_time": "2022-01-11T08:28:28.779Z"
   },
   {
    "duration": 23,
    "start_time": "2022-01-11T08:28:28.787Z"
   },
   {
    "duration": 66,
    "start_time": "2022-01-11T08:28:28.813Z"
   },
   {
    "duration": 18,
    "start_time": "2022-01-11T08:28:28.882Z"
   },
   {
    "duration": 2,
    "start_time": "2022-01-11T08:28:28.903Z"
   },
   {
    "duration": 17,
    "start_time": "2022-01-11T08:28:28.908Z"
   },
   {
    "duration": 62,
    "start_time": "2022-01-11T08:28:28.927Z"
   },
   {
    "duration": 13,
    "start_time": "2022-01-11T08:28:28.992Z"
   },
   {
    "duration": 489,
    "start_time": "2022-01-11T08:28:29.008Z"
   },
   {
    "duration": 5967,
    "start_time": "2022-01-11T08:28:29.500Z"
   },
   {
    "duration": 43,
    "start_time": "2022-01-11T08:28:35.470Z"
   },
   {
    "duration": 20,
    "start_time": "2022-01-11T08:28:35.516Z"
   },
   {
    "duration": 376,
    "start_time": "2022-01-11T08:28:35.538Z"
   },
   {
    "duration": 23,
    "start_time": "2022-01-11T08:28:35.917Z"
   },
   {
    "duration": 75,
    "start_time": "2022-01-11T08:28:35.943Z"
   },
   {
    "duration": 119,
    "start_time": "2022-01-11T08:28:36.021Z"
   },
   {
    "duration": 396,
    "start_time": "2022-01-11T08:28:36.143Z"
   },
   {
    "duration": 28,
    "start_time": "2022-01-11T08:28:36.541Z"
   },
   {
    "duration": 28,
    "start_time": "2022-01-11T08:28:36.573Z"
   },
   {
    "duration": 3,
    "start_time": "2022-01-11T08:28:36.604Z"
   },
   {
    "duration": 76,
    "start_time": "2022-01-11T08:28:36.610Z"
   },
   {
    "duration": 44,
    "start_time": "2022-01-11T08:28:36.689Z"
   },
   {
    "duration": 7,
    "start_time": "2022-01-11T08:28:36.743Z"
   },
   {
    "duration": 409,
    "start_time": "2022-01-11T08:28:36.768Z"
   },
   {
    "duration": 36720,
    "start_time": "2022-01-11T08:28:37.181Z"
   },
   {
    "duration": 31,
    "start_time": "2022-01-11T08:29:13.903Z"
   },
   {
    "duration": 79,
    "start_time": "2022-01-11T08:29:13.936Z"
   },
   {
    "duration": 14,
    "start_time": "2022-01-11T08:29:14.018Z"
   },
   {
    "duration": 74,
    "start_time": "2022-01-11T08:29:14.035Z"
   },
   {
    "duration": 20,
    "start_time": "2022-01-11T08:29:14.112Z"
   },
   {
    "duration": 1002,
    "start_time": "2022-01-11T08:29:14.134Z"
   },
   {
    "duration": 35,
    "start_time": "2022-01-11T08:29:15.138Z"
   },
   {
    "duration": 27,
    "start_time": "2022-01-11T08:29:15.177Z"
   },
   {
    "duration": 25,
    "start_time": "2022-01-11T08:29:15.206Z"
   },
   {
    "duration": 43,
    "start_time": "2022-01-11T08:29:15.233Z"
   },
   {
    "duration": 17,
    "start_time": "2022-01-11T08:29:15.279Z"
   },
   {
    "duration": 7394,
    "start_time": "2022-01-11T08:29:15.298Z"
   },
   {
    "duration": 56,
    "start_time": "2022-01-11T08:29:22.695Z"
   },
   {
    "duration": 19,
    "start_time": "2022-01-11T08:29:22.767Z"
   },
   {
    "duration": 13,
    "start_time": "2022-01-11T08:29:22.789Z"
   },
   {
    "duration": 88,
    "start_time": "2022-01-11T08:29:22.804Z"
   },
   {
    "duration": 5,
    "start_time": "2022-01-11T08:29:22.894Z"
   },
   {
    "duration": 94,
    "start_time": "2022-01-11T08:29:22.901Z"
   },
   {
    "duration": 5,
    "start_time": "2022-01-11T08:29:23.005Z"
   },
   {
    "duration": 129,
    "start_time": "2022-01-11T08:29:23.013Z"
   },
   {
    "duration": 4,
    "start_time": "2022-01-11T08:29:23.144Z"
   },
   {
    "duration": 33,
    "start_time": "2022-01-11T08:29:23.150Z"
   },
   {
    "duration": 5,
    "start_time": "2022-01-11T08:29:23.187Z"
   },
   {
    "duration": 8,
    "start_time": "2022-01-11T08:29:23.194Z"
   },
   {
    "duration": 42179,
    "start_time": "2022-01-11T08:29:23.204Z"
   },
   {
    "duration": 7,
    "start_time": "2022-01-11T08:30:05.386Z"
   },
   {
    "duration": 8,
    "start_time": "2022-01-11T08:30:05.396Z"
   },
   {
    "duration": 21,
    "start_time": "2022-01-11T08:30:05.406Z"
   },
   {
    "duration": 199,
    "start_time": "2022-01-11T08:30:05.429Z"
   },
   {
    "duration": 61,
    "start_time": "2022-01-11T08:30:05.631Z"
   },
   {
    "duration": 25,
    "start_time": "2022-01-11T08:30:05.695Z"
   },
   {
    "duration": 72,
    "start_time": "2022-01-11T08:30:05.723Z"
   },
   {
    "duration": 46,
    "start_time": "2022-01-11T08:30:05.798Z"
   },
   {
    "duration": 75,
    "start_time": "2022-01-11T08:30:05.847Z"
   },
   {
    "duration": 360,
    "start_time": "2022-01-11T08:30:05.924Z"
   },
   {
    "duration": 46,
    "start_time": "2022-01-11T08:30:06.287Z"
   },
   {
    "duration": 174,
    "start_time": "2022-01-11T08:30:06.336Z"
   },
   {
    "duration": 77,
    "start_time": "2022-01-11T08:30:06.512Z"
   },
   {
    "duration": 84,
    "start_time": "2022-01-11T08:30:06.592Z"
   },
   {
    "duration": 14,
    "start_time": "2022-01-11T08:30:06.680Z"
   },
   {
    "duration": 1472,
    "start_time": "2022-01-11T08:30:06.697Z"
   },
   {
    "duration": 48,
    "start_time": "2022-01-11T08:30:08.172Z"
   },
   {
    "duration": 3,
    "start_time": "2022-01-11T08:30:08.223Z"
   },
   {
    "duration": 7,
    "start_time": "2022-01-11T08:30:08.229Z"
   },
   {
    "duration": 31,
    "start_time": "2022-01-11T08:30:08.238Z"
   },
   {
    "duration": 5,
    "start_time": "2022-01-11T08:30:08.273Z"
   },
   {
    "duration": 9,
    "start_time": "2022-01-11T08:30:08.281Z"
   },
   {
    "duration": 13,
    "start_time": "2022-01-11T08:30:08.293Z"
   },
   {
    "duration": 9,
    "start_time": "2022-01-11T08:30:08.308Z"
   },
   {
    "duration": 10,
    "start_time": "2022-01-11T08:30:08.320Z"
   },
   {
    "duration": 10,
    "start_time": "2022-01-11T08:30:08.369Z"
   },
   {
    "duration": 493,
    "start_time": "2022-01-11T08:30:08.383Z"
   },
   {
    "duration": -5422,
    "start_time": "2022-01-11T08:30:14.301Z"
   },
   {
    "duration": -5620,
    "start_time": "2022-01-11T08:30:14.500Z"
   },
   {
    "duration": -5622,
    "start_time": "2022-01-11T08:30:14.503Z"
   },
   {
    "duration": -5715,
    "start_time": "2022-01-11T08:30:14.598Z"
   },
   {
    "duration": -6149,
    "start_time": "2022-01-11T08:30:15.033Z"
   },
   {
    "duration": -6156,
    "start_time": "2022-01-11T08:30:15.041Z"
   },
   {
    "duration": -6595,
    "start_time": "2022-01-11T08:30:15.482Z"
   },
   {
    "duration": -6612,
    "start_time": "2022-01-11T08:30:15.500Z"
   },
   {
    "duration": -6613,
    "start_time": "2022-01-11T08:30:15.502Z"
   },
   {
    "duration": -6696,
    "start_time": "2022-01-11T08:30:15.587Z"
   },
   {
    "duration": -6742,
    "start_time": "2022-01-11T08:30:15.634Z"
   },
   {
    "duration": -6824,
    "start_time": "2022-01-11T08:30:15.717Z"
   },
   {
    "duration": -6841,
    "start_time": "2022-01-11T08:30:15.735Z"
   },
   {
    "duration": -6845,
    "start_time": "2022-01-11T08:30:15.740Z"
   },
   {
    "duration": -6875,
    "start_time": "2022-01-11T08:30:15.771Z"
   },
   {
    "duration": -6917,
    "start_time": "2022-01-11T08:30:15.815Z"
   },
   {
    "duration": 9,
    "start_time": "2022-01-11T08:31:25.322Z"
   },
   {
    "duration": 16,
    "start_time": "2022-01-11T08:31:36.030Z"
   },
   {
    "duration": 341,
    "start_time": "2022-01-11T08:33:00.209Z"
   },
   {
    "duration": 647,
    "start_time": "2022-01-11T08:33:34.765Z"
   },
   {
    "duration": 337,
    "start_time": "2022-01-11T08:33:43.357Z"
   },
   {
    "duration": 865,
    "start_time": "2022-01-11T08:33:56.182Z"
   },
   {
    "duration": 521,
    "start_time": "2022-01-11T08:34:03.432Z"
   },
   {
    "duration": 327,
    "start_time": "2022-01-11T08:35:08.976Z"
   },
   {
    "duration": 380,
    "start_time": "2022-01-11T08:36:30.710Z"
   },
   {
    "duration": 656,
    "start_time": "2022-01-11T08:36:46.771Z"
   },
   {
    "duration": 364,
    "start_time": "2022-01-11T08:36:56.162Z"
   },
   {
    "duration": 12,
    "start_time": "2022-01-11T08:45:41.508Z"
   },
   {
    "duration": 101,
    "start_time": "2022-01-11T08:46:51.815Z"
   },
   {
    "duration": 95,
    "start_time": "2022-01-11T08:47:05.285Z"
   },
   {
    "duration": 761,
    "start_time": "2022-01-11T08:49:51.990Z"
   },
   {
    "duration": 571,
    "start_time": "2022-01-11T08:50:15.527Z"
   },
   {
    "duration": 748,
    "start_time": "2022-01-11T08:50:25.152Z"
   },
   {
    "duration": 648,
    "start_time": "2022-01-11T08:50:36.509Z"
   },
   {
    "duration": 512,
    "start_time": "2022-01-11T08:50:44.856Z"
   },
   {
    "duration": 711,
    "start_time": "2022-01-11T08:51:26.299Z"
   },
   {
    "duration": 771,
    "start_time": "2022-01-11T08:51:33.341Z"
   },
   {
    "duration": 624,
    "start_time": "2022-01-11T08:51:40.029Z"
   },
   {
    "duration": 507,
    "start_time": "2022-01-11T08:51:49.743Z"
   },
   {
    "duration": 49,
    "start_time": "2022-01-11T08:52:33.842Z"
   },
   {
    "duration": 84,
    "start_time": "2022-01-11T08:52:45.442Z"
   },
   {
    "duration": 53,
    "start_time": "2022-01-11T08:52:49.763Z"
   },
   {
    "duration": 731,
    "start_time": "2022-01-11T08:54:58.222Z"
   },
   {
    "duration": 646,
    "start_time": "2022-01-11T08:55:06.552Z"
   },
   {
    "duration": 14,
    "start_time": "2022-01-11T09:03:04.792Z"
   },
   {
    "duration": 14,
    "start_time": "2022-01-11T09:03:22.745Z"
   },
   {
    "duration": 25,
    "start_time": "2022-01-11T09:03:56.087Z"
   },
   {
    "duration": 407,
    "start_time": "2022-01-11T09:06:20.505Z"
   },
   {
    "duration": 7930,
    "start_time": "2022-01-11T09:07:10.141Z"
   },
   {
    "duration": 6844,
    "start_time": "2022-01-11T09:07:30.400Z"
   },
   {
    "duration": 4512,
    "start_time": "2022-01-11T09:08:57.533Z"
   },
   {
    "duration": 601,
    "start_time": "2022-01-11T09:09:33.733Z"
   },
   {
    "duration": 4566,
    "start_time": "2022-01-11T09:09:44.501Z"
   },
   {
    "duration": 10,
    "start_time": "2022-01-11T09:11:30.355Z"
   },
   {
    "duration": 2770,
    "start_time": "2022-01-11T09:13:12.199Z"
   },
   {
    "duration": 2572,
    "start_time": "2022-01-11T09:13:28.849Z"
   },
   {
    "duration": 2386,
    "start_time": "2022-01-11T09:15:39.042Z"
   },
   {
    "duration": 2062,
    "start_time": "2022-01-11T09:15:48.917Z"
   },
   {
    "duration": 3454,
    "start_time": "2022-01-11T09:15:59.209Z"
   },
   {
    "duration": 1994,
    "start_time": "2022-01-11T09:16:02.666Z"
   },
   {
    "duration": 1546,
    "start_time": "2022-01-11T09:16:04.664Z"
   },
   {
    "duration": 56,
    "start_time": "2022-01-11T09:16:06.214Z"
   },
   {
    "duration": 176,
    "start_time": "2022-01-11T09:16:06.273Z"
   },
   {
    "duration": 145,
    "start_time": "2022-01-11T09:16:06.451Z"
   },
   {
    "duration": 208,
    "start_time": "2022-01-11T09:16:06.598Z"
   },
   {
    "duration": 747,
    "start_time": "2022-01-11T09:16:06.811Z"
   },
   {
    "duration": 7,
    "start_time": "2022-01-11T09:16:07.566Z"
   },
   {
    "duration": 2369,
    "start_time": "2022-01-11T09:16:07.575Z"
   },
   {
    "duration": 25,
    "start_time": "2022-01-11T09:16:09.947Z"
   },
   {
    "duration": 742,
    "start_time": "2022-01-11T09:16:09.975Z"
   },
   {
    "duration": 21,
    "start_time": "2022-01-11T09:16:10.720Z"
   },
   {
    "duration": 69,
    "start_time": "2022-01-11T09:16:10.744Z"
   },
   {
    "duration": 71,
    "start_time": "2022-01-11T09:16:10.816Z"
   },
   {
    "duration": 115073,
    "start_time": "2022-01-11T09:16:10.890Z"
   },
   {
    "duration": 106,
    "start_time": "2022-01-11T09:18:05.967Z"
   },
   {
    "duration": 403,
    "start_time": "2022-01-11T09:18:06.076Z"
   },
   {
    "duration": 31,
    "start_time": "2022-01-11T09:18:06.482Z"
   },
   {
    "duration": 784,
    "start_time": "2022-01-11T09:18:06.516Z"
   },
   {
    "duration": 44,
    "start_time": "2022-01-11T09:18:07.302Z"
   },
   {
    "duration": 22,
    "start_time": "2022-01-11T09:18:07.348Z"
   },
   {
    "duration": 17,
    "start_time": "2022-01-11T09:18:07.376Z"
   },
   {
    "duration": 27,
    "start_time": "2022-01-11T09:18:07.397Z"
   },
   {
    "duration": 53,
    "start_time": "2022-01-11T09:18:07.427Z"
   },
   {
    "duration": 3,
    "start_time": "2022-01-11T09:18:07.482Z"
   },
   {
    "duration": 16,
    "start_time": "2022-01-11T09:18:07.488Z"
   },
   {
    "duration": 27,
    "start_time": "2022-01-11T09:18:07.506Z"
   },
   {
    "duration": 41,
    "start_time": "2022-01-11T09:18:07.536Z"
   },
   {
    "duration": 436,
    "start_time": "2022-01-11T09:18:07.579Z"
   },
   {
    "duration": 5663,
    "start_time": "2022-01-11T09:18:08.018Z"
   },
   {
    "duration": 128,
    "start_time": "2022-01-11T09:18:13.683Z"
   },
   {
    "duration": 330,
    "start_time": "2022-01-11T09:18:13.813Z"
   },
   {
    "duration": 9,
    "start_time": "2022-01-11T09:18:14.145Z"
   },
   {
    "duration": 27,
    "start_time": "2022-01-11T09:18:14.167Z"
   },
   {
    "duration": 33882,
    "start_time": "2022-01-11T09:18:14.196Z"
   },
   {
    "duration": 29,
    "start_time": "2022-01-11T09:18:48.080Z"
   },
   {
    "duration": 4826,
    "start_time": "2022-01-11T09:18:48.111Z"
   },
   {
    "duration": 29,
    "start_time": "2022-01-11T09:18:52.940Z"
   },
   {
    "duration": 60,
    "start_time": "2022-01-11T09:18:52.971Z"
   },
   {
    "duration": 36,
    "start_time": "2022-01-11T09:18:53.033Z"
   },
   {
    "duration": 14,
    "start_time": "2022-01-11T09:18:53.071Z"
   },
   {
    "duration": 94,
    "start_time": "2022-01-11T09:18:53.087Z"
   },
   {
    "duration": 5,
    "start_time": "2022-01-11T09:18:53.184Z"
   },
   {
    "duration": 83,
    "start_time": "2022-01-11T09:18:53.192Z"
   },
   {
    "duration": 6,
    "start_time": "2022-01-11T09:18:53.277Z"
   },
   {
    "duration": 132,
    "start_time": "2022-01-11T09:18:53.285Z"
   },
   {
    "duration": 4,
    "start_time": "2022-01-11T09:18:53.419Z"
   },
   {
    "duration": 17,
    "start_time": "2022-01-11T09:18:53.425Z"
   },
   {
    "duration": 3,
    "start_time": "2022-01-11T09:18:53.468Z"
   },
   {
    "duration": 13,
    "start_time": "2022-01-11T09:18:53.474Z"
   },
   {
    "duration": 38300,
    "start_time": "2022-01-11T09:18:53.490Z"
   },
   {
    "duration": 7,
    "start_time": "2022-01-11T09:19:31.792Z"
   },
   {
    "duration": 8,
    "start_time": "2022-01-11T09:19:31.801Z"
   },
   {
    "duration": 11,
    "start_time": "2022-01-11T09:19:31.813Z"
   },
   {
    "duration": 200,
    "start_time": "2022-01-11T09:19:31.827Z"
   },
   {
    "duration": 69,
    "start_time": "2022-01-11T09:19:32.029Z"
   },
   {
    "duration": 20,
    "start_time": "2022-01-11T09:19:32.101Z"
   },
   {
    "duration": 61,
    "start_time": "2022-01-11T09:19:32.125Z"
   },
   {
    "duration": 44,
    "start_time": "2022-01-11T09:19:32.190Z"
   },
   {
    "duration": 73,
    "start_time": "2022-01-11T09:19:32.237Z"
   },
   {
    "duration": 340,
    "start_time": "2022-01-11T09:19:32.313Z"
   },
   {
    "duration": 51,
    "start_time": "2022-01-11T09:19:32.657Z"
   },
   {
    "duration": 183,
    "start_time": "2022-01-11T09:19:32.711Z"
   },
   {
    "duration": 82,
    "start_time": "2022-01-11T09:19:32.896Z"
   },
   {
    "duration": 60,
    "start_time": "2022-01-11T09:19:32.980Z"
   },
   {
    "duration": 29,
    "start_time": "2022-01-11T09:19:33.044Z"
   },
   {
    "duration": 2371,
    "start_time": "2022-01-11T09:19:33.081Z"
   },
   {
    "duration": 52,
    "start_time": "2022-01-11T09:19:35.455Z"
   },
   {
    "duration": 5,
    "start_time": "2022-01-11T09:19:35.509Z"
   },
   {
    "duration": 11,
    "start_time": "2022-01-11T09:19:35.516Z"
   },
   {
    "duration": 10,
    "start_time": "2022-01-11T09:19:35.529Z"
   },
   {
    "duration": 25,
    "start_time": "2022-01-11T09:19:35.542Z"
   },
   {
    "duration": 5,
    "start_time": "2022-01-11T09:19:35.570Z"
   },
   {
    "duration": 6,
    "start_time": "2022-01-11T09:19:35.578Z"
   },
   {
    "duration": 8,
    "start_time": "2022-01-11T09:19:35.587Z"
   },
   {
    "duration": 7,
    "start_time": "2022-01-11T09:19:35.597Z"
   },
   {
    "duration": 7,
    "start_time": "2022-01-11T09:19:35.607Z"
   },
   {
    "duration": 2101,
    "start_time": "2022-01-11T09:19:35.617Z"
   },
   {
    "duration": -6989,
    "start_time": "2022-01-11T09:19:44.709Z"
   },
   {
    "duration": -7083,
    "start_time": "2022-01-11T09:19:44.805Z"
   },
   {
    "duration": -7128,
    "start_time": "2022-01-11T09:19:44.852Z"
   },
   {
    "duration": -7130,
    "start_time": "2022-01-11T09:19:44.855Z"
   },
   {
    "duration": -7374,
    "start_time": "2022-01-11T09:19:45.101Z"
   },
   {
    "duration": -7382,
    "start_time": "2022-01-11T09:19:45.110Z"
   },
   {
    "duration": -7464,
    "start_time": "2022-01-11T09:19:45.193Z"
   },
   {
    "duration": -7468,
    "start_time": "2022-01-11T09:19:45.199Z"
   },
   {
    "duration": -7486,
    "start_time": "2022-01-11T09:19:45.218Z"
   },
   {
    "duration": -7593,
    "start_time": "2022-01-11T09:19:45.326Z"
   },
   {
    "duration": -7847,
    "start_time": "2022-01-11T09:19:45.581Z"
   },
   {
    "duration": -7872,
    "start_time": "2022-01-11T09:19:45.608Z"
   },
   {
    "duration": -7874,
    "start_time": "2022-01-11T09:19:45.611Z"
   },
   {
    "duration": -7875,
    "start_time": "2022-01-11T09:19:45.614Z"
   },
   {
    "duration": -7876,
    "start_time": "2022-01-11T09:19:45.616Z"
   },
   {
    "duration": -7931,
    "start_time": "2022-01-11T09:19:45.672Z"
   },
   {
    "duration": -7934,
    "start_time": "2022-01-11T09:19:45.676Z"
   },
   {
    "duration": 935,
    "start_time": "2022-01-11T09:22:38.685Z"
   },
   {
    "duration": 265,
    "start_time": "2022-01-11T09:22:45.145Z"
   },
   {
    "duration": 273,
    "start_time": "2022-01-11T09:22:50.221Z"
   },
   {
    "duration": 1712,
    "start_time": "2022-01-11T09:22:56.899Z"
   },
   {
    "duration": 2123,
    "start_time": "2022-01-11T09:23:25.786Z"
   },
   {
    "duration": 1494,
    "start_time": "2022-01-11T09:23:33.765Z"
   },
   {
    "duration": 298,
    "start_time": "2022-01-11T09:23:48.545Z"
   },
   {
    "duration": 21,
    "start_time": "2022-01-11T09:23:54.421Z"
   },
   {
    "duration": 17,
    "start_time": "2022-01-11T09:24:02.453Z"
   },
   {
    "duration": 18,
    "start_time": "2022-01-11T09:24:07.244Z"
   },
   {
    "duration": 5,
    "start_time": "2022-01-11T09:24:36.878Z"
   },
   {
    "duration": 9560,
    "start_time": "2022-01-11T09:24:46.338Z"
   },
   {
    "duration": 3392,
    "start_time": "2022-01-11T09:26:15.124Z"
   },
   {
    "duration": 1599,
    "start_time": "2022-01-11T09:26:18.519Z"
   },
   {
    "duration": 1147,
    "start_time": "2022-01-11T09:26:20.121Z"
   },
   {
    "duration": 27,
    "start_time": "2022-01-11T09:26:21.271Z"
   },
   {
    "duration": 191,
    "start_time": "2022-01-11T09:26:21.301Z"
   },
   {
    "duration": 139,
    "start_time": "2022-01-11T09:26:21.494Z"
   },
   {
    "duration": 223,
    "start_time": "2022-01-11T09:26:21.635Z"
   },
   {
    "duration": 795,
    "start_time": "2022-01-11T09:26:21.861Z"
   },
   {
    "duration": 12,
    "start_time": "2022-01-11T09:26:22.660Z"
   },
   {
    "duration": 2459,
    "start_time": "2022-01-11T09:26:22.675Z"
   },
   {
    "duration": 30,
    "start_time": "2022-01-11T09:26:25.137Z"
   },
   {
    "duration": 800,
    "start_time": "2022-01-11T09:26:25.169Z"
   },
   {
    "duration": 26,
    "start_time": "2022-01-11T09:26:25.972Z"
   },
   {
    "duration": 103,
    "start_time": "2022-01-11T09:26:26.001Z"
   },
   {
    "duration": 98,
    "start_time": "2022-01-11T09:26:26.108Z"
   },
   {
    "duration": 109759,
    "start_time": "2022-01-11T09:26:26.209Z"
   },
   {
    "duration": 104,
    "start_time": "2022-01-11T09:28:15.971Z"
   },
   {
    "duration": 397,
    "start_time": "2022-01-11T09:28:16.078Z"
   },
   {
    "duration": 30,
    "start_time": "2022-01-11T09:28:16.478Z"
   },
   {
    "duration": 707,
    "start_time": "2022-01-11T09:28:16.510Z"
   },
   {
    "duration": 54,
    "start_time": "2022-01-11T09:28:17.220Z"
   },
   {
    "duration": 4,
    "start_time": "2022-01-11T09:28:17.277Z"
   },
   {
    "duration": 19,
    "start_time": "2022-01-11T09:28:17.284Z"
   },
   {
    "duration": 27,
    "start_time": "2022-01-11T09:28:17.305Z"
   },
   {
    "duration": 47,
    "start_time": "2022-01-11T09:28:17.334Z"
   },
   {
    "duration": 3,
    "start_time": "2022-01-11T09:28:17.384Z"
   },
   {
    "duration": 15,
    "start_time": "2022-01-11T09:28:17.399Z"
   },
   {
    "duration": 64,
    "start_time": "2022-01-11T09:28:17.420Z"
   },
   {
    "duration": 12,
    "start_time": "2022-01-11T09:28:17.487Z"
   },
   {
    "duration": 424,
    "start_time": "2022-01-11T09:28:17.501Z"
   },
   {
    "duration": 5766,
    "start_time": "2022-01-11T09:28:17.928Z"
   },
   {
    "duration": 123,
    "start_time": "2022-01-11T09:28:23.696Z"
   },
   {
    "duration": 353,
    "start_time": "2022-01-11T09:28:23.821Z"
   },
   {
    "duration": 11,
    "start_time": "2022-01-11T09:28:24.177Z"
   },
   {
    "duration": 33,
    "start_time": "2022-01-11T09:28:24.191Z"
   },
   {
    "duration": 33109,
    "start_time": "2022-01-11T09:28:24.226Z"
   },
   {
    "duration": 45,
    "start_time": "2022-01-11T09:28:57.338Z"
   },
   {
    "duration": 4880,
    "start_time": "2022-01-11T09:28:57.387Z"
   },
   {
    "duration": 17,
    "start_time": "2022-01-11T09:29:02.269Z"
   },
   {
    "duration": 90,
    "start_time": "2022-01-11T09:29:02.289Z"
   },
   {
    "duration": 17,
    "start_time": "2022-01-11T09:29:02.381Z"
   },
   {
    "duration": 15,
    "start_time": "2022-01-11T09:29:02.401Z"
   },
   {
    "duration": 120,
    "start_time": "2022-01-11T09:29:02.419Z"
   },
   {
    "duration": 29,
    "start_time": "2022-01-11T09:29:02.542Z"
   },
   {
    "duration": 91,
    "start_time": "2022-01-11T09:29:02.581Z"
   },
   {
    "duration": 5,
    "start_time": "2022-01-11T09:29:02.675Z"
   },
   {
    "duration": 126,
    "start_time": "2022-01-11T09:29:02.682Z"
   },
   {
    "duration": 4,
    "start_time": "2022-01-11T09:29:02.810Z"
   },
   {
    "duration": 18,
    "start_time": "2022-01-11T09:29:02.816Z"
   },
   {
    "duration": 31,
    "start_time": "2022-01-11T09:29:02.836Z"
   },
   {
    "duration": 7,
    "start_time": "2022-01-11T09:29:02.870Z"
   },
   {
    "duration": 37007,
    "start_time": "2022-01-11T09:29:02.879Z"
   },
   {
    "duration": 7,
    "start_time": "2022-01-11T09:29:39.888Z"
   },
   {
    "duration": 9,
    "start_time": "2022-01-11T09:29:39.898Z"
   },
   {
    "duration": 16,
    "start_time": "2022-01-11T09:29:39.910Z"
   },
   {
    "duration": 200,
    "start_time": "2022-01-11T09:29:39.929Z"
   },
   {
    "duration": 68,
    "start_time": "2022-01-11T09:29:40.132Z"
   },
   {
    "duration": 19,
    "start_time": "2022-01-11T09:29:40.203Z"
   },
   {
    "duration": 69,
    "start_time": "2022-01-11T09:29:40.225Z"
   },
   {
    "duration": 42,
    "start_time": "2022-01-11T09:29:40.296Z"
   },
   {
    "duration": 72,
    "start_time": "2022-01-11T09:29:40.341Z"
   },
   {
    "duration": 58,
    "start_time": "2022-01-11T09:29:40.416Z"
   },
   {
    "duration": 174,
    "start_time": "2022-01-11T09:29:40.477Z"
   },
   {
    "duration": 74,
    "start_time": "2022-01-11T09:29:40.654Z"
   },
   {
    "duration": 73,
    "start_time": "2022-01-11T09:29:40.730Z"
   },
   {
    "duration": 10,
    "start_time": "2022-01-11T09:29:40.805Z"
   },
   {
    "duration": 2366,
    "start_time": "2022-01-11T09:29:40.818Z"
   },
   {
    "duration": 42,
    "start_time": "2022-01-11T09:29:43.187Z"
   },
   {
    "duration": 4,
    "start_time": "2022-01-11T09:29:43.232Z"
   },
   {
    "duration": 34,
    "start_time": "2022-01-11T09:29:43.238Z"
   },
   {
    "duration": 12,
    "start_time": "2022-01-11T09:29:43.274Z"
   },
   {
    "duration": 10,
    "start_time": "2022-01-11T09:29:43.288Z"
   },
   {
    "duration": 9,
    "start_time": "2022-01-11T09:29:43.300Z"
   },
   {
    "duration": 7,
    "start_time": "2022-01-11T09:29:43.312Z"
   },
   {
    "duration": 8,
    "start_time": "2022-01-11T09:29:43.321Z"
   },
   {
    "duration": 10,
    "start_time": "2022-01-11T09:29:43.331Z"
   },
   {
    "duration": 24,
    "start_time": "2022-01-11T09:29:43.343Z"
   },
   {
    "duration": 16,
    "start_time": "2022-01-11T09:29:43.370Z"
   },
   {
    "duration": 25,
    "start_time": "2022-01-11T09:29:43.388Z"
   },
   {
    "duration": 10567,
    "start_time": "2022-01-11T09:29:43.416Z"
   },
   {
    "duration": -5084,
    "start_time": "2022-01-11T09:29:59.070Z"
   },
   {
    "duration": -5273,
    "start_time": "2022-01-11T09:29:59.261Z"
   },
   {
    "duration": -5393,
    "start_time": "2022-01-11T09:29:59.382Z"
   },
   {
    "duration": -5395,
    "start_time": "2022-01-11T09:29:59.385Z"
   },
   {
    "duration": -5526,
    "start_time": "2022-01-11T09:29:59.518Z"
   },
   {
    "duration": -5535,
    "start_time": "2022-01-11T09:29:59.529Z"
   },
   {
    "duration": -5538,
    "start_time": "2022-01-11T09:29:59.534Z"
   },
   {
    "duration": -5604,
    "start_time": "2022-01-11T09:29:59.601Z"
   },
   {
    "duration": -5617,
    "start_time": "2022-01-11T09:29:59.616Z"
   },
   {
    "duration": -5619,
    "start_time": "2022-01-11T09:29:59.619Z"
   },
   {
    "duration": -5619,
    "start_time": "2022-01-11T09:29:59.621Z"
   },
   {
    "duration": -5775,
    "start_time": "2022-01-11T09:29:59.779Z"
   },
   {
    "duration": -6132,
    "start_time": "2022-01-11T09:30:00.137Z"
   },
   {
    "duration": -6134,
    "start_time": "2022-01-11T09:30:00.142Z"
   },
   {
    "duration": -6137,
    "start_time": "2022-01-11T09:30:00.146Z"
   },
   {
    "duration": -6139,
    "start_time": "2022-01-11T09:30:00.149Z"
   },
   {
    "duration": 38,
    "start_time": "2022-01-11T09:30:26.527Z"
   },
   {
    "duration": 833,
    "start_time": "2022-01-11T09:30:47.831Z"
   },
   {
    "duration": 13,
    "start_time": "2022-01-11T09:30:51.084Z"
   },
   {
    "duration": 7309,
    "start_time": "2022-01-11T09:31:07.441Z"
   },
   {
    "duration": -4953,
    "start_time": "2022-01-11T09:31:19.706Z"
   },
   {
    "duration": 82,
    "start_time": "2022-01-11T09:31:56.058Z"
   },
   {
    "duration": 6,
    "start_time": "2022-01-11T09:31:56.828Z"
   },
   {
    "duration": 59,
    "start_time": "2022-01-11T09:31:58.388Z"
   },
   {
    "duration": 6,
    "start_time": "2022-01-11T09:32:02.921Z"
   },
   {
    "duration": 108,
    "start_time": "2022-01-11T09:32:03.836Z"
   },
   {
    "duration": 717,
    "start_time": "2022-01-11T09:32:10.091Z"
   },
   {
    "duration": 25,
    "start_time": "2022-01-11T09:32:19.812Z"
   },
   {
    "duration": 9822,
    "start_time": "2022-01-11T09:32:41.154Z"
   },
   {
    "duration": 4,
    "start_time": "2022-01-11T09:33:16.469Z"
   },
   {
    "duration": 4,
    "start_time": "2022-01-11T09:33:19.245Z"
   },
   {
    "duration": 8059,
    "start_time": "2022-01-11T09:33:22.867Z"
   },
   {
    "duration": -5844,
    "start_time": "2022-01-11T09:33:36.773Z"
   },
   {
    "duration": 304,
    "start_time": "2022-01-11T09:34:54.728Z"
   },
   {
    "duration": 366,
    "start_time": "2022-01-11T09:35:06.669Z"
   },
   {
    "duration": 25,
    "start_time": "2022-01-11T09:35:14.740Z"
   },
   {
    "duration": -7023,
    "start_time": "2022-01-11T09:36:12.528Z"
   },
   {
    "duration": 10432,
    "start_time": "2022-01-11T09:36:09.640Z"
   },
   {
    "duration": -7006,
    "start_time": "2022-01-11T09:36:27.081Z"
   },
   {
    "duration": 5,
    "start_time": "2022-01-11T09:36:25.080Z"
   },
   {
    "duration": 8294,
    "start_time": "2022-01-11T09:36:30.757Z"
   },
   {
    "duration": 5,
    "start_time": "2022-01-11T09:37:26.105Z"
   },
   {
    "duration": 8785,
    "start_time": "2022-01-11T09:37:28.427Z"
   },
   {
    "duration": 4,
    "start_time": "2022-01-11T09:39:55.649Z"
   },
   {
    "duration": 996,
    "start_time": "2022-01-11T09:40:17.765Z"
   },
   {
    "duration": 22,
    "start_time": "2022-01-11T09:40:22.817Z"
   },
   {
    "duration": 1433,
    "start_time": "2022-01-11T09:41:07.074Z"
   },
   {
    "duration": 1442,
    "start_time": "2022-01-11T09:41:11.391Z"
   },
   {
    "duration": 17,
    "start_time": "2022-01-11T09:41:12.836Z"
   },
   {
    "duration": 256,
    "start_time": "2022-01-11T09:41:24.166Z"
   },
   {
    "duration": 281,
    "start_time": "2022-01-11T09:41:28.153Z"
   },
   {
    "duration": 12,
    "start_time": "2022-01-11T09:41:30.767Z"
   },
   {
    "duration": 6,
    "start_time": "2022-01-11T09:41:36.423Z"
   },
   {
    "duration": 1425,
    "start_time": "2022-01-11T09:41:37.098Z"
   },
   {
    "duration": 4,
    "start_time": "2022-01-11T09:41:57.261Z"
   },
   {
    "duration": 11,
    "start_time": "2022-01-11T09:41:57.616Z"
   },
   {
    "duration": 56,
    "start_time": "2022-01-11T09:41:59.352Z"
   },
   {
    "duration": 6,
    "start_time": "2022-01-11T09:42:00.221Z"
   },
   {
    "duration": 192,
    "start_time": "2022-01-11T09:42:01.278Z"
   },
   {
    "duration": 4,
    "start_time": "2022-01-11T09:42:04.790Z"
   },
   {
    "duration": 12,
    "start_time": "2022-01-11T09:42:05.674Z"
   },
   {
    "duration": 5,
    "start_time": "2022-01-11T09:42:06.522Z"
   },
   {
    "duration": 2042,
    "start_time": "2022-01-11T09:42:11.371Z"
   },
   {
    "duration": 21526,
    "start_time": "2022-01-11T09:42:30.558Z"
   },
   {
    "duration": 6351731,
    "start_time": "2022-01-11T09:42:52.087Z"
   },
   {
    "duration": -6488,
    "start_time": "2022-01-11T11:28:50.309Z"
   },
   {
    "duration": -6674,
    "start_time": "2022-01-11T11:28:50.498Z"
   },
   {
    "duration": -6678,
    "start_time": "2022-01-11T11:28:50.503Z"
   },
   {
    "duration": -6738,
    "start_time": "2022-01-11T11:28:50.565Z"
   },
   {
    "duration": -6741,
    "start_time": "2022-01-11T11:28:50.570Z"
   },
   {
    "duration": -6771,
    "start_time": "2022-01-11T11:28:50.601Z"
   },
   {
    "duration": 592527,
    "start_time": "2022-01-11T11:29:02.570Z"
   },
   {
    "duration": 293,
    "start_time": "2022-01-11T11:38:55.100Z"
   },
   {
    "duration": -4334,
    "start_time": "2022-01-11T11:38:59.731Z"
   },
   {
    "duration": 753315,
    "start_time": "2022-01-11T11:38:57.676Z"
   },
   {
    "duration": 87,
    "start_time": "2022-01-11T11:51:30.993Z"
   },
   {
    "duration": 481,
    "start_time": "2022-01-11T11:51:31.083Z"
   },
   {
    "duration": 485,
    "start_time": "2022-01-11T11:51:51.897Z"
   },
   {
    "duration": 968,
    "start_time": "2022-01-11T11:53:36.103Z"
   },
   {
    "duration": 2275,
    "start_time": "2022-01-11T11:55:43.949Z"
   },
   {
    "duration": 3884,
    "start_time": "2022-01-11T11:55:56.957Z"
   },
   {
    "duration": 3118,
    "start_time": "2022-01-11T11:56:11.437Z"
   },
   {
    "duration": 281,
    "start_time": "2022-01-11T19:35:26.654Z"
   },
   {
    "duration": 2999,
    "start_time": "2022-01-11T19:35:38.816Z"
   },
   {
    "duration": 81,
    "start_time": "2022-01-11T19:35:41.817Z"
   },
   {
    "duration": 4359,
    "start_time": "2022-01-11T19:35:37.541Z"
   },
   {
    "duration": 4342,
    "start_time": "2022-01-11T19:35:37.559Z"
   },
   {
    "duration": 4335,
    "start_time": "2022-01-11T19:35:37.566Z"
   },
   {
    "duration": 4334,
    "start_time": "2022-01-11T19:35:37.568Z"
   },
   {
    "duration": 4333,
    "start_time": "2022-01-11T19:35:37.570Z"
   },
   {
    "duration": 4332,
    "start_time": "2022-01-11T19:35:37.572Z"
   },
   {
    "duration": 4332,
    "start_time": "2022-01-11T19:35:37.573Z"
   },
   {
    "duration": 4331,
    "start_time": "2022-01-11T19:35:37.575Z"
   },
   {
    "duration": 1265,
    "start_time": "2022-01-11T19:36:16.021Z"
   },
   {
    "duration": 716,
    "start_time": "2022-01-11T19:36:17.288Z"
   },
   {
    "duration": 16,
    "start_time": "2022-01-11T19:36:18.006Z"
   },
   {
    "duration": 117,
    "start_time": "2022-01-11T19:36:18.024Z"
   },
   {
    "duration": 99,
    "start_time": "2022-01-11T19:36:18.143Z"
   },
   {
    "duration": 107,
    "start_time": "2022-01-11T19:36:18.297Z"
   },
   {
    "duration": 379,
    "start_time": "2022-01-11T19:36:18.441Z"
   },
   {
    "duration": 4,
    "start_time": "2022-01-11T19:36:20.121Z"
   },
   {
    "duration": 1574,
    "start_time": "2022-01-11T19:36:20.890Z"
   },
   {
    "duration": 12,
    "start_time": "2022-01-11T19:36:22.739Z"
   },
   {
    "duration": 12,
    "start_time": "2022-01-11T19:36:30.431Z"
   },
   {
    "duration": 13,
    "start_time": "2022-01-11T19:36:33.818Z"
   },
   {
    "duration": 12,
    "start_time": "2022-01-11T19:36:37.913Z"
   },
   {
    "duration": 13,
    "start_time": "2022-01-11T19:36:45.232Z"
   },
   {
    "duration": 5,
    "start_time": "2022-01-11T19:37:07.602Z"
   },
   {
    "duration": 17,
    "start_time": "2022-01-11T19:37:11.324Z"
   },
   {
    "duration": 12,
    "start_time": "2022-01-11T19:37:37.019Z"
   },
   {
    "duration": 13,
    "start_time": "2022-01-11T19:37:41.319Z"
   },
   {
    "duration": 12,
    "start_time": "2022-01-11T19:37:51.433Z"
   },
   {
    "duration": 154,
    "start_time": "2022-01-11T19:41:59.881Z"
   },
   {
    "duration": 105,
    "start_time": "2022-01-11T19:42:03.995Z"
   },
   {
    "duration": 369,
    "start_time": "2022-01-11T19:42:27.831Z"
   },
   {
    "duration": 7198,
    "start_time": "2022-01-11T19:43:59.887Z"
   },
   {
    "duration": 53,
    "start_time": "2022-01-11T19:45:02.154Z"
   },
   {
    "duration": 61,
    "start_time": "2022-01-11T19:45:31.723Z"
   },
   {
    "duration": 60,
    "start_time": "2022-01-11T19:46:05.081Z"
   },
   {
    "duration": 313,
    "start_time": "2022-01-11T19:48:10.194Z"
   },
   {
    "duration": 310,
    "start_time": "2022-01-11T19:48:31.352Z"
   },
   {
    "duration": 302,
    "start_time": "2022-01-11T19:48:38.854Z"
   },
   {
    "duration": 319,
    "start_time": "2022-01-11T19:49:27.039Z"
   },
   {
    "duration": 98,
    "start_time": "2022-01-11T19:49:39.194Z"
   },
   {
    "duration": 260,
    "start_time": "2022-01-11T19:50:04.265Z"
   },
   {
    "duration": 81,
    "start_time": "2022-01-11T19:50:31.797Z"
   },
   {
    "duration": 85,
    "start_time": "2022-01-11T19:50:36.566Z"
   },
   {
    "duration": 92,
    "start_time": "2022-01-11T19:53:03.460Z"
   },
   {
    "duration": 474,
    "start_time": "2022-01-11T19:53:46.948Z"
   },
   {
    "duration": 5643,
    "start_time": "2022-01-11T19:54:08.670Z"
   },
   {
    "duration": 291,
    "start_time": "2022-01-11T19:54:22.571Z"
   },
   {
    "duration": 76,
    "start_time": "2022-01-11T19:54:26.709Z"
   },
   {
    "duration": 670,
    "start_time": "2022-01-11T19:54:34.588Z"
   },
   {
    "duration": 283,
    "start_time": "2022-01-11T19:54:52.598Z"
   },
   {
    "duration": 382,
    "start_time": "2022-01-11T19:55:00.132Z"
   },
   {
    "duration": 291,
    "start_time": "2022-01-11T19:55:05.786Z"
   },
   {
    "duration": 301,
    "start_time": "2022-01-11T19:55:15.454Z"
   },
   {
    "duration": 98,
    "start_time": "2022-01-11T19:55:24.989Z"
   },
   {
    "duration": 42,
    "start_time": "2022-01-11T19:55:55.776Z"
   },
   {
    "duration": 121,
    "start_time": "2022-01-11T19:56:27.389Z"
   },
   {
    "duration": 354,
    "start_time": "2022-01-11T19:57:17.011Z"
   },
   {
    "duration": 105,
    "start_time": "2022-01-11T19:57:26.961Z"
   },
   {
    "duration": 95,
    "start_time": "2022-01-11T19:57:33.071Z"
   },
   {
    "duration": 9627,
    "start_time": "2022-01-11T19:58:36.149Z"
   },
   {
    "duration": 2287,
    "start_time": "2022-01-11T19:58:51.400Z"
   },
   {
    "duration": 252,
    "start_time": "2022-01-11T19:58:59.878Z"
   },
   {
    "duration": 2326,
    "start_time": "2022-01-11T19:59:25.461Z"
   },
   {
    "duration": 102,
    "start_time": "2022-01-11T19:59:37.704Z"
   },
   {
    "duration": 239,
    "start_time": "2022-01-11T19:59:47.945Z"
   },
   {
    "duration": 101,
    "start_time": "2022-01-11T19:59:59.071Z"
   },
   {
    "duration": 91,
    "start_time": "2022-01-11T20:00:14.683Z"
   },
   {
    "duration": 95,
    "start_time": "2022-01-11T20:00:29.499Z"
   },
   {
    "duration": 92,
    "start_time": "2022-01-11T20:00:42.004Z"
   },
   {
    "duration": 104,
    "start_time": "2022-01-11T20:01:34.881Z"
   },
   {
    "duration": 101,
    "start_time": "2022-01-11T20:01:39.841Z"
   },
   {
    "duration": 94,
    "start_time": "2022-01-11T20:01:44.334Z"
   },
   {
    "duration": 53,
    "start_time": "2022-01-11T20:02:23.883Z"
   },
   {
    "duration": 71,
    "start_time": "2022-01-11T20:06:16.029Z"
   },
   {
    "duration": 99,
    "start_time": "2022-01-11T20:06:22.481Z"
   },
   {
    "duration": 91,
    "start_time": "2022-01-11T20:06:30.663Z"
   },
   {
    "duration": 116,
    "start_time": "2022-01-11T20:06:33.104Z"
   },
   {
    "duration": 273,
    "start_time": "2022-01-11T20:07:46.301Z"
   },
   {
    "duration": 84,
    "start_time": "2022-01-11T20:07:53.897Z"
   },
   {
    "duration": 87,
    "start_time": "2022-01-11T20:08:16.718Z"
   },
   {
    "duration": 100,
    "start_time": "2022-01-11T20:08:21.353Z"
   },
   {
    "duration": 84,
    "start_time": "2022-01-11T20:08:55.741Z"
   },
   {
    "duration": 82,
    "start_time": "2022-01-11T20:09:06.803Z"
   },
   {
    "duration": 366,
    "start_time": "2022-01-11T20:10:32.232Z"
   },
   {
    "duration": 380,
    "start_time": "2022-01-11T20:10:36.331Z"
   },
   {
    "duration": 79,
    "start_time": "2022-01-11T20:10:43.306Z"
   },
   {
    "duration": 81,
    "start_time": "2022-01-11T20:11:16.377Z"
   },
   {
    "duration": 83,
    "start_time": "2022-01-11T20:11:35.846Z"
   },
   {
    "duration": 3,
    "start_time": "2022-01-11T20:14:49.979Z"
   },
   {
    "duration": 310,
    "start_time": "2022-01-11T20:16:11.793Z"
   },
   {
    "duration": 244,
    "start_time": "2022-01-11T20:16:17.264Z"
   },
   {
    "duration": 283,
    "start_time": "2022-01-11T20:16:57.994Z"
   },
   {
    "duration": 254,
    "start_time": "2022-01-11T20:17:14.580Z"
   },
   {
    "duration": 7119,
    "start_time": "2022-01-11T20:17:38.578Z"
   },
   {
    "duration": 288,
    "start_time": "2022-01-11T20:17:57.531Z"
   },
   {
    "duration": 287,
    "start_time": "2022-01-11T20:18:31.804Z"
   },
   {
    "duration": 13,
    "start_time": "2022-01-11T20:19:05.391Z"
   },
   {
    "duration": 268,
    "start_time": "2022-01-11T20:19:23.648Z"
   },
   {
    "duration": 14,
    "start_time": "2022-01-11T20:19:32.427Z"
   },
   {
    "duration": 58283,
    "start_time": "2022-01-11T20:21:03.250Z"
   },
   {
    "duration": 64789,
    "start_time": "2022-01-11T20:22:30.700Z"
   },
   {
    "duration": 64646,
    "start_time": "2022-01-11T20:23:44.629Z"
   },
   {
    "duration": 61339,
    "start_time": "2022-01-11T20:27:22.416Z"
   },
   {
    "duration": 49,
    "start_time": "2022-01-11T20:28:23.758Z"
   },
   {
    "duration": 61,
    "start_time": "2022-01-11T20:28:23.809Z"
   },
   {
    "duration": 257,
    "start_time": "2022-01-11T20:30:55.270Z"
   },
   {
    "duration": 247,
    "start_time": "2022-01-11T20:31:15.991Z"
   },
   {
    "duration": 317,
    "start_time": "2022-01-11T20:31:26.977Z"
   },
   {
    "duration": 250,
    "start_time": "2022-01-11T20:34:14.425Z"
   },
   {
    "duration": 198,
    "start_time": "2022-01-11T20:34:22.467Z"
   },
   {
    "duration": 263,
    "start_time": "2022-01-11T20:34:26.596Z"
   },
   {
    "duration": 238,
    "start_time": "2022-01-11T20:34:45.642Z"
   },
   {
    "duration": 81,
    "start_time": "2022-01-11T20:34:57.886Z"
   },
   {
    "duration": 212,
    "start_time": "2022-01-11T20:35:01.560Z"
   },
   {
    "duration": 248,
    "start_time": "2022-01-11T20:35:04.732Z"
   },
   {
    "duration": 242,
    "start_time": "2022-01-11T20:35:55.728Z"
   },
   {
    "duration": 224,
    "start_time": "2022-01-11T20:36:22.476Z"
   },
   {
    "duration": 3190,
    "start_time": "2022-01-11T20:36:29.297Z"
   },
   {
    "duration": 219,
    "start_time": "2022-01-11T20:37:20.402Z"
   },
   {
    "duration": 29,
    "start_time": "2022-01-11T20:39:53.572Z"
   },
   {
    "duration": 6508,
    "start_time": "2022-01-11T20:39:54.221Z"
   },
   {
    "duration": 7,
    "start_time": "2022-01-11T20:40:11.823Z"
   },
   {
    "duration": 290,
    "start_time": "2022-01-11T20:40:37.806Z"
   },
   {
    "duration": 28,
    "start_time": "2022-01-11T20:40:42.444Z"
   },
   {
    "duration": 11,
    "start_time": "2022-01-11T20:40:44.107Z"
   },
   {
    "duration": 6573,
    "start_time": "2022-01-11T20:40:52.582Z"
   },
   {
    "duration": 8,
    "start_time": "2022-01-11T20:41:03.442Z"
   },
   {
    "duration": 31,
    "start_time": "2022-01-11T20:41:24.235Z"
   },
   {
    "duration": 14,
    "start_time": "2022-01-11T20:41:24.630Z"
   },
   {
    "duration": 8,
    "start_time": "2022-01-11T20:41:28.027Z"
   },
   {
    "duration": 31,
    "start_time": "2022-01-11T20:41:36.592Z"
   },
   {
    "duration": 8,
    "start_time": "2022-01-11T20:42:18.417Z"
   },
   {
    "duration": 7,
    "start_time": "2022-01-11T20:42:28.271Z"
   },
   {
    "duration": 31,
    "start_time": "2022-01-11T20:42:30.798Z"
   },
   {
    "duration": 8,
    "start_time": "2022-01-11T20:42:31.179Z"
   },
   {
    "duration": 6347,
    "start_time": "2022-01-11T20:42:32.093Z"
   },
   {
    "duration": 241,
    "start_time": "2022-01-11T20:42:54.369Z"
   },
   {
    "duration": 217,
    "start_time": "2022-01-11T20:43:10.597Z"
   },
   {
    "duration": 247,
    "start_time": "2022-01-11T20:43:21.777Z"
   },
   {
    "duration": 277,
    "start_time": "2022-01-11T20:43:37.398Z"
   },
   {
    "duration": 265,
    "start_time": "2022-01-11T20:43:46.018Z"
   },
   {
    "duration": 308,
    "start_time": "2022-01-11T20:45:38.636Z"
   },
   {
    "duration": 663,
    "start_time": "2022-01-11T20:46:07.820Z"
   },
   {
    "duration": 526,
    "start_time": "2022-01-11T20:46:40.661Z"
   },
   {
    "duration": 639,
    "start_time": "2022-01-11T20:47:05.803Z"
   },
   {
    "duration": 95,
    "start_time": "2022-01-11T20:47:19.191Z"
   },
   {
    "duration": 588,
    "start_time": "2022-01-11T20:47:26.908Z"
   },
   {
    "duration": 284,
    "start_time": "2022-01-11T20:47:41.401Z"
   },
   {
    "duration": 284,
    "start_time": "2022-01-11T20:48:07.403Z"
   },
   {
    "duration": 284,
    "start_time": "2022-01-11T20:49:37.447Z"
   },
   {
    "duration": 306,
    "start_time": "2022-01-11T20:50:38.538Z"
   },
   {
    "duration": 327,
    "start_time": "2022-01-11T20:50:55.995Z"
   },
   {
    "duration": 290,
    "start_time": "2022-01-11T20:51:14.664Z"
   },
   {
    "duration": 18,
    "start_time": "2022-01-11T20:51:54.623Z"
   },
   {
    "duration": 9,
    "start_time": "2022-01-11T20:51:56.155Z"
   },
   {
    "duration": 16592,
    "start_time": "2022-01-11T20:54:06.131Z"
   },
   {
    "duration": 17179,
    "start_time": "2022-01-11T20:56:36.791Z"
   },
   {
    "duration": 6599,
    "start_time": "2022-01-11T20:58:09.914Z"
   },
   {
    "duration": 350,
    "start_time": "2022-01-11T20:58:30.737Z"
   },
   {
    "duration": 361,
    "start_time": "2022-01-11T20:58:43.510Z"
   },
   {
    "duration": 358,
    "start_time": "2022-01-11T20:59:15.232Z"
   },
   {
    "duration": 371,
    "start_time": "2022-01-11T20:59:19.616Z"
   },
   {
    "duration": 356,
    "start_time": "2022-01-11T21:00:10.878Z"
   },
   {
    "duration": 17013,
    "start_time": "2022-01-11T21:01:26.707Z"
   },
   {
    "duration": 1109,
    "start_time": "2022-01-11T21:15:14.421Z"
   },
   {
    "duration": 8,
    "start_time": "2022-01-11T21:19:49.117Z"
   },
   {
    "duration": 9,
    "start_time": "2022-01-11T21:20:00.054Z"
   },
   {
    "duration": 4,
    "start_time": "2022-01-11T21:20:22.222Z"
   },
   {
    "duration": 1463,
    "start_time": "2022-01-11T21:20:23.084Z"
   },
   {
    "duration": 4773,
    "start_time": "2022-01-11T21:20:26.423Z"
   },
   {
    "duration": 4882,
    "start_time": "2022-01-11T21:20:31.198Z"
   },
   {
    "duration": 4676,
    "start_time": "2022-01-11T21:21:17.611Z"
   },
   {
    "duration": 5,
    "start_time": "2022-01-11T21:21:50.396Z"
   },
   {
    "duration": 1603,
    "start_time": "2022-01-11T21:21:51.331Z"
   },
   {
    "duration": 56153,
    "start_time": "2022-01-11T21:21:54.591Z"
   },
   {
    "duration": 20195,
    "start_time": "2022-01-11T21:22:50.746Z"
   },
   {
    "duration": 19053,
    "start_time": "2022-01-11T21:23:15.109Z"
   },
   {
    "duration": 16594,
    "start_time": "2022-01-11T21:23:56.328Z"
   },
   {
    "duration": 11,
    "start_time": "2022-01-11T21:25:40.962Z"
   },
   {
    "duration": 11,
    "start_time": "2022-01-11T21:25:45.696Z"
   },
   {
    "duration": 11,
    "start_time": "2022-01-11T21:25:49.153Z"
   },
   {
    "duration": 11,
    "start_time": "2022-01-11T21:25:54.793Z"
   },
   {
    "duration": 11,
    "start_time": "2022-01-11T21:25:57.948Z"
   },
   {
    "duration": 12,
    "start_time": "2022-01-11T21:26:02.768Z"
   },
   {
    "duration": 72,
    "start_time": "2022-01-11T21:32:20.176Z"
   },
   {
    "duration": 54,
    "start_time": "2022-01-11T21:33:06.898Z"
   },
   {
    "duration": 32,
    "start_time": "2022-01-11T21:33:23.725Z"
   },
   {
    "duration": 245,
    "start_time": "2022-01-11T21:36:43.760Z"
   },
   {
    "duration": 49,
    "start_time": "2022-01-11T21:36:47.695Z"
   },
   {
    "duration": 26,
    "start_time": "2022-01-11T21:37:30.067Z"
   },
   {
    "duration": 32,
    "start_time": "2022-01-11T21:37:51.003Z"
   },
   {
    "duration": 36,
    "start_time": "2022-01-11T21:38:04.912Z"
   },
   {
    "duration": 318,
    "start_time": "2022-01-11T21:55:13.302Z"
   },
   {
    "duration": 2009,
    "start_time": "2022-01-11T21:56:27.723Z"
   },
   {
    "duration": 1243,
    "start_time": "2022-01-11T21:56:29.734Z"
   },
   {
    "duration": 730,
    "start_time": "2022-01-11T21:56:30.978Z"
   },
   {
    "duration": 16,
    "start_time": "2022-01-11T21:56:31.710Z"
   },
   {
    "duration": 136,
    "start_time": "2022-01-11T21:56:31.728Z"
   },
   {
    "duration": 103,
    "start_time": "2022-01-11T21:56:31.866Z"
   },
   {
    "duration": 125,
    "start_time": "2022-01-11T21:56:31.970Z"
   },
   {
    "duration": 409,
    "start_time": "2022-01-11T21:56:32.097Z"
   },
   {
    "duration": 4,
    "start_time": "2022-01-11T21:56:32.508Z"
   },
   {
    "duration": 1534,
    "start_time": "2022-01-11T21:56:32.514Z"
   },
   {
    "duration": 12,
    "start_time": "2022-01-11T21:56:34.049Z"
   },
   {
    "duration": 136,
    "start_time": "2022-01-11T21:56:34.062Z"
   },
   {
    "duration": 106,
    "start_time": "2022-01-11T21:56:34.200Z"
   },
   {
    "duration": 106,
    "start_time": "2022-01-11T21:56:34.308Z"
   },
   {
    "duration": 2,
    "start_time": "2022-01-11T21:56:34.416Z"
   },
   {
    "duration": 60858,
    "start_time": "2022-01-11T21:56:34.420Z"
   },
   {
    "duration": 74,
    "start_time": "2022-01-11T21:57:35.280Z"
   },
   {
    "duration": 300,
    "start_time": "2022-01-11T21:57:35.356Z"
   },
   {
    "duration": 18,
    "start_time": "2022-01-11T21:57:35.658Z"
   },
   {
    "duration": 303,
    "start_time": "2022-01-11T21:57:35.678Z"
   },
   {
    "duration": 19,
    "start_time": "2022-01-11T21:57:35.983Z"
   },
   {
    "duration": 20109,
    "start_time": "2022-01-11T21:57:36.004Z"
   },
   {
    "duration": 405,
    "start_time": "2022-01-11T21:57:56.115Z"
   },
   {
    "duration": 31,
    "start_time": "2022-01-11T21:57:56.522Z"
   },
   {
    "duration": 2362,
    "start_time": "2022-01-11T21:57:56.555Z"
   },
   {
    "duration": 40,
    "start_time": "2022-01-11T21:57:58.919Z"
   },
   {
    "duration": 32,
    "start_time": "2022-01-11T21:57:58.963Z"
   },
   {
    "duration": 72,
    "start_time": "2022-01-11T21:57:58.998Z"
   },
   {
    "duration": 32,
    "start_time": "2022-01-11T21:57:59.072Z"
   },
   {
    "duration": 3,
    "start_time": "2022-01-11T21:57:59.106Z"
   },
   {
    "duration": 64,
    "start_time": "2022-01-11T21:57:59.110Z"
   },
   {
    "duration": 11,
    "start_time": "2022-01-11T21:57:59.176Z"
   },
   {
    "duration": 2,
    "start_time": "2022-01-11T21:57:59.189Z"
   },
   {
    "duration": 19621,
    "start_time": "2022-01-11T21:57:59.193Z"
   },
   {
    "duration": 114,
    "start_time": "2022-01-11T21:58:18.815Z"
   },
   {
    "duration": 3,
    "start_time": "2022-01-11T21:58:18.930Z"
   },
   {
    "duration": 15,
    "start_time": "2022-01-11T21:58:18.934Z"
   },
   {
    "duration": 6,
    "start_time": "2022-01-11T21:58:18.950Z"
   },
   {
    "duration": 4,
    "start_time": "2022-01-11T21:58:18.957Z"
   },
   {
    "duration": 8,
    "start_time": "2022-01-11T21:58:18.962Z"
   },
   {
    "duration": 7,
    "start_time": "2022-01-11T21:58:18.971Z"
   },
   {
    "duration": 8,
    "start_time": "2022-01-11T21:58:18.979Z"
   },
   {
    "duration": 93,
    "start_time": "2022-01-11T21:58:18.988Z"
   },
   {
    "duration": 447,
    "start_time": "2022-01-11T21:58:19.083Z"
   },
   {
    "duration": 15,
    "start_time": "2022-01-11T21:58:19.531Z"
   },
   {
    "duration": 718,
    "start_time": "2022-01-11T21:58:19.548Z"
   },
   {
    "duration": 2,
    "start_time": "2022-01-11T21:58:20.268Z"
   },
   {
    "duration": 351,
    "start_time": "2022-01-11T21:58:20.271Z"
   },
   {
    "duration": 4335,
    "start_time": "2022-01-11T21:58:16.289Z"
   },
   {
    "duration": 4333,
    "start_time": "2022-01-11T21:58:16.292Z"
   },
   {
    "duration": 4331,
    "start_time": "2022-01-11T21:58:16.295Z"
   },
   {
    "duration": 4329,
    "start_time": "2022-01-11T21:58:16.298Z"
   },
   {
    "duration": 4327,
    "start_time": "2022-01-11T21:58:16.300Z"
   },
   {
    "duration": 4324,
    "start_time": "2022-01-11T21:58:16.304Z"
   },
   {
    "duration": 4323,
    "start_time": "2022-01-11T21:58:16.306Z"
   },
   {
    "duration": 4320,
    "start_time": "2022-01-11T21:58:16.310Z"
   },
   {
    "duration": 4318,
    "start_time": "2022-01-11T21:58:16.313Z"
   },
   {
    "duration": 4316,
    "start_time": "2022-01-11T21:58:16.316Z"
   },
   {
    "duration": 4306,
    "start_time": "2022-01-11T21:58:16.327Z"
   },
   {
    "duration": 4303,
    "start_time": "2022-01-11T21:58:16.331Z"
   },
   {
    "duration": 11,
    "start_time": "2022-01-11T22:02:59.659Z"
   },
   {
    "duration": 13,
    "start_time": "2022-01-11T22:03:03.332Z"
   },
   {
    "duration": 368,
    "start_time": "2022-01-11T22:03:03.347Z"
   },
   {
    "duration": 4335,
    "start_time": "2022-01-11T22:02:59.382Z"
   },
   {
    "duration": 4333,
    "start_time": "2022-01-11T22:02:59.385Z"
   },
   {
    "duration": 4330,
    "start_time": "2022-01-11T22:02:59.389Z"
   },
   {
    "duration": 4327,
    "start_time": "2022-01-11T22:02:59.393Z"
   },
   {
    "duration": 4324,
    "start_time": "2022-01-11T22:02:59.397Z"
   },
   {
    "duration": 4322,
    "start_time": "2022-01-11T22:02:59.400Z"
   },
   {
    "duration": 4319,
    "start_time": "2022-01-11T22:02:59.404Z"
   },
   {
    "duration": 4316,
    "start_time": "2022-01-11T22:02:59.408Z"
   },
   {
    "duration": 4313,
    "start_time": "2022-01-11T22:02:59.412Z"
   },
   {
    "duration": 4311,
    "start_time": "2022-01-11T22:02:59.415Z"
   },
   {
    "duration": 4308,
    "start_time": "2022-01-11T22:02:59.419Z"
   },
   {
    "duration": 53,
    "start_time": "2022-01-11T22:04:05.386Z"
   },
   {
    "duration": 763,
    "start_time": "2022-01-11T22:04:14.846Z"
   },
   {
    "duration": 4394,
    "start_time": "2022-01-11T22:04:11.217Z"
   },
   {
    "duration": 4391,
    "start_time": "2022-01-11T22:04:11.221Z"
   },
   {
    "duration": 4389,
    "start_time": "2022-01-11T22:04:11.224Z"
   },
   {
    "duration": 4385,
    "start_time": "2022-01-11T22:04:11.228Z"
   },
   {
    "duration": 4383,
    "start_time": "2022-01-11T22:04:11.231Z"
   },
   {
    "duration": 4381,
    "start_time": "2022-01-11T22:04:11.234Z"
   },
   {
    "duration": 4379,
    "start_time": "2022-01-11T22:04:11.237Z"
   },
   {
    "duration": 4377,
    "start_time": "2022-01-11T22:04:11.240Z"
   },
   {
    "duration": 4,
    "start_time": "2022-01-11T22:04:24.326Z"
   },
   {
    "duration": 499,
    "start_time": "2022-01-11T22:04:24.332Z"
   },
   {
    "duration": 1331,
    "start_time": "2022-01-11T22:04:24.834Z"
   },
   {
    "duration": 256,
    "start_time": "2022-01-11T22:04:26.168Z"
   },
   {
    "duration": 4398,
    "start_time": "2022-01-11T22:04:22.028Z"
   },
   {
    "duration": 4381,
    "start_time": "2022-01-11T22:04:22.046Z"
   },
   {
    "duration": 4378,
    "start_time": "2022-01-11T22:04:22.050Z"
   },
   {
    "duration": 4376,
    "start_time": "2022-01-11T22:04:22.053Z"
   },
   {
    "duration": 320,
    "start_time": "2022-01-12T06:51:58.543Z"
   },
   {
    "duration": 3373,
    "start_time": "2022-01-12T06:52:29.799Z"
   },
   {
    "duration": 3119,
    "start_time": "2022-01-12T06:52:52.748Z"
   },
   {
    "duration": 2215,
    "start_time": "2022-01-12T06:53:41.414Z"
   },
   {
    "duration": 1254,
    "start_time": "2022-01-12T06:53:43.635Z"
   },
   {
    "duration": 773,
    "start_time": "2022-01-12T06:53:44.891Z"
   },
   {
    "duration": 17,
    "start_time": "2022-01-12T06:53:45.666Z"
   },
   {
    "duration": 139,
    "start_time": "2022-01-12T06:53:45.684Z"
   },
   {
    "duration": 100,
    "start_time": "2022-01-12T06:53:45.824Z"
   },
   {
    "duration": 131,
    "start_time": "2022-01-12T06:53:45.926Z"
   },
   {
    "duration": 433,
    "start_time": "2022-01-12T06:53:46.059Z"
   },
   {
    "duration": 5,
    "start_time": "2022-01-12T06:53:46.493Z"
   },
   {
    "duration": 1653,
    "start_time": "2022-01-12T06:53:46.499Z"
   },
   {
    "duration": 12,
    "start_time": "2022-01-12T06:53:48.154Z"
   },
   {
    "duration": 134,
    "start_time": "2022-01-12T06:53:48.168Z"
   },
   {
    "duration": 112,
    "start_time": "2022-01-12T06:53:48.303Z"
   },
   {
    "duration": 88,
    "start_time": "2022-01-12T06:53:48.417Z"
   },
   {
    "duration": 2,
    "start_time": "2022-01-12T06:53:48.507Z"
   },
   {
    "duration": 55331,
    "start_time": "2022-01-12T06:53:48.511Z"
   },
   {
    "duration": 60,
    "start_time": "2022-01-12T06:54:43.844Z"
   },
   {
    "duration": 287,
    "start_time": "2022-01-12T06:54:43.905Z"
   },
   {
    "duration": 18,
    "start_time": "2022-01-12T06:54:44.194Z"
   },
   {
    "duration": 292,
    "start_time": "2022-01-12T06:54:44.213Z"
   },
   {
    "duration": 20,
    "start_time": "2022-01-12T06:54:44.507Z"
   },
   {
    "duration": 19636,
    "start_time": "2022-01-12T06:54:44.531Z"
   },
   {
    "duration": 352,
    "start_time": "2022-01-12T06:55:04.170Z"
   },
   {
    "duration": 27,
    "start_time": "2022-01-12T06:55:04.524Z"
   },
   {
    "duration": 2392,
    "start_time": "2022-01-12T06:55:04.554Z"
   },
   {
    "duration": 29,
    "start_time": "2022-01-12T06:55:06.948Z"
   },
   {
    "duration": 31,
    "start_time": "2022-01-12T06:55:06.979Z"
   },
   {
    "duration": 71,
    "start_time": "2022-01-12T06:55:07.012Z"
   },
   {
    "duration": 33,
    "start_time": "2022-01-12T06:55:07.084Z"
   },
   {
    "duration": 3,
    "start_time": "2022-01-12T06:55:07.118Z"
   },
   {
    "duration": 61,
    "start_time": "2022-01-12T06:55:07.122Z"
   },
   {
    "duration": 10,
    "start_time": "2022-01-12T06:55:07.185Z"
   },
   {
    "duration": 6,
    "start_time": "2022-01-12T06:55:07.197Z"
   },
   {
    "duration": 19090,
    "start_time": "2022-01-12T06:55:07.205Z"
   },
   {
    "duration": 3351,
    "start_time": "2022-01-12T06:55:26.296Z"
   },
   {
    "duration": 131,
    "start_time": "2022-01-12T06:55:29.649Z"
   },
   {
    "duration": 4,
    "start_time": "2022-01-12T06:55:29.783Z"
   },
   {
    "duration": 6,
    "start_time": "2022-01-12T06:55:29.789Z"
   },
   {
    "duration": 5,
    "start_time": "2022-01-12T06:55:29.797Z"
   },
   {
    "duration": 6,
    "start_time": "2022-01-12T06:55:29.804Z"
   },
   {
    "duration": 5,
    "start_time": "2022-01-12T06:55:29.812Z"
   },
   {
    "duration": 3,
    "start_time": "2022-01-12T06:55:29.841Z"
   },
   {
    "duration": 5,
    "start_time": "2022-01-12T06:55:29.846Z"
   },
   {
    "duration": 96,
    "start_time": "2022-01-12T06:55:29.852Z"
   },
   {
    "duration": 482,
    "start_time": "2022-01-12T06:55:29.950Z"
   },
   {
    "duration": 12,
    "start_time": "2022-01-12T06:55:30.434Z"
   },
   {
    "duration": 1641,
    "start_time": "2022-01-12T06:55:30.448Z"
   },
   {
    "duration": 2,
    "start_time": "2022-01-12T06:55:32.091Z"
   },
   {
    "duration": 16,
    "start_time": "2022-01-12T06:55:32.095Z"
   },
   {
    "duration": 65,
    "start_time": "2022-01-12T06:55:32.112Z"
   },
   {
    "duration": 409,
    "start_time": "2022-01-12T06:55:32.179Z"
   },
   {
    "duration": -976,
    "start_time": "2022-01-12T06:55:33.567Z"
   },
   {
    "duration": -979,
    "start_time": "2022-01-12T06:55:33.571Z"
   },
   {
    "duration": -982,
    "start_time": "2022-01-12T06:55:33.575Z"
   },
   {
    "duration": -984,
    "start_time": "2022-01-12T06:55:33.579Z"
   },
   {
    "duration": -987,
    "start_time": "2022-01-12T06:55:33.583Z"
   },
   {
    "duration": -991,
    "start_time": "2022-01-12T06:55:33.588Z"
   },
   {
    "duration": -994,
    "start_time": "2022-01-12T06:55:33.593Z"
   },
   {
    "duration": -997,
    "start_time": "2022-01-12T06:55:33.597Z"
   },
   {
    "duration": -1011,
    "start_time": "2022-01-12T06:55:33.612Z"
   },
   {
    "duration": -1016,
    "start_time": "2022-01-12T06:55:33.618Z"
   },
   {
    "duration": -1021,
    "start_time": "2022-01-12T06:55:33.624Z"
   },
   {
    "duration": 3286,
    "start_time": "2022-01-12T06:59:25.104Z"
   },
   {
    "duration": 2972,
    "start_time": "2022-01-12T06:59:36.643Z"
   },
   {
    "duration": 2422,
    "start_time": "2022-01-12T07:00:02.548Z"
   },
   {
    "duration": 3015,
    "start_time": "2022-01-12T07:00:09.728Z"
   },
   {
    "duration": 2405,
    "start_time": "2022-01-12T07:00:41.724Z"
   },
   {
    "duration": 1650,
    "start_time": "2022-01-12T07:00:44.131Z"
   },
   {
    "duration": 3,
    "start_time": "2022-01-12T07:00:45.787Z"
   },
   {
    "duration": 737,
    "start_time": "2022-01-12T07:00:45.791Z"
   },
   {
    "duration": 20,
    "start_time": "2022-01-12T07:00:46.530Z"
   },
   {
    "duration": 120,
    "start_time": "2022-01-12T07:00:46.552Z"
   },
   {
    "duration": 103,
    "start_time": "2022-01-12T07:00:46.674Z"
   },
   {
    "duration": 113,
    "start_time": "2022-01-12T07:00:46.780Z"
   },
   {
    "duration": 454,
    "start_time": "2022-01-12T07:00:46.895Z"
   },
   {
    "duration": 5,
    "start_time": "2022-01-12T07:00:47.351Z"
   },
   {
    "duration": 1614,
    "start_time": "2022-01-12T07:00:47.357Z"
   },
   {
    "duration": 12,
    "start_time": "2022-01-12T07:00:48.972Z"
   },
   {
    "duration": 131,
    "start_time": "2022-01-12T07:00:48.986Z"
   },
   {
    "duration": 106,
    "start_time": "2022-01-12T07:00:49.118Z"
   },
   {
    "duration": 108,
    "start_time": "2022-01-12T07:00:49.226Z"
   },
   {
    "duration": 6,
    "start_time": "2022-01-12T07:00:49.336Z"
   },
   {
    "duration": 61210,
    "start_time": "2022-01-12T07:00:49.344Z"
   },
   {
    "duration": 60,
    "start_time": "2022-01-12T07:01:50.555Z"
   },
   {
    "duration": 291,
    "start_time": "2022-01-12T07:01:50.616Z"
   },
   {
    "duration": 34,
    "start_time": "2022-01-12T07:01:50.908Z"
   },
   {
    "duration": 289,
    "start_time": "2022-01-12T07:01:50.944Z"
   },
   {
    "duration": 19,
    "start_time": "2022-01-12T07:01:51.235Z"
   },
   {
    "duration": 20391,
    "start_time": "2022-01-12T07:01:51.255Z"
   },
   {
    "duration": 351,
    "start_time": "2022-01-12T07:02:11.648Z"
   },
   {
    "duration": 20,
    "start_time": "2022-01-12T07:02:12.001Z"
   },
   {
    "duration": 2218,
    "start_time": "2022-01-12T07:02:12.024Z"
   },
   {
    "duration": 31,
    "start_time": "2022-01-12T07:02:14.244Z"
   },
   {
    "duration": 30,
    "start_time": "2022-01-12T07:02:14.276Z"
   },
   {
    "duration": 68,
    "start_time": "2022-01-12T07:02:14.307Z"
   },
   {
    "duration": 31,
    "start_time": "2022-01-12T07:02:14.377Z"
   },
   {
    "duration": 2,
    "start_time": "2022-01-12T07:02:14.410Z"
   },
   {
    "duration": 51,
    "start_time": "2022-01-12T07:02:14.414Z"
   },
   {
    "duration": 13,
    "start_time": "2022-01-12T07:02:14.467Z"
   },
   {
    "duration": 3,
    "start_time": "2022-01-12T07:02:14.482Z"
   },
   {
    "duration": 19512,
    "start_time": "2022-01-12T07:02:14.487Z"
   },
   {
    "duration": 3378,
    "start_time": "2022-01-12T07:02:34.001Z"
   },
   {
    "duration": 129,
    "start_time": "2022-01-12T07:02:37.381Z"
   },
   {
    "duration": 3,
    "start_time": "2022-01-12T07:02:37.512Z"
   },
   {
    "duration": 14,
    "start_time": "2022-01-12T07:02:37.517Z"
   },
   {
    "duration": 20,
    "start_time": "2022-01-12T07:02:37.533Z"
   },
   {
    "duration": 6,
    "start_time": "2022-01-12T07:02:37.555Z"
   },
   {
    "duration": 5,
    "start_time": "2022-01-12T07:02:37.562Z"
   },
   {
    "duration": 9,
    "start_time": "2022-01-12T07:02:37.569Z"
   },
   {
    "duration": 11,
    "start_time": "2022-01-12T07:02:37.580Z"
   },
   {
    "duration": 89,
    "start_time": "2022-01-12T07:02:37.592Z"
   },
   {
    "duration": 568,
    "start_time": "2022-01-12T07:02:37.683Z"
   },
   {
    "duration": 15,
    "start_time": "2022-01-12T07:02:38.253Z"
   },
   {
    "duration": 1620,
    "start_time": "2022-01-12T07:02:38.270Z"
   },
   {
    "duration": 2,
    "start_time": "2022-01-12T07:02:39.892Z"
   },
   {
    "duration": 14,
    "start_time": "2022-01-12T07:02:39.896Z"
   },
   {
    "duration": 70,
    "start_time": "2022-01-12T07:02:39.911Z"
   },
   {
    "duration": 374,
    "start_time": "2022-01-12T07:02:39.983Z"
   },
   {
    "duration": -957,
    "start_time": "2022-01-12T07:02:41.316Z"
   },
   {
    "duration": -960,
    "start_time": "2022-01-12T07:02:41.321Z"
   },
   {
    "duration": -964,
    "start_time": "2022-01-12T07:02:41.326Z"
   },
   {
    "duration": -984,
    "start_time": "2022-01-12T07:02:41.348Z"
   },
   {
    "duration": -991,
    "start_time": "2022-01-12T07:02:41.356Z"
   },
   {
    "duration": -994,
    "start_time": "2022-01-12T07:02:41.360Z"
   },
   {
    "duration": -997,
    "start_time": "2022-01-12T07:02:41.365Z"
   },
   {
    "duration": -1000,
    "start_time": "2022-01-12T07:02:41.369Z"
   },
   {
    "duration": -1002,
    "start_time": "2022-01-12T07:02:41.373Z"
   },
   {
    "duration": -1005,
    "start_time": "2022-01-12T07:02:41.377Z"
   },
   {
    "duration": 90,
    "start_time": "2022-01-12T07:05:27.049Z"
   },
   {
    "duration": 93,
    "start_time": "2022-01-12T07:05:31.223Z"
   },
   {
    "duration": 10,
    "start_time": "2022-01-12T07:05:47.818Z"
   },
   {
    "duration": 4,
    "start_time": "2022-01-12T07:05:59.042Z"
   },
   {
    "duration": 8,
    "start_time": "2022-01-12T07:06:01.333Z"
   },
   {
    "duration": 3,
    "start_time": "2022-01-12T07:06:01.643Z"
   },
   {
    "duration": 5,
    "start_time": "2022-01-12T07:06:13.163Z"
   },
   {
    "duration": 444,
    "start_time": "2022-01-12T07:06:26.293Z"
   },
   {
    "duration": 4,
    "start_time": "2022-01-12T07:07:04.734Z"
   },
   {
    "duration": 6,
    "start_time": "2022-01-12T07:07:06.489Z"
   },
   {
    "duration": 3,
    "start_time": "2022-01-12T07:07:16.358Z"
   },
   {
    "duration": 4,
    "start_time": "2022-01-12T07:07:17.213Z"
   },
   {
    "duration": 486,
    "start_time": "2022-01-12T07:07:18.463Z"
   },
   {
    "duration": 6,
    "start_time": "2022-01-12T07:08:39.193Z"
   },
   {
    "duration": 40,
    "start_time": "2022-01-12T07:08:43.566Z"
   },
   {
    "duration": 12,
    "start_time": "2022-01-12T07:08:44.083Z"
   },
   {
    "duration": 3,
    "start_time": "2022-01-12T07:08:45.013Z"
   },
   {
    "duration": 20582,
    "start_time": "2022-01-12T07:08:46.388Z"
   },
   {
    "duration": 2355,
    "start_time": "2022-01-12T07:09:06.972Z"
   },
   {
    "duration": 119,
    "start_time": "2022-01-12T07:09:09.329Z"
   },
   {
    "duration": 62,
    "start_time": "2022-01-12T07:16:07.095Z"
   },
   {
    "duration": 12,
    "start_time": "2022-01-12T07:16:07.489Z"
   },
   {
    "duration": 3,
    "start_time": "2022-01-12T07:16:07.945Z"
   },
   {
    "duration": 19459,
    "start_time": "2022-01-12T07:16:08.334Z"
   },
   {
    "duration": 3265,
    "start_time": "2022-01-12T07:16:27.795Z"
   },
   {
    "duration": 131,
    "start_time": "2022-01-12T07:16:31.062Z"
   },
   {
    "duration": 42,
    "start_time": "2022-01-12T07:17:12.685Z"
   },
   {
    "duration": 12,
    "start_time": "2022-01-12T07:17:12.919Z"
   },
   {
    "duration": 3,
    "start_time": "2022-01-12T07:17:13.124Z"
   },
   {
    "duration": 20088,
    "start_time": "2022-01-12T07:17:13.454Z"
   },
   {
    "duration": 3391,
    "start_time": "2022-01-12T07:17:33.544Z"
   },
   {
    "duration": 117,
    "start_time": "2022-01-12T07:17:36.941Z"
   },
   {
    "duration": 106,
    "start_time": "2022-01-12T07:19:28.909Z"
   },
   {
    "duration": 437,
    "start_time": "2022-01-12T07:20:52.764Z"
   },
   {
    "duration": 629,
    "start_time": "2022-01-12T07:21:16.154Z"
   },
   {
    "duration": 589,
    "start_time": "2022-01-12T07:21:22.134Z"
   },
   {
    "duration": 482,
    "start_time": "2022-01-12T07:21:37.784Z"
   },
   {
    "duration": 84,
    "start_time": "2022-01-12T07:21:48.299Z"
   },
   {
    "duration": 491,
    "start_time": "2022-01-12T07:21:51.601Z"
   },
   {
    "duration": 82,
    "start_time": "2022-01-12T07:22:41.035Z"
   },
   {
    "duration": 512,
    "start_time": "2022-01-12T07:22:43.439Z"
   },
   {
    "duration": 388,
    "start_time": "2022-01-12T07:22:53.014Z"
   },
   {
    "duration": 2177,
    "start_time": "2022-01-12T07:29:34.234Z"
   },
   {
    "duration": 1257,
    "start_time": "2022-01-12T07:29:36.413Z"
   },
   {
    "duration": 3,
    "start_time": "2022-01-12T07:29:37.672Z"
   },
   {
    "duration": 725,
    "start_time": "2022-01-12T07:29:37.677Z"
   },
   {
    "duration": 17,
    "start_time": "2022-01-12T07:29:38.404Z"
   },
   {
    "duration": 140,
    "start_time": "2022-01-12T07:29:38.422Z"
   },
   {
    "duration": 99,
    "start_time": "2022-01-12T07:29:38.564Z"
   },
   {
    "duration": 118,
    "start_time": "2022-01-12T07:29:38.665Z"
   },
   {
    "duration": 408,
    "start_time": "2022-01-12T07:29:38.785Z"
   },
   {
    "duration": 4,
    "start_time": "2022-01-12T07:29:39.194Z"
   },
   {
    "duration": 1578,
    "start_time": "2022-01-12T07:29:39.200Z"
   },
   {
    "duration": 13,
    "start_time": "2022-01-12T07:29:40.780Z"
   },
   {
    "duration": 140,
    "start_time": "2022-01-12T07:29:40.795Z"
   },
   {
    "duration": 106,
    "start_time": "2022-01-12T07:29:40.936Z"
   },
   {
    "duration": 99,
    "start_time": "2022-01-12T07:29:41.043Z"
   },
   {
    "duration": 3,
    "start_time": "2022-01-12T07:29:41.143Z"
   },
   {
    "duration": 63857,
    "start_time": "2022-01-12T07:29:41.147Z"
   },
   {
    "duration": 65,
    "start_time": "2022-01-12T07:30:45.006Z"
   },
   {
    "duration": 282,
    "start_time": "2022-01-12T07:30:45.073Z"
   },
   {
    "duration": 18,
    "start_time": "2022-01-12T07:30:45.356Z"
   },
   {
    "duration": 312,
    "start_time": "2022-01-12T07:30:45.376Z"
   },
   {
    "duration": 20,
    "start_time": "2022-01-12T07:30:45.690Z"
   },
   {
    "duration": 15,
    "start_time": "2022-01-12T07:30:45.714Z"
   },
   {
    "duration": 20266,
    "start_time": "2022-01-12T07:30:45.740Z"
   },
   {
    "duration": 389,
    "start_time": "2022-01-12T07:31:06.008Z"
   },
   {
    "duration": 20,
    "start_time": "2022-01-12T07:31:06.399Z"
   },
   {
    "duration": 2603,
    "start_time": "2022-01-12T07:31:06.421Z"
   },
   {
    "duration": 3,
    "start_time": "2022-01-12T07:31:09.026Z"
   },
   {
    "duration": 67,
    "start_time": "2022-01-12T07:31:09.031Z"
   },
   {
    "duration": 54,
    "start_time": "2022-01-12T07:31:09.100Z"
   },
   {
    "duration": 85,
    "start_time": "2022-01-12T07:31:09.156Z"
   },
   {
    "duration": 53,
    "start_time": "2022-01-12T07:31:09.243Z"
   },
   {
    "duration": 10,
    "start_time": "2022-01-12T07:31:09.297Z"
   },
   {
    "duration": 122,
    "start_time": "2022-01-12T07:31:09.309Z"
   },
   {
    "duration": 9,
    "start_time": "2022-01-12T07:31:09.433Z"
   },
   {
    "duration": 5,
    "start_time": "2022-01-12T07:31:09.444Z"
   },
   {
    "duration": 20134,
    "start_time": "2022-01-12T07:31:09.451Z"
   },
   {
    "duration": 286,
    "start_time": "2022-01-12T07:31:29.587Z"
   },
   {
    "duration": 110,
    "start_time": "2022-01-12T07:31:29.875Z"
   },
   {
    "duration": 3,
    "start_time": "2022-01-12T07:31:29.987Z"
   },
   {
    "duration": 8,
    "start_time": "2022-01-12T07:31:29.991Z"
   },
   {
    "duration": 10,
    "start_time": "2022-01-12T07:31:30.001Z"
   },
   {
    "duration": 7,
    "start_time": "2022-01-12T07:31:30.013Z"
   },
   {
    "duration": 10,
    "start_time": "2022-01-12T07:31:30.022Z"
   },
   {
    "duration": 9,
    "start_time": "2022-01-12T07:31:30.033Z"
   },
   {
    "duration": 10,
    "start_time": "2022-01-12T07:31:30.043Z"
   },
   {
    "duration": 84,
    "start_time": "2022-01-12T07:31:30.055Z"
   },
   {
    "duration": 343,
    "start_time": "2022-01-12T07:31:30.141Z"
   },
   {
    "duration": 10,
    "start_time": "2022-01-12T07:31:30.485Z"
   },
   {
    "duration": 1650,
    "start_time": "2022-01-12T07:31:30.497Z"
   },
   {
    "duration": 3,
    "start_time": "2022-01-12T07:31:32.149Z"
   },
   {
    "duration": 24,
    "start_time": "2022-01-12T07:31:32.154Z"
   },
   {
    "duration": 86,
    "start_time": "2022-01-12T07:31:32.181Z"
   },
   {
    "duration": 499,
    "start_time": "2022-01-12T07:31:32.269Z"
   },
   {
    "duration": -7468,
    "start_time": "2022-01-12T07:31:40.238Z"
   },
   {
    "duration": -7498,
    "start_time": "2022-01-12T07:31:40.270Z"
   },
   {
    "duration": -7508,
    "start_time": "2022-01-12T07:31:40.281Z"
   },
   {
    "duration": -7537,
    "start_time": "2022-01-12T07:31:40.310Z"
   },
   {
    "duration": -7547,
    "start_time": "2022-01-12T07:31:40.321Z"
   },
   {
    "duration": -7563,
    "start_time": "2022-01-12T07:31:40.338Z"
   },
   {
    "duration": -7583,
    "start_time": "2022-01-12T07:31:40.358Z"
   },
   {
    "duration": -7607,
    "start_time": "2022-01-12T07:31:40.383Z"
   },
   {
    "duration": -7624,
    "start_time": "2022-01-12T07:31:40.401Z"
   },
   {
    "duration": -7636,
    "start_time": "2022-01-12T07:31:40.415Z"
   },
   {
    "duration": 115,
    "start_time": "2022-01-12T07:32:38.798Z"
   },
   {
    "duration": 13,
    "start_time": "2022-01-12T07:32:39.133Z"
   },
   {
    "duration": 3,
    "start_time": "2022-01-12T07:32:39.743Z"
   },
   {
    "duration": 17462,
    "start_time": "2022-01-12T07:32:40.163Z"
   },
   {
    "duration": -1091,
    "start_time": "2022-01-12T07:32:58.718Z"
   },
   {
    "duration": -1126,
    "start_time": "2022-01-12T07:32:58.754Z"
   },
   {
    "duration": 124,
    "start_time": "2022-01-12T07:32:58.733Z"
   },
   {
    "duration": 13,
    "start_time": "2022-01-12T07:32:59.142Z"
   },
   {
    "duration": 3,
    "start_time": "2022-01-12T07:32:59.653Z"
   },
   {
    "duration": 19485,
    "start_time": "2022-01-12T07:33:00.153Z"
   },
   {
    "duration": 325,
    "start_time": "2022-01-12T07:33:19.642Z"
   },
   {
    "duration": 121,
    "start_time": "2022-01-12T07:33:19.970Z"
   },
   {
    "duration": 113,
    "start_time": "2022-01-12T07:34:32.123Z"
   },
   {
    "duration": 11,
    "start_time": "2022-01-12T07:34:32.456Z"
   },
   {
    "duration": 3,
    "start_time": "2022-01-12T07:34:32.813Z"
   },
   {
    "duration": 18078,
    "start_time": "2022-01-12T07:34:33.183Z"
   },
   {
    "duration": 282,
    "start_time": "2022-01-12T07:34:51.263Z"
   },
   {
    "duration": 112,
    "start_time": "2022-01-12T07:34:51.547Z"
   },
   {
    "duration": 113,
    "start_time": "2022-01-12T07:50:06.543Z"
   },
   {
    "duration": 11,
    "start_time": "2022-01-12T07:50:06.768Z"
   },
   {
    "duration": 3,
    "start_time": "2022-01-12T07:50:07.123Z"
   },
   {
    "duration": 18432,
    "start_time": "2022-01-12T07:50:07.433Z"
   },
   {
    "duration": 284,
    "start_time": "2022-01-12T07:50:25.867Z"
   },
   {
    "duration": 119,
    "start_time": "2022-01-12T07:50:26.153Z"
   },
   {
    "duration": 114,
    "start_time": "2022-01-12T07:52:21.213Z"
   },
   {
    "duration": 11,
    "start_time": "2022-01-12T07:52:21.472Z"
   },
   {
    "duration": 3,
    "start_time": "2022-01-12T07:52:21.783Z"
   },
   {
    "duration": 18351,
    "start_time": "2022-01-12T07:52:22.043Z"
   },
   {
    "duration": 302,
    "start_time": "2022-01-12T07:52:40.396Z"
   },
   {
    "duration": 110,
    "start_time": "2022-01-12T07:52:40.700Z"
   },
   {
    "duration": 4,
    "start_time": "2022-01-12T07:53:10.124Z"
   },
   {
    "duration": 98,
    "start_time": "2022-01-12T08:00:59.234Z"
   },
   {
    "duration": 267,
    "start_time": "2022-01-12T08:01:07.693Z"
   },
   {
    "duration": 6,
    "start_time": "2022-01-12T08:01:12.187Z"
   },
   {
    "duration": 330,
    "start_time": "2022-01-12T08:01:12.528Z"
   },
   {
    "duration": 335,
    "start_time": "2022-01-12T08:01:38.794Z"
   },
   {
    "duration": 365,
    "start_time": "2022-01-12T08:01:58.624Z"
   },
   {
    "duration": 362,
    "start_time": "2022-01-12T08:27:39.734Z"
   },
   {
    "duration": 332,
    "start_time": "2022-01-12T08:27:46.398Z"
   },
   {
    "duration": 309,
    "start_time": "2022-01-12T08:27:57.583Z"
   },
   {
    "duration": 371,
    "start_time": "2022-01-12T08:28:09.723Z"
   },
   {
    "duration": 2250,
    "start_time": "2022-01-12T08:28:24.423Z"
   },
   {
    "duration": 1221,
    "start_time": "2022-01-12T08:28:26.675Z"
   },
   {
    "duration": 2,
    "start_time": "2022-01-12T08:28:27.898Z"
   },
   {
    "duration": 857,
    "start_time": "2022-01-12T08:28:27.902Z"
   },
   {
    "duration": 17,
    "start_time": "2022-01-12T08:28:28.761Z"
   },
   {
    "duration": 139,
    "start_time": "2022-01-12T08:28:28.779Z"
   },
   {
    "duration": 90,
    "start_time": "2022-01-12T08:28:28.920Z"
   },
   {
    "duration": 122,
    "start_time": "2022-01-12T08:28:29.012Z"
   },
   {
    "duration": 434,
    "start_time": "2022-01-12T08:28:29.136Z"
   },
   {
    "duration": 5,
    "start_time": "2022-01-12T08:28:29.571Z"
   },
   {
    "duration": 1632,
    "start_time": "2022-01-12T08:28:29.577Z"
   },
   {
    "duration": 15,
    "start_time": "2022-01-12T08:28:31.211Z"
   },
   {
    "duration": 157,
    "start_time": "2022-01-12T08:28:31.227Z"
   },
   {
    "duration": 133,
    "start_time": "2022-01-12T08:28:31.385Z"
   },
   {
    "duration": 112,
    "start_time": "2022-01-12T08:28:31.519Z"
   },
   {
    "duration": 8,
    "start_time": "2022-01-12T08:28:31.633Z"
   },
   {
    "duration": 57860,
    "start_time": "2022-01-12T08:28:31.643Z"
   },
   {
    "duration": 64,
    "start_time": "2022-01-12T08:29:29.505Z"
   },
   {
    "duration": 285,
    "start_time": "2022-01-12T08:29:29.570Z"
   },
   {
    "duration": 18,
    "start_time": "2022-01-12T08:29:29.857Z"
   },
   {
    "duration": 292,
    "start_time": "2022-01-12T08:29:29.877Z"
   },
   {
    "duration": 19,
    "start_time": "2022-01-12T08:29:30.170Z"
   },
   {
    "duration": 6,
    "start_time": "2022-01-12T08:29:30.192Z"
   },
   {
    "duration": 20938,
    "start_time": "2022-01-12T08:29:30.200Z"
   },
   {
    "duration": 365,
    "start_time": "2022-01-12T08:29:51.141Z"
   },
   {
    "duration": 33,
    "start_time": "2022-01-12T08:29:51.508Z"
   },
   {
    "duration": 2281,
    "start_time": "2022-01-12T08:29:51.543Z"
   },
   {
    "duration": 3,
    "start_time": "2022-01-12T08:29:53.826Z"
   },
   {
    "duration": 35,
    "start_time": "2022-01-12T08:29:53.830Z"
   },
   {
    "duration": 29,
    "start_time": "2022-01-12T08:29:53.866Z"
   },
   {
    "duration": 66,
    "start_time": "2022-01-12T08:29:53.896Z"
   },
   {
    "duration": 30,
    "start_time": "2022-01-12T08:29:53.964Z"
   },
   {
    "duration": 2,
    "start_time": "2022-01-12T08:29:53.995Z"
   },
   {
    "duration": 45,
    "start_time": "2022-01-12T08:29:53.999Z"
   },
   {
    "duration": 78,
    "start_time": "2022-01-12T08:29:54.046Z"
   },
   {
    "duration": -1665,
    "start_time": "2022-01-12T08:29:55.790Z"
   },
   {
    "duration": -1675,
    "start_time": "2022-01-12T08:29:55.801Z"
   },
   {
    "duration": -1695,
    "start_time": "2022-01-12T08:29:55.822Z"
   },
   {
    "duration": -1733,
    "start_time": "2022-01-12T08:29:55.861Z"
   },
   {
    "duration": -1745,
    "start_time": "2022-01-12T08:29:55.874Z"
   },
   {
    "duration": -1757,
    "start_time": "2022-01-12T08:29:55.886Z"
   },
   {
    "duration": -1775,
    "start_time": "2022-01-12T08:29:55.905Z"
   },
   {
    "duration": -1786,
    "start_time": "2022-01-12T08:29:55.917Z"
   },
   {
    "duration": -1796,
    "start_time": "2022-01-12T08:29:55.928Z"
   },
   {
    "duration": -1818,
    "start_time": "2022-01-12T08:29:55.951Z"
   },
   {
    "duration": -1836,
    "start_time": "2022-01-12T08:29:55.970Z"
   },
   {
    "duration": -1859,
    "start_time": "2022-01-12T08:29:55.994Z"
   },
   {
    "duration": -1871,
    "start_time": "2022-01-12T08:29:56.007Z"
   },
   {
    "duration": -1882,
    "start_time": "2022-01-12T08:29:56.019Z"
   },
   {
    "duration": -1898,
    "start_time": "2022-01-12T08:29:56.035Z"
   },
   {
    "duration": -1984,
    "start_time": "2022-01-12T08:29:56.122Z"
   },
   {
    "duration": -1996,
    "start_time": "2022-01-12T08:29:56.135Z"
   },
   {
    "duration": -2007,
    "start_time": "2022-01-12T08:29:56.147Z"
   },
   {
    "duration": -2017,
    "start_time": "2022-01-12T08:29:56.158Z"
   },
   {
    "duration": -2031,
    "start_time": "2022-01-12T08:29:56.173Z"
   },
   {
    "duration": -2044,
    "start_time": "2022-01-12T08:29:56.187Z"
   },
   {
    "duration": -2065,
    "start_time": "2022-01-12T08:29:56.208Z"
   },
   {
    "duration": -2076,
    "start_time": "2022-01-12T08:29:56.220Z"
   },
   {
    "duration": -2096,
    "start_time": "2022-01-12T08:29:56.242Z"
   },
   {
    "duration": -2104,
    "start_time": "2022-01-12T08:29:56.251Z"
   },
   {
    "duration": -2116,
    "start_time": "2022-01-12T08:29:56.264Z"
   },
   {
    "duration": -2129,
    "start_time": "2022-01-12T08:29:56.277Z"
   },
   {
    "duration": -2140,
    "start_time": "2022-01-12T08:29:56.289Z"
   },
   {
    "duration": -2163,
    "start_time": "2022-01-12T08:29:56.313Z"
   },
   {
    "duration": -2185,
    "start_time": "2022-01-12T08:29:56.336Z"
   },
   {
    "duration": 10,
    "start_time": "2022-01-12T08:31:24.864Z"
   },
   {
    "duration": 4,
    "start_time": "2022-01-12T08:31:26.203Z"
   },
   {
    "duration": 19206,
    "start_time": "2022-01-12T08:31:26.792Z"
   },
   {
    "duration": 6,
    "start_time": "2022-01-12T08:31:46.000Z"
   },
   {
    "duration": 365,
    "start_time": "2022-01-12T08:31:46.007Z"
   },
   {
    "duration": 106,
    "start_time": "2022-01-12T08:34:52.293Z"
   },
   {
    "duration": 3,
    "start_time": "2022-01-12T08:49:41.040Z"
   },
   {
    "duration": 3,
    "start_time": "2022-01-12T08:49:41.382Z"
   },
   {
    "duration": 3,
    "start_time": "2022-01-12T08:49:41.752Z"
   },
   {
    "duration": 3,
    "start_time": "2022-01-12T08:49:48.982Z"
   },
   {
    "duration": 3,
    "start_time": "2022-01-12T08:49:54.962Z"
   },
   {
    "duration": 78,
    "start_time": "2022-01-12T08:49:56.152Z"
   },
   {
    "duration": 358,
    "start_time": "2022-01-12T08:50:08.962Z"
   },
   {
    "duration": 37,
    "start_time": "2022-01-12T08:50:10.042Z"
   },
   {
    "duration": 350,
    "start_time": "2022-01-12T08:50:11.512Z"
   },
   {
    "duration": 73,
    "start_time": "2022-01-12T08:50:16.557Z"
   },
   {
    "duration": 296,
    "start_time": "2022-01-12T08:50:32.963Z"
   },
   {
    "duration": 5,
    "start_time": "2022-01-12T08:50:35.228Z"
   },
   {
    "duration": 13,
    "start_time": "2022-01-12T08:59:02.622Z"
   },
   {
    "duration": 1760,
    "start_time": "2022-01-12T09:00:49.288Z"
   },
   {
    "duration": 3,
    "start_time": "2022-01-12T09:16:56.298Z"
   },
   {
    "duration": 11,
    "start_time": "2022-01-12T09:16:57.670Z"
   },
   {
    "duration": 49,
    "start_time": "2022-01-12T09:16:58.351Z"
   },
   {
    "duration": 12,
    "start_time": "2022-01-12T09:27:10.765Z"
   },
   {
    "duration": 3,
    "start_time": "2022-01-12T09:27:18.726Z"
   },
   {
    "duration": 372,
    "start_time": "2022-01-12T09:27:19.153Z"
   },
   {
    "duration": 12,
    "start_time": "2022-01-12T09:28:01.054Z"
   },
   {
    "duration": 12,
    "start_time": "2022-01-12T09:30:50.781Z"
   },
   {
    "duration": 56,
    "start_time": "2022-01-12T09:30:51.385Z"
   },
   {
    "duration": 3,
    "start_time": "2022-01-12T09:30:52.546Z"
   },
   {
    "duration": 502,
    "start_time": "2022-01-12T09:30:52.977Z"
   },
   {
    "duration": 377,
    "start_time": "2022-01-12T09:31:09.205Z"
   },
   {
    "duration": 348,
    "start_time": "2022-01-12T09:33:49.996Z"
   },
   {
    "duration": 2189,
    "start_time": "2022-01-12T09:34:03.461Z"
   },
   {
    "duration": 1377,
    "start_time": "2022-01-12T09:34:05.652Z"
   },
   {
    "duration": 3,
    "start_time": "2022-01-12T09:34:07.031Z"
   },
   {
    "duration": 751,
    "start_time": "2022-01-12T09:34:07.035Z"
   },
   {
    "duration": 16,
    "start_time": "2022-01-12T09:34:07.788Z"
   },
   {
    "duration": 128,
    "start_time": "2022-01-12T09:34:07.805Z"
   },
   {
    "duration": 92,
    "start_time": "2022-01-12T09:34:07.935Z"
   },
   {
    "duration": 126,
    "start_time": "2022-01-12T09:34:08.029Z"
   },
   {
    "duration": 433,
    "start_time": "2022-01-12T09:34:08.157Z"
   },
   {
    "duration": 5,
    "start_time": "2022-01-12T09:34:08.592Z"
   },
   {
    "duration": 1588,
    "start_time": "2022-01-12T09:34:08.599Z"
   },
   {
    "duration": 12,
    "start_time": "2022-01-12T09:34:10.189Z"
   },
   {
    "duration": 128,
    "start_time": "2022-01-12T09:34:10.203Z"
   },
   {
    "duration": 111,
    "start_time": "2022-01-12T09:34:10.333Z"
   },
   {
    "duration": 80,
    "start_time": "2022-01-12T09:34:10.446Z"
   },
   {
    "duration": 2,
    "start_time": "2022-01-12T09:34:10.528Z"
   },
   {
    "duration": 58755,
    "start_time": "2022-01-12T09:34:10.540Z"
   },
   {
    "duration": 63,
    "start_time": "2022-01-12T09:35:09.297Z"
   },
   {
    "duration": 289,
    "start_time": "2022-01-12T09:35:09.361Z"
   },
   {
    "duration": 19,
    "start_time": "2022-01-12T09:35:09.652Z"
   },
   {
    "duration": 303,
    "start_time": "2022-01-12T09:35:09.673Z"
   },
   {
    "duration": 19,
    "start_time": "2022-01-12T09:35:09.978Z"
   },
   {
    "duration": 6,
    "start_time": "2022-01-12T09:35:10.001Z"
   },
   {
    "duration": 20940,
    "start_time": "2022-01-12T09:35:10.009Z"
   },
   {
    "duration": 353,
    "start_time": "2022-01-12T09:35:30.951Z"
   },
   {
    "duration": 20,
    "start_time": "2022-01-12T09:35:31.306Z"
   },
   {
    "duration": 2442,
    "start_time": "2022-01-12T09:35:31.327Z"
   },
   {
    "duration": 4,
    "start_time": "2022-01-12T09:35:33.771Z"
   },
   {
    "duration": 55,
    "start_time": "2022-01-12T09:35:33.778Z"
   },
   {
    "duration": 44,
    "start_time": "2022-01-12T09:35:33.835Z"
   },
   {
    "duration": 76,
    "start_time": "2022-01-12T09:35:33.881Z"
   },
   {
    "duration": 53,
    "start_time": "2022-01-12T09:35:33.959Z"
   },
   {
    "duration": 11,
    "start_time": "2022-01-12T09:35:34.014Z"
   },
   {
    "duration": 57,
    "start_time": "2022-01-12T09:35:34.027Z"
   },
   {
    "duration": 10,
    "start_time": "2022-01-12T09:35:34.086Z"
   },
   {
    "duration": 4,
    "start_time": "2022-01-12T09:35:34.098Z"
   },
   {
    "duration": 18545,
    "start_time": "2022-01-12T09:35:34.104Z"
   },
   {
    "duration": 6,
    "start_time": "2022-01-12T09:35:52.650Z"
   },
   {
    "duration": 340,
    "start_time": "2022-01-12T09:35:52.658Z"
   },
   {
    "duration": 113,
    "start_time": "2022-01-12T09:35:53.000Z"
   },
   {
    "duration": 3,
    "start_time": "2022-01-12T09:35:53.114Z"
   },
   {
    "duration": 10,
    "start_time": "2022-01-12T09:35:53.119Z"
   },
   {
    "duration": 10,
    "start_time": "2022-01-12T09:35:53.131Z"
   },
   {
    "duration": 6,
    "start_time": "2022-01-12T09:35:53.142Z"
   },
   {
    "duration": 6,
    "start_time": "2022-01-12T09:35:53.149Z"
   },
   {
    "duration": 346,
    "start_time": "2022-01-12T09:35:53.157Z"
   },
   {
    "duration": 46,
    "start_time": "2022-01-12T09:35:53.505Z"
   },
   {
    "duration": 10,
    "start_time": "2022-01-12T09:35:53.553Z"
   },
   {
    "duration": 1469,
    "start_time": "2022-01-12T09:35:53.564Z"
   },
   {
    "duration": 6,
    "start_time": "2022-01-12T09:35:55.035Z"
   },
   {
    "duration": 15,
    "start_time": "2022-01-12T09:35:55.043Z"
   },
   {
    "duration": 44,
    "start_time": "2022-01-12T09:35:55.059Z"
   },
   {
    "duration": 3,
    "start_time": "2022-01-12T09:35:55.104Z"
   },
   {
    "duration": 361,
    "start_time": "2022-01-12T09:35:55.109Z"
   },
   {
    "duration": 11,
    "start_time": "2022-01-12T09:35:55.472Z"
   },
   {
    "duration": 331,
    "start_time": "2022-01-12T09:36:36.368Z"
   },
   {
    "duration": 2237,
    "start_time": "2022-01-12T09:36:58.374Z"
   },
   {
    "duration": 1530,
    "start_time": "2022-01-12T09:37:00.613Z"
   },
   {
    "duration": 3,
    "start_time": "2022-01-12T09:37:02.145Z"
   },
   {
    "duration": 853,
    "start_time": "2022-01-12T09:37:02.150Z"
   },
   {
    "duration": 47,
    "start_time": "2022-01-12T09:37:03.005Z"
   },
   {
    "duration": 144,
    "start_time": "2022-01-12T09:37:03.054Z"
   },
   {
    "duration": 120,
    "start_time": "2022-01-12T09:37:03.199Z"
   },
   {
    "duration": 120,
    "start_time": "2022-01-12T09:37:03.321Z"
   },
   {
    "duration": 456,
    "start_time": "2022-01-12T09:37:03.443Z"
   },
   {
    "duration": 4,
    "start_time": "2022-01-12T09:37:03.901Z"
   },
   {
    "duration": 1652,
    "start_time": "2022-01-12T09:37:03.907Z"
   },
   {
    "duration": 13,
    "start_time": "2022-01-12T09:37:05.560Z"
   },
   {
    "duration": 140,
    "start_time": "2022-01-12T09:37:05.575Z"
   },
   {
    "duration": 105,
    "start_time": "2022-01-12T09:37:05.717Z"
   },
   {
    "duration": 87,
    "start_time": "2022-01-12T09:37:05.824Z"
   },
   {
    "duration": 2,
    "start_time": "2022-01-12T09:37:05.913Z"
   },
   {
    "duration": 57140,
    "start_time": "2022-01-12T09:37:05.917Z"
   },
   {
    "duration": 68,
    "start_time": "2022-01-12T09:38:03.058Z"
   },
   {
    "duration": 344,
    "start_time": "2022-01-12T09:38:03.127Z"
   },
   {
    "duration": 19,
    "start_time": "2022-01-12T09:38:03.473Z"
   },
   {
    "duration": 331,
    "start_time": "2022-01-12T09:38:03.494Z"
   },
   {
    "duration": 25,
    "start_time": "2022-01-12T09:38:03.827Z"
   },
   {
    "duration": 6,
    "start_time": "2022-01-12T09:38:03.857Z"
   },
   {
    "duration": 20519,
    "start_time": "2022-01-12T09:38:03.866Z"
   },
   {
    "duration": 359,
    "start_time": "2022-01-12T09:38:24.388Z"
   },
   {
    "duration": 19,
    "start_time": "2022-01-12T09:38:24.750Z"
   },
   {
    "duration": 2371,
    "start_time": "2022-01-12T09:38:24.771Z"
   },
   {
    "duration": 5,
    "start_time": "2022-01-12T09:38:27.144Z"
   },
   {
    "duration": 611,
    "start_time": "2022-01-12T09:38:27.151Z"
   },
   {
    "duration": -1975,
    "start_time": "2022-01-12T09:38:29.739Z"
   },
   {
    "duration": -2008,
    "start_time": "2022-01-12T09:38:29.773Z"
   },
   {
    "duration": -2015,
    "start_time": "2022-01-12T09:38:29.782Z"
   },
   {
    "duration": -2027,
    "start_time": "2022-01-12T09:38:29.795Z"
   },
   {
    "duration": -2043,
    "start_time": "2022-01-12T09:38:29.812Z"
   },
   {
    "duration": -2054,
    "start_time": "2022-01-12T09:38:29.824Z"
   },
   {
    "duration": -2076,
    "start_time": "2022-01-12T09:38:29.847Z"
   },
   {
    "duration": -2088,
    "start_time": "2022-01-12T09:38:29.861Z"
   },
   {
    "duration": -2100,
    "start_time": "2022-01-12T09:38:29.874Z"
   },
   {
    "duration": -2113,
    "start_time": "2022-01-12T09:38:29.888Z"
   },
   {
    "duration": -2123,
    "start_time": "2022-01-12T09:38:29.900Z"
   },
   {
    "duration": -2130,
    "start_time": "2022-01-12T09:38:29.909Z"
   },
   {
    "duration": -2170,
    "start_time": "2022-01-12T09:38:29.950Z"
   },
   {
    "duration": -2189,
    "start_time": "2022-01-12T09:38:29.970Z"
   },
   {
    "duration": -2201,
    "start_time": "2022-01-12T09:38:29.983Z"
   },
   {
    "duration": -2216,
    "start_time": "2022-01-12T09:38:29.999Z"
   },
   {
    "duration": -2223,
    "start_time": "2022-01-12T09:38:30.008Z"
   },
   {
    "duration": -2240,
    "start_time": "2022-01-12T09:38:30.026Z"
   },
   {
    "duration": -2249,
    "start_time": "2022-01-12T09:38:30.036Z"
   },
   {
    "duration": -2258,
    "start_time": "2022-01-12T09:38:30.046Z"
   },
   {
    "duration": -2267,
    "start_time": "2022-01-12T09:38:30.056Z"
   },
   {
    "duration": -2290,
    "start_time": "2022-01-12T09:38:30.080Z"
   },
   {
    "duration": -2314,
    "start_time": "2022-01-12T09:38:30.105Z"
   },
   {
    "duration": -2346,
    "start_time": "2022-01-12T09:38:30.138Z"
   },
   {
    "duration": -2360,
    "start_time": "2022-01-12T09:38:30.153Z"
   },
   {
    "duration": -2371,
    "start_time": "2022-01-12T09:38:30.165Z"
   },
   {
    "duration": -2391,
    "start_time": "2022-01-12T09:38:30.186Z"
   },
   {
    "duration": -2404,
    "start_time": "2022-01-12T09:38:30.200Z"
   },
   {
    "duration": -2420,
    "start_time": "2022-01-12T09:38:30.217Z"
   },
   {
    "duration": -2453,
    "start_time": "2022-01-12T09:38:30.251Z"
   },
   {
    "duration": -2464,
    "start_time": "2022-01-12T09:38:30.262Z"
   },
   {
    "duration": -2476,
    "start_time": "2022-01-12T09:38:30.275Z"
   },
   {
    "duration": -2489,
    "start_time": "2022-01-12T09:38:30.289Z"
   },
   {
    "duration": -2499,
    "start_time": "2022-01-12T09:38:30.299Z"
   },
   {
    "duration": -2508,
    "start_time": "2022-01-12T09:38:30.309Z"
   },
   {
    "duration": -2493,
    "start_time": "2022-01-12T09:38:30.334Z"
   },
   {
    "duration": -2502,
    "start_time": "2022-01-12T09:38:30.344Z"
   },
   {
    "duration": -2513,
    "start_time": "2022-01-12T09:38:30.356Z"
   },
   {
    "duration": -2525,
    "start_time": "2022-01-12T09:38:30.368Z"
   },
   {
    "duration": 4,
    "start_time": "2022-01-12T09:39:59.372Z"
   },
   {
    "duration": 2535,
    "start_time": "2022-01-12T09:40:09.879Z"
   },
   {
    "duration": 36,
    "start_time": "2022-01-12T09:40:12.416Z"
   },
   {
    "duration": 36,
    "start_time": "2022-01-12T09:40:12.454Z"
   },
   {
    "duration": 72,
    "start_time": "2022-01-12T09:40:12.492Z"
   },
   {
    "duration": 32,
    "start_time": "2022-01-12T09:40:12.566Z"
   },
   {
    "duration": 5,
    "start_time": "2022-01-12T09:40:12.600Z"
   },
   {
    "duration": 48,
    "start_time": "2022-01-12T09:40:12.607Z"
   },
   {
    "duration": 12,
    "start_time": "2022-01-12T09:40:12.657Z"
   },
   {
    "duration": 3,
    "start_time": "2022-01-12T09:40:12.671Z"
   },
   {
    "duration": 18815,
    "start_time": "2022-01-12T09:40:12.675Z"
   },
   {
    "duration": 6,
    "start_time": "2022-01-12T09:40:31.492Z"
   },
   {
    "duration": 377,
    "start_time": "2022-01-12T09:40:31.500Z"
   },
   {
    "duration": 120,
    "start_time": "2022-01-12T09:40:31.879Z"
   },
   {
    "duration": 3,
    "start_time": "2022-01-12T09:40:32.001Z"
   },
   {
    "duration": 10,
    "start_time": "2022-01-12T09:40:32.005Z"
   },
   {
    "duration": 13,
    "start_time": "2022-01-12T09:40:32.016Z"
   },
   {
    "duration": 7,
    "start_time": "2022-01-12T09:40:32.030Z"
   },
   {
    "duration": 7,
    "start_time": "2022-01-12T09:40:32.039Z"
   },
   {
    "duration": 421,
    "start_time": "2022-01-12T09:40:32.047Z"
   },
   {
    "duration": 37,
    "start_time": "2022-01-12T09:40:32.469Z"
   },
   {
    "duration": 17,
    "start_time": "2022-01-12T09:40:32.508Z"
   },
   {
    "duration": 654,
    "start_time": "2022-01-12T09:40:32.527Z"
   },
   {
    "duration": 2,
    "start_time": "2022-01-12T09:40:33.184Z"
   },
   {
    "duration": 15,
    "start_time": "2022-01-12T09:40:33.188Z"
   },
   {
    "duration": 62,
    "start_time": "2022-01-12T09:40:33.204Z"
   },
   {
    "duration": 4,
    "start_time": "2022-01-12T09:40:33.267Z"
   },
   {
    "duration": 9,
    "start_time": "2022-01-12T09:40:33.273Z"
   },
   {
    "duration": 370,
    "start_time": "2022-01-12T09:40:33.283Z"
   },
   {
    "duration": 10,
    "start_time": "2022-01-12T09:40:33.655Z"
   },
   {
    "duration": 2254,
    "start_time": "2022-01-12T09:41:29.839Z"
   },
   {
    "duration": 1476,
    "start_time": "2022-01-12T09:41:32.095Z"
   },
   {
    "duration": 3,
    "start_time": "2022-01-12T09:41:33.573Z"
   },
   {
    "duration": 802,
    "start_time": "2022-01-12T09:41:33.578Z"
   },
   {
    "duration": 17,
    "start_time": "2022-01-12T09:41:34.382Z"
   },
   {
    "duration": 131,
    "start_time": "2022-01-12T09:41:34.401Z"
   },
   {
    "duration": 120,
    "start_time": "2022-01-12T09:41:34.541Z"
   },
   {
    "duration": 121,
    "start_time": "2022-01-12T09:41:34.663Z"
   },
   {
    "duration": 440,
    "start_time": "2022-01-12T09:41:34.787Z"
   },
   {
    "duration": 5,
    "start_time": "2022-01-12T09:41:35.229Z"
   },
   {
    "duration": 1618,
    "start_time": "2022-01-12T09:41:35.235Z"
   },
   {
    "duration": 13,
    "start_time": "2022-01-12T09:41:36.855Z"
   },
   {
    "duration": 146,
    "start_time": "2022-01-12T09:41:36.869Z"
   },
   {
    "duration": 112,
    "start_time": "2022-01-12T09:41:37.017Z"
   },
   {
    "duration": 99,
    "start_time": "2022-01-12T09:41:37.130Z"
   },
   {
    "duration": 3,
    "start_time": "2022-01-12T09:41:37.230Z"
   },
   {
    "duration": 58742,
    "start_time": "2022-01-12T09:41:37.241Z"
   },
   {
    "duration": 76,
    "start_time": "2022-01-12T09:42:35.984Z"
   },
   {
    "duration": 304,
    "start_time": "2022-01-12T09:42:36.062Z"
   },
   {
    "duration": 19,
    "start_time": "2022-01-12T09:42:36.367Z"
   },
   {
    "duration": 312,
    "start_time": "2022-01-12T09:42:36.388Z"
   },
   {
    "duration": 18,
    "start_time": "2022-01-12T09:42:36.702Z"
   },
   {
    "duration": 19,
    "start_time": "2022-01-12T09:42:36.722Z"
   },
   {
    "duration": 20515,
    "start_time": "2022-01-12T09:42:36.743Z"
   },
   {
    "duration": 354,
    "start_time": "2022-01-12T09:42:57.259Z"
   },
   {
    "duration": 27,
    "start_time": "2022-01-12T09:42:57.615Z"
   },
   {
    "duration": 2244,
    "start_time": "2022-01-12T09:42:57.646Z"
   },
   {
    "duration": 3,
    "start_time": "2022-01-12T09:42:59.893Z"
   },
   {
    "duration": 2625,
    "start_time": "2022-01-12T09:42:59.897Z"
   },
   {
    "duration": 38,
    "start_time": "2022-01-12T09:43:02.523Z"
   },
   {
    "duration": 37,
    "start_time": "2022-01-12T09:43:02.563Z"
   },
   {
    "duration": 66,
    "start_time": "2022-01-12T09:43:02.602Z"
   },
   {
    "duration": 35,
    "start_time": "2022-01-12T09:43:02.669Z"
   },
   {
    "duration": 4,
    "start_time": "2022-01-12T09:43:02.706Z"
   },
   {
    "duration": 52,
    "start_time": "2022-01-12T09:43:02.712Z"
   },
   {
    "duration": 11,
    "start_time": "2022-01-12T09:43:02.766Z"
   },
   {
    "duration": 6,
    "start_time": "2022-01-12T09:43:02.779Z"
   },
   {
    "duration": 18468,
    "start_time": "2022-01-12T09:43:02.787Z"
   },
   {
    "duration": 7,
    "start_time": "2022-01-12T09:43:21.257Z"
   },
   {
    "duration": 381,
    "start_time": "2022-01-12T09:43:21.266Z"
   },
   {
    "duration": 119,
    "start_time": "2022-01-12T09:43:21.649Z"
   },
   {
    "duration": 4,
    "start_time": "2022-01-12T09:43:21.770Z"
   },
   {
    "duration": 6,
    "start_time": "2022-01-12T09:43:21.776Z"
   },
   {
    "duration": 5,
    "start_time": "2022-01-12T09:43:21.783Z"
   },
   {
    "duration": 5,
    "start_time": "2022-01-12T09:43:21.789Z"
   },
   {
    "duration": 7,
    "start_time": "2022-01-12T09:43:21.796Z"
   },
   {
    "duration": 372,
    "start_time": "2022-01-12T09:43:21.804Z"
   },
   {
    "duration": 36,
    "start_time": "2022-01-12T09:43:22.178Z"
   },
   {
    "duration": 25,
    "start_time": "2022-01-12T09:43:22.216Z"
   },
   {
    "duration": 605,
    "start_time": "2022-01-12T09:43:22.243Z"
   },
   {
    "duration": 3,
    "start_time": "2022-01-12T09:43:22.849Z"
   },
   {
    "duration": 15,
    "start_time": "2022-01-12T09:43:22.854Z"
   },
   {
    "duration": 49,
    "start_time": "2022-01-12T09:43:22.871Z"
   },
   {
    "duration": 4,
    "start_time": "2022-01-12T09:43:22.921Z"
   },
   {
    "duration": 3,
    "start_time": "2022-01-12T09:43:22.941Z"
   },
   {
    "duration": 377,
    "start_time": "2022-01-12T09:43:22.945Z"
   },
   {
    "duration": 20,
    "start_time": "2022-01-12T09:43:23.323Z"
   },
   {
    "duration": 2579,
    "start_time": "2022-01-12T09:45:44.448Z"
   },
   {
    "duration": 1642,
    "start_time": "2022-01-12T09:45:47.030Z"
   },
   {
    "duration": 4,
    "start_time": "2022-01-12T09:45:48.675Z"
   },
   {
    "duration": 891,
    "start_time": "2022-01-12T09:45:48.681Z"
   },
   {
    "duration": 27,
    "start_time": "2022-01-12T09:45:49.574Z"
   },
   {
    "duration": 238,
    "start_time": "2022-01-12T09:45:49.603Z"
   },
   {
    "duration": 137,
    "start_time": "2022-01-12T09:45:49.844Z"
   },
   {
    "duration": 141,
    "start_time": "2022-01-12T09:45:49.983Z"
   },
   {
    "duration": 496,
    "start_time": "2022-01-12T09:45:50.127Z"
   },
   {
    "duration": 16,
    "start_time": "2022-01-12T09:45:50.625Z"
   },
   {
    "duration": 1753,
    "start_time": "2022-01-12T09:45:50.643Z"
   },
   {
    "duration": 15,
    "start_time": "2022-01-12T09:45:52.398Z"
   },
   {
    "duration": 146,
    "start_time": "2022-01-12T09:45:52.414Z"
   },
   {
    "duration": 117,
    "start_time": "2022-01-12T09:45:52.562Z"
   },
   {
    "duration": 102,
    "start_time": "2022-01-12T09:45:52.681Z"
   },
   {
    "duration": 3,
    "start_time": "2022-01-12T09:45:52.785Z"
   },
   {
    "duration": 61240,
    "start_time": "2022-01-12T09:45:52.789Z"
   },
   {
    "duration": 63,
    "start_time": "2022-01-12T09:46:54.031Z"
   },
   {
    "duration": 296,
    "start_time": "2022-01-12T09:46:54.095Z"
   },
   {
    "duration": 18,
    "start_time": "2022-01-12T09:46:54.393Z"
   },
   {
    "duration": 307,
    "start_time": "2022-01-12T09:46:54.413Z"
   },
   {
    "duration": 31,
    "start_time": "2022-01-12T09:46:54.722Z"
   },
   {
    "duration": 6,
    "start_time": "2022-01-12T09:46:54.754Z"
   },
   {
    "duration": 20454,
    "start_time": "2022-01-12T09:46:54.762Z"
   },
   {
    "duration": 364,
    "start_time": "2022-01-12T09:47:15.218Z"
   },
   {
    "duration": 20,
    "start_time": "2022-01-12T09:47:15.584Z"
   },
   {
    "duration": 2228,
    "start_time": "2022-01-12T09:47:15.609Z"
   },
   {
    "duration": 3,
    "start_time": "2022-01-12T09:47:17.839Z"
   },
   {
    "duration": 2639,
    "start_time": "2022-01-12T09:47:17.844Z"
   },
   {
    "duration": 7,
    "start_time": "2022-01-12T09:47:20.485Z"
   },
   {
    "duration": 47,
    "start_time": "2022-01-12T09:47:20.494Z"
   },
   {
    "duration": 32,
    "start_time": "2022-01-12T09:47:20.543Z"
   },
   {
    "duration": 65,
    "start_time": "2022-01-12T09:47:20.577Z"
   },
   {
    "duration": 32,
    "start_time": "2022-01-12T09:47:20.644Z"
   },
   {
    "duration": 7,
    "start_time": "2022-01-12T09:47:20.678Z"
   },
   {
    "duration": 36,
    "start_time": "2022-01-12T09:47:20.687Z"
   },
   {
    "duration": 25,
    "start_time": "2022-01-12T09:47:20.725Z"
   },
   {
    "duration": 18,
    "start_time": "2022-01-12T09:47:20.752Z"
   },
   {
    "duration": 19696,
    "start_time": "2022-01-12T09:47:20.772Z"
   },
   {
    "duration": 6,
    "start_time": "2022-01-12T09:47:40.469Z"
   },
   {
    "duration": 386,
    "start_time": "2022-01-12T09:47:40.477Z"
   },
   {
    "duration": 122,
    "start_time": "2022-01-12T09:47:40.865Z"
   },
   {
    "duration": 3,
    "start_time": "2022-01-12T09:47:40.989Z"
   },
   {
    "duration": 13,
    "start_time": "2022-01-12T09:47:40.993Z"
   },
   {
    "duration": 7,
    "start_time": "2022-01-12T09:47:41.008Z"
   },
   {
    "duration": 9,
    "start_time": "2022-01-12T09:47:41.016Z"
   },
   {
    "duration": 6,
    "start_time": "2022-01-12T09:47:41.027Z"
   },
   {
    "duration": 355,
    "start_time": "2022-01-12T09:47:41.034Z"
   },
   {
    "duration": 35,
    "start_time": "2022-01-12T09:47:41.391Z"
   },
   {
    "duration": 21,
    "start_time": "2022-01-12T09:47:41.428Z"
   },
   {
    "duration": 624,
    "start_time": "2022-01-12T09:47:41.451Z"
   },
   {
    "duration": 2,
    "start_time": "2022-01-12T09:47:42.077Z"
   },
   {
    "duration": 19,
    "start_time": "2022-01-12T09:47:42.081Z"
   },
   {
    "duration": 60,
    "start_time": "2022-01-12T09:47:42.102Z"
   },
   {
    "duration": 3,
    "start_time": "2022-01-12T09:47:42.164Z"
   },
   {
    "duration": 6,
    "start_time": "2022-01-12T09:47:42.169Z"
   },
   {
    "duration": 387,
    "start_time": "2022-01-12T09:47:42.176Z"
   },
   {
    "duration": 11,
    "start_time": "2022-01-12T09:47:42.565Z"
   },
   {
    "duration": 279,
    "start_time": "2022-01-12T09:50:05.011Z"
   },
   {
    "duration": 2120,
    "start_time": "2022-01-12T09:50:14.667Z"
   },
   {
    "duration": 1350,
    "start_time": "2022-01-12T09:50:16.788Z"
   },
   {
    "duration": 2,
    "start_time": "2022-01-12T09:50:18.140Z"
   },
   {
    "duration": 701,
    "start_time": "2022-01-12T09:50:18.144Z"
   },
   {
    "duration": 14,
    "start_time": "2022-01-12T09:50:18.847Z"
   },
   {
    "duration": 120,
    "start_time": "2022-01-12T09:50:18.863Z"
   },
   {
    "duration": 96,
    "start_time": "2022-01-12T09:50:18.985Z"
   },
   {
    "duration": 157,
    "start_time": "2022-01-12T09:50:19.084Z"
   },
   {
    "duration": 620,
    "start_time": "2022-01-12T09:50:19.244Z"
   },
   {
    "duration": 6,
    "start_time": "2022-01-12T09:50:19.867Z"
   },
   {
    "duration": 2466,
    "start_time": "2022-01-12T09:50:19.875Z"
   },
   {
    "duration": 12,
    "start_time": "2022-01-12T09:50:22.343Z"
   },
   {
    "duration": 140,
    "start_time": "2022-01-12T09:50:22.357Z"
   },
   {
    "duration": 121,
    "start_time": "2022-01-12T09:50:22.498Z"
   },
   {
    "duration": 98,
    "start_time": "2022-01-12T09:50:22.621Z"
   },
   {
    "duration": 3,
    "start_time": "2022-01-12T09:50:22.720Z"
   },
   {
    "duration": 56078,
    "start_time": "2022-01-12T09:50:22.725Z"
   },
   {
    "duration": 66,
    "start_time": "2022-01-12T09:51:18.805Z"
   },
   {
    "duration": 271,
    "start_time": "2022-01-12T09:51:18.872Z"
   },
   {
    "duration": 17,
    "start_time": "2022-01-12T09:51:19.145Z"
   },
   {
    "duration": 293,
    "start_time": "2022-01-12T09:51:19.163Z"
   },
   {
    "duration": 19,
    "start_time": "2022-01-12T09:51:19.457Z"
   },
   {
    "duration": 6,
    "start_time": "2022-01-12T09:51:19.479Z"
   },
   {
    "duration": 20661,
    "start_time": "2022-01-12T09:51:19.488Z"
   },
   {
    "duration": 341,
    "start_time": "2022-01-12T09:51:40.151Z"
   },
   {
    "duration": 20,
    "start_time": "2022-01-12T09:51:40.493Z"
   },
   {
    "duration": 2217,
    "start_time": "2022-01-12T09:51:40.515Z"
   },
   {
    "duration": 8,
    "start_time": "2022-01-12T09:51:42.733Z"
   },
   {
    "duration": 8,
    "start_time": "2022-01-12T09:51:42.743Z"
   },
   {
    "duration": 33,
    "start_time": "2022-01-12T09:51:42.752Z"
   },
   {
    "duration": 56,
    "start_time": "2022-01-12T09:51:42.786Z"
   },
   {
    "duration": 30,
    "start_time": "2022-01-12T09:51:42.844Z"
   },
   {
    "duration": 66,
    "start_time": "2022-01-12T09:51:42.876Z"
   },
   {
    "duration": 34,
    "start_time": "2022-01-12T09:51:42.944Z"
   },
   {
    "duration": 3,
    "start_time": "2022-01-12T09:51:42.980Z"
   },
   {
    "duration": 35,
    "start_time": "2022-01-12T09:51:42.984Z"
   },
   {
    "duration": 28,
    "start_time": "2022-01-12T09:51:43.021Z"
   },
   {
    "duration": 4,
    "start_time": "2022-01-12T09:51:43.051Z"
   },
   {
    "duration": 18844,
    "start_time": "2022-01-12T09:51:43.057Z"
   },
   {
    "duration": 8,
    "start_time": "2022-01-12T09:52:01.903Z"
   },
   {
    "duration": 374,
    "start_time": "2022-01-12T09:52:01.912Z"
   },
   {
    "duration": 122,
    "start_time": "2022-01-12T09:52:02.289Z"
   },
   {
    "duration": 5,
    "start_time": "2022-01-12T09:52:02.413Z"
   },
   {
    "duration": 21,
    "start_time": "2022-01-12T09:52:02.420Z"
   },
   {
    "duration": 13,
    "start_time": "2022-01-12T09:52:02.444Z"
   },
   {
    "duration": 12,
    "start_time": "2022-01-12T09:52:02.459Z"
   },
   {
    "duration": 20,
    "start_time": "2022-01-12T09:52:02.473Z"
   },
   {
    "duration": 404,
    "start_time": "2022-01-12T09:52:02.495Z"
   },
   {
    "duration": 48,
    "start_time": "2022-01-12T09:52:02.901Z"
   },
   {
    "duration": 24,
    "start_time": "2022-01-12T09:52:02.951Z"
   },
   {
    "duration": 1640,
    "start_time": "2022-01-12T09:52:02.977Z"
   },
   {
    "duration": 2,
    "start_time": "2022-01-12T09:52:04.619Z"
   },
   {
    "duration": 27,
    "start_time": "2022-01-12T09:52:04.622Z"
   },
   {
    "duration": 70,
    "start_time": "2022-01-12T09:52:04.651Z"
   },
   {
    "duration": 18,
    "start_time": "2022-01-12T09:52:04.723Z"
   },
   {
    "duration": 6,
    "start_time": "2022-01-12T09:52:04.743Z"
   },
   {
    "duration": 667,
    "start_time": "2022-01-12T09:52:04.751Z"
   },
   {
    "duration": 22,
    "start_time": "2022-01-12T09:52:05.421Z"
   },
   {
    "duration": 2068,
    "start_time": "2022-01-12T09:53:44.091Z"
   },
   {
    "duration": 1374,
    "start_time": "2022-01-12T09:53:46.161Z"
   },
   {
    "duration": 3,
    "start_time": "2022-01-12T09:53:47.537Z"
   },
   {
    "duration": 1076,
    "start_time": "2022-01-12T09:53:47.542Z"
   },
   {
    "duration": 23,
    "start_time": "2022-01-12T09:53:48.619Z"
   },
   {
    "duration": 117,
    "start_time": "2022-01-12T09:53:48.643Z"
   },
   {
    "duration": 106,
    "start_time": "2022-01-12T09:53:48.762Z"
   },
   {
    "duration": 114,
    "start_time": "2022-01-12T09:53:48.869Z"
   },
   {
    "duration": 426,
    "start_time": "2022-01-12T09:53:48.985Z"
   },
   {
    "duration": 5,
    "start_time": "2022-01-12T09:53:49.413Z"
   },
   {
    "duration": 1612,
    "start_time": "2022-01-12T09:53:49.419Z"
   },
   {
    "duration": 13,
    "start_time": "2022-01-12T09:53:51.033Z"
   },
   {
    "duration": 146,
    "start_time": "2022-01-12T09:53:51.047Z"
   },
   {
    "duration": 115,
    "start_time": "2022-01-12T09:53:51.194Z"
   },
   {
    "duration": 94,
    "start_time": "2022-01-12T09:53:51.311Z"
   },
   {
    "duration": 3,
    "start_time": "2022-01-12T09:53:51.407Z"
   },
   {
    "duration": 57438,
    "start_time": "2022-01-12T09:53:51.412Z"
   },
   {
    "duration": 61,
    "start_time": "2022-01-12T09:54:48.852Z"
   },
   {
    "duration": 289,
    "start_time": "2022-01-12T09:54:48.915Z"
   },
   {
    "duration": 19,
    "start_time": "2022-01-12T09:54:49.206Z"
   },
   {
    "duration": 308,
    "start_time": "2022-01-12T09:54:49.227Z"
   },
   {
    "duration": 22,
    "start_time": "2022-01-12T09:54:49.541Z"
   },
   {
    "duration": 6,
    "start_time": "2022-01-12T09:54:49.565Z"
   },
   {
    "duration": 21247,
    "start_time": "2022-01-12T09:54:49.573Z"
   },
   {
    "duration": 366,
    "start_time": "2022-01-12T09:55:10.822Z"
   },
   {
    "duration": 20,
    "start_time": "2022-01-12T09:55:11.190Z"
   },
   {
    "duration": 2180,
    "start_time": "2022-01-12T09:55:11.214Z"
   },
   {
    "duration": 3,
    "start_time": "2022-01-12T09:55:13.396Z"
   },
   {
    "duration": 15,
    "start_time": "2022-01-12T09:55:13.401Z"
   },
   {
    "duration": 108,
    "start_time": "2022-01-12T09:55:13.418Z"
   },
   {
    "duration": 36,
    "start_time": "2022-01-12T09:55:13.528Z"
   },
   {
    "duration": 32,
    "start_time": "2022-01-12T09:55:13.566Z"
   },
   {
    "duration": 68,
    "start_time": "2022-01-12T09:55:13.600Z"
   },
   {
    "duration": 36,
    "start_time": "2022-01-12T09:55:13.670Z"
   },
   {
    "duration": 11,
    "start_time": "2022-01-12T09:55:13.708Z"
   },
   {
    "duration": 45,
    "start_time": "2022-01-12T09:55:13.721Z"
   },
   {
    "duration": 11,
    "start_time": "2022-01-12T09:55:13.768Z"
   },
   {
    "duration": 5,
    "start_time": "2022-01-12T09:55:13.781Z"
   },
   {
    "duration": 18460,
    "start_time": "2022-01-12T09:55:13.788Z"
   },
   {
    "duration": 6,
    "start_time": "2022-01-12T09:55:32.250Z"
   },
   {
    "duration": 440,
    "start_time": "2022-01-12T09:55:32.258Z"
   },
   {
    "duration": 113,
    "start_time": "2022-01-12T09:55:32.700Z"
   },
   {
    "duration": 3,
    "start_time": "2022-01-12T09:55:32.814Z"
   },
   {
    "duration": 47,
    "start_time": "2022-01-12T09:55:32.819Z"
   },
   {
    "duration": 29,
    "start_time": "2022-01-12T09:55:32.869Z"
   },
   {
    "duration": 30,
    "start_time": "2022-01-12T09:55:32.900Z"
   },
   {
    "duration": 14,
    "start_time": "2022-01-12T09:55:32.933Z"
   },
   {
    "duration": 404,
    "start_time": "2022-01-12T09:55:32.949Z"
   },
   {
    "duration": 40,
    "start_time": "2022-01-12T09:55:33.355Z"
   },
   {
    "duration": 33,
    "start_time": "2022-01-12T09:55:33.397Z"
   },
   {
    "duration": 1515,
    "start_time": "2022-01-12T09:55:33.432Z"
   },
   {
    "duration": 2,
    "start_time": "2022-01-12T09:55:34.949Z"
   },
   {
    "duration": 23,
    "start_time": "2022-01-12T09:55:34.953Z"
   },
   {
    "duration": 64,
    "start_time": "2022-01-12T09:55:34.978Z"
   },
   {
    "duration": 4,
    "start_time": "2022-01-12T09:55:35.044Z"
   },
   {
    "duration": 29,
    "start_time": "2022-01-12T09:55:35.049Z"
   },
   {
    "duration": 383,
    "start_time": "2022-01-12T09:55:35.079Z"
   },
   {
    "duration": 10,
    "start_time": "2022-01-12T09:55:35.464Z"
   },
   {
    "duration": 2031,
    "start_time": "2022-01-12T09:58:39.753Z"
   },
   {
    "duration": 1357,
    "start_time": "2022-01-12T09:58:41.786Z"
   },
   {
    "duration": 3,
    "start_time": "2022-01-12T09:58:43.145Z"
   },
   {
    "duration": 734,
    "start_time": "2022-01-12T09:58:43.149Z"
   },
   {
    "duration": 16,
    "start_time": "2022-01-12T09:58:43.885Z"
   },
   {
    "duration": 118,
    "start_time": "2022-01-12T09:58:43.903Z"
   },
   {
    "duration": 93,
    "start_time": "2022-01-12T09:58:44.023Z"
   },
   {
    "duration": 117,
    "start_time": "2022-01-12T09:58:44.117Z"
   },
   {
    "duration": 402,
    "start_time": "2022-01-12T09:58:44.240Z"
   },
   {
    "duration": 4,
    "start_time": "2022-01-12T09:58:44.644Z"
   },
   {
    "duration": 1584,
    "start_time": "2022-01-12T09:58:44.650Z"
   },
   {
    "duration": 12,
    "start_time": "2022-01-12T09:58:46.236Z"
   },
   {
    "duration": 140,
    "start_time": "2022-01-12T09:58:46.250Z"
   },
   {
    "duration": 105,
    "start_time": "2022-01-12T09:58:46.392Z"
   },
   {
    "duration": 89,
    "start_time": "2022-01-12T09:58:46.499Z"
   },
   {
    "duration": 3,
    "start_time": "2022-01-12T09:58:46.590Z"
   },
   {
    "duration": 57251,
    "start_time": "2022-01-12T09:58:46.594Z"
   },
   {
    "duration": 57,
    "start_time": "2022-01-12T09:59:43.847Z"
   },
   {
    "duration": 273,
    "start_time": "2022-01-12T09:59:43.905Z"
   },
   {
    "duration": 17,
    "start_time": "2022-01-12T09:59:44.179Z"
   },
   {
    "duration": 282,
    "start_time": "2022-01-12T09:59:44.198Z"
   },
   {
    "duration": 18,
    "start_time": "2022-01-12T09:59:44.482Z"
   },
   {
    "duration": 5,
    "start_time": "2022-01-12T09:59:44.501Z"
   },
   {
    "duration": 19969,
    "start_time": "2022-01-12T09:59:44.508Z"
   },
   {
    "duration": 359,
    "start_time": "2022-01-12T10:00:04.478Z"
   },
   {
    "duration": 19,
    "start_time": "2022-01-12T10:00:04.839Z"
   },
   {
    "duration": 2136,
    "start_time": "2022-01-12T10:00:04.862Z"
   },
   {
    "duration": 3,
    "start_time": "2022-01-12T10:00:06.999Z"
   },
   {
    "duration": 17,
    "start_time": "2022-01-12T10:00:07.004Z"
   },
   {
    "duration": 112,
    "start_time": "2022-01-12T10:00:07.023Z"
   },
   {
    "duration": 42,
    "start_time": "2022-01-12T10:00:07.140Z"
   },
   {
    "duration": 43,
    "start_time": "2022-01-12T10:00:07.184Z"
   },
   {
    "duration": 54,
    "start_time": "2022-01-12T10:00:07.229Z"
   },
   {
    "duration": 31,
    "start_time": "2022-01-12T10:00:07.285Z"
   },
   {
    "duration": 4,
    "start_time": "2022-01-12T10:00:07.317Z"
   },
   {
    "duration": 50,
    "start_time": "2022-01-12T10:00:07.322Z"
   },
   {
    "duration": 11,
    "start_time": "2022-01-12T10:00:07.374Z"
   },
   {
    "duration": 3,
    "start_time": "2022-01-12T10:00:07.386Z"
   },
   {
    "duration": 17793,
    "start_time": "2022-01-12T10:00:07.390Z"
   },
   {
    "duration": 6,
    "start_time": "2022-01-12T10:00:25.185Z"
   },
   {
    "duration": 417,
    "start_time": "2022-01-12T10:00:25.192Z"
   },
   {
    "duration": 121,
    "start_time": "2022-01-12T10:00:25.610Z"
   },
   {
    "duration": 8,
    "start_time": "2022-01-12T10:00:25.733Z"
   },
   {
    "duration": 7,
    "start_time": "2022-01-12T10:00:25.743Z"
   },
   {
    "duration": 25,
    "start_time": "2022-01-12T10:00:25.751Z"
   },
   {
    "duration": 19,
    "start_time": "2022-01-12T10:00:25.778Z"
   },
   {
    "duration": 27,
    "start_time": "2022-01-12T10:00:25.798Z"
   },
   {
    "duration": 355,
    "start_time": "2022-01-12T10:00:25.826Z"
   },
   {
    "duration": 34,
    "start_time": "2022-01-12T10:00:26.183Z"
   },
   {
    "duration": 27,
    "start_time": "2022-01-12T10:00:26.219Z"
   },
   {
    "duration": 1431,
    "start_time": "2022-01-12T10:00:26.248Z"
   },
   {
    "duration": 3,
    "start_time": "2022-01-12T10:00:27.680Z"
   },
   {
    "duration": 16,
    "start_time": "2022-01-12T10:00:27.684Z"
   },
   {
    "duration": 62,
    "start_time": "2022-01-12T10:00:27.702Z"
   },
   {
    "duration": 2,
    "start_time": "2022-01-12T10:00:27.766Z"
   },
   {
    "duration": 11,
    "start_time": "2022-01-12T10:00:27.769Z"
   },
   {
    "duration": 342,
    "start_time": "2022-01-12T10:00:27.781Z"
   },
   {
    "duration": 18,
    "start_time": "2022-01-12T10:00:28.124Z"
   },
   {
    "duration": 24,
    "start_time": "2022-01-12T10:00:28.143Z"
   },
   {
    "duration": 8,
    "start_time": "2022-01-12T10:00:28.169Z"
   },
   {
    "duration": 801,
    "start_time": "2022-01-12T10:00:28.178Z"
   },
   {
    "duration": -22518,
    "start_time": "2022-01-12T10:00:51.498Z"
   },
   {
    "duration": -27240,
    "start_time": "2022-01-12T10:00:56.221Z"
   },
   {
    "duration": -27245,
    "start_time": "2022-01-12T10:00:56.227Z"
   },
   {
    "duration": -27248,
    "start_time": "2022-01-12T10:00:56.231Z"
   },
   {
    "duration": -27252,
    "start_time": "2022-01-12T10:00:56.236Z"
   },
   {
    "duration": -27257,
    "start_time": "2022-01-12T10:00:56.242Z"
   },
   {
    "duration": -27263,
    "start_time": "2022-01-12T10:00:56.248Z"
   },
   {
    "duration": -31986,
    "start_time": "2022-01-12T10:01:00.972Z"
   },
   {
    "duration": -31991,
    "start_time": "2022-01-12T10:01:00.978Z"
   },
   {
    "duration": -31996,
    "start_time": "2022-01-12T10:01:00.984Z"
   },
   {
    "duration": -32002,
    "start_time": "2022-01-12T10:01:00.991Z"
   },
   {
    "duration": -32006,
    "start_time": "2022-01-12T10:01:00.996Z"
   },
   {
    "duration": -32011,
    "start_time": "2022-01-12T10:01:01.002Z"
   },
   {
    "duration": -36733,
    "start_time": "2022-01-12T10:01:05.725Z"
   },
   {
    "duration": 31,
    "start_time": "2022-01-12T10:08:32.250Z"
   },
   {
    "duration": 92,
    "start_time": "2022-01-12T10:08:33.826Z"
   },
   {
    "duration": 14,
    "start_time": "2022-01-12T10:08:37.053Z"
   },
   {
    "duration": 2243,
    "start_time": "2022-01-12T10:13:04.400Z"
   },
   {
    "duration": 1282,
    "start_time": "2022-01-12T10:13:06.646Z"
   },
   {
    "duration": 3,
    "start_time": "2022-01-12T10:13:07.930Z"
   },
   {
    "duration": 872,
    "start_time": "2022-01-12T10:13:07.935Z"
   },
   {
    "duration": 19,
    "start_time": "2022-01-12T10:13:08.808Z"
   },
   {
    "duration": 142,
    "start_time": "2022-01-12T10:13:08.829Z"
   },
   {
    "duration": 116,
    "start_time": "2022-01-12T10:13:08.973Z"
   },
   {
    "duration": 130,
    "start_time": "2022-01-12T10:13:09.092Z"
   },
   {
    "duration": 483,
    "start_time": "2022-01-12T10:13:09.225Z"
   },
   {
    "duration": 5,
    "start_time": "2022-01-12T10:13:09.711Z"
   },
   {
    "duration": 1702,
    "start_time": "2022-01-12T10:13:09.719Z"
   },
   {
    "duration": 20,
    "start_time": "2022-01-12T10:13:11.423Z"
   },
   {
    "duration": 145,
    "start_time": "2022-01-12T10:13:11.445Z"
   },
   {
    "duration": 116,
    "start_time": "2022-01-12T10:13:11.593Z"
   },
   {
    "duration": 105,
    "start_time": "2022-01-12T10:13:11.710Z"
   },
   {
    "duration": 3,
    "start_time": "2022-01-12T10:13:11.816Z"
   },
   {
    "duration": 58208,
    "start_time": "2022-01-12T10:13:11.821Z"
   },
   {
    "duration": 61,
    "start_time": "2022-01-12T10:14:10.031Z"
   },
   {
    "duration": 286,
    "start_time": "2022-01-12T10:14:10.093Z"
   },
   {
    "duration": 18,
    "start_time": "2022-01-12T10:14:10.381Z"
   },
   {
    "duration": 300,
    "start_time": "2022-01-12T10:14:10.401Z"
   },
   {
    "duration": 20,
    "start_time": "2022-01-12T10:14:10.703Z"
   },
   {
    "duration": 19,
    "start_time": "2022-01-12T10:14:10.728Z"
   },
   {
    "duration": 20048,
    "start_time": "2022-01-12T10:14:10.750Z"
   },
   {
    "duration": 371,
    "start_time": "2022-01-12T10:14:30.800Z"
   },
   {
    "duration": 19,
    "start_time": "2022-01-12T10:14:31.173Z"
   },
   {
    "duration": 2379,
    "start_time": "2022-01-12T10:14:31.193Z"
   },
   {
    "duration": 3,
    "start_time": "2022-01-12T10:14:33.574Z"
   },
   {
    "duration": 14,
    "start_time": "2022-01-12T10:14:33.579Z"
   },
   {
    "duration": 111,
    "start_time": "2022-01-12T10:14:33.595Z"
   },
   {
    "duration": 37,
    "start_time": "2022-01-12T10:14:33.708Z"
   },
   {
    "duration": 54,
    "start_time": "2022-01-12T10:14:33.747Z"
   },
   {
    "duration": 88,
    "start_time": "2022-01-12T10:14:33.802Z"
   },
   {
    "duration": 31,
    "start_time": "2022-01-12T10:14:33.892Z"
   },
   {
    "duration": 106,
    "start_time": "2022-01-12T10:14:33.925Z"
   },
   {
    "duration": 72,
    "start_time": "2022-01-12T10:14:34.033Z"
   },
   {
    "duration": 12,
    "start_time": "2022-01-12T10:14:34.107Z"
   },
   {
    "duration": 22,
    "start_time": "2022-01-12T10:14:34.121Z"
   },
   {
    "duration": 18099,
    "start_time": "2022-01-12T10:14:34.145Z"
   },
   {
    "duration": 5,
    "start_time": "2022-01-12T10:14:52.246Z"
   },
   {
    "duration": 326,
    "start_time": "2022-01-12T10:14:52.253Z"
   },
   {
    "duration": 112,
    "start_time": "2022-01-12T10:14:52.581Z"
   },
   {
    "duration": 3,
    "start_time": "2022-01-12T10:14:52.694Z"
   },
   {
    "duration": 44,
    "start_time": "2022-01-12T10:14:52.699Z"
   },
   {
    "duration": 18,
    "start_time": "2022-01-12T10:14:52.745Z"
   },
   {
    "duration": 34,
    "start_time": "2022-01-12T10:14:52.764Z"
   },
   {
    "duration": 28,
    "start_time": "2022-01-12T10:14:52.800Z"
   },
   {
    "duration": 359,
    "start_time": "2022-01-12T10:14:52.829Z"
   },
   {
    "duration": 40,
    "start_time": "2022-01-12T10:14:53.189Z"
   },
   {
    "duration": 19,
    "start_time": "2022-01-12T10:14:53.230Z"
   },
   {
    "duration": 1943,
    "start_time": "2022-01-12T10:14:53.251Z"
   },
   {
    "duration": 2,
    "start_time": "2022-01-12T10:14:55.196Z"
   },
   {
    "duration": 17,
    "start_time": "2022-01-12T10:14:55.199Z"
   },
   {
    "duration": 71,
    "start_time": "2022-01-12T10:14:55.218Z"
   },
   {
    "duration": 12,
    "start_time": "2022-01-12T10:14:55.297Z"
   },
   {
    "duration": 19,
    "start_time": "2022-01-12T10:14:55.318Z"
   },
   {
    "duration": 425,
    "start_time": "2022-01-12T10:14:55.345Z"
   },
   {
    "duration": 10,
    "start_time": "2022-01-12T10:14:55.772Z"
   },
   {
    "duration": 40,
    "start_time": "2022-01-12T10:14:55.783Z"
   },
   {
    "duration": 21,
    "start_time": "2022-01-12T10:14:55.824Z"
   },
   {
    "duration": 12515,
    "start_time": "2022-01-12T10:14:55.846Z"
   },
   {
    "duration": 229,
    "start_time": "2022-01-12T10:15:08.363Z"
   },
   {
    "duration": 3,
    "start_time": "2022-01-12T10:15:08.594Z"
   },
   {
    "duration": 17,
    "start_time": "2022-01-12T10:15:08.598Z"
   },
   {
    "duration": 21,
    "start_time": "2022-01-12T10:15:08.617Z"
   },
   {
    "duration": 3613,
    "start_time": "2022-01-12T10:15:08.640Z"
   },
   {
    "duration": 87,
    "start_time": "2022-01-12T10:15:12.255Z"
   },
   {
    "duration": 1703,
    "start_time": "2022-01-12T10:15:12.349Z"
   },
   {
    "duration": 53058,
    "start_time": "2022-01-12T10:15:14.055Z"
   },
   {
    "duration": 31816,
    "start_time": "2022-01-12T10:16:07.115Z"
   },
   {
    "duration": 8773,
    "start_time": "2022-01-12T10:16:38.933Z"
   },
   {
    "duration": 253,
    "start_time": "2022-01-12T10:16:47.708Z"
   },
   {
    "duration": -1410,
    "start_time": "2022-01-12T10:16:49.373Z"
   },
   {
    "duration": -1433,
    "start_time": "2022-01-12T10:16:49.396Z"
   },
   {
    "duration": -1440,
    "start_time": "2022-01-12T10:16:49.404Z"
   },
   {
    "duration": -1450,
    "start_time": "2022-01-12T10:16:49.417Z"
   },
   {
    "duration": 4,
    "start_time": "2022-01-12T10:16:55.387Z"
   },
   {
    "duration": 8,
    "start_time": "2022-01-12T10:17:28.200Z"
   },
   {
    "duration": 3,
    "start_time": "2022-01-12T10:17:41.999Z"
   },
   {
    "duration": 598,
    "start_time": "2022-01-12T10:17:42.452Z"
   },
   {
    "duration": 3,
    "start_time": "2022-01-12T10:17:43.172Z"
   },
   {
    "duration": 2,
    "start_time": "2022-01-12T10:18:12.677Z"
   },
   {
    "duration": 17,
    "start_time": "2022-01-12T10:18:12.681Z"
   },
   {
    "duration": 49,
    "start_time": "2022-01-12T10:18:12.700Z"
   },
   {
    "duration": 2,
    "start_time": "2022-01-12T10:18:12.751Z"
   },
   {
    "duration": 6,
    "start_time": "2022-01-12T10:18:12.755Z"
   },
   {
    "duration": 395,
    "start_time": "2022-01-12T10:18:12.763Z"
   },
   {
    "duration": 10,
    "start_time": "2022-01-12T10:18:13.160Z"
   },
   {
    "duration": 37,
    "start_time": "2022-01-12T10:18:13.172Z"
   },
   {
    "duration": 13,
    "start_time": "2022-01-12T10:18:13.210Z"
   },
   {
    "duration": 11728,
    "start_time": "2022-01-12T10:18:13.224Z"
   },
   {
    "duration": 263,
    "start_time": "2022-01-12T10:18:24.954Z"
   },
   {
    "duration": 7,
    "start_time": "2022-01-12T10:18:25.218Z"
   },
   {
    "duration": 22,
    "start_time": "2022-01-12T10:18:25.227Z"
   },
   {
    "duration": 17,
    "start_time": "2022-01-12T10:18:25.252Z"
   },
   {
    "duration": 14,
    "start_time": "2022-01-12T10:18:25.271Z"
   },
   {
    "duration": 13,
    "start_time": "2022-01-12T10:18:25.287Z"
   },
   {
    "duration": 3540,
    "start_time": "2022-01-12T10:18:25.302Z"
   },
   {
    "duration": 4,
    "start_time": "2022-01-12T10:18:28.844Z"
   },
   {
    "duration": 118,
    "start_time": "2022-01-12T10:18:28.851Z"
   },
   {
    "duration": -12463,
    "start_time": "2022-01-12T10:18:41.435Z"
   },
   {
    "duration": -14573,
    "start_time": "2022-01-12T10:18:43.546Z"
   },
   {
    "duration": -14583,
    "start_time": "2022-01-12T10:18:43.558Z"
   },
   {
    "duration": -14593,
    "start_time": "2022-01-12T10:18:43.570Z"
   },
   {
    "duration": -14604,
    "start_time": "2022-01-12T10:18:43.582Z"
   },
   {
    "duration": -14615,
    "start_time": "2022-01-12T10:18:43.595Z"
   },
   {
    "duration": -14625,
    "start_time": "2022-01-12T10:18:43.606Z"
   },
   {
    "duration": 2,
    "start_time": "2022-01-12T10:19:44.291Z"
   },
   {
    "duration": 7,
    "start_time": "2022-01-12T10:19:44.911Z"
   },
   {
    "duration": 4,
    "start_time": "2022-01-12T10:19:45.399Z"
   },
   {
    "duration": 3,
    "start_time": "2022-01-12T10:19:57.959Z"
   },
   {
    "duration": 15,
    "start_time": "2022-01-12T10:19:57.963Z"
   },
   {
    "duration": 46,
    "start_time": "2022-01-12T10:19:57.980Z"
   },
   {
    "duration": 3,
    "start_time": "2022-01-12T10:19:58.028Z"
   },
   {
    "duration": 9,
    "start_time": "2022-01-12T10:19:58.032Z"
   },
   {
    "duration": 354,
    "start_time": "2022-01-12T10:19:58.043Z"
   },
   {
    "duration": 10,
    "start_time": "2022-01-12T10:19:58.398Z"
   },
   {
    "duration": 43,
    "start_time": "2022-01-12T10:19:58.409Z"
   },
   {
    "duration": 12,
    "start_time": "2022-01-12T10:19:58.455Z"
   },
   {
    "duration": 11339,
    "start_time": "2022-01-12T10:19:58.469Z"
   },
   {
    "duration": 244,
    "start_time": "2022-01-12T10:20:09.810Z"
   },
   {
    "duration": 8,
    "start_time": "2022-01-12T10:20:10.056Z"
   },
   {
    "duration": 11,
    "start_time": "2022-01-12T10:20:10.066Z"
   },
   {
    "duration": 9,
    "start_time": "2022-01-12T10:20:10.078Z"
   },
   {
    "duration": 8,
    "start_time": "2022-01-12T10:20:10.089Z"
   },
   {
    "duration": 12,
    "start_time": "2022-01-12T10:20:10.098Z"
   },
   {
    "duration": 1430,
    "start_time": "2022-01-12T10:20:10.113Z"
   },
   {
    "duration": 96,
    "start_time": "2022-01-12T10:20:11.545Z"
   },
   {
    "duration": 119,
    "start_time": "2022-01-12T10:20:11.643Z"
   },
   {
    "duration": -1412,
    "start_time": "2022-01-12T10:20:13.176Z"
   },
   {
    "duration": -1453,
    "start_time": "2022-01-12T10:20:13.219Z"
   },
   {
    "duration": -1461,
    "start_time": "2022-01-12T10:20:13.228Z"
   },
   {
    "duration": -1469,
    "start_time": "2022-01-12T10:20:13.237Z"
   },
   {
    "duration": -1476,
    "start_time": "2022-01-12T10:20:13.245Z"
   },
   {
    "duration": -1503,
    "start_time": "2022-01-12T10:20:13.273Z"
   },
   {
    "duration": -1511,
    "start_time": "2022-01-12T10:20:13.282Z"
   },
   {
    "duration": 2,
    "start_time": "2022-01-12T10:20:42.660Z"
   },
   {
    "duration": 15,
    "start_time": "2022-01-12T10:20:42.665Z"
   },
   {
    "duration": 48,
    "start_time": "2022-01-12T10:20:42.682Z"
   },
   {
    "duration": 2,
    "start_time": "2022-01-12T10:20:42.732Z"
   },
   {
    "duration": 9,
    "start_time": "2022-01-12T10:20:42.736Z"
   },
   {
    "duration": 378,
    "start_time": "2022-01-12T10:20:42.747Z"
   },
   {
    "duration": 20,
    "start_time": "2022-01-12T10:20:43.126Z"
   },
   {
    "duration": 33,
    "start_time": "2022-01-12T10:20:43.148Z"
   },
   {
    "duration": 13,
    "start_time": "2022-01-12T10:20:43.184Z"
   },
   {
    "duration": 11944,
    "start_time": "2022-01-12T10:20:43.199Z"
   },
   {
    "duration": 247,
    "start_time": "2022-01-12T10:20:55.145Z"
   },
   {
    "duration": 8,
    "start_time": "2022-01-12T10:20:55.394Z"
   },
   {
    "duration": 7,
    "start_time": "2022-01-12T10:20:55.404Z"
   },
   {
    "duration": 7,
    "start_time": "2022-01-12T10:20:55.413Z"
   },
   {
    "duration": 21,
    "start_time": "2022-01-12T10:20:55.421Z"
   },
   {
    "duration": 10,
    "start_time": "2022-01-12T10:20:55.444Z"
   },
   {
    "duration": 9,
    "start_time": "2022-01-12T10:20:55.456Z"
   },
   {
    "duration": 6,
    "start_time": "2022-01-12T10:20:55.467Z"
   },
   {
    "duration": 86,
    "start_time": "2022-01-12T10:20:55.474Z"
   },
   {
    "duration": -16683,
    "start_time": "2022-01-12T10:21:12.244Z"
   },
   {
    "duration": -18778,
    "start_time": "2022-01-12T10:21:14.340Z"
   },
   {
    "duration": -18791,
    "start_time": "2022-01-12T10:21:14.354Z"
   },
   {
    "duration": -18801,
    "start_time": "2022-01-12T10:21:14.366Z"
   },
   {
    "duration": -18810,
    "start_time": "2022-01-12T10:21:14.376Z"
   },
   {
    "duration": -18821,
    "start_time": "2022-01-12T10:21:14.389Z"
   },
   {
    "duration": -18831,
    "start_time": "2022-01-12T10:21:14.400Z"
   },
   {
    "duration": 3,
    "start_time": "2022-01-12T10:21:40.640Z"
   },
   {
    "duration": 16,
    "start_time": "2022-01-12T10:21:40.646Z"
   },
   {
    "duration": 50,
    "start_time": "2022-01-12T10:21:40.665Z"
   },
   {
    "duration": 3,
    "start_time": "2022-01-12T10:21:40.717Z"
   },
   {
    "duration": 3,
    "start_time": "2022-01-12T10:21:40.742Z"
   },
   {
    "duration": 416,
    "start_time": "2022-01-12T10:21:40.746Z"
   },
   {
    "duration": 10,
    "start_time": "2022-01-12T10:21:41.164Z"
   },
   {
    "duration": 38,
    "start_time": "2022-01-12T10:21:41.176Z"
   },
   {
    "duration": 30,
    "start_time": "2022-01-12T10:21:41.216Z"
   },
   {
    "duration": 11679,
    "start_time": "2022-01-12T10:21:41.249Z"
   },
   {
    "duration": 252,
    "start_time": "2022-01-12T10:21:52.930Z"
   },
   {
    "duration": 8,
    "start_time": "2022-01-12T10:21:53.183Z"
   },
   {
    "duration": 8,
    "start_time": "2022-01-12T10:21:53.193Z"
   },
   {
    "duration": 14,
    "start_time": "2022-01-12T10:21:53.203Z"
   },
   {
    "duration": 13,
    "start_time": "2022-01-12T10:21:53.218Z"
   },
   {
    "duration": 9,
    "start_time": "2022-01-12T10:21:53.240Z"
   },
   {
    "duration": 1393,
    "start_time": "2022-01-12T10:21:53.250Z"
   },
   {
    "duration": 6,
    "start_time": "2022-01-12T10:21:54.645Z"
   },
   {
    "duration": 88,
    "start_time": "2022-01-12T10:21:54.743Z"
   },
   {
    "duration": -19137,
    "start_time": "2022-01-12T10:22:13.970Z"
   },
   {
    "duration": -19145,
    "start_time": "2022-01-12T10:22:13.979Z"
   },
   {
    "duration": -19152,
    "start_time": "2022-01-12T10:22:13.987Z"
   },
   {
    "duration": -19159,
    "start_time": "2022-01-12T10:22:13.995Z"
   },
   {
    "duration": -19164,
    "start_time": "2022-01-12T10:22:14.001Z"
   },
   {
    "duration": -21211,
    "start_time": "2022-01-12T10:22:16.049Z"
   },
   {
    "duration": -21216,
    "start_time": "2022-01-12T10:22:16.055Z"
   },
   {
    "duration": 3,
    "start_time": "2022-01-12T10:28:48.051Z"
   },
   {
    "duration": 13,
    "start_time": "2022-01-12T10:28:48.062Z"
   },
   {
    "duration": 51,
    "start_time": "2022-01-12T10:28:48.077Z"
   },
   {
    "duration": 10,
    "start_time": "2022-01-12T10:28:48.131Z"
   },
   {
    "duration": 12,
    "start_time": "2022-01-12T10:28:48.143Z"
   },
   {
    "duration": 401,
    "start_time": "2022-01-12T10:28:48.157Z"
   },
   {
    "duration": 13,
    "start_time": "2022-01-12T10:28:48.559Z"
   },
   {
    "duration": 36,
    "start_time": "2022-01-12T10:28:48.574Z"
   },
   {
    "duration": 34,
    "start_time": "2022-01-12T10:28:48.611Z"
   },
   {
    "duration": 12031,
    "start_time": "2022-01-12T10:28:48.648Z"
   },
   {
    "duration": 230,
    "start_time": "2022-01-12T10:29:00.681Z"
   },
   {
    "duration": 9,
    "start_time": "2022-01-12T10:29:00.913Z"
   },
   {
    "duration": 19,
    "start_time": "2022-01-12T10:29:00.924Z"
   },
   {
    "duration": 28,
    "start_time": "2022-01-12T10:29:00.945Z"
   },
   {
    "duration": 12,
    "start_time": "2022-01-12T10:29:00.975Z"
   },
   {
    "duration": 33,
    "start_time": "2022-01-12T10:29:00.989Z"
   },
   {
    "duration": 3221,
    "start_time": "2022-01-12T10:29:01.024Z"
   },
   {
    "duration": 95,
    "start_time": "2022-01-12T10:29:04.248Z"
   },
   {
    "duration": 123,
    "start_time": "2022-01-12T10:29:04.345Z"
   },
   {
    "duration": -1454,
    "start_time": "2022-01-12T10:29:05.924Z"
   },
   {
    "duration": -1459,
    "start_time": "2022-01-12T10:29:05.930Z"
   },
   {
    "duration": -1464,
    "start_time": "2022-01-12T10:29:05.936Z"
   },
   {
    "duration": -1469,
    "start_time": "2022-01-12T10:29:05.943Z"
   },
   {
    "duration": -1476,
    "start_time": "2022-01-12T10:29:05.951Z"
   },
   {
    "duration": -1496,
    "start_time": "2022-01-12T10:29:05.972Z"
   },
   {
    "duration": -1502,
    "start_time": "2022-01-12T10:29:05.979Z"
   },
   {
    "duration": 3,
    "start_time": "2022-01-12T10:30:38.592Z"
   },
   {
    "duration": 243,
    "start_time": "2022-01-12T10:30:39.011Z"
   },
   {
    "duration": 3,
    "start_time": "2022-01-12T10:30:45.920Z"
   },
   {
    "duration": 23,
    "start_time": "2022-01-12T10:30:45.925Z"
   },
   {
    "duration": 59,
    "start_time": "2022-01-12T10:30:45.950Z"
   },
   {
    "duration": 2,
    "start_time": "2022-01-12T10:30:46.012Z"
   },
   {
    "duration": 12,
    "start_time": "2022-01-12T10:30:46.015Z"
   },
   {
    "duration": 365,
    "start_time": "2022-01-12T10:30:46.029Z"
   },
   {
    "duration": 11,
    "start_time": "2022-01-12T10:30:46.395Z"
   },
   {
    "duration": 42,
    "start_time": "2022-01-12T10:30:46.407Z"
   },
   {
    "duration": 12,
    "start_time": "2022-01-12T10:30:46.452Z"
   },
   {
    "duration": 11117,
    "start_time": "2022-01-12T10:30:46.466Z"
   },
   {
    "duration": 215,
    "start_time": "2022-01-12T10:30:57.585Z"
   },
   {
    "duration": 7,
    "start_time": "2022-01-12T10:30:57.802Z"
   },
   {
    "duration": 10,
    "start_time": "2022-01-12T10:30:57.810Z"
   },
   {
    "duration": 23,
    "start_time": "2022-01-12T10:30:57.821Z"
   },
   {
    "duration": 9,
    "start_time": "2022-01-12T10:30:57.846Z"
   },
   {
    "duration": 9,
    "start_time": "2022-01-12T10:30:57.857Z"
   },
   {
    "duration": 3277,
    "start_time": "2022-01-12T10:30:57.868Z"
   },
   {
    "duration": 95,
    "start_time": "2022-01-12T10:31:01.147Z"
   },
   {
    "duration": 144,
    "start_time": "2022-01-12T10:31:01.244Z"
   },
   {
    "duration": -1416,
    "start_time": "2022-01-12T10:31:02.806Z"
   },
   {
    "duration": -1419,
    "start_time": "2022-01-12T10:31:02.811Z"
   },
   {
    "duration": -1434,
    "start_time": "2022-01-12T10:31:02.827Z"
   },
   {
    "duration": -1443,
    "start_time": "2022-01-12T10:31:02.837Z"
   },
   {
    "duration": -1448,
    "start_time": "2022-01-12T10:31:02.844Z"
   },
   {
    "duration": -1452,
    "start_time": "2022-01-12T10:31:02.849Z"
   },
   {
    "duration": -1455,
    "start_time": "2022-01-12T10:31:02.854Z"
   },
   {
    "duration": 3,
    "start_time": "2022-01-12T10:34:30.380Z"
   },
   {
    "duration": 35,
    "start_time": "2022-01-12T10:34:30.385Z"
   },
   {
    "duration": 69,
    "start_time": "2022-01-12T10:34:30.422Z"
   },
   {
    "duration": 3,
    "start_time": "2022-01-12T10:34:30.495Z"
   },
   {
    "duration": 21,
    "start_time": "2022-01-12T10:34:30.500Z"
   },
   {
    "duration": 433,
    "start_time": "2022-01-12T10:34:30.523Z"
   },
   {
    "duration": 13,
    "start_time": "2022-01-12T10:34:30.958Z"
   },
   {
    "duration": 12407,
    "start_time": "2022-01-12T10:34:30.973Z"
   },
   {
    "duration": 8,
    "start_time": "2022-01-12T10:34:43.383Z"
   },
   {
    "duration": 11,
    "start_time": "2022-01-12T10:34:43.393Z"
   },
   {
    "duration": 9,
    "start_time": "2022-01-12T10:34:43.406Z"
   },
   {
    "duration": 3329,
    "start_time": "2022-01-12T10:34:43.417Z"
   },
   {
    "duration": 93,
    "start_time": "2022-01-12T10:34:46.748Z"
   },
   {
    "duration": 90,
    "start_time": "2022-01-12T10:34:46.844Z"
   },
   {
    "duration": -1531,
    "start_time": "2022-01-12T10:34:48.467Z"
   },
   {
    "duration": -1541,
    "start_time": "2022-01-12T10:34:48.478Z"
   },
   {
    "duration": -1568,
    "start_time": "2022-01-12T10:34:48.506Z"
   },
   {
    "duration": -1578,
    "start_time": "2022-01-12T10:34:48.517Z"
   },
   {
    "duration": -1592,
    "start_time": "2022-01-12T10:34:48.532Z"
   },
   {
    "duration": -1603,
    "start_time": "2022-01-12T10:34:48.544Z"
   },
   {
    "duration": -1615,
    "start_time": "2022-01-12T10:34:48.557Z"
   },
   {
    "duration": 673,
    "start_time": "2022-01-12T10:36:58.168Z"
   },
   {
    "duration": 671,
    "start_time": "2022-01-12T10:42:51.050Z"
   },
   {
    "duration": 573,
    "start_time": "2022-01-12T10:46:19.170Z"
   },
   {
    "duration": 3943,
    "start_time": "2022-01-12T10:46:57.211Z"
   },
   {
    "duration": 12,
    "start_time": "2022-01-12T10:47:45.111Z"
   },
   {
    "duration": 2656,
    "start_time": "2022-01-12T10:47:47.487Z"
   },
   {
    "duration": 3,
    "start_time": "2022-01-12T10:49:03.693Z"
   },
   {
    "duration": 19,
    "start_time": "2022-01-12T10:49:03.698Z"
   },
   {
    "duration": 53,
    "start_time": "2022-01-12T10:49:03.720Z"
   },
   {
    "duration": 2,
    "start_time": "2022-01-12T10:49:03.776Z"
   },
   {
    "duration": 10,
    "start_time": "2022-01-12T10:49:03.779Z"
   },
   {
    "duration": 434,
    "start_time": "2022-01-12T10:49:03.790Z"
   },
   {
    "duration": 22,
    "start_time": "2022-01-12T10:49:04.226Z"
   },
   {
    "duration": 12045,
    "start_time": "2022-01-12T10:49:04.251Z"
   },
   {
    "duration": 8,
    "start_time": "2022-01-12T10:49:16.298Z"
   },
   {
    "duration": 12,
    "start_time": "2022-01-12T10:49:16.307Z"
   },
   {
    "duration": 28,
    "start_time": "2022-01-12T10:49:16.320Z"
   },
   {
    "duration": 3597,
    "start_time": "2022-01-12T10:49:16.350Z"
   },
   {
    "duration": 700,
    "start_time": "2022-01-12T10:49:19.949Z"
   },
   {
    "duration": 590,
    "start_time": "2022-01-12T10:49:20.651Z"
   },
   {
    "duration": 704,
    "start_time": "2022-01-12T10:49:21.246Z"
   },
   {
    "duration": 106,
    "start_time": "2022-01-12T10:49:22.045Z"
   },
   {
    "duration": 4,
    "start_time": "2022-01-12T10:49:22.153Z"
   },
   {
    "duration": 85,
    "start_time": "2022-01-12T10:49:22.159Z"
   },
   {
    "duration": -3817,
    "start_time": "2022-01-12T10:49:26.063Z"
   },
   {
    "duration": -3855,
    "start_time": "2022-01-12T10:49:26.103Z"
   },
   {
    "duration": -3884,
    "start_time": "2022-01-12T10:49:26.133Z"
   },
   {
    "duration": -3891,
    "start_time": "2022-01-12T10:49:26.142Z"
   },
   {
    "duration": -3899,
    "start_time": "2022-01-12T10:49:26.152Z"
   },
   {
    "duration": -3929,
    "start_time": "2022-01-12T10:49:26.183Z"
   },
   {
    "duration": -3936,
    "start_time": "2022-01-12T10:49:26.192Z"
   },
   {
    "duration": 2020,
    "start_time": "2022-01-12T10:49:31.723Z"
   },
   {
    "duration": 5,
    "start_time": "2022-01-12T10:49:52.171Z"
   },
   {
    "duration": 3,
    "start_time": "2022-01-12T10:50:54.260Z"
   },
   {
    "duration": 17,
    "start_time": "2022-01-12T10:50:54.265Z"
   },
   {
    "duration": 50,
    "start_time": "2022-01-12T10:50:54.284Z"
   },
   {
    "duration": 3,
    "start_time": "2022-01-12T10:50:54.340Z"
   },
   {
    "duration": 8,
    "start_time": "2022-01-12T10:50:54.345Z"
   },
   {
    "duration": 378,
    "start_time": "2022-01-12T10:50:54.355Z"
   },
   {
    "duration": 15,
    "start_time": "2022-01-12T10:50:54.734Z"
   },
   {
    "duration": 12149,
    "start_time": "2022-01-12T10:50:54.750Z"
   },
   {
    "duration": 7,
    "start_time": "2022-01-12T10:51:06.902Z"
   },
   {
    "duration": 36,
    "start_time": "2022-01-12T10:51:06.911Z"
   },
   {
    "duration": 13,
    "start_time": "2022-01-12T10:51:06.948Z"
   },
   {
    "duration": 3892,
    "start_time": "2022-01-12T10:51:06.962Z"
   },
   {
    "duration": 814,
    "start_time": "2022-01-12T10:51:10.856Z"
   },
   {
    "duration": 878,
    "start_time": "2022-01-12T10:51:11.673Z"
   },
   {
    "duration": 786,
    "start_time": "2022-01-12T10:51:12.555Z"
   },
   {
    "duration": 5,
    "start_time": "2022-01-12T10:51:13.344Z"
   },
   {
    "duration": 1093,
    "start_time": "2022-01-12T10:51:13.351Z"
   },
   {
    "duration": 99,
    "start_time": "2022-01-12T10:51:14.446Z"
   },
   {
    "duration": 6,
    "start_time": "2022-01-12T10:51:14.548Z"
   },
   {
    "duration": 1397,
    "start_time": "2022-01-12T10:51:14.556Z"
   },
   {
    "duration": 139319,
    "start_time": "2022-01-12T10:51:15.955Z"
   },
   {
    "duration": 536537,
    "start_time": "2022-01-12T10:53:35.276Z"
   },
   {
    "duration": -1638,
    "start_time": "2022-01-12T11:39:12.692Z"
   },
   {
    "duration": -1668,
    "start_time": "2022-01-12T11:39:12.723Z"
   },
   {
    "duration": -1677,
    "start_time": "2022-01-12T11:39:12.733Z"
   },
   {
    "duration": -1686,
    "start_time": "2022-01-12T11:39:12.743Z"
   },
   {
    "duration": -1697,
    "start_time": "2022-01-12T11:39:12.755Z"
   },
   {
    "duration": -1721,
    "start_time": "2022-01-12T11:39:12.780Z"
   },
   {
    "duration": -1730,
    "start_time": "2022-01-12T11:39:12.790Z"
   },
   {
    "duration": -1741,
    "start_time": "2022-01-12T11:39:12.802Z"
   },
   {
    "duration": -1771,
    "start_time": "2022-01-12T11:39:12.833Z"
   },
   {
    "duration": -1790,
    "start_time": "2022-01-12T11:39:12.853Z"
   },
   {
    "duration": -1799,
    "start_time": "2022-01-12T11:39:12.863Z"
   },
   {
    "duration": -1818,
    "start_time": "2022-01-12T11:39:12.883Z"
   },
   {
    "duration": -1828,
    "start_time": "2022-01-12T11:39:12.893Z"
   },
   {
    "duration": -1837,
    "start_time": "2022-01-12T11:39:12.903Z"
   },
   {
    "duration": -1849,
    "start_time": "2022-01-12T11:39:12.916Z"
   },
   {
    "duration": -1858,
    "start_time": "2022-01-12T11:39:12.926Z"
   },
   {
    "duration": -1867,
    "start_time": "2022-01-12T11:39:12.938Z"
   },
   {
    "duration": -1882,
    "start_time": "2022-01-12T11:39:12.954Z"
   },
   {
    "duration": -1901,
    "start_time": "2022-01-12T11:39:12.974Z"
   },
   {
    "duration": -1935,
    "start_time": "2022-01-12T11:39:13.009Z"
   },
   {
    "duration": -1946,
    "start_time": "2022-01-12T11:39:13.021Z"
   },
   {
    "duration": -1953,
    "start_time": "2022-01-12T11:39:13.029Z"
   },
   {
    "duration": 652,
    "start_time": "2022-01-12T11:40:14.333Z"
   },
   {
    "duration": 3,
    "start_time": "2022-01-12T11:40:14.987Z"
   },
   {
    "duration": 15,
    "start_time": "2022-01-12T11:40:14.992Z"
   },
   {
    "duration": 65,
    "start_time": "2022-01-12T11:40:15.009Z"
   },
   {
    "duration": 2,
    "start_time": "2022-01-12T11:40:15.077Z"
   },
   {
    "duration": 56,
    "start_time": "2022-01-12T11:40:15.081Z"
   },
   {
    "duration": 416,
    "start_time": "2022-01-12T11:40:15.139Z"
   },
   {
    "duration": 14,
    "start_time": "2022-01-12T11:40:15.558Z"
   },
   {
    "duration": 11935,
    "start_time": "2022-01-12T11:40:15.575Z"
   },
   {
    "duration": 8,
    "start_time": "2022-01-12T11:40:27.512Z"
   },
   {
    "duration": 28,
    "start_time": "2022-01-12T11:40:27.522Z"
   },
   {
    "duration": 36,
    "start_time": "2022-01-12T11:40:27.552Z"
   },
   {
    "duration": 5452,
    "start_time": "2022-01-12T11:40:27.591Z"
   },
   {
    "duration": 749,
    "start_time": "2022-01-12T11:40:33.045Z"
   },
   {
    "duration": 5,
    "start_time": "2022-01-12T11:40:33.796Z"
   },
   {
    "duration": 1660,
    "start_time": "2022-01-12T11:40:33.803Z"
   },
   {
    "duration": 179636,
    "start_time": "2022-01-12T11:40:35.466Z"
   },
   {
    "duration": 2392865,
    "start_time": "2022-01-12T11:43:35.104Z"
   },
   {
    "duration": 8223,
    "start_time": "2022-01-12T12:23:27.971Z"
   },
   {
    "duration": 290,
    "start_time": "2022-01-12T12:23:36.196Z"
   },
   {
    "duration": -1663,
    "start_time": "2022-01-12T12:23:38.151Z"
   },
   {
    "duration": -1674,
    "start_time": "2022-01-12T12:23:38.164Z"
   },
   {
    "duration": -1694,
    "start_time": "2022-01-12T12:23:38.185Z"
   },
   {
    "duration": 314278,
    "start_time": "2022-01-12T12:23:44.689Z"
   },
   {
    "duration": 7570,
    "start_time": "2022-01-12T12:28:58.969Z"
   },
   {
    "duration": 6,
    "start_time": "2022-01-12T12:29:06.543Z"
   },
   {
    "duration": 2365,
    "start_time": "2022-01-12T12:29:06.553Z"
   },
   {
    "duration": 919,
    "start_time": "2022-01-12T12:29:08.920Z"
   },
   {
    "duration": 272,
    "start_time": "2022-01-12T12:29:09.841Z"
   },
   {
    "duration": 248,
    "start_time": "2022-01-12T12:29:10.115Z"
   },
   {
    "duration": 6,
    "start_time": "2022-01-12T12:29:10.365Z"
   },
   {
    "duration": 181,
    "start_time": "2022-01-12T12:29:10.373Z"
   },
   {
    "duration": 116,
    "start_time": "2022-01-12T12:29:10.557Z"
   },
   {
    "duration": 223,
    "start_time": "2022-01-12T12:29:10.676Z"
   },
   {
    "duration": 203,
    "start_time": "2022-01-12T12:29:10.901Z"
   },
   {
    "duration": 86,
    "start_time": "2022-01-12T12:29:11.106Z"
   },
   {
    "duration": 320,
    "start_time": "2022-01-12T12:29:11.194Z"
   },
   {
    "duration": 6,
    "start_time": "2022-01-12T12:29:48.825Z"
   },
   {
    "duration": 614124,
    "start_time": "2022-01-12T12:30:02.397Z"
   },
   {
    "duration": 1249563,
    "start_time": "2022-01-12T12:40:16.524Z"
   },
   {
    "duration": 4,
    "start_time": "2022-01-12T13:01:06.089Z"
   },
   {
    "duration": 161,
    "start_time": "2022-01-12T13:01:06.096Z"
   },
   {
    "duration": 732,
    "start_time": "2022-01-12T13:01:06.259Z"
   },
   {
    "duration": 6003,
    "start_time": "2022-01-12T13:01:06.993Z"
   },
   {
    "duration": 181,
    "start_time": "2022-01-12T13:01:12.999Z"
   },
   {
    "duration": 5,
    "start_time": "2022-01-12T13:01:13.182Z"
   },
   {
    "duration": 59,
    "start_time": "2022-01-12T13:01:13.191Z"
   },
   {
    "duration": 222,
    "start_time": "2022-01-12T13:01:13.253Z"
   },
   {
    "duration": 146,
    "start_time": "2022-01-12T13:01:13.477Z"
   },
   {
    "duration": 169,
    "start_time": "2022-01-12T13:01:13.626Z"
   },
   {
    "duration": 108,
    "start_time": "2022-01-12T13:01:13.797Z"
   },
   {
    "duration": 274,
    "start_time": "2022-01-12T13:01:13.907Z"
   },
   {
    "duration": 238134,
    "start_time": "2022-01-12T13:01:19.331Z"
   },
   {
    "duration": 50,
    "start_time": "2022-01-12T13:08:46.352Z"
   },
   {
    "duration": 7454,
    "start_time": "2022-01-12T13:11:27.819Z"
   },
   {
    "duration": 305107,
    "start_time": "2022-01-12T13:11:38.135Z"
   },
   {
    "duration": 4,
    "start_time": "2022-01-12T13:28:43.325Z"
   },
   {
    "duration": 81,
    "start_time": "2022-01-12T13:28:43.331Z"
   },
   {
    "duration": 774,
    "start_time": "2022-01-12T13:28:43.416Z"
   },
   {
    "duration": 4478,
    "start_time": "2022-01-12T13:28:44.192Z"
   },
   {
    "duration": 146870,
    "start_time": "2022-01-12T13:28:48.673Z"
   },
   {
    "duration": 3,
    "start_time": "2022-01-12T13:31:15.545Z"
   },
   {
    "duration": 98,
    "start_time": "2022-01-12T13:31:15.550Z"
   },
   {
    "duration": 126,
    "start_time": "2022-01-12T13:31:15.652Z"
   },
   {
    "duration": 118,
    "start_time": "2022-01-12T13:31:15.781Z"
   },
   {
    "duration": 254,
    "start_time": "2022-01-12T13:31:15.901Z"
   },
   {
    "duration": 105,
    "start_time": "2022-01-12T13:31:16.158Z"
   },
   {
    "duration": 251,
    "start_time": "2022-01-12T13:31:16.265Z"
   },
   {
    "duration": 8917,
    "start_time": "2022-01-12T14:09:20.836Z"
   },
   {
    "duration": -2007,
    "start_time": "2022-01-12T14:09:31.762Z"
   },
   {
    "duration": -2014,
    "start_time": "2022-01-12T14:09:31.770Z"
   },
   {
    "duration": -2020,
    "start_time": "2022-01-12T14:09:31.777Z"
   },
   {
    "duration": -2025,
    "start_time": "2022-01-12T14:09:31.783Z"
   },
   {
    "duration": -2030,
    "start_time": "2022-01-12T14:09:31.789Z"
   },
   {
    "duration": -2035,
    "start_time": "2022-01-12T14:09:31.795Z"
   },
   {
    "duration": -2041,
    "start_time": "2022-01-12T14:09:31.801Z"
   },
   {
    "duration": -2045,
    "start_time": "2022-01-12T14:09:31.806Z"
   },
   {
    "duration": -2050,
    "start_time": "2022-01-12T14:09:31.812Z"
   },
   {
    "duration": -2055,
    "start_time": "2022-01-12T14:09:31.818Z"
   },
   {
    "duration": -2061,
    "start_time": "2022-01-12T14:09:31.824Z"
   },
   {
    "duration": -2065,
    "start_time": "2022-01-12T14:09:31.829Z"
   },
   {
    "duration": -2069,
    "start_time": "2022-01-12T14:09:31.834Z"
   },
   {
    "duration": -2081,
    "start_time": "2022-01-12T14:09:31.847Z"
   },
   {
    "duration": -2086,
    "start_time": "2022-01-12T14:09:31.853Z"
   },
   {
    "duration": -2091,
    "start_time": "2022-01-12T14:09:31.859Z"
   },
   {
    "duration": -2097,
    "start_time": "2022-01-12T14:09:31.866Z"
   },
   {
    "duration": -2102,
    "start_time": "2022-01-12T14:09:31.872Z"
   },
   {
    "duration": -2107,
    "start_time": "2022-01-12T14:09:31.878Z"
   },
   {
    "duration": -2112,
    "start_time": "2022-01-12T14:09:31.884Z"
   },
   {
    "duration": -2116,
    "start_time": "2022-01-12T14:09:31.889Z"
   },
   {
    "duration": -2120,
    "start_time": "2022-01-12T14:09:31.894Z"
   },
   {
    "duration": -2125,
    "start_time": "2022-01-12T14:09:31.900Z"
   },
   {
    "duration": -2129,
    "start_time": "2022-01-12T14:09:31.905Z"
   },
   {
    "duration": -2134,
    "start_time": "2022-01-12T14:09:31.911Z"
   },
   {
    "duration": -2138,
    "start_time": "2022-01-12T14:09:31.916Z"
   },
   {
    "duration": -2143,
    "start_time": "2022-01-12T14:09:31.922Z"
   },
   {
    "duration": -2147,
    "start_time": "2022-01-12T14:09:31.927Z"
   },
   {
    "duration": -2151,
    "start_time": "2022-01-12T14:09:31.933Z"
   },
   {
    "duration": -2156,
    "start_time": "2022-01-12T14:09:31.939Z"
   },
   {
    "duration": -2166,
    "start_time": "2022-01-12T14:09:31.950Z"
   },
   {
    "duration": -2172,
    "start_time": "2022-01-12T14:09:31.957Z"
   },
   {
    "duration": 6604,
    "start_time": "2022-01-12T14:09:49.363Z"
   },
   {
    "duration": 2402,
    "start_time": "2022-01-12T14:09:55.970Z"
   },
   {
    "duration": 3,
    "start_time": "2022-01-12T14:09:58.375Z"
   },
   {
    "duration": 1202,
    "start_time": "2022-01-12T14:09:58.381Z"
   },
   {
    "duration": 20,
    "start_time": "2022-01-12T14:09:59.585Z"
   },
   {
    "duration": 131,
    "start_time": "2022-01-12T14:09:59.607Z"
   },
   {
    "duration": 113,
    "start_time": "2022-01-12T14:09:59.741Z"
   },
   {
    "duration": 127,
    "start_time": "2022-01-12T14:09:59.856Z"
   },
   {
    "duration": 478,
    "start_time": "2022-01-12T14:09:59.986Z"
   },
   {
    "duration": 4,
    "start_time": "2022-01-12T14:10:00.466Z"
   },
   {
    "duration": 1809,
    "start_time": "2022-01-12T14:10:00.473Z"
   },
   {
    "duration": 14,
    "start_time": "2022-01-12T14:10:02.284Z"
   },
   {
    "duration": 157,
    "start_time": "2022-01-12T14:10:02.300Z"
   },
   {
    "duration": 128,
    "start_time": "2022-01-12T14:10:02.459Z"
   },
   {
    "duration": 124,
    "start_time": "2022-01-12T14:10:02.588Z"
   },
   {
    "duration": 3,
    "start_time": "2022-01-12T14:10:02.714Z"
   },
   {
    "duration": 75045,
    "start_time": "2022-01-12T14:10:02.719Z"
   },
   {
    "duration": 122,
    "start_time": "2022-01-12T14:11:17.766Z"
   },
   {
    "duration": 424,
    "start_time": "2022-01-12T14:11:17.890Z"
   },
   {
    "duration": 32,
    "start_time": "2022-01-12T14:11:18.316Z"
   },
   {
    "duration": 301,
    "start_time": "2022-01-12T14:11:18.350Z"
   },
   {
    "duration": 19,
    "start_time": "2022-01-12T14:11:18.653Z"
   },
   {
    "duration": 6,
    "start_time": "2022-01-12T14:11:18.674Z"
   },
   {
    "duration": 22796,
    "start_time": "2022-01-12T14:11:18.681Z"
   },
   {
    "duration": 333,
    "start_time": "2022-01-12T14:11:41.479Z"
   },
   {
    "duration": 29,
    "start_time": "2022-01-12T14:11:41.814Z"
   },
   {
    "duration": 2233,
    "start_time": "2022-01-12T14:11:41.847Z"
   },
   {
    "duration": 3,
    "start_time": "2022-01-12T14:11:44.083Z"
   },
   {
    "duration": 41,
    "start_time": "2022-01-12T14:11:44.088Z"
   },
   {
    "duration": 112,
    "start_time": "2022-01-12T14:11:44.131Z"
   },
   {
    "duration": 57,
    "start_time": "2022-01-12T14:11:44.245Z"
   },
   {
    "duration": 72,
    "start_time": "2022-01-12T14:11:44.304Z"
   },
   {
    "duration": 119,
    "start_time": "2022-01-12T14:11:44.378Z"
   },
   {
    "duration": 45,
    "start_time": "2022-01-12T14:11:44.499Z"
   },
   {
    "duration": 16,
    "start_time": "2022-01-12T14:11:44.545Z"
   },
   {
    "duration": 57,
    "start_time": "2022-01-12T14:11:44.563Z"
   },
   {
    "duration": 15,
    "start_time": "2022-01-12T14:11:44.622Z"
   },
   {
    "duration": 3,
    "start_time": "2022-01-12T14:11:44.640Z"
   },
   {
    "duration": 20175,
    "start_time": "2022-01-12T14:11:44.647Z"
   },
   {
    "duration": 17,
    "start_time": "2022-01-12T14:12:04.824Z"
   },
   {
    "duration": 372,
    "start_time": "2022-01-12T14:12:04.843Z"
   },
   {
    "duration": 124,
    "start_time": "2022-01-12T14:12:05.218Z"
   },
   {
    "duration": 3,
    "start_time": "2022-01-12T14:12:05.345Z"
   },
   {
    "duration": 11,
    "start_time": "2022-01-12T14:12:05.350Z"
   },
   {
    "duration": 6,
    "start_time": "2022-01-12T14:12:05.363Z"
   },
   {
    "duration": 11,
    "start_time": "2022-01-12T14:12:05.370Z"
   },
   {
    "duration": 6,
    "start_time": "2022-01-12T14:12:05.382Z"
   },
   {
    "duration": 1065,
    "start_time": "2022-01-12T14:12:05.389Z"
   },
   {
    "duration": 104,
    "start_time": "2022-01-12T14:12:06.457Z"
   },
   {
    "duration": 11,
    "start_time": "2022-01-12T14:12:06.563Z"
   },
   {
    "duration": 1735,
    "start_time": "2022-01-12T14:12:06.576Z"
   },
   {
    "duration": 2,
    "start_time": "2022-01-12T14:12:08.313Z"
   },
   {
    "duration": 24,
    "start_time": "2022-01-12T14:12:08.317Z"
   },
   {
    "duration": 70,
    "start_time": "2022-01-12T14:12:08.343Z"
   },
   {
    "duration": 3,
    "start_time": "2022-01-12T14:12:08.415Z"
   },
   {
    "duration": 384,
    "start_time": "2022-01-12T14:12:08.420Z"
   },
   {
    "duration": 12,
    "start_time": "2022-01-12T14:12:08.806Z"
   },
   {
    "duration": 13568,
    "start_time": "2022-01-12T14:12:08.819Z"
   },
   {
    "duration": 8,
    "start_time": "2022-01-12T14:12:22.389Z"
   },
   {
    "duration": 17,
    "start_time": "2022-01-12T14:12:22.398Z"
   },
   {
    "duration": 32,
    "start_time": "2022-01-12T14:12:22.418Z"
   },
   {
    "duration": 3891,
    "start_time": "2022-01-12T14:12:22.452Z"
   },
   {
    "duration": 720,
    "start_time": "2022-01-12T14:12:26.346Z"
   },
   {
    "duration": 4,
    "start_time": "2022-01-12T14:12:27.068Z"
   },
   {
    "duration": 1700,
    "start_time": "2022-01-12T14:12:27.074Z"
   },
   {
    "duration": 177127,
    "start_time": "2022-01-12T14:12:28.776Z"
   },
   {
    "duration": 573006,
    "start_time": "2022-01-12T14:15:25.905Z"
   },
   {
    "duration": 160332,
    "start_time": "2022-01-12T14:24:58.913Z"
   },
   {
    "duration": 4,
    "start_time": "2022-01-12T14:27:39.247Z"
   },
   {
    "duration": 125,
    "start_time": "2022-01-12T14:27:39.252Z"
   },
   {
    "duration": 683,
    "start_time": "2022-01-12T14:27:39.379Z"
   },
   {
    "duration": 3613,
    "start_time": "2022-01-12T14:27:40.064Z"
   },
   {
    "duration": 2475,
    "start_time": "2022-01-12T14:27:43.679Z"
   },
   {
    "duration": 85,
    "start_time": "2022-01-12T14:27:46.156Z"
   },
   {
    "duration": 100,
    "start_time": "2022-01-12T14:27:46.243Z"
   },
   {
    "duration": 128,
    "start_time": "2022-01-12T14:27:46.348Z"
   },
   {
    "duration": 119,
    "start_time": "2022-01-12T14:27:46.478Z"
   },
   {
    "duration": 245,
    "start_time": "2022-01-12T14:27:46.599Z"
   },
   {
    "duration": 70,
    "start_time": "2022-01-12T14:27:46.845Z"
   },
   {
    "duration": 507,
    "start_time": "2022-01-12T14:27:46.917Z"
   },
   {
    "duration": 509,
    "start_time": "2022-01-12T14:39:25.617Z"
   },
   {
    "duration": 520,
    "start_time": "2022-01-12T14:40:25.849Z"
   },
   {
    "duration": 278,
    "start_time": "2022-01-12T14:40:38.691Z"
   },
   {
    "duration": 2094,
    "start_time": "2022-01-12T18:23:20.822Z"
   },
   {
    "duration": 1297,
    "start_time": "2022-01-12T18:23:22.919Z"
   },
   {
    "duration": 3,
    "start_time": "2022-01-12T18:23:24.222Z"
   },
   {
    "duration": 840,
    "start_time": "2022-01-12T18:23:24.227Z"
   },
   {
    "duration": 20,
    "start_time": "2022-01-12T18:23:25.068Z"
   },
   {
    "duration": 141,
    "start_time": "2022-01-12T18:23:25.090Z"
   },
   {
    "duration": 108,
    "start_time": "2022-01-12T18:23:25.234Z"
   },
   {
    "duration": 139,
    "start_time": "2022-01-12T18:23:25.344Z"
   },
   {
    "duration": 481,
    "start_time": "2022-01-12T18:23:25.484Z"
   },
   {
    "duration": 5,
    "start_time": "2022-01-12T18:23:25.968Z"
   },
   {
    "duration": 1767,
    "start_time": "2022-01-12T18:23:25.974Z"
   },
   {
    "duration": 13,
    "start_time": "2022-01-12T18:23:27.743Z"
   },
   {
    "duration": 161,
    "start_time": "2022-01-12T18:23:27.758Z"
   },
   {
    "duration": 112,
    "start_time": "2022-01-12T18:23:27.921Z"
   },
   {
    "duration": 114,
    "start_time": "2022-01-12T18:23:28.035Z"
   },
   {
    "duration": 3,
    "start_time": "2022-01-12T18:23:28.150Z"
   },
   {
    "duration": 94092,
    "start_time": "2022-01-12T18:23:28.155Z"
   },
   {
    "duration": 62,
    "start_time": "2022-01-12T18:25:02.250Z"
   },
   {
    "duration": 299,
    "start_time": "2022-01-12T18:25:02.314Z"
   },
   {
    "duration": 35,
    "start_time": "2022-01-12T18:25:02.616Z"
   },
   {
    "duration": 502,
    "start_time": "2022-01-12T18:25:02.657Z"
   },
   {
    "duration": 30,
    "start_time": "2022-01-12T18:25:03.162Z"
   },
   {
    "duration": 12,
    "start_time": "2022-01-12T18:25:03.194Z"
   },
   {
    "duration": 35675,
    "start_time": "2022-01-12T18:25:03.208Z"
   },
   {
    "duration": 550,
    "start_time": "2022-01-12T18:25:38.885Z"
   },
   {
    "duration": 31,
    "start_time": "2022-01-12T18:25:39.437Z"
   },
   {
    "duration": 2747,
    "start_time": "2022-01-12T18:25:39.470Z"
   },
   {
    "duration": 3,
    "start_time": "2022-01-12T18:25:42.219Z"
   },
   {
    "duration": 22,
    "start_time": "2022-01-12T18:25:42.223Z"
   },
   {
    "duration": 113,
    "start_time": "2022-01-12T18:25:42.246Z"
   },
   {
    "duration": 31,
    "start_time": "2022-01-12T18:25:42.361Z"
   },
   {
    "duration": 48,
    "start_time": "2022-01-12T18:25:42.394Z"
   },
   {
    "duration": 52,
    "start_time": "2022-01-12T18:25:42.444Z"
   },
   {
    "duration": 46,
    "start_time": "2022-01-12T18:25:42.498Z"
   },
   {
    "duration": 3,
    "start_time": "2022-01-12T18:25:42.546Z"
   },
   {
    "duration": 42,
    "start_time": "2022-01-12T18:25:42.551Z"
   },
   {
    "duration": 12,
    "start_time": "2022-01-12T18:25:42.595Z"
   },
   {
    "duration": 33,
    "start_time": "2022-01-12T18:25:42.609Z"
   },
   {
    "duration": 18475,
    "start_time": "2022-01-12T18:25:42.644Z"
   },
   {
    "duration": 6,
    "start_time": "2022-01-12T18:26:01.121Z"
   },
   {
    "duration": 379,
    "start_time": "2022-01-12T18:26:01.129Z"
   },
   {
    "duration": 128,
    "start_time": "2022-01-12T18:26:01.510Z"
   },
   {
    "duration": 3,
    "start_time": "2022-01-12T18:26:01.641Z"
   },
   {
    "duration": 21,
    "start_time": "2022-01-12T18:26:01.646Z"
   },
   {
    "duration": 30,
    "start_time": "2022-01-12T18:26:01.669Z"
   },
   {
    "duration": 11,
    "start_time": "2022-01-12T18:26:01.701Z"
   },
   {
    "duration": 14,
    "start_time": "2022-01-12T18:26:01.714Z"
   },
   {
    "duration": 387,
    "start_time": "2022-01-12T18:26:01.730Z"
   },
   {
    "duration": 45,
    "start_time": "2022-01-12T18:26:02.119Z"
   },
   {
    "duration": 16,
    "start_time": "2022-01-12T18:26:02.166Z"
   },
   {
    "duration": 1709,
    "start_time": "2022-01-12T18:26:02.185Z"
   },
   {
    "duration": 2,
    "start_time": "2022-01-12T18:26:03.897Z"
   },
   {
    "duration": 24,
    "start_time": "2022-01-12T18:26:03.901Z"
   },
   {
    "duration": 62,
    "start_time": "2022-01-12T18:26:03.927Z"
   },
   {
    "duration": 4,
    "start_time": "2022-01-12T18:26:03.991Z"
   },
   {
    "duration": 404,
    "start_time": "2022-01-12T18:26:03.997Z"
   },
   {
    "duration": 13,
    "start_time": "2022-01-12T18:26:04.403Z"
   },
   {
    "duration": 13892,
    "start_time": "2022-01-12T18:26:04.418Z"
   },
   {
    "duration": 16,
    "start_time": "2022-01-12T18:26:18.313Z"
   },
   {
    "duration": 23,
    "start_time": "2022-01-12T18:26:18.332Z"
   },
   {
    "duration": 19,
    "start_time": "2022-01-12T18:26:18.357Z"
   },
   {
    "duration": 4298,
    "start_time": "2022-01-12T18:26:18.378Z"
   },
   {
    "duration": 978,
    "start_time": "2022-01-12T18:26:22.750Z"
   },
   {
    "duration": 11,
    "start_time": "2022-01-12T18:26:23.733Z"
   },
   {
    "duration": 1909,
    "start_time": "2022-01-12T18:26:23.747Z"
   },
   {
    "duration": 187530,
    "start_time": "2022-01-12T18:26:25.666Z"
   },
   {
    "duration": 2734200,
    "start_time": "2022-01-12T18:29:33.198Z"
   },
   {
    "duration": 2451840,
    "start_time": "2022-01-12T19:15:07.400Z"
   },
   {
    "duration": 3,
    "start_time": "2022-01-12T19:55:59.243Z"
   },
   {
    "duration": 69,
    "start_time": "2022-01-12T19:55:59.248Z"
   },
   {
    "duration": 710,
    "start_time": "2022-01-12T19:55:59.319Z"
   },
   {
    "duration": 17261,
    "start_time": "2022-01-12T19:56:00.031Z"
   },
   {
    "duration": 127963,
    "start_time": "2022-01-12T19:56:17.293Z"
   },
   {
    "duration": 4,
    "start_time": "2022-01-12T19:58:25.258Z"
   },
   {
    "duration": 81,
    "start_time": "2022-01-12T19:58:25.264Z"
   },
   {
    "duration": 130,
    "start_time": "2022-01-12T19:58:25.348Z"
   },
   {
    "duration": 1297,
    "start_time": "2022-01-12T19:58:25.480Z"
   },
   {
    "duration": 16601,
    "start_time": "2022-01-12T19:58:26.779Z"
   },
   {
    "duration": 94,
    "start_time": "2022-01-12T19:58:43.382Z"
   },
   {
    "duration": 379,
    "start_time": "2022-01-12T19:58:43.478Z"
   },
   {
    "duration": 38607,
    "start_time": "2022-01-12T20:05:21.142Z"
   },
   {
    "duration": 275,
    "start_time": "2022-01-12T20:06:55.192Z"
   },
   {
    "duration": 3,
    "start_time": "2022-01-12T20:07:03.310Z"
   },
   {
    "duration": 8342,
    "start_time": "2022-01-12T20:07:03.701Z"
   },
   {
    "duration": 421,
    "start_time": "2022-01-12T20:07:12.044Z"
   },
   {
    "duration": 9997,
    "start_time": "2022-01-12T20:07:48.050Z"
   },
   {
    "duration": 401,
    "start_time": "2022-01-12T20:07:58.049Z"
   },
   {
    "duration": 4,
    "start_time": "2022-01-12T20:11:20.184Z"
   },
   {
    "duration": 69,
    "start_time": "2022-01-12T20:11:20.425Z"
   },
   {
    "duration": 829,
    "start_time": "2022-01-12T20:11:20.647Z"
   },
   {
    "duration": 17573,
    "start_time": "2022-01-12T20:11:21.479Z"
   },
   {
    "duration": 127619,
    "start_time": "2022-01-12T20:11:39.054Z"
   },
   {
    "duration": 4871,
    "start_time": "2022-01-12T20:13:46.675Z"
   },
   {
    "duration": 3,
    "start_time": "2022-01-12T20:13:51.548Z"
   },
   {
    "duration": 89,
    "start_time": "2022-01-12T20:13:51.553Z"
   },
   {
    "duration": 127,
    "start_time": "2022-01-12T20:13:51.645Z"
   },
   {
    "duration": 1394,
    "start_time": "2022-01-12T20:13:51.775Z"
   },
   {
    "duration": 16778,
    "start_time": "2022-01-12T20:13:53.171Z"
   },
   {
    "duration": 304,
    "start_time": "2022-01-12T20:14:09.951Z"
   },
   {
    "duration": 5,
    "start_time": "2022-01-12T20:14:44.664Z"
   },
   {
    "duration": 1689,
    "start_time": "2022-01-12T20:14:44.671Z"
   },
   {
    "duration": 135868,
    "start_time": "2022-01-12T20:14:46.362Z"
   },
   {
    "duration": 6748,
    "start_time": "2022-01-12T20:17:02.232Z"
   },
   {
    "duration": 4940,
    "start_time": "2022-01-12T20:17:04.043Z"
   },
   {
    "duration": 4938,
    "start_time": "2022-01-12T20:17:04.046Z"
   },
   {
    "duration": 4935,
    "start_time": "2022-01-12T20:17:04.050Z"
   },
   {
    "duration": 4932,
    "start_time": "2022-01-12T20:17:04.053Z"
   },
   {
    "duration": 4929,
    "start_time": "2022-01-12T20:17:04.057Z"
   },
   {
    "duration": 4926,
    "start_time": "2022-01-12T20:17:04.061Z"
   },
   {
    "duration": 4924,
    "start_time": "2022-01-12T20:17:04.064Z"
   },
   {
    "duration": 4922,
    "start_time": "2022-01-12T20:17:04.067Z"
   },
   {
    "duration": 4915,
    "start_time": "2022-01-12T20:17:04.075Z"
   },
   {
    "duration": 4912,
    "start_time": "2022-01-12T20:17:04.079Z"
   },
   {
    "duration": 4911,
    "start_time": "2022-01-12T20:17:04.081Z"
   },
   {
    "duration": 4909,
    "start_time": "2022-01-12T20:17:04.084Z"
   },
   {
    "duration": 4907,
    "start_time": "2022-01-12T20:17:04.087Z"
   },
   {
    "duration": 4907,
    "start_time": "2022-01-12T20:17:04.089Z"
   },
   {
    "duration": 4903,
    "start_time": "2022-01-12T20:17:04.094Z"
   },
   {
    "duration": 174584,
    "start_time": "2022-01-12T20:17:15.083Z"
   },
   {
    "duration": 102974,
    "start_time": "2022-01-12T20:20:09.669Z"
   },
   {
    "duration": 99814,
    "start_time": "2022-01-12T20:24:14.149Z"
   },
   {
    "duration": 123782,
    "start_time": "2022-01-12T20:25:53.965Z"
   },
   {
    "duration": 107691,
    "start_time": "2022-01-12T20:27:57.749Z"
   },
   {
    "duration": 4,
    "start_time": "2022-01-12T20:31:52.791Z"
   },
   {
    "duration": 61,
    "start_time": "2022-01-12T20:31:53.136Z"
   },
   {
    "duration": 585,
    "start_time": "2022-01-12T20:31:53.541Z"
   },
   {
    "duration": 5299,
    "start_time": "2022-01-12T20:31:54.127Z"
   },
   {
    "duration": 13530,
    "start_time": "2022-01-12T20:31:59.428Z"
   },
   {
    "duration": 4,
    "start_time": "2022-01-12T20:32:12.960Z"
   },
   {
    "duration": 101,
    "start_time": "2022-01-12T20:32:13.041Z"
   },
   {
    "duration": 128,
    "start_time": "2022-01-12T20:32:13.144Z"
   },
   {
    "duration": 306,
    "start_time": "2022-01-12T20:32:13.274Z"
   },
   {
    "duration": 970,
    "start_time": "2022-01-12T20:32:13.581Z"
   },
   {
    "duration": 127,
    "start_time": "2022-01-12T20:32:14.553Z"
   },
   {
    "duration": 294,
    "start_time": "2022-01-12T20:32:14.682Z"
   },
   {
    "duration": 3,
    "start_time": "2022-01-12T20:34:40.568Z"
   },
   {
    "duration": 4792,
    "start_time": "2022-01-12T20:34:46.464Z"
   },
   {
    "duration": 10869,
    "start_time": "2022-01-12T20:34:59.902Z"
   },
   {
    "duration": 39654,
    "start_time": "2022-01-12T20:35:13.752Z"
   },
   {
    "duration": 116539,
    "start_time": "2022-01-12T20:35:53.408Z"
   },
   {
    "duration": 4,
    "start_time": "2022-01-12T20:37:49.950Z"
   },
   {
    "duration": 15807,
    "start_time": "2022-01-12T20:37:49.955Z"
   },
   {
    "duration": 2948,
    "start_time": "2022-01-12T20:38:05.765Z"
   },
   {
    "duration": 2359,
    "start_time": "2022-01-12T20:38:08.715Z"
   },
   {
    "duration": 7968,
    "start_time": "2022-01-12T20:38:11.077Z"
   },
   {
    "duration": 87,
    "start_time": "2022-01-12T20:43:13.756Z"
   },
   {
    "duration": 658,
    "start_time": "2022-01-12T20:43:13.850Z"
   },
   {
    "duration": 559,
    "start_time": "2022-01-12T20:44:05.909Z"
   },
   {
    "duration": 3,
    "start_time": "2022-01-12T20:44:14.343Z"
   },
   {
    "duration": 15947,
    "start_time": "2022-01-12T20:44:14.513Z"
   },
   {
    "duration": 271,
    "start_time": "2022-01-12T20:44:30.462Z"
   },
   {
    "duration": 16087,
    "start_time": "2022-01-12T20:44:39.554Z"
   },
   {
    "duration": 255,
    "start_time": "2022-01-12T20:44:55.644Z"
   },
   {
    "duration": 90,
    "start_time": "2022-01-12T20:45:11.253Z"
   },
   {
    "duration": 2617,
    "start_time": "2022-01-12T20:45:22.731Z"
   },
   {
    "duration": 34,
    "start_time": "2022-01-12T20:45:29.980Z"
   },
   {
    "duration": 45,
    "start_time": "2022-01-12T20:47:04.196Z"
   },
   {
    "duration": 15985,
    "start_time": "2022-01-12T20:47:15.281Z"
   },
   {
    "duration": 3,
    "start_time": "2022-01-12T20:49:40.669Z"
   },
   {
    "duration": 3,
    "start_time": "2022-01-12T20:49:40.861Z"
   },
   {
    "duration": 16022,
    "start_time": "2022-01-12T20:49:41.233Z"
   },
   {
    "duration": 203,
    "start_time": "2022-01-12T20:49:57.257Z"
   },
   {
    "duration": 4,
    "start_time": "2022-01-12T20:50:11.876Z"
   },
   {
    "duration": 35,
    "start_time": "2022-01-12T20:50:13.757Z"
   },
   {
    "duration": 2778,
    "start_time": "2022-01-12T20:50:19.460Z"
   },
   {
    "duration": 39,
    "start_time": "2022-01-12T20:50:22.242Z"
   },
   {
    "duration": 2700,
    "start_time": "2022-01-12T20:50:57.805Z"
   },
   {
    "duration": 360,
    "start_time": "2022-01-12T20:51:00.508Z"
   },
   {
    "duration": 8781,
    "start_time": "2022-01-12T20:51:00.870Z"
   },
   {
    "duration": 1091,
    "start_time": "2022-01-12T20:51:09.653Z"
   },
   {
    "duration": 145686,
    "start_time": "2022-01-12T20:52:01.164Z"
   },
   {
    "duration": 129435,
    "start_time": "2022-01-12T20:54:37.017Z"
   },
   {
    "duration": 68523,
    "start_time": "2022-01-12T20:57:00.127Z"
   },
   {
    "duration": 130170,
    "start_time": "2022-01-12T20:58:45.672Z"
   },
   {
    "duration": 79477,
    "start_time": "2022-01-12T21:01:26.777Z"
   },
   {
    "duration": 93611,
    "start_time": "2022-01-12T21:02:58.639Z"
   },
   {
    "duration": 102075,
    "start_time": "2022-01-12T21:05:11.587Z"
   },
   {
    "duration": 121539,
    "start_time": "2022-01-12T21:07:50.607Z"
   },
   {
    "duration": 112679,
    "start_time": "2022-01-12T21:10:58.271Z"
   },
   {
    "duration": 78027,
    "start_time": "2022-01-12T21:13:27.026Z"
   },
   {
    "duration": 5797,
    "start_time": "2022-01-12T21:14:45.055Z"
   },
   {
    "duration": 787,
    "start_time": "2022-01-12T21:14:50.855Z"
   },
   {
    "duration": 15727,
    "start_time": "2022-01-12T21:29:07.228Z"
   },
   {
    "duration": 2525,
    "start_time": "2022-01-12T21:29:27.018Z"
   },
   {
    "duration": 2459,
    "start_time": "2022-01-12T21:29:52.715Z"
   },
   {
    "duration": 2271,
    "start_time": "2022-01-12T21:29:58.148Z"
   },
   {
    "duration": 303,
    "start_time": "2022-01-12T21:30:00.421Z"
   },
   {
    "duration": 5830,
    "start_time": "2022-01-12T21:30:00.726Z"
   },
   {
    "duration": 5,
    "start_time": "2022-01-12T21:50:16.283Z"
   },
   {
    "duration": 1671,
    "start_time": "2022-01-12T21:50:16.290Z"
   },
   {
    "duration": 170,
    "start_time": "2022-01-12T21:50:17.963Z"
   },
   {
    "duration": 103457,
    "start_time": "2022-01-12T21:50:18.135Z"
   },
   {
    "duration": 114453,
    "start_time": "2022-01-12T21:52:01.594Z"
   },
   {
    "duration": 4,
    "start_time": "2022-01-12T21:53:56.049Z"
   },
   {
    "duration": 10999,
    "start_time": "2022-01-12T21:53:56.055Z"
   },
   {
    "duration": 5161,
    "start_time": "2022-01-12T21:54:07.056Z"
   },
   {
    "duration": 42029,
    "start_time": "2022-01-12T21:54:12.219Z"
   },
   {
    "duration": 82197,
    "start_time": "2022-01-12T21:54:54.250Z"
   },
   {
    "duration": 3,
    "start_time": "2022-01-12T21:56:16.450Z"
   },
   {
    "duration": 6,
    "start_time": "2022-01-12T21:56:16.454Z"
   },
   {
    "duration": 14997,
    "start_time": "2022-01-12T21:56:16.462Z"
   },
   {
    "duration": 200,
    "start_time": "2022-01-12T21:56:31.462Z"
   },
   {
    "duration": 3148,
    "start_time": "2022-01-12T21:56:31.665Z"
   },
   {
    "duration": 46,
    "start_time": "2022-01-12T21:56:34.815Z"
   },
   {
    "duration": 2432,
    "start_time": "2022-01-12T21:56:34.863Z"
   },
   {
    "duration": 322,
    "start_time": "2022-01-12T21:56:37.296Z"
   },
   {
    "duration": 5622,
    "start_time": "2022-01-12T21:56:37.620Z"
   },
   {
    "duration": 708,
    "start_time": "2022-01-12T21:56:43.244Z"
   },
   {
    "duration": 94,
    "start_time": "2022-01-12T21:56:43.954Z"
   },
   {
    "duration": 291,
    "start_time": "2022-01-12T21:56:44.050Z"
   },
   {
    "duration": 108189,
    "start_time": "2022-01-12T21:56:44.342Z"
   },
   {
    "duration": 4,
    "start_time": "2022-01-12T22:20:38.422Z"
   },
   {
    "duration": 257,
    "start_time": "2022-01-12T22:20:38.811Z"
   },
   {
    "duration": 4,
    "start_time": "2022-01-12T22:20:52.682Z"
   },
   {
    "duration": 16205,
    "start_time": "2022-01-12T22:20:53.036Z"
   },
   {
    "duration": 3,
    "start_time": "2022-01-12T22:21:21.720Z"
   },
   {
    "duration": 15629,
    "start_time": "2022-01-12T22:21:22.322Z"
   },
   {
    "duration": 4,
    "start_time": "2022-01-12T22:22:05.849Z"
   },
   {
    "duration": 16223,
    "start_time": "2022-01-12T22:22:06.319Z"
   },
   {
    "duration": 2002,
    "start_time": "2022-01-12T22:28:16.398Z"
   },
   {
    "duration": 1188,
    "start_time": "2022-01-12T22:28:18.402Z"
   },
   {
    "duration": 2,
    "start_time": "2022-01-12T22:28:19.592Z"
   },
   {
    "duration": 768,
    "start_time": "2022-01-12T22:28:19.596Z"
   },
   {
    "duration": 16,
    "start_time": "2022-01-12T22:28:20.366Z"
   },
   {
    "duration": 134,
    "start_time": "2022-01-12T22:28:20.384Z"
   },
   {
    "duration": 106,
    "start_time": "2022-01-12T22:28:20.520Z"
   },
   {
    "duration": 148,
    "start_time": "2022-01-12T22:28:20.629Z"
   },
   {
    "duration": 527,
    "start_time": "2022-01-12T22:28:20.780Z"
   },
   {
    "duration": 6,
    "start_time": "2022-01-12T22:28:21.309Z"
   },
   {
    "duration": 1719,
    "start_time": "2022-01-12T22:28:21.317Z"
   },
   {
    "duration": 12,
    "start_time": "2022-01-12T22:28:23.041Z"
   },
   {
    "duration": 127,
    "start_time": "2022-01-12T22:28:23.054Z"
   },
   {
    "duration": 114,
    "start_time": "2022-01-12T22:28:23.182Z"
   },
   {
    "duration": 103,
    "start_time": "2022-01-12T22:28:23.297Z"
   },
   {
    "duration": 2,
    "start_time": "2022-01-12T22:28:23.402Z"
   },
   {
    "duration": 56814,
    "start_time": "2022-01-12T22:28:23.406Z"
   },
   {
    "duration": 67,
    "start_time": "2022-01-12T22:29:20.222Z"
   },
   {
    "duration": 277,
    "start_time": "2022-01-12T22:29:20.291Z"
   },
   {
    "duration": 20,
    "start_time": "2022-01-12T22:29:20.570Z"
   },
   {
    "duration": 296,
    "start_time": "2022-01-12T22:29:20.591Z"
   },
   {
    "duration": 19,
    "start_time": "2022-01-12T22:29:20.889Z"
   },
   {
    "duration": 6,
    "start_time": "2022-01-12T22:29:20.911Z"
   },
   {
    "duration": 12548,
    "start_time": "2022-01-12T22:29:20.919Z"
   },
   {
    "duration": 341,
    "start_time": "2022-01-12T22:29:33.469Z"
   },
   {
    "duration": 30,
    "start_time": "2022-01-12T22:29:33.812Z"
   },
   {
    "duration": 2126,
    "start_time": "2022-01-12T22:29:33.843Z"
   },
   {
    "duration": 2,
    "start_time": "2022-01-12T22:29:35.971Z"
   },
   {
    "duration": 19,
    "start_time": "2022-01-12T22:29:35.975Z"
   },
   {
    "duration": 101,
    "start_time": "2022-01-12T22:29:35.995Z"
   },
   {
    "duration": 29,
    "start_time": "2022-01-12T22:29:36.098Z"
   },
   {
    "duration": 41,
    "start_time": "2022-01-12T22:29:36.129Z"
   },
   {
    "duration": 49,
    "start_time": "2022-01-12T22:29:36.171Z"
   },
   {
    "duration": 50,
    "start_time": "2022-01-12T22:29:36.222Z"
   },
   {
    "duration": 7,
    "start_time": "2022-01-12T22:29:36.273Z"
   },
   {
    "duration": 39,
    "start_time": "2022-01-12T22:29:36.281Z"
   },
   {
    "duration": 20,
    "start_time": "2022-01-12T22:29:36.321Z"
   },
   {
    "duration": 3,
    "start_time": "2022-01-12T22:29:36.343Z"
   },
   {
    "duration": 18430,
    "start_time": "2022-01-12T22:29:36.348Z"
   },
   {
    "duration": 5,
    "start_time": "2022-01-12T22:29:54.780Z"
   },
   {
    "duration": 308,
    "start_time": "2022-01-12T22:29:54.787Z"
   },
   {
    "duration": 127,
    "start_time": "2022-01-12T22:29:55.097Z"
   },
   {
    "duration": 3,
    "start_time": "2022-01-12T22:29:55.226Z"
   },
   {
    "duration": 22,
    "start_time": "2022-01-12T22:29:55.230Z"
   },
   {
    "duration": 23,
    "start_time": "2022-01-12T22:29:55.254Z"
   },
   {
    "duration": 15,
    "start_time": "2022-01-12T22:29:55.279Z"
   },
   {
    "duration": 28,
    "start_time": "2022-01-12T22:29:55.296Z"
   },
   {
    "duration": 363,
    "start_time": "2022-01-12T22:29:55.325Z"
   },
   {
    "duration": 35,
    "start_time": "2022-01-12T22:29:55.690Z"
   },
   {
    "duration": 22,
    "start_time": "2022-01-12T22:29:55.727Z"
   },
   {
    "duration": 605,
    "start_time": "2022-01-12T22:29:55.750Z"
   },
   {
    "duration": 2,
    "start_time": "2022-01-12T22:29:56.357Z"
   },
   {
    "duration": 14,
    "start_time": "2022-01-12T22:29:56.360Z"
   },
   {
    "duration": 43,
    "start_time": "2022-01-12T22:29:56.376Z"
   },
   {
    "duration": 2,
    "start_time": "2022-01-12T22:29:56.442Z"
   },
   {
    "duration": 352,
    "start_time": "2022-01-12T22:29:56.446Z"
   },
   {
    "duration": 10,
    "start_time": "2022-01-12T22:29:56.799Z"
   },
   {
    "duration": 12962,
    "start_time": "2022-01-12T22:29:56.811Z"
   },
   {
    "duration": 7,
    "start_time": "2022-01-12T22:30:09.774Z"
   },
   {
    "duration": 15,
    "start_time": "2022-01-12T22:30:09.782Z"
   },
   {
    "duration": 15,
    "start_time": "2022-01-12T22:30:09.799Z"
   },
   {
    "duration": 3629,
    "start_time": "2022-01-12T22:30:09.815Z"
   },
   {
    "duration": 788,
    "start_time": "2022-01-12T22:30:13.446Z"
   },
   {
    "duration": 5,
    "start_time": "2022-01-12T22:30:14.236Z"
   },
   {
    "duration": 1717,
    "start_time": "2022-01-12T22:30:14.243Z"
   },
   {
    "duration": 1972,
    "start_time": "2022-01-12T22:31:05.765Z"
   },
   {
    "duration": 1150,
    "start_time": "2022-01-12T22:31:07.739Z"
   },
   {
    "duration": 3,
    "start_time": "2022-01-12T22:31:08.894Z"
   },
   {
    "duration": 719,
    "start_time": "2022-01-12T22:31:08.898Z"
   },
   {
    "duration": 25,
    "start_time": "2022-01-12T22:31:09.618Z"
   },
   {
    "duration": 128,
    "start_time": "2022-01-12T22:31:09.646Z"
   },
   {
    "duration": 97,
    "start_time": "2022-01-12T22:31:09.776Z"
   },
   {
    "duration": 121,
    "start_time": "2022-01-12T22:31:09.875Z"
   },
   {
    "duration": 426,
    "start_time": "2022-01-12T22:31:09.997Z"
   },
   {
    "duration": 4,
    "start_time": "2022-01-12T22:31:10.425Z"
   },
   {
    "duration": 1722,
    "start_time": "2022-01-12T22:31:10.431Z"
   },
   {
    "duration": 12,
    "start_time": "2022-01-12T22:31:12.155Z"
   },
   {
    "duration": 196,
    "start_time": "2022-01-12T22:31:12.168Z"
   },
   {
    "duration": 127,
    "start_time": "2022-01-12T22:31:12.366Z"
   },
   {
    "duration": 118,
    "start_time": "2022-01-12T22:31:12.494Z"
   },
   {
    "duration": 2,
    "start_time": "2022-01-12T22:31:12.614Z"
   },
   {
    "duration": 55731,
    "start_time": "2022-01-12T22:31:12.618Z"
   },
   {
    "duration": 60,
    "start_time": "2022-01-12T22:32:08.351Z"
   },
   {
    "duration": 282,
    "start_time": "2022-01-12T22:32:08.412Z"
   },
   {
    "duration": 20,
    "start_time": "2022-01-12T22:32:08.695Z"
   },
   {
    "duration": 293,
    "start_time": "2022-01-12T22:32:08.719Z"
   },
   {
    "duration": 28,
    "start_time": "2022-01-12T22:32:09.014Z"
   },
   {
    "duration": 6,
    "start_time": "2022-01-12T22:32:09.044Z"
   },
   {
    "duration": 20154,
    "start_time": "2022-01-12T22:32:09.051Z"
   },
   {
    "duration": 392,
    "start_time": "2022-01-12T22:32:29.206Z"
   },
   {
    "duration": 21,
    "start_time": "2022-01-12T22:32:29.600Z"
   },
   {
    "duration": 2241,
    "start_time": "2022-01-12T22:32:29.623Z"
   },
   {
    "duration": 3,
    "start_time": "2022-01-12T22:32:31.866Z"
   },
   {
    "duration": 13,
    "start_time": "2022-01-12T22:32:31.870Z"
   },
   {
    "duration": 118,
    "start_time": "2022-01-12T22:32:31.885Z"
   },
   {
    "duration": 42,
    "start_time": "2022-01-12T22:32:32.005Z"
   },
   {
    "duration": 34,
    "start_time": "2022-01-12T22:32:32.049Z"
   },
   {
    "duration": 93,
    "start_time": "2022-01-12T22:32:32.085Z"
   },
   {
    "duration": 37,
    "start_time": "2022-01-12T22:32:32.180Z"
   },
   {
    "duration": 2,
    "start_time": "2022-01-12T22:32:32.219Z"
   },
   {
    "duration": 50,
    "start_time": "2022-01-12T22:32:32.223Z"
   },
   {
    "duration": 10,
    "start_time": "2022-01-12T22:32:32.275Z"
   },
   {
    "duration": 3,
    "start_time": "2022-01-12T22:32:32.286Z"
   },
   {
    "duration": 17937,
    "start_time": "2022-01-12T22:32:32.291Z"
   },
   {
    "duration": 12,
    "start_time": "2022-01-12T22:32:50.229Z"
   },
   {
    "duration": 354,
    "start_time": "2022-01-12T22:32:50.242Z"
   },
   {
    "duration": 117,
    "start_time": "2022-01-12T22:32:50.598Z"
   },
   {
    "duration": 3,
    "start_time": "2022-01-12T22:32:50.716Z"
   },
   {
    "duration": 8,
    "start_time": "2022-01-12T22:32:50.720Z"
   },
   {
    "duration": 12,
    "start_time": "2022-01-12T22:32:50.729Z"
   },
   {
    "duration": 6,
    "start_time": "2022-01-12T22:32:50.742Z"
   },
   {
    "duration": 4,
    "start_time": "2022-01-12T22:32:50.750Z"
   },
   {
    "duration": 665,
    "start_time": "2022-01-12T22:32:50.756Z"
   },
   {
    "duration": 42,
    "start_time": "2022-01-12T22:32:51.423Z"
   },
   {
    "duration": 9,
    "start_time": "2022-01-12T22:32:51.467Z"
   },
   {
    "duration": 1537,
    "start_time": "2022-01-12T22:32:51.477Z"
   },
   {
    "duration": 2,
    "start_time": "2022-01-12T22:32:53.015Z"
   },
   {
    "duration": 27,
    "start_time": "2022-01-12T22:32:53.019Z"
   },
   {
    "duration": 42,
    "start_time": "2022-01-12T22:32:53.048Z"
   },
   {
    "duration": 2,
    "start_time": "2022-01-12T22:32:53.092Z"
   },
   {
    "duration": 352,
    "start_time": "2022-01-12T22:32:53.096Z"
   },
   {
    "duration": 9,
    "start_time": "2022-01-12T22:32:53.450Z"
   },
   {
    "duration": 12748,
    "start_time": "2022-01-12T22:32:53.461Z"
   },
   {
    "duration": 8,
    "start_time": "2022-01-12T22:33:06.211Z"
   },
   {
    "duration": 28,
    "start_time": "2022-01-12T22:33:06.221Z"
   },
   {
    "duration": 12,
    "start_time": "2022-01-12T22:33:06.250Z"
   },
   {
    "duration": 3179,
    "start_time": "2022-01-12T22:33:06.264Z"
   },
   {
    "duration": 660,
    "start_time": "2022-01-12T22:33:09.445Z"
   },
   {
    "duration": 3,
    "start_time": "2022-01-12T22:33:10.107Z"
   },
   {
    "duration": 1650,
    "start_time": "2022-01-12T22:33:10.112Z"
   },
   {
    "duration": 105675,
    "start_time": "2022-01-12T22:33:11.767Z"
   },
   {
    "duration": 98575,
    "start_time": "2022-01-12T22:34:57.444Z"
   },
   {
    "duration": 101225,
    "start_time": "2022-01-12T22:36:36.021Z"
   },
   {
    "duration": 3,
    "start_time": "2022-01-12T22:38:17.248Z"
   },
   {
    "duration": 9025,
    "start_time": "2022-01-12T22:38:17.253Z"
   },
   {
    "duration": 4756,
    "start_time": "2022-01-12T22:38:26.280Z"
   },
   {
    "duration": 41773,
    "start_time": "2022-01-12T22:38:31.041Z"
   },
   {
    "duration": 80045,
    "start_time": "2022-01-12T22:39:12.816Z"
   },
   {
    "duration": 3,
    "start_time": "2022-01-12T22:40:32.942Z"
   },
   {
    "duration": 6,
    "start_time": "2022-01-12T22:40:32.946Z"
   },
   {
    "duration": 15700,
    "start_time": "2022-01-12T22:40:32.953Z"
   },
   {
    "duration": 206,
    "start_time": "2022-01-12T22:40:48.656Z"
   },
   {
    "duration": 2510,
    "start_time": "2022-01-12T22:40:48.864Z"
   },
   {
    "duration": 34,
    "start_time": "2022-01-12T22:40:51.376Z"
   },
   {
    "duration": 2511,
    "start_time": "2022-01-12T22:40:51.412Z"
   },
   {
    "duration": 313,
    "start_time": "2022-01-12T22:40:53.925Z"
   },
   {
    "duration": 5414,
    "start_time": "2022-01-12T22:40:54.241Z"
   },
   {
    "duration": 785,
    "start_time": "2022-01-12T22:40:59.657Z"
   },
   {
    "duration": 75,
    "start_time": "2022-01-12T22:41:00.444Z"
   },
   {
    "duration": 303,
    "start_time": "2022-01-12T22:41:00.520Z"
   }
  ],
  "kernelspec": {
   "display_name": "Python 3 (ipykernel)",
   "language": "python",
   "name": "python3"
  },
  "language_info": {
   "codemirror_mode": {
    "name": "ipython",
    "version": 3
   },
   "file_extension": ".py",
   "mimetype": "text/x-python",
   "name": "python",
   "nbconvert_exporter": "python",
   "pygments_lexer": "ipython3",
   "version": "3.9.7"
  },
  "toc": {
   "base_numbering": 1,
   "nav_menu": {},
   "number_sections": true,
   "sideBar": true,
   "skip_h1_title": true,
   "title_cell": "Содержание:",
   "title_sidebar": "Содержание:",
   "toc_cell": true,
   "toc_position": {
    "height": "calc(100% - 180px)",
    "left": "10px",
    "top": "150px",
    "width": "469.594px"
   },
   "toc_section_display": true,
   "toc_window_display": true
  }
 },
 "nbformat": 4,
 "nbformat_minor": 2
}
